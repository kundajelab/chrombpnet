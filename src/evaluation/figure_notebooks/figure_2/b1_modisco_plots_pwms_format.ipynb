{
 "cells": [
  {
   "cell_type": "code",
   "execution_count": 1,
   "metadata": {},
   "outputs": [],
   "source": [
    "import numpy as np\n",
    "import pandas as pd\n",
    "import h5py\n",
    "import pysam\n",
    "import os\n",
    "from modisco.visualization import viz_sequence\n",
    "from modisco import util\n",
    "from matplotlib import pyplot as plt\n",
    "import pybedtools\n",
    "\n",
    "pd.options.display.max_rows = 500\n",
    "pd.options.display.max_columns = 500"
   ]
  },
  {
   "cell_type": "code",
   "execution_count": 14,
   "metadata": {},
   "outputs": [],
   "source": [
    "dttype = 'atac'\n",
    "mode = 'profile'\n",
    "modisco_path_atac = '/oak/stanford/groups/akundaje/projects/chrombpnet_paper_new/ATAC_PE/GM12878/GM12878_03.01.2022_bias_128_4_1234_0.4_fold_0/BIAS/modisco/modisco_results_allChroms_'+mode+'.hdf5'\n",
    "tomtom_path_atac = '/oak/stanford/groups/akundaje/projects/chrombpnet_paper_new/ATAC_PE/GM12878/GM12878_03.01.2022_bias_128_4_1234_0.4_fold_0/BIAS/modisco/profile.tomtom.tsv'\n",
    "ppm_dir = 'subfigs/bias_motifs_new'\n",
    "modisco_path_dnase = '/oak/stanford/groups/akundaje/projects/chrombpnet_paper_new/DNASE_PE/HEPG2/HEPG2_06.08.2022_bias_128_4_1234_0.8_fold_0/BIAS/modisco_crop_500/modisco_results_allChroms_'+mode+'.hdf5'\n",
    "tomtom_path_dnase = '/oak/stanford/groups/akundaje/projects/chrombpnet_paper_new/DNASE_PE/HEPG2/HEPG2_06.08.2022_bias_128_4_1234_0.8_fold_0/BIAS/modisco_crop_500/profile.tomtom.tsv'\n",
    "\n",
    "\n",
    "background=[0.25, 0.25, 0.25, 0.25]"
   ]
  },
  {
   "cell_type": "code",
   "execution_count": 24,
   "metadata": {},
   "outputs": [],
   "source": [
    "def trim_motif_new(cwm, motif, trim_threshold=0.25):\n",
    "    \"\"\"\n",
    "    Given the PFM and motif (both L x 4 arrays) (the motif could be the\n",
    "    PFM itself), trims `motif` by cutting off flanks of low information\n",
    "    content in `pfm`. `min_ic` is the minimum required information\n",
    "    content. If specified this trimmed motif will be extended on either\n",
    "    side by `pad` bases.\n",
    "    If no base passes the `min_ic` threshold, then no trimming is done.\n",
    "    \"\"\"\n",
    "    \n",
    "    score = np.sum(np.abs(cwm), axis=1)\n",
    "    trim_thresh = np.max(score) * trim_threshold  # Cut off anything less than 30% of max score\n",
    "    pass_inds = np.where(score >= trim_thresh)[0]\n",
    "    trimmed = motif[np.min(pass_inds): np.max(pass_inds) + 1]\n",
    " \n",
    "    if not trimmed.size:\n",
    "        return motif\n",
    "    \n",
    "    return trimmed\n",
    "\n",
    "def import_tfmodisco_motifs(tfm_results_path, trim=True, only_pos=True):\n",
    "    \"\"\"\n",
    "    Imports the PFMs to into a dictionary, mapping `(x, y)` to the PFM,\n",
    "    where `x` is the metacluster index and `y` is the pattern index.\n",
    "    Arguments:\n",
    "        `tfm_results_path`: path to HDF5 containing TF-MoDISco results\n",
    "        `out_dir`: where to save motifs\n",
    "        `trim`: if True, trim the motif flanks based on information content\n",
    "        `only_pos`: if True, only return motifs with positive contributions\n",
    "    Returns the dictionary of PFMs.\n",
    "    \"\"\" \n",
    "    pfms = {}\n",
    "    with h5py.File(tfm_results_path, \"r\") as f:\n",
    "        metaclusters = f[\"metacluster_idx_to_submetacluster_results\"]\n",
    "        num_metaclusters = len(metaclusters.keys())\n",
    "        for metacluster_i, metacluster_key in enumerate(metaclusters.keys()):\n",
    "            metacluster = metaclusters[metacluster_key]\n",
    "            if \"patterns\" not in metacluster[\"seqlets_to_patterns_result\"]:\n",
    "                continue\n",
    "            patterns = metacluster[\"seqlets_to_patterns_result\"][\"patterns\"]\n",
    "            num_patterns = len(patterns[\"all_pattern_names\"][:])\n",
    "            for pattern_i, pattern_name in enumerate(patterns[\"all_pattern_names\"][:]):\n",
    "                pattern_name = pattern_name.decode()\n",
    "                pattern = patterns[pattern_name]\n",
    "                pfm = pattern[\"sequence\"][\"fwd\"][:]\n",
    "                cwm = pattern[\"task0_contrib_scores\"][\"fwd\"][:]\n",
    "                \n",
    "                # Check that the contribution scores are overall positive\n",
    "                if only_pos and np.sum(cwm) < 0:\n",
    "                    continue\n",
    "                    \n",
    "                #if trim:\n",
    "                #    pfm = trim_motif_new(cwm, cwm)\n",
    "                    \n",
    "                pfms[\"%d_%d\" % (metacluster_i,pattern_i)] = cwm\n",
    "    return pfms"
   ]
  },
  {
   "cell_type": "code",
   "execution_count": 25,
   "metadata": {},
   "outputs": [
    {
     "name": "stderr",
     "output_type": "stream",
     "text": [
      "/users/anusri/anaconda3/lib/python3.7/site-packages/ipykernel_launcher.py:6: FutureWarning: The default value of regex will change from True to False in a future version.\n",
      "  \n"
     ]
    }
   ],
   "source": [
    "pfms = import_tfmodisco_motifs(modisco_path_atac)\n",
    "\n",
    "atac_data = pd.read_csv(tomtom_path_atac,sep=\"\\t\")\n",
    "sum(atac_data[\"Num_Seqlets\"])\n",
    "atac_data[\"Num_Seqlets\"] = atac_data[\"Num_Seqlets\"]/sum(atac_data[\"Num_Seqlets\"])\n",
    "atac_data[\"Pattern\"] = atac_data[\"Pattern\"].str.replace(\"metacluster_\",\"\").str.replace(\".pattern_\",\"_\")"
   ]
  },
  {
   "cell_type": "code",
   "execution_count": 26,
   "metadata": {},
   "outputs": [],
   "source": [
    "atac_counts = []\n",
    "for key in pfms:\n",
    "    if int(key.split(\"_\")[1])<8:\n",
    "        f = open(os.path.join(ppm_dir,mode+\"_\"+key+\"_tn5.pfm\"),\"w\")\n",
    "        atac_counts.append([key,atac_data[atac_data[\"Pattern\"]==key][\"Num_Seqlets\"].values[0]])\n",
    "        #print(pfms[key])\n",
    "        np.savetxt(f, pfms[key], fmt='%f')\n",
    "        f.close()\n",
    "    "
   ]
  },
  {
   "cell_type": "code",
   "execution_count": 27,
   "metadata": {},
   "outputs": [],
   "source": [
    "atac_df = pd.DataFrame(atac_counts, columns=[\"key\", \"coc_frac\"])\n"
   ]
  },
  {
   "cell_type": "code",
   "execution_count": 28,
   "metadata": {},
   "outputs": [],
   "source": [
    "atac_df.to_csv(os.path.join(ppm_dir,mode+\"_tn5.counts.csv\"), sep=\",\", header=True, index=False)"
   ]
  },
  {
   "cell_type": "code",
   "execution_count": 29,
   "metadata": {},
   "outputs": [
    {
     "name": "stderr",
     "output_type": "stream",
     "text": [
      "/users/anusri/anaconda3/lib/python3.7/site-packages/ipykernel_launcher.py:7: FutureWarning: The default value of regex will change from True to False in a future version.\n",
      "  import sys\n"
     ]
    }
   ],
   "source": [
    "pfms = import_tfmodisco_motifs(modisco_path_dnase)\n",
    "\n",
    "\n",
    "dnase_data = pd.read_csv(tomtom_path_dnase,sep=\"\\t\")\n",
    "sum(dnase_data[\"Num_Seqlets\"])\n",
    "dnase_data[\"Num_Seqlets\"] = dnase_data[\"Num_Seqlets\"]/sum(dnase_data[\"Num_Seqlets\"])\n",
    "dnase_data[\"Pattern\"] = dnase_data[\"Pattern\"].str.replace(\"metacluster_\",\"\").str.replace(\".pattern_\",\"_\")"
   ]
  },
  {
   "cell_type": "code",
   "execution_count": 30,
   "metadata": {},
   "outputs": [
    {
     "name": "stdout",
     "output_type": "stream",
     "text": [
      "0_0\n",
      "0_1\n",
      "0_2\n",
      "0_3\n",
      "0_4\n",
      "0_5\n",
      "0_6\n",
      "0_7\n",
      "0_8\n",
      "0_9\n",
      "0_10\n",
      "0_11\n",
      "0_12\n",
      "0_13\n",
      "0_14\n",
      "0_15\n",
      "0_16\n",
      "0_17\n",
      "0_18\n",
      "0_19\n",
      "0_20\n",
      "0_21\n",
      "0_22\n",
      "0_23\n",
      "0_24\n",
      "0_25\n"
     ]
    }
   ],
   "source": [
    "dnase_counts = []\n",
    "\n",
    "for key in pfms:\n",
    "    print(key)\n",
    "    if key in [\"0_0\", \"0_1\", \"0_2\", \"0_7\" ,\"0_12\", \"0_17\"]:\n",
    "        f = open(os.path.join(ppm_dir,mode+\"_\"+key+\"_dnase1.pfm\"),\"w\")\n",
    "        dnase_counts.append([key,dnase_data[dnase_data[\"Pattern\"]==key][\"Num_Seqlets\"].values[0]])\n",
    "        #print(pfms[key])\n",
    "        np.savetxt(f, pfms[key], fmt='%f')\n",
    "        f.close()\n",
    "    \n"
   ]
  },
  {
   "cell_type": "code",
   "execution_count": 31,
   "metadata": {},
   "outputs": [],
   "source": [
    "dnase_df = pd.DataFrame(dnase_counts, columns=[\"key\", \"coc_frac\"])\n"
   ]
  },
  {
   "cell_type": "code",
   "execution_count": 32,
   "metadata": {},
   "outputs": [],
   "source": [
    "dnase_df.to_csv(os.path.join(ppm_dir,mode+\"_dnase.counts.csv\"), sep=\",\", header=True, index=False)"
   ]
  },
  {
   "cell_type": "code",
   "execution_count": null,
   "metadata": {},
   "outputs": [],
   "source": []
  },
  {
   "cell_type": "code",
   "execution_count": null,
   "metadata": {},
   "outputs": [],
   "source": []
  },
  {
   "cell_type": "code",
   "execution_count": null,
   "metadata": {},
   "outputs": [],
   "source": []
  },
  {
   "cell_type": "code",
   "execution_count": null,
   "metadata": {},
   "outputs": [],
   "source": []
  }
 ],
 "metadata": {
  "kernelspec": {
   "display_name": "Python 3",
   "language": "python",
   "name": "python3"
  },
  "language_info": {
   "codemirror_mode": {
    "name": "ipython",
    "version": 3
   },
   "file_extension": ".py",
   "mimetype": "text/x-python",
   "name": "python",
   "nbconvert_exporter": "python",
   "pygments_lexer": "ipython3",
   "version": "3.7.6"
  }
 },
 "nbformat": 4,
 "nbformat_minor": 4
}
