{
 "cells": [
  {
   "cell_type": "code",
   "execution_count": 2,
   "metadata": {},
   "outputs": [],
   "source": [
    "import os\n",
    "import pyfaidx\n",
    "import pyBigWig\n",
    "import h5py\n",
    "import numpy as np\n",
    "import one_hot\n",
    "import scipy.stats\n",
    "from scipy import signal"
   ]
  },
  {
   "cell_type": "code",
   "execution_count": 3,
   "metadata": {},
   "outputs": [],
   "source": [
    "def trim_motif_new(cwm, motif, trim_threshold=0.3):\n",
    "    \"\"\"\n",
    "    Given the PFM and motif (both L x 4 arrays) (the motif could be the\n",
    "    PFM itself), trims `motif` by cutting off flanks of low information\n",
    "    content in `pfm`. `min_ic` is the minimum required information\n",
    "    content. If specified this trimmed motif will be extended on either\n",
    "    side by `pad` bases.\n",
    "    If no base passes the `min_ic` threshold, then no trimming is done.\n",
    "    \"\"\"\n",
    "    \n",
    "    score = np.sum(np.abs(cwm), axis=1)\n",
    "    trim_thresh = np.max(score) * trim_threshold  # Cut off anything less than 30% of max score\n",
    "    pass_inds = np.where(score >= trim_thresh)[0]\n",
    "    trimmed = motif[np.min(pass_inds): np.max(pass_inds) + 1]\n",
    " \n",
    "    if not trimmed.size:\n",
    "        return motif\n",
    "    \n",
    "    return trimmed"
   ]
  },
  {
   "cell_type": "code",
   "execution_count": 4,
   "metadata": {},
   "outputs": [],
   "source": [
    "def import_tfmodisco_motifs(tfm_results_path, trim=True, only_pos=True):\n",
    "    \"\"\"\n",
    "    Imports the PFMs to into a dictionary, mapping `(x, y)` to the PFM,\n",
    "    where `x` is the metacluster index and `y` is the pattern index.\n",
    "    Arguments:\n",
    "        `tfm_results_path`: path to HDF5 containing TF-MoDISco results\n",
    "        `out_dir`: where to save motifs\n",
    "        `trim`: if True, trim the motif flanks based on information content\n",
    "        `only_pos`: if True, only return motifs with positive contributions\n",
    "    Returns the dictionary of PFMs.\n",
    "    \"\"\" \n",
    "    pfms = {}\n",
    "    with h5py.File(tfm_results_path, \"r\") as f:\n",
    "        metaclusters = f[\"metacluster_idx_to_submetacluster_results\"]\n",
    "        num_metaclusters = len(metaclusters.keys())\n",
    "        for metacluster_i, metacluster_key in enumerate(metaclusters.keys()):\n",
    "            metacluster = metaclusters[metacluster_key]\n",
    "            if \"patterns\" not in metacluster[\"seqlets_to_patterns_result\"]:\n",
    "                continue\n",
    "            patterns = metacluster[\"seqlets_to_patterns_result\"][\"patterns\"]\n",
    "            num_patterns = len(patterns[\"all_pattern_names\"][:])\n",
    "            for pattern_i, pattern_name in enumerate(patterns[\"all_pattern_names\"][:]):\n",
    "                pattern_name = pattern_name.decode()\n",
    "                pattern = patterns[pattern_name]\n",
    "                pfm = pattern[\"sequence\"][\"fwd\"][:]\n",
    "                cwm = pattern[\"task0_contrib_scores\"][\"fwd\"][:]\n",
    "                \n",
    "                # Check that the contribution scores are overall positive\n",
    "                if only_pos and np.sum(cwm) < 0:\n",
    "                    continue\n",
    "                    \n",
    "                if trim:\n",
    "                    pfm = trim_motif_new(cwm, pfm)\n",
    "                    \n",
    "                pfms[\"%d_%d\" % (metacluster_i,pattern_i)] = pfm\n",
    "    return pfms\n",
    "\n"
   ]
  },
  {
   "cell_type": "code",
   "execution_count": 5,
   "metadata": {},
   "outputs": [],
   "source": [
    "tfm_path=\"/oak/stanford/groups/akundaje/projects/chrombpnet_paper_new/modisco_jun_30/modisco/ATAC/K562/modisco_crop_500_100K_seqs_1/modisco_results_allChroms_profile.hdf5\"\n",
    "pfms = import_tfmodisco_motifs(tfm_path)"
   ]
  },
  {
   "cell_type": "code",
   "execution_count": 12,
   "metadata": {},
   "outputs": [],
   "source": [
    "          \n",
    "#tfm_path=\"/oak/stanford/groups/akundaje/projects/chrombpnet_paper_new/ATAC_PE/K562/K562_07.07.2022_bias_128_4_2356_0.5_fold_1_data_type_ATAC_PE/BIAS/K562.profile_scores.h5\"\n",
    "\n",
    "#tn5_pfms = import_tfmodisco_motifs(tfm_path)\n",
    "    \n",
    "    \n",
    "  "
   ]
  },
  {
   "cell_type": "code",
   "execution_count": 13,
   "metadata": {},
   "outputs": [],
   "source": [
    "tn5_motif = one_hot.dna_to_one_hot([\"GCACAGTACAGAGCTG\"])\n",
    "dnase_motif = one_hot.dna_to_one_hot([\"TTTACAAGTCCA\"])\n"
   ]
  },
  {
   "cell_type": "code",
   "execution_count": 29,
   "metadata": {},
   "outputs": [],
   "source": [
    "import scipy.signal\n",
    "values= []\n",
    "for key in pfms:\n",
    "    similarity_tn5 = np.max(scipy.signal.convolve2d(pfms[key],tn5_motif[0]))\n",
    "    similarity_dnase = np.max(scipy.signal.convolve2d(pfms[key],dnase_motif[0]))\n",
    "    values.append([key,similarity_tn5/pfms[key].shape[0],similarity_dnase/pfms[key].shape[0]])"
   ]
  },
  {
   "cell_type": "code",
   "execution_count": 30,
   "metadata": {},
   "outputs": [],
   "source": [
    "import pandas as pd\n",
    "df = pd.DataFrame(values, columns = [\"key\",'Tn5-sim', 'DNASE-sim'])\n"
   ]
  },
  {
   "cell_type": "code",
   "execution_count": 31,
   "metadata": {},
   "outputs": [],
   "source": [
    "#import matplotlib.pyplot as plt\n",
    "#plt.scatter(df['Tn5-sim'],df['DNASE-sim'],)"
   ]
  },
  {
   "cell_type": "code",
   "execution_count": 32,
   "metadata": {},
   "outputs": [],
   "source": [
    "df.to_csv(\"k562_profile_cwm_enzyme_sim.csv\",sep=\",\",header=True,index=False)"
   ]
  },
  {
   "cell_type": "code",
   "execution_count": null,
   "metadata": {},
   "outputs": [],
   "source": []
  }
 ],
 "metadata": {
  "kernelspec": {
   "display_name": "Python 3",
   "language": "python",
   "name": "python3"
  },
  "language_info": {
   "codemirror_mode": {
    "name": "ipython",
    "version": 3
   },
   "file_extension": ".py",
   "mimetype": "text/x-python",
   "name": "python",
   "nbconvert_exporter": "python",
   "pygments_lexer": "ipython3",
   "version": "3.7.6"
  }
 },
 "nbformat": 4,
 "nbformat_minor": 4
}
