{
 "cells": [
  {
   "cell_type": "code",
   "execution_count": 15,
   "metadata": {},
   "outputs": [],
   "source": [
    "import pandas as pd"
   ]
  },
  {
   "cell_type": "code",
   "execution_count": 19,
   "metadata": {},
   "outputs": [],
   "source": [
    "gt = pd.read_csv(\"/mnt/lab_data2/anusri/variant-scorer/src/output/caqtls_lcls_2016/RASQUAL/rasqual_atac_1M.gz\", sep='\\t', header=None)\n"
   ]
  },
  {
   "cell_type": "code",
   "execution_count": 20,
   "metadata": {},
   "outputs": [
    {
     "data": {
      "text/html": [
       "<div>\n",
       "<style scoped>\n",
       "    .dataframe tbody tr th:only-of-type {\n",
       "        vertical-align: middle;\n",
       "    }\n",
       "\n",
       "    .dataframe tbody tr th {\n",
       "        vertical-align: top;\n",
       "    }\n",
       "\n",
       "    .dataframe thead th {\n",
       "        text-align: right;\n",
       "    }\n",
       "</style>\n",
       "<table border=\"1\" class=\"dataframe\">\n",
       "  <thead>\n",
       "    <tr style=\"text-align: right;\">\n",
       "      <th></th>\n",
       "      <th>0</th>\n",
       "      <th>1</th>\n",
       "      <th>2</th>\n",
       "      <th>3</th>\n",
       "      <th>4</th>\n",
       "      <th>5</th>\n",
       "      <th>6</th>\n",
       "      <th>7</th>\n",
       "      <th>8</th>\n",
       "      <th>9</th>\n",
       "      <th>...</th>\n",
       "      <th>15</th>\n",
       "      <th>16</th>\n",
       "      <th>17</th>\n",
       "      <th>18</th>\n",
       "      <th>19</th>\n",
       "      <th>20</th>\n",
       "      <th>21</th>\n",
       "      <th>22</th>\n",
       "      <th>23</th>\n",
       "      <th>24</th>\n",
       "    </tr>\n",
       "  </thead>\n",
       "  <tbody>\n",
       "    <tr>\n",
       "      <th>0</th>\n",
       "      <td>Peak1</td>\n",
       "      <td>rs10454458</td>\n",
       "      <td>1</td>\n",
       "      <td>737085</td>\n",
       "      <td>C</td>\n",
       "      <td>T</td>\n",
       "      <td>0.083333</td>\n",
       "      <td>0.198347</td>\n",
       "      <td>0.476176</td>\n",
       "      <td>0.8868</td>\n",
       "      <td>...</td>\n",
       "      <td>3.606369</td>\n",
       "      <td>0</td>\n",
       "      <td>624</td>\n",
       "      <td>7</td>\n",
       "      <td>11</td>\n",
       "      <td>737085</td>\n",
       "      <td>0.0</td>\n",
       "      <td>0</td>\n",
       "      <td>NaN</td>\n",
       "      <td>0.669344</td>\n",
       "    </tr>\n",
       "  </tbody>\n",
       "</table>\n",
       "<p>1 rows × 25 columns</p>\n",
       "</div>"
      ],
      "text/plain": [
       "      0           1   2       3  4  5         6         7         8       9   \\\n",
       "0  Peak1  rs10454458   1  737085  C  T  0.083333  0.198347  0.476176  0.8868   \n",
       "\n",
       "   ...        15  16   17  18  19      20   21  22  23        24  \n",
       "0  ...  3.606369   0  624   7  11  737085  0.0   0 NaN  0.669344  \n",
       "\n",
       "[1 rows x 25 columns]"
      ]
     },
     "execution_count": 20,
     "metadata": {},
     "output_type": "execute_result"
    }
   ],
   "source": [
    "gt.head(1)"
   ]
  },
  {
   "cell_type": "code",
   "execution_count": null,
   "metadata": {},
   "outputs": [],
   "source": []
  },
  {
   "cell_type": "code",
   "execution_count": 2,
   "metadata": {},
   "outputs": [],
   "source": [
    "qvals = pd.read_csv(\"/mnt/lab_data2/anusri/variant-scorer/src/output/caqtls_lcl/Q.val.txt\", sep=\"\\t\", header=None, names=[\"peakid\", \"qval\"])"
   ]
  },
  {
   "cell_type": "code",
   "execution_count": 3,
   "metadata": {},
   "outputs": [],
   "source": [
    "sig_peaks = open(\"/mnt/lab_data2/anusri/variant-scorer/src/output/caqtls_lcl/pid.fdr10.txt\").readlines()\n",
    "sig_peaks_ids = [line.strip() for line in sig_peaks]\n",
    "sig_peaks_ids = qvals[qvals[\"qval\"]<0.1][\"peakid\"].values"
   ]
  },
  {
   "cell_type": "code",
   "execution_count": 4,
   "metadata": {},
   "outputs": [],
   "source": [
    "data_atac = pd.read_csv(\"/mnt/lab_data2/anusri/variant-scorer/src/output/caqtls_lcl/ATAC/summary.mean.variant_scores_new.tsv\", sep=\"\\t\", header=0)\n",
    "data_atac[['Chrx', 'Posx', 'REF', 'ALT', 'Peak_id', 'obs_scores']] = data_atac['rsid'].str.split(\"_\", expand=True)\n",
    "data_atac[\"obs_scores\"] = data_atac[\"obs_scores\"].astype(float)"
   ]
  },
  {
   "cell_type": "code",
   "execution_count": 5,
   "metadata": {},
   "outputs": [],
   "source": [
    "data_dnase = pd.read_csv(\"/mnt/lab_data2/anusri/variant-scorer/src/output/caqtls_lcl/DNASE/summary.mean.variant_scores_new.tsv\", sep=\"\\t\", header=0)\n",
    "data_dnase[['Chrx', 'Posx', 'REF', 'ALT', 'Peak_id', 'obs_scores']] = data_dnase['rsid'].str.split(\"_\", expand=True)\n",
    "data_dnase[\"obs_scores\"] = data_dnase[\"obs_scores\"].astype(float)"
   ]
  },
  {
   "cell_type": "code",
   "execution_count": 6,
   "metadata": {},
   "outputs": [],
   "source": [
    "peaks_data = pd.read_csv(\"/mnt/lab_data2/anusri/variant-scorer/src/output/caqtls_lcls_2016/RASQUAL/peaks.bed.gz\", sep='\\t', header=None)"
   ]
  },
  {
   "cell_type": "code",
   "execution_count": 7,
   "metadata": {},
   "outputs": [
    {
     "data": {
      "text/html": [
       "<div>\n",
       "<style scoped>\n",
       "    .dataframe tbody tr th:only-of-type {\n",
       "        vertical-align: middle;\n",
       "    }\n",
       "\n",
       "    .dataframe tbody tr th {\n",
       "        vertical-align: top;\n",
       "    }\n",
       "\n",
       "    .dataframe thead th {\n",
       "        text-align: right;\n",
       "    }\n",
       "</style>\n",
       "<table border=\"1\" class=\"dataframe\">\n",
       "  <thead>\n",
       "    <tr style=\"text-align: right;\">\n",
       "      <th></th>\n",
       "      <th>0</th>\n",
       "      <th>1</th>\n",
       "      <th>2</th>\n",
       "      <th>3</th>\n",
       "      <th>4</th>\n",
       "      <th>5</th>\n",
       "      <th>6</th>\n",
       "      <th>7</th>\n",
       "    </tr>\n",
       "  </thead>\n",
       "  <tbody>\n",
       "    <tr>\n",
       "      <th>0</th>\n",
       "      <td>1</td>\n",
       "      <td>9913</td>\n",
       "      <td>10650</td>\n",
       "      <td>Peak1</td>\n",
       "      <td>9913,</td>\n",
       "      <td>10650,</td>\n",
       "      <td>738</td>\n",
       "      <td>49.864499</td>\n",
       "    </tr>\n",
       "  </tbody>\n",
       "</table>\n",
       "</div>"
      ],
      "text/plain": [
       "   0     1      2      3      4       5    6          7\n",
       "0  1  9913  10650  Peak1  9913,  10650,  738  49.864499"
      ]
     },
     "execution_count": 7,
     "metadata": {},
     "output_type": "execute_result"
    }
   ],
   "source": [
    "peaks_data.head(1)"
   ]
  },
  {
   "cell_type": "code",
   "execution_count": 8,
   "metadata": {},
   "outputs": [],
   "source": [
    "data_atac=data_atac.merge(peaks_data, right_on=[3], left_on=[\"Peak_id\"], how=\"left\" )\n",
    "data_dnase=data_dnase.merge(peaks_data, right_on=[3], left_on=[\"Peak_id\"], how=\"left\" )"
   ]
  },
  {
   "cell_type": "code",
   "execution_count": 25,
   "metadata": {},
   "outputs": [
    {
     "name": "stdout",
     "output_type": "stream",
     "text": [
      "117\n",
      "41\n"
     ]
    }
   ],
   "source": [
    "data_dnase[\"center\"] = (data_dnase[1]+data_dnase[6])\n",
    "data_atac[\"center\"] = (data_dnase[1]+data_dnase[6])\n",
    "data_dnase[\"dist\"] = abs(data_dnase[\"pos\"]-data_dnase[\"center\"])\n",
    "data_atac[\"dist\"] = abs(data_atac[\"pos\"]-data_atac[\"center\"])\n",
    "print(sum(data_dnase[\"dist\"]<100))\n",
    "print(sum(data_dnase[data_dnase[\"dist\"]<100][\"Peak_id\"].isin(sig_peaks_ids)))"
   ]
  },
  {
   "cell_type": "code",
   "execution_count": 26,
   "metadata": {},
   "outputs": [],
   "source": [
    "data_atac=data_atac.merge(qvals, right_on=[\"peakid\"], left_on=[\"Peak_id\"], how=\"left\" )\n",
    "data_dnase=data_dnase.merge(qvals, right_on=[\"peakid\"], left_on=[\"Peak_id\"], how=\"left\" )"
   ]
  },
  {
   "cell_type": "code",
   "execution_count": 47,
   "metadata": {
    "scrolled": true
   },
   "outputs": [],
   "source": [
    "import numpy as np\n",
    "data_dnase1 = data_dnase[data_dnase[\"dist\"]<100].reset_index()\n",
    "data_atac1 = data_atac[data_atac[\"dist\"]<100].reset_index()\n",
    "# data_dnase1[\"log10qval\"] = np.log10(data_dnase1[\"qval\"])*-1\n",
    "# data_atac1[\"log10qval\"] = np.log10(data_atac1[\"qval\"])*-1"
   ]
  },
  {
   "cell_type": "code",
   "execution_count": 48,
   "metadata": {
    "scrolled": true
   },
   "outputs": [],
   "source": [
    "data_dnase2 = data_dnase[(data_dnase[\"pos\"] >= data_dnase[1]) & (data_dnase[\"pos\"] < data_dnase[2]) ]\n",
    "data_atac2 = data_atac[(data_atac[\"pos\"] >= data_atac[1]) & (data_atac[\"pos\"] < data_atac[2]) ]\n",
    "# data_dnase2[\"log10qval\"] = np.log10(data_dnase2[\"qval\"])*-1\n",
    "# data_atac2[\"log10qval\"] = np.log10(data_atac2[\"qval\"])*-1"
   ]
  },
  {
   "cell_type": "code",
   "execution_count": 49,
   "metadata": {},
   "outputs": [
    {
     "name": "stdout",
     "output_type": "stream",
     "text": [
      "(1934, 38)\n",
      "841\n"
     ]
    }
   ],
   "source": [
    "print(data_dnase2.shape)\n",
    "print(sum(data_dnase2[\"Peak_id\"].isin(sig_peaks_ids)))"
   ]
  },
  {
   "cell_type": "code",
   "execution_count": 67,
   "metadata": {},
   "outputs": [
    {
     "data": {
      "text/plain": [
       "7"
      ]
     },
     "execution_count": 67,
     "metadata": {},
     "output_type": "execute_result"
    }
   ],
   "source": [
    "len(data_atac1[data_atac1[\"qval\"]==0])"
   ]
  },
  {
   "cell_type": "code",
   "execution_count": 68,
   "metadata": {},
   "outputs": [
    {
     "data": {
      "text/plain": [
       "(1934, 38)"
      ]
     },
     "execution_count": 68,
     "metadata": {},
     "output_type": "execute_result"
    }
   ],
   "source": [
    "data_dnase2.shape"
   ]
  },
  {
   "cell_type": "code",
   "execution_count": 81,
   "metadata": {},
   "outputs": [
    {
     "name": "stderr",
     "output_type": "stream",
     "text": [
      "/users/anusri/anaconda3/lib/python3.7/site-packages/ipykernel_launcher.py:10: SettingWithCopyWarning: \n",
      "A value is trying to be set on a copy of a slice from a DataFrame.\n",
      "Try using .loc[row_indexer,col_indexer] = value instead\n",
      "\n",
      "See the caveats in the documentation: https://pandas.pydata.org/pandas-docs/stable/user_guide/indexing.html#returning-a-view-versus-a-copy\n",
      "  # Remove the CWD from sys.path while we load stuff.\n",
      "/users/anusri/anaconda3/lib/python3.7/site-packages/ipykernel_launcher.py:12: SettingWithCopyWarning: \n",
      "A value is trying to be set on a copy of a slice from a DataFrame.\n",
      "Try using .loc[row_indexer,col_indexer] = value instead\n",
      "\n",
      "See the caveats in the documentation: https://pandas.pydata.org/pandas-docs/stable/user_guide/indexing.html#returning-a-view-versus-a-copy\n",
      "  if sys.path[0] == '':\n",
      "/users/anusri/anaconda3/lib/python3.7/site-packages/ipykernel_launcher.py:25: SettingWithCopyWarning: \n",
      "A value is trying to be set on a copy of a slice from a DataFrame.\n",
      "Try using .loc[row_indexer,col_indexer] = value instead\n",
      "\n",
      "See the caveats in the documentation: https://pandas.pydata.org/pandas-docs/stable/user_guide/indexing.html#returning-a-view-versus-a-copy\n",
      "/users/anusri/anaconda3/lib/python3.7/site-packages/ipykernel_launcher.py:27: SettingWithCopyWarning: \n",
      "A value is trying to be set on a copy of a slice from a DataFrame.\n",
      "Try using .loc[row_indexer,col_indexer] = value instead\n",
      "\n",
      "See the caveats in the documentation: https://pandas.pydata.org/pandas-docs/stable/user_guide/indexing.html#returning-a-view-versus-a-copy\n"
     ]
    },
    {
     "name": "stdout",
     "output_type": "stream",
     "text": [
      "146\n",
      "1125\n",
      "0.13\n",
      "321\n",
      "1300\n",
      "0.247\n",
      "377\n",
      "1356\n",
      "0.278\n",
      "479\n",
      "1458\n",
      "0.329\n",
      "508\n",
      "1487\n",
      "0.342\n",
      "549\n",
      "1528\n",
      "0.359\n",
      "581\n",
      "1560\n",
      "0.372\n",
      "612\n",
      "1591\n",
      "0.385\n",
      "637\n",
      "1616\n",
      "0.394\n",
      "667\n",
      "1646\n",
      "0.405\n",
      "681\n",
      "1660\n",
      "0.41\n",
      "701\n",
      "1680\n",
      "0.417\n",
      "726\n",
      "1705\n",
      "0.426\n",
      "750\n",
      "1729\n",
      "0.434\n",
      "762\n",
      "1741\n",
      "0.438\n",
      "769\n",
      "1748\n",
      "0.44\n",
      "786\n",
      "1765\n",
      "0.445\n",
      "796\n",
      "1775\n",
      "0.448\n",
      "812\n",
      "1791\n",
      "0.453\n",
      "829\n",
      "1808\n",
      "0.459\n",
      "841\n",
      "1820\n",
      "0.462\n",
      "146\n",
      "1125\n",
      "0.13\n",
      "321\n",
      "1300\n",
      "0.247\n",
      "377\n",
      "1356\n",
      "0.278\n",
      "479\n",
      "1458\n",
      "0.329\n",
      "508\n",
      "1487\n",
      "0.342\n",
      "549\n",
      "1528\n",
      "0.359\n",
      "581\n",
      "1560\n",
      "0.372\n",
      "612\n",
      "1591\n",
      "0.385\n",
      "637\n",
      "1616\n",
      "0.394\n",
      "667\n",
      "1646\n",
      "0.405\n",
      "681\n",
      "1660\n",
      "0.41\n",
      "701\n",
      "1680\n",
      "0.417\n",
      "726\n",
      "1705\n",
      "0.426\n",
      "750\n",
      "1729\n",
      "0.434\n",
      "762\n",
      "1741\n",
      "0.438\n",
      "769\n",
      "1748\n",
      "0.44\n",
      "786\n",
      "1765\n",
      "0.445\n",
      "796\n",
      "1775\n",
      "0.448\n",
      "812\n",
      "1791\n",
      "0.453\n",
      "829\n",
      "1808\n",
      "0.459\n",
      "841\n",
      "1820\n",
      "0.462\n"
     ]
    }
   ],
   "source": [
    "from sklearn import metrics\n",
    "from scipy.stats import pearsonr\n",
    "chrombpnet = {}\n",
    "chrombpnet[\"ChromBPNet DNase (68M)\"] = []\n",
    "chrombpnet[\"ChromBPNet ATAC (572M)\"] = []\n",
    "random_bc = []\n",
    "\n",
    "pearsonr_atac = []\n",
    "pearsonr_dnase = []\n",
    "for qth in np.arange(0,0.1+0.005,0.005):\n",
    "    #print(qth)\n",
    "    data1 = data_dnase2[data_dnase2[\"qval\"]<=qth]\n",
    "    data1[\"label\"]=1\n",
    "    \n",
    "pearsonr(data1[\"logfc.mean\"], data1)\n",
    "    data2 = data_dnase2[data_dnase2[\"qval\"]>0.15]\n",
    "    data2[\"label\"]=0\n",
    "    \n",
    "    dataf = pd.concat([data1, data2])\n",
    "    total = dataf.shape[0]\n",
    "    sigs = sum(dataf[\"label\"])\n",
    "    print(sigs)\n",
    "    print(total)\n",
    "    print(np.round(sigs/total,3))\n",
    "\n",
    "    roc_auc = metrics.average_precision_score(dataf[\"label\"], abs(dataf[\"abs_logfc_x_jsd_x_max_percentile.mean\"]))\n",
    "    chrombpnet[\"ChromBPNet DNase (68M)\"].append(roc_auc)\n",
    "for qth in np.arange(0,0.1+0.005,0.005):\n",
    "    data1 = data_atac2[data_atac2[\"qval\"]<=qth]\n",
    "    data1[\"label\"]=1\n",
    "    data2 = data_atac2[data_atac2[\"qval\"]>0.15]\n",
    "    data2[\"label\"]=0\n",
    "\n",
    "\n",
    "    dataf = pd.concat([data1, data2])\n",
    "    total = dataf.shape[0]\n",
    "    sigs = sum(dataf[\"label\"])\n",
    "    print(sigs)\n",
    "    print(total)\n",
    "    print(np.round(sigs/total,3))\n",
    "    \n",
    "    random_bc.append(np.round(sigs/total,5))\n",
    "\n",
    "    roc_auc = metrics.average_precision_score(dataf[\"label\"], abs(dataf[\"abs_logfc_x_jsd_x_max_percentile.mean\"]))\n",
    "    chrombpnet[\"ChromBPNet ATAC (572M)\"].append(roc_auc)\n"
   ]
  },
  {
   "cell_type": "code",
   "execution_count": 83,
   "metadata": {},
   "outputs": [
    {
     "data": {
      "text/plain": [
       "Text(0.5, 0, 'increasing signficance (decreasing qval)')"
      ]
     },
     "execution_count": 83,
     "metadata": {},
     "output_type": "execute_result"
    },
    {
     "data": {
      "image/png": "[encoded data removed]",
      "text/plain": [
       "<Figure size 432x288 with 1 Axes>"
      ]
     },
     "metadata": {
      "needs_background": "light"
     },
     "output_type": "display_data"
    }
   ],
   "source": [
    "import matplotlib.pyplot as plt\n",
    "\n",
    "plt.scatter(np.flip(np.arange(0,0.1+0.005,0.005)).astype(str), np.flip(chrombpnet[\"ChromBPNet ATAC (572M)\"]), label=\"ATAC (572M) ChromBPNet\")\n",
    "plt.scatter(np.flip(np.arange(0,0.1+0.005,0.005)).astype(str), np.flip(chrombpnet[\"ChromBPNet DNase (68M)\"]), label=\"DNase (68M) ChromBPNet\")\n",
    "plt.scatter(np.flip(np.arange(0,0.1+0.005,0.005)).astype(str), np.flip(random_bc), label=\"random\")\n",
    "plt.xticks(rotation=45, ha='right')\n",
    "plt.legend()\n",
    "plt.ylabel(\"AP\")\n",
    "plt.xlabel(\"increasing signficance (decreasing qval)\")"
   ]
  },
  {
   "cell_type": "code",
   "execution_count": 84,
   "metadata": {},
   "outputs": [
    {
     "data": {
      "text/plain": [
       "Index([                                       'chr',\n",
       "                                              'pos',\n",
       "                                          'allele1',\n",
       "                                          'allele2',\n",
       "                                             'rsid',\n",
       "                                       'logfc.mean',\n",
       "                                   'abs_logfc.mean',\n",
       "                              'abs_logfc.mean.pval',\n",
       "                                         'jsd.mean',\n",
       "                                    'jsd.mean.pval',\n",
       "                                 'logfc_x_jsd.mean',\n",
       "                             'abs_logfc_x_jsd.mean',\n",
       "                        'abs_logfc_x_jsd.mean.pval',\n",
       "                      'logfc_x_max_percentile.mean',\n",
       "                  'abs_logfc_x_max_percentile.mean',\n",
       "             'abs_logfc_x_max_percentile.mean.pval',\n",
       "                        'jsd_x_max_percentile.mean',\n",
       "                   'jsd_x_max_percentile.mean.pval',\n",
       "            'abs_logfc_x_jsd_x_max_percentile.mean',\n",
       "       'abs_logfc_x_jsd_x_max_percentile.mean.pval',\n",
       "                                             'Chrx',\n",
       "                                             'Posx',\n",
       "                                              'REF',\n",
       "                                              'ALT',\n",
       "                                          'Peak_id',\n",
       "                                       'obs_scores',\n",
       "                                                  0,\n",
       "                                                  1,\n",
       "                                                  2,\n",
       "                                                  3,\n",
       "                                                  4,\n",
       "                                                  5,\n",
       "                                                  6,\n",
       "                                                  7,\n",
       "                                           'center',\n",
       "                                             'dist',\n",
       "                                           'peakid',\n",
       "                                             'qval',\n",
       "                                            'label'],\n",
       "      dtype='object')"
      ]
     },
     "execution_count": 84,
     "metadata": {},
     "output_type": "execute_result"
    }
   ],
   "source": [
    "data1.columns"
   ]
  },
  {
   "cell_type": "code",
   "execution_count": null,
   "metadata": {},
   "outputs": [],
   "source": []
  },
  {
   "cell_type": "code",
   "execution_count": null,
   "metadata": {},
   "outputs": [],
   "source": []
  },
  {
   "cell_type": "code",
   "execution_count": null,
   "metadata": {},
   "outputs": [],
   "source": []
  },
  {
   "cell_type": "code",
   "execution_count": null,
   "metadata": {},
   "outputs": [],
   "source": []
  },
  {
   "cell_type": "code",
   "execution_count": null,
   "metadata": {},
   "outputs": [],
   "source": []
  },
  {
   "cell_type": "code",
   "execution_count": null,
   "metadata": {},
   "outputs": [],
   "source": []
  },
  {
   "cell_type": "code",
   "execution_count": null,
   "metadata": {},
   "outputs": [],
   "source": []
  },
  {
   "cell_type": "code",
   "execution_count": null,
   "metadata": {},
   "outputs": [],
   "source": []
  },
  {
   "cell_type": "code",
   "execution_count": 76,
   "metadata": {},
   "outputs": [],
   "source": []
  },
  {
   "cell_type": "code",
   "execution_count": null,
   "metadata": {},
   "outputs": [],
   "source": []
  },
  {
   "cell_type": "code",
   "execution_count": null,
   "metadata": {},
   "outputs": [],
   "source": []
  },
  {
   "cell_type": "code",
   "execution_count": null,
   "metadata": {},
   "outputs": [],
   "source": []
  },
  {
   "cell_type": "code",
   "execution_count": null,
   "metadata": {},
   "outputs": [],
   "source": []
  },
  {
   "cell_type": "code",
   "execution_count": null,
   "metadata": {},
   "outputs": [],
   "source": []
  },
  {
   "cell_type": "code",
   "execution_count": null,
   "metadata": {},
   "outputs": [],
   "source": []
  },
  {
   "cell_type": "code",
   "execution_count": null,
   "metadata": {},
   "outputs": [],
   "source": []
  },
  {
   "cell_type": "code",
   "execution_count": null,
   "metadata": {},
   "outputs": [],
   "source": []
  },
  {
   "cell_type": "code",
   "execution_count": null,
   "metadata": {},
   "outputs": [],
   "source": []
  },
  {
   "cell_type": "code",
   "execution_count": null,
   "metadata": {},
   "outputs": [],
   "source": []
  },
  {
   "cell_type": "code",
   "execution_count": null,
   "metadata": {},
   "outputs": [],
   "source": []
  },
  {
   "cell_type": "code",
   "execution_count": null,
   "metadata": {},
   "outputs": [],
   "source": []
  },
  {
   "cell_type": "code",
   "execution_count": null,
   "metadata": {},
   "outputs": [],
   "source": []
  },
  {
   "cell_type": "code",
   "execution_count": null,
   "metadata": {},
   "outputs": [],
   "source": []
  },
  {
   "cell_type": "code",
   "execution_count": null,
   "metadata": {},
   "outputs": [],
   "source": []
  },
  {
   "cell_type": "code",
   "execution_count": null,
   "metadata": {},
   "outputs": [],
   "source": []
  },
  {
   "cell_type": "code",
   "execution_count": null,
   "metadata": {},
   "outputs": [],
   "source": []
  },
  {
   "cell_type": "code",
   "execution_count": null,
   "metadata": {},
   "outputs": [],
   "source": []
  },
  {
   "cell_type": "code",
   "execution_count": 70,
   "metadata": {},
   "outputs": [],
   "source": [
    "import numpy as np\n",
    "data_atac_sig[\"jsd_sign.mean\"] = data_atac_sig[\"jsd.mean\"]*np.sign(data_atac_sig[\"logfc.mean\"])\n",
    "data_dnase_sig[\"jsd_sign.mean\"] = data_dnase_sig[\"jsd.mean\"]*np.sign(data_dnase_sig[\"logfc.mean\"])\n"
   ]
  },
  {
   "cell_type": "code",
   "execution_count": 75,
   "metadata": {},
   "outputs": [
    {
     "name": "stdout",
     "output_type": "stream",
     "text": [
      "(0.6744185283131905, 1.2080274872385788e-112)\n"
     ]
    },
    {
     "data": {
      "image/png": "[encoded data removed]",
      "text/plain": [
       "<Figure size 432x288 with 1 Axes>"
      ]
     },
     "metadata": {
      "needs_background": "light"
     },
     "output_type": "display_data"
    }
   ],
   "source": [
    "plt.scatter(data_dnase_sig[\"logfc.mean\"], data_dnase_sig[\"obs_scores\"], alpha=0.5)\n",
    "print(scipy.stats.pearsonr(data_dnase_sig['obs_scores'],data_dnase_sig['logfc.mean']))"
   ]
  },
  {
   "cell_type": "code",
   "execution_count": 72,
   "metadata": {},
   "outputs": [
    {
     "data": {
      "text/plain": [
       "<matplotlib.collections.PathCollection at 0x7ff236fe3250>"
      ]
     },
     "execution_count": 72,
     "metadata": {},
     "output_type": "execute_result"
    },
    {
     "data": {
      "image/png": "[encoded data removed]",
      "text/plain": [
       "<Figure size 432x288 with 1 Axes>"
      ]
     },
     "metadata": {
      "needs_background": "light"
     },
     "output_type": "display_data"
    }
   ],
   "source": [
    "plt.scatter(data_dnase_sig[\"jsd_sign.mean\"], data_dnase_sig[\"obs_scores\"], alpha=0.1)"
   ]
  },
  {
   "cell_type": "code",
   "execution_count": 74,
   "metadata": {},
   "outputs": [
    {
     "name": "stdout",
     "output_type": "stream",
     "text": [
      "(-0.03014559908424015, 0.11686422647093589)\n"
     ]
    }
   ],
   "source": [
    "import scipy.stats\n",
    "\n",
    "print(scipy.stats.pearsonr(data_atac_sig['obs_scores'],data_atac_sig['abs_logfc_x_jsd_x_max_percentile.mean']))"
   ]
  },
  {
   "cell_type": "code",
   "execution_count": null,
   "metadata": {},
   "outputs": [],
   "source": []
  },
  {
   "cell_type": "code",
   "execution_count": 18,
   "metadata": {},
   "outputs": [
    {
     "name": "stdout",
     "output_type": "stream",
     "text": [
      "(0.2811877545943154, 2.257738745972026e-50)\n"
     ]
    }
   ],
   "source": [
    "print(scipy.stats.pearsonr(data_atac_sig['obs_scores'],data_atac_sig['logfc_x_jsd.mean']))\n"
   ]
  },
  {
   "cell_type": "code",
   "execution_count": 24,
   "metadata": {},
   "outputs": [
    {
     "name": "stdout",
     "output_type": "stream",
     "text": [
      "(0.3730024279092575, 4.126979535936469e-90)\n"
     ]
    }
   ],
   "source": [
    "import scipy.stats\n",
    "\n",
    "print(scipy.stats.pearsonr(data_atac_sig['obs_scores'],data_atac_sig['jsd_sign.mean']))"
   ]
  },
  {
   "cell_type": "code",
   "execution_count": null,
   "metadata": {},
   "outputs": [],
   "source": []
  },
  {
   "cell_type": "code",
   "execution_count": 23,
   "metadata": {},
   "outputs": [],
   "source": [
    "#print(scipy.stats.pearsonr(data_atac_sig[data_atac_sig[\"peak_overlap\"]]['obs_scores'],data_atac_sig[data_atac_sig[\"peak_overlap\"]]['logfc_x_jsd_x_max_percentile.mean']))\n",
    "\n"
   ]
  },
  {
   "cell_type": "code",
   "execution_count": 20,
   "metadata": {},
   "outputs": [],
   "source": [
    "#print(scipy.stats.pearsonr(data_atac_sig[data_atac_sig[\"peak_overlap\"]]['obs_scores'],data_atac_sig[data_atac_sig[\"peak_overlap\"]]['jsd_sign.mean']))\n"
   ]
  },
  {
   "cell_type": "code",
   "execution_count": 21,
   "metadata": {},
   "outputs": [],
   "source": [
    "#plt.scatter(data_atac_sig[data_atac_sig[\"peak_overlap\"]][\"logfc_x_jsd_x_max_percentile.mean\"], data_atac_sig[data_atac_sig[\"peak_overlap\"]][\"obs_scores\"]-0.5, alpha=0.5)"
   ]
  },
  {
   "cell_type": "code",
   "execution_count": 22,
   "metadata": {},
   "outputs": [],
   "source": [
    "#plt.scatter(data_atac_sig[data_atac_sig[\"peak_overlap\"]][\"jsd_sign.mean\"], data_atac_sig[data_atac_sig[\"peak_overlap\"]][\"obs_scores\"]-0.5, alpha=0.5)\n",
    "\n"
   ]
  },
  {
   "cell_type": "code",
   "execution_count": 24,
   "metadata": {},
   "outputs": [
    {
     "data": {
      "text/plain": [
       "156"
      ]
     },
     "execution_count": 24,
     "metadata": {},
     "output_type": "execute_result"
    }
   ],
   "source": []
  },
  {
   "cell_type": "code",
   "execution_count": 94,
   "metadata": {},
   "outputs": [],
   "source": [
    "data_atac_sig = data_atac[data_atac[\"Peak_id\"].isin(sig_peaks_ids)].drop_duplicates()\n",
    "data_atac_nonsig = data_atac[~data_atac[\"Peak_id\"].isin(sig_peaks_ids)].drop_duplicates()\n",
    "data_atac_sig[\"obs_scores\"] = data_atac_sig[\"obs_scores\"].astype(float)\n",
    "data_atac_nonsig[\"obs_scores\"] = data_atac_nonsig[\"obs_scores\"].astype(float)"
   ]
  },
  {
   "cell_type": "code",
   "execution_count": 95,
   "metadata": {},
   "outputs": [
    {
     "name": "stdout",
     "output_type": "stream",
     "text": [
      "0.4763933590690797\n",
      "0.4718914237544454\n"
     ]
    }
   ],
   "source": [
    "print(np.mean(data_atac_sig['obs_scores']))\n",
    "print(np.mean(data_atac_nonsig['obs_scores']))\n"
   ]
  },
  {
   "cell_type": "code",
   "execution_count": 96,
   "metadata": {},
   "outputs": [
    {
     "data": {
      "text/plain": [
       "<matplotlib.legend.Legend at 0x7f5510a95e50>"
      ]
     },
     "execution_count": 96,
     "metadata": {},
     "output_type": "execute_result"
    },
    {
     "data": {
      "image/png": "[encoded data removed]",
      "text/plain": [
       "<Figure size 432x288 with 1 Axes>"
      ]
     },
     "metadata": {
      "needs_background": "light"
     },
     "output_type": "display_data"
    }
   ],
   "source": [
    "plt.hist(data_atac_sig['obs_scores'], density=True, alpha=0.5, label=\"sig\")\n",
    "plt.hist(data_atac_nonsig['obs_scores'],density=True, alpha=0.5, label=\"non-sig\")\n",
    "plt.legend()"
   ]
  },
  {
   "cell_type": "code",
   "execution_count": null,
   "metadata": {},
   "outputs": [],
   "source": []
  }
 ],
 "metadata": {
  "kernelspec": {
   "display_name": "Python 3",
   "language": "python",
   "name": "python3"
  },
  "language_info": {
   "codemirror_mode": {
    "name": "ipython",
    "version": 3
   },
   "file_extension": ".py",
   "mimetype": "text/x-python",
   "name": "python",
   "nbconvert_exporter": "python",
   "pygments_lexer": "ipython3",
   "version": "3.7.6"
  }
 },
 "nbformat": 4,
 "nbformat_minor": 4
}
