{
 "cells": [
  {
   "cell_type": "code",
   "execution_count": 47,
   "metadata": {},
   "outputs": [],
   "source": [
    "import pandas as pd\n",
    "asb_sig = pd.read_csv(\"/oak/stanford/groups/akundaje/projects/african_omics/outs/10_15_2022_per_ancestry_scores/tables/sig.asb.scores.tsv\", sep=\"\\t\", header=0)"
   ]
  },
  {
   "cell_type": "code",
   "execution_count": 60,
   "metadata": {},
   "outputs": [],
   "source": [
    "atac_model=pd.read_csv(\"/mnt/lab_data2/anusri/enformer/eu_caqtls/chrombpnet_preds_asb/atac/ATAC/summary.mean.variant_scores_new_2.tsv\", sep='\\t', header=0)\n",
    "atac_model_50m=pd.read_csv(\"/mnt/lab_data2/anusri/enformer/eu_caqtls/chrombpnet_preds_asb/atac_50M/ATAC_50M/summary.mean.variant_scores_new_2.tsv\", sep='\\t', header=0)\n",
    "dnase_model=pd.read_csv(\"/mnt/lab_data2/anusri/enformer/eu_caqtls/chrombpnet_preds_asb/dnase_predss/DNASE/summary.mean.variant_scores_new_2.tsv\", sep='\\t', header=0)\n"
   ]
  },
  {
   "cell_type": "code",
   "execution_count": 61,
   "metadata": {},
   "outputs": [],
   "source": [
    "atac_model[\"jsd_sign.mean\"] = atac_model[\"jsd.mean\"]*np.sign(atac_model[\"logfc.mean\"])\n",
    "atac_model_50m[\"jsd_sign.mean\"] = atac_model_50m[\"jsd.mean\"]*np.sign(atac_model_50m[\"logfc.mean\"])\n",
    "dnase_model[\"jsd_sign.mean\"] = dnase_model[\"jsd.mean\"]*np.sign(dnase_model[\"logfc.mean\"])\n"
   ]
  },
  {
   "cell_type": "code",
   "execution_count": 62,
   "metadata": {},
   "outputs": [
    {
     "data": {
      "text/plain": [
       "(7559, 25)"
      ]
     },
     "execution_count": 62,
     "metadata": {},
     "output_type": "execute_result"
    }
   ],
   "source": [
    "atac_model.shape"
   ]
  },
  {
   "cell_type": "code",
   "execution_count": 63,
   "metadata": {},
   "outputs": [
    {
     "data": {
      "text/plain": [
       "(7559, 72)"
      ]
     },
     "execution_count": 63,
     "metadata": {},
     "output_type": "execute_result"
    }
   ],
   "source": [
    "asb_sig.shape"
   ]
  },
  {
   "cell_type": "code",
   "execution_count": 64,
   "metadata": {},
   "outputs": [
    {
     "data": {
      "text/html": [
       "<div>\n",
       "<style scoped>\n",
       "    .dataframe tbody tr th:only-of-type {\n",
       "        vertical-align: middle;\n",
       "    }\n",
       "\n",
       "    .dataframe tbody tr th {\n",
       "        vertical-align: top;\n",
       "    }\n",
       "\n",
       "    .dataframe thead th {\n",
       "        text-align: right;\n",
       "    }\n",
       "</style>\n",
       "<table border=\"1\" class=\"dataframe\">\n",
       "  <thead>\n",
       "    <tr style=\"text-align: right;\">\n",
       "      <th></th>\n",
       "      <th>chr</th>\n",
       "      <th>pos</th>\n",
       "      <th>allele1</th>\n",
       "      <th>allele2</th>\n",
       "      <th>rsid</th>\n",
       "      <th>Esan.mean.logfc</th>\n",
       "      <th>Esan.mean.abs_logfc</th>\n",
       "      <th>Esan.mean.jsd</th>\n",
       "      <th>Esan.mean.abs_logfc_x_jsd</th>\n",
       "      <th>Esan.mean.abs_logfc_x_jsd_x_max_percentile</th>\n",
       "      <th>...</th>\n",
       "      <th>afr.mean.jsd</th>\n",
       "      <th>eur.mean.logfc</th>\n",
       "      <th>eur.mean.abs_logfc</th>\n",
       "      <th>eur.mean.jsd</th>\n",
       "      <th>afr.mean.abs_logfc.pval</th>\n",
       "      <th>afr.mean.jsd.pval</th>\n",
       "      <th>eur.mean.abs_logfc.pval</th>\n",
       "      <th>eur.mean.jsd.pval</th>\n",
       "      <th>variantID</th>\n",
       "      <th>meanLog2FC</th>\n",
       "    </tr>\n",
       "  </thead>\n",
       "  <tbody>\n",
       "    <tr>\n",
       "      <th>0</th>\n",
       "      <td>chr1</td>\n",
       "      <td>976215</td>\n",
       "      <td>A</td>\n",
       "      <td>G</td>\n",
       "      <td>1_976215_A_G</td>\n",
       "      <td>0.148617</td>\n",
       "      <td>0.186169</td>\n",
       "      <td>0.029973</td>\n",
       "      <td>0.005416</td>\n",
       "      <td>0.003405</td>\n",
       "      <td>...</td>\n",
       "      <td>0.036430</td>\n",
       "      <td>-0.027498</td>\n",
       "      <td>0.218047</td>\n",
       "      <td>0.052142</td>\n",
       "      <td>0.048619</td>\n",
       "      <td>0.019607</td>\n",
       "      <td>0.048772</td>\n",
       "      <td>0.015193</td>\n",
       "      <td>1_976215_A_G</td>\n",
       "      <td>-1.852605</td>\n",
       "    </tr>\n",
       "    <tr>\n",
       "      <th>1</th>\n",
       "      <td>chr1</td>\n",
       "      <td>1000079</td>\n",
       "      <td>A</td>\n",
       "      <td>G</td>\n",
       "      <td>1_1000079_A_G</td>\n",
       "      <td>0.001207</td>\n",
       "      <td>0.012582</td>\n",
       "      <td>0.017991</td>\n",
       "      <td>0.000220</td>\n",
       "      <td>0.000198</td>\n",
       "      <td>...</td>\n",
       "      <td>0.021034</td>\n",
       "      <td>0.004492</td>\n",
       "      <td>0.028228</td>\n",
       "      <td>0.019831</td>\n",
       "      <td>0.457881</td>\n",
       "      <td>0.074831</td>\n",
       "      <td>0.783580</td>\n",
       "      <td>0.160148</td>\n",
       "      <td>1_1000079_A_G</td>\n",
       "      <td>-2.087074</td>\n",
       "    </tr>\n",
       "    <tr>\n",
       "      <th>2</th>\n",
       "      <td>chr1</td>\n",
       "      <td>1038800</td>\n",
       "      <td>T</td>\n",
       "      <td>G</td>\n",
       "      <td>1_1038800_G_T</td>\n",
       "      <td>0.013834</td>\n",
       "      <td>0.078046</td>\n",
       "      <td>0.014067</td>\n",
       "      <td>0.001314</td>\n",
       "      <td>0.000522</td>\n",
       "      <td>...</td>\n",
       "      <td>0.014347</td>\n",
       "      <td>-0.002473</td>\n",
       "      <td>0.040055</td>\n",
       "      <td>0.015031</td>\n",
       "      <td>0.230560</td>\n",
       "      <td>0.212956</td>\n",
       "      <td>0.603360</td>\n",
       "      <td>0.309351</td>\n",
       "      <td>1_1038800_G_T</td>\n",
       "      <td>3.172063</td>\n",
       "    </tr>\n",
       "    <tr>\n",
       "      <th>3</th>\n",
       "      <td>chr1</td>\n",
       "      <td>1038819</td>\n",
       "      <td>T</td>\n",
       "      <td>C</td>\n",
       "      <td>1_1038819_C_T</td>\n",
       "      <td>0.139453</td>\n",
       "      <td>0.139453</td>\n",
       "      <td>0.021787</td>\n",
       "      <td>0.003160</td>\n",
       "      <td>0.001386</td>\n",
       "      <td>...</td>\n",
       "      <td>0.020315</td>\n",
       "      <td>-0.208648</td>\n",
       "      <td>0.208648</td>\n",
       "      <td>0.021750</td>\n",
       "      <td>0.071184</td>\n",
       "      <td>0.081884</td>\n",
       "      <td>0.053131</td>\n",
       "      <td>0.128314</td>\n",
       "      <td>1_1038819_C_T</td>\n",
       "      <td>2.390945</td>\n",
       "    </tr>\n",
       "    <tr>\n",
       "      <th>4</th>\n",
       "      <td>chr1</td>\n",
       "      <td>1038845</td>\n",
       "      <td>G</td>\n",
       "      <td>A</td>\n",
       "      <td>1_1038845_A_G</td>\n",
       "      <td>-0.354500</td>\n",
       "      <td>0.354500</td>\n",
       "      <td>0.029879</td>\n",
       "      <td>0.010773</td>\n",
       "      <td>0.006039</td>\n",
       "      <td>...</td>\n",
       "      <td>0.032463</td>\n",
       "      <td>0.552679</td>\n",
       "      <td>0.552679</td>\n",
       "      <td>0.034941</td>\n",
       "      <td>0.006371</td>\n",
       "      <td>0.025877</td>\n",
       "      <td>0.006414</td>\n",
       "      <td>0.041549</td>\n",
       "      <td>1_1038845_A_G</td>\n",
       "      <td>2.163432</td>\n",
       "    </tr>\n",
       "  </tbody>\n",
       "</table>\n",
       "<p>5 rows × 72 columns</p>\n",
       "</div>"
      ],
      "text/plain": [
       "    chr      pos allele1 allele2           rsid  Esan.mean.logfc  \\\n",
       "0  chr1   976215       A       G   1_976215_A_G         0.148617   \n",
       "1  chr1  1000079       A       G  1_1000079_A_G         0.001207   \n",
       "2  chr1  1038800       T       G  1_1038800_G_T         0.013834   \n",
       "3  chr1  1038819       T       C  1_1038819_C_T         0.139453   \n",
       "4  chr1  1038845       G       A  1_1038845_A_G        -0.354500   \n",
       "\n",
       "   Esan.mean.abs_logfc  Esan.mean.jsd  Esan.mean.abs_logfc_x_jsd  \\\n",
       "0             0.186169       0.029973                   0.005416   \n",
       "1             0.012582       0.017991                   0.000220   \n",
       "2             0.078046       0.014067                   0.001314   \n",
       "3             0.139453       0.021787                   0.003160   \n",
       "4             0.354500       0.029879                   0.010773   \n",
       "\n",
       "   Esan.mean.abs_logfc_x_jsd_x_max_percentile  ...  afr.mean.jsd  \\\n",
       "0                                    0.003405  ...      0.036430   \n",
       "1                                    0.000198  ...      0.021034   \n",
       "2                                    0.000522  ...      0.014347   \n",
       "3                                    0.001386  ...      0.020315   \n",
       "4                                    0.006039  ...      0.032463   \n",
       "\n",
       "   eur.mean.logfc  eur.mean.abs_logfc  eur.mean.jsd  afr.mean.abs_logfc.pval  \\\n",
       "0       -0.027498            0.218047      0.052142                 0.048619   \n",
       "1        0.004492            0.028228      0.019831                 0.457881   \n",
       "2       -0.002473            0.040055      0.015031                 0.230560   \n",
       "3       -0.208648            0.208648      0.021750                 0.071184   \n",
       "4        0.552679            0.552679      0.034941                 0.006371   \n",
       "\n",
       "   afr.mean.jsd.pval  eur.mean.abs_logfc.pval  eur.mean.jsd.pval  \\\n",
       "0           0.019607                 0.048772           0.015193   \n",
       "1           0.074831                 0.783580           0.160148   \n",
       "2           0.212956                 0.603360           0.309351   \n",
       "3           0.081884                 0.053131           0.128314   \n",
       "4           0.025877                 0.006414           0.041549   \n",
       "\n",
       "       variantID  meanLog2FC  \n",
       "0   1_976215_A_G   -1.852605  \n",
       "1  1_1000079_A_G   -2.087074  \n",
       "2  1_1038800_G_T    3.172063  \n",
       "3  1_1038819_C_T    2.390945  \n",
       "4  1_1038845_A_G    2.163432  \n",
       "\n",
       "[5 rows x 72 columns]"
      ]
     },
     "execution_count": 64,
     "metadata": {},
     "output_type": "execute_result"
    }
   ],
   "source": [
    "asb_sig.head()"
   ]
  },
  {
   "cell_type": "code",
   "execution_count": 65,
   "metadata": {},
   "outputs": [
    {
     "data": {
      "text/plain": [
       "(7559, 72)"
      ]
     },
     "execution_count": 65,
     "metadata": {},
     "output_type": "execute_result"
    }
   ],
   "source": [
    "asb_sig.shape"
   ]
  },
  {
   "cell_type": "code",
   "execution_count": 66,
   "metadata": {},
   "outputs": [],
   "source": [
    "import scipy.stats"
   ]
  },
  {
   "cell_type": "code",
   "execution_count": 70,
   "metadata": {},
   "outputs": [
    {
     "data": {
      "text/plain": [
       "Index(['chr', 'pos', 'allele1', 'allele2', 'rsid', 'logfc.mean',\n",
       "       'abs_logfc.mean', 'abs_logfc.mean.pval', 'jsd.mean', 'jsd.mean.pval',\n",
       "       'logfc_x_jsd.mean', 'log_prob_log2s.mean', 'abs_logfc_x_jsd.mean',\n",
       "       'abs_logfc_x_jsd.mean.pval', 'max_percentile.mean',\n",
       "       'max_percentile.mean.pval', 'logfc_x_max_percentile.mean',\n",
       "       'abs_logfc_x_max_percentile.mean',\n",
       "       'abs_logfc_x_max_percentile.mean.pval', 'jsd_x_max_percentile.mean',\n",
       "       'jsd_x_max_percentile.mean.pval',\n",
       "       'abs_logfc_x_jsd_x_max_percentile.mean',\n",
       "       'abs_logfc_x_jsd_x_max_percentile.mean.pval',\n",
       "       'logfc_x_jsd_x_max_percentile.mean', 'jsd_sign.mean'],\n",
       "      dtype='object')"
      ]
     },
     "execution_count": 70,
     "metadata": {},
     "output_type": "execute_result"
    }
   ],
   "source": [
    "atac_model.columns"
   ]
  },
  {
   "cell_type": "code",
   "execution_count": 80,
   "metadata": {},
   "outputs": [
    {
     "data": {
      "text/plain": [
       "(0.38643911409950277, 9.28356026162717e-268)"
      ]
     },
     "execution_count": 80,
     "metadata": {},
     "output_type": "execute_result"
    }
   ],
   "source": [
    "import numpy as np\n",
    "asb_sig[\"sign_jsd\"] = asb_sig[\"GM12878.ENCSR637XSC.mean.jsd\"] * np.sign( asb_sig[\"GM12878.ENCSR637XSC.mean.logfc\"])\n",
    "\n",
    "atac_model.loc[asb_sig[\"allele1\"] != asb_sig[\"rsid\"].str.split('_').str[2], \"jsd_sign.mean\"] = -1* atac_model[asb_sig[\"allele1\"] != asb_sig[\"rsid\"].str.split('_').str[2]][\"jsd_sign.mean\"]\n",
    "\n",
    "scipy.stats.pearsonr(asb_sig[\"meanLog2FC\"], asb_sig[\"sign_jsd\"])"
   ]
  },
  {
   "cell_type": "code",
   "execution_count": 77,
   "metadata": {},
   "outputs": [],
   "source": [
    "dnase_model.loc[asb_sig[\"allele1\"] != asb_sig[\"rsid\"].str.split('_').str[2], \"jsd_sign.mean\"] = -1* dnase_model[asb_sig[\"allele1\"] != asb_sig[\"rsid\"].str.split('_').str[2]][\"jsd_sign.mean\"]\n",
    "atac_model_50m.loc[asb_sig[\"allele1\"] != asb_sig[\"rsid\"].str.split('_').str[2], \"jsd_sign.mean\"] = -1* atac_model_50m[asb_sig[\"allele1\"] != asb_sig[\"rsid\"].str.split('_').str[2]][\"jsd_sign.mean\"]\n",
    "\n"
   ]
  },
  {
   "cell_type": "code",
   "execution_count": 81,
   "metadata": {},
   "outputs": [
    {
     "name": "stdout",
     "output_type": "stream",
     "text": [
      "ATAC (572M) (0.6409080506614266, 0.0)\n",
      "DNase (0.6443754935588125, 0.0)\n",
      "ATAC (50M) (0.6325856097326924, 0.0)\n"
     ]
    }
   ],
   "source": [
    "print(\"ATAC (572M)\", scipy.stats.pearsonr(asb_sig[\"meanLog2FC\"], atac_model[\"jsd_sign.mean\"]))\n",
    "print(\"DNase\", scipy.stats.pearsonr(asb_sig[\"meanLog2FC\"], dnase_model[\"jsd_sign.mean\"]))\n",
    "print(\"ATAC (50M)\", scipy.stats.pearsonr(asb_sig[\"meanLog2FC\"], atac_model_50m[\"jsd_sign.mean\"]))"
   ]
  },
  {
   "cell_type": "code",
   "execution_count": 90,
   "metadata": {},
   "outputs": [
    {
     "data": {
      "text/plain": [
       "<matplotlib.colorbar.Colorbar at 0x7fe27d8bb550>"
      ]
     },
     "execution_count": 90,
     "metadata": {},
     "output_type": "execute_result"
    },
    {
     "data": {
      "text/plain": [
       "<Figure size 576x360 with 0 Axes>"
      ]
     },
     "metadata": {},
     "output_type": "display_data"
    },
    {
     "data": {
      "image/png": "[encoded data removed]",
      "text/plain": [
       "<Figure size 576x360 with 2 Axes>"
      ]
     },
     "metadata": {
      "needs_background": "light"
     },
     "output_type": "display_data"
    }
   ],
   "source": [
    "import seaborn as sns\n",
    "import matplotlib.pyplot as plt\n",
    "import matplotlib\n",
    "matplotlib.rcParams['pdf.fonttype'] = 42\n",
    "matplotlib.rcParams['ps.fonttype'] = 42 \n",
    "\n",
    "plt.figure(figsize=(8,5))\n",
    "\n",
    "data = pd.DataFrame()\n",
    "data[\"sd_sign.mean\"] = atac_model[\"jsd_sign.mean\"]\n",
    "data[\"Beta\"] = asb_sig[\"meanLog2FC\"]\n",
    "data[\"max_percentile.mean\"] = abs(atac_model[\"max_percentile.mean\"])\n",
    "\n",
    "plt.figure(figsize=(8,5))\n",
    "\n",
    "\n",
    "sns.kdeplot(\n",
    "    data=data,\n",
    "    x=\"Beta\",\n",
    "    y=\"sd_sign.mean\",\n",
    "    levels=5,\n",
    "    fill=False,\n",
    "    alpha=0.2,\n",
    "    color=\"grey\",\n",
    "    cut=2,\n",
    "\n",
    ")\n",
    "ax = sns.scatterplot(x=\"Beta\", y=\"sd_sign.mean\", hue=\"max_percentile.mean\", data=data, s=15, palette=\"PuRd\")\n",
    "sns.regplot(x=\"Beta\", y=\"sd_sign.mean\", data=data, scatter=False, ci=None, color=\"red\")\n",
    "#sns.jointplot(x=data[\"Beta\"], y=data[\"sd_sign.mean\"],s=0,ax=ax)\n",
    "\n",
    "norm = plt.Normalize(data['max_percentile.mean'].min(), data['max_percentile.mean'].max())\n",
    "sm = plt.cm.ScalarMappable(cmap=\"PuRd\", norm=norm)\n",
    "sm.set_array([])\n",
    "\n",
    "# Remove the legend and add a colorbar\n",
    "ax.get_legend().remove()\n",
    "ax.figure.colorbar(sm)\n",
    "#plt.savefig(\"subfigs_new/microglia_caqtls_scatter_plot.pdf\", transparent=True, dpi=300)\n",
    "\n"
   ]
  },
  {
   "cell_type": "code",
   "execution_count": 24,
   "metadata": {},
   "outputs": [],
   "source": [
    "allca = pd.read_csv(\"/oak/stanford/groups/akundaje/projects/african_omics/outs/10_15_2022_per_ancestry_scores/tables/all_caqtls.scores.tsv\", sep=\"\\t\")"
   ]
  },
  {
   "cell_type": "code",
   "execution_count": 25,
   "metadata": {},
   "outputs": [],
   "source": [
    "data1 = pd.read_csv(\"/mnt/lab_data2/anusri/enformer/eu_caqtls/source.tsv\", sep=\"\\t\", header=0)"
   ]
  },
  {
   "cell_type": "code",
   "execution_count": 27,
   "metadata": {},
   "outputs": [],
   "source": [
    "data1[\"rsid\"] = data1[\"chr\"] + \"_\" + data1[\"pos\"].astype(str) + \"_\" + data1[\"allele1\"] + \"_\" + data1[\"allele2\"]\n",
    "allca[\"rsid1\"] = allca[\"chr\"] + \"_\" + allca[\"pos\"].astype(str) + \"_\" + allca[\"allele1\"] + \"_\" + allca[\"allele2\"]"
   ]
  },
  {
   "cell_type": "code",
   "execution_count": 28,
   "metadata": {},
   "outputs": [
    {
     "data": {
      "text/plain": [
       "(35547, 6)"
      ]
     },
     "execution_count": 28,
     "metadata": {},
     "output_type": "execute_result"
    }
   ],
   "source": [
    "data1.shape"
   ]
  },
  {
   "cell_type": "code",
   "execution_count": 30,
   "metadata": {},
   "outputs": [],
   "source": [
    "allca = allca[allca[\"rsid1\"].isin(data1[\"rsid\"])]"
   ]
  },
  {
   "cell_type": "code",
   "execution_count": 31,
   "metadata": {},
   "outputs": [],
   "source": [
    "import os\n",
    "\n",
    "score_dir = '/oak/stanford/groups/akundaje/projects/african_omics/outs/10_15_2022_per_ancestry_scores/score_outputs'\n",
    "\n",
    "ancestries = [i for i in os.listdir(score_dir)]"
   ]
  },
  {
   "cell_type": "code",
   "execution_count": 36,
   "metadata": {},
   "outputs": [
    {
     "data": {
      "text/html": [
       "<div>\n",
       "<style scoped>\n",
       "    .dataframe tbody tr th:only-of-type {\n",
       "        vertical-align: middle;\n",
       "    }\n",
       "\n",
       "    .dataframe tbody tr th {\n",
       "        vertical-align: top;\n",
       "    }\n",
       "\n",
       "    .dataframe thead th {\n",
       "        text-align: right;\n",
       "    }\n",
       "</style>\n",
       "<table border=\"1\" class=\"dataframe\">\n",
       "  <thead>\n",
       "    <tr style=\"text-align: right;\">\n",
       "      <th></th>\n",
       "      <th>chr</th>\n",
       "      <th>pos</th>\n",
       "      <th>allele1</th>\n",
       "      <th>allele2</th>\n",
       "      <th>rsid</th>\n",
       "      <th>Esan.mean.logfc</th>\n",
       "      <th>Esan.mean.abs_logfc</th>\n",
       "      <th>Esan.mean.jsd</th>\n",
       "      <th>Esan.mean.abs_logfc_x_jsd</th>\n",
       "      <th>Esan.mean.abs_logfc_x_jsd_x_max_percentile</th>\n",
       "      <th>...</th>\n",
       "      <th>abs_beta</th>\n",
       "      <th>rsid1</th>\n",
       "      <th>GM12878.ENCSR637XSC.mean.sign.jsd</th>\n",
       "      <th>Maasai.mean.sign.jsd</th>\n",
       "      <th>Yoruba.mean.sign.jsd</th>\n",
       "      <th>Luhya.mean.sign.jsd</th>\n",
       "      <th>Gambian.mean.sign.jsd</th>\n",
       "      <th>Esan.mean.sign.jsd</th>\n",
       "      <th>GM12878.ENCSR095QNB.mean.sign.jsd</th>\n",
       "      <th>Mende.mean.sign.jsd</th>\n",
       "    </tr>\n",
       "  </thead>\n",
       "  <tbody>\n",
       "    <tr>\n",
       "      <th>1</th>\n",
       "      <td>chr1</td>\n",
       "      <td>866300</td>\n",
       "      <td>A</td>\n",
       "      <td>C</td>\n",
       "      <td>1_866300_A_C</td>\n",
       "      <td>-0.009280</td>\n",
       "      <td>0.022847</td>\n",
       "      <td>0.008537</td>\n",
       "      <td>0.000175</td>\n",
       "      <td>0.000082</td>\n",
       "      <td>...</td>\n",
       "      <td>0.006546</td>\n",
       "      <td>chr1_866300_A_C</td>\n",
       "      <td>0.012423</td>\n",
       "      <td>0.007669</td>\n",
       "      <td>-0.008802</td>\n",
       "      <td>-0.006376</td>\n",
       "      <td>0.009833</td>\n",
       "      <td>-0.008537</td>\n",
       "      <td>-0.008332</td>\n",
       "      <td>0.007980</td>\n",
       "    </tr>\n",
       "    <tr>\n",
       "      <th>14</th>\n",
       "      <td>chr1</td>\n",
       "      <td>959339</td>\n",
       "      <td>C</td>\n",
       "      <td>T</td>\n",
       "      <td>1_959339_C_T</td>\n",
       "      <td>-0.001519</td>\n",
       "      <td>0.042955</td>\n",
       "      <td>0.016538</td>\n",
       "      <td>0.000735</td>\n",
       "      <td>0.000690</td>\n",
       "      <td>...</td>\n",
       "      <td>0.071807</td>\n",
       "      <td>chr1_959339_C_T</td>\n",
       "      <td>-0.021913</td>\n",
       "      <td>-0.015979</td>\n",
       "      <td>0.018475</td>\n",
       "      <td>0.018084</td>\n",
       "      <td>-0.019140</td>\n",
       "      <td>-0.016538</td>\n",
       "      <td>0.021064</td>\n",
       "      <td>-0.018353</td>\n",
       "    </tr>\n",
       "    <tr>\n",
       "      <th>16</th>\n",
       "      <td>chr1</td>\n",
       "      <td>960509</td>\n",
       "      <td>A</td>\n",
       "      <td>T</td>\n",
       "      <td>1_960509_A_T</td>\n",
       "      <td>0.019035</td>\n",
       "      <td>0.043295</td>\n",
       "      <td>0.017585</td>\n",
       "      <td>0.000681</td>\n",
       "      <td>0.000560</td>\n",
       "      <td>...</td>\n",
       "      <td>0.024701</td>\n",
       "      <td>chr1_960509_A_T</td>\n",
       "      <td>0.021601</td>\n",
       "      <td>0.016399</td>\n",
       "      <td>0.018414</td>\n",
       "      <td>0.015839</td>\n",
       "      <td>0.014366</td>\n",
       "      <td>0.017585</td>\n",
       "      <td>0.018586</td>\n",
       "      <td>0.013021</td>\n",
       "    </tr>\n",
       "    <tr>\n",
       "      <th>25</th>\n",
       "      <td>chr1</td>\n",
       "      <td>976038</td>\n",
       "      <td>A</td>\n",
       "      <td>C</td>\n",
       "      <td>1_976038_A_C</td>\n",
       "      <td>-0.002968</td>\n",
       "      <td>0.031418</td>\n",
       "      <td>0.012498</td>\n",
       "      <td>0.000420</td>\n",
       "      <td>0.000173</td>\n",
       "      <td>...</td>\n",
       "      <td>0.112788</td>\n",
       "      <td>chr1_976038_A_C</td>\n",
       "      <td>0.011073</td>\n",
       "      <td>0.011493</td>\n",
       "      <td>0.012195</td>\n",
       "      <td>0.011414</td>\n",
       "      <td>0.011089</td>\n",
       "      <td>-0.012498</td>\n",
       "      <td>0.014719</td>\n",
       "      <td>0.012412</td>\n",
       "    </tr>\n",
       "    <tr>\n",
       "      <th>27</th>\n",
       "      <td>chr1</td>\n",
       "      <td>976536</td>\n",
       "      <td>C</td>\n",
       "      <td>T</td>\n",
       "      <td>1_976536_C_T</td>\n",
       "      <td>0.036712</td>\n",
       "      <td>0.041889</td>\n",
       "      <td>0.012956</td>\n",
       "      <td>0.000660</td>\n",
       "      <td>0.000418</td>\n",
       "      <td>...</td>\n",
       "      <td>0.124874</td>\n",
       "      <td>chr1_976536_C_T</td>\n",
       "      <td>0.012069</td>\n",
       "      <td>0.012636</td>\n",
       "      <td>0.010555</td>\n",
       "      <td>0.011849</td>\n",
       "      <td>0.008071</td>\n",
       "      <td>0.012956</td>\n",
       "      <td>0.013633</td>\n",
       "      <td>0.011389</td>\n",
       "    </tr>\n",
       "  </tbody>\n",
       "</table>\n",
       "<p>5 rows × 86 columns</p>\n",
       "</div>"
      ],
      "text/plain": [
       "     chr     pos allele1 allele2          rsid  Esan.mean.logfc  \\\n",
       "1   chr1  866300       A       C  1_866300_A_C        -0.009280   \n",
       "14  chr1  959339       C       T  1_959339_C_T        -0.001519   \n",
       "16  chr1  960509       A       T  1_960509_A_T         0.019035   \n",
       "25  chr1  976038       A       C  1_976038_A_C        -0.002968   \n",
       "27  chr1  976536       C       T  1_976536_C_T         0.036712   \n",
       "\n",
       "    Esan.mean.abs_logfc  Esan.mean.jsd  Esan.mean.abs_logfc_x_jsd  \\\n",
       "1              0.022847       0.008537                   0.000175   \n",
       "14             0.042955       0.016538                   0.000735   \n",
       "16             0.043295       0.017585                   0.000681   \n",
       "25             0.031418       0.012498                   0.000420   \n",
       "27             0.041889       0.012956                   0.000660   \n",
       "\n",
       "    Esan.mean.abs_logfc_x_jsd_x_max_percentile  ...  abs_beta  \\\n",
       "1                                     0.000082  ...  0.006546   \n",
       "14                                    0.000690  ...  0.071807   \n",
       "16                                    0.000560  ...  0.024701   \n",
       "25                                    0.000173  ...  0.112788   \n",
       "27                                    0.000418  ...  0.124874   \n",
       "\n",
       "              rsid1  GM12878.ENCSR637XSC.mean.sign.jsd  Maasai.mean.sign.jsd  \\\n",
       "1   chr1_866300_A_C                           0.012423              0.007669   \n",
       "14  chr1_959339_C_T                          -0.021913             -0.015979   \n",
       "16  chr1_960509_A_T                           0.021601              0.016399   \n",
       "25  chr1_976038_A_C                           0.011073              0.011493   \n",
       "27  chr1_976536_C_T                           0.012069              0.012636   \n",
       "\n",
       "    Yoruba.mean.sign.jsd  Luhya.mean.sign.jsd  Gambian.mean.sign.jsd  \\\n",
       "1              -0.008802            -0.006376               0.009833   \n",
       "14              0.018475             0.018084              -0.019140   \n",
       "16              0.018414             0.015839               0.014366   \n",
       "25              0.012195             0.011414               0.011089   \n",
       "27              0.010555             0.011849               0.008071   \n",
       "\n",
       "    Esan.mean.sign.jsd  GM12878.ENCSR095QNB.mean.sign.jsd  Mende.mean.sign.jsd  \n",
       "1            -0.008537                          -0.008332             0.007980  \n",
       "14           -0.016538                           0.021064            -0.018353  \n",
       "16            0.017585                           0.018586             0.013021  \n",
       "25           -0.012498                           0.014719             0.012412  \n",
       "27            0.012956                           0.013633             0.011389  \n",
       "\n",
       "[5 rows x 86 columns]"
      ]
     },
     "execution_count": 36,
     "metadata": {},
     "output_type": "execute_result"
    }
   ],
   "source": [
    "allca.head()"
   ]
  },
  {
   "cell_type": "code",
   "execution_count": 37,
   "metadata": {},
   "outputs": [
    {
     "data": {
      "text/plain": [
       "(35547, 86)"
      ]
     },
     "execution_count": 37,
     "metadata": {},
     "output_type": "execute_result"
    }
   ],
   "source": [
    "allca.shape"
   ]
  },
  {
   "cell_type": "code",
   "execution_count": 33,
   "metadata": {},
   "outputs": [],
   "source": [
    "for outer_ancestry in ancestries:\n",
    "    print(outer_ancestry)\n",
    "    allca[outer_ancestry+'.mean.sign.jsd'] = allca[outer_ancestry+'.mean.jsd']*np.sign(allca[outer_ancestry+'.mean.logfc'])\n",
    "    allca.loc[allca[\"allele1\"] != allca[\"rsid\"].str.split('_').str[2],outer_ancestry+'.mean.sign.jsd'] = -1*allca[allca[\"allele1\"] != allca[\"rsid\"].str.split('_').str[2]][outer_ancestry+'.mean.sign.jsd']"
   ]
  },
  {
   "cell_type": "code",
   "execution_count": 38,
   "metadata": {},
   "outputs": [
    {
     "data": {
      "text/html": [
       "<div>\n",
       "<style scoped>\n",
       "    .dataframe tbody tr th:only-of-type {\n",
       "        vertical-align: middle;\n",
       "    }\n",
       "\n",
       "    .dataframe tbody tr th {\n",
       "        vertical-align: top;\n",
       "    }\n",
       "\n",
       "    .dataframe thead th {\n",
       "        text-align: right;\n",
       "    }\n",
       "</style>\n",
       "<table border=\"1\" class=\"dataframe\">\n",
       "  <thead>\n",
       "    <tr style=\"text-align: right;\">\n",
       "      <th></th>\n",
       "      <th>GM12878.ENCSR637XSC</th>\n",
       "      <th>Maasai</th>\n",
       "      <th>Yoruba</th>\n",
       "      <th>Luhya</th>\n",
       "      <th>Gambian</th>\n",
       "      <th>Esan</th>\n",
       "      <th>GM12878.ENCSR095QNB</th>\n",
       "      <th>Mende</th>\n",
       "    </tr>\n",
       "    <tr>\n",
       "      <th>ancestry</th>\n",
       "      <th></th>\n",
       "      <th></th>\n",
       "      <th></th>\n",
       "      <th></th>\n",
       "      <th></th>\n",
       "      <th></th>\n",
       "      <th></th>\n",
       "      <th></th>\n",
       "    </tr>\n",
       "  </thead>\n",
       "  <tbody>\n",
       "    <tr>\n",
       "      <th>GM12878.ENCSR637XSC</th>\n",
       "      <td>1.000000</td>\n",
       "      <td>0.911271</td>\n",
       "      <td>0.920471</td>\n",
       "      <td>0.925185</td>\n",
       "      <td>0.921426</td>\n",
       "      <td>0.920947</td>\n",
       "      <td>0.941677</td>\n",
       "      <td>0.914851</td>\n",
       "    </tr>\n",
       "    <tr>\n",
       "      <th>Maasai</th>\n",
       "      <td>0.911271</td>\n",
       "      <td>1.000000</td>\n",
       "      <td>0.954493</td>\n",
       "      <td>0.957497</td>\n",
       "      <td>0.954255</td>\n",
       "      <td>0.948734</td>\n",
       "      <td>0.913282</td>\n",
       "      <td>0.951579</td>\n",
       "    </tr>\n",
       "    <tr>\n",
       "      <th>Yoruba</th>\n",
       "      <td>0.920471</td>\n",
       "      <td>0.954493</td>\n",
       "      <td>1.000000</td>\n",
       "      <td>0.960244</td>\n",
       "      <td>0.957104</td>\n",
       "      <td>0.957161</td>\n",
       "      <td>0.921366</td>\n",
       "      <td>0.956367</td>\n",
       "    </tr>\n",
       "    <tr>\n",
       "      <th>Luhya</th>\n",
       "      <td>0.925185</td>\n",
       "      <td>0.957497</td>\n",
       "      <td>0.960244</td>\n",
       "      <td>1.000000</td>\n",
       "      <td>0.956365</td>\n",
       "      <td>0.955541</td>\n",
       "      <td>0.922344</td>\n",
       "      <td>0.954838</td>\n",
       "    </tr>\n",
       "    <tr>\n",
       "      <th>Gambian</th>\n",
       "      <td>0.921426</td>\n",
       "      <td>0.954255</td>\n",
       "      <td>0.957104</td>\n",
       "      <td>0.956365</td>\n",
       "      <td>1.000000</td>\n",
       "      <td>0.950060</td>\n",
       "      <td>0.928452</td>\n",
       "      <td>0.957745</td>\n",
       "    </tr>\n",
       "    <tr>\n",
       "      <th>Esan</th>\n",
       "      <td>0.920947</td>\n",
       "      <td>0.948734</td>\n",
       "      <td>0.957161</td>\n",
       "      <td>0.955541</td>\n",
       "      <td>0.950060</td>\n",
       "      <td>1.000000</td>\n",
       "      <td>0.920357</td>\n",
       "      <td>0.954099</td>\n",
       "    </tr>\n",
       "    <tr>\n",
       "      <th>GM12878.ENCSR095QNB</th>\n",
       "      <td>0.941677</td>\n",
       "      <td>0.913282</td>\n",
       "      <td>0.921366</td>\n",
       "      <td>0.922344</td>\n",
       "      <td>0.928452</td>\n",
       "      <td>0.920357</td>\n",
       "      <td>1.000000</td>\n",
       "      <td>0.921769</td>\n",
       "    </tr>\n",
       "    <tr>\n",
       "      <th>Mende</th>\n",
       "      <td>0.914851</td>\n",
       "      <td>0.951579</td>\n",
       "      <td>0.956367</td>\n",
       "      <td>0.954838</td>\n",
       "      <td>0.957745</td>\n",
       "      <td>0.954099</td>\n",
       "      <td>0.921769</td>\n",
       "      <td>1.000000</td>\n",
       "    </tr>\n",
       "  </tbody>\n",
       "</table>\n",
       "</div>"
      ],
      "text/plain": [
       "                     GM12878.ENCSR637XSC    Maasai    Yoruba     Luhya  \\\n",
       "ancestry                                                                 \n",
       "GM12878.ENCSR637XSC             1.000000  0.911271  0.920471  0.925185   \n",
       "Maasai                          0.911271  1.000000  0.954493  0.957497   \n",
       "Yoruba                          0.920471  0.954493  1.000000  0.960244   \n",
       "Luhya                           0.925185  0.957497  0.960244  1.000000   \n",
       "Gambian                         0.921426  0.954255  0.957104  0.956365   \n",
       "Esan                            0.920947  0.948734  0.957161  0.955541   \n",
       "GM12878.ENCSR095QNB             0.941677  0.913282  0.921366  0.922344   \n",
       "Mende                           0.914851  0.951579  0.956367  0.954838   \n",
       "\n",
       "                      Gambian      Esan  GM12878.ENCSR095QNB     Mende  \n",
       "ancestry                                                                \n",
       "GM12878.ENCSR637XSC  0.921426  0.920947             0.941677  0.914851  \n",
       "Maasai               0.954255  0.948734             0.913282  0.951579  \n",
       "Yoruba               0.957104  0.957161             0.921366  0.956367  \n",
       "Luhya                0.956365  0.955541             0.922344  0.954838  \n",
       "Gambian              1.000000  0.950060             0.928452  0.957745  \n",
       "Esan                 0.950060  1.000000             0.920357  0.954099  \n",
       "GM12878.ENCSR095QNB  0.928452  0.920357             1.000000  0.921769  \n",
       "Mende                0.957745  0.954099             0.921769  1.000000  "
      ]
     },
     "execution_count": 38,
     "metadata": {},
     "output_type": "execute_result"
    }
   ],
   "source": [
    "abs_logfc_dict = {x: [] for x in ancestries}\n",
    "abs_logfc_dict['ancestry'] = []\n",
    "\n",
    "for outer_ancestry in ancestries:\n",
    "    abs_logfc_dict['ancestry'].append(outer_ancestry)\n",
    "    for ancestry in ancestries:\n",
    "        abs_logfc_dict[ancestry].append(scipy.stats.pearsonr(abs(allca[outer_ancestry + '.mean.sign.jsd']),\n",
    "                                                 abs(allca[ancestry + '.mean.sign.jsd']))[0])\n",
    "        \n",
    "abs_logfc_df = pd.DataFrame(abs_logfc_dict)\n",
    "abs_logfc_df.set_index('ancestry', inplace=True)\n",
    "\n",
    "abs_logfc_df\n"
   ]
  },
  {
   "cell_type": "code",
   "execution_count": 44,
   "metadata": {},
   "outputs": [
    {
     "data": {
      "text/plain": [
       "Text(0.5, 1.05, 'Ancestry vs. Ancestry ChromBPNet Absolute LogFC Pearson Correlation')"
      ]
     },
     "execution_count": 44,
     "metadata": {},
     "output_type": "execute_result"
    },
    {
     "data": {
      "image/png": "[encoded data removed]",
      "text/plain": [
       "<Figure size 864x864 with 4 Axes>"
      ]
     },
     "metadata": {
      "needs_background": "light"
     },
     "output_type": "display_data"
    }
   ],
   "source": [
    "g = sns.clustermap(abs_logfc_df, annot=True, cmap=\"crest\")\n",
    "g.fig.set_figwidth(12)\n",
    "g.fig.set_figheight(12)\n",
    "g.fig.suptitle('Ancestry vs. Ancestry ChromBPNet Absolute LogFC Pearson Correlation', fontsize=18, y=1.05)"
   ]
  },
  {
   "cell_type": "code",
   "execution_count": 45,
   "metadata": {},
   "outputs": [
    {
     "data": {
      "text/html": [
       "<div>\n",
       "<style scoped>\n",
       "    .dataframe tbody tr th:only-of-type {\n",
       "        vertical-align: middle;\n",
       "    }\n",
       "\n",
       "    .dataframe tbody tr th {\n",
       "        vertical-align: top;\n",
       "    }\n",
       "\n",
       "    .dataframe thead th {\n",
       "        text-align: right;\n",
       "    }\n",
       "</style>\n",
       "<table border=\"1\" class=\"dataframe\">\n",
       "  <thead>\n",
       "    <tr style=\"text-align: right;\">\n",
       "      <th></th>\n",
       "      <th>GM12878.ENCSR637XSC</th>\n",
       "      <th>Maasai</th>\n",
       "      <th>Yoruba</th>\n",
       "      <th>Luhya</th>\n",
       "      <th>Gambian</th>\n",
       "      <th>Esan</th>\n",
       "      <th>GM12878.ENCSR095QNB</th>\n",
       "      <th>Mende</th>\n",
       "    </tr>\n",
       "    <tr>\n",
       "      <th>ancestry</th>\n",
       "      <th></th>\n",
       "      <th></th>\n",
       "      <th></th>\n",
       "      <th></th>\n",
       "      <th></th>\n",
       "      <th></th>\n",
       "      <th></th>\n",
       "      <th></th>\n",
       "    </tr>\n",
       "  </thead>\n",
       "  <tbody>\n",
       "    <tr>\n",
       "      <th>GM12878.ENCSR637XSC</th>\n",
       "      <td>1.000000</td>\n",
       "      <td>0.725571</td>\n",
       "      <td>0.730734</td>\n",
       "      <td>0.735344</td>\n",
       "      <td>0.747349</td>\n",
       "      <td>0.740282</td>\n",
       "      <td>0.752435</td>\n",
       "      <td>0.733996</td>\n",
       "    </tr>\n",
       "    <tr>\n",
       "      <th>Maasai</th>\n",
       "      <td>0.725571</td>\n",
       "      <td>1.000000</td>\n",
       "      <td>0.796325</td>\n",
       "      <td>0.809070</td>\n",
       "      <td>0.816647</td>\n",
       "      <td>0.806274</td>\n",
       "      <td>0.735885</td>\n",
       "      <td>0.813943</td>\n",
       "    </tr>\n",
       "    <tr>\n",
       "      <th>Yoruba</th>\n",
       "      <td>0.730734</td>\n",
       "      <td>0.796325</td>\n",
       "      <td>1.000000</td>\n",
       "      <td>0.806265</td>\n",
       "      <td>0.808546</td>\n",
       "      <td>0.800769</td>\n",
       "      <td>0.740764</td>\n",
       "      <td>0.806431</td>\n",
       "    </tr>\n",
       "    <tr>\n",
       "      <th>Luhya</th>\n",
       "      <td>0.735344</td>\n",
       "      <td>0.809070</td>\n",
       "      <td>0.806265</td>\n",
       "      <td>1.000000</td>\n",
       "      <td>0.814617</td>\n",
       "      <td>0.808537</td>\n",
       "      <td>0.744509</td>\n",
       "      <td>0.811847</td>\n",
       "    </tr>\n",
       "    <tr>\n",
       "      <th>Gambian</th>\n",
       "      <td>0.747349</td>\n",
       "      <td>0.816647</td>\n",
       "      <td>0.808546</td>\n",
       "      <td>0.814617</td>\n",
       "      <td>1.000000</td>\n",
       "      <td>0.818919</td>\n",
       "      <td>0.755806</td>\n",
       "      <td>0.825278</td>\n",
       "    </tr>\n",
       "    <tr>\n",
       "      <th>Esan</th>\n",
       "      <td>0.740282</td>\n",
       "      <td>0.806274</td>\n",
       "      <td>0.800769</td>\n",
       "      <td>0.808537</td>\n",
       "      <td>0.818919</td>\n",
       "      <td>1.000000</td>\n",
       "      <td>0.742561</td>\n",
       "      <td>0.815894</td>\n",
       "    </tr>\n",
       "    <tr>\n",
       "      <th>GM12878.ENCSR095QNB</th>\n",
       "      <td>0.752435</td>\n",
       "      <td>0.735885</td>\n",
       "      <td>0.740764</td>\n",
       "      <td>0.744509</td>\n",
       "      <td>0.755806</td>\n",
       "      <td>0.742561</td>\n",
       "      <td>1.000000</td>\n",
       "      <td>0.751026</td>\n",
       "    </tr>\n",
       "    <tr>\n",
       "      <th>Mende</th>\n",
       "      <td>0.733996</td>\n",
       "      <td>0.813943</td>\n",
       "      <td>0.806431</td>\n",
       "      <td>0.811847</td>\n",
       "      <td>0.825278</td>\n",
       "      <td>0.815894</td>\n",
       "      <td>0.751026</td>\n",
       "      <td>1.000000</td>\n",
       "    </tr>\n",
       "  </tbody>\n",
       "</table>\n",
       "</div>"
      ],
      "text/plain": [
       "                     GM12878.ENCSR637XSC    Maasai    Yoruba     Luhya  \\\n",
       "ancestry                                                                 \n",
       "GM12878.ENCSR637XSC             1.000000  0.725571  0.730734  0.735344   \n",
       "Maasai                          0.725571  1.000000  0.796325  0.809070   \n",
       "Yoruba                          0.730734  0.796325  1.000000  0.806265   \n",
       "Luhya                           0.735344  0.809070  0.806265  1.000000   \n",
       "Gambian                         0.747349  0.816647  0.808546  0.814617   \n",
       "Esan                            0.740282  0.806274  0.800769  0.808537   \n",
       "GM12878.ENCSR095QNB             0.752435  0.735885  0.740764  0.744509   \n",
       "Mende                           0.733996  0.813943  0.806431  0.811847   \n",
       "\n",
       "                      Gambian      Esan  GM12878.ENCSR095QNB     Mende  \n",
       "ancestry                                                                \n",
       "GM12878.ENCSR637XSC  0.747349  0.740282             0.752435  0.733996  \n",
       "Maasai               0.816647  0.806274             0.735885  0.813943  \n",
       "Yoruba               0.808546  0.800769             0.740764  0.806431  \n",
       "Luhya                0.814617  0.808537             0.744509  0.811847  \n",
       "Gambian              1.000000  0.818919             0.755806  0.825278  \n",
       "Esan                 0.818919  1.000000             0.742561  0.815894  \n",
       "GM12878.ENCSR095QNB  0.755806  0.742561             1.000000  0.751026  \n",
       "Mende                0.825278  0.815894             0.751026  1.000000  "
      ]
     },
     "execution_count": 45,
     "metadata": {},
     "output_type": "execute_result"
    }
   ],
   "source": [
    "abs_logfc_dict = {x: [] for x in ancestries}\n",
    "abs_logfc_dict['ancestry'] = []\n",
    "\n",
    "for outer_ancestry in ancestries:\n",
    "    abs_logfc_dict['ancestry'].append(outer_ancestry)\n",
    "    for ancestry in ancestries:\n",
    "        abs_logfc_dict[ancestry].append(scipy.stats.pearsonr(allca[outer_ancestry + '.mean.sign.jsd'],\n",
    "                                                 allca[ancestry + '.mean.sign.jsd'])[0])\n",
    "        \n",
    "abs_logfc_df = pd.DataFrame(abs_logfc_dict)\n",
    "abs_logfc_df.set_index('ancestry', inplace=True)\n",
    "\n",
    "abs_logfc_df\n"
   ]
  },
  {
   "cell_type": "code",
   "execution_count": 46,
   "metadata": {},
   "outputs": [
    {
     "data": {
      "text/plain": [
       "Text(0.5, 1.05, 'Ancestry vs. Ancestry ChromBPNet Effect Size Pearson Correlation')"
      ]
     },
     "execution_count": 46,
     "metadata": {},
     "output_type": "execute_result"
    },
    {
     "data": {
      "image/png": "[encoded data removed]",
      "text/plain": [
       "<Figure size 864x864 with 4 Axes>"
      ]
     },
     "metadata": {
      "needs_background": "light"
     },
     "output_type": "display_data"
    }
   ],
   "source": [
    "g = sns.clustermap(abs_logfc_df, annot=True, cmap=\"crest\")\n",
    "g.fig.set_figwidth(12)\n",
    "g.fig.set_figheight(12)\n",
    "g.fig.suptitle('Ancestry vs. Ancestry ChromBPNet Effect Size Pearson Correlation', fontsize=18, y=1.05)"
   ]
  },
  {
   "cell_type": "code",
   "execution_count": null,
   "metadata": {},
   "outputs": [],
   "source": []
  }
 ],
 "metadata": {
  "kernelspec": {
   "display_name": "Python 3",
   "language": "python",
   "name": "python3"
  },
  "language_info": {
   "codemirror_mode": {
    "name": "ipython",
    "version": 3
   },
   "file_extension": ".py",
   "mimetype": "text/x-python",
   "name": "python",
   "nbconvert_exporter": "python",
   "pygments_lexer": "ipython3",
   "version": "3.7.6"
  }
 },
 "nbformat": 4,
 "nbformat_minor": 4
}
