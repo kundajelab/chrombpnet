{
 "cells": [
  {
   "cell_type": "code",
   "execution_count": 1,
   "metadata": {},
   "outputs": [],
   "source": [
    "import pandas as pd"
   ]
  },
  {
   "cell_type": "code",
   "execution_count": 2,
   "metadata": {},
   "outputs": [],
   "source": [
    "scored_variants = pd.read_csv(\"/mnt/lab_data2/anusri/signed_variant_scorer/variant-scorer/output/blood_traits/ATAC/summary.mean.variant_scores.tsv\", sep=\"\\t\", header=0)\n",
    "blood_variants=pd.read_csv(\"/mnt/lab_data2/anusri/signed_variant_scorer/variant-scorer/output/blood_traits/SNP_info_table.tsv\", sep=\"\\t\", header=0)\n",
    "scored_variants_dnase = pd.read_csv(\"/mnt/lab_data2/anusri/signed_variant_scorer/variant-scorer/output/blood_traits/DNASE/summary.mean.variant_scores.tsv\", sep=\"\\t\", header=0)\n"
   ]
  },
  {
   "cell_type": "code",
   "execution_count": 3,
   "metadata": {},
   "outputs": [],
   "source": [
    "import numpy as np\n",
    "scored_variants[\"sign.jsd.mean\"] = scored_variants[\"jsd.mean\"] * np.sign(scored_variants[\"logfc.mean\"])\n",
    "scored_variants = scored_variants[['chr', 'pos', 'allele1', 'allele2', 'variant_id', 'logfc.mean', \"sign.jsd.mean\", \"abs_logfc_x_jsd_x_max_percentile.mean\", 'abs_logfc_x_jsd_x_max_percentile.mean.pval']]\n",
    "\n",
    "scored_variants_dnase[\"sign.jsd.mean\"] = scored_variants_dnase[\"jsd.mean\"] * np.sign(scored_variants_dnase[\"logfc.mean\"])\n",
    "scored_variants_dnase = scored_variants_dnase[['chr', 'pos', 'allele1', 'allele2', 'variant_id', 'logfc.mean', \"sign.jsd.mean\", \"abs_logfc_x_jsd_x_max_percentile.mean\", 'abs_logfc_x_jsd_x_max_percentile.mean.pval']]\n"
   ]
  },
  {
   "cell_type": "code",
   "execution_count": 4,
   "metadata": {},
   "outputs": [],
   "source": [
    "final = scored_variants.merge(blood_variants, how=\"left\", left_on=[\"variant_id\", \"allele1\", \"allele2\"], right_on=[\"rsid\", \"allele1\", \"allele2\"])\n"
   ]
  },
  {
   "cell_type": "code",
   "execution_count": 5,
   "metadata": {},
   "outputs": [
    {
     "data": {
      "text/plain": [
       "Index(['chr', 'pos', 'allele1', 'allele2', 'variant_id', 'logfc.mean',\n",
       "       'sign.jsd.mean', 'abs_logfc_x_jsd_x_max_percentile.mean',\n",
       "       'abs_logfc_x_jsd_x_max_percentile.mean.pval', 'rsid', 'traits', 'IDs',\n",
       "       'maxPIP'],\n",
       "      dtype='object')"
      ]
     },
     "execution_count": 5,
     "metadata": {},
     "output_type": "execute_result"
    }
   ],
   "source": [
    "final.columns"
   ]
  },
  {
   "cell_type": "code",
   "execution_count": 6,
   "metadata": {},
   "outputs": [
    {
     "data": {
      "text/plain": [
       "(11916124, 13)"
      ]
     },
     "execution_count": 6,
     "metadata": {},
     "output_type": "execute_result"
    }
   ],
   "source": [
    "final.shape"
   ]
  },
  {
   "cell_type": "code",
   "execution_count": 7,
   "metadata": {},
   "outputs": [
    {
     "data": {
      "text/html": [
       "<div>\n",
       "<style scoped>\n",
       "    .dataframe tbody tr th:only-of-type {\n",
       "        vertical-align: middle;\n",
       "    }\n",
       "\n",
       "    .dataframe tbody tr th {\n",
       "        vertical-align: top;\n",
       "    }\n",
       "\n",
       "    .dataframe thead th {\n",
       "        text-align: right;\n",
       "    }\n",
       "</style>\n",
       "<table border=\"1\" class=\"dataframe\">\n",
       "  <thead>\n",
       "    <tr style=\"text-align: right;\">\n",
       "      <th></th>\n",
       "      <th>rsid</th>\n",
       "      <th>allele1</th>\n",
       "      <th>allele2</th>\n",
       "      <th>traits</th>\n",
       "      <th>IDs</th>\n",
       "      <th>maxPIP</th>\n",
       "    </tr>\n",
       "  </thead>\n",
       "  <tbody>\n",
       "    <tr>\n",
       "      <th>0</th>\n",
       "      <td>rs10000067</td>\n",
       "      <td>T</td>\n",
       "      <td>C</td>\n",
       "      <td>MCH</td>\n",
       "      <td>MCH_rs10000067</td>\n",
       "      <td>0.007929</td>\n",
       "    </tr>\n",
       "    <tr>\n",
       "      <th>1</th>\n",
       "      <td>rs10001067</td>\n",
       "      <td>C</td>\n",
       "      <td>G</td>\n",
       "      <td>MCV</td>\n",
       "      <td>MCV_rs10001067</td>\n",
       "      <td>0.021491</td>\n",
       "    </tr>\n",
       "    <tr>\n",
       "      <th>2</th>\n",
       "      <td>rs10001396</td>\n",
       "      <td>C</td>\n",
       "      <td>G</td>\n",
       "      <td>MCH</td>\n",
       "      <td>MCH_rs10001396</td>\n",
       "      <td>0.010357</td>\n",
       "    </tr>\n",
       "    <tr>\n",
       "      <th>3</th>\n",
       "      <td>rs10002448</td>\n",
       "      <td>G</td>\n",
       "      <td>A</td>\n",
       "      <td>MCH</td>\n",
       "      <td>MCH_rs10002448</td>\n",
       "      <td>0.012410</td>\n",
       "    </tr>\n",
       "    <tr>\n",
       "      <th>4</th>\n",
       "      <td>rs10002971</td>\n",
       "      <td>A</td>\n",
       "      <td>C</td>\n",
       "      <td>MCHC</td>\n",
       "      <td>MCHC_rs10002971</td>\n",
       "      <td>0.019088</td>\n",
       "    </tr>\n",
       "  </tbody>\n",
       "</table>\n",
       "</div>"
      ],
      "text/plain": [
       "         rsid allele1 allele2 traits              IDs    maxPIP\n",
       "0  rs10000067       T       C    MCH   MCH_rs10000067  0.007929\n",
       "1  rs10001067       C       G    MCV   MCV_rs10001067  0.021491\n",
       "2  rs10001396       C       G    MCH   MCH_rs10001396  0.010357\n",
       "3  rs10002448       G       A    MCH   MCH_rs10002448  0.012410\n",
       "4  rs10002971       A       C   MCHC  MCHC_rs10002971  0.019088"
      ]
     },
     "execution_count": 7,
     "metadata": {},
     "output_type": "execute_result"
    }
   ],
   "source": [
    "blood_variants.head()"
   ]
  },
  {
   "cell_type": "code",
   "execution_count": 8,
   "metadata": {},
   "outputs": [
    {
     "data": {
      "text/plain": [
       "(11916124, 9)"
      ]
     },
     "execution_count": 8,
     "metadata": {},
     "output_type": "execute_result"
    }
   ],
   "source": [
    "\n",
    "scored_variants.shape"
   ]
  },
  {
   "cell_type": "code",
   "execution_count": 9,
   "metadata": {},
   "outputs": [
    {
     "data": {
      "text/plain": [
       "(12951, 6)"
      ]
     },
     "execution_count": 9,
     "metadata": {},
     "output_type": "execute_result"
    }
   ],
   "source": [
    "blood_variants.shape"
   ]
  },
  {
   "cell_type": "code",
   "execution_count": 10,
   "metadata": {},
   "outputs": [
    {
     "data": {
      "text/plain": [
       "(11916124, 9)"
      ]
     },
     "execution_count": 10,
     "metadata": {},
     "output_type": "execute_result"
    }
   ],
   "source": [
    "scored_variants_dnase.shape"
   ]
  },
  {
   "cell_type": "code",
   "execution_count": 11,
   "metadata": {},
   "outputs": [],
   "source": [
    "rename_dict = {'chr': 'var.chr', 'pos': 'var.pos_hg38', 'allele1': 'var.allele1', 'allele2': 'var.allele3' , 'variant_id': 'var.variant_id', 'maxPIP': 'obs.maxPIP', 'traits': 'obs.traits', 'rsid': 'var.rsid', 'IDs': 'var.IDs',\n",
    "    'logfc.mean': 'pred.chrombpnet.encsr637xsc.varscore.logfc' , 'sign.jsd.mean': 'pred.chrombpnet.encsr637xsc.varscore.jsd' ,'abs_logfc_x_jsd_x_max_percentile.mean': 'pred.chrombpnet.encsr637xsc.varscore.ips', 'abs_logfc_x_jsd_x_max_percentile.mean.pval': 'pred.chrombpnet.encsr637xsc.varscore.ips.pval'}\n",
    "\n",
    "final = final.rename(columns=rename_dict)\n"
   ]
  },
  {
   "cell_type": "code",
   "execution_count": 12,
   "metadata": {},
   "outputs": [],
   "source": [
    "for key in rename_dict:\n",
    "    val = rename_dict[key]\n",
    "    if \"encsr637xsc\" in val:\n",
    "        val = val.replace(\"encsr637xsc.\", \"encsr000emt.\")\n",
    "        final[val] = scored_variants_dnase[key]\n",
    "    "
   ]
  },
  {
   "cell_type": "code",
   "execution_count": 13,
   "metadata": {},
   "outputs": [
    {
     "data": {
      "text/html": [
       "<div>\n",
       "<style scoped>\n",
       "    .dataframe tbody tr th:only-of-type {\n",
       "        vertical-align: middle;\n",
       "    }\n",
       "\n",
       "    .dataframe tbody tr th {\n",
       "        vertical-align: top;\n",
       "    }\n",
       "\n",
       "    .dataframe thead th {\n",
       "        text-align: right;\n",
       "    }\n",
       "</style>\n",
       "<table border=\"1\" class=\"dataframe\">\n",
       "  <thead>\n",
       "    <tr style=\"text-align: right;\">\n",
       "      <th></th>\n",
       "      <th>var.chr</th>\n",
       "      <th>var.pos_hg38</th>\n",
       "      <th>var.allele1</th>\n",
       "      <th>var.allele3</th>\n",
       "      <th>var.variant_id</th>\n",
       "      <th>pred.chrombpnet.encsr637xsc.varscore.logfc</th>\n",
       "      <th>pred.chrombpnet.encsr637xsc.varscore.jsd</th>\n",
       "      <th>pred.chrombpnet.encsr637xsc.varscore.ips</th>\n",
       "      <th>pred.chrombpnet.encsr637xsc.varscore.ips.pval</th>\n",
       "      <th>var.rsid</th>\n",
       "      <th>obs.traits</th>\n",
       "      <th>var.IDs</th>\n",
       "      <th>obs.maxPIP</th>\n",
       "      <th>pred.chrombpnet.encsr000emt.varscore.logfc</th>\n",
       "      <th>pred.chrombpnet.encsr000emt.varscore.jsd</th>\n",
       "      <th>pred.chrombpnet.encsr000emt.varscore.ips</th>\n",
       "      <th>pred.chrombpnet.encsr000emt.varscore.ips.pval</th>\n",
       "    </tr>\n",
       "  </thead>\n",
       "  <tbody>\n",
       "    <tr>\n",
       "      <th>0</th>\n",
       "      <td>chr1</td>\n",
       "      <td>10352</td>\n",
       "      <td>T</td>\n",
       "      <td>TA</td>\n",
       "      <td>rs150218945</td>\n",
       "      <td>-0.036835</td>\n",
       "      <td>-0.016749</td>\n",
       "      <td>0.000497</td>\n",
       "      <td>0.055084</td>\n",
       "      <td>NaN</td>\n",
       "      <td>NaN</td>\n",
       "      <td>NaN</td>\n",
       "      <td>NaN</td>\n",
       "      <td>0.004799</td>\n",
       "      <td>0.013399</td>\n",
       "      <td>0.000059</td>\n",
       "      <td>0.219019</td>\n",
       "    </tr>\n",
       "    <tr>\n",
       "      <th>1</th>\n",
       "      <td>chr1</td>\n",
       "      <td>11012</td>\n",
       "      <td>C</td>\n",
       "      <td>G</td>\n",
       "      <td>rs544419019</td>\n",
       "      <td>-0.010156</td>\n",
       "      <td>-0.022090</td>\n",
       "      <td>0.000218</td>\n",
       "      <td>0.116639</td>\n",
       "      <td>NaN</td>\n",
       "      <td>NaN</td>\n",
       "      <td>NaN</td>\n",
       "      <td>NaN</td>\n",
       "      <td>0.008337</td>\n",
       "      <td>0.031942</td>\n",
       "      <td>0.000489</td>\n",
       "      <td>0.061075</td>\n",
       "    </tr>\n",
       "    <tr>\n",
       "      <th>2</th>\n",
       "      <td>chr1</td>\n",
       "      <td>13110</td>\n",
       "      <td>G</td>\n",
       "      <td>A</td>\n",
       "      <td>rs540538026</td>\n",
       "      <td>-0.005588</td>\n",
       "      <td>-0.003792</td>\n",
       "      <td>0.000005</td>\n",
       "      <td>0.703089</td>\n",
       "      <td>NaN</td>\n",
       "      <td>NaN</td>\n",
       "      <td>NaN</td>\n",
       "      <td>NaN</td>\n",
       "      <td>-0.000662</td>\n",
       "      <td>-0.004676</td>\n",
       "      <td>0.000001</td>\n",
       "      <td>0.727699</td>\n",
       "    </tr>\n",
       "    <tr>\n",
       "      <th>3</th>\n",
       "      <td>chr1</td>\n",
       "      <td>13116</td>\n",
       "      <td>T</td>\n",
       "      <td>G</td>\n",
       "      <td>rs62635286</td>\n",
       "      <td>0.006778</td>\n",
       "      <td>0.005039</td>\n",
       "      <td>0.000011</td>\n",
       "      <td>0.649554</td>\n",
       "      <td>NaN</td>\n",
       "      <td>NaN</td>\n",
       "      <td>NaN</td>\n",
       "      <td>NaN</td>\n",
       "      <td>0.007013</td>\n",
       "      <td>0.005918</td>\n",
       "      <td>0.000002</td>\n",
       "      <td>0.620976</td>\n",
       "    </tr>\n",
       "    <tr>\n",
       "      <th>4</th>\n",
       "      <td>chr1</td>\n",
       "      <td>13118</td>\n",
       "      <td>A</td>\n",
       "      <td>G</td>\n",
       "      <td>rs200579949</td>\n",
       "      <td>0.028640</td>\n",
       "      <td>0.006264</td>\n",
       "      <td>0.000050</td>\n",
       "      <td>0.334598</td>\n",
       "      <td>NaN</td>\n",
       "      <td>NaN</td>\n",
       "      <td>NaN</td>\n",
       "      <td>NaN</td>\n",
       "      <td>0.013721</td>\n",
       "      <td>0.006579</td>\n",
       "      <td>0.000006</td>\n",
       "      <td>0.504230</td>\n",
       "    </tr>\n",
       "  </tbody>\n",
       "</table>\n",
       "</div>"
      ],
      "text/plain": [
       "  var.chr  var.pos_hg38 var.allele1 var.allele3 var.variant_id  \\\n",
       "0    chr1         10352           T          TA    rs150218945   \n",
       "1    chr1         11012           C           G    rs544419019   \n",
       "2    chr1         13110           G           A    rs540538026   \n",
       "3    chr1         13116           T           G     rs62635286   \n",
       "4    chr1         13118           A           G    rs200579949   \n",
       "\n",
       "   pred.chrombpnet.encsr637xsc.varscore.logfc  \\\n",
       "0                                   -0.036835   \n",
       "1                                   -0.010156   \n",
       "2                                   -0.005588   \n",
       "3                                    0.006778   \n",
       "4                                    0.028640   \n",
       "\n",
       "   pred.chrombpnet.encsr637xsc.varscore.jsd  \\\n",
       "0                                 -0.016749   \n",
       "1                                 -0.022090   \n",
       "2                                 -0.003792   \n",
       "3                                  0.005039   \n",
       "4                                  0.006264   \n",
       "\n",
       "   pred.chrombpnet.encsr637xsc.varscore.ips  \\\n",
       "0                                  0.000497   \n",
       "1                                  0.000218   \n",
       "2                                  0.000005   \n",
       "3                                  0.000011   \n",
       "4                                  0.000050   \n",
       "\n",
       "   pred.chrombpnet.encsr637xsc.varscore.ips.pval var.rsid obs.traits var.IDs  \\\n",
       "0                                       0.055084      NaN        NaN     NaN   \n",
       "1                                       0.116639      NaN        NaN     NaN   \n",
       "2                                       0.703089      NaN        NaN     NaN   \n",
       "3                                       0.649554      NaN        NaN     NaN   \n",
       "4                                       0.334598      NaN        NaN     NaN   \n",
       "\n",
       "   obs.maxPIP  pred.chrombpnet.encsr000emt.varscore.logfc  \\\n",
       "0         NaN                                    0.004799   \n",
       "1         NaN                                    0.008337   \n",
       "2         NaN                                   -0.000662   \n",
       "3         NaN                                    0.007013   \n",
       "4         NaN                                    0.013721   \n",
       "\n",
       "   pred.chrombpnet.encsr000emt.varscore.jsd  \\\n",
       "0                                  0.013399   \n",
       "1                                  0.031942   \n",
       "2                                 -0.004676   \n",
       "3                                  0.005918   \n",
       "4                                  0.006579   \n",
       "\n",
       "   pred.chrombpnet.encsr000emt.varscore.ips  \\\n",
       "0                                  0.000059   \n",
       "1                                  0.000489   \n",
       "2                                  0.000001   \n",
       "3                                  0.000002   \n",
       "4                                  0.000006   \n",
       "\n",
       "   pred.chrombpnet.encsr000emt.varscore.ips.pval  \n",
       "0                                       0.219019  \n",
       "1                                       0.061075  \n",
       "2                                       0.727699  \n",
       "3                                       0.620976  \n",
       "4                                       0.504230  "
      ]
     },
     "execution_count": 13,
     "metadata": {},
     "output_type": "execute_result"
    }
   ],
   "source": [
    "final.head()"
   ]
  },
  {
   "cell_type": "code",
   "execution_count": null,
   "metadata": {},
   "outputs": [],
   "source": []
  },
  {
   "cell_type": "code",
   "execution_count": 14,
   "metadata": {},
   "outputs": [
    {
     "data": {
      "text/plain": [
       "Index(['var.chr', 'var.pos_hg38', 'var.allele1', 'var.allele3',\n",
       "       'var.variant_id', 'pred.chrombpnet.encsr637xsc.varscore.logfc',\n",
       "       'pred.chrombpnet.encsr637xsc.varscore.jsd',\n",
       "       'pred.chrombpnet.encsr637xsc.varscore.ips',\n",
       "       'pred.chrombpnet.encsr637xsc.varscore.ips.pval', 'var.rsid',\n",
       "       'obs.traits', 'var.IDs', 'obs.maxPIP',\n",
       "       'pred.chrombpnet.encsr000emt.varscore.logfc',\n",
       "       'pred.chrombpnet.encsr000emt.varscore.jsd',\n",
       "       'pred.chrombpnet.encsr000emt.varscore.ips',\n",
       "       'pred.chrombpnet.encsr000emt.varscore.ips.pval'],\n",
       "      dtype='object')"
      ]
     },
     "execution_count": 14,
     "metadata": {},
     "output_type": "execute_result"
    }
   ],
   "source": [
    "final.columns"
   ]
  },
  {
   "cell_type": "code",
   "execution_count": 16,
   "metadata": {},
   "outputs": [],
   "source": [
    "final = final[['var.chr', 'var.pos_hg38', 'var.allele1', 'var.allele3', 'obs.maxPIP',\n",
    "        'pred.chrombpnet.encsr637xsc.varscore.logfc',\n",
    "       'pred.chrombpnet.encsr637xsc.varscore.jsd',\n",
    "       'pred.chrombpnet.encsr637xsc.varscore.ips',\n",
    "       'pred.chrombpnet.encsr637xsc.varscore.ips.pval', \n",
    "       'pred.chrombpnet.encsr000emt.varscore.logfc',\n",
    "       'pred.chrombpnet.encsr000emt.varscore.jsd',\n",
    "       'pred.chrombpnet.encsr000emt.varscore.ips',\n",
    "       'pred.chrombpnet.encsr000emt.varscore.ips.pval',\n",
    "        'var.rsid',\n",
    "       'obs.traits', 'var.IDs', 'var.variant_id', ]]"
   ]
  },
  {
   "cell_type": "code",
   "execution_count": 17,
   "metadata": {},
   "outputs": [
    {
     "name": "stderr",
     "output_type": "stream",
     "text": [
      "/users/anusri/anaconda3/lib/python3.7/site-packages/ipykernel_launcher.py:1: SettingWithCopyWarning: \n",
      "A value is trying to be set on a copy of a slice from a DataFrame.\n",
      "Try using .loc[row_indexer,col_indexer] = value instead\n",
      "\n",
      "See the caveats in the documentation: https://pandas.pydata.org/pandas-docs/stable/user_guide/indexing.html#returning-a-view-versus-a-copy\n",
      "  \"\"\"Entry point for launching an IPython kernel.\n"
     ]
    }
   ],
   "source": [
    "final[np.isnan(final['obs.maxPIP'])]['obs.maxPIP'] = 0"
   ]
  },
  {
   "cell_type": "code",
   "execution_count": 18,
   "metadata": {},
   "outputs": [
    {
     "data": {
      "text/html": [
       "<div>\n",
       "<style scoped>\n",
       "    .dataframe tbody tr th:only-of-type {\n",
       "        vertical-align: middle;\n",
       "    }\n",
       "\n",
       "    .dataframe tbody tr th {\n",
       "        vertical-align: top;\n",
       "    }\n",
       "\n",
       "    .dataframe thead th {\n",
       "        text-align: right;\n",
       "    }\n",
       "</style>\n",
       "<table border=\"1\" class=\"dataframe\">\n",
       "  <thead>\n",
       "    <tr style=\"text-align: right;\">\n",
       "      <th></th>\n",
       "      <th>var.chr</th>\n",
       "      <th>var.pos_hg38</th>\n",
       "      <th>var.allele1</th>\n",
       "      <th>var.allele3</th>\n",
       "      <th>obs.maxPIP</th>\n",
       "      <th>pred.chrombpnet.encsr637xsc.varscore.logfc</th>\n",
       "      <th>pred.chrombpnet.encsr637xsc.varscore.jsd</th>\n",
       "      <th>pred.chrombpnet.encsr637xsc.varscore.ips</th>\n",
       "      <th>pred.chrombpnet.encsr637xsc.varscore.ips.pval</th>\n",
       "      <th>pred.chrombpnet.encsr000emt.varscore.logfc</th>\n",
       "      <th>pred.chrombpnet.encsr000emt.varscore.jsd</th>\n",
       "      <th>pred.chrombpnet.encsr000emt.varscore.ips</th>\n",
       "      <th>pred.chrombpnet.encsr000emt.varscore.ips.pval</th>\n",
       "      <th>var.rsid</th>\n",
       "      <th>obs.traits</th>\n",
       "      <th>var.IDs</th>\n",
       "      <th>var.variant_id</th>\n",
       "    </tr>\n",
       "  </thead>\n",
       "  <tbody>\n",
       "    <tr>\n",
       "      <th>0</th>\n",
       "      <td>chr1</td>\n",
       "      <td>10352</td>\n",
       "      <td>T</td>\n",
       "      <td>TA</td>\n",
       "      <td>NaN</td>\n",
       "      <td>-0.036835</td>\n",
       "      <td>-0.016749</td>\n",
       "      <td>0.000497</td>\n",
       "      <td>0.055084</td>\n",
       "      <td>0.004799</td>\n",
       "      <td>0.013399</td>\n",
       "      <td>0.000059</td>\n",
       "      <td>0.219019</td>\n",
       "      <td>NaN</td>\n",
       "      <td>NaN</td>\n",
       "      <td>NaN</td>\n",
       "      <td>rs150218945</td>\n",
       "    </tr>\n",
       "  </tbody>\n",
       "</table>\n",
       "</div>"
      ],
      "text/plain": [
       "  var.chr  var.pos_hg38 var.allele1 var.allele3  obs.maxPIP  \\\n",
       "0    chr1         10352           T          TA         NaN   \n",
       "\n",
       "   pred.chrombpnet.encsr637xsc.varscore.logfc  \\\n",
       "0                                   -0.036835   \n",
       "\n",
       "   pred.chrombpnet.encsr637xsc.varscore.jsd  \\\n",
       "0                                 -0.016749   \n",
       "\n",
       "   pred.chrombpnet.encsr637xsc.varscore.ips  \\\n",
       "0                                  0.000497   \n",
       "\n",
       "   pred.chrombpnet.encsr637xsc.varscore.ips.pval  \\\n",
       "0                                       0.055084   \n",
       "\n",
       "   pred.chrombpnet.encsr000emt.varscore.logfc  \\\n",
       "0                                    0.004799   \n",
       "\n",
       "   pred.chrombpnet.encsr000emt.varscore.jsd  \\\n",
       "0                                  0.013399   \n",
       "\n",
       "   pred.chrombpnet.encsr000emt.varscore.ips  \\\n",
       "0                                  0.000059   \n",
       "\n",
       "   pred.chrombpnet.encsr000emt.varscore.ips.pval var.rsid obs.traits var.IDs  \\\n",
       "0                                       0.219019      NaN        NaN     NaN   \n",
       "\n",
       "  var.variant_id  \n",
       "0    rs150218945  "
      ]
     },
     "execution_count": 18,
     "metadata": {},
     "output_type": "execute_result"
    }
   ],
   "source": [
    "final.head(1)"
   ]
  },
  {
   "cell_type": "code",
   "execution_count": 19,
   "metadata": {},
   "outputs": [],
   "source": [
    "final.to_csv(\"full_variants/blood.traits.gwas.benchmarking.all.tsv\", sep=\"\\t\", header=True, index=False)\n",
    "final.to_csv(\"filtered_variants/blood.traits.gwas.benchmarking.all.tsv\", sep=\"\\t\", header=True, index=False)"
   ]
  },
  {
   "cell_type": "code",
   "execution_count": 20,
   "metadata": {},
   "outputs": [
    {
     "data": {
      "text/plain": [
       "(11916124, 17)"
      ]
     },
     "execution_count": 20,
     "metadata": {},
     "output_type": "execute_result"
    }
   ],
   "source": [
    "final.shape"
   ]
  },
  {
   "cell_type": "code",
   "execution_count": 21,
   "metadata": {},
   "outputs": [
    {
     "data": {
      "text/plain": [
       "11903173"
      ]
     },
     "execution_count": 21,
     "metadata": {},
     "output_type": "execute_result"
    }
   ],
   "source": [
    "11916124-12951"
   ]
  },
  {
   "cell_type": "code",
   "execution_count": 22,
   "metadata": {},
   "outputs": [],
   "source": [
    "readme_data = {'var.chr' : \"Chromosome of the variant (GRCh38)\", \n",
    "        'var.pos_hg38': \"Position of the variant (GRCh38, 1-based)\",\n",
    "        'var.allele1': \"Allele1 for the variant\", \n",
    "        'var.allele2': \"Allele2 for the variant\",        \n",
    "       'obs.maxPIP': \"max PIP across the three blood traits - MCV, MCH, MCHC\", \n",
    "        'pred.chrombpnet.xxx.varscore.logfc': \"ChromBPNet logFC predictions in encid xxx\",\n",
    "       'pred.chrombpnet.xxx.varscore.jsd':  \"ChromBPNet JSD predictions in encid xxx\", \n",
    "       'pred.chrombpnet.xxx.varscore.ips': \"ChromBPNet IPS predictions in encid xxx\",\n",
    "       'pred.chrombpnet.xxx.varscore.ips.pval': \"p-value significance of the ChromBPNet IES predictions in encid xxx\",\n",
    "    'obs.traits': \"Traits associated with the variant\",\n",
    "    'var.variant_id': \"dbSNP rsid identifier\",\n",
    "    'var.rsid': \"Variant identifier\",\n",
    "    'var.IDs': \"NA\"\n",
    " }\n",
    "\n"
   ]
  },
  {
   "cell_type": "code",
   "execution_count": 23,
   "metadata": {},
   "outputs": [
    {
     "name": "stdout",
     "output_type": "stream",
     "text": [
      "var.chr\n",
      "var.pos_hg38\n",
      "var.allele1\n",
      "var.allele2\n",
      "obs.maxPIP\n",
      "pred.chrombpnet.xxx.varscore.logfc\n",
      "pred.chrombpnet.xxx.varscore.jsd\n",
      "pred.chrombpnet.xxx.varscore.ips\n",
      "pred.chrombpnet.xxx.varscore.ips.pval\n",
      "obs.traits\n",
      "var.variant_id\n",
      "var.rsid\n",
      "var.IDs\n"
     ]
    }
   ],
   "source": [
    "f = open(\"full_variants/blood.traits.gwas.benchmarking.all.README\", \"w\")\n",
    "f.write(\"# TSV Field Header Descriptions \\n \\n\")\n",
    "for val in readme_data:\n",
    "    print(val)\n",
    "    f.write(val+\" : \"+readme_data[val]+\"\\n\")\n",
    "f.write(\"\\n\")\n",
    "f.write(\"# Experiment-Specific Headers and IDs  \\n\")\n",
    "f.close()"
   ]
  },
  {
   "cell_type": "code",
   "execution_count": null,
   "metadata": {},
   "outputs": [],
   "source": []
  },
  {
   "cell_type": "code",
   "execution_count": null,
   "metadata": {},
   "outputs": [],
   "source": []
  },
  {
   "cell_type": "code",
   "execution_count": null,
   "metadata": {},
   "outputs": [],
   "source": []
  },
  {
   "cell_type": "code",
   "execution_count": null,
   "metadata": {},
   "outputs": [],
   "source": []
  },
  {
   "cell_type": "code",
   "execution_count": null,
   "metadata": {},
   "outputs": [],
   "source": []
  },
  {
   "cell_type": "code",
   "execution_count": null,
   "metadata": {},
   "outputs": [],
   "source": []
  },
  {
   "cell_type": "code",
   "execution_count": null,
   "metadata": {},
   "outputs": [],
   "source": []
  },
  {
   "cell_type": "code",
   "execution_count": null,
   "metadata": {},
   "outputs": [],
   "source": []
  },
  {
   "cell_type": "code",
   "execution_count": null,
   "metadata": {},
   "outputs": [],
   "source": []
  },
  {
   "cell_type": "code",
   "execution_count": null,
   "metadata": {},
   "outputs": [],
   "source": []
  },
  {
   "cell_type": "code",
   "execution_count": null,
   "metadata": {},
   "outputs": [],
   "source": []
  },
  {
   "cell_type": "code",
   "execution_count": null,
   "metadata": {},
   "outputs": [],
   "source": []
  },
  {
   "cell_type": "code",
   "execution_count": null,
   "metadata": {},
   "outputs": [],
   "source": []
  },
  {
   "cell_type": "code",
   "execution_count": null,
   "metadata": {},
   "outputs": [],
   "source": []
  },
  {
   "cell_type": "code",
   "execution_count": null,
   "metadata": {},
   "outputs": [],
   "source": []
  },
  {
   "cell_type": "code",
   "execution_count": null,
   "metadata": {},
   "outputs": [],
   "source": []
  },
  {
   "cell_type": "code",
   "execution_count": null,
   "metadata": {},
   "outputs": [],
   "source": []
  },
  {
   "cell_type": "code",
   "execution_count": null,
   "metadata": {},
   "outputs": [],
   "source": []
  },
  {
   "cell_type": "code",
   "execution_count": null,
   "metadata": {},
   "outputs": [],
   "source": [
    "\n"
   ]
  },
  {
   "cell_type": "code",
   "execution_count": null,
   "metadata": {},
   "outputs": [],
   "source": []
  },
  {
   "cell_type": "code",
   "execution_count": null,
   "metadata": {},
   "outputs": [],
   "source": []
  },
  {
   "cell_type": "code",
   "execution_count": null,
   "metadata": {},
   "outputs": [],
   "source": []
  },
  {
   "cell_type": "code",
   "execution_count": null,
   "metadata": {},
   "outputs": [],
   "source": []
  },
  {
   "cell_type": "code",
   "execution_count": null,
   "metadata": {},
   "outputs": [],
   "source": []
  },
  {
   "cell_type": "code",
   "execution_count": null,
   "metadata": {},
   "outputs": [],
   "source": []
  },
  {
   "cell_type": "code",
   "execution_count": null,
   "metadata": {},
   "outputs": [],
   "source": []
  },
  {
   "cell_type": "code",
   "execution_count": null,
   "metadata": {},
   "outputs": [],
   "source": []
  },
  {
   "cell_type": "code",
   "execution_count": null,
   "metadata": {},
   "outputs": [],
   "source": []
  },
  {
   "cell_type": "code",
   "execution_count": null,
   "metadata": {},
   "outputs": [],
   "source": []
  },
  {
   "cell_type": "code",
   "execution_count": null,
   "metadata": {},
   "outputs": [],
   "source": []
  }
 ],
 "metadata": {
  "kernelspec": {
   "display_name": "Python 3",
   "language": "python",
   "name": "python3"
  },
  "language_info": {
   "codemirror_mode": {
    "name": "ipython",
    "version": 3
   },
   "file_extension": ".py",
   "mimetype": "text/x-python",
   "name": "python",
   "nbconvert_exporter": "python",
   "pygments_lexer": "ipython3",
   "version": "3.7.6"
  }
 },
 "nbformat": 4,
 "nbformat_minor": 4
}
