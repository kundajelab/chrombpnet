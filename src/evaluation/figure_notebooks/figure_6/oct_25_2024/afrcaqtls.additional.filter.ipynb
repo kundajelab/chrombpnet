{
 "cells": [
  {
   "cell_type": "code",
   "execution_count": 1,
   "metadata": {},
   "outputs": [],
   "source": [
    "import pandas as pd\n",
    "import numpy as np"
   ]
  },
  {
   "cell_type": "code",
   "execution_count": 3,
   "metadata": {},
   "outputs": [],
   "source": [
    "datafn = pd.read_csv(\"full_variants/caqtls.african.lcls.benchmarking.all.tsv\", sep=\"\\t\", header=0)\n"
   ]
  },
  {
   "cell_type": "code",
   "execution_count": 5,
   "metadata": {},
   "outputs": [],
   "source": [
    "#np.log10(9.94985e-06)\n",
    "#9.94985e-06"
   ]
  },
  {
   "cell_type": "code",
   "execution_count": 6,
   "metadata": {},
   "outputs": [
    {
     "name": "stderr",
     "output_type": "stream",
     "text": [
      "/users/anusri/anaconda3/lib/python3.7/site-packages/ipykernel_launcher.py:5: SettingWithCopyWarning: \n",
      "A value is trying to be set on a copy of a slice from a DataFrame.\n",
      "Try using .loc[row_indexer,col_indexer] = value instead\n",
      "\n",
      "See the caveats in the documentation: https://pandas.pydata.org/pandas-docs/stable/user_guide/indexing.html#returning-a-view-versus-a-copy\n",
      "  \"\"\"\n"
     ]
    }
   ],
   "source": [
    "datafn[\"log10p\"] = np.log10(datafn[\"obs.pval\"])*-1\n",
    "threshold=5\n",
    "\n",
    "dataf1 = datafn[datafn[\"log10p\"]>threshold]\n",
    "dataf1[\"pos0\"] = dataf1[\"var.pos_hg38\"] - 1\n",
    "peaks_var = dataf1[[\"var.chr\", \"pos0\", \"var.pos_hg38\"]].reset_index(drop=True)\n",
    "#dataf1\n",
    "\n"
   ]
  },
  {
   "cell_type": "code",
   "execution_count": 7,
   "metadata": {},
   "outputs": [],
   "source": [
    "import pybedtools\n",
    "peaks_data_merged=pd.read_csv(\"/mnt/lab_data2/anusri/chromatin-atlas-anvil/data/afgr_data/peak_files/merged.peaks.af.top.50k.bed\", sep=\"\\t\", header=None)\n",
    "#print(peaks_data_merged.head())\n",
    "beds_var = pybedtools.BedTool.from_dataframe(peaks_var)\n",
    "\n",
    "dataf1 = pybedtools.BedTool.from_dataframe(dataf1)\n",
    "peak_bed = pybedtools.BedTool.from_dataframe(peaks_data_merged) # this is a merged peaks file\n",
    "peaks_invar = peak_bed.intersect(beds_var, c=True)"
   ]
  },
  {
   "cell_type": "code",
   "execution_count": 8,
   "metadata": {},
   "outputs": [],
   "source": [
    "peaks_invar = peaks_invar.to_dataframe()"
   ]
  },
  {
   "cell_type": "code",
   "execution_count": 9,
   "metadata": {},
   "outputs": [],
   "source": [
    "peaks_invar = peaks_invar[peaks_invar[\"name\"]>0]"
   ]
  },
  {
   "cell_type": "code",
   "execution_count": 10,
   "metadata": {},
   "outputs": [],
   "source": [
    "datafn[\"pos0\"] = datafn[\"var.pos_hg38\"] - 1\n",
    "all_var = datafn[[\"var.chr\", \"pos0\", \"var.pos_hg38\"]].reset_index(drop=True)\n",
    "beds_var = pybedtools.BedTool.from_dataframe(all_var)\n",
    "peaks_invar = pybedtools.BedTool.from_dataframe(peaks_invar)\n",
    "var_inpeaks = beds_var.intersect(peaks_invar, c=True)"
   ]
  },
  {
   "cell_type": "code",
   "execution_count": 11,
   "metadata": {},
   "outputs": [],
   "source": [
    "var_inpeaks = var_inpeaks.to_dataframe()"
   ]
  },
  {
   "cell_type": "code",
   "execution_count": 12,
   "metadata": {},
   "outputs": [
    {
     "data": {
      "text/plain": [
       "(219382, 4)"
      ]
     },
     "execution_count": 12,
     "metadata": {},
     "output_type": "execute_result"
    }
   ],
   "source": [
    "var_inpeaks.shape"
   ]
  },
  {
   "cell_type": "code",
   "execution_count": 13,
   "metadata": {},
   "outputs": [],
   "source": [
    "datafn[\"sigpeaks\"] = var_inpeaks[\"name\"]>0"
   ]
  },
  {
   "cell_type": "code",
   "execution_count": 14,
   "metadata": {},
   "outputs": [
    {
     "data": {
      "text/html": [
       "<div>\n",
       "<style scoped>\n",
       "    .dataframe tbody tr th:only-of-type {\n",
       "        vertical-align: middle;\n",
       "    }\n",
       "\n",
       "    .dataframe tbody tr th {\n",
       "        vertical-align: top;\n",
       "    }\n",
       "\n",
       "    .dataframe thead th {\n",
       "        text-align: right;\n",
       "    }\n",
       "</style>\n",
       "<table border=\"1\" class=\"dataframe\">\n",
       "  <thead>\n",
       "    <tr style=\"text-align: right;\">\n",
       "      <th></th>\n",
       "      <th>var.chr</th>\n",
       "      <th>var.pos_hg38</th>\n",
       "      <th>var.allele1</th>\n",
       "      <th>var.allele2</th>\n",
       "      <th>var.isused</th>\n",
       "      <th>obs.pval</th>\n",
       "      <th>obs.beta</th>\n",
       "      <th>obs.label</th>\n",
       "      <th>pred.enformer.encsr000emt.variantscore.global_sad</th>\n",
       "      <th>pred.enformer.encsr000emt.variantscore.global_sar</th>\n",
       "      <th>...</th>\n",
       "      <th>var.snp_id</th>\n",
       "      <th>var.region</th>\n",
       "      <th>var.snp</th>\n",
       "      <th>var.dbsnp_rsid</th>\n",
       "      <th>obs.distance</th>\n",
       "      <th>obs.se</th>\n",
       "      <th>obs.abs_beta</th>\n",
       "      <th>log10p</th>\n",
       "      <th>pos0</th>\n",
       "      <th>sigpeaks</th>\n",
       "    </tr>\n",
       "  </thead>\n",
       "  <tbody>\n",
       "    <tr>\n",
       "      <th>0</th>\n",
       "      <td>chr1</td>\n",
       "      <td>866281</td>\n",
       "      <td>C</td>\n",
       "      <td>T</td>\n",
       "      <td>False</td>\n",
       "      <td>0.97428</td>\n",
       "      <td>0.006546</td>\n",
       "      <td>False</td>\n",
       "      <td>0.000051</td>\n",
       "      <td>0.000068</td>\n",
       "      <td>...</td>\n",
       "      <td>1_866281_C_T</td>\n",
       "      <td>1:866099:866351</td>\n",
       "      <td>1_866281_C_T</td>\n",
       "      <td>rs12132974</td>\n",
       "      <td>181</td>\n",
       "      <td>0.202449</td>\n",
       "      <td>0.006546</td>\n",
       "      <td>0.011316</td>\n",
       "      <td>866280</td>\n",
       "      <td>False</td>\n",
       "    </tr>\n",
       "  </tbody>\n",
       "</table>\n",
       "<p>1 rows × 42 columns</p>\n",
       "</div>"
      ],
      "text/plain": [
       "  var.chr  var.pos_hg38 var.allele1 var.allele2  var.isused  obs.pval  \\\n",
       "0    chr1        866281           C           T       False   0.97428   \n",
       "\n",
       "   obs.beta  obs.label  pred.enformer.encsr000emt.variantscore.global_sad  \\\n",
       "0  0.006546      False                                           0.000051   \n",
       "\n",
       "   pred.enformer.encsr000emt.variantscore.global_sar  ...    var.snp_id  \\\n",
       "0                                           0.000068  ...  1_866281_C_T   \n",
       "\n",
       "        var.region       var.snp  var.dbsnp_rsid  obs.distance    obs.se  \\\n",
       "0  1:866099:866351  1_866281_C_T      rs12132974           181  0.202449   \n",
       "\n",
       "   obs.abs_beta    log10p    pos0  sigpeaks  \n",
       "0      0.006546  0.011316  866280     False  \n",
       "\n",
       "[1 rows x 42 columns]"
      ]
     },
     "execution_count": 14,
     "metadata": {},
     "output_type": "execute_result"
    }
   ],
   "source": [
    "datafn.head(1)"
   ]
  },
  {
   "cell_type": "code",
   "execution_count": 15,
   "metadata": {},
   "outputs": [
    {
     "data": {
      "text/plain": [
       "(3440, 42)"
      ]
     },
     "execution_count": 15,
     "metadata": {},
     "output_type": "execute_result"
    }
   ],
   "source": [
    "datafn[(datafn[\"log10p\"]<3) & (datafn[\"sigpeaks\"])].shape"
   ]
  },
  {
   "cell_type": "code",
   "execution_count": 16,
   "metadata": {},
   "outputs": [
    {
     "data": {
      "text/plain": [
       "2827"
      ]
     },
     "execution_count": 16,
     "metadata": {},
     "output_type": "execute_result"
    }
   ],
   "source": [
    "sum(datafn[(datafn[\"log10p\"]<3) & (datafn[\"sigpeaks\"])][\"var.isused\"])"
   ]
  },
  {
   "cell_type": "code",
   "execution_count": 17,
   "metadata": {},
   "outputs": [
    {
     "data": {
      "text/plain": [
       "59         True\n",
       "64         True\n",
       "65        False\n",
       "68         True\n",
       "125        True\n",
       "          ...  \n",
       "218887     True\n",
       "218888     True\n",
       "218889     True\n",
       "219028     True\n",
       "219132     True\n",
       "Name: var.isused, Length: 3440, dtype: bool"
      ]
     },
     "execution_count": 17,
     "metadata": {},
     "output_type": "execute_result"
    }
   ],
   "source": [
    "datafn[(datafn[\"log10p\"]<3) & (datafn[\"sigpeaks\"])][\"var.isused\"]"
   ]
  },
  {
   "cell_type": "code",
   "execution_count": 18,
   "metadata": {},
   "outputs": [],
   "source": [
    "datafn.loc[(datafn[\"log10p\"]<3) & (datafn[\"sigpeaks\"]),\"var.isused\"] = False"
   ]
  },
  {
   "cell_type": "code",
   "execution_count": 19,
   "metadata": {},
   "outputs": [
    {
     "data": {
      "text/plain": [
       "59        False\n",
       "64        False\n",
       "65        False\n",
       "68        False\n",
       "125       False\n",
       "          ...  \n",
       "218887    False\n",
       "218888    False\n",
       "218889    False\n",
       "219028    False\n",
       "219132    False\n",
       "Name: var.isused, Length: 3440, dtype: bool"
      ]
     },
     "execution_count": 19,
     "metadata": {},
     "output_type": "execute_result"
    }
   ],
   "source": [
    "datafn[(datafn[\"log10p\"]<3) & (datafn[\"sigpeaks\"])][\"var.isused\"]"
   ]
  },
  {
   "cell_type": "code",
   "execution_count": 20,
   "metadata": {},
   "outputs": [
    {
     "data": {
      "text/html": [
       "<div>\n",
       "<style scoped>\n",
       "    .dataframe tbody tr th:only-of-type {\n",
       "        vertical-align: middle;\n",
       "    }\n",
       "\n",
       "    .dataframe tbody tr th {\n",
       "        vertical-align: top;\n",
       "    }\n",
       "\n",
       "    .dataframe thead th {\n",
       "        text-align: right;\n",
       "    }\n",
       "</style>\n",
       "<table border=\"1\" class=\"dataframe\">\n",
       "  <thead>\n",
       "    <tr style=\"text-align: right;\">\n",
       "      <th></th>\n",
       "      <th>var.chr</th>\n",
       "      <th>var.pos_hg38</th>\n",
       "      <th>var.allele1</th>\n",
       "      <th>var.allele2</th>\n",
       "      <th>var.isused</th>\n",
       "      <th>obs.pval</th>\n",
       "      <th>obs.beta</th>\n",
       "      <th>obs.label</th>\n",
       "      <th>pred.enformer.encsr000emt.variantscore.global_sad</th>\n",
       "      <th>pred.enformer.encsr000emt.variantscore.global_sar</th>\n",
       "      <th>...</th>\n",
       "      <th>var.snp_id</th>\n",
       "      <th>var.region</th>\n",
       "      <th>var.snp</th>\n",
       "      <th>var.dbsnp_rsid</th>\n",
       "      <th>obs.distance</th>\n",
       "      <th>obs.se</th>\n",
       "      <th>obs.abs_beta</th>\n",
       "      <th>log10p</th>\n",
       "      <th>pos0</th>\n",
       "      <th>sigpeaks</th>\n",
       "    </tr>\n",
       "  </thead>\n",
       "  <tbody>\n",
       "    <tr>\n",
       "      <th>0</th>\n",
       "      <td>chr1</td>\n",
       "      <td>866281</td>\n",
       "      <td>C</td>\n",
       "      <td>T</td>\n",
       "      <td>False</td>\n",
       "      <td>0.97428</td>\n",
       "      <td>0.006546</td>\n",
       "      <td>False</td>\n",
       "      <td>0.000051</td>\n",
       "      <td>0.000068</td>\n",
       "      <td>...</td>\n",
       "      <td>1_866281_C_T</td>\n",
       "      <td>1:866099:866351</td>\n",
       "      <td>1_866281_C_T</td>\n",
       "      <td>rs12132974</td>\n",
       "      <td>181</td>\n",
       "      <td>0.202449</td>\n",
       "      <td>0.006546</td>\n",
       "      <td>0.011316</td>\n",
       "      <td>866280</td>\n",
       "      <td>False</td>\n",
       "    </tr>\n",
       "  </tbody>\n",
       "</table>\n",
       "<p>1 rows × 42 columns</p>\n",
       "</div>"
      ],
      "text/plain": [
       "  var.chr  var.pos_hg38 var.allele1 var.allele2  var.isused  obs.pval  \\\n",
       "0    chr1        866281           C           T       False   0.97428   \n",
       "\n",
       "   obs.beta  obs.label  pred.enformer.encsr000emt.variantscore.global_sad  \\\n",
       "0  0.006546      False                                           0.000051   \n",
       "\n",
       "   pred.enformer.encsr000emt.variantscore.global_sar  ...    var.snp_id  \\\n",
       "0                                           0.000068  ...  1_866281_C_T   \n",
       "\n",
       "        var.region       var.snp  var.dbsnp_rsid  obs.distance    obs.se  \\\n",
       "0  1:866099:866351  1_866281_C_T      rs12132974           181  0.202449   \n",
       "\n",
       "   obs.abs_beta    log10p    pos0  sigpeaks  \n",
       "0      0.006546  0.011316  866280     False  \n",
       "\n",
       "[1 rows x 42 columns]"
      ]
     },
     "execution_count": 20,
     "metadata": {},
     "output_type": "execute_result"
    }
   ],
   "source": [
    "datafn.head(1)"
   ]
  },
  {
   "cell_type": "code",
   "execution_count": 21,
   "metadata": {},
   "outputs": [
    {
     "data": {
      "text/plain": [
       "(219382, 42)"
      ]
     },
     "execution_count": 21,
     "metadata": {},
     "output_type": "execute_result"
    }
   ],
   "source": [
    "datafn.shape"
   ]
  },
  {
   "cell_type": "code",
   "execution_count": 22,
   "metadata": {},
   "outputs": [],
   "source": [
    "datafn.to_csv(\"full_variants/caqtls.african.lcls.benchmarking.all.addfilter.tsv\", sep=\"\\t\", header=True, index=False)"
   ]
  },
  {
   "cell_type": "code",
   "execution_count": null,
   "metadata": {},
   "outputs": [],
   "source": []
  }
 ],
 "metadata": {
  "kernelspec": {
   "display_name": "Python 3",
   "language": "python",
   "name": "python3"
  },
  "language_info": {
   "codemirror_mode": {
    "name": "ipython",
    "version": 3
   },
   "file_extension": ".py",
   "mimetype": "text/x-python",
   "name": "python",
   "nbconvert_exporter": "python",
   "pygments_lexer": "ipython3",
   "version": "3.7.6"
  }
 },
 "nbformat": 4,
 "nbformat_minor": 4
}
