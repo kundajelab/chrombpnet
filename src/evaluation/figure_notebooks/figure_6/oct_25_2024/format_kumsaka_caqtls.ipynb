{
 "cells": [
  {
   "cell_type": "code",
   "execution_count": 1,
   "metadata": {},
   "outputs": [],
   "source": [
    "import pandas as pd"
   ]
  },
  {
   "cell_type": "code",
   "execution_count": 2,
   "metadata": {},
   "outputs": [],
   "source": [
    "import pandas as pd\n",
    "\n",
    "# data_sus = pd.read_csv(\"/mnt/lab_data2/anusri/kumasaka/new_download/Kumasaka_2018_wgs/sumstats/QTD100018.all.tsv.gz\", header=0, sep='\\t')"
   ]
  },
  {
   "cell_type": "code",
   "execution_count": 3,
   "metadata": {},
   "outputs": [],
   "source": [
    "# data_sus.head()"
   ]
  },
  {
   "cell_type": "code",
   "execution_count": 4,
   "metadata": {},
   "outputs": [],
   "source": [
    "# data_sus[\"position0\"] = data_sus[\"position\"] - 1"
   ]
  },
  {
   "cell_type": "code",
   "execution_count": 5,
   "metadata": {},
   "outputs": [],
   "source": [
    "# data_sus = data_sus[['chromosome', 'position0', 'position', 'ref', 'alt', 'variant',\n",
    "#        'ma_samples', 'maf', 'pvalue', 'beta', 'se', 'type', 'ac', 'an', 'r2',\n",
    "#        'molecular_trait_object_id', 'gene_id', 'median_tpm', 'rsid',\n",
    "#        'molecular_trait_id']]"
   ]
  },
  {
   "cell_type": "code",
   "execution_count": 6,
   "metadata": {},
   "outputs": [],
   "source": [
    "# peaks_data=pd.read_csv(\"/mnt/lab_data2/anusri/kumasaka/new_download/peak_metadata/QTD100018_peak_metadata.tsv.gz\", sep=\"\\t\", header=0)\n",
    "# print(peaks_data.head())\n",
    "# peaks_data = peaks_data[[\"chromosome\", \"gene_start\", \"gene_end\", \"phenotype_pos\", \"phenotype_id\"]]\n",
    "# peaks_data[\"chromosome\"] = \"chr\"+peaks_data[\"chromosome\"] .astype(str)\n",
    "# peaks_data[\"center\"]  =  ((peaks_data[\"gene_start\"] + peaks_data[\"gene_end\"])/2).astype(int)\n",
    "# # peaks_data[\"start\"] = peaks_data[\"center\"] - 100\n",
    "# # peaks_data[\"end\"] = peaks_data[\"center\"] + 100\n",
    "# peaks_data = peaks_data[['chromosome', 'gene_start', 'gene_end', \"phenotype_id\"]]"
   ]
  },
  {
   "cell_type": "code",
   "execution_count": 7,
   "metadata": {},
   "outputs": [],
   "source": [
    "# merged_dataframe = data_sus.merge(peaks_data, right_on=['phenotype_id'], left_on=[\"molecular_trait_id\"], how='left')\n"
   ]
  },
  {
   "cell_type": "code",
   "execution_count": 8,
   "metadata": {},
   "outputs": [],
   "source": [
    "# merged_dataframe_n = merged_dataframe[((merged_dataframe[\"position\"].astype(int) >= merged_dataframe[\"gene_start\"].astype(int)) & (merged_dataframe[\"position\"].astype(int) <= merged_dataframe[\"gene_end\"].astype(int)))]\n"
   ]
  },
  {
   "cell_type": "code",
   "execution_count": 9,
   "metadata": {},
   "outputs": [],
   "source": [
    "# merged_dataframe_n1 = merged_dataframe_n[merged_dataframe_n[\"ref\"].str.len()==1]\n",
    "# merged_dataframe_n1 = merged_dataframe_n1[merged_dataframe_n1[\"alt\"].str.len()==1]"
   ]
  },
  {
   "cell_type": "code",
   "execution_count": 10,
   "metadata": {},
   "outputs": [],
   "source": [
    "# merged_dataframe_n1.columns\n",
    "# Index(['chromosome_x', 'position0', 'position', 'ref', 'alt', 'variant',\n",
    "#        'ma_samples', 'maf', 'pvalue', 'beta', 'se', 'type', 'ac', 'an', 'r2',\n",
    "#        'molecular_trait_object_id', 'gene_id', 'median_tpm', 'rsid',\n",
    "#        'molecular_trait_id', 'chromosome_y', 'gene_start', 'gene_end',\n",
    "#        'phenotype_id'],\n",
    "#       dtype='object')"
   ]
  },
  {
   "cell_type": "code",
   "execution_count": 11,
   "metadata": {},
   "outputs": [],
   "source": [
    "# merged_dataframe_n1.shape\n",
    "# (843015, 24)"
   ]
  },
  {
   "cell_type": "code",
   "execution_count": 12,
   "metadata": {},
   "outputs": [],
   "source": [
    "#merged_dataframe_n1.to_csv(\"local.eu.effects_checkpoint.tsv\",sep=\"\\t\", index=False, header=True)"
   ]
  },
  {
   "cell_type": "code",
   "execution_count": 13,
   "metadata": {},
   "outputs": [],
   "source": [
    "merged_dataframe_n1 = pd.read_csv(\"local.eu.effects_checkpoint.tsv\",sep=\"\\t\")"
   ]
  },
  {
   "cell_type": "code",
   "execution_count": 14,
   "metadata": {},
   "outputs": [
    {
     "data": {
      "text/plain": [
       "Index(['chromosome_x', 'position0', 'position', 'ref', 'alt', 'variant',\n",
       "       'ma_samples', 'maf', 'pvalue', 'beta', 'se', 'type', 'ac', 'an', 'r2',\n",
       "       'molecular_trait_object_id', 'gene_id', 'median_tpm', 'rsid',\n",
       "       'molecular_trait_id', 'chromosome_y', 'gene_start', 'gene_end',\n",
       "       'phenotype_id'],\n",
       "      dtype='object')"
      ]
     },
     "execution_count": 14,
     "metadata": {},
     "output_type": "execute_result"
    }
   ],
   "source": [
    "merged_dataframe_n1.columns"
   ]
  },
  {
   "cell_type": "code",
   "execution_count": 15,
   "metadata": {},
   "outputs": [
    {
     "data": {
      "text/plain": [
       "(843015, 24)"
      ]
     },
     "execution_count": 15,
     "metadata": {},
     "output_type": "execute_result"
    }
   ],
   "source": [
    "merged_dataframe_n1.shape"
   ]
  },
  {
   "cell_type": "code",
   "execution_count": 16,
   "metadata": {},
   "outputs": [],
   "source": [
    "merged_dataframe_n2 = merged_dataframe_n1[['chromosome_x', 'position0', 'position', 'ref', 'alt', 'molecular_trait_id',\n",
    "       'variant', 'ma_samples', 'maf', 'pvalue', 'beta', 'se', 'type', 'ac',\n",
    "       'an', 'r2', 'molecular_trait_object_id', 'gene_id', 'median_tpm',\n",
    "       'rsid',  'gene_start', 'gene_end',\n",
    "       'phenotype_id']]"
   ]
  },
  {
   "cell_type": "code",
   "execution_count": 17,
   "metadata": {},
   "outputs": [
    {
     "name": "stderr",
     "output_type": "stream",
     "text": [
      "/users/anusri/anaconda3/lib/python3.7/site-packages/ipykernel_launcher.py:1: SettingWithCopyWarning: \n",
      "A value is trying to be set on a copy of a slice from a DataFrame.\n",
      "Try using .loc[row_indexer,col_indexer] = value instead\n",
      "\n",
      "See the caveats in the documentation: https://pandas.pydata.org/pandas-docs/stable/user_guide/indexing.html#returning-a-view-versus-a-copy\n",
      "  \"\"\"Entry point for launching an IPython kernel.\n"
     ]
    }
   ],
   "source": [
    "merged_dataframe_n2['chromosome_x'] = \"chr\"+merged_dataframe_n2['chromosome_x'].astype(str)"
   ]
  },
  {
   "cell_type": "code",
   "execution_count": 18,
   "metadata": {},
   "outputs": [
    {
     "data": {
      "text/plain": [
       "(843015, 23)"
      ]
     },
     "execution_count": 18,
     "metadata": {},
     "output_type": "execute_result"
    }
   ],
   "source": [
    "merged_dataframe_n2.shape"
   ]
  },
  {
   "cell_type": "code",
   "execution_count": 19,
   "metadata": {},
   "outputs": [
    {
     "name": "stdout",
     "output_type": "stream",
     "text": [
      "      0       1       2\n",
      "0  chr1   10024   10432\n",
      "1  chr1   29074   29455\n",
      "2  chr1  181106  181306\n",
      "3  chr1  183652  184006\n",
      "4  chr1  186816  187016\n"
     ]
    }
   ],
   "source": [
    "import pybedtools\n",
    "peaks_data_merged=pd.read_csv(\"/mnt/lab_data2/anusri/kumasaka/new_download/Kumasaka_2018_wgs/sumstats/merged.peaks.eu.top.50k.bed\", sep=\"\\t\", header=None)\n",
    "print(peaks_data_merged.head())\n",
    "beds_var = pybedtools.BedTool.from_dataframe(merged_dataframe_n2)\n",
    "peak_bed = pybedtools.BedTool.from_dataframe(peaks_data_merged) # this is a merged peaks file\n",
    "vars_in_bed = beds_var.intersect(peak_bed, c=True)"
   ]
  },
  {
   "cell_type": "code",
   "execution_count": 20,
   "metadata": {},
   "outputs": [],
   "source": [
    "vars_in_bedn = vars_in_bed.to_dataframe(names=merged_dataframe_n2.columns.tolist() + [\"count\"])\n"
   ]
  },
  {
   "cell_type": "code",
   "execution_count": 21,
   "metadata": {},
   "outputs": [],
   "source": [
    "vars_in_bedn2 = vars_in_bedn[vars_in_bedn[\"count\"]>0]"
   ]
  },
  {
   "cell_type": "code",
   "execution_count": 22,
   "metadata": {},
   "outputs": [
    {
     "data": {
      "text/plain": [
       "6807"
      ]
     },
     "execution_count": 22,
     "metadata": {},
     "output_type": "execute_result"
    }
   ],
   "source": [
    "sum(vars_in_bedn2[\"pvalue\"]<1e-7)"
   ]
  },
  {
   "cell_type": "code",
   "execution_count": 23,
   "metadata": {},
   "outputs": [],
   "source": [
    "#sum(vars_in_bedn2[\"pvalue\"]<1e-5)"
   ]
  },
  {
   "cell_type": "code",
   "execution_count": 24,
   "metadata": {},
   "outputs": [
    {
     "data": {
      "text/plain": [
       "82686"
      ]
     },
     "execution_count": 24,
     "metadata": {},
     "output_type": "execute_result"
    }
   ],
   "source": [
    "sum(vars_in_bedn2[\"pvalue\"]>1e-2)"
   ]
  },
  {
   "cell_type": "code",
   "execution_count": 25,
   "metadata": {},
   "outputs": [],
   "source": [
    "#sum(vars_in_bedn2[\"pvalue\"]<1e-7)"
   ]
  },
  {
   "cell_type": "code",
   "execution_count": 26,
   "metadata": {},
   "outputs": [],
   "source": [
    "#sum(vars_in_bedn2[\"pvalue\"]>1e-2)"
   ]
  },
  {
   "cell_type": "code",
   "execution_count": 27,
   "metadata": {},
   "outputs": [
    {
     "data": {
      "text/plain": [
       "(107408, 24)"
      ]
     },
     "execution_count": 27,
     "metadata": {},
     "output_type": "execute_result"
    }
   ],
   "source": [
    "vars_in_bedn2.shape"
   ]
  },
  {
   "cell_type": "code",
   "execution_count": 28,
   "metadata": {},
   "outputs": [],
   "source": [
    "vars_in_bedn2 = vars_in_bedn2.drop_duplicates()"
   ]
  },
  {
   "cell_type": "code",
   "execution_count": 29,
   "metadata": {},
   "outputs": [
    {
     "data": {
      "text/plain": [
       "(107408, 24)"
      ]
     },
     "execution_count": 29,
     "metadata": {},
     "output_type": "execute_result"
    }
   ],
   "source": [
    "vars_in_bedn2.shape"
   ]
  },
  {
   "cell_type": "code",
   "execution_count": 30,
   "metadata": {},
   "outputs": [
    {
     "data": {
      "text/html": [
       "<div>\n",
       "<style scoped>\n",
       "    .dataframe tbody tr th:only-of-type {\n",
       "        vertical-align: middle;\n",
       "    }\n",
       "\n",
       "    .dataframe tbody tr th {\n",
       "        vertical-align: top;\n",
       "    }\n",
       "\n",
       "    .dataframe thead th {\n",
       "        text-align: right;\n",
       "    }\n",
       "</style>\n",
       "<table border=\"1\" class=\"dataframe\">\n",
       "  <thead>\n",
       "    <tr style=\"text-align: right;\">\n",
       "      <th></th>\n",
       "      <th>chromosome_x</th>\n",
       "      <th>position0</th>\n",
       "      <th>position</th>\n",
       "      <th>ref</th>\n",
       "      <th>alt</th>\n",
       "      <th>molecular_trait_id</th>\n",
       "      <th>variant</th>\n",
       "      <th>ma_samples</th>\n",
       "      <th>maf</th>\n",
       "      <th>pvalue</th>\n",
       "      <th>...</th>\n",
       "      <th>an</th>\n",
       "      <th>r2</th>\n",
       "      <th>molecular_trait_object_id</th>\n",
       "      <th>gene_id</th>\n",
       "      <th>median_tpm</th>\n",
       "      <th>rsid</th>\n",
       "      <th>gene_start</th>\n",
       "      <th>gene_end</th>\n",
       "      <th>phenotype_id</th>\n",
       "      <th>count</th>\n",
       "    </tr>\n",
       "  </thead>\n",
       "  <tbody>\n",
       "    <tr>\n",
       "      <th>1</th>\n",
       "      <td>chr1</td>\n",
       "      <td>29367</td>\n",
       "      <td>29368</td>\n",
       "      <td>G</td>\n",
       "      <td>A</td>\n",
       "      <td>Interval_2</td>\n",
       "      <td>chr1_29368_G_A</td>\n",
       "      <td>7.0</td>\n",
       "      <td>0.038462</td>\n",
       "      <td>0.162300</td>\n",
       "      <td>...</td>\n",
       "      <td>182.0</td>\n",
       "      <td>.</td>\n",
       "      <td>Interval_2</td>\n",
       "      <td>Interval_2</td>\n",
       "      <td>.</td>\n",
       "      <td>rs796745295</td>\n",
       "      <td>28924.0</td>\n",
       "      <td>29435.0</td>\n",
       "      <td>Interval_2</td>\n",
       "      <td>1.0</td>\n",
       "    </tr>\n",
       "    <tr>\n",
       "      <th>2</th>\n",
       "      <td>chr1</td>\n",
       "      <td>181112</td>\n",
       "      <td>181113</td>\n",
       "      <td>A</td>\n",
       "      <td>G</td>\n",
       "      <td>Interval_3</td>\n",
       "      <td>chr1_181113_A_G</td>\n",
       "      <td>75.0</td>\n",
       "      <td>0.412088</td>\n",
       "      <td>0.008885</td>\n",
       "      <td>...</td>\n",
       "      <td>182.0</td>\n",
       "      <td>.</td>\n",
       "      <td>Interval_3</td>\n",
       "      <td>Interval_3</td>\n",
       "      <td>.</td>\n",
       "      <td>rs1383295402</td>\n",
       "      <td>180749.0</td>\n",
       "      <td>181528.0</td>\n",
       "      <td>Interval_3</td>\n",
       "      <td>1.0</td>\n",
       "    </tr>\n",
       "    <tr>\n",
       "      <th>16</th>\n",
       "      <td>chr1</td>\n",
       "      <td>183667</td>\n",
       "      <td>183668</td>\n",
       "      <td>G</td>\n",
       "      <td>C</td>\n",
       "      <td>Interval_4</td>\n",
       "      <td>chr1_183668_G_C</td>\n",
       "      <td>9.0</td>\n",
       "      <td>0.049451</td>\n",
       "      <td>0.677535</td>\n",
       "      <td>...</td>\n",
       "      <td>182.0</td>\n",
       "      <td>.</td>\n",
       "      <td>Interval_4</td>\n",
       "      <td>Interval_4</td>\n",
       "      <td>.</td>\n",
       "      <td>rs1375358516</td>\n",
       "      <td>182645.0</td>\n",
       "      <td>184537.0</td>\n",
       "      <td>Interval_4</td>\n",
       "      <td>1.0</td>\n",
       "    </tr>\n",
       "    <tr>\n",
       "      <th>17</th>\n",
       "      <td>chr1</td>\n",
       "      <td>183855</td>\n",
       "      <td>183856</td>\n",
       "      <td>A</td>\n",
       "      <td>G</td>\n",
       "      <td>Interval_4</td>\n",
       "      <td>chr1_183856_A_G</td>\n",
       "      <td>7.0</td>\n",
       "      <td>0.038462</td>\n",
       "      <td>0.990356</td>\n",
       "      <td>...</td>\n",
       "      <td>182.0</td>\n",
       "      <td>.</td>\n",
       "      <td>Interval_4</td>\n",
       "      <td>Interval_4</td>\n",
       "      <td>.</td>\n",
       "      <td>rs1260198881</td>\n",
       "      <td>182645.0</td>\n",
       "      <td>184537.0</td>\n",
       "      <td>Interval_4</td>\n",
       "      <td>1.0</td>\n",
       "    </tr>\n",
       "    <tr>\n",
       "      <th>21</th>\n",
       "      <td>chr1</td>\n",
       "      <td>186834</td>\n",
       "      <td>186835</td>\n",
       "      <td>A</td>\n",
       "      <td>G</td>\n",
       "      <td>Interval_5</td>\n",
       "      <td>chr1_186835_A_G</td>\n",
       "      <td>77.0</td>\n",
       "      <td>0.423077</td>\n",
       "      <td>0.025945</td>\n",
       "      <td>...</td>\n",
       "      <td>182.0</td>\n",
       "      <td>.</td>\n",
       "      <td>Interval_5</td>\n",
       "      <td>Interval_5</td>\n",
       "      <td>.</td>\n",
       "      <td>rs1364805962</td>\n",
       "      <td>186367.0</td>\n",
       "      <td>187110.0</td>\n",
       "      <td>Interval_5</td>\n",
       "      <td>1.0</td>\n",
       "    </tr>\n",
       "  </tbody>\n",
       "</table>\n",
       "<p>5 rows × 24 columns</p>\n",
       "</div>"
      ],
      "text/plain": [
       "   chromosome_x  position0  position ref alt molecular_trait_id  \\\n",
       "1          chr1      29367     29368   G   A         Interval_2   \n",
       "2          chr1     181112    181113   A   G         Interval_3   \n",
       "16         chr1     183667    183668   G   C         Interval_4   \n",
       "17         chr1     183855    183856   A   G         Interval_4   \n",
       "21         chr1     186834    186835   A   G         Interval_5   \n",
       "\n",
       "            variant  ma_samples       maf    pvalue  ...     an  r2  \\\n",
       "1    chr1_29368_G_A         7.0  0.038462  0.162300  ...  182.0   .   \n",
       "2   chr1_181113_A_G        75.0  0.412088  0.008885  ...  182.0   .   \n",
       "16  chr1_183668_G_C         9.0  0.049451  0.677535  ...  182.0   .   \n",
       "17  chr1_183856_A_G         7.0  0.038462  0.990356  ...  182.0   .   \n",
       "21  chr1_186835_A_G        77.0  0.423077  0.025945  ...  182.0   .   \n",
       "\n",
       "   molecular_trait_object_id     gene_id  median_tpm          rsid gene_start  \\\n",
       "1                 Interval_2  Interval_2           .   rs796745295    28924.0   \n",
       "2                 Interval_3  Interval_3           .  rs1383295402   180749.0   \n",
       "16                Interval_4  Interval_4           .  rs1375358516   182645.0   \n",
       "17                Interval_4  Interval_4           .  rs1260198881   182645.0   \n",
       "21                Interval_5  Interval_5           .  rs1364805962   186367.0   \n",
       "\n",
       "    gene_end phenotype_id count  \n",
       "1    29435.0   Interval_2   1.0  \n",
       "2   181528.0   Interval_3   1.0  \n",
       "16  184537.0   Interval_4   1.0  \n",
       "17  184537.0   Interval_4   1.0  \n",
       "21  187110.0   Interval_5   1.0  \n",
       "\n",
       "[5 rows x 24 columns]"
      ]
     },
     "execution_count": 30,
     "metadata": {},
     "output_type": "execute_result"
    }
   ],
   "source": [
    "vars_in_bedn2.head(5)"
   ]
  },
  {
   "cell_type": "code",
   "execution_count": 31,
   "metadata": {},
   "outputs": [],
   "source": [
    "#vars_in_bedn2[[\"chromosome_x\", \"position\", \"ref\", \"alt\", \"variant\"]].to_csv(\"kumsaka.2018.kaur.scores.peak.filtered.bed\", sep='\\t', header=False, index=False)\n",
    "\n"
   ]
  },
  {
   "cell_type": "code",
   "execution_count": 32,
   "metadata": {},
   "outputs": [
    {
     "data": {
      "text/plain": [
       "107406"
      ]
     },
     "execution_count": 32,
     "metadata": {},
     "output_type": "execute_result"
    }
   ],
   "source": [
    "len(set(vars_in_bedn2[\"variant\"]))"
   ]
  },
  {
   "cell_type": "code",
   "execution_count": null,
   "metadata": {},
   "outputs": [],
   "source": []
  },
  {
   "cell_type": "code",
   "execution_count": 33,
   "metadata": {},
   "outputs": [],
   "source": [
    "atac_df = pd.read_csv(\"/mnt/lab_data2/anusri/variant-scorer/src/output/kaur_caqtls_lcl_latest/ATAC/summary.mean.variant_scores_new.tsv\", sep=\"\\t\", header=0)\n",
    "dnase_df = pd.read_csv(\"/mnt/lab_data2/anusri/variant-scorer/src/output/kaur_caqtls_lcl_latest/DNASE_NEW/summary.mean.variant_scores_new_3.tsv\", sep=\"\\t\", header=0)\n",
    "atac_df_50m = pd.read_csv(\"/mnt/lab_data2/anusri/variant-scorer/src/output/kaur_caqtls_lcl_latest/ATAC_50M/summary.mean.variant_scores_new.tsv\", sep=\"\\t\", header=0)\n",
    "\n"
   ]
  },
  {
   "cell_type": "code",
   "execution_count": 34,
   "metadata": {},
   "outputs": [
    {
     "data": {
      "text/plain": [
       "(130270, 23)"
      ]
     },
     "execution_count": 34,
     "metadata": {},
     "output_type": "execute_result"
    }
   ],
   "source": [
    "atac_df.shape"
   ]
  },
  {
   "cell_type": "code",
   "execution_count": 35,
   "metadata": {},
   "outputs": [
    {
     "data": {
      "text/plain": [
       "(130270, 23)"
      ]
     },
     "execution_count": 35,
     "metadata": {},
     "output_type": "execute_result"
    }
   ],
   "source": [
    "atac_df_50m.shape"
   ]
  },
  {
   "cell_type": "code",
   "execution_count": 36,
   "metadata": {},
   "outputs": [
    {
     "data": {
      "text/plain": [
       "(130270, 24)"
      ]
     },
     "execution_count": 36,
     "metadata": {},
     "output_type": "execute_result"
    }
   ],
   "source": [
    "dnase_df.shape"
   ]
  },
  {
   "cell_type": "code",
   "execution_count": 37,
   "metadata": {},
   "outputs": [
    {
     "data": {
      "text/plain": [
       "Index(['chr', 'pos', 'allele1', 'allele2', 'rsid', 'logfc.mean',\n",
       "       'abs_logfc.mean', 'abs_logfc.mean.pval', 'jsd.mean', 'jsd.mean.pval',\n",
       "       'logfc_x_jsd.mean', 'abs_logfc_x_jsd.mean', 'abs_logfc_x_jsd.mean.pval',\n",
       "       'max_percentile.mean', 'max_percentile.mean.pval',\n",
       "       'logfc_x_max_percentile.mean', 'abs_logfc_x_max_percentile.mean',\n",
       "       'abs_logfc_x_max_percentile.mean.pval', 'jsd_x_max_percentile.mean',\n",
       "       'jsd_x_max_percentile.mean.pval',\n",
       "       'abs_logfc_x_jsd_x_max_percentile.mean',\n",
       "       'abs_logfc_x_jsd_x_max_percentile.mean.pval',\n",
       "       'logfc_x_jsd_x_max_percentile.mean'],\n",
       "      dtype='object')"
      ]
     },
     "execution_count": 37,
     "metadata": {},
     "output_type": "execute_result"
    }
   ],
   "source": [
    "atac_df.columns"
   ]
  },
  {
   "cell_type": "code",
   "execution_count": 38,
   "metadata": {},
   "outputs": [],
   "source": [
    "merged_df = atac_df[['chr', 'pos', 'allele1', 'allele2', 'rsid']]"
   ]
  },
  {
   "cell_type": "code",
   "execution_count": 39,
   "metadata": {
    "scrolled": true
   },
   "outputs": [
    {
     "name": "stderr",
     "output_type": "stream",
     "text": [
      "/users/anusri/anaconda3/lib/python3.7/site-packages/ipykernel_launcher.py:1: SettingWithCopyWarning: \n",
      "A value is trying to be set on a copy of a slice from a DataFrame.\n",
      "Try using .loc[row_indexer,col_indexer] = value instead\n",
      "\n",
      "See the caveats in the documentation: https://pandas.pydata.org/pandas-docs/stable/user_guide/indexing.html#returning-a-view-versus-a-copy\n",
      "  \"\"\"Entry point for launching an IPython kernel.\n",
      "/users/anusri/anaconda3/lib/python3.7/site-packages/ipykernel_launcher.py:2: SettingWithCopyWarning: \n",
      "A value is trying to be set on a copy of a slice from a DataFrame.\n",
      "Try using .loc[row_indexer,col_indexer] = value instead\n",
      "\n",
      "See the caveats in the documentation: https://pandas.pydata.org/pandas-docs/stable/user_guide/indexing.html#returning-a-view-versus-a-copy\n",
      "  \n",
      "/users/anusri/anaconda3/lib/python3.7/site-packages/ipykernel_launcher.py:3: SettingWithCopyWarning: \n",
      "A value is trying to be set on a copy of a slice from a DataFrame.\n",
      "Try using .loc[row_indexer,col_indexer] = value instead\n",
      "\n",
      "See the caveats in the documentation: https://pandas.pydata.org/pandas-docs/stable/user_guide/indexing.html#returning-a-view-versus-a-copy\n",
      "  This is separate from the ipykernel package so we can avoid doing imports until\n",
      "/users/anusri/anaconda3/lib/python3.7/site-packages/ipykernel_launcher.py:4: SettingWithCopyWarning: \n",
      "A value is trying to be set on a copy of a slice from a DataFrame.\n",
      "Try using .loc[row_indexer,col_indexer] = value instead\n",
      "\n",
      "See the caveats in the documentation: https://pandas.pydata.org/pandas-docs/stable/user_guide/indexing.html#returning-a-view-versus-a-copy\n",
      "  after removing the cwd from sys.path.\n",
      "/users/anusri/anaconda3/lib/python3.7/site-packages/ipykernel_launcher.py:5: SettingWithCopyWarning: \n",
      "A value is trying to be set on a copy of a slice from a DataFrame.\n",
      "Try using .loc[row_indexer,col_indexer] = value instead\n",
      "\n",
      "See the caveats in the documentation: https://pandas.pydata.org/pandas-docs/stable/user_guide/indexing.html#returning-a-view-versus-a-copy\n",
      "  \"\"\"\n",
      "/users/anusri/anaconda3/lib/python3.7/site-packages/ipykernel_launcher.py:6: SettingWithCopyWarning: \n",
      "A value is trying to be set on a copy of a slice from a DataFrame.\n",
      "Try using .loc[row_indexer,col_indexer] = value instead\n",
      "\n",
      "See the caveats in the documentation: https://pandas.pydata.org/pandas-docs/stable/user_guide/indexing.html#returning-a-view-versus-a-copy\n",
      "  \n",
      "/users/anusri/anaconda3/lib/python3.7/site-packages/ipykernel_launcher.py:7: SettingWithCopyWarning: \n",
      "A value is trying to be set on a copy of a slice from a DataFrame.\n",
      "Try using .loc[row_indexer,col_indexer] = value instead\n",
      "\n",
      "See the caveats in the documentation: https://pandas.pydata.org/pandas-docs/stable/user_guide/indexing.html#returning-a-view-versus-a-copy\n",
      "  import sys\n",
      "/users/anusri/anaconda3/lib/python3.7/site-packages/ipykernel_launcher.py:8: SettingWithCopyWarning: \n",
      "A value is trying to be set on a copy of a slice from a DataFrame.\n",
      "Try using .loc[row_indexer,col_indexer] = value instead\n",
      "\n",
      "See the caveats in the documentation: https://pandas.pydata.org/pandas-docs/stable/user_guide/indexing.html#returning-a-view-versus-a-copy\n",
      "  \n",
      "/users/anusri/anaconda3/lib/python3.7/site-packages/ipykernel_launcher.py:9: SettingWithCopyWarning: \n",
      "A value is trying to be set on a copy of a slice from a DataFrame.\n",
      "Try using .loc[row_indexer,col_indexer] = value instead\n",
      "\n",
      "See the caveats in the documentation: https://pandas.pydata.org/pandas-docs/stable/user_guide/indexing.html#returning-a-view-versus-a-copy\n",
      "  if __name__ == '__main__':\n"
     ]
    }
   ],
   "source": [
    "merged_df[\"ATAC.572M.logfc.mean\"] = atac_df['logfc.mean']\n",
    "merged_df[\"ATAC.572M.jsd.mean\"] = atac_df['jsd.mean']\n",
    "merged_df[\"ATAC.572M.CRS\"] = atac_df['abs_logfc_x_jsd_x_max_percentile.mean']\n",
    "merged_df[\"ATAC.50M.logfc.mean\"] = atac_df_50m['logfc.mean']\n",
    "merged_df[\"ATAC.50M.jsd.mean\"] = atac_df_50m['jsd.mean']\n",
    "merged_df[\"ATAC.50M.CRS\"] = atac_df_50m['abs_logfc_x_jsd_x_max_percentile.mean']\n",
    "merged_df[\"DNASE.logfc.mean\"] = dnase_df['logfc.mean']\n",
    "merged_df[\"DNASE.jsd.mean\"] = dnase_df['jsd.mean']\n",
    "merged_df[\"DNASE.CRS\"] = dnase_df['abs_logfc_x_jsd_x_max_percentile.mean']\n",
    "\n",
    "\n"
   ]
  },
  {
   "cell_type": "code",
   "execution_count": 40,
   "metadata": {},
   "outputs": [],
   "source": [
    "import pickle as pkl\n",
    "import os\n",
    "import numpy as np\n",
    "\n",
    "mean_change=[]\n",
    "rsids=[]\n",
    "\n",
    "enf_dir=\"/mnt/lab_data2/anusri/variant-scorer/src/output/kaur_caqtls_lcl_latest/enformer_preds_small_window/splitss/\"\n",
    "for diri in [\"splitaa\", \"splitab\", \"splitac\", \"splitad\"]:\n",
    "    enformer_recompute = pkl.load(open(enf_dir+diri+\"predictions_at_snp.pkl\",'rb'))\n",
    "    for i in range(enformer_recompute[\"ref_logcount_preds\"].shape[0]):\n",
    "        mean_change.append(np.log2( (enformer_recompute[\"ref_logcount_preds\"][i,440+4:456-4].sum()+1) / (enformer_recompute[\"alt_logcount_preds\"][i,440+4:456-4].sum()+1)))\n",
    "        rsids.append(enformer_recompute[\"rsids\"][i])\n",
    "mean_change = np.array(mean_change)\n"
   ]
  },
  {
   "cell_type": "code",
   "execution_count": 41,
   "metadata": {},
   "outputs": [
    {
     "name": "stderr",
     "output_type": "stream",
     "text": [
      "/users/anusri/anaconda3/lib/python3.7/site-packages/ipykernel_launcher.py:1: SettingWithCopyWarning: \n",
      "A value is trying to be set on a copy of a slice from a DataFrame.\n",
      "Try using .loc[row_indexer,col_indexer] = value instead\n",
      "\n",
      "See the caveats in the documentation: https://pandas.pydata.org/pandas-docs/stable/user_guide/indexing.html#returning-a-view-versus-a-copy\n",
      "  \"\"\"Entry point for launching an IPython kernel.\n"
     ]
    }
   ],
   "source": [
    "merged_df[\"enformer_recomputed\"] = mean_change"
   ]
  },
  {
   "cell_type": "code",
   "execution_count": 42,
   "metadata": {},
   "outputs": [
    {
     "data": {
      "text/plain": [
       "130270"
      ]
     },
     "execution_count": 42,
     "metadata": {},
     "output_type": "execute_result"
    }
   ],
   "source": [
    "len(mean_change)"
   ]
  },
  {
   "cell_type": "code",
   "execution_count": 43,
   "metadata": {
    "scrolled": true
   },
   "outputs": [
    {
     "name": "stderr",
     "output_type": "stream",
     "text": [
      "/users/anusri/anaconda3/lib/python3.7/site-packages/ipykernel_launcher.py:2: SettingWithCopyWarning: \n",
      "A value is trying to be set on a copy of a slice from a DataFrame.\n",
      "Try using .loc[row_indexer,col_indexer] = value instead\n",
      "\n",
      "See the caveats in the documentation: https://pandas.pydata.org/pandas-docs/stable/user_guide/indexing.html#returning-a-view-versus-a-copy\n",
      "  \n",
      "/users/anusri/anaconda3/lib/python3.7/site-packages/ipykernel_launcher.py:3: SettingWithCopyWarning: \n",
      "A value is trying to be set on a copy of a slice from a DataFrame.\n",
      "Try using .loc[row_indexer,col_indexer] = value instead\n",
      "\n",
      "See the caveats in the documentation: https://pandas.pydata.org/pandas-docs/stable/user_guide/indexing.html#returning-a-view-versus-a-copy\n",
      "  This is separate from the ipykernel package so we can avoid doing imports until\n"
     ]
    }
   ],
   "source": [
    "newdf = vars_in_bedn2.reset_index()\n",
    "merged_df[\"pvalue\"] =newdf[\"pvalue\"]\n",
    "merged_df[\"beta\"] =newdf[\"beta\"]"
   ]
  },
  {
   "cell_type": "code",
   "execution_count": 44,
   "metadata": {},
   "outputs": [],
   "source": [
    "\n",
    "enf_preds = pd.read_csv(\"/mnt/lab_data2/anusri/enformer/kaur_eu_caqtls/enformer_predictions.tsv\", sep=\"\\t\", header=0)"
   ]
  },
  {
   "cell_type": "code",
   "execution_count": 45,
   "metadata": {},
   "outputs": [
    {
     "data": {
      "text/html": [
       "<div>\n",
       "<style scoped>\n",
       "    .dataframe tbody tr th:only-of-type {\n",
       "        vertical-align: middle;\n",
       "    }\n",
       "\n",
       "    .dataframe tbody tr th {\n",
       "        vertical-align: top;\n",
       "    }\n",
       "\n",
       "    .dataframe thead th {\n",
       "        text-align: right;\n",
       "    }\n",
       "</style>\n",
       "<table border=\"1\" class=\"dataframe\">\n",
       "  <thead>\n",
       "    <tr style=\"text-align: right;\">\n",
       "      <th></th>\n",
       "      <th>chr</th>\n",
       "      <th>pos</th>\n",
       "      <th>ref</th>\n",
       "      <th>alt</th>\n",
       "      <th>rsid</th>\n",
       "      <th>DNASE_SAD</th>\n",
       "      <th>DNASE_SAR</th>\n",
       "    </tr>\n",
       "  </thead>\n",
       "  <tbody>\n",
       "    <tr>\n",
       "      <th>0</th>\n",
       "      <td>chr1</td>\n",
       "      <td>740285</td>\n",
       "      <td>G</td>\n",
       "      <td>A</td>\n",
       "      <td>rs193160839</td>\n",
       "      <td>-0.002522</td>\n",
       "      <td>-0.003365</td>\n",
       "    </tr>\n",
       "  </tbody>\n",
       "</table>\n",
       "</div>"
      ],
      "text/plain": [
       "    chr     pos ref alt         rsid  DNASE_SAD  DNASE_SAR\n",
       "0  chr1  740285   G   A  rs193160839  -0.002522  -0.003365"
      ]
     },
     "execution_count": 45,
     "metadata": {},
     "output_type": "execute_result"
    }
   ],
   "source": [
    "enf_preds.head(1)"
   ]
  },
  {
   "cell_type": "code",
   "execution_count": 46,
   "metadata": {},
   "outputs": [
    {
     "data": {
      "text/plain": [
       "(126606, 7)"
      ]
     },
     "execution_count": 46,
     "metadata": {},
     "output_type": "execute_result"
    }
   ],
   "source": [
    "enf_preds.shape"
   ]
  },
  {
   "cell_type": "code",
   "execution_count": 47,
   "metadata": {},
   "outputs": [
    {
     "data": {
      "text/plain": [
       "Index(['chr', 'pos', 'ref', 'alt', 'rsid', 'DNASE_SAD', 'DNASE_SAR'], dtype='object')"
      ]
     },
     "execution_count": 47,
     "metadata": {},
     "output_type": "execute_result"
    }
   ],
   "source": [
    "enf_preds.columns\n"
   ]
  },
  {
   "cell_type": "code",
   "execution_count": 48,
   "metadata": {},
   "outputs": [
    {
     "data": {
      "text/plain": [
       "Index(['chr', 'pos', 'allele1', 'allele2', 'rsid', 'ATAC.572M.logfc.mean',\n",
       "       'ATAC.572M.jsd.mean', 'ATAC.572M.CRS', 'ATAC.50M.logfc.mean',\n",
       "       'ATAC.50M.jsd.mean', 'ATAC.50M.CRS', 'DNASE.logfc.mean',\n",
       "       'DNASE.jsd.mean', 'DNASE.CRS', 'enformer_recomputed', 'pvalue', 'beta'],\n",
       "      dtype='object')"
      ]
     },
     "execution_count": 48,
     "metadata": {},
     "output_type": "execute_result"
    }
   ],
   "source": [
    "merged_df.columns"
   ]
  },
  {
   "cell_type": "code",
   "execution_count": 49,
   "metadata": {},
   "outputs": [
    {
     "name": "stderr",
     "output_type": "stream",
     "text": [
      "/users/anusri/anaconda3/lib/python3.7/site-packages/ipykernel_launcher.py:1: SettingWithCopyWarning: \n",
      "A value is trying to be set on a copy of a slice from a DataFrame.\n",
      "Try using .loc[row_indexer,col_indexer] = value instead\n",
      "\n",
      "See the caveats in the documentation: https://pandas.pydata.org/pandas-docs/stable/user_guide/indexing.html#returning-a-view-versus-a-copy\n",
      "  \"\"\"Entry point for launching an IPython kernel.\n"
     ]
    }
   ],
   "source": [
    "merged_df[\"dbsnp_rsdi\"] = vars_in_bedn2.reset_index()[\"rsid\"]\n",
    "#merged_df"
   ]
  },
  {
   "cell_type": "code",
   "execution_count": 50,
   "metadata": {},
   "outputs": [
    {
     "data": {
      "text/html": [
       "<div>\n",
       "<style scoped>\n",
       "    .dataframe tbody tr th:only-of-type {\n",
       "        vertical-align: middle;\n",
       "    }\n",
       "\n",
       "    .dataframe tbody tr th {\n",
       "        vertical-align: top;\n",
       "    }\n",
       "\n",
       "    .dataframe thead th {\n",
       "        text-align: right;\n",
       "    }\n",
       "</style>\n",
       "<table border=\"1\" class=\"dataframe\">\n",
       "  <thead>\n",
       "    <tr style=\"text-align: right;\">\n",
       "      <th></th>\n",
       "      <th>chr</th>\n",
       "      <th>pos</th>\n",
       "      <th>allele2</th>\n",
       "      <th>allele1</th>\n",
       "      <th>dbsnp_rsdi</th>\n",
       "    </tr>\n",
       "  </thead>\n",
       "  <tbody>\n",
       "    <tr>\n",
       "      <th>10</th>\n",
       "      <td>chr1</td>\n",
       "      <td>804905</td>\n",
       "      <td>A</td>\n",
       "      <td>G</td>\n",
       "      <td>rs193160839</td>\n",
       "    </tr>\n",
       "  </tbody>\n",
       "</table>\n",
       "</div>"
      ],
      "text/plain": [
       "     chr     pos allele2 allele1   dbsnp_rsdi\n",
       "10  chr1  804905       A       G  rs193160839"
      ]
     },
     "execution_count": 50,
     "metadata": {},
     "output_type": "execute_result"
    }
   ],
   "source": [
    "temp1 = merged_df[['chr', 'pos', 'allele2', 'allele1', 'dbsnp_rsdi']].sort_values('dbsnp_rsdi')\n",
    "temp1[temp1[\"dbsnp_rsdi\"]==\"rs193160839\"]"
   ]
  },
  {
   "cell_type": "code",
   "execution_count": 51,
   "metadata": {},
   "outputs": [
    {
     "data": {
      "text/html": [
       "<div>\n",
       "<style scoped>\n",
       "    .dataframe tbody tr th:only-of-type {\n",
       "        vertical-align: middle;\n",
       "    }\n",
       "\n",
       "    .dataframe tbody tr th {\n",
       "        vertical-align: top;\n",
       "    }\n",
       "\n",
       "    .dataframe thead th {\n",
       "        text-align: right;\n",
       "    }\n",
       "</style>\n",
       "<table border=\"1\" class=\"dataframe\">\n",
       "  <thead>\n",
       "    <tr style=\"text-align: right;\">\n",
       "      <th></th>\n",
       "      <th>chr</th>\n",
       "      <th>pos</th>\n",
       "      <th>ref</th>\n",
       "      <th>alt</th>\n",
       "      <th>rsid</th>\n",
       "    </tr>\n",
       "  </thead>\n",
       "  <tbody>\n",
       "    <tr>\n",
       "      <th>0</th>\n",
       "      <td>chr1</td>\n",
       "      <td>740285</td>\n",
       "      <td>G</td>\n",
       "      <td>A</td>\n",
       "      <td>rs193160839</td>\n",
       "    </tr>\n",
       "  </tbody>\n",
       "</table>\n",
       "</div>"
      ],
      "text/plain": [
       "    chr     pos ref alt         rsid\n",
       "0  chr1  740285   G   A  rs193160839"
      ]
     },
     "execution_count": 51,
     "metadata": {},
     "output_type": "execute_result"
    }
   ],
   "source": [
    "temp1 = enf_preds[['chr', 'pos', 'ref', 'alt', 'rsid']]\n",
    "temp1[temp1[\"rsid\"]==\"rs193160839\"]"
   ]
  },
  {
   "cell_type": "code",
   "execution_count": 52,
   "metadata": {},
   "outputs": [],
   "source": [
    "#merged_df.head()"
   ]
  },
  {
   "cell_type": "code",
   "execution_count": 53,
   "metadata": {},
   "outputs": [],
   "source": [
    "merged_df1 = merged_df.merge(enf_preds, right_on=['chr', 'ref', 'alt', 'rsid'], left_on=['chr', 'allele2', 'allele1', 'dbsnp_rsdi'], how=\"inner\")\n",
    "merged_df1[\"DNASE_SAD\"] = merged_df1[\"DNASE_SAD\"]*-1\n",
    "merged_df1[\"DNASE_SAR\"] = merged_df1[\"DNASE_SAR\"]*-1\n",
    "merged_df2 = merged_df.merge(enf_preds, right_on=['chr', 'ref', 'alt', 'rsid'], left_on=['chr', 'allele1', 'allele2', 'dbsnp_rsdi'], how=\"inner\")\n",
    "\n",
    "merged_df_f = pd.concat([merged_df1, merged_df2]).drop_duplicates(['chr', 'pos_x', 'allele1', 'allele2', 'rsid_x'])\n"
   ]
  },
  {
   "cell_type": "code",
   "execution_count": 54,
   "metadata": {},
   "outputs": [
    {
     "data": {
      "text/html": [
       "<div>\n",
       "<style scoped>\n",
       "    .dataframe tbody tr th:only-of-type {\n",
       "        vertical-align: middle;\n",
       "    }\n",
       "\n",
       "    .dataframe tbody tr th {\n",
       "        vertical-align: top;\n",
       "    }\n",
       "\n",
       "    .dataframe thead th {\n",
       "        text-align: right;\n",
       "    }\n",
       "</style>\n",
       "<table border=\"1\" class=\"dataframe\">\n",
       "  <thead>\n",
       "    <tr style=\"text-align: right;\">\n",
       "      <th></th>\n",
       "      <th>chr</th>\n",
       "      <th>pos_x</th>\n",
       "      <th>allele1</th>\n",
       "      <th>allele2</th>\n",
       "      <th>rsid_x</th>\n",
       "      <th>ATAC.572M.logfc.mean</th>\n",
       "      <th>ATAC.572M.jsd.mean</th>\n",
       "      <th>ATAC.572M.CRS</th>\n",
       "      <th>ATAC.50M.logfc.mean</th>\n",
       "      <th>ATAC.50M.jsd.mean</th>\n",
       "      <th>...</th>\n",
       "      <th>enformer_recomputed</th>\n",
       "      <th>pvalue</th>\n",
       "      <th>beta</th>\n",
       "      <th>dbsnp_rsdi</th>\n",
       "      <th>pos_y</th>\n",
       "      <th>ref</th>\n",
       "      <th>alt</th>\n",
       "      <th>rsid_y</th>\n",
       "      <th>DNASE_SAD</th>\n",
       "      <th>DNASE_SAR</th>\n",
       "    </tr>\n",
       "  </thead>\n",
       "  <tbody>\n",
       "    <tr>\n",
       "      <th>0</th>\n",
       "      <td>chr1</td>\n",
       "      <td>817186</td>\n",
       "      <td>G</td>\n",
       "      <td>A</td>\n",
       "      <td>chr1_817186_G_A</td>\n",
       "      <td>-0.044882</td>\n",
       "      <td>0.006798</td>\n",
       "      <td>0.000171</td>\n",
       "      <td>-0.041416</td>\n",
       "      <td>0.007593</td>\n",
       "      <td>...</td>\n",
       "      <td>-0.01847</td>\n",
       "      <td>0.668489</td>\n",
       "      <td>-0.090801</td>\n",
       "      <td>rs3094315</td>\n",
       "      <td>752566</td>\n",
       "      <td>A</td>\n",
       "      <td>G</td>\n",
       "      <td>rs3094315</td>\n",
       "      <td>0.00004</td>\n",
       "      <td>0.000053</td>\n",
       "    </tr>\n",
       "  </tbody>\n",
       "</table>\n",
       "<p>1 rows × 24 columns</p>\n",
       "</div>"
      ],
      "text/plain": [
       "    chr   pos_x allele1 allele2           rsid_x  ATAC.572M.logfc.mean  \\\n",
       "0  chr1  817186       G       A  chr1_817186_G_A             -0.044882   \n",
       "\n",
       "   ATAC.572M.jsd.mean  ATAC.572M.CRS  ATAC.50M.logfc.mean  ATAC.50M.jsd.mean  \\\n",
       "0            0.006798       0.000171            -0.041416           0.007593   \n",
       "\n",
       "   ...  enformer_recomputed    pvalue      beta  dbsnp_rsdi   pos_y  ref  alt  \\\n",
       "0  ...             -0.01847  0.668489 -0.090801   rs3094315  752566    A    G   \n",
       "\n",
       "      rsid_y  DNASE_SAD DNASE_SAR  \n",
       "0  rs3094315    0.00004  0.000053  \n",
       "\n",
       "[1 rows x 24 columns]"
      ]
     },
     "execution_count": 54,
     "metadata": {},
     "output_type": "execute_result"
    }
   ],
   "source": [
    "merged_df_f.head(1)"
   ]
  },
  {
   "cell_type": "code",
   "execution_count": 55,
   "metadata": {},
   "outputs": [
    {
     "data": {
      "text/plain": [
       "(103742, 24)"
      ]
     },
     "execution_count": 55,
     "metadata": {},
     "output_type": "execute_result"
    }
   ],
   "source": [
    "merged_df_f.shape"
   ]
  },
  {
   "cell_type": "code",
   "execution_count": 56,
   "metadata": {},
   "outputs": [
    {
     "data": {
      "text/plain": [
       "(130270, 18)"
      ]
     },
     "execution_count": 56,
     "metadata": {},
     "output_type": "execute_result"
    }
   ],
   "source": [
    "merged_df.shape"
   ]
  },
  {
   "cell_type": "code",
   "execution_count": 57,
   "metadata": {},
   "outputs": [],
   "source": [
    "#merged_df_f"
   ]
  },
  {
   "cell_type": "code",
   "execution_count": 58,
   "metadata": {},
   "outputs": [
    {
     "data": {
      "text/plain": [
       "7900"
      ]
     },
     "execution_count": 58,
     "metadata": {},
     "output_type": "execute_result"
    }
   ],
   "source": [
    "sum(merged_df_f[\"pvalue\"]<10**-6)"
   ]
  },
  {
   "cell_type": "code",
   "execution_count": 59,
   "metadata": {},
   "outputs": [
    {
     "data": {
      "text/plain": [
       "87165"
      ]
     },
     "execution_count": 59,
     "metadata": {},
     "output_type": "execute_result"
    }
   ],
   "source": [
    "sum(merged_df_f[\"pvalue\"]>10**-3)"
   ]
  },
  {
   "cell_type": "code",
   "execution_count": 60,
   "metadata": {},
   "outputs": [],
   "source": [
    "#merged_df"
   ]
  },
  {
   "cell_type": "code",
   "execution_count": 61,
   "metadata": {},
   "outputs": [],
   "source": [
    "new_df = merged_df.merge(merged_df_f, right_on=['chr', 'allele1', 'allele2', 'pos_x'], left_on=['chr', 'allele1', 'allele2', 'pos'], how=\"left\")\n"
   ]
  },
  {
   "cell_type": "code",
   "execution_count": 62,
   "metadata": {},
   "outputs": [
    {
     "data": {
      "text/plain": [
       "(130270, 39)"
      ]
     },
     "execution_count": 62,
     "metadata": {},
     "output_type": "execute_result"
    }
   ],
   "source": [
    "new_df.shape"
   ]
  },
  {
   "cell_type": "code",
   "execution_count": 63,
   "metadata": {},
   "outputs": [
    {
     "data": {
      "text/plain": [
       "Index(['chr', 'pos', 'allele1', 'allele2', 'rsid', 'ATAC.572M.logfc.mean_x',\n",
       "       'ATAC.572M.jsd.mean_x', 'ATAC.572M.CRS_x', 'ATAC.50M.logfc.mean_x',\n",
       "       'ATAC.50M.jsd.mean_x', 'ATAC.50M.CRS_x', 'DNASE.logfc.mean_x',\n",
       "       'DNASE.jsd.mean_x', 'DNASE.CRS_x', 'enformer_recomputed_x', 'pvalue_x',\n",
       "       'beta_x', 'dbsnp_rsdi_x', 'pos_x', 'rsid_x', 'ATAC.572M.logfc.mean_y',\n",
       "       'ATAC.572M.jsd.mean_y', 'ATAC.572M.CRS_y', 'ATAC.50M.logfc.mean_y',\n",
       "       'ATAC.50M.jsd.mean_y', 'ATAC.50M.CRS_y', 'DNASE.logfc.mean_y',\n",
       "       'DNASE.jsd.mean_y', 'DNASE.CRS_y', 'enformer_recomputed_y', 'pvalue_y',\n",
       "       'beta_y', 'dbsnp_rsdi_y', 'pos_y', 'ref', 'alt', 'rsid_y', 'DNASE_SAD',\n",
       "       'DNASE_SAR'],\n",
       "      dtype='object')"
      ]
     },
     "execution_count": 63,
     "metadata": {},
     "output_type": "execute_result"
    }
   ],
   "source": [
    "new_df.columns"
   ]
  },
  {
   "cell_type": "code",
   "execution_count": 64,
   "metadata": {},
   "outputs": [],
   "source": [
    "new_df = new_df[['chr', 'pos', 'allele1', 'allele2', \"beta_x\", \"rsid\", \"DNASE_SAD\", \"DNASE_SAR\", 'ATAC.572M.logfc.mean_x',\n",
    "       'ATAC.572M.jsd.mean_x', 'ATAC.572M.CRS_x', 'ATAC.50M.logfc.mean_x',\n",
    "       'ATAC.50M.jsd.mean_x', 'ATAC.50M.CRS_x', 'DNASE.logfc.mean_x',\n",
    "       'DNASE.jsd.mean_x', 'DNASE.CRS_x', 'enformer_recomputed_x', 'pvalue_x']].drop_duplicates()\n",
    "\n"
   ]
  },
  {
   "cell_type": "code",
   "execution_count": 65,
   "metadata": {},
   "outputs": [],
   "source": [
    "new_df[\"isused\"] = False\n",
    "new_df[\"label\"] = False"
   ]
  },
  {
   "cell_type": "code",
   "execution_count": 66,
   "metadata": {},
   "outputs": [
    {
     "data": {
      "text/plain": [
       "7900"
      ]
     },
     "execution_count": 66,
     "metadata": {},
     "output_type": "execute_result"
    }
   ],
   "source": [
    "sum(~np.isnan(new_df[\"DNASE_SAR\"]) & (new_df['pvalue_x'] <10**-6))"
   ]
  },
  {
   "cell_type": "code",
   "execution_count": 67,
   "metadata": {},
   "outputs": [
    {
     "data": {
      "text/plain": [
       "87165"
      ]
     },
     "execution_count": 67,
     "metadata": {},
     "output_type": "execute_result"
    }
   ],
   "source": [
    "sum(~np.isnan(new_df[\"DNASE_SAR\"]) & (new_df['pvalue_x'] >10**-3))"
   ]
  },
  {
   "cell_type": "code",
   "execution_count": 68,
   "metadata": {},
   "outputs": [
    {
     "data": {
      "text/plain": [
       "95065"
      ]
     },
     "execution_count": 68,
     "metadata": {},
     "output_type": "execute_result"
    }
   ],
   "source": [
    "sum(~np.isnan(new_df[\"DNASE_SAR\"]) & (new_df['pvalue_x'] >10**-3))+sum(~np.isnan(new_df[\"DNASE_SAR\"]) & (new_df['pvalue_x'] <10**-6))"
   ]
  },
  {
   "cell_type": "code",
   "execution_count": 69,
   "metadata": {},
   "outputs": [],
   "source": [
    "new_df[\"isused\"] = (~np.isnan(new_df[\"DNASE_SAR\"])) & (new_df['pvalue_x'] <10**-6)"
   ]
  },
  {
   "cell_type": "code",
   "execution_count": 70,
   "metadata": {},
   "outputs": [
    {
     "data": {
      "text/plain": [
       "7900"
      ]
     },
     "execution_count": 70,
     "metadata": {},
     "output_type": "execute_result"
    }
   ],
   "source": [
    "sum(new_df[\"isused\"])"
   ]
  },
  {
   "cell_type": "code",
   "execution_count": 71,
   "metadata": {},
   "outputs": [],
   "source": [
    "new_df[\"label\"] = (~np.isnan(new_df[\"DNASE_SAR\"])) & (new_df['pvalue_x'] <10**-6)"
   ]
  },
  {
   "cell_type": "code",
   "execution_count": 72,
   "metadata": {},
   "outputs": [],
   "source": [
    "new_df[\"isused\"] = ((~np.isnan(new_df[\"DNASE_SAR\"])) & (new_df['pvalue_x'] >10**-3)) | (~np.isnan(new_df[\"DNASE_SAR\"])) & (new_df['pvalue_x'] <10**-6)"
   ]
  },
  {
   "cell_type": "code",
   "execution_count": 73,
   "metadata": {},
   "outputs": [
    {
     "data": {
      "text/plain": [
       "95065"
      ]
     },
     "execution_count": 73,
     "metadata": {},
     "output_type": "execute_result"
    }
   ],
   "source": [
    "sum(new_df[\"isused\"])"
   ]
  },
  {
   "cell_type": "code",
   "execution_count": 74,
   "metadata": {},
   "outputs": [
    {
     "data": {
      "text/plain": [
       "95065"
      ]
     },
     "execution_count": 74,
     "metadata": {},
     "output_type": "execute_result"
    }
   ],
   "source": [
    "sum(new_df[\"isused\"])"
   ]
  },
  {
   "cell_type": "code",
   "execution_count": 75,
   "metadata": {},
   "outputs": [
    {
     "data": {
      "text/plain": [
       "7900"
      ]
     },
     "execution_count": 75,
     "metadata": {},
     "output_type": "execute_result"
    }
   ],
   "source": [
    "sum(new_df[\"label\"])"
   ]
  },
  {
   "cell_type": "code",
   "execution_count": 76,
   "metadata": {},
   "outputs": [
    {
     "data": {
      "text/plain": [
       "87165"
      ]
     },
     "execution_count": 76,
     "metadata": {},
     "output_type": "execute_result"
    }
   ],
   "source": [
    "sum(new_df[\"isused\"])-sum(new_df[\"label\"])"
   ]
  },
  {
   "cell_type": "code",
   "execution_count": null,
   "metadata": {},
   "outputs": [],
   "source": []
  },
  {
   "cell_type": "code",
   "execution_count": 77,
   "metadata": {},
   "outputs": [
    {
     "data": {
      "text/plain": [
       "0.08310103613317205"
      ]
     },
     "execution_count": 77,
     "metadata": {},
     "output_type": "execute_result"
    }
   ],
   "source": [
    "sum(new_df[\"label\"])/sum(new_df[\"isused\"])"
   ]
  },
  {
   "cell_type": "code",
   "execution_count": null,
   "metadata": {},
   "outputs": [],
   "source": []
  },
  {
   "cell_type": "code",
   "execution_count": 78,
   "metadata": {},
   "outputs": [
    {
     "data": {
      "text/plain": [
       "0"
      ]
     },
     "execution_count": 78,
     "metadata": {},
     "output_type": "execute_result"
    }
   ],
   "source": [
    "sum(new_df[\"isused\"] & np.isnan(new_df['enformer_recomputed_x']))\n"
   ]
  },
  {
   "cell_type": "code",
   "execution_count": 79,
   "metadata": {},
   "outputs": [
    {
     "data": {
      "text/plain": [
       "0"
      ]
     },
     "execution_count": 79,
     "metadata": {},
     "output_type": "execute_result"
    }
   ],
   "source": [
    "sum(new_df[\"isused\"] & np.isnan(new_df['beta_x']))\n"
   ]
  },
  {
   "cell_type": "code",
   "execution_count": 80,
   "metadata": {},
   "outputs": [
    {
     "data": {
      "text/plain": [
       "0"
      ]
     },
     "execution_count": 80,
     "metadata": {},
     "output_type": "execute_result"
    }
   ],
   "source": [
    "sum(new_df[\"isused\"] & np.isnan(new_df['ATAC.50M.logfc.mean_x']))\n"
   ]
  },
  {
   "cell_type": "code",
   "execution_count": 81,
   "metadata": {},
   "outputs": [
    {
     "data": {
      "text/plain": [
       "(130268, 21)"
      ]
     },
     "execution_count": 81,
     "metadata": {},
     "output_type": "execute_result"
    }
   ],
   "source": [
    "new_df.shape"
   ]
  },
  {
   "cell_type": "code",
   "execution_count": 82,
   "metadata": {},
   "outputs": [],
   "source": [
    "rename_dict = {\"chr\": \"var.chr\", \"pos\": \"var.pos_hg38\", \"isused\":\"var.isused\", \"rsid\": \"var.rsid\", \n",
    "                'beta_x': 'obs.beta',\n",
    "               'pvalue_x': 'obs.pval', 'label': 'obs.label', 'allele1':'var.allele1', 'allele2': 'var.allele2',\n",
    "               'enformer_recomputed_x':\"pred.enformer.encsr000emt.variantscore.local_logfc\", \"DNASE_SAR\": \"pred.enformer.encsr000emt.variantscore.global_sar\", \"DNASE_SAD\": \"pred.enformer.encsr000emt.variantscore.global_sad\",\n",
    "              'ATAC.572M.logfc.mean_x':\"pred.chrombpnet.encsr637xsc.variantscore.logfc\",\n",
    "               'ATAC.572M.jsd.mean_x': \"pred.chrombpnet.encsr637xsc.variantscore.jsd\",\n",
    "              'ATAC.572M.CRS_x': \"pred.chrombpnet.encsr637xsc.variantscore.ips\",\n",
    "               'ATAC.50M.logfc.mean_x': \"pred.chrombpnet.encsr637xsc_50m.variantscore.logfc\",\n",
    "               'ATAC.50M.jsd.mean_x': \"pred.chrombpnet.encsr637xsc_50m.variantscore.jsd\", \n",
    "               'ATAC.50M.CRS_x':\"pred.chrombpnet.encsr637xsc_50m.variantscore.ips\", \n",
    "               'DNASE.logfc.mean_x':  \"pred.chrombpnet.encsr000emt.variantscore.logfc\",\n",
    "               'DNASE.jsd.mean_x': \"pred.chrombpnet.encsr000emt.variantscore.jsd\", \n",
    "               'DNASE.CRS_x': \"pred.chrombpnet.encsr000emt.variantscore.ips\"}"
   ]
  },
  {
   "cell_type": "code",
   "execution_count": 83,
   "metadata": {},
   "outputs": [],
   "source": [
    "new_df = new_df.rename(columns=rename_dict)\n"
   ]
  },
  {
   "cell_type": "code",
   "execution_count": 84,
   "metadata": {},
   "outputs": [
    {
     "data": {
      "text/plain": [
       "Index(['var.chr', 'var.pos_hg38', 'var.allele1', 'var.allele2', 'obs.beta',\n",
       "       'var.rsid', 'pred.enformer.encsr000emt.variantscore.global_sad',\n",
       "       'pred.enformer.encsr000emt.variantscore.global_sar',\n",
       "       'pred.chrombpnet.encsr637xsc.variantscore.logfc',\n",
       "       'pred.chrombpnet.encsr637xsc.variantscore.jsd',\n",
       "       'pred.chrombpnet.encsr637xsc.variantscore.ips',\n",
       "       'pred.chrombpnet.encsr637xsc_50m.variantscore.logfc',\n",
       "       'pred.chrombpnet.encsr637xsc_50m.variantscore.jsd',\n",
       "       'pred.chrombpnet.encsr637xsc_50m.variantscore.ips',\n",
       "       'pred.chrombpnet.encsr000emt.variantscore.logfc',\n",
       "       'pred.chrombpnet.encsr000emt.variantscore.jsd',\n",
       "       'pred.chrombpnet.encsr000emt.variantscore.ips',\n",
       "       'pred.enformer.encsr000emt.variantscore.local_logfc', 'obs.pval',\n",
       "       'var.isused', 'obs.label'],\n",
       "      dtype='object')"
      ]
     },
     "execution_count": 84,
     "metadata": {},
     "output_type": "execute_result"
    }
   ],
   "source": [
    "new_df.columns"
   ]
  },
  {
   "cell_type": "code",
   "execution_count": 85,
   "metadata": {},
   "outputs": [],
   "source": [
    "new_df = new_df[['var.chr', 'var.pos_hg38', 'var.allele1', 'var.allele2', 'obs.beta', 'obs.pval',  'var.isused',\n",
    "       'pred.enformer.encsr000emt.variantscore.global_sad',\n",
    "       'pred.enformer.encsr000emt.variantscore.global_sar',\n",
    "       'pred.chrombpnet.encsr637xsc.variantscore.logfc',\n",
    "       'pred.chrombpnet.encsr637xsc.variantscore.jsd',\n",
    "       'pred.chrombpnet.encsr637xsc.variantscore.ips',\n",
    "       'pred.chrombpnet.encsr637xsc_50m.variantscore.logfc',\n",
    "       'pred.chrombpnet.encsr637xsc_50m.variantscore.jsd',\n",
    "       'pred.chrombpnet.encsr637xsc_50m.variantscore.ips',\n",
    "       'pred.chrombpnet.encsr000emt.variantscore.logfc',\n",
    "       'pred.chrombpnet.encsr000emt.variantscore.jsd',\n",
    "       'pred.chrombpnet.encsr000emt.variantscore.ips',\n",
    "       'pred.enformer.encsr000emt.variantscore.local_logfc', 'var.rsid' ]]"
   ]
  },
  {
   "cell_type": "code",
   "execution_count": 86,
   "metadata": {},
   "outputs": [
    {
     "data": {
      "text/html": [
       "<div>\n",
       "<style scoped>\n",
       "    .dataframe tbody tr th:only-of-type {\n",
       "        vertical-align: middle;\n",
       "    }\n",
       "\n",
       "    .dataframe tbody tr th {\n",
       "        vertical-align: top;\n",
       "    }\n",
       "\n",
       "    .dataframe thead th {\n",
       "        text-align: right;\n",
       "    }\n",
       "</style>\n",
       "<table border=\"1\" class=\"dataframe\">\n",
       "  <thead>\n",
       "    <tr style=\"text-align: right;\">\n",
       "      <th></th>\n",
       "      <th>var.chr</th>\n",
       "      <th>var.pos_hg38</th>\n",
       "      <th>var.allele1</th>\n",
       "      <th>var.allele2</th>\n",
       "      <th>obs.beta</th>\n",
       "      <th>obs.pval</th>\n",
       "      <th>var.isused</th>\n",
       "      <th>pred.enformer.encsr000emt.variantscore.global_sad</th>\n",
       "      <th>pred.enformer.encsr000emt.variantscore.global_sar</th>\n",
       "      <th>pred.chrombpnet.encsr637xsc.variantscore.logfc</th>\n",
       "      <th>pred.chrombpnet.encsr637xsc.variantscore.jsd</th>\n",
       "      <th>pred.chrombpnet.encsr637xsc.variantscore.ips</th>\n",
       "      <th>pred.chrombpnet.encsr637xsc_50m.variantscore.logfc</th>\n",
       "      <th>pred.chrombpnet.encsr637xsc_50m.variantscore.jsd</th>\n",
       "      <th>pred.chrombpnet.encsr637xsc_50m.variantscore.ips</th>\n",
       "      <th>pred.chrombpnet.encsr000emt.variantscore.logfc</th>\n",
       "      <th>pred.chrombpnet.encsr000emt.variantscore.jsd</th>\n",
       "      <th>pred.chrombpnet.encsr000emt.variantscore.ips</th>\n",
       "      <th>pred.enformer.encsr000emt.variantscore.local_logfc</th>\n",
       "      <th>var.rsid</th>\n",
       "    </tr>\n",
       "  </thead>\n",
       "  <tbody>\n",
       "    <tr>\n",
       "      <th>0</th>\n",
       "      <td>chr1</td>\n",
       "      <td>29368</td>\n",
       "      <td>G</td>\n",
       "      <td>A</td>\n",
       "      <td>-0.555243</td>\n",
       "      <td>0.162300</td>\n",
       "      <td>False</td>\n",
       "      <td>NaN</td>\n",
       "      <td>NaN</td>\n",
       "      <td>0.016330</td>\n",
       "      <td>0.016225</td>\n",
       "      <td>0.000921</td>\n",
       "      <td>-0.047161</td>\n",
       "      <td>0.015501</td>\n",
       "      <td>6.392476e-04</td>\n",
       "      <td>-0.022719</td>\n",
       "      <td>0.014977</td>\n",
       "      <td>2.808754e-04</td>\n",
       "      <td>0.000000</td>\n",
       "      <td>chr1_29368_G_A</td>\n",
       "    </tr>\n",
       "    <tr>\n",
       "      <th>1</th>\n",
       "      <td>chr1</td>\n",
       "      <td>181113</td>\n",
       "      <td>A</td>\n",
       "      <td>G</td>\n",
       "      <td>-0.517987</td>\n",
       "      <td>0.008885</td>\n",
       "      <td>False</td>\n",
       "      <td>NaN</td>\n",
       "      <td>NaN</td>\n",
       "      <td>-0.010833</td>\n",
       "      <td>0.013280</td>\n",
       "      <td>0.000244</td>\n",
       "      <td>0.015773</td>\n",
       "      <td>0.019976</td>\n",
       "      <td>4.343152e-04</td>\n",
       "      <td>-0.024343</td>\n",
       "      <td>0.012785</td>\n",
       "      <td>2.670390e-04</td>\n",
       "      <td>-0.000051</td>\n",
       "      <td>chr1_181113_A_G</td>\n",
       "    </tr>\n",
       "    <tr>\n",
       "      <th>2</th>\n",
       "      <td>chr1</td>\n",
       "      <td>183668</td>\n",
       "      <td>G</td>\n",
       "      <td>C</td>\n",
       "      <td>0.132833</td>\n",
       "      <td>0.677535</td>\n",
       "      <td>False</td>\n",
       "      <td>NaN</td>\n",
       "      <td>NaN</td>\n",
       "      <td>0.012356</td>\n",
       "      <td>0.006999</td>\n",
       "      <td>0.000001</td>\n",
       "      <td>0.014479</td>\n",
       "      <td>0.006174</td>\n",
       "      <td>1.004148e-07</td>\n",
       "      <td>0.004356</td>\n",
       "      <td>0.011921</td>\n",
       "      <td>1.394479e-07</td>\n",
       "      <td>0.001229</td>\n",
       "      <td>chr1_183668_G_C</td>\n",
       "    </tr>\n",
       "    <tr>\n",
       "      <th>3</th>\n",
       "      <td>chr1</td>\n",
       "      <td>183856</td>\n",
       "      <td>A</td>\n",
       "      <td>G</td>\n",
       "      <td>-0.003990</td>\n",
       "      <td>0.990356</td>\n",
       "      <td>False</td>\n",
       "      <td>NaN</td>\n",
       "      <td>NaN</td>\n",
       "      <td>0.007655</td>\n",
       "      <td>0.005524</td>\n",
       "      <td>0.000002</td>\n",
       "      <td>-0.001006</td>\n",
       "      <td>0.007575</td>\n",
       "      <td>1.378642e-07</td>\n",
       "      <td>0.012496</td>\n",
       "      <td>0.012003</td>\n",
       "      <td>8.096543e-07</td>\n",
       "      <td>-0.001909</td>\n",
       "      <td>chr1_183856_A_G</td>\n",
       "    </tr>\n",
       "    <tr>\n",
       "      <th>4</th>\n",
       "      <td>chr1</td>\n",
       "      <td>186835</td>\n",
       "      <td>A</td>\n",
       "      <td>G</td>\n",
       "      <td>-0.540573</td>\n",
       "      <td>0.025945</td>\n",
       "      <td>False</td>\n",
       "      <td>NaN</td>\n",
       "      <td>NaN</td>\n",
       "      <td>0.008209</td>\n",
       "      <td>0.007403</td>\n",
       "      <td>0.000038</td>\n",
       "      <td>0.038698</td>\n",
       "      <td>0.008503</td>\n",
       "      <td>6.592923e-05</td>\n",
       "      <td>0.009925</td>\n",
       "      <td>0.010218</td>\n",
       "      <td>3.396549e-05</td>\n",
       "      <td>0.006890</td>\n",
       "      <td>chr1_186835_A_G</td>\n",
       "    </tr>\n",
       "    <tr>\n",
       "      <th>...</th>\n",
       "      <td>...</td>\n",
       "      <td>...</td>\n",
       "      <td>...</td>\n",
       "      <td>...</td>\n",
       "      <td>...</td>\n",
       "      <td>...</td>\n",
       "      <td>...</td>\n",
       "      <td>...</td>\n",
       "      <td>...</td>\n",
       "      <td>...</td>\n",
       "      <td>...</td>\n",
       "      <td>...</td>\n",
       "      <td>...</td>\n",
       "      <td>...</td>\n",
       "      <td>...</td>\n",
       "      <td>...</td>\n",
       "      <td>...</td>\n",
       "      <td>...</td>\n",
       "      <td>...</td>\n",
       "      <td>...</td>\n",
       "    </tr>\n",
       "    <tr>\n",
       "      <th>130265</th>\n",
       "      <td>chr9</td>\n",
       "      <td>138126181</td>\n",
       "      <td>T</td>\n",
       "      <td>A</td>\n",
       "      <td>NaN</td>\n",
       "      <td>NaN</td>\n",
       "      <td>False</td>\n",
       "      <td>NaN</td>\n",
       "      <td>NaN</td>\n",
       "      <td>0.075421</td>\n",
       "      <td>0.023075</td>\n",
       "      <td>0.002868</td>\n",
       "      <td>0.061104</td>\n",
       "      <td>0.028289</td>\n",
       "      <td>1.073560e-03</td>\n",
       "      <td>0.094072</td>\n",
       "      <td>0.016540</td>\n",
       "      <td>1.174356e-03</td>\n",
       "      <td>0.001497</td>\n",
       "      <td>chr9_138126181_T_A</td>\n",
       "    </tr>\n",
       "    <tr>\n",
       "      <th>130266</th>\n",
       "      <td>chr9</td>\n",
       "      <td>138126221</td>\n",
       "      <td>G</td>\n",
       "      <td>A</td>\n",
       "      <td>NaN</td>\n",
       "      <td>NaN</td>\n",
       "      <td>False</td>\n",
       "      <td>NaN</td>\n",
       "      <td>NaN</td>\n",
       "      <td>0.046205</td>\n",
       "      <td>0.017627</td>\n",
       "      <td>0.000677</td>\n",
       "      <td>0.042396</td>\n",
       "      <td>0.016189</td>\n",
       "      <td>4.898902e-04</td>\n",
       "      <td>0.046539</td>\n",
       "      <td>0.013431</td>\n",
       "      <td>5.258279e-04</td>\n",
       "      <td>-0.008409</td>\n",
       "      <td>chr9_138126221_G_A</td>\n",
       "    </tr>\n",
       "    <tr>\n",
       "      <th>130267</th>\n",
       "      <td>chr9</td>\n",
       "      <td>138150328</td>\n",
       "      <td>T</td>\n",
       "      <td>C</td>\n",
       "      <td>NaN</td>\n",
       "      <td>NaN</td>\n",
       "      <td>False</td>\n",
       "      <td>NaN</td>\n",
       "      <td>NaN</td>\n",
       "      <td>-0.072592</td>\n",
       "      <td>0.007255</td>\n",
       "      <td>0.000445</td>\n",
       "      <td>-0.069732</td>\n",
       "      <td>0.016685</td>\n",
       "      <td>9.884849e-04</td>\n",
       "      <td>-0.064650</td>\n",
       "      <td>0.014080</td>\n",
       "      <td>6.374238e-04</td>\n",
       "      <td>0.027671</td>\n",
       "      <td>chr9_138150328_T_C</td>\n",
       "    </tr>\n",
       "    <tr>\n",
       "      <th>130268</th>\n",
       "      <td>chr9</td>\n",
       "      <td>138150330</td>\n",
       "      <td>T</td>\n",
       "      <td>C</td>\n",
       "      <td>NaN</td>\n",
       "      <td>NaN</td>\n",
       "      <td>False</td>\n",
       "      <td>NaN</td>\n",
       "      <td>NaN</td>\n",
       "      <td>-0.040805</td>\n",
       "      <td>0.007400</td>\n",
       "      <td>0.000275</td>\n",
       "      <td>-0.048410</td>\n",
       "      <td>0.011850</td>\n",
       "      <td>4.706451e-04</td>\n",
       "      <td>-0.065633</td>\n",
       "      <td>0.015761</td>\n",
       "      <td>8.610609e-04</td>\n",
       "      <td>0.007004</td>\n",
       "      <td>chr9_138150330_T_C</td>\n",
       "    </tr>\n",
       "    <tr>\n",
       "      <th>130269</th>\n",
       "      <td>chr9</td>\n",
       "      <td>138150331</td>\n",
       "      <td>C</td>\n",
       "      <td>G</td>\n",
       "      <td>NaN</td>\n",
       "      <td>NaN</td>\n",
       "      <td>False</td>\n",
       "      <td>NaN</td>\n",
       "      <td>NaN</td>\n",
       "      <td>-0.018330</td>\n",
       "      <td>0.009982</td>\n",
       "      <td>0.000184</td>\n",
       "      <td>0.025060</td>\n",
       "      <td>0.010800</td>\n",
       "      <td>2.242477e-04</td>\n",
       "      <td>0.038397</td>\n",
       "      <td>0.023184</td>\n",
       "      <td>6.383265e-04</td>\n",
       "      <td>0.005231</td>\n",
       "      <td>chr9_138150331_C_G</td>\n",
       "    </tr>\n",
       "  </tbody>\n",
       "</table>\n",
       "<p>130268 rows × 20 columns</p>\n",
       "</div>"
      ],
      "text/plain": [
       "       var.chr  var.pos_hg38 var.allele1 var.allele2  obs.beta  obs.pval  \\\n",
       "0         chr1         29368           G           A -0.555243  0.162300   \n",
       "1         chr1        181113           A           G -0.517987  0.008885   \n",
       "2         chr1        183668           G           C  0.132833  0.677535   \n",
       "3         chr1        183856           A           G -0.003990  0.990356   \n",
       "4         chr1        186835           A           G -0.540573  0.025945   \n",
       "...        ...           ...         ...         ...       ...       ...   \n",
       "130265    chr9     138126181           T           A       NaN       NaN   \n",
       "130266    chr9     138126221           G           A       NaN       NaN   \n",
       "130267    chr9     138150328           T           C       NaN       NaN   \n",
       "130268    chr9     138150330           T           C       NaN       NaN   \n",
       "130269    chr9     138150331           C           G       NaN       NaN   \n",
       "\n",
       "        var.isused  pred.enformer.encsr000emt.variantscore.global_sad  \\\n",
       "0            False                                                NaN   \n",
       "1            False                                                NaN   \n",
       "2            False                                                NaN   \n",
       "3            False                                                NaN   \n",
       "4            False                                                NaN   \n",
       "...            ...                                                ...   \n",
       "130265       False                                                NaN   \n",
       "130266       False                                                NaN   \n",
       "130267       False                                                NaN   \n",
       "130268       False                                                NaN   \n",
       "130269       False                                                NaN   \n",
       "\n",
       "        pred.enformer.encsr000emt.variantscore.global_sar  \\\n",
       "0                                                     NaN   \n",
       "1                                                     NaN   \n",
       "2                                                     NaN   \n",
       "3                                                     NaN   \n",
       "4                                                     NaN   \n",
       "...                                                   ...   \n",
       "130265                                                NaN   \n",
       "130266                                                NaN   \n",
       "130267                                                NaN   \n",
       "130268                                                NaN   \n",
       "130269                                                NaN   \n",
       "\n",
       "        pred.chrombpnet.encsr637xsc.variantscore.logfc  \\\n",
       "0                                             0.016330   \n",
       "1                                            -0.010833   \n",
       "2                                             0.012356   \n",
       "3                                             0.007655   \n",
       "4                                             0.008209   \n",
       "...                                                ...   \n",
       "130265                                        0.075421   \n",
       "130266                                        0.046205   \n",
       "130267                                       -0.072592   \n",
       "130268                                       -0.040805   \n",
       "130269                                       -0.018330   \n",
       "\n",
       "        pred.chrombpnet.encsr637xsc.variantscore.jsd  \\\n",
       "0                                           0.016225   \n",
       "1                                           0.013280   \n",
       "2                                           0.006999   \n",
       "3                                           0.005524   \n",
       "4                                           0.007403   \n",
       "...                                              ...   \n",
       "130265                                      0.023075   \n",
       "130266                                      0.017627   \n",
       "130267                                      0.007255   \n",
       "130268                                      0.007400   \n",
       "130269                                      0.009982   \n",
       "\n",
       "        pred.chrombpnet.encsr637xsc.variantscore.ips  \\\n",
       "0                                           0.000921   \n",
       "1                                           0.000244   \n",
       "2                                           0.000001   \n",
       "3                                           0.000002   \n",
       "4                                           0.000038   \n",
       "...                                              ...   \n",
       "130265                                      0.002868   \n",
       "130266                                      0.000677   \n",
       "130267                                      0.000445   \n",
       "130268                                      0.000275   \n",
       "130269                                      0.000184   \n",
       "\n",
       "        pred.chrombpnet.encsr637xsc_50m.variantscore.logfc  \\\n",
       "0                                               -0.047161    \n",
       "1                                                0.015773    \n",
       "2                                                0.014479    \n",
       "3                                               -0.001006    \n",
       "4                                                0.038698    \n",
       "...                                                   ...    \n",
       "130265                                           0.061104    \n",
       "130266                                           0.042396    \n",
       "130267                                          -0.069732    \n",
       "130268                                          -0.048410    \n",
       "130269                                           0.025060    \n",
       "\n",
       "        pred.chrombpnet.encsr637xsc_50m.variantscore.jsd  \\\n",
       "0                                               0.015501   \n",
       "1                                               0.019976   \n",
       "2                                               0.006174   \n",
       "3                                               0.007575   \n",
       "4                                               0.008503   \n",
       "...                                                  ...   \n",
       "130265                                          0.028289   \n",
       "130266                                          0.016189   \n",
       "130267                                          0.016685   \n",
       "130268                                          0.011850   \n",
       "130269                                          0.010800   \n",
       "\n",
       "        pred.chrombpnet.encsr637xsc_50m.variantscore.ips  \\\n",
       "0                                           6.392476e-04   \n",
       "1                                           4.343152e-04   \n",
       "2                                           1.004148e-07   \n",
       "3                                           1.378642e-07   \n",
       "4                                           6.592923e-05   \n",
       "...                                                  ...   \n",
       "130265                                      1.073560e-03   \n",
       "130266                                      4.898902e-04   \n",
       "130267                                      9.884849e-04   \n",
       "130268                                      4.706451e-04   \n",
       "130269                                      2.242477e-04   \n",
       "\n",
       "        pred.chrombpnet.encsr000emt.variantscore.logfc  \\\n",
       "0                                            -0.022719   \n",
       "1                                            -0.024343   \n",
       "2                                             0.004356   \n",
       "3                                             0.012496   \n",
       "4                                             0.009925   \n",
       "...                                                ...   \n",
       "130265                                        0.094072   \n",
       "130266                                        0.046539   \n",
       "130267                                       -0.064650   \n",
       "130268                                       -0.065633   \n",
       "130269                                        0.038397   \n",
       "\n",
       "        pred.chrombpnet.encsr000emt.variantscore.jsd  \\\n",
       "0                                           0.014977   \n",
       "1                                           0.012785   \n",
       "2                                           0.011921   \n",
       "3                                           0.012003   \n",
       "4                                           0.010218   \n",
       "...                                              ...   \n",
       "130265                                      0.016540   \n",
       "130266                                      0.013431   \n",
       "130267                                      0.014080   \n",
       "130268                                      0.015761   \n",
       "130269                                      0.023184   \n",
       "\n",
       "        pred.chrombpnet.encsr000emt.variantscore.ips  \\\n",
       "0                                       2.808754e-04   \n",
       "1                                       2.670390e-04   \n",
       "2                                       1.394479e-07   \n",
       "3                                       8.096543e-07   \n",
       "4                                       3.396549e-05   \n",
       "...                                              ...   \n",
       "130265                                  1.174356e-03   \n",
       "130266                                  5.258279e-04   \n",
       "130267                                  6.374238e-04   \n",
       "130268                                  8.610609e-04   \n",
       "130269                                  6.383265e-04   \n",
       "\n",
       "        pred.enformer.encsr000emt.variantscore.local_logfc            var.rsid  \n",
       "0                                                0.000000       chr1_29368_G_A  \n",
       "1                                               -0.000051      chr1_181113_A_G  \n",
       "2                                                0.001229      chr1_183668_G_C  \n",
       "3                                               -0.001909      chr1_183856_A_G  \n",
       "4                                                0.006890      chr1_186835_A_G  \n",
       "...                                                   ...                  ...  \n",
       "130265                                           0.001497   chr9_138126181_T_A  \n",
       "130266                                          -0.008409   chr9_138126221_G_A  \n",
       "130267                                           0.027671   chr9_138150328_T_C  \n",
       "130268                                           0.007004   chr9_138150330_T_C  \n",
       "130269                                           0.005231   chr9_138150331_C_G  \n",
       "\n",
       "[130268 rows x 20 columns]"
      ]
     },
     "execution_count": 86,
     "metadata": {},
     "output_type": "execute_result"
    }
   ],
   "source": [
    "new_df"
   ]
  },
  {
   "cell_type": "code",
   "execution_count": 87,
   "metadata": {},
   "outputs": [],
   "source": [
    "new_df[\"pred.enformer.encsr000emt.variantscore.local_logfc\"] = -1*new_df[\"pred.enformer.encsr000emt.variantscore.local_logfc\"]"
   ]
  },
  {
   "cell_type": "code",
   "execution_count": 88,
   "metadata": {},
   "outputs": [],
   "source": [
    "new_df.to_csv(\"full_variants/caqtls.eu.lcls.benchmarking.all.tsv\", sep='\\t', header=True, index=False)"
   ]
  },
  {
   "cell_type": "code",
   "execution_count": 89,
   "metadata": {},
   "outputs": [],
   "source": [
    "dataf_final = new_df[new_df[\"var.isused\"]]"
   ]
  },
  {
   "cell_type": "code",
   "execution_count": 90,
   "metadata": {},
   "outputs": [],
   "source": [
    "dataf_final = dataf_final.drop([\"var.isused\"], axis=1)"
   ]
  },
  {
   "cell_type": "code",
   "execution_count": 91,
   "metadata": {},
   "outputs": [],
   "source": [
    "dataf_final.to_csv(\"filtered_variants/caqtls.eu.lcls.benchmarking.chrombpnet.tsv\", sep=\"\\t\", header=True, index=False)\n"
   ]
  },
  {
   "cell_type": "code",
   "execution_count": 92,
   "metadata": {},
   "outputs": [
    {
     "data": {
      "text/plain": [
       "(95065, 19)"
      ]
     },
     "execution_count": 92,
     "metadata": {},
     "output_type": "execute_result"
    }
   ],
   "source": [
    "dataf_final.shape"
   ]
  },
  {
   "cell_type": "code",
   "execution_count": 95,
   "metadata": {},
   "outputs": [
    {
     "data": {
      "text/plain": [
       "(95065, 19)"
      ]
     },
     "execution_count": 95,
     "metadata": {},
     "output_type": "execute_result"
    }
   ],
   "source": [
    "dataf_final.shape"
   ]
  },
  {
   "cell_type": "code",
   "execution_count": 96,
   "metadata": {},
   "outputs": [
    {
     "data": {
      "text/plain": [
       "Index(['var.chr', 'var.pos_hg38', 'var.allele1', 'var.allele2', 'obs.beta',\n",
       "       'obs.pval', 'var.isused',\n",
       "       'pred.enformer.encsr000emt.variantscore.global_sad',\n",
       "       'pred.enformer.encsr000emt.variantscore.global_sar',\n",
       "       'pred.chrombpnet.encsr637xsc.variantscore.logfc',\n",
       "       'pred.chrombpnet.encsr637xsc.variantscore.jsd',\n",
       "       'pred.chrombpnet.encsr637xsc.variantscore.ips',\n",
       "       'pred.chrombpnet.encsr637xsc_50m.variantscore.logfc',\n",
       "       'pred.chrombpnet.encsr637xsc_50m.variantscore.jsd',\n",
       "       'pred.chrombpnet.encsr637xsc_50m.variantscore.ips',\n",
       "       'pred.chrombpnet.encsr000emt.variantscore.logfc',\n",
       "       'pred.chrombpnet.encsr000emt.variantscore.jsd',\n",
       "       'pred.chrombpnet.encsr000emt.variantscore.ips',\n",
       "       'pred.enformer.encsr000emt.variantscore.local_logfc', 'var.rsid'],\n",
       "      dtype='object')"
      ]
     },
     "execution_count": 96,
     "metadata": {},
     "output_type": "execute_result"
    }
   ],
   "source": [
    "new_df.columns"
   ]
  },
  {
   "cell_type": "code",
   "execution_count": 97,
   "metadata": {},
   "outputs": [],
   "source": [
    "\n",
    "readme_data = {'var.chr' : \"Chromosome of the variant (GRCh38)\", \n",
    "        'var.pos_hg38': \"Position of the variant (GRCh38, 1-based)\",\n",
    "        'var.allele1': \"Allele 1 for the variant\", \n",
    "        'var.allele2': \"Allele 2 for the variant\",        \n",
    "       'obs.label': \"True if variant has significant observed effect size\", \n",
    "       'var.isused': \"True if variant is used in final ChromBPNet benchmarking\",\n",
    "       'obs.beta': \"Observed effect size\", \n",
    "       'obs.pval': \"p-value significance of observed effect size\", \n",
    "       'pred.enformer.encsr000emt.varscore.global_sad': \"Enformer SAD predictions (downloaded) in encsr000emt\",\n",
    "       'pred.enformer.encsr000emt.varscore.global_sar': \"Enformer SAR predictions (downloaded) in encsr000emt\",\n",
    "       'pred.enformer.encsr000emt.varscore.local_logfc': \"Enformer logFC (local) predictions (re-computed) in encsr000emt\",\n",
    "       'pred.chrombpnet.xxx.varscore.logfc': \"ChromBPNet logFC predictions in encid xxx\",\n",
    "       'pred.chrombpnet.xxx.varscore.jsd':  \"ChromBPNet JSD predictions in encid xxx\", \n",
    "       'pred.chrombpnet.xxx.varscore.ips': \"ChromBPNet IPS predictions in encid xxx\",\n",
    "       'var.rsid': \"cariant identifier\" }\n",
    "\n",
    "# encsr637xsc_5m\n",
    "# encsr637xsc_25m\n",
    "# encsr637xsc_50m\n",
    "# encsr637xsc_100m\n",
    "# encsr637xsc_250m\n",
    "# encsr637xsc"
   ]
  },
  {
   "cell_type": "code",
   "execution_count": 98,
   "metadata": {},
   "outputs": [
    {
     "name": "stdout",
     "output_type": "stream",
     "text": [
      "var.chr\n",
      "var.pos_hg38\n",
      "var.allele1\n",
      "var.allele2\n",
      "obs.label\n",
      "var.isused\n",
      "obs.beta\n",
      "obs.pval\n",
      "pred.enformer.encsr000emt.varscore.global_sad\n",
      "pred.enformer.encsr000emt.varscore.global_sar\n",
      "pred.enformer.encsr000emt.varscore.local_logfc\n",
      "pred.chrombpnet.xxx.varscore.logfc\n",
      "pred.chrombpnet.xxx.varscore.jsd\n",
      "pred.chrombpnet.xxx.varscore.ips\n",
      "var.rsid\n"
     ]
    }
   ],
   "source": [
    "f = open(\"full_variants/caqtls.eu.lcls.benchmarking.all.README\", \"w\")\n",
    "f.write(\"# TSV Field Header Descriptions \\n \\n\")\n",
    "for val in readme_data:\n",
    "    print(val)\n",
    "    f.write(val+\" : \"+readme_data[val]+\"\\n\")\n",
    "f.write(\"\\n\")\n",
    "f.write(\"# Experiment-Specific Headers and IDs  \\n\")\n",
    "f.close()"
   ]
  },
  {
   "cell_type": "code",
   "execution_count": null,
   "metadata": {},
   "outputs": [],
   "source": []
  },
  {
   "cell_type": "code",
   "execution_count": null,
   "metadata": {},
   "outputs": [],
   "source": []
  },
  {
   "cell_type": "code",
   "execution_count": 101,
   "metadata": {},
   "outputs": [
    {
     "data": {
      "text/plain": [
       "(130268, 20)"
      ]
     },
     "execution_count": 101,
     "metadata": {},
     "output_type": "execute_result"
    }
   ],
   "source": [
    "new_df.shape"
   ]
  },
  {
   "cell_type": "code",
   "execution_count": 102,
   "metadata": {},
   "outputs": [
    {
     "data": {
      "text/html": [
       "<div>\n",
       "<style scoped>\n",
       "    .dataframe tbody tr th:only-of-type {\n",
       "        vertical-align: middle;\n",
       "    }\n",
       "\n",
       "    .dataframe tbody tr th {\n",
       "        vertical-align: top;\n",
       "    }\n",
       "\n",
       "    .dataframe thead th {\n",
       "        text-align: right;\n",
       "    }\n",
       "</style>\n",
       "<table border=\"1\" class=\"dataframe\">\n",
       "  <thead>\n",
       "    <tr style=\"text-align: right;\">\n",
       "      <th></th>\n",
       "      <th>var.chr</th>\n",
       "      <th>var.pos_hg38</th>\n",
       "      <th>var.allele1</th>\n",
       "      <th>var.allele2</th>\n",
       "      <th>obs.beta</th>\n",
       "      <th>obs.pval</th>\n",
       "      <th>var.isused</th>\n",
       "      <th>pred.enformer.encsr000emt.variantscore.global_sad</th>\n",
       "      <th>pred.enformer.encsr000emt.variantscore.global_sar</th>\n",
       "      <th>pred.chrombpnet.encsr637xsc.variantscore.logfc</th>\n",
       "      <th>pred.chrombpnet.encsr637xsc.variantscore.jsd</th>\n",
       "      <th>pred.chrombpnet.encsr637xsc.variantscore.ips</th>\n",
       "      <th>pred.chrombpnet.encsr637xsc_50m.variantscore.logfc</th>\n",
       "      <th>pred.chrombpnet.encsr637xsc_50m.variantscore.jsd</th>\n",
       "      <th>pred.chrombpnet.encsr637xsc_50m.variantscore.ips</th>\n",
       "      <th>pred.chrombpnet.encsr000emt.variantscore.logfc</th>\n",
       "      <th>pred.chrombpnet.encsr000emt.variantscore.jsd</th>\n",
       "      <th>pred.chrombpnet.encsr000emt.variantscore.ips</th>\n",
       "      <th>pred.enformer.encsr000emt.variantscore.local_logfc</th>\n",
       "      <th>var.rsid</th>\n",
       "    </tr>\n",
       "  </thead>\n",
       "  <tbody>\n",
       "    <tr>\n",
       "      <th>0</th>\n",
       "      <td>chr1</td>\n",
       "      <td>29368</td>\n",
       "      <td>G</td>\n",
       "      <td>A</td>\n",
       "      <td>-0.555243</td>\n",
       "      <td>0.1623</td>\n",
       "      <td>False</td>\n",
       "      <td>NaN</td>\n",
       "      <td>NaN</td>\n",
       "      <td>0.01633</td>\n",
       "      <td>0.016225</td>\n",
       "      <td>0.000921</td>\n",
       "      <td>-0.047161</td>\n",
       "      <td>0.015501</td>\n",
       "      <td>0.000639</td>\n",
       "      <td>-0.022719</td>\n",
       "      <td>0.014977</td>\n",
       "      <td>0.000281</td>\n",
       "      <td>-0.0</td>\n",
       "      <td>chr1_29368_G_A</td>\n",
       "    </tr>\n",
       "  </tbody>\n",
       "</table>\n",
       "</div>"
      ],
      "text/plain": [
       "  var.chr  var.pos_hg38 var.allele1 var.allele2  obs.beta  obs.pval  \\\n",
       "0    chr1         29368           G           A -0.555243    0.1623   \n",
       "\n",
       "   var.isused  pred.enformer.encsr000emt.variantscore.global_sad  \\\n",
       "0       False                                                NaN   \n",
       "\n",
       "   pred.enformer.encsr000emt.variantscore.global_sar  \\\n",
       "0                                                NaN   \n",
       "\n",
       "   pred.chrombpnet.encsr637xsc.variantscore.logfc  \\\n",
       "0                                         0.01633   \n",
       "\n",
       "   pred.chrombpnet.encsr637xsc.variantscore.jsd  \\\n",
       "0                                      0.016225   \n",
       "\n",
       "   pred.chrombpnet.encsr637xsc.variantscore.ips  \\\n",
       "0                                      0.000921   \n",
       "\n",
       "   pred.chrombpnet.encsr637xsc_50m.variantscore.logfc  \\\n",
       "0                                          -0.047161    \n",
       "\n",
       "   pred.chrombpnet.encsr637xsc_50m.variantscore.jsd  \\\n",
       "0                                          0.015501   \n",
       "\n",
       "   pred.chrombpnet.encsr637xsc_50m.variantscore.ips  \\\n",
       "0                                          0.000639   \n",
       "\n",
       "   pred.chrombpnet.encsr000emt.variantscore.logfc  \\\n",
       "0                                       -0.022719   \n",
       "\n",
       "   pred.chrombpnet.encsr000emt.variantscore.jsd  \\\n",
       "0                                      0.014977   \n",
       "\n",
       "   pred.chrombpnet.encsr000emt.variantscore.ips  \\\n",
       "0                                      0.000281   \n",
       "\n",
       "   pred.enformer.encsr000emt.variantscore.local_logfc        var.rsid  \n",
       "0                                               -0.0   chr1_29368_G_A  "
      ]
     },
     "execution_count": 102,
     "metadata": {},
     "output_type": "execute_result"
    }
   ],
   "source": [
    "new_df.head(1)"
   ]
  },
  {
   "cell_type": "code",
   "execution_count": null,
   "metadata": {},
   "outputs": [],
   "source": []
  },
  {
   "cell_type": "code",
   "execution_count": null,
   "metadata": {},
   "outputs": [],
   "source": []
  },
  {
   "cell_type": "code",
   "execution_count": null,
   "metadata": {},
   "outputs": [],
   "source": []
  },
  {
   "cell_type": "code",
   "execution_count": null,
   "metadata": {},
   "outputs": [],
   "source": []
  },
  {
   "cell_type": "code",
   "execution_count": null,
   "metadata": {},
   "outputs": [],
   "source": []
  },
  {
   "cell_type": "code",
   "execution_count": null,
   "metadata": {},
   "outputs": [],
   "source": []
  },
  {
   "cell_type": "code",
   "execution_count": 94,
   "metadata": {},
   "outputs": [],
   "source": [
    "#vars_in_bedn2[['chromosome_x', 'position', 'ref', 'alt', 'variant', 'rsid']].to_csv(\"/mnt/lab_data2/anusri/enformer/kaur_eu_caqtls/rsids.txt\", sep='\\t', header=False, index=False)\n",
    "                                                                   "
   ]
  },
  {
   "cell_type": "code",
   "execution_count": null,
   "metadata": {},
   "outputs": [],
   "source": []
  }
 ],
 "metadata": {
  "kernelspec": {
   "display_name": "Python 3",
   "language": "python",
   "name": "python3"
  },
  "language_info": {
   "codemirror_mode": {
    "name": "ipython",
    "version": 3
   },
   "file_extension": ".py",
   "mimetype": "text/x-python",
   "name": "python",
   "nbconvert_exporter": "python",
   "pygments_lexer": "ipython3",
   "version": "3.7.6"
  }
 },
 "nbformat": 4,
 "nbformat_minor": 4
}
