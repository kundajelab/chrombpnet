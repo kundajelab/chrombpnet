{
 "cells": [
  {
   "cell_type": "code",
   "execution_count": 1,
   "metadata": {},
   "outputs": [],
   "source": [
    "import pandas as pd\n",
    "import numpy as np\n"
   ]
  },
  {
   "cell_type": "code",
   "execution_count": 2,
   "metadata": {},
   "outputs": [],
   "source": [
    "meta=pd.read_csv(\"/mnt/lab_data2/anusri/chrombpnet/results/variant_data/microglia_caqtls/feb11_2024/caqtls_microglia_formatted.tsv\", sep=\"\\t\", header=0)\n"
   ]
  },
  {
   "cell_type": "code",
   "execution_count": 3,
   "metadata": {},
   "outputs": [
    {
     "name": "stdout",
     "output_type": "stream",
     "text": [
      "        PeakID Top_SNP_perPeak  Z_score_perPeak  pVal_perPeak  \\\n",
      "0  Peak_100075        rs281785         -8.42764  2.782460e-16   \n",
      "1  Peak_100119       rs2033804         -4.61924  9.151825e-05   \n",
      "2  Peak_100143       rs2287012         -4.74954  4.913505e-04   \n",
      "3   Peak_10016      rs10752994          9.37451  3.808717e-19   \n",
      "4   Peak_10018      rs12123755          8.27532  8.271750e-15   \n",
      "\n",
      "   FDR_acrossAllPeaks   Chr non-effect_allele effect_allele         Peak  \\\n",
      "0        1.245536e-13  chr2                 A             G  Peak_100075   \n",
      "1        5.522434e-03  chr2                 A             T  Peak_100119   \n",
      "2        2.272244e-02  chr2                 T             C  Peak_100143   \n",
      "3        2.532563e-16  chr1                 A             G   Peak_10016   \n",
      "4        3.013410e-12  chr1                 C             T   Peak_10018   \n",
      "\n",
      "   caQTL_order     Variant      Beta  Z_score_fixed  Z_score_random CHROM  \\\n",
      "0            1    rs281785  1.293180       10.11000        10.11000  chr2   \n",
      "1            1   rs2033804 -0.396164       -3.48053         4.61828  chr2   \n",
      "2            1   rs2287012 -0.498759       -5.07707         5.07707  chr2   \n",
      "3            1  rs10752994 -1.070820      -11.41800        11.41800  chr1   \n",
      "4            1  rs12123755  0.816922        8.27532             NaN  chr1   \n",
      "\n",
      "           POS  \n",
      "0  199884843.0  \n",
      "1  200357680.0  \n",
      "2  200656660.0  \n",
      "3  172585461.0  \n",
      "4  172625478.0  \n"
     ]
    }
   ],
   "source": [
    "meta = meta[~np.isnan(meta[\"POS\"])]\n",
    "print(meta.head())"
   ]
  },
  {
   "cell_type": "code",
   "execution_count": 4,
   "metadata": {},
   "outputs": [
    {
     "data": {
      "text/plain": [
       "Index(['PeakID', 'Top_SNP_perPeak', 'Z_score_perPeak', 'pVal_perPeak',\n",
       "       'FDR_acrossAllPeaks', 'Chr', 'non-effect_allele', 'effect_allele',\n",
       "       'Peak', 'caQTL_order', 'Variant', 'Beta', 'Z_score_fixed',\n",
       "       'Z_score_random', 'CHROM', 'POS'],\n",
       "      dtype='object')"
      ]
     },
     "execution_count": 4,
     "metadata": {},
     "output_type": "execute_result"
    }
   ],
   "source": [
    "meta.columns"
   ]
  },
  {
   "cell_type": "code",
   "execution_count": 5,
   "metadata": {},
   "outputs": [
    {
     "data": {
      "text/plain": [
       "(4978, 7)"
      ]
     },
     "execution_count": 5,
     "metadata": {},
     "output_type": "execute_result"
    }
   ],
   "source": [
    "meta = meta[[\"CHROM\", \"POS\", \"non-effect_allele\", \"effect_allele\", \"Top_SNP_perPeak\", \"Z_score_fixed\", \"Beta\"]]\n",
    "meta.shape"
   ]
  },
  {
   "cell_type": "code",
   "execution_count": 6,
   "metadata": {},
   "outputs": [
    {
     "data": {
      "text/html": [
       "<div>\n",
       "<style scoped>\n",
       "    .dataframe tbody tr th:only-of-type {\n",
       "        vertical-align: middle;\n",
       "    }\n",
       "\n",
       "    .dataframe tbody tr th {\n",
       "        vertical-align: top;\n",
       "    }\n",
       "\n",
       "    .dataframe thead th {\n",
       "        text-align: right;\n",
       "    }\n",
       "</style>\n",
       "<table border=\"1\" class=\"dataframe\">\n",
       "  <thead>\n",
       "    <tr style=\"text-align: right;\">\n",
       "      <th></th>\n",
       "      <th>CHROM</th>\n",
       "      <th>POS</th>\n",
       "      <th>non-effect_allele</th>\n",
       "      <th>effect_allele</th>\n",
       "      <th>Top_SNP_perPeak</th>\n",
       "      <th>Z_score_fixed</th>\n",
       "      <th>Beta</th>\n",
       "    </tr>\n",
       "  </thead>\n",
       "  <tbody>\n",
       "    <tr>\n",
       "      <th>0</th>\n",
       "      <td>chr2</td>\n",
       "      <td>199884843.0</td>\n",
       "      <td>A</td>\n",
       "      <td>G</td>\n",
       "      <td>rs281785</td>\n",
       "      <td>10.11000</td>\n",
       "      <td>1.293180</td>\n",
       "    </tr>\n",
       "    <tr>\n",
       "      <th>1</th>\n",
       "      <td>chr2</td>\n",
       "      <td>200357680.0</td>\n",
       "      <td>A</td>\n",
       "      <td>T</td>\n",
       "      <td>rs2033804</td>\n",
       "      <td>-3.48053</td>\n",
       "      <td>-0.396164</td>\n",
       "    </tr>\n",
       "    <tr>\n",
       "      <th>2</th>\n",
       "      <td>chr2</td>\n",
       "      <td>200656660.0</td>\n",
       "      <td>T</td>\n",
       "      <td>C</td>\n",
       "      <td>rs2287012</td>\n",
       "      <td>-5.07707</td>\n",
       "      <td>-0.498759</td>\n",
       "    </tr>\n",
       "    <tr>\n",
       "      <th>3</th>\n",
       "      <td>chr1</td>\n",
       "      <td>172585461.0</td>\n",
       "      <td>A</td>\n",
       "      <td>G</td>\n",
       "      <td>rs10752994</td>\n",
       "      <td>-11.41800</td>\n",
       "      <td>-1.070820</td>\n",
       "    </tr>\n",
       "    <tr>\n",
       "      <th>4</th>\n",
       "      <td>chr1</td>\n",
       "      <td>172625478.0</td>\n",
       "      <td>C</td>\n",
       "      <td>T</td>\n",
       "      <td>rs12123755</td>\n",
       "      <td>8.27532</td>\n",
       "      <td>0.816922</td>\n",
       "    </tr>\n",
       "  </tbody>\n",
       "</table>\n",
       "</div>"
      ],
      "text/plain": [
       "  CHROM          POS non-effect_allele effect_allele Top_SNP_perPeak  \\\n",
       "0  chr2  199884843.0                 A             G        rs281785   \n",
       "1  chr2  200357680.0                 A             T       rs2033804   \n",
       "2  chr2  200656660.0                 T             C       rs2287012   \n",
       "3  chr1  172585461.0                 A             G      rs10752994   \n",
       "4  chr1  172625478.0                 C             T      rs12123755   \n",
       "\n",
       "   Z_score_fixed      Beta  \n",
       "0       10.11000  1.293180  \n",
       "1       -3.48053 -0.396164  \n",
       "2       -5.07707 -0.498759  \n",
       "3      -11.41800 -1.070820  \n",
       "4        8.27532  0.816922  "
      ]
     },
     "execution_count": 6,
     "metadata": {},
     "output_type": "execute_result"
    }
   ],
   "source": [
    "meta.head()"
   ]
  },
  {
   "cell_type": "code",
   "execution_count": 7,
   "metadata": {},
   "outputs": [],
   "source": [
    "peaks=pd.read_csv(\"/mnt/lab_data2/anusri/chrombpnet/results/variant_data/microglia_caqtls/feb11_2024/PeakInfoDetailed_210832_OCRs.csv\", sep=\",\", header=0)"
   ]
  },
  {
   "cell_type": "code",
   "execution_count": 8,
   "metadata": {},
   "outputs": [
    {
     "name": "stdout",
     "output_type": "stream",
     "text": [
      "    Chr   start     end   PeakID  distanceToTSS annotationSimple  \\\n",
      "0  chr1  817105  817588  Peak_13            0.0         Promoter   \n",
      "1  chr1  819868  820628  Peak_14        -2157.0         Promoter   \n",
      "2  chr1  820873  821328  Peak_15        -3162.0           Intron   \n",
      "3  chr1  826886  828002  Peak_16            0.0         Promoter   \n",
      "4  chr1  869728  870232  Peak_17            0.0         Promoter   \n",
      "\n",
      "                                          annotation Associated.Gene.Name  \\\n",
      "0                                   Promoter (<=1kb)               FAM87B   \n",
      "1                                   Promoter (2-3kb)           AL669831.4   \n",
      "2  Intron (ENST00000635509/ENSG00000230021, intro...           AL669831.4   \n",
      "3                                   Promoter (<=1kb)            LINC00115   \n",
      "4                                   Promoter (<=1kb)               FAM41C   \n",
      "\n",
      "                            Gene.type  \n",
      "0                             lincRNA  \n",
      "1  transcribed_unprocessed_pseudogene  \n",
      "2  transcribed_unprocessed_pseudogene  \n",
      "3                             lincRNA  \n",
      "4                             lincRNA  \n",
      "(210832, 9)\n"
     ]
    }
   ],
   "source": [
    "print(peaks.head())\n",
    "print(peaks.shape)\n",
    "#peaks[\"start\"] = ((peaks[\"start\"]+peaks[\"end\"]) // 2) - 100\n",
    "#peaks[\"end\"] = peaks[\"start\"]  + 200"
   ]
  },
  {
   "cell_type": "code",
   "execution_count": 9,
   "metadata": {},
   "outputs": [
    {
     "name": "stdout",
     "output_type": "stream",
     "text": [
      "(4978, 7)\n"
     ]
    }
   ],
   "source": [
    "preds = pd.read_csv(\"/mnt/lab_data2/anusri/variant-scorer/src/output/microglia_scatac/ATAC_new/summary.mean.variant_scores_new.tsv\", sep=\"\\t\", header=0)\n",
    "preds[\"sign.jsd.mean\"] = preds[\"jsd.mean\"]*np.sign(preds[\"logfc.mean\"])\n",
    "preds = preds[[\"chr\", \"pos\", \"rsid\",\"allele1\", \"allele2\", \"logfc.mean\",  \"sign.jsd.mean\"]]\n",
    "preds.head()\n",
    "print(preds.shape)"
   ]
  },
  {
   "cell_type": "code",
   "execution_count": 10,
   "metadata": {},
   "outputs": [
    {
     "name": "stdout",
     "output_type": "stream",
     "text": [
      "(4978, 7)\n"
     ]
    }
   ],
   "source": [
    "print(meta.shape)"
   ]
  },
  {
   "cell_type": "code",
   "execution_count": 11,
   "metadata": {},
   "outputs": [
    {
     "data": {
      "text/html": [
       "<div>\n",
       "<style scoped>\n",
       "    .dataframe tbody tr th:only-of-type {\n",
       "        vertical-align: middle;\n",
       "    }\n",
       "\n",
       "    .dataframe tbody tr th {\n",
       "        vertical-align: top;\n",
       "    }\n",
       "\n",
       "    .dataframe thead th {\n",
       "        text-align: right;\n",
       "    }\n",
       "</style>\n",
       "<table border=\"1\" class=\"dataframe\">\n",
       "  <thead>\n",
       "    <tr style=\"text-align: right;\">\n",
       "      <th></th>\n",
       "      <th>chr</th>\n",
       "      <th>pos</th>\n",
       "      <th>rsid</th>\n",
       "      <th>allele1</th>\n",
       "      <th>allele2</th>\n",
       "      <th>logfc.mean</th>\n",
       "      <th>sign.jsd.mean</th>\n",
       "    </tr>\n",
       "  </thead>\n",
       "  <tbody>\n",
       "    <tr>\n",
       "      <th>0</th>\n",
       "      <td>chr2</td>\n",
       "      <td>199884843.0</td>\n",
       "      <td>chr2_199884843.0_G_A</td>\n",
       "      <td>G</td>\n",
       "      <td>A</td>\n",
       "      <td>0.032774</td>\n",
       "      <td>0.016354</td>\n",
       "    </tr>\n",
       "    <tr>\n",
       "      <th>1</th>\n",
       "      <td>chr2</td>\n",
       "      <td>200357680.0</td>\n",
       "      <td>chr2_200357680.0_T_A</td>\n",
       "      <td>T</td>\n",
       "      <td>A</td>\n",
       "      <td>-0.008075</td>\n",
       "      <td>-0.009565</td>\n",
       "    </tr>\n",
       "    <tr>\n",
       "      <th>2</th>\n",
       "      <td>chr2</td>\n",
       "      <td>200656660.0</td>\n",
       "      <td>chr2_200656660.0_C_T</td>\n",
       "      <td>C</td>\n",
       "      <td>T</td>\n",
       "      <td>0.003838</td>\n",
       "      <td>0.004759</td>\n",
       "    </tr>\n",
       "    <tr>\n",
       "      <th>3</th>\n",
       "      <td>chr1</td>\n",
       "      <td>172585461.0</td>\n",
       "      <td>chr1_172585461.0_G_A</td>\n",
       "      <td>G</td>\n",
       "      <td>A</td>\n",
       "      <td>0.005939</td>\n",
       "      <td>0.004529</td>\n",
       "    </tr>\n",
       "    <tr>\n",
       "      <th>4</th>\n",
       "      <td>chr1</td>\n",
       "      <td>172625478.0</td>\n",
       "      <td>chr1_172625478.0_T_C</td>\n",
       "      <td>T</td>\n",
       "      <td>C</td>\n",
       "      <td>-0.441283</td>\n",
       "      <td>-0.047415</td>\n",
       "    </tr>\n",
       "  </tbody>\n",
       "</table>\n",
       "</div>"
      ],
      "text/plain": [
       "    chr          pos                  rsid allele1 allele2  logfc.mean  \\\n",
       "0  chr2  199884843.0  chr2_199884843.0_G_A       G       A    0.032774   \n",
       "1  chr2  200357680.0  chr2_200357680.0_T_A       T       A   -0.008075   \n",
       "2  chr2  200656660.0  chr2_200656660.0_C_T       C       T    0.003838   \n",
       "3  chr1  172585461.0  chr1_172585461.0_G_A       G       A    0.005939   \n",
       "4  chr1  172625478.0  chr1_172625478.0_T_C       T       C   -0.441283   \n",
       "\n",
       "   sign.jsd.mean  \n",
       "0       0.016354  \n",
       "1      -0.009565  \n",
       "2       0.004759  \n",
       "3       0.004529  \n",
       "4      -0.047415  "
      ]
     },
     "execution_count": 11,
     "metadata": {},
     "output_type": "execute_result"
    }
   ],
   "source": [
    "preds.head()"
   ]
  },
  {
   "cell_type": "code",
   "execution_count": null,
   "metadata": {},
   "outputs": [],
   "source": []
  },
  {
   "cell_type": "code",
   "execution_count": 12,
   "metadata": {},
   "outputs": [
    {
     "name": "stdout",
     "output_type": "stream",
     "text": [
      "(4978, 14)\n"
     ]
    }
   ],
   "source": [
    "meta[\"POS\"] = meta[\"POS\"].astype(int) \n",
    "preds[\"pos\"] = preds[\"pos\"].astype(int) \n",
    "final = meta.merge(preds, left_on=[\"CHROM\", \"POS\", \"effect_allele\", \"non-effect_allele\"], right_on=[\"chr\", \"pos\", \"allele1\", \"allele2\"]).drop_duplicates()\n",
    "print(final.shape)\n"
   ]
  },
  {
   "cell_type": "code",
   "execution_count": 13,
   "metadata": {},
   "outputs": [
    {
     "data": {
      "text/html": [
       "<div>\n",
       "<style scoped>\n",
       "    .dataframe tbody tr th:only-of-type {\n",
       "        vertical-align: middle;\n",
       "    }\n",
       "\n",
       "    .dataframe tbody tr th {\n",
       "        vertical-align: top;\n",
       "    }\n",
       "\n",
       "    .dataframe thead th {\n",
       "        text-align: right;\n",
       "    }\n",
       "</style>\n",
       "<table border=\"1\" class=\"dataframe\">\n",
       "  <thead>\n",
       "    <tr style=\"text-align: right;\">\n",
       "      <th></th>\n",
       "      <th>CHROM</th>\n",
       "      <th>POS</th>\n",
       "      <th>non-effect_allele</th>\n",
       "      <th>effect_allele</th>\n",
       "      <th>Top_SNP_perPeak</th>\n",
       "      <th>Z_score_fixed</th>\n",
       "      <th>Beta</th>\n",
       "      <th>chr</th>\n",
       "      <th>pos</th>\n",
       "      <th>rsid</th>\n",
       "      <th>allele1</th>\n",
       "      <th>allele2</th>\n",
       "      <th>logfc.mean</th>\n",
       "      <th>sign.jsd.mean</th>\n",
       "    </tr>\n",
       "  </thead>\n",
       "  <tbody>\n",
       "    <tr>\n",
       "      <th>0</th>\n",
       "      <td>chr2</td>\n",
       "      <td>199884843</td>\n",
       "      <td>A</td>\n",
       "      <td>G</td>\n",
       "      <td>rs281785</td>\n",
       "      <td>10.11000</td>\n",
       "      <td>1.293180</td>\n",
       "      <td>chr2</td>\n",
       "      <td>199884843</td>\n",
       "      <td>chr2_199884843.0_G_A</td>\n",
       "      <td>G</td>\n",
       "      <td>A</td>\n",
       "      <td>0.032774</td>\n",
       "      <td>0.016354</td>\n",
       "    </tr>\n",
       "    <tr>\n",
       "      <th>1</th>\n",
       "      <td>chr2</td>\n",
       "      <td>200357680</td>\n",
       "      <td>A</td>\n",
       "      <td>T</td>\n",
       "      <td>rs2033804</td>\n",
       "      <td>-3.48053</td>\n",
       "      <td>-0.396164</td>\n",
       "      <td>chr2</td>\n",
       "      <td>200357680</td>\n",
       "      <td>chr2_200357680.0_T_A</td>\n",
       "      <td>T</td>\n",
       "      <td>A</td>\n",
       "      <td>-0.008075</td>\n",
       "      <td>-0.009565</td>\n",
       "    </tr>\n",
       "    <tr>\n",
       "      <th>2</th>\n",
       "      <td>chr2</td>\n",
       "      <td>200656660</td>\n",
       "      <td>T</td>\n",
       "      <td>C</td>\n",
       "      <td>rs2287012</td>\n",
       "      <td>-5.07707</td>\n",
       "      <td>-0.498759</td>\n",
       "      <td>chr2</td>\n",
       "      <td>200656660</td>\n",
       "      <td>chr2_200656660.0_C_T</td>\n",
       "      <td>C</td>\n",
       "      <td>T</td>\n",
       "      <td>0.003838</td>\n",
       "      <td>0.004759</td>\n",
       "    </tr>\n",
       "    <tr>\n",
       "      <th>3</th>\n",
       "      <td>chr1</td>\n",
       "      <td>172585461</td>\n",
       "      <td>A</td>\n",
       "      <td>G</td>\n",
       "      <td>rs10752994</td>\n",
       "      <td>-11.41800</td>\n",
       "      <td>-1.070820</td>\n",
       "      <td>chr1</td>\n",
       "      <td>172585461</td>\n",
       "      <td>chr1_172585461.0_G_A</td>\n",
       "      <td>G</td>\n",
       "      <td>A</td>\n",
       "      <td>0.005939</td>\n",
       "      <td>0.004529</td>\n",
       "    </tr>\n",
       "    <tr>\n",
       "      <th>4</th>\n",
       "      <td>chr1</td>\n",
       "      <td>172625478</td>\n",
       "      <td>C</td>\n",
       "      <td>T</td>\n",
       "      <td>rs12123755</td>\n",
       "      <td>8.27532</td>\n",
       "      <td>0.816922</td>\n",
       "      <td>chr1</td>\n",
       "      <td>172625478</td>\n",
       "      <td>chr1_172625478.0_T_C</td>\n",
       "      <td>T</td>\n",
       "      <td>C</td>\n",
       "      <td>-0.441283</td>\n",
       "      <td>-0.047415</td>\n",
       "    </tr>\n",
       "  </tbody>\n",
       "</table>\n",
       "</div>"
      ],
      "text/plain": [
       "  CHROM        POS non-effect_allele effect_allele Top_SNP_perPeak  \\\n",
       "0  chr2  199884843                 A             G        rs281785   \n",
       "1  chr2  200357680                 A             T       rs2033804   \n",
       "2  chr2  200656660                 T             C       rs2287012   \n",
       "3  chr1  172585461                 A             G      rs10752994   \n",
       "4  chr1  172625478                 C             T      rs12123755   \n",
       "\n",
       "   Z_score_fixed      Beta   chr        pos                  rsid allele1  \\\n",
       "0       10.11000  1.293180  chr2  199884843  chr2_199884843.0_G_A       G   \n",
       "1       -3.48053 -0.396164  chr2  200357680  chr2_200357680.0_T_A       T   \n",
       "2       -5.07707 -0.498759  chr2  200656660  chr2_200656660.0_C_T       C   \n",
       "3      -11.41800 -1.070820  chr1  172585461  chr1_172585461.0_G_A       G   \n",
       "4        8.27532  0.816922  chr1  172625478  chr1_172625478.0_T_C       T   \n",
       "\n",
       "  allele2  logfc.mean  sign.jsd.mean  \n",
       "0       A    0.032774       0.016354  \n",
       "1       A   -0.008075      -0.009565  \n",
       "2       T    0.003838       0.004759  \n",
       "3       A    0.005939       0.004529  \n",
       "4       C   -0.441283      -0.047415  "
      ]
     },
     "execution_count": 13,
     "metadata": {},
     "output_type": "execute_result"
    }
   ],
   "source": [
    "final.head()"
   ]
  },
  {
   "cell_type": "code",
   "execution_count": 14,
   "metadata": {},
   "outputs": [
    {
     "data": {
      "text/plain": [
       "Index(['CHROM', 'POS', 'non-effect_allele', 'effect_allele', 'Top_SNP_perPeak',\n",
       "       'Z_score_fixed', 'Beta', 'chr', 'pos', 'rsid', 'allele1', 'allele2',\n",
       "       'logfc.mean', 'sign.jsd.mean'],\n",
       "      dtype='object')"
      ]
     },
     "execution_count": 14,
     "metadata": {},
     "output_type": "execute_result"
    }
   ],
   "source": [
    "final.columns"
   ]
  },
  {
   "cell_type": "code",
   "execution_count": 15,
   "metadata": {},
   "outputs": [],
   "source": [
    "cols = ['CHROM', \"POS0\", 'POS', 'non-effect_allele', 'effect_allele', 'Top_SNP_perPeak',\n",
    "       'Z_score_fixed', 'logfc.mean', 'sign.jsd.mean', 'Beta', 'rsid']\n",
    "final[\"POS0\"] = final[\"POS\"] - 1\n",
    "finalf = final[cols]"
   ]
  },
  {
   "cell_type": "code",
   "execution_count": 16,
   "metadata": {},
   "outputs": [
    {
     "data": {
      "text/html": [
       "<div>\n",
       "<style scoped>\n",
       "    .dataframe tbody tr th:only-of-type {\n",
       "        vertical-align: middle;\n",
       "    }\n",
       "\n",
       "    .dataframe tbody tr th {\n",
       "        vertical-align: top;\n",
       "    }\n",
       "\n",
       "    .dataframe thead th {\n",
       "        text-align: right;\n",
       "    }\n",
       "</style>\n",
       "<table border=\"1\" class=\"dataframe\">\n",
       "  <thead>\n",
       "    <tr style=\"text-align: right;\">\n",
       "      <th></th>\n",
       "      <th>Chr</th>\n",
       "      <th>start</th>\n",
       "      <th>end</th>\n",
       "      <th>PeakID</th>\n",
       "      <th>distanceToTSS</th>\n",
       "      <th>annotationSimple</th>\n",
       "      <th>annotation</th>\n",
       "      <th>Associated.Gene.Name</th>\n",
       "      <th>Gene.type</th>\n",
       "    </tr>\n",
       "  </thead>\n",
       "  <tbody>\n",
       "    <tr>\n",
       "      <th>0</th>\n",
       "      <td>chr1</td>\n",
       "      <td>817105</td>\n",
       "      <td>817588</td>\n",
       "      <td>Peak_13</td>\n",
       "      <td>0.0</td>\n",
       "      <td>Promoter</td>\n",
       "      <td>Promoter (&lt;=1kb)</td>\n",
       "      <td>FAM87B</td>\n",
       "      <td>lincRNA</td>\n",
       "    </tr>\n",
       "    <tr>\n",
       "      <th>1</th>\n",
       "      <td>chr1</td>\n",
       "      <td>819868</td>\n",
       "      <td>820628</td>\n",
       "      <td>Peak_14</td>\n",
       "      <td>-2157.0</td>\n",
       "      <td>Promoter</td>\n",
       "      <td>Promoter (2-3kb)</td>\n",
       "      <td>AL669831.4</td>\n",
       "      <td>transcribed_unprocessed_pseudogene</td>\n",
       "    </tr>\n",
       "    <tr>\n",
       "      <th>2</th>\n",
       "      <td>chr1</td>\n",
       "      <td>820873</td>\n",
       "      <td>821328</td>\n",
       "      <td>Peak_15</td>\n",
       "      <td>-3162.0</td>\n",
       "      <td>Intron</td>\n",
       "      <td>Intron (ENST00000635509/ENSG00000230021, intro...</td>\n",
       "      <td>AL669831.4</td>\n",
       "      <td>transcribed_unprocessed_pseudogene</td>\n",
       "    </tr>\n",
       "    <tr>\n",
       "      <th>3</th>\n",
       "      <td>chr1</td>\n",
       "      <td>826886</td>\n",
       "      <td>828002</td>\n",
       "      <td>Peak_16</td>\n",
       "      <td>0.0</td>\n",
       "      <td>Promoter</td>\n",
       "      <td>Promoter (&lt;=1kb)</td>\n",
       "      <td>LINC00115</td>\n",
       "      <td>lincRNA</td>\n",
       "    </tr>\n",
       "    <tr>\n",
       "      <th>4</th>\n",
       "      <td>chr1</td>\n",
       "      <td>869728</td>\n",
       "      <td>870232</td>\n",
       "      <td>Peak_17</td>\n",
       "      <td>0.0</td>\n",
       "      <td>Promoter</td>\n",
       "      <td>Promoter (&lt;=1kb)</td>\n",
       "      <td>FAM41C</td>\n",
       "      <td>lincRNA</td>\n",
       "    </tr>\n",
       "    <tr>\n",
       "      <th>...</th>\n",
       "      <td>...</td>\n",
       "      <td>...</td>\n",
       "      <td>...</td>\n",
       "      <td>...</td>\n",
       "      <td>...</td>\n",
       "      <td>...</td>\n",
       "      <td>...</td>\n",
       "      <td>...</td>\n",
       "      <td>...</td>\n",
       "    </tr>\n",
       "    <tr>\n",
       "      <th>210827</th>\n",
       "      <td>chrY</td>\n",
       "      <td>21439802</td>\n",
       "      <td>21440929</td>\n",
       "      <td>Peak_215075</td>\n",
       "      <td>-2558.0</td>\n",
       "      <td>Promoter</td>\n",
       "      <td>Promoter (2-3kb)</td>\n",
       "      <td>RBMY2TP</td>\n",
       "      <td>unprocessed_pseudogene</td>\n",
       "    </tr>\n",
       "    <tr>\n",
       "      <th>210828</th>\n",
       "      <td>chrY</td>\n",
       "      <td>21481590</td>\n",
       "      <td>21481950</td>\n",
       "      <td>Peak_215076</td>\n",
       "      <td>-11569.0</td>\n",
       "      <td>Distal Intergenic</td>\n",
       "      <td>Distal Intergenic</td>\n",
       "      <td>RBMY1HP</td>\n",
       "      <td>unprocessed_pseudogene</td>\n",
       "    </tr>\n",
       "    <tr>\n",
       "      <th>210829</th>\n",
       "      <td>chrY</td>\n",
       "      <td>26403079</td>\n",
       "      <td>26403631</td>\n",
       "      <td>Peak_215077</td>\n",
       "      <td>2469.0</td>\n",
       "      <td>Promoter</td>\n",
       "      <td>Promoter (2-3kb)</td>\n",
       "      <td>CYCSP48</td>\n",
       "      <td>processed_pseudogene</td>\n",
       "    </tr>\n",
       "    <tr>\n",
       "      <th>210830</th>\n",
       "      <td>chrY</td>\n",
       "      <td>26436428</td>\n",
       "      <td>26436771</td>\n",
       "      <td>Peak_215078</td>\n",
       "      <td>-17211.0</td>\n",
       "      <td>Distal Intergenic</td>\n",
       "      <td>Distal Intergenic</td>\n",
       "      <td>AC013734.1</td>\n",
       "      <td>processed_pseudogene</td>\n",
       "    </tr>\n",
       "    <tr>\n",
       "      <th>210831</th>\n",
       "      <td>chrY</td>\n",
       "      <td>26440922</td>\n",
       "      <td>26441463</td>\n",
       "      <td>Peak_215079</td>\n",
       "      <td>-12519.0</td>\n",
       "      <td>Distal Intergenic</td>\n",
       "      <td>Distal Intergenic</td>\n",
       "      <td>AC013734.1</td>\n",
       "      <td>processed_pseudogene</td>\n",
       "    </tr>\n",
       "  </tbody>\n",
       "</table>\n",
       "<p>210832 rows × 9 columns</p>\n",
       "</div>"
      ],
      "text/plain": [
       "         Chr     start       end       PeakID  distanceToTSS  \\\n",
       "0       chr1    817105    817588      Peak_13            0.0   \n",
       "1       chr1    819868    820628      Peak_14        -2157.0   \n",
       "2       chr1    820873    821328      Peak_15        -3162.0   \n",
       "3       chr1    826886    828002      Peak_16            0.0   \n",
       "4       chr1    869728    870232      Peak_17            0.0   \n",
       "...      ...       ...       ...          ...            ...   \n",
       "210827  chrY  21439802  21440929  Peak_215075        -2558.0   \n",
       "210828  chrY  21481590  21481950  Peak_215076       -11569.0   \n",
       "210829  chrY  26403079  26403631  Peak_215077         2469.0   \n",
       "210830  chrY  26436428  26436771  Peak_215078       -17211.0   \n",
       "210831  chrY  26440922  26441463  Peak_215079       -12519.0   \n",
       "\n",
       "         annotationSimple                                         annotation  \\\n",
       "0                Promoter                                   Promoter (<=1kb)   \n",
       "1                Promoter                                   Promoter (2-3kb)   \n",
       "2                  Intron  Intron (ENST00000635509/ENSG00000230021, intro...   \n",
       "3                Promoter                                   Promoter (<=1kb)   \n",
       "4                Promoter                                   Promoter (<=1kb)   \n",
       "...                   ...                                                ...   \n",
       "210827           Promoter                                   Promoter (2-3kb)   \n",
       "210828  Distal Intergenic                                  Distal Intergenic   \n",
       "210829           Promoter                                   Promoter (2-3kb)   \n",
       "210830  Distal Intergenic                                  Distal Intergenic   \n",
       "210831  Distal Intergenic                                  Distal Intergenic   \n",
       "\n",
       "       Associated.Gene.Name                           Gene.type  \n",
       "0                    FAM87B                             lincRNA  \n",
       "1                AL669831.4  transcribed_unprocessed_pseudogene  \n",
       "2                AL669831.4  transcribed_unprocessed_pseudogene  \n",
       "3                 LINC00115                             lincRNA  \n",
       "4                    FAM41C                             lincRNA  \n",
       "...                     ...                                 ...  \n",
       "210827              RBMY2TP              unprocessed_pseudogene  \n",
       "210828              RBMY1HP              unprocessed_pseudogene  \n",
       "210829              CYCSP48                processed_pseudogene  \n",
       "210830           AC013734.1                processed_pseudogene  \n",
       "210831           AC013734.1                processed_pseudogene  \n",
       "\n",
       "[210832 rows x 9 columns]"
      ]
     },
     "execution_count": 16,
     "metadata": {},
     "output_type": "execute_result"
    }
   ],
   "source": [
    "peaks"
   ]
  },
  {
   "cell_type": "code",
   "execution_count": 17,
   "metadata": {},
   "outputs": [],
   "source": [
    "import pybedtools\n",
    "beds_var = pybedtools.BedTool.from_dataframe(finalf)\n",
    "peak_bed =  pybedtools.BedTool.from_dataframe(peaks)\n",
    "sig_vars_in_bed = beds_var.intersect(peak_bed, c=True)"
   ]
  },
  {
   "cell_type": "code",
   "execution_count": 18,
   "metadata": {},
   "outputs": [],
   "source": [
    "sig_vars_in_bed = sig_vars_in_bed.to_dataframe(names=cols+[\"IsUsed\"]).drop_duplicates()\n"
   ]
  },
  {
   "cell_type": "code",
   "execution_count": 19,
   "metadata": {},
   "outputs": [
    {
     "data": {
      "text/html": [
       "<div>\n",
       "<style scoped>\n",
       "    .dataframe tbody tr th:only-of-type {\n",
       "        vertical-align: middle;\n",
       "    }\n",
       "\n",
       "    .dataframe tbody tr th {\n",
       "        vertical-align: top;\n",
       "    }\n",
       "\n",
       "    .dataframe thead th {\n",
       "        text-align: right;\n",
       "    }\n",
       "</style>\n",
       "<table border=\"1\" class=\"dataframe\">\n",
       "  <thead>\n",
       "    <tr style=\"text-align: right;\">\n",
       "      <th></th>\n",
       "      <th>CHROM</th>\n",
       "      <th>POS0</th>\n",
       "      <th>POS</th>\n",
       "      <th>non-effect_allele</th>\n",
       "      <th>effect_allele</th>\n",
       "      <th>Top_SNP_perPeak</th>\n",
       "      <th>Z_score_fixed</th>\n",
       "      <th>logfc.mean</th>\n",
       "      <th>sign.jsd.mean</th>\n",
       "      <th>Beta</th>\n",
       "      <th>rsid</th>\n",
       "      <th>IsUsed</th>\n",
       "    </tr>\n",
       "  </thead>\n",
       "  <tbody>\n",
       "    <tr>\n",
       "      <th>0</th>\n",
       "      <td>chr2</td>\n",
       "      <td>199884842</td>\n",
       "      <td>199884843</td>\n",
       "      <td>A</td>\n",
       "      <td>G</td>\n",
       "      <td>rs281785</td>\n",
       "      <td>10.11000</td>\n",
       "      <td>0.032774</td>\n",
       "      <td>0.016354</td>\n",
       "      <td>1.293180</td>\n",
       "      <td>chr2_199884843.0_G_A</td>\n",
       "      <td>0</td>\n",
       "    </tr>\n",
       "    <tr>\n",
       "      <th>1</th>\n",
       "      <td>chr2</td>\n",
       "      <td>200357679</td>\n",
       "      <td>200357680</td>\n",
       "      <td>A</td>\n",
       "      <td>T</td>\n",
       "      <td>rs2033804</td>\n",
       "      <td>-3.48053</td>\n",
       "      <td>-0.008075</td>\n",
       "      <td>-0.009565</td>\n",
       "      <td>-0.396164</td>\n",
       "      <td>chr2_200357680.0_T_A</td>\n",
       "      <td>0</td>\n",
       "    </tr>\n",
       "    <tr>\n",
       "      <th>2</th>\n",
       "      <td>chr2</td>\n",
       "      <td>200656659</td>\n",
       "      <td>200656660</td>\n",
       "      <td>T</td>\n",
       "      <td>C</td>\n",
       "      <td>rs2287012</td>\n",
       "      <td>-5.07707</td>\n",
       "      <td>0.003838</td>\n",
       "      <td>0.004759</td>\n",
       "      <td>-0.498759</td>\n",
       "      <td>chr2_200656660.0_C_T</td>\n",
       "      <td>0</td>\n",
       "    </tr>\n",
       "    <tr>\n",
       "      <th>3</th>\n",
       "      <td>chr1</td>\n",
       "      <td>172585460</td>\n",
       "      <td>172585461</td>\n",
       "      <td>A</td>\n",
       "      <td>G</td>\n",
       "      <td>rs10752994</td>\n",
       "      <td>-11.41800</td>\n",
       "      <td>0.005939</td>\n",
       "      <td>0.004529</td>\n",
       "      <td>-1.070820</td>\n",
       "      <td>chr1_172585461.0_G_A</td>\n",
       "      <td>0</td>\n",
       "    </tr>\n",
       "    <tr>\n",
       "      <th>4</th>\n",
       "      <td>chr1</td>\n",
       "      <td>172625477</td>\n",
       "      <td>172625478</td>\n",
       "      <td>C</td>\n",
       "      <td>T</td>\n",
       "      <td>rs12123755</td>\n",
       "      <td>8.27532</td>\n",
       "      <td>-0.441283</td>\n",
       "      <td>-0.047415</td>\n",
       "      <td>0.816922</td>\n",
       "      <td>chr1_172625478.0_T_C</td>\n",
       "      <td>1</td>\n",
       "    </tr>\n",
       "  </tbody>\n",
       "</table>\n",
       "</div>"
      ],
      "text/plain": [
       "  CHROM       POS0        POS non-effect_allele effect_allele Top_SNP_perPeak  \\\n",
       "0  chr2  199884842  199884843                 A             G        rs281785   \n",
       "1  chr2  200357679  200357680                 A             T       rs2033804   \n",
       "2  chr2  200656659  200656660                 T             C       rs2287012   \n",
       "3  chr1  172585460  172585461                 A             G      rs10752994   \n",
       "4  chr1  172625477  172625478                 C             T      rs12123755   \n",
       "\n",
       "   Z_score_fixed  logfc.mean  sign.jsd.mean      Beta                  rsid  \\\n",
       "0       10.11000    0.032774       0.016354  1.293180  chr2_199884843.0_G_A   \n",
       "1       -3.48053   -0.008075      -0.009565 -0.396164  chr2_200357680.0_T_A   \n",
       "2       -5.07707    0.003838       0.004759 -0.498759  chr2_200656660.0_C_T   \n",
       "3      -11.41800    0.005939       0.004529 -1.070820  chr1_172585461.0_G_A   \n",
       "4        8.27532   -0.441283      -0.047415  0.816922  chr1_172625478.0_T_C   \n",
       "\n",
       "   IsUsed  \n",
       "0       0  \n",
       "1       0  \n",
       "2       0  \n",
       "3       0  \n",
       "4       1  "
      ]
     },
     "execution_count": 19,
     "metadata": {},
     "output_type": "execute_result"
    }
   ],
   "source": [
    "sig_vars_in_bed.head()"
   ]
  },
  {
   "cell_type": "code",
   "execution_count": 20,
   "metadata": {},
   "outputs": [],
   "source": [
    "sig_vars_in_bed[\"IsUsed\"] = sig_vars_in_bed[\"IsUsed\"] > 0"
   ]
  },
  {
   "cell_type": "code",
   "execution_count": 21,
   "metadata": {},
   "outputs": [
    {
     "data": {
      "text/plain": [
       "956"
      ]
     },
     "execution_count": 21,
     "metadata": {},
     "output_type": "execute_result"
    }
   ],
   "source": [
    "sum(sig_vars_in_bed[\"IsUsed\"])"
   ]
  },
  {
   "cell_type": "code",
   "execution_count": 22,
   "metadata": {},
   "outputs": [
    {
     "data": {
      "text/plain": [
       "(4978, 12)"
      ]
     },
     "execution_count": 22,
     "metadata": {},
     "output_type": "execute_result"
    }
   ],
   "source": [
    "sig_vars_in_bed.shape"
   ]
  },
  {
   "cell_type": "code",
   "execution_count": 23,
   "metadata": {},
   "outputs": [],
   "source": [
    "# sig_vars_in_bed[\"logfc.mean\"] = -1*sig_vars_in_bed[\"logfc.mean\"]"
   ]
  },
  {
   "cell_type": "code",
   "execution_count": 24,
   "metadata": {},
   "outputs": [],
   "source": [
    "# sig_vars_in_bed[\"sign.jsd.mean\"] = -1*sig_vars_in_bed[\"sign.jsd.mean\"]\n",
    "\n",
    "sig_vars_in_bed[\"Z_score_fixed\"] = -1*sig_vars_in_bed[\"Z_score_fixed\"]\n",
    "sig_vars_in_bed[\"Beta\"] = -1*sig_vars_in_bed[\"Beta\"]"
   ]
  },
  {
   "cell_type": "code",
   "execution_count": 25,
   "metadata": {},
   "outputs": [],
   "source": [
    "#sig_vars_in_bed.to_csv(\"../final_figures_new/microglia.caqtls.tsv\", sep=\"\\t\", header=True, index=False)"
   ]
  },
  {
   "cell_type": "code",
   "execution_count": 26,
   "metadata": {},
   "outputs": [],
   "source": [
    "import matplotlib.pyplot as plt"
   ]
  },
  {
   "cell_type": "code",
   "execution_count": 27,
   "metadata": {},
   "outputs": [
    {
     "data": {
      "text/plain": [
       "<matplotlib.collections.PathCollection at 0x7ff0ddbe67d0>"
      ]
     },
     "execution_count": 27,
     "metadata": {},
     "output_type": "execute_result"
    },
    {
     "data": {
      "image/png": "[encoded data removed]",
      "text/plain": [
       "<Figure size 432x288 with 1 Axes>"
      ]
     },
     "metadata": {
      "needs_background": "light"
     },
     "output_type": "display_data"
    }
   ],
   "source": [
    "df=sig_vars_in_bed[sig_vars_in_bed[\"IsUsed\"]]\n",
    "plt.scatter(df[\"Z_score_fixed\"], df[\"logfc.mean\"])"
   ]
  },
  {
   "cell_type": "code",
   "execution_count": 28,
   "metadata": {},
   "outputs": [
    {
     "data": {
      "text/plain": [
       "<matplotlib.collections.PathCollection at 0x7ff0dd987bd0>"
      ]
     },
     "execution_count": 28,
     "metadata": {},
     "output_type": "execute_result"
    },
    {
     "data": {
      "image/png": "[encoded data removed]",
      "text/plain": [
       "<Figure size 432x288 with 1 Axes>"
      ]
     },
     "metadata": {
      "needs_background": "light"
     },
     "output_type": "display_data"
    }
   ],
   "source": [
    "df=sig_vars_in_bed[sig_vars_in_bed[\"IsUsed\"]]\n",
    "plt.scatter(df[\"Beta\"], df[\"logfc.mean\"])"
   ]
  },
  {
   "cell_type": "code",
   "execution_count": 29,
   "metadata": {},
   "outputs": [
    {
     "data": {
      "text/plain": [
       "(0.6123604665289462, 1.836191629240661e-99)"
      ]
     },
     "execution_count": 29,
     "metadata": {},
     "output_type": "execute_result"
    }
   ],
   "source": [
    "import scipy.stats\n",
    "scipy.stats.pearsonr(df[\"Z_score_fixed\"], df[\"logfc.mean\"])"
   ]
  },
  {
   "cell_type": "code",
   "execution_count": 30,
   "metadata": {},
   "outputs": [
    {
     "data": {
      "text/plain": [
       "(0.6008602589871562, 7.009265665336843e-95)"
      ]
     },
     "execution_count": 30,
     "metadata": {},
     "output_type": "execute_result"
    }
   ],
   "source": [
    "scipy.stats.pearsonr(df[\"Beta\"], df[\"logfc.mean\"])"
   ]
  },
  {
   "cell_type": "code",
   "execution_count": 31,
   "metadata": {},
   "outputs": [
    {
     "name": "stderr",
     "output_type": "stream",
     "text": [
      "/users/anusri/anaconda3/lib/python3.7/site-packages/ipykernel_launcher.py:1: SettingWithCopyWarning: \n",
      "A value is trying to be set on a copy of a slice from a DataFrame.\n",
      "Try using .loc[row_indexer,col_indexer] = value instead\n",
      "\n",
      "See the caveats in the documentation: https://pandas.pydata.org/pandas-docs/stable/user_guide/indexing.html#returning-a-view-versus-a-copy\n",
      "  \"\"\"Entry point for launching an IPython kernel.\n"
     ]
    }
   ],
   "source": [
    "df[\"abs_beta\"] = abs(df[\"Z_score_fixed\"])\n",
    "dff = df.sort_values('abs_beta', ascending=False).drop_duplicates('rsid', keep=\"first\").sort_index()"
   ]
  },
  {
   "cell_type": "code",
   "execution_count": 32,
   "metadata": {},
   "outputs": [
    {
     "data": {
      "text/plain": [
       "(877, 13)"
      ]
     },
     "execution_count": 32,
     "metadata": {},
     "output_type": "execute_result"
    }
   ],
   "source": [
    "dff.shape"
   ]
  },
  {
   "cell_type": "code",
   "execution_count": 33,
   "metadata": {},
   "outputs": [
    {
     "data": {
      "text/plain": [
       "Index(['CHROM', 'POS0', 'POS', 'non-effect_allele', 'effect_allele',\n",
       "       'Top_SNP_perPeak', 'Z_score_fixed', 'logfc.mean', 'sign.jsd.mean',\n",
       "       'Beta', 'rsid', 'IsUsed', 'abs_beta'],\n",
       "      dtype='object')"
      ]
     },
     "execution_count": 33,
     "metadata": {},
     "output_type": "execute_result"
    }
   ],
   "source": [
    "dff.columns"
   ]
  },
  {
   "cell_type": "code",
   "execution_count": 34,
   "metadata": {},
   "outputs": [
    {
     "data": {
      "text/plain": [
       "Index(['CHROM', 'POS0', 'POS', 'non-effect_allele', 'effect_allele',\n",
       "       'Top_SNP_perPeak', 'Z_score_fixed', 'logfc.mean', 'sign.jsd.mean',\n",
       "       'Beta', 'rsid', 'IsUsed'],\n",
       "      dtype='object')"
      ]
     },
     "execution_count": 34,
     "metadata": {},
     "output_type": "execute_result"
    }
   ],
   "source": [
    "sig_vars_in_bed.columns"
   ]
  },
  {
   "cell_type": "code",
   "execution_count": 35,
   "metadata": {},
   "outputs": [],
   "source": [
    "sig_vars_in_bed[\"isused\"] = sig_vars_in_bed[['rsid', 'Beta']].isin(dff[['rsid', 'Beta']]).all(axis=1)"
   ]
  },
  {
   "cell_type": "code",
   "execution_count": 36,
   "metadata": {},
   "outputs": [
    {
     "data": {
      "text/plain": [
       "877"
      ]
     },
     "execution_count": 36,
     "metadata": {},
     "output_type": "execute_result"
    }
   ],
   "source": [
    "sum(sig_vars_in_bed[\"isused\"])"
   ]
  },
  {
   "cell_type": "code",
   "execution_count": 37,
   "metadata": {},
   "outputs": [
    {
     "data": {
      "text/plain": [
       "Index(['CHROM', 'POS0', 'POS', 'non-effect_allele', 'effect_allele',\n",
       "       'Top_SNP_perPeak', 'Z_score_fixed', 'logfc.mean', 'sign.jsd.mean',\n",
       "       'Beta', 'rsid', 'IsUsed', 'isused'],\n",
       "      dtype='object')"
      ]
     },
     "execution_count": 37,
     "metadata": {},
     "output_type": "execute_result"
    }
   ],
   "source": [
    "sig_vars_in_bed.columns"
   ]
  },
  {
   "cell_type": "code",
   "execution_count": null,
   "metadata": {},
   "outputs": [],
   "source": []
  },
  {
   "cell_type": "code",
   "execution_count": 38,
   "metadata": {},
   "outputs": [],
   "source": [
    "rename_dict = {'CHROM': \"var.chr\",\n",
    "                'POS': \"var.pos_hg38\",\n",
    "                'non-effect_allele': \"var.allele1\",\n",
    "                'effect_allele': \"var.allele2\",\n",
    "                'Z_score_fixed': \"obs.Z_score_fixed\", \n",
    "                'Beta': \"obs.Beta\",\n",
    "                'logfc.mean': \"pred.chrombpnet.microglia.varscore.logfc\",\n",
    "                'sign.jsd.mean': \"pred.chrombpnet.microglia.varscore.jsd\",\n",
    "                'isused': \"var.isused\",\n",
    "                  'Top_SNP_perPeak': 'var.Top_SNP_perPeak',\n",
    "                 'rsid': 'var.rsid'}"
   ]
  },
  {
   "cell_type": "code",
   "execution_count": 39,
   "metadata": {},
   "outputs": [],
   "source": [
    "data = sig_vars_in_bed.rename(columns=rename_dict)"
   ]
  },
  {
   "cell_type": "code",
   "execution_count": 40,
   "metadata": {},
   "outputs": [
    {
     "data": {
      "text/plain": [
       "Index(['var.chr', 'POS0', 'var.pos_hg38', 'var.allele1', 'var.allele2',\n",
       "       'var.Top_SNP_perPeak', 'obs.Z_score_fixed',\n",
       "       'pred.chrombpnet.microglia.varscore.logfc',\n",
       "       'pred.chrombpnet.microglia.varscore.jsd', 'obs.Beta', 'var.rsid',\n",
       "       'IsUsed', 'var.isused'],\n",
       "      dtype='object')"
      ]
     },
     "execution_count": 40,
     "metadata": {},
     "output_type": "execute_result"
    }
   ],
   "source": [
    "data.columns"
   ]
  },
  {
   "cell_type": "code",
   "execution_count": 41,
   "metadata": {},
   "outputs": [],
   "source": [
    "use_cols=['var.chr', 'var.pos_hg38', 'var.allele1', 'var.allele2',\n",
    "       'obs.Z_score_fixed', 'obs.Beta',\n",
    "       'pred.chrombpnet.microglia.varscore.logfc',\n",
    "       'pred.chrombpnet.microglia.varscore.jsd', 'var.isused', 'var.rsid', 'var.Top_SNP_perPeak']"
   ]
  },
  {
   "cell_type": "code",
   "execution_count": 42,
   "metadata": {},
   "outputs": [],
   "source": [
    "dataf = data[use_cols]\n"
   ]
  },
  {
   "cell_type": "code",
   "execution_count": 43,
   "metadata": {},
   "outputs": [],
   "source": [
    "dataf_final = dataf[dataf[\"var.isused\"]]\n",
    "dataf_final = dataf_final.drop([\"var.isused\"], axis=1)\n",
    "dataf.to_csv(\"full_variants/caqtls.microglia.benchmarking.all.tsv\", sep='\\t', header=True, index=False)\n",
    "dataf_final.to_csv(\"filtered_variants/caqtls.microglia.benchmarking.chrombpnet.tsv\", sep='\\t', header=True, index=False)"
   ]
  },
  {
   "cell_type": "code",
   "execution_count": 44,
   "metadata": {},
   "outputs": [
    {
     "data": {
      "text/plain": [
       "(877, 10)"
      ]
     },
     "execution_count": 44,
     "metadata": {},
     "output_type": "execute_result"
    }
   ],
   "source": [
    "dataf_final.shape"
   ]
  },
  {
   "cell_type": "code",
   "execution_count": 47,
   "metadata": {},
   "outputs": [
    {
     "data": {
      "text/plain": [
       "Index(['var.chr', 'var.pos_hg38', 'var.allele1', 'var.allele2',\n",
       "       'obs.Z_score_fixed', 'obs.Beta',\n",
       "       'pred.chrombpnet.microglia.varscore.logfc',\n",
       "       'pred.chrombpnet.microglia.varscore.jsd', 'var.isused', 'var.rsid',\n",
       "       'var.Top_SNP_perPeak'],\n",
       "      dtype='object')"
      ]
     },
     "execution_count": 47,
     "metadata": {},
     "output_type": "execute_result"
    }
   ],
   "source": [
    "dataf.columns"
   ]
  },
  {
   "cell_type": "code",
   "execution_count": 48,
   "metadata": {},
   "outputs": [
    {
     "data": {
      "text/html": [
       "<div>\n",
       "<style scoped>\n",
       "    .dataframe tbody tr th:only-of-type {\n",
       "        vertical-align: middle;\n",
       "    }\n",
       "\n",
       "    .dataframe tbody tr th {\n",
       "        vertical-align: top;\n",
       "    }\n",
       "\n",
       "    .dataframe thead th {\n",
       "        text-align: right;\n",
       "    }\n",
       "</style>\n",
       "<table border=\"1\" class=\"dataframe\">\n",
       "  <thead>\n",
       "    <tr style=\"text-align: right;\">\n",
       "      <th></th>\n",
       "      <th>var.chr</th>\n",
       "      <th>var.pos_hg38</th>\n",
       "      <th>var.allele1</th>\n",
       "      <th>var.allele2</th>\n",
       "      <th>obs.Z_score_fixed</th>\n",
       "      <th>obs.Beta</th>\n",
       "      <th>pred.chrombpnet.microglia.varscore.logfc</th>\n",
       "      <th>pred.chrombpnet.microglia.varscore.jsd</th>\n",
       "      <th>var.isused</th>\n",
       "      <th>var.rsid</th>\n",
       "      <th>var.Top_SNP_perPeak</th>\n",
       "    </tr>\n",
       "  </thead>\n",
       "  <tbody>\n",
       "    <tr>\n",
       "      <th>0</th>\n",
       "      <td>chr2</td>\n",
       "      <td>199884843</td>\n",
       "      <td>A</td>\n",
       "      <td>G</td>\n",
       "      <td>-10.11</td>\n",
       "      <td>-1.29318</td>\n",
       "      <td>0.032774</td>\n",
       "      <td>0.016354</td>\n",
       "      <td>False</td>\n",
       "      <td>chr2_199884843.0_G_A</td>\n",
       "      <td>rs281785</td>\n",
       "    </tr>\n",
       "  </tbody>\n",
       "</table>\n",
       "</div>"
      ],
      "text/plain": [
       "  var.chr  var.pos_hg38 var.allele1 var.allele2  obs.Z_score_fixed  obs.Beta  \\\n",
       "0    chr2     199884843           A           G             -10.11  -1.29318   \n",
       "\n",
       "   pred.chrombpnet.microglia.varscore.logfc  \\\n",
       "0                                  0.032774   \n",
       "\n",
       "   pred.chrombpnet.microglia.varscore.jsd  var.isused              var.rsid  \\\n",
       "0                                0.016354       False  chr2_199884843.0_G_A   \n",
       "\n",
       "  var.Top_SNP_perPeak  \n",
       "0            rs281785  "
      ]
     },
     "execution_count": 48,
     "metadata": {},
     "output_type": "execute_result"
    }
   ],
   "source": [
    "dataf.head(1)"
   ]
  },
  {
   "cell_type": "code",
   "execution_count": 49,
   "metadata": {},
   "outputs": [],
   "source": [
    "readme_data = {'var.chr' : \"Chromosome of the variant (GRCh38)\", \n",
    "        'var.pos_hg38': \"Position of the variant (GRCh38, 1-based)\",\n",
    "        'var.allele1': \"Allele1 for the variant\", \n",
    "        'var.allele2': \"Allele2 for the variant\",        \n",
    "       'obs.Beta': \"Observed effect size\", \n",
    "       'var.isused': \"True if variant is used in final ChromBPNet benchmarking\",\n",
    "       'pred.chrombpnet.microglia.varscore.logfc': \"ChromBPNet logFC predictions in Microglia\",\n",
    "       'pred.chrombpnet.microglia.varscore.jsd':  \"ChromBPNet JSD predictions in Microglia\", \n",
    "        'obs.Z_score_fixed': \"variant attribute accompanied with original source\",\n",
    "        'var.Top_SNP_perPeak': \"variant attribute accompanied with original source\",\n",
    "      'var.rsid': \"Variant identifier\"\n",
    " }\n"
   ]
  },
  {
   "cell_type": "code",
   "execution_count": 50,
   "metadata": {},
   "outputs": [
    {
     "name": "stdout",
     "output_type": "stream",
     "text": [
      "var.chr\n",
      "var.pos_hg38\n",
      "var.allele1\n",
      "var.allele2\n",
      "obs.Beta\n",
      "var.isused\n",
      "pred.chrombpnet.microglia.varscore.logfc\n",
      "pred.chrombpnet.microglia.varscore.jsd\n",
      "obs.Z_score_fixed\n",
      "var.Top_SNP_perPeak\n",
      "var.rsid\n"
     ]
    }
   ],
   "source": [
    "f = open(\"full_variants/caqtls.microglia.benchmarking.all.README\", \"w\")\n",
    "f.write(\"# TSV Field Header Descriptions \\n \\n\")\n",
    "for val in readme_data:\n",
    "    print(val)\n",
    "    f.write(val+\" : \"+readme_data[val]+\"\\n\")\n",
    "f.write(\"\\n\")\n",
    "f.write(\"# Experiment-Specific Headers and IDs  \\n\")\n",
    "f.close()"
   ]
  },
  {
   "cell_type": "code",
   "execution_count": null,
   "metadata": {},
   "outputs": [],
   "source": []
  }
 ],
 "metadata": {
  "kernelspec": {
   "display_name": "Python 3",
   "language": "python",
   "name": "python3"
  },
  "language_info": {
   "codemirror_mode": {
    "name": "ipython",
    "version": 3
   },
   "file_extension": ".py",
   "mimetype": "text/x-python",
   "name": "python",
   "nbconvert_exporter": "python",
   "pygments_lexer": "ipython3",
   "version": "3.7.6"
  }
 },
 "nbformat": 4,
 "nbformat_minor": 4
}
