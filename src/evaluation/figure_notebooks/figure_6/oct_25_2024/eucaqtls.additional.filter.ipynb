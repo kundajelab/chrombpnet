{
 "cells": [
  {
   "cell_type": "code",
   "execution_count": 6,
   "metadata": {},
   "outputs": [],
   "source": [
    "import pandas as pd\n",
    "import numpy as np"
   ]
  },
  {
   "cell_type": "code",
   "execution_count": 7,
   "metadata": {},
   "outputs": [],
   "source": [
    "datafn = pd.read_csv(\"full_variants/caqtls.eu.lcls.benchmarking.all.tsv\", sep=\"\\t\", header=0)\n"
   ]
  },
  {
   "cell_type": "code",
   "execution_count": 9,
   "metadata": {},
   "outputs": [
    {
     "name": "stderr",
     "output_type": "stream",
     "text": [
      "/users/anusri/anaconda3/lib/python3.7/site-packages/ipykernel_launcher.py:5: SettingWithCopyWarning: \n",
      "A value is trying to be set on a copy of a slice from a DataFrame.\n",
      "Try using .loc[row_indexer,col_indexer] = value instead\n",
      "\n",
      "See the caveats in the documentation: https://pandas.pydata.org/pandas-docs/stable/user_guide/indexing.html#returning-a-view-versus-a-copy\n",
      "  \"\"\"\n"
     ]
    }
   ],
   "source": [
    "datafn[\"log10p\"] = np.log10(datafn[\"obs.pval\"])*-1\n",
    "threshold=6\n",
    "\n",
    "dataf1 = datafn[datafn[\"log10p\"]>threshold]\n",
    "dataf1[\"pos0\"] = dataf1[\"var.pos_hg38\"] - 1\n",
    "peaks_var = dataf1[[\"var.chr\", \"pos0\", \"var.pos_hg38\"]].reset_index(drop=True)\n",
    "#dataf1\n",
    "\n"
   ]
  },
  {
   "cell_type": "code",
   "execution_count": 11,
   "metadata": {},
   "outputs": [],
   "source": [
    "import pybedtools\n",
    "peaks_data_merged=pd.read_csv(\"/mnt/lab_data2/anusri/kumasaka/new_download/Kumasaka_2018_wgs/sumstats/merged.peaks.eu.top.50k.bed\", sep=\"\\t\", header=None)\n",
    "#print(peaks_data_merged.head())\n",
    "beds_var = pybedtools.BedTool.from_dataframe(peaks_var)\n",
    "\n",
    "dataf1 = pybedtools.BedTool.from_dataframe(dataf1)\n",
    "peak_bed = pybedtools.BedTool.from_dataframe(peaks_data_merged) # this is a merged peaks file\n",
    "peaks_invar = peak_bed.intersect(beds_var, c=True)"
   ]
  },
  {
   "cell_type": "code",
   "execution_count": 15,
   "metadata": {},
   "outputs": [],
   "source": [
    "peaks_invar = peaks_invar.to_dataframe()"
   ]
  },
  {
   "cell_type": "code",
   "execution_count": 19,
   "metadata": {},
   "outputs": [],
   "source": [
    "peaks_invar = peaks_invar[peaks_invar[\"name\"]>0]"
   ]
  },
  {
   "cell_type": "code",
   "execution_count": 23,
   "metadata": {},
   "outputs": [],
   "source": [
    "datafn[\"pos0\"] = datafn[\"var.pos_hg38\"] - 1\n",
    "all_var = datafn[[\"var.chr\", \"pos0\", \"var.pos_hg38\"]].reset_index(drop=True)\n",
    "beds_var = pybedtools.BedTool.from_dataframe(all_var)\n",
    "peaks_invar = pybedtools.BedTool.from_dataframe(peaks_invar)\n",
    "var_inpeaks = beds_var.intersect(peaks_invar, c=True)"
   ]
  },
  {
   "cell_type": "code",
   "execution_count": 25,
   "metadata": {},
   "outputs": [],
   "source": [
    "var_inpeaks = var_inpeaks.to_dataframe()"
   ]
  },
  {
   "cell_type": "code",
   "execution_count": 26,
   "metadata": {},
   "outputs": [
    {
     "data": {
      "text/plain": [
       "(130268, 4)"
      ]
     },
     "execution_count": 26,
     "metadata": {},
     "output_type": "execute_result"
    }
   ],
   "source": [
    "var_inpeaks.shape"
   ]
  },
  {
   "cell_type": "code",
   "execution_count": 28,
   "metadata": {},
   "outputs": [],
   "source": [
    "datafn[\"sigpeaks\"] = var_inpeaks[\"name\"]>0"
   ]
  },
  {
   "cell_type": "code",
   "execution_count": 30,
   "metadata": {},
   "outputs": [
    {
     "data": {
      "text/html": [
       "<div>\n",
       "<style scoped>\n",
       "    .dataframe tbody tr th:only-of-type {\n",
       "        vertical-align: middle;\n",
       "    }\n",
       "\n",
       "    .dataframe tbody tr th {\n",
       "        vertical-align: top;\n",
       "    }\n",
       "\n",
       "    .dataframe thead th {\n",
       "        text-align: right;\n",
       "    }\n",
       "</style>\n",
       "<table border=\"1\" class=\"dataframe\">\n",
       "  <thead>\n",
       "    <tr style=\"text-align: right;\">\n",
       "      <th></th>\n",
       "      <th>var.chr</th>\n",
       "      <th>var.pos_hg38</th>\n",
       "      <th>var.allele1</th>\n",
       "      <th>var.allele2</th>\n",
       "      <th>obs.beta</th>\n",
       "      <th>obs.pval</th>\n",
       "      <th>var.isused</th>\n",
       "      <th>pred.enformer.encsr000emt.variantscore.global_sad</th>\n",
       "      <th>pred.enformer.encsr000emt.variantscore.global_sar</th>\n",
       "      <th>pred.chrombpnet.encsr637xsc.variantscore.logfc</th>\n",
       "      <th>...</th>\n",
       "      <th>pred.chrombpnet.encsr637xsc_50m.variantscore.jsd</th>\n",
       "      <th>pred.chrombpnet.encsr637xsc_50m.variantscore.ips</th>\n",
       "      <th>pred.chrombpnet.encsr000emt.variantscore.logfc</th>\n",
       "      <th>pred.chrombpnet.encsr000emt.variantscore.jsd</th>\n",
       "      <th>pred.chrombpnet.encsr000emt.variantscore.ips</th>\n",
       "      <th>pred.enformer.encsr000emt.variantscore.local_logfc</th>\n",
       "      <th>var.rsid</th>\n",
       "      <th>log10p</th>\n",
       "      <th>pos0</th>\n",
       "      <th>sigpeaks</th>\n",
       "    </tr>\n",
       "  </thead>\n",
       "  <tbody>\n",
       "    <tr>\n",
       "      <th>0</th>\n",
       "      <td>chr1</td>\n",
       "      <td>29368</td>\n",
       "      <td>G</td>\n",
       "      <td>A</td>\n",
       "      <td>-0.555243</td>\n",
       "      <td>0.1623</td>\n",
       "      <td>False</td>\n",
       "      <td>NaN</td>\n",
       "      <td>NaN</td>\n",
       "      <td>0.01633</td>\n",
       "      <td>...</td>\n",
       "      <td>0.015501</td>\n",
       "      <td>0.000639</td>\n",
       "      <td>-0.022719</td>\n",
       "      <td>0.014977</td>\n",
       "      <td>0.000281</td>\n",
       "      <td>-0.0</td>\n",
       "      <td>chr1_29368_G_A</td>\n",
       "      <td>0.789681</td>\n",
       "      <td>29367</td>\n",
       "      <td>False</td>\n",
       "    </tr>\n",
       "  </tbody>\n",
       "</table>\n",
       "<p>1 rows × 23 columns</p>\n",
       "</div>"
      ],
      "text/plain": [
       "  var.chr  var.pos_hg38 var.allele1 var.allele2  obs.beta  obs.pval  \\\n",
       "0    chr1         29368           G           A -0.555243    0.1623   \n",
       "\n",
       "   var.isused  pred.enformer.encsr000emt.variantscore.global_sad  \\\n",
       "0       False                                                NaN   \n",
       "\n",
       "   pred.enformer.encsr000emt.variantscore.global_sar  \\\n",
       "0                                                NaN   \n",
       "\n",
       "   pred.chrombpnet.encsr637xsc.variantscore.logfc  ...  \\\n",
       "0                                         0.01633  ...   \n",
       "\n",
       "   pred.chrombpnet.encsr637xsc_50m.variantscore.jsd  \\\n",
       "0                                          0.015501   \n",
       "\n",
       "   pred.chrombpnet.encsr637xsc_50m.variantscore.ips  \\\n",
       "0                                          0.000639   \n",
       "\n",
       "   pred.chrombpnet.encsr000emt.variantscore.logfc  \\\n",
       "0                                       -0.022719   \n",
       "\n",
       "   pred.chrombpnet.encsr000emt.variantscore.jsd  \\\n",
       "0                                      0.014977   \n",
       "\n",
       "   pred.chrombpnet.encsr000emt.variantscore.ips  \\\n",
       "0                                      0.000281   \n",
       "\n",
       "   pred.enformer.encsr000emt.variantscore.local_logfc        var.rsid  \\\n",
       "0                                               -0.0   chr1_29368_G_A   \n",
       "\n",
       "     log10p   pos0 sigpeaks  \n",
       "0  0.789681  29367    False  \n",
       "\n",
       "[1 rows x 23 columns]"
      ]
     },
     "execution_count": 30,
     "metadata": {},
     "output_type": "execute_result"
    }
   ],
   "source": [
    "datafn.head(1)"
   ]
  },
  {
   "cell_type": "code",
   "execution_count": 34,
   "metadata": {},
   "outputs": [
    {
     "data": {
      "text/plain": [
       "(3157, 23)"
      ]
     },
     "execution_count": 34,
     "metadata": {},
     "output_type": "execute_result"
    }
   ],
   "source": [
    "datafn[(datafn[\"log10p\"]<3) & (datafn[\"sigpeaks\"])].shape"
   ]
  },
  {
   "cell_type": "code",
   "execution_count": 37,
   "metadata": {},
   "outputs": [
    {
     "data": {
      "text/plain": [
       "2946"
      ]
     },
     "execution_count": 37,
     "metadata": {},
     "output_type": "execute_result"
    }
   ],
   "source": [
    "sum(datafn[(datafn[\"log10p\"]<3) & (datafn[\"sigpeaks\"])][\"var.isused\"])"
   ]
  },
  {
   "cell_type": "code",
   "execution_count": 40,
   "metadata": {},
   "outputs": [
    {
     "data": {
      "text/plain": [
       "20        False\n",
       "21        False\n",
       "22        False\n",
       "23         True\n",
       "113       False\n",
       "          ...  \n",
       "107204     True\n",
       "107210     True\n",
       "107218     True\n",
       "107250     True\n",
       "107251     True\n",
       "Name: var.isused, Length: 3157, dtype: bool"
      ]
     },
     "execution_count": 40,
     "metadata": {},
     "output_type": "execute_result"
    }
   ],
   "source": [
    "datafn[(datafn[\"log10p\"]<3) & (datafn[\"sigpeaks\"])][\"var.isused\"]"
   ]
  },
  {
   "cell_type": "code",
   "execution_count": 46,
   "metadata": {},
   "outputs": [],
   "source": [
    "datafn.loc[(datafn[\"log10p\"]<3) & (datafn[\"sigpeaks\"]),\"var.isused\"] = False"
   ]
  },
  {
   "cell_type": "code",
   "execution_count": 47,
   "metadata": {},
   "outputs": [
    {
     "data": {
      "text/plain": [
       "20        False\n",
       "21        False\n",
       "22        False\n",
       "23        False\n",
       "113       False\n",
       "          ...  \n",
       "107204    False\n",
       "107210    False\n",
       "107218    False\n",
       "107250    False\n",
       "107251    False\n",
       "Name: var.isused, Length: 3157, dtype: bool"
      ]
     },
     "execution_count": 47,
     "metadata": {},
     "output_type": "execute_result"
    }
   ],
   "source": [
    "datafn[(datafn[\"log10p\"]<3) & (datafn[\"sigpeaks\"])][\"var.isused\"]"
   ]
  },
  {
   "cell_type": "code",
   "execution_count": 48,
   "metadata": {},
   "outputs": [
    {
     "data": {
      "text/html": [
       "<div>\n",
       "<style scoped>\n",
       "    .dataframe tbody tr th:only-of-type {\n",
       "        vertical-align: middle;\n",
       "    }\n",
       "\n",
       "    .dataframe tbody tr th {\n",
       "        vertical-align: top;\n",
       "    }\n",
       "\n",
       "    .dataframe thead th {\n",
       "        text-align: right;\n",
       "    }\n",
       "</style>\n",
       "<table border=\"1\" class=\"dataframe\">\n",
       "  <thead>\n",
       "    <tr style=\"text-align: right;\">\n",
       "      <th></th>\n",
       "      <th>var.chr</th>\n",
       "      <th>var.pos_hg38</th>\n",
       "      <th>var.allele1</th>\n",
       "      <th>var.allele2</th>\n",
       "      <th>obs.beta</th>\n",
       "      <th>obs.pval</th>\n",
       "      <th>var.isused</th>\n",
       "      <th>pred.enformer.encsr000emt.variantscore.global_sad</th>\n",
       "      <th>pred.enformer.encsr000emt.variantscore.global_sar</th>\n",
       "      <th>pred.chrombpnet.encsr637xsc.variantscore.logfc</th>\n",
       "      <th>...</th>\n",
       "      <th>pred.chrombpnet.encsr637xsc_50m.variantscore.jsd</th>\n",
       "      <th>pred.chrombpnet.encsr637xsc_50m.variantscore.ips</th>\n",
       "      <th>pred.chrombpnet.encsr000emt.variantscore.logfc</th>\n",
       "      <th>pred.chrombpnet.encsr000emt.variantscore.jsd</th>\n",
       "      <th>pred.chrombpnet.encsr000emt.variantscore.ips</th>\n",
       "      <th>pred.enformer.encsr000emt.variantscore.local_logfc</th>\n",
       "      <th>var.rsid</th>\n",
       "      <th>log10p</th>\n",
       "      <th>pos0</th>\n",
       "      <th>sigpeaks</th>\n",
       "    </tr>\n",
       "  </thead>\n",
       "  <tbody>\n",
       "    <tr>\n",
       "      <th>0</th>\n",
       "      <td>chr1</td>\n",
       "      <td>29368</td>\n",
       "      <td>G</td>\n",
       "      <td>A</td>\n",
       "      <td>-0.555243</td>\n",
       "      <td>0.1623</td>\n",
       "      <td>False</td>\n",
       "      <td>NaN</td>\n",
       "      <td>NaN</td>\n",
       "      <td>0.01633</td>\n",
       "      <td>...</td>\n",
       "      <td>0.015501</td>\n",
       "      <td>0.000639</td>\n",
       "      <td>-0.022719</td>\n",
       "      <td>0.014977</td>\n",
       "      <td>0.000281</td>\n",
       "      <td>-0.0</td>\n",
       "      <td>chr1_29368_G_A</td>\n",
       "      <td>0.789681</td>\n",
       "      <td>29367</td>\n",
       "      <td>False</td>\n",
       "    </tr>\n",
       "  </tbody>\n",
       "</table>\n",
       "<p>1 rows × 23 columns</p>\n",
       "</div>"
      ],
      "text/plain": [
       "  var.chr  var.pos_hg38 var.allele1 var.allele2  obs.beta  obs.pval  \\\n",
       "0    chr1         29368           G           A -0.555243    0.1623   \n",
       "\n",
       "   var.isused  pred.enformer.encsr000emt.variantscore.global_sad  \\\n",
       "0       False                                                NaN   \n",
       "\n",
       "   pred.enformer.encsr000emt.variantscore.global_sar  \\\n",
       "0                                                NaN   \n",
       "\n",
       "   pred.chrombpnet.encsr637xsc.variantscore.logfc  ...  \\\n",
       "0                                         0.01633  ...   \n",
       "\n",
       "   pred.chrombpnet.encsr637xsc_50m.variantscore.jsd  \\\n",
       "0                                          0.015501   \n",
       "\n",
       "   pred.chrombpnet.encsr637xsc_50m.variantscore.ips  \\\n",
       "0                                          0.000639   \n",
       "\n",
       "   pred.chrombpnet.encsr000emt.variantscore.logfc  \\\n",
       "0                                       -0.022719   \n",
       "\n",
       "   pred.chrombpnet.encsr000emt.variantscore.jsd  \\\n",
       "0                                      0.014977   \n",
       "\n",
       "   pred.chrombpnet.encsr000emt.variantscore.ips  \\\n",
       "0                                      0.000281   \n",
       "\n",
       "   pred.enformer.encsr000emt.variantscore.local_logfc        var.rsid  \\\n",
       "0                                               -0.0   chr1_29368_G_A   \n",
       "\n",
       "     log10p   pos0 sigpeaks  \n",
       "0  0.789681  29367    False  \n",
       "\n",
       "[1 rows x 23 columns]"
      ]
     },
     "execution_count": 48,
     "metadata": {},
     "output_type": "execute_result"
    }
   ],
   "source": [
    "datafn.head(1)"
   ]
  },
  {
   "cell_type": "code",
   "execution_count": 49,
   "metadata": {},
   "outputs": [
    {
     "data": {
      "text/plain": [
       "(130268, 23)"
      ]
     },
     "execution_count": 49,
     "metadata": {},
     "output_type": "execute_result"
    }
   ],
   "source": [
    "datafn.shape"
   ]
  },
  {
   "cell_type": "code",
   "execution_count": 50,
   "metadata": {},
   "outputs": [],
   "source": [
    "datafn.to_csv(\"full_variants/caqtls.eu.lcls.benchmarking.all.addfilter.tsv\", sep=\"\\t\", header=True, index=False)"
   ]
  },
  {
   "cell_type": "code",
   "execution_count": null,
   "metadata": {},
   "outputs": [],
   "source": []
  }
 ],
 "metadata": {
  "kernelspec": {
   "display_name": "Python 3",
   "language": "python",
   "name": "python3"
  },
  "language_info": {
   "codemirror_mode": {
    "name": "ipython",
    "version": 3
   },
   "file_extension": ".py",
   "mimetype": "text/x-python",
   "name": "python",
   "nbconvert_exporter": "python",
   "pygments_lexer": "ipython3",
   "version": "3.7.6"
  }
 },
 "nbformat": 4,
 "nbformat_minor": 4
}
