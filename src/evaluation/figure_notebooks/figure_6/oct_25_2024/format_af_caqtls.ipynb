{
 "cells": [
  {
   "cell_type": "code",
   "execution_count": 1,
   "metadata": {},
   "outputs": [],
   "source": [
    "import pandas as pd"
   ]
  },
  {
   "cell_type": "code",
   "execution_count": 2,
   "metadata": {},
   "outputs": [],
   "source": [
    "data = pd.read_csv(\"../final_figures/all_caqtls.scores.tsv\", sep=\"\\t\")"
   ]
  },
  {
   "cell_type": "code",
   "execution_count": 3,
   "metadata": {
    "scrolled": true
   },
   "outputs": [
    {
     "data": {
      "text/plain": [
       "Index(['chr', 'pos', 'allele1', 'allele2', 'rsid', 'Esan.mean.logfc',\n",
       "       'Esan.mean.abs_logfc', 'Esan.mean.jsd', 'Esan.mean.abs_logfc_x_jsd',\n",
       "       'Esan.mean.abs_logfc_x_jsd_x_max_percentile',\n",
       "       'Esan.mean.max_percentile', 'Esan.mean.abs_logfc.pval',\n",
       "       'Esan.mean.jsd.pval', 'Esan.mean.abs_logfc_x_jsd.pval',\n",
       "       'Esan.mean.abs_logfc_x_jsd_x_max_percentile.pval', 'Mende.mean.logfc',\n",
       "       'Mende.mean.abs_logfc', 'Mende.mean.jsd', 'Mende.mean.abs_logfc.pval',\n",
       "       'Mende.mean.jsd.pval', 'Yoruba.mean.logfc', 'Yoruba.mean.abs_logfc',\n",
       "       'Yoruba.mean.jsd', 'Yoruba.mean.abs_logfc.pval', 'Yoruba.mean.jsd.pval',\n",
       "       'GM12878.ENCSR095QNB.mean.logfc', 'GM12878.ENCSR095QNB.mean.abs_logfc',\n",
       "       'GM12878.ENCSR095QNB.mean.jsd',\n",
       "       'GM12878.ENCSR095QNB.mean.abs_logfc_x_jsd',\n",
       "       'GM12878.ENCSR095QNB.mean.abs_logfc_x_jsd_x_max_percentile',\n",
       "       'GM12878.ENCSR095QNB.mean.max_percentile',\n",
       "       'GM12878.ENCSR095QNB.mean.abs_logfc.pval',\n",
       "       'GM12878.ENCSR095QNB.mean.jsd.pval',\n",
       "       'GM12878.ENCSR095QNB.mean.abs_logfc_x_jsd.pval',\n",
       "       'GM12878.ENCSR095QNB.mean.abs_logfc_x_jsd_x_max_percentile.pval',\n",
       "       'GM12878.ENCSR637XSC.mean.logfc', 'GM12878.ENCSR637XSC.mean.abs_logfc',\n",
       "       'GM12878.ENCSR637XSC.mean.jsd',\n",
       "       'GM12878.ENCSR637XSC.mean.abs_logfc_x_jsd',\n",
       "       'GM12878.ENCSR637XSC.mean.abs_logfc_x_jsd_x_max_percentile',\n",
       "       'GM12878.ENCSR637XSC.mean.max_percentile',\n",
       "       'GM12878.ENCSR637XSC.mean.abs_logfc.pval',\n",
       "       'GM12878.ENCSR637XSC.mean.jsd.pval',\n",
       "       'GM12878.ENCSR637XSC.mean.abs_logfc_x_jsd.pval',\n",
       "       'GM12878.ENCSR637XSC.mean.abs_logfc_x_jsd_x_max_percentile.pval',\n",
       "       'Luhya.mean.logfc', 'Luhya.mean.abs_logfc', 'Luhya.mean.jsd',\n",
       "       'Luhya.mean.abs_logfc.pval', 'Luhya.mean.jsd.pval',\n",
       "       'Gambian.mean.logfc', 'Gambian.mean.abs_logfc', 'Gambian.mean.jsd',\n",
       "       'Gambian.mean.abs_logfc.pval', 'Gambian.mean.jsd.pval',\n",
       "       'Maasai.mean.logfc', 'Maasai.mean.abs_logfc', 'Maasai.mean.jsd',\n",
       "       'Maasai.mean.abs_logfc.pval', 'Maasai.mean.jsd.pval', 'afr.mean.logfc',\n",
       "       'afr.mean.abs_logfc', 'afr.mean.jsd', 'eur.mean.logfc',\n",
       "       'eur.mean.abs_logfc', 'eur.mean.jsd', 'afr.mean.abs_logfc.pval',\n",
       "       'afr.mean.jsd.pval', 'eur.mean.abs_logfc.pval', 'eur.mean.jsd.pval',\n",
       "       'region', 'snp', 'distance', 'pval', 'beta', 'se', 'abs_beta'],\n",
       "      dtype='object')"
      ]
     },
     "execution_count": 3,
     "metadata": {},
     "output_type": "execute_result"
    }
   ],
   "source": [
    "data.columns"
   ]
  },
  {
   "cell_type": "code",
   "execution_count": 4,
   "metadata": {},
   "outputs": [
    {
     "data": {
      "text/plain": [
       "(219382, 77)"
      ]
     },
     "execution_count": 4,
     "metadata": {},
     "output_type": "execute_result"
    }
   ],
   "source": [
    "data.shape"
   ]
  },
  {
   "cell_type": "code",
   "execution_count": 5,
   "metadata": {},
   "outputs": [],
   "source": [
    "import numpy as np\n",
    "data_dnase = pd.read_csv(\"/mnt/lab_data2/anusri/enformer/eu_caqtls/chrombpnet_preds/dnase_preds/DNASE_NEW/summary.mean.variant_scores_new_3.tsv\", sep=\"\\t\", header=0)\n",
    "data_atac = pd.read_csv(\"/mnt/lab_data2/anusri/enformer/eu_caqtls/chrombpnet_preds/atac/ATAC/summary.mean.variant_scores_new_2.tsv\", sep=\"\\t\", header=0)\n",
    "data_atac_50m = pd.read_csv(\"/mnt/lab_data2/anusri/enformer/eu_caqtls/chrombpnet_preds/atac_50M/ATAC_50M/summary.mean.variant_scores_new_2.tsv\", sep=\"\\t\", header=0)"
   ]
  },
  {
   "cell_type": "code",
   "execution_count": 6,
   "metadata": {},
   "outputs": [],
   "source": [
    "vals = ['GM12878.ENCSR637XSC.mean.logfc', 'GM12878.ENCSR637XSC.mean.abs_logfc', 'GM12878.ENCSR637XSC.mean.jsd',\n",
    "       'GM12878.ENCSR637XSC.mean.abs_logfc_x_jsd',\n",
    "       'GM12878.ENCSR637XSC.mean.abs_logfc_x_jsd_x_max_percentile',\n",
    "       'GM12878.ENCSR637XSC.mean.max_percentile',\n",
    "       'GM12878.ENCSR637XSC.mean.abs_logfc.pval',\n",
    "       'GM12878.ENCSR637XSC.mean.jsd.pval',\n",
    "       'GM12878.ENCSR637XSC.mean.abs_logfc_x_jsd.pval',\n",
    "       'GM12878.ENCSR637XSC.mean.abs_logfc_x_jsd_x_max_percentile.pval']"
   ]
  },
  {
   "cell_type": "code",
   "execution_count": 7,
   "metadata": {},
   "outputs": [],
   "source": [
    "for val in vals:\n",
    "    #print(val)\n",
    "    if \"pval\" not in val:\n",
    "        data[val] = data_atac[val.replace(\"GM12878.ENCSR637XSC.mean.\", \"\")+\".mean\"]\n",
    "    else:\n",
    "        data[val] = data_atac[val.replace(\"GM12878.ENCSR637XSC.mean.\", \"\").replace(\".pval\",\".mean.pval\")]"
   ]
  },
  {
   "cell_type": "code",
   "execution_count": 8,
   "metadata": {},
   "outputs": [],
   "source": [
    "for val in vals:\n",
    "    #print(val)\n",
    "    if \"pval\" not in val:\n",
    "        data[val.replace(\"ENCSR637XSC\", \"ENCSR637XSC.sub.50M\")] = data_atac_50m[val.replace(\"GM12878.ENCSR637XSC.mean.\", \"\")+\".mean\"]\n",
    "    else:\n",
    "        data[val.replace(\"ENCSR637XSC\", \"ENCSR637XSC.sub.50M\")] = data_atac_50m[val.replace(\"GM12878.ENCSR637XSC.mean.\", \"\").replace(\".pval\",\".mean.pval\")]"
   ]
  },
  {
   "cell_type": "code",
   "execution_count": 9,
   "metadata": {},
   "outputs": [],
   "source": [
    "for val in vals:\n",
    "    #print(val)\n",
    "    if \"pval\" not in val:\n",
    "        data[val.replace(\"ENCSR637XSC\", \"ENCSR000EMT\")] = data_dnase[val.replace(\"GM12878.ENCSR637XSC.mean.\", \"\")+\".mean\"]\n",
    "    else:\n",
    "        data[val.replace(\"ENCSR637XSC\", \"ENCSR000EMT\")] = data_dnase[val.replace(\"GM12878.ENCSR637XSC.mean.\", \"\").replace(\".pval\",\".mean.pval\")]"
   ]
  },
  {
   "cell_type": "code",
   "execution_count": 10,
   "metadata": {},
   "outputs": [
    {
     "data": {
      "text/plain": [
       "(219382, 97)"
      ]
     },
     "execution_count": 10,
     "metadata": {},
     "output_type": "execute_result"
    }
   ],
   "source": [
    "data[data.columns[0:70].tolist()+data.columns[77:].tolist()+data.columns[70:77].tolist()].shape"
   ]
  },
  {
   "cell_type": "code",
   "execution_count": 11,
   "metadata": {
    "scrolled": true
   },
   "outputs": [
    {
     "data": {
      "text/html": [
       "<div>\n",
       "<style scoped>\n",
       "    .dataframe tbody tr th:only-of-type {\n",
       "        vertical-align: middle;\n",
       "    }\n",
       "\n",
       "    .dataframe tbody tr th {\n",
       "        vertical-align: top;\n",
       "    }\n",
       "\n",
       "    .dataframe thead th {\n",
       "        text-align: right;\n",
       "    }\n",
       "</style>\n",
       "<table border=\"1\" class=\"dataframe\">\n",
       "  <thead>\n",
       "    <tr style=\"text-align: right;\">\n",
       "      <th></th>\n",
       "      <th>chr</th>\n",
       "      <th>pos</th>\n",
       "      <th>allele1</th>\n",
       "      <th>allele2</th>\n",
       "      <th>rsid</th>\n",
       "      <th>region</th>\n",
       "      <th>snp</th>\n",
       "      <th>distance</th>\n",
       "      <th>pval</th>\n",
       "      <th>beta</th>\n",
       "      <th>se</th>\n",
       "      <th>abs_beta</th>\n",
       "    </tr>\n",
       "  </thead>\n",
       "  <tbody>\n",
       "    <tr>\n",
       "      <th>0</th>\n",
       "      <td>chr1</td>\n",
       "      <td>866281</td>\n",
       "      <td>C</td>\n",
       "      <td>T</td>\n",
       "      <td>1_866281_C_T</td>\n",
       "      <td>1:866099:866351</td>\n",
       "      <td>1_866281_C_T</td>\n",
       "      <td>181</td>\n",
       "      <td>0.974280</td>\n",
       "      <td>0.006546</td>\n",
       "      <td>0.202449</td>\n",
       "      <td>0.006546</td>\n",
       "    </tr>\n",
       "    <tr>\n",
       "      <th>1</th>\n",
       "      <td>chr1</td>\n",
       "      <td>866300</td>\n",
       "      <td>A</td>\n",
       "      <td>C</td>\n",
       "      <td>1_866300_A_C</td>\n",
       "      <td>1:866099:866351</td>\n",
       "      <td>1_866300_A_C</td>\n",
       "      <td>200</td>\n",
       "      <td>0.974280</td>\n",
       "      <td>0.006546</td>\n",
       "      <td>0.202449</td>\n",
       "      <td>0.006546</td>\n",
       "    </tr>\n",
       "    <tr>\n",
       "      <th>2</th>\n",
       "      <td>chr1</td>\n",
       "      <td>870176</td>\n",
       "      <td>T</td>\n",
       "      <td>A</td>\n",
       "      <td>1_870176_T_A</td>\n",
       "      <td>1:869800:870282</td>\n",
       "      <td>1_870176_T_A</td>\n",
       "      <td>375</td>\n",
       "      <td>0.071532</td>\n",
       "      <td>-0.250142</td>\n",
       "      <td>0.137133</td>\n",
       "      <td>0.250142</td>\n",
       "    </tr>\n",
       "    <tr>\n",
       "      <th>3</th>\n",
       "      <td>chr1</td>\n",
       "      <td>904947</td>\n",
       "      <td>G</td>\n",
       "      <td>A</td>\n",
       "      <td>1_904947_G_A</td>\n",
       "      <td>1:904938:905544</td>\n",
       "      <td>1_904947_G_A</td>\n",
       "      <td>8</td>\n",
       "      <td>0.290840</td>\n",
       "      <td>0.174397</td>\n",
       "      <td>0.164112</td>\n",
       "      <td>0.174397</td>\n",
       "    </tr>\n",
       "    <tr>\n",
       "      <th>4</th>\n",
       "      <td>chr1</td>\n",
       "      <td>905373</td>\n",
       "      <td>C</td>\n",
       "      <td>T</td>\n",
       "      <td>1_905373_T_C</td>\n",
       "      <td>1:904938:905544</td>\n",
       "      <td>1_905373_T_C</td>\n",
       "      <td>434</td>\n",
       "      <td>0.188152</td>\n",
       "      <td>-0.130176</td>\n",
       "      <td>0.098145</td>\n",
       "      <td>0.130176</td>\n",
       "    </tr>\n",
       "    <tr>\n",
       "      <th>...</th>\n",
       "      <td>...</td>\n",
       "      <td>...</td>\n",
       "      <td>...</td>\n",
       "      <td>...</td>\n",
       "      <td>...</td>\n",
       "      <td>...</td>\n",
       "      <td>...</td>\n",
       "      <td>...</td>\n",
       "      <td>...</td>\n",
       "      <td>...</td>\n",
       "      <td>...</td>\n",
       "      <td>...</td>\n",
       "    </tr>\n",
       "    <tr>\n",
       "      <th>219377</th>\n",
       "      <td>chr22</td>\n",
       "      <td>50627388</td>\n",
       "      <td>G</td>\n",
       "      <td>A</td>\n",
       "      <td>22_50627388_G_A</td>\n",
       "      <td>22:50627308:50627508</td>\n",
       "      <td>22_50627388_G_A</td>\n",
       "      <td>79</td>\n",
       "      <td>0.405697</td>\n",
       "      <td>-0.136940</td>\n",
       "      <td>0.163901</td>\n",
       "      <td>0.136940</td>\n",
       "    </tr>\n",
       "    <tr>\n",
       "      <th>219378</th>\n",
       "      <td>chr22</td>\n",
       "      <td>50628124</td>\n",
       "      <td>C</td>\n",
       "      <td>G</td>\n",
       "      <td>22_50628124_C_G</td>\n",
       "      <td>22:50627514:50628822</td>\n",
       "      <td>22_50628124_C_G</td>\n",
       "      <td>609</td>\n",
       "      <td>0.742636</td>\n",
       "      <td>0.021773</td>\n",
       "      <td>0.066098</td>\n",
       "      <td>0.021773</td>\n",
       "    </tr>\n",
       "    <tr>\n",
       "      <th>219379</th>\n",
       "      <td>chr22</td>\n",
       "      <td>50628493</td>\n",
       "      <td>G</td>\n",
       "      <td>A</td>\n",
       "      <td>22_50628493_G_A</td>\n",
       "      <td>22:50627514:50628822</td>\n",
       "      <td>22_50628493_G_A</td>\n",
       "      <td>978</td>\n",
       "      <td>0.729436</td>\n",
       "      <td>0.028973</td>\n",
       "      <td>0.083502</td>\n",
       "      <td>0.028973</td>\n",
       "    </tr>\n",
       "    <tr>\n",
       "      <th>219380</th>\n",
       "      <td>chr22</td>\n",
       "      <td>50628562</td>\n",
       "      <td>C</td>\n",
       "      <td>T</td>\n",
       "      <td>22_50628562_C_T</td>\n",
       "      <td>22:50627514:50628822</td>\n",
       "      <td>22_50628562_C_T</td>\n",
       "      <td>1047</td>\n",
       "      <td>0.191678</td>\n",
       "      <td>-0.076209</td>\n",
       "      <td>0.057921</td>\n",
       "      <td>0.076209</td>\n",
       "    </tr>\n",
       "    <tr>\n",
       "      <th>219381</th>\n",
       "      <td>chr22</td>\n",
       "      <td>50783303</td>\n",
       "      <td>T</td>\n",
       "      <td>C</td>\n",
       "      <td>22_50783303_T_C</td>\n",
       "      <td>22:50782926:50783896</td>\n",
       "      <td>22_50783303_T_C</td>\n",
       "      <td>376</td>\n",
       "      <td>0.210785</td>\n",
       "      <td>-0.130570</td>\n",
       "      <td>0.103578</td>\n",
       "      <td>0.130570</td>\n",
       "    </tr>\n",
       "  </tbody>\n",
       "</table>\n",
       "<p>219382 rows × 12 columns</p>\n",
       "</div>"
      ],
      "text/plain": [
       "          chr       pos allele1 allele2             rsid  \\\n",
       "0        chr1    866281       C       T     1_866281_C_T   \n",
       "1        chr1    866300       A       C     1_866300_A_C   \n",
       "2        chr1    870176       T       A     1_870176_T_A   \n",
       "3        chr1    904947       G       A     1_904947_G_A   \n",
       "4        chr1    905373       C       T     1_905373_T_C   \n",
       "...       ...       ...     ...     ...              ...   \n",
       "219377  chr22  50627388       G       A  22_50627388_G_A   \n",
       "219378  chr22  50628124       C       G  22_50628124_C_G   \n",
       "219379  chr22  50628493       G       A  22_50628493_G_A   \n",
       "219380  chr22  50628562       C       T  22_50628562_C_T   \n",
       "219381  chr22  50783303       T       C  22_50783303_T_C   \n",
       "\n",
       "                      region              snp  distance      pval      beta  \\\n",
       "0            1:866099:866351     1_866281_C_T       181  0.974280  0.006546   \n",
       "1            1:866099:866351     1_866300_A_C       200  0.974280  0.006546   \n",
       "2            1:869800:870282     1_870176_T_A       375  0.071532 -0.250142   \n",
       "3            1:904938:905544     1_904947_G_A         8  0.290840  0.174397   \n",
       "4            1:904938:905544     1_905373_T_C       434  0.188152 -0.130176   \n",
       "...                      ...              ...       ...       ...       ...   \n",
       "219377  22:50627308:50627508  22_50627388_G_A        79  0.405697 -0.136940   \n",
       "219378  22:50627514:50628822  22_50628124_C_G       609  0.742636  0.021773   \n",
       "219379  22:50627514:50628822  22_50628493_G_A       978  0.729436  0.028973   \n",
       "219380  22:50627514:50628822  22_50628562_C_T      1047  0.191678 -0.076209   \n",
       "219381  22:50782926:50783896  22_50783303_T_C       376  0.210785 -0.130570   \n",
       "\n",
       "              se  abs_beta  \n",
       "0       0.202449  0.006546  \n",
       "1       0.202449  0.006546  \n",
       "2       0.137133  0.250142  \n",
       "3       0.164112  0.174397  \n",
       "4       0.098145  0.130176  \n",
       "...          ...       ...  \n",
       "219377  0.163901  0.136940  \n",
       "219378  0.066098  0.021773  \n",
       "219379  0.083502  0.028973  \n",
       "219380  0.057921  0.076209  \n",
       "219381  0.103578  0.130570  \n",
       "\n",
       "[219382 rows x 12 columns]"
      ]
     },
     "execution_count": 11,
     "metadata": {},
     "output_type": "execute_result"
    }
   ],
   "source": [
    "data[data.columns[0:5].tolist()+data.columns[70:77].tolist()]"
   ]
  },
  {
   "cell_type": "code",
   "execution_count": 12,
   "metadata": {},
   "outputs": [
    {
     "name": "stdout",
     "output_type": "stream",
     "text": [
      "{'Gambian', 'eur', 'Luhya', 'Esan', 'GM12878', 'Yoruba', 'Maasai', 'afr', 'Mende'}\n"
     ]
    }
   ],
   "source": [
    "anscs = data.columns[5:70].tolist()+data.columns[77:].tolist()\n",
    "anscs = [ans.split(\".\")[0] for ans in anscs]\n",
    "anscs = set(anscs)\n",
    "print(anscs)\n",
    "\n",
    "sub_list = []\n",
    "for ans in anscs:\n",
    "    if ans == \"GM12878\":\n",
    "        for title in [\".ENCSR637XSC\", \".ENCSR000EMT\", \".ENCSR637XSC.sub.50M\", \".ENCSR095QNB\"]:\n",
    "            sub_list.append(ans+title+\".mean.logfc\")\n",
    "            data[ans+title+\".mean.sign.jsd\"] = np.sign(data[ans+title+\".mean.logfc\"]) * data[ans+title+\".mean.jsd\"]\n",
    "            sub_list.append(ans+title+\".mean.sign.jsd\")\n",
    "            sub_list.append(ans+title+\".mean.abs_logfc_x_jsd_x_max_percentile\")\n",
    "            sub_list.append(ans+title+\".mean.abs_logfc_x_jsd_x_max_percentile.pval\")\n",
    "    else:\n",
    "        sub_list.append(ans+\".mean.logfc\")\n",
    "        data[ans+\".mean.sign.jsd\"] = np.sign(data[ans+\".mean.logfc\"]) * data[ans+\".mean.jsd\"]\n",
    "        sub_list.append(ans+\".mean.sign.jsd\")        \n",
    "\n",
    "    "
   ]
  },
  {
   "cell_type": "code",
   "execution_count": 13,
   "metadata": {},
   "outputs": [
    {
     "data": {
      "text/plain": [
       "Index(['chr', 'pos', 'allele1', 'allele2', 'rsid', 'region', 'snp', 'distance',\n",
       "       'pval', 'beta', 'se', 'abs_beta', 'Gambian.mean.logfc',\n",
       "       'Gambian.mean.sign.jsd', 'eur.mean.logfc', 'eur.mean.sign.jsd',\n",
       "       'Luhya.mean.logfc', 'Luhya.mean.sign.jsd', 'Esan.mean.logfc',\n",
       "       'Esan.mean.sign.jsd', 'GM12878.ENCSR637XSC.mean.logfc',\n",
       "       'GM12878.ENCSR637XSC.mean.sign.jsd',\n",
       "       'GM12878.ENCSR637XSC.mean.abs_logfc_x_jsd_x_max_percentile',\n",
       "       'GM12878.ENCSR637XSC.mean.abs_logfc_x_jsd_x_max_percentile.pval',\n",
       "       'GM12878.ENCSR000EMT.mean.logfc', 'GM12878.ENCSR000EMT.mean.sign.jsd',\n",
       "       'GM12878.ENCSR000EMT.mean.abs_logfc_x_jsd_x_max_percentile',\n",
       "       'GM12878.ENCSR000EMT.mean.abs_logfc_x_jsd_x_max_percentile.pval',\n",
       "       'GM12878.ENCSR637XSC.sub.50M.mean.logfc',\n",
       "       'GM12878.ENCSR637XSC.sub.50M.mean.sign.jsd',\n",
       "       'GM12878.ENCSR637XSC.sub.50M.mean.abs_logfc_x_jsd_x_max_percentile',\n",
       "       'GM12878.ENCSR637XSC.sub.50M.mean.abs_logfc_x_jsd_x_max_percentile.pval',\n",
       "       'GM12878.ENCSR095QNB.mean.logfc', 'GM12878.ENCSR095QNB.mean.sign.jsd',\n",
       "       'GM12878.ENCSR095QNB.mean.abs_logfc_x_jsd_x_max_percentile',\n",
       "       'GM12878.ENCSR095QNB.mean.abs_logfc_x_jsd_x_max_percentile.pval',\n",
       "       'Yoruba.mean.logfc', 'Yoruba.mean.sign.jsd', 'Maasai.mean.logfc',\n",
       "       'Maasai.mean.sign.jsd', 'afr.mean.logfc', 'afr.mean.sign.jsd',\n",
       "       'Mende.mean.logfc', 'Mende.mean.sign.jsd'],\n",
       "      dtype='object')"
      ]
     },
     "execution_count": 13,
     "metadata": {},
     "output_type": "execute_result"
    }
   ],
   "source": [
    "data = data[data.columns[0:5].tolist()+data.columns[70:77].tolist()+sub_list]\n",
    "data.columns"
   ]
  },
  {
   "cell_type": "code",
   "execution_count": 14,
   "metadata": {},
   "outputs": [],
   "source": [
    "sig_data = pd.read_csv(\"../final_figures/af_caqtls/significant.caqtls.list.tsv\", sep=\"\\t\")"
   ]
  },
  {
   "cell_type": "code",
   "execution_count": 15,
   "metadata": {},
   "outputs": [
    {
     "name": "stdout",
     "output_type": "stream",
     "text": [
      "2.92178e-41\n",
      "9.99633e-06\n"
     ]
    }
   ],
   "source": [
    "print(min(sig_data[\"pval\"]))\n",
    "print(max(sig_data[\"pval\"]))"
   ]
  },
  {
   "cell_type": "code",
   "execution_count": 16,
   "metadata": {},
   "outputs": [
    {
     "data": {
      "text/html": [
       "<div>\n",
       "<style scoped>\n",
       "    .dataframe tbody tr th:only-of-type {\n",
       "        vertical-align: middle;\n",
       "    }\n",
       "\n",
       "    .dataframe tbody tr th {\n",
       "        vertical-align: top;\n",
       "    }\n",
       "\n",
       "    .dataframe thead th {\n",
       "        text-align: right;\n",
       "    }\n",
       "</style>\n",
       "<table border=\"1\" class=\"dataframe\">\n",
       "  <thead>\n",
       "    <tr style=\"text-align: right;\">\n",
       "      <th></th>\n",
       "      <th>chr</th>\n",
       "      <th>pos</th>\n",
       "      <th>allele1</th>\n",
       "      <th>allele2</th>\n",
       "      <th>rsid</th>\n",
       "      <th>region</th>\n",
       "      <th>snp</th>\n",
       "      <th>distance</th>\n",
       "      <th>pval</th>\n",
       "      <th>beta</th>\n",
       "      <th>se</th>\n",
       "      <th>abs_beta</th>\n",
       "    </tr>\n",
       "  </thead>\n",
       "  <tbody>\n",
       "    <tr>\n",
       "      <th>0</th>\n",
       "      <td>chr1</td>\n",
       "      <td>906982</td>\n",
       "      <td>C</td>\n",
       "      <td>T</td>\n",
       "      <td>1_906982_C_T</td>\n",
       "      <td>1:906596:907043</td>\n",
       "      <td>1_906982_C_T</td>\n",
       "      <td>385</td>\n",
       "      <td>4.802840e-06</td>\n",
       "      <td>-0.520262</td>\n",
       "      <td>0.106740</td>\n",
       "      <td>0.520262</td>\n",
       "    </tr>\n",
       "    <tr>\n",
       "      <th>1</th>\n",
       "      <td>chr1</td>\n",
       "      <td>921203</td>\n",
       "      <td>G</td>\n",
       "      <td>A</td>\n",
       "      <td>1_921203_G_A</td>\n",
       "      <td>1:921132:921332</td>\n",
       "      <td>1_921203_G_A</td>\n",
       "      <td>70</td>\n",
       "      <td>6.892040e-06</td>\n",
       "      <td>0.905971</td>\n",
       "      <td>0.189412</td>\n",
       "      <td>0.905971</td>\n",
       "    </tr>\n",
       "    <tr>\n",
       "      <th>2</th>\n",
       "      <td>chr1</td>\n",
       "      <td>976215</td>\n",
       "      <td>A</td>\n",
       "      <td>G</td>\n",
       "      <td>1_976215_A_G</td>\n",
       "      <td>1:975872:976361</td>\n",
       "      <td>1_976215_A_G</td>\n",
       "      <td>342</td>\n",
       "      <td>2.622420e-11</td>\n",
       "      <td>-0.615266</td>\n",
       "      <td>0.080637</td>\n",
       "      <td>0.615266</td>\n",
       "    </tr>\n",
       "    <tr>\n",
       "      <th>3</th>\n",
       "      <td>chr1</td>\n",
       "      <td>1038800</td>\n",
       "      <td>T</td>\n",
       "      <td>G</td>\n",
       "      <td>1_1038800_G_T</td>\n",
       "      <td>1:1038791:1039035</td>\n",
       "      <td>1_1038800_G_T</td>\n",
       "      <td>8</td>\n",
       "      <td>1.169820e-11</td>\n",
       "      <td>0.700579</td>\n",
       "      <td>0.089787</td>\n",
       "      <td>0.700579</td>\n",
       "    </tr>\n",
       "    <tr>\n",
       "      <th>4</th>\n",
       "      <td>chr1</td>\n",
       "      <td>1038819</td>\n",
       "      <td>T</td>\n",
       "      <td>C</td>\n",
       "      <td>1_1038819_C_T</td>\n",
       "      <td>1:1038791:1039035</td>\n",
       "      <td>1_1038819_C_T</td>\n",
       "      <td>27</td>\n",
       "      <td>1.169820e-11</td>\n",
       "      <td>0.700579</td>\n",
       "      <td>0.089787</td>\n",
       "      <td>0.700579</td>\n",
       "    </tr>\n",
       "  </tbody>\n",
       "</table>\n",
       "</div>"
      ],
      "text/plain": [
       "    chr      pos allele1 allele2           rsid             region  \\\n",
       "0  chr1   906982       C       T   1_906982_C_T    1:906596:907043   \n",
       "1  chr1   921203       G       A   1_921203_G_A    1:921132:921332   \n",
       "2  chr1   976215       A       G   1_976215_A_G    1:975872:976361   \n",
       "3  chr1  1038800       T       G  1_1038800_G_T  1:1038791:1039035   \n",
       "4  chr1  1038819       T       C  1_1038819_C_T  1:1038791:1039035   \n",
       "\n",
       "             snp  distance          pval      beta        se  abs_beta  \n",
       "0   1_906982_C_T       385  4.802840e-06 -0.520262  0.106740  0.520262  \n",
       "1   1_921203_G_A        70  6.892040e-06  0.905971  0.189412  0.905971  \n",
       "2   1_976215_A_G       342  2.622420e-11 -0.615266  0.080637  0.615266  \n",
       "3  1_1038800_G_T         8  1.169820e-11  0.700579  0.089787  0.700579  \n",
       "4  1_1038819_C_T        27  1.169820e-11  0.700579  0.089787  0.700579  "
      ]
     },
     "execution_count": 16,
     "metadata": {},
     "output_type": "execute_result"
    }
   ],
   "source": [
    "sig_data.head()\n"
   ]
  },
  {
   "cell_type": "code",
   "execution_count": 17,
   "metadata": {},
   "outputs": [],
   "source": [
    "data[\"label\"] = data[\"rsid\"].isin(sig_data[\"rsid\"])"
   ]
  },
  {
   "cell_type": "code",
   "execution_count": 18,
   "metadata": {},
   "outputs": [
    {
     "data": {
      "text/plain": [
       "(219382, 45)"
      ]
     },
     "execution_count": 18,
     "metadata": {},
     "output_type": "execute_result"
    }
   ],
   "source": [
    "data.shape"
   ]
  },
  {
   "cell_type": "code",
   "execution_count": 19,
   "metadata": {},
   "outputs": [
    {
     "name": "stdout",
     "output_type": "stream",
     "text": [
      "9.99633e-06\n",
      "2.92178e-41\n"
     ]
    },
    {
     "data": {
      "text/plain": [
       "<AxesSubplot:>"
      ]
     },
     "execution_count": 19,
     "metadata": {},
     "output_type": "execute_result"
    },
    {
     "data": {
      "image/png": "[encoded data removed]",
      "text/plain": [
       "<Figure size 432x288 with 1 Axes>"
      ]
     },
     "metadata": {
      "needs_background": "light"
     },
     "output_type": "display_data"
    }
   ],
   "source": [
    "print(max(data[data[\"label\"]][\"pval\"]))\n",
    "print(min(data[data[\"label\"]][\"pval\"]))\n",
    "data[\"pval\"].hist()"
   ]
  },
  {
   "cell_type": "code",
   "execution_count": 20,
   "metadata": {},
   "outputs": [
    {
     "data": {
      "text/html": [
       "<div>\n",
       "<style scoped>\n",
       "    .dataframe tbody tr th:only-of-type {\n",
       "        vertical-align: middle;\n",
       "    }\n",
       "\n",
       "    .dataframe tbody tr th {\n",
       "        vertical-align: top;\n",
       "    }\n",
       "\n",
       "    .dataframe thead th {\n",
       "        text-align: right;\n",
       "    }\n",
       "</style>\n",
       "<table border=\"1\" class=\"dataframe\">\n",
       "  <thead>\n",
       "    <tr style=\"text-align: right;\">\n",
       "      <th></th>\n",
       "      <th>chr</th>\n",
       "      <th>pos0</th>\n",
       "      <th>pos</th>\n",
       "      <th>allele1</th>\n",
       "      <th>allele2</th>\n",
       "      <th>rsid</th>\n",
       "      <th>region</th>\n",
       "      <th>snp</th>\n",
       "      <th>distance</th>\n",
       "      <th>pval</th>\n",
       "      <th>...</th>\n",
       "      <th>GM12878.ENCSR095QNB.mean.abs_logfc_x_jsd_x_max_percentile.pval</th>\n",
       "      <th>Yoruba.mean.logfc</th>\n",
       "      <th>Yoruba.mean.sign.jsd</th>\n",
       "      <th>Maasai.mean.logfc</th>\n",
       "      <th>Maasai.mean.sign.jsd</th>\n",
       "      <th>afr.mean.logfc</th>\n",
       "      <th>afr.mean.sign.jsd</th>\n",
       "      <th>Mende.mean.logfc</th>\n",
       "      <th>Mende.mean.sign.jsd</th>\n",
       "      <th>label</th>\n",
       "    </tr>\n",
       "  </thead>\n",
       "  <tbody>\n",
       "    <tr>\n",
       "      <th>0</th>\n",
       "      <td>chr1</td>\n",
       "      <td>866280</td>\n",
       "      <td>866281</td>\n",
       "      <td>C</td>\n",
       "      <td>T</td>\n",
       "      <td>1_866281_C_T</td>\n",
       "      <td>1:866099:866351</td>\n",
       "      <td>1_866281_C_T</td>\n",
       "      <td>181</td>\n",
       "      <td>0.974280</td>\n",
       "      <td>...</td>\n",
       "      <td>0.192846</td>\n",
       "      <td>-0.027432</td>\n",
       "      <td>-0.010446</td>\n",
       "      <td>-0.012440</td>\n",
       "      <td>-0.008949</td>\n",
       "      <td>-0.019836</td>\n",
       "      <td>-0.009291</td>\n",
       "      <td>-0.030473</td>\n",
       "      <td>-0.007855</td>\n",
       "      <td>False</td>\n",
       "    </tr>\n",
       "    <tr>\n",
       "      <th>1</th>\n",
       "      <td>chr1</td>\n",
       "      <td>866299</td>\n",
       "      <td>866300</td>\n",
       "      <td>A</td>\n",
       "      <td>C</td>\n",
       "      <td>1_866300_A_C</td>\n",
       "      <td>1:866099:866351</td>\n",
       "      <td>1_866300_A_C</td>\n",
       "      <td>200</td>\n",
       "      <td>0.974280</td>\n",
       "      <td>...</td>\n",
       "      <td>0.328184</td>\n",
       "      <td>-0.000067</td>\n",
       "      <td>-0.008802</td>\n",
       "      <td>0.003003</td>\n",
       "      <td>0.007669</td>\n",
       "      <td>-0.000810</td>\n",
       "      <td>-0.008199</td>\n",
       "      <td>0.006495</td>\n",
       "      <td>0.007980</td>\n",
       "      <td>False</td>\n",
       "    </tr>\n",
       "    <tr>\n",
       "      <th>2</th>\n",
       "      <td>chr1</td>\n",
       "      <td>870175</td>\n",
       "      <td>870176</td>\n",
       "      <td>T</td>\n",
       "      <td>A</td>\n",
       "      <td>1_870176_T_A</td>\n",
       "      <td>1:869800:870282</td>\n",
       "      <td>1_870176_T_A</td>\n",
       "      <td>375</td>\n",
       "      <td>0.071532</td>\n",
       "      <td>...</td>\n",
       "      <td>0.048612</td>\n",
       "      <td>-0.002890</td>\n",
       "      <td>-0.011776</td>\n",
       "      <td>0.010434</td>\n",
       "      <td>0.010721</td>\n",
       "      <td>0.005320</td>\n",
       "      <td>0.012242</td>\n",
       "      <td>-0.005758</td>\n",
       "      <td>-0.012707</td>\n",
       "      <td>False</td>\n",
       "    </tr>\n",
       "    <tr>\n",
       "      <th>3</th>\n",
       "      <td>chr1</td>\n",
       "      <td>904946</td>\n",
       "      <td>904947</td>\n",
       "      <td>G</td>\n",
       "      <td>A</td>\n",
       "      <td>1_904947_G_A</td>\n",
       "      <td>1:904938:905544</td>\n",
       "      <td>1_904947_G_A</td>\n",
       "      <td>8</td>\n",
       "      <td>0.290840</td>\n",
       "      <td>...</td>\n",
       "      <td>0.131444</td>\n",
       "      <td>-0.034314</td>\n",
       "      <td>-0.012153</td>\n",
       "      <td>-0.027632</td>\n",
       "      <td>-0.010494</td>\n",
       "      <td>-0.025393</td>\n",
       "      <td>-0.010448</td>\n",
       "      <td>-0.004891</td>\n",
       "      <td>-0.012478</td>\n",
       "      <td>False</td>\n",
       "    </tr>\n",
       "    <tr>\n",
       "      <th>4</th>\n",
       "      <td>chr1</td>\n",
       "      <td>905372</td>\n",
       "      <td>905373</td>\n",
       "      <td>C</td>\n",
       "      <td>T</td>\n",
       "      <td>1_905373_T_C</td>\n",
       "      <td>1:904938:905544</td>\n",
       "      <td>1_905373_T_C</td>\n",
       "      <td>434</td>\n",
       "      <td>0.188152</td>\n",
       "      <td>...</td>\n",
       "      <td>0.018781</td>\n",
       "      <td>-0.100955</td>\n",
       "      <td>-0.016933</td>\n",
       "      <td>-0.084056</td>\n",
       "      <td>-0.013616</td>\n",
       "      <td>0.085157</td>\n",
       "      <td>0.015007</td>\n",
       "      <td>-0.070206</td>\n",
       "      <td>-0.015290</td>\n",
       "      <td>False</td>\n",
       "    </tr>\n",
       "  </tbody>\n",
       "</table>\n",
       "<p>5 rows × 46 columns</p>\n",
       "</div>"
      ],
      "text/plain": [
       "    chr    pos0     pos allele1 allele2          rsid           region  \\\n",
       "0  chr1  866280  866281       C       T  1_866281_C_T  1:866099:866351   \n",
       "1  chr1  866299  866300       A       C  1_866300_A_C  1:866099:866351   \n",
       "2  chr1  870175  870176       T       A  1_870176_T_A  1:869800:870282   \n",
       "3  chr1  904946  904947       G       A  1_904947_G_A  1:904938:905544   \n",
       "4  chr1  905372  905373       C       T  1_905373_T_C  1:904938:905544   \n",
       "\n",
       "            snp  distance      pval  ...  \\\n",
       "0  1_866281_C_T       181  0.974280  ...   \n",
       "1  1_866300_A_C       200  0.974280  ...   \n",
       "2  1_870176_T_A       375  0.071532  ...   \n",
       "3  1_904947_G_A         8  0.290840  ...   \n",
       "4  1_905373_T_C       434  0.188152  ...   \n",
       "\n",
       "   GM12878.ENCSR095QNB.mean.abs_logfc_x_jsd_x_max_percentile.pval  \\\n",
       "0                                           0.192846                \n",
       "1                                           0.328184                \n",
       "2                                           0.048612                \n",
       "3                                           0.131444                \n",
       "4                                           0.018781                \n",
       "\n",
       "   Yoruba.mean.logfc  Yoruba.mean.sign.jsd  Maasai.mean.logfc  \\\n",
       "0          -0.027432             -0.010446          -0.012440   \n",
       "1          -0.000067             -0.008802           0.003003   \n",
       "2          -0.002890             -0.011776           0.010434   \n",
       "3          -0.034314             -0.012153          -0.027632   \n",
       "4          -0.100955             -0.016933          -0.084056   \n",
       "\n",
       "   Maasai.mean.sign.jsd  afr.mean.logfc  afr.mean.sign.jsd  Mende.mean.logfc  \\\n",
       "0             -0.008949       -0.019836          -0.009291         -0.030473   \n",
       "1              0.007669       -0.000810          -0.008199          0.006495   \n",
       "2              0.010721        0.005320           0.012242         -0.005758   \n",
       "3             -0.010494       -0.025393          -0.010448         -0.004891   \n",
       "4             -0.013616        0.085157           0.015007         -0.070206   \n",
       "\n",
       "   Mende.mean.sign.jsd  label  \n",
       "0            -0.007855  False  \n",
       "1             0.007980  False  \n",
       "2            -0.012707  False  \n",
       "3            -0.012478  False  \n",
       "4            -0.015290  False  \n",
       "\n",
       "[5 rows x 46 columns]"
      ]
     },
     "execution_count": 20,
     "metadata": {},
     "output_type": "execute_result"
    }
   ],
   "source": [
    "data[\"pos0\"] = data[\"pos\"] - 1\n",
    "selected_beds = data[[\"chr\", \"pos0\", \"pos\"]+data.columns[2:-1].tolist()]\n",
    "selected_beds.head()\n"
   ]
  },
  {
   "cell_type": "code",
   "execution_count": 23,
   "metadata": {},
   "outputs": [],
   "source": [
    "# find intersection with top 50k peaks per individual  ## this is the  top 50K for the Set Soumya gave\n",
    "import pybedtools\n",
    "beds_var = pybedtools.BedTool.from_dataframe(selected_beds)\n",
    "peak_bed = pybedtools.BedTool('/mnt/lab_data2/anusri/chromatin-atlas-anvil/data/afgr_data/peak_files/merged.peaks.af.top.50k.bed')\n",
    "sig_vars_in_bed = beds_var.intersect(peak_bed, c=True)"
   ]
  },
  {
   "cell_type": "code",
   "execution_count": 24,
   "metadata": {},
   "outputs": [],
   "source": [
    "#sig_vars_in_bed.to_dataframe()"
   ]
  },
  {
   "cell_type": "code",
   "execution_count": 25,
   "metadata": {},
   "outputs": [],
   "source": [
    "sig_vars_in_bed = sig_vars_in_bed.to_dataframe(names=selected_beds.columns.tolist() + [\"count\"])\n"
   ]
  },
  {
   "cell_type": "code",
   "execution_count": 26,
   "metadata": {},
   "outputs": [],
   "source": [
    "sig_vars_in_bed[\"in_peaks\"] = sig_vars_in_bed[\"count\"]>0"
   ]
  },
  {
   "cell_type": "code",
   "execution_count": null,
   "metadata": {},
   "outputs": [],
   "source": []
  },
  {
   "cell_type": "code",
   "execution_count": 27,
   "metadata": {},
   "outputs": [
    {
     "data": {
      "text/html": [
       "<div>\n",
       "<style scoped>\n",
       "    .dataframe tbody tr th:only-of-type {\n",
       "        vertical-align: middle;\n",
       "    }\n",
       "\n",
       "    .dataframe tbody tr th {\n",
       "        vertical-align: top;\n",
       "    }\n",
       "\n",
       "    .dataframe thead th {\n",
       "        text-align: right;\n",
       "    }\n",
       "</style>\n",
       "<table border=\"1\" class=\"dataframe\">\n",
       "  <thead>\n",
       "    <tr style=\"text-align: right;\">\n",
       "      <th></th>\n",
       "      <th>chr</th>\n",
       "      <th>pos0</th>\n",
       "      <th>pos</th>\n",
       "      <th>allele1</th>\n",
       "      <th>allele2</th>\n",
       "      <th>rsid</th>\n",
       "      <th>region</th>\n",
       "      <th>snp</th>\n",
       "      <th>distance</th>\n",
       "      <th>pval</th>\n",
       "      <th>...</th>\n",
       "      <th>Yoruba.mean.sign.jsd</th>\n",
       "      <th>Maasai.mean.logfc</th>\n",
       "      <th>Maasai.mean.sign.jsd</th>\n",
       "      <th>afr.mean.logfc</th>\n",
       "      <th>afr.mean.sign.jsd</th>\n",
       "      <th>Mende.mean.logfc</th>\n",
       "      <th>Mende.mean.sign.jsd</th>\n",
       "      <th>label</th>\n",
       "      <th>count</th>\n",
       "      <th>in_peaks</th>\n",
       "    </tr>\n",
       "  </thead>\n",
       "  <tbody>\n",
       "    <tr>\n",
       "      <th>0</th>\n",
       "      <td>chr1</td>\n",
       "      <td>866280</td>\n",
       "      <td>866281</td>\n",
       "      <td>C</td>\n",
       "      <td>T</td>\n",
       "      <td>1_866281_C_T</td>\n",
       "      <td>1:866099:866351</td>\n",
       "      <td>1_866281_C_T</td>\n",
       "      <td>181</td>\n",
       "      <td>0.97428</td>\n",
       "      <td>...</td>\n",
       "      <td>-0.010446</td>\n",
       "      <td>-0.01244</td>\n",
       "      <td>-0.008949</td>\n",
       "      <td>-0.019836</td>\n",
       "      <td>-0.009291</td>\n",
       "      <td>-0.030473</td>\n",
       "      <td>-0.007855</td>\n",
       "      <td>False</td>\n",
       "      <td>0</td>\n",
       "      <td>False</td>\n",
       "    </tr>\n",
       "  </tbody>\n",
       "</table>\n",
       "<p>1 rows × 48 columns</p>\n",
       "</div>"
      ],
      "text/plain": [
       "    chr    pos0     pos allele1 allele2          rsid           region  \\\n",
       "0  chr1  866280  866281       C       T  1_866281_C_T  1:866099:866351   \n",
       "\n",
       "            snp  distance     pval  ...  Yoruba.mean.sign.jsd  \\\n",
       "0  1_866281_C_T       181  0.97428  ...             -0.010446   \n",
       "\n",
       "   Maasai.mean.logfc  Maasai.mean.sign.jsd  afr.mean.logfc  afr.mean.sign.jsd  \\\n",
       "0           -0.01244             -0.008949       -0.019836          -0.009291   \n",
       "\n",
       "   Mende.mean.logfc  Mende.mean.sign.jsd  label  count  in_peaks  \n",
       "0         -0.030473            -0.007855  False      0     False  \n",
       "\n",
       "[1 rows x 48 columns]"
      ]
     },
     "execution_count": 27,
     "metadata": {},
     "output_type": "execute_result"
    }
   ],
   "source": [
    "\n",
    "sig_vars_in_bed.head(1)"
   ]
  },
  {
   "cell_type": "code",
   "execution_count": 28,
   "metadata": {},
   "outputs": [
    {
     "data": {
      "text/plain": [
       "90158"
      ]
     },
     "execution_count": 28,
     "metadata": {},
     "output_type": "execute_result"
    }
   ],
   "source": [
    "sum(sig_vars_in_bed[\"in_peaks\"])"
   ]
  },
  {
   "cell_type": "code",
   "execution_count": 29,
   "metadata": {},
   "outputs": [
    {
     "data": {
      "text/plain": [
       "6827"
      ]
     },
     "execution_count": 29,
     "metadata": {},
     "output_type": "execute_result"
    }
   ],
   "source": [
    "sum(sig_vars_in_bed[sig_vars_in_bed[\"in_peaks\"]][\"label\"])"
   ]
  },
  {
   "cell_type": "code",
   "execution_count": 30,
   "metadata": {},
   "outputs": [
    {
     "data": {
      "text/plain": [
       "(90158,)"
      ]
     },
     "execution_count": 30,
     "metadata": {},
     "output_type": "execute_result"
    }
   ],
   "source": [
    "sig_vars_in_bed[sig_vars_in_bed[\"in_peaks\"]][\"label\"].shape"
   ]
  },
  {
   "cell_type": "code",
   "execution_count": 31,
   "metadata": {},
   "outputs": [
    {
     "data": {
      "text/plain": [
       "(219382, 48)"
      ]
     },
     "execution_count": 31,
     "metadata": {},
     "output_type": "execute_result"
    }
   ],
   "source": [
    "sig_vars_in_bed.shape"
   ]
  },
  {
   "cell_type": "code",
   "execution_count": 32,
   "metadata": {},
   "outputs": [],
   "source": [
    "## set of extra variants for which enformer predictions were calculated\n",
    "#sig_vars_in_bed[['chr', 'pos', 'allele1', 'allele2', \"label\"]].to_csv(\"/mnt/lab_data2/anusri/enformer/eu_caqtls/source2_new_filter.tsv\", sep=\"\\t\", header=True, index=False)\n",
    "\n"
   ]
  },
  {
   "cell_type": "code",
   "execution_count": 33,
   "metadata": {},
   "outputs": [],
   "source": [
    "# import pybedtools\n",
    "# beds_var = pybedtools.BedTool.from_dataframe(selected_beds)\n",
    "# peak_bed = pybedtools.BedTool('af_caqtls/merged.peaks.af.bed')\n",
    "# sig_vars_in_bed = beds_var.intersect(peak_bed, wa=True)"
   ]
  },
  {
   "cell_type": "code",
   "execution_count": 34,
   "metadata": {},
   "outputs": [],
   "source": [
    "# sig_vars_in_bed = sig_vars_in_bed.to_dataframe(names=[\"chr\", \"pos0\", \"pos\"]+data.columns[2:-1].tolist()).drop_duplicates()\n"
   ]
  },
  {
   "cell_type": "code",
   "execution_count": 35,
   "metadata": {},
   "outputs": [],
   "source": [
    "# sig_vars_in_bed.shape"
   ]
  },
  {
   "cell_type": "code",
   "execution_count": 36,
   "metadata": {},
   "outputs": [],
   "source": [
    "# data.shape"
   ]
  },
  {
   "cell_type": "code",
   "execution_count": 37,
   "metadata": {},
   "outputs": [],
   "source": [
    "# sum(sig_vars_in_bed[\"label\"]==1)"
   ]
  },
  {
   "cell_type": "code",
   "execution_count": 38,
   "metadata": {},
   "outputs": [],
   "source": [
    "#sig_vars_in_bed[['chr', 'pos', 'allele1', 'allele2', \"label\"]].to_csv(\"/mnt/lab_data2/anusri/enformer/eu_caqtls/source2.tsv\", sep=\"\\t\", header=True, index=False)"
   ]
  },
  {
   "cell_type": "code",
   "execution_count": 39,
   "metadata": {},
   "outputs": [],
   "source": [
    "#enforer_recomputed_preds (we first computed enformer scores on the orignal african merged peaks, so load them)\n",
    "import pickle as pkl\n",
    "import os\n",
    "\n",
    "mean_change=[]\n",
    "rsids=[]\n",
    "\n",
    "enf_dir=\"/mnt/lab_data2/anusri/variant-scorer/src/output/afr_caqtls_window/\"\n",
    "for diri in [\"splitaa\", \"splitab\", \"splitac\"]:\n",
    "    enformer_recompute = pkl.load(open(enf_dir+diri+\"/predictions_at_snp.pkl\",'rb'))\n",
    "    for i in range(enformer_recompute[\"ref_logcount_preds\"].shape[0]):\n",
    "        mean_change.append(np.log2( (enformer_recompute[\"ref_logcount_preds\"][i,440+4:456-4].sum()+1) / (enformer_recompute[\"alt_logcount_preds\"][i,440+4:456-4].sum()+1)))\n",
    "        rsids.append(enformer_recompute[\"rsids\"][i])\n",
    "mean_change = np.array(mean_change)\n"
   ]
  },
  {
   "cell_type": "code",
   "execution_count": 40,
   "metadata": {},
   "outputs": [
    {
     "data": {
      "text/plain": [
       "(116499,)"
      ]
     },
     "execution_count": 40,
     "metadata": {},
     "output_type": "execute_result"
    }
   ],
   "source": [
    "mean_change.shape"
   ]
  },
  {
   "cell_type": "code",
   "execution_count": 41,
   "metadata": {},
   "outputs": [
    {
     "data": {
      "text/plain": [
       "'chr1_870175_T_A_False'"
      ]
     },
     "execution_count": 41,
     "metadata": {},
     "output_type": "execute_result"
    }
   ],
   "source": [
    "rsids[0]"
   ]
  },
  {
   "cell_type": "code",
   "execution_count": 42,
   "metadata": {},
   "outputs": [
    {
     "data": {
      "text/plain": [
       "(219382, 48)"
      ]
     },
     "execution_count": 42,
     "metadata": {},
     "output_type": "execute_result"
    }
   ],
   "source": [
    "sig_vars_in_bed.shape"
   ]
  },
  {
   "cell_type": "code",
   "execution_count": 43,
   "metadata": {},
   "outputs": [
    {
     "data": {
      "text/html": [
       "<div>\n",
       "<style scoped>\n",
       "    .dataframe tbody tr th:only-of-type {\n",
       "        vertical-align: middle;\n",
       "    }\n",
       "\n",
       "    .dataframe tbody tr th {\n",
       "        vertical-align: top;\n",
       "    }\n",
       "\n",
       "    .dataframe thead th {\n",
       "        text-align: right;\n",
       "    }\n",
       "</style>\n",
       "<table border=\"1\" class=\"dataframe\">\n",
       "  <thead>\n",
       "    <tr style=\"text-align: right;\">\n",
       "      <th></th>\n",
       "      <th>chr</th>\n",
       "      <th>pos0</th>\n",
       "      <th>pos</th>\n",
       "      <th>allele1</th>\n",
       "      <th>allele2</th>\n",
       "      <th>rsid</th>\n",
       "      <th>region</th>\n",
       "      <th>snp</th>\n",
       "      <th>distance</th>\n",
       "      <th>pval</th>\n",
       "      <th>...</th>\n",
       "      <th>Yoruba.mean.sign.jsd</th>\n",
       "      <th>Maasai.mean.logfc</th>\n",
       "      <th>Maasai.mean.sign.jsd</th>\n",
       "      <th>afr.mean.logfc</th>\n",
       "      <th>afr.mean.sign.jsd</th>\n",
       "      <th>Mende.mean.logfc</th>\n",
       "      <th>Mende.mean.sign.jsd</th>\n",
       "      <th>label</th>\n",
       "      <th>count</th>\n",
       "      <th>in_peaks</th>\n",
       "    </tr>\n",
       "  </thead>\n",
       "  <tbody>\n",
       "    <tr>\n",
       "      <th>0</th>\n",
       "      <td>chr1</td>\n",
       "      <td>866280</td>\n",
       "      <td>866281</td>\n",
       "      <td>C</td>\n",
       "      <td>T</td>\n",
       "      <td>1_866281_C_T</td>\n",
       "      <td>1:866099:866351</td>\n",
       "      <td>1_866281_C_T</td>\n",
       "      <td>181</td>\n",
       "      <td>0.974280</td>\n",
       "      <td>...</td>\n",
       "      <td>-0.010446</td>\n",
       "      <td>-0.012440</td>\n",
       "      <td>-0.008949</td>\n",
       "      <td>-0.019836</td>\n",
       "      <td>-0.009291</td>\n",
       "      <td>-0.030473</td>\n",
       "      <td>-0.007855</td>\n",
       "      <td>False</td>\n",
       "      <td>0</td>\n",
       "      <td>False</td>\n",
       "    </tr>\n",
       "    <tr>\n",
       "      <th>1</th>\n",
       "      <td>chr1</td>\n",
       "      <td>866299</td>\n",
       "      <td>866300</td>\n",
       "      <td>A</td>\n",
       "      <td>C</td>\n",
       "      <td>1_866300_A_C</td>\n",
       "      <td>1:866099:866351</td>\n",
       "      <td>1_866300_A_C</td>\n",
       "      <td>200</td>\n",
       "      <td>0.974280</td>\n",
       "      <td>...</td>\n",
       "      <td>-0.008802</td>\n",
       "      <td>0.003003</td>\n",
       "      <td>0.007669</td>\n",
       "      <td>-0.000810</td>\n",
       "      <td>-0.008199</td>\n",
       "      <td>0.006495</td>\n",
       "      <td>0.007980</td>\n",
       "      <td>False</td>\n",
       "      <td>0</td>\n",
       "      <td>False</td>\n",
       "    </tr>\n",
       "    <tr>\n",
       "      <th>2</th>\n",
       "      <td>chr1</td>\n",
       "      <td>870175</td>\n",
       "      <td>870176</td>\n",
       "      <td>T</td>\n",
       "      <td>A</td>\n",
       "      <td>1_870176_T_A</td>\n",
       "      <td>1:869800:870282</td>\n",
       "      <td>1_870176_T_A</td>\n",
       "      <td>375</td>\n",
       "      <td>0.071532</td>\n",
       "      <td>...</td>\n",
       "      <td>-0.011776</td>\n",
       "      <td>0.010434</td>\n",
       "      <td>0.010721</td>\n",
       "      <td>0.005320</td>\n",
       "      <td>0.012242</td>\n",
       "      <td>-0.005758</td>\n",
       "      <td>-0.012707</td>\n",
       "      <td>False</td>\n",
       "      <td>0</td>\n",
       "      <td>False</td>\n",
       "    </tr>\n",
       "    <tr>\n",
       "      <th>3</th>\n",
       "      <td>chr1</td>\n",
       "      <td>904946</td>\n",
       "      <td>904947</td>\n",
       "      <td>G</td>\n",
       "      <td>A</td>\n",
       "      <td>1_904947_G_A</td>\n",
       "      <td>1:904938:905544</td>\n",
       "      <td>1_904947_G_A</td>\n",
       "      <td>8</td>\n",
       "      <td>0.290840</td>\n",
       "      <td>...</td>\n",
       "      <td>-0.012153</td>\n",
       "      <td>-0.027632</td>\n",
       "      <td>-0.010494</td>\n",
       "      <td>-0.025393</td>\n",
       "      <td>-0.010448</td>\n",
       "      <td>-0.004891</td>\n",
       "      <td>-0.012478</td>\n",
       "      <td>False</td>\n",
       "      <td>0</td>\n",
       "      <td>False</td>\n",
       "    </tr>\n",
       "    <tr>\n",
       "      <th>4</th>\n",
       "      <td>chr1</td>\n",
       "      <td>905372</td>\n",
       "      <td>905373</td>\n",
       "      <td>C</td>\n",
       "      <td>T</td>\n",
       "      <td>1_905373_T_C</td>\n",
       "      <td>1:904938:905544</td>\n",
       "      <td>1_905373_T_C</td>\n",
       "      <td>434</td>\n",
       "      <td>0.188152</td>\n",
       "      <td>...</td>\n",
       "      <td>-0.016933</td>\n",
       "      <td>-0.084056</td>\n",
       "      <td>-0.013616</td>\n",
       "      <td>0.085157</td>\n",
       "      <td>0.015007</td>\n",
       "      <td>-0.070206</td>\n",
       "      <td>-0.015290</td>\n",
       "      <td>False</td>\n",
       "      <td>1</td>\n",
       "      <td>True</td>\n",
       "    </tr>\n",
       "  </tbody>\n",
       "</table>\n",
       "<p>5 rows × 48 columns</p>\n",
       "</div>"
      ],
      "text/plain": [
       "    chr    pos0     pos allele1 allele2          rsid           region  \\\n",
       "0  chr1  866280  866281       C       T  1_866281_C_T  1:866099:866351   \n",
       "1  chr1  866299  866300       A       C  1_866300_A_C  1:866099:866351   \n",
       "2  chr1  870175  870176       T       A  1_870176_T_A  1:869800:870282   \n",
       "3  chr1  904946  904947       G       A  1_904947_G_A  1:904938:905544   \n",
       "4  chr1  905372  905373       C       T  1_905373_T_C  1:904938:905544   \n",
       "\n",
       "            snp  distance      pval  ...  Yoruba.mean.sign.jsd  \\\n",
       "0  1_866281_C_T       181  0.974280  ...             -0.010446   \n",
       "1  1_866300_A_C       200  0.974280  ...             -0.008802   \n",
       "2  1_870176_T_A       375  0.071532  ...             -0.011776   \n",
       "3  1_904947_G_A         8  0.290840  ...             -0.012153   \n",
       "4  1_905373_T_C       434  0.188152  ...             -0.016933   \n",
       "\n",
       "   Maasai.mean.logfc  Maasai.mean.sign.jsd  afr.mean.logfc  afr.mean.sign.jsd  \\\n",
       "0          -0.012440             -0.008949       -0.019836          -0.009291   \n",
       "1           0.003003              0.007669       -0.000810          -0.008199   \n",
       "2           0.010434              0.010721        0.005320           0.012242   \n",
       "3          -0.027632             -0.010494       -0.025393          -0.010448   \n",
       "4          -0.084056             -0.013616        0.085157           0.015007   \n",
       "\n",
       "   Mende.mean.logfc  Mende.mean.sign.jsd  label  count  in_peaks  \n",
       "0         -0.030473            -0.007855  False      0     False  \n",
       "1          0.006495             0.007980  False      0     False  \n",
       "2         -0.005758            -0.012707  False      0     False  \n",
       "3         -0.004891            -0.012478  False      0     False  \n",
       "4         -0.070206            -0.015290  False      1      True  \n",
       "\n",
       "[5 rows x 48 columns]"
      ]
     },
     "execution_count": 43,
     "metadata": {},
     "output_type": "execute_result"
    }
   ],
   "source": [
    "sig_vars_in_bed.head()"
   ]
  },
  {
   "cell_type": "code",
   "execution_count": 44,
   "metadata": {},
   "outputs": [],
   "source": [
    "\n",
    "orig_source = pd.read_csv(\"/mnt/lab_data2/anusri/enformer/eu_caqtls/source2.tsv\", sep=\"\\t\", header=0)\n"
   ]
  },
  {
   "cell_type": "code",
   "execution_count": 45,
   "metadata": {},
   "outputs": [
    {
     "data": {
      "text/plain": [
       "(116499, 5)"
      ]
     },
     "execution_count": 45,
     "metadata": {},
     "output_type": "execute_result"
    }
   ],
   "source": [
    "orig_source.shape"
   ]
  },
  {
   "cell_type": "code",
   "execution_count": 46,
   "metadata": {},
   "outputs": [
    {
     "data": {
      "text/html": [
       "<div>\n",
       "<style scoped>\n",
       "    .dataframe tbody tr th:only-of-type {\n",
       "        vertical-align: middle;\n",
       "    }\n",
       "\n",
       "    .dataframe tbody tr th {\n",
       "        vertical-align: top;\n",
       "    }\n",
       "\n",
       "    .dataframe thead th {\n",
       "        text-align: right;\n",
       "    }\n",
       "</style>\n",
       "<table border=\"1\" class=\"dataframe\">\n",
       "  <thead>\n",
       "    <tr style=\"text-align: right;\">\n",
       "      <th></th>\n",
       "      <th>chr</th>\n",
       "      <th>pos</th>\n",
       "      <th>allele1</th>\n",
       "      <th>allele2</th>\n",
       "      <th>label</th>\n",
       "    </tr>\n",
       "  </thead>\n",
       "  <tbody>\n",
       "    <tr>\n",
       "      <th>0</th>\n",
       "      <td>chr1</td>\n",
       "      <td>870176</td>\n",
       "      <td>T</td>\n",
       "      <td>A</td>\n",
       "      <td>False</td>\n",
       "    </tr>\n",
       "    <tr>\n",
       "      <th>1</th>\n",
       "      <td>chr1</td>\n",
       "      <td>905373</td>\n",
       "      <td>C</td>\n",
       "      <td>T</td>\n",
       "      <td>False</td>\n",
       "    </tr>\n",
       "    <tr>\n",
       "      <th>2</th>\n",
       "      <td>chr1</td>\n",
       "      <td>906870</td>\n",
       "      <td>A</td>\n",
       "      <td>G</td>\n",
       "      <td>False</td>\n",
       "    </tr>\n",
       "    <tr>\n",
       "      <th>3</th>\n",
       "      <td>chr1</td>\n",
       "      <td>906982</td>\n",
       "      <td>C</td>\n",
       "      <td>T</td>\n",
       "      <td>True</td>\n",
       "    </tr>\n",
       "    <tr>\n",
       "      <th>4</th>\n",
       "      <td>chr1</td>\n",
       "      <td>921203</td>\n",
       "      <td>G</td>\n",
       "      <td>A</td>\n",
       "      <td>True</td>\n",
       "    </tr>\n",
       "  </tbody>\n",
       "</table>\n",
       "</div>"
      ],
      "text/plain": [
       "    chr     pos allele1 allele2  label\n",
       "0  chr1  870176       T       A  False\n",
       "1  chr1  905373       C       T  False\n",
       "2  chr1  906870       A       G  False\n",
       "3  chr1  906982       C       T   True\n",
       "4  chr1  921203       G       A   True"
      ]
     },
     "execution_count": 46,
     "metadata": {},
     "output_type": "execute_result"
    }
   ],
   "source": [
    "orig_source.head()"
   ]
  },
  {
   "cell_type": "code",
   "execution_count": 47,
   "metadata": {},
   "outputs": [],
   "source": [
    "orig_source[\"enformer_recomputed\"] = mean_change"
   ]
  },
  {
   "cell_type": "code",
   "execution_count": 48,
   "metadata": {},
   "outputs": [],
   "source": [
    "selected_beds_new = data.merge(orig_source, how='left', right_on=['chr', 'pos', 'allele1', 'allele2', \"label\"], left_on=['chr', 'pos', 'allele1', 'allele2', \"label\"])\n"
   ]
  },
  {
   "cell_type": "code",
   "execution_count": 49,
   "metadata": {},
   "outputs": [
    {
     "data": {
      "text/plain": [
       "(219382, 46)"
      ]
     },
     "execution_count": 49,
     "metadata": {},
     "output_type": "execute_result"
    }
   ],
   "source": [
    "data.shape"
   ]
  },
  {
   "cell_type": "code",
   "execution_count": 50,
   "metadata": {},
   "outputs": [
    {
     "data": {
      "text/plain": [
       "(219382, 47)"
      ]
     },
     "execution_count": 50,
     "metadata": {},
     "output_type": "execute_result"
    }
   ],
   "source": [
    "selected_beds_new.shape"
   ]
  },
  {
   "cell_type": "code",
   "execution_count": 51,
   "metadata": {},
   "outputs": [
    {
     "data": {
      "text/plain": [
       "(219382, 47)"
      ]
     },
     "execution_count": 51,
     "metadata": {},
     "output_type": "execute_result"
    }
   ],
   "source": [
    "selected_beds_new.shape"
   ]
  },
  {
   "cell_type": "code",
   "execution_count": 52,
   "metadata": {},
   "outputs": [
    {
     "data": {
      "text/plain": [
       "(219382, 46)"
      ]
     },
     "execution_count": 52,
     "metadata": {},
     "output_type": "execute_result"
    }
   ],
   "source": [
    "selected_beds.shape"
   ]
  },
  {
   "cell_type": "code",
   "execution_count": 53,
   "metadata": {},
   "outputs": [
    {
     "data": {
      "text/plain": [
       "116499"
      ]
     },
     "execution_count": 53,
     "metadata": {},
     "output_type": "execute_result"
    }
   ],
   "source": [
    "sum(~np.isnan(selected_beds_new[\"enformer_recomputed\"]))"
   ]
  },
  {
   "cell_type": "code",
   "execution_count": 54,
   "metadata": {},
   "outputs": [],
   "source": [
    "data = selected_beds_new"
   ]
  },
  {
   "cell_type": "code",
   "execution_count": 55,
   "metadata": {},
   "outputs": [
    {
     "data": {
      "text/plain": [
       "(219382, 47)"
      ]
     },
     "execution_count": 55,
     "metadata": {},
     "output_type": "execute_result"
    }
   ],
   "source": [
    "data.shape"
   ]
  },
  {
   "cell_type": "code",
   "execution_count": 56,
   "metadata": {},
   "outputs": [
    {
     "data": {
      "text/html": [
       "<div>\n",
       "<style scoped>\n",
       "    .dataframe tbody tr th:only-of-type {\n",
       "        vertical-align: middle;\n",
       "    }\n",
       "\n",
       "    .dataframe tbody tr th {\n",
       "        vertical-align: top;\n",
       "    }\n",
       "\n",
       "    .dataframe thead th {\n",
       "        text-align: right;\n",
       "    }\n",
       "</style>\n",
       "<table border=\"1\" class=\"dataframe\">\n",
       "  <thead>\n",
       "    <tr style=\"text-align: right;\">\n",
       "      <th></th>\n",
       "      <th>chr</th>\n",
       "      <th>pos</th>\n",
       "      <th>allele1</th>\n",
       "      <th>allele2</th>\n",
       "      <th>rsid</th>\n",
       "      <th>region</th>\n",
       "      <th>snp</th>\n",
       "      <th>distance</th>\n",
       "      <th>pval</th>\n",
       "      <th>beta</th>\n",
       "      <th>...</th>\n",
       "      <th>Yoruba.mean.sign.jsd</th>\n",
       "      <th>Maasai.mean.logfc</th>\n",
       "      <th>Maasai.mean.sign.jsd</th>\n",
       "      <th>afr.mean.logfc</th>\n",
       "      <th>afr.mean.sign.jsd</th>\n",
       "      <th>Mende.mean.logfc</th>\n",
       "      <th>Mende.mean.sign.jsd</th>\n",
       "      <th>label</th>\n",
       "      <th>pos0</th>\n",
       "      <th>enformer_recomputed</th>\n",
       "    </tr>\n",
       "  </thead>\n",
       "  <tbody>\n",
       "    <tr>\n",
       "      <th>0</th>\n",
       "      <td>chr1</td>\n",
       "      <td>866281</td>\n",
       "      <td>C</td>\n",
       "      <td>T</td>\n",
       "      <td>1_866281_C_T</td>\n",
       "      <td>1:866099:866351</td>\n",
       "      <td>1_866281_C_T</td>\n",
       "      <td>181</td>\n",
       "      <td>0.974280</td>\n",
       "      <td>0.006546</td>\n",
       "      <td>...</td>\n",
       "      <td>-0.010446</td>\n",
       "      <td>-0.012440</td>\n",
       "      <td>-0.008949</td>\n",
       "      <td>-0.019836</td>\n",
       "      <td>-0.009291</td>\n",
       "      <td>-0.030473</td>\n",
       "      <td>-0.007855</td>\n",
       "      <td>False</td>\n",
       "      <td>866280</td>\n",
       "      <td>NaN</td>\n",
       "    </tr>\n",
       "    <tr>\n",
       "      <th>1</th>\n",
       "      <td>chr1</td>\n",
       "      <td>866300</td>\n",
       "      <td>A</td>\n",
       "      <td>C</td>\n",
       "      <td>1_866300_A_C</td>\n",
       "      <td>1:866099:866351</td>\n",
       "      <td>1_866300_A_C</td>\n",
       "      <td>200</td>\n",
       "      <td>0.974280</td>\n",
       "      <td>0.006546</td>\n",
       "      <td>...</td>\n",
       "      <td>-0.008802</td>\n",
       "      <td>0.003003</td>\n",
       "      <td>0.007669</td>\n",
       "      <td>-0.000810</td>\n",
       "      <td>-0.008199</td>\n",
       "      <td>0.006495</td>\n",
       "      <td>0.007980</td>\n",
       "      <td>False</td>\n",
       "      <td>866299</td>\n",
       "      <td>NaN</td>\n",
       "    </tr>\n",
       "    <tr>\n",
       "      <th>2</th>\n",
       "      <td>chr1</td>\n",
       "      <td>870176</td>\n",
       "      <td>T</td>\n",
       "      <td>A</td>\n",
       "      <td>1_870176_T_A</td>\n",
       "      <td>1:869800:870282</td>\n",
       "      <td>1_870176_T_A</td>\n",
       "      <td>375</td>\n",
       "      <td>0.071532</td>\n",
       "      <td>-0.250142</td>\n",
       "      <td>...</td>\n",
       "      <td>-0.011776</td>\n",
       "      <td>0.010434</td>\n",
       "      <td>0.010721</td>\n",
       "      <td>0.005320</td>\n",
       "      <td>0.012242</td>\n",
       "      <td>-0.005758</td>\n",
       "      <td>-0.012707</td>\n",
       "      <td>False</td>\n",
       "      <td>870175</td>\n",
       "      <td>-0.002500</td>\n",
       "    </tr>\n",
       "    <tr>\n",
       "      <th>3</th>\n",
       "      <td>chr1</td>\n",
       "      <td>904947</td>\n",
       "      <td>G</td>\n",
       "      <td>A</td>\n",
       "      <td>1_904947_G_A</td>\n",
       "      <td>1:904938:905544</td>\n",
       "      <td>1_904947_G_A</td>\n",
       "      <td>8</td>\n",
       "      <td>0.290840</td>\n",
       "      <td>0.174397</td>\n",
       "      <td>...</td>\n",
       "      <td>-0.012153</td>\n",
       "      <td>-0.027632</td>\n",
       "      <td>-0.010494</td>\n",
       "      <td>-0.025393</td>\n",
       "      <td>-0.010448</td>\n",
       "      <td>-0.004891</td>\n",
       "      <td>-0.012478</td>\n",
       "      <td>False</td>\n",
       "      <td>904946</td>\n",
       "      <td>NaN</td>\n",
       "    </tr>\n",
       "    <tr>\n",
       "      <th>4</th>\n",
       "      <td>chr1</td>\n",
       "      <td>905373</td>\n",
       "      <td>C</td>\n",
       "      <td>T</td>\n",
       "      <td>1_905373_T_C</td>\n",
       "      <td>1:904938:905544</td>\n",
       "      <td>1_905373_T_C</td>\n",
       "      <td>434</td>\n",
       "      <td>0.188152</td>\n",
       "      <td>-0.130176</td>\n",
       "      <td>...</td>\n",
       "      <td>-0.016933</td>\n",
       "      <td>-0.084056</td>\n",
       "      <td>-0.013616</td>\n",
       "      <td>0.085157</td>\n",
       "      <td>0.015007</td>\n",
       "      <td>-0.070206</td>\n",
       "      <td>-0.015290</td>\n",
       "      <td>False</td>\n",
       "      <td>905372</td>\n",
       "      <td>-0.023977</td>\n",
       "    </tr>\n",
       "  </tbody>\n",
       "</table>\n",
       "<p>5 rows × 47 columns</p>\n",
       "</div>"
      ],
      "text/plain": [
       "    chr     pos allele1 allele2          rsid           region           snp  \\\n",
       "0  chr1  866281       C       T  1_866281_C_T  1:866099:866351  1_866281_C_T   \n",
       "1  chr1  866300       A       C  1_866300_A_C  1:866099:866351  1_866300_A_C   \n",
       "2  chr1  870176       T       A  1_870176_T_A  1:869800:870282  1_870176_T_A   \n",
       "3  chr1  904947       G       A  1_904947_G_A  1:904938:905544  1_904947_G_A   \n",
       "4  chr1  905373       C       T  1_905373_T_C  1:904938:905544  1_905373_T_C   \n",
       "\n",
       "   distance      pval      beta  ...  Yoruba.mean.sign.jsd  Maasai.mean.logfc  \\\n",
       "0       181  0.974280  0.006546  ...             -0.010446          -0.012440   \n",
       "1       200  0.974280  0.006546  ...             -0.008802           0.003003   \n",
       "2       375  0.071532 -0.250142  ...             -0.011776           0.010434   \n",
       "3         8  0.290840  0.174397  ...             -0.012153          -0.027632   \n",
       "4       434  0.188152 -0.130176  ...             -0.016933          -0.084056   \n",
       "\n",
       "   Maasai.mean.sign.jsd  afr.mean.logfc  afr.mean.sign.jsd  Mende.mean.logfc  \\\n",
       "0             -0.008949       -0.019836          -0.009291         -0.030473   \n",
       "1              0.007669       -0.000810          -0.008199          0.006495   \n",
       "2              0.010721        0.005320           0.012242         -0.005758   \n",
       "3             -0.010494       -0.025393          -0.010448         -0.004891   \n",
       "4             -0.013616        0.085157           0.015007         -0.070206   \n",
       "\n",
       "   Mende.mean.sign.jsd  label    pos0  enformer_recomputed  \n",
       "0            -0.007855  False  866280                  NaN  \n",
       "1             0.007980  False  866299                  NaN  \n",
       "2            -0.012707  False  870175            -0.002500  \n",
       "3            -0.012478  False  904946                  NaN  \n",
       "4            -0.015290  False  905372            -0.023977  \n",
       "\n",
       "[5 rows x 47 columns]"
      ]
     },
     "execution_count": 56,
     "metadata": {},
     "output_type": "execute_result"
    }
   ],
   "source": [
    "data.head()"
   ]
  },
  {
   "cell_type": "code",
   "execution_count": 57,
   "metadata": {},
   "outputs": [
    {
     "data": {
      "text/plain": [
       "(219382, 47)"
      ]
     },
     "execution_count": 57,
     "metadata": {},
     "output_type": "execute_result"
    }
   ],
   "source": [
    "data.shape"
   ]
  },
  {
   "cell_type": "code",
   "execution_count": 58,
   "metadata": {},
   "outputs": [
    {
     "data": {
      "text/plain": [
       "(219382, 48)"
      ]
     },
     "execution_count": 58,
     "metadata": {},
     "output_type": "execute_result"
    }
   ],
   "source": [
    "sig_vars_in_bed.shape"
   ]
  },
  {
   "cell_type": "code",
   "execution_count": 59,
   "metadata": {},
   "outputs": [],
   "source": [
    "data[\"in_peaks\"] = sig_vars_in_bed[\"in_peaks\"]"
   ]
  },
  {
   "cell_type": "code",
   "execution_count": 60,
   "metadata": {},
   "outputs": [
    {
     "data": {
      "text/plain": [
       "116499"
      ]
     },
     "execution_count": 60,
     "metadata": {},
     "output_type": "execute_result"
    }
   ],
   "source": [
    "sum(~np.isnan(data[\"enformer_recomputed\"]))"
   ]
  },
  {
   "cell_type": "code",
   "execution_count": 61,
   "metadata": {},
   "outputs": [
    {
     "data": {
      "text/plain": [
       "67362"
      ]
     },
     "execution_count": 61,
     "metadata": {},
     "output_type": "execute_result"
    }
   ],
   "source": [
    "sum((~np.isnan(data[\"enformer_recomputed\"]))&(data[\"in_peaks\"]))"
   ]
  },
  {
   "cell_type": "code",
   "execution_count": 62,
   "metadata": {},
   "outputs": [
    {
     "data": {
      "text/plain": [
       "22796"
      ]
     },
     "execution_count": 62,
     "metadata": {},
     "output_type": "execute_result"
    }
   ],
   "source": [
    "sum((np.isnan(data[\"enformer_recomputed\"]))&(data[\"in_peaks\"])) # number of values for which in_peaks is true but we dont have enformer computations"
   ]
  },
  {
   "cell_type": "code",
   "execution_count": 63,
   "metadata": {},
   "outputs": [
    {
     "data": {
      "text/plain": [
       "116499"
      ]
     },
     "execution_count": 63,
     "metadata": {},
     "output_type": "execute_result"
    }
   ],
   "source": [
    "sum(~np.isnan(data[\"enformer_recomputed\"]))"
   ]
  },
  {
   "cell_type": "code",
   "execution_count": 64,
   "metadata": {},
   "outputs": [],
   "source": [
    "#data[(np.isnan(data[\"enformer_recomputed\"]))&(data[\"in_peaks\"])][['chr', 'pos', 'allele1', 'allele2', \"label\"]].to_csv(\"/mnt/lab_data2/anusri/enformer/eu_caqtls/source2_new_filter.tsv\", sep=\"\\t\", header=True, index=False)\n",
    "\n"
   ]
  },
  {
   "cell_type": "code",
   "execution_count": 65,
   "metadata": {},
   "outputs": [],
   "source": [
    "#data[['chr', 'pos', 'allele1', 'allele2', \"label\"]].to_csv(\"/mnt/lab_data2/anusri/enformer/eu_caqtls/source2_new_filter_full.tsv\", sep=\"\\t\", header=True, index=False)\n",
    "\n",
    "# we stored these 22796 and recomputed enformer scores for them"
   ]
  },
  {
   "cell_type": "code",
   "execution_count": 66,
   "metadata": {},
   "outputs": [],
   "source": [
    "#enforer_recomputed_preds\n",
    "import pickle as pkl\n",
    "import os\n",
    "\n",
    "mean_change=[]\n",
    "rsids=[]\n",
    "\n",
    "enf_dir=\"/mnt/lab_data2/anusri/variant-scorer/src/output/afr_caqtls_window_new_filter/\"\n",
    "for diri in [\"\"]:\n",
    "    enformer_recompute = pkl.load(open(enf_dir+diri+\"/predictions_at_snp.pkl\",'rb'))\n",
    "    for i in range(enformer_recompute[\"ref_logcount_preds\"].shape[0]):\n",
    "        mean_change.append(np.log2( (enformer_recompute[\"ref_logcount_preds\"][i,440+4:456-4].sum()+1) / (enformer_recompute[\"alt_logcount_preds\"][i,440+4:456-4].sum()+1)))\n",
    "        rsids.append(enformer_recompute[\"rsids\"][i])\n",
    "mean_change = np.array(mean_change)\n"
   ]
  },
  {
   "cell_type": "code",
   "execution_count": 67,
   "metadata": {},
   "outputs": [
    {
     "data": {
      "text/plain": [
       "(22796,)"
      ]
     },
     "execution_count": 67,
     "metadata": {},
     "output_type": "execute_result"
    }
   ],
   "source": [
    "mean_change.shape"
   ]
  },
  {
   "cell_type": "code",
   "execution_count": 68,
   "metadata": {},
   "outputs": [],
   "source": [
    "orig_source2 = pd.read_csv(\"/mnt/lab_data2/anusri/enformer/eu_caqtls/source2_new_filter.tsv\", sep=\"\\t\", header=0)\n"
   ]
  },
  {
   "cell_type": "code",
   "execution_count": 69,
   "metadata": {},
   "outputs": [
    {
     "data": {
      "text/plain": [
       "(22796, 5)"
      ]
     },
     "execution_count": 69,
     "metadata": {},
     "output_type": "execute_result"
    }
   ],
   "source": [
    "orig_source2.shape"
   ]
  },
  {
   "cell_type": "code",
   "execution_count": 70,
   "metadata": {},
   "outputs": [],
   "source": [
    "orig_source2[\"enformer_recomputed\"] = mean_change"
   ]
  },
  {
   "cell_type": "code",
   "execution_count": 71,
   "metadata": {},
   "outputs": [],
   "source": [
    "selected_beds_new_2 = data.merge(orig_source2, how='left', right_on=['chr', 'pos', 'allele1', 'allele2', \"label\"], left_on=['chr', 'pos', 'allele1', 'allele2', \"label\"])\n"
   ]
  },
  {
   "cell_type": "code",
   "execution_count": 72,
   "metadata": {},
   "outputs": [],
   "source": [
    "data = selected_beds_new_2"
   ]
  },
  {
   "cell_type": "code",
   "execution_count": 73,
   "metadata": {},
   "outputs": [
    {
     "data": {
      "text/plain": [
       "(219382, 49)"
      ]
     },
     "execution_count": 73,
     "metadata": {},
     "output_type": "execute_result"
    }
   ],
   "source": [
    "data.shape"
   ]
  },
  {
   "cell_type": "code",
   "execution_count": 74,
   "metadata": {},
   "outputs": [],
   "source": [
    "# merge both the values\n",
    "data.loc[np.isnan(data[\"enformer_recomputed_x\"]),\"enformer_recomputed_x\"] = data[np.isnan(data[\"enformer_recomputed_x\"])][\"enformer_recomputed_y\"] \n"
   ]
  },
  {
   "cell_type": "code",
   "execution_count": 75,
   "metadata": {},
   "outputs": [
    {
     "data": {
      "text/plain": [
       "0"
      ]
     },
     "execution_count": 75,
     "metadata": {},
     "output_type": "execute_result"
    }
   ],
   "source": [
    "sum((np.isnan(data[\"enformer_recomputed_x\"]))&(data[\"in_peaks\"])) # make sure all in_peaks files have enformer predictions\n",
    "\n",
    "\n"
   ]
  },
  {
   "cell_type": "code",
   "execution_count": null,
   "metadata": {},
   "outputs": [],
   "source": []
  },
  {
   "cell_type": "code",
   "execution_count": 76,
   "metadata": {},
   "outputs": [
    {
     "data": {
      "text/plain": [
       "(219592, 7)"
      ]
     },
     "execution_count": 76,
     "metadata": {},
     "output_type": "execute_result"
    }
   ],
   "source": [
    "rsid_map = pd.read_csv(\"/mnt/lab_data2/anusri/enformer/eu_caqtls/convert_hg38_to_hg19/hg38_rsids2_new_filter_full.bed\", sep=\"\\t\", header=None)\n",
    "rsid_map[\"rsid\"] = rsid_map[0] + \"_\" + rsid_map[2].astype(str) + \"_\" + rsid_map[3] + \"_\" + rsid_map[4] \n",
    "rsid_map_dict = {}\n",
    "for i,r in rsid_map.iterrows():\n",
    "    rsid_map_dict[r[9]] = r[\"rsid\"]\n",
    "enformer_predictions = pd.read_csv(\"/mnt/lab_data2/anusri/enformer/eu_caqtls/enformer_predictions2_full.tsv\", sep=\"\\t\", header=0).drop_duplicates()\n",
    "enformer_predictions.shape"
   ]
  },
  {
   "cell_type": "code",
   "execution_count": 77,
   "metadata": {},
   "outputs": [
    {
     "data": {
      "text/html": [
       "<div>\n",
       "<style scoped>\n",
       "    .dataframe tbody tr th:only-of-type {\n",
       "        vertical-align: middle;\n",
       "    }\n",
       "\n",
       "    .dataframe tbody tr th {\n",
       "        vertical-align: top;\n",
       "    }\n",
       "\n",
       "    .dataframe thead th {\n",
       "        text-align: right;\n",
       "    }\n",
       "</style>\n",
       "<table border=\"1\" class=\"dataframe\">\n",
       "  <thead>\n",
       "    <tr style=\"text-align: right;\">\n",
       "      <th></th>\n",
       "      <th>chr</th>\n",
       "      <th>pos</th>\n",
       "      <th>ref</th>\n",
       "      <th>alt</th>\n",
       "      <th>rsid</th>\n",
       "      <th>DNASE_SAD</th>\n",
       "      <th>DNASE_SAR</th>\n",
       "    </tr>\n",
       "  </thead>\n",
       "  <tbody>\n",
       "    <tr>\n",
       "      <th>0</th>\n",
       "      <td>chr1</td>\n",
       "      <td>801661</td>\n",
       "      <td>C</td>\n",
       "      <td>T</td>\n",
       "      <td>rs12132974</td>\n",
       "      <td>0.000051</td>\n",
       "      <td>0.000068</td>\n",
       "    </tr>\n",
       "    <tr>\n",
       "      <th>1</th>\n",
       "      <td>chr1</td>\n",
       "      <td>801680</td>\n",
       "      <td>A</td>\n",
       "      <td>C</td>\n",
       "      <td>rs12134490</td>\n",
       "      <td>0.000039</td>\n",
       "      <td>0.000052</td>\n",
       "    </tr>\n",
       "    <tr>\n",
       "      <th>2</th>\n",
       "      <td>chr1</td>\n",
       "      <td>805556</td>\n",
       "      <td>T</td>\n",
       "      <td>A</td>\n",
       "      <td>rs72631880</td>\n",
       "      <td>-0.000139</td>\n",
       "      <td>-0.000184</td>\n",
       "    </tr>\n",
       "    <tr>\n",
       "      <th>3</th>\n",
       "      <td>chr1</td>\n",
       "      <td>840327</td>\n",
       "      <td>G</td>\n",
       "      <td>A</td>\n",
       "      <td>rs28625089</td>\n",
       "      <td>-0.000002</td>\n",
       "      <td>-0.000002</td>\n",
       "    </tr>\n",
       "    <tr>\n",
       "      <th>4</th>\n",
       "      <td>chr1</td>\n",
       "      <td>840753</td>\n",
       "      <td>T</td>\n",
       "      <td>C</td>\n",
       "      <td>rs4970382</td>\n",
       "      <td>-0.000071</td>\n",
       "      <td>-0.000095</td>\n",
       "    </tr>\n",
       "  </tbody>\n",
       "</table>\n",
       "</div>"
      ],
      "text/plain": [
       "    chr     pos ref alt        rsid  DNASE_SAD  DNASE_SAR\n",
       "0  chr1  801661   C   T  rs12132974   0.000051   0.000068\n",
       "1  chr1  801680   A   C  rs12134490   0.000039   0.000052\n",
       "2  chr1  805556   T   A  rs72631880  -0.000139  -0.000184\n",
       "3  chr1  840327   G   A  rs28625089  -0.000002  -0.000002\n",
       "4  chr1  840753   T   C   rs4970382  -0.000071  -0.000095"
      ]
     },
     "execution_count": 77,
     "metadata": {},
     "output_type": "execute_result"
    }
   ],
   "source": [
    "enformer_predictions.head()"
   ]
  },
  {
   "cell_type": "code",
   "execution_count": null,
   "metadata": {},
   "outputs": [],
   "source": []
  },
  {
   "cell_type": "code",
   "execution_count": 78,
   "metadata": {},
   "outputs": [],
   "source": [
    "enformer_predictions[\"rsid1\"] = enformer_predictions[\"rsid\"].map(rsid_map_dict)"
   ]
  },
  {
   "cell_type": "code",
   "execution_count": 79,
   "metadata": {},
   "outputs": [
    {
     "name": "stderr",
     "output_type": "stream",
     "text": [
      "/users/anusri/anaconda3/lib/python3.7/site-packages/pandas/core/indexing.py:1773: SettingWithCopyWarning: \n",
      "A value is trying to be set on a copy of a slice from a DataFrame.\n",
      "Try using .loc[row_indexer,col_indexer] = value instead\n",
      "\n",
      "See the caveats in the documentation: https://pandas.pydata.org/pandas-docs/stable/user_guide/indexing.html#returning-a-view-versus-a-copy\n",
      "  self._setitem_single_column(ilocs[0], value, pi)\n"
     ]
    },
    {
     "name": "stdout",
     "output_type": "stream",
     "text": [
      "(219131, 12)\n",
      "(219382, 62)\n"
     ]
    }
   ],
   "source": [
    "enformer_predictions[\"RA1\"] = enformer_predictions[\"ref\"]+\"_\"+enformer_predictions[\"alt\"]\n",
    "enformer_predictions[\"RA3\"] = enformer_predictions[\"alt\"]+\"_\"+enformer_predictions[\"ref\"]\n",
    "enformer_predictions[\"RA2\"] = enformer_predictions[\"rsid1\"].str.split(\"_\").str[2:4].apply('_'.join)\n",
    "enformer_predictions[\"id_hg19\"] = enformer_predictions[\"chr\"]+\"_\"+enformer_predictions[\"pos\"].astype(str)+\"_\"+enformer_predictions[\"ref\"]+\"_\"+enformer_predictions[\"alt\"]\n",
    "\n",
    "# Enformer predicitons are scores as alt/ref but the ground truth is with respect to allel2 by allele1 in rsid column\n",
    "# when alt is allele2 keep the sign, when alt is allele1 flip the allele\n",
    "enformer_predictions1 = enformer_predictions[enformer_predictions[\"RA1\"] == enformer_predictions[\"RA2\"]]\n",
    "enformer_predictions2 = enformer_predictions[enformer_predictions[\"RA3\"] == enformer_predictions[\"RA2\"]]\n",
    "enformer_predictions2.loc[:,\"DNASE_SAD\"] = -1*enformer_predictions2[\"DNASE_SAD\"] \n",
    "enformer_predictions2.loc[:,\"DNASE_SAR\"] = -1*enformer_predictions2[\"DNASE_SAR\"] \n",
    "\n",
    "enformer_predictions_new = pd.concat([enformer_predictions2, enformer_predictions1])\n",
    "\n",
    "print(enformer_predictions_new.shape)\n",
    "\n",
    "data[\"rsid_temp\"] = data[\"chr\"] + \"_\" + data[\"pos\"].astype(str) + \"_\" + data[\"allele1\"] + \"_\" + data[\"allele2\"]\n",
    "\n",
    "dataf = data.merge(enformer_predictions_new, left_on=\"rsid_temp\", right_on=\"rsid1\", how=\"left\").drop_duplicates()\n",
    "\n",
    "print(dataf.shape)\n",
    "\n"
   ]
  },
  {
   "cell_type": "code",
   "execution_count": 80,
   "metadata": {},
   "outputs": [
    {
     "data": {
      "text/plain": [
       "219131"
      ]
     },
     "execution_count": 80,
     "metadata": {},
     "output_type": "execute_result"
    }
   ],
   "source": [
    "sum(~np.isnan(dataf[\"DNASE_SAD\"]))"
   ]
  },
  {
   "cell_type": "code",
   "execution_count": 81,
   "metadata": {},
   "outputs": [],
   "source": [
    "#dataf.columns"
   ]
  },
  {
   "cell_type": "code",
   "execution_count": 82,
   "metadata": {},
   "outputs": [
    {
     "data": {
      "text/plain": [
       "90079"
      ]
     },
     "execution_count": 82,
     "metadata": {},
     "output_type": "execute_result"
    }
   ],
   "source": [
    "sum(~np.isnan(dataf[\"DNASE_SAD\"]) & dataf[\"in_peaks\"])"
   ]
  },
  {
   "cell_type": "code",
   "execution_count": 83,
   "metadata": {},
   "outputs": [
    {
     "data": {
      "text/plain": [
       "6826"
      ]
     },
     "execution_count": 83,
     "metadata": {},
     "output_type": "execute_result"
    }
   ],
   "source": [
    "sum(dataf[~np.isnan(dataf[\"DNASE_SAD\"]) & dataf[\"in_peaks\"]][\"label\"])"
   ]
  },
  {
   "cell_type": "code",
   "execution_count": null,
   "metadata": {},
   "outputs": [],
   "source": []
  },
  {
   "cell_type": "code",
   "execution_count": 84,
   "metadata": {},
   "outputs": [
    {
     "data": {
      "text/plain": [
       "219131"
      ]
     },
     "execution_count": 84,
     "metadata": {},
     "output_type": "execute_result"
    }
   ],
   "source": [
    "sum(~np.isnan(dataf[\"DNASE_SAR\"]))"
   ]
  },
  {
   "cell_type": "code",
   "execution_count": 85,
   "metadata": {},
   "outputs": [
    {
     "data": {
      "text/plain": [
       "219131"
      ]
     },
     "execution_count": 85,
     "metadata": {},
     "output_type": "execute_result"
    }
   ],
   "source": [
    "sum(~np.isnan(dataf[\"DNASE_SAR\"]))"
   ]
  },
  {
   "cell_type": "code",
   "execution_count": 86,
   "metadata": {},
   "outputs": [
    {
     "data": {
      "text/plain": [
       "11084"
      ]
     },
     "execution_count": 86,
     "metadata": {},
     "output_type": "execute_result"
    }
   ],
   "source": [
    "sum(dataf[~np.isnan(dataf[\"DNASE_SAR\"])][\"label\"])"
   ]
  },
  {
   "cell_type": "code",
   "execution_count": 87,
   "metadata": {},
   "outputs": [
    {
     "data": {
      "text/plain": [
       "11084"
      ]
     },
     "execution_count": 87,
     "metadata": {},
     "output_type": "execute_result"
    }
   ],
   "source": [
    "sum(dataf[~np.isnan(dataf[\"DNASE_SAR\"])][\"label\"])"
   ]
  },
  {
   "cell_type": "code",
   "execution_count": 88,
   "metadata": {},
   "outputs": [
    {
     "data": {
      "text/plain": [
       "198353"
      ]
     },
     "execution_count": 88,
     "metadata": {},
     "output_type": "execute_result"
    }
   ],
   "source": [
    "sum(dataf[~np.isnan(dataf[\"DNASE_SAR\"])][\"pval\"]>1e-3)"
   ]
  },
  {
   "cell_type": "code",
   "execution_count": 89,
   "metadata": {},
   "outputs": [
    {
     "data": {
      "text/plain": [
       "0.06"
      ]
     },
     "execution_count": 89,
     "metadata": {},
     "output_type": "execute_result"
    }
   ],
   "source": [
    "np.round(sum(dataf[~np.isnan(dataf[\"DNASE_SAR\"])][\"label\"])/sum(dataf[~np.isnan(dataf[\"DNASE_SAR\"])][\"pval\"]>1e-3),2)"
   ]
  },
  {
   "cell_type": "code",
   "execution_count": 90,
   "metadata": {},
   "outputs": [
    {
     "data": {
      "text/html": [
       "<div>\n",
       "<style scoped>\n",
       "    .dataframe tbody tr th:only-of-type {\n",
       "        vertical-align: middle;\n",
       "    }\n",
       "\n",
       "    .dataframe tbody tr th {\n",
       "        vertical-align: top;\n",
       "    }\n",
       "\n",
       "    .dataframe thead th {\n",
       "        text-align: right;\n",
       "    }\n",
       "</style>\n",
       "<table border=\"1\" class=\"dataframe\">\n",
       "  <thead>\n",
       "    <tr style=\"text-align: right;\">\n",
       "      <th></th>\n",
       "      <th>chr_x</th>\n",
       "      <th>pos_x</th>\n",
       "      <th>allele1</th>\n",
       "      <th>allele2</th>\n",
       "      <th>rsid_x</th>\n",
       "      <th>region</th>\n",
       "      <th>snp</th>\n",
       "      <th>distance</th>\n",
       "      <th>pval</th>\n",
       "      <th>beta</th>\n",
       "      <th>...</th>\n",
       "      <th>ref</th>\n",
       "      <th>alt</th>\n",
       "      <th>rsid_y</th>\n",
       "      <th>DNASE_SAD</th>\n",
       "      <th>DNASE_SAR</th>\n",
       "      <th>rsid1</th>\n",
       "      <th>RA1</th>\n",
       "      <th>RA3</th>\n",
       "      <th>RA2</th>\n",
       "      <th>id_hg19</th>\n",
       "    </tr>\n",
       "  </thead>\n",
       "  <tbody>\n",
       "    <tr>\n",
       "      <th>0</th>\n",
       "      <td>chr1</td>\n",
       "      <td>866281</td>\n",
       "      <td>C</td>\n",
       "      <td>T</td>\n",
       "      <td>1_866281_C_T</td>\n",
       "      <td>1:866099:866351</td>\n",
       "      <td>1_866281_C_T</td>\n",
       "      <td>181</td>\n",
       "      <td>0.974280</td>\n",
       "      <td>0.006546</td>\n",
       "      <td>...</td>\n",
       "      <td>C</td>\n",
       "      <td>T</td>\n",
       "      <td>rs12132974</td>\n",
       "      <td>0.000051</td>\n",
       "      <td>0.000068</td>\n",
       "      <td>chr1_866281_C_T</td>\n",
       "      <td>C_T</td>\n",
       "      <td>T_C</td>\n",
       "      <td>C_T</td>\n",
       "      <td>chr1_801661_C_T</td>\n",
       "    </tr>\n",
       "    <tr>\n",
       "      <th>1</th>\n",
       "      <td>chr1</td>\n",
       "      <td>866300</td>\n",
       "      <td>A</td>\n",
       "      <td>C</td>\n",
       "      <td>1_866300_A_C</td>\n",
       "      <td>1:866099:866351</td>\n",
       "      <td>1_866300_A_C</td>\n",
       "      <td>200</td>\n",
       "      <td>0.974280</td>\n",
       "      <td>0.006546</td>\n",
       "      <td>...</td>\n",
       "      <td>A</td>\n",
       "      <td>C</td>\n",
       "      <td>rs12134490</td>\n",
       "      <td>0.000039</td>\n",
       "      <td>0.000052</td>\n",
       "      <td>chr1_866300_A_C</td>\n",
       "      <td>A_C</td>\n",
       "      <td>C_A</td>\n",
       "      <td>A_C</td>\n",
       "      <td>chr1_801680_A_C</td>\n",
       "    </tr>\n",
       "    <tr>\n",
       "      <th>2</th>\n",
       "      <td>chr1</td>\n",
       "      <td>870176</td>\n",
       "      <td>T</td>\n",
       "      <td>A</td>\n",
       "      <td>1_870176_T_A</td>\n",
       "      <td>1:869800:870282</td>\n",
       "      <td>1_870176_T_A</td>\n",
       "      <td>375</td>\n",
       "      <td>0.071532</td>\n",
       "      <td>-0.250142</td>\n",
       "      <td>...</td>\n",
       "      <td>T</td>\n",
       "      <td>A</td>\n",
       "      <td>rs72631880</td>\n",
       "      <td>-0.000139</td>\n",
       "      <td>-0.000184</td>\n",
       "      <td>chr1_870176_T_A</td>\n",
       "      <td>T_A</td>\n",
       "      <td>A_T</td>\n",
       "      <td>T_A</td>\n",
       "      <td>chr1_805556_T_A</td>\n",
       "    </tr>\n",
       "    <tr>\n",
       "      <th>3</th>\n",
       "      <td>chr1</td>\n",
       "      <td>904947</td>\n",
       "      <td>G</td>\n",
       "      <td>A</td>\n",
       "      <td>1_904947_G_A</td>\n",
       "      <td>1:904938:905544</td>\n",
       "      <td>1_904947_G_A</td>\n",
       "      <td>8</td>\n",
       "      <td>0.290840</td>\n",
       "      <td>0.174397</td>\n",
       "      <td>...</td>\n",
       "      <td>G</td>\n",
       "      <td>A</td>\n",
       "      <td>rs28625089</td>\n",
       "      <td>-0.000002</td>\n",
       "      <td>-0.000002</td>\n",
       "      <td>chr1_904947_G_A</td>\n",
       "      <td>G_A</td>\n",
       "      <td>A_G</td>\n",
       "      <td>G_A</td>\n",
       "      <td>chr1_840327_G_A</td>\n",
       "    </tr>\n",
       "    <tr>\n",
       "      <th>4</th>\n",
       "      <td>chr1</td>\n",
       "      <td>905373</td>\n",
       "      <td>C</td>\n",
       "      <td>T</td>\n",
       "      <td>1_905373_T_C</td>\n",
       "      <td>1:904938:905544</td>\n",
       "      <td>1_905373_T_C</td>\n",
       "      <td>434</td>\n",
       "      <td>0.188152</td>\n",
       "      <td>-0.130176</td>\n",
       "      <td>...</td>\n",
       "      <td>T</td>\n",
       "      <td>C</td>\n",
       "      <td>rs4970382</td>\n",
       "      <td>0.000071</td>\n",
       "      <td>0.000095</td>\n",
       "      <td>chr1_905373_C_T</td>\n",
       "      <td>T_C</td>\n",
       "      <td>C_T</td>\n",
       "      <td>C_T</td>\n",
       "      <td>chr1_840753_T_C</td>\n",
       "    </tr>\n",
       "  </tbody>\n",
       "</table>\n",
       "<p>5 rows × 62 columns</p>\n",
       "</div>"
      ],
      "text/plain": [
       "  chr_x   pos_x allele1 allele2        rsid_x           region           snp  \\\n",
       "0  chr1  866281       C       T  1_866281_C_T  1:866099:866351  1_866281_C_T   \n",
       "1  chr1  866300       A       C  1_866300_A_C  1:866099:866351  1_866300_A_C   \n",
       "2  chr1  870176       T       A  1_870176_T_A  1:869800:870282  1_870176_T_A   \n",
       "3  chr1  904947       G       A  1_904947_G_A  1:904938:905544  1_904947_G_A   \n",
       "4  chr1  905373       C       T  1_905373_T_C  1:904938:905544  1_905373_T_C   \n",
       "\n",
       "   distance      pval      beta  ...  ref  alt      rsid_y  DNASE_SAD  \\\n",
       "0       181  0.974280  0.006546  ...    C    T  rs12132974   0.000051   \n",
       "1       200  0.974280  0.006546  ...    A    C  rs12134490   0.000039   \n",
       "2       375  0.071532 -0.250142  ...    T    A  rs72631880  -0.000139   \n",
       "3         8  0.290840  0.174397  ...    G    A  rs28625089  -0.000002   \n",
       "4       434  0.188152 -0.130176  ...    T    C   rs4970382   0.000071   \n",
       "\n",
       "   DNASE_SAR            rsid1  RA1  RA3  RA2          id_hg19  \n",
       "0   0.000068  chr1_866281_C_T  C_T  T_C  C_T  chr1_801661_C_T  \n",
       "1   0.000052  chr1_866300_A_C  A_C  C_A  A_C  chr1_801680_A_C  \n",
       "2  -0.000184  chr1_870176_T_A  T_A  A_T  T_A  chr1_805556_T_A  \n",
       "3  -0.000002  chr1_904947_G_A  G_A  A_G  G_A  chr1_840327_G_A  \n",
       "4   0.000095  chr1_905373_C_T  T_C  C_T  C_T  chr1_840753_T_C  \n",
       "\n",
       "[5 rows x 62 columns]"
      ]
     },
     "execution_count": 90,
     "metadata": {},
     "output_type": "execute_result"
    }
   ],
   "source": [
    "dataf.head()"
   ]
  },
  {
   "cell_type": "code",
   "execution_count": 92,
   "metadata": {},
   "outputs": [],
   "source": [
    "import pybedtools\n",
    "\n",
    "fft = selected_beds[\"region\"].str.split(\":\", expand=True)\n",
    "fft[0] = \"chr\"+fft[0]\n",
    "beds_var1 = pybedtools.BedTool.from_dataframe(selected_beds)\n",
    "peak_bed1 = pybedtools.BedTool.from_dataframe(fft)\n",
    "temps = beds_var1.intersect(peak_bed1, c=True)\n"
   ]
  },
  {
   "cell_type": "code",
   "execution_count": 93,
   "metadata": {},
   "outputs": [],
   "source": [
    "temps1 = temps.to_dataframe(names=selected_beds.columns.tolist()+[\"counts\"]).drop_duplicates()\n"
   ]
  },
  {
   "cell_type": "code",
   "execution_count": 94,
   "metadata": {},
   "outputs": [
    {
     "data": {
      "text/plain": [
       "(219382, 47)"
      ]
     },
     "execution_count": 94,
     "metadata": {},
     "output_type": "execute_result"
    }
   ],
   "source": [
    "temps1.shape"
   ]
  },
  {
   "cell_type": "code",
   "execution_count": 95,
   "metadata": {},
   "outputs": [
    {
     "data": {
      "text/plain": [
       "218803"
      ]
     },
     "execution_count": 95,
     "metadata": {},
     "output_type": "execute_result"
    }
   ],
   "source": [
    "sum(temps1[\"counts\"] > 0)"
   ]
  },
  {
   "cell_type": "code",
   "execution_count": 96,
   "metadata": {},
   "outputs": [
    {
     "data": {
      "text/plain": [
       "197804"
      ]
     },
     "execution_count": 96,
     "metadata": {},
     "output_type": "execute_result"
    }
   ],
   "source": [
    "sum((~np.isnan(dataf[\"DNASE_SAR\"])) & (dataf[\"pval\"]>1e-3) &  (temps1[\"counts\"] > 0))"
   ]
  },
  {
   "cell_type": "code",
   "execution_count": 97,
   "metadata": {},
   "outputs": [],
   "source": [
    "dataf[\"IsUsed\"] = False\n",
    "# dataf.loc[(~np.isnan(dataf[\"DNASE_SAR\"])) & (dataf[\"label\"]==1) & (temps1[\"counts\"] > 0), \"IsUsed\"] = True\n",
    "# dataf.loc[(~np.isnan(dataf[\"DNASE_SAR\"])) & (dataf[\"pval\"]>1e-3) & (temps1[\"counts\"] > 0), \"IsUsed\"] = True\n",
    "# dataf.loc[(~np.isnan(dataf[\"DNASE_SAR\"])) & (dataf[\"label\"]==1) & dataf[\"in_peaks\"] &  (temps1[\"counts\"] > 0), \"IsUsed\"] = True\n",
    "# dataf.loc[(~np.isnan(dataf[\"DNASE_SAR\"])) & (dataf[\"pval\"]>1e-3) & dataf[\"in_peaks\"] & (temps1[\"counts\"] > 0), \"IsUsed\"] = True\n",
    "dataf.loc[(~np.isnan(dataf[\"DNASE_SAR\"])) & (dataf[\"label\"]==1) & dataf[\"in_peaks\"] &  (temps1[\"counts\"] > 0), \"IsUsed\"] = True\n",
    "dataf.loc[(~np.isnan(dataf[\"DNASE_SAR\"])) & (dataf[\"pval\"]>1e-2) & dataf[\"in_peaks\"] & (temps1[\"counts\"] > 0), \"IsUsed\"] = True\n"
   ]
  },
  {
   "cell_type": "code",
   "execution_count": 98,
   "metadata": {},
   "outputs": [
    {
     "data": {
      "text/plain": [
       "Index(['chr_x', 'pos_x', 'allele1', 'allele2', 'rsid_x', 'region', 'snp',\n",
       "       'distance', 'pval', 'beta', 'se', 'abs_beta', 'Gambian.mean.logfc',\n",
       "       'Gambian.mean.sign.jsd', 'eur.mean.logfc', 'eur.mean.sign.jsd',\n",
       "       'Luhya.mean.logfc', 'Luhya.mean.sign.jsd', 'Esan.mean.logfc',\n",
       "       'Esan.mean.sign.jsd', 'GM12878.ENCSR637XSC.mean.logfc',\n",
       "       'GM12878.ENCSR637XSC.mean.sign.jsd',\n",
       "       'GM12878.ENCSR637XSC.mean.abs_logfc_x_jsd_x_max_percentile',\n",
       "       'GM12878.ENCSR637XSC.mean.abs_logfc_x_jsd_x_max_percentile.pval',\n",
       "       'GM12878.ENCSR000EMT.mean.logfc', 'GM12878.ENCSR000EMT.mean.sign.jsd',\n",
       "       'GM12878.ENCSR000EMT.mean.abs_logfc_x_jsd_x_max_percentile',\n",
       "       'GM12878.ENCSR000EMT.mean.abs_logfc_x_jsd_x_max_percentile.pval',\n",
       "       'GM12878.ENCSR637XSC.sub.50M.mean.logfc',\n",
       "       'GM12878.ENCSR637XSC.sub.50M.mean.sign.jsd',\n",
       "       'GM12878.ENCSR637XSC.sub.50M.mean.abs_logfc_x_jsd_x_max_percentile',\n",
       "       'GM12878.ENCSR637XSC.sub.50M.mean.abs_logfc_x_jsd_x_max_percentile.pval',\n",
       "       'GM12878.ENCSR095QNB.mean.logfc', 'GM12878.ENCSR095QNB.mean.sign.jsd',\n",
       "       'GM12878.ENCSR095QNB.mean.abs_logfc_x_jsd_x_max_percentile',\n",
       "       'GM12878.ENCSR095QNB.mean.abs_logfc_x_jsd_x_max_percentile.pval',\n",
       "       'Yoruba.mean.logfc', 'Yoruba.mean.sign.jsd', 'Maasai.mean.logfc',\n",
       "       'Maasai.mean.sign.jsd', 'afr.mean.logfc', 'afr.mean.sign.jsd',\n",
       "       'Mende.mean.logfc', 'Mende.mean.sign.jsd', 'label', 'pos0',\n",
       "       'enformer_recomputed_x', 'in_peaks', 'enformer_recomputed_y',\n",
       "       'rsid_temp', 'chr_y', 'pos_y', 'ref', 'alt', 'rsid_y', 'DNASE_SAD',\n",
       "       'DNASE_SAR', 'rsid1', 'RA1', 'RA3', 'RA2', 'id_hg19', 'IsUsed'],\n",
       "      dtype='object')"
      ]
     },
     "execution_count": 98,
     "metadata": {},
     "output_type": "execute_result"
    }
   ],
   "source": [
    "dataf.columns"
   ]
  },
  {
   "cell_type": "code",
   "execution_count": 99,
   "metadata": {},
   "outputs": [
    {
     "data": {
      "text/plain": [
       "89909"
      ]
     },
     "execution_count": 99,
     "metadata": {},
     "output_type": "execute_result"
    }
   ],
   "source": [
    "sum((temps1[\"counts\"] > 0) & (~np.isnan(dataf[\"DNASE_SAR\"])) & dataf[\"in_peaks\"])"
   ]
  },
  {
   "cell_type": "code",
   "execution_count": 100,
   "metadata": {},
   "outputs": [
    {
     "data": {
      "text/plain": [
       "6821"
      ]
     },
     "execution_count": 100,
     "metadata": {},
     "output_type": "execute_result"
    }
   ],
   "source": [
    "sum(dataf[(temps1[\"counts\"] > 0) & (~np.isnan(dataf[\"DNASE_SAR\"])) & dataf[\"in_peaks\"]][\"label\"])"
   ]
  },
  {
   "cell_type": "code",
   "execution_count": 101,
   "metadata": {},
   "outputs": [
    {
     "data": {
      "text/plain": [
       "77999"
      ]
     },
     "execution_count": 101,
     "metadata": {},
     "output_type": "execute_result"
    }
   ],
   "source": [
    "sum((temps1[\"counts\"] > 0) & (~np.isnan(dataf[\"DNASE_SAR\"])) & dataf[\"in_peaks\"] & (dataf[\"pval\"]>1e-3))"
   ]
  },
  {
   "cell_type": "code",
   "execution_count": 102,
   "metadata": {},
   "outputs": [
    {
     "data": {
      "text/plain": [
       "0.08041735439754776"
      ]
     },
     "execution_count": 102,
     "metadata": {},
     "output_type": "execute_result"
    }
   ],
   "source": [
    "6821/(77999+6821)"
   ]
  },
  {
   "cell_type": "code",
   "execution_count": 103,
   "metadata": {},
   "outputs": [
    {
     "data": {
      "text/plain": [
       "84820"
      ]
     },
     "execution_count": 103,
     "metadata": {},
     "output_type": "execute_result"
    }
   ],
   "source": [
    "77999+6821"
   ]
  },
  {
   "cell_type": "code",
   "execution_count": 104,
   "metadata": {},
   "outputs": [
    {
     "data": {
      "text/plain": [
       "79026"
      ]
     },
     "execution_count": 104,
     "metadata": {},
     "output_type": "execute_result"
    }
   ],
   "source": [
    "sum(dataf[\"IsUsed\"])"
   ]
  },
  {
   "cell_type": "code",
   "execution_count": 105,
   "metadata": {},
   "outputs": [
    {
     "data": {
      "text/plain": [
       "90158"
      ]
     },
     "execution_count": 105,
     "metadata": {},
     "output_type": "execute_result"
    }
   ],
   "source": [
    "sum(dataf[\"in_peaks\"])"
   ]
  },
  {
   "cell_type": "code",
   "execution_count": 106,
   "metadata": {},
   "outputs": [
    {
     "data": {
      "text/plain": [
       "(219382, 63)"
      ]
     },
     "execution_count": 106,
     "metadata": {},
     "output_type": "execute_result"
    }
   ],
   "source": [
    "dataf.shape"
   ]
  },
  {
   "cell_type": "code",
   "execution_count": 107,
   "metadata": {},
   "outputs": [
    {
     "data": {
      "text/plain": [
       "79026"
      ]
     },
     "execution_count": 107,
     "metadata": {},
     "output_type": "execute_result"
    }
   ],
   "source": [
    "sum(dataf[\"IsUsed\"]&dataf[\"in_peaks\"])"
   ]
  },
  {
   "cell_type": "code",
   "execution_count": 108,
   "metadata": {},
   "outputs": [
    {
     "data": {
      "text/plain": [
       "6827"
      ]
     },
     "execution_count": 108,
     "metadata": {},
     "output_type": "execute_result"
    }
   ],
   "source": [
    "sum(dataf[dataf[\"in_peaks\"]][\"label\"]==1)"
   ]
  },
  {
   "cell_type": "code",
   "execution_count": 109,
   "metadata": {},
   "outputs": [
    {
     "data": {
      "text/plain": [
       "83331"
      ]
     },
     "execution_count": 109,
     "metadata": {},
     "output_type": "execute_result"
    }
   ],
   "source": [
    "sum(dataf[dataf[\"in_peaks\"]][\"label\"]==0)"
   ]
  },
  {
   "cell_type": "code",
   "execution_count": null,
   "metadata": {},
   "outputs": [],
   "source": []
  },
  {
   "cell_type": "code",
   "execution_count": 110,
   "metadata": {},
   "outputs": [
    {
     "data": {
      "text/plain": [
       "0.09"
      ]
     },
     "execution_count": 110,
     "metadata": {},
     "output_type": "execute_result"
    }
   ],
   "source": [
    "np.round(sum(dataf[dataf[\"IsUsed\"]][\"label\"]==1)/sum(dataf[\"IsUsed\"]),2)"
   ]
  },
  {
   "cell_type": "code",
   "execution_count": 111,
   "metadata": {},
   "outputs": [
    {
     "data": {
      "text/plain": [
       "0.08631336522157265"
      ]
     },
     "execution_count": 111,
     "metadata": {},
     "output_type": "execute_result"
    }
   ],
   "source": [
    "sum(dataf[dataf[\"IsUsed\"]][\"label\"]==1)/sum(dataf[\"IsUsed\"])"
   ]
  },
  {
   "cell_type": "code",
   "execution_count": 112,
   "metadata": {},
   "outputs": [],
   "source": [
    "#sum(dataf[\"IsUsed\"]) # 109707"
   ]
  },
  {
   "cell_type": "code",
   "execution_count": 113,
   "metadata": {},
   "outputs": [],
   "source": [
    "#sum(dataf[dataf[\"IsUsed\"]][\"label\"]==1) # 8366"
   ]
  },
  {
   "cell_type": "code",
   "execution_count": 114,
   "metadata": {},
   "outputs": [],
   "source": [
    "#sum(dataf[dataf[\"IsUsed\"]][\"label\"]==0) # 8366"
   ]
  },
  {
   "cell_type": "code",
   "execution_count": 115,
   "metadata": {},
   "outputs": [],
   "source": [
    "# the ground truths are flipped when rsid does not match allele2 and allele\n",
    "index=(dataf[\"allele1\"] != (dataf[\"rsid_x\"].str.split('_').str[2]))\n",
    "index=np.array(index.values)\n",
    "\n",
    "dataf.loc[index,\"beta\"] = -1 * dataf.loc[index,\"beta\"]\n",
    "\n",
    "dataf.loc[:,\"enformer_recomputed_x\"] = -1 * dataf.loc[:,\"enformer_recomputed_x\"]\n",
    "# dataf.loc[index,\"enformer_recomputed_x\"] = -1 * dataf.loc[index,\"enformer_recomputed_x\"]\n",
    "# for ans in anscs:\n",
    "#     if ans==\"eur\":\n",
    "#         continue\n",
    "#     if ans==\"afr\":\n",
    "#         continue       \n",
    "#     print(ans)\n",
    "#     if ans == \"GM12878\":\n",
    "#         for title in [\".ENCSR637XSC\", \".ENCSR000EMT\", \".ENCSR637XSC.sub.50M\", \".ENCSR095QNB\" ]:\n",
    "#             print(title)\n",
    "#             dataf.loc[index,ans+title+\".mean.sign.jsd\"] = -1 * dataf.loc[index,ans+title+\".mean.sign.jsd\"]\n",
    "#             dataf.loc[index,ans+title+\".mean.logfc\"] = -1 * dataf.loc[index,ans+title+\".mean.logfc\"]\n",
    "            \n",
    "#     else:\n",
    "#         title=\"\"\n",
    "#         dataf.loc[index,ans+title+\".mean.sign.jsd\"] = -1 * dataf.loc[index,ans+title+\".mean.sign.jsd\"]\n",
    "#         dataf.loc[index,ans+title+\".mean.logfc\"] = -1 * dataf.loc[index,ans+title+\".mean.logfc\"]"
   ]
  },
  {
   "cell_type": "code",
   "execution_count": 116,
   "metadata": {},
   "outputs": [],
   "source": [
    "# dataf.loc[index,\"DNASE_SAD\"] = -1 * dataf.loc[index,\"DNASE_SAD\"]\n",
    "# dataf.loc[index,\"DNASE_SAR\"] = -1 * dataf.loc[index,\"DNASE_SAR\"]"
   ]
  },
  {
   "cell_type": "code",
   "execution_count": 117,
   "metadata": {},
   "outputs": [
    {
     "data": {
      "text/plain": [
       "Index(['chr_x', 'pos_x', 'allele1', 'allele2', 'rsid_x', 'region', 'snp',\n",
       "       'distance', 'pval', 'beta', 'se', 'abs_beta', 'Gambian.mean.logfc',\n",
       "       'Gambian.mean.sign.jsd', 'eur.mean.logfc', 'eur.mean.sign.jsd',\n",
       "       'Luhya.mean.logfc', 'Luhya.mean.sign.jsd', 'Esan.mean.logfc',\n",
       "       'Esan.mean.sign.jsd', 'GM12878.ENCSR637XSC.mean.logfc',\n",
       "       'GM12878.ENCSR637XSC.mean.sign.jsd',\n",
       "       'GM12878.ENCSR637XSC.mean.abs_logfc_x_jsd_x_max_percentile',\n",
       "       'GM12878.ENCSR637XSC.mean.abs_logfc_x_jsd_x_max_percentile.pval',\n",
       "       'GM12878.ENCSR000EMT.mean.logfc', 'GM12878.ENCSR000EMT.mean.sign.jsd',\n",
       "       'GM12878.ENCSR000EMT.mean.abs_logfc_x_jsd_x_max_percentile',\n",
       "       'GM12878.ENCSR000EMT.mean.abs_logfc_x_jsd_x_max_percentile.pval',\n",
       "       'GM12878.ENCSR637XSC.sub.50M.mean.logfc',\n",
       "       'GM12878.ENCSR637XSC.sub.50M.mean.sign.jsd',\n",
       "       'GM12878.ENCSR637XSC.sub.50M.mean.abs_logfc_x_jsd_x_max_percentile',\n",
       "       'GM12878.ENCSR637XSC.sub.50M.mean.abs_logfc_x_jsd_x_max_percentile.pval',\n",
       "       'GM12878.ENCSR095QNB.mean.logfc', 'GM12878.ENCSR095QNB.mean.sign.jsd',\n",
       "       'GM12878.ENCSR095QNB.mean.abs_logfc_x_jsd_x_max_percentile',\n",
       "       'GM12878.ENCSR095QNB.mean.abs_logfc_x_jsd_x_max_percentile.pval',\n",
       "       'Yoruba.mean.logfc', 'Yoruba.mean.sign.jsd', 'Maasai.mean.logfc',\n",
       "       'Maasai.mean.sign.jsd', 'afr.mean.logfc', 'afr.mean.sign.jsd',\n",
       "       'Mende.mean.logfc', 'Mende.mean.sign.jsd', 'label', 'pos0',\n",
       "       'enformer_recomputed_x', 'in_peaks', 'enformer_recomputed_y',\n",
       "       'rsid_temp', 'chr_y', 'pos_y', 'ref', 'alt', 'rsid_y', 'DNASE_SAD',\n",
       "       'DNASE_SAR', 'rsid1', 'RA1', 'RA3', 'RA2', 'id_hg19', 'IsUsed'],\n",
       "      dtype='object')"
      ]
     },
     "execution_count": 117,
     "metadata": {},
     "output_type": "execute_result"
    }
   ],
   "source": [
    "dataf.columns"
   ]
  },
  {
   "cell_type": "code",
   "execution_count": 118,
   "metadata": {},
   "outputs": [
    {
     "data": {
      "text/plain": [
       "0          rs12132974\n",
       "1          rs12134490\n",
       "2          rs72631880\n",
       "3          rs28625089\n",
       "4           rs4970382\n",
       "             ...     \n",
       "219377      rs6151410\n",
       "219378      rs6151406\n",
       "219379       rs131715\n",
       "219380       rs762668\n",
       "219381    rs115055839\n",
       "Name: rsid_y, Length: 219382, dtype: object"
      ]
     },
     "execution_count": 118,
     "metadata": {},
     "output_type": "execute_result"
    }
   ],
   "source": [
    "dataf[\"rsid_y\"]"
   ]
  },
  {
   "cell_type": "code",
   "execution_count": 119,
   "metadata": {},
   "outputs": [
    {
     "data": {
      "text/plain": [
       "Index(['chr_x', 'pos_x', 'allele1', 'allele2', 'rsid_x', 'region', 'snp',\n",
       "       'distance', 'pval', 'beta', 'se', 'abs_beta', 'Gambian.mean.logfc',\n",
       "       'Gambian.mean.sign.jsd', 'eur.mean.logfc', 'eur.mean.sign.jsd',\n",
       "       'Luhya.mean.logfc', 'Luhya.mean.sign.jsd', 'Esan.mean.logfc',\n",
       "       'Esan.mean.sign.jsd', 'GM12878.ENCSR637XSC.mean.logfc',\n",
       "       'GM12878.ENCSR637XSC.mean.sign.jsd',\n",
       "       'GM12878.ENCSR637XSC.mean.abs_logfc_x_jsd_x_max_percentile',\n",
       "       'GM12878.ENCSR637XSC.mean.abs_logfc_x_jsd_x_max_percentile.pval',\n",
       "       'GM12878.ENCSR000EMT.mean.logfc', 'GM12878.ENCSR000EMT.mean.sign.jsd',\n",
       "       'GM12878.ENCSR000EMT.mean.abs_logfc_x_jsd_x_max_percentile',\n",
       "       'GM12878.ENCSR000EMT.mean.abs_logfc_x_jsd_x_max_percentile.pval',\n",
       "       'GM12878.ENCSR637XSC.sub.50M.mean.logfc',\n",
       "       'GM12878.ENCSR637XSC.sub.50M.mean.sign.jsd',\n",
       "       'GM12878.ENCSR637XSC.sub.50M.mean.abs_logfc_x_jsd_x_max_percentile',\n",
       "       'GM12878.ENCSR637XSC.sub.50M.mean.abs_logfc_x_jsd_x_max_percentile.pval',\n",
       "       'GM12878.ENCSR095QNB.mean.logfc', 'GM12878.ENCSR095QNB.mean.sign.jsd',\n",
       "       'GM12878.ENCSR095QNB.mean.abs_logfc_x_jsd_x_max_percentile',\n",
       "       'GM12878.ENCSR095QNB.mean.abs_logfc_x_jsd_x_max_percentile.pval',\n",
       "       'Yoruba.mean.logfc', 'Yoruba.mean.sign.jsd', 'Maasai.mean.logfc',\n",
       "       'Maasai.mean.sign.jsd', 'afr.mean.logfc', 'afr.mean.sign.jsd',\n",
       "       'Mende.mean.logfc', 'Mende.mean.sign.jsd', 'label', 'pos0',\n",
       "       'enformer_recomputed_x', 'in_peaks', 'enformer_recomputed_y',\n",
       "       'rsid_temp', 'chr_y', 'pos_y', 'ref', 'alt', 'rsid_y', 'DNASE_SAD',\n",
       "       'DNASE_SAR', 'rsid1', 'RA1', 'RA3', 'RA2', 'id_hg19', 'IsUsed'],\n",
       "      dtype='object')"
      ]
     },
     "execution_count": 119,
     "metadata": {},
     "output_type": "execute_result"
    }
   ],
   "source": [
    "dataf.columns"
   ]
  },
  {
   "cell_type": "code",
   "execution_count": 120,
   "metadata": {},
   "outputs": [],
   "source": [
    "datafinal = dataf[['chr_x', 'pos_x', 'allele1', 'allele2', 'rsid_x', 'label',  'IsUsed', 'pval', 'beta','rsid_y', 'region', 'snp',\n",
    "       'distance', 'se', 'abs_beta', 'DNASE_SAD', 'DNASE_SAR', 'enformer_recomputed_x',\n",
    "       'Gambian.mean.logfc', 'Gambian.mean.sign.jsd',\n",
    "        'Esan.mean.logfc', 'Esan.mean.sign.jsd', \n",
    "        'Mende.mean.logfc', 'Mende.mean.sign.jsd',\n",
    "       'Yoruba.mean.logfc', 'Yoruba.mean.sign.jsd',\n",
    "        'Maasai.mean.logfc', 'Maasai.mean.sign.jsd', \n",
    "        'Luhya.mean.logfc', 'Luhya.mean.sign.jsd', \n",
    "       'GM12878.ENCSR637XSC.mean.logfc', 'GM12878.ENCSR637XSC.mean.sign.jsd',\n",
    "       'GM12878.ENCSR637XSC.mean.abs_logfc_x_jsd_x_max_percentile',\n",
    "       'GM12878.ENCSR000EMT.mean.logfc', 'GM12878.ENCSR000EMT.mean.sign.jsd',\n",
    "       'GM12878.ENCSR000EMT.mean.abs_logfc_x_jsd_x_max_percentile',\n",
    "       'GM12878.ENCSR637XSC.sub.50M.mean.logfc',\n",
    "       'GM12878.ENCSR637XSC.sub.50M.mean.sign.jsd',\n",
    "       'GM12878.ENCSR637XSC.sub.50M.mean.abs_logfc_x_jsd_x_max_percentile',\n",
    "]]"
   ]
  },
  {
   "cell_type": "code",
   "execution_count": 121,
   "metadata": {},
   "outputs": [
    {
     "data": {
      "text/html": [
       "<div>\n",
       "<style scoped>\n",
       "    .dataframe tbody tr th:only-of-type {\n",
       "        vertical-align: middle;\n",
       "    }\n",
       "\n",
       "    .dataframe tbody tr th {\n",
       "        vertical-align: top;\n",
       "    }\n",
       "\n",
       "    .dataframe thead th {\n",
       "        text-align: right;\n",
       "    }\n",
       "</style>\n",
       "<table border=\"1\" class=\"dataframe\">\n",
       "  <thead>\n",
       "    <tr style=\"text-align: right;\">\n",
       "      <th></th>\n",
       "      <th>chr_x</th>\n",
       "      <th>pos_x</th>\n",
       "      <th>allele1</th>\n",
       "      <th>allele2</th>\n",
       "      <th>rsid_x</th>\n",
       "      <th>label</th>\n",
       "      <th>IsUsed</th>\n",
       "      <th>pval</th>\n",
       "      <th>beta</th>\n",
       "      <th>rsid_y</th>\n",
       "      <th>region</th>\n",
       "      <th>snp</th>\n",
       "      <th>distance</th>\n",
       "      <th>se</th>\n",
       "      <th>abs_beta</th>\n",
       "    </tr>\n",
       "  </thead>\n",
       "  <tbody>\n",
       "    <tr>\n",
       "      <th>0</th>\n",
       "      <td>chr1</td>\n",
       "      <td>866281</td>\n",
       "      <td>C</td>\n",
       "      <td>T</td>\n",
       "      <td>1_866281_C_T</td>\n",
       "      <td>False</td>\n",
       "      <td>False</td>\n",
       "      <td>0.974280</td>\n",
       "      <td>0.006546</td>\n",
       "      <td>rs12132974</td>\n",
       "      <td>1:866099:866351</td>\n",
       "      <td>1_866281_C_T</td>\n",
       "      <td>181</td>\n",
       "      <td>0.202449</td>\n",
       "      <td>0.006546</td>\n",
       "    </tr>\n",
       "    <tr>\n",
       "      <th>1</th>\n",
       "      <td>chr1</td>\n",
       "      <td>866300</td>\n",
       "      <td>A</td>\n",
       "      <td>C</td>\n",
       "      <td>1_866300_A_C</td>\n",
       "      <td>False</td>\n",
       "      <td>False</td>\n",
       "      <td>0.974280</td>\n",
       "      <td>0.006546</td>\n",
       "      <td>rs12134490</td>\n",
       "      <td>1:866099:866351</td>\n",
       "      <td>1_866300_A_C</td>\n",
       "      <td>200</td>\n",
       "      <td>0.202449</td>\n",
       "      <td>0.006546</td>\n",
       "    </tr>\n",
       "    <tr>\n",
       "      <th>2</th>\n",
       "      <td>chr1</td>\n",
       "      <td>870176</td>\n",
       "      <td>T</td>\n",
       "      <td>A</td>\n",
       "      <td>1_870176_T_A</td>\n",
       "      <td>False</td>\n",
       "      <td>False</td>\n",
       "      <td>0.071532</td>\n",
       "      <td>-0.250142</td>\n",
       "      <td>rs72631880</td>\n",
       "      <td>1:869800:870282</td>\n",
       "      <td>1_870176_T_A</td>\n",
       "      <td>375</td>\n",
       "      <td>0.137133</td>\n",
       "      <td>0.250142</td>\n",
       "    </tr>\n",
       "    <tr>\n",
       "      <th>3</th>\n",
       "      <td>chr1</td>\n",
       "      <td>904947</td>\n",
       "      <td>G</td>\n",
       "      <td>A</td>\n",
       "      <td>1_904947_G_A</td>\n",
       "      <td>False</td>\n",
       "      <td>False</td>\n",
       "      <td>0.290840</td>\n",
       "      <td>0.174397</td>\n",
       "      <td>rs28625089</td>\n",
       "      <td>1:904938:905544</td>\n",
       "      <td>1_904947_G_A</td>\n",
       "      <td>8</td>\n",
       "      <td>0.164112</td>\n",
       "      <td>0.174397</td>\n",
       "    </tr>\n",
       "    <tr>\n",
       "      <th>4</th>\n",
       "      <td>chr1</td>\n",
       "      <td>905373</td>\n",
       "      <td>C</td>\n",
       "      <td>T</td>\n",
       "      <td>1_905373_T_C</td>\n",
       "      <td>False</td>\n",
       "      <td>True</td>\n",
       "      <td>0.188152</td>\n",
       "      <td>0.130176</td>\n",
       "      <td>rs4970382</td>\n",
       "      <td>1:904938:905544</td>\n",
       "      <td>1_905373_T_C</td>\n",
       "      <td>434</td>\n",
       "      <td>0.098145</td>\n",
       "      <td>0.130176</td>\n",
       "    </tr>\n",
       "    <tr>\n",
       "      <th>...</th>\n",
       "      <td>...</td>\n",
       "      <td>...</td>\n",
       "      <td>...</td>\n",
       "      <td>...</td>\n",
       "      <td>...</td>\n",
       "      <td>...</td>\n",
       "      <td>...</td>\n",
       "      <td>...</td>\n",
       "      <td>...</td>\n",
       "      <td>...</td>\n",
       "      <td>...</td>\n",
       "      <td>...</td>\n",
       "      <td>...</td>\n",
       "      <td>...</td>\n",
       "      <td>...</td>\n",
       "    </tr>\n",
       "    <tr>\n",
       "      <th>219377</th>\n",
       "      <td>chr22</td>\n",
       "      <td>50627388</td>\n",
       "      <td>G</td>\n",
       "      <td>A</td>\n",
       "      <td>22_50627388_G_A</td>\n",
       "      <td>False</td>\n",
       "      <td>False</td>\n",
       "      <td>0.405697</td>\n",
       "      <td>-0.136940</td>\n",
       "      <td>rs6151410</td>\n",
       "      <td>22:50627308:50627508</td>\n",
       "      <td>22_50627388_G_A</td>\n",
       "      <td>79</td>\n",
       "      <td>0.163901</td>\n",
       "      <td>0.136940</td>\n",
       "    </tr>\n",
       "    <tr>\n",
       "      <th>219378</th>\n",
       "      <td>chr22</td>\n",
       "      <td>50628124</td>\n",
       "      <td>C</td>\n",
       "      <td>G</td>\n",
       "      <td>22_50628124_C_G</td>\n",
       "      <td>False</td>\n",
       "      <td>True</td>\n",
       "      <td>0.742636</td>\n",
       "      <td>0.021773</td>\n",
       "      <td>rs6151406</td>\n",
       "      <td>22:50627514:50628822</td>\n",
       "      <td>22_50628124_C_G</td>\n",
       "      <td>609</td>\n",
       "      <td>0.066098</td>\n",
       "      <td>0.021773</td>\n",
       "    </tr>\n",
       "    <tr>\n",
       "      <th>219379</th>\n",
       "      <td>chr22</td>\n",
       "      <td>50628493</td>\n",
       "      <td>G</td>\n",
       "      <td>A</td>\n",
       "      <td>22_50628493_G_A</td>\n",
       "      <td>False</td>\n",
       "      <td>True</td>\n",
       "      <td>0.729436</td>\n",
       "      <td>0.028973</td>\n",
       "      <td>rs131715</td>\n",
       "      <td>22:50627514:50628822</td>\n",
       "      <td>22_50628493_G_A</td>\n",
       "      <td>978</td>\n",
       "      <td>0.083502</td>\n",
       "      <td>0.028973</td>\n",
       "    </tr>\n",
       "    <tr>\n",
       "      <th>219380</th>\n",
       "      <td>chr22</td>\n",
       "      <td>50628562</td>\n",
       "      <td>C</td>\n",
       "      <td>T</td>\n",
       "      <td>22_50628562_C_T</td>\n",
       "      <td>False</td>\n",
       "      <td>True</td>\n",
       "      <td>0.191678</td>\n",
       "      <td>-0.076209</td>\n",
       "      <td>rs762668</td>\n",
       "      <td>22:50627514:50628822</td>\n",
       "      <td>22_50628562_C_T</td>\n",
       "      <td>1047</td>\n",
       "      <td>0.057921</td>\n",
       "      <td>0.076209</td>\n",
       "    </tr>\n",
       "    <tr>\n",
       "      <th>219381</th>\n",
       "      <td>chr22</td>\n",
       "      <td>50783303</td>\n",
       "      <td>T</td>\n",
       "      <td>C</td>\n",
       "      <td>22_50783303_T_C</td>\n",
       "      <td>False</td>\n",
       "      <td>False</td>\n",
       "      <td>0.210785</td>\n",
       "      <td>-0.130570</td>\n",
       "      <td>rs115055839</td>\n",
       "      <td>22:50782926:50783896</td>\n",
       "      <td>22_50783303_T_C</td>\n",
       "      <td>376</td>\n",
       "      <td>0.103578</td>\n",
       "      <td>0.130570</td>\n",
       "    </tr>\n",
       "  </tbody>\n",
       "</table>\n",
       "<p>219382 rows × 15 columns</p>\n",
       "</div>"
      ],
      "text/plain": [
       "        chr_x     pos_x allele1 allele2           rsid_x  label  IsUsed  \\\n",
       "0        chr1    866281       C       T     1_866281_C_T  False   False   \n",
       "1        chr1    866300       A       C     1_866300_A_C  False   False   \n",
       "2        chr1    870176       T       A     1_870176_T_A  False   False   \n",
       "3        chr1    904947       G       A     1_904947_G_A  False   False   \n",
       "4        chr1    905373       C       T     1_905373_T_C  False    True   \n",
       "...       ...       ...     ...     ...              ...    ...     ...   \n",
       "219377  chr22  50627388       G       A  22_50627388_G_A  False   False   \n",
       "219378  chr22  50628124       C       G  22_50628124_C_G  False    True   \n",
       "219379  chr22  50628493       G       A  22_50628493_G_A  False    True   \n",
       "219380  chr22  50628562       C       T  22_50628562_C_T  False    True   \n",
       "219381  chr22  50783303       T       C  22_50783303_T_C  False   False   \n",
       "\n",
       "            pval      beta       rsid_y                region  \\\n",
       "0       0.974280  0.006546   rs12132974       1:866099:866351   \n",
       "1       0.974280  0.006546   rs12134490       1:866099:866351   \n",
       "2       0.071532 -0.250142   rs72631880       1:869800:870282   \n",
       "3       0.290840  0.174397   rs28625089       1:904938:905544   \n",
       "4       0.188152  0.130176    rs4970382       1:904938:905544   \n",
       "...          ...       ...          ...                   ...   \n",
       "219377  0.405697 -0.136940    rs6151410  22:50627308:50627508   \n",
       "219378  0.742636  0.021773    rs6151406  22:50627514:50628822   \n",
       "219379  0.729436  0.028973     rs131715  22:50627514:50628822   \n",
       "219380  0.191678 -0.076209     rs762668  22:50627514:50628822   \n",
       "219381  0.210785 -0.130570  rs115055839  22:50782926:50783896   \n",
       "\n",
       "                    snp  distance        se  abs_beta  \n",
       "0          1_866281_C_T       181  0.202449  0.006546  \n",
       "1          1_866300_A_C       200  0.202449  0.006546  \n",
       "2          1_870176_T_A       375  0.137133  0.250142  \n",
       "3          1_904947_G_A         8  0.164112  0.174397  \n",
       "4          1_905373_T_C       434  0.098145  0.130176  \n",
       "...                 ...       ...       ...       ...  \n",
       "219377  22_50627388_G_A        79  0.163901  0.136940  \n",
       "219378  22_50628124_C_G       609  0.066098  0.021773  \n",
       "219379  22_50628493_G_A       978  0.083502  0.028973  \n",
       "219380  22_50628562_C_T      1047  0.057921  0.076209  \n",
       "219381  22_50783303_T_C       376  0.103578  0.130570  \n",
       "\n",
       "[219382 rows x 15 columns]"
      ]
     },
     "execution_count": 121,
     "metadata": {},
     "output_type": "execute_result"
    }
   ],
   "source": [
    "datafinal[['chr_x', 'pos_x', 'allele1', 'allele2', 'rsid_x', 'label',  'IsUsed', 'pval', 'beta','rsid_y', 'region', 'snp',\n",
    "       'distance', 'se', 'abs_beta']]"
   ]
  },
  {
   "cell_type": "code",
   "execution_count": null,
   "metadata": {},
   "outputs": [],
   "source": []
  },
  {
   "cell_type": "code",
   "execution_count": 122,
   "metadata": {},
   "outputs": [
    {
     "data": {
      "text/plain": [
       "{'chr_x': 'var.chr',\n",
       " 'pos_x': 'var.pos_hg38',\n",
       " 'IsUsed': 'var.isused',\n",
       " 'rsid_x': 'var.snp_id',\n",
       " 'rsid_y': 'var.dbsnp_rsid',\n",
       " 'region': 'var.region',\n",
       " 'snp': 'var.snp',\n",
       " 'distance': 'obs.distance',\n",
       " 'se': 'obs.se',\n",
       " 'abs_beta': 'obs.abs_beta',\n",
       " 'pval': 'obs.pval',\n",
       " 'beta': 'obs.beta',\n",
       " 'label': 'obs.label',\n",
       " 'allele1': 'var.allele1',\n",
       " 'allele2': 'var.allele2',\n",
       " 'enformer_recomputed_x': 'pred.enformer.encsr000emt.variantscore.local_logfc',\n",
       " 'DNASE_SAR': 'pred.enformer.encsr000emt.variantscore.global_sar',\n",
       " 'DNASE_SAD': 'pred.enformer.encsr000emt.variantscore.global_sad',\n",
       " 'Gambian.mean.logfc': 'pred.chrombpnet.gambian.variantscore.logfc',\n",
       " 'Gambian.mean.sign.jsd': 'pred.chrombpnet.gambian.variantscore.jsd',\n",
       " 'Esan.mean.logfc': 'pred.chrombpnet.esan.variantscore.logfc',\n",
       " 'Esan.mean.sign.jsd': 'pred.chrombpnet.esan.variantscore.jsd',\n",
       " 'Mende.mean.logfc': 'pred.chrombpnet.mende.variantscore.logfc',\n",
       " 'Mende.mean.sign.jsd': 'pred.chrombpnet.mende.variantscore.jsd',\n",
       " 'Yoruba.mean.logfc': 'pred.chrombpnet.yoruba.variantscore.logfc',\n",
       " 'Yoruba.mean.sign.jsd': 'pred.chrombpnet.yoruba.variantscore.jsd',\n",
       " 'Maasai.mean.logfc': 'pred.chrombpnet.maasai.variantscore.logfc',\n",
       " 'Maasai.mean.sign.jsd': 'pred.chrombpnet.maasai.variantscore.jsd',\n",
       " 'Luhya.mean.logfc': 'pred.chrombpnet.luhya.variantscore.logfc',\n",
       " 'Luhya.mean.sign.jsd': 'pred.chrombpnet.luhya.variantscore.jsd',\n",
       " 'GM12878.ENCSR637XSC.mean.logfc': 'pred.chrombpnet.encsr637xsc.variantscore.logfc',\n",
       " 'GM12878.ENCSR637XSC.mean.sign.jsd': 'pred.chrombpnet.encsr637xsc.variantscore.jsd',\n",
       " 'GM12878.ENCSR637XSC.mean.abs_logfc_x_jsd_x_max_percentile': 'pred.chrombpnet.encsr637xsc.variantscore.ips',\n",
       " 'GM12878.ENCSR000EMT.mean.logfc': 'pred.chrombpnet.encsr000emt.variantscore.logfc',\n",
       " 'GM12878.ENCSR000EMT.mean.sign.jsd': 'pred.chrombpnet.encsr000emt.variantscore.jsd',\n",
       " 'GM12878.ENCSR000EMT.mean.abs_logfc_x_jsd_x_max_percentile': 'pred.chrombpnet.encsr000emt.variantscore.ips',\n",
       " 'GM12878.ENCSR637XSC.sub.50M.mean.logfc': 'pred.chrombpnet.encsr637xsc_50m.variantscore.logfc',\n",
       " 'GM12878.ENCSR637XSC.sub.50M.mean.sign.jsd': 'pred.chrombpnet.encsr637xsc_50m.variantscore.jsd',\n",
       " 'GM12878.ENCSR637XSC.sub.50M.mean.abs_logfc_x_jsd_x_max_percentile': 'pred.chrombpnet.encsr637xsc_50m.variantscore.ips'}"
      ]
     },
     "execution_count": 122,
     "metadata": {},
     "output_type": "execute_result"
    }
   ],
   "source": [
    "rename_dict = {\"chr_x\": \"var.chr\", \"pos_x\": \"var.pos_hg38\", \"IsUsed\":\"var.isused\", \"rsid_x\": \"var.snp_id\", \"rsid_y\": \"var.dbsnp_rsid\", \n",
    "               'region': 'var.region' , 'snp': 'var.snp', 'distance': 'obs.distance', 'se': 'obs.se', 'abs_beta': 'obs.abs_beta',\n",
    "               'pval': 'obs.pval', 'beta': 'obs.beta', 'label': 'obs.label', 'allele1':'var.allele1', 'allele2': 'var.allele2',\n",
    "               'enformer_recomputed_x':\"pred.enformer.encsr000emt.variantscore.local_logfc\", \"DNASE_SAR\": \"pred.enformer.encsr000emt.variantscore.global_sar\", \"DNASE_SAD\": \"pred.enformer.encsr000emt.variantscore.global_sad\"}\n",
    "\n",
    "anc_data = ['Gambian.mean.logfc', 'Gambian.mean.sign.jsd',\n",
    "        'Esan.mean.logfc', 'Esan.mean.sign.jsd', \n",
    "        'Mende.mean.logfc', 'Mende.mean.sign.jsd',\n",
    "       'Yoruba.mean.logfc', 'Yoruba.mean.sign.jsd',\n",
    "        'Maasai.mean.logfc', 'Maasai.mean.sign.jsd', \n",
    "        'Luhya.mean.logfc', 'Luhya.mean.sign.jsd', \n",
    "       'GM12878.ENCSR637XSC.mean.logfc', 'GM12878.ENCSR637XSC.mean.sign.jsd',\n",
    "       'GM12878.ENCSR637XSC.mean.abs_logfc_x_jsd_x_max_percentile',\n",
    "       'GM12878.ENCSR000EMT.mean.logfc', 'GM12878.ENCSR000EMT.mean.sign.jsd',\n",
    "       'GM12878.ENCSR000EMT.mean.abs_logfc_x_jsd_x_max_percentile',\n",
    "       'GM12878.ENCSR637XSC.sub.50M.mean.logfc',\n",
    "       'GM12878.ENCSR637XSC.sub.50M.mean.sign.jsd',\n",
    "       'GM12878.ENCSR637XSC.sub.50M.mean.abs_logfc_x_jsd_x_max_percentile',\n",
    "        ]\n",
    "\n",
    "for dt in anc_data:\n",
    "    vals = dt.split(\".\")\n",
    "    if vals[0] == \"GM12878\":\n",
    "        popn=vals[1].lower()\n",
    "        if vals[2] == \"sub\":\n",
    "            popn=vals[1].lower()+\"_50m\"\n",
    "    else:\n",
    "        popn=vals[0].lower()\n",
    "    if vals[-1] == \"logfc\":\n",
    "        sc=\"logfc\"\n",
    "    elif vals[-1] == \"jsd\":\n",
    "        sc=\"jsd\"\n",
    "    elif vals[-1] == \"abs_logfc_x_jsd_x_max_percentile\":\n",
    "        sc=\"ips\"   \n",
    "    elif vals[-1] == \"pval\" and vals[-2] == \"abs_logfc_x_jsd_x_max_percentile\":\n",
    "        sc=\"pval\"\n",
    "    else:\n",
    "        print(vals[-1])\n",
    "    rename_dict[dt] = \"pred.chrombpnet.\"+popn+\".variantscore.\"+sc\n",
    "        \n",
    "rename_dict"
   ]
  },
  {
   "cell_type": "code",
   "execution_count": 123,
   "metadata": {},
   "outputs": [],
   "source": [
    "datafinal = datafinal.rename(columns=rename_dict)\n",
    "\n",
    "\n",
    "    "
   ]
  },
  {
   "cell_type": "code",
   "execution_count": 124,
   "metadata": {},
   "outputs": [
    {
     "data": {
      "text/plain": [
       "Index(['var.chr', 'var.pos_hg38', 'var.allele1', 'var.allele2', 'var.snp_id',\n",
       "       'obs.label', 'var.isused', 'obs.pval', 'obs.beta', 'var.dbsnp_rsid',\n",
       "       'var.region', 'var.snp', 'obs.distance', 'obs.se', 'obs.abs_beta',\n",
       "       'pred.enformer.encsr000emt.variantscore.global_sad',\n",
       "       'pred.enformer.encsr000emt.variantscore.global_sar',\n",
       "       'pred.enformer.encsr000emt.variantscore.local_logfc',\n",
       "       'pred.chrombpnet.gambian.variantscore.logfc',\n",
       "       'pred.chrombpnet.gambian.variantscore.jsd',\n",
       "       'pred.chrombpnet.esan.variantscore.logfc',\n",
       "       'pred.chrombpnet.esan.variantscore.jsd',\n",
       "       'pred.chrombpnet.mende.variantscore.logfc',\n",
       "       'pred.chrombpnet.mende.variantscore.jsd',\n",
       "       'pred.chrombpnet.yoruba.variantscore.logfc',\n",
       "       'pred.chrombpnet.yoruba.variantscore.jsd',\n",
       "       'pred.chrombpnet.maasai.variantscore.logfc',\n",
       "       'pred.chrombpnet.maasai.variantscore.jsd',\n",
       "       'pred.chrombpnet.luhya.variantscore.logfc',\n",
       "       'pred.chrombpnet.luhya.variantscore.jsd',\n",
       "       'pred.chrombpnet.encsr637xsc.variantscore.logfc',\n",
       "       'pred.chrombpnet.encsr637xsc.variantscore.jsd',\n",
       "       'pred.chrombpnet.encsr637xsc.variantscore.ips',\n",
       "       'pred.chrombpnet.encsr000emt.variantscore.logfc',\n",
       "       'pred.chrombpnet.encsr000emt.variantscore.jsd',\n",
       "       'pred.chrombpnet.encsr000emt.variantscore.ips',\n",
       "       'pred.chrombpnet.encsr637xsc_50m.variantscore.logfc',\n",
       "       'pred.chrombpnet.encsr637xsc_50m.variantscore.jsd',\n",
       "       'pred.chrombpnet.encsr637xsc_50m.variantscore.ips'],\n",
       "      dtype='object')"
      ]
     },
     "execution_count": 124,
     "metadata": {},
     "output_type": "execute_result"
    }
   ],
   "source": [
    "datafinal.columns"
   ]
  },
  {
   "cell_type": "code",
   "execution_count": 125,
   "metadata": {},
   "outputs": [],
   "source": [
    "dataall = datafinal[['var.chr', 'var.pos_hg38', 'var.allele1', 'var.allele2', 'var.isused', 'obs.pval', 'obs.beta', 'obs.label',\n",
    "       'pred.enformer.encsr000emt.variantscore.global_sad',\n",
    "       'pred.enformer.encsr000emt.variantscore.global_sar',\n",
    "       'pred.enformer.encsr000emt.variantscore.local_logfc',\n",
    "       'pred.chrombpnet.gambian.variantscore.logfc',\n",
    "       'pred.chrombpnet.gambian.variantscore.jsd',\n",
    "       'pred.chrombpnet.esan.variantscore.logfc',\n",
    "       'pred.chrombpnet.esan.variantscore.jsd',\n",
    "       'pred.chrombpnet.mende.variantscore.logfc',\n",
    "       'pred.chrombpnet.mende.variantscore.jsd',\n",
    "       'pred.chrombpnet.yoruba.variantscore.logfc',\n",
    "       'pred.chrombpnet.yoruba.variantscore.jsd',\n",
    "       'pred.chrombpnet.maasai.variantscore.logfc',\n",
    "       'pred.chrombpnet.maasai.variantscore.jsd',\n",
    "       'pred.chrombpnet.luhya.variantscore.logfc',\n",
    "       'pred.chrombpnet.luhya.variantscore.jsd',\n",
    "       'pred.chrombpnet.encsr637xsc.variantscore.logfc',\n",
    "       'pred.chrombpnet.encsr637xsc.variantscore.jsd',\n",
    "       'pred.chrombpnet.encsr637xsc.variantscore.ips',\n",
    "       'pred.chrombpnet.encsr000emt.variantscore.logfc',\n",
    "       'pred.chrombpnet.encsr000emt.variantscore.jsd',\n",
    "       'pred.chrombpnet.encsr000emt.variantscore.ips',\n",
    "       'pred.chrombpnet.encsr637xsc_50m.variantscore.logfc',\n",
    "       'pred.chrombpnet.encsr637xsc_50m.variantscore.jsd',\n",
    "       'pred.chrombpnet.encsr637xsc_50m.variantscore.ips', 'var.snp_id', 'var.region', 'var.snp', 'var.dbsnp_rsid', 'obs.distance', 'obs.se', 'obs.abs_beta' ]]"
   ]
  },
  {
   "cell_type": "code",
   "execution_count": 126,
   "metadata": {},
   "outputs": [],
   "source": [
    "dataall.to_csv(\"full_variants/caqtls.african.lcls.benchmarking.all.tsv\", sep='\\t', header=True, index=False)"
   ]
  },
  {
   "cell_type": "code",
   "execution_count": 127,
   "metadata": {},
   "outputs": [],
   "source": [
    "dataf_final = dataall[dataall[\"var.isused\"]]"
   ]
  },
  {
   "cell_type": "code",
   "execution_count": 128,
   "metadata": {},
   "outputs": [],
   "source": [
    "dataf_final = dataf_final.drop([\"var.isused\"], axis=1)"
   ]
  },
  {
   "cell_type": "code",
   "execution_count": null,
   "metadata": {},
   "outputs": [],
   "source": []
  },
  {
   "cell_type": "code",
   "execution_count": 129,
   "metadata": {},
   "outputs": [
    {
     "data": {
      "text/plain": [
       "(219382, 39)"
      ]
     },
     "execution_count": 129,
     "metadata": {},
     "output_type": "execute_result"
    }
   ],
   "source": [
    "dataall.shape"
   ]
  },
  {
   "cell_type": "code",
   "execution_count": 130,
   "metadata": {},
   "outputs": [
    {
     "data": {
      "text/plain": [
       "(79026, 38)"
      ]
     },
     "execution_count": 130,
     "metadata": {},
     "output_type": "execute_result"
    }
   ],
   "source": [
    "dataf_final.shape"
   ]
  },
  {
   "cell_type": "code",
   "execution_count": 131,
   "metadata": {},
   "outputs": [
    {
     "data": {
      "text/plain": [
       "(79026, 38)"
      ]
     },
     "execution_count": 131,
     "metadata": {},
     "output_type": "execute_result"
    }
   ],
   "source": [
    "dataf_final.shape"
   ]
  },
  {
   "cell_type": "code",
   "execution_count": 132,
   "metadata": {},
   "outputs": [
    {
     "data": {
      "text/plain": [
       "72205"
      ]
     },
     "execution_count": 132,
     "metadata": {},
     "output_type": "execute_result"
    }
   ],
   "source": [
    "dataf_final.shape[0] - sum(dataf_final[\"obs.label\"])"
   ]
  },
  {
   "cell_type": "code",
   "execution_count": 133,
   "metadata": {},
   "outputs": [],
   "source": [
    "dataf_final.to_csv(\"filtered_variants/caqtls.african.lcls.benchmarking.chrombpnet.tsv\", sep=\"\\t\", header=True, index=False)\n"
   ]
  },
  {
   "cell_type": "code",
   "execution_count": 134,
   "metadata": {},
   "outputs": [],
   "source": [
    "# f = open(\"/mnt/lab_data2/anusri/chrombpnet/src/evaluation/figure_notebooks/figure_6/final_figures_new/Afr.CaQTLS.README\", \"w\")\n",
    "# for line in datafinal.columns:\n",
    "#     f.write(line+\"\\n\")\n",
    "# f.close()\n",
    "    "
   ]
  },
  {
   "cell_type": "code",
   "execution_count": 135,
   "metadata": {},
   "outputs": [],
   "source": [
    "# rename_dict = {\"chr_x\": \"chr_hg38\", \"pos_x\": \"pos_hg38\", \"DNASE_SAR\": \"enformer.encsr000emt.variantscore.sar\", \"DNASE_SAD\": \"enformer.encsr000emt.variantscore.sad\", \"IsUsed1\":\"IsUsed\", \"rsid_x\": \"snp_id\", \"rsid_y\": \"dbsnp_rsid\"}\n",
    "\n",
    "# datafinal = datafinal.rename(columns=rename_dict)\n",
    "\n",
    "# datafinal.to_csv(\"/mnt/lab_data2/anusri/chrombpnet/src/evaluation/figure_notebooks/figure_6/final_figures_new/Afr.CaQTLS.tsv\", sep=\"\\t\", header=True, index=False)\n"
   ]
  },
  {
   "cell_type": "code",
   "execution_count": 139,
   "metadata": {},
   "outputs": [
    {
     "data": {
      "text/plain": [
       "Index(['var.chr', 'var.pos_hg38', 'var.allele1', 'var.allele2', 'var.isused',\n",
       "       'obs.pval', 'obs.beta', 'obs.label',\n",
       "       'pred.enformer.encsr000emt.variantscore.global_sad',\n",
       "       'pred.enformer.encsr000emt.variantscore.global_sar',\n",
       "       'pred.enformer.encsr000emt.variantscore.local_logfc',\n",
       "       'pred.chrombpnet.gambian.variantscore.logfc',\n",
       "       'pred.chrombpnet.gambian.variantscore.jsd',\n",
       "       'pred.chrombpnet.esan.variantscore.logfc',\n",
       "       'pred.chrombpnet.esan.variantscore.jsd',\n",
       "       'pred.chrombpnet.mende.variantscore.logfc',\n",
       "       'pred.chrombpnet.mende.variantscore.jsd',\n",
       "       'pred.chrombpnet.yoruba.variantscore.logfc',\n",
       "       'pred.chrombpnet.yoruba.variantscore.jsd',\n",
       "       'pred.chrombpnet.maasai.variantscore.logfc',\n",
       "       'pred.chrombpnet.maasai.variantscore.jsd',\n",
       "       'pred.chrombpnet.luhya.variantscore.logfc',\n",
       "       'pred.chrombpnet.luhya.variantscore.jsd',\n",
       "       'pred.chrombpnet.encsr637xsc.variantscore.logfc',\n",
       "       'pred.chrombpnet.encsr637xsc.variantscore.jsd',\n",
       "       'pred.chrombpnet.encsr637xsc.variantscore.ips',\n",
       "       'pred.chrombpnet.encsr000emt.variantscore.logfc',\n",
       "       'pred.chrombpnet.encsr000emt.variantscore.jsd',\n",
       "       'pred.chrombpnet.encsr000emt.variantscore.ips',\n",
       "       'pred.chrombpnet.encsr637xsc_50m.variantscore.logfc',\n",
       "       'pred.chrombpnet.encsr637xsc_50m.variantscore.jsd',\n",
       "       'pred.chrombpnet.encsr637xsc_50m.variantscore.ips', 'var.snp_id',\n",
       "       'var.region', 'var.snp', 'var.dbsnp_rsid', 'obs.distance', 'obs.se',\n",
       "       'obs.abs_beta'],\n",
       "      dtype='object')"
      ]
     },
     "execution_count": 139,
     "metadata": {},
     "output_type": "execute_result"
    }
   ],
   "source": [
    "dataall.columns"
   ]
  },
  {
   "cell_type": "code",
   "execution_count": 140,
   "metadata": {},
   "outputs": [
    {
     "data": {
      "text/html": [
       "<div>\n",
       "<style scoped>\n",
       "    .dataframe tbody tr th:only-of-type {\n",
       "        vertical-align: middle;\n",
       "    }\n",
       "\n",
       "    .dataframe tbody tr th {\n",
       "        vertical-align: top;\n",
       "    }\n",
       "\n",
       "    .dataframe thead th {\n",
       "        text-align: right;\n",
       "    }\n",
       "</style>\n",
       "<table border=\"1\" class=\"dataframe\">\n",
       "  <thead>\n",
       "    <tr style=\"text-align: right;\">\n",
       "      <th></th>\n",
       "      <th>var.chr</th>\n",
       "      <th>var.pos_hg38</th>\n",
       "      <th>var.allele1</th>\n",
       "      <th>var.allele2</th>\n",
       "      <th>var.isused</th>\n",
       "      <th>obs.pval</th>\n",
       "      <th>obs.beta</th>\n",
       "      <th>obs.label</th>\n",
       "      <th>pred.enformer.encsr000emt.variantscore.global_sad</th>\n",
       "      <th>pred.enformer.encsr000emt.variantscore.global_sar</th>\n",
       "      <th>...</th>\n",
       "      <th>pred.chrombpnet.encsr637xsc_50m.variantscore.logfc</th>\n",
       "      <th>pred.chrombpnet.encsr637xsc_50m.variantscore.jsd</th>\n",
       "      <th>pred.chrombpnet.encsr637xsc_50m.variantscore.ips</th>\n",
       "      <th>var.snp_id</th>\n",
       "      <th>var.region</th>\n",
       "      <th>var.snp</th>\n",
       "      <th>var.dbsnp_rsid</th>\n",
       "      <th>obs.distance</th>\n",
       "      <th>obs.se</th>\n",
       "      <th>obs.abs_beta</th>\n",
       "    </tr>\n",
       "  </thead>\n",
       "  <tbody>\n",
       "    <tr>\n",
       "      <th>0</th>\n",
       "      <td>chr1</td>\n",
       "      <td>866281</td>\n",
       "      <td>C</td>\n",
       "      <td>T</td>\n",
       "      <td>False</td>\n",
       "      <td>0.97428</td>\n",
       "      <td>0.006546</td>\n",
       "      <td>False</td>\n",
       "      <td>0.000051</td>\n",
       "      <td>0.000068</td>\n",
       "      <td>...</td>\n",
       "      <td>-0.027134</td>\n",
       "      <td>-0.006544</td>\n",
       "      <td>0.000044</td>\n",
       "      <td>1_866281_C_T</td>\n",
       "      <td>1:866099:866351</td>\n",
       "      <td>1_866281_C_T</td>\n",
       "      <td>rs12132974</td>\n",
       "      <td>181</td>\n",
       "      <td>0.202449</td>\n",
       "      <td>0.006546</td>\n",
       "    </tr>\n",
       "  </tbody>\n",
       "</table>\n",
       "<p>1 rows × 39 columns</p>\n",
       "</div>"
      ],
      "text/plain": [
       "  var.chr  var.pos_hg38 var.allele1 var.allele2  var.isused  obs.pval  \\\n",
       "0    chr1        866281           C           T       False   0.97428   \n",
       "\n",
       "   obs.beta  obs.label  pred.enformer.encsr000emt.variantscore.global_sad  \\\n",
       "0  0.006546      False                                           0.000051   \n",
       "\n",
       "   pred.enformer.encsr000emt.variantscore.global_sar  ...  \\\n",
       "0                                           0.000068  ...   \n",
       "\n",
       "   pred.chrombpnet.encsr637xsc_50m.variantscore.logfc  \\\n",
       "0                                          -0.027134    \n",
       "\n",
       "   pred.chrombpnet.encsr637xsc_50m.variantscore.jsd  \\\n",
       "0                                         -0.006544   \n",
       "\n",
       "   pred.chrombpnet.encsr637xsc_50m.variantscore.ips    var.snp_id  \\\n",
       "0                                          0.000044  1_866281_C_T   \n",
       "\n",
       "        var.region       var.snp  var.dbsnp_rsid  obs.distance    obs.se  \\\n",
       "0  1:866099:866351  1_866281_C_T      rs12132974           181  0.202449   \n",
       "\n",
       "   obs.abs_beta  \n",
       "0      0.006546  \n",
       "\n",
       "[1 rows x 39 columns]"
      ]
     },
     "execution_count": 140,
     "metadata": {},
     "output_type": "execute_result"
    }
   ],
   "source": [
    "dataall.head(1)"
   ]
  },
  {
   "cell_type": "code",
   "execution_count": 142,
   "metadata": {},
   "outputs": [],
   "source": [
    "readme_data = {'var.chr' : \"Chromosome of the variant (GRCh38)\", \n",
    "        'var.pos_hg38': \"Position of the variant (GRCh38, 1-based)\",\n",
    "        'var.allele1': \"Allele 1 for the variant\", \n",
    "        'var.allele2': \"Allele 2 for the variant\",        \n",
    "       'obs.beta': \"Observed effect size\", \n",
    "       'obs.pval': \"p-value significance of observed effect size\", \n",
    "       'obs.label': \"True if variant has significant observed effect size\", \n",
    "       'var.isused': \"True if variant is used in final ChromBPNet benchmarking\",\n",
    "    'pred.enformer.encsr000emt.varscore.global_sad': \"Enformer SAD predictions (downloaded) in encsr000emt\",\n",
    "       'pred.enformer.encsr000emt.varscore.global_sar': \"Enformer SAR predictions (downloaded) in encsr000emt\",\n",
    "       'pred.enformer.encsr000emt.varscore.local_logfc': \"Enformer logFC (local) predictions (re-computed) in encsr000emt\",\n",
    "       'pred.chrombpnet.xxx.varscore.logfc': \"ChromBPNet logFC predictions in encid xxx\",\n",
    "       'pred.chrombpnet.xxx.varscore.jsd':  \"ChromBPNet JSD predictions in encid xxx\", \n",
    "       'pred.chrombpnet.xxx.varscore.ips': \"ChromBPNet IPS predictions in encid xxx\",\n",
    "        'var.region': \"variant attribute accompanied with original source\", \n",
    "        'obs.distance': \"variant attribute accompanied with original source\",\n",
    "        'obs.se': \"variant attribute accompanied with source\",\n",
    "         'var.dbsnp_rsid': \"dbSNP rsid identifier\",\n",
    "       'var.snp_id': \"variant identifier 1\",\n",
    "        'var.snp': \"variant identifier 2\", \n",
    "       \n",
    " }\n"
   ]
  },
  {
   "cell_type": "code",
   "execution_count": 143,
   "metadata": {},
   "outputs": [
    {
     "name": "stdout",
     "output_type": "stream",
     "text": [
      "var.chr\n",
      "var.pos_hg38\n",
      "var.allele1\n",
      "var.allele2\n",
      "obs.beta\n",
      "obs.pval\n",
      "obs.label\n",
      "var.isused\n",
      "pred.enformer.encsr000emt.varscore.global_sad\n",
      "pred.enformer.encsr000emt.varscore.global_sar\n",
      "pred.enformer.encsr000emt.varscore.local_logfc\n",
      "pred.chrombpnet.xxx.varscore.logfc\n",
      "pred.chrombpnet.xxx.varscore.jsd\n",
      "pred.chrombpnet.xxx.varscore.ips\n",
      "var.region\n",
      "obs.distance\n",
      "obs.se\n",
      "var.dbsnp_rsid\n",
      "var.snp_id\n",
      "var.snp\n"
     ]
    }
   ],
   "source": [
    "f = open(\"full_variants/caqtls.african.lcls.benchmarking.all.README\", \"w\")\n",
    "f.write(\"# TSV Field Header Descriptions \\n \\n\")\n",
    "for val in readme_data:\n",
    "    print(val)\n",
    "    f.write(val+\" : \"+readme_data[val]+\"\\n\")\n",
    "f.write(\"\\n\")\n",
    "f.write(\"# Experiment-Specific Headers and IDs  \\n\")\n",
    "f.close()"
   ]
  },
  {
   "cell_type": "code",
   "execution_count": 137,
   "metadata": {},
   "outputs": [
    {
     "ename": "KeyError",
     "evalue": "'IsUsed'",
     "output_type": "error",
     "traceback": [
      "\u001b[0;31m---------------------------------------------------------------------------\u001b[0m",
      "\u001b[0;31mKeyError\u001b[0m                                  Traceback (most recent call last)",
      "\u001b[0;32m~/anaconda3/lib/python3.7/site-packages/pandas/core/indexes/base.py\u001b[0m in \u001b[0;36mget_loc\u001b[0;34m(self, key, method, tolerance)\u001b[0m\n\u001b[1;32m   3360\u001b[0m             \u001b[0;32mtry\u001b[0m\u001b[0;34m:\u001b[0m\u001b[0;34m\u001b[0m\u001b[0;34m\u001b[0m\u001b[0m\n\u001b[0;32m-> 3361\u001b[0;31m                 \u001b[0;32mreturn\u001b[0m \u001b[0mself\u001b[0m\u001b[0;34m.\u001b[0m\u001b[0m_engine\u001b[0m\u001b[0;34m.\u001b[0m\u001b[0mget_loc\u001b[0m\u001b[0;34m(\u001b[0m\u001b[0mcasted_key\u001b[0m\u001b[0;34m)\u001b[0m\u001b[0;34m\u001b[0m\u001b[0;34m\u001b[0m\u001b[0m\n\u001b[0m\u001b[1;32m   3362\u001b[0m             \u001b[0;32mexcept\u001b[0m \u001b[0mKeyError\u001b[0m \u001b[0;32mas\u001b[0m \u001b[0merr\u001b[0m\u001b[0;34m:\u001b[0m\u001b[0;34m\u001b[0m\u001b[0;34m\u001b[0m\u001b[0m\n",
      "\u001b[0;32m~/anaconda3/lib/python3.7/site-packages/pandas/_libs/index.pyx\u001b[0m in \u001b[0;36mpandas._libs.index.IndexEngine.get_loc\u001b[0;34m()\u001b[0m\n",
      "\u001b[0;32m~/anaconda3/lib/python3.7/site-packages/pandas/_libs/index.pyx\u001b[0m in \u001b[0;36mpandas._libs.index.IndexEngine.get_loc\u001b[0;34m()\u001b[0m\n",
      "\u001b[0;32mpandas/_libs/hashtable_class_helper.pxi\u001b[0m in \u001b[0;36mpandas._libs.hashtable.PyObjectHashTable.get_item\u001b[0;34m()\u001b[0m\n",
      "\u001b[0;32mpandas/_libs/hashtable_class_helper.pxi\u001b[0m in \u001b[0;36mpandas._libs.hashtable.PyObjectHashTable.get_item\u001b[0;34m()\u001b[0m\n",
      "\u001b[0;31mKeyError\u001b[0m: 'IsUsed'",
      "\nThe above exception was the direct cause of the following exception:\n",
      "\u001b[0;31mKeyError\u001b[0m                                  Traceback (most recent call last)",
      "\u001b[0;32m<ipython-input-137-839c9bbf6861>\u001b[0m in \u001b[0;36m<module>\u001b[0;34m\u001b[0m\n\u001b[0;32m----> 1\u001b[0;31m \u001b[0msum\u001b[0m\u001b[0;34m(\u001b[0m\u001b[0mdatafinal\u001b[0m\u001b[0;34m[\u001b[0m\u001b[0;34m\"IsUsed\"\u001b[0m\u001b[0;34m]\u001b[0m\u001b[0;34m)\u001b[0m\u001b[0;34m\u001b[0m\u001b[0;34m\u001b[0m\u001b[0m\n\u001b[0m",
      "\u001b[0;32m~/anaconda3/lib/python3.7/site-packages/pandas/core/frame.py\u001b[0m in \u001b[0;36m__getitem__\u001b[0;34m(self, key)\u001b[0m\n\u001b[1;32m   3456\u001b[0m             \u001b[0;32mif\u001b[0m \u001b[0mself\u001b[0m\u001b[0;34m.\u001b[0m\u001b[0mcolumns\u001b[0m\u001b[0;34m.\u001b[0m\u001b[0mnlevels\u001b[0m \u001b[0;34m>\u001b[0m \u001b[0;36m1\u001b[0m\u001b[0;34m:\u001b[0m\u001b[0;34m\u001b[0m\u001b[0;34m\u001b[0m\u001b[0m\n\u001b[1;32m   3457\u001b[0m                 \u001b[0;32mreturn\u001b[0m \u001b[0mself\u001b[0m\u001b[0;34m.\u001b[0m\u001b[0m_getitem_multilevel\u001b[0m\u001b[0;34m(\u001b[0m\u001b[0mkey\u001b[0m\u001b[0;34m)\u001b[0m\u001b[0;34m\u001b[0m\u001b[0;34m\u001b[0m\u001b[0m\n\u001b[0;32m-> 3458\u001b[0;31m             \u001b[0mindexer\u001b[0m \u001b[0;34m=\u001b[0m \u001b[0mself\u001b[0m\u001b[0;34m.\u001b[0m\u001b[0mcolumns\u001b[0m\u001b[0;34m.\u001b[0m\u001b[0mget_loc\u001b[0m\u001b[0;34m(\u001b[0m\u001b[0mkey\u001b[0m\u001b[0;34m)\u001b[0m\u001b[0;34m\u001b[0m\u001b[0;34m\u001b[0m\u001b[0m\n\u001b[0m\u001b[1;32m   3459\u001b[0m             \u001b[0;32mif\u001b[0m \u001b[0mis_integer\u001b[0m\u001b[0;34m(\u001b[0m\u001b[0mindexer\u001b[0m\u001b[0;34m)\u001b[0m\u001b[0;34m:\u001b[0m\u001b[0;34m\u001b[0m\u001b[0;34m\u001b[0m\u001b[0m\n\u001b[1;32m   3460\u001b[0m                 \u001b[0mindexer\u001b[0m \u001b[0;34m=\u001b[0m \u001b[0;34m[\u001b[0m\u001b[0mindexer\u001b[0m\u001b[0;34m]\u001b[0m\u001b[0;34m\u001b[0m\u001b[0;34m\u001b[0m\u001b[0m\n",
      "\u001b[0;32m~/anaconda3/lib/python3.7/site-packages/pandas/core/indexes/base.py\u001b[0m in \u001b[0;36mget_loc\u001b[0;34m(self, key, method, tolerance)\u001b[0m\n\u001b[1;32m   3361\u001b[0m                 \u001b[0;32mreturn\u001b[0m \u001b[0mself\u001b[0m\u001b[0;34m.\u001b[0m\u001b[0m_engine\u001b[0m\u001b[0;34m.\u001b[0m\u001b[0mget_loc\u001b[0m\u001b[0;34m(\u001b[0m\u001b[0mcasted_key\u001b[0m\u001b[0;34m)\u001b[0m\u001b[0;34m\u001b[0m\u001b[0;34m\u001b[0m\u001b[0m\n\u001b[1;32m   3362\u001b[0m             \u001b[0;32mexcept\u001b[0m \u001b[0mKeyError\u001b[0m \u001b[0;32mas\u001b[0m \u001b[0merr\u001b[0m\u001b[0;34m:\u001b[0m\u001b[0;34m\u001b[0m\u001b[0;34m\u001b[0m\u001b[0m\n\u001b[0;32m-> 3363\u001b[0;31m                 \u001b[0;32mraise\u001b[0m \u001b[0mKeyError\u001b[0m\u001b[0;34m(\u001b[0m\u001b[0mkey\u001b[0m\u001b[0;34m)\u001b[0m \u001b[0;32mfrom\u001b[0m \u001b[0merr\u001b[0m\u001b[0;34m\u001b[0m\u001b[0;34m\u001b[0m\u001b[0m\n\u001b[0m\u001b[1;32m   3364\u001b[0m \u001b[0;34m\u001b[0m\u001b[0m\n\u001b[1;32m   3365\u001b[0m         \u001b[0;32mif\u001b[0m \u001b[0mis_scalar\u001b[0m\u001b[0;34m(\u001b[0m\u001b[0mkey\u001b[0m\u001b[0;34m)\u001b[0m \u001b[0;32mand\u001b[0m \u001b[0misna\u001b[0m\u001b[0;34m(\u001b[0m\u001b[0mkey\u001b[0m\u001b[0;34m)\u001b[0m \u001b[0;32mand\u001b[0m \u001b[0;32mnot\u001b[0m \u001b[0mself\u001b[0m\u001b[0;34m.\u001b[0m\u001b[0mhasnans\u001b[0m\u001b[0;34m:\u001b[0m\u001b[0;34m\u001b[0m\u001b[0;34m\u001b[0m\u001b[0m\n",
      "\u001b[0;31mKeyError\u001b[0m: 'IsUsed'"
     ]
    }
   ],
   "source": [
    "sum(datafinal[\"IsUsed\"])"
   ]
  },
  {
   "cell_type": "code",
   "execution_count": null,
   "metadata": {},
   "outputs": [],
   "source": [
    "datafinal.shape"
   ]
  },
  {
   "cell_type": "code",
   "execution_count": null,
   "metadata": {},
   "outputs": [],
   "source": [
    "datafinal[datafinal[\"IsUsed\"]][\"distance\"].hist()"
   ]
  },
  {
   "cell_type": "code",
   "execution_count": null,
   "metadata": {},
   "outputs": [],
   "source": [
    "datafinal[\"distance\"].hist()"
   ]
  },
  {
   "cell_type": "code",
   "execution_count": null,
   "metadata": {},
   "outputs": [],
   "source": [
    "fft = datafinal[\"region\"].str.split(\":\", expand=True)"
   ]
  },
  {
   "cell_type": "code",
   "execution_count": null,
   "metadata": {},
   "outputs": [],
   "source": [
    "fft.head()\n",
    "fft[0] = \"chr\"+fft[0]"
   ]
  },
  {
   "cell_type": "code",
   "execution_count": null,
   "metadata": {},
   "outputs": [],
   "source": [
    "width = fft[2].astype(int) - fft[1].astype(int) "
   ]
  },
  {
   "cell_type": "code",
   "execution_count": null,
   "metadata": {},
   "outputs": [],
   "source": [
    "width.hist()"
   ]
  },
  {
   "cell_type": "code",
   "execution_count": null,
   "metadata": {},
   "outputs": [],
   "source": [
    "fft"
   ]
  },
  {
   "cell_type": "code",
   "execution_count": null,
   "metadata": {},
   "outputs": [],
   "source": []
  },
  {
   "cell_type": "code",
   "execution_count": null,
   "metadata": {},
   "outputs": [],
   "source": [
    "\n",
    "temps.head(1)"
   ]
  },
  {
   "cell_type": "code",
   "execution_count": null,
   "metadata": {},
   "outputs": [],
   "source": [
    "sum(temps1[\"counts\"]>0)"
   ]
  },
  {
   "cell_type": "code",
   "execution_count": null,
   "metadata": {},
   "outputs": [],
   "source": [
    "temps1.shape"
   ]
  },
  {
   "cell_type": "code",
   "execution_count": null,
   "metadata": {},
   "outputs": [],
   "source": [
    "datafinal.shape"
   ]
  },
  {
   "cell_type": "code",
   "execution_count": null,
   "metadata": {},
   "outputs": [],
   "source": [
    "temps1[\"IsUsed\"]  = datafinal[\"IsUsed\"] "
   ]
  },
  {
   "cell_type": "code",
   "execution_count": null,
   "metadata": {},
   "outputs": [],
   "source": [
    "temps1\n",
    "sum(temps1[\"IsUsed\"])"
   ]
  },
  {
   "cell_type": "code",
   "execution_count": null,
   "metadata": {},
   "outputs": [],
   "source": [
    "sum(temps1[temps1[\"IsUsed\"]][\"counts\"] > 0)"
   ]
  },
  {
   "cell_type": "code",
   "execution_count": null,
   "metadata": {},
   "outputs": [],
   "source": []
  },
  {
   "cell_type": "code",
   "execution_count": null,
   "metadata": {},
   "outputs": [],
   "source": [
    "temps1.columns"
   ]
  },
  {
   "cell_type": "code",
   "execution_count": null,
   "metadata": {},
   "outputs": [],
   "source": []
  },
  {
   "cell_type": "code",
   "execution_count": null,
   "metadata": {},
   "outputs": [],
   "source": []
  },
  {
   "cell_type": "code",
   "execution_count": null,
   "metadata": {},
   "outputs": [],
   "source": []
  },
  {
   "cell_type": "code",
   "execution_count": null,
   "metadata": {},
   "outputs": [],
   "source": []
  },
  {
   "cell_type": "code",
   "execution_count": null,
   "metadata": {},
   "outputs": [],
   "source": []
  },
  {
   "cell_type": "code",
   "execution_count": null,
   "metadata": {},
   "outputs": [],
   "source": []
  },
  {
   "cell_type": "code",
   "execution_count": null,
   "metadata": {},
   "outputs": [],
   "source": []
  },
  {
   "cell_type": "code",
   "execution_count": null,
   "metadata": {},
   "outputs": [],
   "source": []
  },
  {
   "cell_type": "code",
   "execution_count": null,
   "metadata": {},
   "outputs": [],
   "source": []
  },
  {
   "cell_type": "code",
   "execution_count": null,
   "metadata": {},
   "outputs": [],
   "source": []
  },
  {
   "cell_type": "code",
   "execution_count": null,
   "metadata": {},
   "outputs": [],
   "source": []
  },
  {
   "cell_type": "code",
   "execution_count": null,
   "metadata": {},
   "outputs": [],
   "source": []
  },
  {
   "cell_type": "code",
   "execution_count": null,
   "metadata": {},
   "outputs": [],
   "source": []
  },
  {
   "cell_type": "code",
   "execution_count": null,
   "metadata": {},
   "outputs": [],
   "source": []
  },
  {
   "cell_type": "code",
   "execution_count": null,
   "metadata": {},
   "outputs": [],
   "source": [
    "\n"
   ]
  },
  {
   "cell_type": "code",
   "execution_count": null,
   "metadata": {},
   "outputs": [],
   "source": []
  },
  {
   "cell_type": "code",
   "execution_count": null,
   "metadata": {},
   "outputs": [],
   "source": []
  },
  {
   "cell_type": "code",
   "execution_count": null,
   "metadata": {},
   "outputs": [],
   "source": []
  },
  {
   "cell_type": "code",
   "execution_count": null,
   "metadata": {},
   "outputs": [],
   "source": []
  },
  {
   "cell_type": "code",
   "execution_count": null,
   "metadata": {},
   "outputs": [],
   "source": []
  },
  {
   "cell_type": "code",
   "execution_count": null,
   "metadata": {},
   "outputs": [],
   "source": []
  }
 ],
 "metadata": {
  "kernelspec": {
   "display_name": "Python 3",
   "language": "python",
   "name": "python3"
  },
  "language_info": {
   "codemirror_mode": {
    "name": "ipython",
    "version": 3
   },
   "file_extension": ".py",
   "mimetype": "text/x-python",
   "name": "python",
   "nbconvert_exporter": "python",
   "pygments_lexer": "ipython3",
   "version": "3.7.6"
  }
 },
 "nbformat": 4,
 "nbformat_minor": 4
}
