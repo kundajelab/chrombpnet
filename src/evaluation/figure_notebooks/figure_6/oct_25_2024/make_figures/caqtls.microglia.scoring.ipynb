{
 "cells": [
  {
   "cell_type": "code",
   "execution_count": 2,
   "metadata": {},
   "outputs": [],
   "source": [
    "import pandas as pd"
   ]
  },
  {
   "cell_type": "code",
   "execution_count": 4,
   "metadata": {},
   "outputs": [],
   "source": [
    "micros = pd.read_csv(\"../full_variants/caqtls.microglia.benchmarking.all.tsv\", sep=\"\\t\", header=0)"
   ]
  },
  {
   "cell_type": "code",
   "execution_count": 5,
   "metadata": {},
   "outputs": [
    {
     "data": {
      "text/html": [
       "<div>\n",
       "<style scoped>\n",
       "    .dataframe tbody tr th:only-of-type {\n",
       "        vertical-align: middle;\n",
       "    }\n",
       "\n",
       "    .dataframe tbody tr th {\n",
       "        vertical-align: top;\n",
       "    }\n",
       "\n",
       "    .dataframe thead th {\n",
       "        text-align: right;\n",
       "    }\n",
       "</style>\n",
       "<table border=\"1\" class=\"dataframe\">\n",
       "  <thead>\n",
       "    <tr style=\"text-align: right;\">\n",
       "      <th></th>\n",
       "      <th>var.chr</th>\n",
       "      <th>var.pos_hg38</th>\n",
       "      <th>var.allele1</th>\n",
       "      <th>var.allele2</th>\n",
       "      <th>obs.Z_score_fixed</th>\n",
       "      <th>obs.Beta</th>\n",
       "      <th>pred.chrombpnet.microglia.varscore.logfc</th>\n",
       "      <th>pred.chrombpnet.microglia.varscore.jsd</th>\n",
       "      <th>var.isused</th>\n",
       "      <th>var.rsid</th>\n",
       "      <th>var.Top_SNP_perPeak</th>\n",
       "    </tr>\n",
       "  </thead>\n",
       "  <tbody>\n",
       "    <tr>\n",
       "      <th>0</th>\n",
       "      <td>chr2</td>\n",
       "      <td>199884843</td>\n",
       "      <td>A</td>\n",
       "      <td>G</td>\n",
       "      <td>-10.11000</td>\n",
       "      <td>-1.293180</td>\n",
       "      <td>0.032774</td>\n",
       "      <td>0.016354</td>\n",
       "      <td>False</td>\n",
       "      <td>chr2_199884843.0_G_A</td>\n",
       "      <td>rs281785</td>\n",
       "    </tr>\n",
       "    <tr>\n",
       "      <th>1</th>\n",
       "      <td>chr2</td>\n",
       "      <td>200357680</td>\n",
       "      <td>A</td>\n",
       "      <td>T</td>\n",
       "      <td>3.48053</td>\n",
       "      <td>0.396164</td>\n",
       "      <td>-0.008075</td>\n",
       "      <td>-0.009565</td>\n",
       "      <td>False</td>\n",
       "      <td>chr2_200357680.0_T_A</td>\n",
       "      <td>rs2033804</td>\n",
       "    </tr>\n",
       "    <tr>\n",
       "      <th>2</th>\n",
       "      <td>chr2</td>\n",
       "      <td>200656660</td>\n",
       "      <td>T</td>\n",
       "      <td>C</td>\n",
       "      <td>5.07707</td>\n",
       "      <td>0.498759</td>\n",
       "      <td>0.003838</td>\n",
       "      <td>0.004759</td>\n",
       "      <td>False</td>\n",
       "      <td>chr2_200656660.0_C_T</td>\n",
       "      <td>rs2287012</td>\n",
       "    </tr>\n",
       "    <tr>\n",
       "      <th>3</th>\n",
       "      <td>chr1</td>\n",
       "      <td>172585461</td>\n",
       "      <td>A</td>\n",
       "      <td>G</td>\n",
       "      <td>11.41800</td>\n",
       "      <td>1.070820</td>\n",
       "      <td>0.005939</td>\n",
       "      <td>0.004529</td>\n",
       "      <td>False</td>\n",
       "      <td>chr1_172585461.0_G_A</td>\n",
       "      <td>rs10752994</td>\n",
       "    </tr>\n",
       "    <tr>\n",
       "      <th>4</th>\n",
       "      <td>chr1</td>\n",
       "      <td>172625478</td>\n",
       "      <td>C</td>\n",
       "      <td>T</td>\n",
       "      <td>-8.27532</td>\n",
       "      <td>-0.816922</td>\n",
       "      <td>-0.441283</td>\n",
       "      <td>-0.047415</td>\n",
       "      <td>True</td>\n",
       "      <td>chr1_172625478.0_T_C</td>\n",
       "      <td>rs12123755</td>\n",
       "    </tr>\n",
       "  </tbody>\n",
       "</table>\n",
       "</div>"
      ],
      "text/plain": [
       "  var.chr  var.pos_hg38 var.allele1 var.allele2  obs.Z_score_fixed  obs.Beta  \\\n",
       "0    chr2     199884843           A           G          -10.11000 -1.293180   \n",
       "1    chr2     200357680           A           T            3.48053  0.396164   \n",
       "2    chr2     200656660           T           C            5.07707  0.498759   \n",
       "3    chr1     172585461           A           G           11.41800  1.070820   \n",
       "4    chr1     172625478           C           T           -8.27532 -0.816922   \n",
       "\n",
       "   pred.chrombpnet.microglia.varscore.logfc  \\\n",
       "0                                  0.032774   \n",
       "1                                 -0.008075   \n",
       "2                                  0.003838   \n",
       "3                                  0.005939   \n",
       "4                                 -0.441283   \n",
       "\n",
       "   pred.chrombpnet.microglia.varscore.jsd  var.isused              var.rsid  \\\n",
       "0                                0.016354       False  chr2_199884843.0_G_A   \n",
       "1                               -0.009565       False  chr2_200357680.0_T_A   \n",
       "2                                0.004759       False  chr2_200656660.0_C_T   \n",
       "3                                0.004529       False  chr1_172585461.0_G_A   \n",
       "4                               -0.047415        True  chr1_172625478.0_T_C   \n",
       "\n",
       "  var.Top_SNP_perPeak  \n",
       "0            rs281785  \n",
       "1           rs2033804  \n",
       "2           rs2287012  \n",
       "3          rs10752994  \n",
       "4          rs12123755  "
      ]
     },
     "execution_count": 5,
     "metadata": {},
     "output_type": "execute_result"
    }
   ],
   "source": [
    "micros.head()\n"
   ]
  },
  {
   "cell_type": "code",
   "execution_count": 6,
   "metadata": {},
   "outputs": [],
   "source": [
    "micrs1 = micros[micros[\"var.isused\"]]"
   ]
  },
  {
   "cell_type": "code",
   "execution_count": 8,
   "metadata": {},
   "outputs": [
    {
     "data": {
      "text/html": [
       "<div>\n",
       "<style scoped>\n",
       "    .dataframe tbody tr th:only-of-type {\n",
       "        vertical-align: middle;\n",
       "    }\n",
       "\n",
       "    .dataframe tbody tr th {\n",
       "        vertical-align: top;\n",
       "    }\n",
       "\n",
       "    .dataframe thead th {\n",
       "        text-align: right;\n",
       "    }\n",
       "</style>\n",
       "<table border=\"1\" class=\"dataframe\">\n",
       "  <thead>\n",
       "    <tr style=\"text-align: right;\">\n",
       "      <th></th>\n",
       "      <th>var.chr</th>\n",
       "      <th>var.pos_hg38</th>\n",
       "      <th>var.allele1</th>\n",
       "      <th>var.allele2</th>\n",
       "      <th>obs.Z_score_fixed</th>\n",
       "      <th>obs.Beta</th>\n",
       "      <th>pred.chrombpnet.microglia.varscore.logfc</th>\n",
       "      <th>pred.chrombpnet.microglia.varscore.jsd</th>\n",
       "      <th>var.isused</th>\n",
       "      <th>var.rsid</th>\n",
       "      <th>var.Top_SNP_perPeak</th>\n",
       "    </tr>\n",
       "  </thead>\n",
       "  <tbody>\n",
       "    <tr>\n",
       "      <th>4</th>\n",
       "      <td>chr1</td>\n",
       "      <td>172625478</td>\n",
       "      <td>C</td>\n",
       "      <td>T</td>\n",
       "      <td>-8.27532</td>\n",
       "      <td>-0.816922</td>\n",
       "      <td>-0.441283</td>\n",
       "      <td>-0.047415</td>\n",
       "      <td>True</td>\n",
       "      <td>chr1_172625478.0_T_C</td>\n",
       "      <td>rs12123755</td>\n",
       "    </tr>\n",
       "    <tr>\n",
       "      <th>6</th>\n",
       "      <td>chr2</td>\n",
       "      <td>201661643</td>\n",
       "      <td>G</td>\n",
       "      <td>A</td>\n",
       "      <td>-10.48050</td>\n",
       "      <td>-1.123280</td>\n",
       "      <td>-0.428027</td>\n",
       "      <td>-0.032660</td>\n",
       "      <td>True</td>\n",
       "      <td>chr2_201661643.0_A_G</td>\n",
       "      <td>rs62193397</td>\n",
       "    </tr>\n",
       "    <tr>\n",
       "      <th>14</th>\n",
       "      <td>chr2</td>\n",
       "      <td>205546601</td>\n",
       "      <td>C</td>\n",
       "      <td>G</td>\n",
       "      <td>-5.55393</td>\n",
       "      <td>-0.572607</td>\n",
       "      <td>-0.077947</td>\n",
       "      <td>-0.009463</td>\n",
       "      <td>True</td>\n",
       "      <td>chr2_205546601.0_G_C</td>\n",
       "      <td>rs6435287</td>\n",
       "    </tr>\n",
       "    <tr>\n",
       "      <th>20</th>\n",
       "      <td>chr2</td>\n",
       "      <td>206246234</td>\n",
       "      <td>T</td>\n",
       "      <td>G</td>\n",
       "      <td>-6.87351</td>\n",
       "      <td>-1.080930</td>\n",
       "      <td>-0.189114</td>\n",
       "      <td>-0.060282</td>\n",
       "      <td>True</td>\n",
       "      <td>chr2_206246234.0_G_T</td>\n",
       "      <td>rs12373575</td>\n",
       "    </tr>\n",
       "    <tr>\n",
       "      <th>24</th>\n",
       "      <td>chr2</td>\n",
       "      <td>207619957</td>\n",
       "      <td>C</td>\n",
       "      <td>T</td>\n",
       "      <td>9.13315</td>\n",
       "      <td>1.238900</td>\n",
       "      <td>-0.027596</td>\n",
       "      <td>-0.041271</td>\n",
       "      <td>True</td>\n",
       "      <td>chr2_207619957.0_T_C</td>\n",
       "      <td>rs72958143</td>\n",
       "    </tr>\n",
       "  </tbody>\n",
       "</table>\n",
       "</div>"
      ],
      "text/plain": [
       "   var.chr  var.pos_hg38 var.allele1 var.allele2  obs.Z_score_fixed  obs.Beta  \\\n",
       "4     chr1     172625478           C           T           -8.27532 -0.816922   \n",
       "6     chr2     201661643           G           A          -10.48050 -1.123280   \n",
       "14    chr2     205546601           C           G           -5.55393 -0.572607   \n",
       "20    chr2     206246234           T           G           -6.87351 -1.080930   \n",
       "24    chr2     207619957           C           T            9.13315  1.238900   \n",
       "\n",
       "    pred.chrombpnet.microglia.varscore.logfc  \\\n",
       "4                                  -0.441283   \n",
       "6                                  -0.428027   \n",
       "14                                 -0.077947   \n",
       "20                                 -0.189114   \n",
       "24                                 -0.027596   \n",
       "\n",
       "    pred.chrombpnet.microglia.varscore.jsd  var.isused              var.rsid  \\\n",
       "4                                -0.047415        True  chr1_172625478.0_T_C   \n",
       "6                                -0.032660        True  chr2_201661643.0_A_G   \n",
       "14                               -0.009463        True  chr2_205546601.0_G_C   \n",
       "20                               -0.060282        True  chr2_206246234.0_G_T   \n",
       "24                               -0.041271        True  chr2_207619957.0_T_C   \n",
       "\n",
       "   var.Top_SNP_perPeak  \n",
       "4           rs12123755  \n",
       "6           rs62193397  \n",
       "14           rs6435287  \n",
       "20          rs12373575  \n",
       "24          rs72958143  "
      ]
     },
     "execution_count": 8,
     "metadata": {},
     "output_type": "execute_result"
    }
   ],
   "source": [
    "micrs1.head()"
   ]
  },
  {
   "cell_type": "code",
   "execution_count": 9,
   "metadata": {},
   "outputs": [
    {
     "data": {
      "text/plain": [
       "(877, 11)"
      ]
     },
     "execution_count": 9,
     "metadata": {},
     "output_type": "execute_result"
    }
   ],
   "source": [
    "micrs1.shape"
   ]
  },
  {
   "cell_type": "code",
   "execution_count": 18,
   "metadata": {},
   "outputs": [
    {
     "name": "stdout",
     "output_type": "stream",
     "text": [
      "(0.6027478876113515, 7.409904586626322e-88)\n",
      "(0.2689343015350444, 5.377511599377565e-16)\n"
     ]
    },
    {
     "data": {
      "image/png": "[encoded data removed]",
      "text/plain": [
       "<Figure size 432x360 with 1 Axes>"
      ]
     },
     "metadata": {
      "needs_background": "light"
     },
     "output_type": "display_data"
    }
   ],
   "source": [
    "import matplotlib\n",
    "\n",
    "\n",
    "matplotlib.rcParams['pdf.fonttype'] = 42\n",
    "matplotlib.rcParams['ps.fonttype'] = 42 \n",
    "\n",
    "import matplotlib.pyplot as plt\n",
    "import seaborn as sns\n",
    "import scipy.stats\n",
    "import numpy as np\n",
    "\n",
    "data = pd.DataFrame()\n",
    "data[\"logfc.mean\"] = micrs1[\"pred.chrombpnet.microglia.varscore.logfc\"]\n",
    "data[\"Beta\"] = micrs1[\"obs.Beta\"]\n",
    "\n",
    "plt.figure(figsize=(6,5))\n",
    "\n",
    "sns.kdeplot(\n",
    "    data=data,\n",
    "    x=\"Beta\",\n",
    "    y=\"logfc.mean\",\n",
    "    levels=5,\n",
    "    fill=False,\n",
    "    alpha=0.2,\n",
    "    color=\"grey\",\n",
    "    cut=2,\n",
    "\n",
    ")\n",
    "\n",
    "\n",
    "ax = sns.scatterplot(x=\"Beta\", y=\"logfc.mean\", data=data, s=5, color=\"#2da5ad\")\n",
    "sns.regplot(x=\"Beta\", y=\"logfc.mean\", data=data, scatter=False, ci=None, color=\"#2da5ad\")\n",
    "ax.spines[[\"top\", \"right\"]].set_visible(False)\n",
    "\n",
    "values = []\n",
    "\n",
    "atc_pear = scipy.stats.pearsonr(data[\"logfc.mean\"],data[\"Beta\"])\n",
    "print(atc_pear)\n",
    "values.append(atc_pear[0])\n",
    "ax.set_title(\"Pearsonr = \"+str(np.round(atc_pear[0],2)))\n",
    "\n",
    "atc_pear = scipy.stats.pearsonr(abs(data[\"logfc.mean\"]),abs(data[\"Beta\"]))\n",
    "values.append(atc_pear[0])\n",
    "\n",
    "print(atc_pear)\n",
    "#ax.set_title(\"Pearsonr = \"+str(np.round(atc_pear[0],2)))\n",
    "plt.savefig(\"subfigs/microglia_caqtls_scatter_plot.pdf\", transparent=True, dpi=300)\n"
   ]
  },
  {
   "cell_type": "code",
   "execution_count": 19,
   "metadata": {},
   "outputs": [
    {
     "data": {
      "text/plain": [
       "(877, 2)"
      ]
     },
     "execution_count": 19,
     "metadata": {},
     "output_type": "execute_result"
    }
   ],
   "source": [
    "data.shape"
   ]
  },
  {
   "cell_type": "code",
   "execution_count": 13,
   "metadata": {},
   "outputs": [],
   "source": [
    "import pandas as pd\n",
    "\n",
    "df = pd.DataFrame()\n",
    "\n",
    "\n",
    "values = []\n",
    "\n",
    "atac_pear = scipy.stats.pearsonr(micrs1[\"pred.chrombpnet.microglia.varscore.logfc\"],micrs1[\"obs.Beta\"])\n",
    "values.append(atac_pear[0])\n",
    "atac_pear = scipy.stats.pearsonr(micrs1[\"pred.chrombpnet.microglia.varscore.jsd\"],micrs1[\"obs.Beta\"])\n",
    "values.append(atac_pear[0])\n",
    "atac_pear = scipy.stats.pearsonr(abs(micrs1[\"pred.chrombpnet.microglia.varscore.logfc\"]),abs(micrs1[\"obs.Beta\"]))\n",
    "values.append(atac_pear[0])\n",
    "atac_pear = scipy.stats.pearsonr(abs(micrs1[\"pred.chrombpnet.microglia.varscore.jsd\"]),abs(micrs1[\"obs.Beta\"]))\n",
    "values.append(atac_pear[0])\n",
    "\n",
    "df[\"pearsonr\"] = values\n",
    "df[\"method\"] = [\"logfc-signed\", \"jsd-signed\",  \"logfc-unsigned\", \"jsd-unsigned\"]\n",
    "df[\"dtype\"] = [\"ATAC\"]*4"
   ]
  },
  {
   "cell_type": "code",
   "execution_count": 14,
   "metadata": {},
   "outputs": [
    {
     "name": "stdout",
     "output_type": "stream",
     "text": [
      "0    0.602748\n",
      "1    0.602144\n",
      "2    0.268934\n",
      "3    0.258195\n",
      "Name: pearsonr, dtype: float64\n"
     ]
    },
    {
     "data": {
      "image/png": "[encoded data removed]",
      "text/plain": [
       "<Figure size 936x432 with 1 Axes>"
      ]
     },
     "metadata": {
      "needs_background": "light"
     },
     "output_type": "display_data"
    }
   ],
   "source": [
    "import seaborn as sns\n",
    "import matplotlib\n",
    "plt.figure(figsize=(13,6))\n",
    "\n",
    "matplotlib.rcParams['pdf.fonttype'] = 42\n",
    "matplotlib.rcParams['ps.fonttype'] = 42 \n",
    "print(df[\"pearsonr\"])\n",
    "ax = sns.barplot(data=df, x=\"dtype\", y=\"pearsonr\", hue=\"method\")\n",
    "xtix = [\"ChromBPNet ATAC\"]\n",
    "ax.set_xticklabels(labels=xtix, rotation=90)\n",
    "ax.spines[[\"top\", \"right\"]].set_visible(False)\n",
    "ax.legend(loc=\"upper right\")\n",
    "\n",
    "plt.savefig(\"subfigs/microglia_caqtls_compare.pdf\", transparent=True, dpi=300)\n"
   ]
  },
  {
   "cell_type": "code",
   "execution_count": 16,
   "metadata": {},
   "outputs": [
    {
     "name": "stdout",
     "output_type": "stream",
     "text": [
      "(0.2713813904520899, 9.07335852756754e-85)\n",
      "(0.13150475156929783, 1.2028157383926722e-20)\n"
     ]
    },
    {
     "data": {
      "image/png": "[encoded data removed]",
      "text/plain": [
       "<Figure size 432x360 with 1 Axes>"
      ]
     },
     "metadata": {
      "needs_background": "light"
     },
     "output_type": "display_data"
    }
   ],
   "source": [
    "import matplotlib\n",
    "\n",
    "\n",
    "matplotlib.rcParams['pdf.fonttype'] = 42\n",
    "matplotlib.rcParams['ps.fonttype'] = 42 \n",
    "\n",
    "import matplotlib.pyplot as plt\n",
    "import seaborn as sns\n",
    "import scipy.stats\n",
    "import numpy as np\n",
    "\n",
    "data = pd.DataFrame()\n",
    "data[\"logfc.mean\"] = micros[\"pred.chrombpnet.microglia.varscore.logfc\"]\n",
    "data[\"Beta\"] = micros[\"obs.Beta\"]\n",
    "\n",
    "plt.figure(figsize=(6,5))\n",
    "\n",
    "sns.kdeplot(\n",
    "    data=data,\n",
    "    x=\"Beta\",\n",
    "    y=\"logfc.mean\",\n",
    "    levels=5,\n",
    "    fill=False,\n",
    "    alpha=0.2,\n",
    "    color=\"grey\",\n",
    "    cut=2,\n",
    "\n",
    ")\n",
    "\n",
    "\n",
    "ax = sns.scatterplot(x=\"Beta\", y=\"logfc.mean\", data=data, s=15, color=\"green\")\n",
    "sns.regplot(x=\"Beta\", y=\"logfc.mean\", data=data, scatter=False, ci=None, color=\"green\")\n",
    "ax.spines[[\"top\", \"right\"]].set_visible(False)\n",
    "\n",
    "atc_pear = scipy.stats.pearsonr(data[\"logfc.mean\"],data[\"Beta\"])\n",
    "print(atc_pear)\n",
    "ax.set_title(\"Pearsonr = \"+str(np.round(atc_pear[0],2)))\n",
    "\n",
    "atc_pear = scipy.stats.pearsonr(abs(data[\"logfc.mean\"]),abs(data[\"Beta\"]))\n",
    "print(atc_pear)\n",
    "#ax.set_title(\"Pearsonr = \"+str(np.round(atc_pear[0],2)))\n"
   ]
  },
  {
   "cell_type": "code",
   "execution_count": 17,
   "metadata": {},
   "outputs": [
    {
     "data": {
      "text/plain": [
       "(4978, 2)"
      ]
     },
     "execution_count": 17,
     "metadata": {},
     "output_type": "execute_result"
    }
   ],
   "source": [
    "data.shape"
   ]
  },
  {
   "cell_type": "code",
   "execution_count": null,
   "metadata": {},
   "outputs": [],
   "source": []
  },
  {
   "cell_type": "code",
   "execution_count": null,
   "metadata": {},
   "outputs": [],
   "source": []
  },
  {
   "cell_type": "code",
   "execution_count": null,
   "metadata": {},
   "outputs": [],
   "source": []
  },
  {
   "cell_type": "code",
   "execution_count": null,
   "metadata": {},
   "outputs": [],
   "source": []
  },
  {
   "cell_type": "code",
   "execution_count": null,
   "metadata": {},
   "outputs": [],
   "source": []
  },
  {
   "cell_type": "code",
   "execution_count": null,
   "metadata": {},
   "outputs": [],
   "source": []
  },
  {
   "cell_type": "code",
   "execution_count": null,
   "metadata": {},
   "outputs": [],
   "source": []
  },
  {
   "cell_type": "code",
   "execution_count": null,
   "metadata": {},
   "outputs": [],
   "source": []
  },
  {
   "cell_type": "code",
   "execution_count": null,
   "metadata": {},
   "outputs": [],
   "source": []
  }
 ],
 "metadata": {
  "kernelspec": {
   "display_name": "Python 3",
   "language": "python",
   "name": "python3"
  },
  "language_info": {
   "codemirror_mode": {
    "name": "ipython",
    "version": 3
   },
   "file_extension": ".py",
   "mimetype": "text/x-python",
   "name": "python",
   "nbconvert_exporter": "python",
   "pygments_lexer": "ipython3",
   "version": "3.7.6"
  }
 },
 "nbformat": 4,
 "nbformat_minor": 4
}
