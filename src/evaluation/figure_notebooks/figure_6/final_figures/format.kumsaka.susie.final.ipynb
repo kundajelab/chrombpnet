{
 "cells": [
  {
   "cell_type": "code",
   "execution_count": 1,
   "metadata": {},
   "outputs": [],
   "source": [
    "import pandas as pd"
   ]
  },
  {
   "cell_type": "code",
   "execution_count": 2,
   "metadata": {},
   "outputs": [],
   "source": [
    "merged_dataframe_n1 = pd.read_csv(\"local.eu.effects.tsv\",sep=\"\\t\", header=0)"
   ]
  },
  {
   "cell_type": "code",
   "execution_count": 3,
   "metadata": {},
   "outputs": [
    {
     "data": {
      "text/plain": [
       "Index(['molecular_trait_id', 'chromosome_x', 'position', 'ref', 'alt',\n",
       "       'variant', 'ma_samples', 'maf', 'pvalue', 'beta', 'se', 'type', 'ac',\n",
       "       'an', 'r2', 'molecular_trait_object_id', 'gene_id', 'median_tpm',\n",
       "       'rsid', 'position0', 'chromosome_y', 'gene_start', 'gene_end',\n",
       "       'phenotype_id'],\n",
       "      dtype='object')"
      ]
     },
     "execution_count": 3,
     "metadata": {},
     "output_type": "execute_result"
    }
   ],
   "source": [
    "merged_dataframe_n1.columns"
   ]
  },
  {
   "cell_type": "code",
   "execution_count": 4,
   "metadata": {},
   "outputs": [
    {
     "data": {
      "text/plain": [
       "(843015, 24)"
      ]
     },
     "execution_count": 4,
     "metadata": {},
     "output_type": "execute_result"
    }
   ],
   "source": [
    "merged_dataframe_n1.shape"
   ]
  },
  {
   "cell_type": "code",
   "execution_count": 5,
   "metadata": {},
   "outputs": [],
   "source": [
    "merged_dataframe_n2 = merged_dataframe_n1[['chromosome_x', 'position0', 'position', 'ref', 'alt', 'molecular_trait_id',\n",
    "       'variant', 'ma_samples', 'maf', 'pvalue', 'beta', 'se', 'type', 'ac',\n",
    "       'an', 'r2', 'molecular_trait_object_id', 'gene_id', 'median_tpm',\n",
    "       'rsid',  'gene_start', 'gene_end',\n",
    "       'phenotype_id']]"
   ]
  },
  {
   "cell_type": "code",
   "execution_count": 6,
   "metadata": {},
   "outputs": [
    {
     "name": "stderr",
     "output_type": "stream",
     "text": [
      "/users/anusri/anaconda3/lib/python3.7/site-packages/ipykernel_launcher.py:1: SettingWithCopyWarning: \n",
      "A value is trying to be set on a copy of a slice from a DataFrame.\n",
      "Try using .loc[row_indexer,col_indexer] = value instead\n",
      "\n",
      "See the caveats in the documentation: https://pandas.pydata.org/pandas-docs/stable/user_guide/indexing.html#returning-a-view-versus-a-copy\n",
      "  \"\"\"Entry point for launching an IPython kernel.\n"
     ]
    }
   ],
   "source": [
    "merged_dataframe_n2['chromosome_x'] = \"chr\"+merged_dataframe_n2['chromosome_x'].astype(str)"
   ]
  },
  {
   "cell_type": "code",
   "execution_count": 8,
   "metadata": {},
   "outputs": [
    {
     "data": {
      "text/plain": [
       "(843015, 23)"
      ]
     },
     "execution_count": 8,
     "metadata": {},
     "output_type": "execute_result"
    }
   ],
   "source": [
    "merged_dataframe_n2.shape"
   ]
  },
  {
   "cell_type": "code",
   "execution_count": 9,
   "metadata": {},
   "outputs": [
    {
     "name": "stdout",
     "output_type": "stream",
     "text": [
      "      0       1       2\n",
      "0  chr1   10024   10432\n",
      "1  chr1   29074   29455\n",
      "2  chr1  181106  181306\n",
      "3  chr1  183652  184006\n",
      "4  chr1  186816  187016\n"
     ]
    }
   ],
   "source": [
    "import pybedtools\n",
    "peaks_data_merged=pd.read_csv(\"/mnt/lab_data2/anusri/kumasaka/new_download/Kumasaka_2018_wgs/sumstats/merged.peaks.eu.top.50k.bed\", sep=\"\\t\", header=None)\n",
    "print(peaks_data_merged.head())\n",
    "beds_var = pybedtools.BedTool.from_dataframe(merged_dataframe_n2)\n",
    "peak_bed = pybedtools.BedTool.from_dataframe(peaks_data_merged) # this is a merged peaks file\n",
    "vars_in_bed = beds_var.intersect(peak_bed, c=True)"
   ]
  },
  {
   "cell_type": "code",
   "execution_count": 10,
   "metadata": {},
   "outputs": [],
   "source": [
    "vars_in_bedn = vars_in_bed.to_dataframe(names=merged_dataframe_n2.columns.tolist() + [\"count\"])\n"
   ]
  },
  {
   "cell_type": "code",
   "execution_count": 11,
   "metadata": {},
   "outputs": [],
   "source": [
    "vars_in_bedn2 = vars_in_bedn[vars_in_bedn[\"count\"]>0]"
   ]
  },
  {
   "cell_type": "code",
   "execution_count": 12,
   "metadata": {},
   "outputs": [
    {
     "data": {
      "text/plain": [
       "8385"
      ]
     },
     "execution_count": 12,
     "metadata": {},
     "output_type": "execute_result"
    }
   ],
   "source": [
    "sum(vars_in_bedn2[\"pvalue\"]<1e-7)"
   ]
  },
  {
   "cell_type": "code",
   "execution_count": 13,
   "metadata": {},
   "outputs": [
    {
     "data": {
      "text/plain": [
       "100211"
      ]
     },
     "execution_count": 13,
     "metadata": {},
     "output_type": "execute_result"
    }
   ],
   "source": [
    "sum(vars_in_bedn2[\"pvalue\"]>1e-2)"
   ]
  },
  {
   "cell_type": "code",
   "execution_count": 14,
   "metadata": {},
   "outputs": [
    {
     "data": {
      "text/plain": [
       "(130270, 24)"
      ]
     },
     "execution_count": 14,
     "metadata": {},
     "output_type": "execute_result"
    }
   ],
   "source": [
    "vars_in_bedn2.shape"
   ]
  },
  {
   "cell_type": "code",
   "execution_count": 15,
   "metadata": {},
   "outputs": [],
   "source": [
    "vars_in_bedn2 = vars_in_bedn2.drop_duplicates()"
   ]
  },
  {
   "cell_type": "code",
   "execution_count": 17,
   "metadata": {},
   "outputs": [
    {
     "data": {
      "text/plain": [
       "(130270, 24)"
      ]
     },
     "execution_count": 17,
     "metadata": {},
     "output_type": "execute_result"
    }
   ],
   "source": [
    "vars_in_bedn2.shape"
   ]
  },
  {
   "cell_type": "code",
   "execution_count": 24,
   "metadata": {},
   "outputs": [
    {
     "data": {
      "text/html": [
       "<div>\n",
       "<style scoped>\n",
       "    .dataframe tbody tr th:only-of-type {\n",
       "        vertical-align: middle;\n",
       "    }\n",
       "\n",
       "    .dataframe tbody tr th {\n",
       "        vertical-align: top;\n",
       "    }\n",
       "\n",
       "    .dataframe thead th {\n",
       "        text-align: right;\n",
       "    }\n",
       "</style>\n",
       "<table border=\"1\" class=\"dataframe\">\n",
       "  <thead>\n",
       "    <tr style=\"text-align: right;\">\n",
       "      <th></th>\n",
       "      <th>chromosome_x</th>\n",
       "      <th>position0</th>\n",
       "      <th>position</th>\n",
       "      <th>ref</th>\n",
       "      <th>alt</th>\n",
       "      <th>molecular_trait_id</th>\n",
       "      <th>variant</th>\n",
       "      <th>ma_samples</th>\n",
       "      <th>maf</th>\n",
       "      <th>pvalue</th>\n",
       "      <th>...</th>\n",
       "      <th>an</th>\n",
       "      <th>r2</th>\n",
       "      <th>molecular_trait_object_id</th>\n",
       "      <th>gene_id</th>\n",
       "      <th>median_tpm</th>\n",
       "      <th>rsid</th>\n",
       "      <th>gene_start</th>\n",
       "      <th>gene_end</th>\n",
       "      <th>phenotype_id</th>\n",
       "      <th>count</th>\n",
       "    </tr>\n",
       "  </thead>\n",
       "  <tbody>\n",
       "    <tr>\n",
       "      <th>1</th>\n",
       "      <td>chr1</td>\n",
       "      <td>29367</td>\n",
       "      <td>29368</td>\n",
       "      <td>G</td>\n",
       "      <td>A</td>\n",
       "      <td>Interval_2</td>\n",
       "      <td>chr1_29368_G_A</td>\n",
       "      <td>7</td>\n",
       "      <td>0.038462</td>\n",
       "      <td>0.162300</td>\n",
       "      <td>...</td>\n",
       "      <td>182</td>\n",
       "      <td>.</td>\n",
       "      <td>Interval_2</td>\n",
       "      <td>Interval_2</td>\n",
       "      <td>.</td>\n",
       "      <td>rs796745295</td>\n",
       "      <td>28924</td>\n",
       "      <td>29435</td>\n",
       "      <td>Interval_2</td>\n",
       "      <td>1</td>\n",
       "    </tr>\n",
       "    <tr>\n",
       "      <th>2</th>\n",
       "      <td>chr1</td>\n",
       "      <td>181112</td>\n",
       "      <td>181113</td>\n",
       "      <td>A</td>\n",
       "      <td>G</td>\n",
       "      <td>Interval_3</td>\n",
       "      <td>chr1_181113_A_G</td>\n",
       "      <td>75</td>\n",
       "      <td>0.412088</td>\n",
       "      <td>0.008885</td>\n",
       "      <td>...</td>\n",
       "      <td>182</td>\n",
       "      <td>.</td>\n",
       "      <td>Interval_3</td>\n",
       "      <td>Interval_3</td>\n",
       "      <td>.</td>\n",
       "      <td>rs1383295402</td>\n",
       "      <td>180749</td>\n",
       "      <td>181528</td>\n",
       "      <td>Interval_3</td>\n",
       "      <td>1</td>\n",
       "    </tr>\n",
       "    <tr>\n",
       "      <th>16</th>\n",
       "      <td>chr1</td>\n",
       "      <td>183667</td>\n",
       "      <td>183668</td>\n",
       "      <td>G</td>\n",
       "      <td>C</td>\n",
       "      <td>Interval_4</td>\n",
       "      <td>chr1_183668_G_C</td>\n",
       "      <td>9</td>\n",
       "      <td>0.049451</td>\n",
       "      <td>0.677535</td>\n",
       "      <td>...</td>\n",
       "      <td>182</td>\n",
       "      <td>.</td>\n",
       "      <td>Interval_4</td>\n",
       "      <td>Interval_4</td>\n",
       "      <td>.</td>\n",
       "      <td>rs1375358516</td>\n",
       "      <td>182645</td>\n",
       "      <td>184537</td>\n",
       "      <td>Interval_4</td>\n",
       "      <td>1</td>\n",
       "    </tr>\n",
       "    <tr>\n",
       "      <th>17</th>\n",
       "      <td>chr1</td>\n",
       "      <td>183855</td>\n",
       "      <td>183856</td>\n",
       "      <td>A</td>\n",
       "      <td>G</td>\n",
       "      <td>Interval_4</td>\n",
       "      <td>chr1_183856_A_G</td>\n",
       "      <td>7</td>\n",
       "      <td>0.038462</td>\n",
       "      <td>0.990356</td>\n",
       "      <td>...</td>\n",
       "      <td>182</td>\n",
       "      <td>.</td>\n",
       "      <td>Interval_4</td>\n",
       "      <td>Interval_4</td>\n",
       "      <td>.</td>\n",
       "      <td>rs1260198881</td>\n",
       "      <td>182645</td>\n",
       "      <td>184537</td>\n",
       "      <td>Interval_4</td>\n",
       "      <td>1</td>\n",
       "    </tr>\n",
       "    <tr>\n",
       "      <th>21</th>\n",
       "      <td>chr1</td>\n",
       "      <td>186834</td>\n",
       "      <td>186835</td>\n",
       "      <td>A</td>\n",
       "      <td>G</td>\n",
       "      <td>Interval_5</td>\n",
       "      <td>chr1_186835_A_G</td>\n",
       "      <td>77</td>\n",
       "      <td>0.423077</td>\n",
       "      <td>0.025945</td>\n",
       "      <td>...</td>\n",
       "      <td>182</td>\n",
       "      <td>.</td>\n",
       "      <td>Interval_5</td>\n",
       "      <td>Interval_5</td>\n",
       "      <td>.</td>\n",
       "      <td>rs1364805962</td>\n",
       "      <td>186367</td>\n",
       "      <td>187110</td>\n",
       "      <td>Interval_5</td>\n",
       "      <td>1</td>\n",
       "    </tr>\n",
       "  </tbody>\n",
       "</table>\n",
       "<p>5 rows × 24 columns</p>\n",
       "</div>"
      ],
      "text/plain": [
       "   chromosome_x  position0  position ref alt molecular_trait_id  \\\n",
       "1          chr1      29367     29368   G   A         Interval_2   \n",
       "2          chr1     181112    181113   A   G         Interval_3   \n",
       "16         chr1     183667    183668   G   C         Interval_4   \n",
       "17         chr1     183855    183856   A   G         Interval_4   \n",
       "21         chr1     186834    186835   A   G         Interval_5   \n",
       "\n",
       "            variant  ma_samples       maf    pvalue  ...   an  r2  \\\n",
       "1    chr1_29368_G_A           7  0.038462  0.162300  ...  182   .   \n",
       "2   chr1_181113_A_G          75  0.412088  0.008885  ...  182   .   \n",
       "16  chr1_183668_G_C           9  0.049451  0.677535  ...  182   .   \n",
       "17  chr1_183856_A_G           7  0.038462  0.990356  ...  182   .   \n",
       "21  chr1_186835_A_G          77  0.423077  0.025945  ...  182   .   \n",
       "\n",
       "   molecular_trait_object_id     gene_id  median_tpm          rsid gene_start  \\\n",
       "1                 Interval_2  Interval_2           .   rs796745295      28924   \n",
       "2                 Interval_3  Interval_3           .  rs1383295402     180749   \n",
       "16                Interval_4  Interval_4           .  rs1375358516     182645   \n",
       "17                Interval_4  Interval_4           .  rs1260198881     182645   \n",
       "21                Interval_5  Interval_5           .  rs1364805962     186367   \n",
       "\n",
       "   gene_end phenotype_id count  \n",
       "1     29435   Interval_2     1  \n",
       "2    181528   Interval_3     1  \n",
       "16   184537   Interval_4     1  \n",
       "17   184537   Interval_4     1  \n",
       "21   187110   Interval_5     1  \n",
       "\n",
       "[5 rows x 24 columns]"
      ]
     },
     "execution_count": 24,
     "metadata": {},
     "output_type": "execute_result"
    }
   ],
   "source": [
    "vars_in_bedn2.head(5)"
   ]
  },
  {
   "cell_type": "code",
   "execution_count": 25,
   "metadata": {},
   "outputs": [],
   "source": [
    "#vars_in_bedn2[[\"chromosome_x\", \"position\", \"ref\", \"alt\", \"variant\"]].to_csv(\"kumsaka.2018.kaur.scores.peak.filtered.bed\", sep='\\t', header=False, index=False)\n",
    "\n"
   ]
  },
  {
   "cell_type": "code",
   "execution_count": 26,
   "metadata": {},
   "outputs": [
    {
     "data": {
      "text/plain": [
       "130268"
      ]
     },
     "execution_count": 26,
     "metadata": {},
     "output_type": "execute_result"
    }
   ],
   "source": [
    "len(set(vars_in_bedn2[\"variant\"]))"
   ]
  },
  {
   "cell_type": "code",
   "execution_count": null,
   "metadata": {},
   "outputs": [],
   "source": []
  },
  {
   "cell_type": "code",
   "execution_count": 58,
   "metadata": {},
   "outputs": [],
   "source": [
    "atac_df = pd.read_csv(\"/mnt/lab_data2/anusri/variant-scorer/src/output/kaur_caqtls_lcl_latest/ATAC/summary.mean.variant_scores_new.tsv\", sep=\"\\t\", header=0)\n",
    "dnase_df = pd.read_csv(\"/mnt/lab_data2/anusri/variant-scorer/src/output/kaur_caqtls_lcl_latest/DNASE_NEW/summary.mean.variant_scores_new_3.tsv\", sep=\"\\t\", header=0)\n",
    "atac_df_50m = pd.read_csv(\"/mnt/lab_data2/anusri/variant-scorer/src/output/kaur_caqtls_lcl_latest/ATAC_50M/summary.mean.variant_scores_new.tsv\", sep=\"\\t\", header=0)\n",
    "\n"
   ]
  },
  {
   "cell_type": "code",
   "execution_count": 59,
   "metadata": {},
   "outputs": [
    {
     "data": {
      "text/plain": [
       "(130270, 23)"
      ]
     },
     "execution_count": 59,
     "metadata": {},
     "output_type": "execute_result"
    }
   ],
   "source": [
    "atac_df.shape"
   ]
  },
  {
   "cell_type": "code",
   "execution_count": 60,
   "metadata": {},
   "outputs": [
    {
     "data": {
      "text/plain": [
       "(130270, 23)"
      ]
     },
     "execution_count": 60,
     "metadata": {},
     "output_type": "execute_result"
    }
   ],
   "source": [
    "atac_df_50m.shape"
   ]
  },
  {
   "cell_type": "code",
   "execution_count": 61,
   "metadata": {},
   "outputs": [
    {
     "data": {
      "text/plain": [
       "(130270, 24)"
      ]
     },
     "execution_count": 61,
     "metadata": {},
     "output_type": "execute_result"
    }
   ],
   "source": [
    "dnase_df.shape"
   ]
  },
  {
   "cell_type": "code",
   "execution_count": 62,
   "metadata": {},
   "outputs": [
    {
     "data": {
      "text/plain": [
       "Index(['chr', 'pos', 'allele1', 'allele2', 'rsid', 'logfc.mean',\n",
       "       'abs_logfc.mean', 'abs_logfc.mean.pval', 'jsd.mean', 'jsd.mean.pval',\n",
       "       'logfc_x_jsd.mean', 'abs_logfc_x_jsd.mean', 'abs_logfc_x_jsd.mean.pval',\n",
       "       'max_percentile.mean', 'max_percentile.mean.pval',\n",
       "       'logfc_x_max_percentile.mean', 'abs_logfc_x_max_percentile.mean',\n",
       "       'abs_logfc_x_max_percentile.mean.pval', 'jsd_x_max_percentile.mean',\n",
       "       'jsd_x_max_percentile.mean.pval',\n",
       "       'abs_logfc_x_jsd_x_max_percentile.mean',\n",
       "       'abs_logfc_x_jsd_x_max_percentile.mean.pval',\n",
       "       'logfc_x_jsd_x_max_percentile.mean'],\n",
       "      dtype='object')"
      ]
     },
     "execution_count": 62,
     "metadata": {},
     "output_type": "execute_result"
    }
   ],
   "source": [
    "atac_df.columns"
   ]
  },
  {
   "cell_type": "code",
   "execution_count": 64,
   "metadata": {},
   "outputs": [],
   "source": [
    "merged_df = atac_df[['chr', 'pos', 'allele1', 'allele2', 'rsid']]"
   ]
  },
  {
   "cell_type": "code",
   "execution_count": 65,
   "metadata": {
    "scrolled": true
   },
   "outputs": [
    {
     "name": "stderr",
     "output_type": "stream",
     "text": [
      "/users/anusri/anaconda3/lib/python3.7/site-packages/ipykernel_launcher.py:1: SettingWithCopyWarning: \n",
      "A value is trying to be set on a copy of a slice from a DataFrame.\n",
      "Try using .loc[row_indexer,col_indexer] = value instead\n",
      "\n",
      "See the caveats in the documentation: https://pandas.pydata.org/pandas-docs/stable/user_guide/indexing.html#returning-a-view-versus-a-copy\n",
      "  \"\"\"Entry point for launching an IPython kernel.\n",
      "/users/anusri/anaconda3/lib/python3.7/site-packages/ipykernel_launcher.py:2: SettingWithCopyWarning: \n",
      "A value is trying to be set on a copy of a slice from a DataFrame.\n",
      "Try using .loc[row_indexer,col_indexer] = value instead\n",
      "\n",
      "See the caveats in the documentation: https://pandas.pydata.org/pandas-docs/stable/user_guide/indexing.html#returning-a-view-versus-a-copy\n",
      "  \n",
      "/users/anusri/anaconda3/lib/python3.7/site-packages/ipykernel_launcher.py:3: SettingWithCopyWarning: \n",
      "A value is trying to be set on a copy of a slice from a DataFrame.\n",
      "Try using .loc[row_indexer,col_indexer] = value instead\n",
      "\n",
      "See the caveats in the documentation: https://pandas.pydata.org/pandas-docs/stable/user_guide/indexing.html#returning-a-view-versus-a-copy\n",
      "  This is separate from the ipykernel package so we can avoid doing imports until\n",
      "/users/anusri/anaconda3/lib/python3.7/site-packages/ipykernel_launcher.py:4: SettingWithCopyWarning: \n",
      "A value is trying to be set on a copy of a slice from a DataFrame.\n",
      "Try using .loc[row_indexer,col_indexer] = value instead\n",
      "\n",
      "See the caveats in the documentation: https://pandas.pydata.org/pandas-docs/stable/user_guide/indexing.html#returning-a-view-versus-a-copy\n",
      "  after removing the cwd from sys.path.\n",
      "/users/anusri/anaconda3/lib/python3.7/site-packages/ipykernel_launcher.py:5: SettingWithCopyWarning: \n",
      "A value is trying to be set on a copy of a slice from a DataFrame.\n",
      "Try using .loc[row_indexer,col_indexer] = value instead\n",
      "\n",
      "See the caveats in the documentation: https://pandas.pydata.org/pandas-docs/stable/user_guide/indexing.html#returning-a-view-versus-a-copy\n",
      "  \"\"\"\n",
      "/users/anusri/anaconda3/lib/python3.7/site-packages/ipykernel_launcher.py:6: SettingWithCopyWarning: \n",
      "A value is trying to be set on a copy of a slice from a DataFrame.\n",
      "Try using .loc[row_indexer,col_indexer] = value instead\n",
      "\n",
      "See the caveats in the documentation: https://pandas.pydata.org/pandas-docs/stable/user_guide/indexing.html#returning-a-view-versus-a-copy\n",
      "  \n",
      "/users/anusri/anaconda3/lib/python3.7/site-packages/ipykernel_launcher.py:7: SettingWithCopyWarning: \n",
      "A value is trying to be set on a copy of a slice from a DataFrame.\n",
      "Try using .loc[row_indexer,col_indexer] = value instead\n",
      "\n",
      "See the caveats in the documentation: https://pandas.pydata.org/pandas-docs/stable/user_guide/indexing.html#returning-a-view-versus-a-copy\n",
      "  import sys\n",
      "/users/anusri/anaconda3/lib/python3.7/site-packages/ipykernel_launcher.py:8: SettingWithCopyWarning: \n",
      "A value is trying to be set on a copy of a slice from a DataFrame.\n",
      "Try using .loc[row_indexer,col_indexer] = value instead\n",
      "\n",
      "See the caveats in the documentation: https://pandas.pydata.org/pandas-docs/stable/user_guide/indexing.html#returning-a-view-versus-a-copy\n",
      "  \n",
      "/users/anusri/anaconda3/lib/python3.7/site-packages/ipykernel_launcher.py:9: SettingWithCopyWarning: \n",
      "A value is trying to be set on a copy of a slice from a DataFrame.\n",
      "Try using .loc[row_indexer,col_indexer] = value instead\n",
      "\n",
      "See the caveats in the documentation: https://pandas.pydata.org/pandas-docs/stable/user_guide/indexing.html#returning-a-view-versus-a-copy\n",
      "  if __name__ == '__main__':\n"
     ]
    }
   ],
   "source": [
    "merged_df[\"ATAC.572M.logfc.mean\"] = atac_df['logfc.mean']\n",
    "merged_df[\"ATAC.572M.jsd.mean\"] = atac_df['jsd.mean']\n",
    "merged_df[\"ATAC.572M.CRS\"] = atac_df['abs_logfc_x_jsd_x_max_percentile.mean']\n",
    "merged_df[\"ATAC.50M.logfc.mean\"] = atac_df_50m['logfc.mean']\n",
    "merged_df[\"ATAC.50M.jsd.mean\"] = atac_df_50m['jsd.mean']\n",
    "merged_df[\"ATAC.50M.CRS\"] = atac_df_50m['abs_logfc_x_jsd_x_max_percentile.mean']\n",
    "merged_df[\"DNASE.logfc.mean\"] = dnase_df['logfc.mean']\n",
    "merged_df[\"DNASE.jsd.mean\"] = dnase_df['jsd.mean']\n",
    "merged_df[\"DNASE.CRS\"] = dnase_df['abs_logfc_x_jsd_x_max_percentile.mean']\n",
    "\n",
    "\n"
   ]
  },
  {
   "cell_type": "code",
   "execution_count": 66,
   "metadata": {},
   "outputs": [],
   "source": [
    "import pickle as pkl\n",
    "import os\n",
    "import numpy as np\n",
    "\n",
    "mean_change=[]\n",
    "rsids=[]\n",
    "\n",
    "enf_dir=\"/mnt/lab_data2/anusri/variant-scorer/src/output/kaur_caqtls_lcl_latest/enformer_preds_small_window/splitss/\"\n",
    "for diri in [\"splitaa\", \"splitab\", \"splitac\", \"splitad\"]:\n",
    "    enformer_recompute = pkl.load(open(enf_dir+diri+\"predictions_at_snp.pkl\",'rb'))\n",
    "    for i in range(enformer_recompute[\"ref_logcount_preds\"].shape[0]):\n",
    "        mean_change.append(np.log2( (enformer_recompute[\"ref_logcount_preds\"][i,440:456].sum()+1) / (enformer_recompute[\"alt_logcount_preds\"][i,440:456].sum()+1)))\n",
    "        rsids.append(enformer_recompute[\"rsids\"][i])\n",
    "mean_change = np.array(mean_change)\n"
   ]
  },
  {
   "cell_type": "code",
   "execution_count": 67,
   "metadata": {},
   "outputs": [
    {
     "name": "stderr",
     "output_type": "stream",
     "text": [
      "/users/anusri/anaconda3/lib/python3.7/site-packages/ipykernel_launcher.py:1: SettingWithCopyWarning: \n",
      "A value is trying to be set on a copy of a slice from a DataFrame.\n",
      "Try using .loc[row_indexer,col_indexer] = value instead\n",
      "\n",
      "See the caveats in the documentation: https://pandas.pydata.org/pandas-docs/stable/user_guide/indexing.html#returning-a-view-versus-a-copy\n",
      "  \"\"\"Entry point for launching an IPython kernel.\n"
     ]
    }
   ],
   "source": [
    "merged_df[\"enformer_recomputed\"] = mean_change"
   ]
  },
  {
   "cell_type": "code",
   "execution_count": 68,
   "metadata": {},
   "outputs": [
    {
     "data": {
      "text/plain": [
       "130270"
      ]
     },
     "execution_count": 68,
     "metadata": {},
     "output_type": "execute_result"
    }
   ],
   "source": [
    "len(mean_change)"
   ]
  },
  {
   "cell_type": "code",
   "execution_count": 71,
   "metadata": {
    "scrolled": true
   },
   "outputs": [
    {
     "name": "stderr",
     "output_type": "stream",
     "text": [
      "/users/anusri/anaconda3/lib/python3.7/site-packages/ipykernel_launcher.py:2: SettingWithCopyWarning: \n",
      "A value is trying to be set on a copy of a slice from a DataFrame.\n",
      "Try using .loc[row_indexer,col_indexer] = value instead\n",
      "\n",
      "See the caveats in the documentation: https://pandas.pydata.org/pandas-docs/stable/user_guide/indexing.html#returning-a-view-versus-a-copy\n",
      "  \n",
      "/users/anusri/anaconda3/lib/python3.7/site-packages/ipykernel_launcher.py:3: SettingWithCopyWarning: \n",
      "A value is trying to be set on a copy of a slice from a DataFrame.\n",
      "Try using .loc[row_indexer,col_indexer] = value instead\n",
      "\n",
      "See the caveats in the documentation: https://pandas.pydata.org/pandas-docs/stable/user_guide/indexing.html#returning-a-view-versus-a-copy\n",
      "  This is separate from the ipykernel package so we can avoid doing imports until\n"
     ]
    }
   ],
   "source": [
    "newdf = vars_in_bedn2.reset_index()\n",
    "merged_df[\"pvalue\"] =newdf[\"pvalue\"]\n",
    "merged_df[\"beta\"] =newdf[\"beta\"]"
   ]
  },
  {
   "cell_type": "code",
   "execution_count": 73,
   "metadata": {},
   "outputs": [],
   "source": [
    "\n",
    "enf_preds = pd.read_csv(\"/mnt/lab_data2/anusri/enformer/kaur_eu_caqtls/enformer_predictions.tsv\", sep=\"\\t\", header=0)"
   ]
  },
  {
   "cell_type": "code",
   "execution_count": 74,
   "metadata": {},
   "outputs": [
    {
     "data": {
      "text/html": [
       "<div>\n",
       "<style scoped>\n",
       "    .dataframe tbody tr th:only-of-type {\n",
       "        vertical-align: middle;\n",
       "    }\n",
       "\n",
       "    .dataframe tbody tr th {\n",
       "        vertical-align: top;\n",
       "    }\n",
       "\n",
       "    .dataframe thead th {\n",
       "        text-align: right;\n",
       "    }\n",
       "</style>\n",
       "<table border=\"1\" class=\"dataframe\">\n",
       "  <thead>\n",
       "    <tr style=\"text-align: right;\">\n",
       "      <th></th>\n",
       "      <th>chr</th>\n",
       "      <th>pos</th>\n",
       "      <th>ref</th>\n",
       "      <th>alt</th>\n",
       "      <th>rsid</th>\n",
       "      <th>DNASE_SAD</th>\n",
       "      <th>DNASE_SAR</th>\n",
       "    </tr>\n",
       "  </thead>\n",
       "  <tbody>\n",
       "    <tr>\n",
       "      <th>0</th>\n",
       "      <td>chr1</td>\n",
       "      <td>740285</td>\n",
       "      <td>G</td>\n",
       "      <td>A</td>\n",
       "      <td>rs193160839</td>\n",
       "      <td>-0.002522</td>\n",
       "      <td>-0.003365</td>\n",
       "    </tr>\n",
       "  </tbody>\n",
       "</table>\n",
       "</div>"
      ],
      "text/plain": [
       "    chr     pos ref alt         rsid  DNASE_SAD  DNASE_SAR\n",
       "0  chr1  740285   G   A  rs193160839  -0.002522  -0.003365"
      ]
     },
     "execution_count": 74,
     "metadata": {},
     "output_type": "execute_result"
    }
   ],
   "source": [
    "enf_preds.head(1)"
   ]
  },
  {
   "cell_type": "code",
   "execution_count": 76,
   "metadata": {},
   "outputs": [
    {
     "data": {
      "text/plain": [
       "(126606, 7)"
      ]
     },
     "execution_count": 76,
     "metadata": {},
     "output_type": "execute_result"
    }
   ],
   "source": [
    "enf_preds.shape"
   ]
  },
  {
   "cell_type": "code",
   "execution_count": 78,
   "metadata": {},
   "outputs": [
    {
     "data": {
      "text/plain": [
       "Index(['chr', 'pos', 'ref', 'alt', 'rsid', 'DNASE_SAD', 'DNASE_SAR'], dtype='object')"
      ]
     },
     "execution_count": 78,
     "metadata": {},
     "output_type": "execute_result"
    }
   ],
   "source": [
    "enf_preds.columns\n"
   ]
  },
  {
   "cell_type": "code",
   "execution_count": 79,
   "metadata": {},
   "outputs": [
    {
     "data": {
      "text/plain": [
       "Index(['chr', 'pos', 'allele1', 'allele2', 'rsid', 'ATAC.572M.logfc.mean',\n",
       "       'ATAC.572M.jsd.mean', 'ATAC.572M.CRS', 'ATAC.50M.logfc.mean',\n",
       "       'ATAC.50M.jsd.mean', 'ATAC.50M.CRS', 'DNASE.logfc.mean',\n",
       "       'DNASE.jsd.mean', 'DNASE.CRS', 'enformer_recomputed', 'pvalue', 'beta'],\n",
       "      dtype='object')"
      ]
     },
     "execution_count": 79,
     "metadata": {},
     "output_type": "execute_result"
    }
   ],
   "source": [
    "merged_df.columns"
   ]
  },
  {
   "cell_type": "code",
   "execution_count": 91,
   "metadata": {},
   "outputs": [
    {
     "name": "stderr",
     "output_type": "stream",
     "text": [
      "/users/anusri/anaconda3/lib/python3.7/site-packages/ipykernel_launcher.py:1: SettingWithCopyWarning: \n",
      "A value is trying to be set on a copy of a slice from a DataFrame.\n",
      "Try using .loc[row_indexer,col_indexer] = value instead\n",
      "\n",
      "See the caveats in the documentation: https://pandas.pydata.org/pandas-docs/stable/user_guide/indexing.html#returning-a-view-versus-a-copy\n",
      "  \"\"\"Entry point for launching an IPython kernel.\n"
     ]
    }
   ],
   "source": [
    "merged_df[\"dbsnp_rsdi\"] = vars_in_bedn2.reset_index()[\"rsid\"]\n",
    "#merged_df"
   ]
  },
  {
   "cell_type": "code",
   "execution_count": 103,
   "metadata": {},
   "outputs": [
    {
     "data": {
      "text/html": [
       "<div>\n",
       "<style scoped>\n",
       "    .dataframe tbody tr th:only-of-type {\n",
       "        vertical-align: middle;\n",
       "    }\n",
       "\n",
       "    .dataframe tbody tr th {\n",
       "        vertical-align: top;\n",
       "    }\n",
       "\n",
       "    .dataframe thead th {\n",
       "        text-align: right;\n",
       "    }\n",
       "</style>\n",
       "<table border=\"1\" class=\"dataframe\">\n",
       "  <thead>\n",
       "    <tr style=\"text-align: right;\">\n",
       "      <th></th>\n",
       "      <th>chr</th>\n",
       "      <th>pos</th>\n",
       "      <th>allele2</th>\n",
       "      <th>allele1</th>\n",
       "      <th>dbsnp_rsdi</th>\n",
       "    </tr>\n",
       "  </thead>\n",
       "  <tbody>\n",
       "    <tr>\n",
       "      <th>10</th>\n",
       "      <td>chr1</td>\n",
       "      <td>804905</td>\n",
       "      <td>A</td>\n",
       "      <td>G</td>\n",
       "      <td>rs193160839</td>\n",
       "    </tr>\n",
       "  </tbody>\n",
       "</table>\n",
       "</div>"
      ],
      "text/plain": [
       "     chr     pos allele2 allele1   dbsnp_rsdi\n",
       "10  chr1  804905       A       G  rs193160839"
      ]
     },
     "execution_count": 103,
     "metadata": {},
     "output_type": "execute_result"
    }
   ],
   "source": [
    "temp1 = merged_df[['chr', 'pos', 'allele2', 'allele1', 'dbsnp_rsdi']].sort_values('dbsnp_rsdi')\n",
    "temp1[temp1[\"dbsnp_rsdi\"]==\"rs193160839\"]"
   ]
  },
  {
   "cell_type": "code",
   "execution_count": 101,
   "metadata": {},
   "outputs": [
    {
     "data": {
      "text/html": [
       "<div>\n",
       "<style scoped>\n",
       "    .dataframe tbody tr th:only-of-type {\n",
       "        vertical-align: middle;\n",
       "    }\n",
       "\n",
       "    .dataframe tbody tr th {\n",
       "        vertical-align: top;\n",
       "    }\n",
       "\n",
       "    .dataframe thead th {\n",
       "        text-align: right;\n",
       "    }\n",
       "</style>\n",
       "<table border=\"1\" class=\"dataframe\">\n",
       "  <thead>\n",
       "    <tr style=\"text-align: right;\">\n",
       "      <th></th>\n",
       "      <th>chr</th>\n",
       "      <th>pos</th>\n",
       "      <th>ref</th>\n",
       "      <th>alt</th>\n",
       "      <th>rsid</th>\n",
       "    </tr>\n",
       "  </thead>\n",
       "  <tbody>\n",
       "    <tr>\n",
       "      <th>0</th>\n",
       "      <td>chr1</td>\n",
       "      <td>740285</td>\n",
       "      <td>G</td>\n",
       "      <td>A</td>\n",
       "      <td>rs193160839</td>\n",
       "    </tr>\n",
       "  </tbody>\n",
       "</table>\n",
       "</div>"
      ],
      "text/plain": [
       "    chr     pos ref alt         rsid\n",
       "0  chr1  740285   G   A  rs193160839"
      ]
     },
     "execution_count": 101,
     "metadata": {},
     "output_type": "execute_result"
    }
   ],
   "source": [
    "temp1 = enf_preds[['chr', 'pos', 'ref', 'alt', 'rsid']]\n",
    "temp1[temp1[\"rsid\"]==\"rs193160839\"]"
   ]
  },
  {
   "cell_type": "code",
   "execution_count": null,
   "metadata": {},
   "outputs": [],
   "source": []
  },
  {
   "cell_type": "code",
   "execution_count": 115,
   "metadata": {},
   "outputs": [],
   "source": [
    "merged_df1 = merged_df.merge(enf_preds, right_on=['chr', 'ref', 'alt', 'rsid'], left_on=['chr', 'allele2', 'allele1', 'dbsnp_rsdi'], how=\"inner\")\n",
    "merged_df1[\"DNASE_SAD\"] = merged_df1[\"DNASE_SAD\"]*-1\n",
    "merged_df1[\"DNASE_SAR\"] = merged_df1[\"DNASE_SAR\"]*-1\n",
    "merged_df2 = merged_df.merge(enf_preds, right_on=['chr', 'ref', 'alt', 'rsid'], left_on=['chr', 'allele1', 'allele2', 'dbsnp_rsdi'], how=\"inner\")\n",
    "\n",
    "merged_df_f = pd.concat([merged_df1, merged_df2]).drop_duplicates(['chr', 'pos_x', 'allele1', 'allele2', 'rsid_x'])\n"
   ]
  },
  {
   "cell_type": "code",
   "execution_count": 117,
   "metadata": {},
   "outputs": [
    {
     "data": {
      "text/plain": [
       "Index(['chr', 'pos_x', 'allele1', 'allele2', 'rsid_x', 'ATAC.572M.logfc.mean',\n",
       "       'ATAC.572M.jsd.mean', 'ATAC.572M.CRS', 'ATAC.50M.logfc.mean',\n",
       "       'ATAC.50M.jsd.mean', 'ATAC.50M.CRS', 'DNASE.logfc.mean',\n",
       "       'DNASE.jsd.mean', 'DNASE.CRS', 'enformer_recomputed', 'pvalue', 'beta',\n",
       "       'dbsnp_rsdi', 'pos_y', 'ref', 'alt', 'rsid_y', 'DNASE_SAD',\n",
       "       'DNASE_SAR'],\n",
       "      dtype='object')"
      ]
     },
     "execution_count": 117,
     "metadata": {},
     "output_type": "execute_result"
    }
   ],
   "source": [
    "merged_df_f.columns"
   ]
  },
  {
   "cell_type": "code",
   "execution_count": 118,
   "metadata": {},
   "outputs": [
    {
     "data": {
      "text/plain": [
       "(125682, 24)"
      ]
     },
     "execution_count": 118,
     "metadata": {},
     "output_type": "execute_result"
    }
   ],
   "source": [
    "merged_df_f.shape"
   ]
  },
  {
   "cell_type": "code",
   "execution_count": 119,
   "metadata": {},
   "outputs": [],
   "source": [
    "merged_df_f.to_csv(\"kaur.caqtls.tsv\", sep=\"\\t\", header=True, index=False)"
   ]
  },
  {
   "cell_type": "code",
   "execution_count": 50,
   "metadata": {},
   "outputs": [
    {
     "data": {
      "text/plain": [
       "(130270, 24)"
      ]
     },
     "execution_count": 50,
     "metadata": {},
     "output_type": "execute_result"
    }
   ],
   "source": [
    "vars_in_bedn2.shape"
   ]
  },
  {
   "cell_type": "code",
   "execution_count": 52,
   "metadata": {},
   "outputs": [
    {
     "data": {
      "text/plain": [
       "Index(['chromosome_x', 'position0', 'position', 'ref', 'alt',\n",
       "       'molecular_trait_id', 'variant', 'ma_samples', 'maf', 'pvalue', 'beta',\n",
       "       'se', 'type', 'ac', 'an', 'r2', 'molecular_trait_object_id', 'gene_id',\n",
       "       'median_tpm', 'rsid', 'gene_start', 'gene_end', 'phenotype_id',\n",
       "       'count'],\n",
       "      dtype='object')"
      ]
     },
     "execution_count": 52,
     "metadata": {},
     "output_type": "execute_result"
    }
   ],
   "source": [
    "vars_in_bedn2.columns"
   ]
  },
  {
   "cell_type": "code",
   "execution_count": 53,
   "metadata": {},
   "outputs": [
    {
     "data": {
      "text/html": [
       "<div>\n",
       "<style scoped>\n",
       "    .dataframe tbody tr th:only-of-type {\n",
       "        vertical-align: middle;\n",
       "    }\n",
       "\n",
       "    .dataframe tbody tr th {\n",
       "        vertical-align: top;\n",
       "    }\n",
       "\n",
       "    .dataframe thead th {\n",
       "        text-align: right;\n",
       "    }\n",
       "</style>\n",
       "<table border=\"1\" class=\"dataframe\">\n",
       "  <thead>\n",
       "    <tr style=\"text-align: right;\">\n",
       "      <th></th>\n",
       "      <th>chromosome_x</th>\n",
       "      <th>position0</th>\n",
       "      <th>position</th>\n",
       "      <th>ref</th>\n",
       "      <th>alt</th>\n",
       "      <th>molecular_trait_id</th>\n",
       "      <th>variant</th>\n",
       "      <th>ma_samples</th>\n",
       "      <th>maf</th>\n",
       "      <th>pvalue</th>\n",
       "      <th>...</th>\n",
       "      <th>an</th>\n",
       "      <th>r2</th>\n",
       "      <th>molecular_trait_object_id</th>\n",
       "      <th>gene_id</th>\n",
       "      <th>median_tpm</th>\n",
       "      <th>rsid</th>\n",
       "      <th>gene_start</th>\n",
       "      <th>gene_end</th>\n",
       "      <th>phenotype_id</th>\n",
       "      <th>count</th>\n",
       "    </tr>\n",
       "  </thead>\n",
       "  <tbody>\n",
       "    <tr>\n",
       "      <th>1</th>\n",
       "      <td>chr1</td>\n",
       "      <td>29367</td>\n",
       "      <td>29368</td>\n",
       "      <td>G</td>\n",
       "      <td>A</td>\n",
       "      <td>Interval_2</td>\n",
       "      <td>chr1_29368_G_A</td>\n",
       "      <td>7</td>\n",
       "      <td>0.038462</td>\n",
       "      <td>0.1623</td>\n",
       "      <td>...</td>\n",
       "      <td>182</td>\n",
       "      <td>.</td>\n",
       "      <td>Interval_2</td>\n",
       "      <td>Interval_2</td>\n",
       "      <td>.</td>\n",
       "      <td>rs796745295</td>\n",
       "      <td>28924</td>\n",
       "      <td>29435</td>\n",
       "      <td>Interval_2</td>\n",
       "      <td>1</td>\n",
       "    </tr>\n",
       "  </tbody>\n",
       "</table>\n",
       "<p>1 rows × 24 columns</p>\n",
       "</div>"
      ],
      "text/plain": [
       "  chromosome_x  position0  position ref alt molecular_trait_id  \\\n",
       "1         chr1      29367     29368   G   A         Interval_2   \n",
       "\n",
       "          variant  ma_samples       maf  pvalue  ...   an  r2  \\\n",
       "1  chr1_29368_G_A           7  0.038462  0.1623  ...  182   .   \n",
       "\n",
       "  molecular_trait_object_id     gene_id  median_tpm         rsid gene_start  \\\n",
       "1                Interval_2  Interval_2           .  rs796745295      28924   \n",
       "\n",
       "  gene_end phenotype_id count  \n",
       "1    29435   Interval_2     1  \n",
       "\n",
       "[1 rows x 24 columns]"
      ]
     },
     "execution_count": 53,
     "metadata": {},
     "output_type": "execute_result"
    }
   ],
   "source": [
    "vars_in_bedn2.head(1)"
   ]
  },
  {
   "cell_type": "code",
   "execution_count": 54,
   "metadata": {},
   "outputs": [],
   "source": [
    "#vars_in_bedn2[['chromosome_x', 'position', 'ref', 'alt', 'variant', 'rsid']].to_csv(\"/mnt/lab_data2/anusri/enformer/kaur_eu_caqtls/rsids.txt\", sep='\\t', header=False, index=False)\n",
    "                                                                   "
   ]
  },
  {
   "cell_type": "code",
   "execution_count": null,
   "metadata": {},
   "outputs": [],
   "source": []
  }
 ],
 "metadata": {
  "kernelspec": {
   "display_name": "Python 3",
   "language": "python",
   "name": "python3"
  },
  "language_info": {
   "codemirror_mode": {
    "name": "ipython",
    "version": 3
   },
   "file_extension": ".py",
   "mimetype": "text/x-python",
   "name": "python",
   "nbconvert_exporter": "python",
   "pygments_lexer": "ipython3",
   "version": "3.7.6"
  }
 },
 "nbformat": 4,
 "nbformat_minor": 4
}
