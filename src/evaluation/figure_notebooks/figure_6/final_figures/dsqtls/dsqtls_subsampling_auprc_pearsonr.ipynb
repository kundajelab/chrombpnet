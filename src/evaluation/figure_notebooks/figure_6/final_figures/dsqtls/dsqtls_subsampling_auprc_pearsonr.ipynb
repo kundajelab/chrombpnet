{
 "cells": [
  {
   "cell_type": "code",
   "execution_count": 61,
   "metadata": {},
   "outputs": [
    {
     "name": "stdout",
     "output_type": "stream",
     "text": [
      "(28309, 18)\n"
     ]
    }
   ],
   "source": [
    "import pandas as pd\n",
    "from sklearn.metrics import roc_curve\n",
    "from sklearn.metrics import RocCurveDisplay\n",
    "import pandas as pd\n",
    "import numpy as np\n",
    "from sklearn import metrics\n",
    "import matplotlib\n",
    "import random\n",
    "import os\n",
    "import argparse\n",
    "from sklearn.metrics import precision_recall_curve\n",
    "import scipy.stats\n",
    "from sklearn.decomposition import PCA\n",
    "from sklearn.preprocessing import StandardScaler\n",
    "import scipy.stats\n",
    "import matplotlib.pyplot as plt\n",
    "\n",
    "matplotlib.rcParams['pdf.fonttype'] = 42\n",
    "matplotlib.rcParams['ps.fonttype'] = 42 \n",
    "\n",
    "dnase_preds=\"ENCSR000EMT.DNASE.GM12878.fold.mean.scores.tsv\"\n",
    "atac_preds=\"ENCSR637XSC.ATAC.GM12878.fold.mean.scores.tsv\"\n",
    "atac_preds_250m=\"ENCSR637XSC.250M.ATAC.GM12878.fold.mean.scores.tsv\"\n",
    "atac_preds_100m=\"ENCSR637XSC.100M.ATAC.GM12878.fold.mean.scores.tsv\"\n",
    "atac_preds_50m=\"ENCSR637XSC.50M.ATAC.GM12878.fold.mean.scores.tsv\"\n",
    "atac_preds_25m=\"ENCSR637XSC.25M.ATAC.GM12878.fold.mean.scores.tsv\"\n",
    "atac_preds_5m=\"ENCSR637XSC.5M.ATAC.GM12878.fold.mean.scores.tsv\"\n",
    "gkm_svm = pd.read_csv(\"41588_2015_BFng3331_MOESM26_ESM.csv\",header=0,sep=',')\n",
    "print(gkm_svm.shape)\n",
    "es = pd.read_csv(\"GSE31388_dsQtlTable.txt\", sep=\"\\t\")\n",
    "es.head()\n",
    "es[\"rsid\"] = es[\"Chr\"]+\".\"+es[\"SNP\"].astype(str)\n",
    "\n",
    "### get effect sizes for positive labels\n",
    "\n",
    "gkm_svm = gkm_svm.merge(es, left_on=[\"SNPname1\"], right_on='rsid', how=\"left\").drop_duplicates('SNPname1')\n"
   ]
  },
  {
   "cell_type": "code",
   "execution_count": 63,
   "metadata": {},
   "outputs": [
    {
     "data": {
      "text/plain": [
       "Index(['chrom_hg18', 'pos_hg18', 'SNPname1', 'chrom_hg19', 'pos_hg19',\n",
       "       'SNPname2', 'allele1', 'allele2', 'gkm_SVM', 'kmer_SVM', 'abs_gkm_SVM',\n",
       "       'abs_kmer_SVM', 'CADD', 'GWAVA_region', 'GWAVA_tss', 'GWAVA_unmatched',\n",
       "       'GERP', 'label', 'Chr', 'Start', 'End', 'SNP', 'Estimate', 'Std. Error',\n",
       "       't value', 'Pr(>|t|)', 'rsid'],\n",
       "      dtype='object')"
      ]
     },
     "execution_count": 63,
     "metadata": {},
     "output_type": "execute_result"
    }
   ],
   "source": [
    "gkm_svm.columns"
   ]
  },
  {
   "cell_type": "code",
   "execution_count": 64,
   "metadata": {},
   "outputs": [
    {
     "name": "stdout",
     "output_type": "stream",
     "text": [
      "(28309, 27)\n",
      "(6070, 9)\n",
      "574\n"
     ]
    }
   ],
   "source": [
    "print(gkm_svm.shape)\n",
    "print(es.shape)\n",
    "print(sum(gkm_svm[\"label\"]==1))"
   ]
  },
  {
   "cell_type": "markdown",
   "metadata": {},
   "source": [
    "# Enformer pearsonr (subset to enformer set)"
   ]
  },
  {
   "cell_type": "code",
   "execution_count": 68,
   "metadata": {},
   "outputs": [
    {
     "name": "stdout",
     "output_type": "stream",
     "text": [
      "(0.5549551237929846, 1.5010306000678956e-46)\n",
      "(0.5631287804191751, 3.62503784193437e-48)\n",
      "(560,)\n",
      "0.5631287804191751\n"
     ]
    }
   ],
   "source": [
    "enformer_ids = pd.read_csv(\"enformer_predictions.tsv\", sep=\"\\t\", header=0)\n",
    "\n",
    "merged_enf_1 = enformer_ids.merge(gkm_svm, left_on=[\"rsid\", \"chr\", \"pos\", \"ref\", \"alt\"], right_on=[\"SNPname2\", \"chrom_hg19\", \"pos_hg19\", \"allele2\", \"allele1\"])\n",
    "merged_enf_2 = enformer_ids.merge(gkm_svm, left_on=[\"rsid\", \"chr\", \"pos\", \"ref\", \"alt\"], right_on=[\"SNPname2\", \"chrom_hg19\", \"pos_hg19\", \"allele1\", \"allele2\"])\n",
    "merged_enf_2[\"DNASE_SAD\"] = merged_enf_2[\"DNASE_SAD\"]*-1\n",
    "merged_enf_2[\"DNASE_SAR\"] = merged_enf_2[\"DNASE_SAR\"]*-1\n",
    "\n",
    "merged_enf = pd.concat([merged_enf_1, merged_enf_2]).drop_duplicates()\n",
    "\n",
    "print(scipy.stats.pearsonr(merged_enf[\"DNASE_SAD\"][merged_enf[\"label\"]==1],merged_enf[\"Estimate\"][merged_enf[\"label\"]==1]))\n",
    "print(scipy.stats.pearsonr(merged_enf[\"DNASE_SAR\"][merged_enf[\"label\"]==1],merged_enf[\"Estimate\"][merged_enf[\"label\"]==1]))\n",
    "\n",
    "print(merged_enf[\"DNASE_SAD\"][merged_enf[\"label\"]==1].shape)\n",
    "rsid_samples = merged_enf[\"rsid_x\"].unique()\n",
    "gkm_svm_sub = gkm_svm[gkm_svm[\"SNPname2\"].isin(rsid_samples)]\n",
    "\n",
    "enformer_perf = np.max([scipy.stats.pearsonr(merged_enf[\"DNASE_SAD\"][merged_enf[\"label\"]==1],merged_enf[\"Estimate\"][merged_enf[\"label\"]==1])[0],\n",
    "                       scipy.stats.pearsonr(merged_enf[\"DNASE_SAR\"][merged_enf[\"label\"]==1],merged_enf[\"Estimate\"][merged_enf[\"label\"]==1])[0]])\n",
    "print(enformer_perf)"
   ]
  },
  {
   "cell_type": "code",
   "execution_count": 69,
   "metadata": {},
   "outputs": [
    {
     "name": "stdout",
     "output_type": "stream",
     "text": [
      "(27373, 27)\n",
      "560\n"
     ]
    }
   ],
   "source": [
    "print(gkm_svm_sub.shape)\n",
    "print(sum(gkm_svm_sub[\"label\"]==1))"
   ]
  },
  {
   "cell_type": "markdown",
   "metadata": {},
   "source": [
    "# DeltaSVM pearsonr"
   ]
  },
  {
   "cell_type": "code",
   "execution_count": 103,
   "metadata": {},
   "outputs": [
    {
     "name": "stdout",
     "output_type": "stream",
     "text": [
      "(0.7318756523100427, 5.1915505043409464e-95)\n",
      "0.7318756523100427\n"
     ]
    }
   ],
   "source": [
    "print(scipy.stats.pearsonr(merged_enf[\"gkm_SVM\"][merged_enf[\"label\"]==1],merged_enf[\"Estimate\"][merged_enf[\"label\"]==1]))\n",
    "\n",
    "delta_svm_perf = scipy.stats.pearsonr(merged_enf[\"gkm_SVM\"][merged_enf[\"label\"]==1],merged_enf[\"Estimate\"][merged_enf[\"label\"]==1])[0]\n",
    "\n",
    "print(delta_svm_perf)\n"
   ]
  },
  {
   "cell_type": "code",
   "execution_count": 104,
   "metadata": {},
   "outputs": [
    {
     "data": {
      "text/plain": [
       "Index(['chr', 'pos', 'allele1', 'allele2', 'rsid_x', 'logfc.mean',\n",
       "       'abs_logfc.mean', 'abs_logfc.mean.pval', 'jsd.mean', 'jsd.mean.pval',\n",
       "       'logfc_x_jsd.mean', 'log_prob_log2s.mean', 'abs_logfc_x_jsd.mean',\n",
       "       'abs_logfc_x_jsd.mean.pval', 'max_percentile.mean',\n",
       "       'max_percentile.mean.pval', 'logfc_x_max_percentile.mean',\n",
       "       'abs_logfc_x_max_percentile.mean',\n",
       "       'abs_logfc_x_max_percentile.mean.pval', 'jsd_x_max_percentile.mean',\n",
       "       'jsd_x_max_percentile.mean.pval',\n",
       "       'abs_logfc_x_jsd_x_max_percentile.mean',\n",
       "       'abs_logfc_x_jsd_x_max_percentile.mean.pval',\n",
       "       'logfc_x_jsd_x_max_percentile.mean', 'chrom_hg18', 'pos_hg18',\n",
       "       'SNPname1', 'chrom_hg19', 'pos_hg19', 'SNPname2', 'gkm_SVM', 'kmer_SVM',\n",
       "       'abs_gkm_SVM', 'abs_kmer_SVM', 'CADD', 'GWAVA_region', 'GWAVA_tss',\n",
       "       'GWAVA_unmatched', 'GERP', 'label', 'Chr', 'Start', 'End', 'SNP',\n",
       "       'Estimate', 'Std. Error', 't value', 'Pr(>|t|)', 'rsid_y'],\n",
       "      dtype='object')"
      ]
     },
     "execution_count": 104,
     "metadata": {},
     "output_type": "execute_result"
    }
   ],
   "source": [
    "merged_atac.columns"
   ]
  },
  {
   "cell_type": "code",
   "execution_count": null,
   "metadata": {},
   "outputs": [],
   "source": []
  },
  {
   "cell_type": "markdown",
   "metadata": {},
   "source": [
    "# ChromBPNet pearsonr"
   ]
  },
  {
   "cell_type": "code",
   "execution_count": 96,
   "metadata": {},
   "outputs": [
    {
     "name": "stdout",
     "output_type": "stream",
     "text": [
      "(28309, 24)\n",
      "(28309, 27)\n"
     ]
    },
    {
     "data": {
      "text/plain": [
       "<matplotlib.colorbar.Colorbar at 0x7fbfed5304d0>"
      ]
     },
     "execution_count": 96,
     "metadata": {},
     "output_type": "execute_result"
    },
    {
     "data": {
      "image/png": "[encoded data removed]",
      "text/plain": [
       "<Figure size 432x360 with 2 Axes>"
      ]
     },
     "metadata": {
      "needs_background": "light"
     },
     "output_type": "display_data"
    }
   ],
   "source": [
    "import seaborn as sns\n",
    "import matplotlib\n",
    "matplotlib.rcParams['pdf.fonttype'] = 42\n",
    "matplotlib.rcParams['ps.fonttype'] = 42 \n",
    "\n",
    "\n",
    "dsqtls = pd.read_csv(atac_preds,sep=\"\\t\", header=0, index_col=False)\n",
    "print(dsqtls.shape)\n",
    "print(gkm_svm.shape)\n",
    "\n",
    "n_gkm = gkm_svm_sub[gkm_svm_sub[\"label\"]==1]\n",
    "merged_atac = dsqtls.merge(n_gkm, left_on=['chr', 'pos', 'allele1', 'allele2'], right_on=[\"chrom_hg19\", \"pos_hg19\", \"allele1\", \"allele2\"], how=\"inner\")\n",
    "    \n",
    "data = pd.DataFrame()\n",
    "data[\"logfc.mean\"] = merged_atac[\"logfc.mean\"]*-1\n",
    "data[\"Beta\"] = merged_atac[\"Estimate\"]\n",
    "data[\"max_percentile.mean\"] = abs(merged_atac[\"max_percentile.mean\"])\n",
    "data = data.reset_index(drop=True)\n",
    "#print(data.head())\n",
    "plt.figure(figsize=(6,5))\n",
    "\n",
    "sns.kdeplot(\n",
    "    data=data,\n",
    "    x=\"Beta\",\n",
    "    y=\"logfc.mean\",\n",
    "    levels=5,\n",
    "    fill=False,\n",
    "    alpha=0.2,\n",
    "    color=\"grey\",\n",
    "    cut=2,\n",
    "\n",
    ")\n",
    "\n",
    "norm = plt.Normalize(data['max_percentile.mean'].min(), data['max_percentile.mean'].max())\n",
    "sm = plt.cm.ScalarMappable(cmap=\"Reds\", norm=norm)\n",
    "\n",
    "ax = sns.scatterplot(x=\"Beta\", y=\"logfc.mean\", hue=\"max_percentile.mean\", data=data, s=15, palette=\"Reds\")\n",
    "sns.regplot(x=\"Beta\", y=\"logfc.mean\", data=data, scatter=False, ci=None, color=\"#ffcccb\")\n",
    "#sns.jointplot(x=data[\"Beta\"], y=data[\"sd_sign.mean\"],s=0,ax=ax)\n",
    "\n",
    "sm.set_array([])\n",
    "\n",
    "ax.spines[[\"top\", \"right\"]].set_visible(False)\n",
    "\n",
    "# Remove the legend and add a colorbar\n",
    "ax.get_legend().remove()\n",
    "ax.figure.colorbar(sm)"
   ]
  },
  {
   "cell_type": "code",
   "execution_count": null,
   "metadata": {},
   "outputs": [],
   "source": []
  },
  {
   "cell_type": "markdown",
   "metadata": {},
   "source": [
    "# Subsampling performance - AUPRC and pearsonr"
   ]
  },
  {
   "cell_type": "code",
   "execution_count": 97,
   "metadata": {},
   "outputs": [],
   "source": [
    "def fetch_auprc_new(preds, gkm_svm):\n",
    "    dsqtls = pd.read_csv(preds,sep=\"\\t\", header=0, index_col=False)\n",
    "    merged_atac = dsqtls.merge(gkm_svm, left_on=['chr', 'pos', 'allele1', 'allele2'], right_on=[\"chrom_hg19\", \"pos_hg19\", \"allele1\", \"allele2\"], how=\"inner\")\n",
    "    merged_atac[\"label\"] = merged_atac[\"label\"].astype(int)\n",
    "    fpr_chrombpnet, tpr_chrombpnet, _ = precision_recall_curve(merged_atac[\"label\"], abs(merged_atac[\"abs_logfc_x_jsd_x_max_percentile.mean\"]))\n",
    "    roc_auc = metrics.average_precision_score(merged_atac[\"label\"], abs(merged_atac[\"abs_logfc_x_jsd_x_max_percentile.mean\"]))\n",
    "    #roc_auc = metrics.average_precision_score(merged_atac[\"label\"], abs(merged_atac[\"jsd.mean\"]))\n",
    "    print(roc_auc)\n",
    "    return roc_auc\n",
    "    \n",
    "def fetch_pearsonr_logfc(preds, gkm_svm):\n",
    "    dsqtls = pd.read_csv(preds,sep=\"\\t\", header=0, index_col=False)\n",
    "    \n",
    "    n_gkm = gkm_svm[gkm_svm[\"label\"]==1]\n",
    "\n",
    "    merged_atac = dsqtls.merge(n_gkm, left_on=['chr', 'pos', 'allele1', 'allele2'], right_on=[\"chrom_hg19\", \"pos_hg19\", \"allele1\", \"allele2\"], how=\"inner\")\n",
    "    merged_atac[\"sign.jsd.mean\"] = merged_atac[\"jsd.mean\"]*np.sign(merged_atac[\"logfc.mean\"])*-1\n",
    "    \n",
    "    pearsonr_val = scipy.stats.pearsonr(merged_atac[\"logfc.mean\"]*-1, merged_atac[\"Estimate\"])[0]\n",
    "    print(scipy.stats.pearsonr(merged_atac[\"logfc.mean\"]*-1, merged_atac[\"Estimate\"]))\n",
    "    return pearsonr_val\n",
    "\n",
    "def fetch_pearsonr_jsd(preds, gkm_svm):\n",
    "    dsqtls = pd.read_csv(preds,sep=\"\\t\", header=0, index_col=False)\n",
    "    \n",
    "    n_gkm = gkm_svm[gkm_svm[\"label\"]==1]\n",
    "    \n",
    "    merged_atac = dsqtls.merge(n_gkm, left_on=['chr', 'pos', 'allele1', 'allele2'], right_on=[\"chrom_hg19\", \"pos_hg19\", \"allele1\", \"allele2\"], how=\"inner\")\n",
    "    merged_atac[\"sign.jsd.mean\"] = merged_atac[\"jsd.mean\"]*np.sign(merged_atac[\"logfc.mean\"])*-1\n",
    "    \n",
    "    pearsonr_val = scipy.stats.pearsonr(merged_atac[\"sign.jsd.mean\"], merged_atac[\"Estimate\"])[0]\n",
    "    print(scipy.stats.pearsonr(merged_atac[\"sign.jsd.mean\"], merged_atac[\"Estimate\"]))\n",
    "    return pearsonr_val"
   ]
  },
  {
   "cell_type": "code",
   "execution_count": 98,
   "metadata": {},
   "outputs": [
    {
     "name": "stdout",
     "output_type": "stream",
     "text": [
      "0.5382377424514815\n",
      "0.5212720206135839\n",
      "0.5130607361102206\n",
      "0.4573954341174485\n",
      "0.4172765936392213\n",
      "0.289267529781573\n",
      "0.40956479834375387\n"
     ]
    }
   ],
   "source": [
    "\n",
    "roc_500m = fetch_auprc_new(atac_preds, gkm_svm_sub)\n",
    "roc_250m = fetch_auprc_new(atac_preds_250m, gkm_svm_sub)\n",
    "roc_100m = fetch_auprc_new(atac_preds_100m, gkm_svm_sub)\n",
    "roc_50m = fetch_auprc_new(atac_preds_50m, gkm_svm_sub)\n",
    "roc_25m = fetch_auprc_new(atac_preds_25m, gkm_svm_sub)\n",
    "roc_5m = fetch_auprc_new(atac_preds_5m, gkm_svm_sub)\n",
    "roc_dnase = fetch_auprc_new(dnase_preds, gkm_svm_sub)\n"
   ]
  },
  {
   "cell_type": "code",
   "execution_count": 99,
   "metadata": {},
   "outputs": [
    {
     "data": {
      "image/png": "[encoded data removed]",
      "text/plain": [
       "<Figure size 288x216 with 1 Axes>"
      ]
     },
     "metadata": {
      "needs_background": "light"
     },
     "output_type": "display_data"
    }
   ],
   "source": [
    "fix, ax = plt.subplots(figsize=(4,3))\n",
    "ax.scatter([\"ATAC\\n572M\", \"ATAC\\n250M\", \"ATAC\\n100M\" ,\"ATAC\\n50M\", \"ATAC\\n25M\", \"ATAC\\n5M\"],[roc_500m,roc_250m,roc_100m,roc_50m,roc_25m,roc_5m])\n",
    "ax.plot([\"ATAC\\n572M\", \"ATAC\\n250M\", \"ATAC\\n100M\",\"ATAC\\n50M\", \"ATAC\\n25M\", \"ATAC\\n5M\"],[roc_500m,roc_250m,roc_100m,roc_50m,roc_25m,roc_5m], alpha=0.5)\n",
    "ax.scatter([\"DNASE\\n68M\"], [roc_dnase])\n",
    "ax.set_ylim((0,0.55))\n",
    "ax.spines[[\"top\", \"right\"]].set_visible(False)"
   ]
  },
  {
   "cell_type": "code",
   "execution_count": 100,
   "metadata": {},
   "outputs": [
    {
     "name": "stdout",
     "output_type": "stream",
     "text": [
      "(0.7586179164294138, 6.689376032748603e-106)\n",
      "(0.7526282890600602, 2.4287034191876065e-103)\n",
      "(0.7546672458842387, 3.328306684572512e-104)\n",
      "(0.7346524058027831, 4.429888240845516e-96)\n",
      "(0.7203103315262882, 1.0646610243625364e-90)\n",
      "(0.6681759905958633, 1.0998664422228002e-73)\n",
      "(0.7384528353035676, 1.450001900794169e-97)\n"
     ]
    }
   ],
   "source": [
    "\n",
    "pearsonrs_logfc = []\n",
    "for preds in [atac_preds, atac_preds_250m, atac_preds_100m, atac_preds_50m, atac_preds_25m, atac_preds_5m, dnase_preds]:\n",
    "    pearsonrs_logfc.append(fetch_pearsonr_logfc(preds, gkm_svm_sub))"
   ]
  },
  {
   "cell_type": "code",
   "execution_count": 101,
   "metadata": {},
   "outputs": [
    {
     "name": "stdout",
     "output_type": "stream",
     "text": [
      "(0.7480524783614502, 1.959293501864504e-101)\n",
      "(0.7523651296928697, 3.1344639726513044e-103)\n",
      "(0.7470599652802675, 5.014684226524033e-101)\n",
      "(0.736694138893397, 7.108672678159656e-97)\n",
      "(0.7256926640794923, 1.1169288396490585e-92)\n",
      "(0.6726748364294816, 5.1375454552778505e-75)\n",
      "(0.7518146941493518, 5.338794143139969e-103)\n"
     ]
    }
   ],
   "source": [
    "\n",
    "pearsonrs_jsd = []\n",
    "for preds in [atac_preds, atac_preds_250m, atac_preds_100m, atac_preds_50m, atac_preds_25m, atac_preds_5m, dnase_preds]:\n",
    "    pearsonrs_jsd.append(fetch_pearsonr_jsd(preds, gkm_svm_sub))"
   ]
  },
  {
   "cell_type": "code",
   "execution_count": 102,
   "metadata": {},
   "outputs": [
    {
     "data": {
      "image/png": "[encoded data removed]",
      "text/plain": [
       "<Figure size 360x216 with 1 Axes>"
      ]
     },
     "metadata": {
      "needs_background": "light"
     },
     "output_type": "display_data"
    }
   ],
   "source": [
    "fig, ax = plt.subplots(figsize=(5,3))\n",
    "ax.scatter([\"ATAC\\n572M\", \"ATAC\\n250M\", \"ATAC\\n100M\" ,\"ATAC\\n50M\", \"ATAC\\n25M\", \"ATAC\\n5M\"],pearsonrs_logfc[0:-1])\n",
    "ax.plot([\"ATAC\\n572M\", \"ATAC\\n250M\", \"ATAC\\n100M\",\"ATAC\\n50M\", \"ATAC\\n25M\", \"ATAC\\n5M\"],pearsonrs_logfc[0:-1], alpha=0.5)\n",
    "ax.scatter([\"ATAC\\n572M\", \"ATAC\\n250M\", \"ATAC\\n100M\" ,\"ATAC\\n50M\", \"ATAC\\n25M\", \"ATAC\\n5M\"],pearsonrs_jsd[0:-1], c=\"orange\")\n",
    "ax.plot([\"ATAC\\n572M\", \"ATAC\\n250M\", \"ATAC\\n100M\",\"ATAC\\n50M\", \"ATAC\\n25M\", \"ATAC\\n5M\"],pearsonrs_jsd[0:-1], alpha=0.5, c=\"orange\")\n",
    "\n",
    "ax.scatter([\"DNASE\\n68M\"], [pearsonrs_logfc[-1]])\n",
    "ax.scatter([\"Enformer DNase\\n68M\"], [enformer_perf])\n",
    "ax.scatter([\"SVM DNase\\n68M\"], [delta_svm_perf])\n",
    "\n",
    "ax.set_ylim((0,0.8))\n",
    "ax.spines[[\"top\", \"right\"]].set_visible(False)\n",
    "#plt.savefig(\"subfigs_new/subsample_pearsonr_performance.pdf\", transparent=True, dpi=300)\n"
   ]
  },
  {
   "cell_type": "code",
   "execution_count": null,
   "metadata": {},
   "outputs": [],
   "source": []
  },
  {
   "cell_type": "code",
   "execution_count": null,
   "metadata": {},
   "outputs": [],
   "source": []
  },
  {
   "cell_type": "code",
   "execution_count": null,
   "metadata": {},
   "outputs": [],
   "source": []
  },
  {
   "cell_type": "code",
   "execution_count": null,
   "metadata": {},
   "outputs": [],
   "source": []
  },
  {
   "cell_type": "code",
   "execution_count": null,
   "metadata": {},
   "outputs": [],
   "source": []
  },
  {
   "cell_type": "code",
   "execution_count": null,
   "metadata": {},
   "outputs": [],
   "source": []
  },
  {
   "cell_type": "code",
   "execution_count": null,
   "metadata": {},
   "outputs": [],
   "source": []
  }
 ],
 "metadata": {
  "kernelspec": {
   "display_name": "Python 3",
   "language": "python",
   "name": "python3"
  },
  "language_info": {
   "codemirror_mode": {
    "name": "ipython",
    "version": 3
   },
   "file_extension": ".py",
   "mimetype": "text/x-python",
   "name": "python",
   "nbconvert_exporter": "python",
   "pygments_lexer": "ipython3",
   "version": "3.7.6"
  }
 },
 "nbformat": 4,
 "nbformat_minor": 4
}
