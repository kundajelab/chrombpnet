{
 "cells": [
  {
   "cell_type": "code",
   "execution_count": 9,
   "metadata": {},
   "outputs": [],
   "source": [
    "import pandas as pd\n",
    "import numpy as np\n"
   ]
  },
  {
   "cell_type": "code",
   "execution_count": 10,
   "metadata": {},
   "outputs": [],
   "source": [
    "meta=pd.read_csv(\"/mnt/lab_data2/anusri/chrombpnet/results/variant_data/microglia_caqtls/feb11_2024/caqtls_microglia_formatted.tsv\", sep=\"\\t\", header=0)\n"
   ]
  },
  {
   "cell_type": "code",
   "execution_count": null,
   "metadata": {},
   "outputs": [],
   "source": []
  },
  {
   "cell_type": "code",
   "execution_count": 11,
   "metadata": {},
   "outputs": [
    {
     "name": "stdout",
     "output_type": "stream",
     "text": [
      "  CHROM          POS non-effect_allele effect_allele Top_SNP_perPeak  \\\n",
      "0  chr2  199884843.0                 A             G        rs281785   \n",
      "1  chr2  200357680.0                 A             T       rs2033804   \n",
      "2  chr2  200656660.0                 T             C       rs2287012   \n",
      "3  chr1  172585461.0                 A             G      rs10752994   \n",
      "4  chr1  172625478.0                 C             T      rs12123755   \n",
      "\n",
      "   Z_score_fixed  \n",
      "0       10.11000  \n",
      "1       -3.48053  \n",
      "2       -5.07707  \n",
      "3      -11.41800  \n",
      "4        8.27532  \n"
     ]
    }
   ],
   "source": [
    "meta = meta[[\"CHROM\", \"POS\", \"non-effect_allele\", \"effect_allele\", \"Top_SNP_perPeak\", \"Z_score_fixed\"]]\n",
    "print(meta.head())"
   ]
  },
  {
   "cell_type": "code",
   "execution_count": 12,
   "metadata": {},
   "outputs": [],
   "source": [
    "peaks=pd.read_csv(\"/mnt/lab_data2/anusri/chrombpnet/results/variant_data/microglia_caqtls/feb11_2024/PeakInfoDetailed_210832_OCRs.csv\", sep=\",\", header=0)"
   ]
  },
  {
   "cell_type": "code",
   "execution_count": 13,
   "metadata": {},
   "outputs": [
    {
     "name": "stdout",
     "output_type": "stream",
     "text": [
      "    Chr   start     end   PeakID  distanceToTSS annotationSimple  \\\n",
      "0  chr1  817105  817588  Peak_13            0.0         Promoter   \n",
      "1  chr1  819868  820628  Peak_14        -2157.0         Promoter   \n",
      "2  chr1  820873  821328  Peak_15        -3162.0           Intron   \n",
      "3  chr1  826886  828002  Peak_16            0.0         Promoter   \n",
      "4  chr1  869728  870232  Peak_17            0.0         Promoter   \n",
      "\n",
      "                                          annotation Associated.Gene.Name  \\\n",
      "0                                   Promoter (<=1kb)               FAM87B   \n",
      "1                                   Promoter (2-3kb)           AL669831.4   \n",
      "2  Intron (ENST00000635509/ENSG00000230021, intro...           AL669831.4   \n",
      "3                                   Promoter (<=1kb)            LINC00115   \n",
      "4                                   Promoter (<=1kb)               FAM41C   \n",
      "\n",
      "                            Gene.type  \n",
      "0                             lincRNA  \n",
      "1  transcribed_unprocessed_pseudogene  \n",
      "2  transcribed_unprocessed_pseudogene  \n",
      "3                             lincRNA  \n",
      "4                             lincRNA  \n",
      "(210832, 9)\n"
     ]
    }
   ],
   "source": [
    "print(peaks.head())\n",
    "print(peaks.shape)\n",
    "#peaks[\"start\"] = ((peaks[\"start\"]+peaks[\"end\"]) // 2) - 100\n",
    "#peaks[\"end\"] = peaks[\"start\"]  + 200"
   ]
  },
  {
   "cell_type": "code",
   "execution_count": 14,
   "metadata": {},
   "outputs": [
    {
     "name": "stdout",
     "output_type": "stream",
     "text": [
      "(4978, 7)\n"
     ]
    }
   ],
   "source": [
    "preds = pd.read_csv(\"/mnt/lab_data2/anusri/variant-scorer/src/output/microglia_scatac/ATAC_new/summary.mean.variant_scores_new.tsv\", sep=\"\\t\", header=0)\n",
    "preds[\"sign.jsd.mean\"] = preds[\"jsd.mean\"]*np.sign(preds[\"logfc.mean\"])\n",
    "preds = preds[[\"chr\", \"pos\", \"rsid\",\"allele1\", \"allele2\", \"logfc.mean\",  \"sign.jsd.mean\"]]\n",
    "preds.head()\n",
    "print(preds.shape)"
   ]
  },
  {
   "cell_type": "code",
   "execution_count": 15,
   "metadata": {},
   "outputs": [
    {
     "name": "stdout",
     "output_type": "stream",
     "text": [
      "(4979, 6)\n"
     ]
    }
   ],
   "source": [
    "print(meta.shape)"
   ]
  },
  {
   "cell_type": "code",
   "execution_count": null,
   "metadata": {},
   "outputs": [],
   "source": []
  },
  {
   "cell_type": "code",
   "execution_count": 16,
   "metadata": {},
   "outputs": [
    {
     "name": "stdout",
     "output_type": "stream",
     "text": [
      "(4978, 6)\n"
     ]
    }
   ],
   "source": [
    "meta = meta[~np.isnan(meta[\"POS\"])]\n",
    "print(meta.shape)"
   ]
  },
  {
   "cell_type": "code",
   "execution_count": 17,
   "metadata": {},
   "outputs": [
    {
     "name": "stdout",
     "output_type": "stream",
     "text": [
      "(4978, 13)\n"
     ]
    }
   ],
   "source": [
    "meta[\"POS\"] = meta[\"POS\"].astype(int) \n",
    "preds[\"pos\"] = preds[\"pos\"].astype(int) \n",
    "final = meta.merge(preds, left_on=[\"CHROM\", \"POS\", \"effect_allele\", \"non-effect_allele\"], right_on=[\"chr\", \"pos\", \"allele1\", \"allele2\"]).drop_duplicates()\n",
    "print(final.shape)\n"
   ]
  },
  {
   "cell_type": "code",
   "execution_count": 18,
   "metadata": {},
   "outputs": [
    {
     "data": {
      "text/html": [
       "<div>\n",
       "<style scoped>\n",
       "    .dataframe tbody tr th:only-of-type {\n",
       "        vertical-align: middle;\n",
       "    }\n",
       "\n",
       "    .dataframe tbody tr th {\n",
       "        vertical-align: top;\n",
       "    }\n",
       "\n",
       "    .dataframe thead th {\n",
       "        text-align: right;\n",
       "    }\n",
       "</style>\n",
       "<table border=\"1\" class=\"dataframe\">\n",
       "  <thead>\n",
       "    <tr style=\"text-align: right;\">\n",
       "      <th></th>\n",
       "      <th>CHROM</th>\n",
       "      <th>POS</th>\n",
       "      <th>non-effect_allele</th>\n",
       "      <th>effect_allele</th>\n",
       "      <th>Top_SNP_perPeak</th>\n",
       "      <th>Z_score_fixed</th>\n",
       "      <th>chr</th>\n",
       "      <th>pos</th>\n",
       "      <th>rsid</th>\n",
       "      <th>allele1</th>\n",
       "      <th>allele2</th>\n",
       "      <th>logfc.mean</th>\n",
       "      <th>sign.jsd.mean</th>\n",
       "    </tr>\n",
       "  </thead>\n",
       "  <tbody>\n",
       "    <tr>\n",
       "      <th>0</th>\n",
       "      <td>chr2</td>\n",
       "      <td>199884843</td>\n",
       "      <td>A</td>\n",
       "      <td>G</td>\n",
       "      <td>rs281785</td>\n",
       "      <td>10.11000</td>\n",
       "      <td>chr2</td>\n",
       "      <td>199884843</td>\n",
       "      <td>chr2_199884843.0_G_A</td>\n",
       "      <td>G</td>\n",
       "      <td>A</td>\n",
       "      <td>0.032774</td>\n",
       "      <td>0.016354</td>\n",
       "    </tr>\n",
       "    <tr>\n",
       "      <th>1</th>\n",
       "      <td>chr2</td>\n",
       "      <td>200357680</td>\n",
       "      <td>A</td>\n",
       "      <td>T</td>\n",
       "      <td>rs2033804</td>\n",
       "      <td>-3.48053</td>\n",
       "      <td>chr2</td>\n",
       "      <td>200357680</td>\n",
       "      <td>chr2_200357680.0_T_A</td>\n",
       "      <td>T</td>\n",
       "      <td>A</td>\n",
       "      <td>-0.008075</td>\n",
       "      <td>-0.009565</td>\n",
       "    </tr>\n",
       "    <tr>\n",
       "      <th>2</th>\n",
       "      <td>chr2</td>\n",
       "      <td>200656660</td>\n",
       "      <td>T</td>\n",
       "      <td>C</td>\n",
       "      <td>rs2287012</td>\n",
       "      <td>-5.07707</td>\n",
       "      <td>chr2</td>\n",
       "      <td>200656660</td>\n",
       "      <td>chr2_200656660.0_C_T</td>\n",
       "      <td>C</td>\n",
       "      <td>T</td>\n",
       "      <td>0.003838</td>\n",
       "      <td>0.004759</td>\n",
       "    </tr>\n",
       "    <tr>\n",
       "      <th>3</th>\n",
       "      <td>chr1</td>\n",
       "      <td>172585461</td>\n",
       "      <td>A</td>\n",
       "      <td>G</td>\n",
       "      <td>rs10752994</td>\n",
       "      <td>-11.41800</td>\n",
       "      <td>chr1</td>\n",
       "      <td>172585461</td>\n",
       "      <td>chr1_172585461.0_G_A</td>\n",
       "      <td>G</td>\n",
       "      <td>A</td>\n",
       "      <td>0.005939</td>\n",
       "      <td>0.004529</td>\n",
       "    </tr>\n",
       "    <tr>\n",
       "      <th>4</th>\n",
       "      <td>chr1</td>\n",
       "      <td>172625478</td>\n",
       "      <td>C</td>\n",
       "      <td>T</td>\n",
       "      <td>rs12123755</td>\n",
       "      <td>8.27532</td>\n",
       "      <td>chr1</td>\n",
       "      <td>172625478</td>\n",
       "      <td>chr1_172625478.0_T_C</td>\n",
       "      <td>T</td>\n",
       "      <td>C</td>\n",
       "      <td>-0.441283</td>\n",
       "      <td>-0.047415</td>\n",
       "    </tr>\n",
       "  </tbody>\n",
       "</table>\n",
       "</div>"
      ],
      "text/plain": [
       "  CHROM        POS non-effect_allele effect_allele Top_SNP_perPeak  \\\n",
       "0  chr2  199884843                 A             G        rs281785   \n",
       "1  chr2  200357680                 A             T       rs2033804   \n",
       "2  chr2  200656660                 T             C       rs2287012   \n",
       "3  chr1  172585461                 A             G      rs10752994   \n",
       "4  chr1  172625478                 C             T      rs12123755   \n",
       "\n",
       "   Z_score_fixed   chr        pos                  rsid allele1 allele2  \\\n",
       "0       10.11000  chr2  199884843  chr2_199884843.0_G_A       G       A   \n",
       "1       -3.48053  chr2  200357680  chr2_200357680.0_T_A       T       A   \n",
       "2       -5.07707  chr2  200656660  chr2_200656660.0_C_T       C       T   \n",
       "3      -11.41800  chr1  172585461  chr1_172585461.0_G_A       G       A   \n",
       "4        8.27532  chr1  172625478  chr1_172625478.0_T_C       T       C   \n",
       "\n",
       "   logfc.mean  sign.jsd.mean  \n",
       "0    0.032774       0.016354  \n",
       "1   -0.008075      -0.009565  \n",
       "2    0.003838       0.004759  \n",
       "3    0.005939       0.004529  \n",
       "4   -0.441283      -0.047415  "
      ]
     },
     "execution_count": 18,
     "metadata": {},
     "output_type": "execute_result"
    }
   ],
   "source": [
    "final.head()"
   ]
  },
  {
   "cell_type": "code",
   "execution_count": 19,
   "metadata": {},
   "outputs": [
    {
     "data": {
      "text/plain": [
       "Index(['CHROM', 'POS', 'non-effect_allele', 'effect_allele', 'Top_SNP_perPeak',\n",
       "       'Z_score_fixed', 'chr', 'pos', 'rsid', 'allele1', 'allele2',\n",
       "       'logfc.mean', 'sign.jsd.mean'],\n",
       "      dtype='object')"
      ]
     },
     "execution_count": 19,
     "metadata": {},
     "output_type": "execute_result"
    }
   ],
   "source": [
    "final.columns"
   ]
  },
  {
   "cell_type": "code",
   "execution_count": 21,
   "metadata": {},
   "outputs": [],
   "source": [
    "cols = ['CHROM', \"POS0\", 'POS', 'non-effect_allele', 'effect_allele', 'Top_SNP_perPeak',\n",
    "       'Z_score_fixed', 'logfc.mean', 'sign.jsd.mean']\n",
    "final[\"POS0\"] = final[\"POS\"] - 1\n",
    "finalf = final[cols]"
   ]
  },
  {
   "cell_type": "code",
   "execution_count": 22,
   "metadata": {},
   "outputs": [
    {
     "data": {
      "text/html": [
       "<div>\n",
       "<style scoped>\n",
       "    .dataframe tbody tr th:only-of-type {\n",
       "        vertical-align: middle;\n",
       "    }\n",
       "\n",
       "    .dataframe tbody tr th {\n",
       "        vertical-align: top;\n",
       "    }\n",
       "\n",
       "    .dataframe thead th {\n",
       "        text-align: right;\n",
       "    }\n",
       "</style>\n",
       "<table border=\"1\" class=\"dataframe\">\n",
       "  <thead>\n",
       "    <tr style=\"text-align: right;\">\n",
       "      <th></th>\n",
       "      <th>Chr</th>\n",
       "      <th>start</th>\n",
       "      <th>end</th>\n",
       "      <th>PeakID</th>\n",
       "      <th>distanceToTSS</th>\n",
       "      <th>annotationSimple</th>\n",
       "      <th>annotation</th>\n",
       "      <th>Associated.Gene.Name</th>\n",
       "      <th>Gene.type</th>\n",
       "    </tr>\n",
       "  </thead>\n",
       "  <tbody>\n",
       "    <tr>\n",
       "      <th>0</th>\n",
       "      <td>chr1</td>\n",
       "      <td>817105</td>\n",
       "      <td>817588</td>\n",
       "      <td>Peak_13</td>\n",
       "      <td>0.0</td>\n",
       "      <td>Promoter</td>\n",
       "      <td>Promoter (&lt;=1kb)</td>\n",
       "      <td>FAM87B</td>\n",
       "      <td>lincRNA</td>\n",
       "    </tr>\n",
       "    <tr>\n",
       "      <th>1</th>\n",
       "      <td>chr1</td>\n",
       "      <td>819868</td>\n",
       "      <td>820628</td>\n",
       "      <td>Peak_14</td>\n",
       "      <td>-2157.0</td>\n",
       "      <td>Promoter</td>\n",
       "      <td>Promoter (2-3kb)</td>\n",
       "      <td>AL669831.4</td>\n",
       "      <td>transcribed_unprocessed_pseudogene</td>\n",
       "    </tr>\n",
       "    <tr>\n",
       "      <th>2</th>\n",
       "      <td>chr1</td>\n",
       "      <td>820873</td>\n",
       "      <td>821328</td>\n",
       "      <td>Peak_15</td>\n",
       "      <td>-3162.0</td>\n",
       "      <td>Intron</td>\n",
       "      <td>Intron (ENST00000635509/ENSG00000230021, intro...</td>\n",
       "      <td>AL669831.4</td>\n",
       "      <td>transcribed_unprocessed_pseudogene</td>\n",
       "    </tr>\n",
       "    <tr>\n",
       "      <th>3</th>\n",
       "      <td>chr1</td>\n",
       "      <td>826886</td>\n",
       "      <td>828002</td>\n",
       "      <td>Peak_16</td>\n",
       "      <td>0.0</td>\n",
       "      <td>Promoter</td>\n",
       "      <td>Promoter (&lt;=1kb)</td>\n",
       "      <td>LINC00115</td>\n",
       "      <td>lincRNA</td>\n",
       "    </tr>\n",
       "    <tr>\n",
       "      <th>4</th>\n",
       "      <td>chr1</td>\n",
       "      <td>869728</td>\n",
       "      <td>870232</td>\n",
       "      <td>Peak_17</td>\n",
       "      <td>0.0</td>\n",
       "      <td>Promoter</td>\n",
       "      <td>Promoter (&lt;=1kb)</td>\n",
       "      <td>FAM41C</td>\n",
       "      <td>lincRNA</td>\n",
       "    </tr>\n",
       "    <tr>\n",
       "      <th>...</th>\n",
       "      <td>...</td>\n",
       "      <td>...</td>\n",
       "      <td>...</td>\n",
       "      <td>...</td>\n",
       "      <td>...</td>\n",
       "      <td>...</td>\n",
       "      <td>...</td>\n",
       "      <td>...</td>\n",
       "      <td>...</td>\n",
       "    </tr>\n",
       "    <tr>\n",
       "      <th>210827</th>\n",
       "      <td>chrY</td>\n",
       "      <td>21439802</td>\n",
       "      <td>21440929</td>\n",
       "      <td>Peak_215075</td>\n",
       "      <td>-2558.0</td>\n",
       "      <td>Promoter</td>\n",
       "      <td>Promoter (2-3kb)</td>\n",
       "      <td>RBMY2TP</td>\n",
       "      <td>unprocessed_pseudogene</td>\n",
       "    </tr>\n",
       "    <tr>\n",
       "      <th>210828</th>\n",
       "      <td>chrY</td>\n",
       "      <td>21481590</td>\n",
       "      <td>21481950</td>\n",
       "      <td>Peak_215076</td>\n",
       "      <td>-11569.0</td>\n",
       "      <td>Distal Intergenic</td>\n",
       "      <td>Distal Intergenic</td>\n",
       "      <td>RBMY1HP</td>\n",
       "      <td>unprocessed_pseudogene</td>\n",
       "    </tr>\n",
       "    <tr>\n",
       "      <th>210829</th>\n",
       "      <td>chrY</td>\n",
       "      <td>26403079</td>\n",
       "      <td>26403631</td>\n",
       "      <td>Peak_215077</td>\n",
       "      <td>2469.0</td>\n",
       "      <td>Promoter</td>\n",
       "      <td>Promoter (2-3kb)</td>\n",
       "      <td>CYCSP48</td>\n",
       "      <td>processed_pseudogene</td>\n",
       "    </tr>\n",
       "    <tr>\n",
       "      <th>210830</th>\n",
       "      <td>chrY</td>\n",
       "      <td>26436428</td>\n",
       "      <td>26436771</td>\n",
       "      <td>Peak_215078</td>\n",
       "      <td>-17211.0</td>\n",
       "      <td>Distal Intergenic</td>\n",
       "      <td>Distal Intergenic</td>\n",
       "      <td>AC013734.1</td>\n",
       "      <td>processed_pseudogene</td>\n",
       "    </tr>\n",
       "    <tr>\n",
       "      <th>210831</th>\n",
       "      <td>chrY</td>\n",
       "      <td>26440922</td>\n",
       "      <td>26441463</td>\n",
       "      <td>Peak_215079</td>\n",
       "      <td>-12519.0</td>\n",
       "      <td>Distal Intergenic</td>\n",
       "      <td>Distal Intergenic</td>\n",
       "      <td>AC013734.1</td>\n",
       "      <td>processed_pseudogene</td>\n",
       "    </tr>\n",
       "  </tbody>\n",
       "</table>\n",
       "<p>210832 rows × 9 columns</p>\n",
       "</div>"
      ],
      "text/plain": [
       "         Chr     start       end       PeakID  distanceToTSS  \\\n",
       "0       chr1    817105    817588      Peak_13            0.0   \n",
       "1       chr1    819868    820628      Peak_14        -2157.0   \n",
       "2       chr1    820873    821328      Peak_15        -3162.0   \n",
       "3       chr1    826886    828002      Peak_16            0.0   \n",
       "4       chr1    869728    870232      Peak_17            0.0   \n",
       "...      ...       ...       ...          ...            ...   \n",
       "210827  chrY  21439802  21440929  Peak_215075        -2558.0   \n",
       "210828  chrY  21481590  21481950  Peak_215076       -11569.0   \n",
       "210829  chrY  26403079  26403631  Peak_215077         2469.0   \n",
       "210830  chrY  26436428  26436771  Peak_215078       -17211.0   \n",
       "210831  chrY  26440922  26441463  Peak_215079       -12519.0   \n",
       "\n",
       "         annotationSimple                                         annotation  \\\n",
       "0                Promoter                                   Promoter (<=1kb)   \n",
       "1                Promoter                                   Promoter (2-3kb)   \n",
       "2                  Intron  Intron (ENST00000635509/ENSG00000230021, intro...   \n",
       "3                Promoter                                   Promoter (<=1kb)   \n",
       "4                Promoter                                   Promoter (<=1kb)   \n",
       "...                   ...                                                ...   \n",
       "210827           Promoter                                   Promoter (2-3kb)   \n",
       "210828  Distal Intergenic                                  Distal Intergenic   \n",
       "210829           Promoter                                   Promoter (2-3kb)   \n",
       "210830  Distal Intergenic                                  Distal Intergenic   \n",
       "210831  Distal Intergenic                                  Distal Intergenic   \n",
       "\n",
       "       Associated.Gene.Name                           Gene.type  \n",
       "0                    FAM87B                             lincRNA  \n",
       "1                AL669831.4  transcribed_unprocessed_pseudogene  \n",
       "2                AL669831.4  transcribed_unprocessed_pseudogene  \n",
       "3                 LINC00115                             lincRNA  \n",
       "4                    FAM41C                             lincRNA  \n",
       "...                     ...                                 ...  \n",
       "210827              RBMY2TP              unprocessed_pseudogene  \n",
       "210828              RBMY1HP              unprocessed_pseudogene  \n",
       "210829              CYCSP48                processed_pseudogene  \n",
       "210830           AC013734.1                processed_pseudogene  \n",
       "210831           AC013734.1                processed_pseudogene  \n",
       "\n",
       "[210832 rows x 9 columns]"
      ]
     },
     "execution_count": 22,
     "metadata": {},
     "output_type": "execute_result"
    }
   ],
   "source": [
    "peaks"
   ]
  },
  {
   "cell_type": "code",
   "execution_count": 23,
   "metadata": {},
   "outputs": [],
   "source": [
    "import pybedtools\n",
    "beds_var = pybedtools.BedTool.from_dataframe(finalf)\n",
    "peak_bed =  pybedtools.BedTool.from_dataframe(peaks)\n",
    "sig_vars_in_bed = beds_var.intersect(peak_bed, c=True)"
   ]
  },
  {
   "cell_type": "code",
   "execution_count": 24,
   "metadata": {},
   "outputs": [],
   "source": [
    "sig_vars_in_bed = sig_vars_in_bed.to_dataframe(names=cols+[\"IsUsed\"]).drop_duplicates()\n"
   ]
  },
  {
   "cell_type": "code",
   "execution_count": 25,
   "metadata": {},
   "outputs": [
    {
     "data": {
      "text/html": [
       "<div>\n",
       "<style scoped>\n",
       "    .dataframe tbody tr th:only-of-type {\n",
       "        vertical-align: middle;\n",
       "    }\n",
       "\n",
       "    .dataframe tbody tr th {\n",
       "        vertical-align: top;\n",
       "    }\n",
       "\n",
       "    .dataframe thead th {\n",
       "        text-align: right;\n",
       "    }\n",
       "</style>\n",
       "<table border=\"1\" class=\"dataframe\">\n",
       "  <thead>\n",
       "    <tr style=\"text-align: right;\">\n",
       "      <th></th>\n",
       "      <th>CHROM</th>\n",
       "      <th>POS0</th>\n",
       "      <th>POS</th>\n",
       "      <th>non-effect_allele</th>\n",
       "      <th>effect_allele</th>\n",
       "      <th>Top_SNP_perPeak</th>\n",
       "      <th>Z_score_fixed</th>\n",
       "      <th>logfc.mean</th>\n",
       "      <th>sign.jsd.mean</th>\n",
       "      <th>IsUsed</th>\n",
       "    </tr>\n",
       "  </thead>\n",
       "  <tbody>\n",
       "    <tr>\n",
       "      <th>0</th>\n",
       "      <td>chr2</td>\n",
       "      <td>199884842</td>\n",
       "      <td>199884843</td>\n",
       "      <td>A</td>\n",
       "      <td>G</td>\n",
       "      <td>rs281785</td>\n",
       "      <td>10.11000</td>\n",
       "      <td>0.032774</td>\n",
       "      <td>0.016354</td>\n",
       "      <td>0</td>\n",
       "    </tr>\n",
       "    <tr>\n",
       "      <th>1</th>\n",
       "      <td>chr2</td>\n",
       "      <td>200357679</td>\n",
       "      <td>200357680</td>\n",
       "      <td>A</td>\n",
       "      <td>T</td>\n",
       "      <td>rs2033804</td>\n",
       "      <td>-3.48053</td>\n",
       "      <td>-0.008075</td>\n",
       "      <td>-0.009565</td>\n",
       "      <td>0</td>\n",
       "    </tr>\n",
       "    <tr>\n",
       "      <th>2</th>\n",
       "      <td>chr2</td>\n",
       "      <td>200656659</td>\n",
       "      <td>200656660</td>\n",
       "      <td>T</td>\n",
       "      <td>C</td>\n",
       "      <td>rs2287012</td>\n",
       "      <td>-5.07707</td>\n",
       "      <td>0.003838</td>\n",
       "      <td>0.004759</td>\n",
       "      <td>0</td>\n",
       "    </tr>\n",
       "    <tr>\n",
       "      <th>3</th>\n",
       "      <td>chr1</td>\n",
       "      <td>172585460</td>\n",
       "      <td>172585461</td>\n",
       "      <td>A</td>\n",
       "      <td>G</td>\n",
       "      <td>rs10752994</td>\n",
       "      <td>-11.41800</td>\n",
       "      <td>0.005939</td>\n",
       "      <td>0.004529</td>\n",
       "      <td>0</td>\n",
       "    </tr>\n",
       "    <tr>\n",
       "      <th>4</th>\n",
       "      <td>chr1</td>\n",
       "      <td>172625477</td>\n",
       "      <td>172625478</td>\n",
       "      <td>C</td>\n",
       "      <td>T</td>\n",
       "      <td>rs12123755</td>\n",
       "      <td>8.27532</td>\n",
       "      <td>-0.441283</td>\n",
       "      <td>-0.047415</td>\n",
       "      <td>1</td>\n",
       "    </tr>\n",
       "  </tbody>\n",
       "</table>\n",
       "</div>"
      ],
      "text/plain": [
       "  CHROM       POS0        POS non-effect_allele effect_allele Top_SNP_perPeak  \\\n",
       "0  chr2  199884842  199884843                 A             G        rs281785   \n",
       "1  chr2  200357679  200357680                 A             T       rs2033804   \n",
       "2  chr2  200656659  200656660                 T             C       rs2287012   \n",
       "3  chr1  172585460  172585461                 A             G      rs10752994   \n",
       "4  chr1  172625477  172625478                 C             T      rs12123755   \n",
       "\n",
       "   Z_score_fixed  logfc.mean  sign.jsd.mean  IsUsed  \n",
       "0       10.11000    0.032774       0.016354       0  \n",
       "1       -3.48053   -0.008075      -0.009565       0  \n",
       "2       -5.07707    0.003838       0.004759       0  \n",
       "3      -11.41800    0.005939       0.004529       0  \n",
       "4        8.27532   -0.441283      -0.047415       1  "
      ]
     },
     "execution_count": 25,
     "metadata": {},
     "output_type": "execute_result"
    }
   ],
   "source": [
    "sig_vars_in_bed.head()"
   ]
  },
  {
   "cell_type": "code",
   "execution_count": 26,
   "metadata": {},
   "outputs": [],
   "source": [
    "sig_vars_in_bed[\"IsUsed\"] = sig_vars_in_bed[\"IsUsed\"] > 0"
   ]
  },
  {
   "cell_type": "code",
   "execution_count": 27,
   "metadata": {},
   "outputs": [
    {
     "data": {
      "text/plain": [
       "956"
      ]
     },
     "execution_count": 27,
     "metadata": {},
     "output_type": "execute_result"
    }
   ],
   "source": [
    "sum(sig_vars_in_bed[\"IsUsed\"])"
   ]
  },
  {
   "cell_type": "code",
   "execution_count": 28,
   "metadata": {},
   "outputs": [
    {
     "data": {
      "text/plain": [
       "(4978, 10)"
      ]
     },
     "execution_count": 28,
     "metadata": {},
     "output_type": "execute_result"
    }
   ],
   "source": [
    "sig_vars_in_bed.shape"
   ]
  },
  {
   "cell_type": "code",
   "execution_count": 29,
   "metadata": {},
   "outputs": [],
   "source": [
    "sig_vars_in_bed[\"logfc.mean\"] = -1*sig_vars_in_bed[\"logfc.mean\"]"
   ]
  },
  {
   "cell_type": "code",
   "execution_count": 30,
   "metadata": {},
   "outputs": [],
   "source": [
    "sig_vars_in_bed[\"sign.jsd.mean\"] = -1*sig_vars_in_bed[\"sign.jsd.mean\"]"
   ]
  },
  {
   "cell_type": "code",
   "execution_count": 31,
   "metadata": {},
   "outputs": [],
   "source": [
    "sig_vars_in_bed.to_csv(\"../final_figures_new/microglia.caqtls.tsv\", sep=\"\\t\", header=True, index=False)"
   ]
  },
  {
   "cell_type": "code",
   "execution_count": 33,
   "metadata": {},
   "outputs": [],
   "source": [
    "import matplotlib.pyplot as plt"
   ]
  },
  {
   "cell_type": "code",
   "execution_count": 34,
   "metadata": {},
   "outputs": [
    {
     "data": {
      "text/plain": [
       "<matplotlib.collections.PathCollection at 0x7fc4e7472350>"
      ]
     },
     "execution_count": 34,
     "metadata": {},
     "output_type": "execute_result"
    },
    {
     "data": {
      "image/png": "[encoded data removed]",
      "text/plain": [
       "<Figure size 432x288 with 1 Axes>"
      ]
     },
     "metadata": {
      "needs_background": "light"
     },
     "output_type": "display_data"
    }
   ],
   "source": [
    "df=sig_vars_in_bed[sig_vars_in_bed[\"IsUsed\"]]\n",
    "plt.scatter(df[\"Z_score_fixed\"], df[\"logfc.mean\"])"
   ]
  },
  {
   "cell_type": "code",
   "execution_count": 36,
   "metadata": {},
   "outputs": [
    {
     "data": {
      "text/plain": [
       "(0.6123604665289462, 1.836191629240661e-99)"
      ]
     },
     "execution_count": 36,
     "metadata": {},
     "output_type": "execute_result"
    }
   ],
   "source": [
    "import scipy.stats\n",
    "scipy.stats.pearsonr(df[\"Z_score_fixed\"], df[\"logfc.mean\"])"
   ]
  },
  {
   "cell_type": "code",
   "execution_count": null,
   "metadata": {},
   "outputs": [],
   "source": []
  }
 ],
 "metadata": {
  "kernelspec": {
   "display_name": "Python 3",
   "language": "python",
   "name": "python3"
  },
  "language_info": {
   "codemirror_mode": {
    "name": "ipython",
    "version": 3
   },
   "file_extension": ".py",
   "mimetype": "text/x-python",
   "name": "python",
   "nbconvert_exporter": "python",
   "pygments_lexer": "ipython3",
   "version": "3.7.6"
  }
 },
 "nbformat": 4,
 "nbformat_minor": 4
}
