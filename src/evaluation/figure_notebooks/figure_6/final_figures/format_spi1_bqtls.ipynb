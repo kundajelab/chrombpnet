{
 "cells": [
  {
   "cell_type": "code",
   "execution_count": 1,
   "metadata": {},
   "outputs": [],
   "source": [
    "import pandas as pd"
   ]
  },
  {
   "cell_type": "code",
   "execution_count": 2,
   "metadata": {},
   "outputs": [],
   "source": [
    "snps=pd.read_csv(\"/mnt/lab_data/kundaje/users/anusri/QTLs/bQTLs/src/pu1.txt\",header=0,sep='\\t')\n"
   ]
  },
  {
   "cell_type": "code",
   "execution_count": null,
   "metadata": {},
   "outputs": [],
   "source": []
  },
  {
   "cell_type": "code",
   "execution_count": 3,
   "metadata": {},
   "outputs": [],
   "source": [
    "atac_preds=\"/mnt/lab_data2/anusri/variant-scorer/src/output/bqtls_lcl/pu1/ATAC/summary.mean.variant_scores_new.tsv\"\n",
    "atac_preds_50m=\"/mnt/lab_data2/anusri/variant-scorer/src/output/bqtls_lcl/pu1/ATAC_50M/summary.mean.variant_scores_new.tsv\"\n",
    "dnase_preds=\"/mnt/lab_data2/anusri/variant-scorer/src/output/bqtls_lcl/pu1/DNASE/summary.mean.variant_scores_new.tsv\"\n",
    "\n",
    "atac_preds_50m = pd.read_csv(atac_preds_50m, sep=\"\\t\", header=0)\n",
    "atac_preds = pd.read_csv(atac_preds, sep=\"\\t\", header=0)\n",
    "dnase_preds = pd.read_csv(dnase_preds, sep=\"\\t\", header=0)"
   ]
  },
  {
   "cell_type": "code",
   "execution_count": 4,
   "metadata": {},
   "outputs": [
    {
     "data": {
      "text/html": [
       "<div>\n",
       "<style scoped>\n",
       "    .dataframe tbody tr th:only-of-type {\n",
       "        vertical-align: middle;\n",
       "    }\n",
       "\n",
       "    .dataframe tbody tr th {\n",
       "        vertical-align: top;\n",
       "    }\n",
       "\n",
       "    .dataframe thead th {\n",
       "        text-align: right;\n",
       "    }\n",
       "</style>\n",
       "<table border=\"1\" class=\"dataframe\">\n",
       "  <thead>\n",
       "    <tr style=\"text-align: right;\">\n",
       "      <th></th>\n",
       "      <th>Chr</th>\n",
       "      <th>position</th>\n",
       "      <th>Depth</th>\n",
       "      <th>ALTdepth</th>\n",
       "      <th>REFDepth</th>\n",
       "      <th>ALTallele</th>\n",
       "      <th>POSTallele</th>\n",
       "      <th>POSTfreq</th>\n",
       "      <th>prechipfreq</th>\n",
       "      <th>pvalue</th>\n",
       "    </tr>\n",
       "  </thead>\n",
       "  <tbody>\n",
       "    <tr>\n",
       "      <th>0</th>\n",
       "      <td>chr17</td>\n",
       "      <td>18967176</td>\n",
       "      <td>538</td>\n",
       "      <td>418</td>\n",
       "      <td>120</td>\n",
       "      <td>G</td>\n",
       "      <td>A</td>\n",
       "      <td>0.223048</td>\n",
       "      <td>0.866699</td>\n",
       "      <td>2.331853e-251</td>\n",
       "    </tr>\n",
       "    <tr>\n",
       "      <th>1</th>\n",
       "      <td>chr4</td>\n",
       "      <td>176935913</td>\n",
       "      <td>626</td>\n",
       "      <td>597</td>\n",
       "      <td>29</td>\n",
       "      <td>A</td>\n",
       "      <td>C</td>\n",
       "      <td>0.046326</td>\n",
       "      <td>0.543949</td>\n",
       "      <td>4.449643e-162</td>\n",
       "    </tr>\n",
       "    <tr>\n",
       "      <th>2</th>\n",
       "      <td>chr1</td>\n",
       "      <td>144534083</td>\n",
       "      <td>618</td>\n",
       "      <td>368</td>\n",
       "      <td>250</td>\n",
       "      <td>T</td>\n",
       "      <td>C</td>\n",
       "      <td>0.404531</td>\n",
       "      <td>0.057295</td>\n",
       "      <td>5.863065e-141</td>\n",
       "    </tr>\n",
       "    <tr>\n",
       "      <th>3</th>\n",
       "      <td>chr17</td>\n",
       "      <td>19015381</td>\n",
       "      <td>144</td>\n",
       "      <td>143</td>\n",
       "      <td>1</td>\n",
       "      <td>A</td>\n",
       "      <td>T</td>\n",
       "      <td>0.006944</td>\n",
       "      <td>0.872850</td>\n",
       "      <td>1.040250e-126</td>\n",
       "    </tr>\n",
       "    <tr>\n",
       "      <th>4</th>\n",
       "      <td>chr1</td>\n",
       "      <td>17231724</td>\n",
       "      <td>2477</td>\n",
       "      <td>1321</td>\n",
       "      <td>1156</td>\n",
       "      <td>G</td>\n",
       "      <td>A</td>\n",
       "      <td>0.466694</td>\n",
       "      <td>0.255195</td>\n",
       "      <td>9.915948e-114</td>\n",
       "    </tr>\n",
       "  </tbody>\n",
       "</table>\n",
       "</div>"
      ],
      "text/plain": [
       "     Chr   position  Depth  ALTdepth  REFDepth ALTallele POSTallele  POSTfreq  \\\n",
       "0  chr17   18967176    538       418       120         G          A  0.223048   \n",
       "1   chr4  176935913    626       597        29         A          C  0.046326   \n",
       "2   chr1  144534083    618       368       250         T          C  0.404531   \n",
       "3  chr17   19015381    144       143         1         A          T  0.006944   \n",
       "4   chr1   17231724   2477      1321      1156         G          A  0.466694   \n",
       "\n",
       "   prechipfreq         pvalue  \n",
       "0     0.866699  2.331853e-251  \n",
       "1     0.543949  4.449643e-162  \n",
       "2     0.057295  5.863065e-141  \n",
       "3     0.872850  1.040250e-126  \n",
       "4     0.255195  9.915948e-114  "
      ]
     },
     "execution_count": 4,
     "metadata": {},
     "output_type": "execute_result"
    }
   ],
   "source": [
    "snps.head()"
   ]
  },
  {
   "cell_type": "code",
   "execution_count": 5,
   "metadata": {},
   "outputs": [
    {
     "data": {
      "text/plain": [
       "(999799, 10)"
      ]
     },
     "execution_count": 5,
     "metadata": {},
     "output_type": "execute_result"
    }
   ],
   "source": [
    "snps.shape"
   ]
  },
  {
   "cell_type": "code",
   "execution_count": 6,
   "metadata": {},
   "outputs": [
    {
     "name": "stdout",
     "output_type": "stream",
     "text": [
      "(999799, 23)\n"
     ]
    }
   ],
   "source": [
    "print(atac_preds.shape)"
   ]
  },
  {
   "cell_type": "code",
   "execution_count": 7,
   "metadata": {},
   "outputs": [],
   "source": [
    "import numpy as np\n",
    "atac_preds[\"jsd_sign.mean\"] = atac_preds[\"jsd.mean\"] * np.sign(atac_preds[\"logfc.mean\"])\n",
    "atac_preds_50m[\"jsd_sign.mean\"] = atac_preds_50m[\"jsd.mean\"] * np.sign(atac_preds_50m[\"logfc.mean\"])\n",
    "dnase_preds[\"jsd_sign.mean\"] = dnase_preds[\"jsd.mean\"] * np.sign(dnase_preds[\"logfc.mean\"])"
   ]
  },
  {
   "cell_type": "code",
   "execution_count": 8,
   "metadata": {},
   "outputs": [
    {
     "data": {
      "text/html": [
       "<div>\n",
       "<style scoped>\n",
       "    .dataframe tbody tr th:only-of-type {\n",
       "        vertical-align: middle;\n",
       "    }\n",
       "\n",
       "    .dataframe tbody tr th {\n",
       "        vertical-align: top;\n",
       "    }\n",
       "\n",
       "    .dataframe thead th {\n",
       "        text-align: right;\n",
       "    }\n",
       "</style>\n",
       "<table border=\"1\" class=\"dataframe\">\n",
       "  <thead>\n",
       "    <tr style=\"text-align: right;\">\n",
       "      <th></th>\n",
       "      <th>chr</th>\n",
       "      <th>pos</th>\n",
       "      <th>allele1</th>\n",
       "      <th>allele2</th>\n",
       "      <th>rsid</th>\n",
       "      <th>logfc.mean</th>\n",
       "      <th>abs_logfc.mean</th>\n",
       "      <th>abs_logfc.mean.pval</th>\n",
       "      <th>jsd.mean</th>\n",
       "      <th>jsd.mean.pval</th>\n",
       "      <th>...</th>\n",
       "      <th>max_percentile.mean.pval</th>\n",
       "      <th>logfc_x_max_percentile.mean</th>\n",
       "      <th>abs_logfc_x_max_percentile.mean</th>\n",
       "      <th>abs_logfc_x_max_percentile.mean.pval</th>\n",
       "      <th>jsd_x_max_percentile.mean</th>\n",
       "      <th>jsd_x_max_percentile.mean.pval</th>\n",
       "      <th>abs_logfc_x_jsd_x_max_percentile.mean</th>\n",
       "      <th>abs_logfc_x_jsd_x_max_percentile.mean.pval</th>\n",
       "      <th>logfc_x_jsd_x_max_percentile.mean</th>\n",
       "      <th>jsd_sign.mean</th>\n",
       "    </tr>\n",
       "  </thead>\n",
       "  <tbody>\n",
       "    <tr>\n",
       "      <th>0</th>\n",
       "      <td>chr17</td>\n",
       "      <td>18967176</td>\n",
       "      <td>A</td>\n",
       "      <td>G</td>\n",
       "      <td>chr17_18967176_A_G</td>\n",
       "      <td>0.311478</td>\n",
       "      <td>0.311478</td>\n",
       "      <td>0.017033</td>\n",
       "      <td>0.052623</td>\n",
       "      <td>0.011653</td>\n",
       "      <td>...</td>\n",
       "      <td>0.024523</td>\n",
       "      <td>0.263315</td>\n",
       "      <td>0.263315</td>\n",
       "      <td>0.003379</td>\n",
       "      <td>0.043836</td>\n",
       "      <td>0.002004</td>\n",
       "      <td>0.013618</td>\n",
       "      <td>0.003758</td>\n",
       "      <td>0.013618</td>\n",
       "      <td>0.052623</td>\n",
       "    </tr>\n",
       "    <tr>\n",
       "      <th>1</th>\n",
       "      <td>chr4</td>\n",
       "      <td>176935913</td>\n",
       "      <td>C</td>\n",
       "      <td>A</td>\n",
       "      <td>chr4_176935913_C_A</td>\n",
       "      <td>1.523892</td>\n",
       "      <td>1.523892</td>\n",
       "      <td>0.000073</td>\n",
       "      <td>0.181628</td>\n",
       "      <td>0.000215</td>\n",
       "      <td>...</td>\n",
       "      <td>0.115946</td>\n",
       "      <td>0.737156</td>\n",
       "      <td>0.737156</td>\n",
       "      <td>0.000233</td>\n",
       "      <td>0.082352</td>\n",
       "      <td>0.000300</td>\n",
       "      <td>0.129340</td>\n",
       "      <td>0.000075</td>\n",
       "      <td>0.129340</td>\n",
       "      <td>0.181628</td>\n",
       "    </tr>\n",
       "    <tr>\n",
       "      <th>2</th>\n",
       "      <td>chr1</td>\n",
       "      <td>144534083</td>\n",
       "      <td>C</td>\n",
       "      <td>T</td>\n",
       "      <td>chr1_144534083_C_T</td>\n",
       "      <td>-0.233717</td>\n",
       "      <td>0.233717</td>\n",
       "      <td>0.035638</td>\n",
       "      <td>0.025101</td>\n",
       "      <td>0.064513</td>\n",
       "      <td>...</td>\n",
       "      <td>0.021040</td>\n",
       "      <td>-0.201860</td>\n",
       "      <td>0.201860</td>\n",
       "      <td>0.006923</td>\n",
       "      <td>0.021170</td>\n",
       "      <td>0.010960</td>\n",
       "      <td>0.004999</td>\n",
       "      <td>0.012593</td>\n",
       "      <td>-0.004999</td>\n",
       "      <td>-0.025101</td>\n",
       "    </tr>\n",
       "    <tr>\n",
       "      <th>3</th>\n",
       "      <td>chr17</td>\n",
       "      <td>19015381</td>\n",
       "      <td>T</td>\n",
       "      <td>A</td>\n",
       "      <td>chr17_19015381_T_A</td>\n",
       "      <td>-0.045305</td>\n",
       "      <td>0.045305</td>\n",
       "      <td>0.378414</td>\n",
       "      <td>0.011349</td>\n",
       "      <td>0.319737</td>\n",
       "      <td>...</td>\n",
       "      <td>0.003597</td>\n",
       "      <td>-0.042740</td>\n",
       "      <td>0.042740</td>\n",
       "      <td>0.083991</td>\n",
       "      <td>0.010690</td>\n",
       "      <td>0.045718</td>\n",
       "      <td>0.000677</td>\n",
       "      <td>0.109582</td>\n",
       "      <td>-0.000677</td>\n",
       "      <td>-0.011349</td>\n",
       "    </tr>\n",
       "    <tr>\n",
       "      <th>4</th>\n",
       "      <td>chr1</td>\n",
       "      <td>17231724</td>\n",
       "      <td>A</td>\n",
       "      <td>G</td>\n",
       "      <td>chr1_17231724_A_G</td>\n",
       "      <td>0.008116</td>\n",
       "      <td>0.046234</td>\n",
       "      <td>0.346740</td>\n",
       "      <td>0.008417</td>\n",
       "      <td>0.447890</td>\n",
       "      <td>...</td>\n",
       "      <td>0.005079</td>\n",
       "      <td>0.006339</td>\n",
       "      <td>0.042423</td>\n",
       "      <td>0.074615</td>\n",
       "      <td>0.007741</td>\n",
       "      <td>0.066760</td>\n",
       "      <td>0.000381</td>\n",
       "      <td>0.120123</td>\n",
       "      <td>-0.000015</td>\n",
       "      <td>0.008417</td>\n",
       "    </tr>\n",
       "  </tbody>\n",
       "</table>\n",
       "<p>5 rows × 24 columns</p>\n",
       "</div>"
      ],
      "text/plain": [
       "     chr        pos allele1 allele2                rsid  logfc.mean  \\\n",
       "0  chr17   18967176       A       G  chr17_18967176_A_G    0.311478   \n",
       "1   chr4  176935913       C       A  chr4_176935913_C_A    1.523892   \n",
       "2   chr1  144534083       C       T  chr1_144534083_C_T   -0.233717   \n",
       "3  chr17   19015381       T       A  chr17_19015381_T_A   -0.045305   \n",
       "4   chr1   17231724       A       G   chr1_17231724_A_G    0.008116   \n",
       "\n",
       "   abs_logfc.mean  abs_logfc.mean.pval  jsd.mean  jsd.mean.pval  ...  \\\n",
       "0        0.311478             0.017033  0.052623       0.011653  ...   \n",
       "1        1.523892             0.000073  0.181628       0.000215  ...   \n",
       "2        0.233717             0.035638  0.025101       0.064513  ...   \n",
       "3        0.045305             0.378414  0.011349       0.319737  ...   \n",
       "4        0.046234             0.346740  0.008417       0.447890  ...   \n",
       "\n",
       "   max_percentile.mean.pval  logfc_x_max_percentile.mean  \\\n",
       "0                  0.024523                     0.263315   \n",
       "1                  0.115946                     0.737156   \n",
       "2                  0.021040                    -0.201860   \n",
       "3                  0.003597                    -0.042740   \n",
       "4                  0.005079                     0.006339   \n",
       "\n",
       "   abs_logfc_x_max_percentile.mean  abs_logfc_x_max_percentile.mean.pval  \\\n",
       "0                         0.263315                              0.003379   \n",
       "1                         0.737156                              0.000233   \n",
       "2                         0.201860                              0.006923   \n",
       "3                         0.042740                              0.083991   \n",
       "4                         0.042423                              0.074615   \n",
       "\n",
       "   jsd_x_max_percentile.mean  jsd_x_max_percentile.mean.pval  \\\n",
       "0                   0.043836                        0.002004   \n",
       "1                   0.082352                        0.000300   \n",
       "2                   0.021170                        0.010960   \n",
       "3                   0.010690                        0.045718   \n",
       "4                   0.007741                        0.066760   \n",
       "\n",
       "   abs_logfc_x_jsd_x_max_percentile.mean  \\\n",
       "0                               0.013618   \n",
       "1                               0.129340   \n",
       "2                               0.004999   \n",
       "3                               0.000677   \n",
       "4                               0.000381   \n",
       "\n",
       "   abs_logfc_x_jsd_x_max_percentile.mean.pval  \\\n",
       "0                                    0.003758   \n",
       "1                                    0.000075   \n",
       "2                                    0.012593   \n",
       "3                                    0.109582   \n",
       "4                                    0.120123   \n",
       "\n",
       "   logfc_x_jsd_x_max_percentile.mean  jsd_sign.mean  \n",
       "0                           0.013618       0.052623  \n",
       "1                           0.129340       0.181628  \n",
       "2                          -0.004999      -0.025101  \n",
       "3                          -0.000677      -0.011349  \n",
       "4                          -0.000015       0.008417  \n",
       "\n",
       "[5 rows x 24 columns]"
      ]
     },
     "execution_count": 8,
     "metadata": {},
     "output_type": "execute_result"
    }
   ],
   "source": [
    "atac_preds.head()"
   ]
  },
  {
   "cell_type": "code",
   "execution_count": 9,
   "metadata": {},
   "outputs": [],
   "source": [
    "atac_preds = atac_preds[[\"chr\", \"pos\", \"allele1\", \"allele2\", \"logfc.mean\", \"jsd_sign.mean\", \"abs_logfc_x_jsd_x_max_percentile.mean\", \"abs_logfc_x_jsd_x_max_percentile.mean.pval\"]]\n",
    "\n",
    "atac_preds_50m = atac_preds_50m[[\"chr\", \"pos\", \"allele1\", \"allele2\", \"logfc.mean\", \"jsd_sign.mean\", \"abs_logfc_x_jsd_x_max_percentile.mean\", \"abs_logfc_x_jsd_x_max_percentile.mean.pval\"]]\n",
    "\n",
    "#atac_preds_50m = atac_preds_50m[[\"chr\", \"pos\", \"allele1\", \"allele2\", \"logfc.mean\", \"jsd_sign.mean\", \"abs_logfc_x_jsd_x_max_percentile.mean\", \"abs_logfc_x_jsd_x_max_percentile.mean.pval\"]]\n",
    "\n",
    "dnase_preds = dnase_preds[[\"chr\", \"pos\", \"allele1\", \"allele2\", \"logfc.mean\", \"jsd_sign.mean\", \"abs_logfc_x_jsd_x_max_percentile.mean\", \"abs_logfc_x_jsd_x_max_percentile.mean.pval\"]]\n"
   ]
  },
  {
   "cell_type": "code",
   "execution_count": 10,
   "metadata": {},
   "outputs": [],
   "source": [
    "rename_list=[\"logfc.mean\", \"jsd_sign.mean\", \"abs_logfc_x_jsd_x_max_percentile.mean\", \"abs_logfc_x_jsd_x_max_percentile.mean.pval\"]\n",
    "\n",
    "rename_df={}\n",
    "for val in rename_list:\n",
    "    snps[\"ENCSR637XSC.\"+val] = atac_preds[val]\n",
    "    \n"
   ]
  },
  {
   "cell_type": "code",
   "execution_count": 11,
   "metadata": {},
   "outputs": [],
   "source": [
    "rename_list=[\"logfc.mean\", \"jsd_sign.mean\", \"abs_logfc_x_jsd_x_max_percentile.mean\", \"abs_logfc_x_jsd_x_max_percentile.mean.pval\"]\n",
    "\n",
    "rename_df={}\n",
    "for val in rename_list:\n",
    "    snps[\"ENCSR637XSC.sub.50M.\"+val] = atac_preds_50m[val]\n",
    "    \n"
   ]
  },
  {
   "cell_type": "code",
   "execution_count": 12,
   "metadata": {},
   "outputs": [],
   "source": [
    "rename_list=[\"logfc.mean\", \"jsd_sign.mean\", \"abs_logfc_x_jsd_x_max_percentile.mean\", \"abs_logfc_x_jsd_x_max_percentile.mean.pval\"]\n",
    "\n",
    "rename_df={}\n",
    "for val in rename_list:\n",
    "    snps[\"ENCSR000EMT.\"+val] = dnase_preds[val]\n",
    "    \n"
   ]
  },
  {
   "cell_type": "code",
   "execution_count": 14,
   "metadata": {},
   "outputs": [],
   "source": [
    "#snps[[\"Chr\", \"position\", \"ALTallele\",  \"POSTallele\", \"POSTfreq\", \"prechipfreq\"]].to_csv(\"/mnt/lab_data2/anusri/enformer/bqtls/source_new.tsv\", sep=\"\\t\", header=True, index=False)\n"
   ]
  },
  {
   "cell_type": "code",
   "execution_count": 18,
   "metadata": {},
   "outputs": [
    {
     "data": {
      "text/plain": [
       "(4834, 22)"
      ]
     },
     "execution_count": 18,
     "metadata": {},
     "output_type": "execute_result"
    }
   ],
   "source": [
    "snps[snps[\"pvalue\"]<1e-4].shape\n",
    "\n",
    "\n",
    "#[\"Chr\", \"position\", \"ALTallele\""
   ]
  },
  {
   "cell_type": "code",
   "execution_count": 20,
   "metadata": {},
   "outputs": [
    {
     "data": {
      "text/plain": [
       "Index(['Chr', 'position', 'Depth', 'ALTdepth', 'REFDepth', 'ALTallele',\n",
       "       'POSTallele', 'POSTfreq', 'prechipfreq', 'pvalue',\n",
       "       'ENCSR637XSC.logfc.mean', 'ENCSR637XSC.jsd_sign.mean',\n",
       "       'ENCSR637XSC.abs_logfc_x_jsd_x_max_percentile.mean',\n",
       "       'ENCSR637XSC.abs_logfc_x_jsd_x_max_percentile.mean.pval',\n",
       "       'ENCSR637XSC.sub.50M.logfc.mean', 'ENCSR637XSC.sub.50M.jsd_sign.mean',\n",
       "       'ENCSR637XSC.sub.50M.abs_logfc_x_jsd_x_max_percentile.mean',\n",
       "       'ENCSR637XSC.sub.50M.abs_logfc_x_jsd_x_max_percentile.mean.pval',\n",
       "       'ENCSR000EMT.logfc.mean', 'ENCSR000EMT.jsd_sign.mean',\n",
       "       'ENCSR000EMT.abs_logfc_x_jsd_x_max_percentile.mean',\n",
       "       'ENCSR000EMT.abs_logfc_x_jsd_x_max_percentile.mean.pval'],\n",
       "      dtype='object')"
      ]
     },
     "execution_count": 20,
     "metadata": {},
     "output_type": "execute_result"
    }
   ],
   "source": [
    "snps.head(1).columns"
   ]
  },
  {
   "cell_type": "code",
   "execution_count": 24,
   "metadata": {},
   "outputs": [],
   "source": [
    "\n",
    "# temp = snps[snps[\"pvalue\"]<1e-4][[\"Chr\", \"position\", \"POSTallele\", \"ALTallele\"]]\n",
    "# temp[\"rsid\"] = snps[\"Chr\"]+\"_\"+snps[\"position\"].astype(str)+\"_\"+snps[\"ALTallele\"]+\"_\"+snps[\"POSTallele\"]\n",
    "# temp.to_csv(\"/mnt/lab_data2/anusri/variant-scorer/src/output/bqtls_lcl/pu1/pu1_sig.tsv\", sep='\\t', header=False, index=False)\n"
   ]
  },
  {
   "cell_type": "code",
   "execution_count": 25,
   "metadata": {},
   "outputs": [
    {
     "data": {
      "text/html": [
       "<div>\n",
       "<style scoped>\n",
       "    .dataframe tbody tr th:only-of-type {\n",
       "        vertical-align: middle;\n",
       "    }\n",
       "\n",
       "    .dataframe tbody tr th {\n",
       "        vertical-align: top;\n",
       "    }\n",
       "\n",
       "    .dataframe thead th {\n",
       "        text-align: right;\n",
       "    }\n",
       "</style>\n",
       "<table border=\"1\" class=\"dataframe\">\n",
       "  <thead>\n",
       "    <tr style=\"text-align: right;\">\n",
       "      <th></th>\n",
       "      <th>Chr</th>\n",
       "      <th>position</th>\n",
       "      <th>POSTallele</th>\n",
       "      <th>ALTallele</th>\n",
       "      <th>rsid</th>\n",
       "    </tr>\n",
       "  </thead>\n",
       "  <tbody>\n",
       "    <tr>\n",
       "      <th>0</th>\n",
       "      <td>chr17</td>\n",
       "      <td>18967176</td>\n",
       "      <td>A</td>\n",
       "      <td>G</td>\n",
       "      <td>chr17_18967176_G_A</td>\n",
       "    </tr>\n",
       "    <tr>\n",
       "      <th>1</th>\n",
       "      <td>chr4</td>\n",
       "      <td>176935913</td>\n",
       "      <td>C</td>\n",
       "      <td>A</td>\n",
       "      <td>chr4_176935913_A_C</td>\n",
       "    </tr>\n",
       "    <tr>\n",
       "      <th>2</th>\n",
       "      <td>chr1</td>\n",
       "      <td>144534083</td>\n",
       "      <td>C</td>\n",
       "      <td>T</td>\n",
       "      <td>chr1_144534083_T_C</td>\n",
       "    </tr>\n",
       "    <tr>\n",
       "      <th>3</th>\n",
       "      <td>chr17</td>\n",
       "      <td>19015381</td>\n",
       "      <td>T</td>\n",
       "      <td>A</td>\n",
       "      <td>chr17_19015381_A_T</td>\n",
       "    </tr>\n",
       "    <tr>\n",
       "      <th>4</th>\n",
       "      <td>chr1</td>\n",
       "      <td>17231724</td>\n",
       "      <td>A</td>\n",
       "      <td>G</td>\n",
       "      <td>chr1_17231724_G_A</td>\n",
       "    </tr>\n",
       "  </tbody>\n",
       "</table>\n",
       "</div>"
      ],
      "text/plain": [
       "     Chr   position POSTallele ALTallele                rsid\n",
       "0  chr17   18967176          A         G  chr17_18967176_G_A\n",
       "1   chr4  176935913          C         A  chr4_176935913_A_C\n",
       "2   chr1  144534083          C         T  chr1_144534083_T_C\n",
       "3  chr17   19015381          T         A  chr17_19015381_A_T\n",
       "4   chr1   17231724          A         G   chr1_17231724_G_A"
      ]
     },
     "execution_count": 25,
     "metadata": {},
     "output_type": "execute_result"
    }
   ],
   "source": [
    "# temp.head()"
   ]
  },
  {
   "cell_type": "code",
   "execution_count": 26,
   "metadata": {},
   "outputs": [],
   "source": [
    "#enforer_recomputed_preds\n",
    "import pickle as pkl\n",
    "import os\n",
    "\n",
    "mean_change=[]\n",
    "rsids=[]\n",
    "\n",
    "enf_dir=\"/mnt/lab_data2/anusri/variant-scorer/src/output/bqtls_lcl/pu1/enformer_preds_small_window/\"\n",
    "\n",
    "enformer_recompute = pkl.load(open(enf_dir+\"/predictions_at_snp.pkl\",'rb'))\n",
    "for i in range(enformer_recompute[\"ref_logcount_preds\"].shape[0]):\n",
    "        mean_change.append(np.log2( (enformer_recompute[\"ref_logcount_preds\"][i,440:456].sum()+1) / (enformer_recompute[\"alt_logcount_preds\"][i,440:456].sum()+1)))\n",
    "        rsids.append(enformer_recompute[\"rsids\"][i])\n",
    "mean_change = np.array(mean_change)\n"
   ]
  },
  {
   "cell_type": "code",
   "execution_count": 30,
   "metadata": {},
   "outputs": [],
   "source": [
    "snps[\"enformer_recomputed\"] = np.nan\n",
    "snps.loc[snps[\"pvalue\"]<1e-4, \"enformer_recomputed\"] = mean_change"
   ]
  },
  {
   "cell_type": "code",
   "execution_count": 55,
   "metadata": {},
   "outputs": [
    {
     "data": {
      "text/plain": [
       "0       0.001704\n",
       "1      -0.990719\n",
       "2       0.143367\n",
       "3      -0.016722\n",
       "4      -0.075683\n",
       "          ...   \n",
       "4829   -0.013837\n",
       "4830   -0.001946\n",
       "4831    0.131631\n",
       "4832   -0.004711\n",
       "4833    0.160228\n",
       "Name: enformer_recomputed, Length: 4834, dtype: float64"
      ]
     },
     "execution_count": 55,
     "metadata": {},
     "output_type": "execute_result"
    }
   ],
   "source": [
    "snps[snps[\"pvalue\"]<1e-4][\"enformer_recomputed\"]"
   ]
  },
  {
   "cell_type": "code",
   "execution_count": 56,
   "metadata": {},
   "outputs": [
    {
     "data": {
      "text/plain": [
       "Index(['Chr', 'position', 'Depth', 'ALTdepth', 'REFDepth', 'ALTallele',\n",
       "       'POSTallele', 'POSTfreq', 'prechipfreq', 'pvalue',\n",
       "       'ENCSR637XSC.logfc.mean', 'ENCSR637XSC.jsd_sign.mean',\n",
       "       'ENCSR637XSC.abs_logfc_x_jsd_x_max_percentile.mean',\n",
       "       'ENCSR637XSC.abs_logfc_x_jsd_x_max_percentile.mean.pval',\n",
       "       'ENCSR637XSC.sub.50M.logfc.mean', 'ENCSR637XSC.sub.50M.jsd_sign.mean',\n",
       "       'ENCSR637XSC.sub.50M.abs_logfc_x_jsd_x_max_percentile.mean',\n",
       "       'ENCSR637XSC.sub.50M.abs_logfc_x_jsd_x_max_percentile.mean.pval',\n",
       "       'ENCSR000EMT.logfc.mean', 'ENCSR000EMT.jsd_sign.mean',\n",
       "       'ENCSR000EMT.abs_logfc_x_jsd_x_max_percentile.mean',\n",
       "       'ENCSR000EMT.abs_logfc_x_jsd_x_max_percentile.mean.pval',\n",
       "       'enformer_recomputed'],\n",
       "      dtype='object')"
      ]
     },
     "execution_count": 56,
     "metadata": {},
     "output_type": "execute_result"
    }
   ],
   "source": [
    "snps.columns"
   ]
  },
  {
   "cell_type": "code",
   "execution_count": 44,
   "metadata": {},
   "outputs": [],
   "source": [
    "enformer_preds = pd.read_csv(\"/mnt/lab_data2/anusri/enformer/bqtls/enformer_predictions_new.tsv\", sep=\"\\t\", header=0)"
   ]
  },
  {
   "cell_type": "code",
   "execution_count": 45,
   "metadata": {},
   "outputs": [
    {
     "data": {
      "text/html": [
       "<div>\n",
       "<style scoped>\n",
       "    .dataframe tbody tr th:only-of-type {\n",
       "        vertical-align: middle;\n",
       "    }\n",
       "\n",
       "    .dataframe tbody tr th {\n",
       "        vertical-align: top;\n",
       "    }\n",
       "\n",
       "    .dataframe thead th {\n",
       "        text-align: right;\n",
       "    }\n",
       "</style>\n",
       "<table border=\"1\" class=\"dataframe\">\n",
       "  <thead>\n",
       "    <tr style=\"text-align: right;\">\n",
       "      <th></th>\n",
       "      <th>chr</th>\n",
       "      <th>pos</th>\n",
       "      <th>ref</th>\n",
       "      <th>alt</th>\n",
       "      <th>rsid</th>\n",
       "      <th>DNASE_SAD</th>\n",
       "      <th>DNASE_SAR</th>\n",
       "    </tr>\n",
       "  </thead>\n",
       "  <tbody>\n",
       "    <tr>\n",
       "      <th>0</th>\n",
       "      <td>chr17</td>\n",
       "      <td>14320</td>\n",
       "      <td>G</td>\n",
       "      <td>A</td>\n",
       "      <td>rs7210283</td>\n",
       "      <td>0.000003</td>\n",
       "      <td>0.000004</td>\n",
       "    </tr>\n",
       "    <tr>\n",
       "      <th>1</th>\n",
       "      <td>chr17</td>\n",
       "      <td>14678</td>\n",
       "      <td>A</td>\n",
       "      <td>C</td>\n",
       "      <td>rs113247765</td>\n",
       "      <td>-0.000057</td>\n",
       "      <td>-0.000080</td>\n",
       "    </tr>\n",
       "    <tr>\n",
       "      <th>2</th>\n",
       "      <td>chr17</td>\n",
       "      <td>35514</td>\n",
       "      <td>A</td>\n",
       "      <td>C</td>\n",
       "      <td>rs8066551</td>\n",
       "      <td>-0.000435</td>\n",
       "      <td>-0.000601</td>\n",
       "    </tr>\n",
       "    <tr>\n",
       "      <th>3</th>\n",
       "      <td>chr17</td>\n",
       "      <td>35724</td>\n",
       "      <td>G</td>\n",
       "      <td>C</td>\n",
       "      <td>rs6565729</td>\n",
       "      <td>0.000144</td>\n",
       "      <td>0.000199</td>\n",
       "    </tr>\n",
       "    <tr>\n",
       "      <th>4</th>\n",
       "      <td>chr17</td>\n",
       "      <td>48103</td>\n",
       "      <td>C</td>\n",
       "      <td>T</td>\n",
       "      <td>rs113075245</td>\n",
       "      <td>-0.000002</td>\n",
       "      <td>-0.000003</td>\n",
       "    </tr>\n",
       "  </tbody>\n",
       "</table>\n",
       "</div>"
      ],
      "text/plain": [
       "     chr    pos ref alt         rsid  DNASE_SAD  DNASE_SAR\n",
       "0  chr17  14320   G   A    rs7210283   0.000003   0.000004\n",
       "1  chr17  14678   A   C  rs113247765  -0.000057  -0.000080\n",
       "2  chr17  35514   A   C    rs8066551  -0.000435  -0.000601\n",
       "3  chr17  35724   G   C    rs6565729   0.000144   0.000199\n",
       "4  chr17  48103   C   T  rs113075245  -0.000002  -0.000003"
      ]
     },
     "execution_count": 45,
     "metadata": {},
     "output_type": "execute_result"
    }
   ],
   "source": [
    "enformer_preds.head()"
   ]
  },
  {
   "cell_type": "code",
   "execution_count": 46,
   "metadata": {},
   "outputs": [
    {
     "data": {
      "text/html": [
       "<div>\n",
       "<style scoped>\n",
       "    .dataframe tbody tr th:only-of-type {\n",
       "        vertical-align: middle;\n",
       "    }\n",
       "\n",
       "    .dataframe tbody tr th {\n",
       "        vertical-align: top;\n",
       "    }\n",
       "\n",
       "    .dataframe thead th {\n",
       "        text-align: right;\n",
       "    }\n",
       "</style>\n",
       "<table border=\"1\" class=\"dataframe\">\n",
       "  <thead>\n",
       "    <tr style=\"text-align: right;\">\n",
       "      <th></th>\n",
       "      <th>Chr</th>\n",
       "      <th>position</th>\n",
       "      <th>Depth</th>\n",
       "      <th>ALTdepth</th>\n",
       "      <th>REFDepth</th>\n",
       "      <th>ALTallele</th>\n",
       "      <th>POSTallele</th>\n",
       "      <th>POSTfreq</th>\n",
       "      <th>prechipfreq</th>\n",
       "      <th>pvalue</th>\n",
       "      <th>...</th>\n",
       "      <th>ENCSR637XSC.abs_logfc_x_jsd_x_max_percentile.mean.pval</th>\n",
       "      <th>ENCSR637XSC.sub.50M.logfc.mean</th>\n",
       "      <th>ENCSR637XSC.sub.50M.jsd_sign.mean</th>\n",
       "      <th>ENCSR637XSC.sub.50M.abs_logfc_x_jsd_x_max_percentile.mean</th>\n",
       "      <th>ENCSR637XSC.sub.50M.abs_logfc_x_jsd_x_max_percentile.mean.pval</th>\n",
       "      <th>ENCSR000EMT.logfc.mean</th>\n",
       "      <th>ENCSR000EMT.jsd_sign.mean</th>\n",
       "      <th>ENCSR000EMT.abs_logfc_x_jsd_x_max_percentile.mean</th>\n",
       "      <th>ENCSR000EMT.abs_logfc_x_jsd_x_max_percentile.mean.pval</th>\n",
       "      <th>enformer_recomputed</th>\n",
       "    </tr>\n",
       "  </thead>\n",
       "  <tbody>\n",
       "    <tr>\n",
       "      <th>0</th>\n",
       "      <td>chr17</td>\n",
       "      <td>18967176</td>\n",
       "      <td>538</td>\n",
       "      <td>418</td>\n",
       "      <td>120</td>\n",
       "      <td>G</td>\n",
       "      <td>A</td>\n",
       "      <td>0.223048</td>\n",
       "      <td>0.866699</td>\n",
       "      <td>2.331853e-251</td>\n",
       "      <td>...</td>\n",
       "      <td>0.003758</td>\n",
       "      <td>0.292126</td>\n",
       "      <td>0.048841</td>\n",
       "      <td>0.012187</td>\n",
       "      <td>0.00344</td>\n",
       "      <td>0.36072</td>\n",
       "      <td>0.052333</td>\n",
       "      <td>0.017846</td>\n",
       "      <td>0.001838</td>\n",
       "      <td>0.001704</td>\n",
       "    </tr>\n",
       "  </tbody>\n",
       "</table>\n",
       "<p>1 rows × 23 columns</p>\n",
       "</div>"
      ],
      "text/plain": [
       "     Chr  position  Depth  ALTdepth  REFDepth ALTallele POSTallele  POSTfreq  \\\n",
       "0  chr17  18967176    538       418       120         G          A  0.223048   \n",
       "\n",
       "   prechipfreq         pvalue  ...  \\\n",
       "0     0.866699  2.331853e-251  ...   \n",
       "\n",
       "   ENCSR637XSC.abs_logfc_x_jsd_x_max_percentile.mean.pval  \\\n",
       "0                                           0.003758        \n",
       "\n",
       "   ENCSR637XSC.sub.50M.logfc.mean  ENCSR637XSC.sub.50M.jsd_sign.mean  \\\n",
       "0                        0.292126                           0.048841   \n",
       "\n",
       "   ENCSR637XSC.sub.50M.abs_logfc_x_jsd_x_max_percentile.mean  \\\n",
       "0                                           0.012187           \n",
       "\n",
       "   ENCSR637XSC.sub.50M.abs_logfc_x_jsd_x_max_percentile.mean.pval  \\\n",
       "0                                            0.00344                \n",
       "\n",
       "   ENCSR000EMT.logfc.mean  ENCSR000EMT.jsd_sign.mean  \\\n",
       "0                 0.36072                   0.052333   \n",
       "\n",
       "   ENCSR000EMT.abs_logfc_x_jsd_x_max_percentile.mean  \\\n",
       "0                                           0.017846   \n",
       "\n",
       "   ENCSR000EMT.abs_logfc_x_jsd_x_max_percentile.mean.pval  enformer_recomputed  \n",
       "0                                           0.001838                  0.001704  \n",
       "\n",
       "[1 rows x 23 columns]"
      ]
     },
     "execution_count": 46,
     "metadata": {},
     "output_type": "execute_result"
    }
   ],
   "source": [
    "snps.head(1)"
   ]
  },
  {
   "cell_type": "code",
   "execution_count": 47,
   "metadata": {},
   "outputs": [],
   "source": [
    "df1 = snps.merge(enformer_preds, right_on=[\"chr\", \"pos\", \"ref\", \"alt\"], left_on=[\"Chr\", \"position\",  \"POSTallele\", \"ALTallele\"], how=\"left\")\n",
    "df2 = snps.merge(enformer_preds, right_on=[\"chr\", \"pos\", \"alt\", \"ref\"], left_on=[\"Chr\", \"position\",  \"POSTallele\", \"ALTallele\"], how=\"left\")\n",
    "df2[\"DNASE_SAD\"] = df2[\"DNASE_SAD\"] * -1\n",
    "df2[\"DNASE_SAR\"] = df2[\"DNASE_SAR\"] * -1\n",
    "\n"
   ]
  },
  {
   "cell_type": "code",
   "execution_count": 48,
   "metadata": {},
   "outputs": [
    {
     "data": {
      "text/plain": [
       "(999799, 30)"
      ]
     },
     "execution_count": 48,
     "metadata": {},
     "output_type": "execute_result"
    }
   ],
   "source": [
    "df1.shape"
   ]
  },
  {
   "cell_type": "code",
   "execution_count": 49,
   "metadata": {},
   "outputs": [
    {
     "data": {
      "text/plain": [
       "(999799, 30)"
      ]
     },
     "execution_count": 49,
     "metadata": {},
     "output_type": "execute_result"
    }
   ],
   "source": [
    "df2.shape"
   ]
  },
  {
   "cell_type": "code",
   "execution_count": 50,
   "metadata": {},
   "outputs": [
    {
     "data": {
      "text/plain": [
       "881752"
      ]
     },
     "execution_count": 50,
     "metadata": {},
     "output_type": "execute_result"
    }
   ],
   "source": [
    "sum(~np.isnan(df1[\"DNASE_SAD\"]))"
   ]
  },
  {
   "cell_type": "code",
   "execution_count": 51,
   "metadata": {},
   "outputs": [
    {
     "data": {
      "text/plain": [
       "105717"
      ]
     },
     "execution_count": 51,
     "metadata": {},
     "output_type": "execute_result"
    }
   ],
   "source": [
    "sum(~np.isnan(df2[\"DNASE_SAD\"]))"
   ]
  },
  {
   "cell_type": "code",
   "execution_count": 52,
   "metadata": {},
   "outputs": [
    {
     "name": "stderr",
     "output_type": "stream",
     "text": [
      "/users/anusri/anaconda3/lib/python3.7/site-packages/ipykernel_launcher.py:1: SettingWithCopyWarning: \n",
      "A value is trying to be set on a copy of a slice from a DataFrame.\n",
      "Try using .loc[row_indexer,col_indexer] = value instead\n",
      "\n",
      "See the caveats in the documentation: https://pandas.pydata.org/pandas-docs/stable/user_guide/indexing.html#returning-a-view-versus-a-copy\n",
      "  \"\"\"Entry point for launching an IPython kernel.\n",
      "/users/anusri/anaconda3/lib/python3.7/site-packages/ipykernel_launcher.py:2: SettingWithCopyWarning: \n",
      "A value is trying to be set on a copy of a slice from a DataFrame.\n",
      "Try using .loc[row_indexer,col_indexer] = value instead\n",
      "\n",
      "See the caveats in the documentation: https://pandas.pydata.org/pandas-docs/stable/user_guide/indexing.html#returning-a-view-versus-a-copy\n",
      "  \n"
     ]
    }
   ],
   "source": [
    "df1[np.isnan(df1[\"DNASE_SAD\"])][\"DNASE_SAD\"] = df2[np.isnan(df1[\"DNASE_SAD\"])][\"DNASE_SAD\"]\n",
    "df1[np.isnan(df1[\"DNASE_SAD\"])][\"DNASE_SAR\"] = df2[np.isnan(df1[\"DNASE_SAD\"])][\"DNASE_SAR\"]"
   ]
  },
  {
   "cell_type": "code",
   "execution_count": 53,
   "metadata": {},
   "outputs": [
    {
     "data": {
      "text/plain": [
       "Index(['Chr', 'position', 'Depth', 'ALTdepth', 'REFDepth', 'ALTallele',\n",
       "       'POSTallele', 'POSTfreq', 'prechipfreq', 'pvalue',\n",
       "       'ENCSR637XSC.logfc.mean', 'ENCSR637XSC.jsd_sign.mean',\n",
       "       'ENCSR637XSC.abs_logfc_x_jsd_x_max_percentile.mean',\n",
       "       'ENCSR637XSC.abs_logfc_x_jsd_x_max_percentile.mean.pval',\n",
       "       'ENCSR637XSC.sub.50M.logfc.mean', 'ENCSR637XSC.sub.50M.jsd_sign.mean',\n",
       "       'ENCSR637XSC.sub.50M.abs_logfc_x_jsd_x_max_percentile.mean',\n",
       "       'ENCSR637XSC.sub.50M.abs_logfc_x_jsd_x_max_percentile.mean.pval',\n",
       "       'ENCSR000EMT.logfc.mean', 'ENCSR000EMT.jsd_sign.mean',\n",
       "       'ENCSR000EMT.abs_logfc_x_jsd_x_max_percentile.mean',\n",
       "       'ENCSR000EMT.abs_logfc_x_jsd_x_max_percentile.mean.pval',\n",
       "       'enformer_recomputed', 'chr', 'pos', 'ref', 'alt', 'rsid', 'DNASE_SAD',\n",
       "       'DNASE_SAR'],\n",
       "      dtype='object')"
      ]
     },
     "execution_count": 53,
     "metadata": {},
     "output_type": "execute_result"
    }
   ],
   "source": [
    "df1.columns"
   ]
  },
  {
   "cell_type": "code",
   "execution_count": 57,
   "metadata": {},
   "outputs": [],
   "source": [
    "dff = df1[['Chr', 'position', 'Depth', 'ALTdepth', 'REFDepth', 'ALTallele', \"enformer_recomputed\",\n",
    "       'POSTallele', 'POSTfreq', 'prechipfreq', 'pvalue',\n",
    "       'ENCSR637XSC.logfc.mean', 'ENCSR637XSC.jsd_sign.mean',\n",
    "       'ENCSR637XSC.abs_logfc_x_jsd_x_max_percentile.mean',\n",
    "       'ENCSR637XSC.abs_logfc_x_jsd_x_max_percentile.mean.pval',\n",
    "       'ENCSR637XSC.sub.50M.logfc.mean', 'ENCSR637XSC.sub.50M.jsd_sign.mean',\n",
    "       'ENCSR637XSC.sub.50M.abs_logfc_x_jsd_x_max_percentile.mean',\n",
    "       'ENCSR637XSC.sub.50M.abs_logfc_x_jsd_x_max_percentile.mean.pval',\n",
    "        'ENCSR000EMT.logfc.mean', 'ENCSR000EMT.jsd_sign.mean',\n",
    "       'ENCSR000EMT.abs_logfc_x_jsd_x_max_percentile.mean',\n",
    "       'ENCSR000EMT.abs_logfc_x_jsd_x_max_percentile.mean.pval', 'rsid', 'DNASE_SAD', 'DNASE_SAR']]"
   ]
  },
  {
   "cell_type": "code",
   "execution_count": 58,
   "metadata": {},
   "outputs": [],
   "source": [
    "peaks_bed = pd.read_csv(\"/mnt/lab_data2/anusri/variant-scorer/src/output/bqtls_lcl/pu1/ENCFF306SRV.bed.gz\", sep=\"\\t\", header=None)\n",
    "\n",
    "\n"
   ]
  },
  {
   "cell_type": "code",
   "execution_count": 59,
   "metadata": {},
   "outputs": [
    {
     "data": {
      "text/html": [
       "<div>\n",
       "<style scoped>\n",
       "    .dataframe tbody tr th:only-of-type {\n",
       "        vertical-align: middle;\n",
       "    }\n",
       "\n",
       "    .dataframe tbody tr th {\n",
       "        vertical-align: top;\n",
       "    }\n",
       "\n",
       "    .dataframe thead th {\n",
       "        text-align: right;\n",
       "    }\n",
       "</style>\n",
       "<table border=\"1\" class=\"dataframe\">\n",
       "  <thead>\n",
       "    <tr style=\"text-align: right;\">\n",
       "      <th></th>\n",
       "      <th>0</th>\n",
       "      <th>1</th>\n",
       "      <th>2</th>\n",
       "      <th>3</th>\n",
       "      <th>4</th>\n",
       "      <th>5</th>\n",
       "      <th>6</th>\n",
       "      <th>7</th>\n",
       "      <th>8</th>\n",
       "      <th>9</th>\n",
       "    </tr>\n",
       "  </thead>\n",
       "  <tbody>\n",
       "    <tr>\n",
       "      <th>0</th>\n",
       "      <td>chrX</td>\n",
       "      <td>16137892</td>\n",
       "      <td>16137990</td>\n",
       "      <td>.</td>\n",
       "      <td>1000</td>\n",
       "      <td>.</td>\n",
       "      <td>4.12871</td>\n",
       "      <td>-1.0</td>\n",
       "      <td>0.53677</td>\n",
       "      <td>70</td>\n",
       "    </tr>\n",
       "  </tbody>\n",
       "</table>\n",
       "</div>"
      ],
      "text/plain": [
       "      0         1         2  3     4  5        6    7        8   9\n",
       "0  chrX  16137892  16137990  .  1000  .  4.12871 -1.0  0.53677  70"
      ]
     },
     "execution_count": 59,
     "metadata": {},
     "output_type": "execute_result"
    }
   ],
   "source": [
    "peaks_bed.head(1)"
   ]
  },
  {
   "cell_type": "code",
   "execution_count": 60,
   "metadata": {},
   "outputs": [],
   "source": [
    "peaks_bed[1] = peaks_bed[1] + peaks_bed[9] - 100\n",
    "peaks_bed[2] = peaks_bed[1] + 200"
   ]
  },
  {
   "cell_type": "code",
   "execution_count": null,
   "metadata": {},
   "outputs": [],
   "source": []
  },
  {
   "cell_type": "code",
   "execution_count": 61,
   "metadata": {},
   "outputs": [
    {
     "name": "stderr",
     "output_type": "stream",
     "text": [
      "/users/anusri/anaconda3/lib/python3.7/site-packages/ipykernel_launcher.py:1: SettingWithCopyWarning: \n",
      "A value is trying to be set on a copy of a slice from a DataFrame.\n",
      "Try using .loc[row_indexer,col_indexer] = value instead\n",
      "\n",
      "See the caveats in the documentation: https://pandas.pydata.org/pandas-docs/stable/user_guide/indexing.html#returning-a-view-versus-a-copy\n",
      "  \"\"\"Entry point for launching an IPython kernel.\n"
     ]
    }
   ],
   "source": [
    "dff[\"pos0\"] = dff[\"position\"] - 1\n",
    "selected_beds = dff[['Chr', \"pos0\", 'position', 'Depth', 'ALTdepth', 'REFDepth', 'ALTallele',\n",
    "       'POSTallele', 'POSTfreq', 'prechipfreq', 'pvalue',\n",
    "       'ENCSR637XSC.logfc.mean', 'ENCSR637XSC.jsd_sign.mean',\n",
    "       'ENCSR637XSC.abs_logfc_x_jsd_x_max_percentile.mean',\n",
    "       'ENCSR637XSC.abs_logfc_x_jsd_x_max_percentile.mean.pval',\n",
    "       'ENCSR637XSC.sub.50M.logfc.mean', 'ENCSR637XSC.sub.50M.jsd_sign.mean',\n",
    "       'ENCSR637XSC.sub.50M.abs_logfc_x_jsd_x_max_percentile.mean',\n",
    "       'ENCSR637XSC.sub.50M.abs_logfc_x_jsd_x_max_percentile.mean.pval',\n",
    "       'ENCSR000EMT.logfc.mean', 'ENCSR000EMT.jsd_sign.mean',\n",
    "       'ENCSR000EMT.abs_logfc_x_jsd_x_max_percentile.mean',\n",
    "       'ENCSR000EMT.abs_logfc_x_jsd_x_max_percentile.mean.pval', 'rsid', 'DNASE_SAD', 'DNASE_SAR']]"
   ]
  },
  {
   "cell_type": "code",
   "execution_count": 62,
   "metadata": {},
   "outputs": [],
   "source": [
    "import pybedtools\n",
    "beds_var = pybedtools.BedTool.from_dataframe(selected_beds)\n",
    "peak_bed =  pybedtools.BedTool.from_dataframe(peaks_bed)\n",
    "sig_vars_in_bed = beds_var.intersect(peak_bed, c=True)"
   ]
  },
  {
   "cell_type": "code",
   "execution_count": 63,
   "metadata": {},
   "outputs": [],
   "source": [
    "sig_vars_in_bed = sig_vars_in_bed.to_dataframe(names=['Chr', \"pos0\", 'position', 'Depth', 'ALTdepth', 'REFDepth', 'ALTallele',\n",
    "       'POSTallele', 'POSTfreq', 'prechipfreq', 'pvalue',\n",
    "       'ENCSR637XSC.logfc.mean', 'ENCSR637XSC.jsd_sign.mean',\n",
    "       'ENCSR637XSC.abs_logfc_x_jsd_x_max_percentile.mean',\n",
    "       'ENCSR637XSC.abs_logfc_x_jsd_x_max_percentile.mean.pval',\n",
    "       'ENCSR637XSC.sub.50M.logfc.mean', 'ENCSR637XSC.sub.50M.jsd_sign.mean',\n",
    "       'ENCSR637XSC.sub.50M.abs_logfc_x_jsd_x_max_percentile.mean',\n",
    "       'ENCSR637XSC.sub.50M.abs_logfc_x_jsd_x_max_percentile.mean.pval',\n",
    "        'ENCSR000EMT.logfc.mean', 'ENCSR000EMT.jsd_sign.mean',\n",
    "       'ENCSR000EMT.abs_logfc_x_jsd_x_max_percentile.mean',\n",
    "       'ENCSR000EMT.abs_logfc_x_jsd_x_max_percentile.mean.pval', 'rsid', 'DNASE_SAD', 'DNASE_SAR', \"count\"]).drop_duplicates()\n"
   ]
  },
  {
   "cell_type": "code",
   "execution_count": 64,
   "metadata": {},
   "outputs": [],
   "source": [
    "sig_vars_in_bed[\"count\"] = sig_vars_in_bed[\"count\"] > 0"
   ]
  },
  {
   "cell_type": "code",
   "execution_count": 65,
   "metadata": {},
   "outputs": [
    {
     "data": {
      "text/plain": [
       "25778"
      ]
     },
     "execution_count": 65,
     "metadata": {},
     "output_type": "execute_result"
    }
   ],
   "source": [
    "sum(sig_vars_in_bed[\"count\"])"
   ]
  },
  {
   "cell_type": "code",
   "execution_count": 66,
   "metadata": {},
   "outputs": [
    {
     "data": {
      "text/plain": [
       "(999799, 27)"
      ]
     },
     "execution_count": 66,
     "metadata": {},
     "output_type": "execute_result"
    }
   ],
   "source": [
    "sig_vars_in_bed.shape"
   ]
  },
  {
   "cell_type": "code",
   "execution_count": 67,
   "metadata": {},
   "outputs": [
    {
     "data": {
      "text/plain": [
       "Index(['Chr', 'pos0', 'position', 'Depth', 'ALTdepth', 'REFDepth', 'ALTallele',\n",
       "       'POSTallele', 'POSTfreq', 'prechipfreq', 'pvalue',\n",
       "       'ENCSR637XSC.logfc.mean', 'ENCSR637XSC.jsd_sign.mean',\n",
       "       'ENCSR637XSC.abs_logfc_x_jsd_x_max_percentile.mean',\n",
       "       'ENCSR637XSC.abs_logfc_x_jsd_x_max_percentile.mean.pval',\n",
       "       'ENCSR637XSC.sub.50M.logfc.mean', 'ENCSR637XSC.sub.50M.jsd_sign.mean',\n",
       "       'ENCSR637XSC.sub.50M.abs_logfc_x_jsd_x_max_percentile.mean',\n",
       "       'ENCSR637XSC.sub.50M.abs_logfc_x_jsd_x_max_percentile.mean.pval',\n",
       "       'ENCSR000EMT.logfc.mean', 'ENCSR000EMT.jsd_sign.mean',\n",
       "       'ENCSR000EMT.abs_logfc_x_jsd_x_max_percentile.mean',\n",
       "       'ENCSR000EMT.abs_logfc_x_jsd_x_max_percentile.mean.pval', 'rsid',\n",
       "       'DNASE_SAD', 'DNASE_SAR', 'count'],\n",
       "      dtype='object')"
      ]
     },
     "execution_count": 67,
     "metadata": {},
     "output_type": "execute_result"
    }
   ],
   "source": [
    "sig_vars_in_bed[sig_vars_in_bed[\"count\"]].columns"
   ]
  },
  {
   "cell_type": "code",
   "execution_count": 68,
   "metadata": {},
   "outputs": [
    {
     "data": {
      "text/plain": [
       "1037"
      ]
     },
     "execution_count": 68,
     "metadata": {},
     "output_type": "execute_result"
    }
   ],
   "source": [
    "sum(sig_vars_in_bed[sig_vars_in_bed[\"count\"]]['pvalue'] < 1e-4)"
   ]
  },
  {
   "cell_type": "code",
   "execution_count": 69,
   "metadata": {},
   "outputs": [
    {
     "data": {
      "text/plain": [
       "881752"
      ]
     },
     "execution_count": 69,
     "metadata": {},
     "output_type": "execute_result"
    }
   ],
   "source": [
    "sum(~np.isnan(dff[\"DNASE_SAD\"]))"
   ]
  },
  {
   "cell_type": "code",
   "execution_count": 70,
   "metadata": {},
   "outputs": [
    {
     "data": {
      "text/plain": [
       "(999799, 27)"
      ]
     },
     "execution_count": 70,
     "metadata": {},
     "output_type": "execute_result"
    }
   ],
   "source": [
    "dff.shape"
   ]
  },
  {
   "cell_type": "code",
   "execution_count": 71,
   "metadata": {},
   "outputs": [
    {
     "name": "stderr",
     "output_type": "stream",
     "text": [
      "/users/anusri/anaconda3/lib/python3.7/site-packages/ipykernel_launcher.py:2: SettingWithCopyWarning: \n",
      "A value is trying to be set on a copy of a slice from a DataFrame.\n",
      "Try using .loc[row_indexer,col_indexer] = value instead\n",
      "\n",
      "See the caveats in the documentation: https://pandas.pydata.org/pandas-docs/stable/user_guide/indexing.html#returning-a-view-versus-a-copy\n",
      "  \n",
      "/users/anusri/anaconda3/lib/python3.7/site-packages/ipykernel_launcher.py:3: SettingWithCopyWarning: \n",
      "A value is trying to be set on a copy of a slice from a DataFrame.\n",
      "Try using .loc[row_indexer,col_indexer] = value instead\n",
      "\n",
      "See the caveats in the documentation: https://pandas.pydata.org/pandas-docs/stable/user_guide/indexing.html#returning-a-view-versus-a-copy\n",
      "  This is separate from the ipykernel package so we can avoid doing imports until\n"
     ]
    }
   ],
   "source": [
    "#dff[\"IsUsed\"] = (~np.isnan(dff[\"DNASE_SAD\"])) & (sig_vars_in_bed[\"count\"])\n",
    "dff[\"IsUsed\"] = ~np.isnan(dff[\"DNASE_SAD\"])\n",
    "dff[\"InPeaks\"] = (~np.isnan(dff[\"DNASE_SAD\"])) & (sig_vars_in_bed[\"count\"])"
   ]
  },
  {
   "cell_type": "code",
   "execution_count": 72,
   "metadata": {},
   "outputs": [],
   "source": [
    "dff.to_csv(\"../final_figures_new/spi1_bqtls.new.tsv\",sep=\"\\t\", header=True, index=False)"
   ]
  },
  {
   "cell_type": "code",
   "execution_count": 41,
   "metadata": {},
   "outputs": [
    {
     "data": {
      "text/plain": [
       "881752"
      ]
     },
     "execution_count": 41,
     "metadata": {},
     "output_type": "execute_result"
    }
   ],
   "source": [
    "sum(dff[\"IsUsed\"])"
   ]
  },
  {
   "cell_type": "code",
   "execution_count": 42,
   "metadata": {},
   "outputs": [
    {
     "data": {
      "text/plain": [
       "(999799, 28)"
      ]
     },
     "execution_count": 42,
     "metadata": {},
     "output_type": "execute_result"
    }
   ],
   "source": [
    "dff.shape"
   ]
  },
  {
   "cell_type": "code",
   "execution_count": 43,
   "metadata": {},
   "outputs": [
    {
     "data": {
      "text/plain": [
       "881752"
      ]
     },
     "execution_count": 43,
     "metadata": {},
     "output_type": "execute_result"
    }
   ],
   "source": [
    "sum(dff[\"IsUsed\"])"
   ]
  },
  {
   "cell_type": "code",
   "execution_count": 44,
   "metadata": {},
   "outputs": [],
   "source": [
    "#dff[\"IsUsed\"] = (~np.isnan(dff[\"DNASE_SAD\"])) & (sig_vars_in_bed[\"count\"])\n"
   ]
  },
  {
   "cell_type": "code",
   "execution_count": 45,
   "metadata": {},
   "outputs": [
    {
     "data": {
      "text/plain": [
       "22627"
      ]
     },
     "execution_count": 45,
     "metadata": {},
     "output_type": "execute_result"
    }
   ],
   "source": [
    "sum(dff[\"InPeaks\"])"
   ]
  },
  {
   "cell_type": "code",
   "execution_count": 46,
   "metadata": {},
   "outputs": [
    {
     "data": {
      "text/plain": [
       "3818"
      ]
     },
     "execution_count": 46,
     "metadata": {},
     "output_type": "execute_result"
    }
   ],
   "source": [
    "sum(dff[\"IsUsed\"] & (dff[\"pvalue\"]<1e-4))"
   ]
  },
  {
   "cell_type": "code",
   "execution_count": 47,
   "metadata": {},
   "outputs": [
    {
     "data": {
      "text/plain": [
       "3818"
      ]
     },
     "execution_count": 47,
     "metadata": {},
     "output_type": "execute_result"
    }
   ],
   "source": [
    "sum((dff[dff[\"IsUsed\"]][\"pvalue\"]<1e-4))"
   ]
  },
  {
   "cell_type": "code",
   "execution_count": null,
   "metadata": {},
   "outputs": [],
   "source": []
  },
  {
   "cell_type": "code",
   "execution_count": 48,
   "metadata": {},
   "outputs": [
    {
     "data": {
      "text/plain": [
       "(999799, 22)"
      ]
     },
     "execution_count": 48,
     "metadata": {},
     "output_type": "execute_result"
    }
   ],
   "source": [
    "snps.shape"
   ]
  },
  {
   "cell_type": "code",
   "execution_count": 49,
   "metadata": {},
   "outputs": [
    {
     "data": {
      "text/plain": [
       "4834"
      ]
     },
     "execution_count": 49,
     "metadata": {},
     "output_type": "execute_result"
    }
   ],
   "source": [
    "sum(snps[\"pvalue\"] < 1e-4)"
   ]
  },
  {
   "cell_type": "code",
   "execution_count": 50,
   "metadata": {},
   "outputs": [
    {
     "data": {
      "text/plain": [
       "3818"
      ]
     },
     "execution_count": 50,
     "metadata": {},
     "output_type": "execute_result"
    }
   ],
   "source": [
    "sum(dff[dff[\"IsUsed\"]][\"pvalue\"] < 1e-4)"
   ]
  },
  {
   "cell_type": "code",
   "execution_count": null,
   "metadata": {},
   "outputs": [],
   "source": []
  }
 ],
 "metadata": {
  "kernelspec": {
   "display_name": "Python 3",
   "language": "python",
   "name": "python3"
  },
  "language_info": {
   "codemirror_mode": {
    "name": "ipython",
    "version": 3
   },
   "file_extension": ".py",
   "mimetype": "text/x-python",
   "name": "python",
   "nbconvert_exporter": "python",
   "pygments_lexer": "ipython3",
   "version": "3.7.6"
  }
 },
 "nbformat": 4,
 "nbformat_minor": 4
}
