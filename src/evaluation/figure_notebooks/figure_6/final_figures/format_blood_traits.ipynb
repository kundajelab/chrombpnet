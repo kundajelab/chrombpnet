{
 "cells": [
  {
   "cell_type": "code",
   "execution_count": 1,
   "metadata": {},
   "outputs": [],
   "source": [
    "import pandas as pd"
   ]
  },
  {
   "cell_type": "code",
   "execution_count": 2,
   "metadata": {},
   "outputs": [],
   "source": [
    "scored_variants = pd.read_csv(\"/mnt/lab_data2/anusri/signed_variant_scorer/variant-scorer/output/blood_traits/ATAC/summary.mean.variant_scores.tsv\", sep=\"\\t\", header=0)\n",
    "blood_variants=pd.read_csv(\"/mnt/lab_data2/anusri/signed_variant_scorer/variant-scorer/output/blood_traits/SNP_info_table.tsv\", sep=\"\\t\", header=0)\n",
    "scored_variants_dnase = pd.read_csv(\"/mnt/lab_data2/anusri/signed_variant_scorer/variant-scorer/output/blood_traits/DNASE/summary.mean.variant_scores.tsv\", sep=\"\\t\", header=0)\n"
   ]
  },
  {
   "cell_type": "code",
   "execution_count": 3,
   "metadata": {},
   "outputs": [],
   "source": [
    "import numpy as np\n",
    "scored_variants[\"sign.jsd.mean\"] = scored_variants[\"jsd.mean\"] * np.sign(scored_variants[\"logfc.mean\"])\n",
    "scored_variants = scored_variants[['chr', 'pos', 'allele1', 'allele2', 'variant_id', 'logfc.mean', \"sign.jsd.mean\", \"abs_logfc_x_jsd_x_max_percentile.mean\", 'abs_logfc_x_jsd_x_max_percentile.mean.pval']]\n",
    "\n",
    "scored_variants_dnase[\"sign.jsd.mean\"] = scored_variants_dnase[\"jsd.mean\"] * np.sign(scored_variants_dnase[\"logfc.mean\"])\n",
    "scored_variants_dnase = scored_variants_dnase[['chr', 'pos', 'allele1', 'allele2', 'variant_id', 'logfc.mean', \"sign.jsd.mean\", \"abs_logfc_x_jsd_x_max_percentile.mean\", 'abs_logfc_x_jsd_x_max_percentile.mean.pval']]\n"
   ]
  },
  {
   "cell_type": "code",
   "execution_count": 4,
   "metadata": {},
   "outputs": [],
   "source": [
    "final = scored_variants.merge(blood_variants, how=\"left\", left_on=[\"variant_id\", \"allele1\", \"allele2\"], right_on=[\"rsid\", \"allele1\", \"allele2\"])\n"
   ]
  },
  {
   "cell_type": "code",
   "execution_count": 5,
   "metadata": {},
   "outputs": [
    {
     "data": {
      "text/plain": [
       "Index(['chr', 'pos', 'allele1', 'allele2', 'variant_id', 'logfc.mean',\n",
       "       'sign.jsd.mean', 'abs_logfc_x_jsd_x_max_percentile.mean',\n",
       "       'abs_logfc_x_jsd_x_max_percentile.mean.pval', 'rsid', 'traits', 'IDs',\n",
       "       'maxPIP'],\n",
       "      dtype='object')"
      ]
     },
     "execution_count": 5,
     "metadata": {},
     "output_type": "execute_result"
    }
   ],
   "source": [
    "final.columns"
   ]
  },
  {
   "cell_type": "code",
   "execution_count": 6,
   "metadata": {},
   "outputs": [
    {
     "data": {
      "text/plain": [
       "(11916124, 13)"
      ]
     },
     "execution_count": 6,
     "metadata": {},
     "output_type": "execute_result"
    }
   ],
   "source": [
    "final.shape"
   ]
  },
  {
   "cell_type": "code",
   "execution_count": 8,
   "metadata": {},
   "outputs": [
    {
     "data": {
      "text/plain": [
       "(11916124, 9)"
      ]
     },
     "execution_count": 8,
     "metadata": {},
     "output_type": "execute_result"
    }
   ],
   "source": [
    "\n",
    "scored_variants.shape"
   ]
  },
  {
   "cell_type": "code",
   "execution_count": 9,
   "metadata": {},
   "outputs": [
    {
     "data": {
      "text/plain": [
       "(12951, 6)"
      ]
     },
     "execution_count": 9,
     "metadata": {},
     "output_type": "execute_result"
    }
   ],
   "source": [
    "blood_variants.shape"
   ]
  },
  {
   "cell_type": "code",
   "execution_count": 10,
   "metadata": {},
   "outputs": [
    {
     "data": {
      "text/plain": [
       "(11916124, 9)"
      ]
     },
     "execution_count": 10,
     "metadata": {},
     "output_type": "execute_result"
    }
   ],
   "source": [
    "scored_variants_dnase.shape"
   ]
  },
  {
   "cell_type": "code",
   "execution_count": 12,
   "metadata": {},
   "outputs": [],
   "source": [
    "rename_dict = {'logfc.mean': 'ENCSR637XSC.logfc.mean' , 'sign.jsd.mean': 'ENCSR637XSC.sign_jsd.mean' ,'abs_logfc_x_jsd_x_max_percentile.mean': 'ENCSR637XSC.abs_logfc_x_jsd_x_max_percentile.mean', 'abs_logfc_x_jsd_x_max_percentile.mean.pval': 'ENCSR637XSC.abs_logfc_x_jsd_x_max_percentile.mean.pval'}\n",
    "\n",
    "final = final.rename(columns=rename_dict)\n"
   ]
  },
  {
   "cell_type": "code",
   "execution_count": 14,
   "metadata": {},
   "outputs": [],
   "source": [
    "for key in rename_dict:\n",
    "    val = rename_dict[key]\n",
    "    val = val.replace(\"ENCSR637XSC.\", \"ENCSR000EMT.\")\n",
    "    final[val] = scored_variants_dnase[key]\n",
    "    "
   ]
  },
  {
   "cell_type": "code",
   "execution_count": 15,
   "metadata": {},
   "outputs": [
    {
     "data": {
      "text/html": [
       "<div>\n",
       "<style scoped>\n",
       "    .dataframe tbody tr th:only-of-type {\n",
       "        vertical-align: middle;\n",
       "    }\n",
       "\n",
       "    .dataframe tbody tr th {\n",
       "        vertical-align: top;\n",
       "    }\n",
       "\n",
       "    .dataframe thead th {\n",
       "        text-align: right;\n",
       "    }\n",
       "</style>\n",
       "<table border=\"1\" class=\"dataframe\">\n",
       "  <thead>\n",
       "    <tr style=\"text-align: right;\">\n",
       "      <th></th>\n",
       "      <th>chr</th>\n",
       "      <th>pos</th>\n",
       "      <th>allele1</th>\n",
       "      <th>allele2</th>\n",
       "      <th>variant_id</th>\n",
       "      <th>ENCSR637XSC.logfc.mean</th>\n",
       "      <th>ENCSR637XSC.sign_jsd.mean</th>\n",
       "      <th>ENCSR637XSC.abs_logfc_x_jsd_x_max_percentile.mean</th>\n",
       "      <th>ENCSR637XSC.abs_logfc_x_jsd_x_max_percentile.mean.pval</th>\n",
       "      <th>rsid</th>\n",
       "      <th>traits</th>\n",
       "      <th>IDs</th>\n",
       "      <th>maxPIP</th>\n",
       "      <th>ENCSR000EMT.logfc.mean</th>\n",
       "      <th>ENCSR000EMT.sign_jsd.mean</th>\n",
       "      <th>ENCSR000EMT.abs_logfc_x_jsd_x_max_percentile.mean</th>\n",
       "      <th>ENCSR000EMT.abs_logfc_x_jsd_x_max_percentile.mean.pval</th>\n",
       "    </tr>\n",
       "  </thead>\n",
       "  <tbody>\n",
       "    <tr>\n",
       "      <th>0</th>\n",
       "      <td>chr1</td>\n",
       "      <td>10352</td>\n",
       "      <td>T</td>\n",
       "      <td>TA</td>\n",
       "      <td>rs150218945</td>\n",
       "      <td>-0.036835</td>\n",
       "      <td>-0.016749</td>\n",
       "      <td>0.000497</td>\n",
       "      <td>0.055084</td>\n",
       "      <td>NaN</td>\n",
       "      <td>NaN</td>\n",
       "      <td>NaN</td>\n",
       "      <td>NaN</td>\n",
       "      <td>0.004799</td>\n",
       "      <td>0.013399</td>\n",
       "      <td>0.000059</td>\n",
       "      <td>0.219019</td>\n",
       "    </tr>\n",
       "  </tbody>\n",
       "</table>\n",
       "</div>"
      ],
      "text/plain": [
       "    chr    pos allele1 allele2   variant_id  ENCSR637XSC.logfc.mean  \\\n",
       "0  chr1  10352       T      TA  rs150218945               -0.036835   \n",
       "\n",
       "   ENCSR637XSC.sign_jsd.mean  \\\n",
       "0                  -0.016749   \n",
       "\n",
       "   ENCSR637XSC.abs_logfc_x_jsd_x_max_percentile.mean  \\\n",
       "0                                           0.000497   \n",
       "\n",
       "   ENCSR637XSC.abs_logfc_x_jsd_x_max_percentile.mean.pval rsid traits  IDs  \\\n",
       "0                                           0.055084       NaN    NaN  NaN   \n",
       "\n",
       "   maxPIP  ENCSR000EMT.logfc.mean  ENCSR000EMT.sign_jsd.mean  \\\n",
       "0     NaN                0.004799                   0.013399   \n",
       "\n",
       "   ENCSR000EMT.abs_logfc_x_jsd_x_max_percentile.mean  \\\n",
       "0                                           0.000059   \n",
       "\n",
       "   ENCSR000EMT.abs_logfc_x_jsd_x_max_percentile.mean.pval  \n",
       "0                                           0.219019       "
      ]
     },
     "execution_count": 15,
     "metadata": {},
     "output_type": "execute_result"
    }
   ],
   "source": [
    "final.head(1)"
   ]
  },
  {
   "cell_type": "code",
   "execution_count": 16,
   "metadata": {},
   "outputs": [],
   "source": [
    "final.to_csv(\"../final_figures_new/k562.gwas_variants.tsv\", sep=\"\\t\", header=True, index=False)"
   ]
  },
  {
   "cell_type": "code",
   "execution_count": 17,
   "metadata": {},
   "outputs": [
    {
     "data": {
      "text/html": [
       "<div>\n",
       "<style scoped>\n",
       "    .dataframe tbody tr th:only-of-type {\n",
       "        vertical-align: middle;\n",
       "    }\n",
       "\n",
       "    .dataframe tbody tr th {\n",
       "        vertical-align: top;\n",
       "    }\n",
       "\n",
       "    .dataframe thead th {\n",
       "        text-align: right;\n",
       "    }\n",
       "</style>\n",
       "<table border=\"1\" class=\"dataframe\">\n",
       "  <thead>\n",
       "    <tr style=\"text-align: right;\">\n",
       "      <th></th>\n",
       "      <th>chr</th>\n",
       "      <th>pos</th>\n",
       "      <th>allele1</th>\n",
       "      <th>allele2</th>\n",
       "      <th>variant_id</th>\n",
       "      <th>ENCSR637XSC.logfc.mean</th>\n",
       "      <th>ENCSR637XSC.sign_jsd.mean</th>\n",
       "      <th>ENCSR637XSC.abs_logfc_x_jsd_x_max_percentile.mean</th>\n",
       "      <th>ENCSR637XSC.abs_logfc_x_jsd_x_max_percentile.mean.pval</th>\n",
       "      <th>rsid</th>\n",
       "      <th>traits</th>\n",
       "      <th>IDs</th>\n",
       "      <th>maxPIP</th>\n",
       "      <th>ENCSR000EMT.logfc.mean</th>\n",
       "      <th>ENCSR000EMT.sign_jsd.mean</th>\n",
       "      <th>ENCSR000EMT.abs_logfc_x_jsd_x_max_percentile.mean</th>\n",
       "      <th>ENCSR000EMT.abs_logfc_x_jsd_x_max_percentile.mean.pval</th>\n",
       "    </tr>\n",
       "  </thead>\n",
       "  <tbody>\n",
       "    <tr>\n",
       "      <th>0</th>\n",
       "      <td>chr1</td>\n",
       "      <td>10352</td>\n",
       "      <td>T</td>\n",
       "      <td>TA</td>\n",
       "      <td>rs150218945</td>\n",
       "      <td>-0.036835</td>\n",
       "      <td>-0.016749</td>\n",
       "      <td>0.000497</td>\n",
       "      <td>0.055084</td>\n",
       "      <td>NaN</td>\n",
       "      <td>NaN</td>\n",
       "      <td>NaN</td>\n",
       "      <td>NaN</td>\n",
       "      <td>0.004799</td>\n",
       "      <td>0.013399</td>\n",
       "      <td>0.000059</td>\n",
       "      <td>0.219019</td>\n",
       "    </tr>\n",
       "    <tr>\n",
       "      <th>1</th>\n",
       "      <td>chr1</td>\n",
       "      <td>11012</td>\n",
       "      <td>C</td>\n",
       "      <td>G</td>\n",
       "      <td>rs544419019</td>\n",
       "      <td>-0.010156</td>\n",
       "      <td>-0.022090</td>\n",
       "      <td>0.000218</td>\n",
       "      <td>0.116639</td>\n",
       "      <td>NaN</td>\n",
       "      <td>NaN</td>\n",
       "      <td>NaN</td>\n",
       "      <td>NaN</td>\n",
       "      <td>0.008337</td>\n",
       "      <td>0.031942</td>\n",
       "      <td>0.000489</td>\n",
       "      <td>0.061075</td>\n",
       "    </tr>\n",
       "    <tr>\n",
       "      <th>2</th>\n",
       "      <td>chr1</td>\n",
       "      <td>13110</td>\n",
       "      <td>G</td>\n",
       "      <td>A</td>\n",
       "      <td>rs540538026</td>\n",
       "      <td>-0.005588</td>\n",
       "      <td>-0.003792</td>\n",
       "      <td>0.000005</td>\n",
       "      <td>0.703089</td>\n",
       "      <td>NaN</td>\n",
       "      <td>NaN</td>\n",
       "      <td>NaN</td>\n",
       "      <td>NaN</td>\n",
       "      <td>-0.000662</td>\n",
       "      <td>-0.004676</td>\n",
       "      <td>0.000001</td>\n",
       "      <td>0.727699</td>\n",
       "    </tr>\n",
       "    <tr>\n",
       "      <th>3</th>\n",
       "      <td>chr1</td>\n",
       "      <td>13116</td>\n",
       "      <td>T</td>\n",
       "      <td>G</td>\n",
       "      <td>rs62635286</td>\n",
       "      <td>0.006778</td>\n",
       "      <td>0.005039</td>\n",
       "      <td>0.000011</td>\n",
       "      <td>0.649554</td>\n",
       "      <td>NaN</td>\n",
       "      <td>NaN</td>\n",
       "      <td>NaN</td>\n",
       "      <td>NaN</td>\n",
       "      <td>0.007013</td>\n",
       "      <td>0.005918</td>\n",
       "      <td>0.000002</td>\n",
       "      <td>0.620976</td>\n",
       "    </tr>\n",
       "    <tr>\n",
       "      <th>4</th>\n",
       "      <td>chr1</td>\n",
       "      <td>13118</td>\n",
       "      <td>A</td>\n",
       "      <td>G</td>\n",
       "      <td>rs200579949</td>\n",
       "      <td>0.028640</td>\n",
       "      <td>0.006264</td>\n",
       "      <td>0.000050</td>\n",
       "      <td>0.334598</td>\n",
       "      <td>NaN</td>\n",
       "      <td>NaN</td>\n",
       "      <td>NaN</td>\n",
       "      <td>NaN</td>\n",
       "      <td>0.013721</td>\n",
       "      <td>0.006579</td>\n",
       "      <td>0.000006</td>\n",
       "      <td>0.504230</td>\n",
       "    </tr>\n",
       "  </tbody>\n",
       "</table>\n",
       "</div>"
      ],
      "text/plain": [
       "    chr    pos allele1 allele2   variant_id  ENCSR637XSC.logfc.mean  \\\n",
       "0  chr1  10352       T      TA  rs150218945               -0.036835   \n",
       "1  chr1  11012       C       G  rs544419019               -0.010156   \n",
       "2  chr1  13110       G       A  rs540538026               -0.005588   \n",
       "3  chr1  13116       T       G   rs62635286                0.006778   \n",
       "4  chr1  13118       A       G  rs200579949                0.028640   \n",
       "\n",
       "   ENCSR637XSC.sign_jsd.mean  \\\n",
       "0                  -0.016749   \n",
       "1                  -0.022090   \n",
       "2                  -0.003792   \n",
       "3                   0.005039   \n",
       "4                   0.006264   \n",
       "\n",
       "   ENCSR637XSC.abs_logfc_x_jsd_x_max_percentile.mean  \\\n",
       "0                                           0.000497   \n",
       "1                                           0.000218   \n",
       "2                                           0.000005   \n",
       "3                                           0.000011   \n",
       "4                                           0.000050   \n",
       "\n",
       "   ENCSR637XSC.abs_logfc_x_jsd_x_max_percentile.mean.pval rsid traits  IDs  \\\n",
       "0                                           0.055084       NaN    NaN  NaN   \n",
       "1                                           0.116639       NaN    NaN  NaN   \n",
       "2                                           0.703089       NaN    NaN  NaN   \n",
       "3                                           0.649554       NaN    NaN  NaN   \n",
       "4                                           0.334598       NaN    NaN  NaN   \n",
       "\n",
       "   maxPIP  ENCSR000EMT.logfc.mean  ENCSR000EMT.sign_jsd.mean  \\\n",
       "0     NaN                0.004799                   0.013399   \n",
       "1     NaN                0.008337                   0.031942   \n",
       "2     NaN               -0.000662                  -0.004676   \n",
       "3     NaN                0.007013                   0.005918   \n",
       "4     NaN                0.013721                   0.006579   \n",
       "\n",
       "   ENCSR000EMT.abs_logfc_x_jsd_x_max_percentile.mean  \\\n",
       "0                                           0.000059   \n",
       "1                                           0.000489   \n",
       "2                                           0.000001   \n",
       "3                                           0.000002   \n",
       "4                                           0.000006   \n",
       "\n",
       "   ENCSR000EMT.abs_logfc_x_jsd_x_max_percentile.mean.pval  \n",
       "0                                           0.219019       \n",
       "1                                           0.061075       \n",
       "2                                           0.727699       \n",
       "3                                           0.620976       \n",
       "4                                           0.504230       "
      ]
     },
     "execution_count": 17,
     "metadata": {},
     "output_type": "execute_result"
    }
   ],
   "source": [
    "final.head()"
   ]
  },
  {
   "cell_type": "code",
   "execution_count": 18,
   "metadata": {},
   "outputs": [
    {
     "data": {
      "text/plain": [
       "(11916124, 17)"
      ]
     },
     "execution_count": 18,
     "metadata": {},
     "output_type": "execute_result"
    }
   ],
   "source": [
    "final.shape"
   ]
  },
  {
   "cell_type": "code",
   "execution_count": 19,
   "metadata": {},
   "outputs": [],
   "source": [
    "enformer = pd.read_csv(\"/mnt/lab_data2/anusri/variant-scorer/src/output/blood_traits/enformer_predictions.tsv\", sep=\"\\t\", header=0)\n"
   ]
  },
  {
   "cell_type": "code",
   "execution_count": 20,
   "metadata": {},
   "outputs": [
    {
     "data": {
      "text/html": [
       "<div>\n",
       "<style scoped>\n",
       "    .dataframe tbody tr th:only-of-type {\n",
       "        vertical-align: middle;\n",
       "    }\n",
       "\n",
       "    .dataframe tbody tr th {\n",
       "        vertical-align: top;\n",
       "    }\n",
       "\n",
       "    .dataframe thead th {\n",
       "        text-align: right;\n",
       "    }\n",
       "</style>\n",
       "<table border=\"1\" class=\"dataframe\">\n",
       "  <thead>\n",
       "    <tr style=\"text-align: right;\">\n",
       "      <th></th>\n",
       "      <th>chr</th>\n",
       "      <th>pos</th>\n",
       "      <th>ref</th>\n",
       "      <th>alt</th>\n",
       "      <th>rsid</th>\n",
       "      <th>DNASE_SAD</th>\n",
       "      <th>DNASE_SAR</th>\n",
       "      <th>CAGE_SAD_4828</th>\n",
       "      <th>CAGE_SAR_4828</th>\n",
       "      <th>CAGE_SAD_5111</th>\n",
       "      <th>CAGE_SAR_5111</th>\n",
       "    </tr>\n",
       "  </thead>\n",
       "  <tbody>\n",
       "    <tr>\n",
       "      <th>0</th>\n",
       "      <td>chr1</td>\n",
       "      <td>11012</td>\n",
       "      <td>C</td>\n",
       "      <td>G</td>\n",
       "      <td>rs544419019</td>\n",
       "      <td>0.000217</td>\n",
       "      <td>0.000304</td>\n",
       "      <td>0.001164</td>\n",
       "      <td>0.001593</td>\n",
       "      <td>0.002567</td>\n",
       "      <td>0.003328</td>\n",
       "    </tr>\n",
       "    <tr>\n",
       "      <th>1</th>\n",
       "      <td>chr1</td>\n",
       "      <td>13110</td>\n",
       "      <td>G</td>\n",
       "      <td>A</td>\n",
       "      <td>rs540538026</td>\n",
       "      <td>-0.000036</td>\n",
       "      <td>-0.000051</td>\n",
       "      <td>-0.000100</td>\n",
       "      <td>-0.000137</td>\n",
       "      <td>-0.000312</td>\n",
       "      <td>-0.000402</td>\n",
       "    </tr>\n",
       "    <tr>\n",
       "      <th>2</th>\n",
       "      <td>chr1</td>\n",
       "      <td>13116</td>\n",
       "      <td>T</td>\n",
       "      <td>G</td>\n",
       "      <td>rs62635286</td>\n",
       "      <td>-0.000013</td>\n",
       "      <td>-0.000018</td>\n",
       "      <td>-0.000108</td>\n",
       "      <td>-0.000148</td>\n",
       "      <td>-0.000253</td>\n",
       "      <td>-0.000327</td>\n",
       "    </tr>\n",
       "    <tr>\n",
       "      <th>3</th>\n",
       "      <td>chr1</td>\n",
       "      <td>13118</td>\n",
       "      <td>A</td>\n",
       "      <td>G</td>\n",
       "      <td>rs200579949</td>\n",
       "      <td>0.000020</td>\n",
       "      <td>0.000028</td>\n",
       "      <td>0.000077</td>\n",
       "      <td>0.000105</td>\n",
       "      <td>0.000263</td>\n",
       "      <td>0.000340</td>\n",
       "    </tr>\n",
       "    <tr>\n",
       "      <th>4</th>\n",
       "      <td>chr1</td>\n",
       "      <td>13273</td>\n",
       "      <td>G</td>\n",
       "      <td>C</td>\n",
       "      <td>rs531730856</td>\n",
       "      <td>0.000056</td>\n",
       "      <td>0.000078</td>\n",
       "      <td>0.000225</td>\n",
       "      <td>0.000305</td>\n",
       "      <td>0.000451</td>\n",
       "      <td>0.000569</td>\n",
       "    </tr>\n",
       "  </tbody>\n",
       "</table>\n",
       "</div>"
      ],
      "text/plain": [
       "    chr    pos ref alt         rsid  DNASE_SAD  DNASE_SAR  CAGE_SAD_4828  \\\n",
       "0  chr1  11012   C   G  rs544419019   0.000217   0.000304       0.001164   \n",
       "1  chr1  13110   G   A  rs540538026  -0.000036  -0.000051      -0.000100   \n",
       "2  chr1  13116   T   G   rs62635286  -0.000013  -0.000018      -0.000108   \n",
       "3  chr1  13118   A   G  rs200579949   0.000020   0.000028       0.000077   \n",
       "4  chr1  13273   G   C  rs531730856   0.000056   0.000078       0.000225   \n",
       "\n",
       "   CAGE_SAR_4828  CAGE_SAD_5111  CAGE_SAR_5111  \n",
       "0       0.001593       0.002567       0.003328  \n",
       "1      -0.000137      -0.000312      -0.000402  \n",
       "2      -0.000148      -0.000253      -0.000327  \n",
       "3       0.000105       0.000263       0.000340  \n",
       "4       0.000305       0.000451       0.000569  "
      ]
     },
     "execution_count": 20,
     "metadata": {},
     "output_type": "execute_result"
    }
   ],
   "source": [
    "enformer.head()"
   ]
  },
  {
   "cell_type": "code",
   "execution_count": 21,
   "metadata": {},
   "outputs": [
    {
     "data": {
      "text/plain": [
       "(9840768, 11)"
      ]
     },
     "execution_count": 21,
     "metadata": {},
     "output_type": "execute_result"
    }
   ],
   "source": [
    "enformer.shape"
   ]
  },
  {
   "cell_type": "code",
   "execution_count": 23,
   "metadata": {},
   "outputs": [
    {
     "data": {
      "text/plain": [
       "11916124"
      ]
     },
     "execution_count": 23,
     "metadata": {},
     "output_type": "execute_result"
    }
   ],
   "source": [
    "sum(final[\"variant_id\"].isin(enformer[\"rsid\"]))"
   ]
  },
  {
   "cell_type": "code",
   "execution_count": 24,
   "metadata": {},
   "outputs": [
    {
     "data": {
      "text/plain": [
       "0    True\n",
       "1    True\n",
       "2    True\n",
       "3    True\n",
       "4    True\n",
       "Name: variant_id, dtype: bool"
      ]
     },
     "execution_count": 24,
     "metadata": {},
     "output_type": "execute_result"
    }
   ],
   "source": [
    "final[\"variant_id\"].isin(enformer[\"rsid\"])[0:5]"
   ]
  },
  {
   "cell_type": "code",
   "execution_count": 35,
   "metadata": {},
   "outputs": [],
   "source": [
    "dffinal1 = final.merge(enformer, right_on=[\"chr\", \"rsid\", \"ref\", \"alt\"], left_on=[\"chr\", \"variant_id\", \"allele1\", \"allele2\"], how=\"left\")\n",
    "dffinal2 = final.merge(enformer, right_on=[\"chr\", \"rsid\", \"ref\", \"alt\"], left_on=[\"chr\", \"variant_id\", \"allele2\", \"allele1\"], how=\"left\")\n"
   ]
  },
  {
   "cell_type": "code",
   "execution_count": 36,
   "metadata": {},
   "outputs": [
    {
     "data": {
      "text/plain": [
       "(11916124, 27)"
      ]
     },
     "execution_count": 36,
     "metadata": {},
     "output_type": "execute_result"
    }
   ],
   "source": [
    "dffinal1.shape"
   ]
  },
  {
   "cell_type": "code",
   "execution_count": 37,
   "metadata": {},
   "outputs": [
    {
     "data": {
      "text/plain": [
       "(11916124, 27)"
      ]
     },
     "execution_count": 37,
     "metadata": {},
     "output_type": "execute_result"
    }
   ],
   "source": [
    "dffinal2.shape\n"
   ]
  },
  {
   "cell_type": "code",
   "execution_count": 38,
   "metadata": {},
   "outputs": [
    {
     "data": {
      "text/plain": [
       "3689054"
      ]
     },
     "execution_count": 38,
     "metadata": {},
     "output_type": "execute_result"
    }
   ],
   "source": [
    "sum(np.isnan(dffinal1[\"DNASE_SAD\"]))"
   ]
  },
  {
   "cell_type": "code",
   "execution_count": 39,
   "metadata": {},
   "outputs": [
    {
     "data": {
      "text/plain": [
       "10314492"
      ]
     },
     "execution_count": 39,
     "metadata": {},
     "output_type": "execute_result"
    }
   ],
   "source": [
    "sum(np.isnan(dffinal2[\"DNASE_SAD\"]))"
   ]
  },
  {
   "cell_type": "code",
   "execution_count": 40,
   "metadata": {},
   "outputs": [
    {
     "data": {
      "text/plain": [
       "2087422"
      ]
     },
     "execution_count": 40,
     "metadata": {},
     "output_type": "execute_result"
    }
   ],
   "source": [
    "sum(np.isnan(dffinal1[\"DNASE_SAD\"]) & np.isnan(dffinal2[\"DNASE_SAD\"]))"
   ]
  },
  {
   "cell_type": "code",
   "execution_count": 41,
   "metadata": {},
   "outputs": [
    {
     "data": {
      "text/plain": [
       "9828702"
      ]
     },
     "execution_count": 41,
     "metadata": {},
     "output_type": "execute_result"
    }
   ],
   "source": [
    "11916124-2087422"
   ]
  },
  {
   "cell_type": "code",
   "execution_count": 43,
   "metadata": {},
   "outputs": [
    {
     "name": "stderr",
     "output_type": "stream",
     "text": [
      "/users/anusri/anaconda3/lib/python3.7/site-packages/ipykernel_launcher.py:1: SettingWithCopyWarning: \n",
      "A value is trying to be set on a copy of a slice from a DataFrame.\n",
      "Try using .loc[row_indexer,col_indexer] = value instead\n",
      "\n",
      "See the caveats in the documentation: https://pandas.pydata.org/pandas-docs/stable/user_guide/indexing.html#returning-a-view-versus-a-copy\n",
      "  \"\"\"Entry point for launching an IPython kernel.\n"
     ]
    }
   ],
   "source": [
    "dffinal1[np.isnan(dffinal1[\"DNASE_SAD\"])][\"DNASE_SAD\"] = dffinal2[np.isnan(dffinal1[\"DNASE_SAD\"])][\"DNASE_SAD\"]"
   ]
  },
  {
   "cell_type": "code",
   "execution_count": 44,
   "metadata": {},
   "outputs": [
    {
     "name": "stderr",
     "output_type": "stream",
     "text": [
      "/users/anusri/anaconda3/lib/python3.7/site-packages/ipykernel_launcher.py:1: SettingWithCopyWarning: \n",
      "A value is trying to be set on a copy of a slice from a DataFrame.\n",
      "Try using .loc[row_indexer,col_indexer] = value instead\n",
      "\n",
      "See the caveats in the documentation: https://pandas.pydata.org/pandas-docs/stable/user_guide/indexing.html#returning-a-view-versus-a-copy\n",
      "  \"\"\"Entry point for launching an IPython kernel.\n"
     ]
    }
   ],
   "source": [
    "dffinal1[np.isnan(dffinal1[\"DNASE_SAR\"])][\"DNASE_SAR\"] = dffinal2[np.isnan(dffinal1[\"DNASE_SAR\"])][\"DNASE_SAR\"]"
   ]
  },
  {
   "cell_type": "code",
   "execution_count": 45,
   "metadata": {},
   "outputs": [
    {
     "data": {
      "text/plain": [
       "chr                                                       11916124\n",
       "pos_x                                                     11916124\n",
       "allele1                                                   11916124\n",
       "allele2                                                   11916124\n",
       "variant_id                                                11916124\n",
       "ENCSR637XSC.logfc.mean                                    11916124\n",
       "ENCSR637XSC.sign_jsd.mean                                 11916124\n",
       "ENCSR637XSC.abs_logfc_x_jsd_x_max_percentile.mean         11916124\n",
       "ENCSR637XSC.abs_logfc_x_jsd_x_max_percentile.mean.pval    11916124\n",
       "rsid_x                                                       12937\n",
       "traits                                                       12937\n",
       "IDs                                                          12937\n",
       "maxPIP                                                       12937\n",
       "ENCSR000EMT.logfc.mean                                    11916124\n",
       "ENCSR000EMT.sign_jsd.mean                                 11916124\n",
       "ENCSR000EMT.abs_logfc_x_jsd_x_max_percentile.mean         11916124\n",
       "ENCSR000EMT.abs_logfc_x_jsd_x_max_percentile.mean.pval    11916124\n",
       "pos_y                                                      8227070\n",
       "ref                                                        8227070\n",
       "alt                                                        8227070\n",
       "rsid_y                                                     8227070\n",
       "DNASE_SAD                                                  8227070\n",
       "DNASE_SAR                                                  8227070\n",
       "CAGE_SAD_4828                                              8227070\n",
       "CAGE_SAR_4828                                              8227070\n",
       "CAGE_SAD_5111                                              8227070\n",
       "CAGE_SAR_5111                                              8227070\n",
       "dtype: int64"
      ]
     },
     "execution_count": 45,
     "metadata": {},
     "output_type": "execute_result"
    }
   ],
   "source": [
    "dffinal1.count()"
   ]
  },
  {
   "cell_type": "code",
   "execution_count": 48,
   "metadata": {},
   "outputs": [
    {
     "data": {
      "text/plain": [
       "2917"
      ]
     },
     "execution_count": 48,
     "metadata": {},
     "output_type": "execute_result"
    }
   ],
   "source": [
    "sum(np.isnan(dffinal1[~np.isnan(dffinal1[\"maxPIP\"])][\"DNASE_SAD\"]))"
   ]
  },
  {
   "cell_type": "code",
   "execution_count": 49,
   "metadata": {},
   "outputs": [],
   "source": [
    "bg = pd.read_csv(\"/oak/stanford/groups/akundaje/projects/igvf-fcc/data/rosa/background_distal_noncoding_alleles_position_match.txt\", sep=\"\\t\", header=0)\n"
   ]
  },
  {
   "cell_type": "code",
   "execution_count": 50,
   "metadata": {},
   "outputs": [
    {
     "data": {
      "text/html": [
       "<div>\n",
       "<style scoped>\n",
       "    .dataframe tbody tr th:only-of-type {\n",
       "        vertical-align: middle;\n",
       "    }\n",
       "\n",
       "    .dataframe tbody tr th {\n",
       "        vertical-align: top;\n",
       "    }\n",
       "\n",
       "    .dataframe thead th {\n",
       "        text-align: right;\n",
       "    }\n",
       "</style>\n",
       "<table border=\"1\" class=\"dataframe\">\n",
       "  <thead>\n",
       "    <tr style=\"text-align: right;\">\n",
       "      <th></th>\n",
       "      <th>chr</th>\n",
       "      <th>start</th>\n",
       "      <th>end</th>\n",
       "      <th>rsid</th>\n",
       "      <th>REF</th>\n",
       "      <th>ALT</th>\n",
       "    </tr>\n",
       "  </thead>\n",
       "  <tbody>\n",
       "    <tr>\n",
       "      <th>0</th>\n",
       "      <td>chr1</td>\n",
       "      <td>10351</td>\n",
       "      <td>10352.0</td>\n",
       "      <td>rs150218945</td>\n",
       "      <td>T</td>\n",
       "      <td>TA</td>\n",
       "    </tr>\n",
       "    <tr>\n",
       "      <th>1</th>\n",
       "      <td>chr1</td>\n",
       "      <td>11011</td>\n",
       "      <td>11012.0</td>\n",
       "      <td>rs544419019</td>\n",
       "      <td>C</td>\n",
       "      <td>G</td>\n",
       "    </tr>\n",
       "    <tr>\n",
       "      <th>2</th>\n",
       "      <td>chr1</td>\n",
       "      <td>13109</td>\n",
       "      <td>13110.0</td>\n",
       "      <td>rs540538026</td>\n",
       "      <td>G</td>\n",
       "      <td>A</td>\n",
       "    </tr>\n",
       "    <tr>\n",
       "      <th>3</th>\n",
       "      <td>chr1</td>\n",
       "      <td>13115</td>\n",
       "      <td>13116.0</td>\n",
       "      <td>rs62635286</td>\n",
       "      <td>T</td>\n",
       "      <td>G</td>\n",
       "    </tr>\n",
       "    <tr>\n",
       "      <th>4</th>\n",
       "      <td>chr1</td>\n",
       "      <td>13117</td>\n",
       "      <td>13118.0</td>\n",
       "      <td>rs200579949</td>\n",
       "      <td>A</td>\n",
       "      <td>G</td>\n",
       "    </tr>\n",
       "  </tbody>\n",
       "</table>\n",
       "</div>"
      ],
      "text/plain": [
       "    chr  start      end         rsid REF ALT\n",
       "0  chr1  10351  10352.0  rs150218945   T  TA\n",
       "1  chr1  11011  11012.0  rs544419019   C   G\n",
       "2  chr1  13109  13110.0  rs540538026   G   A\n",
       "3  chr1  13115  13116.0   rs62635286   T   G\n",
       "4  chr1  13117  13118.0  rs200579949   A   G"
      ]
     },
     "execution_count": 50,
     "metadata": {},
     "output_type": "execute_result"
    }
   ],
   "source": [
    "bg.head()"
   ]
  },
  {
   "cell_type": "code",
   "execution_count": 51,
   "metadata": {},
   "outputs": [
    {
     "data": {
      "text/plain": [
       "0"
      ]
     },
     "execution_count": 51,
     "metadata": {},
     "output_type": "execute_result"
    }
   ],
   "source": [
    "sum(bg[\"rsid\"].str.contains(\",\"))"
   ]
  },
  {
   "cell_type": "code",
   "execution_count": 52,
   "metadata": {},
   "outputs": [
    {
     "data": {
      "text/plain": [
       "0"
      ]
     },
     "execution_count": 52,
     "metadata": {},
     "output_type": "execute_result"
    }
   ],
   "source": [
    "sum(bg[\"rsid\"].str.contains(\";\"))"
   ]
  },
  {
   "cell_type": "code",
   "execution_count": 53,
   "metadata": {},
   "outputs": [],
   "source": [
    "sigs = pd.read_csv(\"/mnt/lab_data2/anusri/variant-scorer/src/output/blood_traits/SNP_info_table.tsv\", sep=\"\\t\", header=0)\n",
    "\n"
   ]
  },
  {
   "cell_type": "code",
   "execution_count": 54,
   "metadata": {},
   "outputs": [
    {
     "data": {
      "text/html": [
       "<div>\n",
       "<style scoped>\n",
       "    .dataframe tbody tr th:only-of-type {\n",
       "        vertical-align: middle;\n",
       "    }\n",
       "\n",
       "    .dataframe tbody tr th {\n",
       "        vertical-align: top;\n",
       "    }\n",
       "\n",
       "    .dataframe thead th {\n",
       "        text-align: right;\n",
       "    }\n",
       "</style>\n",
       "<table border=\"1\" class=\"dataframe\">\n",
       "  <thead>\n",
       "    <tr style=\"text-align: right;\">\n",
       "      <th></th>\n",
       "      <th>rsid</th>\n",
       "      <th>allele1</th>\n",
       "      <th>allele2</th>\n",
       "      <th>traits</th>\n",
       "      <th>IDs</th>\n",
       "      <th>maxPIP</th>\n",
       "    </tr>\n",
       "  </thead>\n",
       "  <tbody>\n",
       "    <tr>\n",
       "      <th>0</th>\n",
       "      <td>rs10000067</td>\n",
       "      <td>T</td>\n",
       "      <td>C</td>\n",
       "      <td>MCH</td>\n",
       "      <td>MCH_rs10000067</td>\n",
       "      <td>0.007929</td>\n",
       "    </tr>\n",
       "    <tr>\n",
       "      <th>1</th>\n",
       "      <td>rs10001067</td>\n",
       "      <td>C</td>\n",
       "      <td>G</td>\n",
       "      <td>MCV</td>\n",
       "      <td>MCV_rs10001067</td>\n",
       "      <td>0.021491</td>\n",
       "    </tr>\n",
       "    <tr>\n",
       "      <th>2</th>\n",
       "      <td>rs10001396</td>\n",
       "      <td>C</td>\n",
       "      <td>G</td>\n",
       "      <td>MCH</td>\n",
       "      <td>MCH_rs10001396</td>\n",
       "      <td>0.010357</td>\n",
       "    </tr>\n",
       "    <tr>\n",
       "      <th>3</th>\n",
       "      <td>rs10002448</td>\n",
       "      <td>G</td>\n",
       "      <td>A</td>\n",
       "      <td>MCH</td>\n",
       "      <td>MCH_rs10002448</td>\n",
       "      <td>0.012410</td>\n",
       "    </tr>\n",
       "    <tr>\n",
       "      <th>4</th>\n",
       "      <td>rs10002971</td>\n",
       "      <td>A</td>\n",
       "      <td>C</td>\n",
       "      <td>MCHC</td>\n",
       "      <td>MCHC_rs10002971</td>\n",
       "      <td>0.019088</td>\n",
       "    </tr>\n",
       "  </tbody>\n",
       "</table>\n",
       "</div>"
      ],
      "text/plain": [
       "         rsid allele1 allele2 traits              IDs    maxPIP\n",
       "0  rs10000067       T       C    MCH   MCH_rs10000067  0.007929\n",
       "1  rs10001067       C       G    MCV   MCV_rs10001067  0.021491\n",
       "2  rs10001396       C       G    MCH   MCH_rs10001396  0.010357\n",
       "3  rs10002448       G       A    MCH   MCH_rs10002448  0.012410\n",
       "4  rs10002971       A       C   MCHC  MCHC_rs10002971  0.019088"
      ]
     },
     "execution_count": 54,
     "metadata": {},
     "output_type": "execute_result"
    }
   ],
   "source": [
    "sigs.head()"
   ]
  },
  {
   "cell_type": "code",
   "execution_count": 55,
   "metadata": {},
   "outputs": [
    {
     "data": {
      "text/plain": [
       "12954"
      ]
     },
     "execution_count": 55,
     "metadata": {},
     "output_type": "execute_result"
    }
   ],
   "source": [
    "sum(bg[[\"rsid\", \"REF\", \"ALT\"]].isin(sigs[\"rsid\"]))"
   ]
  },
  {
   "cell_type": "code",
   "execution_count": 56,
   "metadata": {},
   "outputs": [
    {
     "data": {
      "text/plain": [
       "(9850361, 6)"
      ]
     },
     "execution_count": 56,
     "metadata": {},
     "output_type": "execute_result"
    }
   ],
   "source": [
    "bg.shape"
   ]
  },
  {
   "cell_type": "code",
   "execution_count": 57,
   "metadata": {},
   "outputs": [
    {
     "data": {
      "text/plain": [
       "(12951, 6)"
      ]
     },
     "execution_count": 57,
     "metadata": {},
     "output_type": "execute_result"
    }
   ],
   "source": [
    "sigs.shape"
   ]
  },
  {
   "cell_type": "code",
   "execution_count": 66,
   "metadata": {},
   "outputs": [],
   "source": [
    "temp = bg.merge(sigs, left_on=[\"rsid\", \"REF\", \"ALT\"], right_on=[\"rsid\", \"allele1\", \"allele2\"], how=\"left\")\n",
    "temp1 = bg.merge(sigs, left_on=[\"rsid\", \"REF\", \"ALT\"], right_on=[\"rsid\", \"allele2\", \"allele1\"], how=\"left\")"
   ]
  },
  {
   "cell_type": "code",
   "execution_count": 61,
   "metadata": {},
   "outputs": [
    {
     "data": {
      "text/plain": [
       "(9850361, 11)"
      ]
     },
     "execution_count": 61,
     "metadata": {},
     "output_type": "execute_result"
    }
   ],
   "source": [
    "temp.shape"
   ]
  },
  {
   "cell_type": "code",
   "execution_count": 62,
   "metadata": {},
   "outputs": [
    {
     "data": {
      "text/plain": [
       "(9850361, 6)"
      ]
     },
     "execution_count": 62,
     "metadata": {},
     "output_type": "execute_result"
    }
   ],
   "source": [
    "bg.shape"
   ]
  },
  {
   "cell_type": "code",
   "execution_count": 67,
   "metadata": {},
   "outputs": [
    {
     "name": "stderr",
     "output_type": "stream",
     "text": [
      "/users/anusri/anaconda3/lib/python3.7/site-packages/ipykernel_launcher.py:1: SettingWithCopyWarning: \n",
      "A value is trying to be set on a copy of a slice from a DataFrame.\n",
      "Try using .loc[row_indexer,col_indexer] = value instead\n",
      "\n",
      "See the caveats in the documentation: https://pandas.pydata.org/pandas-docs/stable/user_guide/indexing.html#returning-a-view-versus-a-copy\n",
      "  \"\"\"Entry point for launching an IPython kernel.\n"
     ]
    },
    {
     "data": {
      "text/plain": [
       "10140"
      ]
     },
     "execution_count": 67,
     "metadata": {},
     "output_type": "execute_result"
    }
   ],
   "source": [
    "temp[np.isnan(temp[\"maxPIP\"])][\"maxPIP\"] = temp1[np.isnan(temp[\"maxPIP\"])][\"maxPIP\"]\n",
    "\n",
    "sum(~np.isnan(temp[\"maxPIP\"]))"
   ]
  },
  {
   "cell_type": "code",
   "execution_count": null,
   "metadata": {},
   "outputs": [],
   "source": []
  },
  {
   "cell_type": "code",
   "execution_count": null,
   "metadata": {},
   "outputs": [],
   "source": []
  },
  {
   "cell_type": "code",
   "execution_count": null,
   "metadata": {},
   "outputs": [],
   "source": []
  }
 ],
 "metadata": {
  "kernelspec": {
   "display_name": "Python 3",
   "language": "python",
   "name": "python3"
  },
  "language_info": {
   "codemirror_mode": {
    "name": "ipython",
    "version": 3
   },
   "file_extension": ".py",
   "mimetype": "text/x-python",
   "name": "python",
   "nbconvert_exporter": "python",
   "pygments_lexer": "ipython3",
   "version": "3.7.6"
  }
 },
 "nbformat": 4,
 "nbformat_minor": 4
}
