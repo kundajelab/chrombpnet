{
 "cells": [
  {
   "cell_type": "code",
   "execution_count": 1,
   "metadata": {},
   "outputs": [],
   "source": [
    "import pandas as pd\n",
    "data_sus = pd.read_csv(\"/mnt/lab_data2/anusri/kumasaka/new_download/Kumasaka_2018_wgs/sumstats/QTD100018.all.tsv.gz\", header=0, sep='\\t')"
   ]
  },
  {
   "cell_type": "code",
   "execution_count": 2,
   "metadata": {},
   "outputs": [
    {
     "data": {
      "text/html": [
       "<div>\n",
       "<style scoped>\n",
       "    .dataframe tbody tr th:only-of-type {\n",
       "        vertical-align: middle;\n",
       "    }\n",
       "\n",
       "    .dataframe tbody tr th {\n",
       "        vertical-align: top;\n",
       "    }\n",
       "\n",
       "    .dataframe thead th {\n",
       "        text-align: right;\n",
       "    }\n",
       "</style>\n",
       "<table border=\"1\" class=\"dataframe\">\n",
       "  <thead>\n",
       "    <tr style=\"text-align: right;\">\n",
       "      <th></th>\n",
       "      <th>molecular_trait_id</th>\n",
       "      <th>chromosome</th>\n",
       "      <th>position</th>\n",
       "      <th>ref</th>\n",
       "      <th>alt</th>\n",
       "      <th>variant</th>\n",
       "      <th>ma_samples</th>\n",
       "      <th>maf</th>\n",
       "      <th>pvalue</th>\n",
       "      <th>beta</th>\n",
       "      <th>se</th>\n",
       "      <th>type</th>\n",
       "      <th>ac</th>\n",
       "      <th>an</th>\n",
       "      <th>r2</th>\n",
       "      <th>molecular_trait_object_id</th>\n",
       "      <th>gene_id</th>\n",
       "      <th>median_tpm</th>\n",
       "      <th>rsid</th>\n",
       "    </tr>\n",
       "  </thead>\n",
       "  <tbody>\n",
       "    <tr>\n",
       "      <th>0</th>\n",
       "      <td>Interval_1</td>\n",
       "      <td>1</td>\n",
       "      <td>10583</td>\n",
       "      <td>G</td>\n",
       "      <td>A</td>\n",
       "      <td>chr1_10583_G_A</td>\n",
       "      <td>9</td>\n",
       "      <td>0.049451</td>\n",
       "      <td>0.861729</td>\n",
       "      <td>-0.052510</td>\n",
       "      <td>0.300473</td>\n",
       "      <td>SNP</td>\n",
       "      <td>9</td>\n",
       "      <td>182</td>\n",
       "      <td>NaN</td>\n",
       "      <td>Interval_1</td>\n",
       "      <td>Interval_1</td>\n",
       "      <td>NaN</td>\n",
       "      <td>rs58108140</td>\n",
       "    </tr>\n",
       "    <tr>\n",
       "      <th>1</th>\n",
       "      <td>Interval_2</td>\n",
       "      <td>1</td>\n",
       "      <td>10583</td>\n",
       "      <td>G</td>\n",
       "      <td>A</td>\n",
       "      <td>chr1_10583_G_A</td>\n",
       "      <td>9</td>\n",
       "      <td>0.049451</td>\n",
       "      <td>0.534432</td>\n",
       "      <td>-0.213047</td>\n",
       "      <td>0.341387</td>\n",
       "      <td>SNP</td>\n",
       "      <td>9</td>\n",
       "      <td>182</td>\n",
       "      <td>NaN</td>\n",
       "      <td>Interval_2</td>\n",
       "      <td>Interval_2</td>\n",
       "      <td>NaN</td>\n",
       "      <td>rs58108140</td>\n",
       "    </tr>\n",
       "    <tr>\n",
       "      <th>2</th>\n",
       "      <td>Interval_3</td>\n",
       "      <td>1</td>\n",
       "      <td>10583</td>\n",
       "      <td>G</td>\n",
       "      <td>A</td>\n",
       "      <td>chr1_10583_G_A</td>\n",
       "      <td>9</td>\n",
       "      <td>0.049451</td>\n",
       "      <td>0.727965</td>\n",
       "      <td>-0.087366</td>\n",
       "      <td>0.250258</td>\n",
       "      <td>SNP</td>\n",
       "      <td>9</td>\n",
       "      <td>182</td>\n",
       "      <td>NaN</td>\n",
       "      <td>Interval_3</td>\n",
       "      <td>Interval_3</td>\n",
       "      <td>NaN</td>\n",
       "      <td>rs58108140</td>\n",
       "    </tr>\n",
       "    <tr>\n",
       "      <th>3</th>\n",
       "      <td>Interval_4</td>\n",
       "      <td>1</td>\n",
       "      <td>10583</td>\n",
       "      <td>G</td>\n",
       "      <td>A</td>\n",
       "      <td>chr1_10583_G_A</td>\n",
       "      <td>9</td>\n",
       "      <td>0.049451</td>\n",
       "      <td>0.908891</td>\n",
       "      <td>-0.032622</td>\n",
       "      <td>0.284130</td>\n",
       "      <td>SNP</td>\n",
       "      <td>9</td>\n",
       "      <td>182</td>\n",
       "      <td>NaN</td>\n",
       "      <td>Interval_4</td>\n",
       "      <td>Interval_4</td>\n",
       "      <td>NaN</td>\n",
       "      <td>rs58108140</td>\n",
       "    </tr>\n",
       "    <tr>\n",
       "      <th>4</th>\n",
       "      <td>Interval_5</td>\n",
       "      <td>1</td>\n",
       "      <td>10583</td>\n",
       "      <td>G</td>\n",
       "      <td>A</td>\n",
       "      <td>chr1_10583_G_A</td>\n",
       "      <td>9</td>\n",
       "      <td>0.049451</td>\n",
       "      <td>0.367211</td>\n",
       "      <td>0.260117</td>\n",
       "      <td>0.286773</td>\n",
       "      <td>SNP</td>\n",
       "      <td>9</td>\n",
       "      <td>182</td>\n",
       "      <td>NaN</td>\n",
       "      <td>Interval_5</td>\n",
       "      <td>Interval_5</td>\n",
       "      <td>NaN</td>\n",
       "      <td>rs58108140</td>\n",
       "    </tr>\n",
       "  </tbody>\n",
       "</table>\n",
       "</div>"
      ],
      "text/plain": [
       "  molecular_trait_id  chromosome  position ref alt         variant  \\\n",
       "0         Interval_1           1     10583   G   A  chr1_10583_G_A   \n",
       "1         Interval_2           1     10583   G   A  chr1_10583_G_A   \n",
       "2         Interval_3           1     10583   G   A  chr1_10583_G_A   \n",
       "3         Interval_4           1     10583   G   A  chr1_10583_G_A   \n",
       "4         Interval_5           1     10583   G   A  chr1_10583_G_A   \n",
       "\n",
       "   ma_samples       maf    pvalue      beta        se type  ac   an  r2  \\\n",
       "0           9  0.049451  0.861729 -0.052510  0.300473  SNP   9  182 NaN   \n",
       "1           9  0.049451  0.534432 -0.213047  0.341387  SNP   9  182 NaN   \n",
       "2           9  0.049451  0.727965 -0.087366  0.250258  SNP   9  182 NaN   \n",
       "3           9  0.049451  0.908891 -0.032622  0.284130  SNP   9  182 NaN   \n",
       "4           9  0.049451  0.367211  0.260117  0.286773  SNP   9  182 NaN   \n",
       "\n",
       "  molecular_trait_object_id     gene_id  median_tpm        rsid  \n",
       "0                Interval_1  Interval_1         NaN  rs58108140  \n",
       "1                Interval_2  Interval_2         NaN  rs58108140  \n",
       "2                Interval_3  Interval_3         NaN  rs58108140  \n",
       "3                Interval_4  Interval_4         NaN  rs58108140  \n",
       "4                Interval_5  Interval_5         NaN  rs58108140  "
      ]
     },
     "execution_count": 2,
     "metadata": {},
     "output_type": "execute_result"
    }
   ],
   "source": [
    "data_sus.head()"
   ]
  },
  {
   "cell_type": "code",
   "execution_count": 3,
   "metadata": {},
   "outputs": [],
   "source": [
    "data_sus[\"position0\"] = data_sus[\"position\"] - 1"
   ]
  },
  {
   "cell_type": "code",
   "execution_count": 5,
   "metadata": {},
   "outputs": [
    {
     "data": {
      "text/plain": [
       "Index(['molecular_trait_id', 'chromosome', 'position', 'ref', 'alt', 'variant',\n",
       "       'ma_samples', 'maf', 'pvalue', 'beta', 'se', 'type', 'ac', 'an', 'r2',\n",
       "       'molecular_trait_object_id', 'gene_id', 'median_tpm', 'rsid',\n",
       "       'position0'],\n",
       "      dtype='object')"
      ]
     },
     "execution_count": 5,
     "metadata": {},
     "output_type": "execute_result"
    }
   ],
   "source": [
    "data_sus.columns"
   ]
  },
  {
   "cell_type": "code",
   "execution_count": 6,
   "metadata": {},
   "outputs": [
    {
     "data": {
      "text/html": [
       "<div>\n",
       "<style scoped>\n",
       "    .dataframe tbody tr th:only-of-type {\n",
       "        vertical-align: middle;\n",
       "    }\n",
       "\n",
       "    .dataframe tbody tr th {\n",
       "        vertical-align: top;\n",
       "    }\n",
       "\n",
       "    .dataframe thead th {\n",
       "        text-align: right;\n",
       "    }\n",
       "</style>\n",
       "<table border=\"1\" class=\"dataframe\">\n",
       "  <thead>\n",
       "    <tr style=\"text-align: right;\">\n",
       "      <th></th>\n",
       "      <th>chromosome</th>\n",
       "      <th>position0</th>\n",
       "      <th>position</th>\n",
       "      <th>ref</th>\n",
       "      <th>alt</th>\n",
       "      <th>variant</th>\n",
       "      <th>ma_samples</th>\n",
       "      <th>maf</th>\n",
       "      <th>pvalue</th>\n",
       "      <th>beta</th>\n",
       "      <th>se</th>\n",
       "      <th>type</th>\n",
       "      <th>ac</th>\n",
       "      <th>an</th>\n",
       "      <th>r2</th>\n",
       "      <th>molecular_trait_object_id</th>\n",
       "      <th>gene_id</th>\n",
       "      <th>median_tpm</th>\n",
       "      <th>rsid</th>\n",
       "      <th>molecular_trait_id</th>\n",
       "    </tr>\n",
       "  </thead>\n",
       "  <tbody>\n",
       "    <tr>\n",
       "      <th>0</th>\n",
       "      <td>1</td>\n",
       "      <td>10582</td>\n",
       "      <td>10583</td>\n",
       "      <td>G</td>\n",
       "      <td>A</td>\n",
       "      <td>chr1_10583_G_A</td>\n",
       "      <td>9</td>\n",
       "      <td>0.049451</td>\n",
       "      <td>0.861729</td>\n",
       "      <td>-0.052510</td>\n",
       "      <td>0.300473</td>\n",
       "      <td>SNP</td>\n",
       "      <td>9</td>\n",
       "      <td>182</td>\n",
       "      <td>NaN</td>\n",
       "      <td>Interval_1</td>\n",
       "      <td>Interval_1</td>\n",
       "      <td>NaN</td>\n",
       "      <td>rs58108140</td>\n",
       "      <td>Interval_1</td>\n",
       "    </tr>\n",
       "    <tr>\n",
       "      <th>1</th>\n",
       "      <td>1</td>\n",
       "      <td>10582</td>\n",
       "      <td>10583</td>\n",
       "      <td>G</td>\n",
       "      <td>A</td>\n",
       "      <td>chr1_10583_G_A</td>\n",
       "      <td>9</td>\n",
       "      <td>0.049451</td>\n",
       "      <td>0.534432</td>\n",
       "      <td>-0.213047</td>\n",
       "      <td>0.341387</td>\n",
       "      <td>SNP</td>\n",
       "      <td>9</td>\n",
       "      <td>182</td>\n",
       "      <td>NaN</td>\n",
       "      <td>Interval_2</td>\n",
       "      <td>Interval_2</td>\n",
       "      <td>NaN</td>\n",
       "      <td>rs58108140</td>\n",
       "      <td>Interval_2</td>\n",
       "    </tr>\n",
       "    <tr>\n",
       "      <th>2</th>\n",
       "      <td>1</td>\n",
       "      <td>10582</td>\n",
       "      <td>10583</td>\n",
       "      <td>G</td>\n",
       "      <td>A</td>\n",
       "      <td>chr1_10583_G_A</td>\n",
       "      <td>9</td>\n",
       "      <td>0.049451</td>\n",
       "      <td>0.727965</td>\n",
       "      <td>-0.087366</td>\n",
       "      <td>0.250258</td>\n",
       "      <td>SNP</td>\n",
       "      <td>9</td>\n",
       "      <td>182</td>\n",
       "      <td>NaN</td>\n",
       "      <td>Interval_3</td>\n",
       "      <td>Interval_3</td>\n",
       "      <td>NaN</td>\n",
       "      <td>rs58108140</td>\n",
       "      <td>Interval_3</td>\n",
       "    </tr>\n",
       "    <tr>\n",
       "      <th>3</th>\n",
       "      <td>1</td>\n",
       "      <td>10582</td>\n",
       "      <td>10583</td>\n",
       "      <td>G</td>\n",
       "      <td>A</td>\n",
       "      <td>chr1_10583_G_A</td>\n",
       "      <td>9</td>\n",
       "      <td>0.049451</td>\n",
       "      <td>0.908891</td>\n",
       "      <td>-0.032622</td>\n",
       "      <td>0.284130</td>\n",
       "      <td>SNP</td>\n",
       "      <td>9</td>\n",
       "      <td>182</td>\n",
       "      <td>NaN</td>\n",
       "      <td>Interval_4</td>\n",
       "      <td>Interval_4</td>\n",
       "      <td>NaN</td>\n",
       "      <td>rs58108140</td>\n",
       "      <td>Interval_4</td>\n",
       "    </tr>\n",
       "    <tr>\n",
       "      <th>4</th>\n",
       "      <td>1</td>\n",
       "      <td>10582</td>\n",
       "      <td>10583</td>\n",
       "      <td>G</td>\n",
       "      <td>A</td>\n",
       "      <td>chr1_10583_G_A</td>\n",
       "      <td>9</td>\n",
       "      <td>0.049451</td>\n",
       "      <td>0.367211</td>\n",
       "      <td>0.260117</td>\n",
       "      <td>0.286773</td>\n",
       "      <td>SNP</td>\n",
       "      <td>9</td>\n",
       "      <td>182</td>\n",
       "      <td>NaN</td>\n",
       "      <td>Interval_5</td>\n",
       "      <td>Interval_5</td>\n",
       "      <td>NaN</td>\n",
       "      <td>rs58108140</td>\n",
       "      <td>Interval_5</td>\n",
       "    </tr>\n",
       "    <tr>\n",
       "      <th>...</th>\n",
       "      <td>...</td>\n",
       "      <td>...</td>\n",
       "      <td>...</td>\n",
       "      <td>...</td>\n",
       "      <td>...</td>\n",
       "      <td>...</td>\n",
       "      <td>...</td>\n",
       "      <td>...</td>\n",
       "      <td>...</td>\n",
       "      <td>...</td>\n",
       "      <td>...</td>\n",
       "      <td>...</td>\n",
       "      <td>...</td>\n",
       "      <td>...</td>\n",
       "      <td>...</td>\n",
       "      <td>...</td>\n",
       "      <td>...</td>\n",
       "      <td>...</td>\n",
       "      <td>...</td>\n",
       "      <td>...</td>\n",
       "    </tr>\n",
       "    <tr>\n",
       "      <th>344879628</th>\n",
       "      <td>9</td>\n",
       "      <td>138315492</td>\n",
       "      <td>138315493</td>\n",
       "      <td>G</td>\n",
       "      <td>T</td>\n",
       "      <td>chr9_138315493_G_T</td>\n",
       "      <td>14</td>\n",
       "      <td>0.076923</td>\n",
       "      <td>0.467407</td>\n",
       "      <td>0.227731</td>\n",
       "      <td>0.311820</td>\n",
       "      <td>SNP</td>\n",
       "      <td>14</td>\n",
       "      <td>182</td>\n",
       "      <td>NaN</td>\n",
       "      <td>Interval_241023</td>\n",
       "      <td>Interval_241023</td>\n",
       "      <td>NaN</td>\n",
       "      <td>rs1386837028</td>\n",
       "      <td>Interval_241023</td>\n",
       "    </tr>\n",
       "    <tr>\n",
       "      <th>344879629</th>\n",
       "      <td>9</td>\n",
       "      <td>138318263</td>\n",
       "      <td>138318264</td>\n",
       "      <td>C</td>\n",
       "      <td>A</td>\n",
       "      <td>chr9_138318264_C_A</td>\n",
       "      <td>24</td>\n",
       "      <td>0.131868</td>\n",
       "      <td>0.623327</td>\n",
       "      <td>-0.108922</td>\n",
       "      <td>0.220881</td>\n",
       "      <td>SNP</td>\n",
       "      <td>24</td>\n",
       "      <td>182</td>\n",
       "      <td>NaN</td>\n",
       "      <td>Interval_241022</td>\n",
       "      <td>Interval_241022</td>\n",
       "      <td>NaN</td>\n",
       "      <td>rs1460832765</td>\n",
       "      <td>Interval_241022</td>\n",
       "    </tr>\n",
       "    <tr>\n",
       "      <th>344879630</th>\n",
       "      <td>9</td>\n",
       "      <td>138318263</td>\n",
       "      <td>138318264</td>\n",
       "      <td>C</td>\n",
       "      <td>A</td>\n",
       "      <td>chr9_138318264_C_A</td>\n",
       "      <td>24</td>\n",
       "      <td>0.131868</td>\n",
       "      <td>0.814942</td>\n",
       "      <td>-0.057632</td>\n",
       "      <td>0.245391</td>\n",
       "      <td>SNP</td>\n",
       "      <td>24</td>\n",
       "      <td>182</td>\n",
       "      <td>NaN</td>\n",
       "      <td>Interval_241023</td>\n",
       "      <td>Interval_241023</td>\n",
       "      <td>NaN</td>\n",
       "      <td>rs1460832765</td>\n",
       "      <td>Interval_241023</td>\n",
       "    </tr>\n",
       "    <tr>\n",
       "      <th>344879631</th>\n",
       "      <td>9</td>\n",
       "      <td>138318559</td>\n",
       "      <td>138318560</td>\n",
       "      <td>A</td>\n",
       "      <td>G</td>\n",
       "      <td>chr9_138318560_A_G</td>\n",
       "      <td>9</td>\n",
       "      <td>0.049451</td>\n",
       "      <td>0.747654</td>\n",
       "      <td>-0.105536</td>\n",
       "      <td>0.326847</td>\n",
       "      <td>SNP</td>\n",
       "      <td>9</td>\n",
       "      <td>182</td>\n",
       "      <td>NaN</td>\n",
       "      <td>Interval_241022</td>\n",
       "      <td>Interval_241022</td>\n",
       "      <td>NaN</td>\n",
       "      <td>rs1248605022</td>\n",
       "      <td>Interval_241022</td>\n",
       "    </tr>\n",
       "    <tr>\n",
       "      <th>344879632</th>\n",
       "      <td>9</td>\n",
       "      <td>138318559</td>\n",
       "      <td>138318560</td>\n",
       "      <td>A</td>\n",
       "      <td>G</td>\n",
       "      <td>chr9_138318560_A_G</td>\n",
       "      <td>9</td>\n",
       "      <td>0.049451</td>\n",
       "      <td>0.541544</td>\n",
       "      <td>0.222004</td>\n",
       "      <td>0.362036</td>\n",
       "      <td>SNP</td>\n",
       "      <td>9</td>\n",
       "      <td>182</td>\n",
       "      <td>NaN</td>\n",
       "      <td>Interval_241023</td>\n",
       "      <td>Interval_241023</td>\n",
       "      <td>NaN</td>\n",
       "      <td>rs1248605022</td>\n",
       "      <td>Interval_241023</td>\n",
       "    </tr>\n",
       "  </tbody>\n",
       "</table>\n",
       "<p>344879633 rows × 20 columns</p>\n",
       "</div>"
      ],
      "text/plain": [
       "           chromosome  position0   position ref alt             variant  \\\n",
       "0                   1      10582      10583   G   A      chr1_10583_G_A   \n",
       "1                   1      10582      10583   G   A      chr1_10583_G_A   \n",
       "2                   1      10582      10583   G   A      chr1_10583_G_A   \n",
       "3                   1      10582      10583   G   A      chr1_10583_G_A   \n",
       "4                   1      10582      10583   G   A      chr1_10583_G_A   \n",
       "...               ...        ...        ...  ..  ..                 ...   \n",
       "344879628           9  138315492  138315493   G   T  chr9_138315493_G_T   \n",
       "344879629           9  138318263  138318264   C   A  chr9_138318264_C_A   \n",
       "344879630           9  138318263  138318264   C   A  chr9_138318264_C_A   \n",
       "344879631           9  138318559  138318560   A   G  chr9_138318560_A_G   \n",
       "344879632           9  138318559  138318560   A   G  chr9_138318560_A_G   \n",
       "\n",
       "           ma_samples       maf    pvalue      beta        se type  ac   an  \\\n",
       "0                   9  0.049451  0.861729 -0.052510  0.300473  SNP   9  182   \n",
       "1                   9  0.049451  0.534432 -0.213047  0.341387  SNP   9  182   \n",
       "2                   9  0.049451  0.727965 -0.087366  0.250258  SNP   9  182   \n",
       "3                   9  0.049451  0.908891 -0.032622  0.284130  SNP   9  182   \n",
       "4                   9  0.049451  0.367211  0.260117  0.286773  SNP   9  182   \n",
       "...               ...       ...       ...       ...       ...  ...  ..  ...   \n",
       "344879628          14  0.076923  0.467407  0.227731  0.311820  SNP  14  182   \n",
       "344879629          24  0.131868  0.623327 -0.108922  0.220881  SNP  24  182   \n",
       "344879630          24  0.131868  0.814942 -0.057632  0.245391  SNP  24  182   \n",
       "344879631           9  0.049451  0.747654 -0.105536  0.326847  SNP   9  182   \n",
       "344879632           9  0.049451  0.541544  0.222004  0.362036  SNP   9  182   \n",
       "\n",
       "           r2 molecular_trait_object_id          gene_id  median_tpm  \\\n",
       "0         NaN                Interval_1       Interval_1         NaN   \n",
       "1         NaN                Interval_2       Interval_2         NaN   \n",
       "2         NaN                Interval_3       Interval_3         NaN   \n",
       "3         NaN                Interval_4       Interval_4         NaN   \n",
       "4         NaN                Interval_5       Interval_5         NaN   \n",
       "...        ..                       ...              ...         ...   \n",
       "344879628 NaN           Interval_241023  Interval_241023         NaN   \n",
       "344879629 NaN           Interval_241022  Interval_241022         NaN   \n",
       "344879630 NaN           Interval_241023  Interval_241023         NaN   \n",
       "344879631 NaN           Interval_241022  Interval_241022         NaN   \n",
       "344879632 NaN           Interval_241023  Interval_241023         NaN   \n",
       "\n",
       "                   rsid molecular_trait_id  \n",
       "0            rs58108140         Interval_1  \n",
       "1            rs58108140         Interval_2  \n",
       "2            rs58108140         Interval_3  \n",
       "3            rs58108140         Interval_4  \n",
       "4            rs58108140         Interval_5  \n",
       "...                 ...                ...  \n",
       "344879628  rs1386837028    Interval_241023  \n",
       "344879629  rs1460832765    Interval_241022  \n",
       "344879630  rs1460832765    Interval_241023  \n",
       "344879631  rs1248605022    Interval_241022  \n",
       "344879632  rs1248605022    Interval_241023  \n",
       "\n",
       "[344879633 rows x 20 columns]"
      ]
     },
     "execution_count": 6,
     "metadata": {},
     "output_type": "execute_result"
    }
   ],
   "source": [
    "data_sus = data_sus[['chromosome', 'position0', 'position', 'ref', 'alt', 'variant',\n",
    "       'ma_samples', 'maf', 'pvalue', 'beta', 'se', 'type', 'ac', 'an', 'r2',\n",
    "       'molecular_trait_object_id', 'gene_id', 'median_tpm', 'rsid',\n",
    "       'molecular_trait_id']]"
   ]
  },
  {
   "cell_type": "code",
   "execution_count": 10,
   "metadata": {},
   "outputs": [
    {
     "name": "stderr",
     "output_type": "stream",
     "text": [
      "/users/anusri/anaconda3/lib/python3.7/site-packages/IPython/core/interactiveshell.py:3331: DtypeWarning: Columns (4) have mixed types.Specify dtype option on import or set low_memory=False.\n",
      "  exec(code_obj, self.user_global_ns, self.user_ns)\n"
     ]
    },
    {
     "name": "stdout",
     "output_type": "stream",
     "text": [
      "  phenotype_id    quant_id    group_id     gene_id chromosome  gene_start  \\\n",
      "0   Interval_1  Interval_1  Interval_1  Interval_1          1       10034   \n",
      "1   Interval_2  Interval_2  Interval_2  Interval_2          1       28924   \n",
      "2   Interval_3  Interval_3  Interval_3  Interval_3          1      180749   \n",
      "3   Interval_4  Interval_4  Interval_4  Interval_4          1      182645   \n",
      "4   Interval_5  Interval_5  Interval_5  Interval_5          1      186367   \n",
      "\n",
      "   gene_end  strand   gene_name       gene_type  phenotype_pos  \\\n",
      "0     10617       1  Interval_1  open_chromatin          10326   \n",
      "1     29435       1  Interval_2  open_chromatin          29180   \n",
      "2    181528       1  Interval_3  open_chromatin         181138   \n",
      "3    184537       1  Interval_4  open_chromatin         183591   \n",
      "4    187110       1  Interval_5  open_chromatin         186738   \n",
      "\n",
      "   phenotype_length  \n",
      "0               584  \n",
      "1               512  \n",
      "2               780  \n",
      "3              1893  \n",
      "4               744  \n"
     ]
    }
   ],
   "source": [
    "peaks_data=pd.read_csv(\"/mnt/lab_data2/anusri/kumasaka/new_download/peak_metadata/QTD100018_peak_metadata.tsv.gz\", sep=\"\\t\", header=0)\n",
    "print(peaks_data.head())\n",
    "peaks_data = peaks_data[[\"chromosome\", \"gene_start\", \"gene_end\", \"phenotype_pos\", \"phenotype_id\"]]\n",
    "peaks_data[\"chromosome\"] = \"chr\"+peaks_data[\"chromosome\"] .astype(str)\n",
    "peaks_data[\"center\"]  =  ((peaks_data[\"gene_start\"] + peaks_data[\"gene_end\"])/2).astype(int)\n",
    "# peaks_data[\"start\"] = peaks_data[\"center\"] - 100\n",
    "# peaks_data[\"end\"] = peaks_data[\"center\"] + 100\n",
    "peaks_data = peaks_data[['chromosome', 'gene_start', 'gene_end', \"phenotype_id\"]]"
   ]
  },
  {
   "cell_type": "code",
   "execution_count": 12,
   "metadata": {},
   "outputs": [],
   "source": [
    "merged_dataframe = data_sus.merge(peaks_data, right_on=['phenotype_id'], left_on=[\"molecular_trait_id\"], how='left')\n"
   ]
  },
  {
   "cell_type": "code",
   "execution_count": 254,
   "metadata": {},
   "outputs": [],
   "source": [
    "merged_dataframe_n = merged_dataframe[((merged_dataframe[\"position\"].astype(int) >= merged_dataframe[\"gene_start\"].astype(int)) & (merged_dataframe[\"position\"].astype(int) <= merged_dataframe[\"gene_end\"].astype(int)))]\n"
   ]
  },
  {
   "cell_type": "code",
   "execution_count": null,
   "metadata": {},
   "outputs": [],
   "source": []
  },
  {
   "cell_type": "code",
   "execution_count": null,
   "metadata": {},
   "outputs": [],
   "source": [
    "merged_dataframe_n.to_csv(\"eu_qtls.inpeaks.effects.tsv\", sep=\"\\t\", index=False, header=False)"
   ]
  },
  {
   "cell_type": "code",
   "execution_count": 15,
   "metadata": {},
   "outputs": [
    {
     "data": {
      "text/plain": [
       "(1071080, 24)"
      ]
     },
     "execution_count": 15,
     "metadata": {},
     "output_type": "execute_result"
    }
   ],
   "source": [
    "merged_dataframe_n.shape"
   ]
  },
  {
   "cell_type": "code",
   "execution_count": 16,
   "metadata": {},
   "outputs": [
    {
     "data": {
      "text/plain": [
       "(344879633, 20)"
      ]
     },
     "execution_count": 16,
     "metadata": {},
     "output_type": "execute_result"
    }
   ],
   "source": [
    "#data_sus.shape"
   ]
  },
  {
   "cell_type": "code",
   "execution_count": 19,
   "metadata": {},
   "outputs": [],
   "source": [
    "merged_dataframe_n1 = merged_dataframe_n[merged_dataframe_n[\"ref\"].str.len()==1]\n",
    "merged_dataframe_n1 = merged_dataframe_n1[merged_dataframe_n1[\"alt\"].str.len()==1]"
   ]
  },
  {
   "cell_type": "code",
   "execution_count": 20,
   "metadata": {},
   "outputs": [
    {
     "data": {
      "text/plain": [
       "(843015, 24)"
      ]
     },
     "execution_count": 20,
     "metadata": {},
     "output_type": "execute_result"
    }
   ],
   "source": [
    "merged_dataframe_n1.shape"
   ]
  },
  {
   "cell_type": "code",
   "execution_count": 21,
   "metadata": {},
   "outputs": [],
   "source": [
    "merged_dataframe_n1.to_csv(\"local.eu.effects.tsv\",sep=\"\\t\", index=False, header=True)"
   ]
  },
  {
   "cell_type": "code",
   "execution_count": 23,
   "metadata": {},
   "outputs": [
    {
     "data": {
      "text/plain": [
       "Index(['molecular_trait_id', 'chromosome_x', 'position', 'ref', 'alt',\n",
       "       'variant', 'ma_samples', 'maf', 'pvalue', 'beta', 'se', 'type', 'ac',\n",
       "       'an', 'r2', 'molecular_trait_object_id', 'gene_id', 'median_tpm',\n",
       "       'rsid', 'position0', 'chromosome_y', 'gene_start', 'gene_end',\n",
       "       'phenotype_id'],\n",
       "      dtype='object')"
      ]
     },
     "execution_count": 23,
     "metadata": {},
     "output_type": "execute_result"
    }
   ],
   "source": [
    "merged_dataframe_n1.columns"
   ]
  },
  {
   "cell_type": "code",
   "execution_count": 26,
   "metadata": {},
   "outputs": [],
   "source": [
    "merged_dataframe_n2 = merged_dataframe_n1[['chromosome_x', 'position0', 'position', 'ref', 'alt', 'molecular_trait_id',\n",
    "       'variant', 'ma_samples', 'maf', 'pvalue', 'beta', 'se', 'type', 'ac',\n",
    "       'an', 'r2', 'molecular_trait_object_id', 'gene_id', 'median_tpm',\n",
    "       'rsid',  'gene_start', 'gene_end',\n",
    "       'phenotype_id']]"
   ]
  },
  {
   "cell_type": "code",
   "execution_count": 27,
   "metadata": {},
   "outputs": [
    {
     "name": "stderr",
     "output_type": "stream",
     "text": [
      "/users/anusri/anaconda3/lib/python3.7/site-packages/ipykernel_launcher.py:1: SettingWithCopyWarning: \n",
      "A value is trying to be set on a copy of a slice from a DataFrame.\n",
      "Try using .loc[row_indexer,col_indexer] = value instead\n",
      "\n",
      "See the caveats in the documentation: https://pandas.pydata.org/pandas-docs/stable/user_guide/indexing.html#returning-a-view-versus-a-copy\n",
      "  \"\"\"Entry point for launching an IPython kernel.\n"
     ]
    }
   ],
   "source": [
    "merged_dataframe_n2['chromosome_x'] = \"chr\"+merged_dataframe_n2['chromosome_x'].astype(str)"
   ]
  },
  {
   "cell_type": "code",
   "execution_count": 28,
   "metadata": {},
   "outputs": [
    {
     "data": {
      "text/html": [
       "<div>\n",
       "<style scoped>\n",
       "    .dataframe tbody tr th:only-of-type {\n",
       "        vertical-align: middle;\n",
       "    }\n",
       "\n",
       "    .dataframe tbody tr th {\n",
       "        vertical-align: top;\n",
       "    }\n",
       "\n",
       "    .dataframe thead th {\n",
       "        text-align: right;\n",
       "    }\n",
       "</style>\n",
       "<table border=\"1\" class=\"dataframe\">\n",
       "  <thead>\n",
       "    <tr style=\"text-align: right;\">\n",
       "      <th></th>\n",
       "      <th>chromosome_x</th>\n",
       "      <th>position0</th>\n",
       "      <th>position</th>\n",
       "      <th>ref</th>\n",
       "      <th>alt</th>\n",
       "      <th>molecular_trait_id</th>\n",
       "      <th>variant</th>\n",
       "      <th>ma_samples</th>\n",
       "      <th>maf</th>\n",
       "      <th>pvalue</th>\n",
       "      <th>...</th>\n",
       "      <th>ac</th>\n",
       "      <th>an</th>\n",
       "      <th>r2</th>\n",
       "      <th>molecular_trait_object_id</th>\n",
       "      <th>gene_id</th>\n",
       "      <th>median_tpm</th>\n",
       "      <th>rsid</th>\n",
       "      <th>gene_start</th>\n",
       "      <th>gene_end</th>\n",
       "      <th>phenotype_id</th>\n",
       "    </tr>\n",
       "  </thead>\n",
       "  <tbody>\n",
       "    <tr>\n",
       "      <th>0</th>\n",
       "      <td>chr1</td>\n",
       "      <td>10582</td>\n",
       "      <td>10583</td>\n",
       "      <td>G</td>\n",
       "      <td>A</td>\n",
       "      <td>Interval_1</td>\n",
       "      <td>chr1_10583_G_A</td>\n",
       "      <td>9</td>\n",
       "      <td>0.049451</td>\n",
       "      <td>0.861729</td>\n",
       "      <td>...</td>\n",
       "      <td>9</td>\n",
       "      <td>182</td>\n",
       "      <td>NaN</td>\n",
       "      <td>Interval_1</td>\n",
       "      <td>Interval_1</td>\n",
       "      <td>NaN</td>\n",
       "      <td>rs58108140</td>\n",
       "      <td>10034</td>\n",
       "      <td>10617</td>\n",
       "      <td>Interval_1</td>\n",
       "    </tr>\n",
       "    <tr>\n",
       "      <th>235</th>\n",
       "      <td>chr1</td>\n",
       "      <td>29367</td>\n",
       "      <td>29368</td>\n",
       "      <td>G</td>\n",
       "      <td>A</td>\n",
       "      <td>Interval_2</td>\n",
       "      <td>chr1_29368_G_A</td>\n",
       "      <td>7</td>\n",
       "      <td>0.038462</td>\n",
       "      <td>0.162300</td>\n",
       "      <td>...</td>\n",
       "      <td>7</td>\n",
       "      <td>182</td>\n",
       "      <td>NaN</td>\n",
       "      <td>Interval_2</td>\n",
       "      <td>Interval_2</td>\n",
       "      <td>NaN</td>\n",
       "      <td>rs796745295</td>\n",
       "      <td>28924</td>\n",
       "      <td>29435</td>\n",
       "      <td>Interval_2</td>\n",
       "    </tr>\n",
       "    <tr>\n",
       "      <th>1295</th>\n",
       "      <td>chr1</td>\n",
       "      <td>181112</td>\n",
       "      <td>181113</td>\n",
       "      <td>A</td>\n",
       "      <td>G</td>\n",
       "      <td>Interval_3</td>\n",
       "      <td>chr1_181113_A_G</td>\n",
       "      <td>75</td>\n",
       "      <td>0.412088</td>\n",
       "      <td>0.008885</td>\n",
       "      <td>...</td>\n",
       "      <td>107</td>\n",
       "      <td>182</td>\n",
       "      <td>NaN</td>\n",
       "      <td>Interval_3</td>\n",
       "      <td>Interval_3</td>\n",
       "      <td>NaN</td>\n",
       "      <td>rs1383295402</td>\n",
       "      <td>180749</td>\n",
       "      <td>181528</td>\n",
       "      <td>Interval_3</td>\n",
       "    </tr>\n",
       "    <tr>\n",
       "      <th>1311</th>\n",
       "      <td>chr1</td>\n",
       "      <td>181392</td>\n",
       "      <td>181393</td>\n",
       "      <td>G</td>\n",
       "      <td>C</td>\n",
       "      <td>Interval_3</td>\n",
       "      <td>chr1_181393_G_C</td>\n",
       "      <td>10</td>\n",
       "      <td>0.054945</td>\n",
       "      <td>0.467159</td>\n",
       "      <td>...</td>\n",
       "      <td>10</td>\n",
       "      <td>182</td>\n",
       "      <td>NaN</td>\n",
       "      <td>Interval_3</td>\n",
       "      <td>Interval_3</td>\n",
       "      <td>NaN</td>\n",
       "      <td>rs1255535955</td>\n",
       "      <td>180749</td>\n",
       "      <td>181528</td>\n",
       "      <td>Interval_3</td>\n",
       "    </tr>\n",
       "    <tr>\n",
       "      <th>1319</th>\n",
       "      <td>chr1</td>\n",
       "      <td>181412</td>\n",
       "      <td>181413</td>\n",
       "      <td>A</td>\n",
       "      <td>T</td>\n",
       "      <td>Interval_3</td>\n",
       "      <td>chr1_181413_A_T</td>\n",
       "      <td>6</td>\n",
       "      <td>0.032967</td>\n",
       "      <td>0.582758</td>\n",
       "      <td>...</td>\n",
       "      <td>6</td>\n",
       "      <td>182</td>\n",
       "      <td>NaN</td>\n",
       "      <td>Interval_3</td>\n",
       "      <td>Interval_3</td>\n",
       "      <td>NaN</td>\n",
       "      <td>rs1480963775</td>\n",
       "      <td>180749</td>\n",
       "      <td>181528</td>\n",
       "      <td>Interval_3</td>\n",
       "    </tr>\n",
       "    <tr>\n",
       "      <th>...</th>\n",
       "      <td>...</td>\n",
       "      <td>...</td>\n",
       "      <td>...</td>\n",
       "      <td>...</td>\n",
       "      <td>...</td>\n",
       "      <td>...</td>\n",
       "      <td>...</td>\n",
       "      <td>...</td>\n",
       "      <td>...</td>\n",
       "      <td>...</td>\n",
       "      <td>...</td>\n",
       "      <td>...</td>\n",
       "      <td>...</td>\n",
       "      <td>...</td>\n",
       "      <td>...</td>\n",
       "      <td>...</td>\n",
       "      <td>...</td>\n",
       "      <td>...</td>\n",
       "      <td>...</td>\n",
       "      <td>...</td>\n",
       "      <td>...</td>\n",
       "    </tr>\n",
       "    <tr>\n",
       "      <th>344878518</th>\n",
       "      <td>chr9</td>\n",
       "      <td>138150600</td>\n",
       "      <td>138150601</td>\n",
       "      <td>G</td>\n",
       "      <td>T</td>\n",
       "      <td>Interval_241023</td>\n",
       "      <td>chr9_138150601_G_T</td>\n",
       "      <td>28</td>\n",
       "      <td>0.153846</td>\n",
       "      <td>0.000413</td>\n",
       "      <td>...</td>\n",
       "      <td>28</td>\n",
       "      <td>182</td>\n",
       "      <td>NaN</td>\n",
       "      <td>Interval_241023</td>\n",
       "      <td>Interval_241023</td>\n",
       "      <td>NaN</td>\n",
       "      <td>rs1337303724</td>\n",
       "      <td>138149834</td>\n",
       "      <td>138151081</td>\n",
       "      <td>Interval_241023</td>\n",
       "    </tr>\n",
       "    <tr>\n",
       "      <th>344878520</th>\n",
       "      <td>chr9</td>\n",
       "      <td>138150603</td>\n",
       "      <td>138150604</td>\n",
       "      <td>G</td>\n",
       "      <td>C</td>\n",
       "      <td>Interval_241023</td>\n",
       "      <td>chr9_138150604_G_C</td>\n",
       "      <td>28</td>\n",
       "      <td>0.153846</td>\n",
       "      <td>0.000413</td>\n",
       "      <td>...</td>\n",
       "      <td>28</td>\n",
       "      <td>182</td>\n",
       "      <td>NaN</td>\n",
       "      <td>Interval_241023</td>\n",
       "      <td>Interval_241023</td>\n",
       "      <td>NaN</td>\n",
       "      <td>rs1229955401</td>\n",
       "      <td>138149834</td>\n",
       "      <td>138151081</td>\n",
       "      <td>Interval_241023</td>\n",
       "    </tr>\n",
       "    <tr>\n",
       "      <th>344878522</th>\n",
       "      <td>chr9</td>\n",
       "      <td>138150624</td>\n",
       "      <td>138150625</td>\n",
       "      <td>G</td>\n",
       "      <td>A</td>\n",
       "      <td>Interval_241023</td>\n",
       "      <td>chr9_138150625_G_A</td>\n",
       "      <td>62</td>\n",
       "      <td>0.384615</td>\n",
       "      <td>0.099104</td>\n",
       "      <td>...</td>\n",
       "      <td>70</td>\n",
       "      <td>182</td>\n",
       "      <td>NaN</td>\n",
       "      <td>Interval_241023</td>\n",
       "      <td>Interval_241023</td>\n",
       "      <td>NaN</td>\n",
       "      <td>rs11137389</td>\n",
       "      <td>138149834</td>\n",
       "      <td>138151081</td>\n",
       "      <td>Interval_241023</td>\n",
       "    </tr>\n",
       "    <tr>\n",
       "      <th>344878524</th>\n",
       "      <td>chr9</td>\n",
       "      <td>138150742</td>\n",
       "      <td>138150743</td>\n",
       "      <td>A</td>\n",
       "      <td>G</td>\n",
       "      <td>Interval_241023</td>\n",
       "      <td>chr9_138150743_A_G</td>\n",
       "      <td>28</td>\n",
       "      <td>0.153846</td>\n",
       "      <td>0.000413</td>\n",
       "      <td>...</td>\n",
       "      <td>28</td>\n",
       "      <td>182</td>\n",
       "      <td>NaN</td>\n",
       "      <td>Interval_241023</td>\n",
       "      <td>Interval_241023</td>\n",
       "      <td>NaN</td>\n",
       "      <td>rs56981042</td>\n",
       "      <td>138149834</td>\n",
       "      <td>138151081</td>\n",
       "      <td>Interval_241023</td>\n",
       "    </tr>\n",
       "    <tr>\n",
       "      <th>344878526</th>\n",
       "      <td>chr9</td>\n",
       "      <td>138151063</td>\n",
       "      <td>138151064</td>\n",
       "      <td>C</td>\n",
       "      <td>G</td>\n",
       "      <td>Interval_241023</td>\n",
       "      <td>chr9_138151064_C_G</td>\n",
       "      <td>19</td>\n",
       "      <td>0.104396</td>\n",
       "      <td>0.010551</td>\n",
       "      <td>...</td>\n",
       "      <td>19</td>\n",
       "      <td>182</td>\n",
       "      <td>NaN</td>\n",
       "      <td>Interval_241023</td>\n",
       "      <td>Interval_241023</td>\n",
       "      <td>NaN</td>\n",
       "      <td>rs369255085</td>\n",
       "      <td>138149834</td>\n",
       "      <td>138151081</td>\n",
       "      <td>Interval_241023</td>\n",
       "    </tr>\n",
       "  </tbody>\n",
       "</table>\n",
       "<p>843015 rows × 23 columns</p>\n",
       "</div>"
      ],
      "text/plain": [
       "          chromosome_x  position0   position ref alt molecular_trait_id  \\\n",
       "0                 chr1      10582      10583   G   A         Interval_1   \n",
       "235               chr1      29367      29368   G   A         Interval_2   \n",
       "1295              chr1     181112     181113   A   G         Interval_3   \n",
       "1311              chr1     181392     181393   G   C         Interval_3   \n",
       "1319              chr1     181412     181413   A   T         Interval_3   \n",
       "...                ...        ...        ...  ..  ..                ...   \n",
       "344878518         chr9  138150600  138150601   G   T    Interval_241023   \n",
       "344878520         chr9  138150603  138150604   G   C    Interval_241023   \n",
       "344878522         chr9  138150624  138150625   G   A    Interval_241023   \n",
       "344878524         chr9  138150742  138150743   A   G    Interval_241023   \n",
       "344878526         chr9  138151063  138151064   C   G    Interval_241023   \n",
       "\n",
       "                      variant  ma_samples       maf    pvalue  ...   ac   an  \\\n",
       "0              chr1_10583_G_A           9  0.049451  0.861729  ...    9  182   \n",
       "235            chr1_29368_G_A           7  0.038462  0.162300  ...    7  182   \n",
       "1295          chr1_181113_A_G          75  0.412088  0.008885  ...  107  182   \n",
       "1311          chr1_181393_G_C          10  0.054945  0.467159  ...   10  182   \n",
       "1319          chr1_181413_A_T           6  0.032967  0.582758  ...    6  182   \n",
       "...                       ...         ...       ...       ...  ...  ...  ...   \n",
       "344878518  chr9_138150601_G_T          28  0.153846  0.000413  ...   28  182   \n",
       "344878520  chr9_138150604_G_C          28  0.153846  0.000413  ...   28  182   \n",
       "344878522  chr9_138150625_G_A          62  0.384615  0.099104  ...   70  182   \n",
       "344878524  chr9_138150743_A_G          28  0.153846  0.000413  ...   28  182   \n",
       "344878526  chr9_138151064_C_G          19  0.104396  0.010551  ...   19  182   \n",
       "\n",
       "           r2  molecular_trait_object_id          gene_id  median_tpm  \\\n",
       "0         NaN                 Interval_1       Interval_1         NaN   \n",
       "235       NaN                 Interval_2       Interval_2         NaN   \n",
       "1295      NaN                 Interval_3       Interval_3         NaN   \n",
       "1311      NaN                 Interval_3       Interval_3         NaN   \n",
       "1319      NaN                 Interval_3       Interval_3         NaN   \n",
       "...        ..                        ...              ...         ...   \n",
       "344878518 NaN            Interval_241023  Interval_241023         NaN   \n",
       "344878520 NaN            Interval_241023  Interval_241023         NaN   \n",
       "344878522 NaN            Interval_241023  Interval_241023         NaN   \n",
       "344878524 NaN            Interval_241023  Interval_241023         NaN   \n",
       "344878526 NaN            Interval_241023  Interval_241023         NaN   \n",
       "\n",
       "                   rsid gene_start   gene_end     phenotype_id  \n",
       "0            rs58108140      10034      10617       Interval_1  \n",
       "235         rs796745295      28924      29435       Interval_2  \n",
       "1295       rs1383295402     180749     181528       Interval_3  \n",
       "1311       rs1255535955     180749     181528       Interval_3  \n",
       "1319       rs1480963775     180749     181528       Interval_3  \n",
       "...                 ...        ...        ...              ...  \n",
       "344878518  rs1337303724  138149834  138151081  Interval_241023  \n",
       "344878520  rs1229955401  138149834  138151081  Interval_241023  \n",
       "344878522    rs11137389  138149834  138151081  Interval_241023  \n",
       "344878524    rs56981042  138149834  138151081  Interval_241023  \n",
       "344878526   rs369255085  138149834  138151081  Interval_241023  \n",
       "\n",
       "[843015 rows x 23 columns]"
      ]
     },
     "execution_count": 28,
     "metadata": {},
     "output_type": "execute_result"
    }
   ],
   "source": [
    "merged_dataframe_n2"
   ]
  },
  {
   "cell_type": "code",
   "execution_count": 88,
   "metadata": {},
   "outputs": [
    {
     "name": "stdout",
     "output_type": "stream",
     "text": [
      "      0       1       2\n",
      "0  chr1   10024   10442\n",
      "1  chr1   13224   13424\n",
      "2  chr1   29073   29455\n",
      "3  chr1   96551   96751\n",
      "4  chr1  181000  181390\n"
     ]
    }
   ],
   "source": [
    "import pybedtools\n",
    "peaks_data_merged=pd.read_csv(\"/mnt/lab_data2/anusri/kumasaka/new_download/Kumasaka_2018_wgs/sumstats/merged.peaks.eu.top.50k.bed\", sep=\"\\t\", header=None)\n",
    "print(peaks_data_merged.head())\n",
    "beds_var = pybedtools.BedTool.from_dataframe(merged_dataframe_n2)\n",
    "peak_bed = pybedtools.BedTool.from_dataframe(peaks_data_merged) # this is a merged peaks file\n",
    "vars_in_bed = beds_var.intersect(peak_bed, c=True)\n",
    "\n"
   ]
  },
  {
   "cell_type": "code",
   "execution_count": 89,
   "metadata": {},
   "outputs": [],
   "source": [
    "vars_in_bedn = vars_in_bed.to_dataframe(names=merged_dataframe_n2.columns.tolist() + [\"count\"])\n"
   ]
  },
  {
   "cell_type": "code",
   "execution_count": 90,
   "metadata": {},
   "outputs": [],
   "source": [
    "vars_in_bedn2 = vars_in_bedn[vars_in_bedn[\"count\"]>0]"
   ]
  },
  {
   "cell_type": "code",
   "execution_count": 324,
   "metadata": {},
   "outputs": [
    {
     "data": {
      "text/plain": [
       "Index(['chromosome_x', 'position0', 'position', 'ref', 'alt',\n",
       "       'molecular_trait_id', 'variant', 'ma_samples', 'maf', 'pvalue', 'beta',\n",
       "       'se', 'type', 'ac', 'an', 'r2', 'molecular_trait_object_id', 'gene_id',\n",
       "       'median_tpm', 'rsid', 'gene_start', 'gene_end', 'phenotype_id', 'count',\n",
       "       'corrected_pvalue'],\n",
       "      dtype='object')"
      ]
     },
     "execution_count": 324,
     "metadata": {},
     "output_type": "execute_result"
    }
   ],
   "source": [
    "vars_in_bedn2.columns"
   ]
  },
  {
   "cell_type": "code",
   "execution_count": 326,
   "metadata": {},
   "outputs": [],
   "source": [
    "vars_in_bedn2.to_csv(\"eu.inpeaks.kaur.tsv\", sep=\"\\t\", header=True, index=False)"
   ]
  },
  {
   "cell_type": "code",
   "execution_count": 79,
   "metadata": {},
   "outputs": [
    {
     "data": {
      "text/plain": [
       "<AxesSubplot:>"
      ]
     },
     "execution_count": 79,
     "metadata": {},
     "output_type": "execute_result"
    },
    {
     "data": {
      "image/png": "[encoded data removed]",
      "text/plain": [
       "<Figure size 432x288 with 1 Axes>"
      ]
     },
     "metadata": {
      "needs_background": "light"
     },
     "output_type": "display_data"
    }
   ],
   "source": [
    "vars_in_bedn2[\"pvalue\"].hist()"
   ]
  },
  {
   "cell_type": "code",
   "execution_count": 92,
   "metadata": {},
   "outputs": [
    {
     "data": {
      "text/plain": [
       "11188"
      ]
     },
     "execution_count": 92,
     "metadata": {},
     "output_type": "execute_result"
    }
   ],
   "source": [
    "sum(vars_in_bedn2[\"pvalue\"]<1e-7)"
   ]
  },
  {
   "cell_type": "code",
   "execution_count": 124,
   "metadata": {},
   "outputs": [
    {
     "data": {
      "text/plain": [
       "277176"
      ]
     },
     "execution_count": 124,
     "metadata": {},
     "output_type": "execute_result"
    }
   ],
   "source": [
    "sum(vars_in_bedn2[\"pvalue\"]>1e-2)"
   ]
  },
  {
   "cell_type": "code",
   "execution_count": 125,
   "metadata": {},
   "outputs": [
    {
     "data": {
      "text/plain": [
       "(324911, 24)"
      ]
     },
     "execution_count": 125,
     "metadata": {},
     "output_type": "execute_result"
    }
   ],
   "source": [
    "vars_in_bedn2.shape"
   ]
  },
  {
   "cell_type": "code",
   "execution_count": null,
   "metadata": {},
   "outputs": [],
   "source": [
    "vars_in_bedn2[\"pvalue\"].min()"
   ]
  },
  {
   "cell_type": "code",
   "execution_count": 95,
   "metadata": {},
   "outputs": [
    {
     "data": {
      "text/plain": [
       "324911"
      ]
     },
     "execution_count": 95,
     "metadata": {},
     "output_type": "execute_result"
    }
   ],
   "source": [
    "len(vars_in_bedn2[\"variant\"])"
   ]
  },
  {
   "cell_type": "code",
   "execution_count": 126,
   "metadata": {},
   "outputs": [
    {
     "data": {
      "text/plain": [
       "324909"
      ]
     },
     "execution_count": 126,
     "metadata": {},
     "output_type": "execute_result"
    }
   ],
   "source": [
    "len(set(vars_in_bedn2[\"variant\"]))"
   ]
  },
  {
   "cell_type": "code",
   "execution_count": 127,
   "metadata": {},
   "outputs": [],
   "source": [
    "permuted_set=pd.read_csv(\"/mnt/lab_data2/anusri/kumasaka/new_download/Kumasaka_2018_wgs/sumstats/QTD100018.permuted.tsv.gz\", sep=\"\\t\", header=0)"
   ]
  },
  {
   "cell_type": "code",
   "execution_count": 131,
   "metadata": {},
   "outputs": [
    {
     "name": "stdout",
     "output_type": "stream",
     "text": [
      "(241014, 11)\n"
     ]
    }
   ],
   "source": [
    "print(permuted_set.shape)\n",
    "import numpy as np\n",
    "permuted_set = permuted_set[~np.isnan(permuted_set[\"p_beta\"])]"
   ]
  },
  {
   "cell_type": "code",
   "execution_count": 133,
   "metadata": {},
   "outputs": [
    {
     "data": {
      "text/plain": [
       "<AxesSubplot:>"
      ]
     },
     "execution_count": 133,
     "metadata": {},
     "output_type": "execute_result"
    },
    {
     "data": {
      "image/png": "[encoded data removed]",
      "text/plain": [
       "<Figure size 432x288 with 1 Axes>"
      ]
     },
     "metadata": {
      "needs_background": "light"
     },
     "output_type": "display_data"
    }
   ],
   "source": [
    "permuted_set[\"p_beta\"].hist()"
   ]
  },
  {
   "cell_type": "code",
   "execution_count": 144,
   "metadata": {},
   "outputs": [
    {
     "data": {
      "text/plain": [
       "0.000944917"
      ]
     },
     "execution_count": 144,
     "metadata": {},
     "output_type": "execute_result"
    }
   ],
   "source": [
    "permuted_set[\"p_beta\"].quantile(0.05)  "
   ]
  },
  {
   "cell_type": "code",
   "execution_count": 145,
   "metadata": {},
   "outputs": [
    {
     "data": {
      "text/plain": [
       "(324911, 25)"
      ]
     },
     "execution_count": 145,
     "metadata": {},
     "output_type": "execute_result"
    }
   ],
   "source": [
    "vars_in_bedn2.shape"
   ]
  },
  {
   "cell_type": "code",
   "execution_count": 138,
   "metadata": {},
   "outputs": [
    {
     "data": {
      "text/plain": [
       "(30623, 24)"
      ]
     },
     "execution_count": 138,
     "metadata": {},
     "output_type": "execute_result"
    }
   ],
   "source": [
    "vars_in_bedn2[vars_in_bedn2[\"pvalue\"]<permuted_set[\"p_beta\"].quantile(0.05)].shape  "
   ]
  },
  {
   "cell_type": "code",
   "execution_count": 152,
   "metadata": {},
   "outputs": [
    {
     "name": "stdout",
     "output_type": "stream",
     "text": [
      "Final number of significant effects after FDR: 30623\n"
     ]
    },
    {
     "name": "stderr",
     "output_type": "stream",
     "text": [
      "/users/anusri/anaconda3/lib/python3.7/site-packages/ipykernel_launcher.py:8: SettingWithCopyWarning: \n",
      "A value is trying to be set on a copy of a slice from a DataFrame.\n",
      "Try using .loc[row_indexer,col_indexer] = value instead\n",
      "\n",
      "See the caveats in the documentation: https://pandas.pydata.org/pandas-docs/stable/user_guide/indexing.html#returning-a-view-versus-a-copy\n",
      "  \n"
     ]
    }
   ],
   "source": [
    "from statsmodels.stats.multitest import multipletests\n",
    "\n",
    "significant_effects=vars_in_bedn2[vars_in_bedn2[\"pvalue\"]<permuted_set[\"p_beta\"].quantile(0.05)]\n",
    "# FDR Correction\n",
    "_, corrected_pvalues, _, _ = multipletests(significant_effects['pvalue'], alpha=0.01, method='fdr_bh')\n",
    "\n",
    "# Filter based on corrected p-values\n",
    "significant_effects['corrected_pvalue'] = corrected_pvalues\n",
    "final_significant_effects = significant_effects[significant_effects['corrected_pvalue'] <= 0.01]\n",
    "print(f\"Final number of significant effects after FDR: {len(final_significant_effects)}\")"
   ]
  },
  {
   "cell_type": "code",
   "execution_count": 153,
   "metadata": {},
   "outputs": [
    {
     "data": {
      "text/plain": [
       "array([1.60570709e-04, 9.63276034e-05, 2.65811619e-09, ...,\n",
       "       2.88574273e-05, 2.10523537e-07, 1.32878151e-05])"
      ]
     },
     "execution_count": 153,
     "metadata": {},
     "output_type": "execute_result"
    }
   ],
   "source": [
    "corrected_pvalues"
   ]
  },
  {
   "cell_type": "code",
   "execution_count": 519,
   "metadata": {},
   "outputs": [
    {
     "name": "stdout",
     "output_type": "stream",
     "text": [
      "(226346, 28)\n",
      "(226346, 28)\n"
     ]
    }
   ],
   "source": [
    "import pandas as pd\n",
    "import numpy as np\n",
    "eus = pd.read_csv(\"../final_figures_new/Eu.new.CaQTLS.tsv\", sep=\"\\t\", header=0)\n",
    "#eus = eus[eus[\"IsUsed\"] & eus[\"Inside_Peak\"]==1]\n",
    "\n",
    "#eus = eus[eus[\"Inside_Peak\"]==2]\n",
    "print(eus.shape)\n",
    "#eus = eus[(eus[\"Log10_BF\"]>3) | (eus[\"Log10_BF\"]<-1)]\n",
    "print(eus.shape)\n",
    "eus[\"labeln\"] = 1\n",
    "eus.loc[eus[\"Log10_BF\"]>3,\"labeln\"]=1\n",
    "eus.loc[eus[\"Log10_BF\"]<-1,\"labeln\"]=-1\n",
    "#eus = eus[['chr', 'Pos', 'Ref', 'Alt', 'RsID', 'labeln']]\n",
    "eus[\"my_rsid\"] = eus[\"chr\"]+\".\"+eus[\"Pos\"].astype(str)\n",
    "\n",
    "datan = eus.merge(vars_in_bedn2, left_on=[\"Ref\", \"Alt\", \"RsID\"], right_on=[\"ref\", \"alt\", \"rsid\"], how=\"inner\").drop_duplicates()\n"
   ]
  },
  {
   "cell_type": "code",
   "execution_count": 520,
   "metadata": {},
   "outputs": [
    {
     "name": "stdout",
     "output_type": "stream",
     "text": [
      "(117142, 55)\n"
     ]
    }
   ],
   "source": [
    "print(datan.shape)"
   ]
  },
  {
   "cell_type": "code",
   "execution_count": 521,
   "metadata": {},
   "outputs": [
    {
     "name": "stdout",
     "output_type": "stream",
     "text": [
      "(226346, 30)\n"
     ]
    }
   ],
   "source": [
    "print(eus.shape)"
   ]
  },
  {
   "cell_type": "code",
   "execution_count": 522,
   "metadata": {},
   "outputs": [
    {
     "data": {
      "text/html": [
       "<div>\n",
       "<style scoped>\n",
       "    .dataframe tbody tr th:only-of-type {\n",
       "        vertical-align: middle;\n",
       "    }\n",
       "\n",
       "    .dataframe tbody tr th {\n",
       "        vertical-align: top;\n",
       "    }\n",
       "\n",
       "    .dataframe thead th {\n",
       "        text-align: right;\n",
       "    }\n",
       "</style>\n",
       "<table border=\"1\" class=\"dataframe\">\n",
       "  <thead>\n",
       "    <tr style=\"text-align: right;\">\n",
       "      <th></th>\n",
       "      <th>chr</th>\n",
       "      <th>Pos</th>\n",
       "      <th>Ref</th>\n",
       "      <th>Alt</th>\n",
       "      <th>RsID</th>\n",
       "      <th>Peak</th>\n",
       "      <th>AF</th>\n",
       "      <th>Inside_Peak</th>\n",
       "      <th>P_Lead</th>\n",
       "      <th>Beta</th>\n",
       "      <th>...</th>\n",
       "      <th>r2</th>\n",
       "      <th>molecular_trait_object_id</th>\n",
       "      <th>gene_id</th>\n",
       "      <th>median_tpm</th>\n",
       "      <th>rsid</th>\n",
       "      <th>gene_start</th>\n",
       "      <th>gene_end</th>\n",
       "      <th>phenotype_id</th>\n",
       "      <th>count</th>\n",
       "      <th>corrected_pvalue</th>\n",
       "    </tr>\n",
       "  </thead>\n",
       "  <tbody>\n",
       "    <tr>\n",
       "      <th>0</th>\n",
       "      <td>chr1</td>\n",
       "      <td>875770</td>\n",
       "      <td>A</td>\n",
       "      <td>G</td>\n",
       "      <td>rs4970379</td>\n",
       "      <td>3</td>\n",
       "      <td>0.625</td>\n",
       "      <td>2</td>\n",
       "      <td>0.044994</td>\n",
       "      <td>0.155446</td>\n",
       "      <td>...</td>\n",
       "      <td>.</td>\n",
       "      <td>Interval_26</td>\n",
       "      <td>Interval_26</td>\n",
       "      <td>.</td>\n",
       "      <td>rs4970379</td>\n",
       "      <td>939341</td>\n",
       "      <td>942673</td>\n",
       "      <td>Interval_26</td>\n",
       "      <td>1</td>\n",
       "      <td>0.643614</td>\n",
       "    </tr>\n",
       "  </tbody>\n",
       "</table>\n",
       "<p>1 rows × 55 columns</p>\n",
       "</div>"
      ],
      "text/plain": [
       "    chr     Pos Ref Alt       RsID  Peak     AF  Inside_Peak    P_Lead  \\\n",
       "0  chr1  875770   A   G  rs4970379     3  0.625            2  0.044994   \n",
       "\n",
       "       Beta  ...  r2  molecular_trait_object_id      gene_id  median_tpm  \\\n",
       "0  0.155446  ...   .                Interval_26  Interval_26           .   \n",
       "\n",
       "        rsid  gene_start  gene_end  phenotype_id  count  corrected_pvalue  \n",
       "0  rs4970379      939341    942673   Interval_26      1          0.643614  \n",
       "\n",
       "[1 rows x 55 columns]"
      ]
     },
     "execution_count": 522,
     "metadata": {},
     "output_type": "execute_result"
    }
   ],
   "source": [
    "datan.head(1)"
   ]
  },
  {
   "cell_type": "code",
   "execution_count": 523,
   "metadata": {},
   "outputs": [
    {
     "name": "stderr",
     "output_type": "stream",
     "text": [
      "/users/anusri/anaconda3/lib/python3.7/site-packages/ipykernel_launcher.py:5: SettingWithCopyWarning: \n",
      "A value is trying to be set on a copy of a slice from a DataFrame.\n",
      "Try using .loc[row_indexer,col_indexer] = value instead\n",
      "\n",
      "See the caveats in the documentation: https://pandas.pydata.org/pandas-docs/stable/user_guide/indexing.html#returning-a-view-versus-a-copy\n",
      "  \"\"\"\n"
     ]
    },
    {
     "name": "stdout",
     "output_type": "stream",
     "text": [
      "16341\n"
     ]
    },
    {
     "data": {
      "image/png": "[encoded data removed]",
      "text/plain": [
       "<Figure size 432x288 with 1 Axes>"
      ]
     },
     "metadata": {
      "needs_background": "light"
     },
     "output_type": "display_data"
    }
   ],
   "source": [
    "data1 = datan[datan[\"Inside_Peak\"]==1]\n",
    "# distal_rsids = list(set(datan[(datan[\"Inside_Peak\"]==2) & (datan[\"Log10_BF\"]>-1)][\"RsID\"].values))\n",
    "# data1 = pd.concat([data1[data1[\"Log10_BF\"]<-1],  data1[data1[\"RsID\"].isin(distal_rsids)]]).drop_duplicates()\n",
    "\n",
    "data1[\"log10p\"] = -1*np.log(data1[\"pvalue\"])\n",
    "\n",
    "from scipy.stats import rankdata\n",
    "import numpy as np\n",
    "import matplotlib.pyplot as plt\n",
    "\n",
    "rank_kumasaka = rankdata(abs(data1[\"Beta\"]))\n",
    "rank_kaur = rankdata(abs(data1[\"beta\"]))\n",
    "colors = np.array(['grey']*data1.shape[0])\n",
    "threshold=3\n",
    "#colors[data1[\"Log10_BF\"]>threshold] = 'r'\n",
    "#colors[data1[\"RsID\"].isin(dbsnp)] = 'blue'\n",
    "th=5\n",
    "colors[data1[\"log10p\"]>th] = 'r'\n",
    "\n",
    "# plt.scatter(rank_kumasaka[data1[\"Log10_BF\"]<-1], rank_kaur[data1[\"Log10_BF\"]<-1], alpha=0.5, s=1, color=colors[data1[\"Log10_BF\"]<-1])\n",
    "# plt.scatter(rank_kumasaka[data1[\"Log10_BF\"]>threshold], rank_kaur[data1[\"Log10_BF\"]>threshold], s=0.5, color=colors[data1[\"Log10_BF\"]>threshold])\n",
    "\n",
    "plt.scatter(rank_kumasaka[data1[\"log10p\"]<2], rank_kaur[data1[\"log10p\"]<2], alpha=0.1, s=1, color=colors[data1[\"log10p\"]<2])\n",
    "plt.scatter(rank_kumasaka[data1[\"log10p\"]>th], rank_kaur[data1[\"log10p\"]>th], s=0.5, color=colors[data1[\"log10p\"]>th])\n",
    "\n",
    "\n",
    "plt.xlabel(\"Kumsaka beta\")\n",
    "plt.ylabel(\"linear model kaur beta\")\n",
    "\n",
    "print(sum(data1[\"log10p\"]>th))"
   ]
  },
  {
   "cell_type": "code",
   "execution_count": 575,
   "metadata": {},
   "outputs": [
    {
     "name": "stdout",
     "output_type": "stream",
     "text": [
      "55598\n"
     ]
    },
    {
     "name": "stderr",
     "output_type": "stream",
     "text": [
      "/users/anusri/anaconda3/lib/python3.7/site-packages/ipykernel_launcher.py:5: SettingWithCopyWarning: \n",
      "A value is trying to be set on a copy of a slice from a DataFrame.\n",
      "Try using .loc[row_indexer,col_indexer] = value instead\n",
      "\n",
      "See the caveats in the documentation: https://pandas.pydata.org/pandas-docs/stable/user_guide/indexing.html#returning-a-view-versus-a-copy\n",
      "  \"\"\"\n"
     ]
    },
    {
     "name": "stdout",
     "output_type": "stream",
     "text": [
      "7651\n"
     ]
    },
    {
     "data": {
      "image/png": "[encoded data removed]",
      "text/plain": [
       "<Figure size 432x288 with 1 Axes>"
      ]
     },
     "metadata": {
      "needs_background": "light"
     },
     "output_type": "display_data"
    }
   ],
   "source": [
    "data1 = datan[datan[\"Inside_Peak\"]==1]\n",
    "# distal_rsids = list(set(datan[(datan[\"Inside_Peak\"]==2) & (datan[\"Log10_BF\"]>-1)][\"RsID\"].values))\n",
    "# data1 = pd.concat([data1[data1[\"Log10_BF\"]<-1],  data1[data1[\"RsID\"].isin(distal_rsids)]]).drop_duplicates()\n",
    "print(sum(data1[\"Log10_BF\"]<-1))\n",
    "data1[\"log10p\"] = -1*np.log(data1[\"pvalue\"])\n",
    "\n",
    "from scipy.stats import rankdata\n",
    "import numpy as np\n",
    "import matplotlib.pyplot as plt\n",
    "\n",
    "rank_kumasaka = rankdata(abs(data1[\"Beta\"]))\n",
    "rank_kaur = rankdata(abs(data1[\"beta\"]))\n",
    "colors = np.array(['grey']*data1.shape[0])\n",
    "threshold=3\n",
    "colors[data1[\"Log10_BF\"]>threshold] = 'r'\n",
    "#colors[data1[\"RsID\"].isin(dbsnp)] = 'blue'\n",
    "# th=5\n",
    "# colors[data1[\"log10p\"]>th] = 'r'\n",
    "\n",
    "plt.scatter(rank_kumasaka[data1[\"Log10_BF\"]<-1], rank_kaur[data1[\"Log10_BF\"]<-1], alpha=0.1, s=1, color=colors[data1[\"Log10_BF\"]<-1])\n",
    "plt.scatter(rank_kumasaka[data1[\"Log10_BF\"]>threshold], rank_kaur[data1[\"Log10_BF\"]>threshold], s=0.5, color=colors[data1[\"Log10_BF\"]>threshold])\n",
    "\n",
    "# plt.scatter(rank_kumasaka[data1[\"log10p\"]<2], rank_kaur[data1[\"log10p\"]<2], alpha=0.5, s=1, color=colors[data1[\"log10p\"]<2])\n",
    "# plt.scatter(rank_kumasaka[data1[\"log10p\"]>th], rank_kaur[data1[\"log10p\"]>th], s=0.5, color=colors[data1[\"log10p\"]>th])\n",
    "\n",
    "plt.xlabel(\"Kumsaka beta\")\n",
    "plt.ylabel(\"linear model kaur beta\")\n",
    "\n",
    "\n",
    "print(sum(data1[\"Log10_BF\"]>threshold))"
   ]
  },
  {
   "cell_type": "code",
   "execution_count": 576,
   "metadata": {},
   "outputs": [
    {
     "data": {
      "text/plain": [
       "(0.7525696609368799, 0.0)"
      ]
     },
     "execution_count": 576,
     "metadata": {},
     "output_type": "execute_result"
    },
    {
     "data": {
      "image/png": "[encoded data removed]",
      "text/plain": [
       "<Figure size 432x288 with 1 Axes>"
      ]
     },
     "metadata": {
      "needs_background": "light"
     },
     "output_type": "display_data"
    }
   ],
   "source": [
    "from scipy.stats import pearsonr\n",
    "#distal_rsids = list(set(datan[(datan[\"Inside_Peak\"]==2) & (datan[\"Log10_BF\"]>-1)][\"RsID\"].values))\n",
    "distal_rsids = list(set(datan[(datan[\"Inside_Peak\"]==2)]))\n",
    "\n",
    "plt.scatter(abs(data1[data1[\"log10p\"]>th][\"Beta\"]), abs(data1[data1[\"log10p\"]>th][\"beta\"]), s=1, c='r')\n",
    "#plt.scatter((data1[data1[\"log10p\"]>th][\"Beta\"]), (data1[data1[\"log10p\"]>th][\"beta\"]), s=1, c='r')\n",
    "\n",
    "plt.xlabel(\"Kumsaka beta\")\n",
    "plt.ylabel(\"Kaur beta\")\n",
    "plt.plot(abs(data1[data1[\"log10p\"]>th][\"beta\"]), abs(data1[data1[\"log10p\"]>th][\"beta\"]),  c='k')\n",
    "plt.xlim((0,2))\n",
    "plt.ylim((0,2))\n",
    "pearsonr(abs(data1[data1[\"log10p\"]>th][\"beta\"]),abs(data1[data1[\"log10p\"]>th][\"Beta\"]))\n"
   ]
  },
  {
   "cell_type": "code",
   "execution_count": 577,
   "metadata": {},
   "outputs": [
    {
     "data": {
      "text/plain": [
       "(0.7525696609368799, 0.0)"
      ]
     },
     "execution_count": 577,
     "metadata": {},
     "output_type": "execute_result"
    },
    {
     "data": {
      "image/png": "[encoded data removed]",
      "text/plain": [
       "<Figure size 432x288 with 1 Axes>"
      ]
     },
     "metadata": {
      "needs_background": "light"
     },
     "output_type": "display_data"
    }
   ],
   "source": [
    "from scipy.stats import pearsonr\n",
    "distal_rsids = list(set(datan[(datan[\"Inside_Peak\"]==2) & (datan[\"Log10_BF\"]>3)][\"RsID\"].values))\n",
    "#distal_rsids = list(set(datan[(datan[\"Inside_Peak\"]==2)][\"RsID\"].values))\n",
    "\n",
    "plt.scatter(abs(data1[(data1[\"log10p\"]>th) &  ~(data1[\"RsID\"].isin(distal_rsids))][\"Beta\"]), abs(data1[(data1[\"log10p\"]>th) &  ~(data1[\"RsID\"].isin(distal_rsids))][\"beta\"]), s=1, c='grey')\n",
    "plt.scatter(abs(data1[(data1[\"log10p\"]>th) &  (data1[\"RsID\"].isin(distal_rsids))][\"Beta\"]), abs(data1[(data1[\"log10p\"]>th) &  (data1[\"RsID\"].isin(distal_rsids))][\"beta\"]), s=1, c='r')\n",
    "\n",
    "plt.xlabel(\"Kumsaka beta\")\n",
    "plt.ylabel(\"Kaur beta\")\n",
    "plt.plot(abs(data1[data1[\"log10p\"]>th][\"beta\"]), abs(data1[data1[\"log10p\"]>th][\"beta\"]),  c='k')\n",
    "\n",
    "pearsonr(abs(data1[data1[\"log10p\"]>th][\"beta\"]),abs(data1[data1[\"log10p\"]>th][\"Beta\"]))\n"
   ]
  },
  {
   "cell_type": "code",
   "execution_count": 578,
   "metadata": {},
   "outputs": [
    {
     "data": {
      "text/plain": [
       "(0.7479207429626905, 0.0)"
      ]
     },
     "execution_count": 578,
     "metadata": {},
     "output_type": "execute_result"
    }
   ],
   "source": [
    "pearsonr(abs(data1[(data1[\"log10p\"]>th) &  ~(data1[\"RsID\"].isin(distal_rsids))][\"Beta\"]), abs(data1[(data1[\"log10p\"]>th) &  ~(data1[\"RsID\"].isin(distal_rsids))][\"beta\"]))\n"
   ]
  },
  {
   "cell_type": "code",
   "execution_count": 579,
   "metadata": {},
   "outputs": [
    {
     "data": {
      "text/plain": [
       "(0.6765798015696909, 4.0138740501326115e-77)"
      ]
     },
     "execution_count": 579,
     "metadata": {},
     "output_type": "execute_result"
    }
   ],
   "source": [
    "pearsonr(abs(data1[(data1[\"log10p\"]>th) &  (data1[\"RsID\"].isin(distal_rsids))][\"Beta\"]), abs(data1[(data1[\"log10p\"]>th) &  (data1[\"RsID\"].isin(distal_rsids))][\"beta\"]))\n"
   ]
  },
  {
   "cell_type": "code",
   "execution_count": 580,
   "metadata": {},
   "outputs": [
    {
     "data": {
      "text/plain": [
       "567"
      ]
     },
     "execution_count": 580,
     "metadata": {},
     "output_type": "execute_result"
    }
   ],
   "source": [
    "sum(((data1[\"log10p\"]>th) &  (data1[\"RsID\"].isin(distal_rsids))))"
   ]
  },
  {
   "cell_type": "code",
   "execution_count": 581,
   "metadata": {},
   "outputs": [
    {
     "data": {
      "text/plain": [
       "15774"
      ]
     },
     "execution_count": 581,
     "metadata": {},
     "output_type": "execute_result"
    }
   ],
   "source": [
    "sum(((data1[\"log10p\"]>th) &  (~data1[\"RsID\"].isin(distal_rsids))))"
   ]
  },
  {
   "cell_type": "code",
   "execution_count": 582,
   "metadata": {},
   "outputs": [
    {
     "data": {
      "text/plain": [
       "<AxesSubplot:>"
      ]
     },
     "execution_count": 582,
     "metadata": {},
     "output_type": "execute_result"
    },
    {
     "data": {
      "image/png": "[encoded data removed]",
      "text/plain": [
       "<Figure size 432x288 with 1 Axes>"
      ]
     },
     "metadata": {
      "needs_background": "light"
     },
     "output_type": "display_data"
    }
   ],
   "source": [
    "data1[data1[\"log10p\"]>th][\"Log10_BF\"].hist()"
   ]
  },
  {
   "cell_type": "code",
   "execution_count": 583,
   "metadata": {},
   "outputs": [
    {
     "data": {
      "text/plain": [
       "4.685591245174656"
      ]
     },
     "execution_count": 583,
     "metadata": {},
     "output_type": "execute_result"
    }
   ],
   "source": [
    "data1[data1[\"log10p\"]>th][\"Log10_BF\"].mean()"
   ]
  },
  {
   "cell_type": "code",
   "execution_count": 584,
   "metadata": {},
   "outputs": [
    {
     "data": {
      "text/plain": [
       "<AxesSubplot:>"
      ]
     },
     "execution_count": 584,
     "metadata": {},
     "output_type": "execute_result"
    },
    {
     "data": {
      "image/png": "[encoded data removed]",
      "text/plain": [
       "<Figure size 432x288 with 1 Axes>"
      ]
     },
     "metadata": {
      "needs_background": "light"
     },
     "output_type": "display_data"
    }
   ],
   "source": [
    "data1[data1[\"Log10_BF\"]>3][\"log10p\"].hist()"
   ]
  },
  {
   "cell_type": "code",
   "execution_count": 585,
   "metadata": {},
   "outputs": [
    {
     "data": {
      "text/plain": [
       "(0.6596580884202183, 0.0)"
      ]
     },
     "execution_count": 585,
     "metadata": {},
     "output_type": "execute_result"
    },
    {
     "data": {
      "image/png": "[encoded data removed]",
      "text/plain": [
       "<Figure size 432x288 with 1 Axes>"
      ]
     },
     "metadata": {
      "needs_background": "light"
     },
     "output_type": "display_data"
    }
   ],
   "source": [
    "from scipy.stats import pearsonr\n",
    "plt.scatter(abs(data1[data1[\"Log10_BF\"]>threshold][\"Beta\"]), abs(data1[data1[\"Log10_BF\"]>threshold][\"beta\"]), s=1, c='r')\n",
    "\n",
    "#plt.scatter((data1[data1[\"Log10_BF\"]>threshold][\"Beta\"]), (data1[data1[\"Log10_BF\"]>threshold][\"beta\"]), s=1, c='r')\n",
    "\n",
    "plt.xlabel(\"Kumsaka beta\")\n",
    "plt.ylabel(\"Kaur beta\")\n",
    "plt.plot(abs(data1[data1[\"Log10_BF\"]>threshold][\"beta\"]), abs(data1[data1[\"Log10_BF\"]>threshold][\"beta\"]),  c='k')\n",
    "plt.xlim((0,2))\n",
    "plt.ylim((0,2))\n",
    "pearsonr(abs(data1[data1[\"Log10_BF\"]>threshold][\"beta\"]),abs(data1[data1[\"Log10_BF\"]>threshold][\"Beta\"]))"
   ]
  },
  {
   "cell_type": "code",
   "execution_count": 587,
   "metadata": {},
   "outputs": [
    {
     "name": "stdout",
     "output_type": "stream",
     "text": [
      "3\n"
     ]
    },
    {
     "data": {
      "text/plain": [
       "(0.6596580884202183, 0.0)"
      ]
     },
     "execution_count": 587,
     "metadata": {},
     "output_type": "execute_result"
    },
    {
     "data": {
      "image/png": "[encoded data removed]",
      "text/plain": [
       "<Figure size 432x288 with 1 Axes>"
      ]
     },
     "metadata": {
      "needs_background": "light"
     },
     "output_type": "display_data"
    }
   ],
   "source": [
    "from scipy.stats import pearsonr\n",
    "# plt.scatter(abs(data1[data1[\"Log10_BF\"]>threshold][\"beta\"]), abs(data1[data1[\"Log10_BF\"]>threshold][\"Beta\"]), s=1, c='r')\n",
    "print(threshold)\n",
    "plt.scatter(abs(data1[(data1[\"Log10_BF\"]>threshold) &  ~(data1[\"RsID\"].isin(distal_rsids))][\"Beta\"]), abs(data1[(data1[\"Log10_BF\"]>threshold) &  ~(data1[\"RsID\"].isin(distal_rsids))][\"beta\"]), s=1, c='grey')\n",
    "plt.scatter(abs(data1[(data1[\"Log10_BF\"]>threshold) &  (data1[\"RsID\"].isin(distal_rsids))][\"Beta\"]), abs(data1[(data1[\"Log10_BF\"]>threshold) &  (data1[\"RsID\"].isin(distal_rsids))][\"beta\"]), s=1, c='r')\n",
    "\n",
    "plt.xlabel(\"Kumsaka beta\")\n",
    "plt.ylabel(\"Kaur beta\")\n",
    "plt.plot(abs(data1[data1[\"Log10_BF\"]>threshold][\"beta\"]), abs(data1[data1[\"Log10_BF\"]>threshold][\"beta\"]),  c='k')\n",
    "\n",
    "pearsonr(abs(data1[data1[\"Log10_BF\"]>threshold][\"beta\"]),abs(data1[data1[\"Log10_BF\"]>threshold][\"Beta\"]))"
   ]
  },
  {
   "cell_type": "code",
   "execution_count": 588,
   "metadata": {},
   "outputs": [
    {
     "data": {
      "text/plain": [
       "(0.6751055820277331, 0.0)"
      ]
     },
     "execution_count": 588,
     "metadata": {},
     "output_type": "execute_result"
    },
    {
     "data": {
      "image/png": "[encoded data removed]",
      "text/plain": [
       "<Figure size 432x288 with 1 Axes>"
      ]
     },
     "metadata": {
      "needs_background": "light"
     },
     "output_type": "display_data"
    }
   ],
   "source": [
    "from scipy.stats import pearsonr\n",
    "# plt.scatter(abs(data1[data1[\"Log10_BF\"]>threshold][\"beta\"]), abs(data1[data1[\"Log10_BF\"]>threshold][\"Beta\"]), s=1, c='r')\n",
    "\n",
    "plt.scatter(abs(data1[(data1[\"Log10_BF\"]>threshold) &  (data1[\"log10p\"]>th)][\"Beta\"]), abs(data1[(data1[\"Log10_BF\"]>threshold) &  (data1[\"log10p\"]>th)][\"beta\"]), s=1, c='grey')\n",
    "\n",
    "plt.xlabel(\"Kumsaka beta\")\n",
    "plt.ylabel(\"Kaur beta\")\n",
    "plt.plot(abs(data1[data1[\"Log10_BF\"]>threshold][\"beta\"]), abs(data1[data1[\"Log10_BF\"]>threshold][\"beta\"]),  c='k')\n",
    "\n",
    "\n",
    "pearsonr(abs(data1[(data1[\"Log10_BF\"]>threshold) &  (data1[\"log10p\"]>th)][\"beta\"]),abs(data1[(data1[\"Log10_BF\"]>threshold) &  (data1[\"log10p\"]>th)][\"Beta\"]))"
   ]
  },
  {
   "cell_type": "code",
   "execution_count": 589,
   "metadata": {},
   "outputs": [
    {
     "data": {
      "text/plain": [
       "(0.5879311558375122, 0.0)"
      ]
     },
     "execution_count": 589,
     "metadata": {},
     "output_type": "execute_result"
    }
   ],
   "source": [
    "pearsonr(abs(data1[(data1[\"Log10_BF\"]>-1) &  (data1[\"Log10_BF\"]<3) &  (data1[\"log10p\"]>th) ][\"beta\"]),abs(data1[(data1[\"Log10_BF\"]>-1) &  (data1[\"Log10_BF\"]<3) &  (data1[\"log10p\"]>th) ][\"Beta\"]))\n",
    "\n",
    "\n"
   ]
  },
  {
   "cell_type": "code",
   "execution_count": 590,
   "metadata": {},
   "outputs": [
    {
     "data": {
      "text/plain": [
       "20122"
      ]
     },
     "execution_count": 590,
     "metadata": {},
     "output_type": "execute_result"
    }
   ],
   "source": [
    "sum((data1[\"Log10_BF\"]>-1) &  (data1[\"Log10_BF\"]<3))"
   ]
  },
  {
   "cell_type": "code",
   "execution_count": 591,
   "metadata": {},
   "outputs": [
    {
     "data": {
      "text/plain": [
       "27773"
      ]
     },
     "execution_count": 591,
     "metadata": {},
     "output_type": "execute_result"
    }
   ],
   "source": [
    "sum(data1[\"Log10_BF\"]>-1)"
   ]
  },
  {
   "cell_type": "code",
   "execution_count": 592,
   "metadata": {},
   "outputs": [
    {
     "data": {
      "text/plain": [
       "75720"
      ]
     },
     "execution_count": 592,
     "metadata": {},
     "output_type": "execute_result"
    }
   ],
   "source": [
    "sum(data1[\"Log10_BF\"]<3)"
   ]
  },
  {
   "cell_type": "code",
   "execution_count": 593,
   "metadata": {},
   "outputs": [
    {
     "data": {
      "text/plain": [
       "(0.652425052431501, 0.0)"
      ]
     },
     "execution_count": 593,
     "metadata": {},
     "output_type": "execute_result"
    }
   ],
   "source": [
    "\n",
    "pearsonr(abs(data1[(data1[\"Log10_BF\"]>threshold) &  ~(data1[\"RsID\"].isin(distal_rsids))][\"Beta\"]), abs(data1[(data1[\"Log10_BF\"]>threshold) &  ~(data1[\"RsID\"].isin(distal_rsids))][\"beta\"]))\n"
   ]
  },
  {
   "cell_type": "code",
   "execution_count": null,
   "metadata": {},
   "outputs": [],
   "source": []
  },
  {
   "cell_type": "code",
   "execution_count": 594,
   "metadata": {},
   "outputs": [
    {
     "data": {
      "text/plain": [
       "(0.6512906689395656, 9.958685808671734e-67)"
      ]
     },
     "execution_count": 594,
     "metadata": {},
     "output_type": "execute_result"
    }
   ],
   "source": [
    "pearsonr(abs(data1[(data1[\"Log10_BF\"]>threshold) &  (data1[\"RsID\"].isin(distal_rsids))][\"Beta\"]), abs(data1[(data1[\"Log10_BF\"]>threshold) &  (data1[\"RsID\"].isin(distal_rsids))][\"beta\"]))\n"
   ]
  },
  {
   "cell_type": "code",
   "execution_count": 567,
   "metadata": {},
   "outputs": [
    {
     "data": {
      "text/plain": [
       "35"
      ]
     },
     "execution_count": 567,
     "metadata": {},
     "output_type": "execute_result"
    }
   ],
   "source": [
    "sum(((data1[\"Log10_BF\"]>threshold) &  (data1[\"RsID\"].isin(distal_rsids))))"
   ]
  },
  {
   "cell_type": "code",
   "execution_count": 568,
   "metadata": {},
   "outputs": [
    {
     "data": {
      "text/plain": [
       "42"
      ]
     },
     "execution_count": 568,
     "metadata": {},
     "output_type": "execute_result"
    }
   ],
   "source": [
    "sum(((data1[\"Log10_BF\"]>threshold) &  (~data1[\"RsID\"].isin(distal_rsids))))"
   ]
  },
  {
   "cell_type": "code",
   "execution_count": 545,
   "metadata": {},
   "outputs": [
    {
     "data": {
      "text/plain": [
       "(0.7525696609368799, 0.0)"
      ]
     },
     "execution_count": 545,
     "metadata": {},
     "output_type": "execute_result"
    }
   ],
   "source": [
    "from scipy.stats import pearsonr\n",
    "pearsonr(abs(data1[data1[\"log10p\"]>th][\"beta\"]),abs(data1[data1[\"log10p\"]>th][\"Beta\"]))"
   ]
  },
  {
   "cell_type": "code",
   "execution_count": 546,
   "metadata": {},
   "outputs": [
    {
     "data": {
      "text/plain": [
       "Index(['chr', 'Pos', 'Ref', 'Alt', 'RsID', 'Peak', 'AF', 'Inside_Peak',\n",
       "       'P_Lead', 'Beta', 'SE', 'Log10_BF', 'ENCSR637XSC.logfc.mean',\n",
       "       'ENCSR637XSC.jsd_sign.mean',\n",
       "       'ENCSR637XSC.abs_logfc_x_jsd_x_max_percentile.mean',\n",
       "       'ENCSR637XSC.abs_logfc_x_jsd_x_max_percentile.mean.pval',\n",
       "       'ENCSR637XSC.sub.50M.logfc.mean', 'ENCSR637XSC.sub.50M.jsd_sign.mean',\n",
       "       'ENCSR637XSC.sub.50M.abs_logfc_x_jsd_x_max_percentile.mean',\n",
       "       'ENCSR637XSC.sub.50M.abs_logfc_x_jsd_x_max_percentile.mean.pval',\n",
       "       'ENCSR000EMT.logfc.mean', 'ENCSR000EMT.jsd_sign.mean',\n",
       "       'ENCSR000EMT.abs_logfc_x_jsd_x_max_percentile.mean',\n",
       "       'ENCSR000EMT.abs_logfc_x_jsd_x_max_percentile.mean.pval',\n",
       "       'enformer_recomputed', 'DNASE_SAD', 'DNASE_SAR', 'IsUsed', 'labeln',\n",
       "       'my_rsid', 'chromosome_x', 'position0', 'position', 'ref', 'alt',\n",
       "       'molecular_trait_id', 'variant', 'ma_samples', 'maf', 'pvalue', 'beta',\n",
       "       'se', 'type', 'ac', 'an', 'r2', 'molecular_trait_object_id', 'gene_id',\n",
       "       'median_tpm', 'rsid', 'gene_start', 'gene_end', 'phenotype_id', 'count',\n",
       "       'corrected_pvalue', 'log10p'],\n",
       "      dtype='object')"
      ]
     },
     "execution_count": 546,
     "metadata": {},
     "output_type": "execute_result"
    }
   ],
   "source": [
    "data1.columns"
   ]
  },
  {
   "cell_type": "code",
   "execution_count": null,
   "metadata": {},
   "outputs": [],
   "source": []
  },
  {
   "cell_type": "code",
   "execution_count": null,
   "metadata": {},
   "outputs": [],
   "source": []
  },
  {
   "cell_type": "code",
   "execution_count": 602,
   "metadata": {},
   "outputs": [
    {
     "name": "stdout",
     "output_type": "stream",
     "text": [
      "-1\n",
      "27773 83371\n",
      "0.333\n",
      "0.6074843663265156\n",
      "1\n",
      "11986 67584\n",
      "0.177\n",
      "0.6083424333560723\n",
      "3\n",
      "7651 63249\n",
      "0.121\n",
      "0.6002182901679083\n",
      "5\n",
      "5364 60962\n",
      "0.088\n",
      "0.597397039345766\n",
      "7\n",
      "4001 59599\n",
      "0.067\n",
      "0.5932573934435035\n",
      "9\n",
      "3056 58654\n",
      "0.052\n",
      "0.5891967076160054\n",
      "11\n",
      "2361 57959\n",
      "0.041\n",
      "0.5872969229422946\n",
      "13\n",
      "1813 57411\n",
      "0.032\n",
      "0.5782921689509902\n",
      "15\n",
      "1362 56960\n",
      "0.024\n",
      "0.5782080968876514\n",
      "17\n",
      "1027 56625\n",
      "0.018\n",
      "0.5704353642350793\n",
      "19\n",
      "730 56328\n",
      "0.013\n",
      "0.5573568805438123\n",
      "21\n",
      "509 56107\n",
      "0.009\n",
      "0.5249392947353748\n",
      "23\n",
      "349 55947\n",
      "0.006\n",
      "0.5139081225709863\n",
      "25\n",
      "226 55824\n",
      "0.004\n",
      "0.4941736372829072\n",
      "27\n",
      "140 55738\n",
      "0.003\n",
      "0.43857139342808676\n",
      "29\n",
      "77 55675\n",
      "0.001\n",
      "0.3861476091000745\n"
     ]
    }
   ],
   "source": [
    "import matplotlib.pyplot as plt\n",
    "import pandas as pd\n",
    "from sklearn.metrics import precision_recall_curve\n",
    "from sklearn.metrics import roc_curve\n",
    "from sklearn.metrics import RocCurveDisplay\n",
    "import pandas as pd\n",
    "import matplotlib.pyplot as plt\n",
    "import numpy as np\n",
    "from sklearn import metrics\n",
    "import matplotlib.pyplot as plt\n",
    "import matplotlib\n",
    "\n",
    "\n",
    "matplotlib.rcParams['pdf.fonttype'] = 42\n",
    "matplotlib.rcParams['ps.fonttype'] = 42 \n",
    "\n",
    "import random\n",
    "import os\n",
    "import argparse\n",
    "from sklearn.metrics import precision_recall_curve\n",
    "\n",
    "random_bc = []\n",
    "chrombpnet = {}\n",
    "enformer_dnase_roc = []\n",
    "enformer_dnase_roc_sar = []\n",
    "\n",
    "chrombpnet[\"ChromBPNet DNase (68M)\"] = []\n",
    "chrombpnet[\"ChromBPNet ATAC (572M)\"] = []\n",
    "chrombpnet[\"ChromBPNet ATAC (50M)\"] = []\n",
    "\n",
    "caqtls=datan\n",
    "caqtls[\"log10p\"] = -1*np.log(caqtls[\"pvalue\"])\n",
    "# distal_rsids = list(set(caqtls[(caqtls[\"Inside_Peak\"]==2) & (caqtls[\"Log10_BF\"]>-1)][\"RsID\"].values))\n",
    "# caqtls = pd.concat([caqtls[caqtls[\"Log10_BF\"]<-1],  caqtls[~caqtls[\"RsID\"].isin(distal_rsids)]]).drop_duplicates()\n",
    "\n",
    "for threshold in np.arange(-1,30,2):\n",
    "    print(threshold)\n",
    "    \n",
    "    \n",
    "    #dataf = caqtls[(caqtls[\"log10p\"]<2) | (caqtls[\"log10p\"]>threshold)]\n",
    "    dataf = caqtls[(caqtls[\"Log10_BF\"]<-1) | (caqtls[\"Log10_BF\"]>threshold)]\n",
    "\n",
    "    dataf = dataf[dataf['IsUsed'] & (dataf['Inside_Peak']==1)]\n",
    "    dataf[\"label\"] = 0\n",
    "    dataf.loc[dataf[\"Log10_BF\"]>threshold, \"label\"] = 1\n",
    "    total = dataf.shape[0]\n",
    "    sigs = sum(dataf[\"label\"])\n",
    "    print(sigs, total)\n",
    "    \n",
    "    \n",
    "    random_bc.append(np.round(sigs/total,3))\n",
    "    print(random_bc[-1])\n",
    "    \n",
    "    roc_auc = metrics.average_precision_score(dataf[\"label\"], abs(dataf[\"ENCSR000EMT.abs_logfc_x_jsd_x_max_percentile.mean\"]))\n",
    "    chrombpnet[\"ChromBPNet DNase (68M)\"].append(roc_auc)\n",
    "\n",
    "    roc_auc = metrics.average_precision_score(dataf[\"label\"], abs(dataf[\"ENCSR637XSC.abs_logfc_x_jsd_x_max_percentile.mean\"]))\n",
    "    chrombpnet[\"ChromBPNet ATAC (572M)\"].append(roc_auc)\n",
    "    print(roc_auc)\n",
    "\n",
    "    roc_auc = metrics.average_precision_score(dataf[\"label\"], abs(dataf[\"ENCSR637XSC.sub.50M.abs_logfc_x_jsd_x_max_percentile.mean\"]))\n",
    "    chrombpnet[\"ChromBPNet ATAC (50M)\"].append(roc_auc)\n",
    "    \n",
    "    roc_auc = metrics.average_precision_score(dataf[\"label\"], abs(dataf[\"enformer_recomputed\"]))\n",
    "    enformer_dnase_roc.append(roc_auc)\n",
    "\n",
    "    roc_auc = metrics.average_precision_score(dataf[\"label\"], abs(dataf[\"DNASE_SAR\"]))\n",
    "    enformer_dnase_roc_sar.append(roc_auc)\n"
   ]
  },
  {
   "cell_type": "code",
   "execution_count": 604,
   "metadata": {},
   "outputs": [
    {
     "data": {
      "text/plain": [
       "<matplotlib.legend.Legend at 0x7f518cb071d0>"
      ]
     },
     "execution_count": 604,
     "metadata": {},
     "output_type": "execute_result"
    },
    {
     "data": {
      "image/png": "[encoded data removed]",
      "text/plain": [
       "<Figure size 432x360 with 1 Axes>"
      ]
     },
     "metadata": {
      "needs_background": "light"
     },
     "output_type": "display_data"
    }
   ],
   "source": [
    "fig, ax = plt.subplots(figsize=(6,5))\n",
    "colors = [\"blue\", \"blue\"]\n",
    "alphas = [0.5, 1.0]\n",
    "idx=0\n",
    "for key in [\"ChromBPNet ATAC (572M)\", \"ChromBPNet ATAC (50M)\"]:\n",
    "    ax.scatter(np.arange(-1,30,2).astype(str), chrombpnet[key], label=key, c=\"blue\", alpha=alphas[idx])\n",
    "    idx+=1\n",
    "    \n",
    "key=\"ChromBPNet DNase (68M)\"\n",
    "ax.scatter(np.arange(-1,30,2).astype(str), chrombpnet[key], label=key)\n",
    "ax.scatter(np.arange(-1,30,2).astype(str), enformer_dnase_roc_sar, label=\"Enformer DNase (reported) (68M)\")\n",
    "ax.scatter(np.arange(-1,30,2).astype(str), enformer_dnase_roc, label=\"Enformer DNase (recomputed) (68M)\")\n",
    "\n",
    "ax.scatter(np.arange(-1,30,2).astype(str), random_bc, label=\"random\")\n",
    "\n",
    "ax.spines[[\"top\", \"right\"]].set_visible(False)\n",
    "ax.set_xlabel(\"-log10BH\")\n",
    "ax.set_ylabel(\"Average precision\")\n",
    "#plt.legend(loc='upper right')\n",
    "\n",
    "# Shrink current axis by 20%\n",
    "box = ax.get_position()\n",
    "ax.set_position([box.x0, box.y0, box.width * 0.8, box.height])\n",
    "\n",
    "# Put a legend to the right of the current axis\n",
    "ax.legend(loc='center left', bbox_to_anchor=(1, 0.5))\n",
    "\n",
    "#plt.show()\n",
    "\n",
    "#plt.savefig(\"subfigs/eu_caqtls_auprc_compare.pdf\", transparent=True, dpi=300)"
   ]
  },
  {
   "cell_type": "code",
   "execution_count": 549,
   "metadata": {},
   "outputs": [
    {
     "data": {
      "text/plain": [
       "0         1.121576\n",
       "1         1.121576\n",
       "2         0.402735\n",
       "3         0.437440\n",
       "4         0.159633\n",
       "            ...   \n",
       "117137    2.056851\n",
       "117138    2.247179\n",
       "117139    2.706052\n",
       "117140    2.689417\n",
       "117141    3.385294\n",
       "Name: log10p, Length: 117142, dtype: float64"
      ]
     },
     "execution_count": 549,
     "metadata": {},
     "output_type": "execute_result"
    }
   ],
   "source": [
    "caqtls[\"log10p\"] "
   ]
  },
  {
   "cell_type": "code",
   "execution_count": 194,
   "metadata": {},
   "outputs": [
    {
     "data": {
      "text/plain": [
       "Index(['chr', 'Pos', 'Ref', 'Alt', 'RsID', 'Peak', 'AF', 'Inside_Peak',\n",
       "       'P_Lead', 'Beta', 'SE', 'Log10_BF', 'ENCSR637XSC.logfc.mean',\n",
       "       'ENCSR637XSC.jsd_sign.mean',\n",
       "       'ENCSR637XSC.abs_logfc_x_jsd_x_max_percentile.mean',\n",
       "       'ENCSR637XSC.abs_logfc_x_jsd_x_max_percentile.mean.pval',\n",
       "       'ENCSR637XSC.sub.50M.logfc.mean', 'ENCSR637XSC.sub.50M.jsd_sign.mean',\n",
       "       'ENCSR637XSC.sub.50M.abs_logfc_x_jsd_x_max_percentile.mean',\n",
       "       'ENCSR637XSC.sub.50M.abs_logfc_x_jsd_x_max_percentile.mean.pval',\n",
       "       'ENCSR000EMT.logfc.mean', 'ENCSR000EMT.jsd_sign.mean',\n",
       "       'ENCSR000EMT.abs_logfc_x_jsd_x_max_percentile.mean',\n",
       "       'ENCSR000EMT.abs_logfc_x_jsd_x_max_percentile.mean.pval',\n",
       "       'enformer_recomputed', 'DNASE_SAD', 'DNASE_SAR', 'IsUsed', 'labeln',\n",
       "       'my_rsid', 'chromosome_x', 'position0', 'position', 'ref', 'alt',\n",
       "       'molecular_trait_id', 'variant', 'ma_samples', 'maf', 'pvalue', 'beta',\n",
       "       'se', 'type', 'ac', 'an', 'r2', 'molecular_trait_object_id', 'gene_id',\n",
       "       'median_tpm', 'rsid', 'gene_start', 'gene_end', 'phenotype_id', 'count',\n",
       "       'corrected_pvalue', 'log10p'],\n",
       "      dtype='object')"
      ]
     },
     "execution_count": 194,
     "metadata": {},
     "output_type": "execute_result"
    }
   ],
   "source": [
    "caqtls.columns"
   ]
  },
  {
   "cell_type": "code",
   "execution_count": 164,
   "metadata": {},
   "outputs": [
    {
     "data": {
      "text/plain": [
       "Index(['chr', 'Pos', 'Ref', 'Alt', 'RsID', 'Peak', 'AF', 'Inside_Peak',\n",
       "       'P_Lead', 'Beta', 'SE', 'Log10_BF', 'ENCSR637XSC.logfc.mean',\n",
       "       'ENCSR637XSC.jsd_sign.mean',\n",
       "       'ENCSR637XSC.abs_logfc_x_jsd_x_max_percentile.mean',\n",
       "       'ENCSR637XSC.abs_logfc_x_jsd_x_max_percentile.mean.pval',\n",
       "       'ENCSR637XSC.sub.50M.logfc.mean', 'ENCSR637XSC.sub.50M.jsd_sign.mean',\n",
       "       'ENCSR637XSC.sub.50M.abs_logfc_x_jsd_x_max_percentile.mean',\n",
       "       'ENCSR637XSC.sub.50M.abs_logfc_x_jsd_x_max_percentile.mean.pval',\n",
       "       'ENCSR000EMT.logfc.mean', 'ENCSR000EMT.jsd_sign.mean',\n",
       "       'ENCSR000EMT.abs_logfc_x_jsd_x_max_percentile.mean',\n",
       "       'ENCSR000EMT.abs_logfc_x_jsd_x_max_percentile.mean.pval',\n",
       "       'enformer_recomputed', 'DNASE_SAD', 'DNASE_SAR', 'IsUsed', 'labeln',\n",
       "       'my_rsid'],\n",
       "      dtype='object')"
      ]
     },
     "execution_count": 164,
     "metadata": {},
     "output_type": "execute_result"
    }
   ],
   "source": [
    "#eus.columns"
   ]
  },
  {
   "cell_type": "code",
   "execution_count": 148,
   "metadata": {},
   "outputs": [
    {
     "data": {
      "text/plain": [
       "1         0.162300\n",
       "2         0.008885\n",
       "12        0.455387\n",
       "13        0.738469\n",
       "14        0.484093\n",
       "            ...   \n",
       "842996    0.003631\n",
       "842997    0.820080\n",
       "843007    0.248117\n",
       "843008    0.248117\n",
       "843009    0.112737\n",
       "Name: pvalue, Length: 324911, dtype: float64"
      ]
     },
     "execution_count": 148,
     "metadata": {},
     "output_type": "execute_result"
    }
   ],
   "source": [
    "vars_in_bedn2[\"pvalue\"]"
   ]
  },
  {
   "cell_type": "code",
   "execution_count": 98,
   "metadata": {},
   "outputs": [],
   "source": [
    "credible_sets=pd.read_csv(\"/mnt/lab_data2/anusri/kumasaka/new_download/Kumasaka_2018_wgs/susie_merged/QTD100018.credible_sets.tsv.gz\", sep=\"\\t\")"
   ]
  },
  {
   "cell_type": "code",
   "execution_count": 102,
   "metadata": {},
   "outputs": [
    {
     "data": {
      "text/html": [
       "<div>\n",
       "<style scoped>\n",
       "    .dataframe tbody tr th:only-of-type {\n",
       "        vertical-align: middle;\n",
       "    }\n",
       "\n",
       "    .dataframe tbody tr th {\n",
       "        vertical-align: top;\n",
       "    }\n",
       "\n",
       "    .dataframe thead th {\n",
       "        text-align: right;\n",
       "    }\n",
       "</style>\n",
       "<table border=\"1\" class=\"dataframe\">\n",
       "  <thead>\n",
       "    <tr style=\"text-align: right;\">\n",
       "      <th></th>\n",
       "      <th>molecular_trait_id</th>\n",
       "      <th>gene_id</th>\n",
       "      <th>cs_id</th>\n",
       "      <th>variant</th>\n",
       "      <th>rsid</th>\n",
       "      <th>cs_size</th>\n",
       "      <th>pip</th>\n",
       "      <th>pvalue</th>\n",
       "      <th>beta</th>\n",
       "      <th>se</th>\n",
       "      <th>z</th>\n",
       "      <th>cs_min_r2</th>\n",
       "      <th>region</th>\n",
       "    </tr>\n",
       "  </thead>\n",
       "  <tbody>\n",
       "    <tr>\n",
       "      <th>0</th>\n",
       "      <td>Interval_7046</td>\n",
       "      <td>Interval_7046</td>\n",
       "      <td>Interval_7046_L1</td>\n",
       "      <td>chr1_100002782_A_AT</td>\n",
       "      <td>rs531537001</td>\n",
       "      <td>66</td>\n",
       "      <td>0.185236</td>\n",
       "      <td>7.604570e-10</td>\n",
       "      <td>-0.614320</td>\n",
       "      <td>0.087505</td>\n",
       "      <td>-7.388146</td>\n",
       "      <td>0.930934</td>\n",
       "      <td>chr1:99846814-100246814</td>\n",
       "    </tr>\n",
       "    <tr>\n",
       "      <th>1</th>\n",
       "      <td>Interval_7046</td>\n",
       "      <td>Interval_7046</td>\n",
       "      <td>Interval_7046_L1</td>\n",
       "      <td>chr1_100002782_A_AT</td>\n",
       "      <td>rs35227168</td>\n",
       "      <td>66</td>\n",
       "      <td>0.185236</td>\n",
       "      <td>7.604570e-10</td>\n",
       "      <td>-0.614320</td>\n",
       "      <td>0.087505</td>\n",
       "      <td>-7.388146</td>\n",
       "      <td>0.930934</td>\n",
       "      <td>chr1:99846814-100246814</td>\n",
       "    </tr>\n",
       "    <tr>\n",
       "      <th>2</th>\n",
       "      <td>Interval_461</td>\n",
       "      <td>Interval_461</td>\n",
       "      <td>Interval_461_L1</td>\n",
       "      <td>chr1_10000458_T_C</td>\n",
       "      <td>rs3003377</td>\n",
       "      <td>30</td>\n",
       "      <td>0.014039</td>\n",
       "      <td>9.104810e-10</td>\n",
       "      <td>0.619787</td>\n",
       "      <td>0.088806</td>\n",
       "      <td>7.545987</td>\n",
       "      <td>0.937097</td>\n",
       "      <td>chr1:9743190-10143190</td>\n",
       "    </tr>\n",
       "    <tr>\n",
       "      <th>3</th>\n",
       "      <td>Interval_7046</td>\n",
       "      <td>Interval_7046</td>\n",
       "      <td>Interval_7046_L1</td>\n",
       "      <td>chr1_100007048_A_G</td>\n",
       "      <td>rs534252</td>\n",
       "      <td>66</td>\n",
       "      <td>0.019619</td>\n",
       "      <td>6.170090e-09</td>\n",
       "      <td>-0.614765</td>\n",
       "      <td>0.094044</td>\n",
       "      <td>-6.877001</td>\n",
       "      <td>0.930934</td>\n",
       "      <td>chr1:99846814-100246814</td>\n",
       "    </tr>\n",
       "    <tr>\n",
       "      <th>4</th>\n",
       "      <td>Interval_7047</td>\n",
       "      <td>Interval_7047</td>\n",
       "      <td>Interval_7047_L1</td>\n",
       "      <td>chr1_100007048_A_G</td>\n",
       "      <td>rs534252</td>\n",
       "      <td>80</td>\n",
       "      <td>0.019667</td>\n",
       "      <td>1.091410e-10</td>\n",
       "      <td>-1.036960</td>\n",
       "      <td>0.138943</td>\n",
       "      <td>-8.093380</td>\n",
       "      <td>0.824131</td>\n",
       "      <td>chr1:99849456-100249456</td>\n",
       "    </tr>\n",
       "  </tbody>\n",
       "</table>\n",
       "</div>"
      ],
      "text/plain": [
       "  molecular_trait_id        gene_id             cs_id              variant  \\\n",
       "0      Interval_7046  Interval_7046  Interval_7046_L1  chr1_100002782_A_AT   \n",
       "1      Interval_7046  Interval_7046  Interval_7046_L1  chr1_100002782_A_AT   \n",
       "2       Interval_461   Interval_461   Interval_461_L1    chr1_10000458_T_C   \n",
       "3      Interval_7046  Interval_7046  Interval_7046_L1   chr1_100007048_A_G   \n",
       "4      Interval_7047  Interval_7047  Interval_7047_L1   chr1_100007048_A_G   \n",
       "\n",
       "          rsid  cs_size       pip        pvalue      beta        se         z  \\\n",
       "0  rs531537001       66  0.185236  7.604570e-10 -0.614320  0.087505 -7.388146   \n",
       "1   rs35227168       66  0.185236  7.604570e-10 -0.614320  0.087505 -7.388146   \n",
       "2    rs3003377       30  0.014039  9.104810e-10  0.619787  0.088806  7.545987   \n",
       "3     rs534252       66  0.019619  6.170090e-09 -0.614765  0.094044 -6.877001   \n",
       "4     rs534252       80  0.019667  1.091410e-10 -1.036960  0.138943 -8.093380   \n",
       "\n",
       "   cs_min_r2                   region  \n",
       "0   0.930934  chr1:99846814-100246814  \n",
       "1   0.930934  chr1:99846814-100246814  \n",
       "2   0.937097    chr1:9743190-10143190  \n",
       "3   0.930934  chr1:99846814-100246814  \n",
       "4   0.824131  chr1:99849456-100249456  "
      ]
     },
     "execution_count": 102,
     "metadata": {},
     "output_type": "execute_result"
    }
   ],
   "source": [
    "credible_sets.head()"
   ]
  },
  {
   "cell_type": "code",
   "execution_count": 103,
   "metadata": {},
   "outputs": [],
   "source": [
    "credible_sets[[\"chr\", \"pos\", \"ref\", \"alt\"]] = credible_sets[\"variant\"].str.split(\"_\", expand=True)"
   ]
  },
  {
   "cell_type": "code",
   "execution_count": 105,
   "metadata": {},
   "outputs": [],
   "source": [
    "merged_dataframe_cs = credible_sets.merge(peaks_data, right_on=['phenotype_id'], left_on=[\"molecular_trait_id\"], how='left')\n",
    "merged_dataframe_cs = merged_dataframe_cs[((merged_dataframe_cs[\"pos\"].astype(int) >= merged_dataframe_cs[\"gene_start\"].astype(int)) & (merged_dataframe_cs[\"pos\"].astype(int) <= merged_dataframe_cs[\"gene_end\"].astype(int)))]\n"
   ]
  },
  {
   "cell_type": "code",
   "execution_count": 106,
   "metadata": {},
   "outputs": [
    {
     "data": {
      "text/plain": [
       "(20479, 21)"
      ]
     },
     "execution_count": 106,
     "metadata": {},
     "output_type": "execute_result"
    }
   ],
   "source": [
    "merged_dataframe_cs.shape"
   ]
  },
  {
   "cell_type": "code",
   "execution_count": 121,
   "metadata": {},
   "outputs": [
    {
     "data": {
      "text/html": [
       "<div>\n",
       "<style scoped>\n",
       "    .dataframe tbody tr th:only-of-type {\n",
       "        vertical-align: middle;\n",
       "    }\n",
       "\n",
       "    .dataframe tbody tr th {\n",
       "        vertical-align: top;\n",
       "    }\n",
       "\n",
       "    .dataframe thead th {\n",
       "        text-align: right;\n",
       "    }\n",
       "</style>\n",
       "<table border=\"1\" class=\"dataframe\">\n",
       "  <thead>\n",
       "    <tr style=\"text-align: right;\">\n",
       "      <th></th>\n",
       "      <th>molecular_trait_id</th>\n",
       "      <th>gene_id</th>\n",
       "      <th>cs_id</th>\n",
       "      <th>variant</th>\n",
       "      <th>rsid</th>\n",
       "      <th>cs_size</th>\n",
       "      <th>pip</th>\n",
       "      <th>pvalue</th>\n",
       "      <th>beta</th>\n",
       "      <th>se</th>\n",
       "      <th>...</th>\n",
       "      <th>cs_min_r2</th>\n",
       "      <th>region</th>\n",
       "      <th>chr</th>\n",
       "      <th>pos</th>\n",
       "      <th>ref</th>\n",
       "      <th>alt</th>\n",
       "      <th>chromosome</th>\n",
       "      <th>gene_start</th>\n",
       "      <th>gene_end</th>\n",
       "      <th>phenotype_id</th>\n",
       "    </tr>\n",
       "  </thead>\n",
       "  <tbody>\n",
       "    <tr>\n",
       "      <th>44</th>\n",
       "      <td>Interval_7046</td>\n",
       "      <td>Interval_7046</td>\n",
       "      <td>Interval_7046_L1</td>\n",
       "      <td>chr1_100047012_G_A</td>\n",
       "      <td>rs554742</td>\n",
       "      <td>66</td>\n",
       "      <td>0.019619</td>\n",
       "      <td>6.170090e-09</td>\n",
       "      <td>-0.614765</td>\n",
       "      <td>0.094044</td>\n",
       "      <td>...</td>\n",
       "      <td>0.930934</td>\n",
       "      <td>chr1:99846814-100246814</td>\n",
       "      <td>chr1</td>\n",
       "      <td>100047012</td>\n",
       "      <td>G</td>\n",
       "      <td>A</td>\n",
       "      <td>chr1</td>\n",
       "      <td>100046355</td>\n",
       "      <td>100047272</td>\n",
       "      <td>Interval_7046</td>\n",
       "    </tr>\n",
       "  </tbody>\n",
       "</table>\n",
       "<p>1 rows × 21 columns</p>\n",
       "</div>"
      ],
      "text/plain": [
       "   molecular_trait_id        gene_id             cs_id             variant  \\\n",
       "44      Interval_7046  Interval_7046  Interval_7046_L1  chr1_100047012_G_A   \n",
       "\n",
       "        rsid  cs_size       pip        pvalue      beta        se  ...  \\\n",
       "44  rs554742       66  0.019619  6.170090e-09 -0.614765  0.094044  ...   \n",
       "\n",
       "    cs_min_r2                   region   chr        pos ref alt chromosome  \\\n",
       "44   0.930934  chr1:99846814-100246814  chr1  100047012   G   A       chr1   \n",
       "\n",
       "   gene_start   gene_end   phenotype_id  \n",
       "44  100046355  100047272  Interval_7046  \n",
       "\n",
       "[1 rows x 21 columns]"
      ]
     },
     "execution_count": 121,
     "metadata": {},
     "output_type": "execute_result"
    }
   ],
   "source": [
    "merged_dataframe_cs.head(1)"
   ]
  },
  {
   "cell_type": "code",
   "execution_count": 122,
   "metadata": {},
   "outputs": [
    {
     "data": {
      "text/plain": [
       "2829"
      ]
     },
     "execution_count": 122,
     "metadata": {},
     "output_type": "execute_result"
    }
   ],
   "source": [
    "sum(merged_dataframe_cs[\"pip\"]>0.2)"
   ]
  },
  {
   "cell_type": "code",
   "execution_count": 123,
   "metadata": {},
   "outputs": [
    {
     "data": {
      "text/html": [
       "<div>\n",
       "<style scoped>\n",
       "    .dataframe tbody tr th:only-of-type {\n",
       "        vertical-align: middle;\n",
       "    }\n",
       "\n",
       "    .dataframe tbody tr th {\n",
       "        vertical-align: top;\n",
       "    }\n",
       "\n",
       "    .dataframe thead th {\n",
       "        text-align: right;\n",
       "    }\n",
       "</style>\n",
       "<table border=\"1\" class=\"dataframe\">\n",
       "  <thead>\n",
       "    <tr style=\"text-align: right;\">\n",
       "      <th></th>\n",
       "      <th>molecular_trait_id</th>\n",
       "      <th>gene_id</th>\n",
       "      <th>cs_id</th>\n",
       "      <th>variant</th>\n",
       "      <th>rsid</th>\n",
       "      <th>cs_size</th>\n",
       "      <th>pip</th>\n",
       "      <th>pvalue</th>\n",
       "      <th>beta</th>\n",
       "      <th>se</th>\n",
       "      <th>...</th>\n",
       "      <th>cs_min_r2</th>\n",
       "      <th>region</th>\n",
       "      <th>chr</th>\n",
       "      <th>pos</th>\n",
       "      <th>ref</th>\n",
       "      <th>alt</th>\n",
       "      <th>chromosome</th>\n",
       "      <th>gene_start</th>\n",
       "      <th>gene_end</th>\n",
       "      <th>phenotype_id</th>\n",
       "    </tr>\n",
       "  </thead>\n",
       "  <tbody>\n",
       "    <tr>\n",
       "      <th>44</th>\n",
       "      <td>Interval_7046</td>\n",
       "      <td>Interval_7046</td>\n",
       "      <td>Interval_7046_L1</td>\n",
       "      <td>chr1_100047012_G_A</td>\n",
       "      <td>rs554742</td>\n",
       "      <td>66</td>\n",
       "      <td>0.019619</td>\n",
       "      <td>6.170090e-09</td>\n",
       "      <td>-0.614765</td>\n",
       "      <td>0.094044</td>\n",
       "      <td>...</td>\n",
       "      <td>0.930934</td>\n",
       "      <td>chr1:99846814-100246814</td>\n",
       "      <td>chr1</td>\n",
       "      <td>100047012</td>\n",
       "      <td>G</td>\n",
       "      <td>A</td>\n",
       "      <td>chr1</td>\n",
       "      <td>100046355</td>\n",
       "      <td>100047272</td>\n",
       "      <td>Interval_7046</td>\n",
       "    </tr>\n",
       "    <tr>\n",
       "      <th>47</th>\n",
       "      <td>Interval_7047</td>\n",
       "      <td>Interval_7047</td>\n",
       "      <td>Interval_7047_L1</td>\n",
       "      <td>chr1_100050364_C_T</td>\n",
       "      <td>rs581097</td>\n",
       "      <td>80</td>\n",
       "      <td>0.019667</td>\n",
       "      <td>1.091410e-10</td>\n",
       "      <td>-1.036960</td>\n",
       "      <td>0.138943</td>\n",
       "      <td>...</td>\n",
       "      <td>0.824131</td>\n",
       "      <td>chr1:99849456-100249456</td>\n",
       "      <td>chr1</td>\n",
       "      <td>100050364</td>\n",
       "      <td>C</td>\n",
       "      <td>T</td>\n",
       "      <td>chr1</td>\n",
       "      <td>100048413</td>\n",
       "      <td>100050498</td>\n",
       "      <td>Interval_7047</td>\n",
       "    </tr>\n",
       "    <tr>\n",
       "      <th>170</th>\n",
       "      <td>Interval_7072</td>\n",
       "      <td>Interval_7072</td>\n",
       "      <td>Interval_7072_L1</td>\n",
       "      <td>chr1_100364923_T_C</td>\n",
       "      <td>rs12085272</td>\n",
       "      <td>32</td>\n",
       "      <td>0.109903</td>\n",
       "      <td>2.862930e-08</td>\n",
       "      <td>-0.819940</td>\n",
       "      <td>0.132737</td>\n",
       "      <td>...</td>\n",
       "      <td>0.499912</td>\n",
       "      <td>chr1:100165228-100565228</td>\n",
       "      <td>chr1</td>\n",
       "      <td>100364923</td>\n",
       "      <td>T</td>\n",
       "      <td>C</td>\n",
       "      <td>chr1</td>\n",
       "      <td>100364560</td>\n",
       "      <td>100365896</td>\n",
       "      <td>Interval_7072</td>\n",
       "    </tr>\n",
       "    <tr>\n",
       "      <th>172</th>\n",
       "      <td>Interval_7072</td>\n",
       "      <td>Interval_7072</td>\n",
       "      <td>Interval_7072_L1</td>\n",
       "      <td>chr1_100365383_G_A</td>\n",
       "      <td>rs28361193</td>\n",
       "      <td>32</td>\n",
       "      <td>0.109903</td>\n",
       "      <td>2.862930e-08</td>\n",
       "      <td>-0.819940</td>\n",
       "      <td>0.132737</td>\n",
       "      <td>...</td>\n",
       "      <td>0.499912</td>\n",
       "      <td>chr1:100165228-100565228</td>\n",
       "      <td>chr1</td>\n",
       "      <td>100365383</td>\n",
       "      <td>G</td>\n",
       "      <td>A</td>\n",
       "      <td>chr1</td>\n",
       "      <td>100364560</td>\n",
       "      <td>100365896</td>\n",
       "      <td>Interval_7072</td>\n",
       "    </tr>\n",
       "    <tr>\n",
       "      <th>174</th>\n",
       "      <td>Interval_7072</td>\n",
       "      <td>Interval_7072</td>\n",
       "      <td>Interval_7072_L1</td>\n",
       "      <td>chr1_100365547_C_T</td>\n",
       "      <td>rs7551111</td>\n",
       "      <td>32</td>\n",
       "      <td>0.109903</td>\n",
       "      <td>2.862930e-08</td>\n",
       "      <td>-0.819940</td>\n",
       "      <td>0.132737</td>\n",
       "      <td>...</td>\n",
       "      <td>0.499912</td>\n",
       "      <td>chr1:100165228-100565228</td>\n",
       "      <td>chr1</td>\n",
       "      <td>100365547</td>\n",
       "      <td>C</td>\n",
       "      <td>T</td>\n",
       "      <td>chr1</td>\n",
       "      <td>100364560</td>\n",
       "      <td>100365896</td>\n",
       "      <td>Interval_7072</td>\n",
       "    </tr>\n",
       "    <tr>\n",
       "      <th>...</th>\n",
       "      <td>...</td>\n",
       "      <td>...</td>\n",
       "      <td>...</td>\n",
       "      <td>...</td>\n",
       "      <td>...</td>\n",
       "      <td>...</td>\n",
       "      <td>...</td>\n",
       "      <td>...</td>\n",
       "      <td>...</td>\n",
       "      <td>...</td>\n",
       "      <td>...</td>\n",
       "      <td>...</td>\n",
       "      <td>...</td>\n",
       "      <td>...</td>\n",
       "      <td>...</td>\n",
       "      <td>...</td>\n",
       "      <td>...</td>\n",
       "      <td>...</td>\n",
       "      <td>...</td>\n",
       "      <td>...</td>\n",
       "      <td>...</td>\n",
       "    </tr>\n",
       "    <tr>\n",
       "      <th>446064</th>\n",
       "      <td>Interval_238230</td>\n",
       "      <td>Interval_238230</td>\n",
       "      <td>Interval_238230_L1</td>\n",
       "      <td>chr9_99569991_T_G</td>\n",
       "      <td>rs10988864</td>\n",
       "      <td>17</td>\n",
       "      <td>0.151737</td>\n",
       "      <td>1.222270e-15</td>\n",
       "      <td>1.166170</td>\n",
       "      <td>0.116173</td>\n",
       "      <td>...</td>\n",
       "      <td>0.921079</td>\n",
       "      <td>chr9:99370478-99770478</td>\n",
       "      <td>chr9</td>\n",
       "      <td>99569991</td>\n",
       "      <td>T</td>\n",
       "      <td>G</td>\n",
       "      <td>chr9</td>\n",
       "      <td>99569299</td>\n",
       "      <td>99571657</td>\n",
       "      <td>Interval_238230</td>\n",
       "    </tr>\n",
       "    <tr>\n",
       "      <th>446066</th>\n",
       "      <td>Interval_238230</td>\n",
       "      <td>Interval_238230</td>\n",
       "      <td>Interval_238230_L1</td>\n",
       "      <td>chr9_99571495_G_A</td>\n",
       "      <td>rs10819686</td>\n",
       "      <td>17</td>\n",
       "      <td>0.151737</td>\n",
       "      <td>1.222270e-15</td>\n",
       "      <td>1.166170</td>\n",
       "      <td>0.116173</td>\n",
       "      <td>...</td>\n",
       "      <td>0.921079</td>\n",
       "      <td>chr9:99370478-99770478</td>\n",
       "      <td>chr9</td>\n",
       "      <td>99571495</td>\n",
       "      <td>G</td>\n",
       "      <td>A</td>\n",
       "      <td>chr9</td>\n",
       "      <td>99569299</td>\n",
       "      <td>99571657</td>\n",
       "      <td>Interval_238230</td>\n",
       "    </tr>\n",
       "    <tr>\n",
       "      <th>446077</th>\n",
       "      <td>Interval_238231</td>\n",
       "      <td>Interval_238231</td>\n",
       "      <td>Interval_238231_L1</td>\n",
       "      <td>chr9_99574024_C_A</td>\n",
       "      <td>rs10120175</td>\n",
       "      <td>25</td>\n",
       "      <td>0.098729</td>\n",
       "      <td>1.468140e-16</td>\n",
       "      <td>1.098210</td>\n",
       "      <td>0.104363</td>\n",
       "      <td>...</td>\n",
       "      <td>0.921499</td>\n",
       "      <td>chr9:99374150-99774150</td>\n",
       "      <td>chr9</td>\n",
       "      <td>99574024</td>\n",
       "      <td>C</td>\n",
       "      <td>A</td>\n",
       "      <td>chr9</td>\n",
       "      <td>99573883</td>\n",
       "      <td>99574416</td>\n",
       "      <td>Interval_238231</td>\n",
       "    </tr>\n",
       "    <tr>\n",
       "      <th>446079</th>\n",
       "      <td>Interval_238231</td>\n",
       "      <td>Interval_238231</td>\n",
       "      <td>Interval_238231_L1</td>\n",
       "      <td>chr9_99574121_T_A</td>\n",
       "      <td>rs11794098</td>\n",
       "      <td>25</td>\n",
       "      <td>0.098729</td>\n",
       "      <td>1.468140e-16</td>\n",
       "      <td>1.098210</td>\n",
       "      <td>0.104363</td>\n",
       "      <td>...</td>\n",
       "      <td>0.921499</td>\n",
       "      <td>chr9:99374150-99774150</td>\n",
       "      <td>chr9</td>\n",
       "      <td>99574121</td>\n",
       "      <td>T</td>\n",
       "      <td>A</td>\n",
       "      <td>chr9</td>\n",
       "      <td>99573883</td>\n",
       "      <td>99574416</td>\n",
       "      <td>Interval_238231</td>\n",
       "    </tr>\n",
       "    <tr>\n",
       "      <th>446082</th>\n",
       "      <td>Interval_238255</td>\n",
       "      <td>Interval_238255</td>\n",
       "      <td>Interval_238255_L1</td>\n",
       "      <td>chr9_99834039_G_A</td>\n",
       "      <td>rs2900223</td>\n",
       "      <td>3</td>\n",
       "      <td>0.401042</td>\n",
       "      <td>2.143160e-11</td>\n",
       "      <td>0.941993</td>\n",
       "      <td>0.120278</td>\n",
       "      <td>...</td>\n",
       "      <td>0.974002</td>\n",
       "      <td>chr9:99634216-100034216</td>\n",
       "      <td>chr9</td>\n",
       "      <td>99834039</td>\n",
       "      <td>G</td>\n",
       "      <td>A</td>\n",
       "      <td>chr9</td>\n",
       "      <td>99833646</td>\n",
       "      <td>99834785</td>\n",
       "      <td>Interval_238255</td>\n",
       "    </tr>\n",
       "  </tbody>\n",
       "</table>\n",
       "<p>20479 rows × 21 columns</p>\n",
       "</div>"
      ],
      "text/plain": [
       "       molecular_trait_id          gene_id               cs_id  \\\n",
       "44          Interval_7046    Interval_7046    Interval_7046_L1   \n",
       "47          Interval_7047    Interval_7047    Interval_7047_L1   \n",
       "170         Interval_7072    Interval_7072    Interval_7072_L1   \n",
       "172         Interval_7072    Interval_7072    Interval_7072_L1   \n",
       "174         Interval_7072    Interval_7072    Interval_7072_L1   \n",
       "...                   ...              ...                 ...   \n",
       "446064    Interval_238230  Interval_238230  Interval_238230_L1   \n",
       "446066    Interval_238230  Interval_238230  Interval_238230_L1   \n",
       "446077    Interval_238231  Interval_238231  Interval_238231_L1   \n",
       "446079    Interval_238231  Interval_238231  Interval_238231_L1   \n",
       "446082    Interval_238255  Interval_238255  Interval_238255_L1   \n",
       "\n",
       "                   variant        rsid  cs_size       pip        pvalue  \\\n",
       "44      chr1_100047012_G_A    rs554742       66  0.019619  6.170090e-09   \n",
       "47      chr1_100050364_C_T    rs581097       80  0.019667  1.091410e-10   \n",
       "170     chr1_100364923_T_C  rs12085272       32  0.109903  2.862930e-08   \n",
       "172     chr1_100365383_G_A  rs28361193       32  0.109903  2.862930e-08   \n",
       "174     chr1_100365547_C_T   rs7551111       32  0.109903  2.862930e-08   \n",
       "...                    ...         ...      ...       ...           ...   \n",
       "446064   chr9_99569991_T_G  rs10988864       17  0.151737  1.222270e-15   \n",
       "446066   chr9_99571495_G_A  rs10819686       17  0.151737  1.222270e-15   \n",
       "446077   chr9_99574024_C_A  rs10120175       25  0.098729  1.468140e-16   \n",
       "446079   chr9_99574121_T_A  rs11794098       25  0.098729  1.468140e-16   \n",
       "446082   chr9_99834039_G_A   rs2900223        3  0.401042  2.143160e-11   \n",
       "\n",
       "            beta        se  ...  cs_min_r2                    region   chr  \\\n",
       "44     -0.614765  0.094044  ...   0.930934   chr1:99846814-100246814  chr1   \n",
       "47     -1.036960  0.138943  ...   0.824131   chr1:99849456-100249456  chr1   \n",
       "170    -0.819940  0.132737  ...   0.499912  chr1:100165228-100565228  chr1   \n",
       "172    -0.819940  0.132737  ...   0.499912  chr1:100165228-100565228  chr1   \n",
       "174    -0.819940  0.132737  ...   0.499912  chr1:100165228-100565228  chr1   \n",
       "...          ...       ...  ...        ...                       ...   ...   \n",
       "446064  1.166170  0.116173  ...   0.921079    chr9:99370478-99770478  chr9   \n",
       "446066  1.166170  0.116173  ...   0.921079    chr9:99370478-99770478  chr9   \n",
       "446077  1.098210  0.104363  ...   0.921499    chr9:99374150-99774150  chr9   \n",
       "446079  1.098210  0.104363  ...   0.921499    chr9:99374150-99774150  chr9   \n",
       "446082  0.941993  0.120278  ...   0.974002   chr9:99634216-100034216  chr9   \n",
       "\n",
       "              pos ref alt chromosome gene_start   gene_end     phenotype_id  \n",
       "44      100047012   G   A       chr1  100046355  100047272    Interval_7046  \n",
       "47      100050364   C   T       chr1  100048413  100050498    Interval_7047  \n",
       "170     100364923   T   C       chr1  100364560  100365896    Interval_7072  \n",
       "172     100365383   G   A       chr1  100364560  100365896    Interval_7072  \n",
       "174     100365547   C   T       chr1  100364560  100365896    Interval_7072  \n",
       "...           ...  ..  ..        ...        ...        ...              ...  \n",
       "446064   99569991   T   G       chr9   99569299   99571657  Interval_238230  \n",
       "446066   99571495   G   A       chr9   99569299   99571657  Interval_238230  \n",
       "446077   99574024   C   A       chr9   99573883   99574416  Interval_238231  \n",
       "446079   99574121   T   A       chr9   99573883   99574416  Interval_238231  \n",
       "446082   99834039   G   A       chr9   99833646   99834785  Interval_238255  \n",
       "\n",
       "[20479 rows x 21 columns]"
      ]
     },
     "execution_count": 123,
     "metadata": {},
     "output_type": "execute_result"
    }
   ],
   "source": [
    "merged_dataframe_cs"
   ]
  },
  {
   "cell_type": "code",
   "execution_count": 110,
   "metadata": {},
   "outputs": [
    {
     "data": {
      "text/plain": [
       "(20479, 21)"
      ]
     },
     "execution_count": 110,
     "metadata": {},
     "output_type": "execute_result"
    }
   ],
   "source": [
    "merged_dataframe_cs.shape"
   ]
  },
  {
   "cell_type": "code",
   "execution_count": 115,
   "metadata": {},
   "outputs": [
    {
     "data": {
      "text/plain": [
       "0.945248"
      ]
     },
     "execution_count": 115,
     "metadata": {},
     "output_type": "execute_result"
    }
   ],
   "source": [
    "merged_dataframe_cs[merged_dataframe_cs[\"pip\"]>0.2][\"pvalue\"].max()"
   ]
  },
  {
   "cell_type": "code",
   "execution_count": 119,
   "metadata": {},
   "outputs": [
    {
     "data": {
      "text/plain": [
       "0.496945"
      ]
     },
     "execution_count": 119,
     "metadata": {},
     "output_type": "execute_result"
    }
   ],
   "source": [
    "merged_dataframe_cs[merged_dataframe_cs[\"pip\"]>0.8][\"pvalue\"].max()"
   ]
  },
  {
   "cell_type": "code",
   "execution_count": 120,
   "metadata": {},
   "outputs": [
    {
     "data": {
      "text/plain": [
       "2.7680099999999997e-39"
      ]
     },
     "execution_count": 120,
     "metadata": {},
     "output_type": "execute_result"
    }
   ],
   "source": [
    "merged_dataframe_cs[merged_dataframe_cs[\"pip\"]>0.8][\"pvalue\"].min()"
   ]
  },
  {
   "cell_type": "code",
   "execution_count": 118,
   "metadata": {},
   "outputs": [
    {
     "data": {
      "text/html": [
       "<div>\n",
       "<style scoped>\n",
       "    .dataframe tbody tr th:only-of-type {\n",
       "        vertical-align: middle;\n",
       "    }\n",
       "\n",
       "    .dataframe tbody tr th {\n",
       "        vertical-align: top;\n",
       "    }\n",
       "\n",
       "    .dataframe thead th {\n",
       "        text-align: right;\n",
       "    }\n",
       "</style>\n",
       "<table border=\"1\" class=\"dataframe\">\n",
       "  <thead>\n",
       "    <tr style=\"text-align: right;\">\n",
       "      <th></th>\n",
       "      <th>molecular_trait_id</th>\n",
       "      <th>gene_id</th>\n",
       "      <th>cs_id</th>\n",
       "      <th>variant</th>\n",
       "      <th>rsid</th>\n",
       "      <th>cs_size</th>\n",
       "      <th>pip</th>\n",
       "      <th>pvalue</th>\n",
       "      <th>beta</th>\n",
       "      <th>se</th>\n",
       "      <th>...</th>\n",
       "      <th>cs_min_r2</th>\n",
       "      <th>region</th>\n",
       "      <th>chr</th>\n",
       "      <th>pos</th>\n",
       "      <th>ref</th>\n",
       "      <th>alt</th>\n",
       "      <th>chromosome</th>\n",
       "      <th>gene_start</th>\n",
       "      <th>gene_end</th>\n",
       "      <th>phenotype_id</th>\n",
       "    </tr>\n",
       "  </thead>\n",
       "  <tbody>\n",
       "    <tr>\n",
       "      <th>44</th>\n",
       "      <td>Interval_7046</td>\n",
       "      <td>Interval_7046</td>\n",
       "      <td>Interval_7046_L1</td>\n",
       "      <td>chr1_100047012_G_A</td>\n",
       "      <td>rs554742</td>\n",
       "      <td>66</td>\n",
       "      <td>0.019619</td>\n",
       "      <td>6.170090e-09</td>\n",
       "      <td>-0.614765</td>\n",
       "      <td>0.094044</td>\n",
       "      <td>...</td>\n",
       "      <td>0.930934</td>\n",
       "      <td>chr1:99846814-100246814</td>\n",
       "      <td>chr1</td>\n",
       "      <td>100047012</td>\n",
       "      <td>G</td>\n",
       "      <td>A</td>\n",
       "      <td>chr1</td>\n",
       "      <td>100046355</td>\n",
       "      <td>100047272</td>\n",
       "      <td>Interval_7046</td>\n",
       "    </tr>\n",
       "    <tr>\n",
       "      <th>47</th>\n",
       "      <td>Interval_7047</td>\n",
       "      <td>Interval_7047</td>\n",
       "      <td>Interval_7047_L1</td>\n",
       "      <td>chr1_100050364_C_T</td>\n",
       "      <td>rs581097</td>\n",
       "      <td>80</td>\n",
       "      <td>0.019667</td>\n",
       "      <td>1.091410e-10</td>\n",
       "      <td>-1.036960</td>\n",
       "      <td>0.138943</td>\n",
       "      <td>...</td>\n",
       "      <td>0.824131</td>\n",
       "      <td>chr1:99849456-100249456</td>\n",
       "      <td>chr1</td>\n",
       "      <td>100050364</td>\n",
       "      <td>C</td>\n",
       "      <td>T</td>\n",
       "      <td>chr1</td>\n",
       "      <td>100048413</td>\n",
       "      <td>100050498</td>\n",
       "      <td>Interval_7047</td>\n",
       "    </tr>\n",
       "    <tr>\n",
       "      <th>170</th>\n",
       "      <td>Interval_7072</td>\n",
       "      <td>Interval_7072</td>\n",
       "      <td>Interval_7072_L1</td>\n",
       "      <td>chr1_100364923_T_C</td>\n",
       "      <td>rs12085272</td>\n",
       "      <td>32</td>\n",
       "      <td>0.109903</td>\n",
       "      <td>2.862930e-08</td>\n",
       "      <td>-0.819940</td>\n",
       "      <td>0.132737</td>\n",
       "      <td>...</td>\n",
       "      <td>0.499912</td>\n",
       "      <td>chr1:100165228-100565228</td>\n",
       "      <td>chr1</td>\n",
       "      <td>100364923</td>\n",
       "      <td>T</td>\n",
       "      <td>C</td>\n",
       "      <td>chr1</td>\n",
       "      <td>100364560</td>\n",
       "      <td>100365896</td>\n",
       "      <td>Interval_7072</td>\n",
       "    </tr>\n",
       "    <tr>\n",
       "      <th>172</th>\n",
       "      <td>Interval_7072</td>\n",
       "      <td>Interval_7072</td>\n",
       "      <td>Interval_7072_L1</td>\n",
       "      <td>chr1_100365383_G_A</td>\n",
       "      <td>rs28361193</td>\n",
       "      <td>32</td>\n",
       "      <td>0.109903</td>\n",
       "      <td>2.862930e-08</td>\n",
       "      <td>-0.819940</td>\n",
       "      <td>0.132737</td>\n",
       "      <td>...</td>\n",
       "      <td>0.499912</td>\n",
       "      <td>chr1:100165228-100565228</td>\n",
       "      <td>chr1</td>\n",
       "      <td>100365383</td>\n",
       "      <td>G</td>\n",
       "      <td>A</td>\n",
       "      <td>chr1</td>\n",
       "      <td>100364560</td>\n",
       "      <td>100365896</td>\n",
       "      <td>Interval_7072</td>\n",
       "    </tr>\n",
       "    <tr>\n",
       "      <th>174</th>\n",
       "      <td>Interval_7072</td>\n",
       "      <td>Interval_7072</td>\n",
       "      <td>Interval_7072_L1</td>\n",
       "      <td>chr1_100365547_C_T</td>\n",
       "      <td>rs7551111</td>\n",
       "      <td>32</td>\n",
       "      <td>0.109903</td>\n",
       "      <td>2.862930e-08</td>\n",
       "      <td>-0.819940</td>\n",
       "      <td>0.132737</td>\n",
       "      <td>...</td>\n",
       "      <td>0.499912</td>\n",
       "      <td>chr1:100165228-100565228</td>\n",
       "      <td>chr1</td>\n",
       "      <td>100365547</td>\n",
       "      <td>C</td>\n",
       "      <td>T</td>\n",
       "      <td>chr1</td>\n",
       "      <td>100364560</td>\n",
       "      <td>100365896</td>\n",
       "      <td>Interval_7072</td>\n",
       "    </tr>\n",
       "    <tr>\n",
       "      <th>...</th>\n",
       "      <td>...</td>\n",
       "      <td>...</td>\n",
       "      <td>...</td>\n",
       "      <td>...</td>\n",
       "      <td>...</td>\n",
       "      <td>...</td>\n",
       "      <td>...</td>\n",
       "      <td>...</td>\n",
       "      <td>...</td>\n",
       "      <td>...</td>\n",
       "      <td>...</td>\n",
       "      <td>...</td>\n",
       "      <td>...</td>\n",
       "      <td>...</td>\n",
       "      <td>...</td>\n",
       "      <td>...</td>\n",
       "      <td>...</td>\n",
       "      <td>...</td>\n",
       "      <td>...</td>\n",
       "      <td>...</td>\n",
       "      <td>...</td>\n",
       "    </tr>\n",
       "    <tr>\n",
       "      <th>446064</th>\n",
       "      <td>Interval_238230</td>\n",
       "      <td>Interval_238230</td>\n",
       "      <td>Interval_238230_L1</td>\n",
       "      <td>chr9_99569991_T_G</td>\n",
       "      <td>rs10988864</td>\n",
       "      <td>17</td>\n",
       "      <td>0.151737</td>\n",
       "      <td>1.222270e-15</td>\n",
       "      <td>1.166170</td>\n",
       "      <td>0.116173</td>\n",
       "      <td>...</td>\n",
       "      <td>0.921079</td>\n",
       "      <td>chr9:99370478-99770478</td>\n",
       "      <td>chr9</td>\n",
       "      <td>99569991</td>\n",
       "      <td>T</td>\n",
       "      <td>G</td>\n",
       "      <td>chr9</td>\n",
       "      <td>99569299</td>\n",
       "      <td>99571657</td>\n",
       "      <td>Interval_238230</td>\n",
       "    </tr>\n",
       "    <tr>\n",
       "      <th>446066</th>\n",
       "      <td>Interval_238230</td>\n",
       "      <td>Interval_238230</td>\n",
       "      <td>Interval_238230_L1</td>\n",
       "      <td>chr9_99571495_G_A</td>\n",
       "      <td>rs10819686</td>\n",
       "      <td>17</td>\n",
       "      <td>0.151737</td>\n",
       "      <td>1.222270e-15</td>\n",
       "      <td>1.166170</td>\n",
       "      <td>0.116173</td>\n",
       "      <td>...</td>\n",
       "      <td>0.921079</td>\n",
       "      <td>chr9:99370478-99770478</td>\n",
       "      <td>chr9</td>\n",
       "      <td>99571495</td>\n",
       "      <td>G</td>\n",
       "      <td>A</td>\n",
       "      <td>chr9</td>\n",
       "      <td>99569299</td>\n",
       "      <td>99571657</td>\n",
       "      <td>Interval_238230</td>\n",
       "    </tr>\n",
       "    <tr>\n",
       "      <th>446077</th>\n",
       "      <td>Interval_238231</td>\n",
       "      <td>Interval_238231</td>\n",
       "      <td>Interval_238231_L1</td>\n",
       "      <td>chr9_99574024_C_A</td>\n",
       "      <td>rs10120175</td>\n",
       "      <td>25</td>\n",
       "      <td>0.098729</td>\n",
       "      <td>1.468140e-16</td>\n",
       "      <td>1.098210</td>\n",
       "      <td>0.104363</td>\n",
       "      <td>...</td>\n",
       "      <td>0.921499</td>\n",
       "      <td>chr9:99374150-99774150</td>\n",
       "      <td>chr9</td>\n",
       "      <td>99574024</td>\n",
       "      <td>C</td>\n",
       "      <td>A</td>\n",
       "      <td>chr9</td>\n",
       "      <td>99573883</td>\n",
       "      <td>99574416</td>\n",
       "      <td>Interval_238231</td>\n",
       "    </tr>\n",
       "    <tr>\n",
       "      <th>446079</th>\n",
       "      <td>Interval_238231</td>\n",
       "      <td>Interval_238231</td>\n",
       "      <td>Interval_238231_L1</td>\n",
       "      <td>chr9_99574121_T_A</td>\n",
       "      <td>rs11794098</td>\n",
       "      <td>25</td>\n",
       "      <td>0.098729</td>\n",
       "      <td>1.468140e-16</td>\n",
       "      <td>1.098210</td>\n",
       "      <td>0.104363</td>\n",
       "      <td>...</td>\n",
       "      <td>0.921499</td>\n",
       "      <td>chr9:99374150-99774150</td>\n",
       "      <td>chr9</td>\n",
       "      <td>99574121</td>\n",
       "      <td>T</td>\n",
       "      <td>A</td>\n",
       "      <td>chr9</td>\n",
       "      <td>99573883</td>\n",
       "      <td>99574416</td>\n",
       "      <td>Interval_238231</td>\n",
       "    </tr>\n",
       "    <tr>\n",
       "      <th>446082</th>\n",
       "      <td>Interval_238255</td>\n",
       "      <td>Interval_238255</td>\n",
       "      <td>Interval_238255_L1</td>\n",
       "      <td>chr9_99834039_G_A</td>\n",
       "      <td>rs2900223</td>\n",
       "      <td>3</td>\n",
       "      <td>0.401042</td>\n",
       "      <td>2.143160e-11</td>\n",
       "      <td>0.941993</td>\n",
       "      <td>0.120278</td>\n",
       "      <td>...</td>\n",
       "      <td>0.974002</td>\n",
       "      <td>chr9:99634216-100034216</td>\n",
       "      <td>chr9</td>\n",
       "      <td>99834039</td>\n",
       "      <td>G</td>\n",
       "      <td>A</td>\n",
       "      <td>chr9</td>\n",
       "      <td>99833646</td>\n",
       "      <td>99834785</td>\n",
       "      <td>Interval_238255</td>\n",
       "    </tr>\n",
       "  </tbody>\n",
       "</table>\n",
       "<p>20479 rows × 21 columns</p>\n",
       "</div>"
      ],
      "text/plain": [
       "       molecular_trait_id          gene_id               cs_id  \\\n",
       "44          Interval_7046    Interval_7046    Interval_7046_L1   \n",
       "47          Interval_7047    Interval_7047    Interval_7047_L1   \n",
       "170         Interval_7072    Interval_7072    Interval_7072_L1   \n",
       "172         Interval_7072    Interval_7072    Interval_7072_L1   \n",
       "174         Interval_7072    Interval_7072    Interval_7072_L1   \n",
       "...                   ...              ...                 ...   \n",
       "446064    Interval_238230  Interval_238230  Interval_238230_L1   \n",
       "446066    Interval_238230  Interval_238230  Interval_238230_L1   \n",
       "446077    Interval_238231  Interval_238231  Interval_238231_L1   \n",
       "446079    Interval_238231  Interval_238231  Interval_238231_L1   \n",
       "446082    Interval_238255  Interval_238255  Interval_238255_L1   \n",
       "\n",
       "                   variant        rsid  cs_size       pip        pvalue  \\\n",
       "44      chr1_100047012_G_A    rs554742       66  0.019619  6.170090e-09   \n",
       "47      chr1_100050364_C_T    rs581097       80  0.019667  1.091410e-10   \n",
       "170     chr1_100364923_T_C  rs12085272       32  0.109903  2.862930e-08   \n",
       "172     chr1_100365383_G_A  rs28361193       32  0.109903  2.862930e-08   \n",
       "174     chr1_100365547_C_T   rs7551111       32  0.109903  2.862930e-08   \n",
       "...                    ...         ...      ...       ...           ...   \n",
       "446064   chr9_99569991_T_G  rs10988864       17  0.151737  1.222270e-15   \n",
       "446066   chr9_99571495_G_A  rs10819686       17  0.151737  1.222270e-15   \n",
       "446077   chr9_99574024_C_A  rs10120175       25  0.098729  1.468140e-16   \n",
       "446079   chr9_99574121_T_A  rs11794098       25  0.098729  1.468140e-16   \n",
       "446082   chr9_99834039_G_A   rs2900223        3  0.401042  2.143160e-11   \n",
       "\n",
       "            beta        se  ...  cs_min_r2                    region   chr  \\\n",
       "44     -0.614765  0.094044  ...   0.930934   chr1:99846814-100246814  chr1   \n",
       "47     -1.036960  0.138943  ...   0.824131   chr1:99849456-100249456  chr1   \n",
       "170    -0.819940  0.132737  ...   0.499912  chr1:100165228-100565228  chr1   \n",
       "172    -0.819940  0.132737  ...   0.499912  chr1:100165228-100565228  chr1   \n",
       "174    -0.819940  0.132737  ...   0.499912  chr1:100165228-100565228  chr1   \n",
       "...          ...       ...  ...        ...                       ...   ...   \n",
       "446064  1.166170  0.116173  ...   0.921079    chr9:99370478-99770478  chr9   \n",
       "446066  1.166170  0.116173  ...   0.921079    chr9:99370478-99770478  chr9   \n",
       "446077  1.098210  0.104363  ...   0.921499    chr9:99374150-99774150  chr9   \n",
       "446079  1.098210  0.104363  ...   0.921499    chr9:99374150-99774150  chr9   \n",
       "446082  0.941993  0.120278  ...   0.974002   chr9:99634216-100034216  chr9   \n",
       "\n",
       "              pos ref alt chromosome gene_start   gene_end     phenotype_id  \n",
       "44      100047012   G   A       chr1  100046355  100047272    Interval_7046  \n",
       "47      100050364   C   T       chr1  100048413  100050498    Interval_7047  \n",
       "170     100364923   T   C       chr1  100364560  100365896    Interval_7072  \n",
       "172     100365383   G   A       chr1  100364560  100365896    Interval_7072  \n",
       "174     100365547   C   T       chr1  100364560  100365896    Interval_7072  \n",
       "...           ...  ..  ..        ...        ...        ...              ...  \n",
       "446064   99569991   T   G       chr9   99569299   99571657  Interval_238230  \n",
       "446066   99571495   G   A       chr9   99569299   99571657  Interval_238230  \n",
       "446077   99574024   C   A       chr9   99573883   99574416  Interval_238231  \n",
       "446079   99574121   T   A       chr9   99573883   99574416  Interval_238231  \n",
       "446082   99834039   G   A       chr9   99833646   99834785  Interval_238255  \n",
       "\n",
       "[20479 rows x 21 columns]"
      ]
     },
     "execution_count": 118,
     "metadata": {},
     "output_type": "execute_result"
    }
   ],
   "source": [
    "merged_dataframe_cs"
   ]
  },
  {
   "cell_type": "code",
   "execution_count": null,
   "metadata": {},
   "outputs": [],
   "source": []
  },
  {
   "cell_type": "code",
   "execution_count": 57,
   "metadata": {},
   "outputs": [],
   "source": [
    "import pandas as pd"
   ]
  },
  {
   "cell_type": "code",
   "execution_count": 62,
   "metadata": {},
   "outputs": [],
   "source": [
    "maindir=\"/mnt/lab_data2/anusri/kumasaka/new_download/Kumasaka_2018_wgs/sumstats/AFGR_peaks/\""
   ]
  },
  {
   "cell_type": "code",
   "execution_count": 63,
   "metadata": {},
   "outputs": [],
   "source": [
    "import os\n",
    "beds=[]\n",
    "for file in os.listdir(maindir):\n",
    "        peak_bed=maindir+file\n",
    "        #print(peak_bed)\n",
    "\n",
    "        bed = pd.read_csv(peak_bed, sep=\"\\t\", header=None)\n",
    "        \n",
    "        beds.append(bed.shape[0])"
   ]
  },
  {
   "cell_type": "code",
   "execution_count": 64,
   "metadata": {},
   "outputs": [
    {
     "data": {
      "text/plain": [
       "Text(0.5, 0, 'distribution of peak numbers in individuals')"
      ]
     },
     "execution_count": 64,
     "metadata": {},
     "output_type": "execute_result"
    },
    {
     "data": {
      "image/png": "[encoded data removed]",
      "text/plain": [
       "<Figure size 432x288 with 1 Axes>"
      ]
     },
     "metadata": {
      "needs_background": "light"
     },
     "output_type": "display_data"
    }
   ],
   "source": [
    "plt.hist(beds)\n",
    "plt.xlabel(\"distribution of peak numbers in individuals\")"
   ]
  },
  {
   "cell_type": "code",
   "execution_count": 55,
   "metadata": {},
   "outputs": [],
   "source": [
    "maindir=\"/mnt/lab_data2/anusri/kumasaka/new_download/Kumasaka_2018_wgs/sumstats/Kumasaka_peaks/\""
   ]
  },
  {
   "cell_type": "code",
   "execution_count": 56,
   "metadata": {
    "scrolled": true
   },
   "outputs": [
    {
     "name": "stderr",
     "output_type": "stream",
     "text": [
      "/users/anusri/anaconda3/lib/python3.7/site-packages/IPython/core/interactiveshell.py:3331: DtypeWarning: Columns (0) have mixed types.Specify dtype option on import or set low_memory=False.\n",
      "  exec(code_obj, self.user_global_ns, self.user_ns)\n"
     ]
    },
    {
     "name": "stdout",
     "output_type": "stream",
     "text": [
      "1.00419 1734.14\n",
      "1.00598 1350.88\n",
      "1.00728 1598.17\n",
      "1.00512 1753.85\n",
      "1.00577 1877.15\n",
      "1.00469 1601.48\n",
      "1.01169 1836.61\n",
      "1.00233 1681.27\n",
      "1.00705 1457.42\n",
      "1.00486 1649.68\n",
      "1.00658 1646.65\n",
      "1.00796 1722.62\n",
      "1.00218 1548.92\n",
      "1.00072 1763.57\n",
      "1.00017 1719.11\n",
      "1.00394 1762.41\n",
      "1.00663 1428.21\n",
      "1.00232 1883.21\n",
      "1.00309 1689.62\n",
      "1.00104 1822.03\n",
      "1.00233 1803.08\n",
      "1.00275 1738.02\n",
      "1.0089 1757.59\n",
      "1.00039 1703.21\n",
      "1.00183 1943.97\n",
      "1.00428 1868.7\n",
      "1.00706 1749.02\n",
      "1.00498 1752.51\n",
      "1.00178 1772.96\n",
      "1.00219 1461.13\n",
      "1.00942 1596.44\n",
      "1.00859 1773.86\n",
      "1.0048 1153.32\n",
      "1.00853 1748.41\n",
      "1.00544 1936.77\n",
      "1.00897 1771.97\n",
      "1.00229 1798.15\n",
      "1.00575 1708.68\n",
      "1.00648 1709.01\n",
      "1.00362 1547.62\n",
      "1.00594 1752.96\n",
      "1.00206 1418.84\n",
      "1.00747 1898.87\n",
      "1.00381 1747.32\n",
      "1.00959 1841.26\n",
      "1.00487 1561.88\n",
      "1.00618 1799.48\n",
      "1.00819 1318.43\n",
      "1.00181 1990.2\n",
      "1.00142 1786.38\n",
      "1.0011 1576.59\n",
      "1.00145 1730.47\n",
      "1.00543 1811.55\n",
      "1.01242 1693.81\n",
      "1.00334 1788.99\n",
      "1.00471 1592.44\n",
      "1.00327 1629.4\n",
      "1.00042 1517.79\n",
      "1.00921 1602.57\n",
      "1.01109 1745.25\n",
      "1.00736 1651.13\n",
      "1.00762 1693.27\n",
      "1.0101 1634.97\n",
      "1.00667 1713.66\n",
      "1.00369 1507.39\n",
      "1.00602 1717.49\n",
      "1.00375 1505.5\n",
      "1.00745 1693.28\n",
      "1.01672 1668.8\n",
      "1.00083 1767.99\n",
      "1.00181 1902.65\n",
      "1.01131 583.508\n",
      "1.00982 1750.62\n",
      "1.0032 1712.65\n",
      "1.00481 1805.66\n",
      "1.0017 1625.0\n",
      "1.00243 1725.4\n",
      "1.00662 1773.49\n",
      "1.00427 1718.54\n",
      "1.00559 1754.5\n",
      "1.00888 1604.83\n",
      "1.00333 1591.04\n",
      "1.00683 1812.22\n",
      "1.00234 1969.04\n",
      "1.00639 1842.58\n",
      "1.00246 1755.53\n",
      "1.00013 1781.88\n",
      "1.00914 1859.89\n",
      "1.00616 2053.99\n",
      "1.0042 759.547\n",
      "1.00384 1864.7\n",
      "1.00599 2379.61\n",
      "1.00784 1921.16\n",
      "1.00772 1809.75\n",
      "1.00737 1917.23\n",
      "1.00377 1750.25\n",
      "1.00295 1941.43\n",
      "1.00852 1749.21\n",
      "1.00719 1204.84\n",
      "1.00982 2282.62\n"
     ]
    }
   ],
   "source": [
    "import os\n",
    "beds=[]\n",
    "for file in os.listdir(maindir):\n",
    "        peak_bed=maindir+file\n",
    "        #print(peak_bed)\n",
    "\n",
    "        bed = pd.read_csv(peak_bed, sep=\"\\t\", header=None)\n",
    "        \n",
    "        beds.append(bed.shape[0])"
   ]
  },
  {
   "cell_type": "code",
   "execution_count": 41,
   "metadata": {},
   "outputs": [],
   "source": [
    "import matplotlib.pyplot as plt"
   ]
  },
  {
   "cell_type": "code",
   "execution_count": 43,
   "metadata": {},
   "outputs": [
    {
     "data": {
      "text/plain": [
       "Text(0.5, 0, 'distribution of peak numbers in individuals')"
      ]
     },
     "execution_count": 43,
     "metadata": {},
     "output_type": "execute_result"
    },
    {
     "data": {
      "image/png": "[encoded data removed]",
      "text/plain": [
       "<Figure size 432x288 with 1 Axes>"
      ]
     },
     "metadata": {
      "needs_background": "light"
     },
     "output_type": "display_data"
    }
   ],
   "source": [
    "plt.hist(beds)\n",
    "plt.xlabel(\"distribution of peak numbers in individuals\")"
   ]
  },
  {
   "cell_type": "code",
   "execution_count": 46,
   "metadata": {},
   "outputs": [],
   "source": [
    "maindir=\"/oak/stanford/groups/akundaje/projects/african_omics/outs/10_15_2022_per_ancestry_scores/peaks/formatted/\"\n"
   ]
  },
  {
   "cell_type": "code",
   "execution_count": 49,
   "metadata": {},
   "outputs": [
    {
     "name": "stdout",
     "output_type": "stream",
     "text": [
      "/oak/stanford/groups/akundaje/projects/african_omics/outs/10_15_2022_per_ancestry_scores/peaks/formatted/pooled_Gambian.formatted.peaks.bed\n",
      "/oak/stanford/groups/akundaje/projects/african_omics/outs/10_15_2022_per_ancestry_scores/peaks/formatted/pooled_Maasai.formatted.peaks.bed\n",
      "/oak/stanford/groups/akundaje/projects/african_omics/outs/10_15_2022_per_ancestry_scores/peaks/formatted/GM12878.ENCSR637XSC.formatted.peaks.bed\n",
      "/oak/stanford/groups/akundaje/projects/african_omics/outs/10_15_2022_per_ancestry_scores/peaks/formatted/pooled_Mende.formatted.peaks.bed\n",
      "/oak/stanford/groups/akundaje/projects/african_omics/outs/10_15_2022_per_ancestry_scores/peaks/formatted/GM12878.ENCSR095QNB.formatted.peaks.bed\n",
      "/oak/stanford/groups/akundaje/projects/african_omics/outs/10_15_2022_per_ancestry_scores/peaks/formatted/pooled_Luhya.formatted.peaks.bed\n",
      "/oak/stanford/groups/akundaje/projects/african_omics/outs/10_15_2022_per_ancestry_scores/peaks/formatted/pooled_Esan.formatted.peaks.bed\n",
      "/oak/stanford/groups/akundaje/projects/african_omics/outs/10_15_2022_per_ancestry_scores/peaks/formatted/pooled_Yoruba.formatted.peaks.bed\n"
     ]
    }
   ],
   "source": [
    "import os\n",
    "beds_afr=[]\n",
    "names=[]\n",
    "for file in os.listdir(maindir):\n",
    "        peak_bed=maindir+file\n",
    "        print(peak_bed)\n",
    "        names.append(file.replace(\".formatted.peaks.bed\", \"\"))\n",
    "        bed = pd.read_csv(peak_bed, sep=\"\\t\", header=None)\n",
    "        beds_afr.append(bed.shape[0])"
   ]
  },
  {
   "cell_type": "code",
   "execution_count": 53,
   "metadata": {},
   "outputs": [
    {
     "data": {
      "text/plain": [
       "Text(0, 0.5, 'Number of peaks')"
      ]
     },
     "execution_count": 53,
     "metadata": {},
     "output_type": "execute_result"
    },
    {
     "data": {
      "image/png": "[encoded data removed]",
      "text/plain": [
       "<Figure size 432x288 with 1 Axes>"
      ]
     },
     "metadata": {
      "needs_background": "light"
     },
     "output_type": "display_data"
    }
   ],
   "source": [
    "plt.bar(names, beds_afr)\n",
    "plt.xticks(rotation=90, ha='right')\n",
    "\n",
    "plt.xlabel(\"ancestry group\")\n",
    "plt.ylabel(\"Number of peaks\")"
   ]
  },
  {
   "cell_type": "code",
   "execution_count": null,
   "metadata": {},
   "outputs": [],
   "source": []
  },
  {
   "cell_type": "code",
   "execution_count": null,
   "metadata": {},
   "outputs": [],
   "source": []
  },
  {
   "cell_type": "code",
   "execution_count": null,
   "metadata": {},
   "outputs": [],
   "source": []
  },
  {
   "cell_type": "code",
   "execution_count": null,
   "metadata": {},
   "outputs": [],
   "source": []
  },
  {
   "cell_type": "code",
   "execution_count": 13,
   "metadata": {},
   "outputs": [],
   "source": []
  },
  {
   "cell_type": "code",
   "execution_count": null,
   "metadata": {},
   "outputs": [],
   "source": []
  },
  {
   "cell_type": "code",
   "execution_count": null,
   "metadata": {},
   "outputs": [],
   "source": []
  },
  {
   "cell_type": "code",
   "execution_count": null,
   "metadata": {},
   "outputs": [],
   "source": []
  },
  {
   "cell_type": "code",
   "execution_count": null,
   "metadata": {},
   "outputs": [],
   "source": []
  },
  {
   "cell_type": "code",
   "execution_count": null,
   "metadata": {},
   "outputs": [],
   "source": [
    "\n"
   ]
  },
  {
   "cell_type": "code",
   "execution_count": null,
   "metadata": {},
   "outputs": [],
   "source": []
  },
  {
   "cell_type": "code",
   "execution_count": null,
   "metadata": {},
   "outputs": [],
   "source": [
    "\n"
   ]
  },
  {
   "cell_type": "code",
   "execution_count": null,
   "metadata": {},
   "outputs": [],
   "source": []
  },
  {
   "cell_type": "code",
   "execution_count": null,
   "metadata": {},
   "outputs": [],
   "source": [
    "\n"
   ]
  },
  {
   "cell_type": "code",
   "execution_count": null,
   "metadata": {},
   "outputs": [],
   "source": []
  },
  {
   "cell_type": "code",
   "execution_count": null,
   "metadata": {},
   "outputs": [],
   "source": []
  },
  {
   "cell_type": "code",
   "execution_count": null,
   "metadata": {},
   "outputs": [],
   "source": []
  },
  {
   "cell_type": "code",
   "execution_count": null,
   "metadata": {},
   "outputs": [],
   "source": []
  },
  {
   "cell_type": "code",
   "execution_count": null,
   "metadata": {},
   "outputs": [],
   "source": []
  },
  {
   "cell_type": "code",
   "execution_count": null,
   "metadata": {},
   "outputs": [],
   "source": []
  },
  {
   "cell_type": "code",
   "execution_count": null,
   "metadata": {},
   "outputs": [],
   "source": []
  }
 ],
 "metadata": {
  "kernelspec": {
   "display_name": "Python 3",
   "language": "python",
   "name": "python3"
  },
  "language_info": {
   "codemirror_mode": {
    "name": "ipython",
    "version": 3
   },
   "file_extension": ".py",
   "mimetype": "text/x-python",
   "name": "python",
   "nbconvert_exporter": "python",
   "pygments_lexer": "ipython3",
   "version": "3.7.6"
  }
 },
 "nbformat": 4,
 "nbformat_minor": 4
}
