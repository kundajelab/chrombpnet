{
 "cells": [
  {
   "cell_type": "code",
   "execution_count": 91,
   "metadata": {},
   "outputs": [],
   "source": [
    "import pandas as pd\n",
    "asb_sig = pd.read_csv(\"sig.asb.scores.tsv\", sep=\"\\t\", header=0)"
   ]
  },
  {
   "cell_type": "code",
   "execution_count": 92,
   "metadata": {},
   "outputs": [],
   "source": [
    "asb_sig[\"pos0\"] =  asb_sig[\"pos\"] - 1"
   ]
  },
  {
   "cell_type": "code",
   "execution_count": 93,
   "metadata": {},
   "outputs": [],
   "source": [
    "asb_sig_p = asb_sig[[\"chr\", \"pos0\"]+asb_sig.columns[1:-1].tolist()]"
   ]
  },
  {
   "cell_type": "code",
   "execution_count": 94,
   "metadata": {},
   "outputs": [],
   "source": [
    "import pybedtools\n",
    "beds_var = pybedtools.BedTool.from_dataframe(asb_sig_p)\n",
    "peak_bed = pybedtools.BedTool('merged.peaks.af.bed')\n",
    "sig_vars_in_bed = beds_var.intersect(peak_bed, wa=True)"
   ]
  },
  {
   "cell_type": "code",
   "execution_count": 95,
   "metadata": {},
   "outputs": [],
   "source": [
    "sig_vars_in_bed = sig_vars_in_bed.to_dataframe(names=[\"chr\", \"pos0\"]+asb_sig.columns[1:-1].tolist()).drop_duplicates()"
   ]
  },
  {
   "cell_type": "code",
   "execution_count": 96,
   "metadata": {},
   "outputs": [
    {
     "data": {
      "text/plain": [
       "(5897, 93)"
      ]
     },
     "execution_count": 96,
     "metadata": {},
     "output_type": "execute_result"
    }
   ],
   "source": [
    "sig_vars_in_bed.shape"
   ]
  },
  {
   "cell_type": "code",
   "execution_count": 97,
   "metadata": {},
   "outputs": [],
   "source": [
    "asb_sig_p.shape\n",
    "asb_sig = sig_vars_in_bed"
   ]
  },
  {
   "cell_type": "code",
   "execution_count": 98,
   "metadata": {},
   "outputs": [
    {
     "data": {
      "text/html": [
       "<div>\n",
       "<style scoped>\n",
       "    .dataframe tbody tr th:only-of-type {\n",
       "        vertical-align: middle;\n",
       "    }\n",
       "\n",
       "    .dataframe tbody tr th {\n",
       "        vertical-align: top;\n",
       "    }\n",
       "\n",
       "    .dataframe thead th {\n",
       "        text-align: right;\n",
       "    }\n",
       "</style>\n",
       "<table border=\"1\" class=\"dataframe\">\n",
       "  <thead>\n",
       "    <tr style=\"text-align: right;\">\n",
       "      <th></th>\n",
       "      <th>chr</th>\n",
       "      <th>pos0</th>\n",
       "      <th>pos</th>\n",
       "      <th>allele1</th>\n",
       "      <th>allele2</th>\n",
       "      <th>rsid</th>\n",
       "      <th>Esan.mean.logfc</th>\n",
       "      <th>Esan.mean.abs_logfc</th>\n",
       "      <th>Esan.mean.jsd</th>\n",
       "      <th>Esan.mean.abs_logfc_x_jsd</th>\n",
       "      <th>...</th>\n",
       "      <th>GM12878.ENCSR000EMT.mean.jsd</th>\n",
       "      <th>GM12878.ENCSR000EMT.mean.abs_logfc_x_jsd</th>\n",
       "      <th>GM12878.ENCSR000EMT.mean.abs_logfc_x_jsd_x_max_percentile</th>\n",
       "      <th>GM12878.ENCSR000EMT.mean.max_percentile</th>\n",
       "      <th>GM12878.ENCSR000EMT.mean.abs_logfc.pval</th>\n",
       "      <th>GM12878.ENCSR000EMT.mean.jsd.pval</th>\n",
       "      <th>GM12878.ENCSR000EMT.mean.abs_logfc_x_jsd.pval</th>\n",
       "      <th>GM12878.ENCSR000EMT.mean.abs_logfc_x_jsd_x_max_percentile.pval</th>\n",
       "      <th>variantID</th>\n",
       "      <th>meanLog2FC</th>\n",
       "    </tr>\n",
       "  </thead>\n",
       "  <tbody>\n",
       "    <tr>\n",
       "      <th>0</th>\n",
       "      <td>chr1</td>\n",
       "      <td>976214</td>\n",
       "      <td>976215</td>\n",
       "      <td>A</td>\n",
       "      <td>G</td>\n",
       "      <td>1_976215_A_G</td>\n",
       "      <td>0.148617</td>\n",
       "      <td>0.186169</td>\n",
       "      <td>0.029973</td>\n",
       "      <td>0.005416</td>\n",
       "      <td>...</td>\n",
       "      <td>0.032590</td>\n",
       "      <td>0.001415</td>\n",
       "      <td>0.000633</td>\n",
       "      <td>0.481828</td>\n",
       "      <td>0.253143</td>\n",
       "      <td>0.049575</td>\n",
       "      <td>0.167523</td>\n",
       "      <td>0.095002</td>\n",
       "      <td>1_976215_A_G</td>\n",
       "      <td>-1.852605</td>\n",
       "    </tr>\n",
       "    <tr>\n",
       "      <th>1</th>\n",
       "      <td>chr1</td>\n",
       "      <td>1038818</td>\n",
       "      <td>1038819</td>\n",
       "      <td>T</td>\n",
       "      <td>C</td>\n",
       "      <td>1_1038819_C_T</td>\n",
       "      <td>0.139453</td>\n",
       "      <td>0.139453</td>\n",
       "      <td>0.021787</td>\n",
       "      <td>0.003160</td>\n",
       "      <td>...</td>\n",
       "      <td>0.014620</td>\n",
       "      <td>0.000718</td>\n",
       "      <td>0.000263</td>\n",
       "      <td>0.300824</td>\n",
       "      <td>0.271734</td>\n",
       "      <td>0.301306</td>\n",
       "      <td>0.284252</td>\n",
       "      <td>0.209941</td>\n",
       "      <td>1_1038819_C_T</td>\n",
       "      <td>2.390945</td>\n",
       "    </tr>\n",
       "    <tr>\n",
       "      <th>2</th>\n",
       "      <td>chr1</td>\n",
       "      <td>1038844</td>\n",
       "      <td>1038845</td>\n",
       "      <td>G</td>\n",
       "      <td>A</td>\n",
       "      <td>1_1038845_A_G</td>\n",
       "      <td>-0.354500</td>\n",
       "      <td>0.354500</td>\n",
       "      <td>0.029879</td>\n",
       "      <td>0.010773</td>\n",
       "      <td>...</td>\n",
       "      <td>0.045086</td>\n",
       "      <td>0.011743</td>\n",
       "      <td>0.005479</td>\n",
       "      <td>0.424614</td>\n",
       "      <td>0.015937</td>\n",
       "      <td>0.020823</td>\n",
       "      <td>0.017209</td>\n",
       "      <td>0.013088</td>\n",
       "      <td>1_1038845_A_G</td>\n",
       "      <td>2.163432</td>\n",
       "    </tr>\n",
       "    <tr>\n",
       "      <th>3</th>\n",
       "      <td>chr1</td>\n",
       "      <td>1038915</td>\n",
       "      <td>1038916</td>\n",
       "      <td>G</td>\n",
       "      <td>A</td>\n",
       "      <td>1_1038916_A_G</td>\n",
       "      <td>-0.166982</td>\n",
       "      <td>0.166982</td>\n",
       "      <td>0.023631</td>\n",
       "      <td>0.004226</td>\n",
       "      <td>...</td>\n",
       "      <td>0.028406</td>\n",
       "      <td>0.005834</td>\n",
       "      <td>0.002762</td>\n",
       "      <td>0.453376</td>\n",
       "      <td>0.029725</td>\n",
       "      <td>0.065693</td>\n",
       "      <td>0.040467</td>\n",
       "      <td>0.026564</td>\n",
       "      <td>1_1038916_A_G</td>\n",
       "      <td>2.062560</td>\n",
       "    </tr>\n",
       "    <tr>\n",
       "      <th>4</th>\n",
       "      <td>chr1</td>\n",
       "      <td>1038974</td>\n",
       "      <td>1038975</td>\n",
       "      <td>A</td>\n",
       "      <td>G</td>\n",
       "      <td>1_1038975_G_A</td>\n",
       "      <td>0.124901</td>\n",
       "      <td>0.124901</td>\n",
       "      <td>0.014194</td>\n",
       "      <td>0.001762</td>\n",
       "      <td>...</td>\n",
       "      <td>0.012718</td>\n",
       "      <td>0.000438</td>\n",
       "      <td>0.000189</td>\n",
       "      <td>0.411085</td>\n",
       "      <td>0.396189</td>\n",
       "      <td>0.391443</td>\n",
       "      <td>0.386464</td>\n",
       "      <td>0.229546</td>\n",
       "      <td>1_1038975_G_A</td>\n",
       "      <td>1.898451</td>\n",
       "    </tr>\n",
       "  </tbody>\n",
       "</table>\n",
       "<p>5 rows × 93 columns</p>\n",
       "</div>"
      ],
      "text/plain": [
       "    chr     pos0      pos allele1 allele2           rsid  Esan.mean.logfc  \\\n",
       "0  chr1   976214   976215       A       G   1_976215_A_G         0.148617   \n",
       "1  chr1  1038818  1038819       T       C  1_1038819_C_T         0.139453   \n",
       "2  chr1  1038844  1038845       G       A  1_1038845_A_G        -0.354500   \n",
       "3  chr1  1038915  1038916       G       A  1_1038916_A_G        -0.166982   \n",
       "4  chr1  1038974  1038975       A       G  1_1038975_G_A         0.124901   \n",
       "\n",
       "   Esan.mean.abs_logfc  Esan.mean.jsd  Esan.mean.abs_logfc_x_jsd  ...  \\\n",
       "0             0.186169       0.029973                   0.005416  ...   \n",
       "1             0.139453       0.021787                   0.003160  ...   \n",
       "2             0.354500       0.029879                   0.010773  ...   \n",
       "3             0.166982       0.023631                   0.004226  ...   \n",
       "4             0.124901       0.014194                   0.001762  ...   \n",
       "\n",
       "   GM12878.ENCSR000EMT.mean.jsd  GM12878.ENCSR000EMT.mean.abs_logfc_x_jsd  \\\n",
       "0                      0.032590                                  0.001415   \n",
       "1                      0.014620                                  0.000718   \n",
       "2                      0.045086                                  0.011743   \n",
       "3                      0.028406                                  0.005834   \n",
       "4                      0.012718                                  0.000438   \n",
       "\n",
       "   GM12878.ENCSR000EMT.mean.abs_logfc_x_jsd_x_max_percentile  \\\n",
       "0                                           0.000633           \n",
       "1                                           0.000263           \n",
       "2                                           0.005479           \n",
       "3                                           0.002762           \n",
       "4                                           0.000189           \n",
       "\n",
       "   GM12878.ENCSR000EMT.mean.max_percentile  \\\n",
       "0                                 0.481828   \n",
       "1                                 0.300824   \n",
       "2                                 0.424614   \n",
       "3                                 0.453376   \n",
       "4                                 0.411085   \n",
       "\n",
       "   GM12878.ENCSR000EMT.mean.abs_logfc.pval  GM12878.ENCSR000EMT.mean.jsd.pval  \\\n",
       "0                                 0.253143                           0.049575   \n",
       "1                                 0.271734                           0.301306   \n",
       "2                                 0.015937                           0.020823   \n",
       "3                                 0.029725                           0.065693   \n",
       "4                                 0.396189                           0.391443   \n",
       "\n",
       "   GM12878.ENCSR000EMT.mean.abs_logfc_x_jsd.pval  \\\n",
       "0                                       0.167523   \n",
       "1                                       0.284252   \n",
       "2                                       0.017209   \n",
       "3                                       0.040467   \n",
       "4                                       0.386464   \n",
       "\n",
       "   GM12878.ENCSR000EMT.mean.abs_logfc_x_jsd_x_max_percentile.pval  \\\n",
       "0                                           0.095002                \n",
       "1                                           0.209941                \n",
       "2                                           0.013088                \n",
       "3                                           0.026564                \n",
       "4                                           0.229546                \n",
       "\n",
       "       variantID  meanLog2FC  \n",
       "0   1_976215_A_G   -1.852605  \n",
       "1  1_1038819_C_T    2.390945  \n",
       "2  1_1038845_A_G    2.163432  \n",
       "3  1_1038916_A_G    2.062560  \n",
       "4  1_1038975_G_A    1.898451  \n",
       "\n",
       "[5 rows x 93 columns]"
      ]
     },
     "execution_count": 98,
     "metadata": {},
     "output_type": "execute_result"
    }
   ],
   "source": [
    "asb_sig.head()"
   ]
  },
  {
   "cell_type": "code",
   "execution_count": 99,
   "metadata": {},
   "outputs": [
    {
     "data": {
      "text/plain": [
       "(5897, 93)"
      ]
     },
     "execution_count": 99,
     "metadata": {},
     "output_type": "execute_result"
    }
   ],
   "source": [
    "asb_sig.shape"
   ]
  },
  {
   "cell_type": "code",
   "execution_count": 100,
   "metadata": {},
   "outputs": [
    {
     "data": {
      "text/plain": [
       "Index(['chr', 'pos0', 'pos', 'allele1', 'allele2', 'rsid', 'Esan.mean.logfc',\n",
       "       'Esan.mean.abs_logfc', 'Esan.mean.jsd', 'Esan.mean.abs_logfc_x_jsd',\n",
       "       'Esan.mean.abs_logfc_x_jsd_x_max_percentile',\n",
       "       'Esan.mean.max_percentile', 'Esan.mean.abs_logfc.pval',\n",
       "       'Esan.mean.jsd.pval', 'Esan.mean.abs_logfc_x_jsd.pval',\n",
       "       'Esan.mean.abs_logfc_x_jsd_x_max_percentile.pval', 'Mende.mean.logfc',\n",
       "       'Mende.mean.abs_logfc', 'Mende.mean.jsd', 'Mende.mean.abs_logfc.pval',\n",
       "       'Mende.mean.jsd.pval', 'Yoruba.mean.logfc', 'Yoruba.mean.abs_logfc',\n",
       "       'Yoruba.mean.jsd', 'Yoruba.mean.abs_logfc.pval', 'Yoruba.mean.jsd.pval',\n",
       "       'GM12878.ENCSR095QNB.mean.logfc', 'GM12878.ENCSR095QNB.mean.abs_logfc',\n",
       "       'GM12878.ENCSR095QNB.mean.jsd',\n",
       "       'GM12878.ENCSR095QNB.mean.abs_logfc_x_jsd',\n",
       "       'GM12878.ENCSR095QNB.mean.abs_logfc_x_jsd_x_max_percentile',\n",
       "       'GM12878.ENCSR095QNB.mean.max_percentile',\n",
       "       'GM12878.ENCSR095QNB.mean.abs_logfc.pval',\n",
       "       'GM12878.ENCSR095QNB.mean.jsd.pval',\n",
       "       'GM12878.ENCSR095QNB.mean.abs_logfc_x_jsd.pval',\n",
       "       'GM12878.ENCSR095QNB.mean.abs_logfc_x_jsd_x_max_percentile.pval',\n",
       "       'GM12878.ENCSR637XSC.mean.logfc', 'GM12878.ENCSR637XSC.mean.abs_logfc',\n",
       "       'GM12878.ENCSR637XSC.mean.jsd',\n",
       "       'GM12878.ENCSR637XSC.mean.abs_logfc_x_jsd',\n",
       "       'GM12878.ENCSR637XSC.mean.abs_logfc_x_jsd_x_max_percentile',\n",
       "       'GM12878.ENCSR637XSC.mean.max_percentile',\n",
       "       'GM12878.ENCSR637XSC.mean.abs_logfc.pval',\n",
       "       'GM12878.ENCSR637XSC.mean.jsd.pval',\n",
       "       'GM12878.ENCSR637XSC.mean.abs_logfc_x_jsd.pval',\n",
       "       'GM12878.ENCSR637XSC.mean.abs_logfc_x_jsd_x_max_percentile.pval',\n",
       "       'Luhya.mean.logfc', 'Luhya.mean.abs_logfc', 'Luhya.mean.jsd',\n",
       "       'Luhya.mean.abs_logfc.pval', 'Luhya.mean.jsd.pval',\n",
       "       'Gambian.mean.logfc', 'Gambian.mean.abs_logfc', 'Gambian.mean.jsd',\n",
       "       'Gambian.mean.abs_logfc.pval', 'Gambian.mean.jsd.pval',\n",
       "       'Maasai.mean.logfc', 'Maasai.mean.abs_logfc', 'Maasai.mean.jsd',\n",
       "       'Maasai.mean.abs_logfc.pval', 'Maasai.mean.jsd.pval', 'afr.mean.logfc',\n",
       "       'afr.mean.abs_logfc', 'afr.mean.jsd', 'eur.mean.logfc',\n",
       "       'eur.mean.abs_logfc', 'eur.mean.jsd', 'afr.mean.abs_logfc.pval',\n",
       "       'afr.mean.jsd.pval', 'eur.mean.abs_logfc.pval', 'eur.mean.jsd.pval',\n",
       "       'GM12878.ENCSR637XSC.50M.mean.logfc',\n",
       "       'GM12878.ENCSR637XSC.50M.mean.abs_logfc',\n",
       "       'GM12878.ENCSR637XSC.50M.mean.jsd',\n",
       "       'GM12878.ENCSR637XSC.50M.mean.abs_logfc_x_jsd',\n",
       "       'GM12878.ENCSR637XSC.50M.mean.abs_logfc_x_jsd_x_max_percentile',\n",
       "       'GM12878.ENCSR637XSC.50M.mean.max_percentile',\n",
       "       'GM12878.ENCSR637XSC.50M.mean.abs_logfc.pval',\n",
       "       'GM12878.ENCSR637XSC.50M.mean.jsd.pval',\n",
       "       'GM12878.ENCSR637XSC.50M.mean.abs_logfc_x_jsd.pval',\n",
       "       'GM12878.ENCSR637XSC.50M.mean.abs_logfc_x_jsd_x_max_percentile.pval',\n",
       "       'GM12878.ENCSR000EMT.mean.logfc', 'GM12878.ENCSR000EMT.mean.abs_logfc',\n",
       "       'GM12878.ENCSR000EMT.mean.jsd',\n",
       "       'GM12878.ENCSR000EMT.mean.abs_logfc_x_jsd',\n",
       "       'GM12878.ENCSR000EMT.mean.abs_logfc_x_jsd_x_max_percentile',\n",
       "       'GM12878.ENCSR000EMT.mean.max_percentile',\n",
       "       'GM12878.ENCSR000EMT.mean.abs_logfc.pval',\n",
       "       'GM12878.ENCSR000EMT.mean.jsd.pval',\n",
       "       'GM12878.ENCSR000EMT.mean.abs_logfc_x_jsd.pval',\n",
       "       'GM12878.ENCSR000EMT.mean.abs_logfc_x_jsd_x_max_percentile.pval',\n",
       "       'variantID', 'meanLog2FC'],\n",
       "      dtype='object')"
      ]
     },
     "execution_count": 100,
     "metadata": {},
     "output_type": "execute_result"
    }
   ],
   "source": [
    "asb_sig.columns"
   ]
  },
  {
   "cell_type": "code",
   "execution_count": 101,
   "metadata": {},
   "outputs": [
    {
     "name": "stdout",
     "output_type": "stream",
     "text": [
      "ATAC (572M) (0.6848214217530895, 0.0)\n",
      "DNase (0.6636292058176858, 0.0)\n",
      "ATAC (50M) (0.6671964992250254, 0.0)\n"
     ]
    }
   ],
   "source": [
    "import numpy as np\n",
    "import scipy.stats\n",
    "print(\"ATAC (572M)\", scipy.stats.pearsonr(asb_sig[\"meanLog2FC\"], asb_sig[\"GM12878.ENCSR637XSC.mean.logfc\"]))\n",
    "print(\"DNase\", scipy.stats.pearsonr(asb_sig[\"meanLog2FC\"], asb_sig[\"GM12878.ENCSR000EMT.mean.logfc\"]))\n",
    "print(\"ATAC (50M)\", scipy.stats.pearsonr(asb_sig[\"meanLog2FC\"], asb_sig[\"GM12878.ENCSR637XSC.50M.mean.logfc\"]))"
   ]
  },
  {
   "cell_type": "code",
   "execution_count": 102,
   "metadata": {},
   "outputs": [
    {
     "data": {
      "text/plain": [
       "(-3.0, 3.0)"
      ]
     },
     "execution_count": 102,
     "metadata": {},
     "output_type": "execute_result"
    },
    {
     "data": {
      "text/plain": [
       "<Figure size 576x576 with 0 Axes>"
      ]
     },
     "metadata": {},
     "output_type": "display_data"
    },
    {
     "data": {
      "image/png": "[encoded data removed]",
      "text/plain": [
       "<Figure size 576x360 with 1 Axes>"
      ]
     },
     "metadata": {
      "needs_background": "light"
     },
     "output_type": "display_data"
    }
   ],
   "source": [
    "import seaborn as sns\n",
    "import matplotlib.pyplot as plt\n",
    "import matplotlib\n",
    "matplotlib.rcParams['pdf.fonttype'] = 42\n",
    "matplotlib.rcParams['ps.fonttype'] = 42 \n",
    "\n",
    "plt.figure(figsize=(8,8))\n",
    "\n",
    "data = pd.DataFrame()\n",
    "data[\"logfc.mean\"] = asb_sig[\"GM12878.ENCSR637XSC.mean.logfc\"]\n",
    "data[\"Beta\"] = asb_sig[\"meanLog2FC\"]\n",
    "\n",
    "plt.figure(figsize=(8,5))\n",
    "\n",
    "\n",
    "# sns.kdeplot(\n",
    "#     data=data,\n",
    "#     x=\"Beta\",\n",
    "#     y=\"sd_sign.mean\",\n",
    "#     levels=5,\n",
    "#     fill=False,\n",
    "#     alpha=0.2,\n",
    "#     color=\"grey\",\n",
    "#     cut=2,\n",
    "\n",
    "# )\n",
    "\n",
    "ax = sns.scatterplot(x=\"Beta\", y=\"logfc.mean\", data=data, s=2, color=\"#921F45\", rasterized=True)\n",
    "sns.regplot(x=\"Beta\", y=\"logfc.mean\", data=data, scatter=False, ci=None, color=\"#571216\")\n",
    "\n",
    "\n",
    "# Remove the legend and add a colorbar\n",
    "ax.spines[[\"top\",\"right\"]].set_visible(False)\n",
    "ax.set_ylim((-3,3))\n",
    "#plt.savefig(\"subfigs_new/microglia_caqtls_scatter_plot.pdf\", transparent=True, dpi=300)\n",
    "\n"
   ]
  },
  {
   "cell_type": "code",
   "execution_count": 103,
   "metadata": {},
   "outputs": [
    {
     "data": {
      "text/plain": [
       "2.57592164"
      ]
     },
     "execution_count": 103,
     "metadata": {},
     "output_type": "execute_result"
    }
   ],
   "source": [
    "max(data[\"logfc.mean\"])"
   ]
  },
  {
   "cell_type": "code",
   "execution_count": null,
   "metadata": {},
   "outputs": [],
   "source": []
  },
  {
   "cell_type": "code",
   "execution_count": null,
   "metadata": {},
   "outputs": [],
   "source": []
  },
  {
   "cell_type": "code",
   "execution_count": null,
   "metadata": {},
   "outputs": [],
   "source": []
  },
  {
   "cell_type": "code",
   "execution_count": null,
   "metadata": {},
   "outputs": [],
   "source": []
  },
  {
   "cell_type": "code",
   "execution_count": null,
   "metadata": {},
   "outputs": [],
   "source": []
  },
  {
   "cell_type": "code",
   "execution_count": null,
   "metadata": {},
   "outputs": [],
   "source": []
  },
  {
   "cell_type": "code",
   "execution_count": null,
   "metadata": {},
   "outputs": [],
   "source": []
  },
  {
   "cell_type": "code",
   "execution_count": null,
   "metadata": {},
   "outputs": [],
   "source": []
  },
  {
   "cell_type": "code",
   "execution_count": 24,
   "metadata": {},
   "outputs": [],
   "source": [
    "allca = pd.read_csv(\"/oak/stanford/groups/akundaje/projects/african_omics/outs/10_15_2022_per_ancestry_scores/tables/all_caqtls.scores.tsv\", sep=\"\\t\")"
   ]
  },
  {
   "cell_type": "code",
   "execution_count": 25,
   "metadata": {},
   "outputs": [],
   "source": [
    "data1 = pd.read_csv(\"/mnt/lab_data2/anusri/enformer/eu_caqtls/source.tsv\", sep=\"\\t\", header=0)"
   ]
  },
  {
   "cell_type": "code",
   "execution_count": 27,
   "metadata": {},
   "outputs": [],
   "source": [
    "data1[\"rsid\"] = data1[\"chr\"] + \"_\" + data1[\"pos\"].astype(str) + \"_\" + data1[\"allele1\"] + \"_\" + data1[\"allele2\"]\n",
    "allca[\"rsid1\"] = allca[\"chr\"] + \"_\" + allca[\"pos\"].astype(str) + \"_\" + allca[\"allele1\"] + \"_\" + allca[\"allele2\"]"
   ]
  },
  {
   "cell_type": "code",
   "execution_count": 28,
   "metadata": {},
   "outputs": [
    {
     "data": {
      "text/plain": [
       "(35547, 6)"
      ]
     },
     "execution_count": 28,
     "metadata": {},
     "output_type": "execute_result"
    }
   ],
   "source": [
    "data1.shape"
   ]
  },
  {
   "cell_type": "code",
   "execution_count": 30,
   "metadata": {},
   "outputs": [],
   "source": [
    "allca = allca[allca[\"rsid1\"].isin(data1[\"rsid\"])]"
   ]
  },
  {
   "cell_type": "code",
   "execution_count": 31,
   "metadata": {},
   "outputs": [],
   "source": [
    "import os\n",
    "\n",
    "score_dir = '/oak/stanford/groups/akundaje/projects/african_omics/outs/10_15_2022_per_ancestry_scores/score_outputs'\n",
    "\n",
    "ancestries = [i for i in os.listdir(score_dir)]"
   ]
  },
  {
   "cell_type": "code",
   "execution_count": 36,
   "metadata": {},
   "outputs": [
    {
     "data": {
      "text/html": [
       "<div>\n",
       "<style scoped>\n",
       "    .dataframe tbody tr th:only-of-type {\n",
       "        vertical-align: middle;\n",
       "    }\n",
       "\n",
       "    .dataframe tbody tr th {\n",
       "        vertical-align: top;\n",
       "    }\n",
       "\n",
       "    .dataframe thead th {\n",
       "        text-align: right;\n",
       "    }\n",
       "</style>\n",
       "<table border=\"1\" class=\"dataframe\">\n",
       "  <thead>\n",
       "    <tr style=\"text-align: right;\">\n",
       "      <th></th>\n",
       "      <th>chr</th>\n",
       "      <th>pos</th>\n",
       "      <th>allele1</th>\n",
       "      <th>allele2</th>\n",
       "      <th>rsid</th>\n",
       "      <th>Esan.mean.logfc</th>\n",
       "      <th>Esan.mean.abs_logfc</th>\n",
       "      <th>Esan.mean.jsd</th>\n",
       "      <th>Esan.mean.abs_logfc_x_jsd</th>\n",
       "      <th>Esan.mean.abs_logfc_x_jsd_x_max_percentile</th>\n",
       "      <th>...</th>\n",
       "      <th>abs_beta</th>\n",
       "      <th>rsid1</th>\n",
       "      <th>GM12878.ENCSR637XSC.mean.sign.jsd</th>\n",
       "      <th>Maasai.mean.sign.jsd</th>\n",
       "      <th>Yoruba.mean.sign.jsd</th>\n",
       "      <th>Luhya.mean.sign.jsd</th>\n",
       "      <th>Gambian.mean.sign.jsd</th>\n",
       "      <th>Esan.mean.sign.jsd</th>\n",
       "      <th>GM12878.ENCSR095QNB.mean.sign.jsd</th>\n",
       "      <th>Mende.mean.sign.jsd</th>\n",
       "    </tr>\n",
       "  </thead>\n",
       "  <tbody>\n",
       "    <tr>\n",
       "      <th>1</th>\n",
       "      <td>chr1</td>\n",
       "      <td>866300</td>\n",
       "      <td>A</td>\n",
       "      <td>C</td>\n",
       "      <td>1_866300_A_C</td>\n",
       "      <td>-0.009280</td>\n",
       "      <td>0.022847</td>\n",
       "      <td>0.008537</td>\n",
       "      <td>0.000175</td>\n",
       "      <td>0.000082</td>\n",
       "      <td>...</td>\n",
       "      <td>0.006546</td>\n",
       "      <td>chr1_866300_A_C</td>\n",
       "      <td>0.012423</td>\n",
       "      <td>0.007669</td>\n",
       "      <td>-0.008802</td>\n",
       "      <td>-0.006376</td>\n",
       "      <td>0.009833</td>\n",
       "      <td>-0.008537</td>\n",
       "      <td>-0.008332</td>\n",
       "      <td>0.007980</td>\n",
       "    </tr>\n",
       "    <tr>\n",
       "      <th>14</th>\n",
       "      <td>chr1</td>\n",
       "      <td>959339</td>\n",
       "      <td>C</td>\n",
       "      <td>T</td>\n",
       "      <td>1_959339_C_T</td>\n",
       "      <td>-0.001519</td>\n",
       "      <td>0.042955</td>\n",
       "      <td>0.016538</td>\n",
       "      <td>0.000735</td>\n",
       "      <td>0.000690</td>\n",
       "      <td>...</td>\n",
       "      <td>0.071807</td>\n",
       "      <td>chr1_959339_C_T</td>\n",
       "      <td>-0.021913</td>\n",
       "      <td>-0.015979</td>\n",
       "      <td>0.018475</td>\n",
       "      <td>0.018084</td>\n",
       "      <td>-0.019140</td>\n",
       "      <td>-0.016538</td>\n",
       "      <td>0.021064</td>\n",
       "      <td>-0.018353</td>\n",
       "    </tr>\n",
       "    <tr>\n",
       "      <th>16</th>\n",
       "      <td>chr1</td>\n",
       "      <td>960509</td>\n",
       "      <td>A</td>\n",
       "      <td>T</td>\n",
       "      <td>1_960509_A_T</td>\n",
       "      <td>0.019035</td>\n",
       "      <td>0.043295</td>\n",
       "      <td>0.017585</td>\n",
       "      <td>0.000681</td>\n",
       "      <td>0.000560</td>\n",
       "      <td>...</td>\n",
       "      <td>0.024701</td>\n",
       "      <td>chr1_960509_A_T</td>\n",
       "      <td>0.021601</td>\n",
       "      <td>0.016399</td>\n",
       "      <td>0.018414</td>\n",
       "      <td>0.015839</td>\n",
       "      <td>0.014366</td>\n",
       "      <td>0.017585</td>\n",
       "      <td>0.018586</td>\n",
       "      <td>0.013021</td>\n",
       "    </tr>\n",
       "    <tr>\n",
       "      <th>25</th>\n",
       "      <td>chr1</td>\n",
       "      <td>976038</td>\n",
       "      <td>A</td>\n",
       "      <td>C</td>\n",
       "      <td>1_976038_A_C</td>\n",
       "      <td>-0.002968</td>\n",
       "      <td>0.031418</td>\n",
       "      <td>0.012498</td>\n",
       "      <td>0.000420</td>\n",
       "      <td>0.000173</td>\n",
       "      <td>...</td>\n",
       "      <td>0.112788</td>\n",
       "      <td>chr1_976038_A_C</td>\n",
       "      <td>0.011073</td>\n",
       "      <td>0.011493</td>\n",
       "      <td>0.012195</td>\n",
       "      <td>0.011414</td>\n",
       "      <td>0.011089</td>\n",
       "      <td>-0.012498</td>\n",
       "      <td>0.014719</td>\n",
       "      <td>0.012412</td>\n",
       "    </tr>\n",
       "    <tr>\n",
       "      <th>27</th>\n",
       "      <td>chr1</td>\n",
       "      <td>976536</td>\n",
       "      <td>C</td>\n",
       "      <td>T</td>\n",
       "      <td>1_976536_C_T</td>\n",
       "      <td>0.036712</td>\n",
       "      <td>0.041889</td>\n",
       "      <td>0.012956</td>\n",
       "      <td>0.000660</td>\n",
       "      <td>0.000418</td>\n",
       "      <td>...</td>\n",
       "      <td>0.124874</td>\n",
       "      <td>chr1_976536_C_T</td>\n",
       "      <td>0.012069</td>\n",
       "      <td>0.012636</td>\n",
       "      <td>0.010555</td>\n",
       "      <td>0.011849</td>\n",
       "      <td>0.008071</td>\n",
       "      <td>0.012956</td>\n",
       "      <td>0.013633</td>\n",
       "      <td>0.011389</td>\n",
       "    </tr>\n",
       "  </tbody>\n",
       "</table>\n",
       "<p>5 rows × 86 columns</p>\n",
       "</div>"
      ],
      "text/plain": [
       "     chr     pos allele1 allele2          rsid  Esan.mean.logfc  \\\n",
       "1   chr1  866300       A       C  1_866300_A_C        -0.009280   \n",
       "14  chr1  959339       C       T  1_959339_C_T        -0.001519   \n",
       "16  chr1  960509       A       T  1_960509_A_T         0.019035   \n",
       "25  chr1  976038       A       C  1_976038_A_C        -0.002968   \n",
       "27  chr1  976536       C       T  1_976536_C_T         0.036712   \n",
       "\n",
       "    Esan.mean.abs_logfc  Esan.mean.jsd  Esan.mean.abs_logfc_x_jsd  \\\n",
       "1              0.022847       0.008537                   0.000175   \n",
       "14             0.042955       0.016538                   0.000735   \n",
       "16             0.043295       0.017585                   0.000681   \n",
       "25             0.031418       0.012498                   0.000420   \n",
       "27             0.041889       0.012956                   0.000660   \n",
       "\n",
       "    Esan.mean.abs_logfc_x_jsd_x_max_percentile  ...  abs_beta  \\\n",
       "1                                     0.000082  ...  0.006546   \n",
       "14                                    0.000690  ...  0.071807   \n",
       "16                                    0.000560  ...  0.024701   \n",
       "25                                    0.000173  ...  0.112788   \n",
       "27                                    0.000418  ...  0.124874   \n",
       "\n",
       "              rsid1  GM12878.ENCSR637XSC.mean.sign.jsd  Maasai.mean.sign.jsd  \\\n",
       "1   chr1_866300_A_C                           0.012423              0.007669   \n",
       "14  chr1_959339_C_T                          -0.021913             -0.015979   \n",
       "16  chr1_960509_A_T                           0.021601              0.016399   \n",
       "25  chr1_976038_A_C                           0.011073              0.011493   \n",
       "27  chr1_976536_C_T                           0.012069              0.012636   \n",
       "\n",
       "    Yoruba.mean.sign.jsd  Luhya.mean.sign.jsd  Gambian.mean.sign.jsd  \\\n",
       "1              -0.008802            -0.006376               0.009833   \n",
       "14              0.018475             0.018084              -0.019140   \n",
       "16              0.018414             0.015839               0.014366   \n",
       "25              0.012195             0.011414               0.011089   \n",
       "27              0.010555             0.011849               0.008071   \n",
       "\n",
       "    Esan.mean.sign.jsd  GM12878.ENCSR095QNB.mean.sign.jsd  Mende.mean.sign.jsd  \n",
       "1            -0.008537                          -0.008332             0.007980  \n",
       "14           -0.016538                           0.021064            -0.018353  \n",
       "16            0.017585                           0.018586             0.013021  \n",
       "25           -0.012498                           0.014719             0.012412  \n",
       "27            0.012956                           0.013633             0.011389  \n",
       "\n",
       "[5 rows x 86 columns]"
      ]
     },
     "execution_count": 36,
     "metadata": {},
     "output_type": "execute_result"
    }
   ],
   "source": [
    "allca.head()"
   ]
  },
  {
   "cell_type": "code",
   "execution_count": 37,
   "metadata": {},
   "outputs": [
    {
     "data": {
      "text/plain": [
       "(35547, 86)"
      ]
     },
     "execution_count": 37,
     "metadata": {},
     "output_type": "execute_result"
    }
   ],
   "source": [
    "allca.shape"
   ]
  },
  {
   "cell_type": "code",
   "execution_count": 33,
   "metadata": {},
   "outputs": [],
   "source": [
    "for outer_ancestry in ancestries:\n",
    "    print(outer_ancestry)\n",
    "    allca[outer_ancestry+'.mean.sign.jsd'] = allca[outer_ancestry+'.mean.jsd']*np.sign(allca[outer_ancestry+'.mean.logfc'])\n",
    "    allca.loc[allca[\"allele1\"] != allca[\"rsid\"].str.split('_').str[2],outer_ancestry+'.mean.sign.jsd'] = -1*allca[allca[\"allele1\"] != allca[\"rsid\"].str.split('_').str[2]][outer_ancestry+'.mean.sign.jsd']"
   ]
  },
  {
   "cell_type": "code",
   "execution_count": 38,
   "metadata": {},
   "outputs": [
    {
     "data": {
      "text/html": [
       "<div>\n",
       "<style scoped>\n",
       "    .dataframe tbody tr th:only-of-type {\n",
       "        vertical-align: middle;\n",
       "    }\n",
       "\n",
       "    .dataframe tbody tr th {\n",
       "        vertical-align: top;\n",
       "    }\n",
       "\n",
       "    .dataframe thead th {\n",
       "        text-align: right;\n",
       "    }\n",
       "</style>\n",
       "<table border=\"1\" class=\"dataframe\">\n",
       "  <thead>\n",
       "    <tr style=\"text-align: right;\">\n",
       "      <th></th>\n",
       "      <th>GM12878.ENCSR637XSC</th>\n",
       "      <th>Maasai</th>\n",
       "      <th>Yoruba</th>\n",
       "      <th>Luhya</th>\n",
       "      <th>Gambian</th>\n",
       "      <th>Esan</th>\n",
       "      <th>GM12878.ENCSR095QNB</th>\n",
       "      <th>Mende</th>\n",
       "    </tr>\n",
       "    <tr>\n",
       "      <th>ancestry</th>\n",
       "      <th></th>\n",
       "      <th></th>\n",
       "      <th></th>\n",
       "      <th></th>\n",
       "      <th></th>\n",
       "      <th></th>\n",
       "      <th></th>\n",
       "      <th></th>\n",
       "    </tr>\n",
       "  </thead>\n",
       "  <tbody>\n",
       "    <tr>\n",
       "      <th>GM12878.ENCSR637XSC</th>\n",
       "      <td>1.000000</td>\n",
       "      <td>0.911271</td>\n",
       "      <td>0.920471</td>\n",
       "      <td>0.925185</td>\n",
       "      <td>0.921426</td>\n",
       "      <td>0.920947</td>\n",
       "      <td>0.941677</td>\n",
       "      <td>0.914851</td>\n",
       "    </tr>\n",
       "    <tr>\n",
       "      <th>Maasai</th>\n",
       "      <td>0.911271</td>\n",
       "      <td>1.000000</td>\n",
       "      <td>0.954493</td>\n",
       "      <td>0.957497</td>\n",
       "      <td>0.954255</td>\n",
       "      <td>0.948734</td>\n",
       "      <td>0.913282</td>\n",
       "      <td>0.951579</td>\n",
       "    </tr>\n",
       "    <tr>\n",
       "      <th>Yoruba</th>\n",
       "      <td>0.920471</td>\n",
       "      <td>0.954493</td>\n",
       "      <td>1.000000</td>\n",
       "      <td>0.960244</td>\n",
       "      <td>0.957104</td>\n",
       "      <td>0.957161</td>\n",
       "      <td>0.921366</td>\n",
       "      <td>0.956367</td>\n",
       "    </tr>\n",
       "    <tr>\n",
       "      <th>Luhya</th>\n",
       "      <td>0.925185</td>\n",
       "      <td>0.957497</td>\n",
       "      <td>0.960244</td>\n",
       "      <td>1.000000</td>\n",
       "      <td>0.956365</td>\n",
       "      <td>0.955541</td>\n",
       "      <td>0.922344</td>\n",
       "      <td>0.954838</td>\n",
       "    </tr>\n",
       "    <tr>\n",
       "      <th>Gambian</th>\n",
       "      <td>0.921426</td>\n",
       "      <td>0.954255</td>\n",
       "      <td>0.957104</td>\n",
       "      <td>0.956365</td>\n",
       "      <td>1.000000</td>\n",
       "      <td>0.950060</td>\n",
       "      <td>0.928452</td>\n",
       "      <td>0.957745</td>\n",
       "    </tr>\n",
       "    <tr>\n",
       "      <th>Esan</th>\n",
       "      <td>0.920947</td>\n",
       "      <td>0.948734</td>\n",
       "      <td>0.957161</td>\n",
       "      <td>0.955541</td>\n",
       "      <td>0.950060</td>\n",
       "      <td>1.000000</td>\n",
       "      <td>0.920357</td>\n",
       "      <td>0.954099</td>\n",
       "    </tr>\n",
       "    <tr>\n",
       "      <th>GM12878.ENCSR095QNB</th>\n",
       "      <td>0.941677</td>\n",
       "      <td>0.913282</td>\n",
       "      <td>0.921366</td>\n",
       "      <td>0.922344</td>\n",
       "      <td>0.928452</td>\n",
       "      <td>0.920357</td>\n",
       "      <td>1.000000</td>\n",
       "      <td>0.921769</td>\n",
       "    </tr>\n",
       "    <tr>\n",
       "      <th>Mende</th>\n",
       "      <td>0.914851</td>\n",
       "      <td>0.951579</td>\n",
       "      <td>0.956367</td>\n",
       "      <td>0.954838</td>\n",
       "      <td>0.957745</td>\n",
       "      <td>0.954099</td>\n",
       "      <td>0.921769</td>\n",
       "      <td>1.000000</td>\n",
       "    </tr>\n",
       "  </tbody>\n",
       "</table>\n",
       "</div>"
      ],
      "text/plain": [
       "                     GM12878.ENCSR637XSC    Maasai    Yoruba     Luhya  \\\n",
       "ancestry                                                                 \n",
       "GM12878.ENCSR637XSC             1.000000  0.911271  0.920471  0.925185   \n",
       "Maasai                          0.911271  1.000000  0.954493  0.957497   \n",
       "Yoruba                          0.920471  0.954493  1.000000  0.960244   \n",
       "Luhya                           0.925185  0.957497  0.960244  1.000000   \n",
       "Gambian                         0.921426  0.954255  0.957104  0.956365   \n",
       "Esan                            0.920947  0.948734  0.957161  0.955541   \n",
       "GM12878.ENCSR095QNB             0.941677  0.913282  0.921366  0.922344   \n",
       "Mende                           0.914851  0.951579  0.956367  0.954838   \n",
       "\n",
       "                      Gambian      Esan  GM12878.ENCSR095QNB     Mende  \n",
       "ancestry                                                                \n",
       "GM12878.ENCSR637XSC  0.921426  0.920947             0.941677  0.914851  \n",
       "Maasai               0.954255  0.948734             0.913282  0.951579  \n",
       "Yoruba               0.957104  0.957161             0.921366  0.956367  \n",
       "Luhya                0.956365  0.955541             0.922344  0.954838  \n",
       "Gambian              1.000000  0.950060             0.928452  0.957745  \n",
       "Esan                 0.950060  1.000000             0.920357  0.954099  \n",
       "GM12878.ENCSR095QNB  0.928452  0.920357             1.000000  0.921769  \n",
       "Mende                0.957745  0.954099             0.921769  1.000000  "
      ]
     },
     "execution_count": 38,
     "metadata": {},
     "output_type": "execute_result"
    }
   ],
   "source": [
    "abs_logfc_dict = {x: [] for x in ancestries}\n",
    "abs_logfc_dict['ancestry'] = []\n",
    "\n",
    "for outer_ancestry in ancestries:\n",
    "    abs_logfc_dict['ancestry'].append(outer_ancestry)\n",
    "    for ancestry in ancestries:\n",
    "        abs_logfc_dict[ancestry].append(scipy.stats.pearsonr(abs(allca[outer_ancestry + '.mean.sign.jsd']),\n",
    "                                                 abs(allca[ancestry + '.mean.sign.jsd']))[0])\n",
    "        \n",
    "abs_logfc_df = pd.DataFrame(abs_logfc_dict)\n",
    "abs_logfc_df.set_index('ancestry', inplace=True)\n",
    "\n",
    "abs_logfc_df\n"
   ]
  },
  {
   "cell_type": "code",
   "execution_count": 44,
   "metadata": {},
   "outputs": [
    {
     "data": {
      "text/plain": [
       "Text(0.5, 1.05, 'Ancestry vs. Ancestry ChromBPNet Absolute LogFC Pearson Correlation')"
      ]
     },
     "execution_count": 44,
     "metadata": {},
     "output_type": "execute_result"
    },
    {
     "data": {
      "image/png": "[encoded data removed]",
      "text/plain": [
       "<Figure size 864x864 with 4 Axes>"
      ]
     },
     "metadata": {
      "needs_background": "light"
     },
     "output_type": "display_data"
    }
   ],
   "source": [
    "g = sns.clustermap(abs_logfc_df, annot=True, cmap=\"crest\")\n",
    "g.fig.set_figwidth(12)\n",
    "g.fig.set_figheight(12)\n",
    "g.fig.suptitle('Ancestry vs. Ancestry ChromBPNet Absolute LogFC Pearson Correlation', fontsize=18, y=1.05)"
   ]
  },
  {
   "cell_type": "code",
   "execution_count": 45,
   "metadata": {},
   "outputs": [
    {
     "data": {
      "text/html": [
       "<div>\n",
       "<style scoped>\n",
       "    .dataframe tbody tr th:only-of-type {\n",
       "        vertical-align: middle;\n",
       "    }\n",
       "\n",
       "    .dataframe tbody tr th {\n",
       "        vertical-align: top;\n",
       "    }\n",
       "\n",
       "    .dataframe thead th {\n",
       "        text-align: right;\n",
       "    }\n",
       "</style>\n",
       "<table border=\"1\" class=\"dataframe\">\n",
       "  <thead>\n",
       "    <tr style=\"text-align: right;\">\n",
       "      <th></th>\n",
       "      <th>GM12878.ENCSR637XSC</th>\n",
       "      <th>Maasai</th>\n",
       "      <th>Yoruba</th>\n",
       "      <th>Luhya</th>\n",
       "      <th>Gambian</th>\n",
       "      <th>Esan</th>\n",
       "      <th>GM12878.ENCSR095QNB</th>\n",
       "      <th>Mende</th>\n",
       "    </tr>\n",
       "    <tr>\n",
       "      <th>ancestry</th>\n",
       "      <th></th>\n",
       "      <th></th>\n",
       "      <th></th>\n",
       "      <th></th>\n",
       "      <th></th>\n",
       "      <th></th>\n",
       "      <th></th>\n",
       "      <th></th>\n",
       "    </tr>\n",
       "  </thead>\n",
       "  <tbody>\n",
       "    <tr>\n",
       "      <th>GM12878.ENCSR637XSC</th>\n",
       "      <td>1.000000</td>\n",
       "      <td>0.725571</td>\n",
       "      <td>0.730734</td>\n",
       "      <td>0.735344</td>\n",
       "      <td>0.747349</td>\n",
       "      <td>0.740282</td>\n",
       "      <td>0.752435</td>\n",
       "      <td>0.733996</td>\n",
       "    </tr>\n",
       "    <tr>\n",
       "      <th>Maasai</th>\n",
       "      <td>0.725571</td>\n",
       "      <td>1.000000</td>\n",
       "      <td>0.796325</td>\n",
       "      <td>0.809070</td>\n",
       "      <td>0.816647</td>\n",
       "      <td>0.806274</td>\n",
       "      <td>0.735885</td>\n",
       "      <td>0.813943</td>\n",
       "    </tr>\n",
       "    <tr>\n",
       "      <th>Yoruba</th>\n",
       "      <td>0.730734</td>\n",
       "      <td>0.796325</td>\n",
       "      <td>1.000000</td>\n",
       "      <td>0.806265</td>\n",
       "      <td>0.808546</td>\n",
       "      <td>0.800769</td>\n",
       "      <td>0.740764</td>\n",
       "      <td>0.806431</td>\n",
       "    </tr>\n",
       "    <tr>\n",
       "      <th>Luhya</th>\n",
       "      <td>0.735344</td>\n",
       "      <td>0.809070</td>\n",
       "      <td>0.806265</td>\n",
       "      <td>1.000000</td>\n",
       "      <td>0.814617</td>\n",
       "      <td>0.808537</td>\n",
       "      <td>0.744509</td>\n",
       "      <td>0.811847</td>\n",
       "    </tr>\n",
       "    <tr>\n",
       "      <th>Gambian</th>\n",
       "      <td>0.747349</td>\n",
       "      <td>0.816647</td>\n",
       "      <td>0.808546</td>\n",
       "      <td>0.814617</td>\n",
       "      <td>1.000000</td>\n",
       "      <td>0.818919</td>\n",
       "      <td>0.755806</td>\n",
       "      <td>0.825278</td>\n",
       "    </tr>\n",
       "    <tr>\n",
       "      <th>Esan</th>\n",
       "      <td>0.740282</td>\n",
       "      <td>0.806274</td>\n",
       "      <td>0.800769</td>\n",
       "      <td>0.808537</td>\n",
       "      <td>0.818919</td>\n",
       "      <td>1.000000</td>\n",
       "      <td>0.742561</td>\n",
       "      <td>0.815894</td>\n",
       "    </tr>\n",
       "    <tr>\n",
       "      <th>GM12878.ENCSR095QNB</th>\n",
       "      <td>0.752435</td>\n",
       "      <td>0.735885</td>\n",
       "      <td>0.740764</td>\n",
       "      <td>0.744509</td>\n",
       "      <td>0.755806</td>\n",
       "      <td>0.742561</td>\n",
       "      <td>1.000000</td>\n",
       "      <td>0.751026</td>\n",
       "    </tr>\n",
       "    <tr>\n",
       "      <th>Mende</th>\n",
       "      <td>0.733996</td>\n",
       "      <td>0.813943</td>\n",
       "      <td>0.806431</td>\n",
       "      <td>0.811847</td>\n",
       "      <td>0.825278</td>\n",
       "      <td>0.815894</td>\n",
       "      <td>0.751026</td>\n",
       "      <td>1.000000</td>\n",
       "    </tr>\n",
       "  </tbody>\n",
       "</table>\n",
       "</div>"
      ],
      "text/plain": [
       "                     GM12878.ENCSR637XSC    Maasai    Yoruba     Luhya  \\\n",
       "ancestry                                                                 \n",
       "GM12878.ENCSR637XSC             1.000000  0.725571  0.730734  0.735344   \n",
       "Maasai                          0.725571  1.000000  0.796325  0.809070   \n",
       "Yoruba                          0.730734  0.796325  1.000000  0.806265   \n",
       "Luhya                           0.735344  0.809070  0.806265  1.000000   \n",
       "Gambian                         0.747349  0.816647  0.808546  0.814617   \n",
       "Esan                            0.740282  0.806274  0.800769  0.808537   \n",
       "GM12878.ENCSR095QNB             0.752435  0.735885  0.740764  0.744509   \n",
       "Mende                           0.733996  0.813943  0.806431  0.811847   \n",
       "\n",
       "                      Gambian      Esan  GM12878.ENCSR095QNB     Mende  \n",
       "ancestry                                                                \n",
       "GM12878.ENCSR637XSC  0.747349  0.740282             0.752435  0.733996  \n",
       "Maasai               0.816647  0.806274             0.735885  0.813943  \n",
       "Yoruba               0.808546  0.800769             0.740764  0.806431  \n",
       "Luhya                0.814617  0.808537             0.744509  0.811847  \n",
       "Gambian              1.000000  0.818919             0.755806  0.825278  \n",
       "Esan                 0.818919  1.000000             0.742561  0.815894  \n",
       "GM12878.ENCSR095QNB  0.755806  0.742561             1.000000  0.751026  \n",
       "Mende                0.825278  0.815894             0.751026  1.000000  "
      ]
     },
     "execution_count": 45,
     "metadata": {},
     "output_type": "execute_result"
    }
   ],
   "source": [
    "abs_logfc_dict = {x: [] for x in ancestries}\n",
    "abs_logfc_dict['ancestry'] = []\n",
    "\n",
    "for outer_ancestry in ancestries:\n",
    "    abs_logfc_dict['ancestry'].append(outer_ancestry)\n",
    "    for ancestry in ancestries:\n",
    "        abs_logfc_dict[ancestry].append(scipy.stats.pearsonr(allca[outer_ancestry + '.mean.sign.jsd'],\n",
    "                                                 allca[ancestry + '.mean.sign.jsd'])[0])\n",
    "        \n",
    "abs_logfc_df = pd.DataFrame(abs_logfc_dict)\n",
    "abs_logfc_df.set_index('ancestry', inplace=True)\n",
    "\n",
    "abs_logfc_df\n"
   ]
  },
  {
   "cell_type": "code",
   "execution_count": 46,
   "metadata": {},
   "outputs": [
    {
     "data": {
      "text/plain": [
       "Text(0.5, 1.05, 'Ancestry vs. Ancestry ChromBPNet Effect Size Pearson Correlation')"
      ]
     },
     "execution_count": 46,
     "metadata": {},
     "output_type": "execute_result"
    },
    {
     "data": {
      "image/png": "[encoded data removed]",
      "text/plain": [
       "<Figure size 864x864 with 4 Axes>"
      ]
     },
     "metadata": {
      "needs_background": "light"
     },
     "output_type": "display_data"
    }
   ],
   "source": [
    "g = sns.clustermap(abs_logfc_df, annot=True, cmap=\"crest\")\n",
    "g.fig.set_figwidth(12)\n",
    "g.fig.set_figheight(12)\n",
    "g.fig.suptitle('Ancestry vs. Ancestry ChromBPNet Effect Size Pearson Correlation', fontsize=18, y=1.05)"
   ]
  },
  {
   "cell_type": "code",
   "execution_count": null,
   "metadata": {},
   "outputs": [],
   "source": []
  }
 ],
 "metadata": {
  "kernelspec": {
   "display_name": "Python 3",
   "language": "python",
   "name": "python3"
  },
  "language_info": {
   "codemirror_mode": {
    "name": "ipython",
    "version": 3
   },
   "file_extension": ".py",
   "mimetype": "text/x-python",
   "name": "python",
   "nbconvert_exporter": "python",
   "pygments_lexer": "ipython3",
   "version": "3.7.6"
  }
 },
 "nbformat": 4,
 "nbformat_minor": 4
}
