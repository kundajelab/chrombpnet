{
 "cells": [
  {
   "cell_type": "code",
   "execution_count": 1,
   "metadata": {},
   "outputs": [],
   "source": [
    "import pandas as pd"
   ]
  },
  {
   "cell_type": "code",
   "execution_count": 2,
   "metadata": {},
   "outputs": [],
   "source": [
    "temp = pd.read_csv(\"/oak/stanford/groups/akundaje/projects/african_omics/outs/10_15_2022_per_ancestry_scores/tables/sig_caqtls.scores.tsv\", sep=\"\\t\")\n",
    "\n",
    "\n"
   ]
  },
  {
   "cell_type": "code",
   "execution_count": 3,
   "metadata": {},
   "outputs": [
    {
     "data": {
      "text/html": [
       "<div>\n",
       "<style scoped>\n",
       "    .dataframe tbody tr th:only-of-type {\n",
       "        vertical-align: middle;\n",
       "    }\n",
       "\n",
       "    .dataframe tbody tr th {\n",
       "        vertical-align: top;\n",
       "    }\n",
       "\n",
       "    .dataframe thead th {\n",
       "        text-align: right;\n",
       "    }\n",
       "</style>\n",
       "<table border=\"1\" class=\"dataframe\">\n",
       "  <thead>\n",
       "    <tr style=\"text-align: right;\">\n",
       "      <th></th>\n",
       "      <th>chr</th>\n",
       "      <th>pos</th>\n",
       "      <th>allele1</th>\n",
       "      <th>allele2</th>\n",
       "      <th>rsid</th>\n",
       "      <th>Esan.mean.logfc</th>\n",
       "      <th>Esan.mean.abs_logfc</th>\n",
       "      <th>Esan.mean.jsd</th>\n",
       "      <th>Esan.mean.abs_logfc_x_jsd</th>\n",
       "      <th>Esan.mean.abs_logfc_x_jsd_x_max_percentile</th>\n",
       "      <th>...</th>\n",
       "      <th>afr.mean.jsd.pval</th>\n",
       "      <th>eur.mean.abs_logfc.pval</th>\n",
       "      <th>eur.mean.jsd.pval</th>\n",
       "      <th>region</th>\n",
       "      <th>snp</th>\n",
       "      <th>distance</th>\n",
       "      <th>pval</th>\n",
       "      <th>beta</th>\n",
       "      <th>se</th>\n",
       "      <th>abs_beta</th>\n",
       "    </tr>\n",
       "  </thead>\n",
       "  <tbody>\n",
       "    <tr>\n",
       "      <th>0</th>\n",
       "      <td>chr1</td>\n",
       "      <td>906982</td>\n",
       "      <td>C</td>\n",
       "      <td>T</td>\n",
       "      <td>1_906982_C_T</td>\n",
       "      <td>-0.154969</td>\n",
       "      <td>0.154969</td>\n",
       "      <td>0.013386</td>\n",
       "      <td>0.002378</td>\n",
       "      <td>0.000782</td>\n",
       "      <td>...</td>\n",
       "      <td>0.283322</td>\n",
       "      <td>0.019017</td>\n",
       "      <td>0.102896</td>\n",
       "      <td>1:906596:907043</td>\n",
       "      <td>1_906982_C_T</td>\n",
       "      <td>385</td>\n",
       "      <td>4.802840e-06</td>\n",
       "      <td>-0.520262</td>\n",
       "      <td>0.106740</td>\n",
       "      <td>0.520262</td>\n",
       "    </tr>\n",
       "    <tr>\n",
       "      <th>1</th>\n",
       "      <td>chr1</td>\n",
       "      <td>921203</td>\n",
       "      <td>G</td>\n",
       "      <td>A</td>\n",
       "      <td>1_921203_G_A</td>\n",
       "      <td>0.459098</td>\n",
       "      <td>0.459098</td>\n",
       "      <td>0.084942</td>\n",
       "      <td>0.044398</td>\n",
       "      <td>0.013597</td>\n",
       "      <td>...</td>\n",
       "      <td>0.002686</td>\n",
       "      <td>0.001354</td>\n",
       "      <td>0.001950</td>\n",
       "      <td>1:921132:921332</td>\n",
       "      <td>1_921203_G_A</td>\n",
       "      <td>70</td>\n",
       "      <td>6.892040e-06</td>\n",
       "      <td>0.905971</td>\n",
       "      <td>0.189412</td>\n",
       "      <td>0.905971</td>\n",
       "    </tr>\n",
       "    <tr>\n",
       "      <th>2</th>\n",
       "      <td>chr1</td>\n",
       "      <td>976215</td>\n",
       "      <td>A</td>\n",
       "      <td>G</td>\n",
       "      <td>1_976215_A_G</td>\n",
       "      <td>0.148617</td>\n",
       "      <td>0.186169</td>\n",
       "      <td>0.029973</td>\n",
       "      <td>0.005416</td>\n",
       "      <td>0.003405</td>\n",
       "      <td>...</td>\n",
       "      <td>0.019607</td>\n",
       "      <td>0.048772</td>\n",
       "      <td>0.015193</td>\n",
       "      <td>1:975872:976361</td>\n",
       "      <td>1_976215_A_G</td>\n",
       "      <td>342</td>\n",
       "      <td>2.622420e-11</td>\n",
       "      <td>-0.615266</td>\n",
       "      <td>0.080637</td>\n",
       "      <td>0.615266</td>\n",
       "    </tr>\n",
       "    <tr>\n",
       "      <th>3</th>\n",
       "      <td>chr1</td>\n",
       "      <td>1038800</td>\n",
       "      <td>T</td>\n",
       "      <td>G</td>\n",
       "      <td>1_1038800_G_T</td>\n",
       "      <td>0.013834</td>\n",
       "      <td>0.078046</td>\n",
       "      <td>0.014067</td>\n",
       "      <td>0.001314</td>\n",
       "      <td>0.000522</td>\n",
       "      <td>...</td>\n",
       "      <td>0.212956</td>\n",
       "      <td>0.603360</td>\n",
       "      <td>0.309351</td>\n",
       "      <td>1:1038791:1039035</td>\n",
       "      <td>1_1038800_G_T</td>\n",
       "      <td>8</td>\n",
       "      <td>1.169820e-11</td>\n",
       "      <td>0.700579</td>\n",
       "      <td>0.089787</td>\n",
       "      <td>0.700579</td>\n",
       "    </tr>\n",
       "    <tr>\n",
       "      <th>4</th>\n",
       "      <td>chr1</td>\n",
       "      <td>1038819</td>\n",
       "      <td>T</td>\n",
       "      <td>C</td>\n",
       "      <td>1_1038819_C_T</td>\n",
       "      <td>0.139453</td>\n",
       "      <td>0.139453</td>\n",
       "      <td>0.021787</td>\n",
       "      <td>0.003160</td>\n",
       "      <td>0.001386</td>\n",
       "      <td>...</td>\n",
       "      <td>0.081884</td>\n",
       "      <td>0.053131</td>\n",
       "      <td>0.128314</td>\n",
       "      <td>1:1038791:1039035</td>\n",
       "      <td>1_1038819_C_T</td>\n",
       "      <td>27</td>\n",
       "      <td>1.169820e-11</td>\n",
       "      <td>0.700579</td>\n",
       "      <td>0.089787</td>\n",
       "      <td>0.700579</td>\n",
       "    </tr>\n",
       "  </tbody>\n",
       "</table>\n",
       "<p>5 rows × 77 columns</p>\n",
       "</div>"
      ],
      "text/plain": [
       "    chr      pos allele1 allele2           rsid  Esan.mean.logfc  \\\n",
       "0  chr1   906982       C       T   1_906982_C_T        -0.154969   \n",
       "1  chr1   921203       G       A   1_921203_G_A         0.459098   \n",
       "2  chr1   976215       A       G   1_976215_A_G         0.148617   \n",
       "3  chr1  1038800       T       G  1_1038800_G_T         0.013834   \n",
       "4  chr1  1038819       T       C  1_1038819_C_T         0.139453   \n",
       "\n",
       "   Esan.mean.abs_logfc  Esan.mean.jsd  Esan.mean.abs_logfc_x_jsd  \\\n",
       "0             0.154969       0.013386                   0.002378   \n",
       "1             0.459098       0.084942                   0.044398   \n",
       "2             0.186169       0.029973                   0.005416   \n",
       "3             0.078046       0.014067                   0.001314   \n",
       "4             0.139453       0.021787                   0.003160   \n",
       "\n",
       "   Esan.mean.abs_logfc_x_jsd_x_max_percentile  ...  afr.mean.jsd.pval  \\\n",
       "0                                    0.000782  ...           0.283322   \n",
       "1                                    0.013597  ...           0.002686   \n",
       "2                                    0.003405  ...           0.019607   \n",
       "3                                    0.000522  ...           0.212956   \n",
       "4                                    0.001386  ...           0.081884   \n",
       "\n",
       "   eur.mean.abs_logfc.pval  eur.mean.jsd.pval             region  \\\n",
       "0                 0.019017           0.102896    1:906596:907043   \n",
       "1                 0.001354           0.001950    1:921132:921332   \n",
       "2                 0.048772           0.015193    1:975872:976361   \n",
       "3                 0.603360           0.309351  1:1038791:1039035   \n",
       "4                 0.053131           0.128314  1:1038791:1039035   \n",
       "\n",
       "             snp  distance          pval      beta        se  abs_beta  \n",
       "0   1_906982_C_T       385  4.802840e-06 -0.520262  0.106740  0.520262  \n",
       "1   1_921203_G_A        70  6.892040e-06  0.905971  0.189412  0.905971  \n",
       "2   1_976215_A_G       342  2.622420e-11 -0.615266  0.080637  0.615266  \n",
       "3  1_1038800_G_T         8  1.169820e-11  0.700579  0.089787  0.700579  \n",
       "4  1_1038819_C_T        27  1.169820e-11  0.700579  0.089787  0.700579  \n",
       "\n",
       "[5 rows x 77 columns]"
      ]
     },
     "execution_count": 3,
     "metadata": {},
     "output_type": "execute_result"
    }
   ],
   "source": [
    "temp.head()"
   ]
  },
  {
   "cell_type": "code",
   "execution_count": 5,
   "metadata": {},
   "outputs": [
    {
     "data": {
      "text/plain": [
       "(11098, 77)"
      ]
     },
     "execution_count": 5,
     "metadata": {},
     "output_type": "execute_result"
    }
   ],
   "source": [
    "temp.shape"
   ]
  },
  {
   "cell_type": "code",
   "execution_count": 6,
   "metadata": {},
   "outputs": [],
   "source": [
    "data = pd.read_csv(\"/oak/stanford/groups/akundaje/projects/african_omics/outs/10_15_2022_per_ancestry_scores/tables/all_caqtls.scores.tsv\", sep=\"\\t\")\n"
   ]
  },
  {
   "cell_type": "code",
   "execution_count": 8,
   "metadata": {},
   "outputs": [
    {
     "data": {
      "text/plain": [
       "(219382, 77)"
      ]
     },
     "execution_count": 8,
     "metadata": {},
     "output_type": "execute_result"
    }
   ],
   "source": [
    "data.shape"
   ]
  },
  {
   "cell_type": "code",
   "execution_count": 9,
   "metadata": {},
   "outputs": [
    {
     "data": {
      "text/html": [
       "<div>\n",
       "<style scoped>\n",
       "    .dataframe tbody tr th:only-of-type {\n",
       "        vertical-align: middle;\n",
       "    }\n",
       "\n",
       "    .dataframe tbody tr th {\n",
       "        vertical-align: top;\n",
       "    }\n",
       "\n",
       "    .dataframe thead th {\n",
       "        text-align: right;\n",
       "    }\n",
       "</style>\n",
       "<table border=\"1\" class=\"dataframe\">\n",
       "  <thead>\n",
       "    <tr style=\"text-align: right;\">\n",
       "      <th></th>\n",
       "      <th>chr</th>\n",
       "      <th>pos</th>\n",
       "      <th>allele1</th>\n",
       "      <th>allele2</th>\n",
       "      <th>rsid</th>\n",
       "      <th>Esan.mean.logfc</th>\n",
       "      <th>Esan.mean.abs_logfc</th>\n",
       "      <th>Esan.mean.jsd</th>\n",
       "      <th>Esan.mean.abs_logfc_x_jsd</th>\n",
       "      <th>Esan.mean.abs_logfc_x_jsd_x_max_percentile</th>\n",
       "      <th>...</th>\n",
       "      <th>afr.mean.jsd.pval</th>\n",
       "      <th>eur.mean.abs_logfc.pval</th>\n",
       "      <th>eur.mean.jsd.pval</th>\n",
       "      <th>region</th>\n",
       "      <th>snp</th>\n",
       "      <th>distance</th>\n",
       "      <th>pval</th>\n",
       "      <th>beta</th>\n",
       "      <th>se</th>\n",
       "      <th>abs_beta</th>\n",
       "    </tr>\n",
       "  </thead>\n",
       "  <tbody>\n",
       "    <tr>\n",
       "      <th>0</th>\n",
       "      <td>chr1</td>\n",
       "      <td>866281</td>\n",
       "      <td>C</td>\n",
       "      <td>T</td>\n",
       "      <td>1_866281_C_T</td>\n",
       "      <td>-0.017276</td>\n",
       "      <td>0.035986</td>\n",
       "      <td>0.010862</td>\n",
       "      <td>0.000482</td>\n",
       "      <td>0.000195</td>\n",
       "      <td>...</td>\n",
       "      <td>0.649093</td>\n",
       "      <td>0.519612</td>\n",
       "      <td>0.686427</td>\n",
       "      <td>1:866099:866351</td>\n",
       "      <td>1_866281_C_T</td>\n",
       "      <td>181</td>\n",
       "      <td>0.974280</td>\n",
       "      <td>0.006546</td>\n",
       "      <td>0.202449</td>\n",
       "      <td>0.006546</td>\n",
       "    </tr>\n",
       "    <tr>\n",
       "      <th>1</th>\n",
       "      <td>chr1</td>\n",
       "      <td>866300</td>\n",
       "      <td>A</td>\n",
       "      <td>C</td>\n",
       "      <td>1_866300_A_C</td>\n",
       "      <td>-0.009280</td>\n",
       "      <td>0.022847</td>\n",
       "      <td>0.008537</td>\n",
       "      <td>0.000175</td>\n",
       "      <td>0.000082</td>\n",
       "      <td>...</td>\n",
       "      <td>0.800424</td>\n",
       "      <td>0.441420</td>\n",
       "      <td>0.636851</td>\n",
       "      <td>1:866099:866351</td>\n",
       "      <td>1_866300_A_C</td>\n",
       "      <td>200</td>\n",
       "      <td>0.974280</td>\n",
       "      <td>0.006546</td>\n",
       "      <td>0.202449</td>\n",
       "      <td>0.006546</td>\n",
       "    </tr>\n",
       "    <tr>\n",
       "      <th>2</th>\n",
       "      <td>chr1</td>\n",
       "      <td>870176</td>\n",
       "      <td>T</td>\n",
       "      <td>A</td>\n",
       "      <td>1_870176_T_A</td>\n",
       "      <td>0.007269</td>\n",
       "      <td>0.019045</td>\n",
       "      <td>0.013279</td>\n",
       "      <td>0.000265</td>\n",
       "      <td>0.000193</td>\n",
       "      <td>...</td>\n",
       "      <td>0.331473</td>\n",
       "      <td>0.251585</td>\n",
       "      <td>0.294618</td>\n",
       "      <td>1:869800:870282</td>\n",
       "      <td>1_870176_T_A</td>\n",
       "      <td>375</td>\n",
       "      <td>0.071532</td>\n",
       "      <td>-0.250142</td>\n",
       "      <td>0.137133</td>\n",
       "      <td>0.250142</td>\n",
       "    </tr>\n",
       "    <tr>\n",
       "      <th>3</th>\n",
       "      <td>chr1</td>\n",
       "      <td>904947</td>\n",
       "      <td>G</td>\n",
       "      <td>A</td>\n",
       "      <td>1_904947_G_A</td>\n",
       "      <td>-0.027669</td>\n",
       "      <td>0.027669</td>\n",
       "      <td>0.010101</td>\n",
       "      <td>0.000265</td>\n",
       "      <td>0.000234</td>\n",
       "      <td>...</td>\n",
       "      <td>0.500773</td>\n",
       "      <td>0.799295</td>\n",
       "      <td>0.513734</td>\n",
       "      <td>1:904938:905544</td>\n",
       "      <td>1_904947_G_A</td>\n",
       "      <td>8</td>\n",
       "      <td>0.290840</td>\n",
       "      <td>0.174397</td>\n",
       "      <td>0.164112</td>\n",
       "      <td>0.174397</td>\n",
       "    </tr>\n",
       "    <tr>\n",
       "      <th>4</th>\n",
       "      <td>chr1</td>\n",
       "      <td>905373</td>\n",
       "      <td>C</td>\n",
       "      <td>T</td>\n",
       "      <td>1_905373_T_C</td>\n",
       "      <td>-0.132262</td>\n",
       "      <td>0.132262</td>\n",
       "      <td>0.014543</td>\n",
       "      <td>0.001979</td>\n",
       "      <td>0.001549</td>\n",
       "      <td>...</td>\n",
       "      <td>0.187633</td>\n",
       "      <td>0.100221</td>\n",
       "      <td>0.095542</td>\n",
       "      <td>1:904938:905544</td>\n",
       "      <td>1_905373_T_C</td>\n",
       "      <td>434</td>\n",
       "      <td>0.188152</td>\n",
       "      <td>-0.130176</td>\n",
       "      <td>0.098145</td>\n",
       "      <td>0.130176</td>\n",
       "    </tr>\n",
       "  </tbody>\n",
       "</table>\n",
       "<p>5 rows × 77 columns</p>\n",
       "</div>"
      ],
      "text/plain": [
       "    chr     pos allele1 allele2          rsid  Esan.mean.logfc  \\\n",
       "0  chr1  866281       C       T  1_866281_C_T        -0.017276   \n",
       "1  chr1  866300       A       C  1_866300_A_C        -0.009280   \n",
       "2  chr1  870176       T       A  1_870176_T_A         0.007269   \n",
       "3  chr1  904947       G       A  1_904947_G_A        -0.027669   \n",
       "4  chr1  905373       C       T  1_905373_T_C        -0.132262   \n",
       "\n",
       "   Esan.mean.abs_logfc  Esan.mean.jsd  Esan.mean.abs_logfc_x_jsd  \\\n",
       "0             0.035986       0.010862                   0.000482   \n",
       "1             0.022847       0.008537                   0.000175   \n",
       "2             0.019045       0.013279                   0.000265   \n",
       "3             0.027669       0.010101                   0.000265   \n",
       "4             0.132262       0.014543                   0.001979   \n",
       "\n",
       "   Esan.mean.abs_logfc_x_jsd_x_max_percentile  ...  afr.mean.jsd.pval  \\\n",
       "0                                    0.000195  ...           0.649093   \n",
       "1                                    0.000082  ...           0.800424   \n",
       "2                                    0.000193  ...           0.331473   \n",
       "3                                    0.000234  ...           0.500773   \n",
       "4                                    0.001549  ...           0.187633   \n",
       "\n",
       "   eur.mean.abs_logfc.pval  eur.mean.jsd.pval           region           snp  \\\n",
       "0                 0.519612           0.686427  1:866099:866351  1_866281_C_T   \n",
       "1                 0.441420           0.636851  1:866099:866351  1_866300_A_C   \n",
       "2                 0.251585           0.294618  1:869800:870282  1_870176_T_A   \n",
       "3                 0.799295           0.513734  1:904938:905544  1_904947_G_A   \n",
       "4                 0.100221           0.095542  1:904938:905544  1_905373_T_C   \n",
       "\n",
       "   distance      pval      beta        se  abs_beta  \n",
       "0       181  0.974280  0.006546  0.202449  0.006546  \n",
       "1       200  0.974280  0.006546  0.202449  0.006546  \n",
       "2       375  0.071532 -0.250142  0.137133  0.250142  \n",
       "3         8  0.290840  0.174397  0.164112  0.174397  \n",
       "4       434  0.188152 -0.130176  0.098145  0.130176  \n",
       "\n",
       "[5 rows x 77 columns]"
      ]
     },
     "execution_count": 9,
     "metadata": {},
     "output_type": "execute_result"
    }
   ],
   "source": [
    "data.head()"
   ]
  },
  {
   "cell_type": "code",
   "execution_count": 63,
   "metadata": {},
   "outputs": [
    {
     "data": {
      "text/html": [
       "<div>\n",
       "<style scoped>\n",
       "    .dataframe tbody tr th:only-of-type {\n",
       "        vertical-align: middle;\n",
       "    }\n",
       "\n",
       "    .dataframe tbody tr th {\n",
       "        vertical-align: top;\n",
       "    }\n",
       "\n",
       "    .dataframe thead th {\n",
       "        text-align: right;\n",
       "    }\n",
       "</style>\n",
       "<table border=\"1\" class=\"dataframe\">\n",
       "  <thead>\n",
       "    <tr style=\"text-align: right;\">\n",
       "      <th></th>\n",
       "      <th>chr</th>\n",
       "      <th>pos</th>\n",
       "      <th>allele1</th>\n",
       "      <th>allele2</th>\n",
       "      <th>rsid</th>\n",
       "      <th>Esan.mean.logfc</th>\n",
       "      <th>Esan.mean.abs_logfc</th>\n",
       "      <th>Esan.mean.jsd</th>\n",
       "      <th>Esan.mean.abs_logfc_x_jsd</th>\n",
       "      <th>Esan.mean.abs_logfc_x_jsd_x_max_percentile</th>\n",
       "      <th>...</th>\n",
       "      <th>afr.mean.jsd.pval</th>\n",
       "      <th>eur.mean.abs_logfc.pval</th>\n",
       "      <th>eur.mean.jsd.pval</th>\n",
       "      <th>region</th>\n",
       "      <th>snp</th>\n",
       "      <th>distance</th>\n",
       "      <th>pval</th>\n",
       "      <th>beta</th>\n",
       "      <th>se</th>\n",
       "      <th>abs_beta</th>\n",
       "    </tr>\n",
       "  </thead>\n",
       "  <tbody>\n",
       "    <tr>\n",
       "      <th>0</th>\n",
       "      <td>chr1</td>\n",
       "      <td>866281</td>\n",
       "      <td>C</td>\n",
       "      <td>T</td>\n",
       "      <td>chr1_866281_C_T</td>\n",
       "      <td>-0.017276</td>\n",
       "      <td>0.035986</td>\n",
       "      <td>0.010862</td>\n",
       "      <td>0.000482</td>\n",
       "      <td>0.000195</td>\n",
       "      <td>...</td>\n",
       "      <td>0.649093</td>\n",
       "      <td>0.519612</td>\n",
       "      <td>0.686427</td>\n",
       "      <td>1:866099:866351</td>\n",
       "      <td>1_866281_C_T</td>\n",
       "      <td>181</td>\n",
       "      <td>0.974280</td>\n",
       "      <td>0.006546</td>\n",
       "      <td>0.202449</td>\n",
       "      <td>0.006546</td>\n",
       "    </tr>\n",
       "    <tr>\n",
       "      <th>1</th>\n",
       "      <td>chr1</td>\n",
       "      <td>866300</td>\n",
       "      <td>A</td>\n",
       "      <td>C</td>\n",
       "      <td>chr1_866300_A_C</td>\n",
       "      <td>-0.009280</td>\n",
       "      <td>0.022847</td>\n",
       "      <td>0.008537</td>\n",
       "      <td>0.000175</td>\n",
       "      <td>0.000082</td>\n",
       "      <td>...</td>\n",
       "      <td>0.800424</td>\n",
       "      <td>0.441420</td>\n",
       "      <td>0.636851</td>\n",
       "      <td>1:866099:866351</td>\n",
       "      <td>1_866300_A_C</td>\n",
       "      <td>200</td>\n",
       "      <td>0.974280</td>\n",
       "      <td>0.006546</td>\n",
       "      <td>0.202449</td>\n",
       "      <td>0.006546</td>\n",
       "    </tr>\n",
       "    <tr>\n",
       "      <th>2</th>\n",
       "      <td>chr1</td>\n",
       "      <td>870176</td>\n",
       "      <td>T</td>\n",
       "      <td>A</td>\n",
       "      <td>chr1_870176_T_A</td>\n",
       "      <td>0.007269</td>\n",
       "      <td>0.019045</td>\n",
       "      <td>0.013279</td>\n",
       "      <td>0.000265</td>\n",
       "      <td>0.000193</td>\n",
       "      <td>...</td>\n",
       "      <td>0.331473</td>\n",
       "      <td>0.251585</td>\n",
       "      <td>0.294618</td>\n",
       "      <td>1:869800:870282</td>\n",
       "      <td>1_870176_T_A</td>\n",
       "      <td>375</td>\n",
       "      <td>0.071532</td>\n",
       "      <td>-0.250142</td>\n",
       "      <td>0.137133</td>\n",
       "      <td>0.250142</td>\n",
       "    </tr>\n",
       "    <tr>\n",
       "      <th>3</th>\n",
       "      <td>chr1</td>\n",
       "      <td>904947</td>\n",
       "      <td>G</td>\n",
       "      <td>A</td>\n",
       "      <td>chr1_904947_G_A</td>\n",
       "      <td>-0.027669</td>\n",
       "      <td>0.027669</td>\n",
       "      <td>0.010101</td>\n",
       "      <td>0.000265</td>\n",
       "      <td>0.000234</td>\n",
       "      <td>...</td>\n",
       "      <td>0.500773</td>\n",
       "      <td>0.799295</td>\n",
       "      <td>0.513734</td>\n",
       "      <td>1:904938:905544</td>\n",
       "      <td>1_904947_G_A</td>\n",
       "      <td>8</td>\n",
       "      <td>0.290840</td>\n",
       "      <td>0.174397</td>\n",
       "      <td>0.164112</td>\n",
       "      <td>0.174397</td>\n",
       "    </tr>\n",
       "    <tr>\n",
       "      <th>4</th>\n",
       "      <td>chr1</td>\n",
       "      <td>905373</td>\n",
       "      <td>C</td>\n",
       "      <td>T</td>\n",
       "      <td>chr1_905373_T_C</td>\n",
       "      <td>-0.132262</td>\n",
       "      <td>0.132262</td>\n",
       "      <td>0.014543</td>\n",
       "      <td>0.001979</td>\n",
       "      <td>0.001549</td>\n",
       "      <td>...</td>\n",
       "      <td>0.187633</td>\n",
       "      <td>0.100221</td>\n",
       "      <td>0.095542</td>\n",
       "      <td>1:904938:905544</td>\n",
       "      <td>1_905373_T_C</td>\n",
       "      <td>434</td>\n",
       "      <td>0.188152</td>\n",
       "      <td>-0.130176</td>\n",
       "      <td>0.098145</td>\n",
       "      <td>0.130176</td>\n",
       "    </tr>\n",
       "  </tbody>\n",
       "</table>\n",
       "<p>5 rows × 77 columns</p>\n",
       "</div>"
      ],
      "text/plain": [
       "    chr     pos allele1 allele2             rsid  Esan.mean.logfc  \\\n",
       "0  chr1  866281       C       T  chr1_866281_C_T        -0.017276   \n",
       "1  chr1  866300       A       C  chr1_866300_A_C        -0.009280   \n",
       "2  chr1  870176       T       A  chr1_870176_T_A         0.007269   \n",
       "3  chr1  904947       G       A  chr1_904947_G_A        -0.027669   \n",
       "4  chr1  905373       C       T  chr1_905373_T_C        -0.132262   \n",
       "\n",
       "   Esan.mean.abs_logfc  Esan.mean.jsd  Esan.mean.abs_logfc_x_jsd  \\\n",
       "0             0.035986       0.010862                   0.000482   \n",
       "1             0.022847       0.008537                   0.000175   \n",
       "2             0.019045       0.013279                   0.000265   \n",
       "3             0.027669       0.010101                   0.000265   \n",
       "4             0.132262       0.014543                   0.001979   \n",
       "\n",
       "   Esan.mean.abs_logfc_x_jsd_x_max_percentile  ...  afr.mean.jsd.pval  \\\n",
       "0                                    0.000195  ...           0.649093   \n",
       "1                                    0.000082  ...           0.800424   \n",
       "2                                    0.000193  ...           0.331473   \n",
       "3                                    0.000234  ...           0.500773   \n",
       "4                                    0.001549  ...           0.187633   \n",
       "\n",
       "   eur.mean.abs_logfc.pval  eur.mean.jsd.pval           region           snp  \\\n",
       "0                 0.519612           0.686427  1:866099:866351  1_866281_C_T   \n",
       "1                 0.441420           0.636851  1:866099:866351  1_866300_A_C   \n",
       "2                 0.251585           0.294618  1:869800:870282  1_870176_T_A   \n",
       "3                 0.799295           0.513734  1:904938:905544  1_904947_G_A   \n",
       "4                 0.100221           0.095542  1:904938:905544  1_905373_T_C   \n",
       "\n",
       "   distance      pval      beta        se  abs_beta  \n",
       "0       181  0.974280  0.006546  0.202449  0.006546  \n",
       "1       200  0.974280  0.006546  0.202449  0.006546  \n",
       "2       375  0.071532 -0.250142  0.137133  0.250142  \n",
       "3         8  0.290840  0.174397  0.164112  0.174397  \n",
       "4       434  0.188152 -0.130176  0.098145  0.130176  \n",
       "\n",
       "[5 rows x 77 columns]"
      ]
     },
     "execution_count": 63,
     "metadata": {},
     "output_type": "execute_result"
    }
   ],
   "source": [
    "data = pd.read_csv(\"/oak/stanford/groups/akundaje/projects/african_omics/outs/10_15_2022_per_ancestry_scores/tables/all_caqtls.scores.tsv\", sep=\"\\t\")\n",
    "data[\"rsid\"] = \"chr\"+data[\"rsid\"] \n",
    "data.head()"
   ]
  },
  {
   "cell_type": "code",
   "execution_count": 64,
   "metadata": {},
   "outputs": [
    {
     "data": {
      "text/plain": [
       "<AxesSubplot:>"
      ]
     },
     "execution_count": 64,
     "metadata": {},
     "output_type": "execute_result"
    },
    {
     "data": {
      "image/png": "[encoded data removed]",
      "text/plain": [
       "<Figure size 432x288 with 1 Axes>"
      ]
     },
     "metadata": {
      "needs_background": "light"
     },
     "output_type": "display_data"
    }
   ],
   "source": [
    "data[\"pval\"].hist()"
   ]
  },
  {
   "cell_type": "code",
   "execution_count": null,
   "metadata": {},
   "outputs": [],
   "source": []
  },
  {
   "cell_type": "code",
   "execution_count": null,
   "metadata": {},
   "outputs": [],
   "source": []
  },
  {
   "cell_type": "code",
   "execution_count": 65,
   "metadata": {},
   "outputs": [
    {
     "data": {
      "text/plain": [
       "(219382, 77)"
      ]
     },
     "execution_count": 65,
     "metadata": {},
     "output_type": "execute_result"
    }
   ],
   "source": [
    "data.shape"
   ]
  },
  {
   "cell_type": "code",
   "execution_count": 66,
   "metadata": {},
   "outputs": [
    {
     "data": {
      "text/plain": [
       "219382"
      ]
     },
     "execution_count": 66,
     "metadata": {},
     "output_type": "execute_result"
    }
   ],
   "source": [
    "len(set(data[\"rsid\"]))"
   ]
  },
  {
   "cell_type": "code",
   "execution_count": null,
   "metadata": {},
   "outputs": [],
   "source": []
  },
  {
   "cell_type": "code",
   "execution_count": 67,
   "metadata": {},
   "outputs": [],
   "source": [
    "data1 = pd.read_csv(\"/mnt/lab_data2/anusri/enformer/eu_caqtls/source.tsv\", sep=\"\\t\", header=0)"
   ]
  },
  {
   "cell_type": "code",
   "execution_count": 68,
   "metadata": {},
   "outputs": [],
   "source": [
    "data1[\"rsid\"] = data1[\"chr\"] + \"_\" + data1[\"pos\"].astype(str) + \"_\" + data1[\"allele1\"] + \"_\" + data1[\"allele2\"]\n",
    "data[\"rsid1\"] = data[\"chr\"] + \"_\" + data[\"pos\"].astype(str) + \"_\" + data[\"allele1\"] + \"_\" + data[\"allele2\"]"
   ]
  },
  {
   "cell_type": "code",
   "execution_count": 69,
   "metadata": {},
   "outputs": [
    {
     "data": {
      "text/html": [
       "<div>\n",
       "<style scoped>\n",
       "    .dataframe tbody tr th:only-of-type {\n",
       "        vertical-align: middle;\n",
       "    }\n",
       "\n",
       "    .dataframe tbody tr th {\n",
       "        vertical-align: top;\n",
       "    }\n",
       "\n",
       "    .dataframe thead th {\n",
       "        text-align: right;\n",
       "    }\n",
       "</style>\n",
       "<table border=\"1\" class=\"dataframe\">\n",
       "  <thead>\n",
       "    <tr style=\"text-align: right;\">\n",
       "      <th></th>\n",
       "      <th>chr</th>\n",
       "      <th>pos</th>\n",
       "      <th>allele1</th>\n",
       "      <th>allele2</th>\n",
       "      <th>label</th>\n",
       "      <th>rsid</th>\n",
       "    </tr>\n",
       "  </thead>\n",
       "  <tbody>\n",
       "    <tr>\n",
       "      <th>0</th>\n",
       "      <td>chr1</td>\n",
       "      <td>30783058</td>\n",
       "      <td>C</td>\n",
       "      <td>T</td>\n",
       "      <td>1</td>\n",
       "      <td>chr1_30783058_C_T</td>\n",
       "    </tr>\n",
       "    <tr>\n",
       "      <th>1</th>\n",
       "      <td>chr1</td>\n",
       "      <td>36023355</td>\n",
       "      <td>C</td>\n",
       "      <td>T</td>\n",
       "      <td>1</td>\n",
       "      <td>chr1_36023355_C_T</td>\n",
       "    </tr>\n",
       "    <tr>\n",
       "      <th>2</th>\n",
       "      <td>chr1</td>\n",
       "      <td>46420268</td>\n",
       "      <td>A</td>\n",
       "      <td>C</td>\n",
       "      <td>1</td>\n",
       "      <td>chr1_46420268_A_C</td>\n",
       "    </tr>\n",
       "    <tr>\n",
       "      <th>3</th>\n",
       "      <td>chr1</td>\n",
       "      <td>58156036</td>\n",
       "      <td>C</td>\n",
       "      <td>A</td>\n",
       "      <td>1</td>\n",
       "      <td>chr1_58156036_C_A</td>\n",
       "    </tr>\n",
       "    <tr>\n",
       "      <th>4</th>\n",
       "      <td>chr1</td>\n",
       "      <td>66413586</td>\n",
       "      <td>T</td>\n",
       "      <td>C</td>\n",
       "      <td>1</td>\n",
       "      <td>chr1_66413586_T_C</td>\n",
       "    </tr>\n",
       "    <tr>\n",
       "      <th>...</th>\n",
       "      <td>...</td>\n",
       "      <td>...</td>\n",
       "      <td>...</td>\n",
       "      <td>...</td>\n",
       "      <td>...</td>\n",
       "      <td>...</td>\n",
       "    </tr>\n",
       "    <tr>\n",
       "      <th>35542</th>\n",
       "      <td>chr2</td>\n",
       "      <td>176509430</td>\n",
       "      <td>T</td>\n",
       "      <td>A</td>\n",
       "      <td>0</td>\n",
       "      <td>chr2_176509430_T_A</td>\n",
       "    </tr>\n",
       "    <tr>\n",
       "      <th>35543</th>\n",
       "      <td>chr1</td>\n",
       "      <td>219988687</td>\n",
       "      <td>G</td>\n",
       "      <td>T</td>\n",
       "      <td>0</td>\n",
       "      <td>chr1_219988687_G_T</td>\n",
       "    </tr>\n",
       "    <tr>\n",
       "      <th>35544</th>\n",
       "      <td>chr4</td>\n",
       "      <td>142840715</td>\n",
       "      <td>C</td>\n",
       "      <td>T</td>\n",
       "      <td>0</td>\n",
       "      <td>chr4_142840715_C_T</td>\n",
       "    </tr>\n",
       "    <tr>\n",
       "      <th>35545</th>\n",
       "      <td>chr13</td>\n",
       "      <td>92422559</td>\n",
       "      <td>C</td>\n",
       "      <td>A</td>\n",
       "      <td>0</td>\n",
       "      <td>chr13_92422559_C_A</td>\n",
       "    </tr>\n",
       "    <tr>\n",
       "      <th>35546</th>\n",
       "      <td>chr7</td>\n",
       "      <td>22173739</td>\n",
       "      <td>G</td>\n",
       "      <td>T</td>\n",
       "      <td>0</td>\n",
       "      <td>chr7_22173739_G_T</td>\n",
       "    </tr>\n",
       "  </tbody>\n",
       "</table>\n",
       "<p>35547 rows × 6 columns</p>\n",
       "</div>"
      ],
      "text/plain": [
       "         chr        pos allele1 allele2  label                rsid\n",
       "0       chr1   30783058       C       T      1   chr1_30783058_C_T\n",
       "1       chr1   36023355       C       T      1   chr1_36023355_C_T\n",
       "2       chr1   46420268       A       C      1   chr1_46420268_A_C\n",
       "3       chr1   58156036       C       A      1   chr1_58156036_C_A\n",
       "4       chr1   66413586       T       C      1   chr1_66413586_T_C\n",
       "...      ...        ...     ...     ...    ...                 ...\n",
       "35542   chr2  176509430       T       A      0  chr2_176509430_T_A\n",
       "35543   chr1  219988687       G       T      0  chr1_219988687_G_T\n",
       "35544   chr4  142840715       C       T      0  chr4_142840715_C_T\n",
       "35545  chr13   92422559       C       A      0  chr13_92422559_C_A\n",
       "35546   chr7   22173739       G       T      0   chr7_22173739_G_T\n",
       "\n",
       "[35547 rows x 6 columns]"
      ]
     },
     "execution_count": 69,
     "metadata": {},
     "output_type": "execute_result"
    }
   ],
   "source": [
    "data1"
   ]
  },
  {
   "cell_type": "code",
   "execution_count": 70,
   "metadata": {},
   "outputs": [
    {
     "data": {
      "text/plain": [
       "35547"
      ]
     },
     "execution_count": 70,
     "metadata": {},
     "output_type": "execute_result"
    }
   ],
   "source": [
    "len(set(data1[\"rsid\"]))"
   ]
  },
  {
   "cell_type": "code",
   "execution_count": 71,
   "metadata": {},
   "outputs": [
    {
     "data": {
      "text/plain": [
       "(35547, 6)"
      ]
     },
     "execution_count": 71,
     "metadata": {},
     "output_type": "execute_result"
    }
   ],
   "source": [
    "data1.shape"
   ]
  },
  {
   "cell_type": "code",
   "execution_count": 72,
   "metadata": {},
   "outputs": [
    {
     "data": {
      "text/plain": [
       "(219382, 78)"
      ]
     },
     "execution_count": 72,
     "metadata": {},
     "output_type": "execute_result"
    }
   ],
   "source": [
    "data.shape"
   ]
  },
  {
   "cell_type": "code",
   "execution_count": 73,
   "metadata": {},
   "outputs": [],
   "source": [
    "#data[\"pval\"].hist()"
   ]
  },
  {
   "cell_type": "code",
   "execution_count": 74,
   "metadata": {},
   "outputs": [],
   "source": [
    "#sum(data[\"pval\"]<1e-20)"
   ]
  },
  {
   "cell_type": "code",
   "execution_count": 75,
   "metadata": {},
   "outputs": [],
   "source": [
    "# sum(data[\"pval\"]>1e-1)\n",
    "\n",
    "# sig_data = data[data[\"pval\"]<1e-20]\n",
    "# sig_data[\"label\"] = 1\n",
    "# nonsig_data = data[data[\"pval\"]>1e-1].sample(sig_data.shape[0]*50, random_state=1).reset_index(drop=True)\n",
    "# nonsig_data[\"label\"] = 0\n",
    "\n",
    "# combine = pd.concat([sig_data, nonsig_data])\n",
    "\n",
    "# print(combine.shape)\n",
    "\n",
    "#combine[['chr', 'pos', 'allele1', 'allele2', \"label\"]].to_csv(\"/mnt/lab_data2/anusri/enformer/eu_caqtls/source.tsv\", sep=\"\\t\", header=True, index=False)\n",
    "\n"
   ]
  },
  {
   "cell_type": "code",
   "execution_count": 76,
   "metadata": {},
   "outputs": [],
   "source": [
    "combine = data1.merge(data, right_on=[\"rsid1\"], left_on=[\"rsid\"], how=\"inner\")"
   ]
  },
  {
   "cell_type": "code",
   "execution_count": 77,
   "metadata": {},
   "outputs": [
    {
     "data": {
      "text/html": [
       "<div>\n",
       "<style scoped>\n",
       "    .dataframe tbody tr th:only-of-type {\n",
       "        vertical-align: middle;\n",
       "    }\n",
       "\n",
       "    .dataframe tbody tr th {\n",
       "        vertical-align: top;\n",
       "    }\n",
       "\n",
       "    .dataframe thead th {\n",
       "        text-align: right;\n",
       "    }\n",
       "</style>\n",
       "<table border=\"1\" class=\"dataframe\">\n",
       "  <thead>\n",
       "    <tr style=\"text-align: right;\">\n",
       "      <th></th>\n",
       "      <th>chr_x</th>\n",
       "      <th>pos_x</th>\n",
       "      <th>allele1_x</th>\n",
       "      <th>allele2_x</th>\n",
       "      <th>label</th>\n",
       "      <th>rsid_x</th>\n",
       "      <th>chr_y</th>\n",
       "      <th>pos_y</th>\n",
       "      <th>allele1_y</th>\n",
       "      <th>allele2_y</th>\n",
       "      <th>...</th>\n",
       "      <th>eur.mean.abs_logfc.pval</th>\n",
       "      <th>eur.mean.jsd.pval</th>\n",
       "      <th>region</th>\n",
       "      <th>snp</th>\n",
       "      <th>distance</th>\n",
       "      <th>pval</th>\n",
       "      <th>beta</th>\n",
       "      <th>se</th>\n",
       "      <th>abs_beta</th>\n",
       "      <th>rsid1</th>\n",
       "    </tr>\n",
       "  </thead>\n",
       "  <tbody>\n",
       "    <tr>\n",
       "      <th>0</th>\n",
       "      <td>chr1</td>\n",
       "      <td>30783058</td>\n",
       "      <td>C</td>\n",
       "      <td>T</td>\n",
       "      <td>1</td>\n",
       "      <td>chr1_30783058_C_T</td>\n",
       "      <td>chr1</td>\n",
       "      <td>30783058</td>\n",
       "      <td>C</td>\n",
       "      <td>T</td>\n",
       "      <td>...</td>\n",
       "      <td>0.003459</td>\n",
       "      <td>0.000589</td>\n",
       "      <td>1:30782947:30783426</td>\n",
       "      <td>1_30783058_T_C</td>\n",
       "      <td>110</td>\n",
       "      <td>2.348260e-26</td>\n",
       "      <td>0.892182</td>\n",
       "      <td>0.058667</td>\n",
       "      <td>0.892182</td>\n",
       "      <td>chr1_30783058_C_T</td>\n",
       "    </tr>\n",
       "    <tr>\n",
       "      <th>1</th>\n",
       "      <td>chr1</td>\n",
       "      <td>36023355</td>\n",
       "      <td>C</td>\n",
       "      <td>T</td>\n",
       "      <td>1</td>\n",
       "      <td>chr1_36023355_C_T</td>\n",
       "      <td>chr1</td>\n",
       "      <td>36023355</td>\n",
       "      <td>C</td>\n",
       "      <td>T</td>\n",
       "      <td>...</td>\n",
       "      <td>0.357734</td>\n",
       "      <td>0.539651</td>\n",
       "      <td>1:36023015:36023420</td>\n",
       "      <td>1_36023355_C_T</td>\n",
       "      <td>339</td>\n",
       "      <td>2.749310e-21</td>\n",
       "      <td>1.014200</td>\n",
       "      <td>0.080886</td>\n",
       "      <td>1.014200</td>\n",
       "      <td>chr1_36023355_C_T</td>\n",
       "    </tr>\n",
       "    <tr>\n",
       "      <th>2</th>\n",
       "      <td>chr1</td>\n",
       "      <td>46420268</td>\n",
       "      <td>A</td>\n",
       "      <td>C</td>\n",
       "      <td>1</td>\n",
       "      <td>chr1_46420268_A_C</td>\n",
       "      <td>chr1</td>\n",
       "      <td>46420268</td>\n",
       "      <td>A</td>\n",
       "      <td>C</td>\n",
       "      <td>...</td>\n",
       "      <td>0.000100</td>\n",
       "      <td>0.001954</td>\n",
       "      <td>1:46420152:46420415</td>\n",
       "      <td>1_46420268_A_C</td>\n",
       "      <td>115</td>\n",
       "      <td>1.440130e-21</td>\n",
       "      <td>-0.955278</td>\n",
       "      <td>0.075327</td>\n",
       "      <td>0.955278</td>\n",
       "      <td>chr1_46420268_A_C</td>\n",
       "    </tr>\n",
       "    <tr>\n",
       "      <th>3</th>\n",
       "      <td>chr1</td>\n",
       "      <td>58156036</td>\n",
       "      <td>C</td>\n",
       "      <td>A</td>\n",
       "      <td>1</td>\n",
       "      <td>chr1_58156036_C_A</td>\n",
       "      <td>chr1</td>\n",
       "      <td>58156036</td>\n",
       "      <td>C</td>\n",
       "      <td>A</td>\n",
       "      <td>...</td>\n",
       "      <td>0.001123</td>\n",
       "      <td>0.001793</td>\n",
       "      <td>1:58155425:58156125</td>\n",
       "      <td>1_58156036_C_A</td>\n",
       "      <td>610</td>\n",
       "      <td>1.676900e-28</td>\n",
       "      <td>0.930381</td>\n",
       "      <td>0.056719</td>\n",
       "      <td>0.930381</td>\n",
       "      <td>chr1_58156036_C_A</td>\n",
       "    </tr>\n",
       "    <tr>\n",
       "      <th>4</th>\n",
       "      <td>chr1</td>\n",
       "      <td>66413586</td>\n",
       "      <td>T</td>\n",
       "      <td>C</td>\n",
       "      <td>1</td>\n",
       "      <td>chr1_66413586_T_C</td>\n",
       "      <td>chr1</td>\n",
       "      <td>66413586</td>\n",
       "      <td>T</td>\n",
       "      <td>C</td>\n",
       "      <td>...</td>\n",
       "      <td>0.003826</td>\n",
       "      <td>0.006414</td>\n",
       "      <td>1:66413221:66413866</td>\n",
       "      <td>1_66413586_T_C</td>\n",
       "      <td>364</td>\n",
       "      <td>1.458150e-21</td>\n",
       "      <td>0.706032</td>\n",
       "      <td>0.055685</td>\n",
       "      <td>0.706032</td>\n",
       "      <td>chr1_66413586_T_C</td>\n",
       "    </tr>\n",
       "    <tr>\n",
       "      <th>...</th>\n",
       "      <td>...</td>\n",
       "      <td>...</td>\n",
       "      <td>...</td>\n",
       "      <td>...</td>\n",
       "      <td>...</td>\n",
       "      <td>...</td>\n",
       "      <td>...</td>\n",
       "      <td>...</td>\n",
       "      <td>...</td>\n",
       "      <td>...</td>\n",
       "      <td>...</td>\n",
       "      <td>...</td>\n",
       "      <td>...</td>\n",
       "      <td>...</td>\n",
       "      <td>...</td>\n",
       "      <td>...</td>\n",
       "      <td>...</td>\n",
       "      <td>...</td>\n",
       "      <td>...</td>\n",
       "      <td>...</td>\n",
       "      <td>...</td>\n",
       "    </tr>\n",
       "    <tr>\n",
       "      <th>35542</th>\n",
       "      <td>chr2</td>\n",
       "      <td>176509430</td>\n",
       "      <td>T</td>\n",
       "      <td>A</td>\n",
       "      <td>0</td>\n",
       "      <td>chr2_176509430_T_A</td>\n",
       "      <td>chr2</td>\n",
       "      <td>176509430</td>\n",
       "      <td>T</td>\n",
       "      <td>A</td>\n",
       "      <td>...</td>\n",
       "      <td>0.612724</td>\n",
       "      <td>0.554915</td>\n",
       "      <td>2:176509024:176509619</td>\n",
       "      <td>2_176509430_T_A</td>\n",
       "      <td>405</td>\n",
       "      <td>7.423710e-01</td>\n",
       "      <td>0.050625</td>\n",
       "      <td>0.153524</td>\n",
       "      <td>0.050625</td>\n",
       "      <td>chr2_176509430_T_A</td>\n",
       "    </tr>\n",
       "    <tr>\n",
       "      <th>35543</th>\n",
       "      <td>chr1</td>\n",
       "      <td>219988687</td>\n",
       "      <td>G</td>\n",
       "      <td>T</td>\n",
       "      <td>0</td>\n",
       "      <td>chr1_219988687_G_T</td>\n",
       "      <td>chr1</td>\n",
       "      <td>219988687</td>\n",
       "      <td>G</td>\n",
       "      <td>T</td>\n",
       "      <td>...</td>\n",
       "      <td>0.206795</td>\n",
       "      <td>0.396391</td>\n",
       "      <td>1:219988230:219988744</td>\n",
       "      <td>1_219988687_G_T</td>\n",
       "      <td>456</td>\n",
       "      <td>8.490300e-01</td>\n",
       "      <td>-0.028801</td>\n",
       "      <td>0.150855</td>\n",
       "      <td>0.028801</td>\n",
       "      <td>chr1_219988687_G_T</td>\n",
       "    </tr>\n",
       "    <tr>\n",
       "      <th>35544</th>\n",
       "      <td>chr4</td>\n",
       "      <td>142840715</td>\n",
       "      <td>C</td>\n",
       "      <td>T</td>\n",
       "      <td>0</td>\n",
       "      <td>chr4_142840715_C_T</td>\n",
       "      <td>chr4</td>\n",
       "      <td>142840715</td>\n",
       "      <td>C</td>\n",
       "      <td>T</td>\n",
       "      <td>...</td>\n",
       "      <td>0.409176</td>\n",
       "      <td>0.037545</td>\n",
       "      <td>4:142840426:142840840</td>\n",
       "      <td>4_142840715_C_T</td>\n",
       "      <td>288</td>\n",
       "      <td>6.779140e-01</td>\n",
       "      <td>-0.053251</td>\n",
       "      <td>0.127793</td>\n",
       "      <td>0.053251</td>\n",
       "      <td>chr4_142840715_C_T</td>\n",
       "    </tr>\n",
       "    <tr>\n",
       "      <th>35545</th>\n",
       "      <td>chr13</td>\n",
       "      <td>92422559</td>\n",
       "      <td>C</td>\n",
       "      <td>A</td>\n",
       "      <td>0</td>\n",
       "      <td>chr13_92422559_C_A</td>\n",
       "      <td>chr13</td>\n",
       "      <td>92422559</td>\n",
       "      <td>C</td>\n",
       "      <td>A</td>\n",
       "      <td>...</td>\n",
       "      <td>0.086384</td>\n",
       "      <td>0.110136</td>\n",
       "      <td>13:92422540:92422740</td>\n",
       "      <td>13_92422559_C_A</td>\n",
       "      <td>18</td>\n",
       "      <td>1.419690e-01</td>\n",
       "      <td>-0.161272</td>\n",
       "      <td>0.108836</td>\n",
       "      <td>0.161272</td>\n",
       "      <td>chr13_92422559_C_A</td>\n",
       "    </tr>\n",
       "    <tr>\n",
       "      <th>35546</th>\n",
       "      <td>chr7</td>\n",
       "      <td>22173739</td>\n",
       "      <td>G</td>\n",
       "      <td>T</td>\n",
       "      <td>0</td>\n",
       "      <td>chr7_22173739_G_T</td>\n",
       "      <td>chr7</td>\n",
       "      <td>22173739</td>\n",
       "      <td>G</td>\n",
       "      <td>T</td>\n",
       "      <td>...</td>\n",
       "      <td>0.625153</td>\n",
       "      <td>0.873778</td>\n",
       "      <td>7:22173635:22174556</td>\n",
       "      <td>7_22173739_G_T</td>\n",
       "      <td>103</td>\n",
       "      <td>1.549780e-01</td>\n",
       "      <td>-0.249679</td>\n",
       "      <td>0.174055</td>\n",
       "      <td>0.249679</td>\n",
       "      <td>chr7_22173739_G_T</td>\n",
       "    </tr>\n",
       "  </tbody>\n",
       "</table>\n",
       "<p>35547 rows × 84 columns</p>\n",
       "</div>"
      ],
      "text/plain": [
       "       chr_x      pos_x allele1_x allele2_x  label              rsid_x  chr_y  \\\n",
       "0       chr1   30783058         C         T      1   chr1_30783058_C_T   chr1   \n",
       "1       chr1   36023355         C         T      1   chr1_36023355_C_T   chr1   \n",
       "2       chr1   46420268         A         C      1   chr1_46420268_A_C   chr1   \n",
       "3       chr1   58156036         C         A      1   chr1_58156036_C_A   chr1   \n",
       "4       chr1   66413586         T         C      1   chr1_66413586_T_C   chr1   \n",
       "...      ...        ...       ...       ...    ...                 ...    ...   \n",
       "35542   chr2  176509430         T         A      0  chr2_176509430_T_A   chr2   \n",
       "35543   chr1  219988687         G         T      0  chr1_219988687_G_T   chr1   \n",
       "35544   chr4  142840715         C         T      0  chr4_142840715_C_T   chr4   \n",
       "35545  chr13   92422559         C         A      0  chr13_92422559_C_A  chr13   \n",
       "35546   chr7   22173739         G         T      0   chr7_22173739_G_T   chr7   \n",
       "\n",
       "           pos_y allele1_y allele2_y  ... eur.mean.abs_logfc.pval  \\\n",
       "0       30783058         C         T  ...                0.003459   \n",
       "1       36023355         C         T  ...                0.357734   \n",
       "2       46420268         A         C  ...                0.000100   \n",
       "3       58156036         C         A  ...                0.001123   \n",
       "4       66413586         T         C  ...                0.003826   \n",
       "...          ...       ...       ...  ...                     ...   \n",
       "35542  176509430         T         A  ...                0.612724   \n",
       "35543  219988687         G         T  ...                0.206795   \n",
       "35544  142840715         C         T  ...                0.409176   \n",
       "35545   92422559         C         A  ...                0.086384   \n",
       "35546   22173739         G         T  ...                0.625153   \n",
       "\n",
       "       eur.mean.jsd.pval                 region              snp  distance  \\\n",
       "0               0.000589    1:30782947:30783426   1_30783058_T_C       110   \n",
       "1               0.539651    1:36023015:36023420   1_36023355_C_T       339   \n",
       "2               0.001954    1:46420152:46420415   1_46420268_A_C       115   \n",
       "3               0.001793    1:58155425:58156125   1_58156036_C_A       610   \n",
       "4               0.006414    1:66413221:66413866   1_66413586_T_C       364   \n",
       "...                  ...                    ...              ...       ...   \n",
       "35542           0.554915  2:176509024:176509619  2_176509430_T_A       405   \n",
       "35543           0.396391  1:219988230:219988744  1_219988687_G_T       456   \n",
       "35544           0.037545  4:142840426:142840840  4_142840715_C_T       288   \n",
       "35545           0.110136   13:92422540:92422740  13_92422559_C_A        18   \n",
       "35546           0.873778    7:22173635:22174556   7_22173739_G_T       103   \n",
       "\n",
       "               pval      beta        se  abs_beta               rsid1  \n",
       "0      2.348260e-26  0.892182  0.058667  0.892182   chr1_30783058_C_T  \n",
       "1      2.749310e-21  1.014200  0.080886  1.014200   chr1_36023355_C_T  \n",
       "2      1.440130e-21 -0.955278  0.075327  0.955278   chr1_46420268_A_C  \n",
       "3      1.676900e-28  0.930381  0.056719  0.930381   chr1_58156036_C_A  \n",
       "4      1.458150e-21  0.706032  0.055685  0.706032   chr1_66413586_T_C  \n",
       "...             ...       ...       ...       ...                 ...  \n",
       "35542  7.423710e-01  0.050625  0.153524  0.050625  chr2_176509430_T_A  \n",
       "35543  8.490300e-01 -0.028801  0.150855  0.028801  chr1_219988687_G_T  \n",
       "35544  6.779140e-01 -0.053251  0.127793  0.053251  chr4_142840715_C_T  \n",
       "35545  1.419690e-01 -0.161272  0.108836  0.161272  chr13_92422559_C_A  \n",
       "35546  1.549780e-01 -0.249679  0.174055  0.249679   chr7_22173739_G_T  \n",
       "\n",
       "[35547 rows x 84 columns]"
      ]
     },
     "execution_count": 77,
     "metadata": {},
     "output_type": "execute_result"
    }
   ],
   "source": [
    "combine"
   ]
  },
  {
   "cell_type": "code",
   "execution_count": 78,
   "metadata": {},
   "outputs": [
    {
     "data": {
      "text/plain": [
       "(35547, 84)"
      ]
     },
     "execution_count": 78,
     "metadata": {},
     "output_type": "execute_result"
    }
   ],
   "source": [
    "combine.shape"
   ]
  },
  {
   "cell_type": "code",
   "execution_count": 79,
   "metadata": {},
   "outputs": [
    {
     "data": {
      "text/plain": [
       "35547"
      ]
     },
     "execution_count": 79,
     "metadata": {},
     "output_type": "execute_result"
    }
   ],
   "source": [
    "len(set(data1[\"rsid\"]))"
   ]
  },
  {
   "cell_type": "code",
   "execution_count": 80,
   "metadata": {},
   "outputs": [
    {
     "data": {
      "text/plain": [
       "Index(['chr_x', 'pos_x', 'allele1_x', 'allele2_x', 'label', 'rsid_x', 'chr_y',\n",
       "       'pos_y', 'allele1_y', 'allele2_y', 'rsid_y', 'Esan.mean.logfc',\n",
       "       'Esan.mean.abs_logfc', 'Esan.mean.jsd', 'Esan.mean.abs_logfc_x_jsd',\n",
       "       'Esan.mean.abs_logfc_x_jsd_x_max_percentile',\n",
       "       'Esan.mean.max_percentile', 'Esan.mean.abs_logfc.pval',\n",
       "       'Esan.mean.jsd.pval', 'Esan.mean.abs_logfc_x_jsd.pval',\n",
       "       'Esan.mean.abs_logfc_x_jsd_x_max_percentile.pval', 'Mende.mean.logfc',\n",
       "       'Mende.mean.abs_logfc', 'Mende.mean.jsd', 'Mende.mean.abs_logfc.pval',\n",
       "       'Mende.mean.jsd.pval', 'Yoruba.mean.logfc', 'Yoruba.mean.abs_logfc',\n",
       "       'Yoruba.mean.jsd', 'Yoruba.mean.abs_logfc.pval', 'Yoruba.mean.jsd.pval',\n",
       "       'GM12878.ENCSR095QNB.mean.logfc', 'GM12878.ENCSR095QNB.mean.abs_logfc',\n",
       "       'GM12878.ENCSR095QNB.mean.jsd',\n",
       "       'GM12878.ENCSR095QNB.mean.abs_logfc_x_jsd',\n",
       "       'GM12878.ENCSR095QNB.mean.abs_logfc_x_jsd_x_max_percentile',\n",
       "       'GM12878.ENCSR095QNB.mean.max_percentile',\n",
       "       'GM12878.ENCSR095QNB.mean.abs_logfc.pval',\n",
       "       'GM12878.ENCSR095QNB.mean.jsd.pval',\n",
       "       'GM12878.ENCSR095QNB.mean.abs_logfc_x_jsd.pval',\n",
       "       'GM12878.ENCSR095QNB.mean.abs_logfc_x_jsd_x_max_percentile.pval',\n",
       "       'GM12878.ENCSR637XSC.mean.logfc', 'GM12878.ENCSR637XSC.mean.abs_logfc',\n",
       "       'GM12878.ENCSR637XSC.mean.jsd',\n",
       "       'GM12878.ENCSR637XSC.mean.abs_logfc_x_jsd',\n",
       "       'GM12878.ENCSR637XSC.mean.abs_logfc_x_jsd_x_max_percentile',\n",
       "       'GM12878.ENCSR637XSC.mean.max_percentile',\n",
       "       'GM12878.ENCSR637XSC.mean.abs_logfc.pval',\n",
       "       'GM12878.ENCSR637XSC.mean.jsd.pval',\n",
       "       'GM12878.ENCSR637XSC.mean.abs_logfc_x_jsd.pval',\n",
       "       'GM12878.ENCSR637XSC.mean.abs_logfc_x_jsd_x_max_percentile.pval',\n",
       "       'Luhya.mean.logfc', 'Luhya.mean.abs_logfc', 'Luhya.mean.jsd',\n",
       "       'Luhya.mean.abs_logfc.pval', 'Luhya.mean.jsd.pval',\n",
       "       'Gambian.mean.logfc', 'Gambian.mean.abs_logfc', 'Gambian.mean.jsd',\n",
       "       'Gambian.mean.abs_logfc.pval', 'Gambian.mean.jsd.pval',\n",
       "       'Maasai.mean.logfc', 'Maasai.mean.abs_logfc', 'Maasai.mean.jsd',\n",
       "       'Maasai.mean.abs_logfc.pval', 'Maasai.mean.jsd.pval', 'afr.mean.logfc',\n",
       "       'afr.mean.abs_logfc', 'afr.mean.jsd', 'eur.mean.logfc',\n",
       "       'eur.mean.abs_logfc', 'eur.mean.jsd', 'afr.mean.abs_logfc.pval',\n",
       "       'afr.mean.jsd.pval', 'eur.mean.abs_logfc.pval', 'eur.mean.jsd.pval',\n",
       "       'region', 'snp', 'distance', 'pval', 'beta', 'se', 'abs_beta', 'rsid1'],\n",
       "      dtype='object')"
      ]
     },
     "execution_count": 80,
     "metadata": {},
     "output_type": "execute_result"
    }
   ],
   "source": [
    "combine.columns"
   ]
  },
  {
   "cell_type": "code",
   "execution_count": 81,
   "metadata": {},
   "outputs": [],
   "source": [
    "rsid_map = pd.read_csv(\"/mnt/lab_data2/anusri/enformer/eu_caqtls/convert_hg38_to_hg19/hg38_rsids.bed\", sep=\"\\t\", header=None)\n"
   ]
  },
  {
   "cell_type": "code",
   "execution_count": 82,
   "metadata": {},
   "outputs": [],
   "source": [
    "rsid_map[\"rsid\"] = rsid_map[0] + \"_\" + rsid_map[2].astype(str) + \"_\" + rsid_map[3] + \"_\" + rsid_map[4] "
   ]
  },
  {
   "cell_type": "code",
   "execution_count": 83,
   "metadata": {},
   "outputs": [],
   "source": [
    "rsid_map_dict = {}\n",
    "for i,r in rsid_map.iterrows():\n",
    "    rsid_map_dict[r[9]] = r[\"rsid\"]"
   ]
  },
  {
   "cell_type": "code",
   "execution_count": 84,
   "metadata": {},
   "outputs": [
    {
     "data": {
      "text/plain": [
       "(35578, 7)"
      ]
     },
     "execution_count": 84,
     "metadata": {},
     "output_type": "execute_result"
    }
   ],
   "source": [
    "enformer_predictions = pd.read_csv(\"/mnt/lab_data2/anusri/enformer/eu_caqtls/enformer_predictions.tsv\", sep=\"\\t\", header=0).drop_duplicates()\n",
    "enformer_predictions.shape"
   ]
  },
  {
   "cell_type": "code",
   "execution_count": 85,
   "metadata": {},
   "outputs": [],
   "source": [
    "enformer_predictions[\"rsid1\"] = enformer_predictions[\"rsid\"].map(rsid_map_dict)\n",
    "#enformer_predictions"
   ]
  },
  {
   "cell_type": "code",
   "execution_count": 86,
   "metadata": {},
   "outputs": [
    {
     "data": {
      "text/plain": [
       "(35578, 8)"
      ]
     },
     "execution_count": 86,
     "metadata": {},
     "output_type": "execute_result"
    }
   ],
   "source": [
    "\n",
    "enformer_predictions.shape"
   ]
  },
  {
   "cell_type": "code",
   "execution_count": 87,
   "metadata": {},
   "outputs": [
    {
     "data": {
      "text/html": [
       "<div>\n",
       "<style scoped>\n",
       "    .dataframe tbody tr th:only-of-type {\n",
       "        vertical-align: middle;\n",
       "    }\n",
       "\n",
       "    .dataframe tbody tr th {\n",
       "        vertical-align: top;\n",
       "    }\n",
       "\n",
       "    .dataframe thead th {\n",
       "        text-align: right;\n",
       "    }\n",
       "</style>\n",
       "<table border=\"1\" class=\"dataframe\">\n",
       "  <thead>\n",
       "    <tr style=\"text-align: right;\">\n",
       "      <th></th>\n",
       "      <th>chr</th>\n",
       "      <th>pos</th>\n",
       "      <th>ref</th>\n",
       "      <th>alt</th>\n",
       "      <th>rsid</th>\n",
       "      <th>DNASE_SAD</th>\n",
       "      <th>DNASE_SAR</th>\n",
       "      <th>rsid1</th>\n",
       "    </tr>\n",
       "  </thead>\n",
       "  <tbody>\n",
       "    <tr>\n",
       "      <th>0</th>\n",
       "      <td>chr1</td>\n",
       "      <td>801680</td>\n",
       "      <td>A</td>\n",
       "      <td>C</td>\n",
       "      <td>rs12134490</td>\n",
       "      <td>0.000039</td>\n",
       "      <td>0.000052</td>\n",
       "      <td>chr1_866300_A_C</td>\n",
       "    </tr>\n",
       "    <tr>\n",
       "      <th>1</th>\n",
       "      <td>chr1</td>\n",
       "      <td>894719</td>\n",
       "      <td>C</td>\n",
       "      <td>T</td>\n",
       "      <td>rs187243360</td>\n",
       "      <td>0.000328</td>\n",
       "      <td>0.000412</td>\n",
       "      <td>chr1_959339_C_T</td>\n",
       "    </tr>\n",
       "    <tr>\n",
       "      <th>2</th>\n",
       "      <td>chr1</td>\n",
       "      <td>895889</td>\n",
       "      <td>A</td>\n",
       "      <td>T</td>\n",
       "      <td>rs72891151</td>\n",
       "      <td>0.000195</td>\n",
       "      <td>0.000245</td>\n",
       "      <td>chr1_960509_A_T</td>\n",
       "    </tr>\n",
       "    <tr>\n",
       "      <th>3</th>\n",
       "      <td>chr1</td>\n",
       "      <td>911418</td>\n",
       "      <td>A</td>\n",
       "      <td>C</td>\n",
       "      <td>rs113068688</td>\n",
       "      <td>0.000127</td>\n",
       "      <td>0.000157</td>\n",
       "      <td>chr1_976038_A_C</td>\n",
       "    </tr>\n",
       "    <tr>\n",
       "      <th>4</th>\n",
       "      <td>chr1</td>\n",
       "      <td>911916</td>\n",
       "      <td>C</td>\n",
       "      <td>T</td>\n",
       "      <td>rs74045046</td>\n",
       "      <td>0.000141</td>\n",
       "      <td>0.000175</td>\n",
       "      <td>chr1_976536_C_T</td>\n",
       "    </tr>\n",
       "    <tr>\n",
       "      <th>...</th>\n",
       "      <td>...</td>\n",
       "      <td>...</td>\n",
       "      <td>...</td>\n",
       "      <td>...</td>\n",
       "      <td>...</td>\n",
       "      <td>...</td>\n",
       "      <td>...</td>\n",
       "      <td>...</td>\n",
       "    </tr>\n",
       "    <tr>\n",
       "      <th>35573</th>\n",
       "      <td>chr22</td>\n",
       "      <td>51001432</td>\n",
       "      <td>C</td>\n",
       "      <td>G</td>\n",
       "      <td>rs140517</td>\n",
       "      <td>-0.002317</td>\n",
       "      <td>-0.002354</td>\n",
       "      <td>chr22_50563003_G_C</td>\n",
       "    </tr>\n",
       "    <tr>\n",
       "      <th>35574</th>\n",
       "      <td>chr22</td>\n",
       "      <td>51059118</td>\n",
       "      <td>T</td>\n",
       "      <td>G</td>\n",
       "      <td>rs3091400</td>\n",
       "      <td>0.001514</td>\n",
       "      <td>0.001934</td>\n",
       "      <td>chr22_50620690_T_G</td>\n",
       "    </tr>\n",
       "    <tr>\n",
       "      <th>35575</th>\n",
       "      <td>chr22</td>\n",
       "      <td>51060049</td>\n",
       "      <td>G</td>\n",
       "      <td>A</td>\n",
       "      <td>rs11912237</td>\n",
       "      <td>0.000067</td>\n",
       "      <td>0.000085</td>\n",
       "      <td>chr22_50621621_G_A</td>\n",
       "    </tr>\n",
       "    <tr>\n",
       "      <th>35576</th>\n",
       "      <td>chr22</td>\n",
       "      <td>51066552</td>\n",
       "      <td>C</td>\n",
       "      <td>G</td>\n",
       "      <td>rs6151406</td>\n",
       "      <td>-0.000557</td>\n",
       "      <td>-0.000713</td>\n",
       "      <td>chr22_50628124_C_G</td>\n",
       "    </tr>\n",
       "    <tr>\n",
       "      <th>35577</th>\n",
       "      <td>chr22</td>\n",
       "      <td>51066921</td>\n",
       "      <td>G</td>\n",
       "      <td>A</td>\n",
       "      <td>rs131715</td>\n",
       "      <td>-0.000046</td>\n",
       "      <td>-0.000059</td>\n",
       "      <td>chr22_50628493_G_A</td>\n",
       "    </tr>\n",
       "  </tbody>\n",
       "</table>\n",
       "<p>35578 rows × 8 columns</p>\n",
       "</div>"
      ],
      "text/plain": [
       "         chr       pos ref alt         rsid  DNASE_SAD  DNASE_SAR  \\\n",
       "0       chr1    801680   A   C   rs12134490   0.000039   0.000052   \n",
       "1       chr1    894719   C   T  rs187243360   0.000328   0.000412   \n",
       "2       chr1    895889   A   T   rs72891151   0.000195   0.000245   \n",
       "3       chr1    911418   A   C  rs113068688   0.000127   0.000157   \n",
       "4       chr1    911916   C   T   rs74045046   0.000141   0.000175   \n",
       "...      ...       ...  ..  ..          ...        ...        ...   \n",
       "35573  chr22  51001432   C   G     rs140517  -0.002317  -0.002354   \n",
       "35574  chr22  51059118   T   G    rs3091400   0.001514   0.001934   \n",
       "35575  chr22  51060049   G   A   rs11912237   0.000067   0.000085   \n",
       "35576  chr22  51066552   C   G    rs6151406  -0.000557  -0.000713   \n",
       "35577  chr22  51066921   G   A     rs131715  -0.000046  -0.000059   \n",
       "\n",
       "                    rsid1  \n",
       "0         chr1_866300_A_C  \n",
       "1         chr1_959339_C_T  \n",
       "2         chr1_960509_A_T  \n",
       "3         chr1_976038_A_C  \n",
       "4         chr1_976536_C_T  \n",
       "...                   ...  \n",
       "35573  chr22_50563003_G_C  \n",
       "35574  chr22_50620690_T_G  \n",
       "35575  chr22_50621621_G_A  \n",
       "35576  chr22_50628124_C_G  \n",
       "35577  chr22_50628493_G_A  \n",
       "\n",
       "[35578 rows x 8 columns]"
      ]
     },
     "execution_count": 87,
     "metadata": {},
     "output_type": "execute_result"
    }
   ],
   "source": [
    "enformer_predictions"
   ]
  },
  {
   "cell_type": "code",
   "execution_count": 89,
   "metadata": {},
   "outputs": [
    {
     "data": {
      "text/plain": [
       "(35547, 84)"
      ]
     },
     "execution_count": 89,
     "metadata": {},
     "output_type": "execute_result"
    }
   ],
   "source": [
    "combine.shape"
   ]
  },
  {
   "cell_type": "code",
   "execution_count": 91,
   "metadata": {},
   "outputs": [],
   "source": [
    "#sum(enformer_predictions[\"rsid1\"].isin(combine[\"rsid_x\"]))"
   ]
  },
  {
   "cell_type": "code",
   "execution_count": 92,
   "metadata": {},
   "outputs": [],
   "source": [
    "enformer_predictions[\"RA1\"] = enformer_predictions[\"ref\"]+\"_\"+enformer_predictions[\"alt\"]\n",
    "enformer_predictions[\"RA3\"] = enformer_predictions[\"alt\"]+\"_\"+enformer_predictions[\"ref\"]"
   ]
  },
  {
   "cell_type": "code",
   "execution_count": 93,
   "metadata": {},
   "outputs": [],
   "source": [
    "enformer_predictions[\"RA2\"] = enformer_predictions[\"rsid1\"].str.split(\"_\").str[2:4].apply('_'.join)"
   ]
  },
  {
   "cell_type": "code",
   "execution_count": 94,
   "metadata": {},
   "outputs": [
    {
     "data": {
      "text/html": [
       "<div>\n",
       "<style scoped>\n",
       "    .dataframe tbody tr th:only-of-type {\n",
       "        vertical-align: middle;\n",
       "    }\n",
       "\n",
       "    .dataframe tbody tr th {\n",
       "        vertical-align: top;\n",
       "    }\n",
       "\n",
       "    .dataframe thead th {\n",
       "        text-align: right;\n",
       "    }\n",
       "</style>\n",
       "<table border=\"1\" class=\"dataframe\">\n",
       "  <thead>\n",
       "    <tr style=\"text-align: right;\">\n",
       "      <th></th>\n",
       "      <th>chr</th>\n",
       "      <th>pos</th>\n",
       "      <th>ref</th>\n",
       "      <th>alt</th>\n",
       "      <th>rsid</th>\n",
       "      <th>DNASE_SAD</th>\n",
       "      <th>DNASE_SAR</th>\n",
       "      <th>rsid1</th>\n",
       "      <th>RA1</th>\n",
       "      <th>RA3</th>\n",
       "      <th>RA2</th>\n",
       "    </tr>\n",
       "  </thead>\n",
       "  <tbody>\n",
       "    <tr>\n",
       "      <th>0</th>\n",
       "      <td>chr1</td>\n",
       "      <td>801680</td>\n",
       "      <td>A</td>\n",
       "      <td>C</td>\n",
       "      <td>rs12134490</td>\n",
       "      <td>0.000039</td>\n",
       "      <td>0.000052</td>\n",
       "      <td>chr1_866300_A_C</td>\n",
       "      <td>A_C</td>\n",
       "      <td>C_A</td>\n",
       "      <td>A_C</td>\n",
       "    </tr>\n",
       "    <tr>\n",
       "      <th>1</th>\n",
       "      <td>chr1</td>\n",
       "      <td>894719</td>\n",
       "      <td>C</td>\n",
       "      <td>T</td>\n",
       "      <td>rs187243360</td>\n",
       "      <td>0.000328</td>\n",
       "      <td>0.000412</td>\n",
       "      <td>chr1_959339_C_T</td>\n",
       "      <td>C_T</td>\n",
       "      <td>T_C</td>\n",
       "      <td>C_T</td>\n",
       "    </tr>\n",
       "    <tr>\n",
       "      <th>2</th>\n",
       "      <td>chr1</td>\n",
       "      <td>895889</td>\n",
       "      <td>A</td>\n",
       "      <td>T</td>\n",
       "      <td>rs72891151</td>\n",
       "      <td>0.000195</td>\n",
       "      <td>0.000245</td>\n",
       "      <td>chr1_960509_A_T</td>\n",
       "      <td>A_T</td>\n",
       "      <td>T_A</td>\n",
       "      <td>A_T</td>\n",
       "    </tr>\n",
       "    <tr>\n",
       "      <th>3</th>\n",
       "      <td>chr1</td>\n",
       "      <td>911418</td>\n",
       "      <td>A</td>\n",
       "      <td>C</td>\n",
       "      <td>rs113068688</td>\n",
       "      <td>0.000127</td>\n",
       "      <td>0.000157</td>\n",
       "      <td>chr1_976038_A_C</td>\n",
       "      <td>A_C</td>\n",
       "      <td>C_A</td>\n",
       "      <td>A_C</td>\n",
       "    </tr>\n",
       "    <tr>\n",
       "      <th>4</th>\n",
       "      <td>chr1</td>\n",
       "      <td>911916</td>\n",
       "      <td>C</td>\n",
       "      <td>T</td>\n",
       "      <td>rs74045046</td>\n",
       "      <td>0.000141</td>\n",
       "      <td>0.000175</td>\n",
       "      <td>chr1_976536_C_T</td>\n",
       "      <td>C_T</td>\n",
       "      <td>T_C</td>\n",
       "      <td>C_T</td>\n",
       "    </tr>\n",
       "    <tr>\n",
       "      <th>...</th>\n",
       "      <td>...</td>\n",
       "      <td>...</td>\n",
       "      <td>...</td>\n",
       "      <td>...</td>\n",
       "      <td>...</td>\n",
       "      <td>...</td>\n",
       "      <td>...</td>\n",
       "      <td>...</td>\n",
       "      <td>...</td>\n",
       "      <td>...</td>\n",
       "      <td>...</td>\n",
       "    </tr>\n",
       "    <tr>\n",
       "      <th>35573</th>\n",
       "      <td>chr22</td>\n",
       "      <td>51001432</td>\n",
       "      <td>C</td>\n",
       "      <td>G</td>\n",
       "      <td>rs140517</td>\n",
       "      <td>-0.002317</td>\n",
       "      <td>-0.002354</td>\n",
       "      <td>chr22_50563003_G_C</td>\n",
       "      <td>C_G</td>\n",
       "      <td>G_C</td>\n",
       "      <td>G_C</td>\n",
       "    </tr>\n",
       "    <tr>\n",
       "      <th>35574</th>\n",
       "      <td>chr22</td>\n",
       "      <td>51059118</td>\n",
       "      <td>T</td>\n",
       "      <td>G</td>\n",
       "      <td>rs3091400</td>\n",
       "      <td>0.001514</td>\n",
       "      <td>0.001934</td>\n",
       "      <td>chr22_50620690_T_G</td>\n",
       "      <td>T_G</td>\n",
       "      <td>G_T</td>\n",
       "      <td>T_G</td>\n",
       "    </tr>\n",
       "    <tr>\n",
       "      <th>35575</th>\n",
       "      <td>chr22</td>\n",
       "      <td>51060049</td>\n",
       "      <td>G</td>\n",
       "      <td>A</td>\n",
       "      <td>rs11912237</td>\n",
       "      <td>0.000067</td>\n",
       "      <td>0.000085</td>\n",
       "      <td>chr22_50621621_G_A</td>\n",
       "      <td>G_A</td>\n",
       "      <td>A_G</td>\n",
       "      <td>G_A</td>\n",
       "    </tr>\n",
       "    <tr>\n",
       "      <th>35576</th>\n",
       "      <td>chr22</td>\n",
       "      <td>51066552</td>\n",
       "      <td>C</td>\n",
       "      <td>G</td>\n",
       "      <td>rs6151406</td>\n",
       "      <td>-0.000557</td>\n",
       "      <td>-0.000713</td>\n",
       "      <td>chr22_50628124_C_G</td>\n",
       "      <td>C_G</td>\n",
       "      <td>G_C</td>\n",
       "      <td>C_G</td>\n",
       "    </tr>\n",
       "    <tr>\n",
       "      <th>35577</th>\n",
       "      <td>chr22</td>\n",
       "      <td>51066921</td>\n",
       "      <td>G</td>\n",
       "      <td>A</td>\n",
       "      <td>rs131715</td>\n",
       "      <td>-0.000046</td>\n",
       "      <td>-0.000059</td>\n",
       "      <td>chr22_50628493_G_A</td>\n",
       "      <td>G_A</td>\n",
       "      <td>A_G</td>\n",
       "      <td>G_A</td>\n",
       "    </tr>\n",
       "  </tbody>\n",
       "</table>\n",
       "<p>35578 rows × 11 columns</p>\n",
       "</div>"
      ],
      "text/plain": [
       "         chr       pos ref alt         rsid  DNASE_SAD  DNASE_SAR  \\\n",
       "0       chr1    801680   A   C   rs12134490   0.000039   0.000052   \n",
       "1       chr1    894719   C   T  rs187243360   0.000328   0.000412   \n",
       "2       chr1    895889   A   T   rs72891151   0.000195   0.000245   \n",
       "3       chr1    911418   A   C  rs113068688   0.000127   0.000157   \n",
       "4       chr1    911916   C   T   rs74045046   0.000141   0.000175   \n",
       "...      ...       ...  ..  ..          ...        ...        ...   \n",
       "35573  chr22  51001432   C   G     rs140517  -0.002317  -0.002354   \n",
       "35574  chr22  51059118   T   G    rs3091400   0.001514   0.001934   \n",
       "35575  chr22  51060049   G   A   rs11912237   0.000067   0.000085   \n",
       "35576  chr22  51066552   C   G    rs6151406  -0.000557  -0.000713   \n",
       "35577  chr22  51066921   G   A     rs131715  -0.000046  -0.000059   \n",
       "\n",
       "                    rsid1  RA1  RA3  RA2  \n",
       "0         chr1_866300_A_C  A_C  C_A  A_C  \n",
       "1         chr1_959339_C_T  C_T  T_C  C_T  \n",
       "2         chr1_960509_A_T  A_T  T_A  A_T  \n",
       "3         chr1_976038_A_C  A_C  C_A  A_C  \n",
       "4         chr1_976536_C_T  C_T  T_C  C_T  \n",
       "...                   ...  ...  ...  ...  \n",
       "35573  chr22_50563003_G_C  C_G  G_C  G_C  \n",
       "35574  chr22_50620690_T_G  T_G  G_T  T_G  \n",
       "35575  chr22_50621621_G_A  G_A  A_G  G_A  \n",
       "35576  chr22_50628124_C_G  C_G  G_C  C_G  \n",
       "35577  chr22_50628493_G_A  G_A  A_G  G_A  \n",
       "\n",
       "[35578 rows x 11 columns]"
      ]
     },
     "execution_count": 94,
     "metadata": {},
     "output_type": "execute_result"
    }
   ],
   "source": [
    "enformer_predictions"
   ]
  },
  {
   "cell_type": "code",
   "execution_count": 95,
   "metadata": {},
   "outputs": [
    {
     "name": "stderr",
     "output_type": "stream",
     "text": [
      "/users/anusri/anaconda3/lib/python3.7/site-packages/ipykernel_launcher.py:3: SettingWithCopyWarning: \n",
      "A value is trying to be set on a copy of a slice from a DataFrame.\n",
      "Try using .loc[row_indexer,col_indexer] = value instead\n",
      "\n",
      "See the caveats in the documentation: https://pandas.pydata.org/pandas-docs/stable/user_guide/indexing.html#returning-a-view-versus-a-copy\n",
      "  This is separate from the ipykernel package so we can avoid doing imports until\n",
      "/users/anusri/anaconda3/lib/python3.7/site-packages/ipykernel_launcher.py:4: SettingWithCopyWarning: \n",
      "A value is trying to be set on a copy of a slice from a DataFrame.\n",
      "Try using .loc[row_indexer,col_indexer] = value instead\n",
      "\n",
      "See the caveats in the documentation: https://pandas.pydata.org/pandas-docs/stable/user_guide/indexing.html#returning-a-view-versus-a-copy\n",
      "  after removing the cwd from sys.path.\n"
     ]
    }
   ],
   "source": [
    "enformer_predictions1 = enformer_predictions[enformer_predictions[\"RA1\"] == enformer_predictions[\"RA2\"]]\n",
    "enformer_predictions2 = enformer_predictions[enformer_predictions[\"RA3\"] == enformer_predictions[\"RA2\"]]\n",
    "enformer_predictions2[\"c\"] = -1*enformer_predictions2[\"DNASE_SAD\"] \n",
    "enformer_predictions2[\"DNASE_SAR\"] = -1*enformer_predictions2[\"DNASE_SAR\"] \n",
    "\n",
    "enformer_predictions_new = pd.concat([enformer_predictions2, enformer_predictions1])"
   ]
  },
  {
   "cell_type": "code",
   "execution_count": 96,
   "metadata": {},
   "outputs": [
    {
     "data": {
      "text/plain": [
       "(35506, 12)"
      ]
     },
     "execution_count": 96,
     "metadata": {},
     "output_type": "execute_result"
    }
   ],
   "source": [
    "enformer_predictions_new.shape"
   ]
  },
  {
   "cell_type": "code",
   "execution_count": 97,
   "metadata": {},
   "outputs": [
    {
     "data": {
      "text/plain": [
       "(35547, 84)"
      ]
     },
     "execution_count": 97,
     "metadata": {},
     "output_type": "execute_result"
    }
   ],
   "source": [
    "combine.shape"
   ]
  },
  {
   "cell_type": "code",
   "execution_count": 98,
   "metadata": {},
   "outputs": [],
   "source": [
    "#len(set(enformer_predictions[\"rsid1\"]))\n"
   ]
  },
  {
   "cell_type": "code",
   "execution_count": 99,
   "metadata": {},
   "outputs": [],
   "source": [
    "\n",
    "enformer_predictions_new2 = enformer_predictions_new.merge(combine, right_on=\"rsid_x\", left_on=\"rsid1\", how=\"inner\").drop_duplicates()"
   ]
  },
  {
   "cell_type": "code",
   "execution_count": 100,
   "metadata": {},
   "outputs": [
    {
     "name": "stdout",
     "output_type": "stream",
     "text": [
      "6052\n"
     ]
    },
    {
     "data": {
      "text/plain": [
       "(35547, 84)"
      ]
     },
     "execution_count": 100,
     "metadata": {},
     "output_type": "execute_result"
    }
   ],
   "source": [
    "# if row['allele1'] != row['rsid'].split('_')[2]:\n",
    "#         if row['allele2'] == row['rsid'].split('_')[2]:\n",
    "#             afr_corrected_logfc_asb.append(-1 * row['afr.mean.logfc'])\n",
    "#             eur_corrected_logfc_asb.append(-1 * row['eur.mean.logfc'])\n",
    "            \n",
    "print(sum(combine[\"allele1_x\"] != combine[\"rsid_y\"].str.split('_').str[2]))\n",
    "combine.shape"
   ]
  },
  {
   "cell_type": "code",
   "execution_count": 103,
   "metadata": {},
   "outputs": [
    {
     "data": {
      "text/plain": [
       "0        C\n",
       "1        C\n",
       "2        A\n",
       "3        C\n",
       "4        T\n",
       "        ..\n",
       "35542    T\n",
       "35543    G\n",
       "35544    C\n",
       "35545    C\n",
       "35546    G\n",
       "Name: allele1_x, Length: 35547, dtype: object"
      ]
     },
     "execution_count": 103,
     "metadata": {},
     "output_type": "execute_result"
    }
   ],
   "source": [
    "combine[\"allele1_x\"]"
   ]
  },
  {
   "cell_type": "code",
   "execution_count": 106,
   "metadata": {},
   "outputs": [
    {
     "data": {
      "text/plain": [
       "0         chr1_30783058_C_T\n",
       "1         chr1_36023355_C_T\n",
       "2         chr1_46420268_A_C\n",
       "3         chr1_58156036_C_A\n",
       "4         chr1_66413586_T_C\n",
       "                ...        \n",
       "35542    chr2_176509430_T_A\n",
       "35543    chr1_219988687_G_T\n",
       "35544    chr4_142840715_C_T\n",
       "35545    chr13_92422559_C_A\n",
       "35546     chr7_22173739_G_T\n",
       "Name: rsid_x, Length: 35547, dtype: object"
      ]
     },
     "execution_count": 106,
     "metadata": {},
     "output_type": "execute_result"
    }
   ],
   "source": [
    "combine[\"rsid_x\"]"
   ]
  },
  {
   "cell_type": "code",
   "execution_count": 107,
   "metadata": {},
   "outputs": [],
   "source": []
  },
  {
   "cell_type": "code",
   "execution_count": null,
   "metadata": {},
   "outputs": [],
   "source": []
  },
  {
   "cell_type": "code",
   "execution_count": 138,
   "metadata": {},
   "outputs": [],
   "source": [
    "data_dnase = pd.read_csv(\"/mnt/lab_data2/anusri/enformer/eu_caqtls/chrombpnet_preds/dnase_preds/DNASE/summary.mean.variant_scores_new_2.tsv\", sep=\"\\t\", header=0)\n",
    "data_dnase[\"rsid\"] = \"chr\"+data_dnase[\"rsid\"]\n",
    "data_dnase[['Chrx', 'Posx', 'REF', 'ALT']] = data_dnase['rsid'].str.split(\"_\", expand=True)\n",
    "data_dnase[\"jsd_sign.mean\"] = data_dnase[\"jsd.mean\"]*np.sign(data_dnase[\"logfc.mean\"])\n",
    "\n",
    "data_atac = pd.read_csv(\"/mnt/lab_data2/anusri/enformer/eu_caqtls/chrombpnet_preds/atac/ATAC/summary.mean.variant_scores_new_2.tsv\", sep=\"\\t\", header=0)\n",
    "data_atac[\"rsid\"] = \"chr\"+data_atac[\"rsid\"]\n",
    "\n",
    "data_atac[['Chrx', 'Posx', 'REF', 'ALT']] = data_atac['rsid'].str.split(\"_\", expand=True)\n",
    "data_atac[\"jsd_sign.mean\"] = data_atac[\"jsd.mean\"]*np.sign(data_atac[\"logfc.mean\"])\n",
    "\n",
    "data_atac_50m = pd.read_csv(\"/mnt/lab_data2/anusri/enformer/eu_caqtls/chrombpnet_preds/atac_50M/ATAC_50M/summary.mean.variant_scores_new_2.tsv\", sep=\"\\t\", header=0)\n",
    "data_atac_50m[\"rsid\"] = \"chr\"+data_atac_50m[\"rsid\"]\n",
    "data_atac_50m[['Chrx', 'Posx', 'REF', 'ALT']] = data_atac_50m['rsid'].str.split(\"_\", expand=True)\n",
    "data_atac_50m[\"jsd_sign.mean\"] = data_atac_50m[\"jsd.mean\"]*np.sign(data_atac_50m[\"logfc.mean\"])\n"
   ]
  },
  {
   "cell_type": "code",
   "execution_count": 139,
   "metadata": {},
   "outputs": [
    {
     "data": {
      "text/plain": [
       "(35506, 96)"
      ]
     },
     "execution_count": 139,
     "metadata": {},
     "output_type": "execute_result"
    }
   ],
   "source": [
    "enformer_predictions_new2.shape"
   ]
  },
  {
   "cell_type": "code",
   "execution_count": 140,
   "metadata": {},
   "outputs": [
    {
     "data": {
      "text/plain": [
       "Index(['chr', 'pos', 'ref', 'alt', 'rsid', 'DNASE_SAD', 'DNASE_SAR', 'rsid1_x',\n",
       "       'RA1', 'RA3', 'RA2', 'c', 'chr_x', 'pos_x', 'allele1_x', 'allele2_x',\n",
       "       'label', 'rsid_x', 'chr_y', 'pos_y', 'allele1_y', 'allele2_y', 'rsid_y',\n",
       "       'Esan.mean.logfc', 'Esan.mean.abs_logfc', 'Esan.mean.jsd',\n",
       "       'Esan.mean.abs_logfc_x_jsd',\n",
       "       'Esan.mean.abs_logfc_x_jsd_x_max_percentile',\n",
       "       'Esan.mean.max_percentile', 'Esan.mean.abs_logfc.pval',\n",
       "       'Esan.mean.jsd.pval', 'Esan.mean.abs_logfc_x_jsd.pval',\n",
       "       'Esan.mean.abs_logfc_x_jsd_x_max_percentile.pval', 'Mende.mean.logfc',\n",
       "       'Mende.mean.abs_logfc', 'Mende.mean.jsd', 'Mende.mean.abs_logfc.pval',\n",
       "       'Mende.mean.jsd.pval', 'Yoruba.mean.logfc', 'Yoruba.mean.abs_logfc',\n",
       "       'Yoruba.mean.jsd', 'Yoruba.mean.abs_logfc.pval', 'Yoruba.mean.jsd.pval',\n",
       "       'GM12878.ENCSR095QNB.mean.logfc', 'GM12878.ENCSR095QNB.mean.abs_logfc',\n",
       "       'GM12878.ENCSR095QNB.mean.jsd',\n",
       "       'GM12878.ENCSR095QNB.mean.abs_logfc_x_jsd',\n",
       "       'GM12878.ENCSR095QNB.mean.abs_logfc_x_jsd_x_max_percentile',\n",
       "       'GM12878.ENCSR095QNB.mean.max_percentile',\n",
       "       'GM12878.ENCSR095QNB.mean.abs_logfc.pval',\n",
       "       'GM12878.ENCSR095QNB.mean.jsd.pval',\n",
       "       'GM12878.ENCSR095QNB.mean.abs_logfc_x_jsd.pval',\n",
       "       'GM12878.ENCSR095QNB.mean.abs_logfc_x_jsd_x_max_percentile.pval',\n",
       "       'GM12878.ENCSR637XSC.mean.logfc', 'GM12878.ENCSR637XSC.mean.abs_logfc',\n",
       "       'GM12878.ENCSR637XSC.mean.jsd',\n",
       "       'GM12878.ENCSR637XSC.mean.abs_logfc_x_jsd',\n",
       "       'GM12878.ENCSR637XSC.mean.abs_logfc_x_jsd_x_max_percentile',\n",
       "       'GM12878.ENCSR637XSC.mean.max_percentile',\n",
       "       'GM12878.ENCSR637XSC.mean.abs_logfc.pval',\n",
       "       'GM12878.ENCSR637XSC.mean.jsd.pval',\n",
       "       'GM12878.ENCSR637XSC.mean.abs_logfc_x_jsd.pval',\n",
       "       'GM12878.ENCSR637XSC.mean.abs_logfc_x_jsd_x_max_percentile.pval',\n",
       "       'Luhya.mean.logfc', 'Luhya.mean.abs_logfc', 'Luhya.mean.jsd',\n",
       "       'Luhya.mean.abs_logfc.pval', 'Luhya.mean.jsd.pval',\n",
       "       'Gambian.mean.logfc', 'Gambian.mean.abs_logfc', 'Gambian.mean.jsd',\n",
       "       'Gambian.mean.abs_logfc.pval', 'Gambian.mean.jsd.pval',\n",
       "       'Maasai.mean.logfc', 'Maasai.mean.abs_logfc', 'Maasai.mean.jsd',\n",
       "       'Maasai.mean.abs_logfc.pval', 'Maasai.mean.jsd.pval', 'afr.mean.logfc',\n",
       "       'afr.mean.abs_logfc', 'afr.mean.jsd', 'eur.mean.logfc',\n",
       "       'eur.mean.abs_logfc', 'eur.mean.jsd', 'afr.mean.abs_logfc.pval',\n",
       "       'afr.mean.jsd.pval', 'eur.mean.abs_logfc.pval', 'eur.mean.jsd.pval',\n",
       "       'region', 'snp', 'distance', 'pval', 'beta', 'se', 'abs_beta',\n",
       "       'rsid1_y'],\n",
       "      dtype='object')"
      ]
     },
     "execution_count": 140,
     "metadata": {},
     "output_type": "execute_result"
    }
   ],
   "source": [
    "enformer_predictions_new2.columns"
   ]
  },
  {
   "cell_type": "code",
   "execution_count": 141,
   "metadata": {},
   "outputs": [],
   "source": [
    "data_dnase = data_dnase[data_dnase[\"rsid\"].isin(enformer_predictions_new2[\"rsid_y\"])]\n",
    "data_atac = data_atac[data_atac[\"rsid\"].isin(enformer_predictions_new2[\"rsid_y\"])]\n",
    "data_atac_50m = data_atac_50m[data_atac_50m[\"rsid\"].isin(enformer_predictions_new2[\"rsid_y\"])]\n"
   ]
  },
  {
   "cell_type": "code",
   "execution_count": 142,
   "metadata": {},
   "outputs": [
    {
     "data": {
      "text/plain": [
       "(35506, 96)"
      ]
     },
     "execution_count": 142,
     "metadata": {},
     "output_type": "execute_result"
    }
   ],
   "source": [
    "enformer_predictions_new2.shape"
   ]
  },
  {
   "cell_type": "code",
   "execution_count": 143,
   "metadata": {},
   "outputs": [
    {
     "data": {
      "text/plain": [
       "0          chr1_1079456_A_G\n",
       "1          chr1_1201373_T_C\n",
       "2          chr1_1274256_A_G\n",
       "3          chr1_1307603_G_A\n",
       "4          chr1_2556714_A_G\n",
       "                ...        \n",
       "35501    chr22_50562787_G_C\n",
       "35502    chr22_50620690_G_T\n",
       "35503    chr22_50621621_G_A\n",
       "35504    chr22_50628124_C_G\n",
       "35505    chr22_50628493_G_A\n",
       "Name: rsid_y, Length: 35506, dtype: object"
      ]
     },
     "execution_count": 143,
     "metadata": {},
     "output_type": "execute_result"
    }
   ],
   "source": [
    "enformer_predictions_new2[\"rsid_y\"]"
   ]
  },
  {
   "cell_type": "code",
   "execution_count": 144,
   "metadata": {},
   "outputs": [],
   "source": [
    "#data_atac = data_atac[data_atac[\"rsid\"],isin(enformer_predictions_new2[\"rsid_x\"])]\n",
    "#print(data_atac.shape)"
   ]
  },
  {
   "cell_type": "code",
   "execution_count": 145,
   "metadata": {},
   "outputs": [],
   "source": [
    "#data_atac_50m = data_atac_50m[data_atac_50m[\"rsid\"],isin(enformer_predictions_new2[\"rsid_x\"])]\n",
    "#print(data_atac_50m.shape)"
   ]
  },
  {
   "cell_type": "code",
   "execution_count": 150,
   "metadata": {},
   "outputs": [],
   "source": [
    "#print(data_atac_50m.shape)"
   ]
  },
  {
   "cell_type": "code",
   "execution_count": 151,
   "metadata": {},
   "outputs": [
    {
     "name": "stderr",
     "output_type": "stream",
     "text": [
      "/users/anusri/anaconda3/lib/python3.7/site-packages/pandas/core/frame.py:9203: FutureWarning: Passing 'suffixes' which cause duplicate columns {'pos_y', 'chr_y', 'rsid_y'} in the result is deprecated and will raise a MergeError in a future version.\n",
      "  validate=validate,\n"
     ]
    }
   ],
   "source": [
    "data_dnase1 = data_dnase.merge(enformer_predictions_new2, right_on=[\"rsid_y\"], left_on=[\"rsid\"])"
   ]
  },
  {
   "cell_type": "code",
   "execution_count": 152,
   "metadata": {},
   "outputs": [],
   "source": [
    "data_atac1 = data_atac.merge(enformer_predictions_new2, right_on=[\"rsid_y\"], left_on=[\"rsid\"])"
   ]
  },
  {
   "cell_type": "code",
   "execution_count": 153,
   "metadata": {},
   "outputs": [],
   "source": [
    "data_atac_50m1 = data_atac_50m.merge(enformer_predictions_new2, right_on=[\"rsid_y\"], left_on=[\"rsid\"])"
   ]
  },
  {
   "cell_type": "code",
   "execution_count": null,
   "metadata": {},
   "outputs": [],
   "source": []
  },
  {
   "cell_type": "code",
   "execution_count": 154,
   "metadata": {},
   "outputs": [
    {
     "data": {
      "text/plain": [
       "Index(['chr_x', 'pos_x', 'allele1', 'allele2', 'rsid_x', 'logfc.mean',\n",
       "       'abs_logfc.mean', 'abs_logfc.mean.pval', 'jsd.mean', 'jsd.mean.pval',\n",
       "       ...\n",
       "       'eur.mean.abs_logfc.pval', 'eur.mean.jsd.pval', 'region', 'snp',\n",
       "       'distance', 'pval', 'beta', 'se', 'abs_beta', 'rsid1_y'],\n",
       "      dtype='object', length=125)"
      ]
     },
     "execution_count": 154,
     "metadata": {},
     "output_type": "execute_result"
    }
   ],
   "source": [
    "data_dnase1.columns"
   ]
  },
  {
   "cell_type": "code",
   "execution_count": null,
   "metadata": {},
   "outputs": [],
   "source": []
  },
  {
   "cell_type": "code",
   "execution_count": 194,
   "metadata": {},
   "outputs": [
    {
     "name": "stdout",
     "output_type": "stream",
     "text": [
      "0.5056273175153359\n",
      "0.4286308116836259\n",
      "0.3900412324153197\n",
      "0.217104025050456\n"
     ]
    },
    {
     "data": {
      "text/plain": [
       "<matplotlib.legend.Legend at 0x7ff59b357dd0>"
      ]
     },
     "execution_count": 194,
     "metadata": {},
     "output_type": "execute_result"
    },
    {
     "data": {
      "image/png": "[encoded data removed]",
      "text/plain": [
       "<Figure size 432x288 with 1 Axes>"
      ]
     },
     "metadata": {
      "needs_background": "light"
     },
     "output_type": "display_data"
    }
   ],
   "source": [
    "import matplotlib.pyplot as plt\n",
    "import pandas as pd\n",
    "from sklearn.metrics import precision_recall_curve\n",
    "from sklearn.metrics import roc_curve\n",
    "from sklearn.metrics import RocCurveDisplay\n",
    "import pandas as pd\n",
    "import matplotlib.pyplot as plt\n",
    "import numpy as np\n",
    "from sklearn import metrics\n",
    "import matplotlib.pyplot as plt\n",
    "import matplotlib\n",
    "\n",
    "#keyd=\"GM12878.ENCSR637XSC.mean.abs_logfc_x_jsd_x_max_percentile\"\n",
    "keyd=\"abs_logfc_x_jsd_x_max_percentile.mean\"\n",
    "\n",
    "fpr_chrombpnet, tpr_chrombpnet, _ = precision_recall_curve(data_atac1[\"label\"].astype(int), abs(data_atac1[keyd]))\n",
    "roc_auc = metrics.average_precision_score(data_atac1[\"label\"], abs(data_atac1[keyd]))\n",
    "plt.plot(tpr_chrombpnet,fpr_chrombpnet,  linewidth=2, c='blue', linestyle='dashed', label=\"ChromBPnet w/ ATAC, AP=\"+str(round(roc_auc,2)))\n",
    "print(roc_auc)\n",
    "\n",
    "fpr_chrombpnet, tpr_chrombpnet, _ = precision_recall_curve(data_atac_50m1[\"label\"].astype(int), abs(data_atac_50m1[keyd]))\n",
    "roc_auc = metrics.average_precision_score(data_atac_50m1[\"label\"], abs(data_atac_50m1[keyd]))\n",
    "plt.plot(tpr_chrombpnet,fpr_chrombpnet,  linewidth=2, c='blue', label=\"ChromBPnet w/ ATAC, AP=\"+str(round(roc_auc,2)))\n",
    "print(roc_auc)\n",
    "\n",
    "fpr_chrombpnet, tpr_chrombpnet, _ = precision_recall_curve(data_dnase1[\"label\"].astype(int), abs(data_dnase1[keyd]))\n",
    "roc_auc = metrics.average_precision_score(data_dnase1[\"label\"], abs(data_dnase1[keyd]))\n",
    "plt.plot(tpr_chrombpnet,fpr_chrombpnet,  linewidth=2, c='cyan', linestyle='dashed', label=\"ChromBPnet w/ DNASE, AP=\"+str(round(roc_auc,2)))\n",
    "print(roc_auc)\n",
    "\n",
    "keyd=\"DNASE_SAD\"\n",
    "fpr_chrombpnet, tpr_chrombpnet, _ = precision_recall_curve(enformer_predictions_new2[\"label\"].astype(int), abs(enformer_predictions_new2[keyd]))\n",
    "roc_auc = metrics.average_precision_score(enformer_predictions_new2[\"label\"].astype(int), abs(enformer_predictions_new2[keyd]))\n",
    "plt.plot(tpr_chrombpnet,fpr_chrombpnet,  linewidth=2, c='orange', label=\"Enformer SAD, AP=\"+str(round(roc_auc,2)))\n",
    "print(roc_auc)\n",
    "\n",
    "plt.legend()"
   ]
  },
  {
   "cell_type": "code",
   "execution_count": 178,
   "metadata": {},
   "outputs": [
    {
     "data": {
      "text/plain": [
       "0.02"
      ]
     },
     "execution_count": 178,
     "metadata": {},
     "output_type": "execute_result"
    }
   ],
   "source": [
    "np.round(sum(enformer_predictions_new2[\"label\"].astype(int)==1)/enformer_predictions_new2.shape[0],2)"
   ]
  },
  {
   "cell_type": "code",
   "execution_count": 179,
   "metadata": {},
   "outputs": [],
   "source": [
    "data_atac1.loc[data_atac1[\"allele1_x\"] != data_atac1[\"rsid_y\"].iloc[:,1].str.split('_').str[2], \"jsd_sign.mean\"] = -1* data_atac1[data_atac1[\"allele1_x\"] != data_atac1[\"rsid_y\"].iloc[:,1].str.split('_').str[2]][\"jsd_sign.mean\"]\n"
   ]
  },
  {
   "cell_type": "code",
   "execution_count": 182,
   "metadata": {},
   "outputs": [],
   "source": [
    "data_dnase1.loc[data_dnase1[\"allele1_x\"] != data_dnase1[\"rsid_y\"].iloc[:,1].str.split('_').str[2], \"jsd_sign.mean\"] = -1* data_dnase1[data_dnase1[\"allele1_x\"] != data_dnase1[\"rsid_y\"].iloc[:,1].str.split('_').str[2]][\"jsd_sign.mean\"]\n",
    "\n",
    "data_atac_50m1.loc[data_atac_50m1[\"allele1_x\"] != data_atac_50m1[\"rsid_y\"].iloc[:,1].str.split('_').str[2], \"jsd_sign.mean\"] = -1* data_atac_50m1[data_atac_50m1[\"allele1_x\"] != data_atac_50m1[\"rsid_y\"].iloc[:,1].str.split('_').str[2]][\"jsd_sign.mean\"]\n",
    "\n"
   ]
  },
  {
   "cell_type": "code",
   "execution_count": 192,
   "metadata": {},
   "outputs": [],
   "source": [
    "data_p = pd.DataFrame()\n",
    "combine1 = enformer_predictions_new2\n",
    "data_p[\"sd_sign.mean\"] = combine1[\"DNASE_SAR\"]\n",
    "data_p.loc[combine1[\"allele1_x\"] != combine1[\"rsid_y\"].str.split('_').str[2], \"sd_sign.mean\"] = -1* data_p[combine1[\"allele1_x\"] != combine1[\"rsid_y\"].str.split('_').str[2]][\"sd_sign.mean\"]\n",
    "data_p[\"beta\"] = combine1[\"beta\"]\n",
    "data_p[\"label\"] = combine1[\"label\"]"
   ]
  },
  {
   "cell_type": "code",
   "execution_count": 193,
   "metadata": {},
   "outputs": [
    {
     "name": "stdout",
     "output_type": "stream",
     "text": [
      "ChromBPNet ATAC:  0.68\n",
      "ChromBPNet ATAC:  0.67\n",
      "ChromBPNet DNase:  0.69\n",
      "Enformer:  0.53\n",
      "ChromBPNet ATAC:  2.006209098139025e-94\n",
      "ChromBPNet ATAC:  3.766850718777501e-92\n",
      "ChromBPNet DNase:  2.0428541794203464e-99\n",
      "Enformer:  1.1430928828877437e-50\n"
     ]
    }
   ],
   "source": [
    "keyd=\"jsd_sign.mean\"\n",
    "print(\"ChromBPNet ATAC: \", np.round(scipy.stats.pearsonr(data_atac1[keyd][data_atac1[\"label\"]==1], data_atac1[\"beta\"][data_atac1[\"label\"]==1])[0],2))\n",
    "print(\"ChromBPNet ATAC: \", np.round(scipy.stats.pearsonr(data_atac_50m1[keyd][data_atac_50m1[\"label\"]==1], data_atac_50m1[\"beta\"][data_atac_50m1[\"label\"]==1])[0],2))\n",
    "print(\"ChromBPNet DNase: \", np.round(scipy.stats.pearsonr(data_dnase1[keyd][data_dnase1[\"label\"]==1], data_dnase1[\"beta\"][data_dnase1[\"label\"]==1])[0],2))\n",
    "print(\"Enformer: \",np.round(scipy.stats.pearsonr(data_p[\"sd_sign.mean\"][data_p[\"label\"]==1], data_p[\"beta\"][data_p[\"label\"]==1])[0],2))\n",
    "\n",
    "print(\"ChromBPNet ATAC: \", scipy.stats.pearsonr(data_atac1[keyd][data_atac1[\"label\"]==1], data_atac1[\"beta\"][data_atac1[\"label\"]==1])[1])\n",
    "print(\"ChromBPNet ATAC: \", scipy.stats.pearsonr(data_atac_50m1[keyd][data_atac_50m1[\"label\"]==1], data_atac_50m1[\"beta\"][data_atac_50m1[\"label\"]==1])[1])\n",
    "print(\"ChromBPNet DNase: \",scipy.stats.pearsonr(data_dnase1[keyd][data_dnase1[\"label\"]==1], data_dnase1[\"beta\"][data_dnase1[\"label\"]==1])[1])\n",
    "print(\"Enformer: \",scipy.stats.pearsonr(data_p[\"sd_sign.mean\"][data_p[\"label\"]==1], data_p[\"beta\"][data_p[\"label\"]==1])[1])\n"
   ]
  },
  {
   "cell_type": "code",
   "execution_count": 201,
   "metadata": {},
   "outputs": [
    {
     "name": "stdout",
     "output_type": "stream",
     "text": [
      "num nan\n",
      "0\n",
      "(0.6765237637222654, 2.006209098139025e-94)\n"
     ]
    },
    {
     "data": {
      "text/plain": [
       "<matplotlib.colorbar.Colorbar at 0x7ff59b45df10>"
      ]
     },
     "execution_count": 201,
     "metadata": {},
     "output_type": "execute_result"
    },
    {
     "data": {
      "image/png": "[encoded data removed]",
      "text/plain": [
       "<Figure size 576x360 with 2 Axes>"
      ]
     },
     "metadata": {
      "needs_background": "light"
     },
     "output_type": "display_data"
    }
   ],
   "source": [
    "\n",
    "import seaborn as sns\n",
    "import matplotlib\n",
    "matplotlib.rcParams['pdf.fonttype'] = 42\n",
    "matplotlib.rcParams['ps.fonttype'] = 42 \n",
    "\n",
    "\n",
    "data = pd.DataFrame()\n",
    "data[\"sd_sign.mean\"] = data_atac1[data_atac1[\"label\"]==1][\"jsd_sign.mean\"]\n",
    "data[\"Beta\"] = data_atac1[data_atac1[\"label\"]==1][\"beta\"]\n",
    "data[\"max_percentile.mean\"] = abs(data_atac1[data_atac1[\"label\"]==1][\"max_percentile.mean\"])\n",
    "\n",
    "plt.figure(figsize=(8,5))\n",
    "\n",
    "print(\"num nan\")\n",
    "print(sum(np.isnan(data[\"Beta\"])))\n",
    "print(scipy.stats.pearsonr(data[\"sd_sign.mean\"], data[\"Beta\"]))\n",
    "sns.kdeplot(\n",
    "    data=data,\n",
    "    x=\"Beta\",\n",
    "    y=\"sd_sign.mean\",\n",
    "    levels=5,\n",
    "    fill=False,\n",
    "    alpha=0.2,\n",
    "    color=\"grey\",\n",
    "    cut=2,\n",
    "\n",
    ")\n",
    "ax = sns.scatterplot(x=\"Beta\", y=\"sd_sign.mean\", hue=\"max_percentile.mean\", data=data, s=15, palette=\"Oranges\")\n",
    "sns.regplot(x=\"Beta\", y=\"sd_sign.mean\", data=data, scatter=False, ci=None, color=\"orange\")\n",
    "#sns.jointplot(x=data[\"Beta\"], y=data[\"sd_sign.mean\"],s=0,ax=ax)\n",
    "\n",
    "norm = plt.Normalize(data['max_percentile.mean'].min(), data['max_percentile.mean'].max())\n",
    "sm = plt.cm.ScalarMappable(cmap=\"Oranges\", norm=norm)\n",
    "sm.set_array([])\n",
    "\n",
    "# Remove the legend and add a colorbar\n",
    "ax.get_legend().remove()\n",
    "ax.figure.colorbar(sm)\n",
    "#plt.savefig(\"subfigs_new/microglia_caqtls_scatter_plot.pdf\", transparent=True, dpi=300)\n"
   ]
  },
  {
   "cell_type": "code",
   "execution_count": null,
   "metadata": {},
   "outputs": [],
   "source": []
  },
  {
   "cell_type": "code",
   "execution_count": 57,
   "metadata": {},
   "outputs": [
    {
     "data": {
      "text/plain": [
       "<AxesSubplot:xlabel='Beta', ylabel='sd_sign.mean'>"
      ]
     },
     "execution_count": 57,
     "metadata": {},
     "output_type": "execute_result"
    },
    {
     "data": {
      "image/png": "[encoded data removed]",
      "text/plain": [
       "<Figure size 576x360 with 1 Axes>"
      ]
     },
     "metadata": {
      "needs_background": "light"
     },
     "output_type": "display_data"
    }
   ],
   "source": [
    "import seaborn as sns\n",
    "\n",
    "plt.figure(figsize=(8,5))\n",
    "data = pd.DataFrame()\n",
    "combine1 = combine[combine[\"label\"]==1]\n",
    "data[\"sd_sign.mean\"] = combine1[\"GM12878.ENCSR637XSC.mean.jsd\"]*np.sign(combine1[\"GM12878.ENCSR637XSC.mean.logfc\"])\n",
    "data.loc[combine1[\"allele1_x\"] != combine1[\"rsid_y\"].str.split('_').str[2], \"sd_sign.mean\"] = -1* data[combine1[\"allele1_x\"] != combine1[\"rsid_y\"].str.split('_').str[2]][\"sd_sign.mean\"]\n",
    "data[\"Beta\"] = combine1[\"beta\"]\n",
    "data[\"logfc_x_max_percentile.mean\"] = abs(combine1[\"GM12878.ENCSR637XSC.mean.max_percentile\"])\n",
    "\n",
    "sns.scatterplot(data=data, y=\"sd_sign.mean\", x=\"Beta\", hue=\"logfc_x_max_percentile.mean\", s=10)\n"
   ]
  },
  {
   "cell_type": "code",
   "execution_count": 58,
   "metadata": {},
   "outputs": [
    {
     "data": {
      "text/plain": [
       "(0.6722146578666769, 8.20108309064487e-93)"
      ]
     },
     "execution_count": 58,
     "metadata": {},
     "output_type": "execute_result"
    }
   ],
   "source": [
    "import scipy.stats\n",
    "scipy.stats.pearsonr(data[\"sd_sign.mean\"], data[\"Beta\"])"
   ]
  },
  {
   "cell_type": "code",
   "execution_count": 59,
   "metadata": {},
   "outputs": [
    {
     "data": {
      "text/plain": [
       "<AxesSubplot:xlabel='Beta', ylabel='sd_sign.mean'>"
      ]
     },
     "execution_count": 59,
     "metadata": {},
     "output_type": "execute_result"
    },
    {
     "data": {
      "image/png": "[encoded data removed]",
      "text/plain": [
       "<Figure size 576x360 with 1 Axes>"
      ]
     },
     "metadata": {
      "needs_background": "light"
     },
     "output_type": "display_data"
    }
   ],
   "source": [
    "import seaborn as sns\n",
    "\n",
    "plt.figure(figsize=(8,5))\n",
    "data = pd.DataFrame()\n",
    "combine1 = enformer_predictions_new2[enformer_predictions_new2[\"label\"]==1]\n",
    "data[\"sd_sign.mean\"] = combine1[\"DNASE_SAR\"]\n",
    "data.loc[combine1[\"allele1_x\"] != combine1[\"rsid_y\"].str.split('_').str[2], \"sd_sign.mean\"] = -1* data[combine1[\"allele1_x\"] != combine1[\"rsid_y\"].str.split('_').str[2]][\"sd_sign.mean\"]\n",
    "data[\"Beta\"] = combine1[\"beta\"]\n",
    "\n",
    "sns.scatterplot(data=data, y=\"sd_sign.mean\", x=\"Beta\", s=10)\n"
   ]
  },
  {
   "cell_type": "code",
   "execution_count": 60,
   "metadata": {},
   "outputs": [
    {
     "data": {
      "text/plain": [
       "(0.5251740484869941, 1.1430928828877437e-50)"
      ]
     },
     "execution_count": 60,
     "metadata": {},
     "output_type": "execute_result"
    }
   ],
   "source": [
    "import scipy.stats\n",
    "scipy.stats.pearsonr(data[\"sd_sign.mean\"], data[\"Beta\"])"
   ]
  },
  {
   "cell_type": "code",
   "execution_count": null,
   "metadata": {},
   "outputs": [],
   "source": []
  },
  {
   "cell_type": "code",
   "execution_count": 54,
   "metadata": {},
   "outputs": [
    {
     "data": {
      "text/plain": [
       "Index(['chr', 'pos', 'ref', 'alt', 'rsid', 'DNASE_SAD', 'DNASE_SAR', 'rsid1',\n",
       "       'RA1', 'RA3', 'RA2', 'c'],\n",
       "      dtype='object')"
      ]
     },
     "execution_count": 54,
     "metadata": {},
     "output_type": "execute_result"
    }
   ],
   "source": [
    "enformer_predictions_new.columns"
   ]
  },
  {
   "cell_type": "code",
   "execution_count": 169,
   "metadata": {},
   "outputs": [
    {
     "data": {
      "text/plain": [
       "[0       True\n",
       " 1      False\n",
       " 2      False\n",
       " 3      False\n",
       " 4      False\n",
       "        ...  \n",
       " 692     True\n",
       " 693    False\n",
       " 694    False\n",
       " 695     True\n",
       " 696    False\n",
       " Length: 697, dtype: bool]"
      ]
     },
     "execution_count": 169,
     "metadata": {},
     "output_type": "execute_result"
    }
   ],
   "source": [
    "[combine1[\"allele1_x\"] != combine1[\"rsid_y\"].str.split('_').str[2]]"
   ]
  },
  {
   "cell_type": "code",
   "execution_count": 171,
   "metadata": {},
   "outputs": [
    {
     "data": {
      "text/plain": [
       "(0.6722146578666769, 8.20108309064487e-93)"
      ]
     },
     "execution_count": 171,
     "metadata": {},
     "output_type": "execute_result"
    }
   ],
   "source": []
  },
  {
   "cell_type": "code",
   "execution_count": 147,
   "metadata": {},
   "outputs": [],
   "source": [
    "#scipy.stats.pearsonr(abs(data[\"sd_sign.mean\"]), abs(data[\"Beta\"]))"
   ]
  },
  {
   "cell_type": "code",
   "execution_count": 120,
   "metadata": {},
   "outputs": [
    {
     "data": {
      "text/plain": [
       "Index(['chr_x', 'pos_x', 'allele1_x', 'allele2_x', 'label', 'rsid_x', 'chr_y',\n",
       "       'pos_y', 'allele1_y', 'allele2_y', 'rsid_y', 'Esan.mean.logfc',\n",
       "       'Esan.mean.abs_logfc', 'Esan.mean.jsd', 'Esan.mean.abs_logfc_x_jsd',\n",
       "       'Esan.mean.abs_logfc_x_jsd_x_max_percentile',\n",
       "       'Esan.mean.max_percentile', 'Esan.mean.abs_logfc.pval',\n",
       "       'Esan.mean.jsd.pval', 'Esan.mean.abs_logfc_x_jsd.pval',\n",
       "       'Esan.mean.abs_logfc_x_jsd_x_max_percentile.pval', 'Mende.mean.logfc',\n",
       "       'Mende.mean.abs_logfc', 'Mende.mean.jsd', 'Mende.mean.abs_logfc.pval',\n",
       "       'Mende.mean.jsd.pval', 'Yoruba.mean.logfc', 'Yoruba.mean.abs_logfc',\n",
       "       'Yoruba.mean.jsd', 'Yoruba.mean.abs_logfc.pval', 'Yoruba.mean.jsd.pval',\n",
       "       'GM12878.ENCSR095QNB.mean.logfc', 'GM12878.ENCSR095QNB.mean.abs_logfc',\n",
       "       'GM12878.ENCSR095QNB.mean.jsd',\n",
       "       'GM12878.ENCSR095QNB.mean.abs_logfc_x_jsd',\n",
       "       'GM12878.ENCSR095QNB.mean.abs_logfc_x_jsd_x_max_percentile',\n",
       "       'GM12878.ENCSR095QNB.mean.max_percentile',\n",
       "       'GM12878.ENCSR095QNB.mean.abs_logfc.pval',\n",
       "       'GM12878.ENCSR095QNB.mean.jsd.pval',\n",
       "       'GM12878.ENCSR095QNB.mean.abs_logfc_x_jsd.pval',\n",
       "       'GM12878.ENCSR095QNB.mean.abs_logfc_x_jsd_x_max_percentile.pval',\n",
       "       'GM12878.ENCSR637XSC.mean.logfc', 'GM12878.ENCSR637XSC.mean.abs_logfc',\n",
       "       'GM12878.ENCSR637XSC.mean.jsd',\n",
       "       'GM12878.ENCSR637XSC.mean.abs_logfc_x_jsd',\n",
       "       'GM12878.ENCSR637XSC.mean.abs_logfc_x_jsd_x_max_percentile',\n",
       "       'GM12878.ENCSR637XSC.mean.max_percentile',\n",
       "       'GM12878.ENCSR637XSC.mean.abs_logfc.pval',\n",
       "       'GM12878.ENCSR637XSC.mean.jsd.pval',\n",
       "       'GM12878.ENCSR637XSC.mean.abs_logfc_x_jsd.pval',\n",
       "       'GM12878.ENCSR637XSC.mean.abs_logfc_x_jsd_x_max_percentile.pval',\n",
       "       'Luhya.mean.logfc', 'Luhya.mean.abs_logfc', 'Luhya.mean.jsd',\n",
       "       'Luhya.mean.abs_logfc.pval', 'Luhya.mean.jsd.pval',\n",
       "       'Gambian.mean.logfc', 'Gambian.mean.abs_logfc', 'Gambian.mean.jsd',\n",
       "       'Gambian.mean.abs_logfc.pval', 'Gambian.mean.jsd.pval',\n",
       "       'Maasai.mean.logfc', 'Maasai.mean.abs_logfc', 'Maasai.mean.jsd',\n",
       "       'Maasai.mean.abs_logfc.pval', 'Maasai.mean.jsd.pval', 'afr.mean.logfc',\n",
       "       'afr.mean.abs_logfc', 'afr.mean.jsd', 'eur.mean.logfc',\n",
       "       'eur.mean.abs_logfc', 'eur.mean.jsd', 'afr.mean.abs_logfc.pval',\n",
       "       'afr.mean.jsd.pval', 'eur.mean.abs_logfc.pval', 'eur.mean.jsd.pval',\n",
       "       'region', 'snp', 'distance', 'pval', 'beta', 'se', 'abs_beta', 'rsid1'],\n",
       "      dtype='object')"
      ]
     },
     "execution_count": 120,
     "metadata": {},
     "output_type": "execute_result"
    }
   ],
   "source": [
    "combine.columns"
   ]
  },
  {
   "cell_type": "code",
   "execution_count": 202,
   "metadata": {},
   "outputs": [
    {
     "data": {
      "text/plain": [
       "Index(['chr', 'pos', 'ref', 'alt', 'rsid', 'DNASE_SAD', 'DNASE_SAR', 'rsid1_x',\n",
       "       'RA1', 'RA3', 'RA2', 'c', 'chr_x', 'pos_x', 'allele1_x', 'allele2_x',\n",
       "       'label', 'rsid_x', 'chr_y', 'pos_y', 'allele1_y', 'allele2_y', 'rsid_y',\n",
       "       'Esan.mean.logfc', 'Esan.mean.abs_logfc', 'Esan.mean.jsd',\n",
       "       'Esan.mean.abs_logfc_x_jsd',\n",
       "       'Esan.mean.abs_logfc_x_jsd_x_max_percentile',\n",
       "       'Esan.mean.max_percentile', 'Esan.mean.abs_logfc.pval',\n",
       "       'Esan.mean.jsd.pval', 'Esan.mean.abs_logfc_x_jsd.pval',\n",
       "       'Esan.mean.abs_logfc_x_jsd_x_max_percentile.pval', 'Mende.mean.logfc',\n",
       "       'Mende.mean.abs_logfc', 'Mende.mean.jsd', 'Mende.mean.abs_logfc.pval',\n",
       "       'Mende.mean.jsd.pval', 'Yoruba.mean.logfc', 'Yoruba.mean.abs_logfc',\n",
       "       'Yoruba.mean.jsd', 'Yoruba.mean.abs_logfc.pval', 'Yoruba.mean.jsd.pval',\n",
       "       'GM12878.ENCSR095QNB.mean.logfc', 'GM12878.ENCSR095QNB.mean.abs_logfc',\n",
       "       'GM12878.ENCSR095QNB.mean.jsd',\n",
       "       'GM12878.ENCSR095QNB.mean.abs_logfc_x_jsd',\n",
       "       'GM12878.ENCSR095QNB.mean.abs_logfc_x_jsd_x_max_percentile',\n",
       "       'GM12878.ENCSR095QNB.mean.max_percentile',\n",
       "       'GM12878.ENCSR095QNB.mean.abs_logfc.pval',\n",
       "       'GM12878.ENCSR095QNB.mean.jsd.pval',\n",
       "       'GM12878.ENCSR095QNB.mean.abs_logfc_x_jsd.pval',\n",
       "       'GM12878.ENCSR095QNB.mean.abs_logfc_x_jsd_x_max_percentile.pval',\n",
       "       'GM12878.ENCSR637XSC.mean.logfc', 'GM12878.ENCSR637XSC.mean.abs_logfc',\n",
       "       'GM12878.ENCSR637XSC.mean.jsd',\n",
       "       'GM12878.ENCSR637XSC.mean.abs_logfc_x_jsd',\n",
       "       'GM12878.ENCSR637XSC.mean.abs_logfc_x_jsd_x_max_percentile',\n",
       "       'GM12878.ENCSR637XSC.mean.max_percentile',\n",
       "       'GM12878.ENCSR637XSC.mean.abs_logfc.pval',\n",
       "       'GM12878.ENCSR637XSC.mean.jsd.pval',\n",
       "       'GM12878.ENCSR637XSC.mean.abs_logfc_x_jsd.pval',\n",
       "       'GM12878.ENCSR637XSC.mean.abs_logfc_x_jsd_x_max_percentile.pval',\n",
       "       'Luhya.mean.logfc', 'Luhya.mean.abs_logfc', 'Luhya.mean.jsd',\n",
       "       'Luhya.mean.abs_logfc.pval', 'Luhya.mean.jsd.pval',\n",
       "       'Gambian.mean.logfc', 'Gambian.mean.abs_logfc', 'Gambian.mean.jsd',\n",
       "       'Gambian.mean.abs_logfc.pval', 'Gambian.mean.jsd.pval',\n",
       "       'Maasai.mean.logfc', 'Maasai.mean.abs_logfc', 'Maasai.mean.jsd',\n",
       "       'Maasai.mean.abs_logfc.pval', 'Maasai.mean.jsd.pval', 'afr.mean.logfc',\n",
       "       'afr.mean.abs_logfc', 'afr.mean.jsd', 'eur.mean.logfc',\n",
       "       'eur.mean.abs_logfc', 'eur.mean.jsd', 'afr.mean.abs_logfc.pval',\n",
       "       'afr.mean.jsd.pval', 'eur.mean.abs_logfc.pval', 'eur.mean.jsd.pval',\n",
       "       'region', 'snp', 'distance', 'pval', 'beta', 'se', 'abs_beta',\n",
       "       'rsid1_y'],\n",
       "      dtype='object')"
      ]
     },
     "execution_count": 202,
     "metadata": {},
     "output_type": "execute_result"
    }
   ],
   "source": [
    "\n",
    "enformer_predictions_new2.columns"
   ]
  },
  {
   "cell_type": "code",
   "execution_count": 203,
   "metadata": {},
   "outputs": [
    {
     "data": {
      "text/plain": [
       "697"
      ]
     },
     "execution_count": 203,
     "metadata": {},
     "output_type": "execute_result"
    }
   ],
   "source": [
    "sum(enformer_predictions_new2[\"label\"]==1)\n"
   ]
  },
  {
   "cell_type": "code",
   "execution_count": null,
   "metadata": {},
   "outputs": [],
   "source": []
  },
  {
   "cell_type": "code",
   "execution_count": null,
   "metadata": {},
   "outputs": [],
   "source": []
  },
  {
   "cell_type": "code",
   "execution_count": null,
   "metadata": {},
   "outputs": [],
   "source": []
  }
 ],
 "metadata": {
  "kernelspec": {
   "display_name": "Python 3",
   "language": "python",
   "name": "python3"
  },
  "language_info": {
   "codemirror_mode": {
    "name": "ipython",
    "version": 3
   },
   "file_extension": ".py",
   "mimetype": "text/x-python",
   "name": "python",
   "nbconvert_exporter": "python",
   "pygments_lexer": "ipython3",
   "version": "3.7.6"
  }
 },
 "nbformat": 4,
 "nbformat_minor": 4
}
