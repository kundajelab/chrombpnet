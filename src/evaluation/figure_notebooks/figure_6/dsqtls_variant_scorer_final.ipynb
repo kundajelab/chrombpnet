{
 "cells": [
  {
   "cell_type": "code",
   "execution_count": 1,
   "metadata": {},
   "outputs": [],
   "source": [
    "import pandas as pd"
   ]
  },
  {
   "cell_type": "code",
   "execution_count": null,
   "metadata": {},
   "outputs": [],
   "source": []
  },
  {
   "cell_type": "markdown",
   "metadata": {},
   "source": [
    "# Get Enformer predictions"
   ]
  },
  {
   "cell_type": "code",
   "execution_count": 2,
   "metadata": {},
   "outputs": [],
   "source": [
    "enformer_ids = pd.read_csv(\"/mnt/lab_data2/anusri/chrombpnet/results/variant_data/dsqtls/process/fetch_enformer/enformer_predictions.tsv\", sep=\"\\t\", header=0)"
   ]
  },
  {
   "cell_type": "code",
   "execution_count": 3,
   "metadata": {},
   "outputs": [
    {
     "data": {
      "text/html": [
       "<div>\n",
       "<style scoped>\n",
       "    .dataframe tbody tr th:only-of-type {\n",
       "        vertical-align: middle;\n",
       "    }\n",
       "\n",
       "    .dataframe tbody tr th {\n",
       "        vertical-align: top;\n",
       "    }\n",
       "\n",
       "    .dataframe thead th {\n",
       "        text-align: right;\n",
       "    }\n",
       "</style>\n",
       "<table border=\"1\" class=\"dataframe\">\n",
       "  <thead>\n",
       "    <tr style=\"text-align: right;\">\n",
       "      <th></th>\n",
       "      <th>chr</th>\n",
       "      <th>pos</th>\n",
       "      <th>ref</th>\n",
       "      <th>alt</th>\n",
       "      <th>rsid</th>\n",
       "      <th>DNASE_SAD</th>\n",
       "      <th>DNASE_SAR</th>\n",
       "    </tr>\n",
       "  </thead>\n",
       "  <tbody>\n",
       "    <tr>\n",
       "      <th>0</th>\n",
       "      <td>chr1</td>\n",
       "      <td>842250</td>\n",
       "      <td>A</td>\n",
       "      <td>G</td>\n",
       "      <td>rs148658266</td>\n",
       "      <td>-0.000669</td>\n",
       "      <td>-0.000892</td>\n",
       "    </tr>\n",
       "    <tr>\n",
       "      <th>1</th>\n",
       "      <td>chr1</td>\n",
       "      <td>845938</td>\n",
       "      <td>G</td>\n",
       "      <td>A</td>\n",
       "      <td>rs57760052</td>\n",
       "      <td>0.000002</td>\n",
       "      <td>0.000002</td>\n",
       "    </tr>\n",
       "    <tr>\n",
       "      <th>2</th>\n",
       "      <td>chr1</td>\n",
       "      <td>846489</td>\n",
       "      <td>C</td>\n",
       "      <td>T</td>\n",
       "      <td>rs4970333</td>\n",
       "      <td>-0.000063</td>\n",
       "      <td>-0.000083</td>\n",
       "    </tr>\n",
       "    <tr>\n",
       "      <th>3</th>\n",
       "      <td>chr1</td>\n",
       "      <td>847041</td>\n",
       "      <td>C</td>\n",
       "      <td>T</td>\n",
       "      <td>rs59518089</td>\n",
       "      <td>0.000012</td>\n",
       "      <td>0.000016</td>\n",
       "    </tr>\n",
       "    <tr>\n",
       "      <th>4</th>\n",
       "      <td>chr1</td>\n",
       "      <td>849441</td>\n",
       "      <td>A</td>\n",
       "      <td>G</td>\n",
       "      <td>rs28495095</td>\n",
       "      <td>-0.000006</td>\n",
       "      <td>-0.000008</td>\n",
       "    </tr>\n",
       "  </tbody>\n",
       "</table>\n",
       "</div>"
      ],
      "text/plain": [
       "    chr     pos ref alt         rsid  DNASE_SAD  DNASE_SAR\n",
       "0  chr1  842250   A   G  rs148658266  -0.000669  -0.000892\n",
       "1  chr1  845938   G   A   rs57760052   0.000002   0.000002\n",
       "2  chr1  846489   C   T    rs4970333  -0.000063  -0.000083\n",
       "3  chr1  847041   C   T   rs59518089   0.000012   0.000016\n",
       "4  chr1  849441   A   G   rs28495095  -0.000006  -0.000008"
      ]
     },
     "execution_count": 3,
     "metadata": {},
     "output_type": "execute_result"
    }
   ],
   "source": [
    "enformer_ids.head()"
   ]
  },
  {
   "cell_type": "markdown",
   "metadata": {},
   "source": [
    "# Get GKM SVM predictions"
   ]
  },
  {
   "cell_type": "code",
   "execution_count": 4,
   "metadata": {},
   "outputs": [],
   "source": [
    "gkm_svm = pd.read_csv(\"/mnt/lab_data3/anusri/histone_expts/all_qtl_analysis/gm12878_sequence_sets/test_set/deltasv,/41588_2015_BFng3331_MOESM26_ESM.csv\",header=0,sep=',')"
   ]
  },
  {
   "cell_type": "code",
   "execution_count": 5,
   "metadata": {},
   "outputs": [
    {
     "data": {
      "text/html": [
       "<div>\n",
       "<style scoped>\n",
       "    .dataframe tbody tr th:only-of-type {\n",
       "        vertical-align: middle;\n",
       "    }\n",
       "\n",
       "    .dataframe tbody tr th {\n",
       "        vertical-align: top;\n",
       "    }\n",
       "\n",
       "    .dataframe thead th {\n",
       "        text-align: right;\n",
       "    }\n",
       "</style>\n",
       "<table border=\"1\" class=\"dataframe\">\n",
       "  <thead>\n",
       "    <tr style=\"text-align: right;\">\n",
       "      <th></th>\n",
       "      <th>chrom_hg18</th>\n",
       "      <th>pos_hg18</th>\n",
       "      <th>SNPname1</th>\n",
       "      <th>chrom_hg19</th>\n",
       "      <th>pos_hg19</th>\n",
       "      <th>SNPname2</th>\n",
       "      <th>allele1</th>\n",
       "      <th>allele2</th>\n",
       "      <th>gkm_SVM</th>\n",
       "      <th>kmer_SVM</th>\n",
       "      <th>abs_gkm_SVM</th>\n",
       "      <th>abs_kmer_SVM</th>\n",
       "      <th>CADD</th>\n",
       "      <th>GWAVA_region</th>\n",
       "      <th>GWAVA_tss</th>\n",
       "      <th>GWAVA_unmatched</th>\n",
       "      <th>GERP</th>\n",
       "      <th>label</th>\n",
       "    </tr>\n",
       "  </thead>\n",
       "  <tbody>\n",
       "    <tr>\n",
       "      <th>0</th>\n",
       "      <td>chr1</td>\n",
       "      <td>846446</td>\n",
       "      <td>chr1.846446</td>\n",
       "      <td>chr1</td>\n",
       "      <td>856583</td>\n",
       "      <td>rs141671872</td>\n",
       "      <td>A</td>\n",
       "      <td>G</td>\n",
       "      <td>2.653531</td>\n",
       "      <td>7.938784</td>\n",
       "      <td>2.653531</td>\n",
       "      <td>7.938784</td>\n",
       "      <td>-1.522533</td>\n",
       "      <td>0.48</td>\n",
       "      <td>0.53</td>\n",
       "      <td>0.75</td>\n",
       "      <td>-0.682</td>\n",
       "      <td>1</td>\n",
       "    </tr>\n",
       "    <tr>\n",
       "      <th>1</th>\n",
       "      <td>chr1</td>\n",
       "      <td>901458</td>\n",
       "      <td>chr1.901458</td>\n",
       "      <td>chr1</td>\n",
       "      <td>911595</td>\n",
       "      <td>rs7417106</td>\n",
       "      <td>G</td>\n",
       "      <td>A</td>\n",
       "      <td>2.821422</td>\n",
       "      <td>6.027648</td>\n",
       "      <td>2.821422</td>\n",
       "      <td>6.027648</td>\n",
       "      <td>1.739152</td>\n",
       "      <td>0.29</td>\n",
       "      <td>0.36</td>\n",
       "      <td>0.89</td>\n",
       "      <td>2.150</td>\n",
       "      <td>1</td>\n",
       "    </tr>\n",
       "    <tr>\n",
       "      <th>2</th>\n",
       "      <td>chr1</td>\n",
       "      <td>1176365</td>\n",
       "      <td>chr1.1176365</td>\n",
       "      <td>chr1</td>\n",
       "      <td>1186502</td>\n",
       "      <td>rs6603785</td>\n",
       "      <td>T</td>\n",
       "      <td>A</td>\n",
       "      <td>-7.167236</td>\n",
       "      <td>-10.870018</td>\n",
       "      <td>7.167236</td>\n",
       "      <td>10.870018</td>\n",
       "      <td>-0.091378</td>\n",
       "      <td>0.42</td>\n",
       "      <td>0.49</td>\n",
       "      <td>0.66</td>\n",
       "      <td>0.451</td>\n",
       "      <td>1</td>\n",
       "    </tr>\n",
       "    <tr>\n",
       "      <th>3</th>\n",
       "      <td>chr1</td>\n",
       "      <td>1217275</td>\n",
       "      <td>chr1.1217275</td>\n",
       "      <td>chr1</td>\n",
       "      <td>1227412</td>\n",
       "      <td>rs112571439</td>\n",
       "      <td>A</td>\n",
       "      <td>G</td>\n",
       "      <td>-3.957382</td>\n",
       "      <td>2.387491</td>\n",
       "      <td>3.957382</td>\n",
       "      <td>2.387491</td>\n",
       "      <td>1.127472</td>\n",
       "      <td>0.34</td>\n",
       "      <td>0.43</td>\n",
       "      <td>0.49</td>\n",
       "      <td>2.430</td>\n",
       "      <td>1</td>\n",
       "    </tr>\n",
       "    <tr>\n",
       "      <th>4</th>\n",
       "      <td>chr1</td>\n",
       "      <td>1580438</td>\n",
       "      <td>chr1.1580438</td>\n",
       "      <td>chr1</td>\n",
       "      <td>1590575</td>\n",
       "      <td>rs9661285</td>\n",
       "      <td>A</td>\n",
       "      <td>G</td>\n",
       "      <td>-4.785596</td>\n",
       "      <td>-6.827102</td>\n",
       "      <td>4.785596</td>\n",
       "      <td>6.827102</td>\n",
       "      <td>0.665464</td>\n",
       "      <td>0.38</td>\n",
       "      <td>0.35</td>\n",
       "      <td>0.86</td>\n",
       "      <td>1.640</td>\n",
       "      <td>1</td>\n",
       "    </tr>\n",
       "  </tbody>\n",
       "</table>\n",
       "</div>"
      ],
      "text/plain": [
       "  chrom_hg18  pos_hg18      SNPname1 chrom_hg19  pos_hg19     SNPname2  \\\n",
       "0       chr1    846446   chr1.846446       chr1    856583  rs141671872   \n",
       "1       chr1    901458   chr1.901458       chr1    911595    rs7417106   \n",
       "2       chr1   1176365  chr1.1176365       chr1   1186502    rs6603785   \n",
       "3       chr1   1217275  chr1.1217275       chr1   1227412  rs112571439   \n",
       "4       chr1   1580438  chr1.1580438       chr1   1590575    rs9661285   \n",
       "\n",
       "  allele1 allele2   gkm_SVM   kmer_SVM  abs_gkm_SVM  abs_kmer_SVM      CADD  \\\n",
       "0       A       G  2.653531   7.938784     2.653531      7.938784 -1.522533   \n",
       "1       G       A  2.821422   6.027648     2.821422      6.027648  1.739152   \n",
       "2       T       A -7.167236 -10.870018     7.167236     10.870018 -0.091378   \n",
       "3       A       G -3.957382   2.387491     3.957382      2.387491  1.127472   \n",
       "4       A       G -4.785596  -6.827102     4.785596      6.827102  0.665464   \n",
       "\n",
       "   GWAVA_region  GWAVA_tss  GWAVA_unmatched   GERP  label  \n",
       "0          0.48       0.53             0.75 -0.682      1  \n",
       "1          0.29       0.36             0.89  2.150      1  \n",
       "2          0.42       0.49             0.66  0.451      1  \n",
       "3          0.34       0.43             0.49  2.430      1  \n",
       "4          0.38       0.35             0.86  1.640      1  "
      ]
     },
     "execution_count": 5,
     "metadata": {},
     "output_type": "execute_result"
    }
   ],
   "source": [
    "gkm_svm.head()"
   ]
  },
  {
   "cell_type": "code",
   "execution_count": 6,
   "metadata": {},
   "outputs": [],
   "source": [
    "gkm_svm['rsid'] = gkm_svm[\"chrom_hg19\"].astype(str) + \"_\" + gkm_svm[\"pos_hg19\"].astype(str) + \"_\" + gkm_svm[\"allele1\"].astype(str) + \"_\" + gkm_svm[\"allele2\"].astype(str)  \n"
   ]
  },
  {
   "cell_type": "markdown",
   "metadata": {},
   "source": [
    "# Consider variants that are only present in enformer"
   ]
  },
  {
   "cell_type": "code",
   "execution_count": 7,
   "metadata": {},
   "outputs": [],
   "source": [
    "# ref and alt can be allel1 and allel2 so find both combinations for rsid, merge them and then make sure you are not double counting rsids\n",
    "merged_enf_1 = enformer_ids.merge(gkm_svm, left_on=[\"rsid\", \"chr\", \"pos\", \"ref\", \"alt\"], right_on=[\"SNPname2\", \"chrom_hg19\", \"pos_hg19\", \"allele2\", \"allele1\"])\n",
    "merged_enf_2 = enformer_ids.merge(gkm_svm, left_on=[\"rsid\", \"chr\", \"pos\", \"ref\", \"alt\"], right_on=[\"SNPname2\", \"chrom_hg19\", \"pos_hg19\", \"allele1\", \"allele2\"])"
   ]
  },
  {
   "cell_type": "code",
   "execution_count": 8,
   "metadata": {},
   "outputs": [],
   "source": [
    "merged_enf = pd.concat([merged_enf_1, merged_enf_2]).drop_duplicates()"
   ]
  },
  {
   "cell_type": "code",
   "execution_count": 9,
   "metadata": {},
   "outputs": [
    {
     "data": {
      "text/plain": [
       "(27373, 26)"
      ]
     },
     "execution_count": 9,
     "metadata": {},
     "output_type": "execute_result"
    }
   ],
   "source": [
    "merged_enf.shape"
   ]
  },
  {
   "cell_type": "code",
   "execution_count": 10,
   "metadata": {},
   "outputs": [
    {
     "data": {
      "text/plain": [
       "(27373,)"
      ]
     },
     "execution_count": 10,
     "metadata": {},
     "output_type": "execute_result"
    }
   ],
   "source": [
    "merged_enf[\"rsid_x\"].unique().shape"
   ]
  },
  {
   "cell_type": "code",
   "execution_count": 11,
   "metadata": {},
   "outputs": [
    {
     "data": {
      "text/html": [
       "<div>\n",
       "<style scoped>\n",
       "    .dataframe tbody tr th:only-of-type {\n",
       "        vertical-align: middle;\n",
       "    }\n",
       "\n",
       "    .dataframe tbody tr th {\n",
       "        vertical-align: top;\n",
       "    }\n",
       "\n",
       "    .dataframe thead th {\n",
       "        text-align: right;\n",
       "    }\n",
       "</style>\n",
       "<table border=\"1\" class=\"dataframe\">\n",
       "  <thead>\n",
       "    <tr style=\"text-align: right;\">\n",
       "      <th></th>\n",
       "      <th>chr</th>\n",
       "      <th>pos</th>\n",
       "      <th>ref</th>\n",
       "      <th>alt</th>\n",
       "      <th>rsid_x</th>\n",
       "      <th>DNASE_SAD</th>\n",
       "      <th>DNASE_SAR</th>\n",
       "      <th>chrom_hg18</th>\n",
       "      <th>pos_hg18</th>\n",
       "      <th>SNPname1</th>\n",
       "      <th>...</th>\n",
       "      <th>kmer_SVM</th>\n",
       "      <th>abs_gkm_SVM</th>\n",
       "      <th>abs_kmer_SVM</th>\n",
       "      <th>CADD</th>\n",
       "      <th>GWAVA_region</th>\n",
       "      <th>GWAVA_tss</th>\n",
       "      <th>GWAVA_unmatched</th>\n",
       "      <th>GERP</th>\n",
       "      <th>label</th>\n",
       "      <th>rsid_y</th>\n",
       "    </tr>\n",
       "  </thead>\n",
       "  <tbody>\n",
       "    <tr>\n",
       "      <th>0</th>\n",
       "      <td>chr1</td>\n",
       "      <td>842250</td>\n",
       "      <td>A</td>\n",
       "      <td>G</td>\n",
       "      <td>rs148658266</td>\n",
       "      <td>-0.000669</td>\n",
       "      <td>-0.000892</td>\n",
       "      <td>chr1</td>\n",
       "      <td>832113</td>\n",
       "      <td>chr1.832113</td>\n",
       "      <td>...</td>\n",
       "      <td>-3.520730</td>\n",
       "      <td>3.626510</td>\n",
       "      <td>3.520730</td>\n",
       "      <td>-0.068203</td>\n",
       "      <td>0.47</td>\n",
       "      <td>0.53</td>\n",
       "      <td>0.55</td>\n",
       "      <td>-2.120</td>\n",
       "      <td>-1</td>\n",
       "      <td>chr1_842250_G_A</td>\n",
       "    </tr>\n",
       "    <tr>\n",
       "      <th>1</th>\n",
       "      <td>chr1</td>\n",
       "      <td>846489</td>\n",
       "      <td>C</td>\n",
       "      <td>T</td>\n",
       "      <td>rs4970333</td>\n",
       "      <td>-0.000063</td>\n",
       "      <td>-0.000083</td>\n",
       "      <td>chr1</td>\n",
       "      <td>836352</td>\n",
       "      <td>chr1.836352</td>\n",
       "      <td>...</td>\n",
       "      <td>0.223815</td>\n",
       "      <td>4.107834</td>\n",
       "      <td>0.223815</td>\n",
       "      <td>0.688572</td>\n",
       "      <td>0.41</td>\n",
       "      <td>0.45</td>\n",
       "      <td>0.80</td>\n",
       "      <td>1.530</td>\n",
       "      <td>-1</td>\n",
       "      <td>chr1_846489_T_C</td>\n",
       "    </tr>\n",
       "    <tr>\n",
       "      <th>2</th>\n",
       "      <td>chr1</td>\n",
       "      <td>847041</td>\n",
       "      <td>C</td>\n",
       "      <td>T</td>\n",
       "      <td>rs59518089</td>\n",
       "      <td>0.000012</td>\n",
       "      <td>0.000016</td>\n",
       "      <td>chr1</td>\n",
       "      <td>836904</td>\n",
       "      <td>chr1.836904</td>\n",
       "      <td>...</td>\n",
       "      <td>-1.835191</td>\n",
       "      <td>0.916666</td>\n",
       "      <td>1.835191</td>\n",
       "      <td>-0.293843</td>\n",
       "      <td>0.21</td>\n",
       "      <td>0.33</td>\n",
       "      <td>0.63</td>\n",
       "      <td>0.328</td>\n",
       "      <td>-1</td>\n",
       "      <td>chr1_847041_T_C</td>\n",
       "    </tr>\n",
       "    <tr>\n",
       "      <th>3</th>\n",
       "      <td>chr1</td>\n",
       "      <td>849441</td>\n",
       "      <td>A</td>\n",
       "      <td>G</td>\n",
       "      <td>rs28495095</td>\n",
       "      <td>-0.000006</td>\n",
       "      <td>-0.000008</td>\n",
       "      <td>chr1</td>\n",
       "      <td>839304</td>\n",
       "      <td>chr1.839304</td>\n",
       "      <td>...</td>\n",
       "      <td>10.615775</td>\n",
       "      <td>4.518678</td>\n",
       "      <td>10.615775</td>\n",
       "      <td>0.010495</td>\n",
       "      <td>0.48</td>\n",
       "      <td>0.49</td>\n",
       "      <td>0.84</td>\n",
       "      <td>-0.690</td>\n",
       "      <td>-1</td>\n",
       "      <td>chr1_849441_G_A</td>\n",
       "    </tr>\n",
       "    <tr>\n",
       "      <th>4</th>\n",
       "      <td>chr1</td>\n",
       "      <td>852964</td>\n",
       "      <td>G</td>\n",
       "      <td>T</td>\n",
       "      <td>rs4970461</td>\n",
       "      <td>0.000045</td>\n",
       "      <td>0.000060</td>\n",
       "      <td>chr1</td>\n",
       "      <td>842827</td>\n",
       "      <td>chr1.842827</td>\n",
       "      <td>...</td>\n",
       "      <td>-3.596284</td>\n",
       "      <td>1.904426</td>\n",
       "      <td>3.596284</td>\n",
       "      <td>0.438963</td>\n",
       "      <td>0.33</td>\n",
       "      <td>0.45</td>\n",
       "      <td>0.69</td>\n",
       "      <td>3.940</td>\n",
       "      <td>-1</td>\n",
       "      <td>chr1_852964_T_G</td>\n",
       "    </tr>\n",
       "  </tbody>\n",
       "</table>\n",
       "<p>5 rows × 26 columns</p>\n",
       "</div>"
      ],
      "text/plain": [
       "    chr     pos ref alt       rsid_x  DNASE_SAD  DNASE_SAR chrom_hg18  \\\n",
       "0  chr1  842250   A   G  rs148658266  -0.000669  -0.000892       chr1   \n",
       "1  chr1  846489   C   T    rs4970333  -0.000063  -0.000083       chr1   \n",
       "2  chr1  847041   C   T   rs59518089   0.000012   0.000016       chr1   \n",
       "3  chr1  849441   A   G   rs28495095  -0.000006  -0.000008       chr1   \n",
       "4  chr1  852964   G   T    rs4970461   0.000045   0.000060       chr1   \n",
       "\n",
       "   pos_hg18     SNPname1  ...   kmer_SVM  abs_gkm_SVM abs_kmer_SVM      CADD  \\\n",
       "0    832113  chr1.832113  ...  -3.520730     3.626510     3.520730 -0.068203   \n",
       "1    836352  chr1.836352  ...   0.223815     4.107834     0.223815  0.688572   \n",
       "2    836904  chr1.836904  ...  -1.835191     0.916666     1.835191 -0.293843   \n",
       "3    839304  chr1.839304  ...  10.615775     4.518678    10.615775  0.010495   \n",
       "4    842827  chr1.842827  ...  -3.596284     1.904426     3.596284  0.438963   \n",
       "\n",
       "  GWAVA_region  GWAVA_tss  GWAVA_unmatched   GERP  label           rsid_y  \n",
       "0         0.47       0.53             0.55 -2.120     -1  chr1_842250_G_A  \n",
       "1         0.41       0.45             0.80  1.530     -1  chr1_846489_T_C  \n",
       "2         0.21       0.33             0.63  0.328     -1  chr1_847041_T_C  \n",
       "3         0.48       0.49             0.84 -0.690     -1  chr1_849441_G_A  \n",
       "4         0.33       0.45             0.69  3.940     -1  chr1_852964_T_G  \n",
       "\n",
       "[5 rows x 26 columns]"
      ]
     },
     "execution_count": 11,
     "metadata": {},
     "output_type": "execute_result"
    }
   ],
   "source": [
    "merged_enf.head()"
   ]
  },
  {
   "cell_type": "code",
   "execution_count": 12,
   "metadata": {},
   "outputs": [
    {
     "data": {
      "text/plain": [
       "560"
      ]
     },
     "execution_count": 12,
     "metadata": {},
     "output_type": "execute_result"
    }
   ],
   "source": [
    "sum(merged_enf[\"label\"]==1)"
   ]
  },
  {
   "cell_type": "code",
   "execution_count": 13,
   "metadata": {},
   "outputs": [
    {
     "data": {
      "text/plain": [
       "(27373, 26)"
      ]
     },
     "execution_count": 13,
     "metadata": {},
     "output_type": "execute_result"
    }
   ],
   "source": [
    "merged_enf.shape"
   ]
  },
  {
   "cell_type": "code",
   "execution_count": 14,
   "metadata": {},
   "outputs": [],
   "source": [
    "rsid_samples = merged_enf[\"rsid_x\"].unique()"
   ]
  },
  {
   "cell_type": "code",
   "execution_count": 15,
   "metadata": {},
   "outputs": [
    {
     "data": {
      "text/plain": [
       "(28309,)"
      ]
     },
     "execution_count": 15,
     "metadata": {},
     "output_type": "execute_result"
    }
   ],
   "source": [
    "gkm_svm[\"SNPname2\"].unique().shape"
   ]
  },
  {
   "cell_type": "code",
   "execution_count": 16,
   "metadata": {},
   "outputs": [
    {
     "data": {
      "text/plain": [
       "574"
      ]
     },
     "execution_count": 16,
     "metadata": {},
     "output_type": "execute_result"
    }
   ],
   "source": [
    "sum(gkm_svm[\"label\"]==1)"
   ]
  },
  {
   "cell_type": "code",
   "execution_count": 17,
   "metadata": {},
   "outputs": [
    {
     "data": {
      "text/plain": [
       "Index(['chrom_hg18', 'pos_hg18', 'SNPname1', 'chrom_hg19', 'pos_hg19',\n",
       "       'SNPname2', 'allele1', 'allele2', 'gkm_SVM', 'kmer_SVM', 'abs_gkm_SVM',\n",
       "       'abs_kmer_SVM', 'CADD', 'GWAVA_region', 'GWAVA_tss', 'GWAVA_unmatched',\n",
       "       'GERP', 'label', 'rsid'],\n",
       "      dtype='object')"
      ]
     },
     "execution_count": 17,
     "metadata": {},
     "output_type": "execute_result"
    }
   ],
   "source": [
    "gkm_svm.columns"
   ]
  },
  {
   "cell_type": "code",
   "execution_count": 18,
   "metadata": {},
   "outputs": [],
   "source": [
    "\n",
    "gkm_svm = gkm_svm[gkm_svm[\"SNPname2\"].isin(rsid_samples)]"
   ]
  },
  {
   "cell_type": "code",
   "execution_count": 19,
   "metadata": {},
   "outputs": [
    {
     "data": {
      "text/plain": [
       "(27373, 19)"
      ]
     },
     "execution_count": 19,
     "metadata": {},
     "output_type": "execute_result"
    }
   ],
   "source": [
    "gkm_svm.shape"
   ]
  },
  {
   "cell_type": "markdown",
   "metadata": {},
   "source": [
    "# Get ChromBPNet predictions, consider only rsids given by enformer and dsqtls"
   ]
  },
  {
   "cell_type": "code",
   "execution_count": 20,
   "metadata": {},
   "outputs": [],
   "source": [
    "chrombpnet_atac_orig = pd.read_csv(\"/mnt/lab_data2/anusri/variant-scorer/src/output/dsqtls_lcl/ATAC/summary.mean.variant_scores_new.tsv\", sep=\"\\t\", header=0)\n",
    "chrombpnet_atac = pd.read_csv(\"/mnt/lab_data2/anusri/variant-scorer/src/output/dsqtls_lcl/ATAC_50M/summary.mean.variant_scores_new.tsv\", sep=\"\\t\", header=0)\n",
    "chrombpnet_dnase = pd.read_csv(\"/mnt/lab_data2/anusri/variant-scorer/src/output/dsqtls_lcl/DNASE/summary.mean.variant_scores_new.tsv\", sep=\"\\t\", header=0)"
   ]
  },
  {
   "cell_type": "code",
   "execution_count": 21,
   "metadata": {},
   "outputs": [
    {
     "data": {
      "text/plain": [
       "(27373, 19)"
      ]
     },
     "execution_count": 21,
     "metadata": {},
     "output_type": "execute_result"
    }
   ],
   "source": [
    "gkm_svm.shape"
   ]
  },
  {
   "cell_type": "code",
   "execution_count": 22,
   "metadata": {},
   "outputs": [
    {
     "data": {
      "text/plain": [
       "(28309, 23)"
      ]
     },
     "execution_count": 22,
     "metadata": {},
     "output_type": "execute_result"
    }
   ],
   "source": [
    "chrombpnet_atac.shape"
   ]
  },
  {
   "cell_type": "code",
   "execution_count": 23,
   "metadata": {},
   "outputs": [
    {
     "data": {
      "text/plain": [
       "(28309, 23)"
      ]
     },
     "execution_count": 23,
     "metadata": {},
     "output_type": "execute_result"
    }
   ],
   "source": [
    "chrombpnet_dnase.shape"
   ]
  },
  {
   "cell_type": "code",
   "execution_count": 24,
   "metadata": {},
   "outputs": [],
   "source": [
    "merged_atac = chrombpnet_atac.merge(gkm_svm, on='rsid')\n",
    "merged_atac_orig = chrombpnet_atac_orig.merge(gkm_svm, on='rsid')\n",
    "merged_dnase = chrombpnet_dnase.merge(gkm_svm, on='rsid')"
   ]
  },
  {
   "cell_type": "code",
   "execution_count": 25,
   "metadata": {},
   "outputs": [
    {
     "data": {
      "text/plain": [
       "(27373, 41)"
      ]
     },
     "execution_count": 25,
     "metadata": {},
     "output_type": "execute_result"
    }
   ],
   "source": [
    "merged_atac.shape"
   ]
  },
  {
   "cell_type": "code",
   "execution_count": 26,
   "metadata": {},
   "outputs": [
    {
     "data": {
      "text/plain": [
       "(27373, 41)"
      ]
     },
     "execution_count": 26,
     "metadata": {},
     "output_type": "execute_result"
    }
   ],
   "source": [
    "merged_dnase.shape"
   ]
  },
  {
   "cell_type": "code",
   "execution_count": 27,
   "metadata": {},
   "outputs": [
    {
     "data": {
      "text/plain": [
       "Index(['chr', 'pos', 'allele1_x', 'allele2_x', 'rsid', 'logfc.mean',\n",
       "       'abs_logfc.mean', 'abs_logfc.mean.pval', 'jsd.mean', 'jsd.mean.pval',\n",
       "       'logfc_x_jsd.mean', 'abs_logfc_x_jsd.mean', 'abs_logfc_x_jsd.mean.pval',\n",
       "       'max_percentile.mean', 'max_percentile.mean.pval',\n",
       "       'logfc_x_max_percentile.mean', 'abs_logfc_x_max_percentile.mean',\n",
       "       'abs_logfc_x_max_percentile.mean.pval', 'jsd_x_max_percentile.mean',\n",
       "       'jsd_x_max_percentile.mean.pval',\n",
       "       'abs_logfc_x_jsd_x_max_percentile.mean',\n",
       "       'abs_logfc_x_jsd_x_max_percentile.mean.pval',\n",
       "       'logfc_x_jsd_x_max_percentile.mean', 'chrom_hg18', 'pos_hg18',\n",
       "       'SNPname1', 'chrom_hg19', 'pos_hg19', 'SNPname2', 'allele1_y',\n",
       "       'allele2_y', 'gkm_SVM', 'kmer_SVM', 'abs_gkm_SVM', 'abs_kmer_SVM',\n",
       "       'CADD', 'GWAVA_region', 'GWAVA_tss', 'GWAVA_unmatched', 'GERP',\n",
       "       'label'],\n",
       "      dtype='object')"
      ]
     },
     "execution_count": 27,
     "metadata": {},
     "output_type": "execute_result"
    }
   ],
   "source": [
    "merged_dnase.columns"
   ]
  },
  {
   "cell_type": "code",
   "execution_count": 28,
   "metadata": {},
   "outputs": [
    {
     "data": {
      "image/png": "[encoded data removed]",
      "text/plain": [
       "<Figure size 720x432 with 1 Axes>"
      ]
     },
     "metadata": {
      "needs_background": "light"
     },
     "output_type": "display_data"
    }
   ],
   "source": [
    "import matplotlib.pyplot as plt\n",
    "import pandas as pd\n",
    "from sklearn.metrics import precision_recall_curve\n",
    "from sklearn.metrics import roc_curve\n",
    "from sklearn.metrics import RocCurveDisplay\n",
    "import pandas as pd\n",
    "import matplotlib.pyplot as plt\n",
    "import numpy as np\n",
    "from sklearn import metrics\n",
    "import matplotlib.pyplot as plt\n",
    "import matplotlib\n",
    "\n",
    "\n",
    "matplotlib.rcParams['pdf.fonttype'] = 42\n",
    "matplotlib.rcParams['ps.fonttype'] = 42 \n",
    "\n",
    "import random\n",
    "import os\n",
    "import argparse\n",
    "from sklearn.metrics import precision_recall_curve\n",
    "\n",
    "scores = []\n",
    "labels = []\n",
    "keys = []\n",
    "\n",
    "keyd=\"abs_logfc_x_jsd_x_max_percentile.mean\"\n",
    "key_short=\"CRS\"\n",
    "plt.figure(figsize=(10,6))\n",
    "\n",
    "\n",
    "fpr_chrombpnet, tpr_chrombpnet, _ = precision_recall_curve(merged_atac_orig[\"label\"].astype(int), abs(merged_atac_orig[keyd]))\n",
    "roc_auc = metrics.average_precision_score(merged_atac_orig[\"label\"], abs(merged_atac_orig[keyd]))\n",
    "plt.plot(tpr_chrombpnet,fpr_chrombpnet,  linewidth=2, c='blue', linestyle='dashed', label=\"ChromBPnet w/ ATAC, AP=\"+str(round(roc_auc,2)))\n",
    "\n",
    "scores.append(roc_auc)\n",
    "labels.append(\"ATAC (572M)\")\n",
    "keys.append(key_short)\n",
    "\n",
    "fpr_chrombpnet, tpr_chrombpnet, _ = precision_recall_curve(merged_atac[\"label\"], abs(merged_atac[keyd]))\n",
    "roc_auc = metrics.average_precision_score(merged_atac[\"label\"], abs(merged_atac[keyd]))\n",
    "plt.plot(tpr_chrombpnet,fpr_chrombpnet,  linewidth=2, c='blue', label=\"ChromBPnet effect sizes w/ ATAC, AP=\"+str(round(roc_auc,2)))\n",
    "\n",
    "scores.append(roc_auc)\n",
    "labels.append(\"ATAC (50M)\")\n",
    "keys.append(key_short)\n",
    "\n",
    "fpr_chrombpnet, tpr_chrombpnet, _ = precision_recall_curve(merged_dnase[\"label\"], abs(merged_dnase[keyd]))\n",
    "roc_auc = metrics.average_precision_score(merged_dnase[\"label\"], abs(merged_dnase[keyd]))\n",
    "plt.plot(tpr_chrombpnet,fpr_chrombpnet,  linewidth=2, label=\"ChromBPnet effect sizes w/ DNASE , AP=\"+str(round(roc_auc,2)))\n",
    "\n",
    "scores.append(roc_auc)\n",
    "labels.append(\"DNASE (68M)\")\n",
    "keys.append(key_short)\n",
    "\n",
    "\n",
    "fpr_chrombpnet, tpr_chrombpnet, _ = precision_recall_curve(merged_enf[\"label\"], abs(merged_enf['DNASE_SAD'].astype(float)))\n",
    "roc_auc = metrics.average_precision_score(merged_enf[\"label\"], abs(merged_enf['DNASE_SAD'].astype(float)))\n",
    "plt.plot(tpr_chrombpnet,fpr_chrombpnet,  linewidth=2, label=\"Enformer SAD effect sizes w/ DNASE, AP=\"+str(round(roc_auc,2)))\n",
    "\n",
    "fpr_chrombpnet, tpr_chrombpnet, _ = precision_recall_curve(merged_enf[\"label\"], abs(merged_enf['DNASE_SAR'].astype(float)))\n",
    "roc_auc = metrics.average_precision_score(merged_enf[\"label\"], abs(merged_enf['DNASE_SAR'].astype(float)))\n",
    "plt.plot(tpr_chrombpnet,fpr_chrombpnet,  linewidth=2, label=\"Enformer SAR effect sizes w/ DNASE, AP=\"+str(round(roc_auc,2)))\n",
    "\n",
    "\n",
    "fpr_chrombpnet, tpr_chrombpnet, _ = precision_recall_curve(merged_atac[\"label\"], abs(merged_atac['abs_gkm_SVM'].astype(float)))\n",
    "roc_auc = metrics.average_precision_score(merged_atac[\"label\"], abs(merged_atac['abs_gkm_SVM'].astype(float)))\n",
    "plt.plot(tpr_chrombpnet,fpr_chrombpnet,  linewidth=2, label=\"GKM SVM effect sizes w/ DNASE, AP=\"+str(round(roc_auc,2)))\n",
    "\n",
    "\n",
    "\n",
    "in1 = list(merged_atac[\"label\"])\n",
    "random.shuffle(in1)\n",
    "in1=np.array(in1)\n",
    "\n",
    "fpr_random, tpr_random, _ = precision_recall_curve(merged_atac[\"label\"], in1)\n",
    "roc_auc = metrics.average_precision_score(merged_atac[\"label\"], in1)\n",
    "plt.plot(tpr_random, [sum(merged_atac[\"label\"]==1)/len(merged_atac[\"label\"])]*len(fpr_random), linewidth=2, label=\"Random baseline, AP=\"+str(round(roc_auc,2)))\n",
    "\n",
    "\n",
    "plt.legend(loc='upper right')\n",
    "plt.xlabel(\"Recall\")\n",
    "plt.ylabel(\"Precision\")\n",
    "\n",
    "plt.savefig(\"subfigs_new/dsqtls_final.pdf\", transparent=True, dpi=300)"
   ]
  },
  {
   "cell_type": "code",
   "execution_count": 29,
   "metadata": {},
   "outputs": [
    {
     "data": {
      "image/png": "[encoded data removed]",
      "text/plain": [
       "<Figure size 720x432 with 1 Axes>"
      ]
     },
     "metadata": {
      "needs_background": "light"
     },
     "output_type": "display_data"
    }
   ],
   "source": [
    "import matplotlib.pyplot as plt\n",
    "import pandas as pd\n",
    "from sklearn.metrics import precision_recall_curve\n",
    "from sklearn.metrics import roc_curve\n",
    "from sklearn.metrics import RocCurveDisplay\n",
    "import pandas as pd\n",
    "import matplotlib.pyplot as plt\n",
    "import numpy as np\n",
    "from sklearn import metrics\n",
    "import matplotlib.pyplot as plt\n",
    "import matplotlib\n",
    "\n",
    "\n",
    "matplotlib.rcParams['pdf.fonttype'] = 42\n",
    "matplotlib.rcParams['ps.fonttype'] = 42 \n",
    "\n",
    "import random\n",
    "import os\n",
    "import argparse\n",
    "from sklearn.metrics import precision_recall_curve\n",
    "\n",
    "\n",
    "keyd=\"logfc_x_jsd.mean\"\n",
    "key_short=\"logfc_x_jsd\"\n",
    "plt.figure(figsize=(10,6))\n",
    "\n",
    "\n",
    "fpr_chrombpnet, tpr_chrombpnet, _ = precision_recall_curve(merged_atac_orig[\"label\"].astype(int), abs(merged_atac_orig[keyd]))\n",
    "roc_auc = metrics.average_precision_score(merged_atac_orig[\"label\"], abs(merged_atac_orig[keyd]))\n",
    "plt.plot(tpr_chrombpnet,fpr_chrombpnet,  linewidth=2, c='blue', linestyle='dashed', label=\"ChromBPnet w/ ATAC, AP=\"+str(round(roc_auc,2)))\n",
    "\n",
    "scores.append(roc_auc)\n",
    "labels.append(\"ATAC (572M)\")\n",
    "keys.append(key_short)\n",
    "\n",
    "fpr_chrombpnet, tpr_chrombpnet, _ = precision_recall_curve(merged_atac[\"label\"], abs(merged_atac[keyd]))\n",
    "roc_auc = metrics.average_precision_score(merged_atac[\"label\"], abs(merged_atac[keyd]))\n",
    "plt.plot(tpr_chrombpnet,fpr_chrombpnet,  linewidth=2, c='blue', label=\"ChromBPnet effect sizes w/ ATAC, AP=\"+str(round(roc_auc,2)))\n",
    "\n",
    "scores.append(roc_auc)\n",
    "labels.append(\"ATAC (50M)\")\n",
    "keys.append(key_short)\n",
    "\n",
    "fpr_chrombpnet, tpr_chrombpnet, _ = precision_recall_curve(merged_dnase[\"label\"], abs(merged_dnase[keyd]))\n",
    "roc_auc = metrics.average_precision_score(merged_dnase[\"label\"], abs(merged_dnase[keyd]))\n",
    "plt.plot(tpr_chrombpnet,fpr_chrombpnet,  linewidth=2, label=\"ChromBPnet effect sizes w/ DNASE , AP=\"+str(round(roc_auc,2)))\n",
    "\n",
    "scores.append(roc_auc)\n",
    "labels.append(\"DNASE (68M)\")\n",
    "keys.append(key_short)\n"
   ]
  },
  {
   "cell_type": "code",
   "execution_count": 30,
   "metadata": {},
   "outputs": [
    {
     "data": {
      "image/png": "[encoded data removed]",
      "text/plain": [
       "<Figure size 720x432 with 1 Axes>"
      ]
     },
     "metadata": {
      "needs_background": "light"
     },
     "output_type": "display_data"
    }
   ],
   "source": [
    "import matplotlib.pyplot as plt\n",
    "import pandas as pd\n",
    "from sklearn.metrics import precision_recall_curve\n",
    "from sklearn.metrics import roc_curve\n",
    "from sklearn.metrics import RocCurveDisplay\n",
    "import pandas as pd\n",
    "import matplotlib.pyplot as plt\n",
    "import numpy as np\n",
    "from sklearn import metrics\n",
    "import matplotlib.pyplot as plt\n",
    "import matplotlib\n",
    "\n",
    "\n",
    "matplotlib.rcParams['pdf.fonttype'] = 42\n",
    "matplotlib.rcParams['ps.fonttype'] = 42 \n",
    "\n",
    "import random\n",
    "import os\n",
    "import argparse\n",
    "from sklearn.metrics import precision_recall_curve\n",
    "\n",
    "\n",
    "keyd=\"jsd_x_max_percentile.mean\"\n",
    "key_short=\"jsd_x_max_percentile\"\n",
    "plt.figure(figsize=(10,6))\n",
    "\n",
    "\n",
    "\n",
    "fpr_chrombpnet, tpr_chrombpnet, _ = precision_recall_curve(merged_atac_orig[\"label\"].astype(int), abs(merged_atac_orig[keyd]))\n",
    "roc_auc = metrics.average_precision_score(merged_atac_orig[\"label\"], abs(merged_atac_orig[keyd]))\n",
    "plt.plot(tpr_chrombpnet,fpr_chrombpnet,  linewidth=2, c='blue', linestyle='dashed', label=\"ChromBPnet w/ ATAC, AP=\"+str(round(roc_auc,2)))\n",
    "\n",
    "scores.append(roc_auc)\n",
    "labels.append(\"ATAC (572M)\")\n",
    "keys.append(key_short)\n",
    "\n",
    "fpr_chrombpnet, tpr_chrombpnet, _ = precision_recall_curve(merged_atac[\"label\"], abs(merged_atac[keyd]))\n",
    "roc_auc = metrics.average_precision_score(merged_atac[\"label\"], abs(merged_atac[keyd]))\n",
    "plt.plot(tpr_chrombpnet,fpr_chrombpnet,  linewidth=2, c='blue', label=\"ChromBPnet effect sizes w/ ATAC, AP=\"+str(round(roc_auc,2)))\n",
    "\n",
    "scores.append(roc_auc)\n",
    "labels.append(\"ATAC (50M)\")\n",
    "keys.append(key_short)\n",
    "\n",
    "fpr_chrombpnet, tpr_chrombpnet, _ = precision_recall_curve(merged_dnase[\"label\"], abs(merged_dnase[keyd]))\n",
    "roc_auc = metrics.average_precision_score(merged_dnase[\"label\"], abs(merged_dnase[keyd]))\n",
    "plt.plot(tpr_chrombpnet,fpr_chrombpnet,  linewidth=2, label=\"ChromBPnet effect sizes w/ DNASE , AP=\"+str(round(roc_auc,2)))\n",
    "\n",
    "scores.append(roc_auc)\n",
    "labels.append(\"DNASE (68M)\")\n",
    "keys.append(key_short)\n",
    "\n"
   ]
  },
  {
   "cell_type": "code",
   "execution_count": 31,
   "metadata": {},
   "outputs": [
    {
     "data": {
      "image/png": "[encoded data removed]",
      "text/plain": [
       "<Figure size 720x432 with 1 Axes>"
      ]
     },
     "metadata": {
      "needs_background": "light"
     },
     "output_type": "display_data"
    }
   ],
   "source": [
    "import matplotlib.pyplot as plt\n",
    "import pandas as pd\n",
    "from sklearn.metrics import precision_recall_curve\n",
    "from sklearn.metrics import roc_curve\n",
    "from sklearn.metrics import RocCurveDisplay\n",
    "import pandas as pd\n",
    "import matplotlib.pyplot as plt\n",
    "import numpy as np\n",
    "from sklearn import metrics\n",
    "import matplotlib.pyplot as plt\n",
    "import matplotlib\n",
    "\n",
    "\n",
    "matplotlib.rcParams['pdf.fonttype'] = 42\n",
    "matplotlib.rcParams['ps.fonttype'] = 42 \n",
    "\n",
    "import random\n",
    "import os\n",
    "import argparse\n",
    "from sklearn.metrics import precision_recall_curve\n",
    "\n",
    "\n",
    "#abs_logfc_x_jsd_x_max_percentile.mean\n",
    "\n",
    "keyd=\"abs_logfc_x_max_percentile.mean\"\n",
    "key_short=\"logfc_x_max_percentile\"\n",
    "plt.figure(figsize=(10,6))\n",
    "\n",
    "\n",
    "\n",
    "fpr_chrombpnet, tpr_chrombpnet, _ = precision_recall_curve(merged_atac_orig[\"label\"].astype(int), abs(merged_atac_orig[keyd]))\n",
    "roc_auc = metrics.average_precision_score(merged_atac_orig[\"label\"], abs(merged_atac_orig[keyd]))\n",
    "plt.plot(tpr_chrombpnet,fpr_chrombpnet,  linewidth=2, c='blue', linestyle='dashed', label=\"ChromBPnet w/ ATAC, AP=\"+str(round(roc_auc,2)))\n",
    "\n",
    "scores.append(roc_auc)\n",
    "labels.append(\"ATAC (572M)\")\n",
    "keys.append(key_short)\n",
    "\n",
    "fpr_chrombpnet, tpr_chrombpnet, _ = precision_recall_curve(merged_atac[\"label\"], abs(merged_atac[keyd]))\n",
    "roc_auc = metrics.average_precision_score(merged_atac[\"label\"], abs(merged_atac[keyd]))\n",
    "plt.plot(tpr_chrombpnet,fpr_chrombpnet,  linewidth=2, c='blue', label=\"ChromBPnet effect sizes w/ ATAC, AP=\"+str(round(roc_auc,2)))\n",
    "\n",
    "scores.append(roc_auc)\n",
    "labels.append(\"ATAC (50M)\")\n",
    "keys.append(key_short)\n",
    "\n",
    "fpr_chrombpnet, tpr_chrombpnet, _ = precision_recall_curve(merged_dnase[\"label\"], abs(merged_dnase[keyd]))\n",
    "roc_auc = metrics.average_precision_score(merged_dnase[\"label\"], abs(merged_dnase[keyd]))\n",
    "plt.plot(tpr_chrombpnet,fpr_chrombpnet,  linewidth=2, label=\"ChromBPnet effect sizes w/ DNASE , AP=\"+str(round(roc_auc,2)))\n",
    "\n",
    "scores.append(roc_auc)\n",
    "labels.append(\"DNASE (68M)\")\n",
    "keys.append(key_short)\n",
    "\n"
   ]
  },
  {
   "cell_type": "code",
   "execution_count": 32,
   "metadata": {},
   "outputs": [
    {
     "data": {
      "image/png": "[encoded data removed]",
      "text/plain": [
       "<Figure size 720x432 with 1 Axes>"
      ]
     },
     "metadata": {
      "needs_background": "light"
     },
     "output_type": "display_data"
    }
   ],
   "source": [
    "import matplotlib.pyplot as plt\n",
    "import pandas as pd\n",
    "from sklearn.metrics import precision_recall_curve\n",
    "from sklearn.metrics import roc_curve\n",
    "from sklearn.metrics import RocCurveDisplay\n",
    "import pandas as pd\n",
    "import matplotlib.pyplot as plt\n",
    "import numpy as np\n",
    "from sklearn import metrics\n",
    "import matplotlib.pyplot as plt\n",
    "import matplotlib\n",
    "\n",
    "\n",
    "matplotlib.rcParams['pdf.fonttype'] = 42\n",
    "matplotlib.rcParams['ps.fonttype'] = 42 \n",
    "\n",
    "import random\n",
    "import os\n",
    "import argparse\n",
    "from sklearn.metrics import precision_recall_curve\n",
    "\n",
    "\n",
    "#abs_logfc_x_jsd_x_max_percentile.mean\n",
    "\n",
    "keyd=\"jsd.mean\"\n",
    "key_short=\"jsd\"\n",
    "plt.figure(figsize=(10,6))\n",
    "\n",
    "\n",
    "\n",
    "fpr_chrombpnet, tpr_chrombpnet, _ = precision_recall_curve(merged_atac_orig[\"label\"].astype(int), abs(merged_atac_orig[keyd]))\n",
    "roc_auc = metrics.average_precision_score(merged_atac_orig[\"label\"], abs(merged_atac_orig[keyd]))\n",
    "plt.plot(tpr_chrombpnet,fpr_chrombpnet,  linewidth=2, c='blue', linestyle='dashed', label=\"ChromBPnet w/ ATAC, AP=\"+str(round(roc_auc,2)))\n",
    "\n",
    "scores.append(roc_auc)\n",
    "labels.append(\"ATAC (572M)\")\n",
    "keys.append(key_short)\n",
    "\n",
    "fpr_chrombpnet, tpr_chrombpnet, _ = precision_recall_curve(merged_atac[\"label\"], abs(merged_atac[keyd]))\n",
    "roc_auc = metrics.average_precision_score(merged_atac[\"label\"], abs(merged_atac[keyd]))\n",
    "plt.plot(tpr_chrombpnet,fpr_chrombpnet,  linewidth=2, c='blue', label=\"ChromBPnet effect sizes w/ ATAC, AP=\"+str(round(roc_auc,2)))\n",
    "\n",
    "scores.append(roc_auc)\n",
    "labels.append(\"ATAC (50M)\")\n",
    "keys.append(key_short)\n",
    "\n",
    "fpr_chrombpnet, tpr_chrombpnet, _ = precision_recall_curve(merged_dnase[\"label\"], abs(merged_dnase[keyd]))\n",
    "roc_auc = metrics.average_precision_score(merged_dnase[\"label\"], abs(merged_dnase[keyd]))\n",
    "plt.plot(tpr_chrombpnet,fpr_chrombpnet,  linewidth=2, label=\"ChromBPnet effect sizes w/ DNASE , AP=\"+str(round(roc_auc,2)))\n",
    "\n",
    "scores.append(roc_auc)\n",
    "labels.append(\"DNASE (68M)\")\n",
    "keys.append(key_short)\n",
    "\n"
   ]
  },
  {
   "cell_type": "code",
   "execution_count": null,
   "metadata": {},
   "outputs": [],
   "source": []
  },
  {
   "cell_type": "code",
   "execution_count": 33,
   "metadata": {},
   "outputs": [
    {
     "data": {
      "image/png": "[encoded data removed]",
      "text/plain": [
       "<Figure size 720x432 with 1 Axes>"
      ]
     },
     "metadata": {
      "needs_background": "light"
     },
     "output_type": "display_data"
    }
   ],
   "source": [
    "import matplotlib.pyplot as plt\n",
    "import pandas as pd\n",
    "from sklearn.metrics import precision_recall_curve\n",
    "from sklearn.metrics import roc_curve\n",
    "from sklearn.metrics import RocCurveDisplay\n",
    "import pandas as pd\n",
    "import matplotlib.pyplot as plt\n",
    "import numpy as np\n",
    "from sklearn import metrics\n",
    "import matplotlib.pyplot as plt\n",
    "import matplotlib\n",
    "\n",
    "\n",
    "matplotlib.rcParams['pdf.fonttype'] = 42\n",
    "matplotlib.rcParams['ps.fonttype'] = 42 \n",
    "\n",
    "import random\n",
    "import os\n",
    "import argparse\n",
    "from sklearn.metrics import precision_recall_curve\n",
    "\n",
    "\n",
    "keyd=\"logfc.mean\"\n",
    "key_short=\"logfc\"\n",
    "plt.figure(figsize=(10,6))\n",
    "\n",
    "\n",
    "\n",
    "fpr_chrombpnet, tpr_chrombpnet, _ = precision_recall_curve(merged_atac_orig[\"label\"].astype(int), abs(merged_atac_orig[keyd]))\n",
    "roc_auc = metrics.average_precision_score(merged_atac_orig[\"label\"], abs(merged_atac_orig[keyd]))\n",
    "plt.plot(tpr_chrombpnet,fpr_chrombpnet,  linewidth=2, c='blue', linestyle='dashed', label=\"ChromBPnet w/ ATAC, AP=\"+str(round(roc_auc,2)))\n",
    "\n",
    "scores.append(roc_auc)\n",
    "labels.append(\"ATAC (572M)\")\n",
    "keys.append(key_short)\n",
    "\n",
    "fpr_chrombpnet, tpr_chrombpnet, _ = precision_recall_curve(merged_atac[\"label\"], abs(merged_atac[keyd]))\n",
    "roc_auc = metrics.average_precision_score(merged_atac[\"label\"], abs(merged_atac[keyd]))\n",
    "plt.plot(tpr_chrombpnet,fpr_chrombpnet,  linewidth=2, c='blue', label=\"ChromBPnet effect sizes w/ ATAC, AP=\"+str(round(roc_auc,2)))\n",
    "\n",
    "scores.append(roc_auc)\n",
    "labels.append(\"ATAC (50M)\")\n",
    "keys.append(key_short)\n",
    "\n",
    "fpr_chrombpnet, tpr_chrombpnet, _ = precision_recall_curve(merged_dnase[\"label\"], abs(merged_dnase[keyd]))\n",
    "roc_auc = metrics.average_precision_score(merged_dnase[\"label\"], abs(merged_dnase[keyd]))\n",
    "plt.plot(tpr_chrombpnet,fpr_chrombpnet,  linewidth=2, label=\"ChromBPnet effect sizes w/ DNASE , AP=\"+str(round(roc_auc,2)))\n",
    "\n",
    "scores.append(roc_auc)\n",
    "labels.append(\"DNASE (68M)\")\n",
    "keys.append(key_short)\n",
    "\n"
   ]
  },
  {
   "cell_type": "code",
   "execution_count": 34,
   "metadata": {},
   "outputs": [
    {
     "data": {
      "image/png": "[encoded data removed]",
      "text/plain": [
       "<Figure size 720x432 with 1 Axes>"
      ]
     },
     "metadata": {
      "needs_background": "light"
     },
     "output_type": "display_data"
    }
   ],
   "source": [
    "import matplotlib.pyplot as plt\n",
    "import pandas as pd\n",
    "from sklearn.metrics import precision_recall_curve\n",
    "from sklearn.metrics import roc_curve\n",
    "from sklearn.metrics import RocCurveDisplay\n",
    "import pandas as pd\n",
    "import matplotlib.pyplot as plt\n",
    "import numpy as np\n",
    "from sklearn import metrics\n",
    "import matplotlib.pyplot as plt\n",
    "import matplotlib\n",
    "\n",
    "\n",
    "matplotlib.rcParams['pdf.fonttype'] = 42\n",
    "matplotlib.rcParams['ps.fonttype'] = 42 \n",
    "\n",
    "import random\n",
    "import os\n",
    "import argparse\n",
    "from sklearn.metrics import precision_recall_curve\n",
    "\n",
    "\n",
    "#max_percentile.mean\n",
    "\n",
    "keyd=\"max_percentile.mean\"\n",
    "key_short=\"max_percentile\"\n",
    "plt.figure(figsize=(10,6))\n",
    "\n",
    "\n",
    "\n",
    "fpr_chrombpnet, tpr_chrombpnet, _ = precision_recall_curve(merged_atac_orig[\"label\"].astype(int), abs(merged_atac_orig[keyd]))\n",
    "roc_auc = metrics.average_precision_score(merged_atac_orig[\"label\"], abs(merged_atac_orig[keyd]))\n",
    "plt.plot(tpr_chrombpnet,fpr_chrombpnet,  linewidth=2, c='blue', linestyle='dashed', label=\"ChromBPnet w/ ATAC, AP=\"+str(round(roc_auc,2)))\n",
    "\n",
    "scores.append(roc_auc)\n",
    "labels.append(\"ATAC (572M)\")\n",
    "keys.append(key_short)\n",
    "\n",
    "fpr_chrombpnet, tpr_chrombpnet, _ = precision_recall_curve(merged_atac[\"label\"], abs(merged_atac[keyd]))\n",
    "roc_auc = metrics.average_precision_score(merged_atac[\"label\"], abs(merged_atac[keyd]))\n",
    "plt.plot(tpr_chrombpnet,fpr_chrombpnet,  linewidth=2, c='blue', label=\"ChromBPnet effect sizes w/ ATAC, AP=\"+str(round(roc_auc,2)))\n",
    "\n",
    "scores.append(roc_auc)\n",
    "labels.append(\"ATAC (50M)\")\n",
    "keys.append(key_short)\n",
    "\n",
    "fpr_chrombpnet, tpr_chrombpnet, _ = precision_recall_curve(merged_dnase[\"label\"], abs(merged_dnase[keyd]))\n",
    "roc_auc = metrics.average_precision_score(merged_dnase[\"label\"], abs(merged_dnase[keyd]))\n",
    "plt.plot(tpr_chrombpnet,fpr_chrombpnet,  linewidth=2, label=\"ChromBPnet effect sizes w/ DNASE , AP=\"+str(round(roc_auc,2)))\n",
    "\n",
    "scores.append(roc_auc)\n",
    "labels.append(\"DNASE (68M)\")\n",
    "keys.append(key_short)\n",
    "\n"
   ]
  },
  {
   "cell_type": "code",
   "execution_count": 35,
   "metadata": {},
   "outputs": [],
   "source": [
    "import seaborn as sns"
   ]
  },
  {
   "cell_type": "code",
   "execution_count": 36,
   "metadata": {},
   "outputs": [],
   "source": [
    "dictt={\"scores\":scores, \"labels\":labels, \"method\":keys}"
   ]
  },
  {
   "cell_type": "code",
   "execution_count": 37,
   "metadata": {},
   "outputs": [],
   "source": [
    "df = pd.DataFrame(dictt)"
   ]
  },
  {
   "cell_type": "code",
   "execution_count": 38,
   "metadata": {},
   "outputs": [
    {
     "data": {
      "image/png": "[encoded data removed]",
      "text/plain": [
       "<Figure size 1080x576 with 1 Axes>"
      ]
     },
     "metadata": {
      "needs_background": "light"
     },
     "output_type": "display_data"
    }
   ],
   "source": [
    "matplotlib.rcParams['pdf.fonttype'] = 42\n",
    "matplotlib.rcParams['ps.fonttype'] = 42 \n",
    "\n",
    "plt.figure(figsize=(15,8))\n",
    "\n",
    "sns.barplot(data=df, x=\"labels\", y=\"scores\", hue=\"method\")\n",
    "\n",
    "plt.savefig(\"subfigs_new/compare_scores.pdf\", transparent=True, dpi=300)"
   ]
  },
  {
   "cell_type": "code",
   "execution_count": 39,
   "metadata": {},
   "outputs": [
    {
     "data": {
      "text/plain": [
       "27373"
      ]
     },
     "execution_count": 39,
     "metadata": {},
     "output_type": "execute_result"
    }
   ],
   "source": [
    "len(set(merged_atac[\"rsid\"]))"
   ]
  },
  {
   "cell_type": "code",
   "execution_count": 40,
   "metadata": {},
   "outputs": [
    {
     "data": {
      "text/plain": [
       "(27373,)"
      ]
     },
     "execution_count": 40,
     "metadata": {},
     "output_type": "execute_result"
    }
   ],
   "source": [
    "merged_atac[\"rsid\"].shape"
   ]
  },
  {
   "cell_type": "code",
   "execution_count": 41,
   "metadata": {},
   "outputs": [],
   "source": [
    "compare = merged_enf.merge(merged_dnase, left_on=[\"rsid_x\"], right_on=[\"SNPname2\"])"
   ]
  },
  {
   "cell_type": "code",
   "execution_count": 42,
   "metadata": {},
   "outputs": [
    {
     "data": {
      "text/plain": [
       "(27373, 67)"
      ]
     },
     "execution_count": 42,
     "metadata": {},
     "output_type": "execute_result"
    }
   ],
   "source": [
    "compare.shape"
   ]
  },
  {
   "cell_type": "code",
   "execution_count": 43,
   "metadata": {},
   "outputs": [
    {
     "data": {
      "text/plain": [
       "Index(['chr_x', 'pos_x', 'ref', 'alt', 'rsid_x', 'DNASE_SAD', 'DNASE_SAR',\n",
       "       'chrom_hg18_x', 'pos_hg18_x', 'SNPname1_x', 'chrom_hg19_x',\n",
       "       'pos_hg19_x', 'SNPname2_x', 'allele1', 'allele2', 'gkm_SVM_x',\n",
       "       'kmer_SVM_x', 'abs_gkm_SVM_x', 'abs_kmer_SVM_x', 'CADD_x',\n",
       "       'GWAVA_region_x', 'GWAVA_tss_x', 'GWAVA_unmatched_x', 'GERP_x',\n",
       "       'label_x', 'rsid_y', 'chr_y', 'pos_y', 'allele1_x', 'allele2_x', 'rsid',\n",
       "       'logfc.mean', 'abs_logfc.mean', 'abs_logfc.mean.pval', 'jsd.mean',\n",
       "       'jsd.mean.pval', 'logfc_x_jsd.mean', 'abs_logfc_x_jsd.mean',\n",
       "       'abs_logfc_x_jsd.mean.pval', 'max_percentile.mean',\n",
       "       'max_percentile.mean.pval', 'logfc_x_max_percentile.mean',\n",
       "       'abs_logfc_x_max_percentile.mean',\n",
       "       'abs_logfc_x_max_percentile.mean.pval', 'jsd_x_max_percentile.mean',\n",
       "       'jsd_x_max_percentile.mean.pval',\n",
       "       'abs_logfc_x_jsd_x_max_percentile.mean',\n",
       "       'abs_logfc_x_jsd_x_max_percentile.mean.pval',\n",
       "       'logfc_x_jsd_x_max_percentile.mean', 'chrom_hg18_y', 'pos_hg18_y',\n",
       "       'SNPname1_y', 'chrom_hg19_y', 'pos_hg19_y', 'SNPname2_y', 'allele1_y',\n",
       "       'allele2_y', 'gkm_SVM_y', 'kmer_SVM_y', 'abs_gkm_SVM_y',\n",
       "       'abs_kmer_SVM_y', 'CADD_y', 'GWAVA_region_y', 'GWAVA_tss_y',\n",
       "       'GWAVA_unmatched_y', 'GERP_y', 'label_y'],\n",
       "      dtype='object')"
      ]
     },
     "execution_count": 43,
     "metadata": {},
     "output_type": "execute_result"
    }
   ],
   "source": [
    "compare.columns"
   ]
  },
  {
   "cell_type": "code",
   "execution_count": 44,
   "metadata": {},
   "outputs": [],
   "source": [
    "compare[\"sign_jsd\"] = compare['jsd.mean']*np.sign(compare['logfc.mean'])\n",
    "compare[\"abss_logfc_x_max_percentile.mean\"] = np.abs(compare[\"logfc_x_max_percentile.mean\"])"
   ]
  },
  {
   "cell_type": "code",
   "execution_count": 78,
   "metadata": {},
   "outputs": [],
   "source": [
    "chrombpnet_vals=[]\n",
    "enformer_vals=[]\n",
    "enformer_sar_vals=[]\n",
    "dirs_rev=[]\n",
    "dirs_fwd=[]\n",
    "\n",
    "for i, r in compare.iterrows():\n",
    "    \n",
    "    chrombpnet_vals.append(abs(r[\"abs_logfc_x_jsd_x_max_percentile.mean\"]))\n",
    "    enformer_vals.append(np.abs(r[\"DNASE_SAD\"]))\n",
    "    enformer_sar_vals.append(np.abs(r[\"DNASE_SAR\"]))\n",
    "#     if (r['ref']==r['allele1']) and (r['alt']==r['allele2']):\n",
    "#         #chrombpnet_vals.append(r[\"sign_jsd\"])\n",
    "#         chrombpnet_vals.append(r[\"abs_logfc_x_jsd_x_max_percentile.mean\"]*np.sign(r[\"logfc.mean\"]))\n",
    "\n",
    "#         enformer_vals.append(r[\"DNASE_SAD\"])\n",
    "#         enformer_sar_vals.append(r[\"DNASE_SAR\"])\n",
    "#         dirs_fwd.append(True)\n",
    "#     elif (r['ref']==r['allele2']) and (r['alt']==r['allele1']):\n",
    "#         #chrombpnet_vals.append(r[\"sign_jsd\"])\n",
    "#         chrombpnet_vals.append(r[\"abs_logfc_x_jsd_x_max_percentile.mean\"]*np.sign(r[\"logfc.mean\"]))\n",
    "\n",
    "#         enformer_vals.append(r[\"DNASE_SAD\"]*-1)\n",
    "#         enformer_sar_vals.append(r[\"DNASE_SAR\"]*-1)\n",
    "#         dirs_rev.append(True)\n",
    "#     else:\n",
    "#         print(r['ref'],r['allele2'],r['alt'],r['allele1'])\n",
    "    "
   ]
  },
  {
   "cell_type": "code",
   "execution_count": 79,
   "metadata": {},
   "outputs": [
    {
     "name": "stdout",
     "output_type": "stream",
     "text": [
      "0\n"
     ]
    }
   ],
   "source": [
    "print(len(dirs_rev))"
   ]
  },
  {
   "cell_type": "code",
   "execution_count": 80,
   "metadata": {},
   "outputs": [
    {
     "name": "stdout",
     "output_type": "stream",
     "text": [
      "0\n"
     ]
    }
   ],
   "source": [
    "print(len(dirs_fwd))"
   ]
  },
  {
   "cell_type": "code",
   "execution_count": 81,
   "metadata": {},
   "outputs": [],
   "source": [
    "compare[\"chrom_scores\"] = chrombpnet_vals\n",
    "compare[\"enf_sad_scores\"] = enformer_vals\n",
    "compare[\"enf_sar_scores\"] = enformer_sar_vals\n"
   ]
  },
  {
   "cell_type": "code",
   "execution_count": 82,
   "metadata": {},
   "outputs": [
    {
     "name": "stdout",
     "output_type": "stream",
     "text": [
      "0.004830919999999954\n",
      "0.02560529604150634\n"
     ]
    },
    {
     "data": {
      "image/png": "[encoded data removed]",
      "text/plain": [
       "<Figure size 360x360 with 1 Axes>"
      ]
     },
     "metadata": {
      "needs_background": "light"
     },
     "output_type": "display_data"
    }
   ],
   "source": [
    "import seaborn as sns\n",
    "plt.figure(figsize=(5,5))\n",
    "\n",
    "matplotlib.rcParams['pdf.fonttype'] = 42\n",
    "matplotlib.rcParams['ps.fonttype'] = 42 \n",
    "\n",
    "\n",
    "sns.scatterplot(data=compare, y=\"chrom_scores\", x=\"enf_sad_scores\", hue=\"label_x\", s=20)\n",
    "plt.axvline(np.quantile(compare[\"enf_sad_scores\"],0.995))\n",
    "plt.axhline(np.quantile(compare[\"chrom_scores\"],0.995))\n",
    "print(np.quantile(compare[\"enf_sad_scores\"],0.995))\n",
    "print(np.quantile(compare[\"chrom_scores\"],0.995))\n",
    "\n",
    "plt.savefig(\"subfigs_new/compare_scores.pdf\", transparent=True, dpi=300)"
   ]
  },
  {
   "cell_type": "code",
   "execution_count": 83,
   "metadata": {},
   "outputs": [
    {
     "data": {
      "text/plain": [
       "<matplotlib.lines.Line2D at 0x7fdb0b1c9110>"
      ]
     },
     "execution_count": 83,
     "metadata": {},
     "output_type": "execute_result"
    },
    {
     "data": {
      "image/png": "[encoded data removed]",
      "text/plain": [
       "<Figure size 360x360 with 1 Axes>"
      ]
     },
     "metadata": {
      "needs_background": "light"
     },
     "output_type": "display_data"
    }
   ],
   "source": [
    "import seaborn as sns\n",
    "plt.figure(figsize=(5,5))\n",
    "\n",
    "matplotlib.rcParams['pdf.fonttype'] = 42\n",
    "matplotlib.rcParams['ps.fonttype'] = 42 \n",
    "\n",
    "compare_new = compare[compare[\"label_x\"]==1]\n",
    "\n",
    "sns.scatterplot(data=compare_new, y=\"chrom_scores\", x=\"enf_sad_scores\", hue=\"label_x\", s=20)\n",
    "plt.axvline(0.004830919999999954)\n",
    "plt.axhline(0.025605295932057567)\n",
    "\n",
    "#plt.savefig(\"subfigs_new/compare_scores.pdf\", transparent=True, dpi=300)"
   ]
  },
  {
   "cell_type": "code",
   "execution_count": 88,
   "metadata": {},
   "outputs": [
    {
     "data": {
      "text/html": [
       "<div>\n",
       "<style scoped>\n",
       "    .dataframe tbody tr th:only-of-type {\n",
       "        vertical-align: middle;\n",
       "    }\n",
       "\n",
       "    .dataframe tbody tr th {\n",
       "        vertical-align: top;\n",
       "    }\n",
       "\n",
       "    .dataframe thead th {\n",
       "        text-align: right;\n",
       "    }\n",
       "</style>\n",
       "<table border=\"1\" class=\"dataframe\">\n",
       "  <thead>\n",
       "    <tr style=\"text-align: right;\">\n",
       "      <th></th>\n",
       "      <th>chr_x</th>\n",
       "      <th>pos_x</th>\n",
       "      <th>ref</th>\n",
       "      <th>alt</th>\n",
       "      <th>rsid_x</th>\n",
       "      <th>DNASE_SAD</th>\n",
       "      <th>DNASE_SAR</th>\n",
       "      <th>chrom_hg18_x</th>\n",
       "      <th>pos_hg18_x</th>\n",
       "      <th>SNPname1_x</th>\n",
       "      <th>...</th>\n",
       "      <th>GWAVA_region_y</th>\n",
       "      <th>GWAVA_tss_y</th>\n",
       "      <th>GWAVA_unmatched_y</th>\n",
       "      <th>GERP_y</th>\n",
       "      <th>label_y</th>\n",
       "      <th>sign_jsd</th>\n",
       "      <th>abss_logfc_x_max_percentile.mean</th>\n",
       "      <th>chrom_scores</th>\n",
       "      <th>enf_sad_scores</th>\n",
       "      <th>enf_sar_scores</th>\n",
       "    </tr>\n",
       "  </thead>\n",
       "  <tbody>\n",
       "    <tr>\n",
       "      <th>13073</th>\n",
       "      <td>chr2</td>\n",
       "      <td>133340261</td>\n",
       "      <td>A</td>\n",
       "      <td>G</td>\n",
       "      <td>rs73955703</td>\n",
       "      <td>0.000519</td>\n",
       "      <td>0.000715</td>\n",
       "      <td>chr2</td>\n",
       "      <td>133056731</td>\n",
       "      <td>chr2.133056731</td>\n",
       "      <td>...</td>\n",
       "      <td>0.33</td>\n",
       "      <td>0.27</td>\n",
       "      <td>0.20</td>\n",
       "      <td>2.610</td>\n",
       "      <td>1</td>\n",
       "      <td>-0.285406</td>\n",
       "      <td>0.433505</td>\n",
       "      <td>0.125499</td>\n",
       "      <td>0.000519</td>\n",
       "      <td>0.000715</td>\n",
       "    </tr>\n",
       "    <tr>\n",
       "      <th>16595</th>\n",
       "      <td>chr3</td>\n",
       "      <td>119999621</td>\n",
       "      <td>G</td>\n",
       "      <td>T</td>\n",
       "      <td>rs787202</td>\n",
       "      <td>0.001058</td>\n",
       "      <td>0.001453</td>\n",
       "      <td>chr3</td>\n",
       "      <td>121482311</td>\n",
       "      <td>chr3.121482311</td>\n",
       "      <td>...</td>\n",
       "      <td>0.29</td>\n",
       "      <td>0.40</td>\n",
       "      <td>0.45</td>\n",
       "      <td>-0.318</td>\n",
       "      <td>1</td>\n",
       "      <td>-0.165655</td>\n",
       "      <td>0.730231</td>\n",
       "      <td>0.121519</td>\n",
       "      <td>0.001058</td>\n",
       "      <td>0.001453</td>\n",
       "    </tr>\n",
       "    <tr>\n",
       "      <th>22975</th>\n",
       "      <td>chr9</td>\n",
       "      <td>135991219</td>\n",
       "      <td>A</td>\n",
       "      <td>G</td>\n",
       "      <td>rs74734156</td>\n",
       "      <td>-0.022230</td>\n",
       "      <td>-0.026170</td>\n",
       "      <td>chr9</td>\n",
       "      <td>134981040</td>\n",
       "      <td>chr9.134981040</td>\n",
       "      <td>...</td>\n",
       "      <td>0.44</td>\n",
       "      <td>0.40</td>\n",
       "      <td>0.59</td>\n",
       "      <td>-5.600</td>\n",
       "      <td>1</td>\n",
       "      <td>0.134334</td>\n",
       "      <td>0.832848</td>\n",
       "      <td>0.121210</td>\n",
       "      <td>0.022230</td>\n",
       "      <td>0.026170</td>\n",
       "    </tr>\n",
       "    <tr>\n",
       "      <th>25585</th>\n",
       "      <td>chr2</td>\n",
       "      <td>45517342</td>\n",
       "      <td>T</td>\n",
       "      <td>C</td>\n",
       "      <td>rs4953223</td>\n",
       "      <td>0.002533</td>\n",
       "      <td>0.003458</td>\n",
       "      <td>chr2</td>\n",
       "      <td>45370846</td>\n",
       "      <td>chr2.45370846</td>\n",
       "      <td>...</td>\n",
       "      <td>0.37</td>\n",
       "      <td>0.41</td>\n",
       "      <td>0.38</td>\n",
       "      <td>0.984</td>\n",
       "      <td>1</td>\n",
       "      <td>0.175825</td>\n",
       "      <td>0.660938</td>\n",
       "      <td>0.126536</td>\n",
       "      <td>0.002533</td>\n",
       "      <td>0.003458</td>\n",
       "    </tr>\n",
       "  </tbody>\n",
       "</table>\n",
       "<p>4 rows × 72 columns</p>\n",
       "</div>"
      ],
      "text/plain": [
       "      chr_x      pos_x ref alt      rsid_x  DNASE_SAD  DNASE_SAR chrom_hg18_x  \\\n",
       "13073  chr2  133340261   A   G  rs73955703   0.000519   0.000715         chr2   \n",
       "16595  chr3  119999621   G   T    rs787202   0.001058   0.001453         chr3   \n",
       "22975  chr9  135991219   A   G  rs74734156  -0.022230  -0.026170         chr9   \n",
       "25585  chr2   45517342   T   C   rs4953223   0.002533   0.003458         chr2   \n",
       "\n",
       "       pos_hg18_x      SNPname1_x  ... GWAVA_region_y  GWAVA_tss_y  \\\n",
       "13073   133056731  chr2.133056731  ...           0.33         0.27   \n",
       "16595   121482311  chr3.121482311  ...           0.29         0.40   \n",
       "22975   134981040  chr9.134981040  ...           0.44         0.40   \n",
       "25585    45370846   chr2.45370846  ...           0.37         0.41   \n",
       "\n",
       "      GWAVA_unmatched_y GERP_y label_y  sign_jsd  \\\n",
       "13073              0.20  2.610       1 -0.285406   \n",
       "16595              0.45 -0.318       1 -0.165655   \n",
       "22975              0.59 -5.600       1  0.134334   \n",
       "25585              0.38  0.984       1  0.175825   \n",
       "\n",
       "       abss_logfc_x_max_percentile.mean  chrom_scores  enf_sad_scores  \\\n",
       "13073                          0.433505      0.125499        0.000519   \n",
       "16595                          0.730231      0.121519        0.001058   \n",
       "22975                          0.832848      0.121210        0.022230   \n",
       "25585                          0.660938      0.126536        0.002533   \n",
       "\n",
       "       enf_sar_scores  \n",
       "13073        0.000715  \n",
       "16595        0.001453  \n",
       "22975        0.026170  \n",
       "25585        0.003458  \n",
       "\n",
       "[4 rows x 72 columns]"
      ]
     },
     "execution_count": 88,
     "metadata": {},
     "output_type": "execute_result"
    }
   ],
   "source": [
    "compare_new[(compare_new[\"chrom_scores\"]>0.12) & (compare_new[\"DNASE_SAD\"]<0.005)]"
   ]
  },
  {
   "cell_type": "code",
   "execution_count": 50,
   "metadata": {},
   "outputs": [
    {
     "data": {
      "text/plain": [
       "<matplotlib.lines.Line2D at 0x7fdb08d7f390>"
      ]
     },
     "execution_count": 50,
     "metadata": {},
     "output_type": "execute_result"
    },
    {
     "data": {
      "image/png": "[encoded data removed]",
      "text/plain": [
       "<Figure size 360x360 with 1 Axes>"
      ]
     },
     "metadata": {
      "needs_background": "light"
     },
     "output_type": "display_data"
    }
   ],
   "source": [
    "import seaborn as sns\n",
    "plt.figure(figsize=(5,5))\n",
    "sns.scatterplot(data=compare, y=\"chrom_scores\", x=\"enf_sar_scores\", hue=\"label_x\", s=20)\n",
    "plt.axvline(np.quantile(compare[\"enf_sar_scores\"],0.995))\n",
    "plt.axhline(np.quantile(compare[\"chrom_scores\"],0.995))"
   ]
  },
  {
   "cell_type": "code",
   "execution_count": 51,
   "metadata": {},
   "outputs": [
    {
     "data": {
      "text/html": [
       "<div>\n",
       "<style scoped>\n",
       "    .dataframe tbody tr th:only-of-type {\n",
       "        vertical-align: middle;\n",
       "    }\n",
       "\n",
       "    .dataframe tbody tr th {\n",
       "        vertical-align: top;\n",
       "    }\n",
       "\n",
       "    .dataframe thead th {\n",
       "        text-align: right;\n",
       "    }\n",
       "</style>\n",
       "<table border=\"1\" class=\"dataframe\">\n",
       "  <thead>\n",
       "    <tr style=\"text-align: right;\">\n",
       "      <th></th>\n",
       "      <th>chr_x</th>\n",
       "      <th>pos_x</th>\n",
       "      <th>ref</th>\n",
       "      <th>alt</th>\n",
       "      <th>rsid_x</th>\n",
       "      <th>DNASE_SAD</th>\n",
       "      <th>DNASE_SAR</th>\n",
       "      <th>chrom_hg18_x</th>\n",
       "      <th>pos_hg18_x</th>\n",
       "      <th>SNPname1_x</th>\n",
       "      <th>...</th>\n",
       "      <th>GWAVA_region_y</th>\n",
       "      <th>GWAVA_tss_y</th>\n",
       "      <th>GWAVA_unmatched_y</th>\n",
       "      <th>GERP_y</th>\n",
       "      <th>label_y</th>\n",
       "      <th>sign_jsd</th>\n",
       "      <th>abss_logfc_x_max_percentile.mean</th>\n",
       "      <th>chrom_scores</th>\n",
       "      <th>enf_sad_scores</th>\n",
       "      <th>enf_sar_scores</th>\n",
       "    </tr>\n",
       "  </thead>\n",
       "  <tbody>\n",
       "    <tr>\n",
       "      <th>2649</th>\n",
       "      <td>chr10</td>\n",
       "      <td>104429746</td>\n",
       "      <td>G</td>\n",
       "      <td>C</td>\n",
       "      <td>rs7094325</td>\n",
       "      <td>-0.000357</td>\n",
       "      <td>-0.000397</td>\n",
       "      <td>chr10</td>\n",
       "      <td>104419736</td>\n",
       "      <td>chr10.104419736</td>\n",
       "      <td>...</td>\n",
       "      <td>0.51</td>\n",
       "      <td>0.54</td>\n",
       "      <td>0.53</td>\n",
       "      <td>3.56</td>\n",
       "      <td>1</td>\n",
       "      <td>0.223014</td>\n",
       "      <td>0.035687</td>\n",
       "      <td>0.008097</td>\n",
       "      <td>0.000357</td>\n",
       "      <td>0.000397</td>\n",
       "    </tr>\n",
       "  </tbody>\n",
       "</table>\n",
       "<p>1 rows × 72 columns</p>\n",
       "</div>"
      ],
      "text/plain": [
       "      chr_x      pos_x ref alt     rsid_x  DNASE_SAD  DNASE_SAR chrom_hg18_x  \\\n",
       "2649  chr10  104429746   G   C  rs7094325  -0.000357  -0.000397        chr10   \n",
       "\n",
       "      pos_hg18_x       SNPname1_x  ... GWAVA_region_y  GWAVA_tss_y  \\\n",
       "2649   104419736  chr10.104419736  ...           0.51         0.54   \n",
       "\n",
       "     GWAVA_unmatched_y GERP_y label_y  sign_jsd  \\\n",
       "2649              0.53   3.56       1  0.223014   \n",
       "\n",
       "      abss_logfc_x_max_percentile.mean  chrom_scores  enf_sad_scores  \\\n",
       "2649                          0.035687      0.008097        0.000357   \n",
       "\n",
       "      enf_sar_scores  \n",
       "2649        0.000397  \n",
       "\n",
       "[1 rows x 72 columns]"
      ]
     },
     "execution_count": 51,
     "metadata": {},
     "output_type": "execute_result"
    }
   ],
   "source": [
    "compare[compare[\"rsid_x\"]==\"rs7094325\"]"
   ]
  },
  {
   "cell_type": "code",
   "execution_count": null,
   "metadata": {},
   "outputs": [],
   "source": []
  },
  {
   "cell_type": "code",
   "execution_count": 52,
   "metadata": {},
   "outputs": [
    {
     "data": {
      "text/plain": [
       "5"
      ]
     },
     "execution_count": 52,
     "metadata": {},
     "output_type": "execute_result"
    }
   ],
   "source": [
    "pbs = (compare[\"chrom_scores\"]>0.05) & (compare[\"enf_sad_scores\"]<0.005) & (compare[\"label_x\"]==-1)\n",
    "sum(pbs)"
   ]
  },
  {
   "cell_type": "code",
   "execution_count": 53,
   "metadata": {},
   "outputs": [
    {
     "data": {
      "text/plain": [
       "59"
      ]
     },
     "execution_count": 53,
     "metadata": {},
     "output_type": "execute_result"
    }
   ],
   "source": [
    "pbs = (compare[\"chrom_scores\"]<0.05) & (compare[\"enf_sad_scores\"]>0.005)  & (compare[\"label_x\"]==-1)\n",
    "sum(pbs)"
   ]
  },
  {
   "cell_type": "code",
   "execution_count": 54,
   "metadata": {},
   "outputs": [],
   "source": [
    "#chrombpnet_atac"
   ]
  },
  {
   "cell_type": "code",
   "execution_count": 57,
   "metadata": {},
   "outputs": [
    {
     "data": {
      "text/plain": [
       "(27373, 26)"
      ]
     },
     "execution_count": 57,
     "metadata": {},
     "output_type": "execute_result"
    }
   ],
   "source": [
    "merged_enf.shape"
   ]
  },
  {
   "cell_type": "code",
   "execution_count": 58,
   "metadata": {},
   "outputs": [
    {
     "data": {
      "text/plain": [
       "(27373, 41)"
      ]
     },
     "execution_count": 58,
     "metadata": {},
     "output_type": "execute_result"
    }
   ],
   "source": [
    "merged_atac.shape"
   ]
  },
  {
   "cell_type": "code",
   "execution_count": null,
   "metadata": {},
   "outputs": [],
   "source": []
  }
 ],
 "metadata": {
  "kernelspec": {
   "display_name": "Python 3",
   "language": "python",
   "name": "python3"
  },
  "language_info": {
   "codemirror_mode": {
    "name": "ipython",
    "version": 3
   },
   "file_extension": ".py",
   "mimetype": "text/x-python",
   "name": "python",
   "nbconvert_exporter": "python",
   "pygments_lexer": "ipython3",
   "version": "3.7.6"
  }
 },
 "nbformat": 4,
 "nbformat_minor": 4
}
