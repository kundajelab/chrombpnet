{
 "cells": [
  {
   "cell_type": "code",
   "execution_count": 75,
   "metadata": {},
   "outputs": [],
   "source": [
    "import pandas as pd\n",
    "from sklearn.metrics import precision_recall_curve\n",
    "from sklearn.metrics import roc_curve\n",
    "from sklearn.metrics import RocCurveDisplay\n",
    "import pandas as pd\n",
    "import matplotlib.pyplot as plt\n",
    "import numpy as np\n",
    "from sklearn import metrics\n",
    "import matplotlib.pyplot as plt\n",
    "import matplotlib\n",
    "import random\n",
    "import os\n",
    "import argparse\n",
    "from sklearn.metrics import precision_recall_curve\n",
    "\n",
    "matplotlib.rcParams['pdf.fonttype'] = 42\n",
    "matplotlib.rcParams['ps.fonttype'] = 42 \n",
    "\n",
    "#snps=pd.read_csv(\"/mnt/lab_data/kundaje/users/anusri/QTLs/bQTLs/src/pu1.txt\",header=0,sep='\\t')\n",
    "dnase_preds=\"/mnt/lab_data2/anusri/variant-scorer/src/output/bqtls_lcl/pu1/DNASE/summary.mean.variant_scores_new.tsv\"\n",
    "atac_preds=\"/mnt/lab_data2/anusri/variant-scorer/src/output/bqtls_lcl/pu1/ATAC/summary.mean.variant_scores_new.tsv\"\n",
    "atac_preds_50m=\"/mnt/lab_data2/anusri/enformer/bqtls/chrombpne_preds/ATAC_50M/summary.mean.variant_scores_new_2.tsv\"\n",
    "\n",
    "#atac_preds=\"/mnt/lab_data2/anusri/chrombpnet/results/chrombpnet/ATAC_PE/GM12878/subsampling/GM12878_250M/bqtls_pu1_preds/snp_scores.tsv\"\n"
   ]
  },
  {
   "cell_type": "code",
   "execution_count": 76,
   "metadata": {},
   "outputs": [],
   "source": [
    "snps = pd.read_csv(\"/mnt/lab_data2/anusri/enformer/bqtls/source.tsv\",header=0,sep='\\t')"
   ]
  },
  {
   "cell_type": "code",
   "execution_count": 77,
   "metadata": {},
   "outputs": [],
   "source": [
    "snps_selected\n",
    "snps.head()\n",
    "snps['rsid'] = snps[\"Chr\"].astype(str) + \"_\" + snps[\"position\"].astype(str) + \"_\" + snps[\"POSTallele\"].astype(str) + \"_\" + snps[\"ALTallele\"].astype(str)"
   ]
  },
  {
   "cell_type": "code",
   "execution_count": 81,
   "metadata": {},
   "outputs": [
    {
     "name": "stdout",
     "output_type": "stream",
     "text": [
      "(32283, 31)\n",
      "(32283, 31)\n",
      "     chr        pos allele1 allele2  rsid  logfc.mean  abs_logfc.mean  \\\n",
      "0  chr14   36491929       A       G     0   -0.003573        0.005533   \n",
      "1   chr1  212970898       C       T     0   -0.028217        0.028832   \n",
      "2   chr1  247241664       G       A     0    0.005677        0.007244   \n",
      "3  chr10  131934894       T       C     0   -0.007499        0.011212   \n",
      "4  chr12  113859396       A       G     0    0.008961        0.012476   \n",
      "\n",
      "   abs_logfc.mean.pval  jsd.mean  jsd.mean.pval  ...  \\\n",
      "0             0.836895  0.004586       0.844625  ...   \n",
      "1             0.452418  0.009260       0.436804  ...   \n",
      "2             0.797832  0.005027       0.810293  ...   \n",
      "3             0.700605  0.009278       0.433587  ...   \n",
      "4             0.680960  0.005033       0.804005  ...   \n",
      "\n",
      "   max_percentile.mean.pval  logfc_x_max_percentile.mean  \\\n",
      "0                  0.310667                    -0.000256   \n",
      "1                  0.748764                    -0.000256   \n",
      "2                  0.008445                     0.005185   \n",
      "3                  0.005655                    -0.007059   \n",
      "4                  0.501710                     0.000249   \n",
      "\n",
      "   abs_logfc_x_max_percentile.mean  abs_logfc_x_max_percentile.mean.pval  \\\n",
      "0                         0.000756                              0.543318   \n",
      "1                         0.000269                              0.705848   \n",
      "2                         0.006616                              0.245502   \n",
      "3                         0.010595                              0.168818   \n",
      "4                         0.000483                              0.606662   \n",
      "\n",
      "   jsd_x_max_percentile.mean  jsd_x_max_percentile.mean.pval  \\\n",
      "0                   0.000700                        0.434209   \n",
      "1                   0.000091                        0.739142   \n",
      "2                   0.004652                        0.127204   \n",
      "3                   0.008748                        0.059325   \n",
      "4                   0.000216                        0.607714   \n",
      "\n",
      "   abs_logfc_x_jsd_x_max_percentile.mean  \\\n",
      "0                               0.000004   \n",
      "1                               0.000003   \n",
      "2                               0.000033   \n",
      "3                               0.000098   \n",
      "4                               0.000002   \n",
      "\n",
      "   abs_logfc_x_jsd_x_max_percentile.mean.pval  \\\n",
      "0                                    0.611521   \n",
      "1                                    0.672452   \n",
      "2                                    0.340609   \n",
      "3                                    0.202098   \n",
      "4                                    0.661193   \n",
      "\n",
      "   logfc_x_jsd_x_max_percentile.mean                rsid1  \n",
      "0                      -8.197982e-07   chr14_36491929_G_A  \n",
      "1                      -2.921052e-06   chr1_212970898_T_C  \n",
      "2                       2.570196e-05   chr1_247241664_A_G  \n",
      "3                      -6.947830e-05  chr10_131934894_C_T  \n",
      "4                       1.409264e-06  chr12_113859396_G_A  \n",
      "\n",
      "[5 rows x 25 columns]\n",
      "(32283, 34)\n"
     ]
    }
   ],
   "source": [
    "bqtls_dnase = pd.read_csv(dnase_preds,sep=\"\\t\", header=0, index_col=False)\n",
    "bqtls_atac = pd.read_csv(atac_preds,sep=\"\\t\", header=0, index_col=False)\n",
    "bqtls_atac_50m = pd.read_csv(atac_preds_50m,sep=\"\\t\", header=0, index_col=False)\n",
    "bqtls_atac_50m['rsid1'] = bqtls_atac_50m[\"chr\"].astype(str) + \"_\" + bqtls_atac_50m[\"pos\"].astype(str) + \"_\" + bqtls_atac_50m[\"allele2\"].astype(str) + \"_\" + bqtls_atac_50m[\"allele1\"].astype(str)\n",
    "\n",
    "bqtls_dnase = bqtls_dnase.merge(snps, on=[\"rsid\"])\n",
    "bqtls_dnase['logratio']=np.log2((bqtls_dnase['prechipfreq'].astype(float)+.01)/(bqtls_dnase['POSTfreq'].astype(float)+0.01))\n",
    "print(bqtls_dnase.shape)\n",
    "\n",
    "bqtls_atac = bqtls_atac.merge(snps, on=[\"rsid\"])\n",
    "bqtls_atac['logratio']=np.log2((bqtls_atac['prechipfreq'].astype(float)+.01)/(bqtls_atac['POSTfreq'].astype(float)+0.01))\n",
    "print(bqtls_atac.shape)\n",
    "\n",
    "print(bqtls_atac_50m.head())\n",
    "bqtls_atac_50m = bqtls_atac_50m.merge(snps, right_on=[\"rsid\"], left_on=[\"rsid1\"])\n",
    "bqtls_atac_50m['logratio']=np.log2((bqtls_atac_50m['prechipfreq'].astype(float)+.01)/(bqtls_atac_50m['POSTfreq'].astype(float)+0.01))\n",
    "print(bqtls_atac_50m.shape)"
   ]
  },
  {
   "cell_type": "code",
   "execution_count": 82,
   "metadata": {},
   "outputs": [],
   "source": [
    "data_enf = pd.read_csv(\"/mnt/lab_data2/anusri/enformer/bqtls/enformer_predictions.tsv\", sep=\"\\t\", header=0)\n",
    "\n"
   ]
  },
  {
   "cell_type": "code",
   "execution_count": 83,
   "metadata": {},
   "outputs": [
    {
     "data": {
      "text/html": [
       "<div>\n",
       "<style scoped>\n",
       "    .dataframe tbody tr th:only-of-type {\n",
       "        vertical-align: middle;\n",
       "    }\n",
       "\n",
       "    .dataframe tbody tr th {\n",
       "        vertical-align: top;\n",
       "    }\n",
       "\n",
       "    .dataframe thead th {\n",
       "        text-align: right;\n",
       "    }\n",
       "</style>\n",
       "<table border=\"1\" class=\"dataframe\">\n",
       "  <thead>\n",
       "    <tr style=\"text-align: right;\">\n",
       "      <th></th>\n",
       "      <th>chr</th>\n",
       "      <th>pos</th>\n",
       "      <th>ref</th>\n",
       "      <th>alt</th>\n",
       "      <th>rsid</th>\n",
       "      <th>DNASE_SAD</th>\n",
       "      <th>DNASE_SAR</th>\n",
       "    </tr>\n",
       "  </thead>\n",
       "  <tbody>\n",
       "    <tr>\n",
       "      <th>0</th>\n",
       "      <td>chr14</td>\n",
       "      <td>20579247</td>\n",
       "      <td>G</td>\n",
       "      <td>T</td>\n",
       "      <td>rs56163433</td>\n",
       "      <td>-0.000005</td>\n",
       "      <td>-0.000006</td>\n",
       "    </tr>\n",
       "    <tr>\n",
       "      <th>1</th>\n",
       "      <td>chr14</td>\n",
       "      <td>20763006</td>\n",
       "      <td>A</td>\n",
       "      <td>C</td>\n",
       "      <td>rs1000608</td>\n",
       "      <td>-0.000121</td>\n",
       "      <td>-0.000154</td>\n",
       "    </tr>\n",
       "    <tr>\n",
       "      <th>2</th>\n",
       "      <td>chr14</td>\n",
       "      <td>20891188</td>\n",
       "      <td>C</td>\n",
       "      <td>G</td>\n",
       "      <td>rs1713454</td>\n",
       "      <td>-0.000005</td>\n",
       "      <td>-0.000005</td>\n",
       "    </tr>\n",
       "    <tr>\n",
       "      <th>3</th>\n",
       "      <td>chr14</td>\n",
       "      <td>20924449</td>\n",
       "      <td>T</td>\n",
       "      <td>A</td>\n",
       "      <td>rs3136818</td>\n",
       "      <td>0.000076</td>\n",
       "      <td>0.000084</td>\n",
       "    </tr>\n",
       "    <tr>\n",
       "      <th>4</th>\n",
       "      <td>chr14</td>\n",
       "      <td>20944397</td>\n",
       "      <td>C</td>\n",
       "      <td>T</td>\n",
       "      <td>rs111949975</td>\n",
       "      <td>0.000069</td>\n",
       "      <td>0.000078</td>\n",
       "    </tr>\n",
       "    <tr>\n",
       "      <th>...</th>\n",
       "      <td>...</td>\n",
       "      <td>...</td>\n",
       "      <td>...</td>\n",
       "      <td>...</td>\n",
       "      <td>...</td>\n",
       "      <td>...</td>\n",
       "      <td>...</td>\n",
       "    </tr>\n",
       "    <tr>\n",
       "      <th>32056</th>\n",
       "      <td>chr21</td>\n",
       "      <td>47711903</td>\n",
       "      <td>C</td>\n",
       "      <td>G</td>\n",
       "      <td>rs61202414</td>\n",
       "      <td>0.000026</td>\n",
       "      <td>0.000032</td>\n",
       "    </tr>\n",
       "    <tr>\n",
       "      <th>32057</th>\n",
       "      <td>chr21</td>\n",
       "      <td>47894705</td>\n",
       "      <td>G</td>\n",
       "      <td>A</td>\n",
       "      <td>rs7277132</td>\n",
       "      <td>-0.000008</td>\n",
       "      <td>-0.000010</td>\n",
       "    </tr>\n",
       "    <tr>\n",
       "      <th>32058</th>\n",
       "      <td>chr21</td>\n",
       "      <td>47920197</td>\n",
       "      <td>C</td>\n",
       "      <td>A</td>\n",
       "      <td>rs2839296</td>\n",
       "      <td>-0.000081</td>\n",
       "      <td>-0.000105</td>\n",
       "    </tr>\n",
       "    <tr>\n",
       "      <th>32059</th>\n",
       "      <td>chr21</td>\n",
       "      <td>47955095</td>\n",
       "      <td>T</td>\n",
       "      <td>C</td>\n",
       "      <td>rs146076255</td>\n",
       "      <td>0.000001</td>\n",
       "      <td>0.000002</td>\n",
       "    </tr>\n",
       "    <tr>\n",
       "      <th>32060</th>\n",
       "      <td>chr21</td>\n",
       "      <td>48027177</td>\n",
       "      <td>A</td>\n",
       "      <td>G</td>\n",
       "      <td>rs13047696</td>\n",
       "      <td>0.000134</td>\n",
       "      <td>0.000173</td>\n",
       "    </tr>\n",
       "  </tbody>\n",
       "</table>\n",
       "<p>32061 rows × 7 columns</p>\n",
       "</div>"
      ],
      "text/plain": [
       "         chr       pos ref alt         rsid  DNASE_SAD  DNASE_SAR\n",
       "0      chr14  20579247   G   T   rs56163433  -0.000005  -0.000006\n",
       "1      chr14  20763006   A   C    rs1000608  -0.000121  -0.000154\n",
       "2      chr14  20891188   C   G    rs1713454  -0.000005  -0.000005\n",
       "3      chr14  20924449   T   A    rs3136818   0.000076   0.000084\n",
       "4      chr14  20944397   C   T  rs111949975   0.000069   0.000078\n",
       "...      ...       ...  ..  ..          ...        ...        ...\n",
       "32056  chr21  47711903   C   G   rs61202414   0.000026   0.000032\n",
       "32057  chr21  47894705   G   A    rs7277132  -0.000008  -0.000010\n",
       "32058  chr21  47920197   C   A    rs2839296  -0.000081  -0.000105\n",
       "32059  chr21  47955095   T   C  rs146076255   0.000001   0.000002\n",
       "32060  chr21  48027177   A   G   rs13047696   0.000134   0.000173\n",
       "\n",
       "[32061 rows x 7 columns]"
      ]
     },
     "execution_count": 83,
     "metadata": {},
     "output_type": "execute_result"
    }
   ],
   "source": [
    "data_enf"
   ]
  },
  {
   "cell_type": "code",
   "execution_count": 84,
   "metadata": {},
   "outputs": [],
   "source": [
    "data_enf['rsid'] = data_enf[\"chr\"].astype(str) + \"_\" + data_enf[\"pos\"].astype(str) + \"_\" + data_enf[\"ref\"].astype(str) + \"_\" + data_enf[\"alt\"].astype(str)\n",
    "data_enf['rsid1'] = data_enf[\"chr\"].astype(str) + \"_\" + data_enf[\"pos\"].astype(str) + \"_\" + data_enf[\"alt\"].astype(str) + \"_\" + data_enf[\"ref\"].astype(str)\n",
    "\n"
   ]
  },
  {
   "cell_type": "code",
   "execution_count": 85,
   "metadata": {},
   "outputs": [],
   "source": [
    "bqtls_atac1 = bqtls_atac.merge(data_enf, right_on=[\"rsid\"], left_on=[\"rsid\"], how=\"inner\").drop_duplicates()\n",
    "bqtls_atac2 = bqtls_atac.merge(data_enf, right_on=[\"rsid1\"], left_on=[\"rsid\"], how=\"inner\").drop_duplicates()\n",
    "bqtls_atac2[\"DNASE_SAD\"] = -1*bqtls_atac2[\"DNASE_SAD\"]\n",
    "bqtls_atac2[\"DNASE_SAR\"] = -1*bqtls_atac2[\"DNASE_SAR\"]\n",
    "\n",
    "bqtls_atac_full = pd.concat([bqtls_atac1, bqtls_atac2])"
   ]
  },
  {
   "cell_type": "code",
   "execution_count": 87,
   "metadata": {},
   "outputs": [],
   "source": [
    "bqtls_atac1_50m = bqtls_atac_50m.merge(data_enf, right_on=[\"rsid\"], left_on=[\"rsid1\"], how=\"inner\").drop_duplicates()\n",
    "bqtls_atac2_50m = bqtls_atac_50m.merge(data_enf, right_on=[\"rsid1\"], left_on=[\"rsid1\"], how=\"inner\").drop_duplicates()\n",
    "bqtls_atac2_50m[\"DNASE_SAD\"] = -1*bqtls_atac2_50m[\"DNASE_SAD\"]\n",
    "bqtls_atac2_50m[\"DNASE_SAR\"] = -1*bqtls_atac2_50m[\"DNASE_SAR\"]\n",
    "\n",
    "bqtls_atac_full_50m = pd.concat([bqtls_atac1_50m, bqtls_atac2_50m])"
   ]
  },
  {
   "cell_type": "code",
   "execution_count": 88,
   "metadata": {},
   "outputs": [
    {
     "data": {
      "text/plain": [
       "(31872, 40)"
      ]
     },
     "execution_count": 88,
     "metadata": {},
     "output_type": "execute_result"
    }
   ],
   "source": [
    "bqtls_atac_full.shape"
   ]
  },
  {
   "cell_type": "code",
   "execution_count": 89,
   "metadata": {},
   "outputs": [
    {
     "data": {
      "text/plain": [
       "(31872, 43)"
      ]
     },
     "execution_count": 89,
     "metadata": {},
     "output_type": "execute_result"
    }
   ],
   "source": [
    "bqtls_atac_full_50m.shape"
   ]
  },
  {
   "cell_type": "code",
   "execution_count": 90,
   "metadata": {},
   "outputs": [
    {
     "data": {
      "text/plain": [
       "(32283, 31)"
      ]
     },
     "execution_count": 90,
     "metadata": {},
     "output_type": "execute_result"
    }
   ],
   "source": [
    "bqtls_atac.shape"
   ]
  },
  {
   "cell_type": "code",
   "execution_count": 91,
   "metadata": {},
   "outputs": [],
   "source": [
    "bqtls_dn1 = bqtls_dnase.merge(data_enf, right_on=[\"rsid\"], left_on=[\"rsid\"], how=\"inner\").drop_duplicates()\n",
    "bqtls_dn2 = bqtls_dnase.merge(data_enf, right_on=[\"rsid1\"], left_on=[\"rsid\"], how=\"inner\").drop_duplicates()\n",
    "bqtls_dn2[\"DNASE_SAD\"] = -1*bqtls_dn2[\"DNASE_SAD\"]\n",
    "bqtls_dn2[\"DNASE_SAR\"] = -1*bqtls_dn2[\"DNASE_SAR\"]\n",
    "\n",
    "bqtls_dn_full = pd.concat([bqtls_dn1, bqtls_dn2])"
   ]
  },
  {
   "cell_type": "code",
   "execution_count": 92,
   "metadata": {},
   "outputs": [
    {
     "data": {
      "text/plain": [
       "(31872, 40)"
      ]
     },
     "execution_count": 92,
     "metadata": {},
     "output_type": "execute_result"
    }
   ],
   "source": [
    "bqtls_dn_full.shape"
   ]
  },
  {
   "cell_type": "code",
   "execution_count": 93,
   "metadata": {},
   "outputs": [
    {
     "data": {
      "text/plain": [
       "(32283, 31)"
      ]
     },
     "execution_count": 93,
     "metadata": {},
     "output_type": "execute_result"
    }
   ],
   "source": [
    "bqtls_dnase.shape"
   ]
  },
  {
   "cell_type": "code",
   "execution_count": null,
   "metadata": {},
   "outputs": [],
   "source": []
  },
  {
   "cell_type": "code",
   "execution_count": 97,
   "metadata": {},
   "outputs": [],
   "source": [
    "\n",
    "import matplotlib.pyplot as plt\n",
    "import pandas as pd\n",
    "from sklearn.metrics import precision_recall_curve\n",
    "from sklearn.metrics import roc_curve\n",
    "from sklearn.metrics import RocCurveDisplay\n",
    "import pandas as pd\n",
    "import matplotlib.pyplot as plt\n",
    "import numpy as np\n",
    "from sklearn import metrics\n",
    "import matplotlib.pyplot as plt\n",
    "import matplotlib\n",
    "import scipy.stats\n",
    "\n",
    "matplotlib.rcParams['pdf.fonttype'] = 42\n",
    "matplotlib.rcParams['ps.fonttype'] = 42\n",
    "\n",
    "\n",
    "def  get_auprc_curves(data_atac, data_dnase, data_atac_50m):\n",
    "    \n",
    "    keyd=\"abs_logfc_x_jsd_x_max_percentile.mean\"\n",
    "    #print(sum(np.isnan( abs(merged_atac[keyd]))))\n",
    "    #print(merged_dnase.shape)\n",
    "    #print(merged_atac[np.isnan( abs(merged_atac[keyd]))])\n",
    "   \n",
    "    fpr_chrombpnet, tpr_chrombpnet, _ = precision_recall_curve(data_atac[\"label\"].astype(int), abs(data_atac[keyd]))\n",
    "    roc_auc = metrics.average_precision_score(data_atac[\"label\"], abs(data_atac[keyd]))\n",
    "    plt.plot(tpr_chrombpnet,fpr_chrombpnet,  linewidth=2, c='blue', linestyle='dashed', label=\"ChromBPNet w/ ATAC, AP=\"+str(round(roc_auc,2)))\n",
    "    #print(roc_auc)\n",
    "\n",
    "    fpr_chrombpnet, tpr_chrombpnet, _ = precision_recall_curve(data_atac_50m[\"label\"].astype(int), abs(data_atac_50m[keyd]))\n",
    "    roc_auc = metrics.average_precision_score(data_atac_50m[\"label\"], abs(data_atac_50m[keyd]))\n",
    "    plt.plot(tpr_chrombpnet,fpr_chrombpnet,  linewidth=2, c='blue', label=\"ChromBPNet w/ ATAC, AP=\"+str(round(roc_auc,2)))\n",
    "    #print(roc_auc)\n",
    "\n",
    "    \n",
    "    fpr_chrombpnet, tpr_chrombpnet, _ = precision_recall_curve(data_dnase[\"label\"].astype(int), abs(data_dnase[keyd]))\n",
    "    roc_auc = metrics.average_precision_score(data_dnase[\"label\"], abs(data_dnase[keyd]))\n",
    "    plt.plot(tpr_chrombpnet,fpr_chrombpnet,  linewidth=2, c='cyan', label=\"ChromBPNet w/ DNase, AP=\"+str(round(roc_auc,2)))\n",
    "    #print(roc_auc)\n",
    "    \n",
    "    #enformer\n",
    "    fpr_chrombpnet, tpr_chrombpnet, _ = precision_recall_curve(data_atac[\"label\"].astype(int), abs(data_atac[\"DNASE_SAR\"]))\n",
    "    roc_auc = metrics.average_precision_score(data_atac[\"label\"], abs(data_atac[\"DNASE_SAR\"]))\n",
    "    plt.plot(tpr_chrombpnet,fpr_chrombpnet,  linewidth=2, c='orange', label=\"Enformer SAD, AP=\"+str(round(roc_auc,2)))\n",
    "    #print(roc_auc)\n",
    "    \n",
    "    plt.legend()\n",
    "    plt.show()\n",
    "    #plt.savefig(\"subfigs_new/dsqtls_final.pdf\", transparent=True, dpi=300)\n",
    "    \n",
    "#     plt.Figure()\n",
    "#     plt.scatter(merged_enf[\"DNASE_SAD\"][merged_enf[\"label\"]==1], merged_enf[\"Beta\"][merged_enf[\"label\"]==1])\n",
    "#     plt.show()\n",
    "    \n",
    "    keyd=\"jsd_sign.mean\"\n",
    "\n",
    "    data_atac[\"jsd_sign.mean\"] = data_atac['jsd.mean']*np.sign(data_atac['logfc.mean'])\n",
    "    data_atac_50m[\"jsd_sign.mean\"] = data_atac_50m['jsd.mean']*np.sign(data_atac_50m['logfc.mean'])\n",
    "    data_dnase[\"jsd_sign.mean\"] = data_dnase['jsd.mean']*np.sign(data_dnase['logfc.mean'])\n",
    "\n",
    "    print(\"ChromBPNet ATAC: \", np.round(scipy.stats.pearsonr(data_atac[keyd][data_atac[\"label\"]==1], data_atac[\"logratio\"][data_atac[\"label\"]==1])[0],2))\n",
    "    print(\"ChromBPNet ATAC: \", np.round(scipy.stats.pearsonr(data_atac_50m[keyd][data_atac_50m[\"label\"]==1], data_atac_50m[\"logratio\"][data_atac_50m[\"label\"]==1])[0],2))\n",
    "    print(\"ChromBPNet DNase: \", np.round(scipy.stats.pearsonr(data_dnase[keyd][data_dnase[\"label\"]==1], data_dnase[\"logratio\"][data_dnase[\"label\"]==1])[0],2))\n",
    "\n",
    "#     import seaborn as sns\n",
    "\n",
    "#     plt.figure(figsize=(8,5))\n",
    "#     data = pd.DataFrame()\n",
    "#     data[\"sd_sign.mean\"] = merged_atac[merged_atac[\"label\"]==1][\"jsd_sign.mean\"]\n",
    "#     data[\"Beta\"] = merged_atac[merged_atac[\"label\"]==1][\"Beta\"]\n",
    "#     data[\"logfc_x_max_percentile.mean\"] = abs(merged_atac[merged_atac[\"label\"]==1][\"max_percentile.mean\"])\n",
    "\n",
    "#     sns.scatterplot(data=data, y=\"sd_sign.mean\", x=\"Beta\", hue=\"logfc_x_max_percentile.mean\", s=10)\n",
    "    #plt.show()\n",
    "    #plt.savefig(\"subfigs_new/dsqtls_final.pdf\", transparent=True, dpi=300)\n"
   ]
  },
  {
   "cell_type": "code",
   "execution_count": 98,
   "metadata": {},
   "outputs": [
    {
     "data": {
      "image/png": "[encoded data removed]",
      "text/plain": [
       "<Figure size 432x288 with 1 Axes>"
      ]
     },
     "metadata": {
      "needs_background": "light"
     },
     "output_type": "display_data"
    },
    {
     "name": "stdout",
     "output_type": "stream",
     "text": [
      "ChromBPNet ATAC:  0.6\n",
      "ChromBPNet ATAC:  -0.58\n",
      "ChromBPNet DNase:  0.6\n"
     ]
    }
   ],
   "source": [
    "get_auprc_curves(bqtls_atac_full, bqtls_dn_full, bqtls_atac_full_50m)"
   ]
  },
  {
   "cell_type": "code",
   "execution_count": 70,
   "metadata": {},
   "outputs": [
    {
     "data": {
      "text/plain": [
       "0.04"
      ]
     },
     "execution_count": 70,
     "metadata": {},
     "output_type": "execute_result"
    }
   ],
   "source": [
    "np.round(sum(bqtls_atac[\"label\"])/bqtls_atac.shape[0],2)"
   ]
  },
  {
   "cell_type": "code",
   "execution_count": 63,
   "metadata": {},
   "outputs": [
    {
     "data": {
      "text/plain": [
       "(32283, 32)"
      ]
     },
     "execution_count": 63,
     "metadata": {},
     "output_type": "execute_result"
    }
   ],
   "source": [
    "bqtls_atac.shape"
   ]
  },
  {
   "cell_type": "code",
   "execution_count": 48,
   "metadata": {},
   "outputs": [
    {
     "data": {
      "text/plain": [
       "Index(['chr_x', 'pos_x', 'allele1', 'allele2', 'rsid', 'logfc.mean',\n",
       "       'abs_logfc.mean', 'abs_logfc.mean.pval', 'jsd.mean', 'jsd.mean.pval',\n",
       "       'logfc_x_jsd.mean', 'abs_logfc_x_jsd.mean', 'abs_logfc_x_jsd.mean.pval',\n",
       "       'max_percentile.mean', 'max_percentile.mean.pval',\n",
       "       'logfc_x_max_percentile.mean', 'abs_logfc_x_max_percentile.mean',\n",
       "       'abs_logfc_x_max_percentile.mean.pval', 'jsd_x_max_percentile.mean',\n",
       "       'jsd_x_max_percentile.mean.pval',\n",
       "       'abs_logfc_x_jsd_x_max_percentile.mean',\n",
       "       'abs_logfc_x_jsd_x_max_percentile.mean.pval',\n",
       "       'logfc_x_jsd_x_max_percentile.mean', 'Chr', 'position', 'ALTallele',\n",
       "       'POSTallele', 'label', 'POSTfreq', 'prechipfreq', 'logratio', 'chr_y',\n",
       "       'pos_y', 'ref', 'alt', 'DNASE_SAD', 'DNASE_SAR', 'rsid1', 'rsid_x',\n",
       "       'rsid_y', 'jsd_sign.mean'],\n",
       "      dtype='object')"
      ]
     },
     "execution_count": 48,
     "metadata": {},
     "output_type": "execute_result"
    }
   ],
   "source": [
    "bqtls_atac_full.columns"
   ]
  },
  {
   "cell_type": "code",
   "execution_count": null,
   "metadata": {},
   "outputs": [],
   "source": []
  }
 ],
 "metadata": {
  "kernelspec": {
   "display_name": "Python 3",
   "language": "python",
   "name": "python3"
  },
  "language_info": {
   "codemirror_mode": {
    "name": "ipython",
    "version": 3
   },
   "file_extension": ".py",
   "mimetype": "text/x-python",
   "name": "python",
   "nbconvert_exporter": "python",
   "pygments_lexer": "ipython3",
   "version": "3.7.6"
  }
 },
 "nbformat": 4,
 "nbformat_minor": 4
}
