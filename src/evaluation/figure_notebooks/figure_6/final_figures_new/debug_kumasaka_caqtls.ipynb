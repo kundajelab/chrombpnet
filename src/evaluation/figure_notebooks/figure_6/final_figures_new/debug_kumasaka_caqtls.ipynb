{
 "cells": [
  {
   "cell_type": "code",
   "execution_count": 180,
   "metadata": {},
   "outputs": [],
   "source": [
    "import pandas as pd"
   ]
  },
  {
   "cell_type": "code",
   "execution_count": 181,
   "metadata": {},
   "outputs": [],
   "source": [
    "qvals = pd.read_csv(\"/mnt/lab_data2/anusri/variant-scorer/src/output/caqtls_lcl_latest/lead_caQTL_variants.tsv.gz\", sep=\"\\t\", header=0)\n",
    "qvals[\"chr\"] = \"chr\"+qvals[\"Chr\"].astype(str) \n",
    "qvals = qvals[~qvals['Alt'].str.contains('<CN')]\n",
    "qvals = qvals[~qvals['Alt'].str.contains(',')]\n",
    "qvals = qvals[qvals['Alt'].str.len()==1]\n",
    "qvals = qvals[qvals['Ref'].str.len()==1]\n",
    "qvals = qvals.reset_index()\n",
    "qvals['abs_Beta'] = abs(qvals['Beta'])"
   ]
  },
  {
   "cell_type": "code",
   "execution_count": 182,
   "metadata": {},
   "outputs": [
    {
     "data": {
      "text/html": [
       "<div>\n",
       "<style scoped>\n",
       "    .dataframe tbody tr th:only-of-type {\n",
       "        vertical-align: middle;\n",
       "    }\n",
       "\n",
       "    .dataframe tbody tr th {\n",
       "        vertical-align: top;\n",
       "    }\n",
       "\n",
       "    .dataframe thead th {\n",
       "        text-align: right;\n",
       "    }\n",
       "</style>\n",
       "<table border=\"1\" class=\"dataframe\">\n",
       "  <thead>\n",
       "    <tr style=\"text-align: right;\">\n",
       "      <th></th>\n",
       "      <th>index</th>\n",
       "      <th>Peak</th>\n",
       "      <th>Chr</th>\n",
       "      <th>Pos</th>\n",
       "      <th>RsID</th>\n",
       "      <th>Ref</th>\n",
       "      <th>Alt</th>\n",
       "      <th>AF</th>\n",
       "      <th>Inside_Peak</th>\n",
       "      <th>P_Lead</th>\n",
       "      <th>Beta</th>\n",
       "      <th>SE</th>\n",
       "      <th>Log10_BF</th>\n",
       "      <th>chr</th>\n",
       "      <th>abs_Beta</th>\n",
       "    </tr>\n",
       "  </thead>\n",
       "  <tbody>\n",
       "    <tr>\n",
       "      <th>0</th>\n",
       "      <td>2</td>\n",
       "      <td>3</td>\n",
       "      <td>1</td>\n",
       "      <td>875770</td>\n",
       "      <td>rs4970379</td>\n",
       "      <td>A</td>\n",
       "      <td>G</td>\n",
       "      <td>0.62500</td>\n",
       "      <td>2</td>\n",
       "      <td>0.044994</td>\n",
       "      <td>0.155446</td>\n",
       "      <td>0.057836</td>\n",
       "      <td>-0.232537</td>\n",
       "      <td>chr1</td>\n",
       "      <td>0.155446</td>\n",
       "    </tr>\n",
       "    <tr>\n",
       "      <th>1</th>\n",
       "      <td>4</td>\n",
       "      <td>5</td>\n",
       "      <td>1</td>\n",
       "      <td>930533</td>\n",
       "      <td>rs3128110</td>\n",
       "      <td>C</td>\n",
       "      <td>G</td>\n",
       "      <td>0.35435</td>\n",
       "      <td>0</td>\n",
       "      <td>0.099392</td>\n",
       "      <td>0.174020</td>\n",
       "      <td>0.040562</td>\n",
       "      <td>1.751829</td>\n",
       "      <td>chr1</td>\n",
       "      <td>0.174020</td>\n",
       "    </tr>\n",
       "    <tr>\n",
       "      <th>2</th>\n",
       "      <td>6</td>\n",
       "      <td>7</td>\n",
       "      <td>1</td>\n",
       "      <td>565286</td>\n",
       "      <td>rs1578391</td>\n",
       "      <td>C</td>\n",
       "      <td>T</td>\n",
       "      <td>0.59780</td>\n",
       "      <td>1</td>\n",
       "      <td>0.998561</td>\n",
       "      <td>0.886884</td>\n",
       "      <td>0.188153</td>\n",
       "      <td>3.085214</td>\n",
       "      <td>chr1</td>\n",
       "      <td>0.886884</td>\n",
       "    </tr>\n",
       "    <tr>\n",
       "      <th>3</th>\n",
       "      <td>7</td>\n",
       "      <td>8</td>\n",
       "      <td>1</td>\n",
       "      <td>569204</td>\n",
       "      <td>rs112660509</td>\n",
       "      <td>T</td>\n",
       "      <td>C</td>\n",
       "      <td>0.40125</td>\n",
       "      <td>1</td>\n",
       "      <td>0.477613</td>\n",
       "      <td>0.251458</td>\n",
       "      <td>0.140264</td>\n",
       "      <td>-0.671608</td>\n",
       "      <td>chr1</td>\n",
       "      <td>0.251458</td>\n",
       "    </tr>\n",
       "    <tr>\n",
       "      <th>4</th>\n",
       "      <td>9</td>\n",
       "      <td>10</td>\n",
       "      <td>1</td>\n",
       "      <td>748141</td>\n",
       "      <td>rs2427893</td>\n",
       "      <td>G</td>\n",
       "      <td>A</td>\n",
       "      <td>0.05005</td>\n",
       "      <td>0</td>\n",
       "      <td>0.988758</td>\n",
       "      <td>0.347965</td>\n",
       "      <td>0.059578</td>\n",
       "      <td>4.597219</td>\n",
       "      <td>chr1</td>\n",
       "      <td>0.347965</td>\n",
       "    </tr>\n",
       "  </tbody>\n",
       "</table>\n",
       "</div>"
      ],
      "text/plain": [
       "   index  Peak  Chr     Pos         RsID Ref Alt       AF  Inside_Peak  \\\n",
       "0      2     3    1  875770    rs4970379   A   G  0.62500            2   \n",
       "1      4     5    1  930533    rs3128110   C   G  0.35435            0   \n",
       "2      6     7    1  565286    rs1578391   C   T  0.59780            1   \n",
       "3      7     8    1  569204  rs112660509   T   C  0.40125            1   \n",
       "4      9    10    1  748141    rs2427893   G   A  0.05005            0   \n",
       "\n",
       "     P_Lead      Beta        SE  Log10_BF   chr  abs_Beta  \n",
       "0  0.044994  0.155446  0.057836 -0.232537  chr1  0.155446  \n",
       "1  0.099392  0.174020  0.040562  1.751829  chr1  0.174020  \n",
       "2  0.998561  0.886884  0.188153  3.085214  chr1  0.886884  \n",
       "3  0.477613  0.251458  0.140264 -0.671608  chr1  0.251458  \n",
       "4  0.988758  0.347965  0.059578  4.597219  chr1  0.347965  "
      ]
     },
     "execution_count": 182,
     "metadata": {},
     "output_type": "execute_result"
    }
   ],
   "source": [
    "qvals.head()"
   ]
  },
  {
   "cell_type": "code",
   "execution_count": null,
   "metadata": {},
   "outputs": [],
   "source": []
  },
  {
   "cell_type": "code",
   "execution_count": 227,
   "metadata": {},
   "outputs": [],
   "source": [
    "inside_other_peaks = qvals[(qvals[\"Inside_Peak\"]==2) & (qvals[\"Log10_BF\"]>3)].drop_duplicates()"
   ]
  },
  {
   "cell_type": "code",
   "execution_count": 228,
   "metadata": {},
   "outputs": [],
   "source": [
    "inside_focal_peaks = qvals[(qvals[\"Inside_Peak\"]==1) & (qvals[\"Log10_BF\"]>3)].drop_duplicates()"
   ]
  },
  {
   "cell_type": "code",
   "execution_count": 229,
   "metadata": {},
   "outputs": [
    {
     "data": {
      "text/plain": [
       "(1742, 15)"
      ]
     },
     "execution_count": 229,
     "metadata": {},
     "output_type": "execute_result"
    }
   ],
   "source": [
    "inside_other_peaks.shape"
   ]
  },
  {
   "cell_type": "code",
   "execution_count": 230,
   "metadata": {},
   "outputs": [
    {
     "data": {
      "text/plain": [
       "(9851, 15)"
      ]
     },
     "execution_count": 230,
     "metadata": {},
     "output_type": "execute_result"
    }
   ],
   "source": [
    "inside_focal_peaks.shape"
   ]
  },
  {
   "cell_type": "code",
   "execution_count": 231,
   "metadata": {},
   "outputs": [
    {
     "data": {
      "text/html": [
       "<div>\n",
       "<style scoped>\n",
       "    .dataframe tbody tr th:only-of-type {\n",
       "        vertical-align: middle;\n",
       "    }\n",
       "\n",
       "    .dataframe tbody tr th {\n",
       "        vertical-align: top;\n",
       "    }\n",
       "\n",
       "    .dataframe thead th {\n",
       "        text-align: right;\n",
       "    }\n",
       "</style>\n",
       "<table border=\"1\" class=\"dataframe\">\n",
       "  <thead>\n",
       "    <tr style=\"text-align: right;\">\n",
       "      <th></th>\n",
       "      <th>index</th>\n",
       "      <th>Peak</th>\n",
       "      <th>Chr</th>\n",
       "      <th>Pos</th>\n",
       "      <th>RsID</th>\n",
       "      <th>Ref</th>\n",
       "      <th>Alt</th>\n",
       "      <th>AF</th>\n",
       "      <th>Inside_Peak</th>\n",
       "      <th>P_Lead</th>\n",
       "      <th>Beta</th>\n",
       "      <th>SE</th>\n",
       "      <th>Log10_BF</th>\n",
       "      <th>chr</th>\n",
       "      <th>abs_Beta</th>\n",
       "    </tr>\n",
       "  </thead>\n",
       "  <tbody>\n",
       "    <tr>\n",
       "      <th>2</th>\n",
       "      <td>6</td>\n",
       "      <td>7</td>\n",
       "      <td>1</td>\n",
       "      <td>565286</td>\n",
       "      <td>rs1578391</td>\n",
       "      <td>C</td>\n",
       "      <td>T</td>\n",
       "      <td>0.5978</td>\n",
       "      <td>1</td>\n",
       "      <td>0.998561</td>\n",
       "      <td>0.886884</td>\n",
       "      <td>0.188153</td>\n",
       "      <td>3.085214</td>\n",
       "      <td>chr1</td>\n",
       "      <td>0.886884</td>\n",
       "    </tr>\n",
       "  </tbody>\n",
       "</table>\n",
       "</div>"
      ],
      "text/plain": [
       "   index  Peak  Chr     Pos       RsID Ref Alt      AF  Inside_Peak    P_Lead  \\\n",
       "2      6     7    1  565286  rs1578391   C   T  0.5978            1  0.998561   \n",
       "\n",
       "       Beta        SE  Log10_BF   chr  abs_Beta  \n",
       "2  0.886884  0.188153  3.085214  chr1  0.886884  "
      ]
     },
     "execution_count": 231,
     "metadata": {},
     "output_type": "execute_result"
    }
   ],
   "source": [
    "inside_focal_peaks.head(1)"
   ]
  },
  {
   "cell_type": "code",
   "execution_count": 232,
   "metadata": {},
   "outputs": [],
   "source": [
    "inside_other_peaks[\"Chr\"]=\"chr\"+inside_other_peaks[\"Chr\"].astype(str)\n",
    "inside_focal_peaks[\"Chr\"]=\"chr\"+inside_focal_peaks[\"Chr\"].astype(str)\n",
    "\n",
    "inside_focal_peaks[\"rsid\"]=inside_focal_peaks[\"Chr\"].astype(str)+\"_\"+inside_focal_peaks[\"Pos\"].astype(str)+\"_\"+inside_focal_peaks[\"Ref\"]+\"_\"+inside_focal_peaks[\"Alt\"]\n",
    "inside_other_peaks[\"rsid\"]=inside_other_peaks[\"Chr\"].astype(str)+\"_\"+inside_other_peaks[\"Pos\"].astype(str)+\"_\"+inside_other_peaks[\"Ref\"]+\"_\"+inside_other_peaks[\"Alt\"]\n",
    "\n"
   ]
  },
  {
   "cell_type": "code",
   "execution_count": 233,
   "metadata": {},
   "outputs": [
    {
     "data": {
      "text/plain": [
       "973"
      ]
     },
     "execution_count": 233,
     "metadata": {},
     "output_type": "execute_result"
    }
   ],
   "source": [
    "len(set(inside_other_peaks[\"rsid\"]))"
   ]
  },
  {
   "cell_type": "code",
   "execution_count": 234,
   "metadata": {},
   "outputs": [
    {
     "data": {
      "text/plain": [
       "9851"
      ]
     },
     "execution_count": 234,
     "metadata": {},
     "output_type": "execute_result"
    }
   ],
   "source": [
    "len(set(inside_focal_peaks[\"rsid\"]))"
   ]
  },
  {
   "cell_type": "code",
   "execution_count": 235,
   "metadata": {},
   "outputs": [],
   "source": [
    "z1 = set(inside_focal_peaks[\"RsID\"]).intersection(set(inside_other_peaks[\"RsID\"]))\n"
   ]
  },
  {
   "cell_type": "code",
   "execution_count": 236,
   "metadata": {},
   "outputs": [
    {
     "data": {
      "text/plain": [
       "656"
      ]
     },
     "execution_count": 236,
     "metadata": {},
     "output_type": "execute_result"
    }
   ],
   "source": [
    "len(z1)"
   ]
  },
  {
   "cell_type": "code",
   "execution_count": 237,
   "metadata": {},
   "outputs": [],
   "source": [
    "z = set(inside_focal_peaks[\"rsid\"]).intersection(set(inside_other_peaks[\"rsid\"]))\n"
   ]
  },
  {
   "cell_type": "code",
   "execution_count": 238,
   "metadata": {},
   "outputs": [
    {
     "data": {
      "text/plain": [
       "656"
      ]
     },
     "execution_count": 238,
     "metadata": {},
     "output_type": "execute_result"
    }
   ],
   "source": [
    "len(z)"
   ]
  },
  {
   "cell_type": "code",
   "execution_count": null,
   "metadata": {},
   "outputs": [],
   "source": []
  },
  {
   "cell_type": "code",
   "execution_count": 239,
   "metadata": {},
   "outputs": [
    {
     "data": {
      "text/plain": [
       "rsid\n",
       "chr7_7860667_A_G       1\n",
       "chr2_42826919_T_G      1\n",
       "chr2_42357292_G_A      1\n",
       "chr2_39955465_C_T      1\n",
       "chr2_38079108_C_T      1\n",
       "                      ..\n",
       "chr1_181399618_G_T    11\n",
       "chr12_87705214_G_A    14\n",
       "chr10_20236731_A_G    18\n",
       "chr13_75874528_T_C    34\n",
       "chr3_192616700_T_G    47\n",
       "Name: Peak, Length: 656, dtype: int64"
      ]
     },
     "execution_count": 239,
     "metadata": {},
     "output_type": "execute_result"
    }
   ],
   "source": [
    "inside_other_peaks[inside_other_peaks.isin(z)].groupby('rsid')['Peak'].size().sort_values()"
   ]
  },
  {
   "cell_type": "code",
   "execution_count": 240,
   "metadata": {},
   "outputs": [],
   "source": [
    "\n",
    "newd = inside_other_peaks.sort_values('abs_Beta', ascending=False).drop_duplicates(['rsid'])\n",
    "\n"
   ]
  },
  {
   "cell_type": "code",
   "execution_count": 241,
   "metadata": {},
   "outputs": [
    {
     "data": {
      "text/html": [
       "<div>\n",
       "<style scoped>\n",
       "    .dataframe tbody tr th:only-of-type {\n",
       "        vertical-align: middle;\n",
       "    }\n",
       "\n",
       "    .dataframe tbody tr th {\n",
       "        vertical-align: top;\n",
       "    }\n",
       "\n",
       "    .dataframe thead th {\n",
       "        text-align: right;\n",
       "    }\n",
       "</style>\n",
       "<table border=\"1\" class=\"dataframe\">\n",
       "  <thead>\n",
       "    <tr style=\"text-align: right;\">\n",
       "      <th></th>\n",
       "      <th>index</th>\n",
       "      <th>Peak</th>\n",
       "      <th>Chr</th>\n",
       "      <th>Pos</th>\n",
       "      <th>RsID</th>\n",
       "      <th>Ref</th>\n",
       "      <th>Alt</th>\n",
       "      <th>AF</th>\n",
       "      <th>Inside_Peak</th>\n",
       "      <th>P_Lead</th>\n",
       "      <th>Beta</th>\n",
       "      <th>SE</th>\n",
       "      <th>Log10_BF</th>\n",
       "      <th>chr</th>\n",
       "      <th>abs_Beta</th>\n",
       "      <th>rsid</th>\n",
       "    </tr>\n",
       "  </thead>\n",
       "  <tbody>\n",
       "    <tr>\n",
       "      <th>77620</th>\n",
       "      <td>102420</td>\n",
       "      <td>97027</td>\n",
       "      <td>chr4</td>\n",
       "      <td>190156646</td>\n",
       "      <td>rs34706863</td>\n",
       "      <td>G</td>\n",
       "      <td>T</td>\n",
       "      <td>0.2650</td>\n",
       "      <td>2</td>\n",
       "      <td>0.998763</td>\n",
       "      <td>1.972464</td>\n",
       "      <td>0.092728</td>\n",
       "      <td>35.001132</td>\n",
       "      <td>chr4</td>\n",
       "      <td>1.972464</td>\n",
       "      <td>chr4_190156646_G_T</td>\n",
       "    </tr>\n",
       "    <tr>\n",
       "      <th>205567</th>\n",
       "      <td>269843</td>\n",
       "      <td>251337</td>\n",
       "      <td>chr17</td>\n",
       "      <td>19091555</td>\n",
       "      <td>rs200234160</td>\n",
       "      <td>T</td>\n",
       "      <td>A</td>\n",
       "      <td>0.0617</td>\n",
       "      <td>2</td>\n",
       "      <td>0.130740</td>\n",
       "      <td>-1.725211</td>\n",
       "      <td>0.137092</td>\n",
       "      <td>18.966584</td>\n",
       "      <td>chr17</td>\n",
       "      <td>1.725211</td>\n",
       "      <td>chr17_19091555_T_A</td>\n",
       "    </tr>\n",
       "    <tr>\n",
       "      <th>26827</th>\n",
       "      <td>35422</td>\n",
       "      <td>33009</td>\n",
       "      <td>chr2</td>\n",
       "      <td>114413955</td>\n",
       "      <td>rs12621065</td>\n",
       "      <td>T</td>\n",
       "      <td>C</td>\n",
       "      <td>0.5250</td>\n",
       "      <td>2</td>\n",
       "      <td>0.755553</td>\n",
       "      <td>-1.699921</td>\n",
       "      <td>0.147025</td>\n",
       "      <td>16.850797</td>\n",
       "      <td>chr2</td>\n",
       "      <td>1.699921</td>\n",
       "      <td>chr2_114413955_T_C</td>\n",
       "    </tr>\n",
       "    <tr>\n",
       "      <th>142292</th>\n",
       "      <td>186629</td>\n",
       "      <td>176374</td>\n",
       "      <td>chr9</td>\n",
       "      <td>31153406</td>\n",
       "      <td>rs10758026</td>\n",
       "      <td>T</td>\n",
       "      <td>C</td>\n",
       "      <td>0.4050</td>\n",
       "      <td>2</td>\n",
       "      <td>0.213319</td>\n",
       "      <td>1.443859</td>\n",
       "      <td>0.079542</td>\n",
       "      <td>29.586316</td>\n",
       "      <td>chr9</td>\n",
       "      <td>1.443859</td>\n",
       "      <td>chr9_31153406_T_C</td>\n",
       "    </tr>\n",
       "    <tr>\n",
       "      <th>62801</th>\n",
       "      <td>82724</td>\n",
       "      <td>77907</td>\n",
       "      <td>chr4</td>\n",
       "      <td>52727094</td>\n",
       "      <td>rs1875921</td>\n",
       "      <td>T</td>\n",
       "      <td>C</td>\n",
       "      <td>0.3350</td>\n",
       "      <td>2</td>\n",
       "      <td>0.210748</td>\n",
       "      <td>1.443545</td>\n",
       "      <td>0.105982</td>\n",
       "      <td>21.001514</td>\n",
       "      <td>chr4</td>\n",
       "      <td>1.443545</td>\n",
       "      <td>chr4_52727094_T_C</td>\n",
       "    </tr>\n",
       "    <tr>\n",
       "      <th>...</th>\n",
       "      <td>...</td>\n",
       "      <td>...</td>\n",
       "      <td>...</td>\n",
       "      <td>...</td>\n",
       "      <td>...</td>\n",
       "      <td>...</td>\n",
       "      <td>...</td>\n",
       "      <td>...</td>\n",
       "      <td>...</td>\n",
       "      <td>...</td>\n",
       "      <td>...</td>\n",
       "      <td>...</td>\n",
       "      <td>...</td>\n",
       "      <td>...</td>\n",
       "      <td>...</td>\n",
       "      <td>...</td>\n",
       "    </tr>\n",
       "    <tr>\n",
       "      <th>126971</th>\n",
       "      <td>167010</td>\n",
       "      <td>157822</td>\n",
       "      <td>chr8</td>\n",
       "      <td>11718528</td>\n",
       "      <td>rs1293288</td>\n",
       "      <td>T</td>\n",
       "      <td>C</td>\n",
       "      <td>0.5700</td>\n",
       "      <td>2</td>\n",
       "      <td>0.992249</td>\n",
       "      <td>-0.072896</td>\n",
       "      <td>0.013616</td>\n",
       "      <td>3.066369</td>\n",
       "      <td>chr8</td>\n",
       "      <td>0.072896</td>\n",
       "      <td>chr8_11718528_T_C</td>\n",
       "    </tr>\n",
       "    <tr>\n",
       "      <th>16003</th>\n",
       "      <td>21473</td>\n",
       "      <td>19944</td>\n",
       "      <td>chr1</td>\n",
       "      <td>226593271</td>\n",
       "      <td>rs7525191</td>\n",
       "      <td>T</td>\n",
       "      <td>G</td>\n",
       "      <td>0.2250</td>\n",
       "      <td>2</td>\n",
       "      <td>0.266814</td>\n",
       "      <td>0.072875</td>\n",
       "      <td>0.011974</td>\n",
       "      <td>4.367032</td>\n",
       "      <td>chr1</td>\n",
       "      <td>0.072875</td>\n",
       "      <td>chr1_226593271_T_G</td>\n",
       "    </tr>\n",
       "    <tr>\n",
       "      <th>52236</th>\n",
       "      <td>69106</td>\n",
       "      <td>65036</td>\n",
       "      <td>chr3</td>\n",
       "      <td>144661471</td>\n",
       "      <td>rs66492371</td>\n",
       "      <td>A</td>\n",
       "      <td>C</td>\n",
       "      <td>0.3550</td>\n",
       "      <td>2</td>\n",
       "      <td>0.426985</td>\n",
       "      <td>-0.063148</td>\n",
       "      <td>0.011782</td>\n",
       "      <td>3.014309</td>\n",
       "      <td>chr3</td>\n",
       "      <td>0.063148</td>\n",
       "      <td>chr3_144661471_A_C</td>\n",
       "    </tr>\n",
       "    <tr>\n",
       "      <th>148069</th>\n",
       "      <td>194207</td>\n",
       "      <td>183495</td>\n",
       "      <td>chr9</td>\n",
       "      <td>139796639</td>\n",
       "      <td>rs10870141</td>\n",
       "      <td>G</td>\n",
       "      <td>A</td>\n",
       "      <td>0.7400</td>\n",
       "      <td>2</td>\n",
       "      <td>0.594994</td>\n",
       "      <td>0.062153</td>\n",
       "      <td>0.010696</td>\n",
       "      <td>3.798187</td>\n",
       "      <td>chr9</td>\n",
       "      <td>0.062153</td>\n",
       "      <td>chr9_139796639_G_A</td>\n",
       "    </tr>\n",
       "    <tr>\n",
       "      <th>112382</th>\n",
       "      <td>147820</td>\n",
       "      <td>139775</td>\n",
       "      <td>chr7</td>\n",
       "      <td>5532104</td>\n",
       "      <td>rs35823801</td>\n",
       "      <td>G</td>\n",
       "      <td>A</td>\n",
       "      <td>0.2750</td>\n",
       "      <td>2</td>\n",
       "      <td>0.168144</td>\n",
       "      <td>-0.051879</td>\n",
       "      <td>0.009562</td>\n",
       "      <td>3.041991</td>\n",
       "      <td>chr7</td>\n",
       "      <td>0.051879</td>\n",
       "      <td>chr7_5532104_G_A</td>\n",
       "    </tr>\n",
       "  </tbody>\n",
       "</table>\n",
       "<p>973 rows × 16 columns</p>\n",
       "</div>"
      ],
      "text/plain": [
       "         index    Peak    Chr        Pos         RsID Ref Alt      AF  \\\n",
       "77620   102420   97027   chr4  190156646   rs34706863   G   T  0.2650   \n",
       "205567  269843  251337  chr17   19091555  rs200234160   T   A  0.0617   \n",
       "26827    35422   33009   chr2  114413955   rs12621065   T   C  0.5250   \n",
       "142292  186629  176374   chr9   31153406   rs10758026   T   C  0.4050   \n",
       "62801    82724   77907   chr4   52727094    rs1875921   T   C  0.3350   \n",
       "...        ...     ...    ...        ...          ...  ..  ..     ...   \n",
       "126971  167010  157822   chr8   11718528    rs1293288   T   C  0.5700   \n",
       "16003    21473   19944   chr1  226593271    rs7525191   T   G  0.2250   \n",
       "52236    69106   65036   chr3  144661471   rs66492371   A   C  0.3550   \n",
       "148069  194207  183495   chr9  139796639   rs10870141   G   A  0.7400   \n",
       "112382  147820  139775   chr7    5532104   rs35823801   G   A  0.2750   \n",
       "\n",
       "        Inside_Peak    P_Lead      Beta        SE   Log10_BF    chr  abs_Beta  \\\n",
       "77620             2  0.998763  1.972464  0.092728  35.001132   chr4  1.972464   \n",
       "205567            2  0.130740 -1.725211  0.137092  18.966584  chr17  1.725211   \n",
       "26827             2  0.755553 -1.699921  0.147025  16.850797   chr2  1.699921   \n",
       "142292            2  0.213319  1.443859  0.079542  29.586316   chr9  1.443859   \n",
       "62801             2  0.210748  1.443545  0.105982  21.001514   chr4  1.443545   \n",
       "...             ...       ...       ...       ...        ...    ...       ...   \n",
       "126971            2  0.992249 -0.072896  0.013616   3.066369   chr8  0.072896   \n",
       "16003             2  0.266814  0.072875  0.011974   4.367032   chr1  0.072875   \n",
       "52236             2  0.426985 -0.063148  0.011782   3.014309   chr3  0.063148   \n",
       "148069            2  0.594994  0.062153  0.010696   3.798187   chr9  0.062153   \n",
       "112382            2  0.168144 -0.051879  0.009562   3.041991   chr7  0.051879   \n",
       "\n",
       "                      rsid  \n",
       "77620   chr4_190156646_G_T  \n",
       "205567  chr17_19091555_T_A  \n",
       "26827   chr2_114413955_T_C  \n",
       "142292   chr9_31153406_T_C  \n",
       "62801    chr4_52727094_T_C  \n",
       "...                    ...  \n",
       "126971   chr8_11718528_T_C  \n",
       "16003   chr1_226593271_T_G  \n",
       "52236   chr3_144661471_A_C  \n",
       "148069  chr9_139796639_G_A  \n",
       "112382    chr7_5532104_G_A  \n",
       "\n",
       "[973 rows x 16 columns]"
      ]
     },
     "execution_count": 241,
     "metadata": {},
     "output_type": "execute_result"
    }
   ],
   "source": [
    "newd"
   ]
  },
  {
   "cell_type": "code",
   "execution_count": 242,
   "metadata": {},
   "outputs": [],
   "source": [
    "#newd = inside_other_peaks.groupby('rsid')['abs_Beta'].max()"
   ]
  },
  {
   "cell_type": "code",
   "execution_count": 243,
   "metadata": {},
   "outputs": [],
   "source": [
    "#newd"
   ]
  },
  {
   "cell_type": "code",
   "execution_count": 244,
   "metadata": {},
   "outputs": [],
   "source": [
    "newd = newd[newd['rsid'].isin(z)]"
   ]
  },
  {
   "cell_type": "code",
   "execution_count": 245,
   "metadata": {},
   "outputs": [],
   "source": [
    "newd = newd.sort_values('rsid')"
   ]
  },
  {
   "cell_type": "code",
   "execution_count": null,
   "metadata": {},
   "outputs": [],
   "source": []
  },
  {
   "cell_type": "code",
   "execution_count": 246,
   "metadata": {},
   "outputs": [],
   "source": [
    "df = inside_focal_peaks[inside_focal_peaks[\"rsid\"].isin(z)]\n",
    "df = df[[\"abs_Beta\", \"rsid\", \"Beta\"]].sort_values('rsid')\n"
   ]
  },
  {
   "cell_type": "code",
   "execution_count": 247,
   "metadata": {},
   "outputs": [
    {
     "data": {
      "text/plain": [
       "(656, 2)"
      ]
     },
     "execution_count": 247,
     "metadata": {},
     "output_type": "execute_result"
    }
   ],
   "source": [
    "df[[\"abs_Beta\", \"rsid\"]].sort_values('rsid').shape"
   ]
  },
  {
   "cell_type": "code",
   "execution_count": 248,
   "metadata": {},
   "outputs": [],
   "source": [
    "import matplotlib.pyplot as plt\n"
   ]
  },
  {
   "cell_type": "code",
   "execution_count": 249,
   "metadata": {},
   "outputs": [
    {
     "data": {
      "text/plain": [
       "<matplotlib.collections.PathCollection at 0x7f15e1569dd0>"
      ]
     },
     "execution_count": 249,
     "metadata": {},
     "output_type": "execute_result"
    },
    {
     "data": {
      "image/png": "[encoded data removed]",
      "text/plain": [
       "<Figure size 432x288 with 1 Axes>"
      ]
     },
     "metadata": {
      "needs_background": "light"
     },
     "output_type": "display_data"
    }
   ],
   "source": [
    "plt.scatter(df['abs_Beta'], newd['abs_Beta'])"
   ]
  },
  {
   "cell_type": "code",
   "execution_count": 250,
   "metadata": {},
   "outputs": [
    {
     "data": {
      "text/plain": [
       "Text(0, 0.5, 'distal observed effect')"
      ]
     },
     "execution_count": 250,
     "metadata": {},
     "output_type": "execute_result"
    },
    {
     "data": {
      "image/png": "[encoded data removed]",
      "text/plain": [
       "<Figure size 432x288 with 1 Axes>"
      ]
     },
     "metadata": {
      "needs_background": "light"
     },
     "output_type": "display_data"
    }
   ],
   "source": [
    "plt.scatter(df['Beta'], newd['Beta'],s=1)\n",
    "plt.xlabel(\"local observed effect\")\n",
    "plt.ylabel(\"distal observed effect\")"
   ]
  },
  {
   "cell_type": "code",
   "execution_count": 251,
   "metadata": {},
   "outputs": [
    {
     "data": {
      "text/plain": [
       "(0.4008546238537578, 1.0260601619452211e-26)"
      ]
     },
     "execution_count": 251,
     "metadata": {},
     "output_type": "execute_result"
    }
   ],
   "source": [
    "from scipy.stats import pearsonr\n",
    "pearsonr(df['abs_Beta'], newd['abs_Beta'])"
   ]
  },
  {
   "cell_type": "code",
   "execution_count": 252,
   "metadata": {},
   "outputs": [
    {
     "data": {
      "text/plain": [
       "(0.8148285317030296, 5.230535437738494e-157)"
      ]
     },
     "execution_count": 252,
     "metadata": {},
     "output_type": "execute_result"
    }
   ],
   "source": [
    "pearsonr(df['Beta'], newd['Beta'])"
   ]
  },
  {
   "cell_type": "code",
   "execution_count": null,
   "metadata": {},
   "outputs": [],
   "source": []
  },
  {
   "cell_type": "code",
   "execution_count": 175,
   "metadata": {},
   "outputs": [],
   "source": []
  },
  {
   "cell_type": "code",
   "execution_count": 176,
   "metadata": {},
   "outputs": [
    {
     "data": {
      "text/plain": [
       "(0.3703204935701525, 1.0444693438062491e-83)"
      ]
     },
     "execution_count": 176,
     "metadata": {},
     "output_type": "execute_result"
    }
   ],
   "source": []
  },
  {
   "cell_type": "code",
   "execution_count": null,
   "metadata": {},
   "outputs": [],
   "source": []
  },
  {
   "cell_type": "code",
   "execution_count": null,
   "metadata": {},
   "outputs": [],
   "source": []
  },
  {
   "cell_type": "code",
   "execution_count": null,
   "metadata": {},
   "outputs": [],
   "source": []
  },
  {
   "cell_type": "code",
   "execution_count": null,
   "metadata": {},
   "outputs": [],
   "source": []
  },
  {
   "cell_type": "code",
   "execution_count": null,
   "metadata": {},
   "outputs": [],
   "source": []
  },
  {
   "cell_type": "code",
   "execution_count": null,
   "metadata": {},
   "outputs": [],
   "source": []
  },
  {
   "cell_type": "code",
   "execution_count": null,
   "metadata": {},
   "outputs": [],
   "source": []
  },
  {
   "cell_type": "code",
   "execution_count": null,
   "metadata": {},
   "outputs": [],
   "source": []
  }
 ],
 "metadata": {
  "kernelspec": {
   "display_name": "Python 3",
   "language": "python",
   "name": "python3"
  },
  "language_info": {
   "codemirror_mode": {
    "name": "ipython",
    "version": 3
   },
   "file_extension": ".py",
   "mimetype": "text/x-python",
   "name": "python",
   "nbconvert_exporter": "python",
   "pygments_lexer": "ipython3",
   "version": "3.7.6"
  }
 },
 "nbformat": 4,
 "nbformat_minor": 4
}
