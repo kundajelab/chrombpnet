{
 "cells": [
  {
   "cell_type": "code",
   "execution_count": 1,
   "metadata": {},
   "outputs": [],
   "source": [
    "import pandas as pd"
   ]
  },
  {
   "cell_type": "code",
   "execution_count": 44,
   "metadata": {},
   "outputs": [],
   "source": [
    "# #rsids to hg19 coordinates\n",
    "# rsid_map = pd.read_csv(\"/mnt/lab_data2/anusri/enformer/eu_caqtls/convert_hg38_to_hg19/hg38_rsids2.bed\", sep=\"\\t\", header=None)\n",
    "# rsid_map[\"rsid\"] = rsid_map[0] + \"_\" + rsid_map[2].astype(str) + \"_\" + rsid_map[3] + \"_\" + rsid_map[4] \n",
    "# rsid_map_dict = {}\n",
    "# for i,r in rsid_map.iterrows():\n",
    "#     rsid_map_dict[r[9]] = r[\"rsid\"]"
   ]
  },
  {
   "cell_type": "code",
   "execution_count": 45,
   "metadata": {},
   "outputs": [],
   "source": [
    "caqtls = pd.read_csv(\"Eu.new.CaQTLS.tsv\", sep=\"\\t\", header=0)\n",
    "caqtls = caqtls[caqtls[\"IsUsed\"] & caqtls[\"Inside_Peak\"]==1]\n"
   ]
  },
  {
   "cell_type": "code",
   "execution_count": 46,
   "metadata": {},
   "outputs": [],
   "source": [
    "afrs = pd.read_csv(\"Afr.CaQTLS.new.tsv\", sep=\"\\t\", header=0)\n",
    "afrs = afrs[afrs[\"IsUsed\"]]"
   ]
  },
  {
   "cell_type": "code",
   "execution_count": 47,
   "metadata": {},
   "outputs": [
    {
     "data": {
      "text/html": [
       "<div>\n",
       "<style scoped>\n",
       "    .dataframe tbody tr th:only-of-type {\n",
       "        vertical-align: middle;\n",
       "    }\n",
       "\n",
       "    .dataframe tbody tr th {\n",
       "        vertical-align: top;\n",
       "    }\n",
       "\n",
       "    .dataframe thead th {\n",
       "        text-align: right;\n",
       "    }\n",
       "</style>\n",
       "<table border=\"1\" class=\"dataframe\">\n",
       "  <thead>\n",
       "    <tr style=\"text-align: right;\">\n",
       "      <th></th>\n",
       "      <th>chr_hg38</th>\n",
       "      <th>pos_hg38</th>\n",
       "      <th>allele1</th>\n",
       "      <th>allele2</th>\n",
       "      <th>snp_id</th>\n",
       "      <th>label</th>\n",
       "      <th>IsUsed</th>\n",
       "      <th>pval</th>\n",
       "      <th>beta</th>\n",
       "      <th>enformer.encsr000emt.variantscore.sad</th>\n",
       "      <th>...</th>\n",
       "      <th>chrombpnet.encsr095qnb.variantscore.jsd</th>\n",
       "      <th>chrombpnet.encsr095qnb.variantscore.csr</th>\n",
       "      <th>chrombpnet.encsr095qnb.variantscore.pval</th>\n",
       "      <th>dbsnp_rsid</th>\n",
       "      <th>region</th>\n",
       "      <th>snp</th>\n",
       "      <th>distance</th>\n",
       "      <th>se</th>\n",
       "      <th>abs_beta</th>\n",
       "      <th>id_hg19</th>\n",
       "    </tr>\n",
       "  </thead>\n",
       "  <tbody>\n",
       "    <tr>\n",
       "      <th>2</th>\n",
       "      <td>chr1</td>\n",
       "      <td>870176</td>\n",
       "      <td>T</td>\n",
       "      <td>A</td>\n",
       "      <td>1_870176_T_A</td>\n",
       "      <td>False</td>\n",
       "      <td>True</td>\n",
       "      <td>0.071532</td>\n",
       "      <td>-0.250142</td>\n",
       "      <td>-0.000139</td>\n",
       "      <td>...</td>\n",
       "      <td>0.019025</td>\n",
       "      <td>0.001262</td>\n",
       "      <td>0.048612</td>\n",
       "      <td>rs72631880</td>\n",
       "      <td>1:869800:870282</td>\n",
       "      <td>1_870176_T_A</td>\n",
       "      <td>375</td>\n",
       "      <td>0.137133</td>\n",
       "      <td>0.250142</td>\n",
       "      <td>chr1_805556_T_A</td>\n",
       "    </tr>\n",
       "    <tr>\n",
       "      <th>4</th>\n",
       "      <td>chr1</td>\n",
       "      <td>905373</td>\n",
       "      <td>C</td>\n",
       "      <td>T</td>\n",
       "      <td>1_905373_T_C</td>\n",
       "      <td>False</td>\n",
       "      <td>True</td>\n",
       "      <td>0.188152</td>\n",
       "      <td>-0.130176</td>\n",
       "      <td>-0.000071</td>\n",
       "      <td>...</td>\n",
       "      <td>0.025277</td>\n",
       "      <td>0.003640</td>\n",
       "      <td>0.018781</td>\n",
       "      <td>rs4970382</td>\n",
       "      <td>1:904938:905544</td>\n",
       "      <td>1_905373_T_C</td>\n",
       "      <td>434</td>\n",
       "      <td>0.098145</td>\n",
       "      <td>0.130176</td>\n",
       "      <td>chr1_840753_T_C</td>\n",
       "    </tr>\n",
       "    <tr>\n",
       "      <th>8</th>\n",
       "      <td>chr1</td>\n",
       "      <td>906870</td>\n",
       "      <td>A</td>\n",
       "      <td>G</td>\n",
       "      <td>1_906870_A_G</td>\n",
       "      <td>False</td>\n",
       "      <td>True</td>\n",
       "      <td>0.151325</td>\n",
       "      <td>-0.335979</td>\n",
       "      <td>-0.000669</td>\n",
       "      <td>...</td>\n",
       "      <td>-0.048693</td>\n",
       "      <td>0.024808</td>\n",
       "      <td>0.002238</td>\n",
       "      <td>rs148658266</td>\n",
       "      <td>1:906596:907043</td>\n",
       "      <td>1_906870_A_G</td>\n",
       "      <td>273</td>\n",
       "      <td>0.232118</td>\n",
       "      <td>0.335979</td>\n",
       "      <td>chr1_842250_A_G</td>\n",
       "    </tr>\n",
       "    <tr>\n",
       "      <th>9</th>\n",
       "      <td>chr1</td>\n",
       "      <td>906982</td>\n",
       "      <td>C</td>\n",
       "      <td>T</td>\n",
       "      <td>1_906982_C_T</td>\n",
       "      <td>True</td>\n",
       "      <td>True</td>\n",
       "      <td>0.000005</td>\n",
       "      <td>-0.520262</td>\n",
       "      <td>-0.000453</td>\n",
       "      <td>...</td>\n",
       "      <td>-0.029040</td>\n",
       "      <td>0.009527</td>\n",
       "      <td>0.007020</td>\n",
       "      <td>rs28540380</td>\n",
       "      <td>1:906596:907043</td>\n",
       "      <td>1_906982_C_T</td>\n",
       "      <td>385</td>\n",
       "      <td>0.106740</td>\n",
       "      <td>0.520262</td>\n",
       "      <td>chr1_842362_C_T</td>\n",
       "    </tr>\n",
       "    <tr>\n",
       "      <th>12</th>\n",
       "      <td>chr1</td>\n",
       "      <td>921203</td>\n",
       "      <td>G</td>\n",
       "      <td>A</td>\n",
       "      <td>1_921203_G_A</td>\n",
       "      <td>True</td>\n",
       "      <td>True</td>\n",
       "      <td>0.000007</td>\n",
       "      <td>0.905971</td>\n",
       "      <td>0.000342</td>\n",
       "      <td>...</td>\n",
       "      <td>0.085904</td>\n",
       "      <td>0.025396</td>\n",
       "      <td>0.002171</td>\n",
       "      <td>rs141671872</td>\n",
       "      <td>1:921132:921332</td>\n",
       "      <td>1_921203_G_A</td>\n",
       "      <td>70</td>\n",
       "      <td>0.189412</td>\n",
       "      <td>0.905971</td>\n",
       "      <td>chr1_856583_G_A</td>\n",
       "    </tr>\n",
       "  </tbody>\n",
       "</table>\n",
       "<p>5 rows × 47 columns</p>\n",
       "</div>"
      ],
      "text/plain": [
       "   chr_hg38  pos_hg38 allele1 allele2        snp_id  label  IsUsed      pval  \\\n",
       "2      chr1    870176       T       A  1_870176_T_A  False    True  0.071532   \n",
       "4      chr1    905373       C       T  1_905373_T_C  False    True  0.188152   \n",
       "8      chr1    906870       A       G  1_906870_A_G  False    True  0.151325   \n",
       "9      chr1    906982       C       T  1_906982_C_T   True    True  0.000005   \n",
       "12     chr1    921203       G       A  1_921203_G_A   True    True  0.000007   \n",
       "\n",
       "        beta  enformer.encsr000emt.variantscore.sad  ...  \\\n",
       "2  -0.250142                              -0.000139  ...   \n",
       "4  -0.130176                              -0.000071  ...   \n",
       "8  -0.335979                              -0.000669  ...   \n",
       "9  -0.520262                              -0.000453  ...   \n",
       "12  0.905971                               0.000342  ...   \n",
       "\n",
       "    chrombpnet.encsr095qnb.variantscore.jsd  \\\n",
       "2                                  0.019025   \n",
       "4                                  0.025277   \n",
       "8                                 -0.048693   \n",
       "9                                 -0.029040   \n",
       "12                                 0.085904   \n",
       "\n",
       "    chrombpnet.encsr095qnb.variantscore.csr  \\\n",
       "2                                  0.001262   \n",
       "4                                  0.003640   \n",
       "8                                  0.024808   \n",
       "9                                  0.009527   \n",
       "12                                 0.025396   \n",
       "\n",
       "    chrombpnet.encsr095qnb.variantscore.pval   dbsnp_rsid           region  \\\n",
       "2                                   0.048612   rs72631880  1:869800:870282   \n",
       "4                                   0.018781    rs4970382  1:904938:905544   \n",
       "8                                   0.002238  rs148658266  1:906596:907043   \n",
       "9                                   0.007020   rs28540380  1:906596:907043   \n",
       "12                                  0.002171  rs141671872  1:921132:921332   \n",
       "\n",
       "             snp  distance        se  abs_beta          id_hg19  \n",
       "2   1_870176_T_A       375  0.137133  0.250142  chr1_805556_T_A  \n",
       "4   1_905373_T_C       434  0.098145  0.130176  chr1_840753_T_C  \n",
       "8   1_906870_A_G       273  0.232118  0.335979  chr1_842250_A_G  \n",
       "9   1_906982_C_T       385  0.106740  0.520262  chr1_842362_C_T  \n",
       "12  1_921203_G_A        70  0.189412  0.905971  chr1_856583_G_A  \n",
       "\n",
       "[5 rows x 47 columns]"
      ]
     },
     "execution_count": 47,
     "metadata": {},
     "output_type": "execute_result"
    }
   ],
   "source": [
    "afrs.head() # hg38"
   ]
  },
  {
   "cell_type": "code",
   "execution_count": 48,
   "metadata": {},
   "outputs": [
    {
     "data": {
      "text/html": [
       "<div>\n",
       "<style scoped>\n",
       "    .dataframe tbody tr th:only-of-type {\n",
       "        vertical-align: middle;\n",
       "    }\n",
       "\n",
       "    .dataframe tbody tr th {\n",
       "        vertical-align: top;\n",
       "    }\n",
       "\n",
       "    .dataframe thead th {\n",
       "        text-align: right;\n",
       "    }\n",
       "</style>\n",
       "<table border=\"1\" class=\"dataframe\">\n",
       "  <thead>\n",
       "    <tr style=\"text-align: right;\">\n",
       "      <th></th>\n",
       "      <th>chr</th>\n",
       "      <th>Pos</th>\n",
       "      <th>Ref</th>\n",
       "      <th>Alt</th>\n",
       "      <th>RsID</th>\n",
       "      <th>Peak</th>\n",
       "      <th>AF</th>\n",
       "      <th>Inside_Peak</th>\n",
       "      <th>P_Lead</th>\n",
       "      <th>Beta</th>\n",
       "      <th>...</th>\n",
       "      <th>ENCSR637XSC.sub.50M.abs_logfc_x_jsd_x_max_percentile.mean</th>\n",
       "      <th>ENCSR637XSC.sub.50M.abs_logfc_x_jsd_x_max_percentile.mean.pval</th>\n",
       "      <th>ENCSR000EMT.logfc.mean</th>\n",
       "      <th>ENCSR000EMT.jsd_sign.mean</th>\n",
       "      <th>ENCSR000EMT.abs_logfc_x_jsd_x_max_percentile.mean</th>\n",
       "      <th>ENCSR000EMT.abs_logfc_x_jsd_x_max_percentile.mean.pval</th>\n",
       "      <th>enformer_recomputed</th>\n",
       "      <th>DNASE_SAD</th>\n",
       "      <th>DNASE_SAR</th>\n",
       "      <th>IsUsed</th>\n",
       "    </tr>\n",
       "  </thead>\n",
       "  <tbody>\n",
       "    <tr>\n",
       "      <th>2</th>\n",
       "      <td>chr1</td>\n",
       "      <td>565286</td>\n",
       "      <td>C</td>\n",
       "      <td>T</td>\n",
       "      <td>rs1578391</td>\n",
       "      <td>7</td>\n",
       "      <td>0.59780</td>\n",
       "      <td>1</td>\n",
       "      <td>0.998561</td>\n",
       "      <td>0.886884</td>\n",
       "      <td>...</td>\n",
       "      <td>0.000022</td>\n",
       "      <td>0.379356</td>\n",
       "      <td>-0.045242</td>\n",
       "      <td>-0.016605</td>\n",
       "      <td>5.337650e-05</td>\n",
       "      <td>0.505239</td>\n",
       "      <td>-0.001945</td>\n",
       "      <td>0.000008</td>\n",
       "      <td>0.000011</td>\n",
       "      <td>True</td>\n",
       "    </tr>\n",
       "    <tr>\n",
       "      <th>3</th>\n",
       "      <td>chr1</td>\n",
       "      <td>569204</td>\n",
       "      <td>T</td>\n",
       "      <td>C</td>\n",
       "      <td>rs112660509</td>\n",
       "      <td>8</td>\n",
       "      <td>0.40125</td>\n",
       "      <td>1</td>\n",
       "      <td>0.477613</td>\n",
       "      <td>0.251458</td>\n",
       "      <td>...</td>\n",
       "      <td>0.000155</td>\n",
       "      <td>0.191231</td>\n",
       "      <td>0.027531</td>\n",
       "      <td>0.017267</td>\n",
       "      <td>2.734630e-04</td>\n",
       "      <td>0.580367</td>\n",
       "      <td>0.001667</td>\n",
       "      <td>0.000026</td>\n",
       "      <td>0.000036</td>\n",
       "      <td>True</td>\n",
       "    </tr>\n",
       "    <tr>\n",
       "      <th>6</th>\n",
       "      <td>chr1</td>\n",
       "      <td>726944</td>\n",
       "      <td>C</td>\n",
       "      <td>G</td>\n",
       "      <td>rs3131979</td>\n",
       "      <td>14</td>\n",
       "      <td>0.74175</td>\n",
       "      <td>1</td>\n",
       "      <td>0.953905</td>\n",
       "      <td>-0.079065</td>\n",
       "      <td>...</td>\n",
       "      <td>0.000001</td>\n",
       "      <td>0.802258</td>\n",
       "      <td>0.026410</td>\n",
       "      <td>0.010944</td>\n",
       "      <td>2.107834e-05</td>\n",
       "      <td>0.580367</td>\n",
       "      <td>-0.001038</td>\n",
       "      <td>0.000100</td>\n",
       "      <td>0.000133</td>\n",
       "      <td>True</td>\n",
       "    </tr>\n",
       "    <tr>\n",
       "      <th>7</th>\n",
       "      <td>chr1</td>\n",
       "      <td>752721</td>\n",
       "      <td>A</td>\n",
       "      <td>G</td>\n",
       "      <td>rs3131972</td>\n",
       "      <td>17</td>\n",
       "      <td>0.84500</td>\n",
       "      <td>1</td>\n",
       "      <td>0.890193</td>\n",
       "      <td>-0.011374</td>\n",
       "      <td>...</td>\n",
       "      <td>0.012412</td>\n",
       "      <td>0.003650</td>\n",
       "      <td>0.338401</td>\n",
       "      <td>0.047837</td>\n",
       "      <td>1.246855e-02</td>\n",
       "      <td>0.333333</td>\n",
       "      <td>-0.344077</td>\n",
       "      <td>0.002493</td>\n",
       "      <td>0.003319</td>\n",
       "      <td>True</td>\n",
       "    </tr>\n",
       "    <tr>\n",
       "      <th>8</th>\n",
       "      <td>chr1</td>\n",
       "      <td>755940</td>\n",
       "      <td>C</td>\n",
       "      <td>T</td>\n",
       "      <td>rs3115857</td>\n",
       "      <td>18</td>\n",
       "      <td>0.59380</td>\n",
       "      <td>1</td>\n",
       "      <td>0.302008</td>\n",
       "      <td>-0.077224</td>\n",
       "      <td>...</td>\n",
       "      <td>0.000004</td>\n",
       "      <td>0.674640</td>\n",
       "      <td>-0.026630</td>\n",
       "      <td>-0.011550</td>\n",
       "      <td>2.854755e-07</td>\n",
       "      <td>0.666667</td>\n",
       "      <td>-0.007762</td>\n",
       "      <td>0.000022</td>\n",
       "      <td>0.000029</td>\n",
       "      <td>True</td>\n",
       "    </tr>\n",
       "  </tbody>\n",
       "</table>\n",
       "<p>5 rows × 28 columns</p>\n",
       "</div>"
      ],
      "text/plain": [
       "    chr     Pos Ref Alt         RsID  Peak       AF  Inside_Peak    P_Lead  \\\n",
       "2  chr1  565286   C   T    rs1578391     7  0.59780            1  0.998561   \n",
       "3  chr1  569204   T   C  rs112660509     8  0.40125            1  0.477613   \n",
       "6  chr1  726944   C   G    rs3131979    14  0.74175            1  0.953905   \n",
       "7  chr1  752721   A   G    rs3131972    17  0.84500            1  0.890193   \n",
       "8  chr1  755940   C   T    rs3115857    18  0.59380            1  0.302008   \n",
       "\n",
       "       Beta  ...  ENCSR637XSC.sub.50M.abs_logfc_x_jsd_x_max_percentile.mean  \\\n",
       "2  0.886884  ...                                           0.000022           \n",
       "3  0.251458  ...                                           0.000155           \n",
       "6 -0.079065  ...                                           0.000001           \n",
       "7 -0.011374  ...                                           0.012412           \n",
       "8 -0.077224  ...                                           0.000004           \n",
       "\n",
       "   ENCSR637XSC.sub.50M.abs_logfc_x_jsd_x_max_percentile.mean.pval  \\\n",
       "2                                           0.379356                \n",
       "3                                           0.191231                \n",
       "6                                           0.802258                \n",
       "7                                           0.003650                \n",
       "8                                           0.674640                \n",
       "\n",
       "   ENCSR000EMT.logfc.mean  ENCSR000EMT.jsd_sign.mean  \\\n",
       "2               -0.045242                  -0.016605   \n",
       "3                0.027531                   0.017267   \n",
       "6                0.026410                   0.010944   \n",
       "7                0.338401                   0.047837   \n",
       "8               -0.026630                  -0.011550   \n",
       "\n",
       "   ENCSR000EMT.abs_logfc_x_jsd_x_max_percentile.mean  \\\n",
       "2                                       5.337650e-05   \n",
       "3                                       2.734630e-04   \n",
       "6                                       2.107834e-05   \n",
       "7                                       1.246855e-02   \n",
       "8                                       2.854755e-07   \n",
       "\n",
       "   ENCSR000EMT.abs_logfc_x_jsd_x_max_percentile.mean.pval  \\\n",
       "2                                           0.505239        \n",
       "3                                           0.580367        \n",
       "6                                           0.580367        \n",
       "7                                           0.333333        \n",
       "8                                           0.666667        \n",
       "\n",
       "   enformer_recomputed  DNASE_SAD  DNASE_SAR  IsUsed  \n",
       "2            -0.001945   0.000008   0.000011    True  \n",
       "3             0.001667   0.000026   0.000036    True  \n",
       "6            -0.001038   0.000100   0.000133    True  \n",
       "7            -0.344077   0.002493   0.003319    True  \n",
       "8            -0.007762   0.000022   0.000029    True  \n",
       "\n",
       "[5 rows x 28 columns]"
      ]
     },
     "execution_count": 48,
     "metadata": {},
     "output_type": "execute_result"
    }
   ],
   "source": [
    "caqtls.head() # hg19"
   ]
  },
  {
   "cell_type": "code",
   "execution_count": 7,
   "metadata": {},
   "outputs": [],
   "source": [
    "#afrs[\"rsid1\"] = afrs[\"dbsnp_rsid\"].map(rsid_map_dict)"
   ]
  },
  {
   "cell_type": "code",
   "execution_count": 8,
   "metadata": {},
   "outputs": [],
   "source": [
    "#afrs.head()"
   ]
  },
  {
   "cell_type": "code",
   "execution_count": 49,
   "metadata": {},
   "outputs": [],
   "source": [
    "afrs[[\"chr_hg19\", \"pos_hg19\", \"ref_hg19\", \"alt_hg19\"]] = afrs[\"id_hg19\"].str.split(\"_\", expand=True)"
   ]
  },
  {
   "cell_type": "code",
   "execution_count": 50,
   "metadata": {},
   "outputs": [],
   "source": [
    "afrs.head()\n",
    "afrs[\"pos_hg19\"] = afrs[\"pos_hg19\"].astype(int)"
   ]
  },
  {
   "cell_type": "code",
   "execution_count": 51,
   "metadata": {},
   "outputs": [
    {
     "data": {
      "text/html": [
       "<div>\n",
       "<style scoped>\n",
       "    .dataframe tbody tr th:only-of-type {\n",
       "        vertical-align: middle;\n",
       "    }\n",
       "\n",
       "    .dataframe tbody tr th {\n",
       "        vertical-align: top;\n",
       "    }\n",
       "\n",
       "    .dataframe thead th {\n",
       "        text-align: right;\n",
       "    }\n",
       "</style>\n",
       "<table border=\"1\" class=\"dataframe\">\n",
       "  <thead>\n",
       "    <tr style=\"text-align: right;\">\n",
       "      <th></th>\n",
       "      <th>chr</th>\n",
       "      <th>Pos</th>\n",
       "      <th>Ref</th>\n",
       "      <th>Alt</th>\n",
       "      <th>RsID</th>\n",
       "      <th>Peak</th>\n",
       "      <th>AF</th>\n",
       "      <th>Inside_Peak</th>\n",
       "      <th>P_Lead</th>\n",
       "      <th>Beta</th>\n",
       "      <th>...</th>\n",
       "      <th>ENCSR637XSC.sub.50M.abs_logfc_x_jsd_x_max_percentile.mean</th>\n",
       "      <th>ENCSR637XSC.sub.50M.abs_logfc_x_jsd_x_max_percentile.mean.pval</th>\n",
       "      <th>ENCSR000EMT.logfc.mean</th>\n",
       "      <th>ENCSR000EMT.jsd_sign.mean</th>\n",
       "      <th>ENCSR000EMT.abs_logfc_x_jsd_x_max_percentile.mean</th>\n",
       "      <th>ENCSR000EMT.abs_logfc_x_jsd_x_max_percentile.mean.pval</th>\n",
       "      <th>enformer_recomputed</th>\n",
       "      <th>DNASE_SAD</th>\n",
       "      <th>DNASE_SAR</th>\n",
       "      <th>IsUsed</th>\n",
       "    </tr>\n",
       "  </thead>\n",
       "  <tbody>\n",
       "    <tr>\n",
       "      <th>2</th>\n",
       "      <td>chr1</td>\n",
       "      <td>565286</td>\n",
       "      <td>C</td>\n",
       "      <td>T</td>\n",
       "      <td>rs1578391</td>\n",
       "      <td>7</td>\n",
       "      <td>0.59780</td>\n",
       "      <td>1</td>\n",
       "      <td>0.998561</td>\n",
       "      <td>0.886884</td>\n",
       "      <td>...</td>\n",
       "      <td>0.000022</td>\n",
       "      <td>0.379356</td>\n",
       "      <td>-0.045242</td>\n",
       "      <td>-0.016605</td>\n",
       "      <td>5.337650e-05</td>\n",
       "      <td>0.505239</td>\n",
       "      <td>-0.001945</td>\n",
       "      <td>0.000008</td>\n",
       "      <td>0.000011</td>\n",
       "      <td>True</td>\n",
       "    </tr>\n",
       "    <tr>\n",
       "      <th>3</th>\n",
       "      <td>chr1</td>\n",
       "      <td>569204</td>\n",
       "      <td>T</td>\n",
       "      <td>C</td>\n",
       "      <td>rs112660509</td>\n",
       "      <td>8</td>\n",
       "      <td>0.40125</td>\n",
       "      <td>1</td>\n",
       "      <td>0.477613</td>\n",
       "      <td>0.251458</td>\n",
       "      <td>...</td>\n",
       "      <td>0.000155</td>\n",
       "      <td>0.191231</td>\n",
       "      <td>0.027531</td>\n",
       "      <td>0.017267</td>\n",
       "      <td>2.734630e-04</td>\n",
       "      <td>0.580367</td>\n",
       "      <td>0.001667</td>\n",
       "      <td>0.000026</td>\n",
       "      <td>0.000036</td>\n",
       "      <td>True</td>\n",
       "    </tr>\n",
       "    <tr>\n",
       "      <th>6</th>\n",
       "      <td>chr1</td>\n",
       "      <td>726944</td>\n",
       "      <td>C</td>\n",
       "      <td>G</td>\n",
       "      <td>rs3131979</td>\n",
       "      <td>14</td>\n",
       "      <td>0.74175</td>\n",
       "      <td>1</td>\n",
       "      <td>0.953905</td>\n",
       "      <td>-0.079065</td>\n",
       "      <td>...</td>\n",
       "      <td>0.000001</td>\n",
       "      <td>0.802258</td>\n",
       "      <td>0.026410</td>\n",
       "      <td>0.010944</td>\n",
       "      <td>2.107834e-05</td>\n",
       "      <td>0.580367</td>\n",
       "      <td>-0.001038</td>\n",
       "      <td>0.000100</td>\n",
       "      <td>0.000133</td>\n",
       "      <td>True</td>\n",
       "    </tr>\n",
       "    <tr>\n",
       "      <th>7</th>\n",
       "      <td>chr1</td>\n",
       "      <td>752721</td>\n",
       "      <td>A</td>\n",
       "      <td>G</td>\n",
       "      <td>rs3131972</td>\n",
       "      <td>17</td>\n",
       "      <td>0.84500</td>\n",
       "      <td>1</td>\n",
       "      <td>0.890193</td>\n",
       "      <td>-0.011374</td>\n",
       "      <td>...</td>\n",
       "      <td>0.012412</td>\n",
       "      <td>0.003650</td>\n",
       "      <td>0.338401</td>\n",
       "      <td>0.047837</td>\n",
       "      <td>1.246855e-02</td>\n",
       "      <td>0.333333</td>\n",
       "      <td>-0.344077</td>\n",
       "      <td>0.002493</td>\n",
       "      <td>0.003319</td>\n",
       "      <td>True</td>\n",
       "    </tr>\n",
       "    <tr>\n",
       "      <th>8</th>\n",
       "      <td>chr1</td>\n",
       "      <td>755940</td>\n",
       "      <td>C</td>\n",
       "      <td>T</td>\n",
       "      <td>rs3115857</td>\n",
       "      <td>18</td>\n",
       "      <td>0.59380</td>\n",
       "      <td>1</td>\n",
       "      <td>0.302008</td>\n",
       "      <td>-0.077224</td>\n",
       "      <td>...</td>\n",
       "      <td>0.000004</td>\n",
       "      <td>0.674640</td>\n",
       "      <td>-0.026630</td>\n",
       "      <td>-0.011550</td>\n",
       "      <td>2.854755e-07</td>\n",
       "      <td>0.666667</td>\n",
       "      <td>-0.007762</td>\n",
       "      <td>0.000022</td>\n",
       "      <td>0.000029</td>\n",
       "      <td>True</td>\n",
       "    </tr>\n",
       "  </tbody>\n",
       "</table>\n",
       "<p>5 rows × 28 columns</p>\n",
       "</div>"
      ],
      "text/plain": [
       "    chr     Pos Ref Alt         RsID  Peak       AF  Inside_Peak    P_Lead  \\\n",
       "2  chr1  565286   C   T    rs1578391     7  0.59780            1  0.998561   \n",
       "3  chr1  569204   T   C  rs112660509     8  0.40125            1  0.477613   \n",
       "6  chr1  726944   C   G    rs3131979    14  0.74175            1  0.953905   \n",
       "7  chr1  752721   A   G    rs3131972    17  0.84500            1  0.890193   \n",
       "8  chr1  755940   C   T    rs3115857    18  0.59380            1  0.302008   \n",
       "\n",
       "       Beta  ...  ENCSR637XSC.sub.50M.abs_logfc_x_jsd_x_max_percentile.mean  \\\n",
       "2  0.886884  ...                                           0.000022           \n",
       "3  0.251458  ...                                           0.000155           \n",
       "6 -0.079065  ...                                           0.000001           \n",
       "7 -0.011374  ...                                           0.012412           \n",
       "8 -0.077224  ...                                           0.000004           \n",
       "\n",
       "   ENCSR637XSC.sub.50M.abs_logfc_x_jsd_x_max_percentile.mean.pval  \\\n",
       "2                                           0.379356                \n",
       "3                                           0.191231                \n",
       "6                                           0.802258                \n",
       "7                                           0.003650                \n",
       "8                                           0.674640                \n",
       "\n",
       "   ENCSR000EMT.logfc.mean  ENCSR000EMT.jsd_sign.mean  \\\n",
       "2               -0.045242                  -0.016605   \n",
       "3                0.027531                   0.017267   \n",
       "6                0.026410                   0.010944   \n",
       "7                0.338401                   0.047837   \n",
       "8               -0.026630                  -0.011550   \n",
       "\n",
       "   ENCSR000EMT.abs_logfc_x_jsd_x_max_percentile.mean  \\\n",
       "2                                       5.337650e-05   \n",
       "3                                       2.734630e-04   \n",
       "6                                       2.107834e-05   \n",
       "7                                       1.246855e-02   \n",
       "8                                       2.854755e-07   \n",
       "\n",
       "   ENCSR000EMT.abs_logfc_x_jsd_x_max_percentile.mean.pval  \\\n",
       "2                                           0.505239        \n",
       "3                                           0.580367        \n",
       "6                                           0.580367        \n",
       "7                                           0.333333        \n",
       "8                                           0.666667        \n",
       "\n",
       "   enformer_recomputed  DNASE_SAD  DNASE_SAR  IsUsed  \n",
       "2            -0.001945   0.000008   0.000011    True  \n",
       "3             0.001667   0.000026   0.000036    True  \n",
       "6            -0.001038   0.000100   0.000133    True  \n",
       "7            -0.344077   0.002493   0.003319    True  \n",
       "8            -0.007762   0.000022   0.000029    True  \n",
       "\n",
       "[5 rows x 28 columns]"
      ]
     },
     "execution_count": 51,
     "metadata": {},
     "output_type": "execute_result"
    }
   ],
   "source": [
    "caqtls.head()"
   ]
  },
  {
   "cell_type": "code",
   "execution_count": 52,
   "metadata": {},
   "outputs": [],
   "source": [
    "df1 = afrs.merge(caqtls, right_on=[\"chr\", \"Pos\", \"Ref\", \"Alt\"], left_on=[\"chr_hg19\", \"pos_hg19\", \"ref_hg19\", \"alt_hg19\"], how=\"left\" )"
   ]
  },
  {
   "cell_type": "code",
   "execution_count": 58,
   "metadata": {},
   "outputs": [
    {
     "data": {
      "text/plain": [
       "19353"
      ]
     },
     "execution_count": 58,
     "metadata": {},
     "output_type": "execute_result"
    }
   ],
   "source": [
    "import numpy as np\n",
    "sum(~np.isnan(df1[\"ENCSR637XSC.sub.50M.abs_logfc_x_jsd_x_max_percentile.mean\"]))"
   ]
  },
  {
   "cell_type": "code",
   "execution_count": 59,
   "metadata": {},
   "outputs": [
    {
     "data": {
      "text/plain": [
       "(109646, 79)"
      ]
     },
     "execution_count": 59,
     "metadata": {},
     "output_type": "execute_result"
    }
   ],
   "source": [
    "df1.shape"
   ]
  },
  {
   "cell_type": "code",
   "execution_count": 55,
   "metadata": {},
   "outputs": [],
   "source": [
    "df2 = afrs.merge(caqtls, right_on=[\"chr\", \"Pos\", \"Alt\", \"Ref\"], left_on=[\"chr_hg19\", \"pos_hg19\", \"ref_hg19\", \"alt_hg19\"], how=\"left\" )"
   ]
  },
  {
   "cell_type": "code",
   "execution_count": 61,
   "metadata": {},
   "outputs": [
    {
     "data": {
      "text/plain": [
       "7305"
      ]
     },
     "execution_count": 61,
     "metadata": {},
     "output_type": "execute_result"
    }
   ],
   "source": [
    "sum(~np.isnan(df2[\"ENCSR637XSC.sub.50M.abs_logfc_x_jsd_x_max_percentile.mean\"]))"
   ]
  },
  {
   "cell_type": "code",
   "execution_count": 62,
   "metadata": {},
   "outputs": [],
   "source": [
    "df = pd.concat([df1[~np.isnan(df1[\"ENCSR637XSC.sub.50M.abs_logfc_x_jsd_x_max_percentile.mean\"])],df2[~np.isnan(df2[\"ENCSR637XSC.sub.50M.abs_logfc_x_jsd_x_max_percentile.mean\"])]])\n"
   ]
  },
  {
   "cell_type": "code",
   "execution_count": 64,
   "metadata": {},
   "outputs": [
    {
     "data": {
      "text/plain": [
       "(26658, 79)"
      ]
     },
     "execution_count": 64,
     "metadata": {},
     "output_type": "execute_result"
    }
   ],
   "source": [
    "df.shape"
   ]
  },
  {
   "cell_type": "code",
   "execution_count": 66,
   "metadata": {},
   "outputs": [],
   "source": [
    "rsid_int = set(caqtls[caqtls[\"RsID\"].isin(afrs[\"dbsnp_rsid\"])][\"RsID\"].values)"
   ]
  },
  {
   "cell_type": "code",
   "execution_count": 67,
   "metadata": {},
   "outputs": [
    {
     "data": {
      "text/plain": [
       "26658"
      ]
     },
     "execution_count": 67,
     "metadata": {},
     "output_type": "execute_result"
    }
   ],
   "source": [
    "len(rsid_int)"
   ]
  },
  {
   "cell_type": "code",
   "execution_count": 68,
   "metadata": {},
   "outputs": [
    {
     "data": {
      "text/plain": [
       "(26658, 79)"
      ]
     },
     "execution_count": 68,
     "metadata": {},
     "output_type": "execute_result"
    }
   ],
   "source": [
    "df.shape"
   ]
  },
  {
   "cell_type": "code",
   "execution_count": 71,
   "metadata": {},
   "outputs": [],
   "source": [
    "caqtls_ols=pd.read_csv(\"/mnt/lab_data2/anusri/variant-scorer/src/output/caqtls_lcl/rasqual_atac_1M\", sep='\\t', header=None)"
   ]
  },
  {
   "cell_type": "code",
   "execution_count": 74,
   "metadata": {},
   "outputs": [
    {
     "data": {
      "text/plain": [
       "2087"
      ]
     },
     "execution_count": 74,
     "metadata": {},
     "output_type": "execute_result"
    }
   ],
   "source": [
    "len(set(caqtls_ols[caqtls_ols[1].isin( afrs[\"dbsnp_rsid\"])][1]))"
   ]
  },
  {
   "cell_type": "code",
   "execution_count": 75,
   "metadata": {},
   "outputs": [
    {
     "data": {
      "text/plain": [
       "4435"
      ]
     },
     "execution_count": 75,
     "metadata": {},
     "output_type": "execute_result"
    }
   ],
   "source": [
    "len(set(caqtls_ols[caqtls_ols[1].isin( caqtls[\"RsID\"])][1]))"
   ]
  },
  {
   "cell_type": "code",
   "execution_count": 139,
   "metadata": {},
   "outputs": [
    {
     "data": {
      "text/html": [
       "<div>\n",
       "<style scoped>\n",
       "    .dataframe tbody tr th:only-of-type {\n",
       "        vertical-align: middle;\n",
       "    }\n",
       "\n",
       "    .dataframe tbody tr th {\n",
       "        vertical-align: top;\n",
       "    }\n",
       "\n",
       "    .dataframe thead th {\n",
       "        text-align: right;\n",
       "    }\n",
       "</style>\n",
       "<table border=\"1\" class=\"dataframe\">\n",
       "  <thead>\n",
       "    <tr style=\"text-align: right;\">\n",
       "      <th></th>\n",
       "      <th>chr_hg38</th>\n",
       "      <th>pos_hg38</th>\n",
       "      <th>allele1</th>\n",
       "      <th>allele2</th>\n",
       "      <th>snp_id</th>\n",
       "      <th>label</th>\n",
       "      <th>IsUsed_x</th>\n",
       "      <th>pval</th>\n",
       "      <th>beta</th>\n",
       "      <th>enformer.encsr000emt.variantscore.sad</th>\n",
       "      <th>...</th>\n",
       "      <th>ENCSR637XSC.sub.50M.abs_logfc_x_jsd_x_max_percentile.mean</th>\n",
       "      <th>ENCSR637XSC.sub.50M.abs_logfc_x_jsd_x_max_percentile.mean.pval</th>\n",
       "      <th>ENCSR000EMT.logfc.mean</th>\n",
       "      <th>ENCSR000EMT.jsd_sign.mean</th>\n",
       "      <th>ENCSR000EMT.abs_logfc_x_jsd_x_max_percentile.mean</th>\n",
       "      <th>ENCSR000EMT.abs_logfc_x_jsd_x_max_percentile.mean.pval</th>\n",
       "      <th>enformer_recomputed_y</th>\n",
       "      <th>DNASE_SAD</th>\n",
       "      <th>DNASE_SAR</th>\n",
       "      <th>IsUsed_y</th>\n",
       "    </tr>\n",
       "  </thead>\n",
       "  <tbody>\n",
       "    <tr>\n",
       "      <th>0</th>\n",
       "      <td>chr1</td>\n",
       "      <td>870176</td>\n",
       "      <td>T</td>\n",
       "      <td>A</td>\n",
       "      <td>1_870176_T_A</td>\n",
       "      <td>False</td>\n",
       "      <td>True</td>\n",
       "      <td>0.071532</td>\n",
       "      <td>-0.250142</td>\n",
       "      <td>-0.000139</td>\n",
       "      <td>...</td>\n",
       "      <td>0.000139</td>\n",
       "      <td>0.195813</td>\n",
       "      <td>-0.000459</td>\n",
       "      <td>-0.008914</td>\n",
       "      <td>0.000072</td>\n",
       "      <td>0.505239</td>\n",
       "      <td>-0.002396</td>\n",
       "      <td>-0.000139</td>\n",
       "      <td>-0.000184</td>\n",
       "      <td>True</td>\n",
       "    </tr>\n",
       "    <tr>\n",
       "      <th>1</th>\n",
       "      <td>chr1</td>\n",
       "      <td>905373</td>\n",
       "      <td>C</td>\n",
       "      <td>T</td>\n",
       "      <td>1_905373_T_C</td>\n",
       "      <td>False</td>\n",
       "      <td>True</td>\n",
       "      <td>0.188152</td>\n",
       "      <td>-0.130176</td>\n",
       "      <td>-0.000071</td>\n",
       "      <td>...</td>\n",
       "      <td>0.001306</td>\n",
       "      <td>0.039847</td>\n",
       "      <td>0.072689</td>\n",
       "      <td>0.019863</td>\n",
       "      <td>0.001272</td>\n",
       "      <td>0.333333</td>\n",
       "      <td>0.015009</td>\n",
       "      <td>-0.000071</td>\n",
       "      <td>-0.000095</td>\n",
       "      <td>True</td>\n",
       "    </tr>\n",
       "    <tr>\n",
       "      <th>3</th>\n",
       "      <td>chr1</td>\n",
       "      <td>906982</td>\n",
       "      <td>C</td>\n",
       "      <td>T</td>\n",
       "      <td>1_906982_C_T</td>\n",
       "      <td>True</td>\n",
       "      <td>True</td>\n",
       "      <td>0.000005</td>\n",
       "      <td>-0.520262</td>\n",
       "      <td>-0.000453</td>\n",
       "      <td>...</td>\n",
       "      <td>0.001456</td>\n",
       "      <td>0.033359</td>\n",
       "      <td>-0.079933</td>\n",
       "      <td>-0.026171</td>\n",
       "      <td>0.001060</td>\n",
       "      <td>0.382899</td>\n",
       "      <td>0.176561</td>\n",
       "      <td>-0.000453</td>\n",
       "      <td>-0.000604</td>\n",
       "      <td>True</td>\n",
       "    </tr>\n",
       "    <tr>\n",
       "      <th>30</th>\n",
       "      <td>chr1</td>\n",
       "      <td>1020217</td>\n",
       "      <td>G</td>\n",
       "      <td>T</td>\n",
       "      <td>1_1020217_G_T</td>\n",
       "      <td>False</td>\n",
       "      <td>True</td>\n",
       "      <td>0.975842</td>\n",
       "      <td>-0.002104</td>\n",
       "      <td>0.000293</td>\n",
       "      <td>...</td>\n",
       "      <td>0.000197</td>\n",
       "      <td>0.152159</td>\n",
       "      <td>-0.000160</td>\n",
       "      <td>-0.012468</td>\n",
       "      <td>0.000081</td>\n",
       "      <td>0.580367</td>\n",
       "      <td>0.000754</td>\n",
       "      <td>0.000293</td>\n",
       "      <td>0.000344</td>\n",
       "      <td>True</td>\n",
       "    </tr>\n",
       "    <tr>\n",
       "      <th>66</th>\n",
       "      <td>chr1</td>\n",
       "      <td>1137871</td>\n",
       "      <td>C</td>\n",
       "      <td>A</td>\n",
       "      <td>1_1137871_C_A</td>\n",
       "      <td>False</td>\n",
       "      <td>True</td>\n",
       "      <td>0.493873</td>\n",
       "      <td>-0.103324</td>\n",
       "      <td>-0.000020</td>\n",
       "      <td>...</td>\n",
       "      <td>0.000031</td>\n",
       "      <td>0.368320</td>\n",
       "      <td>0.018878</td>\n",
       "      <td>0.010569</td>\n",
       "      <td>0.000123</td>\n",
       "      <td>0.439836</td>\n",
       "      <td>-0.000308</td>\n",
       "      <td>-0.000020</td>\n",
       "      <td>-0.000026</td>\n",
       "      <td>True</td>\n",
       "    </tr>\n",
       "  </tbody>\n",
       "</table>\n",
       "<p>5 rows × 79 columns</p>\n",
       "</div>"
      ],
      "text/plain": [
       "   chr_hg38  pos_hg38 allele1 allele2         snp_id  label  IsUsed_x  \\\n",
       "0      chr1    870176       T       A   1_870176_T_A  False      True   \n",
       "1      chr1    905373       C       T   1_905373_T_C  False      True   \n",
       "3      chr1    906982       C       T   1_906982_C_T   True      True   \n",
       "30     chr1   1020217       G       T  1_1020217_G_T  False      True   \n",
       "66     chr1   1137871       C       A  1_1137871_C_A  False      True   \n",
       "\n",
       "        pval      beta  enformer.encsr000emt.variantscore.sad  ...  \\\n",
       "0   0.071532 -0.250142                              -0.000139  ...   \n",
       "1   0.188152 -0.130176                              -0.000071  ...   \n",
       "3   0.000005 -0.520262                              -0.000453  ...   \n",
       "30  0.975842 -0.002104                               0.000293  ...   \n",
       "66  0.493873 -0.103324                              -0.000020  ...   \n",
       "\n",
       "    ENCSR637XSC.sub.50M.abs_logfc_x_jsd_x_max_percentile.mean  \\\n",
       "0                                            0.000139           \n",
       "1                                            0.001306           \n",
       "3                                            0.001456           \n",
       "30                                           0.000197           \n",
       "66                                           0.000031           \n",
       "\n",
       "    ENCSR637XSC.sub.50M.abs_logfc_x_jsd_x_max_percentile.mean.pval  \\\n",
       "0                                            0.195813                \n",
       "1                                            0.039847                \n",
       "3                                            0.033359                \n",
       "30                                           0.152159                \n",
       "66                                           0.368320                \n",
       "\n",
       "    ENCSR000EMT.logfc.mean  ENCSR000EMT.jsd_sign.mean  \\\n",
       "0                -0.000459                  -0.008914   \n",
       "1                 0.072689                   0.019863   \n",
       "3                -0.079933                  -0.026171   \n",
       "30               -0.000160                  -0.012468   \n",
       "66                0.018878                   0.010569   \n",
       "\n",
       "    ENCSR000EMT.abs_logfc_x_jsd_x_max_percentile.mean  \\\n",
       "0                                            0.000072   \n",
       "1                                            0.001272   \n",
       "3                                            0.001060   \n",
       "30                                           0.000081   \n",
       "66                                           0.000123   \n",
       "\n",
       "    ENCSR000EMT.abs_logfc_x_jsd_x_max_percentile.mean.pval  \\\n",
       "0                                            0.505239        \n",
       "1                                            0.333333        \n",
       "3                                            0.382899        \n",
       "30                                           0.580367        \n",
       "66                                           0.439836        \n",
       "\n",
       "    enformer_recomputed_y  DNASE_SAD  DNASE_SAR  IsUsed_y  \n",
       "0               -0.002396  -0.000139  -0.000184      True  \n",
       "1                0.015009  -0.000071  -0.000095      True  \n",
       "3                0.176561  -0.000453  -0.000604      True  \n",
       "30               0.000754   0.000293   0.000344      True  \n",
       "66              -0.000308  -0.000020  -0.000026      True  \n",
       "\n",
       "[5 rows x 79 columns]"
      ]
     },
     "execution_count": 139,
     "metadata": {},
     "output_type": "execute_result"
    }
   ],
   "source": [
    "df.head()"
   ]
  },
  {
   "cell_type": "code",
   "execution_count": 142,
   "metadata": {},
   "outputs": [
    {
     "data": {
      "text/plain": [
       "Index(['chr_hg38', 'pos_hg38', 'allele1', 'allele2', 'snp_id', 'label',\n",
       "       'IsUsed_x', 'pval', 'beta', 'enformer.encsr000emt.variantscore.sad',\n",
       "       'enformer.encsr000emt.variantscore.sar', 'enformer_recomputed_x',\n",
       "       'chrombpnet.gambian.variantscore.logfc',\n",
       "       'chrombpnet.gambian.variantscore.jsd',\n",
       "       'chrombpnet.esan.variantscore.logfc',\n",
       "       'chrombpnet.esan.variantscore.jsd',\n",
       "       'chrombpnet.mende.variantscore.logfc',\n",
       "       'chrombpnet.mende.variantscore.jsd',\n",
       "       'chrombpnet.yoruba.variantscore.logfc',\n",
       "       'chrombpnet.yoruba.variantscore.jsd',\n",
       "       'chrombpnet.maasai.variantscore.logfc',\n",
       "       'chrombpnet.maasai.variantscore.jsd',\n",
       "       'chrombpnet.luhya.variantscore.logfc',\n",
       "       'chrombpnet.luhya.variantscore.jsd',\n",
       "       'chrombpnet.encsr637xsc.variantscore.logfc',\n",
       "       'chrombpnet.encsr637xsc.variantscore.jsd',\n",
       "       'chrombpnet.encsr637xsc.variantscore.csr',\n",
       "       'chrombpnet.encsr637xsc.variantscore.pval',\n",
       "       'chrombpnet.encsr000emt.variantscore.logfc',\n",
       "       'chrombpnet.encsr000emt.variantscore.jsd',\n",
       "       'chrombpnet.encsr000emt.variantscore.csr',\n",
       "       'chrombpnet.encsr000emt.variantscore.pval',\n",
       "       'chrombpnet.encsr637xsc_50m.variantscore.logfc',\n",
       "       'chrombpnet.encsr637xsc_50m.variantscore.jsd',\n",
       "       'chrombpnet.encsr637xsc_50m.variantscore.csr',\n",
       "       'chrombpnet.encsr637xsc_50m.variantscore.pval',\n",
       "       'chrombpnet.encsr095qnb.variantscore.logfc',\n",
       "       'chrombpnet.encsr095qnb.variantscore.jsd',\n",
       "       'chrombpnet.encsr095qnb.variantscore.csr',\n",
       "       'chrombpnet.encsr095qnb.variantscore.pval', 'dbsnp_rsid', 'region',\n",
       "       'snp', 'distance', 'se', 'abs_beta', 'id_hg19', 'chr_hg19', 'pos_hg19',\n",
       "       'ref_hg19', 'alt_hg19', 'chr', 'Pos', 'Ref', 'Alt', 'RsID', 'Peak',\n",
       "       'AF', 'Inside_Peak', 'P_Lead', 'Beta', 'SE', 'Log10_BF',\n",
       "       'ENCSR637XSC.logfc.mean', 'ENCSR637XSC.jsd_sign.mean',\n",
       "       'ENCSR637XSC.abs_logfc_x_jsd_x_max_percentile.mean',\n",
       "       'ENCSR637XSC.abs_logfc_x_jsd_x_max_percentile.mean.pval',\n",
       "       'ENCSR637XSC.sub.50M.logfc.mean', 'ENCSR637XSC.sub.50M.jsd_sign.mean',\n",
       "       'ENCSR637XSC.sub.50M.abs_logfc_x_jsd_x_max_percentile.mean',\n",
       "       'ENCSR637XSC.sub.50M.abs_logfc_x_jsd_x_max_percentile.mean.pval',\n",
       "       'ENCSR000EMT.logfc.mean', 'ENCSR000EMT.jsd_sign.mean',\n",
       "       'ENCSR000EMT.abs_logfc_x_jsd_x_max_percentile.mean',\n",
       "       'ENCSR000EMT.abs_logfc_x_jsd_x_max_percentile.mean.pval',\n",
       "       'enformer_recomputed_y', 'DNASE_SAD', 'DNASE_SAR', 'IsUsed_y'],\n",
       "      dtype='object')"
      ]
     },
     "execution_count": 142,
     "metadata": {},
     "output_type": "execute_result"
    }
   ],
   "source": [
    "df.columns"
   ]
  },
  {
   "cell_type": "code",
   "execution_count": 77,
   "metadata": {},
   "outputs": [
    {
     "data": {
      "text/plain": [
       "14843"
      ]
     },
     "execution_count": 77,
     "metadata": {},
     "output_type": "execute_result"
    }
   ],
   "source": [
    "sum(df[\"Log10_BF\"]<-1)"
   ]
  },
  {
   "cell_type": "code",
   "execution_count": 78,
   "metadata": {},
   "outputs": [
    {
     "data": {
      "text/plain": [
       "4170"
      ]
     },
     "execution_count": 78,
     "metadata": {},
     "output_type": "execute_result"
    }
   ],
   "source": [
    "sum(df[\"Log10_BF\"]>3)"
   ]
  },
  {
   "cell_type": "code",
   "execution_count": 148,
   "metadata": {},
   "outputs": [
    {
     "data": {
      "text/plain": [
       "(69, 79)"
      ]
     },
     "execution_count": 148,
     "metadata": {},
     "output_type": "execute_result"
    }
   ],
   "source": [
    "threshold = 1 / (10**(6))\n",
    "\n",
    "df[(df[\"Log10_BF\"]<-1) & (df[\"label\"]==1)].drop_duplicates().shape"
   ]
  },
  {
   "cell_type": "code",
   "execution_count": 149,
   "metadata": {},
   "outputs": [
    {
     "data": {
      "text/plain": [
       "(2800, 79)"
      ]
     },
     "execution_count": 149,
     "metadata": {},
     "output_type": "execute_result"
    }
   ],
   "source": [
    "threshold = 1 / (10**(6))\n",
    "df[(df[\"Log10_BF\"]>3) & (df[\"label\"]==1)].drop_duplicates().shape"
   ]
  },
  {
   "cell_type": "code",
   "execution_count": null,
   "metadata": {},
   "outputs": [],
   "source": []
  },
  {
   "cell_type": "code",
   "execution_count": null,
   "metadata": {},
   "outputs": [],
   "source": []
  },
  {
   "cell_type": "code",
   "execution_count": 136,
   "metadata": {},
   "outputs": [
    {
     "data": {
      "text/plain": [
       "(1370, 79)"
      ]
     },
     "execution_count": 136,
     "metadata": {},
     "output_type": "execute_result"
    }
   ],
   "source": [
    "df[(df[\"Log10_BF\"]>3) & (df[\"pval\"]>1e-3)].drop_duplicates().shape"
   ]
  },
  {
   "cell_type": "code",
   "execution_count": 143,
   "metadata": {},
   "outputs": [
    {
     "data": {
      "text/html": [
       "<div>\n",
       "<style scoped>\n",
       "    .dataframe tbody tr th:only-of-type {\n",
       "        vertical-align: middle;\n",
       "    }\n",
       "\n",
       "    .dataframe tbody tr th {\n",
       "        vertical-align: top;\n",
       "    }\n",
       "\n",
       "    .dataframe thead th {\n",
       "        text-align: right;\n",
       "    }\n",
       "</style>\n",
       "<table border=\"1\" class=\"dataframe\">\n",
       "  <thead>\n",
       "    <tr style=\"text-align: right;\">\n",
       "      <th></th>\n",
       "      <th>chr_hg19</th>\n",
       "      <th>pos_hg19</th>\n",
       "      <th>ref_hg19</th>\n",
       "      <th>alt_hg19</th>\n",
       "      <th>chr_hg38</th>\n",
       "      <th>pos_hg38</th>\n",
       "      <th>allele1</th>\n",
       "      <th>allele2</th>\n",
       "      <th>dbsnp_rsid</th>\n",
       "    </tr>\n",
       "  </thead>\n",
       "  <tbody>\n",
       "    <tr>\n",
       "      <th>208</th>\n",
       "      <td>chr1</td>\n",
       "      <td>3839080</td>\n",
       "      <td>A</td>\n",
       "      <td>G</td>\n",
       "      <td>chr1</td>\n",
       "      <td>3922516</td>\n",
       "      <td>A</td>\n",
       "      <td>G</td>\n",
       "      <td>rs36197555</td>\n",
       "    </tr>\n",
       "    <tr>\n",
       "      <th>684</th>\n",
       "      <td>chr1</td>\n",
       "      <td>15930251</td>\n",
       "      <td>T</td>\n",
       "      <td>G</td>\n",
       "      <td>chr1</td>\n",
       "      <td>15603756</td>\n",
       "      <td>T</td>\n",
       "      <td>G</td>\n",
       "      <td>rs72645889</td>\n",
       "    </tr>\n",
       "    <tr>\n",
       "      <th>849</th>\n",
       "      <td>chr1</td>\n",
       "      <td>19986341</td>\n",
       "      <td>A</td>\n",
       "      <td>T</td>\n",
       "      <td>chr1</td>\n",
       "      <td>19659848</td>\n",
       "      <td>A</td>\n",
       "      <td>T</td>\n",
       "      <td>rs12747702</td>\n",
       "    </tr>\n",
       "    <tr>\n",
       "      <th>1040</th>\n",
       "      <td>chr1</td>\n",
       "      <td>25021037</td>\n",
       "      <td>A</td>\n",
       "      <td>C</td>\n",
       "      <td>chr1</td>\n",
       "      <td>24694546</td>\n",
       "      <td>A</td>\n",
       "      <td>C</td>\n",
       "      <td>rs2885174</td>\n",
       "    </tr>\n",
       "    <tr>\n",
       "      <th>1259</th>\n",
       "      <td>chr1</td>\n",
       "      <td>28575121</td>\n",
       "      <td>T</td>\n",
       "      <td>G</td>\n",
       "      <td>chr1</td>\n",
       "      <td>28248610</td>\n",
       "      <td>G</td>\n",
       "      <td>T</td>\n",
       "      <td>rs530426</td>\n",
       "    </tr>\n",
       "    <tr>\n",
       "      <th>...</th>\n",
       "      <td>...</td>\n",
       "      <td>...</td>\n",
       "      <td>...</td>\n",
       "      <td>...</td>\n",
       "      <td>...</td>\n",
       "      <td>...</td>\n",
       "      <td>...</td>\n",
       "      <td>...</td>\n",
       "      <td>...</td>\n",
       "    </tr>\n",
       "    <tr>\n",
       "      <th>108106</th>\n",
       "      <td>chr22</td>\n",
       "      <td>18484205</td>\n",
       "      <td>C</td>\n",
       "      <td>G</td>\n",
       "      <td>chr22</td>\n",
       "      <td>18001439</td>\n",
       "      <td>C</td>\n",
       "      <td>G</td>\n",
       "      <td>rs5992955</td>\n",
       "    </tr>\n",
       "    <tr>\n",
       "      <th>109267</th>\n",
       "      <td>chr22</td>\n",
       "      <td>43157308</td>\n",
       "      <td>G</td>\n",
       "      <td>C</td>\n",
       "      <td>chr22</td>\n",
       "      <td>42761302</td>\n",
       "      <td>G</td>\n",
       "      <td>C</td>\n",
       "      <td>rs6002949</td>\n",
       "    </tr>\n",
       "    <tr>\n",
       "      <th>109272</th>\n",
       "      <td>chr22</td>\n",
       "      <td>43165866</td>\n",
       "      <td>T</td>\n",
       "      <td>C</td>\n",
       "      <td>chr22</td>\n",
       "      <td>42769860</td>\n",
       "      <td>T</td>\n",
       "      <td>C</td>\n",
       "      <td>rs6002950</td>\n",
       "    </tr>\n",
       "    <tr>\n",
       "      <th>109275</th>\n",
       "      <td>chr22</td>\n",
       "      <td>43259541</td>\n",
       "      <td>C</td>\n",
       "      <td>A</td>\n",
       "      <td>chr22</td>\n",
       "      <td>42863535</td>\n",
       "      <td>C</td>\n",
       "      <td>A</td>\n",
       "      <td>rs5751390</td>\n",
       "    </tr>\n",
       "    <tr>\n",
       "      <th>109515</th>\n",
       "      <td>chr22</td>\n",
       "      <td>47330955</td>\n",
       "      <td>G</td>\n",
       "      <td>C</td>\n",
       "      <td>chr22</td>\n",
       "      <td>46935059</td>\n",
       "      <td>G</td>\n",
       "      <td>C</td>\n",
       "      <td>rs738406</td>\n",
       "    </tr>\n",
       "  </tbody>\n",
       "</table>\n",
       "<p>1370 rows × 9 columns</p>\n",
       "</div>"
      ],
      "text/plain": [
       "       chr_hg19  pos_hg19 ref_hg19 alt_hg19 chr_hg38  pos_hg38 allele1  \\\n",
       "208        chr1   3839080        A        G     chr1   3922516       A   \n",
       "684        chr1  15930251        T        G     chr1  15603756       T   \n",
       "849        chr1  19986341        A        T     chr1  19659848       A   \n",
       "1040       chr1  25021037        A        C     chr1  24694546       A   \n",
       "1259       chr1  28575121        T        G     chr1  28248610       G   \n",
       "...         ...       ...      ...      ...      ...       ...     ...   \n",
       "108106    chr22  18484205        C        G    chr22  18001439       C   \n",
       "109267    chr22  43157308        G        C    chr22  42761302       G   \n",
       "109272    chr22  43165866        T        C    chr22  42769860       T   \n",
       "109275    chr22  43259541        C        A    chr22  42863535       C   \n",
       "109515    chr22  47330955        G        C    chr22  46935059       G   \n",
       "\n",
       "       allele2  dbsnp_rsid  \n",
       "208          G  rs36197555  \n",
       "684          G  rs72645889  \n",
       "849          T  rs12747702  \n",
       "1040         C   rs2885174  \n",
       "1259         T    rs530426  \n",
       "...        ...         ...  \n",
       "108106       G   rs5992955  \n",
       "109267       C   rs6002949  \n",
       "109272       C   rs6002950  \n",
       "109275       A   rs5751390  \n",
       "109515       C    rs738406  \n",
       "\n",
       "[1370 rows x 9 columns]"
      ]
     },
     "execution_count": 143,
     "metadata": {},
     "output_type": "execute_result"
    }
   ],
   "source": [
    "df[(df[\"Log10_BF\"]>3) & (df[\"pval\"]>1e-3)].drop_duplicates()[[\"chr_hg19\", \"pos_hg19\", \"ref_hg19\", \"alt_hg19\",\"chr_hg38\", \"pos_hg38\", \"allele1\", \"allele2\", \"dbsnp_rsid\"]]\n",
    "\n"
   ]
  },
  {
   "cell_type": "code",
   "execution_count": 88,
   "metadata": {},
   "outputs": [
    {
     "data": {
      "text/plain": [
       "2787"
      ]
     },
     "execution_count": 88,
     "metadata": {},
     "output_type": "execute_result"
    }
   ],
   "source": [
    "sum(df[\"pval\"]<threshold)"
   ]
  },
  {
   "cell_type": "code",
   "execution_count": 144,
   "metadata": {},
   "outputs": [
    {
     "data": {
      "text/plain": [
       "23221"
      ]
     },
     "execution_count": 144,
     "metadata": {},
     "output_type": "execute_result"
    }
   ],
   "source": [
    "sum(df[\"pval\"]>1e-3)"
   ]
  },
  {
   "cell_type": "code",
   "execution_count": null,
   "metadata": {},
   "outputs": [],
   "source": []
  },
  {
   "cell_type": "code",
   "execution_count": 92,
   "metadata": {},
   "outputs": [
    {
     "data": {
      "text/plain": [
       "(109646, 51)"
      ]
     },
     "execution_count": 92,
     "metadata": {},
     "output_type": "execute_result"
    }
   ],
   "source": [
    "afrs.shape"
   ]
  },
  {
   "cell_type": "code",
   "execution_count": 95,
   "metadata": {},
   "outputs": [
    {
     "data": {
      "text/plain": [
       "(156730, 28)"
      ]
     },
     "execution_count": 95,
     "metadata": {},
     "output_type": "execute_result"
    }
   ],
   "source": [
    "caqtls.shape"
   ]
  },
  {
   "cell_type": "code",
   "execution_count": 130,
   "metadata": {},
   "outputs": [
    {
     "name": "stdout",
     "output_type": "stream",
     "text": [
      "(1370, 79)\n"
     ]
    },
    {
     "data": {
      "text/plain": [
       "<matplotlib.collections.PathCollection at 0x7f32b96d0950>"
      ]
     },
     "execution_count": 130,
     "metadata": {},
     "output_type": "execute_result"
    },
    {
     "data": {
      "image/png": "[encoded data removed]",
      "text/plain": [
       "<Figure size 432x288 with 1 Axes>"
      ]
     },
     "metadata": {
      "needs_background": "light"
     },
     "output_type": "display_data"
    }
   ],
   "source": [
    "import matplotlib.pyplot as plt\n",
    "tt = df[(df[\"Log10_BF\"]>3) & (df[\"pval\"]>1e-3)].drop_duplicates()\n",
    "print(tt.shape)\n",
    "plt.scatter(abs(tt[\"enformer_recomputed_y\"]),abs(tt[\"enformer_recomputed_x\"]))"
   ]
  },
  {
   "cell_type": "code",
   "execution_count": null,
   "metadata": {},
   "outputs": [],
   "source": []
  },
  {
   "cell_type": "code",
   "execution_count": 131,
   "metadata": {},
   "outputs": [],
   "source": [
    "np.savetxt('test_rsids.txt', tt['dbsnp_rsid'].values, fmt='%s')"
   ]
  },
  {
   "cell_type": "code",
   "execution_count": 105,
   "metadata": {},
   "outputs": [
    {
     "data": {
      "text/plain": [
       "Index(['chr_hg38', 'pos_hg38', 'allele1', 'allele2', 'snp_id', 'label',\n",
       "       'IsUsed_x', 'pval', 'beta', 'enformer.encsr000emt.variantscore.sad',\n",
       "       'enformer.encsr000emt.variantscore.sar', 'enformer_recomputed_x',\n",
       "       'chrombpnet.gambian.variantscore.logfc',\n",
       "       'chrombpnet.gambian.variantscore.jsd',\n",
       "       'chrombpnet.esan.variantscore.logfc',\n",
       "       'chrombpnet.esan.variantscore.jsd',\n",
       "       'chrombpnet.mende.variantscore.logfc',\n",
       "       'chrombpnet.mende.variantscore.jsd',\n",
       "       'chrombpnet.yoruba.variantscore.logfc',\n",
       "       'chrombpnet.yoruba.variantscore.jsd',\n",
       "       'chrombpnet.maasai.variantscore.logfc',\n",
       "       'chrombpnet.maasai.variantscore.jsd',\n",
       "       'chrombpnet.luhya.variantscore.logfc',\n",
       "       'chrombpnet.luhya.variantscore.jsd',\n",
       "       'chrombpnet.encsr637xsc.variantscore.logfc',\n",
       "       'chrombpnet.encsr637xsc.variantscore.jsd',\n",
       "       'chrombpnet.encsr637xsc.variantscore.csr',\n",
       "       'chrombpnet.encsr637xsc.variantscore.pval',\n",
       "       'chrombpnet.encsr000emt.variantscore.logfc',\n",
       "       'chrombpnet.encsr000emt.variantscore.jsd',\n",
       "       'chrombpnet.encsr000emt.variantscore.csr',\n",
       "       'chrombpnet.encsr000emt.variantscore.pval',\n",
       "       'chrombpnet.encsr637xsc_50m.variantscore.logfc',\n",
       "       'chrombpnet.encsr637xsc_50m.variantscore.jsd',\n",
       "       'chrombpnet.encsr637xsc_50m.variantscore.csr',\n",
       "       'chrombpnet.encsr637xsc_50m.variantscore.pval',\n",
       "       'chrombpnet.encsr095qnb.variantscore.logfc',\n",
       "       'chrombpnet.encsr095qnb.variantscore.jsd',\n",
       "       'chrombpnet.encsr095qnb.variantscore.csr',\n",
       "       'chrombpnet.encsr095qnb.variantscore.pval', 'dbsnp_rsid', 'region',\n",
       "       'snp', 'distance', 'se', 'abs_beta', 'id_hg19', 'chr_hg19', 'pos_hg19',\n",
       "       'ref_hg19', 'alt_hg19', 'chr', 'Pos', 'Ref', 'Alt', 'RsID', 'Peak',\n",
       "       'AF', 'Inside_Peak', 'P_Lead', 'Beta', 'SE', 'Log10_BF',\n",
       "       'ENCSR637XSC.logfc.mean', 'ENCSR637XSC.jsd_sign.mean',\n",
       "       'ENCSR637XSC.abs_logfc_x_jsd_x_max_percentile.mean',\n",
       "       'ENCSR637XSC.abs_logfc_x_jsd_x_max_percentile.mean.pval',\n",
       "       'ENCSR637XSC.sub.50M.logfc.mean', 'ENCSR637XSC.sub.50M.jsd_sign.mean',\n",
       "       'ENCSR637XSC.sub.50M.abs_logfc_x_jsd_x_max_percentile.mean',\n",
       "       'ENCSR637XSC.sub.50M.abs_logfc_x_jsd_x_max_percentile.mean.pval',\n",
       "       'ENCSR000EMT.logfc.mean', 'ENCSR000EMT.jsd_sign.mean',\n",
       "       'ENCSR000EMT.abs_logfc_x_jsd_x_max_percentile.mean',\n",
       "       'ENCSR000EMT.abs_logfc_x_jsd_x_max_percentile.mean.pval',\n",
       "       'enformer_recomputed_y', 'DNASE_SAD', 'DNASE_SAR', 'IsUsed_y'],\n",
       "      dtype='object')"
      ]
     },
     "execution_count": 105,
     "metadata": {},
     "output_type": "execute_result"
    }
   ],
   "source": [
    "tt.columns"
   ]
  },
  {
   "cell_type": "code",
   "execution_count": 106,
   "metadata": {},
   "outputs": [
    {
     "data": {
      "text/plain": [
       "<matplotlib.collections.PathCollection at 0x7f32ba0ca310>"
      ]
     },
     "execution_count": 106,
     "metadata": {},
     "output_type": "execute_result"
    },
    {
     "data": {
      "image/png": "[encoded data removed]",
      "text/plain": [
       "<Figure size 432x288 with 1 Axes>"
      ]
     },
     "metadata": {
      "needs_background": "light"
     },
     "output_type": "display_data"
    }
   ],
   "source": [
    "plt.scatter(abs(tt[\"chrombpnet.encsr637xsc.variantscore.csr\"]),abs(tt[\"ENCSR637XSC.abs_logfc_x_jsd_x_max_percentile.mean\"]))"
   ]
  },
  {
   "cell_type": "code",
   "execution_count": 114,
   "metadata": {},
   "outputs": [
    {
     "data": {
      "text/plain": [
       "Text(0, 0.5, 'ChromBPNet predictions')"
      ]
     },
     "execution_count": 114,
     "metadata": {},
     "output_type": "execute_result"
    },
    {
     "data": {
      "image/png": "[encoded data removed]",
      "text/plain": [
       "<Figure size 432x288 with 1 Axes>"
      ]
     },
     "metadata": {
      "needs_background": "light"
     },
     "output_type": "display_data"
    }
   ],
   "source": [
    "plt.scatter(abs(tt[\"enformer_recomputed_y\"]),abs(tt[\"ENCSR637XSC.abs_logfc_x_jsd_x_max_percentile.mean\"]))\n",
    "plt.xlabel(\"Enformer predictions\")\n",
    "plt.ylabel(\"ChromBPNet predictions\")"
   ]
  },
  {
   "cell_type": "code",
   "execution_count": 117,
   "metadata": {},
   "outputs": [
    {
     "data": {
      "text/plain": [
       "Text(0, 0.5, 'ChromBPNet predictions')"
      ]
     },
     "execution_count": 117,
     "metadata": {},
     "output_type": "execute_result"
    },
    {
     "data": {
      "image/png": "[encoded data removed]",
      "text/plain": [
       "<Figure size 432x288 with 1 Axes>"
      ]
     },
     "metadata": {
      "needs_background": "light"
     },
     "output_type": "display_data"
    }
   ],
   "source": [
    "tt = df[df[\"Log10_BF\"]<-1]\n",
    "plt.scatter(abs(tt[\"enformer_recomputed_y\"]),abs(tt[\"ENCSR637XSC.abs_logfc_x_jsd_x_max_percentile.mean\"]))\n",
    "plt.xlabel(\"Enformer predictions\")\n",
    "plt.ylabel(\"ChromBPNet predictions\")"
   ]
  },
  {
   "cell_type": "code",
   "execution_count": null,
   "metadata": {},
   "outputs": [],
   "source": [
    "colors=np.array(['b'])\n",
    "colors = 'r'\n",
    "plt.scatter(abs(tt[\"enformer_recomputed_y\"]),abs(tt[\"ENCSR637XSC.abs_logfc_x_jsd_x_max_percentile.mean\"]))\n",
    "plt.xlabel(\"Enformer predictions\")\n",
    "plt.ylabel(\"ChromBPNet predictions\")"
   ]
  },
  {
   "cell_type": "code",
   "execution_count": 108,
   "metadata": {},
   "outputs": [
    {
     "data": {
      "text/plain": [
       "<AxesSubplot:>"
      ]
     },
     "execution_count": 108,
     "metadata": {},
     "output_type": "execute_result"
    },
    {
     "data": {
      "image/png": "[encoded data removed]",
      "text/plain": [
       "<Figure size 432x288 with 1 Axes>"
      ]
     },
     "metadata": {
      "needs_background": "light"
     },
     "output_type": "display_data"
    }
   ],
   "source": [
    "tt[\"enformer_recomputed_y\"].hist()"
   ]
  },
  {
   "cell_type": "code",
   "execution_count": null,
   "metadata": {},
   "outputs": [],
   "source": []
  }
 ],
 "metadata": {
  "kernelspec": {
   "display_name": "Python 3",
   "language": "python",
   "name": "python3"
  },
  "language_info": {
   "codemirror_mode": {
    "name": "ipython",
    "version": 3
   },
   "file_extension": ".py",
   "mimetype": "text/x-python",
   "name": "python",
   "nbconvert_exporter": "python",
   "pygments_lexer": "ipython3",
   "version": "3.7.6"
  }
 },
 "nbformat": 4,
 "nbformat_minor": 4
}
