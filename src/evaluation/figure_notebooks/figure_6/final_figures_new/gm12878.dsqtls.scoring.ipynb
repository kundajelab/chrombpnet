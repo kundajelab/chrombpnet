{
 "cells": [
  {
   "cell_type": "code",
   "execution_count": 1,
   "metadata": {},
   "outputs": [],
   "source": [
    "import pandas as pd\n",
    "import scipy.stats"
   ]
  },
  {
   "cell_type": "code",
   "execution_count": null,
   "metadata": {},
   "outputs": [],
   "source": []
  },
  {
   "cell_type": "code",
   "execution_count": null,
   "metadata": {},
   "outputs": [],
   "source": []
  },
  {
   "cell_type": "code",
   "execution_count": 2,
   "metadata": {},
   "outputs": [],
   "source": [
    "data = pd.read_csv(\"dsqtls.lcls.benchmarking.tsv\", sep=\"\\t\", header=0)"
   ]
  },
  {
   "cell_type": "code",
   "execution_count": 3,
   "metadata": {},
   "outputs": [
    {
     "data": {
      "text/html": [
       "<div>\n",
       "<style scoped>\n",
       "    .dataframe tbody tr th:only-of-type {\n",
       "        vertical-align: middle;\n",
       "    }\n",
       "\n",
       "    .dataframe tbody tr th {\n",
       "        vertical-align: top;\n",
       "    }\n",
       "\n",
       "    .dataframe thead th {\n",
       "        text-align: right;\n",
       "    }\n",
       "</style>\n",
       "<table border=\"1\" class=\"dataframe\">\n",
       "  <thead>\n",
       "    <tr style=\"text-align: right;\">\n",
       "      <th></th>\n",
       "      <th>var.chrom</th>\n",
       "      <th>var.pos</th>\n",
       "      <th>var.allele1</th>\n",
       "      <th>var.allele2</th>\n",
       "      <th>var.rsid</th>\n",
       "      <th>var.label</th>\n",
       "      <th>var.isused</th>\n",
       "      <th>obs.estimate</th>\n",
       "      <th>pred.gkmsvm.encsr000emt.varscore.deltasvm</th>\n",
       "      <th>pred.enformer.encsr000emt.varscore.sad</th>\n",
       "      <th>...</th>\n",
       "      <th>pred.chrombpnet.encsr637xsc_50m.varscore.jsd_x_aaq</th>\n",
       "      <th>pred.chrombpnet.encsr637xsc_50m.varscore.logfc_x_aaq</th>\n",
       "      <th>pred.chrombpnet.encsr637xsc_25m.varscore.logfc</th>\n",
       "      <th>pred.chrombpnet.encsr637xsc_25m.varscore.jsd</th>\n",
       "      <th>pred.chrombpnet.encsr637xsc_25m.varscore.crs</th>\n",
       "      <th>pred.chrombpnet.encsr637xsc_25m.varscore.pval</th>\n",
       "      <th>pred.chrombpnet.encsr637xsc_5m.varscore.logfc</th>\n",
       "      <th>pred.chrombpnet.encsr637xsc_5m.varscore.jsd</th>\n",
       "      <th>pred.chrombpnet.encsr637xsc_5m.varscore.crs</th>\n",
       "      <th>pred.chrombpnet.encsr637xsc_5m.varscore.pval</th>\n",
       "    </tr>\n",
       "  </thead>\n",
       "  <tbody>\n",
       "    <tr>\n",
       "      <th>0</th>\n",
       "      <td>chr1</td>\n",
       "      <td>856583</td>\n",
       "      <td>A</td>\n",
       "      <td>G</td>\n",
       "      <td>rs141671872</td>\n",
       "      <td>1</td>\n",
       "      <td>True</td>\n",
       "      <td>0.9301</td>\n",
       "      <td>2.653531</td>\n",
       "      <td>0.000342</td>\n",
       "      <td>...</td>\n",
       "      <td>0.021877</td>\n",
       "      <td>0.127298</td>\n",
       "      <td>0.291935</td>\n",
       "      <td>0.067401</td>\n",
       "      <td>0.00484</td>\n",
       "      <td>0.018692</td>\n",
       "      <td>0.065098</td>\n",
       "      <td>0.049902</td>\n",
       "      <td>0.00136</td>\n",
       "      <td>0.065265</td>\n",
       "    </tr>\n",
       "  </tbody>\n",
       "</table>\n",
       "<p>1 rows × 52 columns</p>\n",
       "</div>"
      ],
      "text/plain": [
       "  var.chrom  var.pos var.allele1 var.allele2     var.rsid  var.label  \\\n",
       "0      chr1   856583           A           G  rs141671872          1   \n",
       "\n",
       "   var.isused  obs.estimate  pred.gkmsvm.encsr000emt.varscore.deltasvm  \\\n",
       "0        True        0.9301                                   2.653531   \n",
       "\n",
       "   pred.enformer.encsr000emt.varscore.sad  ...  \\\n",
       "0                                0.000342  ...   \n",
       "\n",
       "   pred.chrombpnet.encsr637xsc_50m.varscore.jsd_x_aaq  \\\n",
       "0                                           0.021877    \n",
       "\n",
       "   pred.chrombpnet.encsr637xsc_50m.varscore.logfc_x_aaq  \\\n",
       "0                                           0.127298      \n",
       "\n",
       "   pred.chrombpnet.encsr637xsc_25m.varscore.logfc  \\\n",
       "0                                        0.291935   \n",
       "\n",
       "   pred.chrombpnet.encsr637xsc_25m.varscore.jsd  \\\n",
       "0                                      0.067401   \n",
       "\n",
       "   pred.chrombpnet.encsr637xsc_25m.varscore.crs  \\\n",
       "0                                       0.00484   \n",
       "\n",
       "   pred.chrombpnet.encsr637xsc_25m.varscore.pval  \\\n",
       "0                                       0.018692   \n",
       "\n",
       "   pred.chrombpnet.encsr637xsc_5m.varscore.logfc  \\\n",
       "0                                       0.065098   \n",
       "\n",
       "   pred.chrombpnet.encsr637xsc_5m.varscore.jsd  \\\n",
       "0                                     0.049902   \n",
       "\n",
       "   pred.chrombpnet.encsr637xsc_5m.varscore.crs  \\\n",
       "0                                      0.00136   \n",
       "\n",
       "   pred.chrombpnet.encsr637xsc_5m.varscore.pval  \n",
       "0                                      0.065265  \n",
       "\n",
       "[1 rows x 52 columns]"
      ]
     },
     "execution_count": 3,
     "metadata": {},
     "output_type": "execute_result"
    }
   ],
   "source": [
    "data.head(1)"
   ]
  },
  {
   "cell_type": "code",
   "execution_count": 4,
   "metadata": {},
   "outputs": [],
   "source": [
    "dataf = data[data[\"var.isused\"]]"
   ]
  },
  {
   "cell_type": "code",
   "execution_count": 5,
   "metadata": {},
   "outputs": [
    {
     "data": {
      "text/plain": [
       "(27373, 52)"
      ]
     },
     "execution_count": 5,
     "metadata": {},
     "output_type": "execute_result"
    }
   ],
   "source": [
    "dataf.shape"
   ]
  },
  {
   "cell_type": "code",
   "execution_count": 6,
   "metadata": {},
   "outputs": [
    {
     "name": "stdout",
     "output_type": "stream",
     "text": [
      "560\n",
      "26813\n"
     ]
    }
   ],
   "source": [
    "print(sum(dataf[\"var.label\"]==1))\n",
    "print(sum(dataf[\"var.label\"]==-1))"
   ]
  },
  {
   "cell_type": "markdown",
   "metadata": {},
   "source": [
    "# AUPRC Benchmarking"
   ]
  },
  {
   "cell_type": "code",
   "execution_count": 7,
   "metadata": {},
   "outputs": [
    {
     "data": {
      "image/png": "[encoded data removed]",
      "text/plain": [
       "<Figure size 720x432 with 1 Axes>"
      ]
     },
     "metadata": {
      "needs_background": "light"
     },
     "output_type": "display_data"
    }
   ],
   "source": [
    "import matplotlib.pyplot as plt\n",
    "import pandas as pd\n",
    "from sklearn.metrics import precision_recall_curve\n",
    "from sklearn.metrics import roc_curve\n",
    "from sklearn.metrics import RocCurveDisplay\n",
    "import pandas as pd\n",
    "import matplotlib.pyplot as plt\n",
    "import numpy as np\n",
    "from sklearn import metrics\n",
    "import matplotlib.pyplot as plt\n",
    "import matplotlib\n",
    "\n",
    "\n",
    "matplotlib.rcParams['pdf.fonttype'] = 42\n",
    "matplotlib.rcParams['ps.fonttype'] = 42 \n",
    "\n",
    "import random\n",
    "import os\n",
    "import argparse\n",
    "from sklearn.metrics import precision_recall_curve\n",
    "\n",
    "\n",
    "fig, ax = plt.subplots(figsize=(10,6))\n",
    "\n",
    "######################################\n",
    "\n",
    "keyd=\"pred.chrombpnet.encsr637xsc.varscore.crs\"\n",
    "label=dataf[\"var.label\"].astype(int)\n",
    "score=abs(dataf[keyd])\n",
    "\n",
    "title=\"ChromBPnet w/ ATAC (572M)\"\n",
    "\n",
    "fpr_chrombpnet, tpr_chrombpnet, _ = precision_recall_curve(label,score)\n",
    "roc_auc = metrics.average_precision_score(label, score)\n",
    "ax.plot(tpr_chrombpnet,fpr_chrombpnet,  linewidth=2, c='blue', linestyle='dashed', label=title+\", AP=\"+str(round(roc_auc,2)))\n",
    "\n",
    "######################################\n",
    "\n",
    "keyd=\"pred.chrombpnet.encsr637xsc_50m.varscore.crs\"\n",
    "label=dataf[\"var.label\"].astype(int)\n",
    "score=abs(dataf[keyd])\n",
    "\n",
    "title=\"ChromBPnet w/ ATAC (50M)\"\n",
    "\n",
    "fpr_chrombpnet, tpr_chrombpnet, _ = precision_recall_curve(label,score)\n",
    "roc_auc = metrics.average_precision_score(label, score)\n",
    "ax.plot(tpr_chrombpnet,fpr_chrombpnet,  linewidth=2, c='blue', label=title+\", AP=\"+str(round(roc_auc,2)))\n",
    "\n",
    "######################################\n",
    "\n",
    "keyd=\"pred.chrombpnet.encsr000emt.varscore.crs\"\n",
    "label=dataf[\"var.label\"].astype(int)\n",
    "score=abs(dataf[keyd])\n",
    "\n",
    "title=\"ChromBPnet w/ DNASE (68M)\"\n",
    "\n",
    "fpr_chrombpnet, tpr_chrombpnet, _ = precision_recall_curve(label,score)\n",
    "roc_auc = metrics.average_precision_score(label, score)\n",
    "ax.plot(tpr_chrombpnet,fpr_chrombpnet,  linewidth=2, label=title+\", AP=\"+str(round(roc_auc,2)))\n",
    "\n",
    "######################################\n",
    "\n",
    "keyd=\"pred.enformer.encsr000emt.varscore.recomputed\"\n",
    "label=dataf[\"var.label\"].astype(int)\n",
    "score=abs(dataf[keyd])\n",
    "title=\"Enformer w/ DNASE (recomputed) (68M)\"\n",
    "\n",
    "fpr_chrombpnet, tpr_chrombpnet, _ = precision_recall_curve(label,score)\n",
    "roc_auc = metrics.average_precision_score(label, score)\n",
    "enformer_auc_recomp = roc_auc\n",
    "\n",
    "ax.plot(tpr_chrombpnet,fpr_chrombpnet,  linewidth=2, label=title+\", AP=\"+str(round(roc_auc,2)))\n",
    "\n",
    "######################################\n",
    "\n",
    "# keyd=\"pred.enformer.encsr000emt.varscore.sad\"\n",
    "# label=dataf[\"var.label\"].astype(int)\n",
    "# score=abs(dataf[keyd])\n",
    "# title=\"Enformer w/ DNASE SAD (50M)\"\n",
    "\n",
    "# fpr_chrombpnet, tpr_chrombpnet, _ = precision_recall_curve(label,score)\n",
    "# roc_auc = metrics.average_precision_score(label, score)\n",
    "# ax.plot(tpr_chrombpnet,fpr_chrombpnet,  linewidth=2, label=title+\", AP=\"+str(round(roc_auc,2)))\n",
    "\n",
    "######################################\n",
    "\n",
    "keyd=\"pred.enformer.encsr000emt.varscore.sar\"\n",
    "label=dataf[\"var.label\"].astype(int)\n",
    "score=abs(dataf[keyd])\n",
    "title=\"Enformer w/ DNASE (reported) (68M)\"\n",
    "\n",
    "\n",
    "fpr_chrombpnet, tpr_chrombpnet, _ = precision_recall_curve(label,score)\n",
    "roc_auc = metrics.average_precision_score(label, score)\n",
    "ax.plot(tpr_chrombpnet,fpr_chrombpnet,  linewidth=2, label=title+\", AP=\"+str(round(roc_auc,2)))\n",
    "enformer_auc = roc_auc\n",
    "\n",
    "######################################\n",
    "\n",
    "keyd=\"pred.gkmsvm.encsr000emt.varscore.deltasvm\"\n",
    "label=dataf[\"var.label\"].astype(int)\n",
    "score=abs(dataf[keyd])\n",
    "title=\"DeltaSVM w/ DNASE (68M)\"\n",
    "\n",
    "fpr_chrombpnet, tpr_chrombpnet, _ = precision_recall_curve(label,score)\n",
    "roc_auc = metrics.average_precision_score(label, score)\n",
    "ax.plot(tpr_chrombpnet,fpr_chrombpnet,  linewidth=2, label=title+\", AP=\"+str(round(roc_auc,2)))\n",
    "deltasvm_roc=roc_auc\n",
    "\n",
    "roc_auc=sum(dataf[\"var.label\"]==1)/len(dataf[\"var.label\"])\n",
    "ax.plot(fpr_chrombpnet, [sum(dataf[\"var.label\"]==1)/len(dataf[\"var.label\"])]*len(fpr_chrombpnet), linewidth=2, label=\"Random baseline, AP=\"+str(round(roc_auc,2)))\n",
    "\n",
    "\n",
    "ax.spines[[\"top\", \"right\"]].set_visible(False)\n",
    "ax.legend(loc='upper right')\n",
    "ax.set_xlabel(\"Recall\")\n",
    "ax.set_ylabel(\"Precision\")\n",
    "\n",
    "plt.savefig(\"subfigs/dsqtls_auprc.pdf\", transparent=True, dpi=300)"
   ]
  },
  {
   "cell_type": "markdown",
   "metadata": {},
   "source": [
    "# AUPRC (best metric)"
   ]
  },
  {
   "cell_type": "code",
   "execution_count": 8,
   "metadata": {},
   "outputs": [],
   "source": [
    "scores = []\n",
    "labels = []\n",
    "keys_df = []\n",
    "\n",
    "keys = ['pred.chrombpnet.encsr637xsc.varscore.crs',\n",
    "       'pred.chrombpnet.encsr637xsc.varscore.logfc_x_jsd',\n",
    "       'pred.chrombpnet.encsr637xsc.varscore.jsd_x_aaq',\n",
    "       'pred.chrombpnet.encsr637xsc.varscore.logfc_x_aaq',\n",
    "       'pred.chrombpnet.encsr637xsc.varscore.jsd',     \n",
    "       'pred.chrombpnet.encsr637xsc.varscore.logfc',\n",
    "       'pred.chrombpnet.encsr637xsc.varscore.aaq']\n",
    "\n",
    "\n",
    "key_shorts = [\"CRS\", \n",
    "              \"logfc_x_jsd\",\n",
    "              \"jsd_x_max_percentile\",\n",
    "              \"logfc_x_max_percentile\",\n",
    "              \"jsd\",\n",
    "              \"logfc\",\n",
    "              \"max_percentile\"]\n",
    "\n",
    "names = [\"ATAC (572M)\", \"ATAC (50M)\", \"DNASE (50M)\"]\n",
    "\n",
    "j=0\n",
    "for kd in keys:\n",
    "    i = 0\n",
    "    for title in [\"encsr637xsc\", \"encsr637xsc_50m\", \"encsr000emt\"]:\n",
    "        label=data[\"var.label\"].astype(int)\n",
    "        score=abs(data[kd.replace(\"encsr637xsc\", title)])\n",
    "        roc_auc = metrics.average_precision_score(label, score)\n",
    "        scores.append(roc_auc)\n",
    "        labels.append(names[i])\n",
    "        keys_df.append(key_shorts[j])\n",
    "        i=i+1\n",
    "    j=j+1"
   ]
  },
  {
   "cell_type": "code",
   "execution_count": 9,
   "metadata": {},
   "outputs": [
    {
     "data": {
      "image/png": "[encoded data removed]",
      "text/plain": [
       "<Figure size 1080x576 with 1 Axes>"
      ]
     },
     "metadata": {
      "needs_background": "light"
     },
     "output_type": "display_data"
    }
   ],
   "source": [
    "import seaborn as sns\n",
    "dictt={\"scores\":scores, \"labels\":labels, \"method\":keys_df}\n",
    "df = pd.DataFrame(dictt)\n",
    "matplotlib.rcParams['pdf.fonttype'] = 42\n",
    "matplotlib.rcParams['ps.fonttype'] = 42 \n",
    "\n",
    "fig, ax = plt.subplots(figsize=(15,8))\n",
    "\n",
    "sns.barplot(data=df, x=\"labels\", y=\"scores\", hue=\"method\", ax=ax)\n",
    "ax.spines[[\"top\", \"right\"]].set_visible(False)\n",
    "\n",
    "plt.savefig(\"subfigs/dsqtls_auprc_score_compare.pdf\", transparent=True, dpi=300)"
   ]
  },
  {
   "cell_type": "code",
   "execution_count": 10,
   "metadata": {},
   "outputs": [
    {
     "data": {
      "text/plain": [
       "0        1\n",
       "1        1\n",
       "2        1\n",
       "3        1\n",
       "4        1\n",
       "        ..\n",
       "28302   -1\n",
       "28303   -1\n",
       "28304   -1\n",
       "28305   -1\n",
       "28307   -1\n",
       "Name: var.label, Length: 27373, dtype: int64"
      ]
     },
     "execution_count": 10,
     "metadata": {},
     "output_type": "execute_result"
    }
   ],
   "source": [
    "dataf[\"var.label\"].astype(int)"
   ]
  },
  {
   "cell_type": "code",
   "execution_count": 11,
   "metadata": {},
   "outputs": [],
   "source": [
    "keyd=\"pred.chrombpnet.encsr000emt.varscore.crs\"\n",
    "score=dataf[keyd]"
   ]
  },
  {
   "cell_type": "code",
   "execution_count": 12,
   "metadata": {},
   "outputs": [
    {
     "data": {
      "text/plain": [
       "(array([2.6739e+04, 6.0000e+01, 8.0000e+00, 1.0000e+00, 2.0000e+00,\n",
       "        1.0000e+00, 1.0000e+00, 0.0000e+00, 0.0000e+00, 1.0000e+00]),\n",
       " array([2.90406164e-11, 2.06203065e-02, 4.12406129e-02, 6.18609193e-02,\n",
       "        8.24812258e-02, 1.03101532e-01, 1.23721839e-01, 1.44342145e-01,\n",
       "        1.64962451e-01, 1.85582758e-01, 2.06203064e-01]),\n",
       " <BarContainer object of 10 artists>)"
      ]
     },
     "execution_count": 12,
     "metadata": {},
     "output_type": "execute_result"
    },
    {
     "data": {
      "image/png": "[encoded data removed]",
      "text/plain": [
       "<Figure size 432x288 with 1 Axes>"
      ]
     },
     "metadata": {
      "needs_background": "light"
     },
     "output_type": "display_data"
    }
   ],
   "source": [
    "plt.hist(score[dataf[\"var.label\"].astype(int)==-1])"
   ]
  },
  {
   "cell_type": "code",
   "execution_count": 13,
   "metadata": {},
   "outputs": [
    {
     "data": {
      "text/plain": [
       "55"
      ]
     },
     "execution_count": 13,
     "metadata": {},
     "output_type": "execute_result"
    }
   ],
   "source": [
    "sum(score[dataf[\"var.label\"].astype(int)==-1]>0.025)"
   ]
  },
  {
   "cell_type": "code",
   "execution_count": 14,
   "metadata": {},
   "outputs": [
    {
     "data": {
      "text/plain": [
       "119"
      ]
     },
     "execution_count": 14,
     "metadata": {},
     "output_type": "execute_result"
    }
   ],
   "source": [
    "sum(score[dataf[\"var.label\"].astype(int)==1]>0.025)"
   ]
  },
  {
   "cell_type": "code",
   "execution_count": 15,
   "metadata": {},
   "outputs": [
    {
     "data": {
      "text/plain": [
       "(array([456.,  63.,  21.,  11.,   4.,   1.,   2.,   1.,   0.,   1.]),\n",
       " array([1.07273470e-06, 2.82166130e-02, 5.64321533e-02, 8.46476936e-02,\n",
       "        1.12863234e-01, 1.41078774e-01, 1.69294314e-01, 1.97509855e-01,\n",
       "        2.25725395e-01, 2.53940935e-01, 2.82156476e-01]),\n",
       " <BarContainer object of 10 artists>)"
      ]
     },
     "execution_count": 15,
     "metadata": {},
     "output_type": "execute_result"
    },
    {
     "data": {
      "image/png": "[encoded data removed]",
      "text/plain": [
       "<Figure size 432x288 with 1 Axes>"
      ]
     },
     "metadata": {
      "needs_background": "light"
     },
     "output_type": "display_data"
    }
   ],
   "source": [
    "plt.hist(score[dataf[\"var.label\"].astype(int)==1])"
   ]
  },
  {
   "cell_type": "code",
   "execution_count": null,
   "metadata": {},
   "outputs": [],
   "source": []
  },
  {
   "cell_type": "markdown",
   "metadata": {},
   "source": [
    "# AUPRC (subsampling)"
   ]
  },
  {
   "cell_type": "code",
   "execution_count": 16,
   "metadata": {},
   "outputs": [],
   "source": [
    "def fetch_auprc_new(p):\n",
    "    fpr_chrombpnet, tpr_chrombpnet, _ = precision_recall_curve(merged_atac[key_label], abs(merged_atac[\"abs_logfc_x_jsd_x_max_percentile.mean\"]))\n",
    "    roc_auc = metrics.average_precision_score(merged_atac[key_label], abs(merged_atac[\"abs_logfc_x_jsd_x_max_percentile.mean\"]))\n",
    "    #roc_auc = metrics.average_precision_score(merged_atac[key_label], abs(merged_atac[\"jsd.mean\"]))\n",
    "    print(roc_auc)\n",
    "    return roc_auc"
   ]
  },
  {
   "cell_type": "code",
   "execution_count": 17,
   "metadata": {},
   "outputs": [
    {
     "name": "stdout",
     "output_type": "stream",
     "text": [
      "0.5382377424514815\n",
      "0.5212720206135839\n",
      "0.5130607361102206\n",
      "0.4573954341174485\n",
      "0.4172765936392213\n",
      "0.289267529781573\n",
      "0.42936897087849046\n"
     ]
    }
   ],
   "source": [
    "rocs = []\n",
    "for title in [\"encsr637xsc\", \"encsr637xsc_250m\", \"encsr637xsc_100m\",\n",
    "              \"encsr637xsc_50m\", \"encsr637xsc_25m\", \"encsr637xsc_5m\", \"encsr000emt\"]:\n",
    "    \n",
    "    roc_auc = metrics.average_precision_score(dataf[\"var.label\"].astype(int), abs(dataf[\"pred.chrombpnet.encsr637xsc.varscore.crs\".replace(\"encsr637xsc\", title)]))\n",
    "    print(roc_auc)\n",
    "    rocs.append(roc_auc)"
   ]
  },
  {
   "cell_type": "code",
   "execution_count": 18,
   "metadata": {},
   "outputs": [
    {
     "name": "stderr",
     "output_type": "stream",
     "text": [
      "/users/anusri/anaconda3/lib/python3.7/site-packages/ipykernel_launcher.py:13: UserWarning: FixedFormatter should only be used together with FixedLocator\n",
      "  del sys.path[0]\n"
     ]
    },
    {
     "data": {
      "image/png": "[encoded data removed]",
      "text/plain": [
       "<Figure size 360x216 with 1 Axes>"
      ]
     },
     "metadata": {
      "needs_background": "light"
     },
     "output_type": "display_data"
    }
   ],
   "source": [
    "fix, ax = plt.subplots(figsize=(5,3))\n",
    "ax.scatter([\"ATAC\\n572M\", \"ATAC\\n250M\", \"ATAC\\n100M\" ,\"ATAC\\n50M\", \"ATAC\\n25M\", \"ATAC\\n5M\"],rocs[0:-1])\n",
    "ax.plot([\"ATAC\\n572M\", \"ATAC\\n250M\", \"ATAC\\n100M\",\"ATAC\\n50M\", \"ATAC\\n25M\", \"ATAC\\n5M\"],rocs[0:-1], alpha=0.5)\n",
    "ax.scatter([\"DNASE\\n68M\"], [rocs[-1]], marker=\"*\")\n",
    "ax.scatter([\"Enformer recomp\"], [enformer_auc_recomp], marker=\"*\")\n",
    "ax.scatter([\"Enformer\"], [enformer_auc], marker=\"*\")\n",
    "ax.scatter([\"DeltSVM\"], [deltasvm_roc], marker=\"*\")\n",
    "\n",
    "xtix=[\"ChromBPNet ATAC 572M\", \" ChromBPNet ATAC 250M\", \"ChromBPNet ATAC 100M\",\"ChromBPNet ATAC 50M\", \"ChromBPNet ATAC 25M\", \"ChromBPNet ATAC 5M\"]+[\"ChromBPNet DNASE 68M\"]+[\"Enformer DNase 68M\"]+[\"Enformer DNase 68M (reported)\"]+[\"SVM DNase 68m\"]\n",
    "\n",
    "ax.set_ylim((0,0.55))\n",
    "ax.spines[[\"top\", \"right\"]].set_visible(False)\n",
    "ax.set_xticklabels(labels=xtix, rotation=90)\n",
    "ax.set_xlabel(\"Method\")\n",
    "ax.set_ylabel(\"Average Precision\")\n",
    "\n",
    "plt.savefig(\"subfigs/dsqtls_auprc_subsampling.pdf\", transparent=True, dpi=300)\n"
   ]
  },
  {
   "cell_type": "markdown",
   "metadata": {},
   "source": [
    "# Pearsonr (benchmarking)"
   ]
  },
  {
   "cell_type": "code",
   "execution_count": 42,
   "metadata": {},
   "outputs": [
    {
     "name": "stdout",
     "output_type": "stream",
     "text": [
      "0.71\n"
     ]
    }
   ],
   "source": [
    "\n",
    "key_enf_1=\"pred.enformer.encsr000emt.varscore.recomputed\"\n",
    "key_enf_2=\"pred.enformer.encsr000emt.varscore.sar\"\n",
    "key_label=\"var.label\"\n",
    "obs_estimate=\"obs.estimate\"\n",
    "chrombpnet_logfc=\"pred.chrombpnet.encsr000emt.varscore.logfc\"\n",
    "chrombpnet_atac_logfc=\"pred.chrombpnet.encsr637xsc.varscore.logfc\"\n",
    "delta_svm_key=\"pred.gkmsvm.encsr000emt.varscore.deltasvm\"\n",
    "chrombpnet_atac_50m_logfc=\"pred.chrombpnet.encsr637xsc_50m.varscore.logfc\"\n",
    "\n",
    "\n",
    "# enformer_perf = np.max([scipy.stats.pearsonr(dataf[key_enf_1][dataf[key_label]==1],dataf[obs_estimate][dataf[key_label]==1])[0],\n",
    "#                        scipy.stats.pearsonr(dataf[key_enf_2][dataf[key_label]==1],dataf[obs_estimate][dataf[key_label]==1])[0]])\n",
    "enformer_perf = scipy.stats.pearsonr(dataf[key_enf_1][dataf[key_label]==1],dataf[obs_estimate][dataf[key_label]==1])[0]\n",
    "enformer_perf_old = scipy.stats.pearsonr(dataf[key_enf_2][dataf[key_label]==1],dataf[obs_estimate][dataf[key_label]==1])[0]\n",
    "\n",
    "print(np.round(enformer_perf,2))"
   ]
  },
  {
   "cell_type": "code",
   "execution_count": 44,
   "metadata": {},
   "outputs": [],
   "source": [
    "#enformer_perf = scipy.stats.pearsonr(abs(dataf[key_enf_1][dataf[key_label]==1]),abs(dataf[obs_estimate][dataf[key_label]==1]))[0]\n"
   ]
  },
  {
   "cell_type": "code",
   "execution_count": 45,
   "metadata": {},
   "outputs": [
    {
     "name": "stdout",
     "output_type": "stream",
     "text": [
      "0.19\n"
     ]
    }
   ],
   "source": [
    "\n",
    "#print(np.round(enformer_perf,2))"
   ]
  },
  {
   "cell_type": "code",
   "execution_count": 20,
   "metadata": {},
   "outputs": [
    {
     "name": "stdout",
     "output_type": "stream",
     "text": [
      "0.56\n"
     ]
    }
   ],
   "source": [
    "print(np.round(enformer_perf_old,2))"
   ]
  },
  {
   "cell_type": "code",
   "execution_count": 21,
   "metadata": {},
   "outputs": [
    {
     "data": {
      "text/plain": [
       "(0.7124757538065036, 6.703532203865769e-88)"
      ]
     },
     "execution_count": 21,
     "metadata": {},
     "output_type": "execute_result"
    }
   ],
   "source": [
    "scipy.stats.pearsonr(dataf[key_enf_1][dataf[key_label]==1],dataf[obs_estimate][dataf[key_label]==1])"
   ]
  },
  {
   "cell_type": "code",
   "execution_count": 22,
   "metadata": {},
   "outputs": [
    {
     "data": {
      "text/plain": [
       "(0.563128780419175, 3.625037841934576e-48)"
      ]
     },
     "execution_count": 22,
     "metadata": {},
     "output_type": "execute_result"
    }
   ],
   "source": [
    "scipy.stats.pearsonr(dataf[key_enf_2][dataf[key_label]==1],dataf[obs_estimate][dataf[key_label]==1])"
   ]
  },
  {
   "cell_type": "code",
   "execution_count": 23,
   "metadata": {},
   "outputs": [
    {
     "data": {
      "text/plain": [
       "(0.7393262959574392, 6.552289684724055e-98)"
      ]
     },
     "execution_count": 23,
     "metadata": {},
     "output_type": "execute_result"
    }
   ],
   "source": [
    "scipy.stats.pearsonr(dataf[chrombpnet_logfc][dataf[key_label]==1],dataf[obs_estimate][dataf[key_label]==1])\n"
   ]
  },
  {
   "cell_type": "code",
   "execution_count": 24,
   "metadata": {},
   "outputs": [
    {
     "data": {
      "text/plain": [
       "(0.7586179164294138, 6.689376032748603e-106)"
      ]
     },
     "execution_count": 24,
     "metadata": {},
     "output_type": "execute_result"
    }
   ],
   "source": [
    "scipy.stats.pearsonr(dataf[chrombpnet_atac_logfc][dataf[key_label]==1],dataf[obs_estimate][dataf[key_label]==1])\n"
   ]
  },
  {
   "cell_type": "code",
   "execution_count": 25,
   "metadata": {},
   "outputs": [
    {
     "data": {
      "text/plain": [
       "(0.7318756523100427, 5.1915505043409464e-95)"
      ]
     },
     "execution_count": 25,
     "metadata": {},
     "output_type": "execute_result"
    }
   ],
   "source": [
    "scipy.stats.pearsonr(dataf[delta_svm_key][dataf[key_label]==1],dataf[obs_estimate][dataf[key_label]==1])\n"
   ]
  },
  {
   "cell_type": "code",
   "execution_count": null,
   "metadata": {},
   "outputs": [],
   "source": []
  },
  {
   "cell_type": "code",
   "execution_count": 26,
   "metadata": {},
   "outputs": [
    {
     "name": "stdout",
     "output_type": "stream",
     "text": [
      "0.19\n",
      "(0.029602416955412617, 0.4844839205202049)\n"
     ]
    }
   ],
   "source": [
    "\n",
    "# enformer_perf_abs = np.max([scipy.stats.pearsonr(abs(dataf[key_enf_1][dataf[key_label]==1]),abs(dataf[obs_estimate][dataf[key_label]==1]))[0],\n",
    "#                        scipy.stats.pearsonr(abs(dataf[key_enf_2][dataf[key_label]==1]),abs(dataf[obs_estimate][dataf[key_label]==1]))[0]])\n",
    "enformer_perf_abs = scipy.stats.pearsonr(abs(dataf[key_enf_1][dataf[key_label]==1]),abs(dataf[obs_estimate][dataf[key_label]==1]))[0]\n",
    "enformer_perf_abs_old = scipy.stats.pearsonr(abs(dataf[key_enf_2][dataf[key_label]==1]),abs(dataf[obs_estimate][dataf[key_label]==1]))[0]\n",
    "\n",
    "print(np.round(enformer_perf_abs,2))\n",
    "print(scipy.stats.pearsonr(abs(dataf[key_enf_2][dataf[key_label]==1]),abs(dataf[obs_estimate][dataf[key_label]==1])))\n",
    "\n"
   ]
  },
  {
   "cell_type": "code",
   "execution_count": 27,
   "metadata": {},
   "outputs": [
    {
     "name": "stdout",
     "output_type": "stream",
     "text": [
      "0.03\n"
     ]
    }
   ],
   "source": [
    "print(np.round(enformer_perf_abs_old,2))\n"
   ]
  },
  {
   "cell_type": "code",
   "execution_count": 28,
   "metadata": {},
   "outputs": [
    {
     "name": "stdout",
     "output_type": "stream",
     "text": [
      "0.73\n"
     ]
    }
   ],
   "source": [
    "deltasvm_perf = scipy.stats.pearsonr(dataf[delta_svm_key][dataf[key_label]==1],dataf[obs_estimate][dataf[key_label]==1])[0]\n",
    "print(np.round(deltasvm_perf,2))"
   ]
  },
  {
   "cell_type": "code",
   "execution_count": 29,
   "metadata": {},
   "outputs": [
    {
     "name": "stdout",
     "output_type": "stream",
     "text": [
      "0.19\n",
      "(0.19358920550964032, 3.937682048147411e-06)\n"
     ]
    }
   ],
   "source": [
    "deltasvm_perf_abs = scipy.stats.pearsonr(abs(dataf[delta_svm_key][dataf[key_label]==1]),abs(dataf[obs_estimate][dataf[key_label]==1]))\n",
    "print(np.round(deltasvm_perf_abs[0],2))\n",
    "print(deltasvm_perf_abs)"
   ]
  },
  {
   "cell_type": "code",
   "execution_count": 30,
   "metadata": {},
   "outputs": [
    {
     "name": "stdout",
     "output_type": "stream",
     "text": [
      "0.74\n"
     ]
    }
   ],
   "source": [
    "chrombpnet_perf = scipy.stats.pearsonr(dataf[chrombpnet_logfc][dataf[key_label]==1],dataf[obs_estimate][dataf[key_label]==1])[0]\n",
    "print(np.round(chrombpnet_perf,2))"
   ]
  },
  {
   "cell_type": "code",
   "execution_count": 31,
   "metadata": {},
   "outputs": [
    {
     "name": "stdout",
     "output_type": "stream",
     "text": [
      "0.25\n",
      "(0.24688242752352538, 3.19703213636387e-09)\n"
     ]
    }
   ],
   "source": [
    "chrombpnet_perf_abs = scipy.stats.pearsonr(abs(dataf[chrombpnet_logfc][dataf[key_label]==1]),abs(dataf[obs_estimate][dataf[key_label]==1]))\n",
    "print(np.round(chrombpnet_perf_abs[0],2))\n",
    "print(chrombpnet_perf_abs)"
   ]
  },
  {
   "cell_type": "code",
   "execution_count": 32,
   "metadata": {},
   "outputs": [
    {
     "name": "stdout",
     "output_type": "stream",
     "text": [
      "0.73\n"
     ]
    }
   ],
   "source": [
    "chrombpnet_perf = scipy.stats.pearsonr(dataf[chrombpnet_atac_50m_logfc][dataf[key_label]==1],dataf[obs_estimate][dataf[key_label]==1])[0]\n",
    "print(np.round(chrombpnet_perf,2))"
   ]
  },
  {
   "cell_type": "code",
   "execution_count": 33,
   "metadata": {},
   "outputs": [
    {
     "name": "stdout",
     "output_type": "stream",
     "text": [
      "0.26\n",
      "(0.2629603458940187, 2.608186148205023e-10)\n"
     ]
    }
   ],
   "source": [
    "chrombpnet_perf_abs = scipy.stats.pearsonr(abs(dataf[chrombpnet_atac_50m_logfc][dataf[key_label]==1]),abs(dataf[obs_estimate][dataf[key_label]==1]))\n",
    "print(np.round(chrombpnet_perf_abs[0],2))\n",
    "print(chrombpnet_perf_abs)"
   ]
  },
  {
   "cell_type": "code",
   "execution_count": 34,
   "metadata": {},
   "outputs": [
    {
     "data": {
      "text/plain": [
       "(0.29208596203522214, 1.7776064659066986e-12)"
      ]
     },
     "execution_count": 34,
     "metadata": {},
     "output_type": "execute_result"
    }
   ],
   "source": [
    "scipy.stats.pearsonr(abs(dataf[chrombpnet_atac_logfc][dataf[key_label]==1]),abs(dataf[obs_estimate][dataf[key_label]==1]))\n"
   ]
  },
  {
   "cell_type": "code",
   "execution_count": 35,
   "metadata": {},
   "outputs": [
    {
     "name": "stdout",
     "output_type": "stream",
     "text": [
      "(560, 2)\n",
      "(0.7586179164294138, 6.689376032748603e-106)\n"
     ]
    },
    {
     "data": {
      "image/png": "[encoded data removed]",
      "text/plain": [
       "<Figure size 432x360 with 1 Axes>"
      ]
     },
     "metadata": {
      "needs_background": "light"
     },
     "output_type": "display_data"
    }
   ],
   "source": [
    "import seaborn as sns\n",
    "import matplotlib\n",
    "matplotlib.rcParams['pdf.fonttype'] = 42\n",
    "matplotlib.rcParams['ps.fonttype'] = 42 \n",
    "\n",
    "   \n",
    "data = pd.DataFrame()\n",
    "data[\"logfc.mean\"] = dataf[dataf[key_label]==1][chrombpnet_atac_logfc]\n",
    "data[\"Beta\"] = dataf[dataf[key_label]==1][obs_estimate]\n",
    "\n",
    "print(data.shape)\n",
    "plt.figure(figsize=(6,5))\n",
    "\n",
    "sns.kdeplot(\n",
    "    data=data,\n",
    "    x=\"Beta\",\n",
    "    y=\"logfc.mean\",\n",
    "    levels=5,\n",
    "    fill=False,\n",
    "    alpha=0.2,\n",
    "    color=\"grey\",\n",
    "    cut=2,\n",
    "\n",
    ")\n",
    "\n",
    "\n",
    "ax = sns.scatterplot(x=\"Beta\", y=\"logfc.mean\", data=data, s=6, color=\"Red\")\n",
    "sns.regplot(x=\"Beta\", y=\"logfc.mean\", data=data, scatter=False, ci=None, color=\"#ffcccb\")\n",
    "ax.spines[[\"top\", \"right\"]].set_visible(False)\n",
    "\n",
    "atc_pear = scipy.stats.pearsonr(dataf[chrombpnet_atac_logfc][dataf[key_label]==1],dataf[obs_estimate][dataf[key_label]==1])\n",
    "print(atc_pear)\n",
    "ax.set_title(\"Pearsonr = \"+str(np.round(atc_pear[0],2)))\n",
    "\n",
    "plt.savefig(\"subfigs/dsqtls_pearsonr_plot.pdf\", transparent=True, dpi=300)\n"
   ]
  },
  {
   "cell_type": "code",
   "execution_count": null,
   "metadata": {},
   "outputs": [],
   "source": []
  },
  {
   "cell_type": "markdown",
   "metadata": {},
   "source": [
    "# Pearsonr (subsampling)"
   ]
  },
  {
   "cell_type": "code",
   "execution_count": 36,
   "metadata": {},
   "outputs": [
    {
     "name": "stdout",
     "output_type": "stream",
     "text": [
      "(0.29208596203522214, 1.7776064659066986e-12)\n",
      "(0.27736493794097455, 2.3813009032720084e-11)\n",
      "(0.2816781946705184, 1.1309775172641475e-11)\n",
      "(0.2629603458940187, 2.608186148205023e-10)\n",
      "(0.22931197960366534, 4.072532181264645e-08)\n",
      "(0.13358803525401117, 0.0015327079153868628)\n",
      "(0.24688242752352538, 3.19703213636387e-09)\n"
     ]
    }
   ],
   "source": [
    "\n",
    "pearsonrs_logfc_abs = []\n",
    "for title in [\"encsr637xsc\", \"encsr637xsc_250m\", \"encsr637xsc_100m\",\n",
    "              \"encsr637xsc_50m\", \"encsr637xsc_25m\", \"encsr637xsc_5m\", \"encsr000emt\"]:\n",
    "  \n",
    "    pear = scipy.stats.pearsonr(abs(dataf[obs_estimate][dataf[key_label]==1]), abs(dataf[\"pred.chrombpnet.encsr637xsc.varscore.logfc\".replace(\"encsr637xsc\", title)][dataf[key_label]==1]))\n",
    "    print(pear)\n",
    "    pearsonrs_logfc_abs.append(pear[0])\n"
   ]
  },
  {
   "cell_type": "code",
   "execution_count": 37,
   "metadata": {},
   "outputs": [
    {
     "name": "stdout",
     "output_type": "stream",
     "text": [
      "pred.chrombpnet.encsr637xsc.varscore.logfc\n",
      "(0.7586179164294138, 6.689376032748603e-106)\n",
      "pred.chrombpnet.encsr637xsc_250m.varscore.logfc\n",
      "(0.7526282890600602, 2.4287034191876065e-103)\n",
      "pred.chrombpnet.encsr637xsc_100m.varscore.logfc\n",
      "(0.7546672458842387, 3.328306684572512e-104)\n",
      "pred.chrombpnet.encsr637xsc_50m.varscore.logfc\n",
      "(0.7346524058027831, 4.429888240845516e-96)\n",
      "pred.chrombpnet.encsr637xsc_25m.varscore.logfc\n",
      "(0.7203103315262882, 1.0646610243625364e-90)\n",
      "pred.chrombpnet.encsr637xsc_5m.varscore.logfc\n",
      "(0.6681759905958633, 1.0998664422228002e-73)\n",
      "pred.chrombpnet.encsr000emt.varscore.logfc\n",
      "(0.7393262959574392, 6.552289684724055e-98)\n"
     ]
    }
   ],
   "source": [
    "pearsonrs_logfc = []\n",
    "for title in [\"encsr637xsc\", \"encsr637xsc_250m\", \"encsr637xsc_100m\",\n",
    "              \"encsr637xsc_50m\", \"encsr637xsc_25m\", \"encsr637xsc_5m\", \"encsr000emt\"]:\n",
    " \n",
    "    print(\"pred.chrombpnet.encsr637xsc.varscore.logfc\".replace(\"encsr637xsc\", title))\n",
    "    pear = scipy.stats.pearsonr(dataf[obs_estimate][dataf[key_label]==1], dataf[\"pred.chrombpnet.encsr637xsc.varscore.logfc\".replace(\"encsr637xsc\", title)][dataf[key_label]==1])\n",
    "    print(pear)\n",
    "    pearsonrs_logfc.append(pear[0])"
   ]
  },
  {
   "cell_type": "code",
   "execution_count": 38,
   "metadata": {},
   "outputs": [
    {
     "name": "stdout",
     "output_type": "stream",
     "text": [
      "pred.chrombpnet.encsr637xsc.varscore.js\n",
      "(0.3126615207076874, 3.6450264964081094e-14)\n",
      "pred.chrombpnet.encsr637xsc_250m.varscore.js\n",
      "(0.31167966683860004, 4.418936333384774e-14)\n",
      "pred.chrombpnet.encsr637xsc_100m.varscore.js\n",
      "(0.30728724129706153, 1.0365589041469113e-13)\n",
      "pred.chrombpnet.encsr637xsc_50m.varscore.js\n",
      "(0.29859614231417875, 5.372085406673485e-13)\n",
      "pred.chrombpnet.encsr637xsc_25m.varscore.js\n",
      "(0.2864012022361328, 4.930507413208403e-12)\n",
      "pred.chrombpnet.encsr637xsc_5m.varscore.js\n",
      "(0.250890979852558, 1.7392825202867793e-09)\n",
      "pred.chrombpnet.encsr000emt.varscore.js\n",
      "(0.31380363966877345, 2.911008818617905e-14)\n"
     ]
    }
   ],
   "source": [
    "\n",
    "pearsonrs_jsd_abs = []\n",
    "for title in [\"encsr637xsc\", \"encsr637xsc_250m\", \"encsr637xsc_100m\",\n",
    "              \"encsr637xsc_50m\", \"encsr637xsc_25m\", \"encsr637xsc_5m\", \"encsr000emt\"]:\n",
    "    \n",
    "    print(\"pred.chrombpnet.encsr637xsc.varscore.js\".replace(\"encsr637xsc\", title))\n",
    "    pear = scipy.stats.pearsonr(abs(dataf[obs_estimate][dataf[key_label]==1]), abs(dataf[\"pred.chrombpnet.encsr637xsc.varscore.jsd\".replace(\"encsr637xsc\", title)][dataf[key_label]==1]))\n",
    "    print(pear)\n",
    "    pearsonrs_jsd_abs.append(pear[0])\n"
   ]
  },
  {
   "cell_type": "code",
   "execution_count": 39,
   "metadata": {},
   "outputs": [
    {
     "name": "stdout",
     "output_type": "stream",
     "text": [
      "(0.7480524783614502, 1.959293501864504e-101)\n",
      "(0.7523651296928697, 3.1344639726513044e-103)\n",
      "(0.7470599652802675, 5.014684226524033e-101)\n",
      "(0.736694138893397, 7.108672678159656e-97)\n",
      "(0.7256926640794923, 1.1169288396490585e-92)\n",
      "(0.6726748364294816, 5.1375454552778505e-75)\n",
      "(0.7575962676005736, 1.8506194777967972e-105)\n"
     ]
    }
   ],
   "source": [
    "\n",
    "pearsonrs_jsd = []\n",
    "for title in [\"encsr637xsc\", \"encsr637xsc_250m\", \"encsr637xsc_100m\",\n",
    "              \"encsr637xsc_50m\", \"encsr637xsc_25m\", \"encsr637xsc_5m\", \"encsr000emt\"]:\n",
    "    pear = scipy.stats.pearsonr(dataf[obs_estimate][dataf[key_label]==1], dataf[\"pred.chrombpnet.encsr637xsc.varscore.jsd\".replace(\"encsr637xsc\", title)][dataf[key_label]==1])\n",
    "    print(pear)\n",
    "    pearsonrs_jsd.append(pear[0])\n"
   ]
  },
  {
   "cell_type": "code",
   "execution_count": 40,
   "metadata": {},
   "outputs": [
    {
     "name": "stderr",
     "output_type": "stream",
     "text": [
      "/users/anusri/anaconda3/lib/python3.7/site-packages/ipykernel_launcher.py:32: UserWarning: FixedFormatter should only be used together with FixedLocator\n"
     ]
    },
    {
     "data": {
      "image/png": "[encoded data removed]",
      "text/plain": [
       "<Figure size 288x216 with 1 Axes>"
      ]
     },
     "metadata": {
      "needs_background": "light"
     },
     "output_type": "display_data"
    }
   ],
   "source": [
    "fig, ax = plt.subplots(figsize=(4,3))\n",
    "ax.scatter([\"ATAC\\n572M\", \"ATAC\\n250M\", \"ATAC\\n100M\" ,\"ATAC\\n50M\", \"ATAC\\n25M\", \"ATAC\\n5M\"],pearsonrs_logfc[0:-1], c=\"orange\", marker=\"^\")\n",
    "ax.plot([\"ATAC\\n572M\", \"ATAC\\n250M\", \"ATAC\\n100M\",\"ATAC\\n50M\", \"ATAC\\n25M\", \"ATAC\\n5M\"],pearsonrs_logfc[0:-1], alpha=0.1, c=\"orange\")\n",
    "ax.scatter([\"ATAC\\n572M\", \"ATAC\\n250M\", \"ATAC\\n100M\" ,\"ATAC\\n50M\", \"ATAC\\n25M\", \"ATAC\\n5M\"],pearsonrs_jsd[0:-1], c=\"blue\", marker=\"^\")\n",
    "ax.plot([\"ATAC\\n572M\", \"ATAC\\n250M\", \"ATAC\\n100M\",\"ATAC\\n50M\", \"ATAC\\n25M\", \"ATAC\\n5M\"],pearsonrs_jsd[0:-1], alpha=0.1, c=\"blue\")\n",
    "\n",
    "ax.scatter([\"ATAC\\n572M\", \"ATAC\\n250M\", \"ATAC\\n100M\" ,\"ATAC\\n50M\", \"ATAC\\n25M\", \"ATAC\\n5M\"],pearsonrs_logfc_abs[0:-1], c=\"orange\", marker=\"v\")\n",
    "ax.plot([\"ATAC\\n572M\", \"ATAC\\n250M\", \"ATAC\\n100M\",\"ATAC\\n50M\", \"ATAC\\n25M\", \"ATAC\\n5M\"],pearsonrs_logfc_abs[0:-1], alpha=0.1,c=\"orange\")\n",
    "ax.scatter([\"ATAC\\n572M\", \"ATAC\\n250M\", \"ATAC\\n100M\" ,\"ATAC\\n50M\", \"ATAC\\n25M\", \"ATAC\\n5M\"],pearsonrs_jsd_abs[0:-1], c=\"blue\", marker=\"v\")\n",
    "ax.plot([\"ATAC\\n572M\", \"ATAC\\n250M\", \"ATAC\\n100M\",\"ATAC\\n50M\", \"ATAC\\n25M\", \"ATAC\\n5M\"],pearsonrs_jsd_abs[0:-1], alpha=0.1, c=\"blue\" )\n",
    "\n",
    "\n",
    "ax.scatter([\"DNASE\\n68M\"], [pearsonrs_logfc[-1]],c=\"cyan\",  marker=\"^\")\n",
    "ax.scatter([\"DNASE\\n68M\"], [pearsonrs_jsd[-1]],c=\"red\",  marker=\"^\")\n",
    "ax.scatter([\"DNASE\\n68M\"], [pearsonrs_logfc_abs[-1]],c=\"cyan\",  marker=\"v\")\n",
    "ax.scatter([\"DNASE\\n68M\"], [pearsonrs_jsd_abs[-1]],c=\"red\",  marker=\"v\")\n",
    "\n",
    "ax.scatter([\"Enformer DNase\\n68M\"], [enformer_perf], c=\"green\", marker=\"^\")\n",
    "ax.scatter([\"Enformer DNase\\n68M\"], [enformer_perf_abs], c=\"green\", marker=\"v\")\n",
    "\n",
    "ax.scatter([\"Enformer DNase (reported)\\n68M\"], [enformer_perf_old], c=\"green\", marker=\"^\")\n",
    "ax.scatter([\"Enformer DNase (reported) \\n68M\"], [enformer_perf_abs_old], c=\"green\", marker=\"v\")\n",
    "\n",
    "\n",
    "ax.scatter([\"SVM DNase\\n68M\"], [deltasvm_perf], c=\"grey\", marker=\"^\")\n",
    "ax.scatter([\"SVM DNase\\n68M\"], [deltasvm_perf_abs[0]], c=\"grey\",  marker=\"v\")\n",
    "\n",
    "\n",
    "xtix=[\"ATAC 572M\", \"ATAC 250M\", \"ATAC 100M\",\"ATAC 50M\", \"ATAC 25M\", \"ATAC 5M\"]+[\"DNASE 68M\"]+[\"Enformer DNase 68M\"]+[\"Enformer DNase 68M (reported)\"]+[\"SVM DNase 68M\"]\n",
    "ax.set_ylim((0,0.8))\n",
    "ax.spines[[\"top\", \"right\"]].set_visible(False)\n",
    "ax.set_xticklabels(labels=xtix, rotation=90)\n",
    "plt.savefig(\"subfigs/dsqtls_subsample_pearsonr_performance.pdf\", transparent=True, dpi=300)\n"
   ]
  },
  {
   "cell_type": "code",
   "execution_count": null,
   "metadata": {},
   "outputs": [],
   "source": []
  },
  {
   "cell_type": "code",
   "execution_count": null,
   "metadata": {},
   "outputs": [],
   "source": []
  }
 ],
 "metadata": {
  "kernelspec": {
   "display_name": "Python 3",
   "language": "python",
   "name": "python3"
  },
  "language_info": {
   "codemirror_mode": {
    "name": "ipython",
    "version": 3
   },
   "file_extension": ".py",
   "mimetype": "text/x-python",
   "name": "python",
   "nbconvert_exporter": "python",
   "pygments_lexer": "ipython3",
   "version": "3.7.6"
  }
 },
 "nbformat": 4,
 "nbformat_minor": 4
}
