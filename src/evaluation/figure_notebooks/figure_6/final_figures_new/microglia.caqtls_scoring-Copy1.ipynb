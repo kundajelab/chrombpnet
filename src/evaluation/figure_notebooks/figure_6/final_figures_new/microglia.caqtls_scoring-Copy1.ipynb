{
 "cells": [
  {
   "cell_type": "code",
   "execution_count": 1,
   "metadata": {},
   "outputs": [],
   "source": [
    "import pandas as pd"
   ]
  },
  {
   "cell_type": "code",
   "execution_count": 3,
   "metadata": {},
   "outputs": [],
   "source": [
    "micros = pd.read_csv(\"microglia.caqtls.tsv\", sep=\"\\t\", header=0)"
   ]
  },
  {
   "cell_type": "code",
   "execution_count": 5,
   "metadata": {},
   "outputs": [
    {
     "data": {
      "text/html": [
       "<div>\n",
       "<style scoped>\n",
       "    .dataframe tbody tr th:only-of-type {\n",
       "        vertical-align: middle;\n",
       "    }\n",
       "\n",
       "    .dataframe tbody tr th {\n",
       "        vertical-align: top;\n",
       "    }\n",
       "\n",
       "    .dataframe thead th {\n",
       "        text-align: right;\n",
       "    }\n",
       "</style>\n",
       "<table border=\"1\" class=\"dataframe\">\n",
       "  <thead>\n",
       "    <tr style=\"text-align: right;\">\n",
       "      <th></th>\n",
       "      <th>CHROM</th>\n",
       "      <th>POS0</th>\n",
       "      <th>POS</th>\n",
       "      <th>non-effect_allele</th>\n",
       "      <th>effect_allele</th>\n",
       "      <th>Top_SNP_perPeak</th>\n",
       "      <th>Beta</th>\n",
       "      <th>logfc.mean</th>\n",
       "      <th>sign.jsd.mean</th>\n",
       "      <th>IsUsed</th>\n",
       "    </tr>\n",
       "  </thead>\n",
       "  <tbody>\n",
       "    <tr>\n",
       "      <th>0</th>\n",
       "      <td>chr2</td>\n",
       "      <td>199884842</td>\n",
       "      <td>199884843</td>\n",
       "      <td>A</td>\n",
       "      <td>G</td>\n",
       "      <td>rs281785</td>\n",
       "      <td>1.293180</td>\n",
       "      <td>-0.032774</td>\n",
       "      <td>-0.016354</td>\n",
       "      <td>False</td>\n",
       "    </tr>\n",
       "    <tr>\n",
       "      <th>1</th>\n",
       "      <td>chr2</td>\n",
       "      <td>200357679</td>\n",
       "      <td>200357680</td>\n",
       "      <td>A</td>\n",
       "      <td>T</td>\n",
       "      <td>rs2033804</td>\n",
       "      <td>-0.396164</td>\n",
       "      <td>0.008075</td>\n",
       "      <td>0.009565</td>\n",
       "      <td>False</td>\n",
       "    </tr>\n",
       "    <tr>\n",
       "      <th>2</th>\n",
       "      <td>chr2</td>\n",
       "      <td>200656659</td>\n",
       "      <td>200656660</td>\n",
       "      <td>T</td>\n",
       "      <td>C</td>\n",
       "      <td>rs2287012</td>\n",
       "      <td>-0.498759</td>\n",
       "      <td>-0.003838</td>\n",
       "      <td>-0.004759</td>\n",
       "      <td>False</td>\n",
       "    </tr>\n",
       "    <tr>\n",
       "      <th>3</th>\n",
       "      <td>chr1</td>\n",
       "      <td>172585460</td>\n",
       "      <td>172585461</td>\n",
       "      <td>A</td>\n",
       "      <td>G</td>\n",
       "      <td>rs10752994</td>\n",
       "      <td>-1.070820</td>\n",
       "      <td>-0.005939</td>\n",
       "      <td>-0.004529</td>\n",
       "      <td>False</td>\n",
       "    </tr>\n",
       "    <tr>\n",
       "      <th>4</th>\n",
       "      <td>chr1</td>\n",
       "      <td>172625477</td>\n",
       "      <td>172625478</td>\n",
       "      <td>C</td>\n",
       "      <td>T</td>\n",
       "      <td>rs12123755</td>\n",
       "      <td>0.816922</td>\n",
       "      <td>0.441283</td>\n",
       "      <td>0.047415</td>\n",
       "      <td>True</td>\n",
       "    </tr>\n",
       "  </tbody>\n",
       "</table>\n",
       "</div>"
      ],
      "text/plain": [
       "  CHROM       POS0        POS non-effect_allele effect_allele Top_SNP_perPeak  \\\n",
       "0  chr2  199884842  199884843                 A             G        rs281785   \n",
       "1  chr2  200357679  200357680                 A             T       rs2033804   \n",
       "2  chr2  200656659  200656660                 T             C       rs2287012   \n",
       "3  chr1  172585460  172585461                 A             G      rs10752994   \n",
       "4  chr1  172625477  172625478                 C             T      rs12123755   \n",
       "\n",
       "       Beta  logfc.mean  sign.jsd.mean  IsUsed  \n",
       "0  1.293180   -0.032774      -0.016354   False  \n",
       "1 -0.396164    0.008075       0.009565   False  \n",
       "2 -0.498759   -0.003838      -0.004759   False  \n",
       "3 -1.070820   -0.005939      -0.004529   False  \n",
       "4  0.816922    0.441283       0.047415    True  "
      ]
     },
     "execution_count": 5,
     "metadata": {},
     "output_type": "execute_result"
    }
   ],
   "source": [
    "micros.head()\n"
   ]
  },
  {
   "cell_type": "code",
   "execution_count": 6,
   "metadata": {},
   "outputs": [
    {
     "data": {
      "text/plain": [
       "(4978, 10)"
      ]
     },
     "execution_count": 6,
     "metadata": {},
     "output_type": "execute_result"
    }
   ],
   "source": [
    "micros.shape"
   ]
  },
  {
   "cell_type": "code",
   "execution_count": 7,
   "metadata": {},
   "outputs": [],
   "source": [
    "micrs1 = micros[micros[\"IsUsed\"]]"
   ]
  },
  {
   "cell_type": "code",
   "execution_count": 8,
   "metadata": {},
   "outputs": [
    {
     "data": {
      "text/html": [
       "<div>\n",
       "<style scoped>\n",
       "    .dataframe tbody tr th:only-of-type {\n",
       "        vertical-align: middle;\n",
       "    }\n",
       "\n",
       "    .dataframe tbody tr th {\n",
       "        vertical-align: top;\n",
       "    }\n",
       "\n",
       "    .dataframe thead th {\n",
       "        text-align: right;\n",
       "    }\n",
       "</style>\n",
       "<table border=\"1\" class=\"dataframe\">\n",
       "  <thead>\n",
       "    <tr style=\"text-align: right;\">\n",
       "      <th></th>\n",
       "      <th>CHROM</th>\n",
       "      <th>POS0</th>\n",
       "      <th>POS</th>\n",
       "      <th>non-effect_allele</th>\n",
       "      <th>effect_allele</th>\n",
       "      <th>Top_SNP_perPeak</th>\n",
       "      <th>Beta</th>\n",
       "      <th>logfc.mean</th>\n",
       "      <th>sign.jsd.mean</th>\n",
       "      <th>IsUsed</th>\n",
       "    </tr>\n",
       "  </thead>\n",
       "  <tbody>\n",
       "    <tr>\n",
       "      <th>4</th>\n",
       "      <td>chr1</td>\n",
       "      <td>172625477</td>\n",
       "      <td>172625478</td>\n",
       "      <td>C</td>\n",
       "      <td>T</td>\n",
       "      <td>rs12123755</td>\n",
       "      <td>0.816922</td>\n",
       "      <td>0.441283</td>\n",
       "      <td>0.047415</td>\n",
       "      <td>True</td>\n",
       "    </tr>\n",
       "    <tr>\n",
       "      <th>5</th>\n",
       "      <td>chr2</td>\n",
       "      <td>201661642</td>\n",
       "      <td>201661643</td>\n",
       "      <td>G</td>\n",
       "      <td>A</td>\n",
       "      <td>rs62193397</td>\n",
       "      <td>0.913101</td>\n",
       "      <td>0.428027</td>\n",
       "      <td>0.032660</td>\n",
       "      <td>True</td>\n",
       "    </tr>\n",
       "    <tr>\n",
       "      <th>6</th>\n",
       "      <td>chr2</td>\n",
       "      <td>201661642</td>\n",
       "      <td>201661643</td>\n",
       "      <td>G</td>\n",
       "      <td>A</td>\n",
       "      <td>rs62193397</td>\n",
       "      <td>1.123280</td>\n",
       "      <td>0.428027</td>\n",
       "      <td>0.032660</td>\n",
       "      <td>True</td>\n",
       "    </tr>\n",
       "    <tr>\n",
       "      <th>14</th>\n",
       "      <td>chr2</td>\n",
       "      <td>205546600</td>\n",
       "      <td>205546601</td>\n",
       "      <td>C</td>\n",
       "      <td>G</td>\n",
       "      <td>rs6435287</td>\n",
       "      <td>0.572607</td>\n",
       "      <td>0.077947</td>\n",
       "      <td>0.009463</td>\n",
       "      <td>True</td>\n",
       "    </tr>\n",
       "    <tr>\n",
       "      <th>20</th>\n",
       "      <td>chr2</td>\n",
       "      <td>206246233</td>\n",
       "      <td>206246234</td>\n",
       "      <td>T</td>\n",
       "      <td>G</td>\n",
       "      <td>rs12373575</td>\n",
       "      <td>1.080930</td>\n",
       "      <td>0.189114</td>\n",
       "      <td>0.060282</td>\n",
       "      <td>True</td>\n",
       "    </tr>\n",
       "  </tbody>\n",
       "</table>\n",
       "</div>"
      ],
      "text/plain": [
       "   CHROM       POS0        POS non-effect_allele effect_allele  \\\n",
       "4   chr1  172625477  172625478                 C             T   \n",
       "5   chr2  201661642  201661643                 G             A   \n",
       "6   chr2  201661642  201661643                 G             A   \n",
       "14  chr2  205546600  205546601                 C             G   \n",
       "20  chr2  206246233  206246234                 T             G   \n",
       "\n",
       "   Top_SNP_perPeak      Beta  logfc.mean  sign.jsd.mean  IsUsed  \n",
       "4       rs12123755  0.816922    0.441283       0.047415    True  \n",
       "5       rs62193397  0.913101    0.428027       0.032660    True  \n",
       "6       rs62193397  1.123280    0.428027       0.032660    True  \n",
       "14       rs6435287  0.572607    0.077947       0.009463    True  \n",
       "20      rs12373575  1.080930    0.189114       0.060282    True  "
      ]
     },
     "execution_count": 8,
     "metadata": {},
     "output_type": "execute_result"
    }
   ],
   "source": [
    "micrs1.head()"
   ]
  },
  {
   "cell_type": "code",
   "execution_count": 9,
   "metadata": {},
   "outputs": [
    {
     "name": "stderr",
     "output_type": "stream",
     "text": [
      "/users/anusri/anaconda3/lib/python3.7/site-packages/ipykernel_launcher.py:1: SettingWithCopyWarning: \n",
      "A value is trying to be set on a copy of a slice from a DataFrame.\n",
      "Try using .loc[row_indexer,col_indexer] = value instead\n",
      "\n",
      "See the caveats in the documentation: https://pandas.pydata.org/pandas-docs/stable/user_guide/indexing.html#returning-a-view-versus-a-copy\n",
      "  \"\"\"Entry point for launching an IPython kernel.\n"
     ]
    }
   ],
   "source": [
    "micrs1[\"rsid\"] = micrs1[\"CHROM\"] + \"_\" + micrs1[\"POS\"].astype(str) + \"_\" + micrs1[\"non-effect_allele\"] + \"_\" + micrs1[\"effect_allele\"]"
   ]
  },
  {
   "cell_type": "code",
   "execution_count": 10,
   "metadata": {},
   "outputs": [
    {
     "data": {
      "text/plain": [
       "877"
      ]
     },
     "execution_count": 10,
     "metadata": {},
     "output_type": "execute_result"
    }
   ],
   "source": [
    "len(set(micrs1[\"rsid\"]))"
   ]
  },
  {
   "cell_type": "code",
   "execution_count": 11,
   "metadata": {},
   "outputs": [
    {
     "data": {
      "text/plain": [
       "(956,)"
      ]
     },
     "execution_count": 11,
     "metadata": {},
     "output_type": "execute_result"
    }
   ],
   "source": [
    "micrs1[\"rsid\"].shape"
   ]
  },
  {
   "cell_type": "code",
   "execution_count": 12,
   "metadata": {},
   "outputs": [
    {
     "data": {
      "text/html": [
       "<div>\n",
       "<style scoped>\n",
       "    .dataframe tbody tr th:only-of-type {\n",
       "        vertical-align: middle;\n",
       "    }\n",
       "\n",
       "    .dataframe tbody tr th {\n",
       "        vertical-align: top;\n",
       "    }\n",
       "\n",
       "    .dataframe thead th {\n",
       "        text-align: right;\n",
       "    }\n",
       "</style>\n",
       "<table border=\"1\" class=\"dataframe\">\n",
       "  <thead>\n",
       "    <tr style=\"text-align: right;\">\n",
       "      <th></th>\n",
       "      <th>CHROM</th>\n",
       "      <th>POS0</th>\n",
       "      <th>POS</th>\n",
       "      <th>non-effect_allele</th>\n",
       "      <th>effect_allele</th>\n",
       "      <th>Top_SNP_perPeak</th>\n",
       "      <th>Beta</th>\n",
       "      <th>logfc.mean</th>\n",
       "      <th>sign.jsd.mean</th>\n",
       "      <th>IsUsed</th>\n",
       "      <th>rsid</th>\n",
       "    </tr>\n",
       "  </thead>\n",
       "  <tbody>\n",
       "    <tr>\n",
       "      <th>4</th>\n",
       "      <td>chr1</td>\n",
       "      <td>172625477</td>\n",
       "      <td>172625478</td>\n",
       "      <td>C</td>\n",
       "      <td>T</td>\n",
       "      <td>rs12123755</td>\n",
       "      <td>0.816922</td>\n",
       "      <td>0.441283</td>\n",
       "      <td>0.047415</td>\n",
       "      <td>True</td>\n",
       "      <td>chr1_172625478_C_T</td>\n",
       "    </tr>\n",
       "    <tr>\n",
       "      <th>5</th>\n",
       "      <td>chr2</td>\n",
       "      <td>201661642</td>\n",
       "      <td>201661643</td>\n",
       "      <td>G</td>\n",
       "      <td>A</td>\n",
       "      <td>rs62193397</td>\n",
       "      <td>0.913101</td>\n",
       "      <td>0.428027</td>\n",
       "      <td>0.032660</td>\n",
       "      <td>True</td>\n",
       "      <td>chr2_201661643_G_A</td>\n",
       "    </tr>\n",
       "    <tr>\n",
       "      <th>6</th>\n",
       "      <td>chr2</td>\n",
       "      <td>201661642</td>\n",
       "      <td>201661643</td>\n",
       "      <td>G</td>\n",
       "      <td>A</td>\n",
       "      <td>rs62193397</td>\n",
       "      <td>1.123280</td>\n",
       "      <td>0.428027</td>\n",
       "      <td>0.032660</td>\n",
       "      <td>True</td>\n",
       "      <td>chr2_201661643_G_A</td>\n",
       "    </tr>\n",
       "    <tr>\n",
       "      <th>14</th>\n",
       "      <td>chr2</td>\n",
       "      <td>205546600</td>\n",
       "      <td>205546601</td>\n",
       "      <td>C</td>\n",
       "      <td>G</td>\n",
       "      <td>rs6435287</td>\n",
       "      <td>0.572607</td>\n",
       "      <td>0.077947</td>\n",
       "      <td>0.009463</td>\n",
       "      <td>True</td>\n",
       "      <td>chr2_205546601_C_G</td>\n",
       "    </tr>\n",
       "    <tr>\n",
       "      <th>20</th>\n",
       "      <td>chr2</td>\n",
       "      <td>206246233</td>\n",
       "      <td>206246234</td>\n",
       "      <td>T</td>\n",
       "      <td>G</td>\n",
       "      <td>rs12373575</td>\n",
       "      <td>1.080930</td>\n",
       "      <td>0.189114</td>\n",
       "      <td>0.060282</td>\n",
       "      <td>True</td>\n",
       "      <td>chr2_206246234_T_G</td>\n",
       "    </tr>\n",
       "  </tbody>\n",
       "</table>\n",
       "</div>"
      ],
      "text/plain": [
       "   CHROM       POS0        POS non-effect_allele effect_allele  \\\n",
       "4   chr1  172625477  172625478                 C             T   \n",
       "5   chr2  201661642  201661643                 G             A   \n",
       "6   chr2  201661642  201661643                 G             A   \n",
       "14  chr2  205546600  205546601                 C             G   \n",
       "20  chr2  206246233  206246234                 T             G   \n",
       "\n",
       "   Top_SNP_perPeak      Beta  logfc.mean  sign.jsd.mean  IsUsed  \\\n",
       "4       rs12123755  0.816922    0.441283       0.047415    True   \n",
       "5       rs62193397  0.913101    0.428027       0.032660    True   \n",
       "6       rs62193397  1.123280    0.428027       0.032660    True   \n",
       "14       rs6435287  0.572607    0.077947       0.009463    True   \n",
       "20      rs12373575  1.080930    0.189114       0.060282    True   \n",
       "\n",
       "                  rsid  \n",
       "4   chr1_172625478_C_T  \n",
       "5   chr2_201661643_G_A  \n",
       "6   chr2_201661643_G_A  \n",
       "14  chr2_205546601_C_G  \n",
       "20  chr2_206246234_T_G  "
      ]
     },
     "execution_count": 12,
     "metadata": {},
     "output_type": "execute_result"
    }
   ],
   "source": [
    "micrs1.head()"
   ]
  },
  {
   "cell_type": "code",
   "execution_count": 13,
   "metadata": {},
   "outputs": [
    {
     "name": "stderr",
     "output_type": "stream",
     "text": [
      "/users/anusri/anaconda3/lib/python3.7/site-packages/ipykernel_launcher.py:1: SettingWithCopyWarning: \n",
      "A value is trying to be set on a copy of a slice from a DataFrame.\n",
      "Try using .loc[row_indexer,col_indexer] = value instead\n",
      "\n",
      "See the caveats in the documentation: https://pandas.pydata.org/pandas-docs/stable/user_guide/indexing.html#returning-a-view-versus-a-copy\n",
      "  \"\"\"Entry point for launching an IPython kernel.\n"
     ]
    }
   ],
   "source": [
    "micrs1[\"abs_beta\"] = abs(micrs1[\"Beta\"])\n",
    "micros = micrs1.sort_values('abs_beta', ascending=False).drop_duplicates('rsid', keep=\"first\").sort_index()"
   ]
  },
  {
   "cell_type": "code",
   "execution_count": 14,
   "metadata": {},
   "outputs": [
    {
     "data": {
      "text/plain": [
       "(877, 12)"
      ]
     },
     "execution_count": 14,
     "metadata": {},
     "output_type": "execute_result"
    }
   ],
   "source": [
    "micros.shape"
   ]
  },
  {
   "cell_type": "code",
   "execution_count": null,
   "metadata": {},
   "outputs": [],
   "source": []
  },
  {
   "cell_type": "code",
   "execution_count": 15,
   "metadata": {},
   "outputs": [
    {
     "name": "stdout",
     "output_type": "stream",
     "text": [
      "(0.6020040820648366, 1.3726945418075504e-87)\n",
      "(0.2671265805109169, 8.546691741238511e-16)\n"
     ]
    },
    {
     "data": {
      "image/png": "[encoded data removed]",
      "text/plain": [
       "<Figure size 432x360 with 1 Axes>"
      ]
     },
     "metadata": {
      "needs_background": "light"
     },
     "output_type": "display_data"
    }
   ],
   "source": [
    "import matplotlib\n",
    "\n",
    "\n",
    "matplotlib.rcParams['pdf.fonttype'] = 42\n",
    "matplotlib.rcParams['ps.fonttype'] = 42 \n",
    "\n",
    "import matplotlib.pyplot as plt\n",
    "import seaborn as sns\n",
    "import scipy.stats\n",
    "import numpy as np\n",
    "\n",
    "data = pd.DataFrame()\n",
    "data[\"logfc.mean\"] = micros[micros[\"IsUsed\"]==True][\"logfc.mean\"]\n",
    "data[\"Beta\"] = micros[micros[\"IsUsed\"]==True][\"Beta\"]\n",
    "\n",
    "plt.figure(figsize=(6,5))\n",
    "\n",
    "sns.kdeplot(\n",
    "    data=data,\n",
    "    x=\"Beta\",\n",
    "    y=\"logfc.mean\",\n",
    "    levels=5,\n",
    "    fill=False,\n",
    "    alpha=0.2,\n",
    "    color=\"grey\",\n",
    "    cut=2,\n",
    "\n",
    ")\n",
    "\n",
    "\n",
    "ax = sns.scatterplot(x=\"Beta\", y=\"logfc.mean\", data=data, s=5, color=\"#2da5ad\")\n",
    "sns.regplot(x=\"Beta\", y=\"logfc.mean\", data=data, scatter=False, ci=None, color=\"#2da5ad\")\n",
    "ax.spines[[\"top\", \"right\"]].set_visible(False)\n",
    "\n",
    "values = []\n",
    "\n",
    "atc_pear = scipy.stats.pearsonr(data[\"logfc.mean\"],data[\"Beta\"])\n",
    "print(atc_pear)\n",
    "values.append(atc_pear[0])\n",
    "ax.set_title(\"Pearsonr = \"+str(np.round(atc_pear[0],2)))\n",
    "\n",
    "atc_pear = scipy.stats.pearsonr(abs(data[\"logfc.mean\"]),abs(data[\"Beta\"]))\n",
    "values.append(atc_pear[0])\n",
    "\n",
    "print(atc_pear)\n",
    "#ax.set_title(\"Pearsonr = \"+str(np.round(atc_pear[0],2)))\n",
    "#plt.savefig(\"subfigs/microglia_caqtls_scatter_plot.pdf\", transparent=True, dpi=300)\n"
   ]
  },
  {
   "cell_type": "code",
   "execution_count": 16,
   "metadata": {},
   "outputs": [
    {
     "name": "stdout",
     "output_type": "stream",
     "text": [
      "(0.6014727844621959, 2.1301181463727593e-87)\n",
      "(0.2569352071468207, 1.0909585816693852e-14)\n"
     ]
    },
    {
     "data": {
      "image/png": "[encoded data removed]",
      "text/plain": [
       "<Figure size 432x360 with 1 Axes>"
      ]
     },
     "metadata": {
      "needs_background": "light"
     },
     "output_type": "display_data"
    }
   ],
   "source": [
    "import matplotlib\n",
    "\n",
    "\n",
    "matplotlib.rcParams['pdf.fonttype'] = 42\n",
    "matplotlib.rcParams['ps.fonttype'] = 42 \n",
    "\n",
    "import matplotlib.pyplot as plt\n",
    "import seaborn as sns\n",
    "import scipy.stats\n",
    "import numpy as np\n",
    "\n",
    "data = pd.DataFrame()\n",
    "data[\"logfc.mean\"] = micros[micros[\"IsUsed\"]==True][\"sign.jsd.mean\"]\n",
    "data[\"Beta\"] = micros[micros[\"IsUsed\"]==True][\"Beta\"]\n",
    "\n",
    "plt.figure(figsize=(6,5))\n",
    "\n",
    "sns.kdeplot(\n",
    "    data=data,\n",
    "    x=\"Beta\",\n",
    "    y=\"logfc.mean\",\n",
    "    levels=5,\n",
    "    fill=False,\n",
    "    alpha=0.2,\n",
    "    color=\"grey\",\n",
    "    cut=2,\n",
    "\n",
    ")\n",
    "\n",
    "\n",
    "ax = sns.scatterplot(x=\"Beta\", y=\"logfc.mean\", data=data, s=5, color=\"#2da5ad\")\n",
    "sns.regplot(x=\"Beta\", y=\"logfc.mean\", data=data, scatter=False, ci=None, color=\"#2da5ad\")\n",
    "ax.spines[[\"top\", \"right\"]].set_visible(False)\n",
    "\n",
    "atc_pear = scipy.stats.pearsonr(data[\"logfc.mean\"],data[\"Beta\"])\n",
    "values.append(atc_pear[0])\n",
    "\n",
    "print(atc_pear)\n",
    "ax.set_title(\"Pearsonr = \"+str(np.round(atc_pear[0],2)))\n",
    "\n",
    "atc_pear = scipy.stats.pearsonr(abs(data[\"logfc.mean\"]),abs(data[\"Beta\"]))\n",
    "values.append(atc_pear[0])\n",
    "\n",
    "print(atc_pear)\n",
    "#ax.set_title(\"Pearsonr = \"+str(np.round(atc_pear[0],2)))\n",
    "#plt.savefig(\"subfigs/microglia_caqtls_scatter_plot.pdf\", transparent=True, dpi=300)\n"
   ]
  },
  {
   "cell_type": "code",
   "execution_count": 18,
   "metadata": {},
   "outputs": [],
   "source": [
    "import pandas as pd\n",
    "\n",
    "df = pd.DataFrame()\n",
    "\n",
    "\n",
    "values = []\n",
    "\n",
    "atac_pear = scipy.stats.pearsonr(micros[micros[\"IsUsed\"]==True][\"logfc.mean\"],micros[micros[\"IsUsed\"]==True][\"Beta\"])\n",
    "values.append(atac_pear[0])\n",
    "atac_pear = scipy.stats.pearsonr(micros[micros[\"IsUsed\"]==True][\"sign.jsd.mean\"],micros[micros[\"IsUsed\"]==True][\"Beta\"])\n",
    "values.append(atac_pear[0])\n",
    "atac_pear = scipy.stats.pearsonr(abs(micros[micros[\"IsUsed\"]==True][\"logfc.mean\"]),abs(micros[micros[\"IsUsed\"]==True][\"Beta\"]))\n",
    "values.append(atac_pear[0])\n",
    "atac_pear = scipy.stats.pearsonr(abs(micros[micros[\"IsUsed\"]==True][\"sign.jsd.mean\"]),abs(micros[micros[\"IsUsed\"]==True][\"Beta\"]))\n",
    "values.append(atac_pear[0])\n",
    "\n",
    "df[\"pearsonr\"] = values\n",
    "df[\"method\"] = [\"logfc-signed\", \"jsd-signed\",  \"logfc-unsigned\", \"jsd-unsigned\"]\n",
    "df[\"dtype\"] = [\"ATAC\"]*4"
   ]
  },
  {
   "cell_type": "code",
   "execution_count": 19,
   "metadata": {},
   "outputs": [
    {
     "name": "stdout",
     "output_type": "stream",
     "text": [
      "0    0.602004\n",
      "1    0.601473\n",
      "2    0.267127\n",
      "3    0.256935\n",
      "Name: pearsonr, dtype: float64\n"
     ]
    },
    {
     "data": {
      "text/plain": [
       "<matplotlib.legend.Legend at 0x7f9de9eb3f90>"
      ]
     },
     "execution_count": 19,
     "metadata": {},
     "output_type": "execute_result"
    },
    {
     "data": {
      "image/png": "[encoded data removed]",
      "text/plain": [
       "<Figure size 936x432 with 1 Axes>"
      ]
     },
     "metadata": {
      "needs_background": "light"
     },
     "output_type": "display_data"
    }
   ],
   "source": [
    "import seaborn as sns\n",
    "import matplotlib\n",
    "plt.figure(figsize=(13,6))\n",
    "\n",
    "matplotlib.rcParams['pdf.fonttype'] = 42\n",
    "matplotlib.rcParams['ps.fonttype'] = 42 \n",
    "print(df[\"pearsonr\"])\n",
    "ax = sns.barplot(data=df, x=\"dtype\", y=\"pearsonr\", hue=\"method\")\n",
    "xtix = [\"ChromBPNet ATAC\"]\n",
    "ax.set_xticklabels(labels=xtix, rotation=90)\n",
    "ax.spines[[\"top\", \"right\"]].set_visible(False)\n",
    "ax.legend(loc=\"upper right\")\n",
    "\n",
    "#plt.savefig(\"subfigs/microglia_caqtls_compare.pdf\", transparent=True, dpi=300)\n"
   ]
  },
  {
   "cell_type": "code",
   "execution_count": null,
   "metadata": {},
   "outputs": [],
   "source": []
  },
  {
   "cell_type": "code",
   "execution_count": 21,
   "metadata": {},
   "outputs": [
    {
     "name": "stdout",
     "output_type": "stream",
     "text": [
      "(877, 2)\n",
      "(0.6020040820648366, 1.3726945418075504e-87)\n",
      "(0.2671265805109169, 8.546691741238511e-16)\n"
     ]
    },
    {
     "data": {
      "image/png": "[encoded data removed]",
      "text/plain": [
       "<Figure size 432x360 with 1 Axes>"
      ]
     },
     "metadata": {
      "needs_background": "light"
     },
     "output_type": "display_data"
    }
   ],
   "source": [
    "import matplotlib\n",
    "\n",
    "\n",
    "matplotlib.rcParams['pdf.fonttype'] = 42\n",
    "matplotlib.rcParams['ps.fonttype'] = 42 \n",
    "\n",
    "import matplotlib.pyplot as plt\n",
    "import seaborn as sns\n",
    "import scipy.stats\n",
    "import numpy as np\n",
    "\n",
    "data = pd.DataFrame()\n",
    "data[\"logfc.mean\"] = micros[\"logfc.mean\"]\n",
    "data[\"Beta\"] = micros[\"Beta\"]\n",
    "\n",
    "plt.figure(figsize=(6,5))\n",
    "\n",
    "sns.kdeplot(\n",
    "    data=data,\n",
    "    x=\"Beta\",\n",
    "    y=\"logfc.mean\",\n",
    "    levels=5,\n",
    "    fill=False,\n",
    "    alpha=0.2,\n",
    "    color=\"grey\",\n",
    "    cut=2,\n",
    "\n",
    ")\n",
    "\n",
    "\n",
    "ax = sns.scatterplot(x=\"Beta\", y=\"logfc.mean\", data=data, s=15, color=\"green\")\n",
    "sns.regplot(x=\"Beta\", y=\"logfc.mean\", data=data, scatter=False, ci=None, color=\"green\")\n",
    "ax.spines[[\"top\", \"right\"]].set_visible(False)\n",
    "\n",
    "print(data.shape)\n",
    "atc_pear = scipy.stats.pearsonr(data[\"logfc.mean\"],data[\"Beta\"])\n",
    "print(atc_pear)\n",
    "ax.set_title(\"Pearsonr = \"+str(np.round(atc_pear[0],2)))\n",
    "\n",
    "atc_pear = scipy.stats.pearsonr(abs(data[\"logfc.mean\"]),abs(data[\"Beta\"]))\n",
    "print(atc_pear)\n",
    "#ax.set_title(\"Pearsonr = \"+str(np.round(atc_pear[0],2)))\n"
   ]
  },
  {
   "cell_type": "code",
   "execution_count": null,
   "metadata": {},
   "outputs": [],
   "source": []
  }
 ],
 "metadata": {
  "kernelspec": {
   "display_name": "Python 3",
   "language": "python",
   "name": "python3"
  },
  "language_info": {
   "codemirror_mode": {
    "name": "ipython",
    "version": 3
   },
   "file_extension": ".py",
   "mimetype": "text/x-python",
   "name": "python",
   "nbconvert_exporter": "python",
   "pygments_lexer": "ipython3",
   "version": "3.7.6"
  }
 },
 "nbformat": 4,
 "nbformat_minor": 4
}
