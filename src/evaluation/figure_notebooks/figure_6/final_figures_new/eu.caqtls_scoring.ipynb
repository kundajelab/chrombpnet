{
 "cells": [
  {
   "cell_type": "code",
   "execution_count": 1,
   "metadata": {},
   "outputs": [],
   "source": [
    "import pandas as pd"
   ]
  },
  {
   "cell_type": "code",
   "execution_count": null,
   "metadata": {},
   "outputs": [],
   "source": []
  },
  {
   "cell_type": "code",
   "execution_count": null,
   "metadata": {},
   "outputs": [],
   "source": []
  },
  {
   "cell_type": "code",
   "execution_count": 2,
   "metadata": {},
   "outputs": [],
   "source": [
    "caqtls = pd.read_csv(\"Eu.new.CaQTLS.tsv\", sep=\"\\t\", header=0)"
   ]
  },
  {
   "cell_type": "code",
   "execution_count": 63,
   "metadata": {},
   "outputs": [],
   "source": [
    "afrs = pd.read_csv(\"Afr.CaQTLS.new.tsv\", sep=\"\\t\", header=0)\n",
    "afrs = afrs[afrs[\"IsUsed\"]]"
   ]
  },
  {
   "cell_type": "code",
   "execution_count": 64,
   "metadata": {},
   "outputs": [
    {
     "data": {
      "text/plain": [
       "(177813, 4)"
      ]
     },
     "execution_count": 64,
     "metadata": {},
     "output_type": "execute_result"
    }
   ],
   "source": [
    "caqtls[[\"chr\", \"Pos\", \"Ref\", \"Alt\"]].drop_duplicates().shape"
   ]
  },
  {
   "cell_type": "code",
   "execution_count": 65,
   "metadata": {},
   "outputs": [
    {
     "data": {
      "text/plain": [
       "(226346, 28)"
      ]
     },
     "execution_count": 65,
     "metadata": {},
     "output_type": "execute_result"
    }
   ],
   "source": [
    "caqtls.shape"
   ]
  },
  {
   "cell_type": "code",
   "execution_count": 66,
   "metadata": {},
   "outputs": [],
   "source": [
    "# caqtls[caqtls[\"Inside_Peak\"]==2][[\"chr\", \"Pos\", \"Ref\", \"Alt\"]].drop_duplicates().shape"
   ]
  },
  {
   "cell_type": "code",
   "execution_count": 67,
   "metadata": {},
   "outputs": [],
   "source": [
    "# distal_effects = caqtls[caqtls[\"Inside_Peak\"]==2][[\"chr\", \"Pos\", \"Ref\", \"Alt\"]].drop_duplicates()[[\"chr\", \"Pos\", \"Ref\", \"Alt\"]]\n"
   ]
  },
  {
   "cell_type": "code",
   "execution_count": 68,
   "metadata": {},
   "outputs": [],
   "source": [
    "# distal_effects.head()"
   ]
  },
  {
   "cell_type": "code",
   "execution_count": 69,
   "metadata": {},
   "outputs": [],
   "source": [
    "# caqtls = caqtls[caqtls[\"IsUsed\"] & caqtls[\"Inside_Peak\"]==1]\n"
   ]
  },
  {
   "cell_type": "code",
   "execution_count": 70,
   "metadata": {},
   "outputs": [],
   "source": [
    "# caqtls.loc[:,[\"chr\", \"Pos\", \"Ref\", \"Alt\"]].isin(distal_effects[[\"chr\", \"Pos\", \"Ref\", \"Alt\"]])"
   ]
  },
  {
   "cell_type": "code",
   "execution_count": 71,
   "metadata": {},
   "outputs": [],
   "source": [
    "# import numpy as np\n",
    "# df = pd.merge(caqtls, distal_effects, on=[\"chr\", \"Pos\", \"Ref\", \"Alt\"], how='left', indicator='Exist')\n",
    "# df['Exist'] = np.where(df.Exist == 'both', True, False)"
   ]
  },
  {
   "cell_type": "code",
   "execution_count": 72,
   "metadata": {},
   "outputs": [],
   "source": [
    "#sum(df['Exist'])"
   ]
  },
  {
   "cell_type": "code",
   "execution_count": 73,
   "metadata": {},
   "outputs": [],
   "source": [
    "#df.shape"
   ]
  },
  {
   "cell_type": "code",
   "execution_count": 74,
   "metadata": {},
   "outputs": [
    {
     "data": {
      "text/plain": [
       "(226346, 28)"
      ]
     },
     "execution_count": 74,
     "metadata": {},
     "output_type": "execute_result"
    }
   ],
   "source": [
    "caqtls.shape"
   ]
  },
  {
   "cell_type": "code",
   "execution_count": null,
   "metadata": {},
   "outputs": [],
   "source": []
  },
  {
   "cell_type": "code",
   "execution_count": 75,
   "metadata": {},
   "outputs": [
    {
     "data": {
      "text/plain": [
       "(226346, 28)"
      ]
     },
     "execution_count": 75,
     "metadata": {},
     "output_type": "execute_result"
    }
   ],
   "source": [
    "caqtls.shape"
   ]
  },
  {
   "cell_type": "code",
   "execution_count": 76,
   "metadata": {},
   "outputs": [
    {
     "data": {
      "text/plain": [
       "(41153, 28)"
      ]
     },
     "execution_count": 76,
     "metadata": {},
     "output_type": "execute_result"
    }
   ],
   "source": [
    "caqtls[caqtls[\"Inside_Peak\"]==2].shape"
   ]
  },
  {
   "cell_type": "code",
   "execution_count": 77,
   "metadata": {},
   "outputs": [
    {
     "data": {
      "text/html": [
       "<div>\n",
       "<style scoped>\n",
       "    .dataframe tbody tr th:only-of-type {\n",
       "        vertical-align: middle;\n",
       "    }\n",
       "\n",
       "    .dataframe tbody tr th {\n",
       "        vertical-align: top;\n",
       "    }\n",
       "\n",
       "    .dataframe thead th {\n",
       "        text-align: right;\n",
       "    }\n",
       "</style>\n",
       "<table border=\"1\" class=\"dataframe\">\n",
       "  <thead>\n",
       "    <tr style=\"text-align: right;\">\n",
       "      <th></th>\n",
       "      <th>chr</th>\n",
       "      <th>Pos</th>\n",
       "      <th>Ref</th>\n",
       "      <th>Alt</th>\n",
       "      <th>RsID</th>\n",
       "      <th>Peak</th>\n",
       "      <th>AF</th>\n",
       "      <th>Inside_Peak</th>\n",
       "      <th>P_Lead</th>\n",
       "      <th>Beta</th>\n",
       "      <th>...</th>\n",
       "      <th>ENCSR637XSC.sub.50M.abs_logfc_x_jsd_x_max_percentile.mean</th>\n",
       "      <th>ENCSR637XSC.sub.50M.abs_logfc_x_jsd_x_max_percentile.mean.pval</th>\n",
       "      <th>ENCSR000EMT.logfc.mean</th>\n",
       "      <th>ENCSR000EMT.jsd_sign.mean</th>\n",
       "      <th>ENCSR000EMT.abs_logfc_x_jsd_x_max_percentile.mean</th>\n",
       "      <th>ENCSR000EMT.abs_logfc_x_jsd_x_max_percentile.mean.pval</th>\n",
       "      <th>enformer_recomputed</th>\n",
       "      <th>DNASE_SAD</th>\n",
       "      <th>DNASE_SAR</th>\n",
       "      <th>IsUsed</th>\n",
       "    </tr>\n",
       "  </thead>\n",
       "  <tbody>\n",
       "    <tr>\n",
       "      <th>0</th>\n",
       "      <td>chr1</td>\n",
       "      <td>875770</td>\n",
       "      <td>A</td>\n",
       "      <td>G</td>\n",
       "      <td>rs4970379</td>\n",
       "      <td>3</td>\n",
       "      <td>0.625</td>\n",
       "      <td>2</td>\n",
       "      <td>0.044994</td>\n",
       "      <td>0.155446</td>\n",
       "      <td>...</td>\n",
       "      <td>0.000367</td>\n",
       "      <td>0.121047</td>\n",
       "      <td>-0.018701</td>\n",
       "      <td>-0.013757</td>\n",
       "      <td>0.000165</td>\n",
       "      <td>0.505239</td>\n",
       "      <td>NaN</td>\n",
       "      <td>0.000178</td>\n",
       "      <td>0.000233</td>\n",
       "      <td>True</td>\n",
       "    </tr>\n",
       "    <tr>\n",
       "      <th>44</th>\n",
       "      <td>chr1</td>\n",
       "      <td>1186502</td>\n",
       "      <td>A</td>\n",
       "      <td>T</td>\n",
       "      <td>rs6603785</td>\n",
       "      <td>66</td>\n",
       "      <td>0.165</td>\n",
       "      <td>2</td>\n",
       "      <td>0.273108</td>\n",
       "      <td>0.074079</td>\n",
       "      <td>...</td>\n",
       "      <td>0.015608</td>\n",
       "      <td>0.002812</td>\n",
       "      <td>-0.613550</td>\n",
       "      <td>-0.059538</td>\n",
       "      <td>0.021172</td>\n",
       "      <td>0.333333</td>\n",
       "      <td>NaN</td>\n",
       "      <td>-0.006530</td>\n",
       "      <td>-0.007840</td>\n",
       "      <td>True</td>\n",
       "    </tr>\n",
       "    <tr>\n",
       "      <th>45</th>\n",
       "      <td>chr1</td>\n",
       "      <td>1186502</td>\n",
       "      <td>A</td>\n",
       "      <td>T</td>\n",
       "      <td>rs6603785</td>\n",
       "      <td>67</td>\n",
       "      <td>0.165</td>\n",
       "      <td>2</td>\n",
       "      <td>0.493991</td>\n",
       "      <td>-0.046797</td>\n",
       "      <td>...</td>\n",
       "      <td>0.015608</td>\n",
       "      <td>0.002812</td>\n",
       "      <td>-0.613550</td>\n",
       "      <td>-0.059538</td>\n",
       "      <td>0.021172</td>\n",
       "      <td>0.333333</td>\n",
       "      <td>NaN</td>\n",
       "      <td>-0.006530</td>\n",
       "      <td>-0.007840</td>\n",
       "      <td>True</td>\n",
       "    </tr>\n",
       "    <tr>\n",
       "      <th>84</th>\n",
       "      <td>chr1</td>\n",
       "      <td>1590681</td>\n",
       "      <td>G</td>\n",
       "      <td>A</td>\n",
       "      <td>rs9661500</td>\n",
       "      <td>125</td>\n",
       "      <td>0.655</td>\n",
       "      <td>2</td>\n",
       "      <td>0.082582</td>\n",
       "      <td>-0.023552</td>\n",
       "      <td>...</td>\n",
       "      <td>0.000077</td>\n",
       "      <td>0.249567</td>\n",
       "      <td>0.037795</td>\n",
       "      <td>0.024868</td>\n",
       "      <td>0.001097</td>\n",
       "      <td>0.333333</td>\n",
       "      <td>NaN</td>\n",
       "      <td>0.000106</td>\n",
       "      <td>0.000124</td>\n",
       "      <td>True</td>\n",
       "    </tr>\n",
       "    <tr>\n",
       "      <th>144</th>\n",
       "      <td>chr1</td>\n",
       "      <td>2508343</td>\n",
       "      <td>G</td>\n",
       "      <td>C</td>\n",
       "      <td>rs200553981</td>\n",
       "      <td>194</td>\n",
       "      <td>0.350</td>\n",
       "      <td>2</td>\n",
       "      <td>0.340515</td>\n",
       "      <td>0.017197</td>\n",
       "      <td>...</td>\n",
       "      <td>0.011033</td>\n",
       "      <td>0.004075</td>\n",
       "      <td>0.177735</td>\n",
       "      <td>0.039674</td>\n",
       "      <td>0.003995</td>\n",
       "      <td>0.333333</td>\n",
       "      <td>NaN</td>\n",
       "      <td>0.002804</td>\n",
       "      <td>0.003008</td>\n",
       "      <td>True</td>\n",
       "    </tr>\n",
       "  </tbody>\n",
       "</table>\n",
       "<p>5 rows × 28 columns</p>\n",
       "</div>"
      ],
      "text/plain": [
       "      chr      Pos Ref Alt         RsID  Peak     AF  Inside_Peak    P_Lead  \\\n",
       "0    chr1   875770   A   G    rs4970379     3  0.625            2  0.044994   \n",
       "44   chr1  1186502   A   T    rs6603785    66  0.165            2  0.273108   \n",
       "45   chr1  1186502   A   T    rs6603785    67  0.165            2  0.493991   \n",
       "84   chr1  1590681   G   A    rs9661500   125  0.655            2  0.082582   \n",
       "144  chr1  2508343   G   C  rs200553981   194  0.350            2  0.340515   \n",
       "\n",
       "         Beta  ...  ENCSR637XSC.sub.50M.abs_logfc_x_jsd_x_max_percentile.mean  \\\n",
       "0    0.155446  ...                                           0.000367           \n",
       "44   0.074079  ...                                           0.015608           \n",
       "45  -0.046797  ...                                           0.015608           \n",
       "84  -0.023552  ...                                           0.000077           \n",
       "144  0.017197  ...                                           0.011033           \n",
       "\n",
       "     ENCSR637XSC.sub.50M.abs_logfc_x_jsd_x_max_percentile.mean.pval  \\\n",
       "0                                             0.121047                \n",
       "44                                            0.002812                \n",
       "45                                            0.002812                \n",
       "84                                            0.249567                \n",
       "144                                           0.004075                \n",
       "\n",
       "     ENCSR000EMT.logfc.mean  ENCSR000EMT.jsd_sign.mean  \\\n",
       "0                 -0.018701                  -0.013757   \n",
       "44                -0.613550                  -0.059538   \n",
       "45                -0.613550                  -0.059538   \n",
       "84                 0.037795                   0.024868   \n",
       "144                0.177735                   0.039674   \n",
       "\n",
       "     ENCSR000EMT.abs_logfc_x_jsd_x_max_percentile.mean  \\\n",
       "0                                             0.000165   \n",
       "44                                            0.021172   \n",
       "45                                            0.021172   \n",
       "84                                            0.001097   \n",
       "144                                           0.003995   \n",
       "\n",
       "     ENCSR000EMT.abs_logfc_x_jsd_x_max_percentile.mean.pval  \\\n",
       "0                                             0.505239        \n",
       "44                                            0.333333        \n",
       "45                                            0.333333        \n",
       "84                                            0.333333        \n",
       "144                                           0.333333        \n",
       "\n",
       "     enformer_recomputed  DNASE_SAD  DNASE_SAR  IsUsed  \n",
       "0                    NaN   0.000178   0.000233    True  \n",
       "44                   NaN  -0.006530  -0.007840    True  \n",
       "45                   NaN  -0.006530  -0.007840    True  \n",
       "84                   NaN   0.000106   0.000124    True  \n",
       "144                  NaN   0.002804   0.003008    True  \n",
       "\n",
       "[5 rows x 28 columns]"
      ]
     },
     "execution_count": 77,
     "metadata": {},
     "output_type": "execute_result"
    }
   ],
   "source": [
    "caqtls[caqtls[\"Inside_Peak\"]==2].head()"
   ]
  },
  {
   "cell_type": "code",
   "execution_count": 78,
   "metadata": {},
   "outputs": [
    {
     "data": {
      "text/plain": [
       "array(['rs4970379', 'rs6603785', 'rs6603785', ..., 'rs138248257',\n",
       "       'rs138248257', 'rs138248257'], dtype=object)"
      ]
     },
     "execution_count": 78,
     "metadata": {},
     "output_type": "execute_result"
    }
   ],
   "source": [
    "caqtls[caqtls[\"Inside_Peak\"]==2][\"RsID\"].values"
   ]
  },
  {
   "cell_type": "code",
   "execution_count": 79,
   "metadata": {},
   "outputs": [
    {
     "data": {
      "text/plain": [
       "(41153, 28)"
      ]
     },
     "execution_count": 79,
     "metadata": {},
     "output_type": "execute_result"
    }
   ],
   "source": [
    "caqtls[caqtls[\"Inside_Peak\"]==2].shape"
   ]
  },
  {
   "cell_type": "code",
   "execution_count": null,
   "metadata": {},
   "outputs": [],
   "source": []
  },
  {
   "cell_type": "code",
   "execution_count": null,
   "metadata": {},
   "outputs": [],
   "source": []
  },
  {
   "cell_type": "code",
   "execution_count": null,
   "metadata": {},
   "outputs": [],
   "source": []
  },
  {
   "cell_type": "code",
   "execution_count": 97,
   "metadata": {},
   "outputs": [
    {
     "data": {
      "text/plain": [
       "5321"
      ]
     },
     "execution_count": 97,
     "metadata": {},
     "output_type": "execute_result"
    }
   ],
   "source": [
    "sum(caqtls[caqtls[\"Inside_Peak\"]==1][\"RsID\"].isin(caqtls[caqtls[\"Inside_Peak\"]==2][\"RsID\"].values))"
   ]
  },
  {
   "cell_type": "code",
   "execution_count": 81,
   "metadata": {},
   "outputs": [
    {
     "data": {
      "text/plain": [
       "0"
      ]
     },
     "execution_count": 81,
     "metadata": {},
     "output_type": "execute_result"
    }
   ],
   "source": [
    "sum(caqtls[caqtls[\"Inside_Peak\"]==1][\"RsID\"].isin(caqtls[caqtls[\"Log10_BF\"]==0][\"RsID\"].values))"
   ]
  },
  {
   "cell_type": "code",
   "execution_count": 148,
   "metadata": {},
   "outputs": [],
   "source": [
    "caqtls = pd.read_csv(\"Eu.new.CaQTLS.tsv\", sep=\"\\t\", header=0)\n"
   ]
  },
  {
   "cell_type": "code",
   "execution_count": 128,
   "metadata": {},
   "outputs": [],
   "source": [
    "distal_rsids = list(set(caqtls[(caqtls[\"Inside_Peak\"]==2) & (caqtls[\"Log10_BF\"]>-1)][\"RsID\"].values))\n"
   ]
  },
  {
   "cell_type": "code",
   "execution_count": 52,
   "metadata": {},
   "outputs": [
    {
     "data": {
      "text/plain": [
       "5787"
      ]
     },
     "execution_count": 52,
     "metadata": {},
     "output_type": "execute_result"
    }
   ],
   "source": [
    "len(distal_rsids)"
   ]
  },
  {
   "cell_type": "code",
   "execution_count": 53,
   "metadata": {},
   "outputs": [],
   "source": [
    "\n",
    "#distal_rsids = list(set(caqtls[(caqtls[\"Inside_Peak\"]==2)][\"RsID\"].values))"
   ]
  },
  {
   "cell_type": "code",
   "execution_count": 54,
   "metadata": {},
   "outputs": [
    {
     "data": {
      "text/plain": [
       "5787"
      ]
     },
     "execution_count": 54,
     "metadata": {},
     "output_type": "execute_result"
    }
   ],
   "source": [
    "len(distal_rsids)"
   ]
  },
  {
   "cell_type": "code",
   "execution_count": 149,
   "metadata": {},
   "outputs": [],
   "source": [
    "caqtls = caqtls[caqtls[\"IsUsed\"] & caqtls[\"Inside_Peak\"]==1]\n"
   ]
  },
  {
   "cell_type": "code",
   "execution_count": 57,
   "metadata": {},
   "outputs": [
    {
     "data": {
      "text/plain": [
       "2550"
      ]
     },
     "execution_count": 57,
     "metadata": {},
     "output_type": "execute_result"
    }
   ],
   "source": [
    "sum(caqtls[caqtls[\"Log10_BF\"]>3][\"RsID\"].isin(distal_rsids))"
   ]
  },
  {
   "cell_type": "code",
   "execution_count": 58,
   "metadata": {},
   "outputs": [
    {
     "data": {
      "text/plain": [
       "9851"
      ]
     },
     "execution_count": 58,
     "metadata": {},
     "output_type": "execute_result"
    }
   ],
   "source": [
    "len(set(caqtls[caqtls[\"Log10_BF\"]>3][\"RsID\"]))"
   ]
  },
  {
   "cell_type": "code",
   "execution_count": 59,
   "metadata": {},
   "outputs": [
    {
     "data": {
      "text/plain": [
       "2550"
      ]
     },
     "execution_count": 59,
     "metadata": {},
     "output_type": "execute_result"
    }
   ],
   "source": [
    "index = caqtls[caqtls[\"Log10_BF\"]>3][\"RsID\"].isin(distal_rsids)\n",
    "len(set(caqtls[caqtls[\"Log10_BF\"]>3][index][\"RsID\"]))"
   ]
  },
  {
   "cell_type": "code",
   "execution_count": 170,
   "metadata": {},
   "outputs": [],
   "source": [
    "caqtls1 = pd.concat([caqtls[caqtls[\"RsID\"].isin(distal_rsids)]]).drop_duplicates()\n",
    "caqtls2 = pd.concat([caqtls[~caqtls[\"RsID\"].isin(distal_rsids)]]).drop_duplicates()\n",
    "caqtls1 = caqtls1[caqtls1[\"Log10_BF\"]>3]\n",
    "caqtls2 = caqtls2[caqtls2[\"Log10_BF\"]>3]\n",
    "\n"
   ]
  },
  {
   "cell_type": "code",
   "execution_count": 171,
   "metadata": {},
   "outputs": [
    {
     "data": {
      "text/plain": [
       "(2550, 28)"
      ]
     },
     "execution_count": 171,
     "metadata": {},
     "output_type": "execute_result"
    }
   ],
   "source": [
    "caqtls1.shape\n"
   ]
  },
  {
   "cell_type": "code",
   "execution_count": 172,
   "metadata": {},
   "outputs": [
    {
     "data": {
      "text/plain": [
       "(7301, 28)"
      ]
     },
     "execution_count": 172,
     "metadata": {},
     "output_type": "execute_result"
    }
   ],
   "source": [
    "caqtls2.shape\n"
   ]
  },
  {
   "cell_type": "code",
   "execution_count": 212,
   "metadata": {},
   "outputs": [
    {
     "name": "stdout",
     "output_type": "stream",
     "text": [
      "3\n",
      "5\n",
      "7\n",
      "9\n",
      "11\n",
      "13\n",
      "15\n",
      "17\n",
      "19\n",
      "21\n"
     ]
    }
   ],
   "source": [
    "ths =[]\n",
    "num_set1 = []\n",
    "num_set2 = []\n",
    "for threshold in np.arange(3,23,2):\n",
    "    print(threshold)\n",
    "    ths.append(threshold)\n",
    "    #num_set1.append(caqtls1[caqtls1[\"Log10_BF\"]>threshold].shape[0])\n",
    "    #num_set2.append(caqtls2[caqtls2[\"Log10_BF\"]>threshold].shape[0])\n",
    "    \n",
    "    num_set1.append(pearsonr(caqtls1[caqtls1[\"Log10_BF\"]>threshold]['Beta'], caqtls1[caqtls1[\"Log10_BF\"]>threshold]['ENCSR637XSC.logfc.mean']*1)[0])\n",
    "    num_set2.append(pearsonr(caqtls2[caqtls2[\"Log10_BF\"]>threshold]['Beta'], caqtls2[caqtls2[\"Log10_BF\"]>threshold]['ENCSR637XSC.logfc.mean']*1)[0])\n",
    "#    num_set1.append(pearsonr(abs(caqtls1[caqtls1[\"Log10_BF\"]>threshold]['Beta']), abs(caqtls1[caqtls1[\"Log10_BF\"]>threshold]['ENCSR637XSC.logfc.mean']))[0])\n",
    "#    num_set2.append(pearsonr(abs(caqtls2[caqtls2[\"Log10_BF\"]>threshold]['Beta']), abs(caqtls2[caqtls2[\"Log10_BF\"]>threshold]['ENCSR637XSC.logfc.mean']))[0])\n",
    "    "
   ]
  },
  {
   "cell_type": "code",
   "execution_count": 213,
   "metadata": {},
   "outputs": [],
   "source": [
    "#num_set1"
   ]
  },
  {
   "cell_type": "code",
   "execution_count": 214,
   "metadata": {},
   "outputs": [
    {
     "data": {
      "text/plain": [
       "<matplotlib.legend.Legend at 0x7ff8141b3850>"
      ]
     },
     "execution_count": 214,
     "metadata": {},
     "output_type": "execute_result"
    },
    {
     "data": {
      "image/png": "[encoded data removed]",
      "text/plain": [
       "<Figure size 432x288 with 1 Axes>"
      ]
     },
     "metadata": {
      "needs_background": "light"
     },
     "output_type": "display_data"
    }
   ],
   "source": [
    "plt.scatter(ths, num_set1, label=\"set 2\")\n",
    "plt.scatter(ths, num_set2, label=\"set 1\")\n",
    "plt.xlabel(\"inc significance threshold\")\n",
    "#plt.ylabel(\"total significant variants at a threshold\")\n",
    "plt.ylabel(\"unsigned Pearsonr (observed vs ChromBPNet)\")\n",
    "plt.legend()"
   ]
  },
  {
   "cell_type": "code",
   "execution_count": null,
   "metadata": {},
   "outputs": [],
   "source": []
  },
  {
   "cell_type": "code",
   "execution_count": null,
   "metadata": {},
   "outputs": [],
   "source": []
  },
  {
   "cell_type": "code",
   "execution_count": null,
   "metadata": {},
   "outputs": [],
   "source": []
  },
  {
   "cell_type": "code",
   "execution_count": 109,
   "metadata": {},
   "outputs": [
    {
     "data": {
      "text/plain": [
       "9851"
      ]
     },
     "execution_count": 109,
     "metadata": {},
     "output_type": "execute_result"
    }
   ],
   "source": [
    "7301+2550"
   ]
  },
  {
   "cell_type": "code",
   "execution_count": null,
   "metadata": {},
   "outputs": [],
   "source": []
  },
  {
   "cell_type": "code",
   "execution_count": 71,
   "metadata": {},
   "outputs": [],
   "source": [
    "import matplotlib.pyplot as plt"
   ]
  },
  {
   "cell_type": "code",
   "execution_count": 72,
   "metadata": {},
   "outputs": [
    {
     "data": {
      "text/html": [
       "<div>\n",
       "<style scoped>\n",
       "    .dataframe tbody tr th:only-of-type {\n",
       "        vertical-align: middle;\n",
       "    }\n",
       "\n",
       "    .dataframe tbody tr th {\n",
       "        vertical-align: top;\n",
       "    }\n",
       "\n",
       "    .dataframe thead th {\n",
       "        text-align: right;\n",
       "    }\n",
       "</style>\n",
       "<table border=\"1\" class=\"dataframe\">\n",
       "  <thead>\n",
       "    <tr style=\"text-align: right;\">\n",
       "      <th></th>\n",
       "      <th>chr</th>\n",
       "      <th>Pos</th>\n",
       "      <th>Ref</th>\n",
       "      <th>Alt</th>\n",
       "      <th>RsID</th>\n",
       "      <th>Peak</th>\n",
       "      <th>AF</th>\n",
       "      <th>Inside_Peak</th>\n",
       "      <th>P_Lead</th>\n",
       "      <th>Beta</th>\n",
       "      <th>...</th>\n",
       "      <th>ENCSR637XSC.sub.50M.abs_logfc_x_jsd_x_max_percentile.mean</th>\n",
       "      <th>ENCSR637XSC.sub.50M.abs_logfc_x_jsd_x_max_percentile.mean.pval</th>\n",
       "      <th>ENCSR000EMT.logfc.mean</th>\n",
       "      <th>ENCSR000EMT.jsd_sign.mean</th>\n",
       "      <th>ENCSR000EMT.abs_logfc_x_jsd_x_max_percentile.mean</th>\n",
       "      <th>ENCSR000EMT.abs_logfc_x_jsd_x_max_percentile.mean.pval</th>\n",
       "      <th>enformer_recomputed</th>\n",
       "      <th>DNASE_SAD</th>\n",
       "      <th>DNASE_SAR</th>\n",
       "      <th>IsUsed</th>\n",
       "    </tr>\n",
       "  </thead>\n",
       "  <tbody>\n",
       "    <tr>\n",
       "      <th>56</th>\n",
       "      <td>chr1</td>\n",
       "      <td>1186502</td>\n",
       "      <td>A</td>\n",
       "      <td>T</td>\n",
       "      <td>rs6603785</td>\n",
       "      <td>84</td>\n",
       "      <td>0.16500</td>\n",
       "      <td>1</td>\n",
       "      <td>0.995510</td>\n",
       "      <td>-0.406159</td>\n",
       "      <td>...</td>\n",
       "      <td>1.560834e-02</td>\n",
       "      <td>0.002812</td>\n",
       "      <td>-0.613550</td>\n",
       "      <td>-0.059538</td>\n",
       "      <td>0.021172</td>\n",
       "      <td>0.333333</td>\n",
       "      <td>0.955810</td>\n",
       "      <td>-6.530000e-03</td>\n",
       "      <td>-7.840000e-03</td>\n",
       "      <td>True</td>\n",
       "    </tr>\n",
       "    <tr>\n",
       "      <th>162</th>\n",
       "      <td>chr1</td>\n",
       "      <td>2508343</td>\n",
       "      <td>G</td>\n",
       "      <td>C</td>\n",
       "      <td>rs200553981</td>\n",
       "      <td>213</td>\n",
       "      <td>0.35000</td>\n",
       "      <td>1</td>\n",
       "      <td>0.999924</td>\n",
       "      <td>0.226942</td>\n",
       "      <td>...</td>\n",
       "      <td>1.103318e-02</td>\n",
       "      <td>0.004075</td>\n",
       "      <td>0.177735</td>\n",
       "      <td>0.039674</td>\n",
       "      <td>0.003995</td>\n",
       "      <td>0.333333</td>\n",
       "      <td>-0.182859</td>\n",
       "      <td>2.804000e-03</td>\n",
       "      <td>3.008000e-03</td>\n",
       "      <td>True</td>\n",
       "    </tr>\n",
       "    <tr>\n",
       "      <th>173</th>\n",
       "      <td>chr1</td>\n",
       "      <td>2615134</td>\n",
       "      <td>C</td>\n",
       "      <td>G</td>\n",
       "      <td>rs78125432</td>\n",
       "      <td>223</td>\n",
       "      <td>0.31310</td>\n",
       "      <td>1</td>\n",
       "      <td>0.366991</td>\n",
       "      <td>0.704901</td>\n",
       "      <td>...</td>\n",
       "      <td>7.490562e-07</td>\n",
       "      <td>0.816993</td>\n",
       "      <td>0.042428</td>\n",
       "      <td>0.014587</td>\n",
       "      <td>0.000017</td>\n",
       "      <td>0.580367</td>\n",
       "      <td>0.001052</td>\n",
       "      <td>-3.600000e-07</td>\n",
       "      <td>-5.000000e-07</td>\n",
       "      <td>True</td>\n",
       "    </tr>\n",
       "    <tr>\n",
       "      <th>218</th>\n",
       "      <td>chr1</td>\n",
       "      <td>3820005</td>\n",
       "      <td>G</td>\n",
       "      <td>A</td>\n",
       "      <td>rs10909828</td>\n",
       "      <td>277</td>\n",
       "      <td>0.34500</td>\n",
       "      <td>1</td>\n",
       "      <td>0.999966</td>\n",
       "      <td>-0.654595</td>\n",
       "      <td>...</td>\n",
       "      <td>4.141986e-02</td>\n",
       "      <td>0.000489</td>\n",
       "      <td>-0.618973</td>\n",
       "      <td>-0.086568</td>\n",
       "      <td>0.024578</td>\n",
       "      <td>0.333333</td>\n",
       "      <td>0.094186</td>\n",
       "      <td>-3.593000e-04</td>\n",
       "      <td>-4.478000e-04</td>\n",
       "      <td>True</td>\n",
       "    </tr>\n",
       "    <tr>\n",
       "      <th>226</th>\n",
       "      <td>chr1</td>\n",
       "      <td>4327635</td>\n",
       "      <td>C</td>\n",
       "      <td>T</td>\n",
       "      <td>rs2101576</td>\n",
       "      <td>286</td>\n",
       "      <td>0.55000</td>\n",
       "      <td>1</td>\n",
       "      <td>0.999782</td>\n",
       "      <td>-0.666789</td>\n",
       "      <td>...</td>\n",
       "      <td>2.266398e-02</td>\n",
       "      <td>0.001471</td>\n",
       "      <td>-0.689615</td>\n",
       "      <td>-0.048458</td>\n",
       "      <td>0.024916</td>\n",
       "      <td>0.333333</td>\n",
       "      <td>0.810135</td>\n",
       "      <td>-3.294000e-03</td>\n",
       "      <td>-4.560000e-03</td>\n",
       "      <td>True</td>\n",
       "    </tr>\n",
       "    <tr>\n",
       "      <th>...</th>\n",
       "      <td>...</td>\n",
       "      <td>...</td>\n",
       "      <td>...</td>\n",
       "      <td>...</td>\n",
       "      <td>...</td>\n",
       "      <td>...</td>\n",
       "      <td>...</td>\n",
       "      <td>...</td>\n",
       "      <td>...</td>\n",
       "      <td>...</td>\n",
       "      <td>...</td>\n",
       "      <td>...</td>\n",
       "      <td>...</td>\n",
       "      <td>...</td>\n",
       "      <td>...</td>\n",
       "      <td>...</td>\n",
       "      <td>...</td>\n",
       "      <td>...</td>\n",
       "      <td>...</td>\n",
       "      <td>...</td>\n",
       "      <td>...</td>\n",
       "    </tr>\n",
       "    <tr>\n",
       "      <th>225992</th>\n",
       "      <td>chr22</td>\n",
       "      <td>42925131</td>\n",
       "      <td>A</td>\n",
       "      <td>G</td>\n",
       "      <td>rs2413698</td>\n",
       "      <td>276699</td>\n",
       "      <td>0.78985</td>\n",
       "      <td>1</td>\n",
       "      <td>0.999988</td>\n",
       "      <td>-1.477181</td>\n",
       "      <td>...</td>\n",
       "      <td>1.059423e-01</td>\n",
       "      <td>0.000049</td>\n",
       "      <td>-0.870185</td>\n",
       "      <td>-0.141672</td>\n",
       "      <td>0.049538</td>\n",
       "      <td>0.333333</td>\n",
       "      <td>1.248557</td>\n",
       "      <td>-8.030000e-03</td>\n",
       "      <td>-9.970000e-03</td>\n",
       "      <td>True</td>\n",
       "    </tr>\n",
       "    <tr>\n",
       "      <th>226103</th>\n",
       "      <td>chr22</td>\n",
       "      <td>44845516</td>\n",
       "      <td>T</td>\n",
       "      <td>C</td>\n",
       "      <td>rs133770</td>\n",
       "      <td>276841</td>\n",
       "      <td>0.45500</td>\n",
       "      <td>1</td>\n",
       "      <td>0.297393</td>\n",
       "      <td>-0.395199</td>\n",
       "      <td>...</td>\n",
       "      <td>8.842590e-03</td>\n",
       "      <td>0.005253</td>\n",
       "      <td>-0.337324</td>\n",
       "      <td>-0.043263</td>\n",
       "      <td>0.008894</td>\n",
       "      <td>0.333333</td>\n",
       "      <td>0.376536</td>\n",
       "      <td>-2.384000e-03</td>\n",
       "      <td>-3.248000e-03</td>\n",
       "      <td>True</td>\n",
       "    </tr>\n",
       "    <tr>\n",
       "      <th>226135</th>\n",
       "      <td>chr22</td>\n",
       "      <td>45642907</td>\n",
       "      <td>T</td>\n",
       "      <td>C</td>\n",
       "      <td>rs6006956</td>\n",
       "      <td>276879</td>\n",
       "      <td>0.50000</td>\n",
       "      <td>1</td>\n",
       "      <td>0.748201</td>\n",
       "      <td>0.619708</td>\n",
       "      <td>...</td>\n",
       "      <td>1.322327e-02</td>\n",
       "      <td>0.003211</td>\n",
       "      <td>0.437278</td>\n",
       "      <td>0.067900</td>\n",
       "      <td>0.017931</td>\n",
       "      <td>0.333333</td>\n",
       "      <td>-0.549798</td>\n",
       "      <td>6.200000e-03</td>\n",
       "      <td>7.607000e-03</td>\n",
       "      <td>True</td>\n",
       "    </tr>\n",
       "    <tr>\n",
       "      <th>226225</th>\n",
       "      <td>chr22</td>\n",
       "      <td>48314463</td>\n",
       "      <td>G</td>\n",
       "      <td>A</td>\n",
       "      <td>rs5768156</td>\n",
       "      <td>276995</td>\n",
       "      <td>0.41000</td>\n",
       "      <td>1</td>\n",
       "      <td>1.000000</td>\n",
       "      <td>1.627204</td>\n",
       "      <td>...</td>\n",
       "      <td>1.164257e-02</td>\n",
       "      <td>0.004596</td>\n",
       "      <td>0.327306</td>\n",
       "      <td>0.043628</td>\n",
       "      <td>0.009750</td>\n",
       "      <td>0.333333</td>\n",
       "      <td>-0.280423</td>\n",
       "      <td>2.985000e-03</td>\n",
       "      <td>4.097000e-03</td>\n",
       "      <td>True</td>\n",
       "    </tr>\n",
       "    <tr>\n",
       "      <th>226274</th>\n",
       "      <td>chr22</td>\n",
       "      <td>50339008</td>\n",
       "      <td>C</td>\n",
       "      <td>T</td>\n",
       "      <td>rs138248257</td>\n",
       "      <td>277045</td>\n",
       "      <td>0.14000</td>\n",
       "      <td>1</td>\n",
       "      <td>0.430608</td>\n",
       "      <td>1.429469</td>\n",
       "      <td>...</td>\n",
       "      <td>1.167279e-03</td>\n",
       "      <td>0.040831</td>\n",
       "      <td>0.054643</td>\n",
       "      <td>0.024913</td>\n",
       "      <td>0.001414</td>\n",
       "      <td>0.382899</td>\n",
       "      <td>-0.180623</td>\n",
       "      <td>1.306000e-03</td>\n",
       "      <td>1.501000e-03</td>\n",
       "      <td>True</td>\n",
       "    </tr>\n",
       "  </tbody>\n",
       "</table>\n",
       "<p>2550 rows × 28 columns</p>\n",
       "</div>"
      ],
      "text/plain": [
       "          chr       Pos Ref Alt         RsID    Peak       AF  Inside_Peak  \\\n",
       "56       chr1   1186502   A   T    rs6603785      84  0.16500            1   \n",
       "162      chr1   2508343   G   C  rs200553981     213  0.35000            1   \n",
       "173      chr1   2615134   C   G   rs78125432     223  0.31310            1   \n",
       "218      chr1   3820005   G   A   rs10909828     277  0.34500            1   \n",
       "226      chr1   4327635   C   T    rs2101576     286  0.55000            1   \n",
       "...       ...       ...  ..  ..          ...     ...      ...          ...   \n",
       "225992  chr22  42925131   A   G    rs2413698  276699  0.78985            1   \n",
       "226103  chr22  44845516   T   C     rs133770  276841  0.45500            1   \n",
       "226135  chr22  45642907   T   C    rs6006956  276879  0.50000            1   \n",
       "226225  chr22  48314463   G   A    rs5768156  276995  0.41000            1   \n",
       "226274  chr22  50339008   C   T  rs138248257  277045  0.14000            1   \n",
       "\n",
       "          P_Lead      Beta  ...  \\\n",
       "56      0.995510 -0.406159  ...   \n",
       "162     0.999924  0.226942  ...   \n",
       "173     0.366991  0.704901  ...   \n",
       "218     0.999966 -0.654595  ...   \n",
       "226     0.999782 -0.666789  ...   \n",
       "...          ...       ...  ...   \n",
       "225992  0.999988 -1.477181  ...   \n",
       "226103  0.297393 -0.395199  ...   \n",
       "226135  0.748201  0.619708  ...   \n",
       "226225  1.000000  1.627204  ...   \n",
       "226274  0.430608  1.429469  ...   \n",
       "\n",
       "        ENCSR637XSC.sub.50M.abs_logfc_x_jsd_x_max_percentile.mean  \\\n",
       "56                                           1.560834e-02           \n",
       "162                                          1.103318e-02           \n",
       "173                                          7.490562e-07           \n",
       "218                                          4.141986e-02           \n",
       "226                                          2.266398e-02           \n",
       "...                                                   ...           \n",
       "225992                                       1.059423e-01           \n",
       "226103                                       8.842590e-03           \n",
       "226135                                       1.322327e-02           \n",
       "226225                                       1.164257e-02           \n",
       "226274                                       1.167279e-03           \n",
       "\n",
       "        ENCSR637XSC.sub.50M.abs_logfc_x_jsd_x_max_percentile.mean.pval  \\\n",
       "56                                               0.002812                \n",
       "162                                              0.004075                \n",
       "173                                              0.816993                \n",
       "218                                              0.000489                \n",
       "226                                              0.001471                \n",
       "...                                                   ...                \n",
       "225992                                           0.000049                \n",
       "226103                                           0.005253                \n",
       "226135                                           0.003211                \n",
       "226225                                           0.004596                \n",
       "226274                                           0.040831                \n",
       "\n",
       "        ENCSR000EMT.logfc.mean  ENCSR000EMT.jsd_sign.mean  \\\n",
       "56                   -0.613550                  -0.059538   \n",
       "162                   0.177735                   0.039674   \n",
       "173                   0.042428                   0.014587   \n",
       "218                  -0.618973                  -0.086568   \n",
       "226                  -0.689615                  -0.048458   \n",
       "...                        ...                        ...   \n",
       "225992               -0.870185                  -0.141672   \n",
       "226103               -0.337324                  -0.043263   \n",
       "226135                0.437278                   0.067900   \n",
       "226225                0.327306                   0.043628   \n",
       "226274                0.054643                   0.024913   \n",
       "\n",
       "        ENCSR000EMT.abs_logfc_x_jsd_x_max_percentile.mean  \\\n",
       "56                                               0.021172   \n",
       "162                                              0.003995   \n",
       "173                                              0.000017   \n",
       "218                                              0.024578   \n",
       "226                                              0.024916   \n",
       "...                                                   ...   \n",
       "225992                                           0.049538   \n",
       "226103                                           0.008894   \n",
       "226135                                           0.017931   \n",
       "226225                                           0.009750   \n",
       "226274                                           0.001414   \n",
       "\n",
       "        ENCSR000EMT.abs_logfc_x_jsd_x_max_percentile.mean.pval  \\\n",
       "56                                               0.333333        \n",
       "162                                              0.333333        \n",
       "173                                              0.580367        \n",
       "218                                              0.333333        \n",
       "226                                              0.333333        \n",
       "...                                                   ...        \n",
       "225992                                           0.333333        \n",
       "226103                                           0.333333        \n",
       "226135                                           0.333333        \n",
       "226225                                           0.333333        \n",
       "226274                                           0.382899        \n",
       "\n",
       "        enformer_recomputed     DNASE_SAD     DNASE_SAR  IsUsed  \n",
       "56                 0.955810 -6.530000e-03 -7.840000e-03    True  \n",
       "162               -0.182859  2.804000e-03  3.008000e-03    True  \n",
       "173                0.001052 -3.600000e-07 -5.000000e-07    True  \n",
       "218                0.094186 -3.593000e-04 -4.478000e-04    True  \n",
       "226                0.810135 -3.294000e-03 -4.560000e-03    True  \n",
       "...                     ...           ...           ...     ...  \n",
       "225992             1.248557 -8.030000e-03 -9.970000e-03    True  \n",
       "226103             0.376536 -2.384000e-03 -3.248000e-03    True  \n",
       "226135            -0.549798  6.200000e-03  7.607000e-03    True  \n",
       "226225            -0.280423  2.985000e-03  4.097000e-03    True  \n",
       "226274            -0.180623  1.306000e-03  1.501000e-03    True  \n",
       "\n",
       "[2550 rows x 28 columns]"
      ]
     },
     "execution_count": 72,
     "metadata": {},
     "output_type": "execute_result"
    }
   ],
   "source": [
    "caqtls1"
   ]
  },
  {
   "cell_type": "code",
   "execution_count": 78,
   "metadata": {},
   "outputs": [],
   "source": [
    "from scipy.stats import pearsonr\n"
   ]
  },
  {
   "cell_type": "code",
   "execution_count": 153,
   "metadata": {},
   "outputs": [
    {
     "data": {
      "text/plain": [
       "(0.31340149962392755, 3.155029122286477e-59)"
      ]
     },
     "execution_count": 153,
     "metadata": {},
     "output_type": "execute_result"
    }
   ],
   "source": [
    "pearsonr(abs(caqtls1['Beta']), abs(caqtls1['enformer_recomputed']))"
   ]
  },
  {
   "cell_type": "code",
   "execution_count": 154,
   "metadata": {},
   "outputs": [
    {
     "data": {
      "text/plain": [
       "(0.19695670888399872, 2.1534071315904045e-24)"
      ]
     },
     "execution_count": 154,
     "metadata": {},
     "output_type": "execute_result"
    }
   ],
   "source": [
    "pearsonr(abs(caqtls2['Beta']), abs(caqtls2['enformer_recomputed']))"
   ]
  },
  {
   "cell_type": "code",
   "execution_count": 155,
   "metadata": {},
   "outputs": [
    {
     "data": {
      "text/plain": [
       "(0.25434669792692144, 4.444001061181763e-40)"
      ]
     },
     "execution_count": 155,
     "metadata": {},
     "output_type": "execute_result"
    }
   ],
   "source": [
    "pearsonr(abs(caqtls2['Beta']), abs(caqtls2['ENCSR637XSC.logfc.mean']))"
   ]
  },
  {
   "cell_type": "code",
   "execution_count": 156,
   "metadata": {},
   "outputs": [
    {
     "data": {
      "text/plain": [
       "(0.383422273233087, 4.315239001906426e-90)"
      ]
     },
     "execution_count": 156,
     "metadata": {},
     "output_type": "execute_result"
    }
   ],
   "source": [
    "pearsonr(abs(caqtls1['Beta']), abs(caqtls1['ENCSR637XSC.logfc.mean']))"
   ]
  },
  {
   "cell_type": "code",
   "execution_count": 169,
   "metadata": {},
   "outputs": [
    {
     "data": {
      "text/plain": [
       "<matplotlib.collections.PathCollection at 0x7ff813916690>"
      ]
     },
     "execution_count": 169,
     "metadata": {},
     "output_type": "execute_result"
    },
    {
     "data": {
      "image/png": "[encoded data removed]",
      "text/plain": [
       "<Figure size 432x288 with 1 Axes>"
      ]
     },
     "metadata": {
      "needs_background": "light"
     },
     "output_type": "display_data"
    }
   ],
   "source": [
    "plt.scatter(abs(caqtls1['Beta']), abs(caqtls1['ENCSR637XSC.logfc.mean']), s=1, c='r')\n",
    "plt.scatter(abs(caqtls2['Beta']), abs(caqtls2['ENCSR637XSC.logfc.mean']), s=1)\n"
   ]
  },
  {
   "cell_type": "code",
   "execution_count": null,
   "metadata": {},
   "outputs": [],
   "source": []
  },
  {
   "cell_type": "code",
   "execution_count": 126,
   "metadata": {},
   "outputs": [
    {
     "data": {
      "text/plain": [
       "Text(0.5, 0, 'observed Beta')"
      ]
     },
     "execution_count": 126,
     "metadata": {},
     "output_type": "execute_result"
    },
    {
     "data": {
      "image/png": "[encoded data removed]",
      "text/plain": [
       "<Figure size 432x288 with 1 Axes>"
      ]
     },
     "metadata": {
      "needs_background": "light"
     },
     "output_type": "display_data"
    }
   ],
   "source": [
    "plt.hist(abs(caqtls1['Beta']),50, alpha=1, density=True, histtype=\"step\", cumulative=True, label=\"set 2\")\n",
    "plt.hist(abs(caqtls2['Beta']),50, alpha=1, density=True, histtype=\"step\", cumulative=True, label=\"set 1\")\n",
    "plt.legend()\n",
    "plt.xlabel(\"observed Beta\")"
   ]
  },
  {
   "cell_type": "code",
   "execution_count": null,
   "metadata": {},
   "outputs": [],
   "source": []
  },
  {
   "cell_type": "code",
   "execution_count": 62,
   "metadata": {},
   "outputs": [
    {
     "data": {
      "text/plain": [
       "(11947, 28)"
      ]
     },
     "execution_count": 62,
     "metadata": {},
     "output_type": "execute_result"
    }
   ],
   "source": [
    "caqtls1.shape"
   ]
  },
  {
   "cell_type": "code",
   "execution_count": null,
   "metadata": {},
   "outputs": [],
   "source": []
  },
  {
   "cell_type": "code",
   "execution_count": null,
   "metadata": {},
   "outputs": [],
   "source": []
  },
  {
   "cell_type": "code",
   "execution_count": 130,
   "metadata": {},
   "outputs": [],
   "source": [
    "import numpy as np\n",
    "\n",
    "\n",
    "#caqtls[(caqtls[\"Inside_Peak\"]==2) & (caqtls[\"Log10_BF\"]>-1)][\"RsID\"]\n",
    "\n",
    "\n",
    "caqtls = pd.concat([caqtls[caqtls[\"Log10_BF\"]<-1],  caqtls[caqtls[\"RsID\"].isin(distal_rsids)]]).drop_duplicates()\n",
    "caqtls = pd.concat([caqtls[caqtls[\"Log10_BF\"]<-1],  caqtls[caqtls[\"RsID\"].isin(distal_rsids)]]).drop_duplicates()\n",
    "\n",
    "# caqtls = caqtls[caqtls[\"IsUsed\"]]\n",
    "# caqtls = caqtls.sort_values('Log10_BF').drop_duplicates([\"chr\", \"Ref\", \"Alt\", \"Pos\"], keep='last')\n"
   ]
  },
  {
   "cell_type": "code",
   "execution_count": 131,
   "metadata": {},
   "outputs": [
    {
     "data": {
      "text/plain": [
       "2550"
      ]
     },
     "execution_count": 131,
     "metadata": {},
     "output_type": "execute_result"
    }
   ],
   "source": [
    "len(set(caqtls[caqtls[\"Log10_BF\"]>3][\"RsID\"]))"
   ]
  },
  {
   "cell_type": "code",
   "execution_count": 123,
   "metadata": {},
   "outputs": [
    {
     "data": {
      "text/plain": [
       "111915"
      ]
     },
     "execution_count": 123,
     "metadata": {},
     "output_type": "execute_result"
    }
   ],
   "source": [
    "len(set(caqtls[caqtls[\"Log10_BF\"]<-1][\"RsID\"]))"
   ]
  },
  {
   "cell_type": "code",
   "execution_count": 29,
   "metadata": {},
   "outputs": [
    {
     "data": {
      "text/plain": [
       "119216"
      ]
     },
     "execution_count": 29,
     "metadata": {},
     "output_type": "execute_result"
    }
   ],
   "source": [
    "111915+7301"
   ]
  },
  {
   "cell_type": "code",
   "execution_count": 30,
   "metadata": {},
   "outputs": [],
   "source": [
    "# caqtls = caqtls[caqtls[\"Inside_Peak\"]==1]\n",
    "# caqtls.shape"
   ]
  },
  {
   "cell_type": "code",
   "execution_count": 31,
   "metadata": {},
   "outputs": [
    {
     "data": {
      "text/plain": [
       "(153456, 28)"
      ]
     },
     "execution_count": 31,
     "metadata": {},
     "output_type": "execute_result"
    }
   ],
   "source": [
    "caqtls.shape"
   ]
  },
  {
   "cell_type": "code",
   "execution_count": 36,
   "metadata": {},
   "outputs": [
    {
     "data": {
      "text/html": [
       "<div>\n",
       "<style scoped>\n",
       "    .dataframe tbody tr th:only-of-type {\n",
       "        vertical-align: middle;\n",
       "    }\n",
       "\n",
       "    .dataframe tbody tr th {\n",
       "        vertical-align: top;\n",
       "    }\n",
       "\n",
       "    .dataframe thead th {\n",
       "        text-align: right;\n",
       "    }\n",
       "</style>\n",
       "<table border=\"1\" class=\"dataframe\">\n",
       "  <thead>\n",
       "    <tr style=\"text-align: right;\">\n",
       "      <th></th>\n",
       "      <th>chr</th>\n",
       "      <th>Pos</th>\n",
       "      <th>Ref</th>\n",
       "      <th>Alt</th>\n",
       "      <th>RsID</th>\n",
       "      <th>Peak</th>\n",
       "      <th>AF</th>\n",
       "      <th>Inside_Peak</th>\n",
       "      <th>P_Lead</th>\n",
       "      <th>Beta</th>\n",
       "      <th>...</th>\n",
       "      <th>ENCSR637XSC.sub.50M.abs_logfc_x_jsd_x_max_percentile.mean</th>\n",
       "      <th>ENCSR637XSC.sub.50M.abs_logfc_x_jsd_x_max_percentile.mean.pval</th>\n",
       "      <th>ENCSR000EMT.logfc.mean</th>\n",
       "      <th>ENCSR000EMT.jsd_sign.mean</th>\n",
       "      <th>ENCSR000EMT.abs_logfc_x_jsd_x_max_percentile.mean</th>\n",
       "      <th>ENCSR000EMT.abs_logfc_x_jsd_x_max_percentile.mean.pval</th>\n",
       "      <th>enformer_recomputed</th>\n",
       "      <th>DNASE_SAD</th>\n",
       "      <th>DNASE_SAR</th>\n",
       "      <th>IsUsed</th>\n",
       "    </tr>\n",
       "  </thead>\n",
       "  <tbody>\n",
       "    <tr>\n",
       "      <th>6</th>\n",
       "      <td>chr1</td>\n",
       "      <td>726944</td>\n",
       "      <td>C</td>\n",
       "      <td>G</td>\n",
       "      <td>rs3131979</td>\n",
       "      <td>14</td>\n",
       "      <td>0.74175</td>\n",
       "      <td>1</td>\n",
       "      <td>0.953905</td>\n",
       "      <td>-0.079065</td>\n",
       "      <td>...</td>\n",
       "      <td>0.000001</td>\n",
       "      <td>0.802258</td>\n",
       "      <td>0.026410</td>\n",
       "      <td>0.010944</td>\n",
       "      <td>2.107834e-05</td>\n",
       "      <td>0.580367</td>\n",
       "      <td>-0.001038</td>\n",
       "      <td>0.000100</td>\n",
       "      <td>0.000133</td>\n",
       "      <td>True</td>\n",
       "    </tr>\n",
       "    <tr>\n",
       "      <th>7</th>\n",
       "      <td>chr1</td>\n",
       "      <td>752721</td>\n",
       "      <td>A</td>\n",
       "      <td>G</td>\n",
       "      <td>rs3131972</td>\n",
       "      <td>17</td>\n",
       "      <td>0.84500</td>\n",
       "      <td>1</td>\n",
       "      <td>0.890193</td>\n",
       "      <td>-0.011374</td>\n",
       "      <td>...</td>\n",
       "      <td>0.012412</td>\n",
       "      <td>0.003650</td>\n",
       "      <td>0.338401</td>\n",
       "      <td>0.047837</td>\n",
       "      <td>1.246855e-02</td>\n",
       "      <td>0.333333</td>\n",
       "      <td>-0.344077</td>\n",
       "      <td>0.002493</td>\n",
       "      <td>0.003319</td>\n",
       "      <td>True</td>\n",
       "    </tr>\n",
       "    <tr>\n",
       "      <th>8</th>\n",
       "      <td>chr1</td>\n",
       "      <td>755940</td>\n",
       "      <td>C</td>\n",
       "      <td>T</td>\n",
       "      <td>rs3115857</td>\n",
       "      <td>18</td>\n",
       "      <td>0.59380</td>\n",
       "      <td>1</td>\n",
       "      <td>0.302008</td>\n",
       "      <td>-0.077224</td>\n",
       "      <td>...</td>\n",
       "      <td>0.000004</td>\n",
       "      <td>0.674640</td>\n",
       "      <td>-0.026630</td>\n",
       "      <td>-0.011550</td>\n",
       "      <td>2.854755e-07</td>\n",
       "      <td>0.666667</td>\n",
       "      <td>-0.007762</td>\n",
       "      <td>0.000022</td>\n",
       "      <td>0.000029</td>\n",
       "      <td>True</td>\n",
       "    </tr>\n",
       "    <tr>\n",
       "      <th>10</th>\n",
       "      <td>chr1</td>\n",
       "      <td>793429</td>\n",
       "      <td>T</td>\n",
       "      <td>C</td>\n",
       "      <td>rs200956863</td>\n",
       "      <td>21</td>\n",
       "      <td>0.72345</td>\n",
       "      <td>1</td>\n",
       "      <td>0.407804</td>\n",
       "      <td>0.006696</td>\n",
       "      <td>...</td>\n",
       "      <td>0.000526</td>\n",
       "      <td>0.072640</td>\n",
       "      <td>0.055559</td>\n",
       "      <td>0.018649</td>\n",
       "      <td>7.959288e-04</td>\n",
       "      <td>0.333333</td>\n",
       "      <td>-0.012475</td>\n",
       "      <td>0.000175</td>\n",
       "      <td>0.000233</td>\n",
       "      <td>True</td>\n",
       "    </tr>\n",
       "    <tr>\n",
       "      <th>12</th>\n",
       "      <td>chr1</td>\n",
       "      <td>805556</td>\n",
       "      <td>T</td>\n",
       "      <td>A</td>\n",
       "      <td>rs72631880</td>\n",
       "      <td>23</td>\n",
       "      <td>0.07000</td>\n",
       "      <td>1</td>\n",
       "      <td>0.665134</td>\n",
       "      <td>-0.081155</td>\n",
       "      <td>...</td>\n",
       "      <td>0.000139</td>\n",
       "      <td>0.195813</td>\n",
       "      <td>-0.000459</td>\n",
       "      <td>-0.008914</td>\n",
       "      <td>7.226519e-05</td>\n",
       "      <td>0.505239</td>\n",
       "      <td>-0.002396</td>\n",
       "      <td>-0.000139</td>\n",
       "      <td>-0.000184</td>\n",
       "      <td>True</td>\n",
       "    </tr>\n",
       "  </tbody>\n",
       "</table>\n",
       "<p>5 rows × 28 columns</p>\n",
       "</div>"
      ],
      "text/plain": [
       "     chr     Pos Ref Alt         RsID  Peak       AF  Inside_Peak    P_Lead  \\\n",
       "6   chr1  726944   C   G    rs3131979    14  0.74175            1  0.953905   \n",
       "7   chr1  752721   A   G    rs3131972    17  0.84500            1  0.890193   \n",
       "8   chr1  755940   C   T    rs3115857    18  0.59380            1  0.302008   \n",
       "10  chr1  793429   T   C  rs200956863    21  0.72345            1  0.407804   \n",
       "12  chr1  805556   T   A   rs72631880    23  0.07000            1  0.665134   \n",
       "\n",
       "        Beta  ...  ENCSR637XSC.sub.50M.abs_logfc_x_jsd_x_max_percentile.mean  \\\n",
       "6  -0.079065  ...                                           0.000001           \n",
       "7  -0.011374  ...                                           0.012412           \n",
       "8  -0.077224  ...                                           0.000004           \n",
       "10  0.006696  ...                                           0.000526           \n",
       "12 -0.081155  ...                                           0.000139           \n",
       "\n",
       "    ENCSR637XSC.sub.50M.abs_logfc_x_jsd_x_max_percentile.mean.pval  \\\n",
       "6                                            0.802258                \n",
       "7                                            0.003650                \n",
       "8                                            0.674640                \n",
       "10                                           0.072640                \n",
       "12                                           0.195813                \n",
       "\n",
       "    ENCSR000EMT.logfc.mean  ENCSR000EMT.jsd_sign.mean  \\\n",
       "6                 0.026410                   0.010944   \n",
       "7                 0.338401                   0.047837   \n",
       "8                -0.026630                  -0.011550   \n",
       "10                0.055559                   0.018649   \n",
       "12               -0.000459                  -0.008914   \n",
       "\n",
       "    ENCSR000EMT.abs_logfc_x_jsd_x_max_percentile.mean  \\\n",
       "6                                        2.107834e-05   \n",
       "7                                        1.246855e-02   \n",
       "8                                        2.854755e-07   \n",
       "10                                       7.959288e-04   \n",
       "12                                       7.226519e-05   \n",
       "\n",
       "    ENCSR000EMT.abs_logfc_x_jsd_x_max_percentile.mean.pval  \\\n",
       "6                                            0.580367        \n",
       "7                                            0.333333        \n",
       "8                                            0.666667        \n",
       "10                                           0.333333        \n",
       "12                                           0.505239        \n",
       "\n",
       "    enformer_recomputed  DNASE_SAD  DNASE_SAR  IsUsed  \n",
       "6             -0.001038   0.000100   0.000133    True  \n",
       "7             -0.344077   0.002493   0.003319    True  \n",
       "8             -0.007762   0.000022   0.000029    True  \n",
       "10            -0.012475   0.000175   0.000233    True  \n",
       "12            -0.002396  -0.000139  -0.000184    True  \n",
       "\n",
       "[5 rows x 28 columns]"
      ]
     },
     "execution_count": 36,
     "metadata": {},
     "output_type": "execute_result"
    }
   ],
   "source": [
    "caqtls.head()"
   ]
  },
  {
   "cell_type": "code",
   "execution_count": 22,
   "metadata": {},
   "outputs": [
    {
     "data": {
      "text/plain": [
       "Index(['chr', 'Pos', 'Ref', 'Alt', 'RsID', 'Peak', 'AF', 'Inside_Peak',\n",
       "       'P_Lead', 'Beta', 'SE', 'Log10_BF', 'ENCSR637XSC.logfc.mean',\n",
       "       'ENCSR637XSC.jsd_sign.mean',\n",
       "       'ENCSR637XSC.abs_logfc_x_jsd_x_max_percentile.mean',\n",
       "       'ENCSR637XSC.abs_logfc_x_jsd_x_max_percentile.mean.pval',\n",
       "       'ENCSR637XSC.sub.50M.logfc.mean', 'ENCSR637XSC.sub.50M.jsd_sign.mean',\n",
       "       'ENCSR637XSC.sub.50M.abs_logfc_x_jsd_x_max_percentile.mean',\n",
       "       'ENCSR637XSC.sub.50M.abs_logfc_x_jsd_x_max_percentile.mean.pval',\n",
       "       'ENCSR000EMT.logfc.mean', 'ENCSR000EMT.jsd_sign.mean',\n",
       "       'ENCSR000EMT.abs_logfc_x_jsd_x_max_percentile.mean',\n",
       "       'ENCSR000EMT.abs_logfc_x_jsd_x_max_percentile.mean.pval',\n",
       "       'enformer_recomputed', 'DNASE_SAD', 'DNASE_SAR', 'IsUsed'],\n",
       "      dtype='object')"
      ]
     },
     "execution_count": 22,
     "metadata": {},
     "output_type": "execute_result"
    }
   ],
   "source": [
    "caqtls.columns"
   ]
  },
  {
   "cell_type": "code",
   "execution_count": 23,
   "metadata": {},
   "outputs": [],
   "source": [
    "peaks = pd.read_csv(\"/mnt/lab_data2/anusri/variant-scorer/src/output/caqtls_lcl_latest/peaks.bed.gz\", sep='\\t', header=0)\n"
   ]
  },
  {
   "cell_type": "code",
   "execution_count": 24,
   "metadata": {},
   "outputs": [
    {
     "data": {
      "text/html": [
       "<div>\n",
       "<style scoped>\n",
       "    .dataframe tbody tr th:only-of-type {\n",
       "        vertical-align: middle;\n",
       "    }\n",
       "\n",
       "    .dataframe tbody tr th {\n",
       "        vertical-align: top;\n",
       "    }\n",
       "\n",
       "    .dataframe thead th {\n",
       "        text-align: right;\n",
       "    }\n",
       "</style>\n",
       "<table border=\"1\" class=\"dataframe\">\n",
       "  <thead>\n",
       "    <tr style=\"text-align: right;\">\n",
       "      <th></th>\n",
       "      <th>#Chr</th>\n",
       "      <th>Pos_Left</th>\n",
       "      <th>Pos_Right</th>\n",
       "      <th>Peak</th>\n",
       "      <th>GC</th>\n",
       "      <th>Peak_Height</th>\n",
       "      <th>P_caQTL</th>\n",
       "      <th>PMR</th>\n",
       "      <th>P_eQTL_Coloc</th>\n",
       "    </tr>\n",
       "  </thead>\n",
       "  <tbody>\n",
       "    <tr>\n",
       "      <th>0</th>\n",
       "      <td>1</td>\n",
       "      <td>9866</td>\n",
       "      <td>10709</td>\n",
       "      <td>1</td>\n",
       "      <td>57.6422</td>\n",
       "      <td>4504</td>\n",
       "      <td>0.005961</td>\n",
       "      <td>0.000650</td>\n",
       "      <td>0.001069</td>\n",
       "    </tr>\n",
       "    <tr>\n",
       "      <th>1</th>\n",
       "      <td>1</td>\n",
       "      <td>16019</td>\n",
       "      <td>16819</td>\n",
       "      <td>2</td>\n",
       "      <td>54.9313</td>\n",
       "      <td>700</td>\n",
       "      <td>0.002610</td>\n",
       "      <td>0.000197</td>\n",
       "      <td>0.000396</td>\n",
       "    </tr>\n",
       "    <tr>\n",
       "      <th>2</th>\n",
       "      <td>1</td>\n",
       "      <td>28870</td>\n",
       "      <td>29662</td>\n",
       "      <td>3</td>\n",
       "      <td>74.4010</td>\n",
       "      <td>2234</td>\n",
       "      <td>0.014269</td>\n",
       "      <td>0.000830</td>\n",
       "      <td>0.003304</td>\n",
       "    </tr>\n",
       "    <tr>\n",
       "      <th>3</th>\n",
       "      <td>1</td>\n",
       "      <td>235424</td>\n",
       "      <td>236104</td>\n",
       "      <td>4</td>\n",
       "      <td>41.4097</td>\n",
       "      <td>2003</td>\n",
       "      <td>0.012361</td>\n",
       "      <td>0.000636</td>\n",
       "      <td>0.002777</td>\n",
       "    </tr>\n",
       "    <tr>\n",
       "      <th>4</th>\n",
       "      <td>1</td>\n",
       "      <td>237485</td>\n",
       "      <td>238046</td>\n",
       "      <td>5</td>\n",
       "      <td>46.9751</td>\n",
       "      <td>4162</td>\n",
       "      <td>0.024590</td>\n",
       "      <td>0.000912</td>\n",
       "      <td>0.007109</td>\n",
       "    </tr>\n",
       "  </tbody>\n",
       "</table>\n",
       "</div>"
      ],
      "text/plain": [
       "   #Chr  Pos_Left  Pos_Right  Peak       GC  Peak_Height   P_caQTL       PMR  \\\n",
       "0     1      9866      10709     1  57.6422         4504  0.005961  0.000650   \n",
       "1     1     16019      16819     2  54.9313          700  0.002610  0.000197   \n",
       "2     1     28870      29662     3  74.4010         2234  0.014269  0.000830   \n",
       "3     1    235424     236104     4  41.4097         2003  0.012361  0.000636   \n",
       "4     1    237485     238046     5  46.9751         4162  0.024590  0.000912   \n",
       "\n",
       "   P_eQTL_Coloc  \n",
       "0      0.001069  \n",
       "1      0.000396  \n",
       "2      0.003304  \n",
       "3      0.002777  \n",
       "4      0.007109  "
      ]
     },
     "execution_count": 24,
     "metadata": {},
     "output_type": "execute_result"
    }
   ],
   "source": [
    "peaks.head()"
   ]
  },
  {
   "cell_type": "code",
   "execution_count": 25,
   "metadata": {},
   "outputs": [],
   "source": [
    "peaks[\"#Chr\"] = 'chr'+peaks[\"#Chr\"].astype(str)"
   ]
  },
  {
   "cell_type": "code",
   "execution_count": 26,
   "metadata": {},
   "outputs": [
    {
     "data": {
      "text/html": [
       "<div>\n",
       "<style scoped>\n",
       "    .dataframe tbody tr th:only-of-type {\n",
       "        vertical-align: middle;\n",
       "    }\n",
       "\n",
       "    .dataframe tbody tr th {\n",
       "        vertical-align: top;\n",
       "    }\n",
       "\n",
       "    .dataframe thead th {\n",
       "        text-align: right;\n",
       "    }\n",
       "</style>\n",
       "<table border=\"1\" class=\"dataframe\">\n",
       "  <thead>\n",
       "    <tr style=\"text-align: right;\">\n",
       "      <th></th>\n",
       "      <th>#Chr</th>\n",
       "      <th>Pos_Left</th>\n",
       "      <th>Pos_Right</th>\n",
       "      <th>Peak</th>\n",
       "      <th>GC</th>\n",
       "      <th>Peak_Height</th>\n",
       "      <th>P_caQTL</th>\n",
       "      <th>PMR</th>\n",
       "      <th>P_eQTL_Coloc</th>\n",
       "    </tr>\n",
       "  </thead>\n",
       "  <tbody>\n",
       "    <tr>\n",
       "      <th>0</th>\n",
       "      <td>chr1</td>\n",
       "      <td>9866</td>\n",
       "      <td>10709</td>\n",
       "      <td>1</td>\n",
       "      <td>57.6422</td>\n",
       "      <td>4504</td>\n",
       "      <td>0.005961</td>\n",
       "      <td>0.000650</td>\n",
       "      <td>0.001069</td>\n",
       "    </tr>\n",
       "    <tr>\n",
       "      <th>1</th>\n",
       "      <td>chr1</td>\n",
       "      <td>16019</td>\n",
       "      <td>16819</td>\n",
       "      <td>2</td>\n",
       "      <td>54.9313</td>\n",
       "      <td>700</td>\n",
       "      <td>0.002610</td>\n",
       "      <td>0.000197</td>\n",
       "      <td>0.000396</td>\n",
       "    </tr>\n",
       "    <tr>\n",
       "      <th>2</th>\n",
       "      <td>chr1</td>\n",
       "      <td>28870</td>\n",
       "      <td>29662</td>\n",
       "      <td>3</td>\n",
       "      <td>74.4010</td>\n",
       "      <td>2234</td>\n",
       "      <td>0.014269</td>\n",
       "      <td>0.000830</td>\n",
       "      <td>0.003304</td>\n",
       "    </tr>\n",
       "    <tr>\n",
       "      <th>3</th>\n",
       "      <td>chr1</td>\n",
       "      <td>235424</td>\n",
       "      <td>236104</td>\n",
       "      <td>4</td>\n",
       "      <td>41.4097</td>\n",
       "      <td>2003</td>\n",
       "      <td>0.012361</td>\n",
       "      <td>0.000636</td>\n",
       "      <td>0.002777</td>\n",
       "    </tr>\n",
       "    <tr>\n",
       "      <th>4</th>\n",
       "      <td>chr1</td>\n",
       "      <td>237485</td>\n",
       "      <td>238046</td>\n",
       "      <td>5</td>\n",
       "      <td>46.9751</td>\n",
       "      <td>4162</td>\n",
       "      <td>0.024590</td>\n",
       "      <td>0.000912</td>\n",
       "      <td>0.007109</td>\n",
       "    </tr>\n",
       "  </tbody>\n",
       "</table>\n",
       "</div>"
      ],
      "text/plain": [
       "   #Chr  Pos_Left  Pos_Right  Peak       GC  Peak_Height   P_caQTL       PMR  \\\n",
       "0  chr1      9866      10709     1  57.6422         4504  0.005961  0.000650   \n",
       "1  chr1     16019      16819     2  54.9313          700  0.002610  0.000197   \n",
       "2  chr1     28870      29662     3  74.4010         2234  0.014269  0.000830   \n",
       "3  chr1    235424     236104     4  41.4097         2003  0.012361  0.000636   \n",
       "4  chr1    237485     238046     5  46.9751         4162  0.024590  0.000912   \n",
       "\n",
       "   P_eQTL_Coloc  \n",
       "0      0.001069  \n",
       "1      0.000396  \n",
       "2      0.003304  \n",
       "3      0.002777  \n",
       "4      0.007109  "
      ]
     },
     "execution_count": 26,
     "metadata": {},
     "output_type": "execute_result"
    }
   ],
   "source": [
    "peaks.head()"
   ]
  },
  {
   "cell_type": "code",
   "execution_count": 27,
   "metadata": {},
   "outputs": [],
   "source": [
    "peaks['center'] = (peaks['Pos_Left']+peaks['Pos_Right'])/2"
   ]
  },
  {
   "cell_type": "code",
   "execution_count": 28,
   "metadata": {},
   "outputs": [
    {
     "data": {
      "text/plain": [
       "(277128, 10)"
      ]
     },
     "execution_count": 28,
     "metadata": {},
     "output_type": "execute_result"
    }
   ],
   "source": [
    "peaks.shape"
   ]
  },
  {
   "cell_type": "code",
   "execution_count": 35,
   "metadata": {},
   "outputs": [],
   "source": [
    "peaks_ids = np.arange(277128)+1\n"
   ]
  },
  {
   "cell_type": "code",
   "execution_count": 36,
   "metadata": {},
   "outputs": [
    {
     "data": {
      "text/plain": [
       "277128"
      ]
     },
     "execution_count": 36,
     "metadata": {},
     "output_type": "execute_result"
    }
   ],
   "source": [
    "sum(peaks[\"Peak\"]==peaks_ids)"
   ]
  },
  {
   "cell_type": "code",
   "execution_count": 37,
   "metadata": {},
   "outputs": [],
   "source": [
    "caqtls['Peak']=caqtls['Peak']-1"
   ]
  },
  {
   "cell_type": "code",
   "execution_count": null,
   "metadata": {},
   "outputs": [],
   "source": []
  },
  {
   "cell_type": "code",
   "execution_count": 38,
   "metadata": {},
   "outputs": [
    {
     "data": {
      "text/plain": [
       "277127"
      ]
     },
     "execution_count": 38,
     "metadata": {},
     "output_type": "execute_result"
    }
   ],
   "source": [
    "caqtls['Peak'].max()"
   ]
  },
  {
   "cell_type": "code",
   "execution_count": 39,
   "metadata": {},
   "outputs": [],
   "source": [
    "caqtls['peak_cente'] = caqtls['Peak'].map(peaks['center'])\n"
   ]
  },
  {
   "cell_type": "code",
   "execution_count": 40,
   "metadata": {},
   "outputs": [
    {
     "data": {
      "text/plain": [
       "2           565396.0\n",
       "3           569416.5\n",
       "6           726976.0\n",
       "7           752591.5\n",
       "8           756027.5\n",
       "             ...    \n",
       "226341    51021367.0\n",
       "226342    51059604.0\n",
       "226343    51066695.5\n",
       "226344    51082338.0\n",
       "226345    51222113.5\n",
       "Name: peak_cente, Length: 151409, dtype: float64"
      ]
     },
     "execution_count": 40,
     "metadata": {},
     "output_type": "execute_result"
    }
   ],
   "source": [
    "caqtls['peak_cente']"
   ]
  },
  {
   "cell_type": "code",
   "execution_count": 41,
   "metadata": {},
   "outputs": [],
   "source": [
    "var_center_dist = abs(caqtls['Pos']-caqtls['peak_cente'])"
   ]
  },
  {
   "cell_type": "code",
   "execution_count": 43,
   "metadata": {},
   "outputs": [],
   "source": [
    "#caqtls = caqtls[var_center_dist<=100]"
   ]
  },
  {
   "cell_type": "code",
   "execution_count": 44,
   "metadata": {},
   "outputs": [
    {
     "data": {
      "text/plain": [
       "<AxesSubplot:>"
      ]
     },
     "execution_count": 44,
     "metadata": {},
     "output_type": "execute_result"
    },
    {
     "data": {
      "image/png": "[encoded data removed]",
      "text/plain": [
       "<Figure size 432x288 with 1 Axes>"
      ]
     },
     "metadata": {
      "needs_background": "light"
     },
     "output_type": "display_data"
    }
   ],
   "source": [
    "var_center_dist.hist()"
   ]
  },
  {
   "cell_type": "code",
   "execution_count": 45,
   "metadata": {},
   "outputs": [
    {
     "data": {
      "text/plain": [
       "(151409, 29)"
      ]
     },
     "execution_count": 45,
     "metadata": {},
     "output_type": "execute_result"
    }
   ],
   "source": [
    "caqtls.shape"
   ]
  },
  {
   "cell_type": "code",
   "execution_count": 46,
   "metadata": {},
   "outputs": [],
   "source": [
    "\n",
    "dbsnp = np.loadtxt('test_rsids.txt', dtype='str')"
   ]
  },
  {
   "cell_type": "code",
   "execution_count": 47,
   "metadata": {},
   "outputs": [
    {
     "data": {
      "text/plain": [
       "array(['rs36197555', 'rs72645889', 'rs12747702', ..., 'rs6002950',\n",
       "       'rs5751390', 'rs738406'], dtype='<U11')"
      ]
     },
     "execution_count": 47,
     "metadata": {},
     "output_type": "execute_result"
    }
   ],
   "source": [
    "dbsnp"
   ]
  },
  {
   "cell_type": "code",
   "execution_count": 48,
   "metadata": {},
   "outputs": [
    {
     "data": {
      "text/plain": [
       "1078"
      ]
     },
     "execution_count": 48,
     "metadata": {},
     "output_type": "execute_result"
    }
   ],
   "source": [
    "sum(caqtls['RsID'].isin(dbsnp))"
   ]
  },
  {
   "cell_type": "code",
   "execution_count": null,
   "metadata": {},
   "outputs": [],
   "source": []
  },
  {
   "cell_type": "code",
   "execution_count": 49,
   "metadata": {},
   "outputs": [
    {
     "data": {
      "text/plain": [
       "1078"
      ]
     },
     "execution_count": 49,
     "metadata": {},
     "output_type": "execute_result"
    }
   ],
   "source": [
    "sum(caqtls['RsID'].isin(dbsnp))"
   ]
  },
  {
   "cell_type": "code",
   "execution_count": 50,
   "metadata": {},
   "outputs": [
    {
     "data": {
      "image/png": "[encoded data removed]",
      "text/plain": [
       "<Figure size 432x288 with 1 Axes>"
      ]
     },
     "metadata": {
      "needs_background": "light"
     },
     "output_type": "display_data"
    }
   ],
   "source": [
    "from scipy.stats import rankdata\n",
    "import numpy as np\n",
    "import matplotlib.pyplot as plt\n",
    "\n",
    "rank_chrom_atac = rankdata(abs(caqtls[\"ENCSR637XSC.abs_logfc_x_jsd_x_max_percentile.mean\"]))\n",
    "enf = rankdata(abs(caqtls[\"enformer_recomputed\"]))\n",
    "colors = np.array(['grey']*caqtls.shape[0])\n",
    "threshold=3\n",
    "colors[caqtls[\"Log10_BF\"]>threshold] = 'r'\n",
    "colors[caqtls[\"RsID\"].isin(dbsnp)] = 'blue'\n",
    "plt.scatter(rank_chrom_atac[caqtls[\"Log10_BF\"]<-1], enf[caqtls[\"Log10_BF\"]<-1], alpha=0.5, s=1, color=colors[caqtls[\"Log10_BF\"]<-1])\n",
    "#plt.scatter(rank_chrom_atac[caqtls[\"Log10_BF\"]>threshold], enf[caqtls[\"Log10_BF\"]>threshold], s=0.5, color=colors[caqtls[\"Log10_BF\"]>threshold])\n",
    "#plt.scatter(rank_chrom_atac[(~caqtls[\"RsID\"].isin(dbsnp)) & (caqtls[\"Log10_BF\"]>threshold)], enf[(~caqtls[\"RsID\"].isin(dbsnp)) & (caqtls[\"Log10_BF\"]>threshold)], s=0.5, color=colors[(~caqtls[\"RsID\"].isin(dbsnp)) & (caqtls[\"Log10_BF\"]>threshold)])\n",
    "plt.scatter(rank_chrom_atac[caqtls[\"RsID\"].isin(dbsnp)], enf[caqtls[\"RsID\"].isin(dbsnp)], s=0.5, color=colors[caqtls[\"RsID\"].isin(dbsnp)])\n",
    "\n",
    "plt.xlabel(\"chrombpnet (ATAC, 572M) rank\")\n",
    "plt.ylabel(\"Enformer (DNase, 68M)  rank\")\n",
    "plt.yscale('log')\n",
    "plt.xscale('log')"
   ]
  },
  {
   "cell_type": "code",
   "execution_count": 51,
   "metadata": {},
   "outputs": [
    {
     "name": "stdout",
     "output_type": "stream",
     "text": [
      "(151409, 29)\n"
     ]
    }
   ],
   "source": [
    "print(caqtls.shape)\n",
    "#caqtls = caqtls[~caqtls[\"RsID\"].isin(dbsnp)]"
   ]
  },
  {
   "cell_type": "code",
   "execution_count": 52,
   "metadata": {},
   "outputs": [
    {
     "data": {
      "text/plain": [
       "(151409, 29)"
      ]
     },
     "execution_count": 52,
     "metadata": {},
     "output_type": "execute_result"
    }
   ],
   "source": [
    "caqtls.shape"
   ]
  },
  {
   "cell_type": "code",
   "execution_count": null,
   "metadata": {},
   "outputs": [],
   "source": []
  },
  {
   "cell_type": "markdown",
   "metadata": {},
   "source": [
    "# AUPRC (Benchmarking)"
   ]
  },
  {
   "cell_type": "code",
   "execution_count": 132,
   "metadata": {},
   "outputs": [
    {
     "name": "stdout",
     "output_type": "stream",
     "text": [
      "3\n",
      "2550 114465\n",
      "0.022\n",
      "0.4415095369386685\n",
      "5\n",
      "2271 114186\n",
      "0.02\n"
     ]
    },
    {
     "name": "stderr",
     "output_type": "stream",
     "text": [
      "/users/anusri/anaconda3/lib/python3.7/site-packages/ipykernel_launcher.py:55: SettingWithCopyWarning: \n",
      "A value is trying to be set on a copy of a slice from a DataFrame.\n",
      "Try using .loc[row_indexer,col_indexer] = value instead\n",
      "\n",
      "See the caveats in the documentation: https://pandas.pydata.org/pandas-docs/stable/user_guide/indexing.html#returning-a-view-versus-a-copy\n",
      "/users/anusri/anaconda3/lib/python3.7/site-packages/pandas/core/indexing.py:1817: SettingWithCopyWarning: \n",
      "A value is trying to be set on a copy of a slice from a DataFrame.\n",
      "Try using .loc[row_indexer,col_indexer] = value instead\n",
      "\n",
      "See the caveats in the documentation: https://pandas.pydata.org/pandas-docs/stable/user_guide/indexing.html#returning-a-view-versus-a-copy\n",
      "  self._setitem_single_column(loc, value, pi)\n"
     ]
    },
    {
     "name": "stdout",
     "output_type": "stream",
     "text": [
      "0.45755714633350997\n",
      "7\n",
      "2005 113920\n",
      "0.018\n",
      "0.4704244060146789\n",
      "9\n",
      "1769 113684\n",
      "0.016\n",
      "0.47143316836547994\n",
      "11\n",
      "1547 113462\n",
      "0.014\n",
      "0.4768632302057005\n",
      "13\n",
      "1304 113219\n",
      "0.012\n",
      "0.4774304577037799\n",
      "15\n",
      "1082 112997\n",
      "0.01\n",
      "0.4842363165605904\n",
      "17\n",
      "884 112799\n",
      "0.008\n",
      "0.47479501324872725\n",
      "19\n",
      "673 112588\n",
      "0.006\n",
      "0.46623846442743355\n",
      "21\n",
      "503 112418\n",
      "0.004\n",
      "0.443974664011063\n"
     ]
    }
   ],
   "source": [
    "import matplotlib.pyplot as plt\n",
    "import pandas as pd\n",
    "from sklearn.metrics import precision_recall_curve\n",
    "from sklearn.metrics import roc_curve\n",
    "from sklearn.metrics import RocCurveDisplay\n",
    "import pandas as pd\n",
    "import matplotlib.pyplot as plt\n",
    "import numpy as np\n",
    "from sklearn import metrics\n",
    "import matplotlib.pyplot as plt\n",
    "import matplotlib\n",
    "\n",
    "\n",
    "matplotlib.rcParams['pdf.fonttype'] = 42\n",
    "matplotlib.rcParams['ps.fonttype'] = 42 \n",
    "\n",
    "import random\n",
    "import os\n",
    "import argparse\n",
    "from sklearn.metrics import precision_recall_curve\n",
    "\n",
    "random_bc = []\n",
    "chrombpnet = {}\n",
    "enformer_dnase_roc = []\n",
    "enformer_dnase_roc_sar = []\n",
    "\n",
    "chrombpnet[\"ChromBPNet DNase (68M)\"] = []\n",
    "chrombpnet[\"ChromBPNet ATAC (572M)\"] = []\n",
    "chrombpnet[\"ChromBPNet ATAC (50M)\"] = []\n",
    "\n",
    "for threshold in np.arange(3,23,2):\n",
    "    print(threshold)\n",
    "    \n",
    "#     dataf1 = caqtls[caqtls[\"Log10_BF\"]>threshold]\n",
    "#     dataf1[\"label\"] = 1\n",
    "#     dataf1 = dataf1[[\"ENCSR000EMT.abs_logfc_x_jsd_x_max_percentile.mean\", \n",
    "#                     \"ENCSR637XSC.abs_logfc_x_jsd_x_max_percentile.mean\",\n",
    "#                      \"ENCSR637XSC.sub.50M.abs_logfc_x_jsd_x_max_percentile.mean\",\n",
    "#                     \"DNASE_SAR\", \"enformer_recomputed\", \"label\"]]\n",
    "    \n",
    "#     dataf2 = afrs[afrs[\"label\"]==0]\n",
    "#     dataf2[\"ENCSR637XSC.abs_logfc_x_jsd_x_max_percentile.mean\"] = dataf2[\"chrombpnet.encsr637xsc.variantscore.csr\"]\n",
    "#     dataf2[\"ENCSR637XSC.sub.50M.abs_logfc_x_jsd_x_max_percentile.mean\"] = dataf2[\"chrombpnet.encsr637xsc_50m.variantscore.csr\"]\n",
    "#     dataf2[\"ENCSR000EMT.abs_logfc_x_jsd_x_max_percentile.mean\"] = dataf2[\"chrombpnet.encsr000emt.variantscore.csr\"]\n",
    "#     dataf2[\"DNASE_SAR\"] = dataf2[\"enformer.encsr000emt.variantscore.sar\"]\n",
    "#     dataf2[\"enformer_recomputed\"] = dataf2[\"enformer_recomputed\"]\n",
    "#     #print(dataf2[\"enformer_recomputed\"])\n",
    "#     dataf2 = dataf2[[\"ENCSR000EMT.abs_logfc_x_jsd_x_max_percentile.mean\", \n",
    "#                     \"ENCSR637XSC.abs_logfc_x_jsd_x_max_percentile.mean\",\n",
    "#                     \"ENCSR637XSC.sub.50M.abs_logfc_x_jsd_x_max_percentile.mean\",\n",
    "#                     \"DNASE_SAR\",  \"enformer_recomputed\", \"label\"]]\n",
    "\n",
    "#     dataf = pd.concat([dataf1, dataf2])\n",
    "    dataf = caqtls[(caqtls[\"Log10_BF\"]<-1) | (caqtls[\"Log10_BF\"]>threshold)]\n",
    "    dataf[\"label\"] = 0\n",
    "    dataf.loc[dataf[\"Log10_BF\"]>threshold, \"label\"] = 1\n",
    "    total = dataf.shape[0]\n",
    "    sigs = sum(dataf[\"label\"])\n",
    "    print(sigs, total)\n",
    "    \n",
    "    \n",
    "    random_bc.append(np.round(sigs/total,3))\n",
    "    print(random_bc[-1])\n",
    "    \n",
    "    roc_auc = metrics.average_precision_score(dataf[\"label\"], abs(dataf[\"ENCSR000EMT.abs_logfc_x_jsd_x_max_percentile.mean\"]))\n",
    "    chrombpnet[\"ChromBPNet DNase (68M)\"].append(roc_auc)\n",
    "\n",
    "    roc_auc = metrics.average_precision_score(dataf[\"label\"], abs(dataf[\"ENCSR637XSC.abs_logfc_x_jsd_x_max_percentile.mean\"]))\n",
    "    chrombpnet[\"ChromBPNet ATAC (572M)\"].append(roc_auc)\n",
    "    print(roc_auc)\n",
    "\n",
    "    roc_auc = metrics.average_precision_score(dataf[\"label\"], abs(dataf[\"ENCSR637XSC.sub.50M.abs_logfc_x_jsd_x_max_percentile.mean\"]))\n",
    "    chrombpnet[\"ChromBPNet ATAC (50M)\"].append(roc_auc)\n",
    "    \n",
    "    roc_auc = metrics.average_precision_score(dataf[\"label\"], abs(dataf[\"enformer_recomputed\"]))\n",
    "    enformer_dnase_roc.append(roc_auc)\n",
    "\n",
    "    roc_auc = metrics.average_precision_score(dataf[\"label\"], abs(dataf[\"DNASE_SAR\"]))\n",
    "    enformer_dnase_roc_sar.append(roc_auc)\n"
   ]
  },
  {
   "cell_type": "code",
   "execution_count": 125,
   "metadata": {},
   "outputs": [
    {
     "data": {
      "text/plain": [
       "<matplotlib.legend.Legend at 0x7ff80f4c1850>"
      ]
     },
     "execution_count": 125,
     "metadata": {},
     "output_type": "execute_result"
    },
    {
     "data": {
      "image/png": "[encoded data removed]",
      "text/plain": [
       "<Figure size 432x360 with 1 Axes>"
      ]
     },
     "metadata": {
      "needs_background": "light"
     },
     "output_type": "display_data"
    }
   ],
   "source": [
    "fig, ax = plt.subplots(figsize=(6,5))\n",
    "colors = [\"blue\", \"blue\"]\n",
    "alphas = [0.5, 1.0]\n",
    "idx=0\n",
    "for key in [\"ChromBPNet ATAC (572M)\", \"ChromBPNet ATAC (50M)\"]:\n",
    "    ax.scatter(np.arange(3,23,2).astype(str), chrombpnet[key], label=key, c=\"blue\", alpha=alphas[idx])\n",
    "    idx+=1\n",
    "    \n",
    "key=\"ChromBPNet DNase (68M)\"\n",
    "ax.scatter(np.arange(3,23,2).astype(str), chrombpnet[key], label=key)\n",
    "ax.scatter(np.arange(3,23,2).astype(str), enformer_dnase_roc_sar, label=\"Enformer DNase (reported) (68M)\")\n",
    "ax.scatter(np.arange(3,23,2).astype(str), enformer_dnase_roc, label=\"Enformer DNase (recomputed) (68M)\")\n",
    "\n",
    "ax.scatter(np.arange(3,23,2).astype(str), random_bc, label=\"random\")\n",
    "\n",
    "ax.spines[[\"top\", \"right\"]].set_visible(False)\n",
    "ax.set_xlabel(\"-log10BH\")\n",
    "ax.set_ylabel(\"Average precision\")\n",
    "#plt.legend(loc='upper right')\n",
    "\n",
    "# Shrink current axis by 20%\n",
    "box = ax.get_position()\n",
    "ax.set_position([box.x0, box.y0, box.width * 0.8, box.height])\n",
    "\n",
    "# Put a legend to the right of the current axis\n",
    "ax.legend(loc='center left', bbox_to_anchor=(1, 0.5))\n",
    "\n",
    "#plt.show()\n",
    "\n",
    "#plt.savefig(\"subfigs/eu_caqtls_auprc_compare.pdf\", transparent=True, dpi=300)"
   ]
  },
  {
   "cell_type": "code",
   "execution_count": 60,
   "metadata": {},
   "outputs": [
    {
     "name": "stdout",
     "output_type": "stream",
     "text": [
      "3\n",
      "9851 121766\n",
      "0.081\n",
      "0.5316466483102311\n",
      "5\n"
     ]
    },
    {
     "name": "stderr",
     "output_type": "stream",
     "text": [
      "/users/anusri/anaconda3/lib/python3.7/site-packages/ipykernel_launcher.py:55: SettingWithCopyWarning: \n",
      "A value is trying to be set on a copy of a slice from a DataFrame.\n",
      "Try using .loc[row_indexer,col_indexer] = value instead\n",
      "\n",
      "See the caveats in the documentation: https://pandas.pydata.org/pandas-docs/stable/user_guide/indexing.html#returning-a-view-versus-a-copy\n"
     ]
    },
    {
     "name": "stdout",
     "output_type": "stream",
     "text": [
      "6722 118637\n",
      "0.057\n",
      "0.5255050166908499\n",
      "7\n",
      "4894 116809\n",
      "0.042\n",
      "0.5228369439220858\n",
      "9\n",
      "3689 115604\n",
      "0.032\n",
      "0.5176397006514095\n",
      "11\n",
      "2813 114728\n",
      "0.025\n",
      "0.5158678909863839\n",
      "13\n",
      "2135 114050\n",
      "0.019\n",
      "0.5070998068900187\n",
      "15\n",
      "1594 113509\n",
      "0.014\n",
      "0.5050438096240829\n",
      "17\n",
      "1194 113109\n",
      "0.011\n",
      "0.49408221158142424\n",
      "19\n",
      "844 112759\n",
      "0.007\n",
      "0.48310256455439116\n",
      "21\n",
      "597 112512\n",
      "0.005\n",
      "0.4512487487386577\n"
     ]
    }
   ],
   "source": [
    "import matplotlib.pyplot as plt\n",
    "import pandas as pd\n",
    "from sklearn.metrics import precision_recall_curve\n",
    "from sklearn.metrics import roc_curve\n",
    "from sklearn.metrics import RocCurveDisplay\n",
    "import pandas as pd\n",
    "import matplotlib.pyplot as plt\n",
    "import numpy as np\n",
    "from sklearn import metrics\n",
    "import matplotlib.pyplot as plt\n",
    "import matplotlib\n",
    "\n",
    "\n",
    "matplotlib.rcParams['pdf.fonttype'] = 42\n",
    "matplotlib.rcParams['ps.fonttype'] = 42 \n",
    "\n",
    "import random\n",
    "import os\n",
    "import argparse\n",
    "from sklearn.metrics import precision_recall_curve\n",
    "\n",
    "random_bc = []\n",
    "chrombpnet = {}\n",
    "enformer_dnase_roc = []\n",
    "enformer_dnase_roc_sar = []\n",
    "\n",
    "chrombpnet[\"ChromBPNet DNase (68M)\"] = []\n",
    "chrombpnet[\"ChromBPNet ATAC (572M)\"] = []\n",
    "chrombpnet[\"ChromBPNet ATAC (50M)\"] = []\n",
    "\n",
    "for threshold in np.arange(3,23,2):\n",
    "    print(threshold)\n",
    "    \n",
    "#     dataf1 = caqtls[caqtls[\"Log10_BF\"]>threshold]\n",
    "#     dataf1[\"label\"] = 1\n",
    "#     dataf1 = dataf1[[\"ENCSR000EMT.abs_logfc_x_jsd_x_max_percentile.mean\", \n",
    "#                     \"ENCSR637XSC.abs_logfc_x_jsd_x_max_percentile.mean\",\n",
    "#                      \"ENCSR637XSC.sub.50M.abs_logfc_x_jsd_x_max_percentile.mean\",\n",
    "#                     \"DNASE_SAR\", \"enformer_recomputed\", \"label\"]]\n",
    "    \n",
    "#     dataf2 = afrs[afrs[\"label\"]==0]\n",
    "#     dataf2[\"ENCSR637XSC.abs_logfc_x_jsd_x_max_percentile.mean\"] = dataf2[\"chrombpnet.encsr637xsc.variantscore.csr\"]\n",
    "#     dataf2[\"ENCSR637XSC.sub.50M.abs_logfc_x_jsd_x_max_percentile.mean\"] = dataf2[\"chrombpnet.encsr637xsc_50m.variantscore.csr\"]\n",
    "#     dataf2[\"ENCSR000EMT.abs_logfc_x_jsd_x_max_percentile.mean\"] = dataf2[\"chrombpnet.encsr000emt.variantscore.csr\"]\n",
    "#     dataf2[\"DNASE_SAR\"] = dataf2[\"enformer.encsr000emt.variantscore.sar\"]\n",
    "#     dataf2[\"enformer_recomputed\"] = dataf2[\"enformer_recomputed\"]\n",
    "#     #print(dataf2[\"enformer_recomputed\"])\n",
    "#     dataf2 = dataf2[[\"ENCSR000EMT.abs_logfc_x_jsd_x_max_percentile.mean\", \n",
    "#                     \"ENCSR637XSC.abs_logfc_x_jsd_x_max_percentile.mean\",\n",
    "#                     \"ENCSR637XSC.sub.50M.abs_logfc_x_jsd_x_max_percentile.mean\",\n",
    "#                     \"DNASE_SAR\",  \"enformer_recomputed\", \"label\"]]\n",
    "\n",
    "#     dataf = pd.concat([dataf1, dataf2])\n",
    "    dataf = caqtls[(caqtls[\"Log10_BF\"]<-1) | (caqtls[\"Log10_BF\"]>threshold)]\n",
    "    dataf[\"label\"] = 0\n",
    "    dataf.loc[dataf[\"Log10_BF\"]>threshold, \"label\"] = 1\n",
    "    total = dataf.shape[0]\n",
    "    sigs = sum(dataf[\"label\"])\n",
    "    print(sigs, total)\n",
    "    \n",
    "    \n",
    "    random_bc.append(np.round(sigs/total,3))\n",
    "    print(random_bc[-1])\n",
    "    \n",
    "    roc_auc = metrics.average_precision_score(dataf[\"label\"], abs(dataf[\"ENCSR000EMT.abs_logfc_x_jsd_x_max_percentile.mean\"]))\n",
    "    chrombpnet[\"ChromBPNet DNase (68M)\"].append(roc_auc)\n",
    "\n",
    "    roc_auc = metrics.average_precision_score(dataf[\"label\"], abs(dataf[\"ENCSR637XSC.abs_logfc_x_jsd_x_max_percentile.mean\"]))\n",
    "    chrombpnet[\"ChromBPNet ATAC (572M)\"].append(roc_auc)\n",
    "    print(roc_auc)\n",
    "\n",
    "    roc_auc = metrics.average_precision_score(dataf[\"label\"], abs(dataf[\"ENCSR637XSC.sub.50M.abs_logfc_x_jsd_x_max_percentile.mean\"]))\n",
    "    chrombpnet[\"ChromBPNet ATAC (50M)\"].append(roc_auc)\n",
    "    \n",
    "    roc_auc = metrics.average_precision_score(dataf[\"label\"], abs(dataf[\"enformer_recomputed\"]))\n",
    "    enformer_dnase_roc.append(roc_auc)\n",
    "\n",
    "    roc_auc = metrics.average_precision_score(dataf[\"label\"], abs(dataf[\"DNASE_SAR\"]))\n",
    "    enformer_dnase_roc_sar.append(roc_auc)\n"
   ]
  },
  {
   "cell_type": "code",
   "execution_count": 61,
   "metadata": {},
   "outputs": [
    {
     "data": {
      "text/plain": [
       "<matplotlib.legend.Legend at 0x7fce9e907190>"
      ]
     },
     "execution_count": 61,
     "metadata": {},
     "output_type": "execute_result"
    },
    {
     "data": {
      "image/png": "[encoded data removed]",
      "text/plain": [
       "<Figure size 432x360 with 1 Axes>"
      ]
     },
     "metadata": {
      "needs_background": "light"
     },
     "output_type": "display_data"
    }
   ],
   "source": [
    "fig, ax = plt.subplots(figsize=(6,5))\n",
    "colors = [\"blue\", \"blue\"]\n",
    "alphas = [0.5, 1.0]\n",
    "idx=0\n",
    "for key in [\"ChromBPNet ATAC (572M)\", \"ChromBPNet ATAC (50M)\"]:\n",
    "    ax.scatter(np.arange(3,23,2).astype(str), chrombpnet[key], label=key, c=\"blue\", alpha=alphas[idx])\n",
    "    idx+=1\n",
    "    \n",
    "key=\"ChromBPNet DNase (68M)\"\n",
    "ax.scatter(np.arange(3,23,2).astype(str), chrombpnet[key], label=key)\n",
    "ax.scatter(np.arange(3,23,2).astype(str), enformer_dnase_roc_sar, label=\"Enformer DNase (reported) (68M)\")\n",
    "ax.scatter(np.arange(3,23,2).astype(str), enformer_dnase_roc, label=\"Enformer DNase (recomputed) (68M)\")\n",
    "\n",
    "ax.scatter(np.arange(3,23,2).astype(str), random_bc, label=\"random\")\n",
    "\n",
    "ax.spines[[\"top\", \"right\"]].set_visible(False)\n",
    "ax.set_xlabel(\"-log10BH\")\n",
    "ax.set_ylabel(\"Average precision\")\n",
    "#plt.legend(loc='upper right')\n",
    "\n",
    "# Shrink current axis by 20%\n",
    "box = ax.get_position()\n",
    "ax.set_position([box.x0, box.y0, box.width * 0.8, box.height])\n",
    "\n",
    "# Put a legend to the right of the current axis\n",
    "ax.legend(loc='center left', bbox_to_anchor=(1, 0.5))\n",
    "\n",
    "#plt.show()\n",
    "\n",
    "#plt.savefig(\"subfigs/eu_caqtls_auprc_compare.pdf\", transparent=True, dpi=300)"
   ]
  },
  {
   "cell_type": "code",
   "execution_count": 40,
   "metadata": {},
   "outputs": [
    {
     "name": "stderr",
     "output_type": "stream",
     "text": [
      "/users/anusri/anaconda3/lib/python3.7/site-packages/ipykernel_launcher.py:2: SettingWithCopyWarning: \n",
      "A value is trying to be set on a copy of a slice from a DataFrame.\n",
      "Try using .loc[row_indexer,col_indexer] = value instead\n",
      "\n",
      "See the caveats in the documentation: https://pandas.pydata.org/pandas-docs/stable/user_guide/indexing.html#returning-a-view-versus-a-copy\n",
      "  \n",
      "/users/anusri/anaconda3/lib/python3.7/site-packages/pandas/core/indexing.py:1817: SettingWithCopyWarning: \n",
      "A value is trying to be set on a copy of a slice from a DataFrame.\n",
      "Try using .loc[row_indexer,col_indexer] = value instead\n",
      "\n",
      "See the caveats in the documentation: https://pandas.pydata.org/pandas-docs/stable/user_guide/indexing.html#returning-a-view-versus-a-copy\n",
      "  self._setitem_single_column(loc, value, pi)\n"
     ]
    },
    {
     "data": {
      "text/plain": [
       "Text(0, 0.5, 'Precision')"
      ]
     },
     "execution_count": 40,
     "metadata": {},
     "output_type": "execute_result"
    },
    {
     "data": {
      "image/png": "[encoded data removed]",
      "text/plain": [
       "<Figure size 720x432 with 1 Axes>"
      ]
     },
     "metadata": {
      "needs_background": "light"
     },
     "output_type": "display_data"
    }
   ],
   "source": [
    "\n",
    "dataf = caqtls[(caqtls[\"Log10_BF\"]<-1) | (caqtls[\"Log10_BF\"]>3)]\n",
    "dataf[\"label\"] = 0\n",
    "dataf.loc[dataf[\"Log10_BF\"]>3, \"label\"] = 1\n",
    "\n",
    "    \n",
    "fig, ax = plt.subplots(figsize=(10,6))\n",
    "\n",
    "######################################\n",
    "\n",
    "keyd=\"ENCSR637XSC.abs_logfc_x_jsd_x_max_percentile.mean\"\n",
    "\n",
    "label=dataf[\"label\"].astype(int)\n",
    "score=abs(dataf[keyd])\n",
    "\n",
    "title=\"ChromBPnet w/ ATAC (572M)\"\n",
    "\n",
    "fpr_chrombpnet, tpr_chrombpnet, _ = precision_recall_curve(label,score)\n",
    "roc_auc = metrics.average_precision_score(label, score)\n",
    "ax.plot(tpr_chrombpnet,fpr_chrombpnet,  linewidth=2, c='blue', linestyle='dashed', label=title+\", AP=\"+str(round(roc_auc,2)))\n",
    "\n",
    "######################################\n",
    "\n",
    "keyd=\"ENCSR637XSC.sub.50M.abs_logfc_x_jsd_x_max_percentile.mean\"\n",
    "label=dataf[\"label\"].astype(int)\n",
    "score=abs(dataf[keyd])\n",
    "\n",
    "title=\"ChromBPnet w/ ATAC (50M)\"\n",
    "\n",
    "fpr_chrombpnet, tpr_chrombpnet, _ = precision_recall_curve(label,score)\n",
    "roc_auc = metrics.average_precision_score(label, score)\n",
    "ax.plot(tpr_chrombpnet,fpr_chrombpnet,  linewidth=2, c='blue', label=title+\", AP=\"+str(round(roc_auc,2)))\n",
    "\n",
    "######################################\n",
    "\n",
    "keyd=\"ENCSR000EMT.abs_logfc_x_jsd_x_max_percentile.mean\"\n",
    "label=dataf[\"label\"].astype(int)\n",
    "score=abs(dataf[keyd])\n",
    "\n",
    "title=\"ChromBPnet w/ DNASE (50M)\"\n",
    "\n",
    "fpr_chrombpnet, tpr_chrombpnet, _ = precision_recall_curve(label,score)\n",
    "roc_auc = metrics.average_precision_score(label, score)\n",
    "ax.plot(tpr_chrombpnet,fpr_chrombpnet,  linewidth=2, label=title+\", AP=\"+str(round(roc_auc,2)))\n",
    "\n",
    "######################################\n",
    "\n",
    "keyd=\"enformer_recomputed\"\n",
    "label=dataf[\"label\"].astype(int)\n",
    "score=abs(dataf[keyd])\n",
    "title=\"Enformer w/ DNASE SAD (50M)\"\n",
    "\n",
    "fpr_chrombpnet, tpr_chrombpnet, _ = precision_recall_curve(label,score)\n",
    "roc_auc = metrics.average_precision_score(label, score)\n",
    "ax.plot(tpr_chrombpnet,fpr_chrombpnet,  linewidth=2, label=title+\", AP=\"+str(round(roc_auc,2)))\n",
    "\n",
    "######################################\n",
    "\n",
    "keyd=\"DNASE_SAR\"\n",
    "label=dataf[\"label\"].astype(int)\n",
    "score=abs(dataf[keyd])\n",
    "title=\"Enformer w/ DNASE SAR (50M)\"\n",
    "\n",
    "\n",
    "fpr_chrombpnet, tpr_chrombpnet, _ = precision_recall_curve(label,score)\n",
    "roc_auc = metrics.average_precision_score(label, score)\n",
    "ax.plot(tpr_chrombpnet,fpr_chrombpnet,  linewidth=2, label=title+\", AP=\"+str(round(roc_auc,2)))\n",
    "enformer_auc = roc_auc\n",
    "\n",
    "######################################\n",
    "\n",
    "roc_auc=sum(dataf[\"label\"]==1)/len(dataf[\"label\"])\n",
    "ax.plot(fpr_chrombpnet, [sum(dataf[\"label\"]==1)/len(dataf[\"label\"])]*len(fpr_chrombpnet), linewidth=2, label=\"Random baseline, AP=\"+str(round(roc_auc,2)))\n",
    "\n",
    "\n",
    "ax.spines[[\"top\", \"right\"]].set_visible(False)\n",
    "ax.legend(loc='upper right')\n",
    "ax.set_xlabel(\"Recall\")\n",
    "ax.set_ylabel(\"Precision\")\n",
    "\n",
    "#plt.savefig(\"subfigs/eu_caqtls_auprc.pdf\", transparent=True, dpi=300)"
   ]
  },
  {
   "cell_type": "markdown",
   "metadata": {},
   "source": [
    "# Pearsonr (benchmarking)"
   ]
  },
  {
   "cell_type": "code",
   "execution_count": 41,
   "metadata": {},
   "outputs": [
    {
     "name": "stdout",
     "output_type": "stream",
     "text": [
      "(0.6868906658926365, 0.0)\n"
     ]
    },
    {
     "data": {
      "text/plain": [
       "Text(0.5, 1.0, 'Pearsonr = 0.69')"
      ]
     },
     "execution_count": 41,
     "metadata": {},
     "output_type": "execute_result"
    },
    {
     "data": {
      "image/png": "[encoded data removed]",
      "text/plain": [
       "<Figure size 576x360 with 1 Axes>"
      ]
     },
     "metadata": {
      "needs_background": "light"
     },
     "output_type": "display_data"
    }
   ],
   "source": [
    "import matplotlib.pyplot as plt\n",
    "import seaborn as sns\n",
    "import scipy.stats\n",
    "\n",
    "plt.figure(figsize=(8,5))\n",
    "data = pd.DataFrame()\n",
    "data[\"logfc.mean\"] = caqtls[caqtls[\"Log10_BF\"] > 3][\"ENCSR637XSC.logfc.mean\"]\n",
    "data[\"Beta\"] = caqtls[caqtls[\"Log10_BF\"] > 3][\"Beta\"]\n",
    "\n",
    "sns.kdeplot(\n",
    "    data=data,\n",
    "    x=\"Beta\",\n",
    "    y=\"logfc.mean\",\n",
    "    levels=5,\n",
    "    fill=False,\n",
    "    alpha=0.2,\n",
    "    color=\"grey\",\n",
    "    cut=2,\n",
    "\n",
    ")\n",
    "\n",
    "\n",
    "ax = sns.scatterplot(x=\"Beta\", y=\"logfc.mean\", data=data, s=6, color=\"#2B1C97\" , rasterized=True)\n",
    "sns.regplot(x=\"Beta\", y=\"logfc.mean\", data=data, scatter=False, ci=None, color=\"#2B1C97\")\n",
    "ax.spines[[\"top\", \"right\"]].set_visible(False)\n",
    "\n",
    "atc_pear = scipy.stats.pearsonr(data[\"logfc.mean\"],data[\"Beta\"])\n",
    "print(atc_pear)\n",
    "ax.set_title(\"Pearsonr = \"+str(np.round(atc_pear[0],2)))\n",
    "\n",
    "#plt.savefig(\"subfigs/eu_caqtls_pearsonr.pdf\", transparent=True, dpi=300)"
   ]
  },
  {
   "cell_type": "code",
   "execution_count": null,
   "metadata": {},
   "outputs": [],
   "source": []
  },
  {
   "cell_type": "code",
   "execution_count": 42,
   "metadata": {},
   "outputs": [
    {
     "name": "stdout",
     "output_type": "stream",
     "text": [
      "3\n",
      "(0.665201152808693, 0.0)\n",
      "(0.34850892927706606, 2.630986285282384e-279)\n",
      "(0.6868906658926365, 0.0)\n",
      "(0.373254896437749, 3e-323)\n",
      "(0.6592033898590558, 0.0)\n",
      "(0.3472522744775551, 3.540472364876723e-277)\n",
      "(0.627801839294076, 0.0)\n",
      "(0.3192540544109002, 3.112035561037733e-232)\n",
      "(0.4589230068441387, 0.0)\n",
      "(0.1176776945456202, 1.018370060074654e-31)\n",
      "5\n",
      "(0.6826615286957263, 0.0)\n",
      "(0.324407859465878, 1.6214207694521943e-164)\n",
      "(0.7035209829901686, 0.0)\n",
      "(0.3492777529105701, 3.931635735369743e-192)\n",
      "(0.6769824693057631, 0.0)\n",
      "(0.32628370414750707, 1.6421597349614996e-166)\n",
      "(0.6411690719027333, 0.0)\n",
      "(0.28825067537231314, 8.870861194497183e-129)\n",
      "(0.4777358871973751, 0.0)\n",
      "(0.09238815482662387, 3.21069946085816e-14)\n",
      "7\n",
      "(0.6950902591089945, 0.0)\n",
      "(0.30211172435536165, 8.05495353891432e-104)\n",
      "(0.714697007575527, 0.0)\n",
      "(0.32706838324688947, 2.2683993962838284e-122)\n",
      "(0.6890682340849307, 0.0)\n",
      "(0.30522182053278235, 4.912388307359105e-106)\n",
      "(0.6518683819270539, 0.0)\n",
      "(0.2602150926507698, 1.4463704172886153e-76)\n",
      "(0.48778120533572766, 5.3383060250475896e-291)\n",
      "(0.06884290185007744, 1.4316932327882974e-06)\n",
      "9\n",
      "(0.7014228450600566, 0.0)\n",
      "(0.2856313536972103, 3.338529460126271e-70)\n",
      "(0.7211907298407995, 0.0)\n",
      "(0.3093373799658413, 1.2542419675848708e-82)\n",
      "(0.6946289776991347, 0.0)\n",
      "(0.28907747942451256, 6.166123619638952e-72)\n",
      "(0.6635183293951822, 0.0)\n",
      "(0.24599121087863077, 5.6379035748626e-52)\n",
      "(0.499144336930447, 1.0175325393365094e-231)\n",
      "(0.057053025500328466, 0.0005265229506653116)\n",
      "11\n",
      "(0.7075259979323208, 0.0)\n",
      "(0.27089507341408525, 1.6607753892550684e-48)\n",
      "(0.7284896036950416, 0.0)\n",
      "(0.295502154315366, 8.550506665426216e-58)\n",
      "(0.7014502498805992, 0.0)\n",
      "(0.2767833137185822, 1.2106013169809058e-50)\n",
      "(0.673364996127206, 0.0)\n",
      "(0.23620481328127424, 5.738051629597827e-37)\n",
      "(0.5046523097374483, 1.1395949327094489e-181)\n",
      "(0.041480149971671765, 0.027808193571009995)\n",
      "13\n",
      "(0.7082521271184222, 0.0)\n",
      "(0.2509125451534507, 5.204409853513289e-32)\n",
      "(0.7301693997545102, 0.0)\n",
      "(0.27605781731680057, 1.1991784149842266e-38)\n",
      "(0.7032658547722237, 2.151557e-318)\n",
      "(0.2625670160828593, 5.363115481776276e-35)\n",
      "(0.6758214921561225, 6.274675047436831e-285)\n",
      "(0.22211953980687146, 2.8332698433615437e-25)\n",
      "(0.5081635039656659, 1.4889742623074987e-140)\n",
      "(0.035625996462810956, 0.09982650815336373)\n",
      "15\n",
      "(0.7223787927381474, 2.4468489381949018e-257)\n",
      "(0.24347385024090037, 6.09347737674947e-23)\n",
      "(0.7413819086933173, 4.557933398306138e-278)\n",
      "(0.26259713877391083, 1.5059943118213788e-26)\n",
      "(0.7152589545555957, 5.1865028692858216e-250)\n",
      "(0.24881791657257168, 6.41918750260712e-24)\n",
      "(0.6853357367512125, 1.5618391990166726e-221)\n",
      "(0.20642085115705344, 8.455452361573364e-17)\n",
      "(0.5124008415355104, 2.0113856524220865e-107)\n",
      "(0.01805825222424427, 0.47123713705700354)\n",
      "17\n",
      "(0.7254228485393548, 1.3693580472667745e-195)\n",
      "(0.23318015869038994, 3.303322549575806e-16)\n",
      "(0.7440993987894741, 4.772436893049345e-211)\n",
      "(0.2471545369785267, 4.471788983711831e-18)\n",
      "(0.7184364180936791, 3.927462371788624e-190)\n",
      "(0.23859267277393376, 6.44727767946077e-17)\n",
      "(0.6857609353874446, 1.1603795714018026e-166)\n",
      "(0.19345309577485695, 1.5685074783991428e-11)\n",
      "(0.506938916871917, 5.909474261603635e-79)\n",
      "(-0.009931120662050286, 0.7317399008717101)\n",
      "19\n",
      "(0.7375987093261414, 9.42562414326714e-146)\n",
      "(0.21557890190866796, 2.4803578820028113e-10)\n",
      "(0.7520767922168495, 1.2761540554037136e-154)\n",
      "(0.2241223940657413, 4.5356045772670874e-11)\n",
      "(0.7290220552802559, 9.01938707228914e-141)\n",
      "(0.2261687862324507, 2.987981722116067e-11)\n",
      "(0.6897824318242196, 3.222481841439591e-120)\n",
      "(0.1756991207576248, 2.794564069781792e-07)\n",
      "(0.5106021921020437, 3.158873036327609e-57)\n",
      "(-0.030072101163663212, 0.3829097374704071)\n",
      "21\n",
      "(0.7392373541166697, 3.054027651356299e-104)\n",
      "(0.22560163422535967, 2.5081665140024487e-08)\n",
      "(0.7526297995590513, 4.529398430472803e-110)\n",
      "(0.24310963914077485, 1.7646813945676983e-09)\n",
      "(0.7294244145864095, 3.407717594527533e-100)\n",
      "(0.24347995687417626, 1.6645327502714675e-09)\n",
      "(0.7012750904492621, 1.6464238665213796e-89)\n",
      "(0.20084649265148435, 7.512734334537685e-07)\n",
      "(0.5166539804666994, 4.784746767469464e-42)\n",
      "(0.004058035061216381, 0.9211819869876746)\n"
     ]
    }
   ],
   "source": [
    "import scipy.stats\n",
    "chrombpnet = {}\n",
    "chrombpnet_unsigned = {}\n",
    "enformer = []\n",
    "enformer_unsigned = []\n",
    "enformer_sar = []\n",
    "enformer_unsigned_sar = []\n",
    "chrombpnet[\"ChromBPNet DNase (68M)\"] = []\n",
    "chrombpnet[\"ChromBPNet ATAC (572M)\"] = []\n",
    "chrombpnet[\"ChromBPNet ATAC (50M)\"] = []\n",
    "\n",
    "chrombpnet_unsigned[\"ChromBPNet DNase (68M)\"] = []\n",
    "chrombpnet_unsigned[\"ChromBPNet ATAC (572M)\"] = []\n",
    "chrombpnet_unsigned[\"ChromBPNet ATAC (50M)\"] = []\n",
    "\n",
    "for threshold in np.arange(3,23,2):\n",
    "    print(threshold)\n",
    "    dataf = caqtls[(caqtls[\"Log10_BF\"]>threshold)]\n",
    "        \n",
    "    pear = scipy.stats.pearsonr(dataf[\"ENCSR000EMT.logfc.mean\"], dataf[\"Beta\"])\n",
    "    print(pear)\n",
    "\n",
    "    chrombpnet[\"ChromBPNet DNase (68M)\"].append(pear[0])\n",
    "    \n",
    "    pear = scipy.stats.pearsonr(abs(dataf[\"ENCSR000EMT.logfc.mean\"]), abs(dataf[\"Beta\"]))\n",
    "    print(pear)\n",
    "\n",
    "    chrombpnet_unsigned[\"ChromBPNet DNase (68M)\"].append(pear[0])    \n",
    " \n",
    "    pear = scipy.stats.pearsonr(dataf[\"ENCSR637XSC.logfc.mean\"], dataf[\"Beta\"])\n",
    "    print(pear)\n",
    "\n",
    "    chrombpnet[\"ChromBPNet ATAC (572M)\"].append(pear[0])\n",
    "    \n",
    "    pear = scipy.stats.pearsonr(abs(dataf[\"ENCSR637XSC.logfc.mean\"]), abs(dataf[\"Beta\"]))\n",
    "    print(pear)\n",
    "\n",
    "    chrombpnet_unsigned[\"ChromBPNet ATAC (572M)\"].append(pear[0])    \n",
    "\n",
    "    pear = scipy.stats.pearsonr(dataf[\"ENCSR637XSC.sub.50M.logfc.mean\"], dataf[\"Beta\"])\n",
    "    print(pear)\n",
    "\n",
    "    chrombpnet[\"ChromBPNet ATAC (50M)\"].append(pear[0])\n",
    "    \n",
    "    pear = scipy.stats.pearsonr(abs(dataf[\"ENCSR637XSC.sub.50M.logfc.mean\"]), abs(dataf[\"Beta\"]))\n",
    "    print(pear)\n",
    "\n",
    "    chrombpnet_unsigned[\"ChromBPNet ATAC (50M)\"].append(pear[0])\n",
    "    \n",
    "    pear = scipy.stats.pearsonr(dataf[\"enformer_recomputed\"]*-1, dataf[\"Beta\"])\n",
    "    print(pear)\n",
    "\n",
    "    enformer.append(pear[0])\n",
    "    \n",
    "    pear = scipy.stats.pearsonr(abs(dataf[\"enformer_recomputed\"]), abs(dataf[\"Beta\"]))\n",
    "    print(pear)\n",
    "\n",
    "    enformer_unsigned.append(pear[0])\n",
    "\n",
    "    pear = scipy.stats.pearsonr(dataf[\"DNASE_SAR\"], dataf[\"Beta\"])\n",
    "    print(pear)\n",
    "    enformer_sar.append(pear[0])\n",
    "    \n",
    "    pear = scipy.stats.pearsonr(abs(dataf[\"DNASE_SAR\"]), abs(dataf[\"Beta\"]))\n",
    "    print(pear)\n",
    "    enformer_unsigned_sar.append(pear[0])\n"
   ]
  },
  {
   "cell_type": "code",
   "execution_count": 43,
   "metadata": {},
   "outputs": [
    {
     "data": {
      "text/plain": [
       "<matplotlib.legend.Legend at 0x7f5764292c90>"
      ]
     },
     "execution_count": 43,
     "metadata": {},
     "output_type": "execute_result"
    },
    {
     "data": {
      "image/png": "[encoded data removed]",
      "text/plain": [
       "<Figure size 432x360 with 1 Axes>"
      ]
     },
     "metadata": {
      "needs_background": "light"
     },
     "output_type": "display_data"
    }
   ],
   "source": [
    "fig, ax = plt.subplots(figsize=(6,5))\n",
    "\n",
    "colors = [\"blue\", \"blue\", \"C0\"]\n",
    "alphas= [0.5, 1.0, 1.0, 1.0] \n",
    "\n",
    "i=0\n",
    "for key in [\"ChromBPNet ATAC (572M)\", \"ChromBPNet ATAC (50M)\", \"ChromBPNet DNase (68M)\"]:\n",
    "    ax.scatter(np.arange(3,23,2).astype(str), chrombpnet[key], marker=\"^\", label=key, color=colors[i], alpha=alphas[i])\n",
    "    i+=1\n",
    "\n",
    "\n",
    "ax.scatter(np.arange(3,23,2).astype(str), enformer_sar ,  marker=\"^\", label=\"Enformer DNase (provided) (68M)\", color=\"orange\")\n",
    "ax.scatter(np.arange(3,23,2).astype(str), enformer ,  marker=\"^\", label=\"Enformer DNase (recomputed) (68M)\", color=\"green\")\n",
    "\n",
    "i=0\n",
    "for key in [\"ChromBPNet ATAC (572M)\", \"ChromBPNet ATAC (50M)\", \"ChromBPNet DNase (68M)\"]:\n",
    "    ax.scatter(np.arange(3,23,2).astype(str), chrombpnet_unsigned[key], marker=\"v\", label=\"unsign \"+key, color=colors[i], alpha=alphas[i])\n",
    "    i+=1\n",
    "    \n",
    "ax.scatter(np.arange(3,23,2).astype(str), enformer_unsigned_sar, marker=\"v\", label=\"unsign \" +\"Enformer DNase (provided) (68M)\", color=\"orange\")\n",
    "ax.scatter(np.arange(3,23,2).astype(str), enformer_unsigned, marker=\"v\", label=\"unsign \" +\"Enformer DNase (recomputed) (68M)\", color=\"green\")\n",
    "\n",
    "\n",
    "ax.spines[[\"top\", \"right\"]].set_visible(False)\n",
    "ax.set_xlabel(\"-log10BH\")\n",
    "ax.set_ylabel(\"Pearsonr\")\n",
    "#plt.legend(loc='upper right')\n",
    "\n",
    "# Shrink current axis by 20%\n",
    "box = ax.get_position()\n",
    "ax.set_position([box.x0, box.y0, box.width * 0.8, box.height])\n",
    "\n",
    "# Put a legend to the right of the current axis\n",
    "ax.legend(loc='center left', bbox_to_anchor=(1, 0.5))\n",
    "\n",
    "#plt.show()\n",
    "\n",
    "#plt.savefig(\"subfigs/eu_caqtls_pearsonr_compare.pdf\", transparent=True, dpi=300)\n"
   ]
  },
  {
   "cell_type": "code",
   "execution_count": 44,
   "metadata": {},
   "outputs": [
    {
     "name": "stdout",
     "output_type": "stream",
     "text": [
      "3\n",
      "5\n",
      "7\n",
      "9\n",
      "11\n",
      "13\n",
      "15\n",
      "17\n",
      "19\n",
      "21\n"
     ]
    }
   ],
   "source": [
    "import scipy.stats\n",
    "chrombpnet = {}\n",
    "chrombpnet_unsigned = {}\n",
    "enformer = []\n",
    "enformer_unsigned = []\n",
    "enformer_sar = []\n",
    "enformer_unsigned_sar = []\n",
    "chrombpnet[\"ChromBPNet DNase (68M)\"] = []\n",
    "chrombpnet[\"ChromBPNet ATAC (572M)\"] = []\n",
    "chrombpnet[\"ChromBPNet ATAC (50M)\"] = []\n",
    "\n",
    "chrombpnet_unsigned[\"ChromBPNet DNase (68M)\"] = []\n",
    "chrombpnet_unsigned[\"ChromBPNet ATAC (572M)\"] = []\n",
    "chrombpnet_unsigned[\"ChromBPNet ATAC (50M)\"] = []\n",
    "\n",
    "for threshold in np.arange(3,23,2):\n",
    "    print(threshold)\n",
    "    dataf = caqtls[(caqtls[\"Log10_BF\"]>threshold)]\n",
    "        \n",
    "    pear = scipy.stats.pearsonr(dataf[\"ENCSR000EMT.jsd_sign.mean\"], dataf[\"Beta\"])\n",
    "    chrombpnet[\"ChromBPNet DNase (68M)\"].append(pear[0])\n",
    "    \n",
    "    pear = scipy.stats.pearsonr(abs(dataf[\"ENCSR000EMT.jsd_sign.mean\"]), abs(dataf[\"Beta\"]))\n",
    "    chrombpnet_unsigned[\"ChromBPNet DNase (68M)\"].append(pear[0])    \n",
    " \n",
    "    pear = scipy.stats.pearsonr(dataf[\"ENCSR637XSC.jsd_sign.mean\"], dataf[\"Beta\"])\n",
    "    chrombpnet[\"ChromBPNet ATAC (572M)\"].append(pear[0])\n",
    "    \n",
    "    pear = scipy.stats.pearsonr(abs(dataf[\"ENCSR637XSC.jsd_sign.mean\"]), abs(dataf[\"Beta\"]))\n",
    "    chrombpnet_unsigned[\"ChromBPNet ATAC (572M)\"].append(pear[0])    \n",
    "\n",
    "    pear = scipy.stats.pearsonr(dataf[\"ENCSR637XSC.sub.50M.jsd_sign.mean\"], dataf[\"Beta\"])\n",
    "    chrombpnet[\"ChromBPNet ATAC (50M)\"].append(pear[0])\n",
    "    \n",
    "    pear = scipy.stats.pearsonr(abs(dataf[\"ENCSR637XSC.sub.50M.jsd_sign.mean\"]), abs(dataf[\"Beta\"]))\n",
    "    chrombpnet_unsigned[\"ChromBPNet ATAC (50M)\"].append(pear[0])\n",
    "    \n",
    "    pear = scipy.stats.pearsonr(dataf[\"enformer_recomputed\"]*-1, dataf[\"Beta\"])\n",
    "    enformer.append(pear[0])\n",
    "    \n",
    "    pear = scipy.stats.pearsonr(abs(dataf[\"enformer_recomputed\"]), abs(dataf[\"Beta\"]))\n",
    "    enformer_unsigned.append(pear[0])\n",
    "\n",
    "\n",
    "    pear = scipy.stats.pearsonr(dataf[\"DNASE_SAR\"], dataf[\"Beta\"])\n",
    "    enformer_sar.append(pear[0])\n",
    "    \n",
    "    pear = scipy.stats.pearsonr(abs(dataf[\"DNASE_SAR\"]), abs(dataf[\"Beta\"]))\n",
    "    enformer_unsigned_sar.append(pear[0])\n"
   ]
  },
  {
   "cell_type": "code",
   "execution_count": 45,
   "metadata": {},
   "outputs": [
    {
     "data": {
      "text/plain": [
       "<matplotlib.legend.Legend at 0x7f5762b27b90>"
      ]
     },
     "execution_count": 45,
     "metadata": {},
     "output_type": "execute_result"
    },
    {
     "data": {
      "image/png": "[encoded data removed]",
      "text/plain": [
       "<Figure size 432x360 with 1 Axes>"
      ]
     },
     "metadata": {
      "needs_background": "light"
     },
     "output_type": "display_data"
    }
   ],
   "source": [
    "fig, ax = plt.subplots(figsize=(6,5))\n",
    "\n",
    "colors = [\"blue\", \"blue\", \"C0\"]\n",
    "alphas= [0.5, 1.0, 1.0, 1.0] \n",
    "\n",
    "i=0\n",
    "for key in [\"ChromBPNet ATAC (572M)\", \"ChromBPNet ATAC (50M)\", \"ChromBPNet DNase (68M)\"]:\n",
    "    ax.scatter(np.arange(3,23,2).astype(str), chrombpnet[key], marker=\"^\", label=key, color=colors[i], alpha=alphas[i])\n",
    "    i+=1\n",
    "\n",
    "\n",
    "ax.scatter(np.arange(3,23,2).astype(str), enformer_sar ,  marker=\"^\", label=\"Enformer DNase (reported) (68M)\", color=\"orange\")\n",
    "ax.scatter(np.arange(3,23,2).astype(str), enformer ,  marker=\"^\", label=\"Enformer DNase (recomputed) (68M)\", color=\"green\")\n",
    "\n",
    "i=0\n",
    "for key in [\"ChromBPNet ATAC (572M)\", \"ChromBPNet ATAC (50M)\", \"ChromBPNet DNase (68M)\"]:\n",
    "    ax.scatter(np.arange(3,23,2).astype(str), chrombpnet_unsigned[key], marker=\"v\", label=\"unsign \"+key, color=colors[i], alpha=alphas[i])\n",
    "    i+=1\n",
    "    \n",
    "ax.scatter(np.arange(3,23,2).astype(str), enformer_unsigned_sar, marker=\"v\", label=\"unsign \" +\"Enformer DNase (reported) (68M)\", color=\"orange\")\n",
    "ax.scatter(np.arange(3,23,2).astype(str), enformer_unsigned, marker=\"v\", label=\"unsign \" +\"Enformer DNase (recomputed) (68M)\", color=\"green\")\n",
    "\n",
    "\n",
    "ax.spines[[\"top\", \"right\"]].set_visible(False)\n",
    "ax.set_xlabel(\"-log10BH\")\n",
    "ax.set_ylabel(\"Pearsonr\")\n",
    "#plt.legend(loc='upper right')\n",
    "\n",
    "# Shrink current axis by 20%\n",
    "box = ax.get_position()\n",
    "ax.set_position([box.x0, box.y0, box.width * 0.8, box.height])\n",
    "\n",
    "# Put a legend to the right of the current axis\n",
    "ax.legend(loc='center left', bbox_to_anchor=(1, 0.5))\n",
    "\n",
    "#plt.show()\n",
    "\n",
    "#plt.savefig(\"subfigs/eu_caqtls_pearsonr_compare_jsd.pdf\", transparent=True, dpi=300)\n"
   ]
  },
  {
   "cell_type": "code",
   "execution_count": null,
   "metadata": {},
   "outputs": [],
   "source": []
  },
  {
   "cell_type": "markdown",
   "metadata": {},
   "source": [
    "# Enrichment plots"
   ]
  },
  {
   "cell_type": "code",
   "execution_count": 25,
   "metadata": {},
   "outputs": [],
   "source": [
    "import matplotlib\n",
    "\n",
    "import seaborn as sns\n",
    "\n",
    "matplotlib.rcParams['pdf.fonttype'] = 42\n",
    "matplotlib.rcParams['ps.fonttype'] = 42 \n",
    "\n",
    "import matplotlib.pyplot as plt\n",
    "from matplotlib.pyplot import figure\n",
    "\n",
    "plt.rcParams['figure.figsize'] = [12, 10]\n",
    "\n",
    "def plot_enrichment_curves(df, compare_score, model_score, output_file, compare_score_ascending=False, model_score_ascending=True,\n",
    "                           thresh_list=[0.5, 0.1, 0.05, 0.01, 0.005, 0.001], subsample=False, ymax='auto', debug=False):\n",
    "    by_thresh_dict = {'score':[], 'ratio':[], 'thresh':[]}\n",
    "    \n",
    "    #df[model_score+\"_abs\"] = np.abs(df[model_score])\n",
    "    #model_score = model_score+\"_abs\"\n",
    "    print(model_score)\n",
    "    #thresh_list = [df[model_score].quantile(1-0.5), df[model_score].quantile(1-0.1), df[model_score].quantile(1-0.05), df[model_score].quantile(1-0.01),\n",
    "    #              df[model_score].quantile(1-0.005), df[model_score].quantile(1-0.001), df[model_score].quantile(1-0.0005), df[model_score].quantile(1-0.0001)]\n",
    "    print(thresh_list)\n",
    "    for thresh in thresh_list:\n",
    "        df[compare_score].fillna(0, inplace=True)\n",
    "        sample_df = df.sort_values(by=[compare_score, model_score], ascending=[False, True])\n",
    "        #print(sample_df.head())\n",
    "        #print(sample_df.tail())\n",
    "        print(thresh)\n",
    "        print(sum(sample_df[model_score] < thresh))\n",
    "        ratio = len(sample_df.loc[sample_df[model_score] < thresh]) / len(sample_df)\n",
    "        sample_df['sig'] = sample_df[model_score].apply(lambda x: x < thresh)\n",
    "        sample_df['expected'] = [ratio] * len(sample_df)\n",
    "        expected = sample_df['expected'].cumsum().tolist()\n",
    "        observed = sample_df['sig'].cumsum().tolist()\n",
    "        \n",
    "        enrich_ratio = np.array(observed) / np.array(expected)\n",
    "        compare_vals = sample_df[compare_score].tolist()\n",
    "        enrich_ratio = enrich_ratio.tolist()\n",
    "        assert len(compare_vals) == len(enrich_ratio)\n",
    "        by_thresh_dict['ratio'].extend(enrich_ratio)\n",
    "        by_thresh_dict['score'].extend(compare_vals)\n",
    "        by_thresh_dict['thresh'].extend([thresh] * len(sample_df))\n",
    "        \n",
    "        if debug:\n",
    "            print(thresh)\n",
    "            print('Expected:', expected[:10])\n",
    "            print('Observed:', observed[:10])\n",
    "            print('Ratio:', enrich_ratio[:10])\n",
    "            print('Compare Scores:', compare_vals[:10])\n",
    "            print()\n",
    "        \n",
    "    by_thresh_df = pd.DataFrame(by_thresh_dict)\n",
    "    by_thresh_df.sort_values(by=['score'], ascending=False, inplace=True)\n",
    "    if subsample:\n",
    "        by_thresh_df = pd.concat([by_thresh_df.iloc[:20000,].copy(), by_thresh_df.iloc[20000:,].copy().sample(30000)])\n",
    "    return by_thresh_df\n",
    "    #plt.show()"
   ]
  },
  {
   "cell_type": "code",
   "execution_count": 26,
   "metadata": {},
   "outputs": [
    {
     "name": "stdout",
     "output_type": "stream",
     "text": [
      "ENCSR637XSC.abs_logfc_x_jsd_x_max_percentile.mean.pval\n",
      "[0.5, 0.1, 0.05, 0.01, 0.005, 0.001]\n",
      "0.5\n",
      "116126\n",
      "0.1\n",
      "39073\n",
      "0.05\n",
      "21758\n",
      "0.01\n",
      "5856\n",
      "0.005\n",
      "3372\n",
      "0.001\n",
      "865\n"
     ]
    }
   ],
   "source": [
    "by_thresh_df = plot_enrichment_curves(caqtls,\n",
    "                       compare_score='Log10_BF', model_score='ENCSR637XSC.abs_logfc_x_jsd_x_max_percentile.mean.pval',\n",
    "                       compare_score_ascending=False, model_score_ascending=True, output_file=\"lcl_caqtls_latest.pdf\")\n"
   ]
  },
  {
   "cell_type": "code",
   "execution_count": 27,
   "metadata": {},
   "outputs": [
    {
     "data": {
      "image/png": "[encoded data removed]",
      "text/plain": [
       "<Figure size 864x720 with 1 Axes>"
      ]
     },
     "metadata": {
      "needs_background": "light"
     },
     "output_type": "display_data"
    }
   ],
   "source": [
    "compare_score='Log10_BF'\n",
    "model_score='abs_logfc_x_jsd_x_max_percentile.mean.pval'\n",
    "ax = sns.lineplot(data=by_thresh_df, x='score', y='ratio', linewidth=3, ci=None,\n",
    "                  hue='thresh', palette=sns.color_palette('rocket', 6))\n",
    "leg = plt.legend(bbox_to_anchor=(1.02, 1), loc='upper left', borderaxespad=0)\n",
    "for line in leg.get_lines():\n",
    "    line.set_linewidth(4)\n",
    "xmax=\"auto\"\n",
    "ymax=\"auto\"\n",
    "output_file=\"lcl_caqtls_latest.pdf\"\n",
    "ax.set(title=compare_score + ' vs ' + model_score, xlabel=compare_score, ylabel='observed / expected')\n",
    "ax.set(yscale='log')\n",
    "ax.set_yticks([1,  3,  5, 7, 10, 20, 30, 40, 50, 200])\n",
    "ax.get_yaxis().set_major_formatter(matplotlib.ticker.ScalarFormatter())\n",
    "ax.axhline(y=1, color='grey', linestyle='-', alpha=0.2)\n",
    "\n",
    "ax.axhline(y=3, color='grey', linestyle='-', alpha=0.2)\n",
    "ax.axhline(y=5, color='grey', linestyle='-', alpha=0.2)\n",
    "ax.axhline(y=7, color='grey', linestyle='-', alpha=0.2)\n",
    "ax.axhline(y=10, color='grey', linestyle='-', alpha=0.2)\n",
    "ax.axhline(y=20, color='grey', linestyle='-', alpha=0.2)\n",
    "ax.axhline(y=30, color='grey', linestyle='-', alpha=0.2)\n",
    "ax.axhline(y=40, color='grey', linestyle='-', alpha=0.2)\n",
    "ax.axhline(y=200, color='grey', linestyle='-', alpha=0.2)\n",
    "\n",
    "ax.spines[[\"top\", \"right\"]].set_visible(False)\n",
    "\n",
    "plt.savefig(\"subfigs/eu_caqtls_enrichement_atac.pdf\", transparent=True, dpi=300)"
   ]
  },
  {
   "cell_type": "code",
   "execution_count": 15,
   "metadata": {},
   "outputs": [
    {
     "name": "stdout",
     "output_type": "stream",
     "text": [
      "ENCSR000EMT.abs_logfc_x_jsd_x_max_percentile.mean.pval\n",
      "[0.5, 0.1, 0.05, 0.01, 0.005, 0.001]\n",
      "0.5\n",
      "111403\n",
      "0.1\n",
      "33654\n",
      "0.05\n",
      "18156\n",
      "0.01\n",
      "4469\n",
      "0.005\n",
      "2448\n",
      "0.001\n",
      "596\n"
     ]
    }
   ],
   "source": [
    "by_thresh_df = plot_enrichment_curves(caqtls,\n",
    "                       compare_score='Log10_BF', model_score='ENCSR000EMT.abs_logfc_x_jsd_x_max_percentile.mean.pval',\n",
    "                       compare_score_ascending=False, model_score_ascending=True, output_file=\"lcl_caqtls_latest.pdf\")\n"
   ]
  },
  {
   "cell_type": "code",
   "execution_count": 16,
   "metadata": {},
   "outputs": [
    {
     "data": {
      "image/png": "[encoded data removed]",
      "text/plain": [
       "<Figure size 864x720 with 1 Axes>"
      ]
     },
     "metadata": {
      "needs_background": "light"
     },
     "output_type": "display_data"
    }
   ],
   "source": [
    "compare_score='Log10_BF'\n",
    "model_score='abs_logfc_x_jsd_x_max_percentile.mean.pval'\n",
    "ax = sns.lineplot(data=by_thresh_df, x='score', y='ratio', linewidth=3, ci=None,\n",
    "                  hue='thresh', palette=sns.color_palette('rocket', 6))\n",
    "leg = plt.legend(bbox_to_anchor=(1.02, 1), loc='upper left', borderaxespad=0)\n",
    "for line in leg.get_lines():\n",
    "    line.set_linewidth(4)\n",
    "xmax=\"auto\"\n",
    "ymax=\"auto\"\n",
    "output_file=\"lcl_caqtls_latest.pdf\"\n",
    "ax.set(title=compare_score + ' vs ' + model_score, xlabel=compare_score, ylabel='observed / expected')\n",
    "ax.set(yscale='log')\n",
    "ax.set_yticks([1,  3,  5, 7, 10, 20, 30, 40, 50, 200])\n",
    "ax.get_yaxis().set_major_formatter(matplotlib.ticker.ScalarFormatter())\n",
    "ax.axhline(y=1, color='grey', linestyle='-', alpha=0.2)\n",
    "\n",
    "ax.axhline(y=3, color='grey', linestyle='-', alpha=0.2)\n",
    "ax.axhline(y=5, color='grey', linestyle='-', alpha=0.2)\n",
    "ax.axhline(y=7, color='grey', linestyle='-', alpha=0.2)\n",
    "ax.axhline(y=10, color='grey', linestyle='-', alpha=0.2)\n",
    "ax.axhline(y=20, color='grey', linestyle='-', alpha=0.2)\n",
    "ax.axhline(y=30, color='grey', linestyle='-', alpha=0.2)\n",
    "ax.axhline(y=40, color='grey', linestyle='-', alpha=0.2)\n",
    "ax.axhline(y=200, color='grey', linestyle='-', alpha=0.2)\n",
    "\n",
    "ax.spines[[\"top\", \"right\"]].set_visible(False)\n",
    "\n",
    "plt.savefig(\"subfigs/eu_caqtls_enrichement_dnase.pdf\", transparent=True, dpi=300)"
   ]
  },
  {
   "cell_type": "code",
   "execution_count": null,
   "metadata": {},
   "outputs": [],
   "source": []
  },
  {
   "cell_type": "code",
   "execution_count": null,
   "metadata": {},
   "outputs": [],
   "source": []
  },
  {
   "cell_type": "code",
   "execution_count": null,
   "metadata": {},
   "outputs": [],
   "source": []
  }
 ],
 "metadata": {
  "kernelspec": {
   "display_name": "Python 3",
   "language": "python",
   "name": "python3"
  },
  "language_info": {
   "codemirror_mode": {
    "name": "ipython",
    "version": 3
   },
   "file_extension": ".py",
   "mimetype": "text/x-python",
   "name": "python",
   "nbconvert_exporter": "python",
   "pygments_lexer": "ipython3",
   "version": "3.7.6"
  }
 },
 "nbformat": 4,
 "nbformat_minor": 4
}
