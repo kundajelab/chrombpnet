{
 "cells": [
  {
   "cell_type": "code",
   "execution_count": 1,
   "metadata": {},
   "outputs": [],
   "source": [
    "import pandas as pd"
   ]
  },
  {
   "cell_type": "code",
   "execution_count": 2,
   "metadata": {},
   "outputs": [],
   "source": [
    "snps=pd.read_csv(\"/mnt/lab_data/kundaje/users/anusri/QTLs/bQTLs/src/pu1.txt\",header=0,sep='\\t')\n"
   ]
  },
  {
   "cell_type": "code",
   "execution_count": 3,
   "metadata": {},
   "outputs": [
    {
     "data": {
      "text/html": [
       "<div>\n",
       "<style scoped>\n",
       "    .dataframe tbody tr th:only-of-type {\n",
       "        vertical-align: middle;\n",
       "    }\n",
       "\n",
       "    .dataframe tbody tr th {\n",
       "        vertical-align: top;\n",
       "    }\n",
       "\n",
       "    .dataframe thead th {\n",
       "        text-align: right;\n",
       "    }\n",
       "</style>\n",
       "<table border=\"1\" class=\"dataframe\">\n",
       "  <thead>\n",
       "    <tr style=\"text-align: right;\">\n",
       "      <th></th>\n",
       "      <th>Chr</th>\n",
       "      <th>position</th>\n",
       "      <th>Depth</th>\n",
       "      <th>ALTdepth</th>\n",
       "      <th>REFDepth</th>\n",
       "      <th>ALTallele</th>\n",
       "      <th>POSTallele</th>\n",
       "      <th>POSTfreq</th>\n",
       "      <th>prechipfreq</th>\n",
       "      <th>pvalue</th>\n",
       "    </tr>\n",
       "  </thead>\n",
       "  <tbody>\n",
       "    <tr>\n",
       "      <th>0</th>\n",
       "      <td>chr17</td>\n",
       "      <td>18967176</td>\n",
       "      <td>538</td>\n",
       "      <td>418</td>\n",
       "      <td>120</td>\n",
       "      <td>G</td>\n",
       "      <td>A</td>\n",
       "      <td>0.223048</td>\n",
       "      <td>0.866699</td>\n",
       "      <td>2.331853e-251</td>\n",
       "    </tr>\n",
       "    <tr>\n",
       "      <th>1</th>\n",
       "      <td>chr4</td>\n",
       "      <td>176935913</td>\n",
       "      <td>626</td>\n",
       "      <td>597</td>\n",
       "      <td>29</td>\n",
       "      <td>A</td>\n",
       "      <td>C</td>\n",
       "      <td>0.046326</td>\n",
       "      <td>0.543949</td>\n",
       "      <td>4.449643e-162</td>\n",
       "    </tr>\n",
       "    <tr>\n",
       "      <th>2</th>\n",
       "      <td>chr1</td>\n",
       "      <td>144534083</td>\n",
       "      <td>618</td>\n",
       "      <td>368</td>\n",
       "      <td>250</td>\n",
       "      <td>T</td>\n",
       "      <td>C</td>\n",
       "      <td>0.404531</td>\n",
       "      <td>0.057295</td>\n",
       "      <td>5.863065e-141</td>\n",
       "    </tr>\n",
       "    <tr>\n",
       "      <th>3</th>\n",
       "      <td>chr17</td>\n",
       "      <td>19015381</td>\n",
       "      <td>144</td>\n",
       "      <td>143</td>\n",
       "      <td>1</td>\n",
       "      <td>A</td>\n",
       "      <td>T</td>\n",
       "      <td>0.006944</td>\n",
       "      <td>0.872850</td>\n",
       "      <td>1.040250e-126</td>\n",
       "    </tr>\n",
       "    <tr>\n",
       "      <th>4</th>\n",
       "      <td>chr1</td>\n",
       "      <td>17231724</td>\n",
       "      <td>2477</td>\n",
       "      <td>1321</td>\n",
       "      <td>1156</td>\n",
       "      <td>G</td>\n",
       "      <td>A</td>\n",
       "      <td>0.466694</td>\n",
       "      <td>0.255195</td>\n",
       "      <td>9.915948e-114</td>\n",
       "    </tr>\n",
       "  </tbody>\n",
       "</table>\n",
       "</div>"
      ],
      "text/plain": [
       "     Chr   position  Depth  ALTdepth  REFDepth ALTallele POSTallele  POSTfreq  \\\n",
       "0  chr17   18967176    538       418       120         G          A  0.223048   \n",
       "1   chr4  176935913    626       597        29         A          C  0.046326   \n",
       "2   chr1  144534083    618       368       250         T          C  0.404531   \n",
       "3  chr17   19015381    144       143         1         A          T  0.006944   \n",
       "4   chr1   17231724   2477      1321      1156         G          A  0.466694   \n",
       "\n",
       "   prechipfreq         pvalue  \n",
       "0     0.866699  2.331853e-251  \n",
       "1     0.543949  4.449643e-162  \n",
       "2     0.057295  5.863065e-141  \n",
       "3     0.872850  1.040250e-126  \n",
       "4     0.255195  9.915948e-114  "
      ]
     },
     "execution_count": 3,
     "metadata": {},
     "output_type": "execute_result"
    }
   ],
   "source": [
    "snps.head()"
   ]
  },
  {
   "cell_type": "code",
   "execution_count": 4,
   "metadata": {},
   "outputs": [
    {
     "data": {
      "text/plain": [
       "254"
      ]
     },
     "execution_count": 4,
     "metadata": {},
     "output_type": "execute_result"
    }
   ],
   "source": [
    "sum(snps[\"pvalue\"]<1e-20)"
   ]
  },
  {
   "cell_type": "code",
   "execution_count": 37,
   "metadata": {},
   "outputs": [
    {
     "name": "stdout",
     "output_type": "stream",
     "text": [
      "7.24416915012e-08\n",
      "0.0548097155473731\n"
     ]
    }
   ],
   "source": [
    "import numpy as np\n",
    "print(np.quantile(snps[\"pvalue\"],0.001))\n",
    "print(np.quantile(snps[\"pvalue\"],0.1))"
   ]
  },
  {
   "cell_type": "code",
   "execution_count": 44,
   "metadata": {},
   "outputs": [],
   "source": [
    "def get_data_for_ap(data_df, sig_thresh, nonsig_thresh, namef):\n",
    "    best_sig = data_df[data_df[\"pvalue\"]<sig_thresh]\n",
    "    best_sig[\"label\"] = 1\n",
    "    print(best_sig.shape)\n",
    "    \n",
    "    # non-significant set inside a peak\n",
    "    nonsig_df = data_df[data_df[\"pvalue\"]>nonsig_thresh].reset_index()\n",
    "    \n",
    "    other_nonsigs_inp = nonsig_df\n",
    "    final_set_nonsigs = other_nonsigs_inp.sample(best_sig.shape[0]*25, random_state=1).reset_index(drop=True)\n",
    "    final_set_nonsigs[\"label\"] = 0\n",
    "    print(final_set_nonsigs.shape)\n",
    "     \n",
    "    alldf = pd.concat([final_set_nonsigs,best_sig])\n",
    "    #print(alldf.head())\n",
    "    \n",
    "    alldf = alldf[[\"Chr\", \"position\", \"ALTallele\",  \"POSTallele\", \"label\", \"POSTfreq\", \"prechipfreq\"]]\n",
    "    \n",
    "    alldf.to_csv(namef, sep=\"\\t\", header=True, index=False)\n",
    "    "
   ]
  },
  {
   "cell_type": "code",
   "execution_count": 45,
   "metadata": {},
   "outputs": [
    {
     "name": "stderr",
     "output_type": "stream",
     "text": [
      "/users/anusri/anaconda3/lib/python3.7/site-packages/ipykernel_launcher.py:3: SettingWithCopyWarning: \n",
      "A value is trying to be set on a copy of a slice from a DataFrame.\n",
      "Try using .loc[row_indexer,col_indexer] = value instead\n",
      "\n",
      "See the caveats in the documentation: https://pandas.pydata.org/pandas-docs/stable/user_guide/indexing.html#returning-a-view-versus-a-copy\n",
      "  This is separate from the ipykernel package so we can avoid doing imports until\n"
     ]
    },
    {
     "name": "stdout",
     "output_type": "stream",
     "text": [
      "(26432, 11)\n",
      "(660800, 12)\n"
     ]
    }
   ],
   "source": [
    "namef=\"/mnt/lab_data2/anusri/enformer/bqtls/source1.tsv\"\n",
    "#get_data_for_ap(snps, 1e-9, 0.1, namef)\n",
    "get_data_for_ap(snps,  0.005, 0.1, namef)\n"
   ]
  },
  {
   "cell_type": "code",
   "execution_count": 38,
   "metadata": {},
   "outputs": [
    {
     "data": {
      "text/plain": [
       "633"
      ]
     },
     "execution_count": 38,
     "metadata": {},
     "output_type": "execute_result"
    }
   ],
   "source": [
    "sum(snps[\"pvalue\"]<1e-9)"
   ]
  },
  {
   "cell_type": "code",
   "execution_count": null,
   "metadata": {},
   "outputs": [],
   "source": []
  }
 ],
 "metadata": {
  "kernelspec": {
   "display_name": "Python 3",
   "language": "python",
   "name": "python3"
  },
  "language_info": {
   "codemirror_mode": {
    "name": "ipython",
    "version": 3
   },
   "file_extension": ".py",
   "mimetype": "text/x-python",
   "name": "python",
   "nbconvert_exporter": "python",
   "pygments_lexer": "ipython3",
   "version": "3.7.6"
  }
 },
 "nbformat": 4,
 "nbformat_minor": 4
}
