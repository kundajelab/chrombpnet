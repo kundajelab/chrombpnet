{
 "cells": [
  {
   "cell_type": "code",
   "execution_count": 1,
   "metadata": {},
   "outputs": [],
   "source": [
    "import pyBigWig"
   ]
  },
  {
   "cell_type": "code",
   "execution_count": 2,
   "metadata": {},
   "outputs": [
    {
     "name": "stdout",
     "output_type": "stream",
     "text": [
      "{0, 1}\n",
      "248956422\n",
      "219161958\n"
     ]
    }
   ],
   "source": [
    "import numpy as np\n",
    "import gzip\n",
    "with gzip.open('chr1.uint8.unique.gz', 'rb') as tmp_uMap:\n",
    "    uMapdata = np.frombuffer(tmp_uMap.read(), dtype=np.uint8)\n",
    "\n",
    "pos_vec = (uMapdata>0)&(uMapdata<=101)\n",
    "pos_vec = pos_vec.astype(int)\n",
    "neg_vec = np.roll(pos_vec, 100)\n",
    "neg_vec[0:100] = 0\n",
    "\n",
    "print(set(pos_vec))\n",
    "print(len(uMapdata))\n",
    "print(sum(pos_vec))\n",
    "\n",
    "total_map=pos_vec+neg_vec\n",
    "mappability = [sum(total_map[i:i+100])/200 for i in range(557,248956357, 100)]\n"
   ]
  },
  {
   "cell_type": "code",
   "execution_count": 3,
   "metadata": {},
   "outputs": [
    {
     "data": {
      "text/plain": [
       "248956422"
      ]
     },
     "execution_count": 3,
     "metadata": {},
     "output_type": "execute_result"
    }
   ],
   "source": [
    "pred_bigwig = pyBigWig.open(\"572M_wo_bias.bw\",\"r\")\n",
    "all_val = np.nan_to_num(pred_bigwig.values('chr1', 0, 248956422))\n",
    "atac_500m = [sum(all_val[i:i+100]) for i in range(557,248956357, 100)]\n",
    "pred_bigwig.chroms()['chr1']"
   ]
  },
  {
   "cell_type": "code",
   "execution_count": 4,
   "metadata": {},
   "outputs": [
    {
     "data": {
      "text/plain": [
       "248956422"
      ]
     },
     "execution_count": 4,
     "metadata": {},
     "output_type": "execute_result"
    }
   ],
   "source": [
    "pred_bigwig = pyBigWig.open(\"250M_wo_bias.bw\",\"r\")\n",
    "all_val = np.nan_to_num(pred_bigwig.values('chr1', 0, 248956422))\n",
    "atac_250m = [sum(all_val[i:i+100]) for i in range(557,248956357, 100)]\n",
    "pred_bigwig.chroms()['chr1']"
   ]
  },
  {
   "cell_type": "code",
   "execution_count": 5,
   "metadata": {},
   "outputs": [
    {
     "data": {
      "text/plain": [
       "248956422"
      ]
     },
     "execution_count": 5,
     "metadata": {},
     "output_type": "execute_result"
    }
   ],
   "source": [
    "pred_bigwig = pyBigWig.open(\"100M_wo_bias.bw\",\"r\")\n",
    "all_val = np.nan_to_num(pred_bigwig.values('chr1', 0, 248956422))\n",
    "atac_100m = [sum(all_val[i:i+100]) for i in range(557,248956357, 100)]\n",
    "pred_bigwig.chroms()['chr1']"
   ]
  },
  {
   "cell_type": "code",
   "execution_count": 6,
   "metadata": {},
   "outputs": [
    {
     "data": {
      "text/plain": [
       "248956422"
      ]
     },
     "execution_count": 6,
     "metadata": {},
     "output_type": "execute_result"
    }
   ],
   "source": [
    "pred_bigwig = pyBigWig.open(\"50M_wo_bias.bw\",\"r\")\n",
    "all_val = np.nan_to_num(pred_bigwig.values('chr1', 0, 248956422))\n",
    "atac_50m = [sum(all_val[i:i+100]) for i in range(557,248956357, 100)]\n",
    "pred_bigwig.chroms()['chr1']"
   ]
  },
  {
   "cell_type": "code",
   "execution_count": 7,
   "metadata": {},
   "outputs": [
    {
     "data": {
      "text/plain": [
       "248956422"
      ]
     },
     "execution_count": 7,
     "metadata": {},
     "output_type": "execute_result"
    }
   ],
   "source": [
    "pred_bigwig = pyBigWig.open(\"25M_wo_bias.bw\",\"r\")\n",
    "all_val = np.nan_to_num(pred_bigwig.values('chr1', 0, 248956422))\n",
    "atac_25m = [sum(all_val[i:i+100]) for i in range(557,248956357, 100)]\n",
    "pred_bigwig.chroms()['chr1']"
   ]
  },
  {
   "cell_type": "code",
   "execution_count": 8,
   "metadata": {},
   "outputs": [
    {
     "data": {
      "text/plain": [
       "248956422"
      ]
     },
     "execution_count": 8,
     "metadata": {},
     "output_type": "execute_result"
    }
   ],
   "source": [
    "pred_bigwig = pyBigWig.open(\"5M_wo_bias.bw\",\"r\")\n",
    "all_val = np.nan_to_num(pred_bigwig.values('chr1', 0, 248956422))\n",
    "atac_5m = [sum(all_val[i:i+100]) for i in range(557,248956357, 100)]\n",
    "pred_bigwig.chroms()['chr1']"
   ]
  },
  {
   "cell_type": "code",
   "execution_count": 9,
   "metadata": {},
   "outputs": [
    {
     "data": {
      "text/plain": [
       "248956422"
      ]
     },
     "execution_count": 9,
     "metadata": {},
     "output_type": "execute_result"
    }
   ],
   "source": [
    "\n",
    "pred_bigwig = pyBigWig.open(\"GM12878_wo_bias.bw\",\"r\")\n",
    "all_val = np.nan_to_num(pred_bigwig.values('chr1', 0, 248956422))\n",
    "dnase = [sum(all_val[i:i+100]) for i in range(557,248956357, 100)]\n",
    "pred_bigwig.chroms()['chr1']"
   ]
  },
  {
   "cell_type": "code",
   "execution_count": 10,
   "metadata": {},
   "outputs": [
    {
     "data": {
      "text/plain": [
       "2489558"
      ]
     },
     "execution_count": 10,
     "metadata": {},
     "output_type": "execute_result"
    }
   ],
   "source": [
    "len(mappability)"
   ]
  },
  {
   "cell_type": "code",
   "execution_count": 11,
   "metadata": {},
   "outputs": [
    {
     "data": {
      "text/plain": [
       "2489558"
      ]
     },
     "execution_count": 11,
     "metadata": {},
     "output_type": "execute_result"
    }
   ],
   "source": [
    "len(atac_500m)"
   ]
  },
  {
   "cell_type": "code",
   "execution_count": 12,
   "metadata": {},
   "outputs": [
    {
     "name": "stdout",
     "output_type": "stream",
     "text": [
      "(2489558, 10)\n",
      "74758\n"
     ]
    }
   ],
   "source": [
    "import pandas as pd\n",
    "\n",
    "bed_annotate = \"/mnt/lab_data2/anusri/chrombpnet/results/chrombpnet/auprc_curves/idr_overlap_peak_blacklist_annotated_chr1.bed\"\n",
    "chr1_binned = pd.read_csv(bed_annotate, sep=\"\\t\", names=[\"chr\", \"start\", \"end\", \"idr\", \"idr_f\", \"idr_t\", \"idr_w\", \"idr_frac\", \n",
    "                                                         \"bkt\", \"op\"])\n",
    "chr1_binned = chr1_binned[:-1]\n",
    "print(chr1_binned.shape)\n",
    "\n",
    "chr1_binned[\"mappability\"] = mappability\n",
    "chr1_binned[\"label\"] = 0\n",
    "chr1_binned.loc[chr1_binned[\"idr\"]==1, \"label\"] =1\n",
    "print(sum(chr1_binned[\"label\"]))"
   ]
  },
  {
   "cell_type": "code",
   "execution_count": 13,
   "metadata": {},
   "outputs": [],
   "source": [
    "chr1_binned[\"atac_500m\"] = atac_500m\n",
    "chr1_binned[\"atac_250m\"] = atac_250m\n",
    "chr1_binned[\"atac_100m\"] = atac_100m\n",
    "chr1_binned[\"atac_50m\"] = atac_50m\n",
    "chr1_binned[\"atac_25m\"] = atac_25m\n",
    "chr1_binned[\"atac_5m\"] = atac_5m\n",
    "chr1_binned[\"dnase_68m\"] = dnase"
   ]
  },
  {
   "cell_type": "code",
   "execution_count": 14,
   "metadata": {},
   "outputs": [],
   "source": [
    "chr1_binned=chr1_binned[chr1_binned[\"bkt\"]==0]\n"
   ]
  },
  {
   "cell_type": "code",
   "execution_count": 15,
   "metadata": {
    "scrolled": true
   },
   "outputs": [
    {
     "data": {
      "text/html": [
       "<div>\n",
       "<style scoped>\n",
       "    .dataframe tbody tr th:only-of-type {\n",
       "        vertical-align: middle;\n",
       "    }\n",
       "\n",
       "    .dataframe tbody tr th {\n",
       "        vertical-align: top;\n",
       "    }\n",
       "\n",
       "    .dataframe thead th {\n",
       "        text-align: right;\n",
       "    }\n",
       "</style>\n",
       "<table border=\"1\" class=\"dataframe\">\n",
       "  <thead>\n",
       "    <tr style=\"text-align: right;\">\n",
       "      <th></th>\n",
       "      <th>chr</th>\n",
       "      <th>start</th>\n",
       "      <th>end</th>\n",
       "      <th>idr</th>\n",
       "      <th>idr_f</th>\n",
       "      <th>idr_t</th>\n",
       "      <th>idr_w</th>\n",
       "      <th>idr_frac</th>\n",
       "      <th>bkt</th>\n",
       "      <th>op</th>\n",
       "      <th>mappability</th>\n",
       "      <th>label</th>\n",
       "      <th>atac_500m</th>\n",
       "      <th>atac_250m</th>\n",
       "      <th>atac_100m</th>\n",
       "      <th>atac_50m</th>\n",
       "      <th>atac_25m</th>\n",
       "      <th>atac_5m</th>\n",
       "      <th>dnase_68m</th>\n",
       "    </tr>\n",
       "  </thead>\n",
       "  <tbody>\n",
       "    <tr>\n",
       "      <th>0</th>\n",
       "      <td>chr1</td>\n",
       "      <td>557</td>\n",
       "      <td>657</td>\n",
       "      <td>0</td>\n",
       "      <td>0</td>\n",
       "      <td>0</td>\n",
       "      <td>100</td>\n",
       "      <td>0.0</td>\n",
       "      <td>0</td>\n",
       "      <td>0</td>\n",
       "      <td>0.0</td>\n",
       "      <td>0</td>\n",
       "      <td>2.641859</td>\n",
       "      <td>7.888051</td>\n",
       "      <td>5.603774</td>\n",
       "      <td>2.592654</td>\n",
       "      <td>0.920363</td>\n",
       "      <td>0.283895</td>\n",
       "      <td>0.062112</td>\n",
       "    </tr>\n",
       "    <tr>\n",
       "      <th>1</th>\n",
       "      <td>chr1</td>\n",
       "      <td>657</td>\n",
       "      <td>757</td>\n",
       "      <td>0</td>\n",
       "      <td>0</td>\n",
       "      <td>0</td>\n",
       "      <td>100</td>\n",
       "      <td>0.0</td>\n",
       "      <td>0</td>\n",
       "      <td>0</td>\n",
       "      <td>0.0</td>\n",
       "      <td>0</td>\n",
       "      <td>2.641859</td>\n",
       "      <td>7.888051</td>\n",
       "      <td>5.603774</td>\n",
       "      <td>2.592654</td>\n",
       "      <td>0.920363</td>\n",
       "      <td>0.283895</td>\n",
       "      <td>0.062112</td>\n",
       "    </tr>\n",
       "    <tr>\n",
       "      <th>2</th>\n",
       "      <td>chr1</td>\n",
       "      <td>757</td>\n",
       "      <td>857</td>\n",
       "      <td>0</td>\n",
       "      <td>0</td>\n",
       "      <td>0</td>\n",
       "      <td>100</td>\n",
       "      <td>0.0</td>\n",
       "      <td>0</td>\n",
       "      <td>0</td>\n",
       "      <td>0.0</td>\n",
       "      <td>0</td>\n",
       "      <td>2.641859</td>\n",
       "      <td>7.888051</td>\n",
       "      <td>5.603774</td>\n",
       "      <td>2.592654</td>\n",
       "      <td>0.920363</td>\n",
       "      <td>0.283895</td>\n",
       "      <td>0.062112</td>\n",
       "    </tr>\n",
       "    <tr>\n",
       "      <th>3</th>\n",
       "      <td>chr1</td>\n",
       "      <td>857</td>\n",
       "      <td>957</td>\n",
       "      <td>0</td>\n",
       "      <td>0</td>\n",
       "      <td>0</td>\n",
       "      <td>100</td>\n",
       "      <td>0.0</td>\n",
       "      <td>0</td>\n",
       "      <td>0</td>\n",
       "      <td>0.0</td>\n",
       "      <td>0</td>\n",
       "      <td>2.641859</td>\n",
       "      <td>7.888051</td>\n",
       "      <td>5.603774</td>\n",
       "      <td>2.592654</td>\n",
       "      <td>0.920363</td>\n",
       "      <td>0.283895</td>\n",
       "      <td>0.062112</td>\n",
       "    </tr>\n",
       "    <tr>\n",
       "      <th>4</th>\n",
       "      <td>chr1</td>\n",
       "      <td>957</td>\n",
       "      <td>1057</td>\n",
       "      <td>0</td>\n",
       "      <td>0</td>\n",
       "      <td>0</td>\n",
       "      <td>100</td>\n",
       "      <td>0.0</td>\n",
       "      <td>0</td>\n",
       "      <td>0</td>\n",
       "      <td>0.0</td>\n",
       "      <td>0</td>\n",
       "      <td>2.641859</td>\n",
       "      <td>7.888051</td>\n",
       "      <td>5.603774</td>\n",
       "      <td>2.592654</td>\n",
       "      <td>0.920363</td>\n",
       "      <td>0.283895</td>\n",
       "      <td>0.062112</td>\n",
       "    </tr>\n",
       "  </tbody>\n",
       "</table>\n",
       "</div>"
      ],
      "text/plain": [
       "    chr  start   end  idr  idr_f  idr_t  idr_w  idr_frac  bkt  op  \\\n",
       "0  chr1    557   657    0      0      0    100       0.0    0   0   \n",
       "1  chr1    657   757    0      0      0    100       0.0    0   0   \n",
       "2  chr1    757   857    0      0      0    100       0.0    0   0   \n",
       "3  chr1    857   957    0      0      0    100       0.0    0   0   \n",
       "4  chr1    957  1057    0      0      0    100       0.0    0   0   \n",
       "\n",
       "   mappability  label  atac_500m  atac_250m  atac_100m  atac_50m  atac_25m  \\\n",
       "0          0.0      0   2.641859   7.888051   5.603774  2.592654  0.920363   \n",
       "1          0.0      0   2.641859   7.888051   5.603774  2.592654  0.920363   \n",
       "2          0.0      0   2.641859   7.888051   5.603774  2.592654  0.920363   \n",
       "3          0.0      0   2.641859   7.888051   5.603774  2.592654  0.920363   \n",
       "4          0.0      0   2.641859   7.888051   5.603774  2.592654  0.920363   \n",
       "\n",
       "    atac_5m  dnase_68m  \n",
       "0  0.283895   0.062112  \n",
       "1  0.283895   0.062112  \n",
       "2  0.283895   0.062112  \n",
       "3  0.283895   0.062112  \n",
       "4  0.283895   0.062112  "
      ]
     },
     "execution_count": 15,
     "metadata": {},
     "output_type": "execute_result"
    }
   ],
   "source": [
    "chr1_binned.head()"
   ]
  },
  {
   "cell_type": "code",
   "execution_count": 16,
   "metadata": {},
   "outputs": [],
   "source": [
    "chr1_binned = chr1_binned[~((chr1_binned[\"idr_frac\"]>0) & (chr1_binned[\"idr_frac\"]<0.5))]"
   ]
  },
  {
   "cell_type": "code",
   "execution_count": 17,
   "metadata": {},
   "outputs": [
    {
     "name": "stdout",
     "output_type": "stream",
     "text": [
      "(2418520, 19)\n"
     ]
    }
   ],
   "source": [
    "chr1_binned = chr1_binned[~((chr1_binned[\"op\"]==1) & (chr1_binned[\"idr\"]==0))]\n",
    "print(chr1_binned.shape)"
   ]
  },
  {
   "cell_type": "code",
   "execution_count": 18,
   "metadata": {},
   "outputs": [
    {
     "data": {
      "text/plain": [
       "74758"
      ]
     },
     "execution_count": 18,
     "metadata": {},
     "output_type": "execute_result"
    }
   ],
   "source": [
    "sum(chr1_binned[\"idr\"]==1)"
   ]
  },
  {
   "cell_type": "code",
   "execution_count": 19,
   "metadata": {},
   "outputs": [],
   "source": [
    "chr1_binned = chr1_binned[chr1_binned[\"mappability\"]>0.5]"
   ]
  },
  {
   "cell_type": "code",
   "execution_count": 20,
   "metadata": {},
   "outputs": [
    {
     "name": "stdout",
     "output_type": "stream",
     "text": [
      "ATAC 572M 0.48\n",
      "ATAC 250M 0.47\n",
      "ATAC 100M 0.44\n",
      "ATAC 50M 0.43\n",
      "ATAC 25M 0.4\n",
      "ATAC 5M 0.28\n",
      "DNase 68M 0.42\n"
     ]
    }
   ],
   "source": [
    "import sklearn.metrics\n",
    "\n",
    "print(\"ATAC 572M\",np.round(sklearn.metrics.average_precision_score(chr1_binned[\"label\"],chr1_binned[\"atac_500m\"]),2))\n",
    "print(\"ATAC 250M\",np.round(sklearn.metrics.average_precision_score(chr1_binned[\"label\"],chr1_binned[\"atac_250m\"]),2))\n",
    "print(\"ATAC 100M\",np.round(sklearn.metrics.average_precision_score(chr1_binned[\"label\"],chr1_binned[\"atac_100m\"]),2))\n",
    "print(\"ATAC 50M\",np.round(sklearn.metrics.average_precision_score(chr1_binned[\"label\"],chr1_binned[\"atac_50m\"]),2))\n",
    "print(\"ATAC 25M\",np.round(sklearn.metrics.average_precision_score(chr1_binned[\"label\"],chr1_binned[\"atac_25m\"]),2))\n",
    "print(\"ATAC 5M\",np.round(sklearn.metrics.average_precision_score(chr1_binned[\"label\"],chr1_binned[\"atac_5m\"]),2))\n",
    "print(\"DNase 68M\",np.round(sklearn.metrics.average_precision_score(chr1_binned[\"label\"],chr1_binned[\"dnase_68m\"]),2))\n",
    "\n",
    "rocs = []\n",
    "for nameb in [\"atac_500m\", \"atac_250m\", \"atac_100m\", \"atac_50m\", \"atac_25m\", \"atac_5m\", \"dnase_68m\"]:\n",
    "    rocs.append(np.round(sklearn.metrics.average_precision_score(chr1_binned[\"label\"],chr1_binned[nameb]),2))\n"
   ]
  },
  {
   "cell_type": "code",
   "execution_count": 21,
   "metadata": {},
   "outputs": [
    {
     "name": "stderr",
     "output_type": "stream",
     "text": [
      "/users/anusri/anaconda3/lib/python3.7/site-packages/ipykernel_launcher.py:10: UserWarning: FixedFormatter should only be used together with FixedLocator\n",
      "  # Remove the CWD from sys.path while we load stuff.\n"
     ]
    },
    {
     "data": {
      "text/plain": [
       "Text(0, 0.5, 'Average Precision')"
      ]
     },
     "execution_count": 21,
     "metadata": {},
     "output_type": "execute_result"
    },
    {
     "data": {
      "image/png": "[encoded data removed]",
      "text/plain": [
       "<Figure size 360x216 with 1 Axes>"
      ]
     },
     "metadata": {
      "needs_background": "light"
     },
     "output_type": "display_data"
    }
   ],
   "source": [
    "import matplotlib.pyplot as plt\n",
    "fix, ax = plt.subplots(figsize=(5,3))\n",
    "ax.scatter([\"ATAC\\n572M\", \"ATAC\\n250M\", \"ATAC\\n100M\" ,\"ATAC\\n50M\", \"ATAC\\n25M\", \"ATAC\\n5M\"],rocs[0:-1])\n",
    "ax.plot([\"ATAC\\n572M\", \"ATAC\\n250M\", \"ATAC\\n100M\",\"ATAC\\n50M\", \"ATAC\\n25M\", \"ATAC\\n5M\"],rocs[0:-1], alpha=0.5)\n",
    "ax.scatter([\"DNASE\\n68M\"], [rocs[-1]], marker=\"*\")\n",
    "xtix=[\"ChromBPNet ATAC 572M\", \" ChromBPNet ATAC 250M\", \"ChromBPNet ATAC 100M\",\"ChromBPNet ATAC 50M\", \"ChromBPNet ATAC 25M\", \"ChromBPNet ATAC 5M\"]+[\"ChromBPNet DNASE 68M\"]+[\"Enformer DNase 68M\"]+[\"SVM DNase 68m\"]\n",
    "\n",
    "ax.set_ylim((0,0.55))\n",
    "ax.spines[[\"top\", \"right\"]].set_visible(False)\n",
    "ax.set_xticklabels(labels=xtix, rotation=90)\n",
    "ax.set_xlabel(\"Method\")\n",
    "ax.set_ylabel(\"Average Precision\")\n"
   ]
  },
  {
   "cell_type": "code",
   "execution_count": 22,
   "metadata": {},
   "outputs": [
    {
     "data": {
      "text/plain": [
       "0.0340325668047457"
      ]
     },
     "execution_count": 22,
     "metadata": {},
     "output_type": "execute_result"
    }
   ],
   "source": [
    "sum(chr1_binned[\"label\"])/chr1_binned.shape[0]"
   ]
  },
  {
   "cell_type": "code",
   "execution_count": null,
   "metadata": {},
   "outputs": [],
   "source": []
  },
  {
   "cell_type": "code",
   "execution_count": null,
   "metadata": {},
   "outputs": [],
   "source": []
  },
  {
   "cell_type": "code",
   "execution_count": null,
   "metadata": {},
   "outputs": [],
   "source": []
  },
  {
   "cell_type": "code",
   "execution_count": null,
   "metadata": {},
   "outputs": [],
   "source": []
  },
  {
   "cell_type": "code",
   "execution_count": null,
   "metadata": {},
   "outputs": [],
   "source": []
  },
  {
   "cell_type": "code",
   "execution_count": null,
   "metadata": {},
   "outputs": [],
   "source": []
  },
  {
   "cell_type": "code",
   "execution_count": null,
   "metadata": {},
   "outputs": [],
   "source": []
  },
  {
   "cell_type": "code",
   "execution_count": null,
   "metadata": {},
   "outputs": [],
   "source": []
  },
  {
   "cell_type": "code",
   "execution_count": null,
   "metadata": {},
   "outputs": [],
   "source": []
  },
  {
   "cell_type": "code",
   "execution_count": null,
   "metadata": {},
   "outputs": [],
   "source": []
  },
  {
   "cell_type": "code",
   "execution_count": null,
   "metadata": {},
   "outputs": [],
   "source": []
  },
  {
   "cell_type": "code",
   "execution_count": null,
   "metadata": {},
   "outputs": [],
   "source": []
  },
  {
   "cell_type": "code",
   "execution_count": null,
   "metadata": {},
   "outputs": [],
   "source": []
  },
  {
   "cell_type": "code",
   "execution_count": null,
   "metadata": {},
   "outputs": [],
   "source": []
  },
  {
   "cell_type": "code",
   "execution_count": null,
   "metadata": {},
   "outputs": [],
   "source": []
  }
 ],
 "metadata": {
  "kernelspec": {
   "display_name": "Python 3",
   "language": "python",
   "name": "python3"
  },
  "language_info": {
   "codemirror_mode": {
    "name": "ipython",
    "version": 3
   },
   "file_extension": ".py",
   "mimetype": "text/x-python",
   "name": "python",
   "nbconvert_exporter": "python",
   "pygments_lexer": "ipython3",
   "version": "3.7.6"
  }
 },
 "nbformat": 4,
 "nbformat_minor": 4
}
