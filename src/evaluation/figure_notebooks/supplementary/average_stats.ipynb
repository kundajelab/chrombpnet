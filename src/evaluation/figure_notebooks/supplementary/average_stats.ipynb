{
 "cells": [
  {
   "cell_type": "code",
   "execution_count": 1,
   "metadata": {},
   "outputs": [
    {
     "name": "stderr",
     "output_type": "stream",
     "text": [
      "── \u001b[1mAttaching core tidyverse packages\u001b[22m ─────────────────────────────────────────────────────────────────────────────────────────────────────────────────────────────────── tidyverse 2.0.0 ──\n",
      "\u001b[32m✔\u001b[39m \u001b[34mdplyr    \u001b[39m 1.1.4     \u001b[32m✔\u001b[39m \u001b[34mreadr    \u001b[39m 2.1.5\n",
      "\u001b[32m✔\u001b[39m \u001b[34mforcats  \u001b[39m 1.0.0     \u001b[32m✔\u001b[39m \u001b[34mstringr  \u001b[39m 1.5.1\n",
      "\u001b[32m✔\u001b[39m \u001b[34mggplot2  \u001b[39m 3.5.1     \u001b[32m✔\u001b[39m \u001b[34mtibble   \u001b[39m 3.2.1\n",
      "\u001b[32m✔\u001b[39m \u001b[34mlubridate\u001b[39m 1.9.3     \u001b[32m✔\u001b[39m \u001b[34mtidyr    \u001b[39m 1.3.1\n",
      "\u001b[32m✔\u001b[39m \u001b[34mpurrr    \u001b[39m 1.0.2     \n",
      "── \u001b[1mConflicts\u001b[22m ───────────────────────────────────────────────────────────────────────────────────────────────────────────────────────────────────────────────────── tidyverse_conflicts() ──\n",
      "\u001b[31m✖\u001b[39m \u001b[34mdplyr\u001b[39m::\u001b[32mfilter()\u001b[39m masks \u001b[34mstats\u001b[39m::filter()\n",
      "\u001b[31m✖\u001b[39m \u001b[34mdplyr\u001b[39m::\u001b[32mlag()\u001b[39m    masks \u001b[34mstats\u001b[39m::lag()\n",
      "\u001b[36mℹ\u001b[39m Use the conflicted package (\u001b[3m\u001b[34m<http://conflicted.r-lib.org/>\u001b[39m\u001b[23m) to force all conflicts to become errors\n",
      "Loading required package: viridisLite\n",
      "\n"
     ]
    }
   ],
   "source": [
    "# Libraries\n",
    "library(tidyverse)\n",
    "library(hrbrthemes)\n",
    "library(viridis)\n",
    "library(ggplot2)\n",
    "library(\"rjson\")"
   ]
  },
  {
   "cell_type": "code",
   "execution_count": 2,
   "metadata": {},
   "outputs": [],
   "source": [
    "dataset = \"atac\"\n",
    "metadata = read.table(\"/mnt/lab_data2/anusri/chrombpnet/logs/checkpoint/JAN_02_2023/model_dir_atac.csv\", sep=\",\", header=FALSE)\n",
    "colnames(metadata) = c(\"fold\", \"cell_type\", \"model_dir\")"
   ]
  },
  {
   "cell_type": "code",
   "execution_count": 3,
   "metadata": {},
   "outputs": [],
   "source": [
    "counts_peaks = list()\n",
    "counts_peaks_nonpeaks = list()\n",
    "profile_peaks = list()\n",
    "profile_peaks_nonpeaks = list(\n",
    ")\n",
    "for (i in 1:nrow(metadata)){\n",
    "        #print(metadata[i,\"model_dir\"])\n",
    "        inputf = file.path(metadata[i,\"model_dir\"], \"chrombpnet_model/chrombpnet_metrics.json\")\n",
    "        if (file.exists(inputf)) {\n",
    "             inputf = file.path(metadata[i,\"model_dir\"], \"chrombpnet_model/chrombpnet_metrics.json\")\n",
    "        } else {\n",
    "             inputf = file.path(metadata[i,\"model_dir\"], \"chrombpnet_metrics.json\")\n",
    "        }        \n",
    "        result <- fromJSON(file = inputf)\n",
    "        counts_peaks = append(counts_peaks, result$counts_metrics$peaks$pearsonr)\n",
    "        counts_peaks_nonpeaks = append(counts_peaks_nonpeaks, result$counts_metrics$peaks_and_nonpeaks$pearsonr)\n",
    "        profile_peaks = append(profile_peaks, result$profile_metrics$peaks$median_jsd*sqrt(log2(exp(1)))\n",
    ")\n",
    "        profile_peaks_nonpeaks = append(profile_peaks_nonpeaks, result$profile_metrics$peaks_and_nonpeaks$median_jsd*sqrt(log2(exp(1)))\n",
    ")\n",
    "    \n",
    "}"
   ]
  },
  {
   "cell_type": "code",
   "execution_count": 4,
   "metadata": {},
   "outputs": [],
   "source": [
    "metadata$counts_pearsonr_in_peaks = as.numeric(counts_peaks)\n",
    "metadata$counts_pearsonr_in_peaks_nonpeaks = as.numeric(counts_peaks_nonpeaks)\n",
    "metadata$profile_jsd_in_peaks = as.numeric(profile_peaks)\n",
    "metadata$profile_jsd_in_peaks_nonpeaks = as.numeric(profile_peaks_nonpeaks)\n",
    "\n",
    "metadata$cell_type <- factor(metadata$cell_type , levels=c(\"HEPG2\", \"GM12878\", \"K562\", \"H1ESC\", \"IMR90\"))\n"
   ]
  },
  {
   "cell_type": "code",
   "execution_count": 5,
   "metadata": {},
   "outputs": [
    {
     "data": {
      "text/html": [
       "<table class=\"dataframe\">\n",
       "<caption>A data.frame: 6 × 7</caption>\n",
       "<thead>\n",
       "\t<tr><th></th><th scope=col>fold</th><th scope=col>cell_type</th><th scope=col>model_dir</th><th scope=col>counts_pearsonr_in_peaks</th><th scope=col>counts_pearsonr_in_peaks_nonpeaks</th><th scope=col>profile_jsd_in_peaks</th><th scope=col>profile_jsd_in_peaks_nonpeaks</th></tr>\n",
       "\t<tr><th></th><th scope=col>&lt;chr&gt;</th><th scope=col>&lt;fct&gt;</th><th scope=col>&lt;chr&gt;</th><th scope=col>&lt;dbl&gt;</th><th scope=col>&lt;dbl&gt;</th><th scope=col>&lt;dbl&gt;</th><th scope=col>&lt;dbl&gt;</th></tr>\n",
       "</thead>\n",
       "<tbody>\n",
       "\t<tr><th scope=row>1</th><td>fold_0</td><td>GM12878</td><td>/mnt/lab_data2/anusri/chrombpnet/results/chrombpnet/ATAC_PE/GM12878/nautilus_runs/GM12878_03.01.2022_bias_128_4_1234_0.4_fold_0                          </td><td>0.6330793</td><td>0.7397478</td><td>0.3876646</td><td>0.5725672</td></tr>\n",
       "\t<tr><th scope=row>2</th><td>fold_1</td><td>GM12878</td><td>/oak/stanford/groups/akundaje/projects/chromatin-atlas-2022/chrombpnet/folds/ATAC/GM12878/GM12878_07.08.2022_bias_128_4_1234_0.4_fold_1_data_type_ATAC_PE</td><td>0.6203872</td><td>0.7220585</td><td>0.3857861</td><td>0.5709025</td></tr>\n",
       "\t<tr><th scope=row>3</th><td>fold_2</td><td>GM12878</td><td>/oak/stanford/groups/akundaje/projects/chromatin-atlas-2022/chrombpnet/folds/ATAC/GM12878/GM12878_07.08.2022_bias_128_4_1234_0.4_fold_2_data_type_ATAC_PE</td><td>0.6564146</td><td>0.6928328</td><td>0.3878328</td><td>0.5633976</td></tr>\n",
       "\t<tr><th scope=row>4</th><td>fold_3</td><td>GM12878</td><td>/oak/stanford/groups/akundaje/projects/chromatin-atlas-2022/chrombpnet/folds/ATAC/GM12878/GM12878_07.14.2022_bias_128_4_1234_0.4_fold_3_data_type_ATAC_PE</td><td>0.6095498</td><td>0.7333907</td><td>0.3857570</td><td>0.5727457</td></tr>\n",
       "\t<tr><th scope=row>5</th><td>fold_4</td><td>GM12878</td><td>/oak/stanford/groups/akundaje/projects/chromatin-atlas-2022/chrombpnet/folds/ATAC/GM12878/GM12878_07.07.2022_bias_128_4_1234_0.4_fold_4_data_type_ATAC_PE</td><td>0.6474911</td><td>0.7183592</td><td>0.3770893</td><td>0.5678469</td></tr>\n",
       "\t<tr><th scope=row>6</th><td>fold_0</td><td>K562   </td><td>/mnt/lab_data2/anusri/chrombpnet/results/chrombpnet/ATAC_PE/K562/nautilus_runs/K562_02.17.2022_bias_128_4_1234_0.5_fold_0                                </td><td>0.6995219</td><td>0.6935474</td><td>0.4097434</td><td>0.5427334</td></tr>\n",
       "</tbody>\n",
       "</table>\n"
      ],
      "text/latex": [
       "A data.frame: 6 × 7\n",
       "\\begin{tabular}{r|lllllll}\n",
       "  & fold & cell\\_type & model\\_dir & counts\\_pearsonr\\_in\\_peaks & counts\\_pearsonr\\_in\\_peaks\\_nonpeaks & profile\\_jsd\\_in\\_peaks & profile\\_jsd\\_in\\_peaks\\_nonpeaks\\\\\n",
       "  & <chr> & <fct> & <chr> & <dbl> & <dbl> & <dbl> & <dbl>\\\\\n",
       "\\hline\n",
       "\t1 & fold\\_0 & GM12878 & /mnt/lab\\_data2/anusri/chrombpnet/results/chrombpnet/ATAC\\_PE/GM12878/nautilus\\_runs/GM12878\\_03.01.2022\\_bias\\_128\\_4\\_1234\\_0.4\\_fold\\_0                           & 0.6330793 & 0.7397478 & 0.3876646 & 0.5725672\\\\\n",
       "\t2 & fold\\_1 & GM12878 & /oak/stanford/groups/akundaje/projects/chromatin-atlas-2022/chrombpnet/folds/ATAC/GM12878/GM12878\\_07.08.2022\\_bias\\_128\\_4\\_1234\\_0.4\\_fold\\_1\\_data\\_type\\_ATAC\\_PE & 0.6203872 & 0.7220585 & 0.3857861 & 0.5709025\\\\\n",
       "\t3 & fold\\_2 & GM12878 & /oak/stanford/groups/akundaje/projects/chromatin-atlas-2022/chrombpnet/folds/ATAC/GM12878/GM12878\\_07.08.2022\\_bias\\_128\\_4\\_1234\\_0.4\\_fold\\_2\\_data\\_type\\_ATAC\\_PE & 0.6564146 & 0.6928328 & 0.3878328 & 0.5633976\\\\\n",
       "\t4 & fold\\_3 & GM12878 & /oak/stanford/groups/akundaje/projects/chromatin-atlas-2022/chrombpnet/folds/ATAC/GM12878/GM12878\\_07.14.2022\\_bias\\_128\\_4\\_1234\\_0.4\\_fold\\_3\\_data\\_type\\_ATAC\\_PE & 0.6095498 & 0.7333907 & 0.3857570 & 0.5727457\\\\\n",
       "\t5 & fold\\_4 & GM12878 & /oak/stanford/groups/akundaje/projects/chromatin-atlas-2022/chrombpnet/folds/ATAC/GM12878/GM12878\\_07.07.2022\\_bias\\_128\\_4\\_1234\\_0.4\\_fold\\_4\\_data\\_type\\_ATAC\\_PE & 0.6474911 & 0.7183592 & 0.3770893 & 0.5678469\\\\\n",
       "\t6 & fold\\_0 & K562    & /mnt/lab\\_data2/anusri/chrombpnet/results/chrombpnet/ATAC\\_PE/K562/nautilus\\_runs/K562\\_02.17.2022\\_bias\\_128\\_4\\_1234\\_0.5\\_fold\\_0                                 & 0.6995219 & 0.6935474 & 0.4097434 & 0.5427334\\\\\n",
       "\\end{tabular}\n"
      ],
      "text/markdown": [
       "\n",
       "A data.frame: 6 × 7\n",
       "\n",
       "| <!--/--> | fold &lt;chr&gt; | cell_type &lt;fct&gt; | model_dir &lt;chr&gt; | counts_pearsonr_in_peaks &lt;dbl&gt; | counts_pearsonr_in_peaks_nonpeaks &lt;dbl&gt; | profile_jsd_in_peaks &lt;dbl&gt; | profile_jsd_in_peaks_nonpeaks &lt;dbl&gt; |\n",
       "|---|---|---|---|---|---|---|---|\n",
       "| 1 | fold_0 | GM12878 | /mnt/lab_data2/anusri/chrombpnet/results/chrombpnet/ATAC_PE/GM12878/nautilus_runs/GM12878_03.01.2022_bias_128_4_1234_0.4_fold_0                           | 0.6330793 | 0.7397478 | 0.3876646 | 0.5725672 |\n",
       "| 2 | fold_1 | GM12878 | /oak/stanford/groups/akundaje/projects/chromatin-atlas-2022/chrombpnet/folds/ATAC/GM12878/GM12878_07.08.2022_bias_128_4_1234_0.4_fold_1_data_type_ATAC_PE | 0.6203872 | 0.7220585 | 0.3857861 | 0.5709025 |\n",
       "| 3 | fold_2 | GM12878 | /oak/stanford/groups/akundaje/projects/chromatin-atlas-2022/chrombpnet/folds/ATAC/GM12878/GM12878_07.08.2022_bias_128_4_1234_0.4_fold_2_data_type_ATAC_PE | 0.6564146 | 0.6928328 | 0.3878328 | 0.5633976 |\n",
       "| 4 | fold_3 | GM12878 | /oak/stanford/groups/akundaje/projects/chromatin-atlas-2022/chrombpnet/folds/ATAC/GM12878/GM12878_07.14.2022_bias_128_4_1234_0.4_fold_3_data_type_ATAC_PE | 0.6095498 | 0.7333907 | 0.3857570 | 0.5727457 |\n",
       "| 5 | fold_4 | GM12878 | /oak/stanford/groups/akundaje/projects/chromatin-atlas-2022/chrombpnet/folds/ATAC/GM12878/GM12878_07.07.2022_bias_128_4_1234_0.4_fold_4_data_type_ATAC_PE | 0.6474911 | 0.7183592 | 0.3770893 | 0.5678469 |\n",
       "| 6 | fold_0 | K562    | /mnt/lab_data2/anusri/chrombpnet/results/chrombpnet/ATAC_PE/K562/nautilus_runs/K562_02.17.2022_bias_128_4_1234_0.5_fold_0                                 | 0.6995219 | 0.6935474 | 0.4097434 | 0.5427334 |\n",
       "\n"
      ],
      "text/plain": [
       "  fold   cell_type\n",
       "1 fold_0 GM12878  \n",
       "2 fold_1 GM12878  \n",
       "3 fold_2 GM12878  \n",
       "4 fold_3 GM12878  \n",
       "5 fold_4 GM12878  \n",
       "6 fold_0 K562     \n",
       "  model_dir                                                                                                                                                \n",
       "1 /mnt/lab_data2/anusri/chrombpnet/results/chrombpnet/ATAC_PE/GM12878/nautilus_runs/GM12878_03.01.2022_bias_128_4_1234_0.4_fold_0                          \n",
       "2 /oak/stanford/groups/akundaje/projects/chromatin-atlas-2022/chrombpnet/folds/ATAC/GM12878/GM12878_07.08.2022_bias_128_4_1234_0.4_fold_1_data_type_ATAC_PE\n",
       "3 /oak/stanford/groups/akundaje/projects/chromatin-atlas-2022/chrombpnet/folds/ATAC/GM12878/GM12878_07.08.2022_bias_128_4_1234_0.4_fold_2_data_type_ATAC_PE\n",
       "4 /oak/stanford/groups/akundaje/projects/chromatin-atlas-2022/chrombpnet/folds/ATAC/GM12878/GM12878_07.14.2022_bias_128_4_1234_0.4_fold_3_data_type_ATAC_PE\n",
       "5 /oak/stanford/groups/akundaje/projects/chromatin-atlas-2022/chrombpnet/folds/ATAC/GM12878/GM12878_07.07.2022_bias_128_4_1234_0.4_fold_4_data_type_ATAC_PE\n",
       "6 /mnt/lab_data2/anusri/chrombpnet/results/chrombpnet/ATAC_PE/K562/nautilus_runs/K562_02.17.2022_bias_128_4_1234_0.5_fold_0                                \n",
       "  counts_pearsonr_in_peaks counts_pearsonr_in_peaks_nonpeaks\n",
       "1 0.6330793                0.7397478                        \n",
       "2 0.6203872                0.7220585                        \n",
       "3 0.6564146                0.6928328                        \n",
       "4 0.6095498                0.7333907                        \n",
       "5 0.6474911                0.7183592                        \n",
       "6 0.6995219                0.6935474                        \n",
       "  profile_jsd_in_peaks profile_jsd_in_peaks_nonpeaks\n",
       "1 0.3876646            0.5725672                    \n",
       "2 0.3857861            0.5709025                    \n",
       "3 0.3878328            0.5633976                    \n",
       "4 0.3857570            0.5727457                    \n",
       "5 0.3770893            0.5678469                    \n",
       "6 0.4097434            0.5427334                    "
      ]
     },
     "metadata": {},
     "output_type": "display_data"
    }
   ],
   "source": [
    "head(metadata)\n",
    "metadata_atac = metadata"
   ]
  },
  {
   "cell_type": "code",
   "execution_count": 6,
   "metadata": {},
   "outputs": [],
   "source": [
    "dataset = \"atac\"\n",
    "metadata = read.table(\"/mnt/lab_data2/anusri/chrombpnet/logs/checkpoint/JAN_02_2023/v1/model_dir_dnase_v2.csv\", sep=\",\", header=FALSE)\n",
    "colnames(metadata) = c(\"fold\", \"cell_type\", \"model_dir\")"
   ]
  },
  {
   "cell_type": "code",
   "execution_count": 7,
   "metadata": {},
   "outputs": [],
   "source": [
    "counts_peaks = list()\n",
    "counts_peaks_nonpeaks = list()\n",
    "profile_peaks = list()\n",
    "profile_peaks_nonpeaks = list(\n",
    ")\n",
    "for (i in 1:nrow(metadata)){\n",
    "        #print(metadata[i,\"model_dir\"])\n",
    "        inputf = file.path(metadata[i,\"model_dir\"], \"chrombpnet_model/chrombpnet_metrics.json\")\n",
    "        if (file.exists(inputf)) {\n",
    "             inputf = file.path(metadata[i,\"model_dir\"], \"chrombpnet_model/chrombpnet_metrics.json\")\n",
    "        } else {\n",
    "             inputf = file.path(metadata[i,\"model_dir\"], \"chrombpnet_metrics.json\")\n",
    "        }        \n",
    "        result <- fromJSON(file = inputf)\n",
    "        counts_peaks = append(counts_peaks, result$counts_metrics$peaks$pearsonr)\n",
    "        counts_peaks_nonpeaks = append(counts_peaks_nonpeaks, result$counts_metrics$peaks_and_nonpeaks$pearsonr)\n",
    "        profile_peaks = append(profile_peaks, result$profile_metrics$peaks$median_jsd*sqrt(log2(exp(1)))\n",
    ")\n",
    "        profile_peaks_nonpeaks = append(profile_peaks_nonpeaks, result$profile_metrics$peaks_and_nonpeaks$median_jsd*sqrt(log2(exp(1)))\n",
    ")\n",
    "    \n",
    "}"
   ]
  },
  {
   "cell_type": "code",
   "execution_count": 8,
   "metadata": {},
   "outputs": [],
   "source": [
    "metadata$counts_pearsonr_in_peaks = as.numeric(counts_peaks)\n",
    "metadata$counts_pearsonr_in_peaks_nonpeaks = as.numeric(counts_peaks_nonpeaks)\n",
    "metadata$profile_jsd_in_peaks = as.numeric(profile_peaks)\n",
    "metadata$profile_jsd_in_peaks_nonpeaks = as.numeric(profile_peaks_nonpeaks)\n",
    "\n",
    "metadata$cell_type <- factor(metadata$cell_type , levels=c(\"HEPG2\", \"GM12878\", \"K562\", \"H1ESC\", \"IMR90\"))\n"
   ]
  },
  {
   "cell_type": "code",
   "execution_count": 9,
   "metadata": {},
   "outputs": [
    {
     "data": {
      "text/html": [
       "<table class=\"dataframe\">\n",
       "<caption>A data.frame: 6 × 7</caption>\n",
       "<thead>\n",
       "\t<tr><th></th><th scope=col>fold</th><th scope=col>cell_type</th><th scope=col>model_dir</th><th scope=col>counts_pearsonr_in_peaks</th><th scope=col>counts_pearsonr_in_peaks_nonpeaks</th><th scope=col>profile_jsd_in_peaks</th><th scope=col>profile_jsd_in_peaks_nonpeaks</th></tr>\n",
       "\t<tr><th></th><th scope=col>&lt;chr&gt;</th><th scope=col>&lt;fct&gt;</th><th scope=col>&lt;chr&gt;</th><th scope=col>&lt;dbl&gt;</th><th scope=col>&lt;dbl&gt;</th><th scope=col>&lt;dbl&gt;</th><th scope=col>&lt;dbl&gt;</th></tr>\n",
       "</thead>\n",
       "<tbody>\n",
       "\t<tr><th scope=row>1</th><td>fold_0</td><td>GM12878</td><td>/oak/stanford/groups/akundaje/projects/chromatin-atlas-2022/DNASE/ENCSR000EMT/chrombpnet_model_feb15_fold_0/                     </td><td>0.6356190</td><td>0.7212427</td><td>0.8281099</td><td>0.9260918</td></tr>\n",
       "\t<tr><th scope=row>2</th><td>fold_1</td><td>GM12878</td><td>/oak/stanford/groups/akundaje/projects/chromatin-atlas-2022/DNASE/ENCSR000EMT/chrombpnet_model_feb15_fold_1/                     </td><td>0.6184064</td><td>0.7032601</td><td>0.8246693</td><td>0.9241265</td></tr>\n",
       "\t<tr><th scope=row>3</th><td>fold_2</td><td>GM12878</td><td>/oak/stanford/groups/akundaje/projects/chromatin-atlas-2022/DNASE/ENCSR000EMT/chrombpnet_model_feb15_fold_2/                     </td><td>0.6259391</td><td>0.6904900</td><td>0.8269637</td><td>0.9169587</td></tr>\n",
       "\t<tr><th scope=row>4</th><td>fold_3</td><td>GM12878</td><td>/oak/stanford/groups/akundaje/projects/chromatin-atlas-2022/DNASE/ENCSR000EMT/chrombpnet_model_feb15_fold_3/                     </td><td>0.6073836</td><td>0.7281575</td><td>0.8300613</td><td>0.9197991</td></tr>\n",
       "\t<tr><th scope=row>5</th><td>fold_4</td><td>GM12878</td><td>/oak/stanford/groups/akundaje/projects/chromatin-atlas-2022/DNASE/ENCSR000EMT/chrombpnet_model_feb15_fold_4/                     </td><td>0.6412320</td><td>0.7013069</td><td>0.8176439</td><td>0.9297475</td></tr>\n",
       "\t<tr><th scope=row>6</th><td>fold_0</td><td>K562   </td><td>/mnt/lab_data2/anusri/chrombpnet/results/chrombpnet/DNASE_PE/K562/nautilus_runs_may18/K562_05.13.2022_bias_128_4_1234_0.5_fold_0/</td><td>0.7088595</td><td>0.7220958</td><td>0.6628121</td><td>0.8224621</td></tr>\n",
       "</tbody>\n",
       "</table>\n"
      ],
      "text/latex": [
       "A data.frame: 6 × 7\n",
       "\\begin{tabular}{r|lllllll}\n",
       "  & fold & cell\\_type & model\\_dir & counts\\_pearsonr\\_in\\_peaks & counts\\_pearsonr\\_in\\_peaks\\_nonpeaks & profile\\_jsd\\_in\\_peaks & profile\\_jsd\\_in\\_peaks\\_nonpeaks\\\\\n",
       "  & <chr> & <fct> & <chr> & <dbl> & <dbl> & <dbl> & <dbl>\\\\\n",
       "\\hline\n",
       "\t1 & fold\\_0 & GM12878 & /oak/stanford/groups/akundaje/projects/chromatin-atlas-2022/DNASE/ENCSR000EMT/chrombpnet\\_model\\_feb15\\_fold\\_0/                      & 0.6356190 & 0.7212427 & 0.8281099 & 0.9260918\\\\\n",
       "\t2 & fold\\_1 & GM12878 & /oak/stanford/groups/akundaje/projects/chromatin-atlas-2022/DNASE/ENCSR000EMT/chrombpnet\\_model\\_feb15\\_fold\\_1/                      & 0.6184064 & 0.7032601 & 0.8246693 & 0.9241265\\\\\n",
       "\t3 & fold\\_2 & GM12878 & /oak/stanford/groups/akundaje/projects/chromatin-atlas-2022/DNASE/ENCSR000EMT/chrombpnet\\_model\\_feb15\\_fold\\_2/                      & 0.6259391 & 0.6904900 & 0.8269637 & 0.9169587\\\\\n",
       "\t4 & fold\\_3 & GM12878 & /oak/stanford/groups/akundaje/projects/chromatin-atlas-2022/DNASE/ENCSR000EMT/chrombpnet\\_model\\_feb15\\_fold\\_3/                      & 0.6073836 & 0.7281575 & 0.8300613 & 0.9197991\\\\\n",
       "\t5 & fold\\_4 & GM12878 & /oak/stanford/groups/akundaje/projects/chromatin-atlas-2022/DNASE/ENCSR000EMT/chrombpnet\\_model\\_feb15\\_fold\\_4/                      & 0.6412320 & 0.7013069 & 0.8176439 & 0.9297475\\\\\n",
       "\t6 & fold\\_0 & K562    & /mnt/lab\\_data2/anusri/chrombpnet/results/chrombpnet/DNASE\\_PE/K562/nautilus\\_runs\\_may18/K562\\_05.13.2022\\_bias\\_128\\_4\\_1234\\_0.5\\_fold\\_0/ & 0.7088595 & 0.7220958 & 0.6628121 & 0.8224621\\\\\n",
       "\\end{tabular}\n"
      ],
      "text/markdown": [
       "\n",
       "A data.frame: 6 × 7\n",
       "\n",
       "| <!--/--> | fold &lt;chr&gt; | cell_type &lt;fct&gt; | model_dir &lt;chr&gt; | counts_pearsonr_in_peaks &lt;dbl&gt; | counts_pearsonr_in_peaks_nonpeaks &lt;dbl&gt; | profile_jsd_in_peaks &lt;dbl&gt; | profile_jsd_in_peaks_nonpeaks &lt;dbl&gt; |\n",
       "|---|---|---|---|---|---|---|---|\n",
       "| 1 | fold_0 | GM12878 | /oak/stanford/groups/akundaje/projects/chromatin-atlas-2022/DNASE/ENCSR000EMT/chrombpnet_model_feb15_fold_0/                      | 0.6356190 | 0.7212427 | 0.8281099 | 0.9260918 |\n",
       "| 2 | fold_1 | GM12878 | /oak/stanford/groups/akundaje/projects/chromatin-atlas-2022/DNASE/ENCSR000EMT/chrombpnet_model_feb15_fold_1/                      | 0.6184064 | 0.7032601 | 0.8246693 | 0.9241265 |\n",
       "| 3 | fold_2 | GM12878 | /oak/stanford/groups/akundaje/projects/chromatin-atlas-2022/DNASE/ENCSR000EMT/chrombpnet_model_feb15_fold_2/                      | 0.6259391 | 0.6904900 | 0.8269637 | 0.9169587 |\n",
       "| 4 | fold_3 | GM12878 | /oak/stanford/groups/akundaje/projects/chromatin-atlas-2022/DNASE/ENCSR000EMT/chrombpnet_model_feb15_fold_3/                      | 0.6073836 | 0.7281575 | 0.8300613 | 0.9197991 |\n",
       "| 5 | fold_4 | GM12878 | /oak/stanford/groups/akundaje/projects/chromatin-atlas-2022/DNASE/ENCSR000EMT/chrombpnet_model_feb15_fold_4/                      | 0.6412320 | 0.7013069 | 0.8176439 | 0.9297475 |\n",
       "| 6 | fold_0 | K562    | /mnt/lab_data2/anusri/chrombpnet/results/chrombpnet/DNASE_PE/K562/nautilus_runs_may18/K562_05.13.2022_bias_128_4_1234_0.5_fold_0/ | 0.7088595 | 0.7220958 | 0.6628121 | 0.8224621 |\n",
       "\n"
      ],
      "text/plain": [
       "  fold   cell_type\n",
       "1 fold_0 GM12878  \n",
       "2 fold_1 GM12878  \n",
       "3 fold_2 GM12878  \n",
       "4 fold_3 GM12878  \n",
       "5 fold_4 GM12878  \n",
       "6 fold_0 K562     \n",
       "  model_dir                                                                                                                        \n",
       "1 /oak/stanford/groups/akundaje/projects/chromatin-atlas-2022/DNASE/ENCSR000EMT/chrombpnet_model_feb15_fold_0/                     \n",
       "2 /oak/stanford/groups/akundaje/projects/chromatin-atlas-2022/DNASE/ENCSR000EMT/chrombpnet_model_feb15_fold_1/                     \n",
       "3 /oak/stanford/groups/akundaje/projects/chromatin-atlas-2022/DNASE/ENCSR000EMT/chrombpnet_model_feb15_fold_2/                     \n",
       "4 /oak/stanford/groups/akundaje/projects/chromatin-atlas-2022/DNASE/ENCSR000EMT/chrombpnet_model_feb15_fold_3/                     \n",
       "5 /oak/stanford/groups/akundaje/projects/chromatin-atlas-2022/DNASE/ENCSR000EMT/chrombpnet_model_feb15_fold_4/                     \n",
       "6 /mnt/lab_data2/anusri/chrombpnet/results/chrombpnet/DNASE_PE/K562/nautilus_runs_may18/K562_05.13.2022_bias_128_4_1234_0.5_fold_0/\n",
       "  counts_pearsonr_in_peaks counts_pearsonr_in_peaks_nonpeaks\n",
       "1 0.6356190                0.7212427                        \n",
       "2 0.6184064                0.7032601                        \n",
       "3 0.6259391                0.6904900                        \n",
       "4 0.6073836                0.7281575                        \n",
       "5 0.6412320                0.7013069                        \n",
       "6 0.7088595                0.7220958                        \n",
       "  profile_jsd_in_peaks profile_jsd_in_peaks_nonpeaks\n",
       "1 0.8281099            0.9260918                    \n",
       "2 0.8246693            0.9241265                    \n",
       "3 0.8269637            0.9169587                    \n",
       "4 0.8300613            0.9197991                    \n",
       "5 0.8176439            0.9297475                    \n",
       "6 0.6628121            0.8224621                    "
      ]
     },
     "metadata": {},
     "output_type": "display_data"
    }
   ],
   "source": [
    "head(metadata)\n",
    "metadata_dnase = metadata"
   ]
  },
  {
   "cell_type": "code",
   "execution_count": 10,
   "metadata": {},
   "outputs": [],
   "source": [
    "combine_perf_counts = c(metadata_atac$counts_pearsonr_in_peaks,metadata_dnase$counts_pearsonr_in_peaks)  \n"
   ]
  },
  {
   "cell_type": "code",
   "execution_count": 11,
   "metadata": {},
   "outputs": [
    {
     "data": {
      "text/html": [
       "0.69"
      ],
      "text/latex": [
       "0.69"
      ],
      "text/markdown": [
       "0.69"
      ],
      "text/plain": [
       "[1] 0.69"
      ]
     },
     "metadata": {},
     "output_type": "display_data"
    }
   ],
   "source": [
    "round(median(combine_perf_counts),2)"
   ]
  },
  {
   "cell_type": "code",
   "execution_count": 15,
   "metadata": {},
   "outputs": [
    {
     "data": {
      "text/html": [
       "50"
      ],
      "text/latex": [
       "50"
      ],
      "text/markdown": [
       "50"
      ],
      "text/plain": [
       "[1] 50"
      ]
     },
     "metadata": {},
     "output_type": "display_data"
    }
   ],
   "source": [
    "length(combine_perf_counts)"
   ]
  },
  {
   "cell_type": "code",
   "execution_count": 16,
   "metadata": {},
   "outputs": [],
   "source": [
    "combine_perf_profile = c(metadata_atac$profile_jsd_in_peaks,metadata_dnase$profile_jsd_in_peaks)  \n"
   ]
  },
  {
   "cell_type": "code",
   "execution_count": 18,
   "metadata": {},
   "outputs": [
    {
     "data": {
      "text/html": [
       "0.62"
      ],
      "text/latex": [
       "0.62"
      ],
      "text/markdown": [
       "0.62"
      ],
      "text/plain": [
       "[1] 0.62"
      ]
     },
     "metadata": {},
     "output_type": "display_data"
    }
   ],
   "source": [
    "round(median(combine_perf_profile),2)"
   ]
  },
  {
   "cell_type": "code",
   "execution_count": 19,
   "metadata": {},
   "outputs": [
    {
     "data": {
      "text/html": [
       "50"
      ],
      "text/latex": [
       "50"
      ],
      "text/markdown": [
       "50"
      ],
      "text/plain": [
       "[1] 50"
      ]
     },
     "metadata": {},
     "output_type": "display_data"
    }
   ],
   "source": [
    "length(combine_perf_counts)"
   ]
  },
  {
   "cell_type": "code",
   "execution_count": 21,
   "metadata": {},
   "outputs": [
    {
     "data": {
      "text/html": [
       "<style>\n",
       ".list-inline {list-style: none; margin:0; padding: 0}\n",
       ".list-inline>li {display: inline-block}\n",
       ".list-inline>li:not(:last-child)::after {content: \"\\00b7\"; padding: 0 .5ex}\n",
       "</style>\n",
       "<ol class=list-inline><li>0.387664628714782</li><li>0.385786100813846</li><li>0.387832844060944</li><li>0.385757027688281</li><li>0.377089342486516</li><li>0.409743419424972</li><li>0.420225471124794</li><li>0.414632238953711</li><li>0.418804141966786</li><li>0.408911145532607</li><li>0.380204388670562</li><li>0.37418724613958</li><li>0.379733260736997</li><li>0.376323235825122</li><li>0.371511564693095</li><li>0.579915334171405</li><li>0.575857569894473</li><li>0.575996501319136</li><li>0.576763001222184</li><li>0.565716976515842</li><li>0.606587212983054</li><li>0.614247653298557</li><li>0.608502888342756</li><li>0.613316632759424</li><li>0.609238497921938</li><li>0.828109888164533</li><li>0.82466925623064</li><li>0.826963689659789</li><li>0.83006133220799</li><li>0.817643911636502</li><li>0.662812073850598</li><li>0.660792270762903</li><li>0.657748769990428</li><li>0.660934690512191</li><li>0.647698512334757</li><li>0.699084473399179</li><li>0.704275552891911</li><li>0.697598253846605</li><li>0.705420769181039</li><li>0.690280213943145</li><li>0.632279534120747</li><li>0.634692915798196</li><li>0.634520737323616</li><li>0.63664838714223</li><li>0.63812204063812</li><li>0.922817774071288</li><li>0.928287094450165</li><li>0.923929038252773</li><li>0.924471966391385</li><li>0.917938942121251</li></ol>\n"
      ],
      "text/latex": [
       "\\begin{enumerate*}\n",
       "\\item 0.387664628714782\n",
       "\\item 0.385786100813846\n",
       "\\item 0.387832844060944\n",
       "\\item 0.385757027688281\n",
       "\\item 0.377089342486516\n",
       "\\item 0.409743419424972\n",
       "\\item 0.420225471124794\n",
       "\\item 0.414632238953711\n",
       "\\item 0.418804141966786\n",
       "\\item 0.408911145532607\n",
       "\\item 0.380204388670562\n",
       "\\item 0.37418724613958\n",
       "\\item 0.379733260736997\n",
       "\\item 0.376323235825122\n",
       "\\item 0.371511564693095\n",
       "\\item 0.579915334171405\n",
       "\\item 0.575857569894473\n",
       "\\item 0.575996501319136\n",
       "\\item 0.576763001222184\n",
       "\\item 0.565716976515842\n",
       "\\item 0.606587212983054\n",
       "\\item 0.614247653298557\n",
       "\\item 0.608502888342756\n",
       "\\item 0.613316632759424\n",
       "\\item 0.609238497921938\n",
       "\\item 0.828109888164533\n",
       "\\item 0.82466925623064\n",
       "\\item 0.826963689659789\n",
       "\\item 0.83006133220799\n",
       "\\item 0.817643911636502\n",
       "\\item 0.662812073850598\n",
       "\\item 0.660792270762903\n",
       "\\item 0.657748769990428\n",
       "\\item 0.660934690512191\n",
       "\\item 0.647698512334757\n",
       "\\item 0.699084473399179\n",
       "\\item 0.704275552891911\n",
       "\\item 0.697598253846605\n",
       "\\item 0.705420769181039\n",
       "\\item 0.690280213943145\n",
       "\\item 0.632279534120747\n",
       "\\item 0.634692915798196\n",
       "\\item 0.634520737323616\n",
       "\\item 0.63664838714223\n",
       "\\item 0.63812204063812\n",
       "\\item 0.922817774071288\n",
       "\\item 0.928287094450165\n",
       "\\item 0.923929038252773\n",
       "\\item 0.924471966391385\n",
       "\\item 0.917938942121251\n",
       "\\end{enumerate*}\n"
      ],
      "text/markdown": [
       "1. 0.387664628714782\n",
       "2. 0.385786100813846\n",
       "3. 0.387832844060944\n",
       "4. 0.385757027688281\n",
       "5. 0.377089342486516\n",
       "6. 0.409743419424972\n",
       "7. 0.420225471124794\n",
       "8. 0.414632238953711\n",
       "9. 0.418804141966786\n",
       "10. 0.408911145532607\n",
       "11. 0.380204388670562\n",
       "12. 0.37418724613958\n",
       "13. 0.379733260736997\n",
       "14. 0.376323235825122\n",
       "15. 0.371511564693095\n",
       "16. 0.579915334171405\n",
       "17. 0.575857569894473\n",
       "18. 0.575996501319136\n",
       "19. 0.576763001222184\n",
       "20. 0.565716976515842\n",
       "21. 0.606587212983054\n",
       "22. 0.614247653298557\n",
       "23. 0.608502888342756\n",
       "24. 0.613316632759424\n",
       "25. 0.609238497921938\n",
       "26. 0.828109888164533\n",
       "27. 0.82466925623064\n",
       "28. 0.826963689659789\n",
       "29. 0.83006133220799\n",
       "30. 0.817643911636502\n",
       "31. 0.662812073850598\n",
       "32. 0.660792270762903\n",
       "33. 0.657748769990428\n",
       "34. 0.660934690512191\n",
       "35. 0.647698512334757\n",
       "36. 0.699084473399179\n",
       "37. 0.704275552891911\n",
       "38. 0.697598253846605\n",
       "39. 0.705420769181039\n",
       "40. 0.690280213943145\n",
       "41. 0.632279534120747\n",
       "42. 0.634692915798196\n",
       "43. 0.634520737323616\n",
       "44. 0.63664838714223\n",
       "45. 0.63812204063812\n",
       "46. 0.922817774071288\n",
       "47. 0.928287094450165\n",
       "48. 0.923929038252773\n",
       "49. 0.924471966391385\n",
       "50. 0.917938942121251\n",
       "\n",
       "\n"
      ],
      "text/plain": [
       " [1] 0.3876646 0.3857861 0.3878328 0.3857570 0.3770893 0.4097434 0.4202255\n",
       " [8] 0.4146322 0.4188041 0.4089111 0.3802044 0.3741872 0.3797333 0.3763232\n",
       "[15] 0.3715116 0.5799153 0.5758576 0.5759965 0.5767630 0.5657170 0.6065872\n",
       "[22] 0.6142477 0.6085029 0.6133166 0.6092385 0.8281099 0.8246693 0.8269637\n",
       "[29] 0.8300613 0.8176439 0.6628121 0.6607923 0.6577488 0.6609347 0.6476985\n",
       "[36] 0.6990845 0.7042756 0.6975983 0.7054208 0.6902802 0.6322795 0.6346929\n",
       "[43] 0.6345207 0.6366484 0.6381220 0.9228178 0.9282871 0.9239290 0.9244720\n",
       "[50] 0.9179389"
      ]
     },
     "metadata": {},
     "output_type": "display_data"
    }
   ],
   "source": [
    "combine_perf_profile"
   ]
  },
  {
   "cell_type": "code",
   "execution_count": 22,
   "metadata": {},
   "outputs": [
    {
     "data": {
      "text/html": [
       "0.62"
      ],
      "text/latex": [
       "0.62"
      ],
      "text/markdown": [
       "0.62"
      ],
      "text/plain": [
       "[1] 0.62"
      ]
     },
     "metadata": {},
     "output_type": "display_data"
    }
   ],
   "source": [
    "round(median(combine_perf_profile),2)"
   ]
  },
  {
   "cell_type": "code",
   "execution_count": 28,
   "metadata": {},
   "outputs": [
    {
     "data": {
      "text/html": [
       "0.41"
      ],
      "text/latex": [
       "0.41"
      ],
      "text/markdown": [
       "0.41"
      ],
      "text/plain": [
       "[1] 0.41"
      ]
     },
     "metadata": {},
     "output_type": "display_data"
    }
   ],
   "source": [
    "round(median(metadata_atac$profile_jsd_in_peaks),2)"
   ]
  },
  {
   "cell_type": "code",
   "execution_count": 29,
   "metadata": {},
   "outputs": [
    {
     "data": {
      "text/html": [
       "0.7"
      ],
      "text/latex": [
       "0.7"
      ],
      "text/markdown": [
       "0.7"
      ],
      "text/plain": [
       "[1] 0.7"
      ]
     },
     "metadata": {},
     "output_type": "display_data"
    }
   ],
   "source": [
    "round(median(metadata_dnase$profile_jsd_in_peaks),2)"
   ]
  },
  {
   "cell_type": "code",
   "execution_count": 30,
   "metadata": {},
   "outputs": [
    {
     "data": {
      "text/html": [
       "0.71"
      ],
      "text/latex": [
       "0.71"
      ],
      "text/markdown": [
       "0.71"
      ],
      "text/plain": [
       "[1] 0.71"
      ]
     },
     "metadata": {},
     "output_type": "display_data"
    }
   ],
   "source": [
    "round(median(metadata_atac$counts_pearsonr_in_peaks),2)"
   ]
  },
  {
   "cell_type": "code",
   "execution_count": 31,
   "metadata": {},
   "outputs": [
    {
     "data": {
      "text/html": [
       "0.64"
      ],
      "text/latex": [
       "0.64"
      ],
      "text/markdown": [
       "0.64"
      ],
      "text/plain": [
       "[1] 0.64"
      ]
     },
     "metadata": {},
     "output_type": "display_data"
    }
   ],
   "source": [
    "round(median(metadata_dnase$counts_pearsonr_in_peaks),2)"
   ]
  },
  {
   "cell_type": "code",
   "execution_count": null,
   "metadata": {},
   "outputs": [],
   "source": []
  }
 ],
 "metadata": {
  "kernelspec": {
   "display_name": "R",
   "language": "R",
   "name": "ir"
  },
  "language_info": {
   "codemirror_mode": "r",
   "file_extension": ".r",
   "mimetype": "text/x-r-source",
   "name": "R",
   "pygments_lexer": "r",
   "version": "4.0.3"
  }
 },
 "nbformat": 4,
 "nbformat_minor": 4
}
