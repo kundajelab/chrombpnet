{
 "cells": [
  {
   "cell_type": "code",
   "execution_count": 3,
   "metadata": {},
   "outputs": [],
   "source": [
    "import pyBigWig"
   ]
  },
  {
   "cell_type": "code",
   "execution_count": 4,
   "metadata": {},
   "outputs": [
    {
     "name": "stdout",
     "output_type": "stream",
     "text": [
      "{0, 1}\n",
      "248956422\n",
      "219161958\n"
     ]
    }
   ],
   "source": [
    "import numpy as np\n",
    "import gzip\n",
    "# Open the gzipped file and read the data\n",
    "with gzip.open('/mnt/lab_data2/anusri/chrombpnet/reference/chr1.uint8.unique.gz', 'rb') as tmp_uMap:\n",
    "    uMapdata = np.frombuffer(tmp_uMap.read(), dtype=np.uint8)\n",
    "\n",
    "pos_vec = (uMapdata>0)&(uMapdata<=101)\n",
    "pos_vec = pos_vec.astype(int)\n",
    "neg_vec = np.roll(pos_vec, 100)\n",
    "neg_vec[0:100] = 0\n",
    "\n",
    "print(set(pos_vec))\n",
    "print(len(uMapdata))\n",
    "print(sum(pos_vec))\n",
    "\n",
    "total_map=pos_vec+neg_vec\n"
   ]
  },
  {
   "cell_type": "code",
   "execution_count": 30,
   "metadata": {},
   "outputs": [],
   "source": []
  },
  {
   "cell_type": "code",
   "execution_count": 31,
   "metadata": {},
   "outputs": [
    {
     "data": {
      "text/plain": [
       "248956422"
      ]
     },
     "execution_count": 31,
     "metadata": {},
     "output_type": "execute_result"
    }
   ],
   "source": [
    "pred_bigwig.chroms()['chr1']"
   ]
  },
  {
   "cell_type": "code",
   "execution_count": 32,
   "metadata": {},
   "outputs": [],
   "source": [
    "all_val = np.nan_to_num(pred_bigwig.values('chr1', 0, 248956422))"
   ]
  },
  {
   "cell_type": "code",
   "execution_count": 33,
   "metadata": {},
   "outputs": [
    {
     "data": {
      "text/plain": [
       "(248956422,)"
      ]
     },
     "execution_count": 33,
     "metadata": {},
     "output_type": "execute_result"
    }
   ],
   "source": [
    "all_val.shape"
   ]
  },
  {
   "cell_type": "code",
   "execution_count": 34,
   "metadata": {},
   "outputs": [
    {
     "data": {
      "text/plain": [
       "{0, 1, 2}"
      ]
     },
     "execution_count": 34,
     "metadata": {},
     "output_type": "execute_result"
    }
   ],
   "source": [
    "set(total_map)"
   ]
  },
  {
   "cell_type": "code",
   "execution_count": null,
   "metadata": {},
   "outputs": [],
   "source": []
  },
  {
   "cell_type": "code",
   "execution_count": 35,
   "metadata": {},
   "outputs": [],
   "source": [
    "mappability = [sum(total_map[i:i+100])/200 for i in range(557,248956357, 100)]\n",
    "total_sig = [sum(all_val[i:i+100]) for i in range(557,248956357, 100)]\n"
   ]
  },
  {
   "cell_type": "code",
   "execution_count": 36,
   "metadata": {},
   "outputs": [
    {
     "data": {
      "text/plain": [
       "2489558"
      ]
     },
     "execution_count": 36,
     "metadata": {},
     "output_type": "execute_result"
    }
   ],
   "source": [
    "len(mappability)"
   ]
  },
  {
   "cell_type": "code",
   "execution_count": 37,
   "metadata": {},
   "outputs": [
    {
     "data": {
      "text/plain": [
       "2489558"
      ]
     },
     "execution_count": 37,
     "metadata": {},
     "output_type": "execute_result"
    }
   ],
   "source": [
    "len(total_sig)"
   ]
  },
  {
   "cell_type": "code",
   "execution_count": null,
   "metadata": {},
   "outputs": [],
   "source": []
  },
  {
   "cell_type": "code",
   "execution_count": 38,
   "metadata": {},
   "outputs": [
    {
     "name": "stdout",
     "output_type": "stream",
     "text": [
      "(2489558, 10)\n",
      "74758\n",
      "(2453566, 13)\n"
     ]
    }
   ],
   "source": [
    "import pandas as pd\n",
    "\n",
    "bed_annotate = \"/mnt/lab_data2/anusri/chrombpnet/results/chrombpnet/auprc_curves/idr_overlap_peak_blacklist_annotated_chr1.bed\"\n",
    "\n",
    "chr1_binned = pd.read_csv(bed_annotate, sep=\"\\t\", names=[\"chr\", \"start\", \"end\", \"idr\", \"idr_f\", \"idr_t\", \"idr_w\", \"idr_frac\", \n",
    "                                                         \"blacklist\", \"overlap\"])\n",
    "\n",
    "chr1_binned = chr1_binned[:-1]\n",
    "print(chr1_binned.shape)\n",
    "chr1_binned[\"mappability\"] = mappability\n",
    "chr1_binned[\"total_sig\"] = total_sig\n",
    "chr1_binned[\"label\"] = 0\n",
    "chr1_binned.loc[chr1_binned[\"idr\"]==1, \"label\"] =1\n",
    "print(sum(chr1_binned[\"label\"]))\n",
    "#eliminate blacklist\n",
    "chr1_binned=chr1_binned[chr1_binned[\"blacklist\"]==0]\n",
    "print(chr1_binned.shape)\n",
    "\n"
   ]
  },
  {
   "cell_type": "code",
   "execution_count": 39,
   "metadata": {},
   "outputs": [
    {
     "data": {
      "text/html": [
       "<div>\n",
       "<style scoped>\n",
       "    .dataframe tbody tr th:only-of-type {\n",
       "        vertical-align: middle;\n",
       "    }\n",
       "\n",
       "    .dataframe tbody tr th {\n",
       "        vertical-align: top;\n",
       "    }\n",
       "\n",
       "    .dataframe thead th {\n",
       "        text-align: right;\n",
       "    }\n",
       "</style>\n",
       "<table border=\"1\" class=\"dataframe\">\n",
       "  <thead>\n",
       "    <tr style=\"text-align: right;\">\n",
       "      <th></th>\n",
       "      <th>chr</th>\n",
       "      <th>start</th>\n",
       "      <th>end</th>\n",
       "      <th>idr</th>\n",
       "      <th>idr_f</th>\n",
       "      <th>idr_t</th>\n",
       "      <th>idr_w</th>\n",
       "      <th>idr_frac</th>\n",
       "      <th>blacklist</th>\n",
       "      <th>overlap</th>\n",
       "      <th>mappability</th>\n",
       "      <th>total_sig</th>\n",
       "      <th>label</th>\n",
       "    </tr>\n",
       "  </thead>\n",
       "  <tbody>\n",
       "    <tr>\n",
       "      <th>0</th>\n",
       "      <td>chr1</td>\n",
       "      <td>557</td>\n",
       "      <td>657</td>\n",
       "      <td>0</td>\n",
       "      <td>0</td>\n",
       "      <td>0</td>\n",
       "      <td>100</td>\n",
       "      <td>0.0</td>\n",
       "      <td>0</td>\n",
       "      <td>0</td>\n",
       "      <td>0.0</td>\n",
       "      <td>1.323811</td>\n",
       "      <td>0</td>\n",
       "    </tr>\n",
       "    <tr>\n",
       "      <th>1</th>\n",
       "      <td>chr1</td>\n",
       "      <td>657</td>\n",
       "      <td>757</td>\n",
       "      <td>0</td>\n",
       "      <td>0</td>\n",
       "      <td>0</td>\n",
       "      <td>100</td>\n",
       "      <td>0.0</td>\n",
       "      <td>0</td>\n",
       "      <td>0</td>\n",
       "      <td>0.0</td>\n",
       "      <td>1.323811</td>\n",
       "      <td>0</td>\n",
       "    </tr>\n",
       "    <tr>\n",
       "      <th>2</th>\n",
       "      <td>chr1</td>\n",
       "      <td>757</td>\n",
       "      <td>857</td>\n",
       "      <td>0</td>\n",
       "      <td>0</td>\n",
       "      <td>0</td>\n",
       "      <td>100</td>\n",
       "      <td>0.0</td>\n",
       "      <td>0</td>\n",
       "      <td>0</td>\n",
       "      <td>0.0</td>\n",
       "      <td>1.323811</td>\n",
       "      <td>0</td>\n",
       "    </tr>\n",
       "    <tr>\n",
       "      <th>3</th>\n",
       "      <td>chr1</td>\n",
       "      <td>857</td>\n",
       "      <td>957</td>\n",
       "      <td>0</td>\n",
       "      <td>0</td>\n",
       "      <td>0</td>\n",
       "      <td>100</td>\n",
       "      <td>0.0</td>\n",
       "      <td>0</td>\n",
       "      <td>0</td>\n",
       "      <td>0.0</td>\n",
       "      <td>1.323811</td>\n",
       "      <td>0</td>\n",
       "    </tr>\n",
       "    <tr>\n",
       "      <th>4</th>\n",
       "      <td>chr1</td>\n",
       "      <td>957</td>\n",
       "      <td>1057</td>\n",
       "      <td>0</td>\n",
       "      <td>0</td>\n",
       "      <td>0</td>\n",
       "      <td>100</td>\n",
       "      <td>0.0</td>\n",
       "      <td>0</td>\n",
       "      <td>0</td>\n",
       "      <td>0.0</td>\n",
       "      <td>1.323811</td>\n",
       "      <td>0</td>\n",
       "    </tr>\n",
       "  </tbody>\n",
       "</table>\n",
       "</div>"
      ],
      "text/plain": [
       "    chr  start   end  idr  idr_f  idr_t  idr_w  idr_frac  blacklist  overlap  \\\n",
       "0  chr1    557   657    0      0      0    100       0.0          0        0   \n",
       "1  chr1    657   757    0      0      0    100       0.0          0        0   \n",
       "2  chr1    757   857    0      0      0    100       0.0          0        0   \n",
       "3  chr1    857   957    0      0      0    100       0.0          0        0   \n",
       "4  chr1    957  1057    0      0      0    100       0.0          0        0   \n",
       "\n",
       "   mappability  total_sig  label  \n",
       "0          0.0   1.323811      0  \n",
       "1          0.0   1.323811      0  \n",
       "2          0.0   1.323811      0  \n",
       "3          0.0   1.323811      0  \n",
       "4          0.0   1.323811      0  "
      ]
     },
     "execution_count": 39,
     "metadata": {},
     "output_type": "execute_result"
    }
   ],
   "source": [
    "chr1_binned.head()"
   ]
  },
  {
   "cell_type": "code",
   "execution_count": 40,
   "metadata": {},
   "outputs": [
    {
     "data": {
      "text/plain": [
       "2"
      ]
     },
     "execution_count": 40,
     "metadata": {},
     "output_type": "execute_result"
    }
   ],
   "source": [
    "chr1_binned[\"overlap\"].max()"
   ]
  },
  {
   "cell_type": "code",
   "execution_count": 41,
   "metadata": {},
   "outputs": [
    {
     "name": "stdout",
     "output_type": "stream",
     "text": [
      "74758\n"
     ]
    }
   ],
   "source": [
    "print(sum(chr1_binned[\"label\"]))\n"
   ]
  },
  {
   "cell_type": "code",
   "execution_count": 42,
   "metadata": {},
   "outputs": [
    {
     "data": {
      "text/plain": [
       "1"
      ]
     },
     "execution_count": 42,
     "metadata": {},
     "output_type": "execute_result"
    }
   ],
   "source": [
    "chr1_binned[\"idr\"].max()"
   ]
  },
  {
   "cell_type": "code",
   "execution_count": 43,
   "metadata": {},
   "outputs": [
    {
     "data": {
      "text/plain": [
       "74758"
      ]
     },
     "execution_count": 43,
     "metadata": {},
     "output_type": "execute_result"
    }
   ],
   "source": [
    "sum(chr1_binned[\"idr\"]==1) # of positives"
   ]
  },
  {
   "cell_type": "code",
   "execution_count": 44,
   "metadata": {},
   "outputs": [
    {
     "data": {
      "text/plain": [
       "0.5"
      ]
     },
     "execution_count": 44,
     "metadata": {},
     "output_type": "execute_result"
    }
   ],
   "source": [
    "chr1_binned[chr1_binned[\"idr\"]==1][\"idr_frac\"].min()"
   ]
  },
  {
   "cell_type": "code",
   "execution_count": 45,
   "metadata": {},
   "outputs": [
    {
     "name": "stdout",
     "output_type": "stream",
     "text": [
      "(2453566, 13)\n",
      "(74758, 13)\n",
      "(2368887, 13)\n",
      "74758\n",
      "(2443645, 13)\n",
      "74758\n"
     ]
    }
   ],
   "source": [
    "# eliminate windows with less than 50% overlap with idr\n",
    "print(chr1_binned.shape)\n",
    "print(chr1_binned[chr1_binned[\"idr\"]==1].shape)\n",
    "print(chr1_binned[chr1_binned[\"idr_frac\"]==0.0].shape)\n",
    "print(sum(chr1_binned[\"label\"]))\n",
    "\n",
    "chr1_binned = chr1_binned[~((chr1_binned[\"idr_frac\"]>0) & (chr1_binned[\"idr_frac\"]<0.5))]\n",
    "print(chr1_binned.shape)\n",
    "print(sum(chr1_binned[\"label\"]))\n",
    "\n",
    "#chr1_binned[(chr1_binned[\"idr_frac\"]>0) & (chr1_binned[\"idr\"]==0)]\n"
   ]
  },
  {
   "cell_type": "code",
   "execution_count": 46,
   "metadata": {},
   "outputs": [
    {
     "data": {
      "text/plain": [
       "74758"
      ]
     },
     "execution_count": 46,
     "metadata": {},
     "output_type": "execute_result"
    }
   ],
   "source": [
    "sum(chr1_binned[\"idr\"]==1)"
   ]
  },
  {
   "cell_type": "code",
   "execution_count": 47,
   "metadata": {},
   "outputs": [
    {
     "name": "stdout",
     "output_type": "stream",
     "text": [
      "(2418520, 13)\n"
     ]
    }
   ],
   "source": [
    "# eliminate windows with any overlap with overlap\n",
    "chr1_binned = chr1_binned[~((chr1_binned[\"overlap\"]==1) & (chr1_binned[\"idr\"]==0))]\n",
    "print(chr1_binned.shape)"
   ]
  },
  {
   "cell_type": "code",
   "execution_count": 48,
   "metadata": {},
   "outputs": [
    {
     "data": {
      "text/plain": [
       "268092"
      ]
     },
     "execution_count": 48,
     "metadata": {},
     "output_type": "execute_result"
    }
   ],
   "source": [
    "sum(chr1_binned[\"mappability\"]<0.5)"
   ]
  },
  {
   "cell_type": "code",
   "execution_count": 49,
   "metadata": {},
   "outputs": [],
   "source": [
    "chr1_binned = chr1_binned[chr1_binned[\"mappability\"]>0.5]"
   ]
  },
  {
   "cell_type": "code",
   "execution_count": 50,
   "metadata": {},
   "outputs": [
    {
     "data": {
      "text/plain": [
       "(2149735, 13)"
      ]
     },
     "execution_count": 50,
     "metadata": {},
     "output_type": "execute_result"
    }
   ],
   "source": [
    "chr1_binned.shape"
   ]
  },
  {
   "cell_type": "code",
   "execution_count": 51,
   "metadata": {},
   "outputs": [
    {
     "data": {
      "text/html": [
       "<div>\n",
       "<style scoped>\n",
       "    .dataframe tbody tr th:only-of-type {\n",
       "        vertical-align: middle;\n",
       "    }\n",
       "\n",
       "    .dataframe tbody tr th {\n",
       "        vertical-align: top;\n",
       "    }\n",
       "\n",
       "    .dataframe thead th {\n",
       "        text-align: right;\n",
       "    }\n",
       "</style>\n",
       "<table border=\"1\" class=\"dataframe\">\n",
       "  <thead>\n",
       "    <tr style=\"text-align: right;\">\n",
       "      <th></th>\n",
       "      <th>chr</th>\n",
       "      <th>start</th>\n",
       "      <th>end</th>\n",
       "      <th>idr</th>\n",
       "      <th>idr_f</th>\n",
       "      <th>idr_t</th>\n",
       "      <th>idr_w</th>\n",
       "      <th>idr_frac</th>\n",
       "      <th>blacklist</th>\n",
       "      <th>overlap</th>\n",
       "      <th>mappability</th>\n",
       "      <th>total_sig</th>\n",
       "      <th>label</th>\n",
       "    </tr>\n",
       "  </thead>\n",
       "  <tbody>\n",
       "    <tr>\n",
       "      <th>98</th>\n",
       "      <td>chr1</td>\n",
       "      <td>10357</td>\n",
       "      <td>10457</td>\n",
       "      <td>0</td>\n",
       "      <td>0</td>\n",
       "      <td>0</td>\n",
       "      <td>100</td>\n",
       "      <td>0.0</td>\n",
       "      <td>0</td>\n",
       "      <td>0</td>\n",
       "      <td>0.915</td>\n",
       "      <td>5.391246</td>\n",
       "      <td>0</td>\n",
       "    </tr>\n",
       "    <tr>\n",
       "      <th>99</th>\n",
       "      <td>chr1</td>\n",
       "      <td>10457</td>\n",
       "      <td>10557</td>\n",
       "      <td>0</td>\n",
       "      <td>0</td>\n",
       "      <td>0</td>\n",
       "      <td>100</td>\n",
       "      <td>0.0</td>\n",
       "      <td>0</td>\n",
       "      <td>0</td>\n",
       "      <td>0.790</td>\n",
       "      <td>18.725932</td>\n",
       "      <td>0</td>\n",
       "    </tr>\n",
       "    <tr>\n",
       "      <th>100</th>\n",
       "      <td>chr1</td>\n",
       "      <td>10557</td>\n",
       "      <td>10657</td>\n",
       "      <td>0</td>\n",
       "      <td>0</td>\n",
       "      <td>0</td>\n",
       "      <td>100</td>\n",
       "      <td>0.0</td>\n",
       "      <td>0</td>\n",
       "      <td>0</td>\n",
       "      <td>0.705</td>\n",
       "      <td>26.567831</td>\n",
       "      <td>0</td>\n",
       "    </tr>\n",
       "    <tr>\n",
       "      <th>101</th>\n",
       "      <td>chr1</td>\n",
       "      <td>10657</td>\n",
       "      <td>10757</td>\n",
       "      <td>0</td>\n",
       "      <td>0</td>\n",
       "      <td>0</td>\n",
       "      <td>100</td>\n",
       "      <td>0.0</td>\n",
       "      <td>0</td>\n",
       "      <td>0</td>\n",
       "      <td>0.605</td>\n",
       "      <td>4.465074</td>\n",
       "      <td>0</td>\n",
       "    </tr>\n",
       "    <tr>\n",
       "      <th>102</th>\n",
       "      <td>chr1</td>\n",
       "      <td>10757</td>\n",
       "      <td>10857</td>\n",
       "      <td>0</td>\n",
       "      <td>0</td>\n",
       "      <td>0</td>\n",
       "      <td>100</td>\n",
       "      <td>0.0</td>\n",
       "      <td>0</td>\n",
       "      <td>0</td>\n",
       "      <td>0.565</td>\n",
       "      <td>10.476330</td>\n",
       "      <td>0</td>\n",
       "    </tr>\n",
       "    <tr>\n",
       "      <th>...</th>\n",
       "      <td>...</td>\n",
       "      <td>...</td>\n",
       "      <td>...</td>\n",
       "      <td>...</td>\n",
       "      <td>...</td>\n",
       "      <td>...</td>\n",
       "      <td>...</td>\n",
       "      <td>...</td>\n",
       "      <td>...</td>\n",
       "      <td>...</td>\n",
       "      <td>...</td>\n",
       "      <td>...</td>\n",
       "      <td>...</td>\n",
       "    </tr>\n",
       "    <tr>\n",
       "      <th>2489446</th>\n",
       "      <td>chr1</td>\n",
       "      <td>248945157</td>\n",
       "      <td>248945257</td>\n",
       "      <td>0</td>\n",
       "      <td>0</td>\n",
       "      <td>0</td>\n",
       "      <td>100</td>\n",
       "      <td>0.0</td>\n",
       "      <td>0</td>\n",
       "      <td>0</td>\n",
       "      <td>0.705</td>\n",
       "      <td>18.015388</td>\n",
       "      <td>0</td>\n",
       "    </tr>\n",
       "    <tr>\n",
       "      <th>2489447</th>\n",
       "      <td>chr1</td>\n",
       "      <td>248945257</td>\n",
       "      <td>248945357</td>\n",
       "      <td>0</td>\n",
       "      <td>0</td>\n",
       "      <td>0</td>\n",
       "      <td>100</td>\n",
       "      <td>0.0</td>\n",
       "      <td>0</td>\n",
       "      <td>0</td>\n",
       "      <td>0.505</td>\n",
       "      <td>13.916912</td>\n",
       "      <td>0</td>\n",
       "    </tr>\n",
       "    <tr>\n",
       "      <th>2489450</th>\n",
       "      <td>chr1</td>\n",
       "      <td>248945557</td>\n",
       "      <td>248945657</td>\n",
       "      <td>0</td>\n",
       "      <td>0</td>\n",
       "      <td>0</td>\n",
       "      <td>100</td>\n",
       "      <td>0.0</td>\n",
       "      <td>0</td>\n",
       "      <td>0</td>\n",
       "      <td>0.960</td>\n",
       "      <td>2.872464</td>\n",
       "      <td>0</td>\n",
       "    </tr>\n",
       "    <tr>\n",
       "      <th>2489451</th>\n",
       "      <td>chr1</td>\n",
       "      <td>248945657</td>\n",
       "      <td>248945757</td>\n",
       "      <td>0</td>\n",
       "      <td>0</td>\n",
       "      <td>0</td>\n",
       "      <td>100</td>\n",
       "      <td>0.0</td>\n",
       "      <td>0</td>\n",
       "      <td>0</td>\n",
       "      <td>1.000</td>\n",
       "      <td>4.449773</td>\n",
       "      <td>0</td>\n",
       "    </tr>\n",
       "    <tr>\n",
       "      <th>2489452</th>\n",
       "      <td>chr1</td>\n",
       "      <td>248945757</td>\n",
       "      <td>248945857</td>\n",
       "      <td>0</td>\n",
       "      <td>0</td>\n",
       "      <td>0</td>\n",
       "      <td>100</td>\n",
       "      <td>0.0</td>\n",
       "      <td>0</td>\n",
       "      <td>0</td>\n",
       "      <td>1.000</td>\n",
       "      <td>5.124105</td>\n",
       "      <td>0</td>\n",
       "    </tr>\n",
       "  </tbody>\n",
       "</table>\n",
       "<p>2149735 rows × 13 columns</p>\n",
       "</div>"
      ],
      "text/plain": [
       "          chr      start        end  idr  idr_f  idr_t  idr_w  idr_frac  \\\n",
       "98       chr1      10357      10457    0      0      0    100       0.0   \n",
       "99       chr1      10457      10557    0      0      0    100       0.0   \n",
       "100      chr1      10557      10657    0      0      0    100       0.0   \n",
       "101      chr1      10657      10757    0      0      0    100       0.0   \n",
       "102      chr1      10757      10857    0      0      0    100       0.0   \n",
       "...       ...        ...        ...  ...    ...    ...    ...       ...   \n",
       "2489446  chr1  248945157  248945257    0      0      0    100       0.0   \n",
       "2489447  chr1  248945257  248945357    0      0      0    100       0.0   \n",
       "2489450  chr1  248945557  248945657    0      0      0    100       0.0   \n",
       "2489451  chr1  248945657  248945757    0      0      0    100       0.0   \n",
       "2489452  chr1  248945757  248945857    0      0      0    100       0.0   \n",
       "\n",
       "         blacklist  overlap  mappability  total_sig  label  \n",
       "98               0        0        0.915   5.391246      0  \n",
       "99               0        0        0.790  18.725932      0  \n",
       "100              0        0        0.705  26.567831      0  \n",
       "101              0        0        0.605   4.465074      0  \n",
       "102              0        0        0.565  10.476330      0  \n",
       "...            ...      ...          ...        ...    ...  \n",
       "2489446          0        0        0.705  18.015388      0  \n",
       "2489447          0        0        0.505  13.916912      0  \n",
       "2489450          0        0        0.960   2.872464      0  \n",
       "2489451          0        0        1.000   4.449773      0  \n",
       "2489452          0        0        1.000   5.124105      0  \n",
       "\n",
       "[2149735 rows x 13 columns]"
      ]
     },
     "execution_count": 51,
     "metadata": {},
     "output_type": "execute_result"
    }
   ],
   "source": [
    "chr1_binned"
   ]
  },
  {
   "cell_type": "code",
   "execution_count": 52,
   "metadata": {},
   "outputs": [
    {
     "data": {
      "text/plain": [
       "0.3799409852465915"
      ]
     },
     "execution_count": 52,
     "metadata": {},
     "output_type": "execute_result"
    }
   ],
   "source": [
    "import sklearn.metrics\n",
    "\n",
    "sklearn.metrics.average_precision_score(chr1_binned[\"label\"],chr1_binned[\"total_sig\"])"
   ]
  },
  {
   "cell_type": "code",
   "execution_count": 53,
   "metadata": {},
   "outputs": [
    {
     "name": "stdout",
     "output_type": "stream",
     "text": [
      "73161\n"
     ]
    }
   ],
   "source": [
    "print(sum(chr1_binned[\"label\"]))\n"
   ]
  },
  {
   "cell_type": "code",
   "execution_count": 54,
   "metadata": {},
   "outputs": [
    {
     "data": {
      "text/plain": [
       "0.0340325668047457"
      ]
     },
     "execution_count": 54,
     "metadata": {},
     "output_type": "execute_result"
    }
   ],
   "source": [
    "sum(chr1_binned[\"label\"])/chr1_binned.shape[0]"
   ]
  },
  {
   "cell_type": "code",
   "execution_count": null,
   "metadata": {},
   "outputs": [],
   "source": []
  }
 ],
 "metadata": {
  "kernelspec": {
   "display_name": "Python 3",
   "language": "python",
   "name": "python3"
  },
  "language_info": {
   "codemirror_mode": {
    "name": "ipython",
    "version": 3
   },
   "file_extension": ".py",
   "mimetype": "text/x-python",
   "name": "python",
   "nbconvert_exporter": "python",
   "pygments_lexer": "ipython3",
   "version": "3.7.6"
  }
 },
 "nbformat": 4,
 "nbformat_minor": 4
}
