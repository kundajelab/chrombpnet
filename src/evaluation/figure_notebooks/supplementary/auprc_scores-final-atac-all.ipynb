{
 "cells": [
  {
   "cell_type": "code",
   "execution_count": 1,
   "metadata": {},
   "outputs": [],
   "source": [
    "import pyBigWig\n",
    "import sklearn.metrics\n",
    "from sklearn.metrics import roc_auc_score"
   ]
  },
  {
   "cell_type": "code",
   "execution_count": 3,
   "metadata": {},
   "outputs": [
    {
     "name": "stdout",
     "output_type": "stream",
     "text": [
      "(6180564, 10)\n",
      "154020\n",
      "chr1 248956422\n",
      "chr3 198295559\n",
      "chr6 170805979\n",
      "{0, 1}\n",
      "248956422\n",
      "219161958\n",
      "{0, 1}\n",
      "198295559\n",
      "193185515\n",
      "{0, 1}\n",
      "170805979\n",
      "166067589\n",
      "154020\n",
      "(5967768, 13)\n",
      "fold0 0.38 0.8701539282294635\n",
      "0.02681772645203823\n",
      "(6160630, 10)\n",
      "121662\n",
      "chr2 242193529\n",
      "chr8 145138636\n",
      "chr9 138394717\n",
      "chr16 90338345\n",
      "{0, 1}\n",
      "242193529\n",
      "232311931\n",
      "{0, 1}\n",
      "145138636\n",
      "139766879\n",
      "{0, 1}\n",
      "138394717\n",
      "110801461\n",
      "{0, 1}\n",
      "90338345\n",
      "74517179\n",
      "121662\n",
      "(5969476, 13)\n",
      "fold1 0.36 0.8677619534837859\n",
      "0.021830711726434606\n",
      "(6177924, 10)\n",
      "111161\n",
      "chr4 190214555\n",
      "chr11 135086622\n",
      "chr12 133275309\n",
      "chr15 101991189\n",
      "chrY 57227415\n",
      "{0, 1}\n",
      "190214555\n",
      "184680542\n",
      "{0, 1}\n",
      "135086622\n",
      "129223817\n",
      "{0, 1}\n",
      "133275309\n",
      "129335539\n",
      "{0, 1}\n",
      "101991189\n",
      "77315909\n",
      "{0, 1}\n",
      "57227415\n",
      "15127684\n",
      "111161\n",
      "(5967104, 13)\n",
      "fold2 0.38 0.8796178009122516\n",
      "0.020880990465979025\n",
      "(6180123, 10)\n",
      "118185\n",
      "chr5 181538259\n",
      "chr10 133797422\n",
      "chr14 107043718\n",
      "chr18 80373285\n",
      "chr20 64444167\n",
      "chr22 50818468\n",
      "{0, 1}\n",
      "181538259\n",
      "173265497\n",
      "{0, 1}\n",
      "133797422\n",
      "128386272\n",
      "{0, 1}\n",
      "107043718\n",
      "86455216\n",
      "{0, 1}\n",
      "80373285\n",
      "74065690\n",
      "{0, 1}\n",
      "64444167\n",
      "60805387\n",
      "{0, 1}\n",
      "50818468\n",
      "34191158\n",
      "118185\n",
      "(5882455, 13)\n",
      "fold3 0.37 0.8823482982654056\n",
      "0.02135109030116009\n",
      "(6183331, 10)\n",
      "137075\n",
      "chr7 159345973\n",
      "chr13 114364328\n",
      "chr17 83257441\n",
      "chr19 58617616\n",
      "chr21 46709983\n",
      "chrX 156040895\n",
      "{0, 1}\n",
      "159345973\n",
      "150842379\n",
      "{0, 1}\n",
      "114364328\n",
      "95381169\n",
      "{0, 1}\n",
      "83257441\n",
      "76650722\n",
      "{0, 1}\n",
      "58617616\n",
      "54616095\n",
      "{0, 1}\n",
      "46709983\n",
      "33752013\n",
      "{0, 1}\n",
      "156040895\n",
      "144272664\n",
      "137075\n",
      "(5869774, 13)\n",
      "fold4 0.41 0.8807500110116766\n",
      "0.024524855171724168\n"
     ]
    }
   ],
   "source": [
    "auprcs = []\n",
    "aurocs = []\n",
    "for foldn in [\"fold0\", \"fold1\", \"fold2\", \"fold3\", \"fold4\"]:\n",
    "    \n",
    "    import pandas as pd\n",
    "    #foldn=\"fold0\"\n",
    "    #bed_annotate = \"/mnt/lab_data2/anusri/chrombpnet/results/chrombpnet/auprc_curves/K562/idr_overlap_peak_blacklist_annotated_\"+foldn+\"_dnase.bed\"\n",
    "    bed_annotate = \"/mnt/lab_data2/anusri/chrombpnet/results/chrombpnet/auprc_curves/K562/idr_overlap_peak_blacklist_annotated_\"+foldn+\".bed\"\n",
    "\n",
    "    chr1_binned = pd.read_csv(bed_annotate, sep=\"\\t\", names=[\"chr\", \"start\", \"end\", \"idr\", \"idr_f\", \"idr_t\", \"idr_w\", \"idr_frac\", \n",
    "                                                             \"bkt\", \"op\"])\n",
    "    chr1_binned = chr1_binned[:-1]\n",
    "    print(chr1_binned.shape)\n",
    "\n",
    "    #chr1_binned[\"mappability\"] = mappability\n",
    "    chr1_binned[\"label\"] = 0\n",
    "    chr1_binned.loc[chr1_binned[\"idr\"]==1, \"label\"] =1\n",
    "    print(sum(chr1_binned[\"label\"]))\n",
    "    \n",
    "    import numpy as np\n",
    "    chrm = None\n",
    "    values = []\n",
    "    chromsize={}\n",
    "    chroms = chr1_binned['chr'].unique().tolist()\n",
    "\n",
    "    for chrm in chroms:\n",
    "        bww=\"/mnt/lab_data2/anusri/chrombpnet/results/chrombpnet/auprc_curves/K562/ATAC/K562_\"+foldn+\"_\"+chrm+\"_w_bias.bw\"\n",
    "        pred_bigwig = pyBigWig.open(bww,\"r\")\n",
    "        chrmsz = pred_bigwig.chroms(chrm)\n",
    "        print(chrm, chrmsz)\n",
    "\n",
    "\n",
    "        filtered_df = chr1_binned[chr1_binned['chr'] == chrm]\n",
    "        # Find the maximum value in the 'value' column\n",
    "    #     max_value = filtered_df['end'].max()\n",
    "    #     print(chrm, chrmsz, max_value)\n",
    "        chromsize[chrm] = [filtered_df.shape[0], chrmsz]\n",
    "\n",
    "        all_val = np.nan_to_num(pred_bigwig.values(chrm, 0, chrmsz))\n",
    "        atac = [sum(all_val[i:i+100]) for i in range(557,chromsize[chrm][1], 100)][0:chromsize[chrm][0]]\n",
    "        values.extend(atac)\n",
    "    chr1_binned[\"atac\"] = values\n",
    "    \n",
    "    import numpy as np\n",
    "    import gzip\n",
    "\n",
    "    mappability = []\n",
    "    for chrm in chroms:\n",
    "\n",
    "        with gzip.open(\"/mnt/lab_data2/anusri/chrombpnet/reference/mappability/\"+chrm+'.uint8.unique.gz', 'rb') as tmp_uMap:\n",
    "            uMapdata = np.frombuffer(tmp_uMap.read(), dtype=np.uint8)\n",
    "\n",
    "        pos_vec = (uMapdata>0)&(uMapdata<=101)\n",
    "        pos_vec = pos_vec.astype(int)\n",
    "        neg_vec = np.roll(pos_vec, 100)\n",
    "        neg_vec[0:100] = 0\n",
    "\n",
    "        print(set(pos_vec))\n",
    "        print(len(uMapdata))\n",
    "        print(sum(pos_vec))\n",
    "\n",
    "        total_map=pos_vec+neg_vec\n",
    "        mappability.extend([sum(total_map[i:i+100])/200 for i in range(557,chromsize[chrm][1], 100)][0:chromsize[chrm][0]])\n",
    "\n",
    "    chr1_binned[\"mappability\"] = mappability\n",
    "    print(sum(chr1_binned[\"idr\"]==1))\n",
    "    chr1_binned=chr1_binned[chr1_binned[\"bkt\"]==0]\n",
    "    chr1_binned = chr1_binned[~((chr1_binned[\"idr_frac\"]>0) & (chr1_binned[\"idr_frac\"]<0.5))]\n",
    "    chr1_binned = chr1_binned[~((chr1_binned[\"op\"]==1) & (chr1_binned[\"idr\"]==0))]\n",
    "    print(chr1_binned.shape)\n",
    "    chr1_binned = chr1_binned[chr1_binned[\"mappability\"]>0.5]\n",
    "    aupr=sklearn.metrics.average_precision_score(chr1_binned[\"label\"],chr1_binned[\"atac\"])\n",
    "    auproc=roc_auc_score(chr1_binned[\"label\"],  abs(chr1_binned[\"atac\"]))\n",
    "    print(foldn,np.round(aupr,2),auproc)\n",
    "    print(sum(chr1_binned[\"label\"])/chr1_binned.shape[0])\n",
    "    auprcs.append(aupr)\n",
    "    aurocs.append(auproc)"
   ]
  },
  {
   "cell_type": "code",
   "execution_count": 4,
   "metadata": {},
   "outputs": [
    {
     "data": {
      "text/plain": [
       "0.37836537851578594"
      ]
     },
     "execution_count": 4,
     "metadata": {},
     "output_type": "execute_result"
    }
   ],
   "source": [
    "np.mean(auprcs)"
   ]
  },
  {
   "cell_type": "code",
   "execution_count": 5,
   "metadata": {},
   "outputs": [
    {
     "data": {
      "text/plain": [
       "0.016255588615543996"
      ]
     },
     "execution_count": 5,
     "metadata": {},
     "output_type": "execute_result"
    }
   ],
   "source": [
    "np.std(auprcs)"
   ]
  },
  {
   "cell_type": "code",
   "execution_count": 6,
   "metadata": {},
   "outputs": [
    {
     "data": {
      "text/plain": [
       "0.8761263983805166"
      ]
     },
     "execution_count": 6,
     "metadata": {},
     "output_type": "execute_result"
    }
   ],
   "source": [
    "np.mean(aurocs)"
   ]
  },
  {
   "cell_type": "code",
   "execution_count": 7,
   "metadata": {},
   "outputs": [
    {
     "data": {
      "text/plain": [
       "0.005965133053249932"
      ]
     },
     "execution_count": 7,
     "metadata": {},
     "output_type": "execute_result"
    }
   ],
   "source": [
    "np.std(aurocs)"
   ]
  },
  {
   "cell_type": "code",
   "execution_count": null,
   "metadata": {},
   "outputs": [],
   "source": []
  },
  {
   "cell_type": "code",
   "execution_count": null,
   "metadata": {},
   "outputs": [],
   "source": []
  },
  {
   "cell_type": "code",
   "execution_count": null,
   "metadata": {},
   "outputs": [],
   "source": []
  },
  {
   "cell_type": "code",
   "execution_count": null,
   "metadata": {},
   "outputs": [],
   "source": []
  },
  {
   "cell_type": "code",
   "execution_count": null,
   "metadata": {},
   "outputs": [],
   "source": []
  },
  {
   "cell_type": "code",
   "execution_count": null,
   "metadata": {},
   "outputs": [],
   "source": []
  },
  {
   "cell_type": "code",
   "execution_count": null,
   "metadata": {},
   "outputs": [],
   "source": []
  },
  {
   "cell_type": "code",
   "execution_count": null,
   "metadata": {},
   "outputs": [],
   "source": []
  },
  {
   "cell_type": "code",
   "execution_count": 15,
   "metadata": {},
   "outputs": [],
   "source": []
  },
  {
   "cell_type": "code",
   "execution_count": null,
   "metadata": {},
   "outputs": [],
   "source": [
    "\n"
   ]
  },
  {
   "cell_type": "code",
   "execution_count": 17,
   "metadata": {},
   "outputs": [
    {
     "data": {
      "text/plain": [
       "0.02681772645203823"
      ]
     },
     "execution_count": 17,
     "metadata": {},
     "output_type": "execute_result"
    }
   ],
   "source": []
  },
  {
   "cell_type": "code",
   "execution_count": 28,
   "metadata": {},
   "outputs": [
    {
     "data": {
      "text/plain": [
       "<matplotlib.legend.Legend at 0x7efd1f3f70d0>"
      ]
     },
     "execution_count": 28,
     "metadata": {},
     "output_type": "execute_result"
    },
    {
     "data": {
      "image/png": "[encoded data removed]",
      "text/plain": [
       "<Figure size 432x288 with 1 Axes>"
      ]
     },
     "metadata": {
      "needs_background": "light"
     },
     "output_type": "display_data"
    }
   ],
   "source": [
    "# import matplotlib.pyplot as plt\n",
    "# import pandas as pd\n",
    "# from sklearn.metrics import precision_recall_curve\n",
    "# from sklearn.metrics import roc_curve\n",
    "# from sklearn.metrics import RocCurveDisplay\n",
    "# import pandas as pd\n",
    "# import matplotlib.pyplot as plt\n",
    "# import numpy as np\n",
    "# from sklearn import metrics\n",
    "# import matplotlib.pyplot as plt\n",
    "# import matplotlib\n",
    "# import scipy.stats\n",
    "\n",
    "# matplotlib.rcParams['pdf.fonttype'] = 42\n",
    "# matplotlib.rcParams['ps.fonttype'] = 42\n",
    "\n",
    "\n",
    "# fpr_chrombpnet, tpr_chrombpnet, _ = precision_recall_curve(chr1_binned[\"label\"].astype(int), abs(chr1_binned[\"atac\"]))\n",
    "# roc_auc = metrics.average_precision_score(chr1_binned[\"label\"], abs(chr1_binned[\"atac\"]))\n",
    "# plt.plot(tpr_chrombpnet,fpr_chrombpnet,  linewidth=2, c='orange', label=\"AP=\"+str(round(roc_auc,2)))\n",
    "# plt.legend()"
   ]
  },
  {
   "cell_type": "code",
   "execution_count": 20,
   "metadata": {},
   "outputs": [],
   "source": [
    "#rom sklearn.metrics import roc_auc_score"
   ]
  },
  {
   "cell_type": "code",
   "execution_count": 21,
   "metadata": {},
   "outputs": [
    {
     "data": {
      "text/plain": [
       "0.8701539282294635"
      ]
     },
     "execution_count": 21,
     "metadata": {},
     "output_type": "execute_result"
    }
   ],
   "source": [
    "# roc_auc_score(chr1_binned[\"label\"],  abs(chr1_binned[\"atac\"]))"
   ]
  },
  {
   "cell_type": "code",
   "execution_count": 22,
   "metadata": {
    "scrolled": true
   },
   "outputs": [],
   "source": [
    "# import numpy as np\n",
    "# from sklearn import metrics\n",
    "# fpr, tpr, thresholds = metrics.roc_curve(chr1_binned[\"label\"], chr1_binned[\"atac\"])\n",
    "# auc = metrics.auc(fpr, tpr)"
   ]
  },
  {
   "cell_type": "code",
   "execution_count": 27,
   "metadata": {},
   "outputs": [
    {
     "data": {
      "text/plain": [
       "<matplotlib.legend.Legend at 0x7efd1f2cdf50>"
      ]
     },
     "execution_count": 27,
     "metadata": {},
     "output_type": "execute_result"
    },
    {
     "data": {
      "image/png": "[encoded data removed]",
      "text/plain": [
       "<Figure size 432x288 with 1 Axes>"
      ]
     },
     "metadata": {
      "needs_background": "light"
     },
     "output_type": "display_data"
    }
   ],
   "source": [
    "# plt.plot(fpr, tpr,  linewidth=2, c='orange', label=\"AUROC=\"+str(round(auc,2)))\n",
    "# plt.legend()"
   ]
  },
  {
   "cell_type": "code",
   "execution_count": null,
   "metadata": {},
   "outputs": [],
   "source": []
  },
  {
   "cell_type": "code",
   "execution_count": null,
   "metadata": {},
   "outputs": [],
   "source": []
  },
  {
   "cell_type": "code",
   "execution_count": 19,
   "metadata": {},
   "outputs": [],
   "source": []
  },
  {
   "cell_type": "code",
   "execution_count": null,
   "metadata": {},
   "outputs": [],
   "source": []
  },
  {
   "cell_type": "code",
   "execution_count": null,
   "metadata": {},
   "outputs": [],
   "source": []
  },
  {
   "cell_type": "code",
   "execution_count": null,
   "metadata": {},
   "outputs": [],
   "source": []
  },
  {
   "cell_type": "code",
   "execution_count": null,
   "metadata": {},
   "outputs": [],
   "source": []
  },
  {
   "cell_type": "code",
   "execution_count": null,
   "metadata": {},
   "outputs": [],
   "source": []
  },
  {
   "cell_type": "code",
   "execution_count": null,
   "metadata": {},
   "outputs": [],
   "source": []
  },
  {
   "cell_type": "code",
   "execution_count": null,
   "metadata": {},
   "outputs": [],
   "source": []
  },
  {
   "cell_type": "code",
   "execution_count": null,
   "metadata": {},
   "outputs": [],
   "source": []
  },
  {
   "cell_type": "code",
   "execution_count": null,
   "metadata": {},
   "outputs": [],
   "source": []
  },
  {
   "cell_type": "code",
   "execution_count": null,
   "metadata": {},
   "outputs": [],
   "source": []
  },
  {
   "cell_type": "code",
   "execution_count": null,
   "metadata": {},
   "outputs": [],
   "source": []
  },
  {
   "cell_type": "code",
   "execution_count": null,
   "metadata": {},
   "outputs": [],
   "source": []
  },
  {
   "cell_type": "code",
   "execution_count": null,
   "metadata": {},
   "outputs": [],
   "source": []
  },
  {
   "cell_type": "code",
   "execution_count": null,
   "metadata": {},
   "outputs": [],
   "source": []
  },
  {
   "cell_type": "code",
   "execution_count": null,
   "metadata": {},
   "outputs": [],
   "source": []
  },
  {
   "cell_type": "code",
   "execution_count": null,
   "metadata": {},
   "outputs": [],
   "source": []
  },
  {
   "cell_type": "code",
   "execution_count": null,
   "metadata": {},
   "outputs": [],
   "source": []
  },
  {
   "cell_type": "code",
   "execution_count": null,
   "metadata": {},
   "outputs": [],
   "source": []
  }
 ],
 "metadata": {
  "kernelspec": {
   "display_name": "Python 3",
   "language": "python",
   "name": "python3"
  },
  "language_info": {
   "codemirror_mode": {
    "name": "ipython",
    "version": 3
   },
   "file_extension": ".py",
   "mimetype": "text/x-python",
   "name": "python",
   "nbconvert_exporter": "python",
   "pygments_lexer": "ipython3",
   "version": "3.7.6"
  }
 },
 "nbformat": 4,
 "nbformat_minor": 4
}
