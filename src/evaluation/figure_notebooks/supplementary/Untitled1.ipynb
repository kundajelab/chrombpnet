{
 "cells": [
  {
   "cell_type": "code",
   "execution_count": 1,
   "metadata": {},
   "outputs": [],
   "source": [
    "import json"
   ]
  },
  {
   "cell_type": "code",
   "execution_count": 8,
   "metadata": {},
   "outputs": [
    {
     "name": "stdout",
     "output_type": "stream",
     "text": [
      "1 0.64 0.02\n",
      "2 0.65 0.02\n",
      "3 0.65 0.02\n",
      "4 0.65 0.02\n",
      "5 0.66 0.01\n",
      "6 0.67 0.02\n",
      "7 0.69 0.01\n",
      "8 0.7 0.02\n",
      "9 0.7 0.01\n",
      "10 0.71 0.02\n",
      "11 0.71 0.02\n",
      "12 0.71 0.02\n"
     ]
    }
   ],
   "source": [
    "ppath=\"/oak/stanford/groups/akundaje/anusri/dil_layer_expts/HEPG2/models/\"\n",
    "import numpy as np\n",
    "\n",
    "for dil in range(1,13):\n",
    "    dataf = []\n",
    "    for fold in range(5):\n",
    "        opath= ppath+\"HEPG2_MAY_23_2024_1234_\"+str(dil)+\"_2114_\"+str(fold)+\"_samepad_onlypos/chrombpnet_model/chrombpnet_metrics.json\"\n",
    "        dataf.append(json.load(open(opath))[\"counts_metrics\"][\"peaks\"][\"pearsonr\"])\n",
    "    print(dil,np.around(np.mean(dataf),2), np.round(np.std(dataf),2))\n",
    "        "
   ]
  },
  {
   "cell_type": "code",
   "execution_count": 20,
   "metadata": {},
   "outputs": [
    {
     "name": "stdout",
     "output_type": "stream",
     "text": [
      "1 0.62 0.02\n",
      "2 0.63 0.02\n",
      "3 0.63 0.02\n",
      "4 0.63 0.02\n",
      "5 0.65 0.02\n",
      "6 0.66 0.02\n",
      "7 0.67 0.02\n",
      "8 0.67 0.02\n",
      "9 0.67 0.02\n",
      "10 0.68 0.02\n",
      "11 0.68 0.02\n",
      "12 0.68 0.02\n"
     ]
    }
   ],
   "source": [
    "ppath=\"/oak/stanford/groups/akundaje/anusri/dil_layer_expts/HEPG2/models/\"\n",
    "import numpy as np\n",
    "means=[]\n",
    "stds=[]\n",
    "for dil in range(1,13):\n",
    "    dataf = []\n",
    "    for fold in range(5):\n",
    "        opath= ppath+\"HEPG2_MAY_23_2024_1234_\"+str(dil)+\"_2114_\"+str(fold)+\"_samepad_onlypos/chrombpnet_model/chrombpnet_metrics.json\"\n",
    "        dataf.append(json.load(open(opath))[\"counts_metrics\"][\"peaks\"][\"spearmanr\"])\n",
    "    means.append(np.around(np.mean(dataf),2))\n",
    "    stds.append(np.around(np.std(dataf),2))\n",
    "    print(dil,np.around(np.mean(dataf),2), np.round(np.std(dataf),2))\n",
    "    \n",
    "dils=range(1,13)"
   ]
  },
  {
   "cell_type": "code",
   "execution_count": 23,
   "metadata": {},
   "outputs": [
    {
     "data": {
      "text/plain": [
       "Text(0.5, 0, 'Dilation Layers')"
      ]
     },
     "execution_count": 23,
     "metadata": {},
     "output_type": "execute_result"
    },
    {
     "data": {
      "image/png": "[encoded data removed]",
      "text/plain": [
       "<Figure size 432x288 with 1 Axes>"
      ]
     },
     "metadata": {
      "needs_background": "light"
     },
     "output_type": "display_data"
    }
   ],
   "source": [
    "import matplotlib.pyplot as plt\n",
    "plt.plot(dils, means,c=\"r\",alpha=0.5)\n",
    "plt.errorbar(x=dils, y=means, yerr=stds, fmt = 'o',color = 'red', \n",
    "            ecolor = '#ffcccb', elinewidth = 5, capsize=10)\n",
    "plt.ylabel(\"Pearsonr counts\")\n",
    "plt.xlabel(\"Dilation Layers\")\n",
    "#plt.ylim((0,1))"
   ]
  },
  {
   "cell_type": "code",
   "execution_count": 27,
   "metadata": {},
   "outputs": [
    {
     "name": "stdout",
     "output_type": "stream",
     "text": [
      "1 0.562 0.003\n",
      "2 0.559 0.003\n",
      "3 0.553 0.002\n",
      "4 0.544 0.002\n",
      "5 0.536 0.003\n",
      "6 0.53 0.003\n",
      "7 0.519 0.002\n",
      "8 0.514 0.002\n",
      "9 0.513 0.003\n",
      "10 0.511 0.002\n",
      "11 0.511 0.001\n",
      "12 0.511 0.002\n"
     ]
    }
   ],
   "source": [
    "ppath=\"/oak/stanford/groups/akundaje/anusri/dil_layer_expts/HEPG2/models/\"\n",
    "import numpy as np\n",
    "means=[]\n",
    "stds=[]\n",
    "for dil in range(1,13):\n",
    "    dataf = []\n",
    "    for fold in range(5):\n",
    "        opath= ppath+\"HEPG2_MAY_23_2024_1234_\"+str(dil)+\"_2114_\"+str(fold)+\"_samepad_onlypos/chrombpnet_model/chrombpnet_metrics.json\"\n",
    "        dataf.append(json.load(open(opath))[\"profile_metrics\"][\"peaks\"][\"median_norm_jsd\"])\n",
    "    means.append(np.around(np.mean(dataf),2))\n",
    "    stds.append(np.around(np.std(dataf),2))\n",
    "    print(dil,np.around(np.mean(dataf),3), np.round(np.std(dataf),3))"
   ]
  },
  {
   "cell_type": "code",
   "execution_count": 30,
   "metadata": {},
   "outputs": [
    {
     "data": {
      "text/plain": [
       "Text(0.5, 0, 'Dilation Layers')"
      ]
     },
     "execution_count": 30,
     "metadata": {},
     "output_type": "execute_result"
    },
    {
     "data": {
      "image/png": "[encoded data removed]",
      "text/plain": [
       "<Figure size 432x288 with 1 Axes>"
      ]
     },
     "metadata": {
      "needs_background": "light"
     },
     "output_type": "display_data"
    }
   ],
   "source": [
    "import matplotlib.pyplot as plt\n",
    "plt.plot(dils, means,c=\"r\",alpha=0.5)\n",
    "plt.errorbar(x=dils, y=means, yerr=stds, fmt = 'o',color = 'red', \n",
    "            ecolor = '#ffcccb', elinewidth = 5, capsize=10)\n",
    "#plt.ylim((0,1))\n",
    "plt.ylabel(\"Jensen Shannon Distance\")\n",
    "plt.xlabel(\"Dilation Layers\")\n",
    "#plt.ylim((0,1))"
   ]
  },
  {
   "cell_type": "code",
   "execution_count": null,
   "metadata": {},
   "outputs": [],
   "source": []
  }
 ],
 "metadata": {
  "kernelspec": {
   "display_name": "Python 3",
   "language": "python",
   "name": "python3"
  },
  "language_info": {
   "codemirror_mode": {
    "name": "ipython",
    "version": 3
   },
   "file_extension": ".py",
   "mimetype": "text/x-python",
   "name": "python",
   "nbconvert_exporter": "python",
   "pygments_lexer": "ipython3",
   "version": "3.7.6"
  }
 },
 "nbformat": 4,
 "nbformat_minor": 4
}
