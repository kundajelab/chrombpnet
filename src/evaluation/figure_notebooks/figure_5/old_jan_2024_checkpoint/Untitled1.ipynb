{
 "cells": [
  {
   "cell_type": "code",
   "execution_count": 1,
   "metadata": {},
   "outputs": [],
   "source": [
    "import pandas as pd"
   ]
  },
  {
   "cell_type": "code",
   "execution_count": 4,
   "metadata": {},
   "outputs": [],
   "source": [
    "all_data  = pd.read_csv(\"/mnt/lab_data3/anusri/chrombpnet/results/chrombpnet/ATAC_PE/IMR90/IMR90_04.09.2022_bias_128_4_1234_0.4_fold_0/08_01_2023_motif_scanning/mooods_run/moods_filtered_scored.bed\", sep='\\t', header=None)"
   ]
  },
  {
   "cell_type": "code",
   "execution_count": 5,
   "metadata": {},
   "outputs": [
    {
     "data": {
      "text/html": [
       "<div>\n",
       "<style scoped>\n",
       "    .dataframe tbody tr th:only-of-type {\n",
       "        vertical-align: middle;\n",
       "    }\n",
       "\n",
       "    .dataframe tbody tr th {\n",
       "        vertical-align: top;\n",
       "    }\n",
       "\n",
       "    .dataframe thead th {\n",
       "        text-align: right;\n",
       "    }\n",
       "</style>\n",
       "<table border=\"1\" class=\"dataframe\">\n",
       "  <thead>\n",
       "    <tr style=\"text-align: right;\">\n",
       "      <th></th>\n",
       "      <th>0</th>\n",
       "      <th>1</th>\n",
       "      <th>2</th>\n",
       "      <th>3</th>\n",
       "      <th>4</th>\n",
       "      <th>5</th>\n",
       "      <th>6</th>\n",
       "      <th>7</th>\n",
       "    </tr>\n",
       "  </thead>\n",
       "  <tbody>\n",
       "    <tr>\n",
       "      <th>0</th>\n",
       "      <td>chr1</td>\n",
       "      <td>10796</td>\n",
       "      <td>10808</td>\n",
       "      <td>0_37</td>\n",
       "      <td>+</td>\n",
       "      <td>2.783322</td>\n",
       "      <td>0</td>\n",
       "      <td>0.479345</td>\n",
       "    </tr>\n",
       "    <tr>\n",
       "      <th>1</th>\n",
       "      <td>chr1</td>\n",
       "      <td>10536</td>\n",
       "      <td>10549</td>\n",
       "      <td>0_26</td>\n",
       "      <td>-</td>\n",
       "      <td>6.147388</td>\n",
       "      <td>0</td>\n",
       "      <td>2.127111</td>\n",
       "    </tr>\n",
       "    <tr>\n",
       "      <th>2</th>\n",
       "      <td>chr1</td>\n",
       "      <td>10486</td>\n",
       "      <td>10500</td>\n",
       "      <td>0_50</td>\n",
       "      <td>+</td>\n",
       "      <td>-1.566881</td>\n",
       "      <td>0</td>\n",
       "      <td>0.862118</td>\n",
       "    </tr>\n",
       "    <tr>\n",
       "      <th>3</th>\n",
       "      <td>chr1</td>\n",
       "      <td>10522</td>\n",
       "      <td>10536</td>\n",
       "      <td>0_50</td>\n",
       "      <td>+</td>\n",
       "      <td>-2.953707</td>\n",
       "      <td>0</td>\n",
       "      <td>1.780754</td>\n",
       "    </tr>\n",
       "    <tr>\n",
       "      <th>4</th>\n",
       "      <td>chr1</td>\n",
       "      <td>10635</td>\n",
       "      <td>10649</td>\n",
       "      <td>0_50</td>\n",
       "      <td>+</td>\n",
       "      <td>-1.101229</td>\n",
       "      <td>0</td>\n",
       "      <td>6.528239</td>\n",
       "    </tr>\n",
       "  </tbody>\n",
       "</table>\n",
       "</div>"
      ],
      "text/plain": [
       "      0      1      2     3  4         5  6         7\n",
       "0  chr1  10796  10808  0_37  +  2.783322  0  0.479345\n",
       "1  chr1  10536  10549  0_26  -  6.147388  0  2.127111\n",
       "2  chr1  10486  10500  0_50  + -1.566881  0  0.862118\n",
       "3  chr1  10522  10536  0_50  + -2.953707  0  1.780754\n",
       "4  chr1  10635  10649  0_50  + -1.101229  0  6.528239"
      ]
     },
     "execution_count": 5,
     "metadata": {},
     "output_type": "execute_result"
    }
   ],
   "source": [
    "c.head()"
   ]
  },
  {
   "cell_type": "code",
   "execution_count": 6,
   "metadata": {},
   "outputs": [],
   "source": [
    "sel_data  = pd.read_csv(\"/mnt/lab_data3/anusri/chrombpnet/results/chrombpnet/ATAC_PE/IMR90/IMR90_04.09.2022_bias_128_4_1234_0.4_fold_0/08_01_2023_motif_scanning/mooods_run/overlaps_resolved_based_on_cwm_activations_normed.bed\", sep='\\t', header=None)"
   ]
  },
  {
   "cell_type": "code",
   "execution_count": 11,
   "metadata": {},
   "outputs": [
    {
     "data": {
      "text/html": [
       "<div>\n",
       "<style scoped>\n",
       "    .dataframe tbody tr th:only-of-type {\n",
       "        vertical-align: middle;\n",
       "    }\n",
       "\n",
       "    .dataframe tbody tr th {\n",
       "        vertical-align: top;\n",
       "    }\n",
       "\n",
       "    .dataframe thead th {\n",
       "        text-align: right;\n",
       "    }\n",
       "</style>\n",
       "<table border=\"1\" class=\"dataframe\">\n",
       "  <thead>\n",
       "    <tr style=\"text-align: right;\">\n",
       "      <th></th>\n",
       "      <th>0</th>\n",
       "      <th>1</th>\n",
       "      <th>2</th>\n",
       "      <th>3</th>\n",
       "      <th>4</th>\n",
       "      <th>5</th>\n",
       "      <th>6</th>\n",
       "      <th>7</th>\n",
       "      <th>8</th>\n",
       "      <th>9</th>\n",
       "    </tr>\n",
       "  </thead>\n",
       "  <tbody>\n",
       "    <tr>\n",
       "      <th>0</th>\n",
       "      <td>chr1</td>\n",
       "      <td>10642</td>\n",
       "      <td>10652</td>\n",
       "      <td>0_16_NRF1_HUMAN.H11MO.0.A</td>\n",
       "      <td>+</td>\n",
       "      <td>11.935241</td>\n",
       "      <td>0</td>\n",
       "      <td>9.019348</td>\n",
       "      <td>1</td>\n",
       "      <td>0.017346</td>\n",
       "    </tr>\n",
       "    <tr>\n",
       "      <th>1</th>\n",
       "      <td>chr1</td>\n",
       "      <td>10671</td>\n",
       "      <td>10681</td>\n",
       "      <td>0_16_NRF1_HUMAN.H11MO.0.A</td>\n",
       "      <td>+</td>\n",
       "      <td>11.935241</td>\n",
       "      <td>0</td>\n",
       "      <td>6.139467</td>\n",
       "      <td>2</td>\n",
       "      <td>0.011845</td>\n",
       "    </tr>\n",
       "    <tr>\n",
       "      <th>2</th>\n",
       "      <td>chr1</td>\n",
       "      <td>10700</td>\n",
       "      <td>10710</td>\n",
       "      <td>0_16_NRF1_HUMAN.H11MO.0.A</td>\n",
       "      <td>+</td>\n",
       "      <td>11.935241</td>\n",
       "      <td>0</td>\n",
       "      <td>4.377398</td>\n",
       "      <td>3</td>\n",
       "      <td>0.008412</td>\n",
       "    </tr>\n",
       "    <tr>\n",
       "      <th>3</th>\n",
       "      <td>chr1</td>\n",
       "      <td>42281</td>\n",
       "      <td>42288</td>\n",
       "      <td>0_0_FOS+JUN_MA0099.3</td>\n",
       "      <td>+</td>\n",
       "      <td>8.980405</td>\n",
       "      <td>1</td>\n",
       "      <td>16.693008</td>\n",
       "      <td>4</td>\n",
       "      <td>0.064437</td>\n",
       "    </tr>\n",
       "    <tr>\n",
       "      <th>4</th>\n",
       "      <td>chr1</td>\n",
       "      <td>42261</td>\n",
       "      <td>42271</td>\n",
       "      <td>0_8_CEBPB_MOUSE.H11MO.0.A</td>\n",
       "      <td>-</td>\n",
       "      <td>9.713245</td>\n",
       "      <td>1</td>\n",
       "      <td>12.717215</td>\n",
       "      <td>4</td>\n",
       "      <td>0.045607</td>\n",
       "    </tr>\n",
       "  </tbody>\n",
       "</table>\n",
       "</div>"
      ],
      "text/plain": [
       "      0      1      2                          3  4          5  6          7  \\\n",
       "0  chr1  10642  10652  0_16_NRF1_HUMAN.H11MO.0.A  +  11.935241  0   9.019348   \n",
       "1  chr1  10671  10681  0_16_NRF1_HUMAN.H11MO.0.A  +  11.935241  0   6.139467   \n",
       "2  chr1  10700  10710  0_16_NRF1_HUMAN.H11MO.0.A  +  11.935241  0   4.377398   \n",
       "3  chr1  42281  42288       0_0_FOS+JUN_MA0099.3  +   8.980405  1  16.693008   \n",
       "4  chr1  42261  42271  0_8_CEBPB_MOUSE.H11MO.0.A  -   9.713245  1  12.717215   \n",
       "\n",
       "   8         9  \n",
       "0  1  0.017346  \n",
       "1  2  0.011845  \n",
       "2  3  0.008412  \n",
       "3  4  0.064437  \n",
       "4  4  0.045607  "
      ]
     },
     "execution_count": 11,
     "metadata": {},
     "output_type": "execute_result"
    }
   ],
   "source": [
    "sel_data.head()"
   ]
  },
  {
   "cell_type": "code",
   "execution_count": 12,
   "metadata": {},
   "outputs": [],
   "source": [
    "all_data[\"width\"] = all_data[2] - all_data[1]\n",
    "sel_data[\"width\"] = sel_data[2] - sel_data[1]"
   ]
  },
  {
   "cell_type": "code",
   "execution_count": 20,
   "metadata": {},
   "outputs": [
    {
     "name": "stderr",
     "output_type": "stream",
     "text": [
      "/users/anusri/anaconda3/lib/python3.7/site-packages/matplotlib/axes/_axes.py:6653: RuntimeWarning: invalid value encountered in multiply\n",
      "  tops = (tops * np.diff(bins))[:, slc].cumsum(axis=1)[:, slc]\n",
      "/users/anusri/anaconda3/lib/python3.7/site-packages/matplotlib/axes/_axes.py:6653: RuntimeWarning: invalid value encountered in multiply\n",
      "  tops = (tops * np.diff(bins))[:, slc].cumsum(axis=1)[:, slc]\n"
     ]
    },
    {
     "data": {
      "image/png": "[encoded data removed]",
      "text/plain": [
       "<Figure size 360x360 with 1 Axes>"
      ]
     },
     "metadata": {
      "needs_background": "light"
     },
     "output_type": "display_data"
    }
   ],
   "source": [
    "import matplotlib.pyplot as plt \n",
    "import numpy as np\n",
    "fig, ax = plt.subplots(figsize=(5, 5))\n",
    "bins = np.concatenate([np.arange(np.max(all_data[7].values) + 1), [np.inf]])\n",
    "\n",
    "ax.hist(all_data[7].values, density=True, bins=bins, histtype=\"step\", cumulative=True, label=\"all htis\")\n",
    "ax.hist(sel_data[7].values, density=True, bins=bins, histtype=\"step\", cumulative=True, label=\"filtered hits\")\n",
    "ax.set_xlabel(\"Total importance score (background normalized) in hits\")\n",
    "ax.set_ylabel(\"Proportion of hits\")\n",
    "plt.legend(loc=\"lower right\")\n",
    "\n",
    "plt.show()"
   ]
  },
  {
   "cell_type": "code",
   "execution_count": null,
   "metadata": {},
   "outputs": [],
   "source": []
  }
 ],
 "metadata": {
  "kernelspec": {
   "display_name": "Python 3",
   "language": "python",
   "name": "python3"
  },
  "language_info": {
   "codemirror_mode": {
    "name": "ipython",
    "version": 3
   },
   "file_extension": ".py",
   "mimetype": "text/x-python",
   "name": "python",
   "nbconvert_exporter": "python",
   "pygments_lexer": "ipython3",
   "version": "3.7.6"
  }
 },
 "nbformat": 4,
 "nbformat_minor": 4
}
