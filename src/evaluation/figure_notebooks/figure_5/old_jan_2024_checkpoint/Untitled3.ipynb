{
 "cells": [
  {
   "cell_type": "code",
   "execution_count": 1,
   "metadata": {},
   "outputs": [],
   "source": [
    "import pickle\n",
    "with open('addons/imr90/coop_matrix_all_new_spaced_2.pkl', 'rb') as handle:\n",
    "    values_fresh = pickle.load(handle)"
   ]
  },
  {
   "cell_type": "code",
   "execution_count": null,
   "metadata": {},
   "outputs": [],
   "source": [
    "import numpy as np\n",
    "from scipy.stats import wilcoxon\n",
    "from scipy.spatial import distance\n",
    "\n",
    "def define_cooperative_net_pos_neg(motif1_only, motif2_only, cooop, controls):\n",
    "    \n",
    "    effects = []\n",
    "    significance = []\n",
    "    max_coop = []\n",
    "    #print(len(cooop))\n",
    "    for i in range(len(cooop)):\n",
    "        n = np.log(controls[1])\n",
    "        m1 = np.log(motif1_only[i][1])\n",
    "        m2 = np.log(motif2_only[i][1])\n",
    "        m1_m2 = np.log(cooop[i][1])\n",
    "        max_coop.append(m1_m2)\n",
    "        Y =  m1_m2-n\n",
    "        \n",
    "        \n",
    "        \n",
    "        Z = np.squeeze(Y - m1 - m2 + 2*n)\n",
    "    \n",
    "        \n",
    "        \n",
    "        res = wilcoxon(Z)\n",
    "        statistic = res.statistic\n",
    "        pvalue = res.pvalue\n",
    "        effects.append(np.mean(Z))\n",
    "        significance.append(pvalue)\n",
    "        \n",
    "    \n",
    "    #print(len(effects))\n",
    "   \n",
    "    if pvalue > 0.005:\n",
    "        color = 0\n",
    "    else:\n",
    "        if np.mean(Z) > 0:\n",
    "            color = 1\n",
    "        else:\n",
    "            z1 = Y-(m1-m2)\n",
    "            if np.mean(z1) < 0:\n",
    "                color=2\n",
    "            else:\n",
    "                color=3\n",
    "                \n",
    "    #idx = np.argmin(np.abs(significance))\n",
    "    idx = np.argmax(np.abs(effects))\n",
    "    #nmin=np.max([np.log(motif1_only[idx][1]),np.log(motif2_only[idx][1])], axis=0)\n",
    "\n",
    "    nmin=np.abs([np.log(motif1_only[idx][1]),np.log(motif2_only[idx][1])])\n",
    "    nmax=np.log(motif1_only[idx][1])+np.log(motif2_only[idx][1])\n",
    "    zscore = np.mean((max_coop[idx]-nmin)/(nmax-nmin))\n",
    "    #print(idx)\n",
    "    \n",
    "    return  zscore, significance[idx], color\n",
    "    # return effects[idx], significance[idx]"
   ]
  }
 ],
 "metadata": {
  "kernelspec": {
   "display_name": "Python 3",
   "language": "python",
   "name": "python3"
  },
  "language_info": {
   "codemirror_mode": {
    "name": "ipython",
    "version": 3
   },
   "file_extension": ".py",
   "mimetype": "text/x-python",
   "name": "python",
   "nbconvert_exporter": "python",
   "pygments_lexer": "ipython3",
   "version": "3.7.6"
  }
 },
 "nbformat": 4,
 "nbformat_minor": 4
}
