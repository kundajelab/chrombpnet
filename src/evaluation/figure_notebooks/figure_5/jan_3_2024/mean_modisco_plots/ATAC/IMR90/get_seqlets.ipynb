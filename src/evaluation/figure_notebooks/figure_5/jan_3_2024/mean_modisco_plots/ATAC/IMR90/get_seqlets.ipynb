{
 "cells": [
  {
   "cell_type": "code",
   "execution_count": 1,
   "metadata": {},
   "outputs": [],
   "source": [
    "import numpy as np\n",
    "import pandas as pd\n",
    "import h5py\n",
    "import pysam\n",
    "import os\n",
    "from modisco.visualization import viz_sequence\n",
    "from modisco import util\n",
    "from matplotlib import pyplot as plt\n",
    "import pybedtools\n",
    "from bs4 import BeautifulSoup\n",
    "\n",
    "pd.options.display.max_rows = 500\n",
    "pd.options.display.max_columns = 500"
   ]
  },
  {
   "cell_type": "code",
   "execution_count": 8,
   "metadata": {},
   "outputs": [],
   "source": [
    "dttype = 'ATAC'\n",
    "mode = \"profile\"\n",
    "celltype=\"K562\"\n",
    "modisco_path = '/oak/stanford/groups/akundaje/projects/chromatin-atlas-2022/chrombpnet/folds/DNASE/'+celltype+'/merge_folds_new/'+mode+'/modisco_old_format.h5'\n",
    "ppm_dir = ''\n",
    "\n",
    "htmld=\"/oak/stanford/groups/akundaje/projects/chromatin-atlas-2022/chrombpnet/folds/\"+dttype+'/'+celltype+\"/merge_folds_new/\"+mode+\"/motifs.html\"\n",
    "tomtom = pd.read_html(htmld)\n",
    "\n",
    "\n",
    "background=[0.25, 0.25, 0.25, 0.25]"
   ]
  },
  {
   "cell_type": "code",
   "execution_count": 9,
   "metadata": {},
   "outputs": [],
   "source": [
    "def trim_motif_new(cwm, motif, trim_threshold=0.20):\n",
    "    \"\"\"\n",
    "    Given the PFM and motif (both L x 4 arrays) (the motif could be the\n",
    "    PFM itself), trims `motif` by cutting off flanks of low information\n",
    "    content in `pfm`. `min_ic` is the minimum required information\n",
    "    content. If specified this trimmed motif will be extended on either\n",
    "    side by `pad` bases.\n",
    "    If no base passes the `min_ic` threshold, then no trimming is done.\n",
    "    \"\"\"\n",
    "    \n",
    "    score = np.sum(np.abs(cwm), axis=1)\n",
    "    trim_thresh = np.max(score) * trim_threshold  # Cut off anything less than 30% of max score\n",
    "    pass_inds = np.where(score >= trim_thresh)[0]\n",
    "    trimmed = motif[np.min(pass_inds): np.max(pass_inds) + 1]\n",
    " \n",
    "    if not trimmed.size:\n",
    "        return motif\n",
    "    \n",
    "    return trimmed\n",
    "\n",
    "def import_tfmodisco_motifs(tfm_results_path, trim=True, only_pos=True):\n",
    "    \"\"\"\n",
    "    Imports the PFMs to into a dictionary, mapping `(x, y)` to the PFM,\n",
    "    where `x` is the metacluster index and `y` is the pattern index.\n",
    "    Arguments:\n",
    "        `tfm_results_path`: path to HDF5 containing TF-MoDISco results\n",
    "        `out_dir`: where to save motifs\n",
    "        `trim`: if True, trim the motif flanks based on information content\n",
    "        `only_pos`: if True, only return motifs with positive contributions\n",
    "    Returns the dictionary of PFMs.\n",
    "    \"\"\" \n",
    "    pfms = {}\n",
    "    with h5py.File(tfm_results_path, \"r\") as f:\n",
    "        metaclusters = f[\"metacluster_idx_to_submetacluster_results\"]\n",
    "        num_metaclusters = len(metaclusters.keys())\n",
    "        for metacluster_i, metacluster_key in enumerate(metaclusters.keys()):\n",
    "            metacluster = metaclusters[metacluster_key]\n",
    "            print(len(metacluster[\"seqlets\"].value))\n",
    "            if \"patterns\" not in metacluster[\"seqlets_to_patterns_result\"]:\n",
    "                continue\n",
    "            patterns = metacluster[\"seqlets_to_patterns_result\"][\"patterns\"]\n",
    "            num_patterns = len(patterns[\"all_pattern_names\"][:])\n",
    "            for pattern_i, pattern_name in enumerate(patterns[\"all_pattern_names\"][:]):\n",
    "                pattern_name = pattern_name\n",
    "                pattern = patterns[pattern_name]\n",
    "                if metacluster_i==0:\n",
    "                    key = \"pos_patterns.pattern_\"+str(pattern_i)\n",
    "                if metacluster_i==1:\n",
    "                    key = \"neg_patterns.pattern_\"+str(pattern_i)                \n",
    "                \n",
    "                if key not in pfms:\n",
    "                    pfms[key] = []\n",
    "\n",
    "                for seqlet in pattern[\"seqlets_and_alnmts\"][\"seqlets\"]:\n",
    "                    pfms[key].append(seqlet)\n",
    "               \n",
    "    return pfms\n"
   ]
  },
  {
   "cell_type": "code",
   "execution_count": 10,
   "metadata": {},
   "outputs": [
    {
     "name": "stderr",
     "output_type": "stream",
     "text": [
      "/users/anusri/anaconda3/lib/python3.7/site-packages/ipykernel_launcher.py:38: H5pyDeprecationWarning: dataset.value has been deprecated. Use dataset[()] instead.\n"
     ]
    },
    {
     "name": "stdout",
     "output_type": "stream",
     "text": [
      "217529\n",
      "1585\n"
     ]
    }
   ],
   "source": [
    "pfms = import_tfmodisco_motifs(modisco_path, trim=False)"
   ]
  },
  {
   "cell_type": "code",
   "execution_count": null,
   "metadata": {},
   "outputs": [],
   "source": [
    "    "
   ]
  },
  {
   "cell_type": "code",
   "execution_count": 11,
   "metadata": {},
   "outputs": [
    {
     "name": "stdout",
     "output_type": "stream",
     "text": [
      "(269719, 11)\n"
     ]
    }
   ],
   "source": [
    "bed=\"/oak/stanford/groups/akundaje/projects/chromatin-atlas-2022/chrombpnet/folds/\"+dttype+'/'+celltype+\"/merge_folds_new/in_peaks.interpreted_regions.bed\"\n",
    "bed = pd.read_csv(bed, sep=\"\\t\", header=None)\n",
    "bed.head()\n",
    "print(bed.shape)"
   ]
  },
  {
   "cell_type": "code",
   "execution_count": 27,
   "metadata": {},
   "outputs": [],
   "source": [
    "lists=[]\n",
    "for seqlet in pfms[\"pos_patterns.pattern_25\"]:\n",
    "    vals = seqlet.split(\",\")\n",
    "    peak_id = int(vals[0].split(\":\")[1])\n",
    "    ss = vals[1].split(\":\")[1]\n",
    "    ee = vals[2].split(\":\")[1]\n",
    "    blist = [bed.loc[peak_id,0], bed.loc[peak_id,1]+bed.loc[peak_id,9]-250+int(ss), bed.loc[peak_id,1]+bed.loc[peak_id,9]-250+int(ee)]\n",
    "    lists.append(blist)\n"
   ]
  },
  {
   "cell_type": "code",
   "execution_count": 28,
   "metadata": {},
   "outputs": [],
   "source": [
    "#lists"
   ]
  },
  {
   "cell_type": "code",
   "execution_count": 29,
   "metadata": {},
   "outputs": [],
   "source": [
    "import pyBigWig as pb\n",
    "import numpy as np"
   ]
  },
  {
   "cell_type": "code",
   "execution_count": 30,
   "metadata": {},
   "outputs": [],
   "source": [
    "counts_bw = pb.open(\"/oak/stanford/groups/akundaje/projects/chromatin-atlas-2022/chrombpnet/folds/ATAC/\"+celltype+\"/merge_folds_new/\"+celltype+\"_folds_merged.counts_scores.bw\")\n",
    "profile_bw = pb.open(\"/oak/stanford/groups/akundaje/projects/chromatin-atlas-2022/chrombpnet/folds/ATAC/\"+celltype+\"/merge_folds_new/\"+celltype+\"_folds_merged.profile_scores.bw\")     "
   ]
  },
  {
   "cell_type": "code",
   "execution_count": 31,
   "metadata": {},
   "outputs": [],
   "source": [
    "dn_counts_bw = pb.open(\"/oak/stanford/groups/akundaje/projects/chromatin-atlas-2022/chrombpnet/folds/DNASE/\"+celltype+\"/merge_folds_new/\"+celltype+\"_folds_merged.counts_scores.bw\")\n",
    "dn_profile_bw = pb.open(\"/oak/stanford/groups/akundaje/projects/chromatin-atlas-2022/chrombpnet/folds/DNASE/\"+celltype+\"/merge_folds_new/\"+celltype+\"_folds_merged.profile_scores.bw\")     "
   ]
  },
  {
   "cell_type": "code",
   "execution_count": 32,
   "metadata": {},
   "outputs": [],
   "source": [
    "counts_tot = []\n",
    "profile_tot = []\n",
    "for val in lists:\n",
    "    counts_tot.append(np.sum(np.nan_to_num(counts_bw.values(val[0], val[1], val[2]))))\n",
    "    profile_tot.append(np.sum(np.nan_to_num(profile_bw.values(val[0], val[1], val[2]))))"
   ]
  },
  {
   "cell_type": "code",
   "execution_count": 33,
   "metadata": {},
   "outputs": [],
   "source": [
    "dn_counts_tot = []\n",
    "dn_profile_tot = []\n",
    "for val in lists:\n",
    "    dn_counts_tot.append(np.sum(np.nan_to_num(dn_counts_bw.values(val[0], val[1], val[2]))))\n",
    "    dn_profile_tot.append(np.sum(np.nan_to_num(dn_profile_bw.values(val[0], val[1], val[2]))))"
   ]
  },
  {
   "cell_type": "code",
   "execution_count": 34,
   "metadata": {},
   "outputs": [
    {
     "data": {
      "text/plain": [
       "<matplotlib.collections.PathCollection at 0x7f2eb23cd790>"
      ]
     },
     "execution_count": 34,
     "metadata": {},
     "output_type": "execute_result"
    },
    {
     "data": {
      "image/png": "[encoded data removed]",
      "text/plain": [
       "<Figure size 432x288 with 1 Axes>"
      ]
     },
     "metadata": {
      "needs_background": "light"
     },
     "output_type": "display_data"
    }
   ],
   "source": [
    "import matplotlib.pyplot as plt\n",
    "plt.scatter(counts_tot, profile_tot)\n"
   ]
  },
  {
   "cell_type": "code",
   "execution_count": 35,
   "metadata": {},
   "outputs": [
    {
     "data": {
      "text/plain": [
       "<matplotlib.collections.PathCollection at 0x7f2eb231f950>"
      ]
     },
     "execution_count": 35,
     "metadata": {},
     "output_type": "execute_result"
    },
    {
     "data": {
      "image/png": "[encoded data removed]",
      "text/plain": [
       "<Figure size 432x288 with 1 Axes>"
      ]
     },
     "metadata": {
      "needs_background": "light"
     },
     "output_type": "display_data"
    }
   ],
   "source": [
    "plt.scatter(dn_counts_tot, dn_profile_tot)\n"
   ]
  },
  {
   "cell_type": "code",
   "execution_count": 36,
   "metadata": {},
   "outputs": [
    {
     "data": {
      "text/plain": [
       "<matplotlib.collections.PathCollection at 0x7f2ea8cf5d90>"
      ]
     },
     "execution_count": 36,
     "metadata": {},
     "output_type": "execute_result"
    },
    {
     "data": {
      "image/png": "[encoded data removed]",
      "text/plain": [
       "<Figure size 432x288 with 1 Axes>"
      ]
     },
     "metadata": {
      "needs_background": "light"
     },
     "output_type": "display_data"
    }
   ],
   "source": [
    "plt.scatter(profile_tot, dn_profile_tot)\n"
   ]
  },
  {
   "cell_type": "code",
   "execution_count": 39,
   "metadata": {},
   "outputs": [
    {
     "data": {
      "text/plain": [
       "<matplotlib.collections.PathCollection at 0x7f2eb2192690>"
      ]
     },
     "execution_count": 39,
     "metadata": {},
     "output_type": "execute_result"
    },
    {
     "data": {
      "image/png": "[encoded data removed]",
      "text/plain": [
       "<Figure size 432x288 with 1 Axes>"
      ]
     },
     "metadata": {
      "needs_background": "light"
     },
     "output_type": "display_data"
    }
   ],
   "source": [
    "plt.scatter(counts_tot, dn_counts_tot, s=1)\n"
   ]
  },
  {
   "cell_type": "code",
   "execution_count": null,
   "metadata": {},
   "outputs": [],
   "source": []
  },
  {
   "cell_type": "code",
   "execution_count": null,
   "metadata": {},
   "outputs": [],
   "source": [
    "# dataf = open(\"zeb_pos_regions.bed\", \"w\")\n",
    "# for val in lists:\n",
    "#     dataf.write(\"\\t\".join(map(str,val)))\n",
    "#     dataf.write(\"\\n\")\n",
    "# dataf.close()"
   ]
  },
  {
   "cell_type": "code",
   "execution_count": null,
   "metadata": {},
   "outputs": [],
   "source": [
    "# dn_bed=pd.read_csv(\"/oak/stanford/groups/akundaje/projects/chromatin-atlas-2022/chrombpnet/folds/DNASE/IMR90/merge_folds_new/in_peaks.interpreted_regions.bed\", sep='\\t', header=None)\n"
   ]
  },
  {
   "cell_type": "code",
   "execution_count": null,
   "metadata": {},
   "outputs": [],
   "source": [
    "# dn_bed[\"st\"] = dn_bed[1]+dn_bed[9]-250\n",
    "# dn_bed[\"end\"] = dn_bed[\"st\"]+500"
   ]
  },
  {
   "cell_type": "code",
   "execution_count": null,
   "metadata": {},
   "outputs": [],
   "source": [
    "# dn_bed[[0, \"st\", \"end\"]].to_csv(\"temp_dnase.bed\",sep=\"\\t\", header=False, index=False)"
   ]
  },
  {
   "cell_type": "code",
   "execution_count": null,
   "metadata": {},
   "outputs": [],
   "source": []
  },
  {
   "cell_type": "code",
   "execution_count": null,
   "metadata": {},
   "outputs": [],
   "source": []
  }
 ],
 "metadata": {
  "kernelspec": {
   "display_name": "Python 3",
   "language": "python",
   "name": "python3"
  },
  "language_info": {
   "codemirror_mode": {
    "name": "ipython",
    "version": 3
   },
   "file_extension": ".py",
   "mimetype": "text/x-python",
   "name": "python",
   "nbconvert_exporter": "python",
   "pygments_lexer": "ipython3",
   "version": "3.7.6"
  }
 },
 "nbformat": 4,
 "nbformat_minor": 4
}
