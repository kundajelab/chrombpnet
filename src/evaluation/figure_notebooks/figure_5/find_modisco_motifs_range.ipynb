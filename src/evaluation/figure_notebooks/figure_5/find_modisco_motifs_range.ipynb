{
 "cells": [
  {
   "cell_type": "code",
   "execution_count": 152,
   "metadata": {},
   "outputs": [
    {
     "name": "stdout",
     "output_type": "stream",
     "text": [
      "GM12878 ATAC COUNTS+ 41\n",
      "HEPG2 ATAC COUNTS+ 43\n",
      "K562 ATAC COUNTS+ 32\n",
      "IMR90 ATAC COUNTS+ 45\n",
      "H1ESC ATAC COUNTS+ 34\n",
      "GM12878 ATAC PROFILE+ 47\n",
      "HEPG2 ATAC PROFILE+ 61\n",
      "K562 ATAC PROFILE+ 52\n",
      "IMR90 ATAC PROFILE+ 63\n",
      "H1ESC ATAC PROFILE+ 39\n",
      "GM12878_new ,DNASE ,COUNTS+ , 30\n",
      "HEPG2 ,DNASE ,COUNTS+ , 45\n",
      "K562 ,DNASE ,COUNTS+ , 26\n",
      "IMR90_new ,DNASE ,COUNTS+ , 41\n",
      "H1ESC_new ,DNASE ,COUNTS+ , 26\n",
      "GM12878_new DNASE PROFILE+ 45\n",
      "HEPG2 DNASE PROFILE+ 55\n",
      "K562 DNASE PROFILE+ 47\n",
      "IMR90_new DNASE PROFILE+ 45\n",
      "H1ESC_new DNASE PROFILE+ 35\n"
     ]
    }
   ],
   "source": [
    "import pandas as pd\n",
    "dttype = 'ATAC'\n",
    "counts = []\n",
    "mode = \"counts\"\n",
    "\n",
    "rows = []\n",
    "for celltype in [\"GM12878\", \"HEPG2\", \"K562\", \"IMR90\", \"H1ESC\"]:\n",
    "    htmld=\"/oak/stanford/groups/akundaje/projects/chromatin-atlas-2022/chrombpnet/folds/\"+dttype+'/'+celltype+\"/merge_folds_new_may_05_24/\"+mode+\"/motifs.html\"\n",
    "    tomtom = pd.read_html(htmld)[0]\n",
    "    #print(sum(tomtom[\"num_seqlets\"])*0.005,sum(tomtom[\"num_seqlets\"]))\n",
    "    #tomtom = tomtom[tomtom[\"num_seqlets\"]>sum(tomtom[\"num_seqlets\"])*0.005]\n",
    "    tomtom = tomtom[tomtom[\"num_seqlets\"]>100]\n",
    "    #print(tomtom[\"pattern\"].str.contains(\"pos_patterns\"))\n",
    "    #print(sum(tomtom[\"pattern\"].str.contains(\"pos_patterns\")))\n",
    "    print(celltype, \"ATAC\" , \"COUNTS+\", sum(tomtom[\"pattern\"].str.contains(\"pos_patterns\")))\n",
    "    rows.append([celltype, \"ATAC\" , \"COUNTS+\", sum(tomtom[\"pattern\"].str.contains(\"pos_patterns\"))])\n",
    "    rows.append([celltype, \"ATAC\" , \"COUNTS-\", sum(tomtom[\"pattern\"].str.contains(\"neg_patterns\"))])\n",
    "\n",
    "    counts.append(sum(tomtom[\"pattern\"].str.contains(\"pos_patterns\")))\n",
    "    \n",
    "mode = \"profile\"\n",
    "for celltype in [\"GM12878\", \"HEPG2\", \"K562\", \"IMR90\", \"H1ESC\"]:\n",
    "    htmld=\"/oak/stanford/groups/akundaje/projects/chromatin-atlas-2022/chrombpnet/folds/\"+dttype+'/'+celltype+\"/merge_folds_new_may_05_24/\"+mode+\"/motifs.html\"\n",
    "    tomtom = pd.read_html(htmld)[0]\n",
    "    #tomtom = tomtom[tomtom[\"num_seqlets\"]>sum(tomtom[\"num_seqlets\"])*0.005]\n",
    "#     tomtom = tomtom[tomtom[\"num_seqlets\"]>1000]\n",
    "    tomtom = tomtom[tomtom[\"num_seqlets\"]>100]\n",
    "    counts.append(sum(tomtom[\"pattern\"].str.contains(\"pos_patterns\")))\n",
    "    print(celltype, \"ATAC\" , \"PROFILE+\", sum(tomtom[\"pattern\"].str.contains(\"pos_patterns\")))\n",
    "    rows.append([celltype, \"ATAC\" , \"PROFILE+\", sum(tomtom[\"pattern\"].str.contains(\"pos_patterns\"))])\n",
    "    rows.append([celltype, \"ATAC\" , \"PROFILE-\", sum(tomtom[\"pattern\"].str.contains(\"neg_patterns\"))])\n",
    "\n",
    "    #counts.append(sum(tomtom[\"pattern\"].str.contains(\"pos_patterns\")))\n",
    "   \n",
    "dttype = 'DNASE'\n",
    "mode = \"counts\"\n",
    "for celltype in [\"GM12878_new\", \"HEPG2\", \"K562\", \"IMR90_new\", \"H1ESC_new\"]:\n",
    "    htmld=\"/oak/stanford/groups/akundaje/projects/chromatin-atlas-2022/chrombpnet/folds/\"+dttype+'/'+celltype+\"/merge_folds_new_may_05_24/\"+mode+\"/motifs.html\"\n",
    "    tomtom = pd.read_html(htmld)[0]\n",
    "    #tomtom = tomtom[tomtom[\"num_seqlets\"]>sum(tomtom[\"num_seqlets\"])*0.005]\n",
    "#     tomtom = tomtom[tomtom[\"num_seqlets\"]>1000]\n",
    "    tomtom = tomtom[tomtom[\"num_seqlets\"]>100]\n",
    "    print(celltype, \",DNASE\" , \",COUNTS+\", \",\", sum(tomtom[\"pattern\"].str.contains(\"pos_patterns\")))\n",
    "    counts.append(sum(tomtom[\"pattern\"].str.contains(\"pos_patterns\")))\n",
    "    rows.append([celltype.replace(\"_new\", \"\"), \"DNASE\" , \"COUNTS+\", sum(tomtom[\"pattern\"].str.contains(\"pos_patterns\"))])    \n",
    "    rows.append([celltype.replace(\"_new\", \"\"), \"DNASE\" , \"COUNTS-\", sum(tomtom[\"pattern\"].str.contains(\"neg_patterns\"))])\n",
    "\n",
    "    \n",
    "mode = \"profile\"\n",
    "for celltype in [\"GM12878_new\", \"HEPG2\", \"K562\", \"IMR90_new\", \"H1ESC_new\"]:\n",
    "    htmld=\"/oak/stanford/groups/akundaje/projects/chromatin-atlas-2022/chrombpnet/folds/\"+dttype+'/'+celltype+\"/merge_folds_new_may_05_24/\"+mode+\"/motifs.html\"\n",
    "    tomtom = pd.read_html(htmld)[0]\n",
    "    #tomtom = tomtom[tomtom[\"num_seqlets\"]>sum(tomtom[\"num_seqlets\"])*0.005]\n",
    "#     tomtom = tomtom[tomtom[\"num_seqlets\"]>1000]\n",
    "    tomtom = tomtom[tomtom[\"num_seqlets\"]>100]\n",
    "    print(celltype, \"DNASE\" , \"PROFILE+\", sum(tomtom[\"pattern\"].str.contains(\"pos_patterns\")))\n",
    "    counts.append(sum(tomtom[\"pattern\"].str.contains(\"pos_patterns\")))\n",
    "    rows.append([celltype.replace(\"_new\", \"\"), \"DNASE\" , \"PROFILE+\", sum(tomtom[\"pattern\"].str.contains(\"pos_patterns\"))])\n",
    "    rows.append([celltype.replace(\"_new\", \"\"), \"DNASE\" , \"PROFILE-\", sum(tomtom[\"pattern\"].str.contains(\"neg_patterns\"))])\n"
   ]
  },
  {
   "cell_type": "code",
   "execution_count": 153,
   "metadata": {},
   "outputs": [
    {
     "data": {
      "text/plain": [
       "[['GM12878', 'ATAC', 'COUNTS+', 41],\n",
       " ['GM12878', 'ATAC', 'COUNTS-', 1],\n",
       " ['HEPG2', 'ATAC', 'COUNTS+', 43],\n",
       " ['HEPG2', 'ATAC', 'COUNTS-', 0],\n",
       " ['K562', 'ATAC', 'COUNTS+', 32],\n",
       " ['K562', 'ATAC', 'COUNTS-', 8],\n",
       " ['IMR90', 'ATAC', 'COUNTS+', 45],\n",
       " ['IMR90', 'ATAC', 'COUNTS-', 2],\n",
       " ['H1ESC', 'ATAC', 'COUNTS+', 34],\n",
       " ['H1ESC', 'ATAC', 'COUNTS-', 0],\n",
       " ['GM12878', 'ATAC', 'PROFILE+', 47],\n",
       " ['GM12878', 'ATAC', 'PROFILE-', 66],\n",
       " ['HEPG2', 'ATAC', 'PROFILE+', 61],\n",
       " ['HEPG2', 'ATAC', 'PROFILE-', 18],\n",
       " ['K562', 'ATAC', 'PROFILE+', 52],\n",
       " ['K562', 'ATAC', 'PROFILE-', 4],\n",
       " ['IMR90', 'ATAC', 'PROFILE+', 63],\n",
       " ['IMR90', 'ATAC', 'PROFILE-', 32],\n",
       " ['H1ESC', 'ATAC', 'PROFILE+', 39],\n",
       " ['H1ESC', 'ATAC', 'PROFILE-', 18],\n",
       " ['GM12878', 'DNASE', 'COUNTS+', 30],\n",
       " ['GM12878', 'DNASE', 'COUNTS-', 0],\n",
       " ['HEPG2', 'DNASE', 'COUNTS+', 45],\n",
       " ['HEPG2', 'DNASE', 'COUNTS-', 0],\n",
       " ['K562', 'DNASE', 'COUNTS+', 26],\n",
       " ['K562', 'DNASE', 'COUNTS-', 0],\n",
       " ['IMR90', 'DNASE', 'COUNTS+', 41],\n",
       " ['IMR90', 'DNASE', 'COUNTS-', 1],\n",
       " ['H1ESC', 'DNASE', 'COUNTS+', 26],\n",
       " ['H1ESC', 'DNASE', 'COUNTS-', 0],\n",
       " ['GM12878', 'DNASE', 'PROFILE+', 45],\n",
       " ['GM12878', 'DNASE', 'PROFILE-', 36],\n",
       " ['HEPG2', 'DNASE', 'PROFILE+', 55],\n",
       " ['HEPG2', 'DNASE', 'PROFILE-', 41],\n",
       " ['K562', 'DNASE', 'PROFILE+', 47],\n",
       " ['K562', 'DNASE', 'PROFILE-', 13],\n",
       " ['IMR90', 'DNASE', 'PROFILE+', 45],\n",
       " ['IMR90', 'DNASE', 'PROFILE-', 27],\n",
       " ['H1ESC', 'DNASE', 'PROFILE+', 35],\n",
       " ['H1ESC', 'DNASE', 'PROFILE-', 14]]"
      ]
     },
     "execution_count": 153,
     "metadata": {},
     "output_type": "execute_result"
    }
   ],
   "source": [
    "rows"
   ]
  },
  {
   "cell_type": "code",
   "execution_count": 143,
   "metadata": {},
   "outputs": [
    {
     "data": {
      "image/png": "[encoded data removed]",
      "text/plain": [
       "<Figure size 720x504 with 1 Axes>"
      ]
     },
     "metadata": {
      "needs_background": "light"
     },
     "output_type": "display_data"
    }
   ],
   "source": [
    "import matplotlib.pyplot as plt\n",
    "import numpy as np\n",
    "\n",
    "\n",
    "# # Creating dataset\n",
    "# np.random.seed(10)\n",
    "# data = np.random.normal(100, 20, 200)\n",
    "\n",
    "fig = plt.figure(figsize =(10, 7))\n",
    "\n",
    "# Creating plot\n",
    "plt.boxplot(counts)\n",
    "\n",
    "# show plot\n",
    "plt.show()\n",
    "\n",
    "#sum(tomtom[0][\"pattern\"].str.contains(\"pos_patterns\"))"
   ]
  },
  {
   "cell_type": "code",
   "execution_count": 134,
   "metadata": {},
   "outputs": [],
   "source": [
    "#print(tomtom)"
   ]
  },
  {
   "cell_type": "code",
   "execution_count": 135,
   "metadata": {},
   "outputs": [],
   "source": [
    "#tomtom[0].shape"
   ]
  },
  {
   "cell_type": "code",
   "execution_count": 136,
   "metadata": {},
   "outputs": [],
   "source": [
    "import numpy as np"
   ]
  },
  {
   "cell_type": "code",
   "execution_count": 137,
   "metadata": {},
   "outputs": [
    {
     "data": {
      "image/png": "[encoded data removed]",
      "text/plain": [
       "<Figure size 720x504 with 1 Axes>"
      ]
     },
     "metadata": {
      "needs_background": "light"
     },
     "output_type": "display_data"
    }
   ],
   "source": []
  },
  {
   "cell_type": "code",
   "execution_count": 125,
   "metadata": {},
   "outputs": [
    {
     "data": {
      "text/plain": [
       "59.25"
      ]
     },
     "execution_count": 125,
     "metadata": {},
     "output_type": "execute_result"
    }
   ],
   "source": [
    "np.mean(counts)"
   ]
  },
  {
   "cell_type": "code",
   "execution_count": 126,
   "metadata": {},
   "outputs": [
    {
     "data": {
      "text/plain": [
       "14.191106369836003"
      ]
     },
     "execution_count": 126,
     "metadata": {},
     "output_type": "execute_result"
    }
   ],
   "source": [
    "np.std(counts)"
   ]
  },
  {
   "cell_type": "code",
   "execution_count": null,
   "metadata": {},
   "outputs": [],
   "source": []
  },
  {
   "cell_type": "code",
   "execution_count": 179,
   "metadata": {},
   "outputs": [
    {
     "data": {
      "image/png": "[encoded data removed]",
      "text/plain": [
       "<Figure size 720x504 with 1 Axes>"
      ]
     },
     "metadata": {
      "needs_background": "light"
     },
     "output_type": "display_data"
    }
   ],
   "source": [
    "import pandas as pd\n",
    "dttype = 'ATAC'\n",
    "counts = []\n",
    "profiles = []\n",
    "mode = \"counts\"\n",
    "for celltype in [\"GM12878\", \"HEPG2\", \"K562\", \"IMR90\", \"H1ESC\"]:\n",
    "    htmld=\"/oak/stanford/groups/akundaje/projects/chromatin-atlas-2022/chrombpnet/folds/\"+dttype+'/'+celltype+\"/merge_folds_new_may_05_24/\"+mode+\"/motifs.html\"\n",
    "    tomtom = pd.read_html(htmld)[0]\n",
    "    #tomtom = tomtom[tomtom[\"num_seqlets\"]<1000]\n",
    "    tomtom = tomtom[tomtom[\"num_seqlets\"]>=100]\n",
    "    counts.append(sum(tomtom[\"pattern\"].str.contains(\"patterns\")))\n",
    "    #counts.append(sum(tomtom[\"pattern\"].str.contains(\"pos_patterns\")))\n",
    "    \n",
    "mode = \"profile\"\n",
    "for celltype in [\"GM12878\", \"HEPG2\", \"K562\", \"IMR90\", \"H1ESC\"]:\n",
    "    htmld=\"/oak/stanford/groups/akundaje/projects/chromatin-atlas-2022/chrombpnet/folds/\"+dttype+'/'+celltype+\"/merge_folds_new_may_05_24/\"+mode+\"/motifs.html\"\n",
    "    tomtom = pd.read_html(htmld)[0]\n",
    "    #tomtom = tomtom[tomtom[\"num_seqlets\"]<1000]\n",
    "    tomtom = tomtom[tomtom[\"num_seqlets\"]>=100]\n",
    "    #profiles.append(sum(tomtom[\"pattern\"].str.contains(\"pos_patterns\")))\n",
    "    profiles.append(sum(tomtom[\"pattern\"].str.contains(\"patterns\")))\n",
    "    \n",
    "dttype = 'DNASE'\n",
    "mode = \"counts\"\n",
    "for celltype in [\"GM12878_new\", \"HEPG2\", \"K562\", \"IMR90_new\", \"H1ESC_new\"]:\n",
    "    htmld=\"/oak/stanford/groups/akundaje/projects/chromatin-atlas-2022/chrombpnet/folds/\"+dttype+'/'+celltype+\"/merge_folds_new_may_05_24/\"+mode+\"/motifs.html\"\n",
    "    tomtom = pd.read_html(htmld)[0]\n",
    "    #tomtom = tomtom[tomtom[\"num_seqlets\"]<1000]\n",
    "    tomtom = tomtom[tomtom[\"num_seqlets\"]>=100]\n",
    "    #counts.append(sum(tomtom[\"pattern\"].str.contains(\"pos_patterns\")))\n",
    "    counts.append(sum(tomtom[\"pattern\"].str.contains(\"patterns\")))\n",
    "\n",
    "mode = \"profile\"\n",
    "for celltype in [\"GM12878_new\", \"HEPG2\", \"K562\", \"IMR90_new\", \"H1ESC_new\"]:\n",
    "    htmld=\"/oak/stanford/groups/akundaje/projects/chromatin-atlas-2022/chrombpnet/folds/\"+dttype+'/'+celltype+\"/merge_folds_new_may_05_24/\"+mode+\"/motifs.html\"\n",
    "    tomtom = pd.read_html(htmld)[0]\n",
    "    #tomtom = tomtom[tomtom[\"num_seqlets\"]<1000]\n",
    "    tomtom = tomtom[tomtom[\"num_seqlets\"]>=100]\n",
    "    profiles.append(sum(tomtom[\"pattern\"].str.contains(\"patterns\")))\n",
    "\n",
    "\n",
    "import matplotlib.pyplot as plt\n",
    "import numpy as np\n",
    "\n",
    "\n",
    "# # Creating dataset\n",
    "# np.random.seed(10)\n",
    "# data = np.random.normal(100, 20, 200)\n",
    "\n",
    "fig = plt.figure(figsize =(10, 7))\n",
    "\n",
    "data = [counts, profiles]\n",
    "# Creating plot\n",
    "plt.boxplot(data)\n",
    "\n",
    "# show plot\n",
    "plt.show()"
   ]
  },
  {
   "cell_type": "code",
   "execution_count": 180,
   "metadata": {},
   "outputs": [
    {
     "data": {
      "text/plain": [
       "26"
      ]
     },
     "execution_count": 180,
     "metadata": {},
     "output_type": "execute_result"
    }
   ],
   "source": [
    "min(counts)"
   ]
  },
  {
   "cell_type": "code",
   "execution_count": 181,
   "metadata": {},
   "outputs": [
    {
     "data": {
      "text/plain": [
       "47"
      ]
     },
     "execution_count": 181,
     "metadata": {},
     "output_type": "execute_result"
    }
   ],
   "source": [
    "max(counts)"
   ]
  },
  {
   "cell_type": "code",
   "execution_count": 182,
   "metadata": {},
   "outputs": [
    {
     "data": {
      "text/plain": [
       "49"
      ]
     },
     "execution_count": 182,
     "metadata": {},
     "output_type": "execute_result"
    }
   ],
   "source": [
    "min(profiles)"
   ]
  },
  {
   "cell_type": "code",
   "execution_count": 183,
   "metadata": {},
   "outputs": [
    {
     "data": {
      "text/plain": [
       "114"
      ]
     },
     "execution_count": 183,
     "metadata": {},
     "output_type": "execute_result"
    }
   ],
   "source": [
    "max(profiles)"
   ]
  },
  {
   "cell_type": "code",
   "execution_count": null,
   "metadata": {},
   "outputs": [],
   "source": []
  }
 ],
 "metadata": {
  "kernelspec": {
   "display_name": "Python 3",
   "language": "python",
   "name": "python3"
  },
  "language_info": {
   "codemirror_mode": {
    "name": "ipython",
    "version": 3
   },
   "file_extension": ".py",
   "mimetype": "text/x-python",
   "name": "python",
   "nbconvert_exporter": "python",
   "pygments_lexer": "ipython3",
   "version": "3.7.6"
  }
 },
 "nbformat": 4,
 "nbformat_minor": 4
}
