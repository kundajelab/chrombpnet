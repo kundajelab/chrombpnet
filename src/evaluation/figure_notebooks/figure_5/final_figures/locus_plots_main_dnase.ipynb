{
 "cells": [
  {
   "cell_type": "code",
   "execution_count": 1,
   "metadata": {
    "scrolled": true,
    "tags": []
   },
   "outputs": [
    {
     "name": "stderr",
     "output_type": "stream",
     "text": [
      "Loading required package: GenomicRanges\n",
      "\n",
      "Loading required package: stats4\n",
      "\n",
      "Loading required package: BiocGenerics\n",
      "\n",
      "Loading required package: parallel\n",
      "\n",
      "\n",
      "Attaching package: ‘BiocGenerics’\n",
      "\n",
      "\n",
      "The following objects are masked from ‘package:parallel’:\n",
      "\n",
      "    clusterApply, clusterApplyLB, clusterCall, clusterEvalQ,\n",
      "    clusterExport, clusterMap, parApply, parCapply, parLapply,\n",
      "    parLapplyLB, parRapply, parSapply, parSapplyLB\n",
      "\n",
      "\n",
      "The following objects are masked from ‘package:stats’:\n",
      "\n",
      "    IQR, mad, sd, var, xtabs\n",
      "\n",
      "\n",
      "The following objects are masked from ‘package:base’:\n",
      "\n",
      "    anyDuplicated, append, as.data.frame, basename, cbind, colnames,\n",
      "    dirname, do.call, duplicated, eval, evalq, Filter, Find, get, grep,\n",
      "    grepl, intersect, is.unsorted, lapply, Map, mapply, match, mget,\n",
      "    order, paste, pmax, pmax.int, pmin, pmin.int, Position, rank,\n",
      "    rbind, Reduce, rownames, sapply, setdiff, sort, table, tapply,\n",
      "    union, unique, unsplit, which.max, which.min\n",
      "\n",
      "\n",
      "Loading required package: S4Vectors\n",
      "\n",
      "\n",
      "Attaching package: ‘S4Vectors’\n",
      "\n",
      "\n",
      "The following object is masked from ‘package:base’:\n",
      "\n",
      "    expand.grid\n",
      "\n",
      "\n",
      "Loading required package: IRanges\n",
      "\n",
      "Loading required package: GenomeInfoDb\n",
      "\n",
      "\n",
      "Attaching package: ‘dplyr’\n",
      "\n",
      "\n",
      "The following objects are masked from ‘package:GenomicRanges’:\n",
      "\n",
      "    intersect, setdiff, union\n",
      "\n",
      "\n",
      "The following object is masked from ‘package:GenomeInfoDb’:\n",
      "\n",
      "    intersect\n",
      "\n",
      "\n",
      "The following objects are masked from ‘package:IRanges’:\n",
      "\n",
      "    collapse, desc, intersect, setdiff, slice, union\n",
      "\n",
      "\n",
      "The following objects are masked from ‘package:S4Vectors’:\n",
      "\n",
      "    first, intersect, rename, setdiff, setequal, union\n",
      "\n",
      "\n",
      "The following objects are masked from ‘package:BiocGenerics’:\n",
      "\n",
      "    combine, intersect, setdiff, union\n",
      "\n",
      "\n",
      "The following objects are masked from ‘package:stats’:\n",
      "\n",
      "    filter, lag\n",
      "\n",
      "\n",
      "The following objects are masked from ‘package:base’:\n",
      "\n",
      "    intersect, setdiff, setequal, union\n",
      "\n",
      "\n"
     ]
    }
   ],
   "source": [
    "library(ggplot2)\n",
    "library(ggseqlogo)\n",
    "library(rtracklayer)\n",
    "library(patchwork)\n",
    "\n",
    "library(GenomicRanges)\n",
    "library(readr)\n",
    "library(magrittr)\n",
    "library(dplyr)\n"
   ]
  },
  {
   "cell_type": "code",
   "execution_count": 2,
   "metadata": {
    "tags": []
   },
   "outputs": [
    {
     "name": "stderr",
     "output_type": "stream",
     "text": [
      "Loading required package: BSgenome\n",
      "\n",
      "Loading required package: Biostrings\n",
      "\n",
      "Loading required package: XVector\n",
      "\n",
      "\n",
      "Attaching package: ‘Biostrings’\n",
      "\n",
      "\n",
      "The following object is masked from ‘package:base’:\n",
      "\n",
      "    strsplit\n",
      "\n",
      "\n"
     ]
    }
   ],
   "source": [
    "library(BSgenome.Hsapiens.UCSC.hg38)\n",
    "\n",
    "genome = BSgenome.Hsapiens.UCSC.hg38"
   ]
  },
  {
   "cell_type": "code",
   "execution_count": 3,
   "metadata": {},
   "outputs": [],
   "source": [
    "#config = read.table(\"./GM12878_corrected_scaled.tsv\", header=T, stringsAsFactors=F, sep='\\t')\n",
    "#config\n",
    "\n",
    "#region_coorda"
   ]
  },
  {
   "cell_type": "markdown",
   "metadata": {},
   "source": [
    "## Load Data"
   ]
  },
  {
   "cell_type": "code",
   "execution_count": 4,
   "metadata": {},
   "outputs": [],
   "source": [
    "# one bigwig at a time, any number of peaks\n",
    "get_matrix_from_bigwig <- function(bigwig_path, peak_set) {\n",
    "    # ensure peak set has fixed width\n",
    "    stopifnot(length(unique(width(peak_set)))==1)\n",
    "    \n",
    "    as.matrix(import(bigwig_path, \n",
    "      which=peak_set, as=\"NumericList\"))\n",
    "}\n",
    "\n",
    "# one bigwig, one peak (GRanges object)\n",
    "get_importance_from_bigwig <- function(bigwig_path, peak, genome) {\n",
    "    stopifnot(length(peak)==1)\n",
    "    \n",
    "    # get DNA sequence\n",
    "    sequence = genome[[as.vector(seqnames(peak))]][start(peak):end(peak)]\n",
    "    \n",
    "    m = matrix(0, length(sequence), 4)\n",
    "    colnames(m) = c(\"A\", \"C\", \"G\", \"T\")\n",
    "    print(max(get_matrix_from_bigwig(bigwig_path, peak)))\n",
    "    m[cbind(seq(length(sequence)), as.vector(matrix(sequence)))] = get_matrix_from_bigwig(bigwig_path, peak)\n",
    "\n",
    "    t(m)\n",
    "}"
   ]
  },
  {
   "cell_type": "code",
   "execution_count": 5,
   "metadata": {},
   "outputs": [],
   "source": [
    "GRangesFromDataFrames<-function(dataframe){with(dataframe,GRanges(IRanges(start=start,end=end),seqnames=seqnames,strand=strand,dataframe%>%dplyr::select(-strand,-start,-end,-seqnames)))}\n",
    "\n",
    "calculate_total_value_and_length <- function(bw_path,region){\n",
    "    total_value = as.integer(sum(as.vector(get_matrix_from_bigwig(bw_path, region))))\n",
    "    length = length(as.vector(get_matrix_from_bigwig(bw_path, region)))\n",
    "    df = data.frame(total_value=total_value,length=length)\n",
    "    df\n",
    "}\n",
    "\n",
    "calculate_normalization_value <- function(bw_path,peaks_path,mc.cores=40){\n",
    "        peaks_df = read_tsv(peaks_path,\n",
    "                         col_names=c(\"seqnames\",\"start\",\"end\",\"name\",\"score\",\"strand\",\"p\",\"q\",\"x\",\"summit\"),\n",
    "                         show_col_types = FALSE)\n",
    "        peaks_df['strand']<-'*'\n",
    "        valid_chrs = c('chr1',\"chr2\",\"chr3\",\"chr4\",\"chr5\",\"chr6\",\"chr7\",\"chr8\",\"chr9\",\"chr10\",\n",
    "                                 \"chr11\",\"chr12\",\"chr13\",\"chr14\",\"chr15\",\"chr16\",\"chr17\",\"chr18\",\"chr19\",\"chr20\",\n",
    "                                 \"chr21\",\"chrX\",\"chrY\")\n",
    "        peaks_df[peaks_df[[\"seqnames\"]] %in% valid_chrs,]\n",
    "        peaks_gr = GRangesFromDataFrames(peaks_df)\n",
    "\n",
    "        peaks_gr = keepSeqlevels(peaks_gr, c('chr1',\"chr2\",\"chr3\",\"chr4\",\"chr5\",\"chr6\",\"chr7\",\"chr8\",\"chr9\",\"chr10\",\n",
    "                                 \"chr11\",\"chr12\",\"chr13\",\"chr14\",\"chr15\",\"chr16\",\"chr17\",\"chr18\",\"chr19\",\"chr20\",\n",
    "                                 \"chr21\",\"chrX\"), pruning.mode=\"coarse\")\n",
    "\n",
    "        print(bw_path)\n",
    "        1:length(peaks_gr) %>% mclapply(function(i){\n",
    "                                        calculate_total_value_and_length(bw_path,peaks_gr[i])\n",
    "                                        },mc.cores=mc.cores\n",
    "                                        ) %>% bind_rows() -> normalization_df\n",
    "\n",
    "        sum(normalization_df[\"total_value\"])/sum(normalization_df[\"length\"])\n",
    "}\n",
    "\n"
   ]
  },
  {
   "cell_type": "markdown",
   "metadata": {},
   "source": [
    "## Plot types"
   ]
  },
  {
   "cell_type": "code",
   "execution_count": 6,
   "metadata": {},
   "outputs": [],
   "source": [
    "TITLE_SZ = 16"
   ]
  },
  {
   "cell_type": "markdown",
   "metadata": {},
   "source": [
    "### Importance"
   ]
  },
  {
   "cell_type": "code",
   "execution_count": 7,
   "metadata": {},
   "outputs": [],
   "source": [
    "plot_seq <- function(m, ymin=NULL, ymax=NULL, clip=F) {\n",
    "    mat = m\n",
    "    \n",
    "#     rownames(mat) = c(\"A\", \"C\", \"G\", \"T\")\n",
    "    \n",
    "    # cap to upper and lower limits\n",
    "    if (clip==T) {\n",
    "        if (!is.null(ymin)) {\n",
    "            mat[mat<ymin] = ymin\n",
    "        }\n",
    "        \n",
    "        if (!is.null(ymax)) {\n",
    "            mat[mat>ymax] = ymax\n",
    "        }\n",
    "    }\n",
    "    \n",
    "\n",
    "    p = ggseqlogo(mat, method='custom', seq_type='dna') \n",
    "    \n",
    "    p = (p + \n",
    "         theme_classic() + \n",
    "         coord_cartesian(ylim=c(ymin, ymax)) + \n",
    "         expand_limits(x=0, y=0) +\n",
    "         #scale_y_continuous(breaks=c(ymin, ymax)) +\n",
    "         theme(axis.ticks.x = element_blank(), axis.text.x = element_blank(),axis.title.x = element_blank(),axis.line.x = element_blank()))\n",
    "    \n",
    "    p = p + theme(axis.ticks.y = element_blank(),axis.text.y = element_blank())\n",
    "\n",
    "    p\n",
    "}\n",
    "\n",
    "plot_importance <- function(bigwig_path, region, genome, ylabel, ymin=NULL, ymax=NULL, clip=F) {\n",
    "    plot_seq(get_importance_from_bigwig(bigwig_path, region, genome), ymin=ymin, ymax=ymax, clip=clip) +\n",
    "        ylab(gsub(\"\\\\\\\\n\", \"\\n\", ylabel)) +\n",
    "        theme(axis.title.y = element_text(angle=0, size=TITLE_SZ, hjust=0.5, vjust=0.5))\n",
    "}"
   ]
  },
  {
   "cell_type": "markdown",
   "metadata": {},
   "source": [
    "### Single Track"
   ]
  },
  {
   "cell_type": "code",
   "execution_count": 8,
   "metadata": {},
   "outputs": [],
   "source": [
    "plot_single_vals <- function(v, ymin=NULL, ymax=NULL, \n",
    "                             clip=F, fill=T, \n",
    "                             col='#37ada2',x_width) {\n",
    "    vals = v\n",
    "    \n",
    "#     rownames(mat) = c(\"A\", \"C\", \"G\", \"T\")\n",
    "    \n",
    "    # cap to upper and lower limits\n",
    "    if (clip==T) {\n",
    "        if (!is.null(ymin)) {\n",
    "            vals[vals<ymin] = ymin\n",
    "        }\n",
    "        \n",
    "        if (!is.null(ymax)) {\n",
    "            vals[vals>ymax] = ymax\n",
    "        }\n",
    "    }\n",
    "    \n",
    "    p = ggplot(data.frame(x=seq(length(vals)), y=vals), aes(x=x,y=y)) \n",
    "    \n",
    "    if (fill==T) {\n",
    "        p = p + geom_area(fill=col)\n",
    "    }\n",
    "    \n",
    "    else {\n",
    "        p = p + geom_line(col=col)\n",
    "    }\n",
    "    \n",
    "    p = (p + \n",
    "         theme_classic() + \n",
    "         coord_cartesian(ylim=c(0, ceiling(max(vals)))) + \n",
    "         expand_limits(x=0, y=0) +\n",
    "         #scale_y_continuous(breaks=pretty(c(0, max(vals)),n=2,min.n=1)) +\n",
    "         scale_y_continuous(breaks=c(0, ceiling(max(vals)))) +\n",
    "         theme(axis.ticks.x = element_blank(), axis.text.x = element_blank(),axis.title.x = element_blank(),axis.line.x = element_blank()))\n",
    "    \n",
    "    p = p + theme(axis.text.y = element_text(size=14))\n",
    "    \n",
    "    p\n",
    "}\n",
    "\n",
    "plot_single <- function(bigwig_path, region, \n",
    "                        ylabel, ymin=NULL, ymax=NULL, \n",
    "                        fill=T, col='#37ada2', clip=F,\n",
    "                        normalize = FALSE,normalization_value=None, normalization_region,normalization_file) {\n",
    "    v1 = as.vector(get_matrix_from_bigwig(bigwig_path, region))\n",
    "    if (normalize){\n",
    "        #normalization_value = calculate_normalization_value(normalization_file,normalization_region)\n",
    "        print(max(v1))\n",
    "        print(normalization_value)\n",
    "        v1=(v1/normalization_value)\n",
    "        print(max(v1))\n",
    "    }\n",
    "    plot_single_vals(v1, ymin=ymin, ymax=ymax, clip=clip, fill=fill, col=col, x_width=width(region)) +\n",
    "        ylab(gsub(\"\\\\\\\\n\", \"\\n\", ylabel)) +\n",
    "        theme(axis.title.y = element_text(angle=0, size=TITLE_SZ, hjust=0.5,  vjust=0.5))\n",
    "}"
   ]
  },
  {
   "cell_type": "code",
   "execution_count": 9,
   "metadata": {},
   "outputs": [],
   "source": [
    "## scale\n"
   ]
  },
  {
   "cell_type": "code",
   "execution_count": 10,
   "metadata": {},
   "outputs": [],
   "source": [
    "plot_scale_vals <- function(v, col='#a9d1ac') {\n",
    "    vals = v\n",
    "    \n",
    "    p = ggplot(data.frame(x=seq(length(vals)), y=0), aes(x=x,y=y)) \n",
    "    \n",
    "   \n",
    "    p = p + geom_line(col=col)\n",
    "\n",
    "    p = (p + \n",
    "         theme_classic() + \n",
    "         expand_limits(x=0, y=0) +\n",
    "         scale_x_continuous(breaks=pretty(c(0, length(vals)/10),n=2,min.n=1)) +\n",
    "         theme(axis.ticks.y = element_blank(), axis.text.y = element_blank(),axis.title = element_blank(),axis.line.y = element_blank())\n",
    "        ) \n",
    "    \n",
    "    p\n",
    "}\n",
    "\n",
    "plot_scale <- function(bigwig_path, region, ylabel, ymin=NULL, ymax=NULL, fill=T, col='#37ada2', clip=F) {\n",
    "    plot_scale_vals(as.vector(get_matrix_from_bigwig(bigwig_path, region)), col=col) +\n",
    "        ylab(ylabel) +\n",
    "        theme(axis.title.y = element_text(angle=0, size=TITLE_SZ, hjust=0.5, vjust=0.5))\n",
    "}"
   ]
  },
  {
   "cell_type": "markdown",
   "metadata": {},
   "source": [
    "### Stranded Track"
   ]
  },
  {
   "cell_type": "code",
   "execution_count": 11,
   "metadata": {},
   "outputs": [],
   "source": [
    "plot_stranded_vals <- function(v1, v2, ymin=NULL, \n",
    "                               ymax=NULL, clip=F, \n",
    "                               col1='blue', col2='orange') {\n",
    "    vals1 = v1\n",
    "    vals2 = v2\n",
    "    \n",
    "#     rownames(mat) = c(\"A\", \"C\", \"G\", \"T\")\n",
    "    \n",
    "    # cap to upper and lower limits\n",
    "    if (clip==T) {\n",
    "        if (!is.null(ymin)) {\n",
    "            vals1[vals1<ymin] = ymin\n",
    "            vals2[vals2<ymin] = ymin\n",
    "        }\n",
    "        \n",
    "        if (!is.null(ymax)) {\n",
    "            vals1[vals1>ymax] = ymax\n",
    "            vals2[vals2>ymax] = ymax\n",
    "        }\n",
    "    }\n",
    "    \n",
    "    p = ggplot(data.frame(x=seq(length(vals1)), y1=vals1, y2=vals2)) +\n",
    "        geom_area(aes(x=x, y=y1), fill=col1, alpha = 0.8) +\n",
    "        geom_area(aes(x=x, y=y2), fill=col2, alpha = 0.8) \n",
    "\n",
    "    p = (p + \n",
    "         theme_classic() + \n",
    "         coord_cartesian(ylim=c(ymin, ymax)) + \n",
    "         expand_limits(x=0, y=0) +\n",
    "         scale_y_continuous(breaks=pretty(c(0, max(max(vals1),max(vals2))),n=2,min.n=1)) +\n",
    "         theme(axis.ticks.x = element_blank(), axis.text.x = element_blank(),axis.title.x = element_blank(),axis.line.x = element_blank()))\n",
    "    \n",
    "    p\n",
    "\n",
    "}\n",
    "\n",
    "plot_stranded <- function(bigwig_prefix, region, ylabel, ymin=NULL, ymax=NULL,\n",
    "                          clip=F, col1='blue', col2='orange',\n",
    "                          normalize = FALSE,normalization_region,normalization_file_prefix) {\n",
    "    # plus and minus should be bigwig_prefix + \"plus.bw\" and bigwig_prefix + \"minus.bw\"\n",
    "    \n",
    "    v1 = as.vector(get_matrix_from_bigwig(paste(bigwig_prefix, \"_plus.bigWig\", sep='') , region))\n",
    "    v2 = as.vector(get_matrix_from_bigwig(paste(bigwig_prefix, \"_minus.bigWig\", sep='') , region))\n",
    "    print(max(v1))\n",
    "    print(max(v2))\n",
    "    if (normalize){\n",
    "        normalization_value = calculate_normalization_value(paste(normalization_file_prefix, \"_plus.bigWig\", sep=''),normalization_region)\n",
    "        v1=(v1/normalization_value)\n",
    "    } \n",
    "    if (normalize){\n",
    "        normalization_value = calculate_normalization_value(paste(normalization_file_prefix, \"_minus.bigWig\", sep=''),normalization_region)\n",
    "        v2=(v2/normalization_value)\n",
    "    } \n",
    "    plot_stranded_vals(v1, v2, ymin=ymin, ymax=ymax, clip=clip, col1=col1, col2=col2) + \n",
    "        ylab(ylabel) + \n",
    "        theme(axis.title.y = element_text(angle=0, size=TITLE_SZ, hjust=0))\n",
    "}\n",
    "\n",
    "plot_strandedn <- function(bigwig_prefix, region, ylabel, ymin=NULL, ymax=NULL,\n",
    "                          clip=F, col1='blue', col2='orange',\n",
    "                          normalize = FALSE,normalization_region,normalization_file_prefix) {\n",
    "    # plus and minus should be bigwig_prefix + \"plus.bw\" and bigwig_prefix + \"minus.bw\"\n",
    "    \n",
    "    v1 = as.vector(get_matrix_from_bigwig(paste(bigwig_prefix, \"_plus.bw\", sep='') , region))\n",
    "    v2 = as.vector(get_matrix_from_bigwig(paste(bigwig_prefix, \"_minus.bw\", sep='') , region))\n",
    "    print(max(v1))\n",
    "    print(max(v2))\n",
    "    if (normalize){\n",
    "        normalization_value = calculate_normalization_value(paste(normalization_file_prefix, \"_plus.bigWig\", sep=''),normalization_region)\n",
    "        v1=(v1/normalization_value)\n",
    "    } \n",
    "    if (normalize){\n",
    "        normalization_value = calculate_normalization_value(paste(normalization_file_prefix, \"_minus.bigWig\", sep=''),normalization_region)\n",
    "        v2=(v2/normalization_value)\n",
    "    } \n",
    "    plot_stranded_vals(v1, v2, ymin=ymin, ymax=ymax, clip=clip, col1=col1, col2=col2) + \n",
    "        ylab(ylabel) + \n",
    "        theme(axis.title.y = element_text(angle=0, size=TITLE_SZ, hjust=0))\n",
    "}"
   ]
  },
  {
   "cell_type": "markdown",
   "metadata": {},
   "source": [
    "## Generate plots from config"
   ]
  },
  {
   "cell_type": "code",
   "execution_count": 12,
   "metadata": {},
   "outputs": [],
   "source": [
    "#my_list <- list(\"#E00FEE\", \"#E00FEE\", \"#7B241C\", \"red\", \"#4A235A\", \"#4A235A\", \"#239B56\", \"blue\")\n",
    "#my_list <- list(\"#4A235A\", \"#4A235A\", \"#239B56\", \"blue\")\n",
    "#my_list <- list(\"#E00FEE\", \"#E00FEE\", \"null\", \"#458B00\", \"null\", \"#0000FF\", \"null\", \"#A52A2A\", \"null\", \"#A52A2A\", \"null\", \"#A52A2A\", \"null\")\n",
    "\n",
    "generate_plots <- function(config, region, genome) {\n",
    "    plots = list()\n",
    "    \n",
    "    # configure for different relative heights for single, stranded and dynseq tracks\n",
    "    REL_HEIGHTS = c(single=1, stranded=1, dynseq=1.5, scale =0.5)\n",
    "    \n",
    "    heights = c()\n",
    "    \n",
    "    for (i in seq(nrow(config))) {\n",
    "        print(config$sample[i])\n",
    "        if (config$type[i] == \"dynseq\") {\n",
    "            plots[[i]] = plot_importance(config$path[i], region, genome, config$sample[i], ymin=as.double(config$Min[i]), ymax=as.double(config$Max[i]), clip=T)            \n",
    "        }\n",
    "        \n",
    "        else if (config$type[i] == \"single\") {\n",
    "            #print(i)\n",
    "            #print(my_list[i])\n",
    "            #print(paste(\"#\",config$Color[i],sep=\"\"))\n",
    "            plots[[i]] = plot_single(config$path[i], region, \n",
    "                                     config$sample[i],\n",
    "                                     col=paste(\"#\",config$Color[i],sep=\"\"),\n",
    "                                     normalization_value=as.double(config$Scale[i]),\n",
    "                                     normalize=config$normalize[i],\n",
    "                                     normalization_region=config$normalization_region[i],\n",
    "                                     normalization_file=config$normalization_file[i]\n",
    "                                    )\n",
    "            \n",
    "        }\n",
    "        \n",
    "        else if (config$type[i] == \"stranded\") {\n",
    "            plots[[i]] = plot_stranded(config$path[i], region, config$sample[i],\n",
    "                                     normalize=config$normalize[i],\n",
    "                                     normalization_region=config$normalization_region[i],\n",
    "                                     normalization_file=config$normalization_file[i])\n",
    "        }\n",
    "        else if (config$type[i] == \"strandedn\") {\n",
    "            plots[[i]] = plot_strandedn(config$path[i], region, config$sample[i],\n",
    "                                     normalize=config$normalize[i],\n",
    "                                     normalization_region=config$normalization_region[i],\n",
    "                                     normalization_file=config$normalization_file[i])\n",
    "        }\n",
    "\n",
    "        else if (config$type[i] == \"scale\") {\n",
    "            plots[[i]] = plot_scale(config$path[i], region, config$sample[i])\n",
    "        }\n",
    "        \n",
    "        heights = c(heights, REL_HEIGHTS[config$type[i]])        \n",
    "        \n",
    "    }\n",
    "    \n",
    "    main = wrap_plots(plots, heights=heights)\n",
    "    main\n",
    "}"
   ]
  },
  {
   "cell_type": "markdown",
   "metadata": {},
   "source": [
    "## Plotting\n",
    "    "
   ]
  },
  {
   "cell_type": "code",
   "execution_count": 13,
   "metadata": {},
   "outputs": [
    {
     "name": "stderr",
     "output_type": "stream",
     "text": [
      "Warning message in read.table(\"./configs/config_main_locus_new_dnase.tsv\", header = T, :\n",
      "“incomplete final line found by readTableHeader on './configs/config_main_locus_new_dnase.tsv'”\n"
     ]
    },
    {
     "data": {
      "text/html": [
       "<table class=\"dataframe\">\n",
       "<caption>A data.frame: 4 × 10</caption>\n",
       "<thead>\n",
       "\t<tr><th scope=col>sample</th><th scope=col>path</th><th scope=col>normalize</th><th scope=col>normalization_region</th><th scope=col>normalization_file</th><th scope=col>type</th><th scope=col>Min</th><th scope=col>Max</th><th scope=col>Scale</th><th scope=col>Color</th></tr>\n",
       "\t<tr><th scope=col>&lt;chr&gt;</th><th scope=col>&lt;chr&gt;</th><th scope=col>&lt;lgl&gt;</th><th scope=col>&lt;chr&gt;</th><th scope=col>&lt;chr&gt;</th><th scope=col>&lt;chr&gt;</th><th scope=col>&lt;chr&gt;</th><th scope=col>&lt;chr&gt;</th><th scope=col>&lt;chr&gt;</th><th scope=col>&lt;chr&gt;</th></tr>\n",
       "</thead>\n",
       "<tbody>\n",
       "\t<tr><td>observed                  </td><td>/mnt/lab_data2/anusri/chrombpnet/results/chrombpnet/DNASE_PE/HEPG2/data/HEPG2_unstranded.bw                                                 </td><td>FALSE</td><td>None</td><td>None</td><td>single</td><td>None     </td><td>None</td><td>10  </td><td>FF8247</td></tr>\n",
       "\t<tr><td>uncorrected \\n prediction</td><td>/oak/stanford/groups/akundaje/projects/chromatin-atlas-2022/chrombpnet/folds/DNASE/HEPG2/merge_folds_new/predictions_all_jan_2024_w_bias.bw </td><td>FALSE</td><td>None</td><td>None</td><td>single</td><td>None     </td><td>None</td><td>8   </td><td>FF8247</td></tr>\n",
       "\t<tr><td>corrected \\n prediction  </td><td>/oak/stanford/groups/akundaje/projects/chromatin-atlas-2022/chrombpnet/folds/DNASE/HEPG2/merge_folds_new/predictions_all_jan_2024_wo_bias.bw</td><td>FALSE</td><td>None</td><td>None</td><td>single</td><td>None     </td><td>None</td><td>7   </td><td>FF8247</td></tr>\n",
       "\t<tr><td>counts contib             </td><td>/oak/stanford/groups/akundaje/projects/chromatin-atlas-2022/chrombpnet/folds/DNASE/HEPG2/merge_folds_new/HEPG2_folds_merged.counts_scores.bw</td><td>FALSE</td><td>None</td><td>None</td><td>dynseq</td><td>-0.010498</td><td>0.15</td><td>None</td><td>None  </td></tr>\n",
       "</tbody>\n",
       "</table>\n"
      ],
      "text/latex": [
       "A data.frame: 4 × 10\n",
       "\\begin{tabular}{llllllllll}\n",
       " sample & path & normalize & normalization\\_region & normalization\\_file & type & Min & Max & Scale & Color\\\\\n",
       " <chr> & <chr> & <lgl> & <chr> & <chr> & <chr> & <chr> & <chr> & <chr> & <chr>\\\\\n",
       "\\hline\n",
       "\t observed                   & /mnt/lab\\_data2/anusri/chrombpnet/results/chrombpnet/DNASE\\_PE/HEPG2/data/HEPG2\\_unstranded.bw                                                  & FALSE & None & None & single & None      & None & 10   & FF8247\\\\\n",
       "\t uncorrected \\textbackslash{}n prediction & /oak/stanford/groups/akundaje/projects/chromatin-atlas-2022/chrombpnet/folds/DNASE/HEPG2/merge\\_folds\\_new/predictions\\_all\\_jan\\_2024\\_w\\_bias.bw  & FALSE & None & None & single & None      & None & 8    & FF8247\\\\\n",
       "\t corrected \\textbackslash{}n prediction   & /oak/stanford/groups/akundaje/projects/chromatin-atlas-2022/chrombpnet/folds/DNASE/HEPG2/merge\\_folds\\_new/predictions\\_all\\_jan\\_2024\\_wo\\_bias.bw & FALSE & None & None & single & None      & None & 7    & FF8247\\\\\n",
       "\t counts contib              & /oak/stanford/groups/akundaje/projects/chromatin-atlas-2022/chrombpnet/folds/DNASE/HEPG2/merge\\_folds\\_new/HEPG2\\_folds\\_merged.counts\\_scores.bw & FALSE & None & None & dynseq & -0.010498 & 0.15 & None & None  \\\\\n",
       "\\end{tabular}\n"
      ],
      "text/markdown": [
       "\n",
       "A data.frame: 4 × 10\n",
       "\n",
       "| sample &lt;chr&gt; | path &lt;chr&gt; | normalize &lt;lgl&gt; | normalization_region &lt;chr&gt; | normalization_file &lt;chr&gt; | type &lt;chr&gt; | Min &lt;chr&gt; | Max &lt;chr&gt; | Scale &lt;chr&gt; | Color &lt;chr&gt; |\n",
       "|---|---|---|---|---|---|---|---|---|---|\n",
       "| observed                   | /mnt/lab_data2/anusri/chrombpnet/results/chrombpnet/DNASE_PE/HEPG2/data/HEPG2_unstranded.bw                                                  | FALSE | None | None | single | None      | None | 10   | FF8247 |\n",
       "| uncorrected \\n prediction | /oak/stanford/groups/akundaje/projects/chromatin-atlas-2022/chrombpnet/folds/DNASE/HEPG2/merge_folds_new/predictions_all_jan_2024_w_bias.bw  | FALSE | None | None | single | None      | None | 8    | FF8247 |\n",
       "| corrected \\n prediction   | /oak/stanford/groups/akundaje/projects/chromatin-atlas-2022/chrombpnet/folds/DNASE/HEPG2/merge_folds_new/predictions_all_jan_2024_wo_bias.bw | FALSE | None | None | single | None      | None | 7    | FF8247 |\n",
       "| counts contib              | /oak/stanford/groups/akundaje/projects/chromatin-atlas-2022/chrombpnet/folds/DNASE/HEPG2/merge_folds_new/HEPG2_folds_merged.counts_scores.bw | FALSE | None | None | dynseq | -0.010498 | 0.15 | None | None   |\n",
       "\n"
      ],
      "text/plain": [
       "  sample                    \n",
       "1 observed                  \n",
       "2 uncorrected \\\\n prediction\n",
       "3 corrected \\\\n prediction  \n",
       "4 counts contib             \n",
       "  path                                                                                                                                        \n",
       "1 /mnt/lab_data2/anusri/chrombpnet/results/chrombpnet/DNASE_PE/HEPG2/data/HEPG2_unstranded.bw                                                 \n",
       "2 /oak/stanford/groups/akundaje/projects/chromatin-atlas-2022/chrombpnet/folds/DNASE/HEPG2/merge_folds_new/predictions_all_jan_2024_w_bias.bw \n",
       "3 /oak/stanford/groups/akundaje/projects/chromatin-atlas-2022/chrombpnet/folds/DNASE/HEPG2/merge_folds_new/predictions_all_jan_2024_wo_bias.bw\n",
       "4 /oak/stanford/groups/akundaje/projects/chromatin-atlas-2022/chrombpnet/folds/DNASE/HEPG2/merge_folds_new/HEPG2_folds_merged.counts_scores.bw\n",
       "  normalize normalization_region normalization_file type   Min       Max  Scale\n",
       "1 FALSE     None                 None               single None      None 10   \n",
       "2 FALSE     None                 None               single None      None 8    \n",
       "3 FALSE     None                 None               single None      None 7    \n",
       "4 FALSE     None                 None               dynseq -0.010498 0.15 None \n",
       "  Color \n",
       "1 FF8247\n",
       "2 FF8247\n",
       "3 FF8247\n",
       "4 None  "
      ]
     },
     "metadata": {},
     "output_type": "display_data"
    }
   ],
   "source": [
    "config = read.table(\"./configs/config_main_locus_new_dnase.tsv\", header=T, stringsAsFactors=F, sep='\\t')\n",
    "#config = read.table(\"./configs/config_supp_gm.tsv\", header=T, stringsAsFactors=F, sep='\\t')\n",
    "\n",
    "\n",
    "config"
   ]
  },
  {
   "cell_type": "code",
   "execution_count": 14,
   "metadata": {},
   "outputs": [
    {
     "data": {
      "text/html": [
       "'gene_hep_LDLR_chr19:11053525-11053769_dnase.pdf'"
      ],
      "text/latex": [
       "'gene\\_hep\\_LDLR\\_chr19:11053525-11053769\\_dnase.pdf'"
      ],
      "text/markdown": [
       "'gene_hep_LDLR_chr19:11053525-11053769_dnase.pdf'"
      ],
      "text/plain": [
       "[1] \"gene_hep_LDLR_chr19:11053525-11053769_dnase.pdf\""
      ]
     },
     "metadata": {},
     "output_type": "display_data"
    }
   ],
   "source": [
    "range=\"chr19:11053550-11053800\"\n",
    "range=\"chr19:11053525-11053769\"\n",
    "\n",
    "#range=\"chr19:49896991-49897200\"\n",
    "cellline=\"gene_hep_LDLR\"\n",
    "#11089362-11053476-35K\n",
    "\n",
    "#range=\"chr8:89984200-89984423\"\n",
    "#cellline=\"NBN_gene_gm12878\"\n",
    "\n",
    "#range=\"chr3:179347619-179347750\"\n",
    "#cellline=\"MFN1_gene_gm12878\"\n",
    "\n",
    "#range=\"chr3:179322795-179322961\"\n",
    "#cellline=\"ZNF639_gene_gm12878\"\n",
    "\n",
    "#range=\"chr16:67393480-67393708\"\n",
    "#cellline=\"TPPP3_gene_gm12878\"\n",
    "\n",
    "\n",
    "file_name = paste(paste(cellline,range,sep=\"_\"),\"_dnase.pdf\",sep=\"\")\n",
    "file_name"
   ]
  },
  {
   "cell_type": "code",
   "execution_count": 15,
   "metadata": {
    "scrolled": false
   },
   "outputs": [
    {
     "name": "stdout",
     "output_type": "stream",
     "text": [
      "[1] \"observed\"\n",
      "[1] \"uncorrected \\\\n prediction\"\n"
     ]
    },
    {
     "name": "stderr",
     "output_type": "stream",
     "text": [
      "Warning message in seqinfo(con):\n",
      "“No such file or directory\n",
      "mustOpenFd: Can't open /oak/stanford/groups/akundaje/projects/chromatin-atlas-2022/chrombpnet/folds/DNASE/HEPG2/merge_folds_new/predictions_all_jan_2024_w_bias.bw to read”\n"
     ]
    },
    {
     "ename": "ERROR",
     "evalue": "Error in h(simpleError(msg, call)): error in evaluating the argument 'x' in selecting a method for function 'as.matrix': UCSC library operation failed\n",
     "output_type": "error",
     "traceback": [
      "Error in h(simpleError(msg, call)): error in evaluating the argument 'x' in selecting a method for function 'as.matrix': UCSC library operation failed\nTraceback:\n",
      "1. plot_single(config$path[i], region, config$sample[i], col = paste(\"#\", \n .     config$Color[i], sep = \"\"), normalization_value = as.double(config$Scale[i]), \n .     normalize = config$normalize[i], normalization_region = config$normalization_region[i], \n .     normalization_file = config$normalization_file[i])",
      "2. as.vector(get_matrix_from_bigwig(bigwig_path, region))",
      "3. get_matrix_from_bigwig(bigwig_path, region)",
      "4. as.matrix(import(bigwig_path, which = peak_set, as = \"NumericList\"))",
      "5. import(bigwig_path, which = peak_set, as = \"NumericList\")",
      "6. import(bigwig_path, which = peak_set, as = \"NumericList\")",
      "7. import(FileForFormat(con), ...)",
      "8. import(FileForFormat(con), ...)",
      "9. .local(con, format, text, ...)",
      "10. seqinfo(con)",
      "11. seqinfo(con)",
      "12. .handleSimpleError(function (cond) \n  . .Internal(C_tryCatchHelper(addr, 1L, cond)), \"UCSC library operation failed\", \n  .     base::quote(seqinfo(con)))",
      "13. h(simpleError(msg, call))",
      "14. .handleSimpleError(function (cnd) \n  . {\n  .     watcher$capture_plot_and_output()\n  .     cnd <- sanitize_call(cnd)\n  .     watcher$push(cnd)\n  .     switch(on_error, continue = invokeRestart(\"eval_continue\"), \n  .         stop = invokeRestart(\"eval_stop\"), error = invokeRestart(\"eval_error\", \n  .             cnd))\n  . }, \"error in evaluating the argument 'x' in selecting a method for function 'as.matrix': UCSC library operation failed\", \n  .     base::quote(h(simpleError(msg, call))))"
     ]
    }
   ],
   "source": [
    "REGION = GRanges(range)\n",
    "\n",
    "options(repr.plot.width = 20, repr.plot.height = nrow(config))\n",
    "\n",
    "p = generate_plots(config, REGION, genome)\n",
    "\n",
    "p\n",
    "ggsave(paste(\"subfigs/\",file_name,sep=\"\"), p, height=nrow(config), width=20, useDingbats=F)\n"
   ]
  },
  {
   "cell_type": "code",
   "execution_count": null,
   "metadata": {
    "scrolled": false
   },
   "outputs": [],
   "source": []
  },
  {
   "cell_type": "markdown",
   "metadata": {},
   "source": []
  },
  {
   "cell_type": "code",
   "execution_count": 50,
   "metadata": {},
   "outputs": [],
   "source": [
    "#wrap_plots(ggplot() + theme_void() + annotate(\"segment\", x=0, xend=0, y=0, yend=0.25),p,heights=c(10,10),widths=c(1,20),ncol=2)\n"
   ]
  },
  {
   "cell_type": "code",
   "execution_count": null,
   "metadata": {},
   "outputs": [],
   "source": []
  },
  {
   "cell_type": "code",
   "execution_count": 17,
   "metadata": {},
   "outputs": [
    {
     "data": {
      "text/plain": [
       "R version 4.0.3 (2020-10-10)\n",
       "Platform: x86_64-pc-linux-gnu (64-bit)\n",
       "Running under: Ubuntu 18.04.6 LTS\n",
       "\n",
       "Matrix products: default\n",
       "BLAS:   /usr/lib/x86_64-linux-gnu/libf77blas.so.3.10.3\n",
       "LAPACK: /usr/lib/x86_64-linux-gnu/atlas/liblapack.so.3.10.3\n",
       "\n",
       "locale:\n",
       " [1] LC_CTYPE=en_US.UTF-8       LC_NUMERIC=C              \n",
       " [3] LC_TIME=en_US.UTF-8        LC_COLLATE=en_US.UTF-8    \n",
       " [5] LC_MONETARY=en_US.UTF-8    LC_MESSAGES=C             \n",
       " [7] LC_PAPER=en_US.UTF-8       LC_NAME=C                 \n",
       " [9] LC_ADDRESS=C               LC_TELEPHONE=C            \n",
       "[11] LC_MEASUREMENT=en_US.UTF-8 LC_IDENTIFICATION=C       \n",
       "\n",
       "attached base packages:\n",
       "[1] parallel  stats4    stats     graphics  grDevices utils     datasets \n",
       "[8] methods   base     \n",
       "\n",
       "other attached packages:\n",
       " [1] BSgenome.Hsapiens.UCSC.hg38_1.4.3 BSgenome_1.58.0                  \n",
       " [3] Biostrings_2.58.0                 XVector_0.30.0                   \n",
       " [5] dplyr_1.0.10                      magrittr_2.0.3                   \n",
       " [7] readr_2.1.2                       patchwork_1.1.2                  \n",
       " [9] rtracklayer_1.50.0                GenomicRanges_1.42.0             \n",
       "[11] GenomeInfoDb_1.26.7               IRanges_2.24.1                   \n",
       "[13] S4Vectors_0.28.1                  BiocGenerics_0.36.1              \n",
       "[15] ggseqlogo_0.1                     ggplot2_3.3.6                    \n",
       "\n",
       "loaded via a namespace (and not attached):\n",
       " [1] lattice_0.20-45             Rsamtools_2.6.0            \n",
       " [3] assertthat_0.2.1            digest_0.6.30              \n",
       " [5] utf8_1.2.2                  IRdisplay_1.1              \n",
       " [7] R6_2.5.1                    repr_1.1.4                 \n",
       " [9] evaluate_0.17               pillar_1.8.1               \n",
       "[11] zlibbioc_1.36.0             rlang_1.0.6                \n",
       "[13] uuid_1.0-4                  Matrix_1.5-1               \n",
       "[15] labeling_0.4.2              BiocParallel_1.24.1        \n",
       "[17] RCurl_1.98-1.9              munsell_0.5.0              \n",
       "[19] DelayedArray_0.16.3         compiler_4.0.3             \n",
       "[21] pkgconfig_2.0.3             base64enc_0.1-3            \n",
       "[23] htmltools_0.5.3             tidyselect_1.2.0           \n",
       "[25] SummarizedExperiment_1.20.0 tibble_3.1.8               \n",
       "[27] GenomeInfoDbData_1.2.4      matrixStats_0.62.0         \n",
       "[29] XML_3.99-0.11               fansi_1.0.3                \n",
       "[31] tzdb_0.3.0                  crayon_1.5.2               \n",
       "[33] withr_2.5.0                 GenomicAlignments_1.26.0   \n",
       "[35] bitops_1.0-7                grid_4.0.3                 \n",
       "[37] jsonlite_1.8.3              gtable_0.3.1               \n",
       "[39] lifecycle_1.0.3             DBI_1.1.3                  \n",
       "[41] scales_1.2.1                cli_3.4.1                  \n",
       "[43] farver_2.1.1                ellipsis_0.3.2             \n",
       "[45] generics_0.1.3              vctrs_0.4.1                \n",
       "[47] IRkernel_1.3                Cairo_1.6-0                \n",
       "[49] tools_4.0.3                 Biobase_2.50.0             \n",
       "[51] glue_1.6.2                  hms_1.1.2                  \n",
       "[53] MatrixGenerics_1.2.1        fastmap_1.1.0              \n",
       "[55] colorspace_2.0-3            pbdZMQ_0.3-7               "
      ]
     },
     "metadata": {},
     "output_type": "display_data"
    }
   ],
   "source": [
    "sessionInfo()"
   ]
  },
  {
   "cell_type": "code",
   "execution_count": null,
   "metadata": {},
   "outputs": [],
   "source": []
  }
 ],
 "metadata": {
  "kernelspec": {
   "display_name": "R",
   "language": "R",
   "name": "ir"
  },
  "language_info": {
   "codemirror_mode": "r",
   "file_extension": ".r",
   "mimetype": "text/x-r-source",
   "name": "R",
   "pygments_lexer": "r",
   "version": "4.0.3"
  }
 },
 "nbformat": 4,
 "nbformat_minor": 4
}
