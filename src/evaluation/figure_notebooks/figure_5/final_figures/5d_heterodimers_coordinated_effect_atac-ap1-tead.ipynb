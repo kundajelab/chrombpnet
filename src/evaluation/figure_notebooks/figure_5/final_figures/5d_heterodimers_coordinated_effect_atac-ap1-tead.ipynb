{
 "cells": [
  {
   "cell_type": "code",
   "execution_count": 31,
   "metadata": {},
   "outputs": [],
   "source": [
    "import pyBigWig\n",
    "import pandas as pd\n",
    "import numpy as np\n",
    "import deepdish as dd\n",
    "import os\n",
    "import pyfaidx\n",
    "import random\n",
    "import pickle as pkl\n",
    "import matplotlib\n",
    "matplotlib.use('Agg')\n",
    "import matplotlib.pyplot as plt\n",
    "import tensorflow as tf\n",
    "import argparse\n",
    "import json\n",
    "import one_hot as dinuc_shuffle_main\n",
    "from tensorflow.keras.utils import get_custom_objects\n",
    "from tensorflow.keras.models import load_model\n",
    "import tensorflow as tf\n",
    "import os\n",
    "os.environ[\"CUDA_DEVICE_ORDER\"]=\"PCI_BUS_ID\"   # see issue #152\n",
    "os.environ[\"CUDA_VISIBLE_DEVICES\"]=\"2\"\n",
    "%matplotlib inline\n",
    "matplotlib.rcParams['pdf.fonttype'] = 42\n",
    "matplotlib.rcParams['ps.fonttype'] = 42 "
   ]
  },
  {
   "cell_type": "code",
   "execution_count": 32,
   "metadata": {},
   "outputs": [],
   "source": [
    "regions = \"/mnt/lab_data2/anusri/chrombpnet/results/chrombpnet/DNASE_SE/IMR90/negatives_data/negatives_with_summit.bed\"\n",
    "genome = \"/mnt/lab_data2/anusri/chrombpnet/reference/hg38.genome.fa\"\n",
    "\n",
    "\n"
   ]
  },
  {
   "cell_type": "code",
   "execution_count": 33,
   "metadata": {},
   "outputs": [],
   "source": [
    "def softmax(x, temp=1):\n",
    "    norm_x = x - np.mean(x,axis=1, keepdims=True)\n",
    "    return np.exp(temp*norm_x)/np.sum(np.exp(temp*norm_x), axis=1, keepdims=True)\n",
    "\n",
    "\n",
    "def get_footprint_for_motif(seqs, motif, model, inputlen, batch_size):\n",
    "    '''\n",
    "    Returns footprints for a given motif. Motif is inserted in both the actual sequence and reverse complemented version.\n",
    "    seqs input is already assumed to be one-hot encoded. motif is in sequence format.\n",
    "    '''\n",
    "    midpoint=inputlen//2\n",
    "\n",
    "    w_mot_seqs = seqs.copy()\n",
    "    w_mot_seqs[:, midpoint-len(motif)//2:midpoint-len(motif)//2+len(motif)] =dinuc_shuffle_main.dna_to_one_hot([motif])\n",
    "\n",
    "    # midpoint of motif is the midpoint of sequence\n",
    "    pred_output=model.predict(w_mot_seqs, batch_size=batch_size, verbose=True)\n",
    "    footprint_for_motif_fwd = softmax(pred_output[0])*(np.exp(pred_output[1])-1)\n",
    "\n",
    "    # reverse complement the sequence\n",
    "    w_mot_seqs_revc = w_mot_seqs[:, ::-1, ::-1]\n",
    "    pred_output_rev=model.predict(w_mot_seqs_revc, batch_size=batch_size, verbose=True)\n",
    "    footprint_for_motif_rev = softmax(pred_output_rev[0])*(np.exp(pred_output_rev[1])-1)\n",
    "\n",
    "    # add fwd sequence predictions and reverse sesquence predictions (not we flip the rev predictions)\n",
    "    counts_for_motif = (np.exp(pred_output_rev[1]) - 1 + np.exp(pred_output[1]) - 1)/2\n",
    "    footprint_for_motif_tot = (footprint_for_motif_fwd+footprint_for_motif_rev[:,::-1])/2\n",
    "    assert(footprint_for_motif_tot.shape[0]==footprint_for_motif_fwd.shape[0])\n",
    "    footprint_for_motif =  footprint_for_motif_tot / footprint_for_motif_tot.sum(axis=1)[:, np.newaxis]\n",
    "    k_l=1000\n",
    "    # if counts_for_motif.shape[0] > k_l:\n",
    "    #     print(counts_for_motif.shape)\n",
    "    #     smallest_100 = np.argpartition(counts_for_motif[:,0], k_l)[:k_l]\n",
    "    #     return footprint_for_motif_tot[smallest_100].mean(0), counts_for_motif[smallest_100].mean(0), smallest_100\n",
    "    # else:\n",
    "    return footprint_for_motif.mean(0), counts_for_motif.mean(0), None\n",
    "\n",
    "def get_footprint_for_two_motifs(seqs, motifs, model, inputlen, batch_size, spacing):\n",
    "    '''\n",
    "    Returns footprints for a given motif. Motif is inserted in both the actual sequence and reverse complemented version.\n",
    "    seqs input is already assumed to be one-hot encoded. motif is in sequence format.\n",
    "    '''\n",
    "    midpoint=inputlen//2\n",
    "\n",
    "    spacing_per_motif = spacing // 2\n",
    "    \n",
    "    w_mot_seqs = seqs.copy()\n",
    "    \n",
    "    motif = motifs[0]\n",
    "    start = midpoint-(len(motif)//2)\n",
    "    w_mot_seqs[:, start:start+len(motif)] = dinuc_shuffle_main.dna_to_one_hot([motif])\n",
    "    print(motif,start,start+len(motif))\n",
    "    if spacing > 0:\n",
    "        spacing_per_motif = spacing \n",
    "        motif = motifs[1]\n",
    "        start = start+len(motifs[0])+spacing_per_motif \n",
    "        w_mot_seqs[:, start:start+len(motif)] = dinuc_shuffle_main.dna_to_one_hot([motif])\n",
    "    else:\n",
    "        spacing_per_motif = spacing \n",
    "        motif = motifs[1]\n",
    "        start = start + spacing_per_motif - len(motif)\n",
    "        w_mot_seqs[:, start:start+len(motif)] = dinuc_shuffle_main.dna_to_one_hot([motif])\n",
    "    \n",
    "\n",
    "    # midpoint of motif is the midpoint of sequence\n",
    "    pred_output=model.predict(w_mot_seqs, batch_size=batch_size, verbose=True)\n",
    "    footprint_for_motif_fwd = softmax(pred_output[0])*(np.exp(pred_output[1])-1)\n",
    "\n",
    "    # reverse complement the sequence\n",
    "    w_mot_seqs_revc = w_mot_seqs[:, ::-1, ::-1]\n",
    "    pred_output_rev=model.predict(w_mot_seqs_revc, batch_size=batch_size, verbose=True)\n",
    "    footprint_for_motif_rev = softmax(pred_output_rev[0])*(np.exp(pred_output_rev[1])-1)\n",
    "\n",
    "    # add fwd sequence predictions and reverse sesquence predictions (not we flip the rev predictions)\n",
    "    counts_for_motif = (np.exp(pred_output_rev[1]) - 1 + np.exp(pred_output[1]) - 1)/2\n",
    "    footprint_for_motif_tot = (footprint_for_motif_fwd+footprint_for_motif_rev[:,::-1])/2\n",
    "    assert(footprint_for_motif_tot.shape[0]==footprint_for_motif_fwd.shape[0])\n",
    "    footprint_for_motif =  footprint_for_motif_tot / footprint_for_motif_tot.sum(axis=1)[:, np.newaxis]\n",
    "\n",
    "    return footprint_for_motif.mean(0), counts_for_motif.mean(0)"
   ]
  },
  {
   "cell_type": "code",
   "execution_count": 34,
   "metadata": {},
   "outputs": [],
   "source": [
    "def get_seq(peaks_df, genome, width, shuffle=False):\n",
    "    \"\"\"\n",
    "    fetches sequence from a given genome.\n",
    "    \"\"\"\n",
    "    vals = []\n",
    "\n",
    "    for i, r in peaks_df.iterrows():\n",
    "        sequence = str(genome[r['chr']][(r['start']+r['summit'] - width//2):(r['start'] + r['summit'] + width//2)])\n",
    "        if len(sequence) == width:\n",
    "                vals.append(sequence)\n",
    "\n",
    "    return dinuc_shuffle_main.dna_to_one_hot(vals)"
   ]
  },
  {
   "cell_type": "code",
   "execution_count": null,
   "metadata": {},
   "outputs": [],
   "source": []
  },
  {
   "cell_type": "code",
   "execution_count": 35,
   "metadata": {},
   "outputs": [],
   "source": [
    "NARROWPEAK_SCHEMA = [\"chr\", \"start\", \"end\", \"1\", \"2\", \"3\", \"4\", \"5\", \"6\", \"summit\"]\n",
    "inputlen = 2114\n",
    "np.random.seed(0)\n",
    "regions_df = pd.read_csv(regions, sep='\\t', names=NARROWPEAK_SCHEMA)\n",
    "# regions_subsample = regions_df\n",
    "index_ids = np.random.choice(regions_df.shape[0], 1000, replace=False)\n",
    "regions_subsample = regions_df.iloc[index_ids].reset_index()\n",
    "\n",
    "genome_fasta = pyfaidx.Fasta(genome)\n",
    "regions_seqs = get_seq(regions_subsample, genome_fasta, inputlen)"
   ]
  },
  {
   "cell_type": "code",
   "execution_count": 36,
   "metadata": {},
   "outputs": [],
   "source": [
    "data = pd.read_csv(\"/mnt/lab_data2/anusri/chrombpnet/logs/checkpoint/JAN_02_2023/model_dir_atac.csv\",header=None)\n",
    "cell_type=\"IMR90\"\n",
    "ndata = data[data[1]==cell_type].reset_index()"
   ]
  },
  {
   "cell_type": "code",
   "execution_count": 37,
   "metadata": {},
   "outputs": [
    {
     "name": "stdout",
     "output_type": "stream",
     "text": [
      "0\n",
      "(1000, 2114, 4)\n",
      "8/8 [==============================] - 4s 472ms/step\n",
      "8/8 [==============================] - 3s 471ms/step\n",
      "1\n",
      "8/8 [==============================] - 4s 472ms/step\n",
      "8/8 [==============================] - 3s 473ms/step\n",
      "2\n",
      "8/8 [==============================] - 4s 473ms/step\n",
      "8/8 [==============================] - 3s 475ms/step\n",
      "3\n",
      "8/8 [==============================] - 5s 475ms/step\n",
      "8/8 [==============================] - 3s 475ms/step\n",
      "4\n",
      "8/8 [==============================] - 4s 477ms/step\n",
      "8/8 [==============================] - 3s 477ms/step\n"
     ]
    }
   ],
   "source": [
    "motif =  \"\"\n",
    "batch_size=128\n",
    "k_l=1000\n",
    "motifs_footprint = {}\n",
    "motifs_counts = {}\n",
    "for i,r in ndata.iterrows():\n",
    "    print(i)\n",
    "    if i==0:\n",
    "        mdl_path1 = os.path.join(r[2],\"chrombpnet_model/new_model_formats/chrombpnet_wo_bias\")\n",
    "        if not os.path.exists(mdl_path1):\n",
    "            break\n",
    "        \n",
    "        model=load_model(mdl_path1, compile=False)\n",
    "        print(regions_seqs.shape)\n",
    "        full_footprint_1 = get_footprint_for_motif(regions_seqs, motif, model, inputlen, batch_size)\n",
    "        # regions_seqs = regions_seqs[full_footprint_1[2],:,:]\n",
    "        # print(regions_seqs.shape)\n",
    "        motifs_footprint[\"control\"] = full_footprint_1[0]\n",
    "        motifs_counts[\"control\"] = full_footprint_1[1]\n",
    "    else:\n",
    "        mdl_path1 = os.path.join(r[2],\"chrombpnet_model/new_model_formats/chrombpnet_wo_bias\")\n",
    "        model=load_model(mdl_path1, compile=False)\n",
    "        full_footprint_1 = get_footprint_for_motif(regions_seqs, motif, model, inputlen, batch_size)\n",
    "        motifs_footprint[\"control\"] += full_footprint_1[0]\n",
    "        motifs_counts[\"control\"] += full_footprint_1[1]\n",
    "        assert(motifs_footprint[\"control\"].shape[0]==full_footprint_1[0].shape[0])\n",
    "        \n",
    "motifs_footprint[\"control\"] = motifs_footprint[\"control\"]/5    \n",
    "motifs_counts[\"control\"]  = motifs_counts[\"control\"] /5"
   ]
  },
  {
   "cell_type": "code",
   "execution_count": 38,
   "metadata": {},
   "outputs": [
    {
     "name": "stdout",
     "output_type": "stream",
     "text": [
      "0\n",
      "8/8 [==============================] - 4s 478ms/step\n",
      "8/8 [==============================] - 3s 479ms/step\n",
      "1\n",
      "8/8 [==============================] - 4s 481ms/step\n",
      "8/8 [==============================] - 3s 480ms/step\n",
      "2\n",
      "8/8 [==============================] - 4s 480ms/step\n",
      "8/8 [==============================] - 3s 481ms/step\n",
      "3\n",
      "8/8 [==============================] - 4s 480ms/step\n",
      "8/8 [==============================] - 3s 481ms/step\n",
      "4\n",
      "8/8 [==============================] - 4s 482ms/step\n",
      "8/8 [==============================] - 3s 482ms/step\n"
     ]
    }
   ],
   "source": [
    "motif=\"AGGAATGT\"\n",
    "batch_size=128\n",
    "\n",
    "for i,r in ndata.iterrows():\n",
    "    print(i)\n",
    "    mdl_path1 = os.path.join(r[2],\"chrombpnet_model/new_model_formats/chrombpnet_wo_bias\")\n",
    "    model=load_model(mdl_path1, compile=False)\n",
    "    full_footprint_1 = get_footprint_for_motif(regions_seqs, motif, model, inputlen, batch_size)\n",
    "    if i==0:\n",
    "        motifs_footprint[\"TEAD\"] = full_footprint_1[0]\n",
    "        motifs_counts[\"TEAD\"] = full_footprint_1[1]\n",
    "    else:\n",
    "        motifs_footprint[\"TEAD\"] += full_footprint_1[0]\n",
    "        motifs_counts[\"TEAD\"] += full_footprint_1[1]\n",
    "\n",
    "motifs_footprint[\"TEAD\"] =  motifs_footprint[\"TEAD\"] / 5\n",
    "motifs_counts[\"TEAD\"] = motifs_counts[\"TEAD\"] /5"
   ]
  },
  {
   "cell_type": "code",
   "execution_count": 39,
   "metadata": {},
   "outputs": [
    {
     "name": "stdout",
     "output_type": "stream",
     "text": [
      "0\n",
      "8/8 [==============================] - 4s 482ms/step\n",
      "8/8 [==============================] - 3s 480ms/step\n",
      "1\n",
      "8/8 [==============================] - 4s 486ms/step\n",
      "8/8 [==============================] - 3s 483ms/step\n",
      "2\n",
      "8/8 [==============================] - 4s 483ms/step\n",
      "8/8 [==============================] - 3s 483ms/step\n",
      "3\n",
      "8/8 [==============================] - 4s 486ms/step\n",
      "8/8 [==============================] - 3s 483ms/step\n",
      "4\n",
      "8/8 [==============================] - 4s 486ms/step\n",
      "8/8 [==============================] - 3s 485ms/step\n"
     ]
    }
   ],
   "source": [
    "motif = \"TTGACTCA\"\n",
    "batch_size=128\n",
    "\n",
    "for i,r in ndata.iterrows():\n",
    "    print(i)\n",
    "    mdl_path1 = os.path.join(r[2],\"chrombpnet_model/new_model_formats/chrombpnet_wo_bias\")\n",
    "    model=load_model(mdl_path1, compile=False)\n",
    "    full_footprint_1 = get_footprint_for_motif(regions_seqs, motif, model, inputlen, batch_size)\n",
    "    if i==0:\n",
    "        motifs_footprint[\"AP1\"] = full_footprint_1[0]\n",
    "        motifs_counts[\"AP1\"] = full_footprint_1[1]\n",
    "    else:\n",
    "        motifs_footprint[\"AP1\"] += full_footprint_1[0]\n",
    "        motifs_counts[\"AP1\"] += full_footprint_1[1]\n",
    "\n",
    "motifs_footprint[\"AP1\"] =  motifs_footprint[\"AP1\"] / 5\n",
    "motifs_counts[\"AP1\"] = motifs_counts[\"AP1\"] / 5"
   ]
  },
  {
   "cell_type": "code",
   "execution_count": 40,
   "metadata": {},
   "outputs": [
    {
     "name": "stdout",
     "output_type": "stream",
     "text": [
      "0\n",
      "AGGAATGT 1053 1061\n",
      "8/8 [==============================] - 4s 485ms/step\n",
      "8/8 [==============================] - 3s 485ms/step\n",
      "1\n",
      "AGGAATGT 1053 1061\n",
      "8/8 [==============================] - 4s 486ms/step\n",
      "8/8 [==============================] - 3s 484ms/step\n",
      "2\n",
      "AGGAATGT 1053 1061\n",
      "8/8 [==============================] - 4s 485ms/step\n",
      "8/8 [==============================] - 3s 485ms/step\n",
      "3\n",
      "AGGAATGT 1053 1061\n",
      "8/8 [==============================] - 4s 485ms/step\n",
      "8/8 [==============================] - 3s 485ms/step\n",
      "4\n",
      "AGGAATGT 1053 1061\n",
      "8/8 [==============================] - 4s 487ms/step\n",
      "8/8 [==============================] - 3s 486ms/step\n"
     ]
    }
   ],
   "source": [
    "\n",
    "motifs = [\"AGGAATGT\",\"TTGACTCA\"]\n",
    "\n",
    "batch_size=128\n",
    "for i,r in ndata.iterrows():\n",
    "    print(i)\n",
    "    mdl_path1 = os.path.join(r[2],\"chrombpnet_model/new_model_formats/chrombpnet_wo_bias\")\n",
    "    model=load_model(mdl_path1, compile=False)\n",
    "    full_footprint_1 = get_footprint_for_two_motifs(regions_seqs, motifs, model, inputlen, batch_size, spacing=-6)\n",
    "    if i==0:\n",
    "        motifs_footprint[\"AP1-TEAD\"] = full_footprint_1[0]\n",
    "        motifs_counts[\"AP1-TEAD\"] = full_footprint_1[1]\n",
    "    else:\n",
    "        motifs_footprint[\"AP1-TEAD\"] += full_footprint_1[0]\n",
    "        motifs_counts[\"AP1-TEAD\"] += full_footprint_1[1]\n",
    "\n",
    "motifs_footprint[\"AP1-TEAD\"] =  motifs_footprint[\"AP1-TEAD\"] / 5\n",
    "motifs_counts[\"AP1-TEAD\"] = motifs_counts[\"AP1-TEAD\"] / 5\n"
   ]
  },
  {
   "cell_type": "code",
   "execution_count": 41,
   "metadata": {},
   "outputs": [
    {
     "name": "stdout",
     "output_type": "stream",
     "text": [
      "[204.67923]\n"
     ]
    },
    {
     "data": {
      "image/png": "[encoded data removed]",
      "text/plain": [
       "<Figure size 800x500 with 1 Axes>"
      ]
     },
     "metadata": {},
     "output_type": "display_data"
    }
   ],
   "source": [
    "matplotlib.rcParams['pdf.fonttype'] = 42\n",
    "matplotlib.rcParams['ps.fonttype'] = 42 \n",
    "\n",
    "motifs_footprint[\"AP1-TEAD\"] = motifs_footprint[\"AP1-TEAD\"] / np.sum(motifs_footprint[\"AP1-TEAD\"])\n",
    "motifs_footprint[\"AP1\"] = motifs_footprint[\"AP1\"] / np.sum(motifs_footprint[\"AP1\"])\n",
    "motifs_footprint[\"TEAD\"] = motifs_footprint[\"TEAD\"] / np.sum(motifs_footprint[\"TEAD\"])\n",
    "motifs_footprint[\"control\"] = motifs_footprint[\"control\"] / np.sum(motifs_footprint[\"control\"])\n",
    "\n",
    "motifs_footprint[\"AP1-TEAD\"] = motifs_footprint[\"AP1-TEAD\"]*motifs_counts[\"AP1-TEAD\"] \n",
    "motifs_footprint[\"AP1\"] = motifs_footprint[\"AP1\"]*motifs_counts[\"AP1\"] \n",
    "motifs_footprint[\"TEAD\"] = motifs_footprint[\"TEAD\"]*motifs_counts[\"TEAD\"] \n",
    "motifs_footprint[\"control\"] = motifs_footprint[\"control\"]*motifs_counts[\"control\"] \n",
    "\n",
    "print(motifs_counts[\"AP1-TEAD\"])\n",
    "\n",
    "\n",
    "fig, ax = plt.subplots(figsize=(8,5))\n",
    "ax.plot(motifs_footprint[\"AP1-TEAD\"][400:600], label=\"AP1-TEAD-heterodimer\", c = \"green\")\n",
    "ax.plot(motifs_footprint[\"AP1\"][400:600]+motifs_footprint[\"TEAD\"][400:600], label=\"AP1+TEAD\", c = \"brown\")\n",
    "ax.plot(motifs_footprint[\"AP1\"][400:600], label=\"AP1-only\", c = \"red\", alpha=1)\n",
    "ax.plot(motifs_footprint[\"TEAD\"][400:600], label=\"TEAD-only\", c = \"blue\", alpha=1)\n",
    "ax.plot(motifs_footprint[\"control\"][400:600], label=\"background\", c = \"black\", alpha=1)\n",
    "ax.set_xlabel(\"200bp surrounding motif insertion site\")\n",
    "ax.set_ylabel(\"Total counts\")\n",
    "ax.spines['top'].set_visible(False)\n",
    "ax.spines['right'].set_visible(False)\n",
    "\n",
    "#plt.ylim((0,2.5))\n",
    "ax.legend(loc=\"upper right\")\n",
    "\n",
    "plt.savefig(\"subfigs/ap1_tead_coord_effect_plot_atac.pdf\", transparent=True, dpi=300)\n"
   ]
  },
  {
   "cell_type": "code",
   "execution_count": null,
   "metadata": {},
   "outputs": [],
   "source": []
  },
  {
   "cell_type": "code",
   "execution_count": null,
   "metadata": {},
   "outputs": [],
   "source": []
  },
  {
   "cell_type": "code",
   "execution_count": null,
   "metadata": {},
   "outputs": [],
   "source": []
  }
 ],
 "metadata": {
  "kernelspec": {
   "display_name": "Python 3 (ipykernel)",
   "language": "python",
   "name": "python3"
  },
  "language_info": {
   "codemirror_mode": {
    "name": "ipython",
    "version": 3
   },
   "file_extension": ".py",
   "mimetype": "text/x-python",
   "name": "python",
   "nbconvert_exporter": "python",
   "pygments_lexer": "ipython3",
   "version": "3.8.16"
  }
 },
 "nbformat": 4,
 "nbformat_minor": 4
}
