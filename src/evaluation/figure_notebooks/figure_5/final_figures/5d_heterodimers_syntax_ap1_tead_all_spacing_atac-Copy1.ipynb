{
 "cells": [
  {
   "cell_type": "code",
   "execution_count": 1,
   "metadata": {},
   "outputs": [],
   "source": [
    "import pyBigWig\n",
    "import pandas as pd\n",
    "import numpy as np\n",
    "import deepdish as dd\n",
    "import os\n",
    "import pyfaidx\n",
    "import random\n",
    "import pickle as pkl\n",
    "import matplotlib\n",
    "matplotlib.use('Agg')\n",
    "import matplotlib.pyplot as plt\n",
    "import tensorflow as tf\n",
    "import argparse\n",
    "import json\n",
    "import one_hot as dinuc_shuffle_main\n",
    "from tensorflow.keras.utils import get_custom_objects\n",
    "from tensorflow.keras.models import load_model\n",
    "import tensorflow as tf\n",
    "import os\n",
    "os.environ[\"CUDA_DEVICE_ORDER\"]=\"PCI_BUS_ID\"   # see issue #152\n",
    "os.environ[\"CUDA_VISIBLE_DEVICES\"]=\"1\"\n",
    "%matplotlib inline\n",
    "matplotlib.rcParams['pdf.fonttype'] = 42\n",
    "matplotlib.rcParams['ps.fonttype'] = 42 "
   ]
  },
  {
   "cell_type": "code",
   "execution_count": 2,
   "metadata": {},
   "outputs": [],
   "source": [
    "regions = \"/mnt/lab_data2/anusri/chrombpnet/results/chrombpnet/DNASE_SE/IMR90/negatives_data/negatives_with_summit.bed\"\n",
    "genome = \"/mnt/lab_data2/anusri/chrombpnet/reference/hg38.genome.fa\""
   ]
  },
  {
   "cell_type": "code",
   "execution_count": 3,
   "metadata": {},
   "outputs": [],
   "source": [
    "def softmax(x, temp=1):\n",
    "    norm_x = x - np.mean(x,axis=1, keepdims=True)\n",
    "    return np.exp(temp*norm_x)/np.sum(np.exp(temp*norm_x), axis=1, keepdims=True)\n",
    "\n",
    "\n",
    "def get_footprint_for_motif(seqs, motif, model, inputlen, batch_size):\n",
    "    '''\n",
    "    Returns footprints for a given motif. Motif is inserted in both the actual sequence and reverse complemented version.\n",
    "    seqs input is already assumed to be one-hot encoded. motif is in sequence format.\n",
    "    '''\n",
    "    midpoint=inputlen//2\n",
    "\n",
    "    w_mot_seqs = seqs.copy()\n",
    "    w_mot_seqs[:, midpoint-len(motif)//2:midpoint-len(motif)//2+len(motif)] =dinuc_shuffle_main.dna_to_one_hot([motif])\n",
    "\n",
    "    # midpoint of motif is the midpoint of sequence\n",
    "    pred_output=model.predict(w_mot_seqs, batch_size=batch_size, verbose=True)\n",
    "    footprint_for_motif_fwd = softmax(pred_output[0])*(np.exp(pred_output[1])-1)\n",
    "\n",
    "    # reverse complement the sequence\n",
    "    w_mot_seqs_revc = w_mot_seqs[:, ::-1, ::-1]\n",
    "    pred_output_rev=model.predict(w_mot_seqs_revc, batch_size=batch_size, verbose=True)\n",
    "    footprint_for_motif_rev = softmax(pred_output_rev[0])*(np.exp(pred_output_rev[1])-1)\n",
    "\n",
    "    # add fwd sequence predictions and reverse sesquence predictions (not we flip the rev predictions)\n",
    "    counts_for_motif = (np.exp(pred_output_rev[1]) - 1 + np.exp(pred_output[1]) - 1)/2\n",
    "    footprint_for_motif_tot = (footprint_for_motif_fwd+footprint_for_motif_rev[:,::-1])/2\n",
    "    footprint_for_motif =  footprint_for_motif_tot / footprint_for_motif_tot.sum(axis=1)[:, np.newaxis]\n",
    "    k_l=1000\n",
    "    # if counts_for_motif.shape[0] > k_l:\n",
    "    #     print(counts_for_motif.shape)\n",
    "    #     smallest_100 = np.argpartition(counts_for_motif[:,0], k_l)[:k_l]\n",
    "    #     return footprint_for_motif_tot[smallest_100].mean(0), counts_for_motif[smallest_100].mean(0), smallest_100\n",
    "    # else:\n",
    "    return footprint_for_motif.mean(0), counts_for_motif.mean(0), None\n",
    "\n",
    "def get_footprint_for_two_motifs(seqs, motifs, model, inputlen, batch_size, spacing):\n",
    "    '''\n",
    "    Returns footprints for a given motif. Motif is inserted in both the actual sequence and reverse complemented version.\n",
    "    seqs input is already assumed to be one-hot encoded. motif is in sequence format.\n",
    "    '''\n",
    "    midpoint=inputlen//2\n",
    "\n",
    "    spacing_per_motif = spacing // 2\n",
    "    \n",
    "    w_mot_seqs = seqs.copy()\n",
    "    \n",
    "    motif = motifs[0]\n",
    "    start = midpoint-(len(motif)//2)\n",
    "    w_mot_seqs[:, start:start+len(motif)] = dinuc_shuffle_main.dna_to_one_hot([motif])\n",
    "    print(motif,start,start+len(motif))\n",
    "    if spacing > 0:\n",
    "        spacing_per_motif = spacing \n",
    "        motif = motifs[1]\n",
    "        start = start+len(motifs[0])+spacing_per_motif \n",
    "        w_mot_seqs[:, start:start+len(motif)] = dinuc_shuffle_main.dna_to_one_hot([motif])\n",
    "    else:\n",
    "        spacing_per_motif = spacing \n",
    "        motif = motifs[1]\n",
    "        start = start + spacing_per_motif - len(motif)\n",
    "        w_mot_seqs[:, start:start+len(motif)] = dinuc_shuffle_main.dna_to_one_hot([motif])\n",
    "    \n",
    "\n",
    "    # midpoint of motif is the midpoint of sequence\n",
    "    pred_output=model.predict(w_mot_seqs, batch_size=batch_size, verbose=True)\n",
    "    footprint_for_motif_fwd = softmax(pred_output[0])*(np.exp(pred_output[1])-1)\n",
    "\n",
    "    # reverse complement the sequence\n",
    "    w_mot_seqs_revc = w_mot_seqs[:, ::-1, ::-1]\n",
    "    pred_output_rev=model.predict(w_mot_seqs_revc, batch_size=batch_size, verbose=True)\n",
    "    footprint_for_motif_rev = softmax(pred_output_rev[0])*(np.exp(pred_output_rev[1])-1)\n",
    "\n",
    "    # add fwd sequence predictions and reverse sesquence predictions (not we flip the rev predictions)\n",
    "    counts_for_motif = (np.exp(pred_output_rev[1]) - 1 + np.exp(pred_output[1]) - 1)/2\n",
    "    footprint_for_motif_tot = (footprint_for_motif_fwd+footprint_for_motif_rev[:,::-1])/2\n",
    "    footprint_for_motif =  footprint_for_motif_tot / footprint_for_motif_tot.sum(axis=1)[:, np.newaxis]\n",
    "\n",
    "    return footprint_for_motif.mean(0), counts_for_motif.mean(0)"
   ]
  },
  {
   "cell_type": "code",
   "execution_count": 4,
   "metadata": {},
   "outputs": [],
   "source": [
    "def get_seq(peaks_df, genome, width, shuffle=False):\n",
    "    \"\"\"\n",
    "    fetches sequence from a given genome.\n",
    "    \"\"\"\n",
    "    vals = []\n",
    "\n",
    "    for i, r in peaks_df.iterrows():\n",
    "        sequence = str(genome[r['chr']][(r['start']+r['summit'] - width//2):(r['start'] + r['summit'] + width//2)])\n",
    "        if len(sequence) == width:\n",
    "                vals.append(sequence)\n",
    "\n",
    "    return dinuc_shuffle_main.dna_to_one_hot(vals)"
   ]
  },
  {
   "cell_type": "code",
   "execution_count": 5,
   "metadata": {},
   "outputs": [],
   "source": [
    "NARROWPEAK_SCHEMA = [\"chr\", \"start\", \"end\", \"1\", \"2\", \"3\", \"4\", \"5\", \"6\", \"summit\"]\n",
    "inputlen = 2114\n",
    "np.random.seed(0)\n",
    "regions_df = pd.read_csv(regions, sep='\\t', names=NARROWPEAK_SCHEMA)\n",
    "# regions_subsample = regions_df\n",
    "index_ids = np.random.choice(regions_df.shape[0], 100, replace=False)\n",
    "regions_subsample = regions_df.iloc[index_ids].reset_index()\n",
    "\n",
    "genome_fasta = pyfaidx.Fasta(genome)\n",
    "regions_seqs = get_seq(regions_subsample, genome_fasta, inputlen)"
   ]
  },
  {
   "cell_type": "code",
   "execution_count": 6,
   "metadata": {},
   "outputs": [],
   "source": [
    "#data = pd.read_csv(\"/mnt/lab_data2/anusri/chrombpnet/logs/checkpoint/JAN_02_2023/model_dir_dnase.csv\",header=None)\n",
    "data = pd.read_csv(\"/mnt/lab_data2/anusri/chrombpnet/logs/checkpoint/JAN_02_2023/v1/model_dir_dnase_v2.csv\",header=None)\n",
    "\n",
    "cell_type=\"IMR90\"\n",
    "ndata = data[data[1]==cell_type].reset_index()"
   ]
  },
  {
   "cell_type": "code",
   "execution_count": 7,
   "metadata": {},
   "outputs": [
    {
     "name": "stdout",
     "output_type": "stream",
     "text": [
      "0\n",
      "/mnt/lab_data2/anusri/chrombpnet/results/chrombpnet/DNASE_SE/IMR90/DNASE_SE_05.07.2024_fold_0_hep_bias_transfer/new_model_formats_may_7_24_vf/chrombpnet_wo_bias\n",
      "/mnt/lab_data2/anusri/chrombpnet/results/chrombpnet/DNASE_SE/IMR90/DNASE_SE_05.07.2024_fold_0_hep_bias_transfer/new_model_formats_may_7_24_vf/chrombpnet_wo_bias\n"
     ]
    },
    {
     "name": "stderr",
     "output_type": "stream",
     "text": [
      "2024-10-26 00:42:34.318616: I tensorflow/core/platform/cpu_feature_guard.cc:151] This TensorFlow binary is optimized with oneAPI Deep Neural Network Library (oneDNN) to use the following CPU instructions in performance-critical operations:  AVX2 AVX512F FMA\n",
      "To enable them in other operations, rebuild TensorFlow with the appropriate compiler flags.\n",
      "2024-10-26 00:42:35.068963: I tensorflow/core/common_runtime/gpu/gpu_device.cc:1525] Created device /job:localhost/replica:0/task:0/device:GPU:0 with 11425 MB memory:  -> device: 0, name: NVIDIA TITAN Xp, pci bus id: 0000:5e:00.0, compute capability: 6.1\n"
     ]
    },
    {
     "name": "stdout",
     "output_type": "stream",
     "text": [
      "(100, 2114, 4)\n"
     ]
    },
    {
     "name": "stderr",
     "output_type": "stream",
     "text": [
      "2024-10-26 00:42:37.171584: I tensorflow/stream_executor/cuda/cuda_dnn.cc:368] Loaded cuDNN version 8100\n"
     ]
    },
    {
     "name": "stdout",
     "output_type": "stream",
     "text": [
      "1/1 [==============================] - 3s 3s/step\n",
      "1/1 [==============================] - 0s 36ms/step\n",
      "1\n",
      "1/1 [==============================] - 0s 246ms/step\n",
      "1/1 [==============================] - 0s 50ms/step\n",
      "2\n",
      "1/1 [==============================] - 0s 260ms/step\n",
      "1/1 [==============================] - 0s 32ms/step\n",
      "3\n",
      "1/1 [==============================] - 0s 261ms/step\n",
      "1/1 [==============================] - 0s 33ms/step\n",
      "4\n",
      "WARNING:tensorflow:5 out of the last 9 calls to <function Model.make_predict_function.<locals>.predict_function at 0x7fee401d8040> triggered tf.function retracing. Tracing is expensive and the excessive number of tracings could be due to (1) creating @tf.function repeatedly in a loop, (2) passing tensors with different shapes, (3) passing Python objects instead of tensors. For (1), please define your @tf.function outside of the loop. For (2), @tf.function has experimental_relax_shapes=True option that relaxes argument shapes that can avoid unnecessary retracing. For (3), please refer to https://www.tensorflow.org/guide/function#controlling_retracing and https://www.tensorflow.org/api_docs/python/tf/function for  more details.\n",
      "1/1 [==============================] - 0s 248ms/step\n",
      "1/1 [==============================] - 0s 31ms/step\n"
     ]
    }
   ],
   "source": [
    "motif =  \"\"\n",
    "batch_size=128\n",
    "k_l=100\n",
    "motifs_footprint = {}\n",
    "motifs_counts = {} \n",
    "for i,r in ndata.iterrows():\n",
    "    print(i)\n",
    "    if i==0:\n",
    "        mdl_path1 = os.path.join(r[2],\"new_model_formats_may_7_24_vf/chrombpnet_wo_bias\")\n",
    "        print(mdl_path1)\n",
    "        if not os.path.exists(mdl_path1):\n",
    "            mdl_path1 = os.path.join(r[2],\"chrombpnet_model/chrombpnet_wo_bias.h5\")\n",
    "            if not os.path.exists(mdl_path1):\n",
    "                break \n",
    "        print(mdl_path1)\n",
    "        model=load_model(mdl_path1, compile=False)\n",
    "        print(regions_seqs.shape)\n",
    "        full_footprint_1 = get_footprint_for_motif(regions_seqs, motif, model, inputlen, batch_size)\n",
    "        # regions_seqs = regions_seqs[full_footprint_1[2],:,:]\n",
    "        # print(regions_seqs.shape)\n",
    "        motifs_footprint[\"control\"] = full_footprint_1[0]\n",
    "        motifs_counts[\"control\"] = full_footprint_1[1]\n",
    "    else:\n",
    "        mdl_path1 = os.path.join(r[2],\"new_model_formats_may_7_24_vf/chrombpnet_wo_bias\")\n",
    "        if not os.path.exists(mdl_path1):\n",
    "            mdl_path1 = os.path.join(r[2],\"chrombpnet_model/chrombpnet_wo_bias.h5\")\n",
    "            if not os.path.exists(mdl_path1):\n",
    "                break    \n",
    "        model=load_model(mdl_path1, compile=False)\n",
    "        full_footprint_1 = get_footprint_for_motif(regions_seqs, motif, model, inputlen, batch_size)\n",
    "        motifs_footprint[\"control\"] += full_footprint_1[0]\n",
    "        motifs_counts[\"control\"] += full_footprint_1[1]\n",
    "        \n",
    "motifs_footprint[\"control\"] = motifs_footprint[\"control\"]/5  \n",
    "motifs_counts[\"control\"] = motifs_counts[\"control\"] / 5"
   ]
  },
  {
   "cell_type": "code",
   "execution_count": 8,
   "metadata": {},
   "outputs": [
    {
     "name": "stdout",
     "output_type": "stream",
     "text": [
      "0\n",
      "WARNING:tensorflow:6 out of the last 11 calls to <function Model.make_predict_function.<locals>.predict_function at 0x7fee60655040> triggered tf.function retracing. Tracing is expensive and the excessive number of tracings could be due to (1) creating @tf.function repeatedly in a loop, (2) passing tensors with different shapes, (3) passing Python objects instead of tensors. For (1), please define your @tf.function outside of the loop. For (2), @tf.function has experimental_relax_shapes=True option that relaxes argument shapes that can avoid unnecessary retracing. For (3), please refer to https://www.tensorflow.org/guide/function#controlling_retracing and https://www.tensorflow.org/api_docs/python/tf/function for  more details.\n",
      "1/1 [==============================] - 0s 252ms/step\n",
      "1/1 [==============================] - 0s 30ms/step\n",
      "1\n"
     ]
    }
   ],
   "source": [
    "motif=\"AGGAATGT\"\n",
    "batch_size=128\n",
    "\n",
    "for i,r in ndata.iterrows():\n",
    "    print(i)\n",
    "    mdl_path1 = os.path.join(r[2],\"chrombpnet_model/new_model_formats/chrombpnet_wo_bias\")\n",
    "    if not os.path.exists(mdl_path1):\n",
    "        mdl_path1 = os.path.join(r[2],\"chrombpnet_model/chrombpnet_wo_bias.h5\")\n",
    "        if not os.path.exists(mdl_path1):\n",
    "            break       \n",
    "    model=load_model(mdl_path1, compile=False)\n",
    "    full_footprint_1 = get_footprint_for_motif(regions_seqs, motif, model, inputlen, batch_size)\n",
    "    if i==0:\n",
    "        motifs_footprint[\"TEAD\"] = full_footprint_1[0]\n",
    "        motifs_counts[\"TEAD\"] = full_footprint_1[1]\n",
    "    else:\n",
    "        motifs_footprint[\"TEAD\"] += full_footprint_1[0]\n",
    "        motifs_counts[\"TEAD\"] += full_footprint_1[1]\n",
    "\n",
    "motifs_footprint[\"TEAD\"] =  motifs_footprint[\"TEAD\"] / 5\n",
    "motifs_counts[\"TEAD\"] = motifs_counts[\"TEAD\"] / 5"
   ]
  },
  {
   "cell_type": "code",
   "execution_count": null,
   "metadata": {},
   "outputs": [],
   "source": []
  },
  {
   "cell_type": "code",
   "execution_count": 9,
   "metadata": {},
   "outputs": [
    {
     "name": "stdout",
     "output_type": "stream",
     "text": [
      "0\n",
      "1/1 [==============================] - 0s 267ms/step\n",
      "1/1 [==============================] - 0s 32ms/step\n",
      "1\n"
     ]
    }
   ],
   "source": [
    "motif = \"TTGACTCA\"\n",
    "\n",
    "batch_size=128\n",
    "\n",
    "for i,r in ndata.iterrows():\n",
    "    print(i)\n",
    "    mdl_path1 = os.path.join(r[2],\"chrombpnet_model/new_model_formats/chrombpnet_wo_bias\")\n",
    "    if not os.path.exists(mdl_path1):\n",
    "        mdl_path1 = os.path.join(r[2],\"chrombpnet_model/chrombpnet_wo_bias.h5\")\n",
    "        if not os.path.exists(mdl_path1):\n",
    "            break       \n",
    "    model=load_model(mdl_path1, compile=False)\n",
    "    full_footprint_1 = get_footprint_for_motif(regions_seqs, motif, model, inputlen, batch_size)\n",
    "    if i==0:\n",
    "        motifs_footprint[\"AP1\"] = full_footprint_1[0]\n",
    "        motifs_counts[\"AP1\"] = full_footprint_1[1]\n",
    "    else:\n",
    "        motifs_footprint[\"AP1\"] += full_footprint_1[0]\n",
    "        motifs_counts[\"AP1\"] += full_footprint_1[1]\n",
    "\n",
    "motifs_footprint[\"AP1\"] =  motifs_footprint[\"AP1\"] / 5\n",
    "motifs_counts[\"AP1\"] = motifs_counts[\"AP1\"] / 5"
   ]
  },
  {
   "cell_type": "code",
   "execution_count": 10,
   "metadata": {},
   "outputs": [
    {
     "name": "stdout",
     "output_type": "stream",
     "text": [
      "0\n",
      "AGGAATGT 1053 1061\n",
      "1/1 [==============================] - 0s 263ms/step\n",
      "1/1 [==============================] - 0s 33ms/step\n",
      "1\n",
      "0\n",
      "AGGAATGT 1053 1061\n",
      "1/1 [==============================] - 0s 254ms/step\n",
      "1/1 [==============================] - 0s 34ms/step\n",
      "1\n",
      "0\n",
      "AGGAATGT 1053 1061\n",
      "1/1 [==============================] - 0s 261ms/step\n",
      "1/1 [==============================] - 0s 31ms/step\n",
      "1\n",
      "0\n",
      "AGGAATGT 1053 1061\n",
      "1/1 [==============================] - 0s 256ms/step\n",
      "1/1 [==============================] - 0s 34ms/step\n",
      "1\n",
      "0\n",
      "AGGAATGT 1053 1061\n",
      "1/1 [==============================] - 0s 270ms/step\n",
      "1/1 [==============================] - 0s 31ms/step\n",
      "1\n",
      "0\n",
      "AGGAATGT 1053 1061\n",
      "1/1 [==============================] - 0s 253ms/step\n",
      "1/1 [==============================] - 0s 28ms/step\n",
      "1\n",
      "0\n",
      "AGGAATGT 1053 1061\n",
      "1/1 [==============================] - 0s 258ms/step\n",
      "1/1 [==============================] - 0s 34ms/step\n",
      "1\n",
      "0\n",
      "AGGAATGT 1053 1061\n",
      "1/1 [==============================] - 0s 250ms/step\n",
      "1/1 [==============================] - 0s 50ms/step\n",
      "1\n",
      "0\n",
      "AGGAATGT 1053 1061\n",
      "1/1 [==============================] - 0s 250ms/step\n",
      "1/1 [==============================] - 0s 31ms/step\n",
      "1\n",
      "0\n",
      "AGGAATGT 1053 1061\n",
      "1/1 [==============================] - 0s 262ms/step\n",
      "1/1 [==============================] - 0s 30ms/step\n",
      "1\n",
      "0\n",
      "AGGAATGT 1053 1061\n",
      "1/1 [==============================] - 0s 270ms/step\n",
      "1/1 [==============================] - 0s 35ms/step\n",
      "1\n",
      "0\n",
      "AGGAATGT 1053 1061\n",
      "1/1 [==============================] - 0s 247ms/step\n",
      "1/1 [==============================] - 0s 33ms/step\n",
      "1\n",
      "0\n",
      "AGGAATGT 1053 1061\n",
      "1/1 [==============================] - 0s 250ms/step\n",
      "1/1 [==============================] - 0s 36ms/step\n",
      "1\n",
      "0\n",
      "AGGAATGT 1053 1061\n",
      "1/1 [==============================] - 0s 245ms/step\n",
      "1/1 [==============================] - 0s 29ms/step\n",
      "1\n",
      "0\n",
      "AGGAATGT 1053 1061\n",
      "1/1 [==============================] - 0s 278ms/step\n",
      "1/1 [==============================] - 0s 30ms/step\n",
      "1\n",
      "0\n",
      "AGGAATGT 1053 1061\n",
      "1/1 [==============================] - 0s 250ms/step\n",
      "1/1 [==============================] - 0s 27ms/step\n",
      "1\n",
      "0\n",
      "AGGAATGT 1053 1061\n",
      "1/1 [==============================] - 0s 257ms/step\n",
      "1/1 [==============================] - 0s 31ms/step\n",
      "1\n",
      "0\n",
      "AGGAATGT 1053 1061\n",
      "1/1 [==============================] - 0s 263ms/step\n",
      "1/1 [==============================] - 0s 44ms/step\n",
      "1\n",
      "0\n",
      "AGGAATGT 1053 1061\n",
      "1/1 [==============================] - 0s 257ms/step\n",
      "1/1 [==============================] - 0s 31ms/step\n",
      "1\n",
      "0\n",
      "AGGAATGT 1053 1061\n",
      "1/1 [==============================] - 0s 267ms/step\n",
      "1/1 [==============================] - 0s 43ms/step\n",
      "1\n",
      "0\n",
      "AGGAATGT 1053 1061\n",
      "1/1 [==============================] - 0s 266ms/step\n",
      "1/1 [==============================] - 0s 42ms/step\n",
      "1\n",
      "0\n",
      "AGGAATGT 1053 1061\n",
      "1/1 [==============================] - 0s 266ms/step\n",
      "1/1 [==============================] - 0s 32ms/step\n",
      "1\n"
     ]
    }
   ],
   "source": [
    "motifs = [\"AGGAATGT\",\"TTGACTCA\"]\n",
    "\n",
    "data_in_spacings = []\n",
    "counts_in_spacings = []\n",
    "for spacing in [1,2,3,4,5,6,7,8,9,10,11,12,13,14,15,20,40,50,75,100,125, 150]:\n",
    "    for i,r in ndata.iterrows():\n",
    "        print(i)\n",
    "        mdl_path1 = os.path.join(r[2],\"chrombpnet_model/new_model_formats/chrombpnet_wo_bias\")\n",
    "        if not os.path.exists(mdl_path1):\n",
    "            mdl_path1 = os.path.join(r[2],\"chrombpnet_model/chrombpnet_wo_bias.h5\")\n",
    "            if not os.path.exists(mdl_path1):\n",
    "                break       \n",
    "\n",
    "        model=load_model(mdl_path1, compile=False)\n",
    "        full_footprint_1 = get_footprint_for_two_motifs(regions_seqs, motifs, model, inputlen, batch_size, spacing=-1*spacing)\n",
    "        if i==0:\n",
    "            init_spacing_1 = full_footprint_1[0]\n",
    "            init_spacing_2 = full_footprint_1[1]\n",
    "        else:\n",
    "            init_spacing_1 += full_footprint_1[0]\n",
    "            init_spacing_2 += full_footprint_1[1]\n",
    "    init_spacing_1 = init_spacing_1/5\n",
    "    init_spacing_2 = init_spacing_2/5\n",
    "    data_in_spacings.append(init_spacing_1)\n",
    "    counts_in_spacings.append(init_spacing_2)\n",
    "    del init_spacing_1"
   ]
  },
  {
   "cell_type": "code",
   "execution_count": 11,
   "metadata": {
    "scrolled": true
   },
   "outputs": [
    {
     "name": "stdout",
     "output_type": "stream",
     "text": [
      "0\n",
      "AGGAATGT 1053 1061\n",
      "1/1 [==============================] - 0s 249ms/step\n",
      "1/1 [==============================] - 0s 34ms/step\n",
      "1\n",
      "0\n",
      "AGGAATGT 1053 1061\n",
      "1/1 [==============================] - 0s 248ms/step\n",
      "1/1 [==============================] - 0s 34ms/step\n",
      "1\n",
      "0\n",
      "AGGAATGT 1053 1061\n",
      "1/1 [==============================] - 0s 247ms/step\n",
      "1/1 [==============================] - 0s 33ms/step\n",
      "1\n",
      "0\n",
      "AGGAATGT 1053 1061\n",
      "1/1 [==============================] - 0s 258ms/step\n",
      "1/1 [==============================] - 0s 31ms/step\n",
      "1\n",
      "0\n",
      "AGGAATGT 1053 1061\n",
      "1/1 [==============================] - 0s 250ms/step\n",
      "1/1 [==============================] - 0s 27ms/step\n",
      "1\n",
      "0\n",
      "AGGAATGT 1053 1061\n",
      "1/1 [==============================] - 0s 250ms/step\n",
      "1/1 [==============================] - 0s 50ms/step\n",
      "1\n",
      "0\n",
      "AGGAATGT 1053 1061\n",
      "1/1 [==============================] - 0s 269ms/step\n",
      "1/1 [==============================] - 0s 33ms/step\n",
      "1\n",
      "0\n",
      "AGGAATGT 1053 1061\n",
      "1/1 [==============================] - 0s 255ms/step\n",
      "1/1 [==============================] - 0s 28ms/step\n",
      "1\n",
      "0\n",
      "AGGAATGT 1053 1061\n",
      "1/1 [==============================] - 0s 254ms/step\n",
      "1/1 [==============================] - 0s 29ms/step\n",
      "1\n",
      "0\n",
      "AGGAATGT 1053 1061\n",
      "1/1 [==============================] - 1s 592ms/step\n",
      "1/1 [==============================] - 0s 42ms/step\n",
      "1\n",
      "0\n",
      "AGGAATGT 1053 1061\n",
      "1/1 [==============================] - 0s 261ms/step\n",
      "1/1 [==============================] - 0s 46ms/step\n",
      "1\n",
      "0\n",
      "AGGAATGT 1053 1061\n",
      "1/1 [==============================] - 0s 261ms/step\n",
      "1/1 [==============================] - 0s 38ms/step\n",
      "1\n",
      "0\n",
      "AGGAATGT 1053 1061\n",
      "1/1 [==============================] - 0s 243ms/step\n",
      "1/1 [==============================] - 0s 26ms/step\n",
      "1\n",
      "0\n",
      "AGGAATGT 1053 1061\n",
      "1/1 [==============================] - 1s 1s/step\n",
      "1/1 [==============================] - 1s 522ms/step\n",
      "1\n",
      "0\n",
      "AGGAATGT 1053 1061\n",
      "1/1 [==============================] - 0s 268ms/step\n",
      "1/1 [==============================] - 0s 32ms/step\n",
      "1\n",
      "0\n",
      "AGGAATGT 1053 1061\n",
      "1/1 [==============================] - 0s 270ms/step\n",
      "1/1 [==============================] - 0s 30ms/step\n",
      "1\n",
      "0\n",
      "AGGAATGT 1053 1061\n",
      "1/1 [==============================] - 0s 263ms/step\n",
      "1/1 [==============================] - 0s 44ms/step\n",
      "1\n",
      "0\n",
      "AGGAATGT 1053 1061\n",
      "1/1 [==============================] - 0s 265ms/step\n",
      "1/1 [==============================] - 0s 36ms/step\n",
      "1\n",
      "0\n",
      "AGGAATGT 1053 1061\n",
      "1/1 [==============================] - 0s 311ms/step\n",
      "1/1 [==============================] - 0s 68ms/step\n",
      "1\n",
      "0\n",
      "AGGAATGT 1053 1061\n",
      "1/1 [==============================] - 0s 299ms/step\n",
      "1/1 [==============================] - 0s 36ms/step\n",
      "1\n",
      "0\n",
      "AGGAATGT 1053 1061\n",
      "1/1 [==============================] - 0s 302ms/step\n",
      "1/1 [==============================] - 0s 36ms/step\n",
      "1\n",
      "0\n",
      "AGGAATGT 1053 1061\n",
      "1/1 [==============================] - 0s 283ms/step\n",
      "1/1 [==============================] - 0s 43ms/step\n",
      "1\n"
     ]
    }
   ],
   "source": [
    "motifs = [\"AGGAATGT\",\"TTGACTCA\"]\n",
    "\n",
    "data_in_spacings_rev = []\n",
    "counts_in_spacings_rev = []\n",
    "for spacing in [1,2,3,4,5,6,7,8,9,10,11,12,13,14,15,20,40,50,75,100,125, 150]:\n",
    "    for i,r in ndata.iterrows():\n",
    "        print(i)\n",
    "        mdl_path1 = os.path.join(r[2],\"chrombpnet_model/new_model_formats/chrombpnet_wo_bias\")\n",
    "        if not os.path.exists(mdl_path1):\n",
    "            mdl_path1 = os.path.join(r[2],\"chrombpnet_model/chrombpnet_wo_bias.h5\")\n",
    "            if not os.path.exists(mdl_path1):\n",
    "                break       \n",
    "        model=load_model(mdl_path1, compile=False)\n",
    "        full_footprint_1 = get_footprint_for_two_motifs(regions_seqs, motifs, model, inputlen, batch_size, spacing=spacing)\n",
    "        if i==0:\n",
    "            init_spacing_1 = full_footprint_1[0]\n",
    "            init_spacing_2 = full_footprint_1[1]\n",
    "        else:\n",
    "            init_spacing_1 += full_footprint_1[0]\n",
    "            init_spacing_2 += full_footprint_1[1]\n",
    "    init_spacing_1 = init_spacing_1/5\n",
    "    init_spacing_2 = init_spacing_2/5\n",
    "    data_in_spacings_rev.append(init_spacing_1)\n",
    "    counts_in_spacings_rev.append(init_spacing_2)\n",
    "    del init_spacing_1"
   ]
  },
  {
   "cell_type": "code",
   "execution_count": 12,
   "metadata": {},
   "outputs": [
    {
     "data": {
      "text/plain": [
       "<matplotlib.collections.PathCollection at 0x7fee623d1f40>"
      ]
     },
     "execution_count": 12,
     "metadata": {},
     "output_type": "execute_result"
    },
    {
     "data": {
      "image/png": "[encoded data removed]",
      "text/plain": [
       "<Figure size 640x480 with 1 Axes>"
      ]
     },
     "metadata": {},
     "output_type": "display_data"
    }
   ],
   "source": [
    "all_counts = counts_in_spacings\n",
    "all_counts_rev = counts_in_spacings_rev\n",
    "\n",
    "\n",
    "plt.scatter([1,2,3,4,5,6,7,8,9,10,11,12,13,14,15,20,40,50,75,100,125, 150]+[-1,-2,-3,-4,-5,-6,-7,-8,-9,-10,-11,-12,-13,-14,-15,-20,-40, -50, -75, -100, -125, -150],all_counts_rev+all_counts)\n"
   ]
  },
  {
   "cell_type": "code",
   "execution_count": 13,
   "metadata": {},
   "outputs": [
    {
     "data": {
      "image/png": "[encoded data removed]",
      "text/plain": [
       "<Figure size 800x500 with 1 Axes>"
      ]
     },
     "metadata": {},
     "output_type": "display_data"
    }
   ],
   "source": [
    "\n",
    "from scipy.interpolate import make_interp_spline\n",
    "import matplotlib.pyplot as plt\n",
    "\n",
    "fig, ax = plt.subplots(figsize=(8,5))\n",
    "ax.scatter([1,2,3,4,5,6,7,8,9,10,11,12,13,14,15,20,40,50,75,100,125, 150]+[-1,-2,-3,-4,-5,-6,-7,-8,-9,-10,-11,-12,-13,-14,-15,-20,-40, -50, -75, -100, -125, -150],all_counts_rev[0:]+all_counts[0:], linewidths=0.5, edgecolors=None,s=5, c=\"#00008B\")\n",
    "ax.plot([1,2,3,4,5,6,7,8,9,10,11,12,13,14,15,20,40,50,75,100,125, 150]+[-1,-2,-3,-4,-5,-6,-7,-8,-9,-10,-11,-12,-13,-14,-15,-20,-40, -50, -75, -100, -125, -150],all_counts_rev[0:]+all_counts[0:], alpha=0.5 , c=\"#00008B\")\n",
    "\n",
    "# Dataset\n",
    "# x = np.array([1,2,3,4,5,6,7,8,9,10,11,12,13,14,15,20,40,50,75,100,125, 150]+[-1,-2,-3,-4,-5,-6,-7,-8,-9,-10,-11,-12,-13,-14,-15,-20,-40, -50, -75, -100, -125, -150])\n",
    "# y = np.array(all_counts[::-1]+all_counts_rev)\n",
    "\n",
    "#X_Y_Spline = make_interp_spline(x, y)\n",
    " \n",
    "# Returns evenly spaced numbers\n",
    "# over a specified interval.\n",
    "# X_ = np.linspace(x.min(), x.max(), 500)\n",
    "#Y_ = X_Y_Spline(X_)\n",
    "\n",
    "ax.axvline(-6, color=\"orange\", linestyle=\"-\", c=\"red\")  #vertical line\n",
    "#plt.plot(X_,Y_)\n",
    "ax.set_ylabel(\"counts\")\n",
    "ax.set_xlabel(\"FOS spacing from TEAD\")\n",
    "ax.spines[['right', 'top']].set_visible(False)\n",
    "\n",
    "plt.savefig(\"subfigs/ap1_tead_syntax_dnase_new.pdf\", transparent=True, dpi=300)\n",
    "\n"
   ]
  },
  {
   "cell_type": "code",
   "execution_count": 14,
   "metadata": {},
   "outputs": [
    {
     "data": {
      "text/plain": [
       "27"
      ]
     },
     "execution_count": 14,
     "metadata": {},
     "output_type": "execute_result"
    }
   ],
   "source": [
    "np.argmax(all_counts_rev[0:]+all_counts[0:])\n"
   ]
  },
  {
   "cell_type": "code",
   "execution_count": 15,
   "metadata": {},
   "outputs": [
    {
     "data": {
      "text/plain": [
       "40"
      ]
     },
     "execution_count": 15,
     "metadata": {},
     "output_type": "execute_result"
    }
   ],
   "source": [
    "[1,2,3,4,5,6,7,8,9,10,11,12,13,14,15,20,40,50,75,100,125, 150][16]"
   ]
  },
  {
   "cell_type": "code",
   "execution_count": 16,
   "metadata": {},
   "outputs": [
    {
     "data": {
      "text/plain": [
       "-6"
      ]
     },
     "execution_count": 16,
     "metadata": {},
     "output_type": "execute_result"
    }
   ],
   "source": [
    "y=[1,2,3,4,5,6,7,8,9,10,11,12,13,14,15,20,40,50,75,100,125, 150]+[-1,-2,-3,-4,-5,-6,-7,-8,-9,-10,-11,-12,-13,-14,-15,-20,-40, -50, -75, -100, -125, -150]\n",
    "y[27]\n",
    "\n",
    "\n"
   ]
  },
  {
   "cell_type": "code",
   "execution_count": null,
   "metadata": {},
   "outputs": [],
   "source": [
    "\n",
    "\n",
    "\n"
   ]
  }
 ],
 "metadata": {
  "kernelspec": {
   "display_name": "Python 3",
   "language": "python",
   "name": "python3"
  },
  "language_info": {
   "codemirror_mode": {
    "name": "ipython",
    "version": 3
   },
   "file_extension": ".py",
   "mimetype": "text/x-python",
   "name": "python",
   "nbconvert_exporter": "python",
   "pygments_lexer": "ipython3",
   "version": "3.7.6"
  }
 },
 "nbformat": 4,
 "nbformat_minor": 4
}
