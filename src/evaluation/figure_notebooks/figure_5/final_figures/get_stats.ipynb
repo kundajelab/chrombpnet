{
 "cells": [
  {
   "cell_type": "code",
   "execution_count": 38,
   "metadata": {},
   "outputs": [],
   "source": [
    "import pandas as pd\n"
   ]
  },
  {
   "cell_type": "code",
   "execution_count": 87,
   "metadata": {},
   "outputs": [],
   "source": [
    "min_seqlets=100"
   ]
  },
  {
   "cell_type": "code",
   "execution_count": 88,
   "metadata": {},
   "outputs": [
    {
     "name": "stdout",
     "output_type": "stream",
     "text": [
      "ATAC\n",
      "GM12878 87.09677419354838 27 0 4 31\n",
      "HEPG2 70.27027027027027 26 1 10 37\n",
      "IMR90 90.625 29 0 3 32\n",
      "H1ESC 81.25 26 4 2 32\n",
      "K562 60.0 21 1 13 35\n",
      "\n",
      "\n",
      "DNASE\n",
      "GM12878 70.96774193548387 22 0 9 31\n",
      "HEPG2 86.84210526315789 33 1 4 38\n",
      "IMR90 90.3225806451613 28 0 3 31\n",
      "H1ESC 83.33333333333333 20 1 3 24\n",
      "K562 68.75 22 0 10 32\n"
     ]
    }
   ],
   "source": [
    "#for celltype in [\"GM12878\", \"HEPG2\", \"IMR90\", \"H1ESC\", \"K562\"]:\n",
    "print(\"ATAC\")\n",
    "for celltype in [\"GM12878\", \"HEPG2\", \"IMR90\", \"H1ESC\", \"K562\"]:\n",
    "\n",
    "    ifile=\"/oak/stanford/groups/akundaje/anusri/motif-unify/counts_versus_profile/ATAC/\"+celltype+\"/output/cluster_key.txt\"\n",
    "    #print(ifile)\n",
    "    data = pd.read_csv(ifile, sep='\\t', header=None)\n",
    "    \n",
    "    tcount=0\n",
    "    tcommon=0\n",
    "    tprofile=0\n",
    "    tcounts=0\n",
    "    for i,r in data.iterrows():\n",
    "        if ((\"counts\" in r[1]) and (\"profile\" in r[1])):\n",
    "            tcount+=1\n",
    "            tcommon+=1\n",
    "        else:\n",
    "            #print(r[1])\n",
    "            #print(tcount)\n",
    "            for val in r[1].split(\",\"):\n",
    "                if int(val.split(\"_\")[-1]) > min_seqlets:\n",
    "                    tcount+=1\n",
    "                    if (\"counts\" in r[1]):\n",
    "                        tcounts+=1\n",
    "\n",
    "                    if (\"profile\" in r[1]):\n",
    "                        tprofile+=1\n",
    "                    \n",
    "                    break\n",
    "            #print(tcount)\n",
    "                \n",
    "    print(celltype,tcommon*100/tcount, tcommon, tcounts, tprofile, tcount)\n",
    "    \n",
    "#for celltype in [\"GM12878\", \"HEPG2\", \"IMR90\", \"H1ESC\", \"K562\"]:\n",
    "print(\"\\n\")\n",
    "print(\"DNASE\")\n",
    "\n",
    "for celltype in [\"GM12878\", \"HEPG2\", \"IMR90\", \"H1ESC\", \"K562\"]:\n",
    "\n",
    "    ifile=\"/oak/stanford/groups/akundaje/anusri/motif-unify/counts_versus_profile/DNASE/\"+celltype+\"/output/cluster_key.txt\"\n",
    "    #print(ifile)\n",
    "    data = pd.read_csv(ifile, sep='\\t', header=None)\n",
    "    \n",
    "    tcount=0\n",
    "    tcommon=0\n",
    "    tprofile=0\n",
    "    tcounts=0\n",
    "    for i,r in data.iterrows():\n",
    "        if ((\"counts\" in r[1]) and (\"profile\" in r[1])):\n",
    "            tcount+=1\n",
    "            tcommon+=1\n",
    "            \n",
    "        else:\n",
    "\n",
    "            #print(r[1])\n",
    "            #print(tcount)\n",
    "            for val in r[1].split(\",\"):\n",
    "                if int(val.split(\"_\")[-1]) > min_seqlets:\n",
    "                    tcount+=1\n",
    "                    if (\"counts\" in r[1]):\n",
    "                        tcounts+=1\n",
    "\n",
    "                    if (\"profile\" in r[1]):\n",
    "                        tprofile+=1\n",
    "                    break\n",
    "            #print(tcount)\n",
    "                \n",
    "    print(celltype,tcommon*100/tcount, tcommon, tcounts, tprofile, tcount)\n",
    "    \n",
    "\n",
    "                    "
   ]
  },
  {
   "cell_type": "code",
   "execution_count": 97,
   "metadata": {},
   "outputs": [
    {
     "name": "stdout",
     "output_type": "stream",
     "text": [
      "(51, 2)\n",
      "GM12878 66.66666666666667 34 51 9 8\n",
      "(60, 2)\n",
      "HEPG2 60.0 36 60 9 15\n",
      "(47, 2)\n",
      "IMR90 59.57446808510638 28 47 11 8\n",
      "(41, 2)\n",
      "H1ESC 53.65853658536585 22 41 13 6\n",
      "(47, 2)\n",
      "K562 61.702127659574465 29 47 14 4\n"
     ]
    }
   ],
   "source": [
    "#for celltype in [\"GM12878\", \"HEPG2\", \"IMR90\", \"H1ESC\", \"K562\"]:\n",
    "for celltype in [\"GM12878\", \"HEPG2\", \"IMR90\", \"H1ESC\", \"K562\"]:\n",
    "\n",
    "    ifile=\"/oak/stanford/groups/akundaje/anusri/motif-unify/atac_versus_dnase_new_filt/\"+celltype+\"/output_0.99/cluster_key.txt\"\n",
    "    #print(ifile)\n",
    "    data = pd.read_csv(ifile, sep='\\t', header=None)\n",
    "    print(data.shape)\n",
    "    tcount=0\n",
    "    tcommon=0\n",
    "    tatac=0\n",
    "    tdnase=0\n",
    "    for i,r in data.iterrows():\n",
    "        if ((\"ATAC\" in r[1]) and (\"DNASE\" in r[1])):\n",
    "            tcount+=1\n",
    "            tcommon+=1\n",
    "        else:\n",
    "            #print(r[1])\n",
    "            #print(tcount)\n",
    "            for val in r[1].split(\",\"):\n",
    "                if int(val.split(\"_\")[-1]) > min_seqlets:\n",
    "                    tcount+=1\n",
    "\n",
    "\n",
    "                    if (\"ATAC\" in r[1]):\n",
    "                        tatac+=1\n",
    "\n",
    "                    if (\"DNASE\" in r[1]):\n",
    "                        tdnase+=1\n",
    "                        \n",
    "                    break\n",
    "            #print(tcount)\n",
    "                \n",
    "    print(celltype,tcommon*100/tcount, tcommon, tcount, tatac, tdnase)\n"
   ]
  },
  {
   "cell_type": "code",
   "execution_count": null,
   "metadata": {},
   "outputs": [],
   "source": []
  },
  {
   "cell_type": "code",
   "execution_count": 86,
   "metadata": {},
   "outputs": [],
   "source": [
    "#(89-97)%\n",
    "#20-33\n",
    "#21-32"
   ]
  },
  {
   "cell_type": "code",
   "execution_count": 81,
   "metadata": {},
   "outputs": [
    {
     "data": {
      "text/plain": [
       "-16"
      ]
     },
     "execution_count": 81,
     "metadata": {},
     "output_type": "execute_result"
    }
   ],
   "source": [
    "(80-97)\n",
    "(81-97)"
   ]
  },
  {
   "cell_type": "code",
   "execution_count": 82,
   "metadata": {},
   "outputs": [],
   "source": [
    "# 0.999 more individual clusters\n",
    "# 0.99 more clustering (less number of clusters)\n",
    "# 0.95 more more clustering (less number of clusters)"
   ]
  },
  {
   "cell_type": "code",
   "execution_count": null,
   "metadata": {},
   "outputs": [],
   "source": []
  },
  {
   "cell_type": "code",
   "execution_count": null,
   "metadata": {},
   "outputs": [],
   "source": []
  }
 ],
 "metadata": {
  "kernelspec": {
   "display_name": "Python 3",
   "language": "python",
   "name": "python3"
  },
  "language_info": {
   "codemirror_mode": {
    "name": "ipython",
    "version": 3
   },
   "file_extension": ".py",
   "mimetype": "text/x-python",
   "name": "python",
   "nbconvert_exporter": "python",
   "pygments_lexer": "ipython3",
   "version": "3.7.6"
  }
 },
 "nbformat": 4,
 "nbformat_minor": 4
}
